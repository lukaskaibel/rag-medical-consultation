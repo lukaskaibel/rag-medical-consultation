{
 "cells": [
  {
   "cell_type": "code",
   "execution_count": null,
   "id": "498a39ae",
   "metadata": {},
   "outputs": [],
   "source": [
    "# Ensure repo and src/ are importable and .env is loaded\n",
    "import notebooks._bootstrap_src_path  # noqa: F401\n"
   ]
  },
  {
   "cell_type": "markdown",
   "id": "020fd3ce",
   "metadata": {},
   "source": [
    "# Document Preprocessing"
   ]
  },
  {
   "cell_type": "code",
   "execution_count": null,
   "id": "deb62504",
   "metadata": {},
   "outputs": [
    {
     "name": "stdout",
     "output_type": "stream",
     "text": [
      "Requirement already satisfied: haystack-ai in ./.venv/lib/python3.11/site-packages (2.13.2)\n",
      "Requirement already satisfied: haystack-experimental in ./.venv/lib/python3.11/site-packages (from haystack-ai) (0.10.0)\n",
      "Requirement already satisfied: jinja2 in ./.venv/lib/python3.11/site-packages (from haystack-ai) (3.1.6)\n",
      "Requirement already satisfied: jsonschema in ./.venv/lib/python3.11/site-packages (from haystack-ai) (4.23.0)\n",
      "Requirement already satisfied: lazy-imports in ./.venv/lib/python3.11/site-packages (from haystack-ai) (0.4.0)\n",
      "Requirement already satisfied: more-itertools in ./.venv/lib/python3.11/site-packages (from haystack-ai) (10.7.0)\n",
      "Requirement already satisfied: networkx in ./.venv/lib/python3.11/site-packages (from haystack-ai) (3.4.2)\n",
      "Requirement already satisfied: numpy in ./.venv/lib/python3.11/site-packages (from haystack-ai) (2.2.6)\n",
      "Requirement already satisfied: openai>=1.56.1 in ./.venv/lib/python3.11/site-packages (from haystack-ai) (1.79.0)\n",
      "Requirement already satisfied: posthog!=3.12.0 in ./.venv/lib/python3.11/site-packages (from haystack-ai) (4.0.1)\n",
      "Requirement already satisfied: pydantic in ./.venv/lib/python3.11/site-packages (from haystack-ai) (2.11.4)\n",
      "Requirement already satisfied: python-dateutil in ./.venv/lib/python3.11/site-packages (from haystack-ai) (2.9.0.post0)\n",
      "Requirement already satisfied: pyyaml in ./.venv/lib/python3.11/site-packages (from haystack-ai) (6.0.2)\n",
      "Requirement already satisfied: requests in ./.venv/lib/python3.11/site-packages (from haystack-ai) (2.32.3)\n",
      "Requirement already satisfied: tenacity!=8.4.0 in ./.venv/lib/python3.11/site-packages (from haystack-ai) (9.1.2)\n",
      "Requirement already satisfied: tqdm in ./.venv/lib/python3.11/site-packages (from haystack-ai) (4.67.1)\n",
      "Requirement already satisfied: typing-extensions>=4.7 in ./.venv/lib/python3.11/site-packages (from haystack-ai) (4.13.2)\n",
      "Requirement already satisfied: anyio<5,>=3.5.0 in ./.venv/lib/python3.11/site-packages (from openai>=1.56.1->haystack-ai) (4.9.0)\n",
      "Requirement already satisfied: distro<2,>=1.7.0 in ./.venv/lib/python3.11/site-packages (from openai>=1.56.1->haystack-ai) (1.9.0)\n",
      "Requirement already satisfied: httpx<1,>=0.23.0 in ./.venv/lib/python3.11/site-packages (from openai>=1.56.1->haystack-ai) (0.28.1)\n",
      "Requirement already satisfied: jiter<1,>=0.4.0 in ./.venv/lib/python3.11/site-packages (from openai>=1.56.1->haystack-ai) (0.10.0)\n",
      "Requirement already satisfied: sniffio in ./.venv/lib/python3.11/site-packages (from openai>=1.56.1->haystack-ai) (1.3.1)\n",
      "Requirement already satisfied: idna>=2.8 in ./.venv/lib/python3.11/site-packages (from anyio<5,>=3.5.0->openai>=1.56.1->haystack-ai) (3.10)\n",
      "Requirement already satisfied: certifi in ./.venv/lib/python3.11/site-packages (from httpx<1,>=0.23.0->openai>=1.56.1->haystack-ai) (2025.4.26)\n",
      "Requirement already satisfied: httpcore==1.* in ./.venv/lib/python3.11/site-packages (from httpx<1,>=0.23.0->openai>=1.56.1->haystack-ai) (1.0.9)\n",
      "Requirement already satisfied: h11>=0.16 in ./.venv/lib/python3.11/site-packages (from httpcore==1.*->httpx<1,>=0.23.0->openai>=1.56.1->haystack-ai) (0.16.0)\n",
      "Requirement already satisfied: annotated-types>=0.6.0 in ./.venv/lib/python3.11/site-packages (from pydantic->haystack-ai) (0.7.0)\n",
      "Requirement already satisfied: pydantic-core==2.33.2 in ./.venv/lib/python3.11/site-packages (from pydantic->haystack-ai) (2.33.2)\n",
      "Requirement already satisfied: typing-inspection>=0.4.0 in ./.venv/lib/python3.11/site-packages (from pydantic->haystack-ai) (0.4.0)\n",
      "Requirement already satisfied: six>=1.5 in ./.venv/lib/python3.11/site-packages (from posthog!=3.12.0->haystack-ai) (1.17.0)\n",
      "Requirement already satisfied: backoff>=1.10.0 in ./.venv/lib/python3.11/site-packages (from posthog!=3.12.0->haystack-ai) (2.2.1)\n",
      "Requirement already satisfied: charset-normalizer<4,>=2 in ./.venv/lib/python3.11/site-packages (from requests->haystack-ai) (3.4.2)\n",
      "Requirement already satisfied: urllib3<3,>=1.21.1 in ./.venv/lib/python3.11/site-packages (from requests->haystack-ai) (2.4.0)\n",
      "Requirement already satisfied: filetype in ./.venv/lib/python3.11/site-packages (from haystack-experimental->haystack-ai) (1.2.0)\n",
      "Requirement already satisfied: MarkupSafe>=2.0 in ./.venv/lib/python3.11/site-packages (from jinja2->haystack-ai) (3.0.2)\n",
      "Requirement already satisfied: attrs>=22.2.0 in ./.venv/lib/python3.11/site-packages (from jsonschema->haystack-ai) (25.3.0)\n",
      "Requirement already satisfied: jsonschema-specifications>=2023.03.6 in ./.venv/lib/python3.11/site-packages (from jsonschema->haystack-ai) (2025.4.1)\n",
      "Requirement already satisfied: referencing>=0.28.4 in ./.venv/lib/python3.11/site-packages (from jsonschema->haystack-ai) (0.36.2)\n",
      "Requirement already satisfied: rpds-py>=0.7.1 in ./.venv/lib/python3.11/site-packages (from jsonschema->haystack-ai) (0.25.1)\n",
      "Note: you may need to restart the kernel to use updated packages.\n",
      "Requirement already satisfied: nltk in ./.venv/lib/python3.11/site-packages (3.9.1)\n",
      "Requirement already satisfied: click in ./.venv/lib/python3.11/site-packages (from nltk) (8.2.1)\n",
      "Requirement already satisfied: joblib in ./.venv/lib/python3.11/site-packages (from nltk) (1.5.0)\n",
      "Requirement already satisfied: regex>=2021.8.3 in ./.venv/lib/python3.11/site-packages (from nltk) (2024.11.6)\n",
      "Requirement already satisfied: tqdm in ./.venv/lib/python3.11/site-packages (from nltk) (4.67.1)\n",
      "Note: you may need to restart the kernel to use updated packages.\n",
      "Requirement already satisfied: markdown-it-py in ./.venv/lib/python3.11/site-packages (3.0.0)\n",
      "Requirement already satisfied: mdurl~=0.1 in ./.venv/lib/python3.11/site-packages (from markdown-it-py) (0.1.2)\n",
      "Note: you may need to restart the kernel to use updated packages.\n",
      "Requirement already satisfied: mdit_plain in ./.venv/lib/python3.11/site-packages (1.0.1)\n",
      "Note: you may need to restart the kernel to use updated packages.\n",
      "Requirement already satisfied: openai in ./.venv/lib/python3.11/site-packages (1.79.0)\n",
      "Requirement already satisfied: anyio<5,>=3.5.0 in ./.venv/lib/python3.11/site-packages (from openai) (4.9.0)\n",
      "Requirement already satisfied: distro<2,>=1.7.0 in ./.venv/lib/python3.11/site-packages (from openai) (1.9.0)\n",
      "Requirement already satisfied: httpx<1,>=0.23.0 in ./.venv/lib/python3.11/site-packages (from openai) (0.28.1)\n",
      "Requirement already satisfied: jiter<1,>=0.4.0 in ./.venv/lib/python3.11/site-packages (from openai) (0.10.0)\n",
      "Requirement already satisfied: pydantic<3,>=1.9.0 in ./.venv/lib/python3.11/site-packages (from openai) (2.11.4)\n",
      "Requirement already satisfied: sniffio in ./.venv/lib/python3.11/site-packages (from openai) (1.3.1)\n",
      "Requirement already satisfied: tqdm>4 in ./.venv/lib/python3.11/site-packages (from openai) (4.67.1)\n",
      "Requirement already satisfied: typing-extensions<5,>=4.11 in ./.venv/lib/python3.11/site-packages (from openai) (4.13.2)\n",
      "Requirement already satisfied: idna>=2.8 in ./.venv/lib/python3.11/site-packages (from anyio<5,>=3.5.0->openai) (3.10)\n",
      "Requirement already satisfied: certifi in ./.venv/lib/python3.11/site-packages (from httpx<1,>=0.23.0->openai) (2025.4.26)\n",
      "Requirement already satisfied: httpcore==1.* in ./.venv/lib/python3.11/site-packages (from httpx<1,>=0.23.0->openai) (1.0.9)\n",
      "Requirement already satisfied: h11>=0.16 in ./.venv/lib/python3.11/site-packages (from httpcore==1.*->httpx<1,>=0.23.0->openai) (0.16.0)\n",
      "Requirement already satisfied: annotated-types>=0.6.0 in ./.venv/lib/python3.11/site-packages (from pydantic<3,>=1.9.0->openai) (0.7.0)\n",
      "Requirement already satisfied: pydantic-core==2.33.2 in ./.venv/lib/python3.11/site-packages (from pydantic<3,>=1.9.0->openai) (2.33.2)\n",
      "Requirement already satisfied: typing-inspection>=0.4.0 in ./.venv/lib/python3.11/site-packages (from pydantic<3,>=1.9.0->openai) (0.4.0)\n",
      "Note: you may need to restart the kernel to use updated packages.\n",
      "Requirement already satisfied: pandas in ./.venv/lib/python3.11/site-packages (2.2.3)\n",
      "Requirement already satisfied: numpy>=1.23.2 in ./.venv/lib/python3.11/site-packages (from pandas) (2.2.6)\n",
      "Requirement already satisfied: python-dateutil>=2.8.2 in ./.venv/lib/python3.11/site-packages (from pandas) (2.9.0.post0)\n",
      "Requirement already satisfied: pytz>=2020.1 in ./.venv/lib/python3.11/site-packages (from pandas) (2025.2)\n",
      "Requirement already satisfied: tzdata>=2022.7 in ./.venv/lib/python3.11/site-packages (from pandas) (2025.2)\n",
      "Requirement already satisfied: six>=1.5 in ./.venv/lib/python3.11/site-packages (from python-dateutil>=2.8.2->pandas) (1.17.0)\n",
      "Note: you may need to restart the kernel to use updated packages.\n",
      "Requirement already satisfied: hf_xet in ./.venv/lib/python3.11/site-packages (1.1.2)\n",
      "Note: you may need to restart the kernel to use updated packages.\n",
      "Requirement already satisfied: ollama-haystack==2.4.2 in ./.venv/lib/python3.11/site-packages (2.4.2)\n",
      "Requirement already satisfied: haystack-ai in ./.venv/lib/python3.11/site-packages (from ollama-haystack==2.4.2) (2.13.2)\n",
      "Requirement already satisfied: ollama>=0.4.0 in ./.venv/lib/python3.11/site-packages (from ollama-haystack==2.4.2) (0.4.8)\n",
      "Requirement already satisfied: pydantic in ./.venv/lib/python3.11/site-packages (from ollama-haystack==2.4.2) (2.11.4)\n",
      "Requirement already satisfied: httpx<0.29,>=0.27 in ./.venv/lib/python3.11/site-packages (from ollama>=0.4.0->ollama-haystack==2.4.2) (0.28.1)\n",
      "Requirement already satisfied: anyio in ./.venv/lib/python3.11/site-packages (from httpx<0.29,>=0.27->ollama>=0.4.0->ollama-haystack==2.4.2) (4.9.0)\n",
      "Requirement already satisfied: certifi in ./.venv/lib/python3.11/site-packages (from httpx<0.29,>=0.27->ollama>=0.4.0->ollama-haystack==2.4.2) (2025.4.26)\n",
      "Requirement already satisfied: httpcore==1.* in ./.venv/lib/python3.11/site-packages (from httpx<0.29,>=0.27->ollama>=0.4.0->ollama-haystack==2.4.2) (1.0.9)\n",
      "Requirement already satisfied: idna in ./.venv/lib/python3.11/site-packages (from httpx<0.29,>=0.27->ollama>=0.4.0->ollama-haystack==2.4.2) (3.10)\n",
      "Requirement already satisfied: h11>=0.16 in ./.venv/lib/python3.11/site-packages (from httpcore==1.*->httpx<0.29,>=0.27->ollama>=0.4.0->ollama-haystack==2.4.2) (0.16.0)\n",
      "Requirement already satisfied: annotated-types>=0.6.0 in ./.venv/lib/python3.11/site-packages (from pydantic->ollama-haystack==2.4.2) (0.7.0)\n",
      "Requirement already satisfied: pydantic-core==2.33.2 in ./.venv/lib/python3.11/site-packages (from pydantic->ollama-haystack==2.4.2) (2.33.2)\n",
      "Requirement already satisfied: typing-extensions>=4.12.2 in ./.venv/lib/python3.11/site-packages (from pydantic->ollama-haystack==2.4.2) (4.13.2)\n",
      "Requirement already satisfied: typing-inspection>=0.4.0 in ./.venv/lib/python3.11/site-packages (from pydantic->ollama-haystack==2.4.2) (0.4.0)\n",
      "Requirement already satisfied: sniffio>=1.1 in ./.venv/lib/python3.11/site-packages (from anyio->httpx<0.29,>=0.27->ollama>=0.4.0->ollama-haystack==2.4.2) (1.3.1)\n",
      "Requirement already satisfied: haystack-experimental in ./.venv/lib/python3.11/site-packages (from haystack-ai->ollama-haystack==2.4.2) (0.10.0)\n",
      "Requirement already satisfied: jinja2 in ./.venv/lib/python3.11/site-packages (from haystack-ai->ollama-haystack==2.4.2) (3.1.6)\n",
      "Requirement already satisfied: jsonschema in ./.venv/lib/python3.11/site-packages (from haystack-ai->ollama-haystack==2.4.2) (4.23.0)\n",
      "Requirement already satisfied: lazy-imports in ./.venv/lib/python3.11/site-packages (from haystack-ai->ollama-haystack==2.4.2) (0.4.0)\n",
      "Requirement already satisfied: more-itertools in ./.venv/lib/python3.11/site-packages (from haystack-ai->ollama-haystack==2.4.2) (10.7.0)\n",
      "Requirement already satisfied: networkx in ./.venv/lib/python3.11/site-packages (from haystack-ai->ollama-haystack==2.4.2) (3.4.2)\n",
      "Requirement already satisfied: numpy in ./.venv/lib/python3.11/site-packages (from haystack-ai->ollama-haystack==2.4.2) (2.2.6)\n",
      "Requirement already satisfied: openai>=1.56.1 in ./.venv/lib/python3.11/site-packages (from haystack-ai->ollama-haystack==2.4.2) (1.79.0)\n",
      "Requirement already satisfied: posthog!=3.12.0 in ./.venv/lib/python3.11/site-packages (from haystack-ai->ollama-haystack==2.4.2) (4.0.1)\n",
      "Requirement already satisfied: python-dateutil in ./.venv/lib/python3.11/site-packages (from haystack-ai->ollama-haystack==2.4.2) (2.9.0.post0)\n",
      "Requirement already satisfied: pyyaml in ./.venv/lib/python3.11/site-packages (from haystack-ai->ollama-haystack==2.4.2) (6.0.2)\n",
      "Requirement already satisfied: requests in ./.venv/lib/python3.11/site-packages (from haystack-ai->ollama-haystack==2.4.2) (2.32.3)\n",
      "Requirement already satisfied: tenacity!=8.4.0 in ./.venv/lib/python3.11/site-packages (from haystack-ai->ollama-haystack==2.4.2) (9.1.2)\n",
      "Requirement already satisfied: tqdm in ./.venv/lib/python3.11/site-packages (from haystack-ai->ollama-haystack==2.4.2) (4.67.1)\n",
      "Requirement already satisfied: distro<2,>=1.7.0 in ./.venv/lib/python3.11/site-packages (from openai>=1.56.1->haystack-ai->ollama-haystack==2.4.2) (1.9.0)\n",
      "Requirement already satisfied: jiter<1,>=0.4.0 in ./.venv/lib/python3.11/site-packages (from openai>=1.56.1->haystack-ai->ollama-haystack==2.4.2) (0.10.0)\n",
      "Requirement already satisfied: six>=1.5 in ./.venv/lib/python3.11/site-packages (from posthog!=3.12.0->haystack-ai->ollama-haystack==2.4.2) (1.17.0)\n",
      "Requirement already satisfied: backoff>=1.10.0 in ./.venv/lib/python3.11/site-packages (from posthog!=3.12.0->haystack-ai->ollama-haystack==2.4.2) (2.2.1)\n",
      "Requirement already satisfied: charset-normalizer<4,>=2 in ./.venv/lib/python3.11/site-packages (from requests->haystack-ai->ollama-haystack==2.4.2) (3.4.2)\n",
      "Requirement already satisfied: urllib3<3,>=1.21.1 in ./.venv/lib/python3.11/site-packages (from requests->haystack-ai->ollama-haystack==2.4.2) (2.4.0)\n",
      "Requirement already satisfied: filetype in ./.venv/lib/python3.11/site-packages (from haystack-experimental->haystack-ai->ollama-haystack==2.4.2) (1.2.0)\n",
      "Requirement already satisfied: MarkupSafe>=2.0 in ./.venv/lib/python3.11/site-packages (from jinja2->haystack-ai->ollama-haystack==2.4.2) (3.0.2)\n",
      "Requirement already satisfied: attrs>=22.2.0 in ./.venv/lib/python3.11/site-packages (from jsonschema->haystack-ai->ollama-haystack==2.4.2) (25.3.0)\n",
      "Requirement already satisfied: jsonschema-specifications>=2023.03.6 in ./.venv/lib/python3.11/site-packages (from jsonschema->haystack-ai->ollama-haystack==2.4.2) (2025.4.1)\n",
      "Requirement already satisfied: referencing>=0.28.4 in ./.venv/lib/python3.11/site-packages (from jsonschema->haystack-ai->ollama-haystack==2.4.2) (0.36.2)\n",
      "Requirement already satisfied: rpds-py>=0.7.1 in ./.venv/lib/python3.11/site-packages (from jsonschema->haystack-ai->ollama-haystack==2.4.2) (0.25.1)\n",
      "Note: you may need to restart the kernel to use updated packages.\n"
     ]
    }
   ],
   "source": [
    "# Dependencies are managed via the repository's virtual environment.\n",
    "# Install once from the project root using `requirements.txt`.\n",
    "# This notebook does not run `%pip install` commands."
   ]
  },
  {
   "cell_type": "code",
   "execution_count": 3,
   "id": "7ef9a21e",
   "metadata": {},
   "outputs": [],
   "source": [
    "from pipelines.preprocessing_pipelines.markdown_pipeline import pipeline as markdown_pipeline\n",
    "from pipelines.preprocessing_pipelines.preprocessing_pipeline import pipeline as preprocessing_pipeline\n",
    "from haystack.dataclasses import ByteStream\n",
    "from utils.markdown_utils import for_each_markdown_file\n",
    "from tqdm import tqdm\n",
    "import pandas as pd\n",
    "import uuid\n",
    "\n",
    "tqdm.pandas()"
   ]
  },
  {
   "cell_type": "code",
   "execution_count": 5,
   "id": "d985b34e",
   "metadata": {},
   "outputs": [],
   "source": [
    "splitting_configs = [\n",
    "    {\n",
    "        \"split_by\": \"word\",\n",
    "        \"split_length\": 50,\n",
    "        \"split_overlap\": 10 # 20%\n",
    "    },\n",
    "    {\n",
    "        \"split_by\": \"word\",\n",
    "        \"split_length\": 100,\n",
    "        \"split_overlap\": 20 # 20%\n",
    "    },\n",
    "    {\n",
    "        \"split_by\": \"word\",\n",
    "        \"split_length\": 400,\n",
    "        \"split_overlap\": 80 # 20%\n",
    "    },\n",
    "    {\n",
    "        \"split_by\": \"word\",\n",
    "        \"split_length\": 800,\n",
    "        \"split_overlap\": 160 # 20%\n",
    "    },\n",
    "    {\n",
    "        \"split_by\": \"line\",\n",
    "        \"split_length\": 1,\n",
    "        \"split_overlap\": 0\n",
    "    },\n",
    "    {\n",
    "        \"split_by\": \"passage\",\n",
    "        \"split_length\": 1,\n",
    "        \"split_overlap\": 0\n",
    "    },\n",
    "    {\n",
    "        \"split_by\": \"word\",\n",
    "        \"split_length\": 31,\n",
    "        \"split_overlap\": 6,\n",
    "    },\n",
    "    {\n",
    "        \"split_by\": \"word\",\n",
    "        \"split_length\": 41,\n",
    "        \"split_overlap\": 8,\n",
    "    }\n",
    "]"
   ]
  },
  {
   "cell_type": "code",
   "execution_count": 6,
   "id": "8baee8e0",
   "metadata": {},
   "outputs": [
    {
     "name": "stderr",
     "output_type": "stream",
     "text": [
      "Converting markdown files to Documents: 100%|██████████| 1/1 [00:00<00:00, 183.03it/s]\n",
      "Converting markdown files to Documents: 100%|██████████| 1/1 [00:00<00:00, 183.03it/s]\n"
     ]
    },
    {
     "name": "stdout",
     "output_type": "stream",
     "text": [
      "[Document(id=451b96bc-ce46-4857-bc8c-ac343c0f3300, content: 'Ein Kaiserschnitt kann aus unterschiedlichen Gründen und mit variierender Dringlichkeit notwendig we...', meta: {'title': 'Kaiserschnitt.md'})]\n"
     ]
    },
    {
     "name": "stderr",
     "output_type": "stream",
     "text": [
      "Converting markdown files to Documents: 100%|██████████| 1/1 [00:00<00:00, 185.29it/s]\n",
      "Converting markdown files to Documents: 100%|██████████| 1/1 [00:00<00:00, 185.29it/s]\n"
     ]
    },
    {
     "name": "stdout",
     "output_type": "stream",
     "text": [
      "[Document(id=21d9df13-0937-4b92-a29e-0d3238e87c79, content: 'Die Klinik für Geburtshilfe in den DRK Kliniken Berlin Köpenick bietet werdenden Eltern eine sichere...', meta: {'title': 'DRK Geburtshilfe Infos.md'})]\n"
     ]
    },
    {
     "name": "stderr",
     "output_type": "stream",
     "text": [
      "Converting markdown files to Documents: 100%|██████████| 1/1 [00:00<00:00, 117.28it/s]\u001b[A\n",
      "\n"
     ]
    },
    {
     "name": "stdout",
     "output_type": "stream",
     "text": [
      "[Document(id=1dedd71d-c44c-4a4c-8c91-3014f763ae84, content: 'Die Geburt stellt einen natürlichen Ablauf dar. Durch moderne geburtshilfliche Verfahren, insbesonde...', meta: {'title': 'Medizinische Maßnahmen rund um die Geburt.md'})]\n"
     ]
    },
    {
     "name": "stderr",
     "output_type": "stream",
     "text": [
      "Converting markdown files to Documents: 100%|██████████| 1/1 [00:00<00:00, 177.03it/s]\n",
      "Converting markdown files to Documents: 100%|██████████| 1/1 [00:00<00:00, 177.03it/s]\n"
     ]
    },
    {
     "name": "stdout",
     "output_type": "stream",
     "text": [
      "[Document(id=2969af6a-529a-416c-a24c-3794de66b317, content: 'Damit Sie den geplanten Eingriff schmerzfrei erleben, stehen zwei grundlegende Methoden zur Verfügun...', meta: {'title': 'Narkose.md'})]\n"
     ]
    },
    {
     "name": "stderr",
     "output_type": "stream",
     "text": [
      "Converting markdown files to Documents: 100%|██████████| 1/1 [00:00<00:00, 207.06it/s]\u001b[A\n",
      "\n"
     ]
    },
    {
     "name": "stdout",
     "output_type": "stream",
     "text": [
      "[Document(id=f3f50f77-c81b-40dc-ba62-19f5a85b4882, content: 'In bestimmten Situationen wird ein vorzeitiger Geburtsbeginn medizinisch empfohlen oder notwendig:\n",
      "\n",
      "...', meta: {'title': 'Einleitung der Geburt.md'})]\n"
     ]
    },
    {
     "name": "stderr",
     "output_type": "stream",
     "text": [
      "Converting markdown files to Documents: 100%|██████████| 1/1 [00:00<00:00, 558.50it/s]\n",
      "Processing Markdown files: 100%|██████████| 6/6 [00:00<00:00, 73.46it/s]\n",
      "\n"
     ]
    },
    {
     "name": "stdout",
     "output_type": "stream",
     "text": [
      "[Document(id=42fb0e0b-0ed4-42b0-b26d-cb1b0aa16946, content: 'Im Laufe der Schwangerschaft kann das ungeborene Kind seine Position im Mutterleib mehrfach veränder...', meta: {'title': 'Äußere Wendung.md'})]\n"
     ]
    },
    {
     "name": "stderr",
     "output_type": "stream",
     "text": [
      "Processing Markdown files:   0%|          | 0/6 [00:00<?, ?it/s]\n",
      "Converting markdown files to Documents: 100%|██████████| 1/1 [00:00<00:00, 132.35it/s]\n"
     ]
    },
    {
     "name": "stdout",
     "output_type": "stream",
     "text": [
      "[Document(id=f247ada7-7925-4792-a708-7073b6f6d648, content: 'Ein Kaiserschnitt kann aus unterschiedlichen Gründen und mit variierender Dringlichkeit notwendig we...', meta: {'title': 'Kaiserschnitt.md'})]\n"
     ]
    },
    {
     "name": "stderr",
     "output_type": "stream",
     "text": [
      "Converting markdown files to Documents: 100%|██████████| 1/1 [00:00<00:00, 190.17it/s]\n",
      "Converting markdown files to Documents: 100%|██████████| 1/1 [00:00<00:00, 190.17it/s]\n"
     ]
    },
    {
     "name": "stdout",
     "output_type": "stream",
     "text": [
      "[Document(id=22eeaefa-9697-4e7c-b481-bef15c3804cd, content: 'Die Klinik für Geburtshilfe in den DRK Kliniken Berlin Köpenick bietet werdenden Eltern eine sichere...', meta: {'title': 'DRK Geburtshilfe Infos.md'})]\n"
     ]
    },
    {
     "name": "stderr",
     "output_type": "stream",
     "text": [
      "Converting markdown files to Documents: 100%|██████████| 1/1 [00:00<00:00, 170.00it/s]\n"
     ]
    },
    {
     "name": "stdout",
     "output_type": "stream",
     "text": [
      "[Document(id=0a621fbf-48b2-4c81-b20f-5a5f2b92ef5d, content: 'Die Geburt stellt einen natürlichen Ablauf dar. Durch moderne geburtshilfliche Verfahren, insbesonde...', meta: {'title': 'Medizinische Maßnahmen rund um die Geburt.md'})]\n"
     ]
    },
    {
     "name": "stderr",
     "output_type": "stream",
     "text": [
      "Converting markdown files to Documents: 100%|██████████| 1/1 [00:00<00:00, 101.62it/s]\n",
      "Converting markdown files to Documents: 100%|██████████| 1/1 [00:00<00:00, 101.62it/s]\n"
     ]
    },
    {
     "name": "stdout",
     "output_type": "stream",
     "text": [
      "[Document(id=4bc572da-39b3-42c0-87e3-e8793ef8ec28, content: 'Damit Sie den geplanten Eingriff schmerzfrei erleben, stehen zwei grundlegende Methoden zur Verfügun...', meta: {'title': 'Narkose.md'})]\n"
     ]
    },
    {
     "name": "stderr",
     "output_type": "stream",
     "text": [
      "Converting markdown files to Documents: 100%|██████████| 1/1 [00:00<00:00, 395.99it/s]\n"
     ]
    },
    {
     "name": "stdout",
     "output_type": "stream",
     "text": [
      "[Document(id=cf02932e-89ba-4a5a-bb4c-38f31b366d5a, content: 'In bestimmten Situationen wird ein vorzeitiger Geburtsbeginn medizinisch empfohlen oder notwendig:\n",
      "\n",
      "...', meta: {'title': 'Einleitung der Geburt.md'})]\n"
     ]
    },
    {
     "name": "stderr",
     "output_type": "stream",
     "text": [
      "Converting markdown files to Documents: 100%|██████████| 1/1 [00:00<00:00, 556.42it/s]\n",
      "Processing Markdown files: 100%|██████████| 6/6 [00:00<00:00, 94.13it/s]\n",
      "Converting markdown files to Documents: 100%|██████████| 1/1 [00:00<00:00, 556.42it/s]\n",
      "Processing Markdown files: 100%|██████████| 6/6 [00:00<00:00, 94.13it/s]\n"
     ]
    },
    {
     "name": "stdout",
     "output_type": "stream",
     "text": [
      "[Document(id=be39944d-f1b6-4ff7-b3ff-8e6f628fbd5d, content: 'Im Laufe der Schwangerschaft kann das ungeborene Kind seine Position im Mutterleib mehrfach veränder...', meta: {'title': 'Äußere Wendung.md'})]\n"
     ]
    },
    {
     "name": "stderr",
     "output_type": "stream",
     "text": [
      "Converting markdown files to Documents: 100%|██████████| 1/1 [00:00<00:00, 118.97it/s]\n",
      "\n"
     ]
    },
    {
     "name": "stdout",
     "output_type": "stream",
     "text": [
      "[Document(id=0188742b-79f5-46b9-bbac-27093583b9df, content: 'Ein Kaiserschnitt kann aus unterschiedlichen Gründen und mit variierender Dringlichkeit notwendig we...', meta: {'title': 'Kaiserschnitt.md'})]\n"
     ]
    },
    {
     "name": "stderr",
     "output_type": "stream",
     "text": [
      "Converting markdown files to Documents: 100%|██████████| 1/1 [00:00<00:00, 182.91it/s]\n"
     ]
    },
    {
     "name": "stdout",
     "output_type": "stream",
     "text": [
      "[Document(id=c4c36300-971d-41f9-8ebe-cf3c1eb5837e, content: 'Die Klinik für Geburtshilfe in den DRK Kliniken Berlin Köpenick bietet werdenden Eltern eine sichere...', meta: {'title': 'DRK Geburtshilfe Infos.md'})]\n"
     ]
    },
    {
     "name": "stderr",
     "output_type": "stream",
     "text": [
      "Converting markdown files to Documents: 100%|██████████| 1/1 [00:00<00:00, 167.36it/s]\n"
     ]
    },
    {
     "name": "stdout",
     "output_type": "stream",
     "text": [
      "[Document(id=4b67f791-899e-49d0-bc54-cb299cbad612, content: 'Die Geburt stellt einen natürlichen Ablauf dar. Durch moderne geburtshilfliche Verfahren, insbesonde...', meta: {'title': 'Medizinische Maßnahmen rund um die Geburt.md'})]\n"
     ]
    },
    {
     "name": "stderr",
     "output_type": "stream",
     "text": [
      "Converting markdown files to Documents: 100%|██████████| 1/1 [00:00<00:00, 157.51it/s]\n"
     ]
    },
    {
     "name": "stdout",
     "output_type": "stream",
     "text": [
      "[Document(id=fb5624ef-172c-4a45-a25d-e1ff1f5eca21, content: 'Damit Sie den geplanten Eingriff schmerzfrei erleben, stehen zwei grundlegende Methoden zur Verfügun...', meta: {'title': 'Narkose.md'})]\n"
     ]
    },
    {
     "name": "stderr",
     "output_type": "stream",
     "text": [
      "Converting markdown files to Documents: 100%|██████████| 1/1 [00:00<00:00, 409.52it/s]\n"
     ]
    },
    {
     "name": "stdout",
     "output_type": "stream",
     "text": [
      "[Document(id=924bac02-aea1-4842-9d5a-2d78eaf57420, content: 'In bestimmten Situationen wird ein vorzeitiger Geburtsbeginn medizinisch empfohlen oder notwendig:\n",
      "\n",
      "...', meta: {'title': 'Einleitung der Geburt.md'})]\n"
     ]
    },
    {
     "name": "stderr",
     "output_type": "stream",
     "text": [
      "Converting markdown files to Documents: 100%|██████████| 1/1 [00:00<00:00, 580.29it/s]\n",
      "Processing Markdown files: 100%|██████████| 6/6 [00:00<00:00, 102.72it/s]\n",
      "Converting markdown files to Documents: 100%|██████████| 1/1 [00:00<00:00, 580.29it/s]\n",
      "Processing Markdown files: 100%|██████████| 6/6 [00:00<00:00, 102.72it/s]\n"
     ]
    },
    {
     "name": "stdout",
     "output_type": "stream",
     "text": [
      "[Document(id=3a1e1724-98b2-4055-85d8-d91087100046, content: 'Im Laufe der Schwangerschaft kann das ungeborene Kind seine Position im Mutterleib mehrfach veränder...', meta: {'title': 'Äußere Wendung.md'})]\n"
     ]
    },
    {
     "name": "stderr",
     "output_type": "stream",
     "text": [
      "Converting markdown files to Documents: 100%|██████████| 1/1 [00:00<00:00, 114.55it/s]\n",
      "Converting markdown files to Documents: 100%|██████████| 1/1 [00:00<00:00, 114.55it/s]\n"
     ]
    },
    {
     "name": "stdout",
     "output_type": "stream",
     "text": [
      "[Document(id=e0e0ccfc-697f-4560-a48a-5347239ec6bd, content: 'Ein Kaiserschnitt kann aus unterschiedlichen Gründen und mit variierender Dringlichkeit notwendig we...', meta: {'title': 'Kaiserschnitt.md'})]\n"
     ]
    },
    {
     "name": "stderr",
     "output_type": "stream",
     "text": [
      "Converting markdown files to Documents: 100%|██████████| 1/1 [00:00<00:00, 182.19it/s]\n"
     ]
    },
    {
     "name": "stdout",
     "output_type": "stream",
     "text": [
      "[Document(id=5dacd781-103a-461f-a93a-84986b966176, content: 'Die Klinik für Geburtshilfe in den DRK Kliniken Berlin Köpenick bietet werdenden Eltern eine sichere...', meta: {'title': 'DRK Geburtshilfe Infos.md'})]\n"
     ]
    },
    {
     "name": "stderr",
     "output_type": "stream",
     "text": [
      "Converting markdown files to Documents: 100%|██████████| 1/1 [00:00<00:00, 168.70it/s]\n"
     ]
    },
    {
     "name": "stdout",
     "output_type": "stream",
     "text": [
      "[Document(id=e4810bea-9627-40d2-9617-c1a77f993071, content: 'Die Geburt stellt einen natürlichen Ablauf dar. Durch moderne geburtshilfliche Verfahren, insbesonde...', meta: {'title': 'Medizinische Maßnahmen rund um die Geburt.md'})]\n"
     ]
    },
    {
     "name": "stderr",
     "output_type": "stream",
     "text": [
      "Converting markdown files to Documents: 100%|██████████| 1/1 [00:00<00:00, 167.40it/s]\n",
      "Converting markdown files to Documents: 100%|██████████| 1/1 [00:00<00:00, 167.40it/s]\n"
     ]
    },
    {
     "name": "stdout",
     "output_type": "stream",
     "text": [
      "[Document(id=fcf77e62-3b49-481d-9960-923c60ea2dee, content: 'Damit Sie den geplanten Eingriff schmerzfrei erleben, stehen zwei grundlegende Methoden zur Verfügun...', meta: {'title': 'Narkose.md'})]\n"
     ]
    },
    {
     "name": "stderr",
     "output_type": "stream",
     "text": [
      "Converting markdown files to Documents: 100%|██████████| 1/1 [00:00<00:00, 168.47it/s]\n"
     ]
    },
    {
     "name": "stdout",
     "output_type": "stream",
     "text": [
      "[Document(id=168d22a6-a125-4ff8-9950-ddbd3444c479, content: 'In bestimmten Situationen wird ein vorzeitiger Geburtsbeginn medizinisch empfohlen oder notwendig:\n",
      "\n",
      "...', meta: {'title': 'Einleitung der Geburt.md'})]\n"
     ]
    },
    {
     "name": "stderr",
     "output_type": "stream",
     "text": [
      "Converting markdown files to Documents: 100%|██████████| 1/1 [00:00<00:00, 560.21it/s]\n",
      "Processing Markdown files: 100%|██████████| 6/6 [00:00<00:00, 102.98it/s]\n",
      "Converting markdown files to Documents: 100%|██████████| 1/1 [00:00<00:00, 560.21it/s]\n",
      "Processing Markdown files: 100%|██████████| 6/6 [00:00<00:00, 102.98it/s]\n"
     ]
    },
    {
     "name": "stdout",
     "output_type": "stream",
     "text": [
      "[Document(id=5a705806-691e-4852-b88a-8338af483755, content: 'Im Laufe der Schwangerschaft kann das ungeborene Kind seine Position im Mutterleib mehrfach veränder...', meta: {'title': 'Äußere Wendung.md'})]\n"
     ]
    },
    {
     "name": "stderr",
     "output_type": "stream",
     "text": [
      "Converting markdown files to Documents: 100%|██████████| 1/1 [00:00<00:00, 203.96it/s]\n",
      "Converting markdown files to Documents: 100%|██████████| 1/1 [00:00<00:00, 203.96it/s]\n"
     ]
    },
    {
     "name": "stdout",
     "output_type": "stream",
     "text": [
      "[Document(id=04fc2241-553a-48de-af85-c4f4e5d6b826, content: 'Ein Kaiserschnitt kann aus unterschiedlichen Gründen und mit variierender Dringlichkeit notwendig we...', meta: {'title': 'Kaiserschnitt.md'})]\n"
     ]
    },
    {
     "name": "stderr",
     "output_type": "stream",
     "text": [
      "Converting markdown files to Documents: 100%|██████████| 1/1 [00:00<00:00, 185.05it/s]\n",
      "Converting markdown files to Documents: 100%|██████████| 1/1 [00:00<00:00, 185.05it/s]\n"
     ]
    },
    {
     "name": "stdout",
     "output_type": "stream",
     "text": [
      "[Document(id=4fc2e7a9-7c9d-4c38-9390-19a88aa5c908, content: 'Die Klinik für Geburtshilfe in den DRK Kliniken Berlin Köpenick bietet werdenden Eltern eine sichere...', meta: {'title': 'DRK Geburtshilfe Infos.md'})]\n"
     ]
    },
    {
     "name": "stderr",
     "output_type": "stream",
     "text": [
      "Converting markdown files to Documents: 100%|██████████| 1/1 [00:00<00:00, 170.12it/s]\n",
      "Converting markdown files to Documents: 100%|██████████| 1/1 [00:00<00:00, 170.12it/s]\n"
     ]
    },
    {
     "name": "stdout",
     "output_type": "stream",
     "text": [
      "[Document(id=320ebfdc-2746-4791-ba9e-5b3b100f9ccf, content: 'Die Geburt stellt einen natürlichen Ablauf dar. Durch moderne geburtshilfliche Verfahren, insbesonde...', meta: {'title': 'Medizinische Maßnahmen rund um die Geburt.md'})]\n"
     ]
    },
    {
     "name": "stderr",
     "output_type": "stream",
     "text": [
      "Converting markdown files to Documents: 100%|██████████| 1/1 [00:00<00:00, 159.74it/s]\n",
      "Converting markdown files to Documents: 100%|██████████| 1/1 [00:00<00:00, 159.74it/s]\n"
     ]
    },
    {
     "name": "stdout",
     "output_type": "stream",
     "text": [
      "[Document(id=fd13e5f9-8426-4836-a743-b35804524f0a, content: 'Damit Sie den geplanten Eingriff schmerzfrei erleben, stehen zwei grundlegende Methoden zur Verfügun...', meta: {'title': 'Narkose.md'})]\n"
     ]
    },
    {
     "name": "stderr",
     "output_type": "stream",
     "text": [
      "Converting markdown files to Documents: 100%|██████████| 1/1 [00:00<00:00, 415.03it/s]\n",
      "Converting markdown files to Documents: 100%|██████████| 1/1 [00:00<00:00, 415.03it/s]\n"
     ]
    },
    {
     "name": "stdout",
     "output_type": "stream",
     "text": [
      "[Document(id=3e9f013d-a82c-4707-96a8-d03626987193, content: 'In bestimmten Situationen wird ein vorzeitiger Geburtsbeginn medizinisch empfohlen oder notwendig:\n",
      "\n",
      "...', meta: {'title': 'Einleitung der Geburt.md'})]\n"
     ]
    },
    {
     "name": "stderr",
     "output_type": "stream",
     "text": [
      "Converting markdown files to Documents: 100%|██████████| 1/1 [00:00<00:00, 554.51it/s]\n",
      "Converting markdown files to Documents: 100%|██████████| 1/1 [00:00<00:00, 554.51it/s]\n",
      "Processing Markdown files: 100%|██████████| 6/6 [00:00<00:00, 91.79it/s]\n"
     ]
    },
    {
     "name": "stdout",
     "output_type": "stream",
     "text": [
      "[Document(id=96e45d2d-f2af-4579-b40d-8ab049f8142a, content: 'Im Laufe der Schwangerschaft kann das ungeborene Kind seine Position im Mutterleib mehrfach veränder...', meta: {'title': 'Äußere Wendung.md'})]\n"
     ]
    },
    {
     "name": "stderr",
     "output_type": "stream",
     "text": [
      "Converting markdown files to Documents: 100%|██████████| 1/1 [00:00<00:00, 211.96it/s]\n",
      "Converting markdown files to Documents: 100%|██████████| 1/1 [00:00<00:00, 211.96it/s]\n"
     ]
    },
    {
     "name": "stdout",
     "output_type": "stream",
     "text": [
      "[Document(id=72e9cc3e-0d89-4703-a634-1bc19340c83b, content: 'Ein Kaiserschnitt kann aus unterschiedlichen Gründen und mit variierender Dringlichkeit notwendig we...', meta: {'title': 'Kaiserschnitt.md'})]\n"
     ]
    },
    {
     "name": "stderr",
     "output_type": "stream",
     "text": [
      "Converting markdown files to Documents: 100%|██████████| 1/1 [00:00<00:00, 196.31it/s]\n",
      "Converting markdown files to Documents: 100%|██████████| 1/1 [00:00<00:00, 196.31it/s]\n"
     ]
    },
    {
     "name": "stdout",
     "output_type": "stream",
     "text": [
      "[Document(id=69770643-cc95-4b82-ba58-8727134d5785, content: 'Die Klinik für Geburtshilfe in den DRK Kliniken Berlin Köpenick bietet werdenden Eltern eine sichere...', meta: {'title': 'DRK Geburtshilfe Infos.md'})]\n"
     ]
    },
    {
     "name": "stderr",
     "output_type": "stream",
     "text": [
      "Converting markdown files to Documents: 100%|██████████| 1/1 [00:00<00:00, 169.00it/s]\n"
     ]
    },
    {
     "name": "stdout",
     "output_type": "stream",
     "text": [
      "[Document(id=3f0bc71c-5911-4c35-b9f2-aa4357b968a2, content: 'Die Geburt stellt einen natürlichen Ablauf dar. Durch moderne geburtshilfliche Verfahren, insbesonde...', meta: {'title': 'Medizinische Maßnahmen rund um die Geburt.md'})]\n"
     ]
    },
    {
     "name": "stderr",
     "output_type": "stream",
     "text": [
      "Converting markdown files to Documents: 100%|██████████| 1/1 [00:00<00:00, 160.22it/s]\u001b[A\n",
      "\n"
     ]
    },
    {
     "name": "stdout",
     "output_type": "stream",
     "text": [
      "[Document(id=05e59142-8e48-4a76-8f60-760aefc9b9a1, content: 'Damit Sie den geplanten Eingriff schmerzfrei erleben, stehen zwei grundlegende Methoden zur Verfügun...', meta: {'title': 'Narkose.md'})]\n"
     ]
    },
    {
     "name": "stderr",
     "output_type": "stream",
     "text": [
      "Converting markdown files to Documents: 100%|██████████| 1/1 [00:00<00:00, 408.68it/s]\n"
     ]
    },
    {
     "name": "stdout",
     "output_type": "stream",
     "text": [
      "[Document(id=4beb62b8-e32a-470d-942b-a33f87c00ea0, content: 'In bestimmten Situationen wird ein vorzeitiger Geburtsbeginn medizinisch empfohlen oder notwendig:\n",
      "\n",
      "...', meta: {'title': 'Einleitung der Geburt.md'})]\n"
     ]
    },
    {
     "name": "stderr",
     "output_type": "stream",
     "text": [
      "Converting markdown files to Documents: 100%|██████████| 1/1 [00:00<00:00, 529.99it/s]\n",
      "Converting markdown files to Documents: 100%|██████████| 1/1 [00:00<00:00, 529.99it/s]\n",
      "Processing Markdown files: 100%|██████████| 6/6 [00:00<00:00, 107.16it/s]\n"
     ]
    },
    {
     "name": "stdout",
     "output_type": "stream",
     "text": [
      "[Document(id=81fea84a-7006-4d85-b502-f42b948107e0, content: 'Im Laufe der Schwangerschaft kann das ungeborene Kind seine Position im Mutterleib mehrfach veränder...', meta: {'title': 'Äußere Wendung.md'})]\n"
     ]
    },
    {
     "name": "stderr",
     "output_type": "stream",
     "text": [
      "Converting markdown files to Documents: 100%|██████████| 1/1 [00:00<00:00, 201.67it/s]\n",
      "\n"
     ]
    },
    {
     "name": "stdout",
     "output_type": "stream",
     "text": [
      "[Document(id=fce6ce02-6001-4d04-99e0-fae02b2829fe, content: 'Ein Kaiserschnitt kann aus unterschiedlichen Gründen und mit variierender Dringlichkeit notwendig we...', meta: {'title': 'Kaiserschnitt.md'})]\n"
     ]
    },
    {
     "name": "stderr",
     "output_type": "stream",
     "text": [
      "Converting markdown files to Documents: 100%|██████████| 1/1 [00:00<00:00, 178.67it/s]\n"
     ]
    },
    {
     "name": "stdout",
     "output_type": "stream",
     "text": [
      "[Document(id=f838b949-b2ca-41fa-83cf-f45b51be9895, content: 'Die Klinik für Geburtshilfe in den DRK Kliniken Berlin Köpenick bietet werdenden Eltern eine sichere...', meta: {'title': 'DRK Geburtshilfe Infos.md'})]\n"
     ]
    },
    {
     "name": "stderr",
     "output_type": "stream",
     "text": [
      "Converting markdown files to Documents: 100%|██████████| 1/1 [00:00<00:00, 159.37it/s]\n"
     ]
    },
    {
     "name": "stdout",
     "output_type": "stream",
     "text": [
      "[Document(id=1f7cabe9-a979-4547-bf57-a11884bc37b9, content: 'Die Geburt stellt einen natürlichen Ablauf dar. Durch moderne geburtshilfliche Verfahren, insbesonde...', meta: {'title': 'Medizinische Maßnahmen rund um die Geburt.md'})]\n"
     ]
    },
    {
     "name": "stderr",
     "output_type": "stream",
     "text": [
      "Converting markdown files to Documents: 100%|██████████| 1/1 [00:00<00:00, 174.27it/s]\n",
      "Converting markdown files to Documents: 100%|██████████| 1/1 [00:00<00:00, 174.27it/s]\n"
     ]
    },
    {
     "name": "stdout",
     "output_type": "stream",
     "text": [
      "[Document(id=e29dba71-e07d-4fb2-97c0-feb9ba65c245, content: 'Damit Sie den geplanten Eingriff schmerzfrei erleben, stehen zwei grundlegende Methoden zur Verfügun...', meta: {'title': 'Narkose.md'})]\n"
     ]
    },
    {
     "name": "stderr",
     "output_type": "stream",
     "text": [
      "Converting markdown files to Documents: 100%|██████████| 1/1 [00:00<00:00, 412.14it/s]\n"
     ]
    },
    {
     "name": "stdout",
     "output_type": "stream",
     "text": [
      "[Document(id=ca765273-5586-471d-9eb8-31f1b500b274, content: 'In bestimmten Situationen wird ein vorzeitiger Geburtsbeginn medizinisch empfohlen oder notwendig:\n",
      "\n",
      "...', meta: {'title': 'Einleitung der Geburt.md'})]\n"
     ]
    },
    {
     "name": "stderr",
     "output_type": "stream",
     "text": [
      "Converting markdown files to Documents: 100%|██████████| 1/1 [00:00<00:00, 547.13it/s]\n",
      "Processing Markdown files: 100%|██████████| 6/6 [00:00<00:00, 77.68it/s]\n",
      "Converting markdown files to Documents: 100%|██████████| 1/1 [00:00<00:00, 547.13it/s]\n",
      "Processing Markdown files: 100%|██████████| 6/6 [00:00<00:00, 77.68it/s]\n"
     ]
    },
    {
     "name": "stdout",
     "output_type": "stream",
     "text": [
      "[Document(id=7b06f282-8f47-4fe8-b7be-4acf32f122a5, content: 'Im Laufe der Schwangerschaft kann das ungeborene Kind seine Position im Mutterleib mehrfach veränder...', meta: {'title': 'Äußere Wendung.md'})]\n"
     ]
    },
    {
     "name": "stderr",
     "output_type": "stream",
     "text": [
      "Converting markdown files to Documents: 100%|██████████| 1/1 [00:00<00:00, 211.56it/s]\n",
      "Converting markdown files to Documents: 100%|██████████| 1/1 [00:00<00:00, 211.56it/s]\n"
     ]
    },
    {
     "name": "stdout",
     "output_type": "stream",
     "text": [
      "[Document(id=d58a7a07-b236-4757-b676-9b99ce85e602, content: 'Ein Kaiserschnitt kann aus unterschiedlichen Gründen und mit variierender Dringlichkeit notwendig we...', meta: {'title': 'Kaiserschnitt.md'})]\n"
     ]
    },
    {
     "name": "stderr",
     "output_type": "stream",
     "text": [
      "Converting markdown files to Documents: 100%|██████████| 1/1 [00:00<00:00, 122.46it/s]\n",
      "\n"
     ]
    },
    {
     "name": "stdout",
     "output_type": "stream",
     "text": [
      "[Document(id=e57dc0bb-a45b-4886-8347-8792b904cdfb, content: 'Die Klinik für Geburtshilfe in den DRK Kliniken Berlin Köpenick bietet werdenden Eltern eine sichere...', meta: {'title': 'DRK Geburtshilfe Infos.md'})]\n"
     ]
    },
    {
     "name": "stderr",
     "output_type": "stream",
     "text": [
      "Converting markdown files to Documents: 100%|██████████| 1/1 [00:00<00:00, 174.81it/s]\n",
      "Converting markdown files to Documents: 100%|██████████| 1/1 [00:00<00:00, 174.81it/s]\n"
     ]
    },
    {
     "name": "stdout",
     "output_type": "stream",
     "text": [
      "[Document(id=d50947d7-772b-4c16-935f-a88541dd7f56, content: 'Die Geburt stellt einen natürlichen Ablauf dar. Durch moderne geburtshilfliche Verfahren, insbesonde...', meta: {'title': 'Medizinische Maßnahmen rund um die Geburt.md'})]\n"
     ]
    },
    {
     "name": "stderr",
     "output_type": "stream",
     "text": [
      "Converting markdown files to Documents: 100%|██████████| 1/1 [00:00<00:00, 168.41it/s]\n"
     ]
    },
    {
     "name": "stdout",
     "output_type": "stream",
     "text": [
      "[Document(id=2139e6d7-4869-4c17-a91a-2e3ed80cc097, content: 'Damit Sie den geplanten Eingriff schmerzfrei erleben, stehen zwei grundlegende Methoden zur Verfügun...', meta: {'title': 'Narkose.md'})]\n"
     ]
    },
    {
     "name": "stderr",
     "output_type": "stream",
     "text": [
      "Converting markdown files to Documents: 100%|██████████| 1/1 [00:00<00:00, 419.43it/s]\n",
      "Converting markdown files to Documents: 100%|██████████| 1/1 [00:00<00:00, 419.43it/s]\n"
     ]
    },
    {
     "name": "stdout",
     "output_type": "stream",
     "text": [
      "[Document(id=774351ed-32bb-4fb2-82f4-e7253e0174de, content: 'In bestimmten Situationen wird ein vorzeitiger Geburtsbeginn medizinisch empfohlen oder notwendig:\n",
      "\n",
      "...', meta: {'title': 'Einleitung der Geburt.md'})]\n"
     ]
    },
    {
     "name": "stderr",
     "output_type": "stream",
     "text": [
      "Converting markdown files to Documents: 100%|██████████| 1/1 [00:00<00:00, 552.54it/s]\n",
      "Processing Markdown files: 100%|██████████| 6/6 [00:00<00:00, 82.11it/s]"
     ]
    },
    {
     "name": "stdout",
     "output_type": "stream",
     "text": [
      "[Document(id=64fe5da9-494b-402b-82ec-a71ede54ba07, content: 'Im Laufe der Schwangerschaft kann das ungeborene Kind seine Position im Mutterleib mehrfach veränder...', meta: {'title': 'Äußere Wendung.md'})]\n"
     ]
    },
    {
     "name": "stderr",
     "output_type": "stream",
     "text": [
      "\n"
     ]
    }
   ],
   "source": [
    "from functools import partial\n",
    "\n",
    "def preprocess_markdown(filename: str, bytes, splitting_config):\n",
    "    bytestream = ByteStream(data=bytes)\n",
    "    file_id = str(uuid.uuid4())\n",
    "    md_documents = markdown_pipeline.run({\n",
    "        \"markdown_converter\" : {\n",
    "            \"byte_streams\": [bytestream],\n",
    "            \"id\": file_id,\n",
    "            \"meta\": {\n",
    "                \"title\": filename\n",
    "            }\n",
    "        }\n",
    "    })[\"markdown_converter\"][\"documents\"]\n",
    "    print(md_documents)\n",
    "    splitter = preprocessing_pipeline.get_component(\"splitter\")\n",
    "    splitter.split_by = splitting_config[\"split_by\"]\n",
    "    splitter.split_length = splitting_config[\"split_length\"]\n",
    "    splitter.split_overlap = splitting_config[\"split_overlap\"]\n",
    "    preprocessed_documents = preprocessing_pipeline.run({\n",
    "        \"splitter\": { \"documents\": md_documents }\n",
    "    })[\"filter\"][\"documents\"]\n",
    "    data.extend([{ \"document\": document } for document in preprocessed_documents])\n",
    "\n",
    "for config in splitting_configs:\n",
    "    data = []\n",
    "    process_with_config = partial(preprocess_markdown, splitting_config=config)\n",
    "    for_each_markdown_file(\"data/md_files\", process_with_config)\n",
    "    df = pd.DataFrame(data)\n",
    "    df.to_pickle(f\"data/preprocessed_documents/docs_{config['split_by']}_{config['split_length']}_{config['split_overlap']}.pkl\")\n"
   ]
  },
  {
   "cell_type": "code",
   "execution_count": 5,
   "id": "05113733",
   "metadata": {},
   "outputs": [
    {
     "data": {
      "text/plain": [
       "309"
      ]
     },
     "execution_count": 5,
     "metadata": {},
     "output_type": "execute_result"
    }
   ],
   "source": [
    "len(df)"
   ]
  },
  {
   "cell_type": "code",
   "execution_count": 6,
   "id": "08782650",
   "metadata": {},
   "outputs": [
    {
     "name": "stdout",
     "output_type": "stream",
     "text": [
      "All document IDs are unique: True\n"
     ]
    }
   ],
   "source": [
    "document_ids = df[\"document\"].apply(lambda doc: doc.id)\n",
    "is_unique = document_ids.is_unique\n",
    "\n",
    "print(\"All document IDs are unique:\", is_unique)\n"
   ]
  },
  {
   "cell_type": "code",
   "execution_count": 7,
   "id": "619f34d0",
   "metadata": {},
   "outputs": [
    {
     "name": "stdout",
     "output_type": "stream",
     "text": [
      "Mean content length: 317.13592233009706\n",
      "Median content length: 290.0\n",
      "Variance of content length: 32404.72172487707\n",
      "Min content length: 15\n"
     ]
    }
   ],
   "source": [
    "# Extract character length of each document\n",
    "df['content_length'] = df['document'].apply(lambda x: len(x.content))\n",
    "\n",
    "# Compute statistics\n",
    "mean_length = df['content_length'].mean()\n",
    "median_length = df['content_length'].median()\n",
    "variance_length = df['content_length'].var()\n",
    "min_length = df['content_length'].min()\n",
    "\n",
    "print(\"Mean content length:\", mean_length)\n",
    "print(\"Median content length:\", median_length)\n",
    "print(\"Variance of content length:\", variance_length)\n",
    "print(\"Min content length:\", min_length)"
   ]
  },
  {
   "cell_type": "markdown",
   "id": "6b657364",
   "metadata": {},
   "source": [
    "## Splitting Evaluation\n",
    "\n",
    "Which splitting strategy works best?\n",
    "- Number of chars (with overlap)\n",
    "- Number of sentences (with overlap)\n",
    "- By line\n",
    "- By paragraph"
   ]
  },
  {
   "cell_type": "code",
   "execution_count": 1,
   "id": "c01b962a",
   "metadata": {},
   "outputs": [],
   "source": [
    "import pandas as pd\n",
    "\n",
    "df_line = pd.read_pickle(\"data/preprocessed_documents/docs_line_1_0.pkl\")\n",
    "df_passage = pd.read_pickle(\"data/preprocessed_documents/docs_passage_1_0.pkl\")"
   ]
  },
  {
   "cell_type": "markdown",
   "id": "3c5ca413",
   "metadata": {},
   "source": [
    "### Average Number of Words per Line / Paragraph"
   ]
  },
  {
   "cell_type": "code",
   "execution_count": 2,
   "id": "84460587",
   "metadata": {},
   "outputs": [
    {
     "name": "stdout",
     "output_type": "stream",
     "text": [
      "Average words per document: 31.13\n",
      "Min words: 1\n",
      "Max words: 130\n",
      "31.13151364764268\n",
      "Average words per document: 40.60\n",
      "Min words: 3\n",
      "Max words: 191\n",
      "40.601941747572816\n"
     ]
    }
   ],
   "source": [
    "from utils.words_utils import compute_avg_word_count\n",
    "\n",
    "avg_words_line = compute_avg_word_count(df_line)\n",
    "print(avg_words_line)\n",
    "avg_words_passage = compute_avg_word_count(df_passage)\n",
    "print(avg_words_passage)"
   ]
  },
  {
   "cell_type": "code",
   "execution_count": 9,
   "id": "aedd978a",
   "metadata": {},
   "outputs": [
    {
     "name": "stdout",
     "output_type": "stream",
     "text": [
      "✅ FOUND: Häufig wird vorab eine Blutuntersuchung durchgeführt, Blutwerte bestimmt und ein venöser Zugang gelegt, um im Bedarfsfall Medikamente verabreichen zu können.\n",
      "✅ FOUND: Um vorzeitige Wehen zu vermeiden, wird häufig ein Medikament zur Wehenhemmung (Tokolyse) verabreicht.\n",
      "✅ FOUND: Während des gesamten Vorgangs steht Ihnen in der Regel eine Hebamme zur Seite.\n",
      "✅ FOUND: Falls notwendig, kann ein Bauchband angelegt werden, um die neue Lage zu stabilisieren.\n",
      "✅ FOUND: Auch wenn für viele dieser Methoden keine wissenschaftlichen Nachweise zur Wirksamkeit vorliegen, berichten einige Frauen von positiven Erfahrungen.\n",
      "✅ FOUND: Diese Verfahren werden zumeist von Hebammen durchgeführt und erfordern oft mehrere Sitzungen.\n",
      "✅ FOUND: Die Kosten müssen in der Regel privat getragen werden, da sie nicht von den gesetzlichen Krankenkassen übernommen werden.\n",
      "✅ FOUND: Die genaue Entscheidung hängt von der individuellen Situation ab und wird gemeinsam mit der Ärztin oder dem Arzt getroffen.\n",
      "✅ FOUND: Da dabei kindliches Blut in den mütterlichen Kreislauf gelangen kann, wird meist eine schützende Impfung gegen Rhesus-Sensibilisierung verabreicht.\n",
      "✅ FOUND: In manchen Fällen ist die Gabe von Sauerstoff oder sogar eine vorübergehende künstliche Beatmung erforderlich.\n",
      "✅ FOUND: Die wissenschaftliche Datenlage hierzu ist jedoch uneinheitlich – eindeutige Beweise für einen Zusammenhang fehlen bislang.\n",
      "✅ FOUND: Diese sind in der Regel gut mit Antibiotika und kontraktionsfördernden Mitteln behandelbar.\n",
      "✅ FOUND: In Einzelfällen kann es zu einer schweren Blutvergiftung (Sepsis) kommen, die intensivmedizinisch behandelt werden muss.\n",
      "✅ FOUND: Zur Vorbeugung wird häufig ein blutgerinnungshemmendes Mittel wie Heparin verabreicht.\n",
      "✅ FOUND: Die Chancen und Risiken einer geplanten Spontangeburt werden individuell mit Ihnen besprochen.\n",
      "✅ FOUND: Auch hierzu werden Sie im persönlichen Gespräch informiert.\n",
      "✅ FOUND: Dabei unterscheidet man:\n",
      "✅ FOUND: Im Falle eines geplanten Eingriffs erhalten Sie dazu eine separate Aufklärung über Risiken und Konsequenzen.\n",
      "✅ FOUND: Rund um die Uhr ist eine Anästhesistin anwesend, sodass jederzeit eine PDA gelegt werden kann, um starke Wehenschmerzen effektiv zu lindern.\n",
      "✅ FOUND: Insgesamt stehen vier Familienzimmer zur Verfügung, darunter als Besonderheit das in Kooperation mit dem 1. FC Union Berlin gestaltete Themenzimmer „Eiserne Knirpsenkabine“.\n",
      "✅ FOUND: Insgesamt gibt es vier Familienzimmer, darunter die „Eiserne Knirpsenkabine“, ein Fan-Zimmer im Stil des 1. FC Union Berlin.\n",
      "✅ FOUND: Leichte Gelbsucht wird mit Fototherapie behandelt.\n",
      "✅ FOUND: Sollte eine intensivere Betreuung nötig sein, erfolgt eine Zusammenarbeit mit der Neonatologie des Vivantes Klinikums Neukölln.\n",
      "✅ FOUND: Die Kreißsäle sind mit allen gängigen Gebärhilfen ausgestattet, darunter eine große Gebärwanne für Wassergeburten\n",
      "✅ FOUND: Es finden Stillberatungen, Rückbildungsgymnastik und Neugeborenenuntersuchungen (z. B. U2, Hörtest) statt.\n",
      "✅ FOUND: Danach übernimmt idealerweise eine Hebamme die Nachsorge zu Hause – sie kontrolliert Rückbildung, hilft beim Stillen und betreut das Neugeborene.\n",
      "✅ FOUND: Wer keine Hebamme findet, bekommt Unterstützung durch die Babylotsinnen.\n",
      "✅ FOUND: Für andere Besucher (z. B. Großeltern, Freunde) gelten feste Besuchszeiten: täglich von 15:00 bis 19:00 Uhr.\n",
      "✅ FOUND: So lassen sich wichtige Werte bestimmen, insbesondere bei einem möglichen Sauerstoffmangel, und es können umgehend notwendige Schritte eingeleitet werden.\n",
      "✅ FOUND: Aus diesem Grund ist es zwingend erforderlich, dass Sie sich von einer volljährigen Begleitperson nach Hause bringen lassen und dort während der ersten 24 Stunden – oder für den vom Arzt angegebenen Zeitraum – unter Aufsicht bleiben.\n",
      "✅ FOUND: Diese verschwinden meist nach wenigen Stunden oder Tagen, gelegentlich halten sie Wochen oder länger an.\n",
      "✅ FOUND: Dauerhafte Beeinträchtigungen sind jedoch sehr selten.\n",
      "✅ FOUND: In diesem Fall wird dringend zur Einleitung oder einem Kaiserschnitt geraten.\n",
      "✅ FOUND: Infolgedessen kann das Neugeborene eventuell mit Antibiotika behandelt werden müssen.\n",
      "✅ FOUND: Eine Vereiterung der Eileiter als Folge kann zur dauerhaften Unfruchtbarkeit führen.\n",
      "✅ FOUND: Informieren Sie Ihre Ärztin oder Ihren Arzt unbedingt über frühere Eingriffe!\n"
     ]
    }
   ],
   "source": [
    "from utils.string_utils import normalize\n",
    "\n",
    "# All sentence groups (flattened into one list)\n",
    "all_sentences = [\n",
    "    # Group 0\n",
    "    \"Häufig wird vorab eine Blutuntersuchung durchgeführt, Blutwerte bestimmt und ein venöser Zugang gelegt, um im Bedarfsfall Medikamente verabreichen zu können.\",\n",
    "    \"Um vorzeitige Wehen zu vermeiden, wird häufig ein Medikament zur Wehenhemmung (Tokolyse) verabreicht.\",\n",
    "    \"Während des gesamten Vorgangs steht Ihnen in der Regel eine Hebamme zur Seite.\",\n",
    "    \"Falls notwendig, kann ein Bauchband angelegt werden, um die neue Lage zu stabilisieren.\",\n",
    "    \n",
    "    # Group 3\n",
    "    \"Auch wenn für viele dieser Methoden keine wissenschaftlichen Nachweise zur Wirksamkeit vorliegen, berichten einige Frauen von positiven Erfahrungen.\",\n",
    "    \"Diese Verfahren werden zumeist von Hebammen durchgeführt und erfordern oft mehrere Sitzungen.\",\n",
    "    \"Die Kosten müssen in der Regel privat getragen werden, da sie nicht von den gesetzlichen Krankenkassen übernommen werden.\",\n",
    "    \n",
    "    # Group 4\n",
    "    \"Die genaue Entscheidung hängt von der individuellen Situation ab und wird gemeinsam mit der Ärztin oder dem Arzt getroffen.\",\n",
    "    \n",
    "    # Group 8\n",
    "    \"Da dabei kindliches Blut in den mütterlichen Kreislauf gelangen kann, wird meist eine schützende Impfung gegen Rhesus-Sensibilisierung verabreicht.\",\n",
    "    \n",
    "    # Group 10\n",
    "    \"In manchen Fällen ist die Gabe von Sauerstoff oder sogar eine vorübergehende künstliche Beatmung erforderlich.\",\n",
    "    \"Die wissenschaftliche Datenlage hierzu ist jedoch uneinheitlich – eindeutige Beweise für einen Zusammenhang fehlen bislang.\",\n",
    "    \n",
    "    # Group 13\n",
    "    \"Diese sind in der Regel gut mit Antibiotika und kontraktionsfördernden Mitteln behandelbar.\",\n",
    "    \"In Einzelfällen kann es zu einer schweren Blutvergiftung (Sepsis) kommen, die intensivmedizinisch behandelt werden muss.\",\n",
    "    \"Zur Vorbeugung wird häufig ein blutgerinnungshemmendes Mittel wie Heparin verabreicht.\",\n",
    "    \n",
    "    # Group 14\n",
    "    \"Die Chancen und Risiken einer geplanten Spontangeburt werden individuell mit Ihnen besprochen.\",\n",
    "    \n",
    "    # Group 17\n",
    "    \"Auch hierzu werden Sie im persönlichen Gespräch informiert.\",\n",
    "    \n",
    "    # Group 18\n",
    "    \"Dabei unterscheidet man:\",\n",
    "    \n",
    "    # Group 19\n",
    "    \"Im Falle eines geplanten Eingriffs erhalten Sie dazu eine separate Aufklärung über Risiken und Konsequenzen.\",\n",
    "    \n",
    "    # Group 21\n",
    "    \"Rund um die Uhr ist eine Anästhesistin anwesend, sodass jederzeit eine PDA gelegt werden kann, um starke Wehenschmerzen effektiv zu lindern.\",\n",
    "    \n",
    "    # Group 25\n",
    "    \"Insgesamt stehen vier Familienzimmer zur Verfügung, darunter als Besonderheit das in Kooperation mit dem 1. FC Union Berlin gestaltete Themenzimmer „Eiserne Knirpsenkabine“.\",\n",
    "    \"Insgesamt gibt es vier Familienzimmer, darunter die „Eiserne Knirpsenkabine“, ein Fan-Zimmer im Stil des 1. FC Union Berlin.\",\n",
    "    \n",
    "    # Group 26\n",
    "    \"Leichte Gelbsucht wird mit Fototherapie behandelt.\",\n",
    "    \"Sollte eine intensivere Betreuung nötig sein, erfolgt eine Zusammenarbeit mit der Neonatologie des Vivantes Klinikums Neukölln.\",\n",
    "    \n",
    "    # Group 27\n",
    "    \"Die Kreißsäle sind mit allen gängigen Gebärhilfen ausgestattet, darunter eine große Gebärwanne für Wassergeburten\",\n",
    "    \n",
    "    # Group 28\n",
    "    \"Es finden Stillberatungen, Rückbildungsgymnastik und Neugeborenenuntersuchungen (z. B. U2, Hörtest) statt.\",\n",
    "    \"Danach übernimmt idealerweise eine Hebamme die Nachsorge zu Hause – sie kontrolliert Rückbildung, hilft beim Stillen und betreut das Neugeborene.\",\n",
    "    \"Wer keine Hebamme findet, bekommt Unterstützung durch die Babylotsinnen.\",\n",
    "    \n",
    "    # Group 29\n",
    "    \"Danach übernimmt idealerweise eine Hebamme die Nachsorge zu Hause – sie kontrolliert Rückbildung, hilft beim Stillen und betreut das Neugeborene.\",\n",
    "    \"Wer keine Hebamme findet, bekommt Unterstützung durch die Babylotsinnen.\",\n",
    "    \n",
    "    # Group 30\n",
    "    \"Für andere Besucher (z. B. Großeltern, Freunde) gelten feste Besuchszeiten: täglich von 15:00 bis 19:00 Uhr.\",\n",
    "    \n",
    "    # Group 33\n",
    "    \"So lassen sich wichtige Werte bestimmen, insbesondere bei einem möglichen Sauerstoffmangel, und es können umgehend notwendige Schritte eingeleitet werden.\",\n",
    "    \n",
    "    # Group 48\n",
    "    \"Aus diesem Grund ist es zwingend erforderlich, dass Sie sich von einer volljährigen Begleitperson nach Hause bringen lassen und dort während der ersten 24 Stunden – oder für den vom Arzt angegebenen Zeitraum – unter Aufsicht bleiben.\",\n",
    "    \n",
    "    # Group 49\n",
    "    \"Diese verschwinden meist nach wenigen Stunden oder Tagen, gelegentlich halten sie Wochen oder länger an.\",\n",
    "    \"Dauerhafte Beeinträchtigungen sind jedoch sehr selten.\",\n",
    "    \n",
    "    # Group 52\n",
    "    \"In diesem Fall wird dringend zur Einleitung oder einem Kaiserschnitt geraten.\",\n",
    "    \n",
    "    # Group 56\n",
    "    \"Infolgedessen kann das Neugeborene eventuell mit Antibiotika behandelt werden müssen.\",\n",
    "    \"Eine Vereiterung der Eileiter als Folge kann zur dauerhaften Unfruchtbarkeit führen.\",\n",
    "    \n",
    "    # Group 57\n",
    "    \"Informieren Sie Ihre Ärztin oder Ihren Arzt unbedingt über frühere Eingriffe!\"\n",
    "]\n",
    "\n",
    "from utils.document_utils import exact_substring_match_percent\n",
    "\n",
    "# Now check each sentence in all documents\n",
    "matches = {\n",
    "    sentence: any(\n",
    "        exact_substring_match_percent(\n",
    "            normalize(sentence),\n",
    "            normalize(doc.content),\n",
    "        ) >= 0.5\n",
    "        for doc in df[\"document\"]\n",
    "    )\n",
    "    for sentence in all_sentences\n",
    "}\n",
    "\n",
    "# Print results clearly\n",
    "for sentence, found in matches.items():\n",
    "    print(f\"{'✅ FOUND' if found else '❌ NOT FOUND'}: {sentence}\")"
   ]
  },
  {
   "cell_type": "code",
   "execution_count": null,
   "id": "9fbc415e",
   "metadata": {},
   "outputs": [],
   "source": []
  },
  {
   "cell_type": "code",
   "execution_count": null,
   "id": "d5d8a936",
   "metadata": {},
   "outputs": [],
   "source": []
  },
  {
   "cell_type": "code",
   "execution_count": 3,
   "id": "85f962d5",
   "metadata": {},
   "outputs": [
    {
     "name": "stdout",
     "output_type": "stream",
     "text": [
      "\n",
      "Smallest 5 lines (by word count):\n",
      "- (  1 words) Blasenfunktionsstörungen:\n",
      "\n",
      "- (  1 words) Infektionen:\n",
      "\n",
      "- (  1 words) Wundheilungsstörungen:\n",
      "\n",
      "- (  1 words) Eileiterschädigungen:\n",
      "\n",
      "- (  1 words) Darmverschluss:\n",
      "\n",
      "\n",
      "Smallest 5 passages (by word count):\n",
      "- (  3 words) Nachsorge und Rückbildung:\n",
      "\n",
      "\n",
      "- (  3 words) \n",
      "Für die Mutter:\n",
      "\n",
      "\n",
      "- (  3 words) Für das Kind:\n",
      "\n",
      "\n",
      "- (  5 words) Welche Voraussetzungen müssen erfüllt sein?\n",
      "\n",
      "\n",
      "- (  5 words) Wehenhemmende Medikamente werden eingesetzt, wenn:\n",
      "\n",
      "\n"
     ]
    }
   ],
   "source": [
    "# Print the 5 smallest lines and paragraphs by word count\n",
    "import pandas as pd\n",
    "from utils.words_utils import compute_avg_word_count\n",
    "\n",
    "# Ensure df_line and df_passage are loaded; if not, load them\n",
    "try:\n",
    "    df_line\n",
    "except NameError:\n",
    "    df_line = pd.read_pickle(\"data/preprocessed_documents/docs_line_1_0.pkl\")\n",
    "\n",
    "try:\n",
    "    df_passage\n",
    "except NameError:\n",
    "    df_passage = pd.read_pickle(\"data/preprocessed_documents/docs_passage_1_0.pkl\")\n",
    "\n",
    "# Compute word counts without printing stats, store in-place\n",
    "compute_avg_word_count(df_line, print_stats=False, in_place=True)\n",
    "compute_avg_word_count(df_passage, print_stats=False, in_place=True)\n",
    "\n",
    "# Get the 5 smallest by word_count\n",
    "smallest_lines = df_line.nsmallest(5, \"word_count\")\n",
    "smallest_passages = df_passage.nsmallest(5, \"word_count\")\n",
    "\n",
    "# Pretty print results: show word_count and content\n",
    "print(\"\\nSmallest 5 lines (by word count):\")\n",
    "for i, row in smallest_lines.iterrows():\n",
    "    content = row[\"document\"].content if hasattr(row[\"document\"], \"content\") else str(row[\"document\"])[:200]\n",
    "    print(f\"- ({row['word_count']:>3} words) {content}\")\n",
    "\n",
    "print(\"\\nSmallest 5 passages (by word count):\")\n",
    "for i, row in smallest_passages.iterrows():\n",
    "    content = row[\"document\"].content if hasattr(row[\"document\"], \"content\") else str(row[\"document\"])[:200]\n",
    "    print(f\"- ({row['word_count']:>3} words) {content}\")"
   ]
  }
 ],
 "metadata": {
  "kernelspec": {
   "display_name": ".venv",
   "language": "python",
   "name": "python3"
  },
  "language_info": {
   "codemirror_mode": {
    "name": "ipython",
    "version": 3
   },
   "file_extension": ".py",
   "mimetype": "text/x-python",
   "name": "python",
   "nbconvert_exporter": "python",
   "pygments_lexer": "ipython3",
   "version": "3.11.2"
  }
 },
 "nbformat": 4,
 "nbformat_minor": 5
}
