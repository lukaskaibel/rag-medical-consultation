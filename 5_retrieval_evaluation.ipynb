{
 "cells": [
  {
   "cell_type": "markdown",
   "id": "0dcd96e4",
   "metadata": {},
   "source": [
    "# Retrieval Evaluation"
   ]
  },
  {
   "cell_type": "code",
   "execution_count": 1,
   "id": "36ee93f0",
   "metadata": {},
   "outputs": [
    {
     "name": "stdout",
     "output_type": "stream",
     "text": [
      "Requirement already satisfied: haystack-ai>=2.15.0rc1 in ./.venv/lib/python3.11/site-packages (2.15.0rc1)\n",
      "Requirement already satisfied: docstring-parser in ./.venv/lib/python3.11/site-packages (from haystack-ai>=2.15.0rc1) (0.16)\n",
      "Requirement already satisfied: haystack-experimental in ./.venv/lib/python3.11/site-packages (from haystack-ai>=2.15.0rc1) (0.10.0)\n",
      "Requirement already satisfied: jinja2 in ./.venv/lib/python3.11/site-packages (from haystack-ai>=2.15.0rc1) (3.1.6)\n",
      "Requirement already satisfied: jsonschema in ./.venv/lib/python3.11/site-packages (from haystack-ai>=2.15.0rc1) (4.23.0)\n",
      "Requirement already satisfied: lazy-imports in ./.venv/lib/python3.11/site-packages (from haystack-ai>=2.15.0rc1) (0.4.0)\n",
      "Requirement already satisfied: more-itertools in ./.venv/lib/python3.11/site-packages (from haystack-ai>=2.15.0rc1) (10.7.0)\n",
      "Requirement already satisfied: networkx in ./.venv/lib/python3.11/site-packages (from haystack-ai>=2.15.0rc1) (3.4.2)\n",
      "Requirement already satisfied: numpy in ./.venv/lib/python3.11/site-packages (from haystack-ai>=2.15.0rc1) (2.2.6)\n",
      "Requirement already satisfied: openai>=1.56.1 in ./.venv/lib/python3.11/site-packages (from haystack-ai>=2.15.0rc1) (1.79.0)\n",
      "Requirement already satisfied: posthog!=3.12.0 in ./.venv/lib/python3.11/site-packages (from haystack-ai>=2.15.0rc1) (4.0.1)\n",
      "Requirement already satisfied: pydantic in ./.venv/lib/python3.11/site-packages (from haystack-ai>=2.15.0rc1) (2.11.4)\n",
      "Requirement already satisfied: python-dateutil in ./.venv/lib/python3.11/site-packages (from haystack-ai>=2.15.0rc1) (2.9.0.post0)\n",
      "Requirement already satisfied: pyyaml in ./.venv/lib/python3.11/site-packages (from haystack-ai>=2.15.0rc1) (6.0.2)\n",
      "Requirement already satisfied: requests in ./.venv/lib/python3.11/site-packages (from haystack-ai>=2.15.0rc1) (2.32.3)\n",
      "Requirement already satisfied: tenacity!=8.4.0 in ./.venv/lib/python3.11/site-packages (from haystack-ai>=2.15.0rc1) (9.1.2)\n",
      "Requirement already satisfied: tqdm in ./.venv/lib/python3.11/site-packages (from haystack-ai>=2.15.0rc1) (4.67.1)\n",
      "Requirement already satisfied: typing-extensions>=4.7 in ./.venv/lib/python3.11/site-packages (from haystack-ai>=2.15.0rc1) (4.13.2)\n",
      "Requirement already satisfied: anyio<5,>=3.5.0 in ./.venv/lib/python3.11/site-packages (from openai>=1.56.1->haystack-ai>=2.15.0rc1) (4.9.0)\n",
      "Requirement already satisfied: distro<2,>=1.7.0 in ./.venv/lib/python3.11/site-packages (from openai>=1.56.1->haystack-ai>=2.15.0rc1) (1.9.0)\n",
      "Requirement already satisfied: httpx<1,>=0.23.0 in ./.venv/lib/python3.11/site-packages (from openai>=1.56.1->haystack-ai>=2.15.0rc1) (0.28.1)\n",
      "Requirement already satisfied: jiter<1,>=0.4.0 in ./.venv/lib/python3.11/site-packages (from openai>=1.56.1->haystack-ai>=2.15.0rc1) (0.10.0)\n",
      "Requirement already satisfied: sniffio in ./.venv/lib/python3.11/site-packages (from openai>=1.56.1->haystack-ai>=2.15.0rc1) (1.3.1)\n",
      "Requirement already satisfied: idna>=2.8 in ./.venv/lib/python3.11/site-packages (from anyio<5,>=3.5.0->openai>=1.56.1->haystack-ai>=2.15.0rc1) (3.10)\n",
      "Requirement already satisfied: certifi in ./.venv/lib/python3.11/site-packages (from httpx<1,>=0.23.0->openai>=1.56.1->haystack-ai>=2.15.0rc1) (2025.4.26)\n",
      "Requirement already satisfied: httpcore==1.* in ./.venv/lib/python3.11/site-packages (from httpx<1,>=0.23.0->openai>=1.56.1->haystack-ai>=2.15.0rc1) (1.0.9)\n",
      "Requirement already satisfied: h11>=0.16 in ./.venv/lib/python3.11/site-packages (from httpcore==1.*->httpx<1,>=0.23.0->openai>=1.56.1->haystack-ai>=2.15.0rc1) (0.16.0)\n",
      "Requirement already satisfied: annotated-types>=0.6.0 in ./.venv/lib/python3.11/site-packages (from pydantic->haystack-ai>=2.15.0rc1) (0.7.0)\n",
      "Requirement already satisfied: pydantic-core==2.33.2 in ./.venv/lib/python3.11/site-packages (from pydantic->haystack-ai>=2.15.0rc1) (2.33.2)\n",
      "Requirement already satisfied: typing-inspection>=0.4.0 in ./.venv/lib/python3.11/site-packages (from pydantic->haystack-ai>=2.15.0rc1) (0.4.0)\n",
      "Requirement already satisfied: six>=1.5 in ./.venv/lib/python3.11/site-packages (from posthog!=3.12.0->haystack-ai>=2.15.0rc1) (1.17.0)\n",
      "Requirement already satisfied: backoff>=1.10.0 in ./.venv/lib/python3.11/site-packages (from posthog!=3.12.0->haystack-ai>=2.15.0rc1) (2.2.1)\n",
      "Requirement already satisfied: charset-normalizer<4,>=2 in ./.venv/lib/python3.11/site-packages (from requests->haystack-ai>=2.15.0rc1) (3.4.2)\n",
      "Requirement already satisfied: urllib3<3,>=1.21.1 in ./.venv/lib/python3.11/site-packages (from requests->haystack-ai>=2.15.0rc1) (2.4.0)\n",
      "Requirement already satisfied: filetype in ./.venv/lib/python3.11/site-packages (from haystack-experimental->haystack-ai>=2.15.0rc1) (1.2.0)\n",
      "Requirement already satisfied: MarkupSafe>=2.0 in ./.venv/lib/python3.11/site-packages (from jinja2->haystack-ai>=2.15.0rc1) (3.0.2)\n",
      "Requirement already satisfied: attrs>=22.2.0 in ./.venv/lib/python3.11/site-packages (from jsonschema->haystack-ai>=2.15.0rc1) (25.3.0)\n",
      "Requirement already satisfied: jsonschema-specifications>=2023.03.6 in ./.venv/lib/python3.11/site-packages (from jsonschema->haystack-ai>=2.15.0rc1) (2025.4.1)\n",
      "Requirement already satisfied: referencing>=0.28.4 in ./.venv/lib/python3.11/site-packages (from jsonschema->haystack-ai>=2.15.0rc1) (0.36.2)\n",
      "Requirement already satisfied: rpds-py>=0.7.1 in ./.venv/lib/python3.11/site-packages (from jsonschema->haystack-ai>=2.15.0rc1) (0.25.1)\n",
      "Note: you may need to restart the kernel to use updated packages.\n",
      "Requirement already satisfied: ragas-haystack in ./.venv/lib/python3.11/site-packages (2.1.0)\n",
      "Requirement already satisfied: haystack-ai in ./.venv/lib/python3.11/site-packages (from ragas-haystack) (2.15.0rc1)\n",
      "Requirement already satisfied: ragas<0.3.0,>=0.2.0 in ./.venv/lib/python3.11/site-packages (from ragas-haystack) (0.2.15)\n",
      "Requirement already satisfied: numpy in ./.venv/lib/python3.11/site-packages (from ragas<0.3.0,>=0.2.0->ragas-haystack) (2.2.6)\n",
      "Requirement already satisfied: datasets in ./.venv/lib/python3.11/site-packages (from ragas<0.3.0,>=0.2.0->ragas-haystack) (3.6.0)\n",
      "Requirement already satisfied: tiktoken in ./.venv/lib/python3.11/site-packages (from ragas<0.3.0,>=0.2.0->ragas-haystack) (0.9.0)\n",
      "Requirement already satisfied: langchain in ./.venv/lib/python3.11/site-packages (from ragas<0.3.0,>=0.2.0->ragas-haystack) (0.3.25)\n",
      "Requirement already satisfied: langchain-core in ./.venv/lib/python3.11/site-packages (from ragas<0.3.0,>=0.2.0->ragas-haystack) (0.3.60)\n",
      "Requirement already satisfied: langchain-community in ./.venv/lib/python3.11/site-packages (from ragas<0.3.0,>=0.2.0->ragas-haystack) (0.3.24)\n",
      "Requirement already satisfied: langchain_openai in ./.venv/lib/python3.11/site-packages (from ragas<0.3.0,>=0.2.0->ragas-haystack) (0.3.17)\n",
      "Requirement already satisfied: nest-asyncio in ./.venv/lib/python3.11/site-packages (from ragas<0.3.0,>=0.2.0->ragas-haystack) (1.6.0)\n",
      "Requirement already satisfied: appdirs in ./.venv/lib/python3.11/site-packages (from ragas<0.3.0,>=0.2.0->ragas-haystack) (1.4.4)\n",
      "Requirement already satisfied: pydantic>=2 in ./.venv/lib/python3.11/site-packages (from ragas<0.3.0,>=0.2.0->ragas-haystack) (2.11.4)\n",
      "Requirement already satisfied: openai>1 in ./.venv/lib/python3.11/site-packages (from ragas<0.3.0,>=0.2.0->ragas-haystack) (1.79.0)\n",
      "Requirement already satisfied: diskcache>=5.6.3 in ./.venv/lib/python3.11/site-packages (from ragas<0.3.0,>=0.2.0->ragas-haystack) (5.6.3)\n",
      "Requirement already satisfied: anyio<5,>=3.5.0 in ./.venv/lib/python3.11/site-packages (from openai>1->ragas<0.3.0,>=0.2.0->ragas-haystack) (4.9.0)\n",
      "Requirement already satisfied: distro<2,>=1.7.0 in ./.venv/lib/python3.11/site-packages (from openai>1->ragas<0.3.0,>=0.2.0->ragas-haystack) (1.9.0)\n",
      "Requirement already satisfied: httpx<1,>=0.23.0 in ./.venv/lib/python3.11/site-packages (from openai>1->ragas<0.3.0,>=0.2.0->ragas-haystack) (0.28.1)\n",
      "Requirement already satisfied: jiter<1,>=0.4.0 in ./.venv/lib/python3.11/site-packages (from openai>1->ragas<0.3.0,>=0.2.0->ragas-haystack) (0.10.0)\n",
      "Requirement already satisfied: sniffio in ./.venv/lib/python3.11/site-packages (from openai>1->ragas<0.3.0,>=0.2.0->ragas-haystack) (1.3.1)\n",
      "Requirement already satisfied: tqdm>4 in ./.venv/lib/python3.11/site-packages (from openai>1->ragas<0.3.0,>=0.2.0->ragas-haystack) (4.67.1)\n",
      "Requirement already satisfied: typing-extensions<5,>=4.11 in ./.venv/lib/python3.11/site-packages (from openai>1->ragas<0.3.0,>=0.2.0->ragas-haystack) (4.13.2)\n",
      "Requirement already satisfied: idna>=2.8 in ./.venv/lib/python3.11/site-packages (from anyio<5,>=3.5.0->openai>1->ragas<0.3.0,>=0.2.0->ragas-haystack) (3.10)\n",
      "Requirement already satisfied: certifi in ./.venv/lib/python3.11/site-packages (from httpx<1,>=0.23.0->openai>1->ragas<0.3.0,>=0.2.0->ragas-haystack) (2025.4.26)\n",
      "Requirement already satisfied: httpcore==1.* in ./.venv/lib/python3.11/site-packages (from httpx<1,>=0.23.0->openai>1->ragas<0.3.0,>=0.2.0->ragas-haystack) (1.0.9)\n",
      "Requirement already satisfied: h11>=0.16 in ./.venv/lib/python3.11/site-packages (from httpcore==1.*->httpx<1,>=0.23.0->openai>1->ragas<0.3.0,>=0.2.0->ragas-haystack) (0.16.0)\n",
      "Requirement already satisfied: annotated-types>=0.6.0 in ./.venv/lib/python3.11/site-packages (from pydantic>=2->ragas<0.3.0,>=0.2.0->ragas-haystack) (0.7.0)\n",
      "Requirement already satisfied: pydantic-core==2.33.2 in ./.venv/lib/python3.11/site-packages (from pydantic>=2->ragas<0.3.0,>=0.2.0->ragas-haystack) (2.33.2)\n",
      "Requirement already satisfied: typing-inspection>=0.4.0 in ./.venv/lib/python3.11/site-packages (from pydantic>=2->ragas<0.3.0,>=0.2.0->ragas-haystack) (0.4.0)\n",
      "Requirement already satisfied: filelock in ./.venv/lib/python3.11/site-packages (from datasets->ragas<0.3.0,>=0.2.0->ragas-haystack) (3.18.0)\n",
      "Requirement already satisfied: pyarrow>=15.0.0 in ./.venv/lib/python3.11/site-packages (from datasets->ragas<0.3.0,>=0.2.0->ragas-haystack) (20.0.0)\n",
      "Requirement already satisfied: dill<0.3.9,>=0.3.0 in ./.venv/lib/python3.11/site-packages (from datasets->ragas<0.3.0,>=0.2.0->ragas-haystack) (0.3.8)\n",
      "Requirement already satisfied: pandas in ./.venv/lib/python3.11/site-packages (from datasets->ragas<0.3.0,>=0.2.0->ragas-haystack) (2.2.3)\n",
      "Requirement already satisfied: requests>=2.32.2 in ./.venv/lib/python3.11/site-packages (from datasets->ragas<0.3.0,>=0.2.0->ragas-haystack) (2.32.3)\n",
      "Requirement already satisfied: xxhash in ./.venv/lib/python3.11/site-packages (from datasets->ragas<0.3.0,>=0.2.0->ragas-haystack) (3.5.0)\n",
      "Requirement already satisfied: multiprocess<0.70.17 in ./.venv/lib/python3.11/site-packages (from datasets->ragas<0.3.0,>=0.2.0->ragas-haystack) (0.70.16)\n",
      "Requirement already satisfied: fsspec<=2025.3.0,>=2023.1.0 in ./.venv/lib/python3.11/site-packages (from fsspec[http]<=2025.3.0,>=2023.1.0->datasets->ragas<0.3.0,>=0.2.0->ragas-haystack) (2025.3.0)\n",
      "Requirement already satisfied: huggingface-hub>=0.24.0 in ./.venv/lib/python3.11/site-packages (from datasets->ragas<0.3.0,>=0.2.0->ragas-haystack) (0.31.4)\n",
      "Requirement already satisfied: packaging in ./.venv/lib/python3.11/site-packages (from datasets->ragas<0.3.0,>=0.2.0->ragas-haystack) (24.2)\n",
      "Requirement already satisfied: pyyaml>=5.1 in ./.venv/lib/python3.11/site-packages (from datasets->ragas<0.3.0,>=0.2.0->ragas-haystack) (6.0.2)\n",
      "Requirement already satisfied: aiohttp!=4.0.0a0,!=4.0.0a1 in ./.venv/lib/python3.11/site-packages (from fsspec[http]<=2025.3.0,>=2023.1.0->datasets->ragas<0.3.0,>=0.2.0->ragas-haystack) (3.11.18)\n",
      "Requirement already satisfied: aiohappyeyeballs>=2.3.0 in ./.venv/lib/python3.11/site-packages (from aiohttp!=4.0.0a0,!=4.0.0a1->fsspec[http]<=2025.3.0,>=2023.1.0->datasets->ragas<0.3.0,>=0.2.0->ragas-haystack) (2.6.1)\n",
      "Requirement already satisfied: aiosignal>=1.1.2 in ./.venv/lib/python3.11/site-packages (from aiohttp!=4.0.0a0,!=4.0.0a1->fsspec[http]<=2025.3.0,>=2023.1.0->datasets->ragas<0.3.0,>=0.2.0->ragas-haystack) (1.3.2)\n",
      "Requirement already satisfied: attrs>=17.3.0 in ./.venv/lib/python3.11/site-packages (from aiohttp!=4.0.0a0,!=4.0.0a1->fsspec[http]<=2025.3.0,>=2023.1.0->datasets->ragas<0.3.0,>=0.2.0->ragas-haystack) (25.3.0)\n",
      "Requirement already satisfied: frozenlist>=1.1.1 in ./.venv/lib/python3.11/site-packages (from aiohttp!=4.0.0a0,!=4.0.0a1->fsspec[http]<=2025.3.0,>=2023.1.0->datasets->ragas<0.3.0,>=0.2.0->ragas-haystack) (1.6.0)\n",
      "Requirement already satisfied: multidict<7.0,>=4.5 in ./.venv/lib/python3.11/site-packages (from aiohttp!=4.0.0a0,!=4.0.0a1->fsspec[http]<=2025.3.0,>=2023.1.0->datasets->ragas<0.3.0,>=0.2.0->ragas-haystack) (6.4.4)\n",
      "Requirement already satisfied: propcache>=0.2.0 in ./.venv/lib/python3.11/site-packages (from aiohttp!=4.0.0a0,!=4.0.0a1->fsspec[http]<=2025.3.0,>=2023.1.0->datasets->ragas<0.3.0,>=0.2.0->ragas-haystack) (0.3.1)\n",
      "Requirement already satisfied: yarl<2.0,>=1.17.0 in ./.venv/lib/python3.11/site-packages (from aiohttp!=4.0.0a0,!=4.0.0a1->fsspec[http]<=2025.3.0,>=2023.1.0->datasets->ragas<0.3.0,>=0.2.0->ragas-haystack) (1.20.0)\n",
      "Requirement already satisfied: charset-normalizer<4,>=2 in ./.venv/lib/python3.11/site-packages (from requests>=2.32.2->datasets->ragas<0.3.0,>=0.2.0->ragas-haystack) (3.4.2)\n",
      "Requirement already satisfied: urllib3<3,>=1.21.1 in ./.venv/lib/python3.11/site-packages (from requests>=2.32.2->datasets->ragas<0.3.0,>=0.2.0->ragas-haystack) (2.4.0)\n",
      "Requirement already satisfied: docstring-parser in ./.venv/lib/python3.11/site-packages (from haystack-ai->ragas-haystack) (0.16)\n",
      "Requirement already satisfied: haystack-experimental in ./.venv/lib/python3.11/site-packages (from haystack-ai->ragas-haystack) (0.10.0)\n",
      "Requirement already satisfied: jinja2 in ./.venv/lib/python3.11/site-packages (from haystack-ai->ragas-haystack) (3.1.6)\n",
      "Requirement already satisfied: jsonschema in ./.venv/lib/python3.11/site-packages (from haystack-ai->ragas-haystack) (4.23.0)\n",
      "Requirement already satisfied: lazy-imports in ./.venv/lib/python3.11/site-packages (from haystack-ai->ragas-haystack) (0.4.0)\n",
      "Requirement already satisfied: more-itertools in ./.venv/lib/python3.11/site-packages (from haystack-ai->ragas-haystack) (10.7.0)\n",
      "Requirement already satisfied: networkx in ./.venv/lib/python3.11/site-packages (from haystack-ai->ragas-haystack) (3.4.2)\n",
      "Requirement already satisfied: posthog!=3.12.0 in ./.venv/lib/python3.11/site-packages (from haystack-ai->ragas-haystack) (4.0.1)\n",
      "Requirement already satisfied: python-dateutil in ./.venv/lib/python3.11/site-packages (from haystack-ai->ragas-haystack) (2.9.0.post0)\n",
      "Requirement already satisfied: tenacity!=8.4.0 in ./.venv/lib/python3.11/site-packages (from haystack-ai->ragas-haystack) (9.1.2)\n",
      "Requirement already satisfied: six>=1.5 in ./.venv/lib/python3.11/site-packages (from posthog!=3.12.0->haystack-ai->ragas-haystack) (1.17.0)\n",
      "Requirement already satisfied: backoff>=1.10.0 in ./.venv/lib/python3.11/site-packages (from posthog!=3.12.0->haystack-ai->ragas-haystack) (2.2.1)\n",
      "Requirement already satisfied: filetype in ./.venv/lib/python3.11/site-packages (from haystack-experimental->haystack-ai->ragas-haystack) (1.2.0)\n",
      "Requirement already satisfied: MarkupSafe>=2.0 in ./.venv/lib/python3.11/site-packages (from jinja2->haystack-ai->ragas-haystack) (3.0.2)\n",
      "Requirement already satisfied: jsonschema-specifications>=2023.03.6 in ./.venv/lib/python3.11/site-packages (from jsonschema->haystack-ai->ragas-haystack) (2025.4.1)\n",
      "Requirement already satisfied: referencing>=0.28.4 in ./.venv/lib/python3.11/site-packages (from jsonschema->haystack-ai->ragas-haystack) (0.36.2)\n",
      "Requirement already satisfied: rpds-py>=0.7.1 in ./.venv/lib/python3.11/site-packages (from jsonschema->haystack-ai->ragas-haystack) (0.25.1)\n",
      "Requirement already satisfied: langchain-text-splitters<1.0.0,>=0.3.8 in ./.venv/lib/python3.11/site-packages (from langchain->ragas<0.3.0,>=0.2.0->ragas-haystack) (0.3.8)\n",
      "Requirement already satisfied: langsmith<0.4,>=0.1.17 in ./.venv/lib/python3.11/site-packages (from langchain->ragas<0.3.0,>=0.2.0->ragas-haystack) (0.3.42)\n",
      "Requirement already satisfied: SQLAlchemy<3,>=1.4 in ./.venv/lib/python3.11/site-packages (from langchain->ragas<0.3.0,>=0.2.0->ragas-haystack) (2.0.41)\n",
      "Requirement already satisfied: jsonpatch<2.0,>=1.33 in ./.venv/lib/python3.11/site-packages (from langchain-core->ragas<0.3.0,>=0.2.0->ragas-haystack) (1.33)\n",
      "Requirement already satisfied: jsonpointer>=1.9 in ./.venv/lib/python3.11/site-packages (from jsonpatch<2.0,>=1.33->langchain-core->ragas<0.3.0,>=0.2.0->ragas-haystack) (3.0.0)\n",
      "Requirement already satisfied: orjson<4.0.0,>=3.9.14 in ./.venv/lib/python3.11/site-packages (from langsmith<0.4,>=0.1.17->langchain->ragas<0.3.0,>=0.2.0->ragas-haystack) (3.10.18)\n",
      "Requirement already satisfied: requests-toolbelt<2.0.0,>=1.0.0 in ./.venv/lib/python3.11/site-packages (from langsmith<0.4,>=0.1.17->langchain->ragas<0.3.0,>=0.2.0->ragas-haystack) (1.0.0)\n",
      "Requirement already satisfied: zstandard<0.24.0,>=0.23.0 in ./.venv/lib/python3.11/site-packages (from langsmith<0.4,>=0.1.17->langchain->ragas<0.3.0,>=0.2.0->ragas-haystack) (0.23.0)\n",
      "Requirement already satisfied: greenlet>=1 in ./.venv/lib/python3.11/site-packages (from SQLAlchemy<3,>=1.4->langchain->ragas<0.3.0,>=0.2.0->ragas-haystack) (3.2.2)\n",
      "Requirement already satisfied: dataclasses-json<0.7,>=0.5.7 in ./.venv/lib/python3.11/site-packages (from langchain-community->ragas<0.3.0,>=0.2.0->ragas-haystack) (0.6.7)\n",
      "Requirement already satisfied: pydantic-settings<3.0.0,>=2.4.0 in ./.venv/lib/python3.11/site-packages (from langchain-community->ragas<0.3.0,>=0.2.0->ragas-haystack) (2.9.1)\n",
      "Requirement already satisfied: httpx-sse<1.0.0,>=0.4.0 in ./.venv/lib/python3.11/site-packages (from langchain-community->ragas<0.3.0,>=0.2.0->ragas-haystack) (0.4.0)\n",
      "Requirement already satisfied: marshmallow<4.0.0,>=3.18.0 in ./.venv/lib/python3.11/site-packages (from dataclasses-json<0.7,>=0.5.7->langchain-community->ragas<0.3.0,>=0.2.0->ragas-haystack) (3.26.1)\n",
      "Requirement already satisfied: typing-inspect<1,>=0.4.0 in ./.venv/lib/python3.11/site-packages (from dataclasses-json<0.7,>=0.5.7->langchain-community->ragas<0.3.0,>=0.2.0->ragas-haystack) (0.9.0)\n",
      "Requirement already satisfied: python-dotenv>=0.21.0 in ./.venv/lib/python3.11/site-packages (from pydantic-settings<3.0.0,>=2.4.0->langchain-community->ragas<0.3.0,>=0.2.0->ragas-haystack) (1.1.0)\n",
      "Requirement already satisfied: mypy-extensions>=0.3.0 in ./.venv/lib/python3.11/site-packages (from typing-inspect<1,>=0.4.0->dataclasses-json<0.7,>=0.5.7->langchain-community->ragas<0.3.0,>=0.2.0->ragas-haystack) (1.1.0)\n",
      "Requirement already satisfied: regex>=2022.1.18 in ./.venv/lib/python3.11/site-packages (from tiktoken->ragas<0.3.0,>=0.2.0->ragas-haystack) (2024.11.6)\n",
      "Requirement already satisfied: pytz>=2020.1 in ./.venv/lib/python3.11/site-packages (from pandas->datasets->ragas<0.3.0,>=0.2.0->ragas-haystack) (2025.2)\n",
      "Requirement already satisfied: tzdata>=2022.7 in ./.venv/lib/python3.11/site-packages (from pandas->datasets->ragas<0.3.0,>=0.2.0->ragas-haystack) (2025.2)\n",
      "Note: you may need to restart the kernel to use updated packages.\n",
      "Requirement already satisfied: nltk in ./.venv/lib/python3.11/site-packages (3.9.1)\n",
      "Requirement already satisfied: click in ./.venv/lib/python3.11/site-packages (from nltk) (8.2.1)\n",
      "Requirement already satisfied: joblib in ./.venv/lib/python3.11/site-packages (from nltk) (1.5.0)\n",
      "Requirement already satisfied: regex>=2021.8.3 in ./.venv/lib/python3.11/site-packages (from nltk) (2024.11.6)\n",
      "Requirement already satisfied: tqdm in ./.venv/lib/python3.11/site-packages (from nltk) (4.67.1)\n",
      "Note: you may need to restart the kernel to use updated packages.\n",
      "Requirement already satisfied: openai in ./.venv/lib/python3.11/site-packages (1.79.0)\n",
      "Requirement already satisfied: anyio<5,>=3.5.0 in ./.venv/lib/python3.11/site-packages (from openai) (4.9.0)\n",
      "Requirement already satisfied: distro<2,>=1.7.0 in ./.venv/lib/python3.11/site-packages (from openai) (1.9.0)\n",
      "Requirement already satisfied: httpx<1,>=0.23.0 in ./.venv/lib/python3.11/site-packages (from openai) (0.28.1)\n",
      "Requirement already satisfied: jiter<1,>=0.4.0 in ./.venv/lib/python3.11/site-packages (from openai) (0.10.0)\n",
      "Requirement already satisfied: pydantic<3,>=1.9.0 in ./.venv/lib/python3.11/site-packages (from openai) (2.11.4)\n",
      "Requirement already satisfied: sniffio in ./.venv/lib/python3.11/site-packages (from openai) (1.3.1)\n",
      "Requirement already satisfied: tqdm>4 in ./.venv/lib/python3.11/site-packages (from openai) (4.67.1)\n",
      "Requirement already satisfied: typing-extensions<5,>=4.11 in ./.venv/lib/python3.11/site-packages (from openai) (4.13.2)\n",
      "Requirement already satisfied: idna>=2.8 in ./.venv/lib/python3.11/site-packages (from anyio<5,>=3.5.0->openai) (3.10)\n",
      "Requirement already satisfied: certifi in ./.venv/lib/python3.11/site-packages (from httpx<1,>=0.23.0->openai) (2025.4.26)\n",
      "Requirement already satisfied: httpcore==1.* in ./.venv/lib/python3.11/site-packages (from httpx<1,>=0.23.0->openai) (1.0.9)\n",
      "Requirement already satisfied: h11>=0.16 in ./.venv/lib/python3.11/site-packages (from httpcore==1.*->httpx<1,>=0.23.0->openai) (0.16.0)\n",
      "Requirement already satisfied: annotated-types>=0.6.0 in ./.venv/lib/python3.11/site-packages (from pydantic<3,>=1.9.0->openai) (0.7.0)\n",
      "Requirement already satisfied: pydantic-core==2.33.2 in ./.venv/lib/python3.11/site-packages (from pydantic<3,>=1.9.0->openai) (2.33.2)\n",
      "Requirement already satisfied: typing-inspection>=0.4.0 in ./.venv/lib/python3.11/site-packages (from pydantic<3,>=1.9.0->openai) (0.4.0)\n",
      "Note: you may need to restart the kernel to use updated packages.\n",
      "Requirement already satisfied: pandas in ./.venv/lib/python3.11/site-packages (2.2.3)\n",
      "Requirement already satisfied: numpy>=1.23.2 in ./.venv/lib/python3.11/site-packages (from pandas) (2.2.6)\n",
      "Requirement already satisfied: python-dateutil>=2.8.2 in ./.venv/lib/python3.11/site-packages (from pandas) (2.9.0.post0)\n",
      "Requirement already satisfied: pytz>=2020.1 in ./.venv/lib/python3.11/site-packages (from pandas) (2025.2)\n",
      "Requirement already satisfied: tzdata>=2022.7 in ./.venv/lib/python3.11/site-packages (from pandas) (2025.2)\n",
      "Requirement already satisfied: six>=1.5 in ./.venv/lib/python3.11/site-packages (from python-dateutil>=2.8.2->pandas) (1.17.0)\n",
      "Note: you may need to restart the kernel to use updated packages.\n",
      "Requirement already satisfied: ragas-haystack in ./.venv/lib/python3.11/site-packages (2.1.0)\n",
      "Requirement already satisfied: haystack-ai in ./.venv/lib/python3.11/site-packages (from ragas-haystack) (2.15.0rc1)\n",
      "Requirement already satisfied: ragas<0.3.0,>=0.2.0 in ./.venv/lib/python3.11/site-packages (from ragas-haystack) (0.2.15)\n",
      "Requirement already satisfied: numpy in ./.venv/lib/python3.11/site-packages (from ragas<0.3.0,>=0.2.0->ragas-haystack) (2.2.6)\n",
      "Requirement already satisfied: datasets in ./.venv/lib/python3.11/site-packages (from ragas<0.3.0,>=0.2.0->ragas-haystack) (3.6.0)\n",
      "Requirement already satisfied: tiktoken in ./.venv/lib/python3.11/site-packages (from ragas<0.3.0,>=0.2.0->ragas-haystack) (0.9.0)\n",
      "Requirement already satisfied: langchain in ./.venv/lib/python3.11/site-packages (from ragas<0.3.0,>=0.2.0->ragas-haystack) (0.3.25)\n",
      "Requirement already satisfied: langchain-core in ./.venv/lib/python3.11/site-packages (from ragas<0.3.0,>=0.2.0->ragas-haystack) (0.3.60)\n",
      "Requirement already satisfied: langchain-community in ./.venv/lib/python3.11/site-packages (from ragas<0.3.0,>=0.2.0->ragas-haystack) (0.3.24)\n",
      "Requirement already satisfied: langchain_openai in ./.venv/lib/python3.11/site-packages (from ragas<0.3.0,>=0.2.0->ragas-haystack) (0.3.17)\n",
      "Requirement already satisfied: nest-asyncio in ./.venv/lib/python3.11/site-packages (from ragas<0.3.0,>=0.2.0->ragas-haystack) (1.6.0)\n",
      "Requirement already satisfied: appdirs in ./.venv/lib/python3.11/site-packages (from ragas<0.3.0,>=0.2.0->ragas-haystack) (1.4.4)\n",
      "Requirement already satisfied: pydantic>=2 in ./.venv/lib/python3.11/site-packages (from ragas<0.3.0,>=0.2.0->ragas-haystack) (2.11.4)\n",
      "Requirement already satisfied: openai>1 in ./.venv/lib/python3.11/site-packages (from ragas<0.3.0,>=0.2.0->ragas-haystack) (1.79.0)\n",
      "Requirement already satisfied: diskcache>=5.6.3 in ./.venv/lib/python3.11/site-packages (from ragas<0.3.0,>=0.2.0->ragas-haystack) (5.6.3)\n",
      "Requirement already satisfied: anyio<5,>=3.5.0 in ./.venv/lib/python3.11/site-packages (from openai>1->ragas<0.3.0,>=0.2.0->ragas-haystack) (4.9.0)\n",
      "Requirement already satisfied: distro<2,>=1.7.0 in ./.venv/lib/python3.11/site-packages (from openai>1->ragas<0.3.0,>=0.2.0->ragas-haystack) (1.9.0)\n",
      "Requirement already satisfied: httpx<1,>=0.23.0 in ./.venv/lib/python3.11/site-packages (from openai>1->ragas<0.3.0,>=0.2.0->ragas-haystack) (0.28.1)\n",
      "Requirement already satisfied: jiter<1,>=0.4.0 in ./.venv/lib/python3.11/site-packages (from openai>1->ragas<0.3.0,>=0.2.0->ragas-haystack) (0.10.0)\n",
      "Requirement already satisfied: sniffio in ./.venv/lib/python3.11/site-packages (from openai>1->ragas<0.3.0,>=0.2.0->ragas-haystack) (1.3.1)\n",
      "Requirement already satisfied: tqdm>4 in ./.venv/lib/python3.11/site-packages (from openai>1->ragas<0.3.0,>=0.2.0->ragas-haystack) (4.67.1)\n",
      "Requirement already satisfied: typing-extensions<5,>=4.11 in ./.venv/lib/python3.11/site-packages (from openai>1->ragas<0.3.0,>=0.2.0->ragas-haystack) (4.13.2)\n",
      "Requirement already satisfied: idna>=2.8 in ./.venv/lib/python3.11/site-packages (from anyio<5,>=3.5.0->openai>1->ragas<0.3.0,>=0.2.0->ragas-haystack) (3.10)\n",
      "Requirement already satisfied: certifi in ./.venv/lib/python3.11/site-packages (from httpx<1,>=0.23.0->openai>1->ragas<0.3.0,>=0.2.0->ragas-haystack) (2025.4.26)\n",
      "Requirement already satisfied: httpcore==1.* in ./.venv/lib/python3.11/site-packages (from httpx<1,>=0.23.0->openai>1->ragas<0.3.0,>=0.2.0->ragas-haystack) (1.0.9)\n",
      "Requirement already satisfied: h11>=0.16 in ./.venv/lib/python3.11/site-packages (from httpcore==1.*->httpx<1,>=0.23.0->openai>1->ragas<0.3.0,>=0.2.0->ragas-haystack) (0.16.0)\n",
      "Requirement already satisfied: annotated-types>=0.6.0 in ./.venv/lib/python3.11/site-packages (from pydantic>=2->ragas<0.3.0,>=0.2.0->ragas-haystack) (0.7.0)\n",
      "Requirement already satisfied: pydantic-core==2.33.2 in ./.venv/lib/python3.11/site-packages (from pydantic>=2->ragas<0.3.0,>=0.2.0->ragas-haystack) (2.33.2)\n",
      "Requirement already satisfied: typing-inspection>=0.4.0 in ./.venv/lib/python3.11/site-packages (from pydantic>=2->ragas<0.3.0,>=0.2.0->ragas-haystack) (0.4.0)\n",
      "Requirement already satisfied: filelock in ./.venv/lib/python3.11/site-packages (from datasets->ragas<0.3.0,>=0.2.0->ragas-haystack) (3.18.0)\n",
      "Requirement already satisfied: pyarrow>=15.0.0 in ./.venv/lib/python3.11/site-packages (from datasets->ragas<0.3.0,>=0.2.0->ragas-haystack) (20.0.0)\n",
      "Requirement already satisfied: dill<0.3.9,>=0.3.0 in ./.venv/lib/python3.11/site-packages (from datasets->ragas<0.3.0,>=0.2.0->ragas-haystack) (0.3.8)\n",
      "Requirement already satisfied: pandas in ./.venv/lib/python3.11/site-packages (from datasets->ragas<0.3.0,>=0.2.0->ragas-haystack) (2.2.3)\n",
      "Requirement already satisfied: requests>=2.32.2 in ./.venv/lib/python3.11/site-packages (from datasets->ragas<0.3.0,>=0.2.0->ragas-haystack) (2.32.3)\n",
      "Requirement already satisfied: xxhash in ./.venv/lib/python3.11/site-packages (from datasets->ragas<0.3.0,>=0.2.0->ragas-haystack) (3.5.0)\n",
      "Requirement already satisfied: multiprocess<0.70.17 in ./.venv/lib/python3.11/site-packages (from datasets->ragas<0.3.0,>=0.2.0->ragas-haystack) (0.70.16)\n",
      "Requirement already satisfied: fsspec<=2025.3.0,>=2023.1.0 in ./.venv/lib/python3.11/site-packages (from fsspec[http]<=2025.3.0,>=2023.1.0->datasets->ragas<0.3.0,>=0.2.0->ragas-haystack) (2025.3.0)\n",
      "Requirement already satisfied: huggingface-hub>=0.24.0 in ./.venv/lib/python3.11/site-packages (from datasets->ragas<0.3.0,>=0.2.0->ragas-haystack) (0.31.4)\n",
      "Requirement already satisfied: packaging in ./.venv/lib/python3.11/site-packages (from datasets->ragas<0.3.0,>=0.2.0->ragas-haystack) (24.2)\n",
      "Requirement already satisfied: pyyaml>=5.1 in ./.venv/lib/python3.11/site-packages (from datasets->ragas<0.3.0,>=0.2.0->ragas-haystack) (6.0.2)\n",
      "Requirement already satisfied: aiohttp!=4.0.0a0,!=4.0.0a1 in ./.venv/lib/python3.11/site-packages (from fsspec[http]<=2025.3.0,>=2023.1.0->datasets->ragas<0.3.0,>=0.2.0->ragas-haystack) (3.11.18)\n",
      "Requirement already satisfied: aiohappyeyeballs>=2.3.0 in ./.venv/lib/python3.11/site-packages (from aiohttp!=4.0.0a0,!=4.0.0a1->fsspec[http]<=2025.3.0,>=2023.1.0->datasets->ragas<0.3.0,>=0.2.0->ragas-haystack) (2.6.1)\n",
      "Requirement already satisfied: aiosignal>=1.1.2 in ./.venv/lib/python3.11/site-packages (from aiohttp!=4.0.0a0,!=4.0.0a1->fsspec[http]<=2025.3.0,>=2023.1.0->datasets->ragas<0.3.0,>=0.2.0->ragas-haystack) (1.3.2)\n",
      "Requirement already satisfied: attrs>=17.3.0 in ./.venv/lib/python3.11/site-packages (from aiohttp!=4.0.0a0,!=4.0.0a1->fsspec[http]<=2025.3.0,>=2023.1.0->datasets->ragas<0.3.0,>=0.2.0->ragas-haystack) (25.3.0)\n",
      "Requirement already satisfied: frozenlist>=1.1.1 in ./.venv/lib/python3.11/site-packages (from aiohttp!=4.0.0a0,!=4.0.0a1->fsspec[http]<=2025.3.0,>=2023.1.0->datasets->ragas<0.3.0,>=0.2.0->ragas-haystack) (1.6.0)\n",
      "Requirement already satisfied: multidict<7.0,>=4.5 in ./.venv/lib/python3.11/site-packages (from aiohttp!=4.0.0a0,!=4.0.0a1->fsspec[http]<=2025.3.0,>=2023.1.0->datasets->ragas<0.3.0,>=0.2.0->ragas-haystack) (6.4.4)\n",
      "Requirement already satisfied: propcache>=0.2.0 in ./.venv/lib/python3.11/site-packages (from aiohttp!=4.0.0a0,!=4.0.0a1->fsspec[http]<=2025.3.0,>=2023.1.0->datasets->ragas<0.3.0,>=0.2.0->ragas-haystack) (0.3.1)\n",
      "Requirement already satisfied: yarl<2.0,>=1.17.0 in ./.venv/lib/python3.11/site-packages (from aiohttp!=4.0.0a0,!=4.0.0a1->fsspec[http]<=2025.3.0,>=2023.1.0->datasets->ragas<0.3.0,>=0.2.0->ragas-haystack) (1.20.0)\n",
      "Requirement already satisfied: charset-normalizer<4,>=2 in ./.venv/lib/python3.11/site-packages (from requests>=2.32.2->datasets->ragas<0.3.0,>=0.2.0->ragas-haystack) (3.4.2)\n",
      "Requirement already satisfied: urllib3<3,>=1.21.1 in ./.venv/lib/python3.11/site-packages (from requests>=2.32.2->datasets->ragas<0.3.0,>=0.2.0->ragas-haystack) (2.4.0)\n",
      "Requirement already satisfied: docstring-parser in ./.venv/lib/python3.11/site-packages (from haystack-ai->ragas-haystack) (0.16)\n",
      "Requirement already satisfied: haystack-experimental in ./.venv/lib/python3.11/site-packages (from haystack-ai->ragas-haystack) (0.10.0)\n",
      "Requirement already satisfied: jinja2 in ./.venv/lib/python3.11/site-packages (from haystack-ai->ragas-haystack) (3.1.6)\n",
      "Requirement already satisfied: jsonschema in ./.venv/lib/python3.11/site-packages (from haystack-ai->ragas-haystack) (4.23.0)\n",
      "Requirement already satisfied: lazy-imports in ./.venv/lib/python3.11/site-packages (from haystack-ai->ragas-haystack) (0.4.0)\n",
      "Requirement already satisfied: more-itertools in ./.venv/lib/python3.11/site-packages (from haystack-ai->ragas-haystack) (10.7.0)\n",
      "Requirement already satisfied: networkx in ./.venv/lib/python3.11/site-packages (from haystack-ai->ragas-haystack) (3.4.2)\n",
      "Requirement already satisfied: posthog!=3.12.0 in ./.venv/lib/python3.11/site-packages (from haystack-ai->ragas-haystack) (4.0.1)\n",
      "Requirement already satisfied: python-dateutil in ./.venv/lib/python3.11/site-packages (from haystack-ai->ragas-haystack) (2.9.0.post0)\n",
      "Requirement already satisfied: tenacity!=8.4.0 in ./.venv/lib/python3.11/site-packages (from haystack-ai->ragas-haystack) (9.1.2)\n",
      "Requirement already satisfied: six>=1.5 in ./.venv/lib/python3.11/site-packages (from posthog!=3.12.0->haystack-ai->ragas-haystack) (1.17.0)\n",
      "Requirement already satisfied: backoff>=1.10.0 in ./.venv/lib/python3.11/site-packages (from posthog!=3.12.0->haystack-ai->ragas-haystack) (2.2.1)\n",
      "Requirement already satisfied: filetype in ./.venv/lib/python3.11/site-packages (from haystack-experimental->haystack-ai->ragas-haystack) (1.2.0)\n",
      "Requirement already satisfied: MarkupSafe>=2.0 in ./.venv/lib/python3.11/site-packages (from jinja2->haystack-ai->ragas-haystack) (3.0.2)\n",
      "Requirement already satisfied: jsonschema-specifications>=2023.03.6 in ./.venv/lib/python3.11/site-packages (from jsonschema->haystack-ai->ragas-haystack) (2025.4.1)\n",
      "Requirement already satisfied: referencing>=0.28.4 in ./.venv/lib/python3.11/site-packages (from jsonschema->haystack-ai->ragas-haystack) (0.36.2)\n",
      "Requirement already satisfied: rpds-py>=0.7.1 in ./.venv/lib/python3.11/site-packages (from jsonschema->haystack-ai->ragas-haystack) (0.25.1)\n",
      "Requirement already satisfied: langchain-text-splitters<1.0.0,>=0.3.8 in ./.venv/lib/python3.11/site-packages (from langchain->ragas<0.3.0,>=0.2.0->ragas-haystack) (0.3.8)\n",
      "Requirement already satisfied: langsmith<0.4,>=0.1.17 in ./.venv/lib/python3.11/site-packages (from langchain->ragas<0.3.0,>=0.2.0->ragas-haystack) (0.3.42)\n",
      "Requirement already satisfied: SQLAlchemy<3,>=1.4 in ./.venv/lib/python3.11/site-packages (from langchain->ragas<0.3.0,>=0.2.0->ragas-haystack) (2.0.41)\n",
      "Requirement already satisfied: jsonpatch<2.0,>=1.33 in ./.venv/lib/python3.11/site-packages (from langchain-core->ragas<0.3.0,>=0.2.0->ragas-haystack) (1.33)\n",
      "Requirement already satisfied: jsonpointer>=1.9 in ./.venv/lib/python3.11/site-packages (from jsonpatch<2.0,>=1.33->langchain-core->ragas<0.3.0,>=0.2.0->ragas-haystack) (3.0.0)\n",
      "Requirement already satisfied: orjson<4.0.0,>=3.9.14 in ./.venv/lib/python3.11/site-packages (from langsmith<0.4,>=0.1.17->langchain->ragas<0.3.0,>=0.2.0->ragas-haystack) (3.10.18)\n",
      "Requirement already satisfied: requests-toolbelt<2.0.0,>=1.0.0 in ./.venv/lib/python3.11/site-packages (from langsmith<0.4,>=0.1.17->langchain->ragas<0.3.0,>=0.2.0->ragas-haystack) (1.0.0)\n",
      "Requirement already satisfied: zstandard<0.24.0,>=0.23.0 in ./.venv/lib/python3.11/site-packages (from langsmith<0.4,>=0.1.17->langchain->ragas<0.3.0,>=0.2.0->ragas-haystack) (0.23.0)\n",
      "Requirement already satisfied: greenlet>=1 in ./.venv/lib/python3.11/site-packages (from SQLAlchemy<3,>=1.4->langchain->ragas<0.3.0,>=0.2.0->ragas-haystack) (3.2.2)\n",
      "Requirement already satisfied: dataclasses-json<0.7,>=0.5.7 in ./.venv/lib/python3.11/site-packages (from langchain-community->ragas<0.3.0,>=0.2.0->ragas-haystack) (0.6.7)\n",
      "Requirement already satisfied: pydantic-settings<3.0.0,>=2.4.0 in ./.venv/lib/python3.11/site-packages (from langchain-community->ragas<0.3.0,>=0.2.0->ragas-haystack) (2.9.1)\n",
      "Requirement already satisfied: httpx-sse<1.0.0,>=0.4.0 in ./.venv/lib/python3.11/site-packages (from langchain-community->ragas<0.3.0,>=0.2.0->ragas-haystack) (0.4.0)\n",
      "Requirement already satisfied: marshmallow<4.0.0,>=3.18.0 in ./.venv/lib/python3.11/site-packages (from dataclasses-json<0.7,>=0.5.7->langchain-community->ragas<0.3.0,>=0.2.0->ragas-haystack) (3.26.1)\n",
      "Requirement already satisfied: typing-inspect<1,>=0.4.0 in ./.venv/lib/python3.11/site-packages (from dataclasses-json<0.7,>=0.5.7->langchain-community->ragas<0.3.0,>=0.2.0->ragas-haystack) (0.9.0)\n",
      "Requirement already satisfied: python-dotenv>=0.21.0 in ./.venv/lib/python3.11/site-packages (from pydantic-settings<3.0.0,>=2.4.0->langchain-community->ragas<0.3.0,>=0.2.0->ragas-haystack) (1.1.0)\n",
      "Requirement already satisfied: mypy-extensions>=0.3.0 in ./.venv/lib/python3.11/site-packages (from typing-inspect<1,>=0.4.0->dataclasses-json<0.7,>=0.5.7->langchain-community->ragas<0.3.0,>=0.2.0->ragas-haystack) (1.1.0)\n",
      "Requirement already satisfied: regex>=2022.1.18 in ./.venv/lib/python3.11/site-packages (from tiktoken->ragas<0.3.0,>=0.2.0->ragas-haystack) (2024.11.6)\n",
      "Requirement already satisfied: pytz>=2020.1 in ./.venv/lib/python3.11/site-packages (from pandas->datasets->ragas<0.3.0,>=0.2.0->ragas-haystack) (2025.2)\n",
      "Requirement already satisfied: tzdata>=2022.7 in ./.venv/lib/python3.11/site-packages (from pandas->datasets->ragas<0.3.0,>=0.2.0->ragas-haystack) (2025.2)\n",
      "Note: you may need to restart the kernel to use updated packages.\n",
      "Requirement already satisfied: sentence-transformers>=3.0.0 in ./.venv/lib/python3.11/site-packages (4.1.0)\n",
      "Requirement already satisfied: transformers<5.0.0,>=4.41.0 in ./.venv/lib/python3.11/site-packages (from sentence-transformers>=3.0.0) (4.52.2)\n",
      "Requirement already satisfied: tqdm in ./.venv/lib/python3.11/site-packages (from sentence-transformers>=3.0.0) (4.67.1)\n",
      "Requirement already satisfied: torch>=1.11.0 in ./.venv/lib/python3.11/site-packages (from sentence-transformers>=3.0.0) (2.7.0)\n",
      "Requirement already satisfied: scikit-learn in ./.venv/lib/python3.11/site-packages (from sentence-transformers>=3.0.0) (1.6.1)\n",
      "Requirement already satisfied: scipy in ./.venv/lib/python3.11/site-packages (from sentence-transformers>=3.0.0) (1.15.3)\n",
      "Requirement already satisfied: huggingface-hub>=0.20.0 in ./.venv/lib/python3.11/site-packages (from sentence-transformers>=3.0.0) (0.31.4)\n",
      "Requirement already satisfied: Pillow in ./.venv/lib/python3.11/site-packages (from sentence-transformers>=3.0.0) (11.2.1)\n",
      "Requirement already satisfied: typing_extensions>=4.5.0 in ./.venv/lib/python3.11/site-packages (from sentence-transformers>=3.0.0) (4.13.2)\n",
      "Requirement already satisfied: filelock in ./.venv/lib/python3.11/site-packages (from transformers<5.0.0,>=4.41.0->sentence-transformers>=3.0.0) (3.18.0)\n",
      "Requirement already satisfied: numpy>=1.17 in ./.venv/lib/python3.11/site-packages (from transformers<5.0.0,>=4.41.0->sentence-transformers>=3.0.0) (2.2.6)\n",
      "Requirement already satisfied: packaging>=20.0 in ./.venv/lib/python3.11/site-packages (from transformers<5.0.0,>=4.41.0->sentence-transformers>=3.0.0) (24.2)\n",
      "Requirement already satisfied: pyyaml>=5.1 in ./.venv/lib/python3.11/site-packages (from transformers<5.0.0,>=4.41.0->sentence-transformers>=3.0.0) (6.0.2)\n",
      "Requirement already satisfied: regex!=2019.12.17 in ./.venv/lib/python3.11/site-packages (from transformers<5.0.0,>=4.41.0->sentence-transformers>=3.0.0) (2024.11.6)\n",
      "Requirement already satisfied: requests in ./.venv/lib/python3.11/site-packages (from transformers<5.0.0,>=4.41.0->sentence-transformers>=3.0.0) (2.32.3)\n",
      "Requirement already satisfied: tokenizers<0.22,>=0.21 in ./.venv/lib/python3.11/site-packages (from transformers<5.0.0,>=4.41.0->sentence-transformers>=3.0.0) (0.21.1)\n",
      "Requirement already satisfied: safetensors>=0.4.3 in ./.venv/lib/python3.11/site-packages (from transformers<5.0.0,>=4.41.0->sentence-transformers>=3.0.0) (0.5.3)\n",
      "Requirement already satisfied: fsspec>=2023.5.0 in ./.venv/lib/python3.11/site-packages (from huggingface-hub>=0.20.0->sentence-transformers>=3.0.0) (2025.3.0)\n",
      "Requirement already satisfied: sympy>=1.13.3 in ./.venv/lib/python3.11/site-packages (from torch>=1.11.0->sentence-transformers>=3.0.0) (1.14.0)\n",
      "Requirement already satisfied: networkx in ./.venv/lib/python3.11/site-packages (from torch>=1.11.0->sentence-transformers>=3.0.0) (3.4.2)\n",
      "Requirement already satisfied: jinja2 in ./.venv/lib/python3.11/site-packages (from torch>=1.11.0->sentence-transformers>=3.0.0) (3.1.6)\n",
      "Requirement already satisfied: nvidia-cuda-nvrtc-cu12==12.6.77 in ./.venv/lib/python3.11/site-packages (from torch>=1.11.0->sentence-transformers>=3.0.0) (12.6.77)\n",
      "Requirement already satisfied: nvidia-cuda-runtime-cu12==12.6.77 in ./.venv/lib/python3.11/site-packages (from torch>=1.11.0->sentence-transformers>=3.0.0) (12.6.77)\n",
      "Requirement already satisfied: nvidia-cuda-cupti-cu12==12.6.80 in ./.venv/lib/python3.11/site-packages (from torch>=1.11.0->sentence-transformers>=3.0.0) (12.6.80)\n",
      "Requirement already satisfied: nvidia-cudnn-cu12==9.5.1.17 in ./.venv/lib/python3.11/site-packages (from torch>=1.11.0->sentence-transformers>=3.0.0) (9.5.1.17)\n",
      "Requirement already satisfied: nvidia-cublas-cu12==12.6.4.1 in ./.venv/lib/python3.11/site-packages (from torch>=1.11.0->sentence-transformers>=3.0.0) (12.6.4.1)\n",
      "Requirement already satisfied: nvidia-cufft-cu12==11.3.0.4 in ./.venv/lib/python3.11/site-packages (from torch>=1.11.0->sentence-transformers>=3.0.0) (11.3.0.4)\n",
      "Requirement already satisfied: nvidia-curand-cu12==10.3.7.77 in ./.venv/lib/python3.11/site-packages (from torch>=1.11.0->sentence-transformers>=3.0.0) (10.3.7.77)\n",
      "Requirement already satisfied: nvidia-cusolver-cu12==11.7.1.2 in ./.venv/lib/python3.11/site-packages (from torch>=1.11.0->sentence-transformers>=3.0.0) (11.7.1.2)\n",
      "Requirement already satisfied: nvidia-cusparse-cu12==12.5.4.2 in ./.venv/lib/python3.11/site-packages (from torch>=1.11.0->sentence-transformers>=3.0.0) (12.5.4.2)\n",
      "Requirement already satisfied: nvidia-cusparselt-cu12==0.6.3 in ./.venv/lib/python3.11/site-packages (from torch>=1.11.0->sentence-transformers>=3.0.0) (0.6.3)\n",
      "Requirement already satisfied: nvidia-nccl-cu12==2.26.2 in ./.venv/lib/python3.11/site-packages (from torch>=1.11.0->sentence-transformers>=3.0.0) (2.26.2)\n",
      "Requirement already satisfied: nvidia-nvtx-cu12==12.6.77 in ./.venv/lib/python3.11/site-packages (from torch>=1.11.0->sentence-transformers>=3.0.0) (12.6.77)\n",
      "Requirement already satisfied: nvidia-nvjitlink-cu12==12.6.85 in ./.venv/lib/python3.11/site-packages (from torch>=1.11.0->sentence-transformers>=3.0.0) (12.6.85)\n",
      "Requirement already satisfied: nvidia-cufile-cu12==1.11.1.6 in ./.venv/lib/python3.11/site-packages (from torch>=1.11.0->sentence-transformers>=3.0.0) (1.11.1.6)\n",
      "Requirement already satisfied: triton==3.3.0 in ./.venv/lib/python3.11/site-packages (from torch>=1.11.0->sentence-transformers>=3.0.0) (3.3.0)\n",
      "Requirement already satisfied: setuptools>=40.8.0 in ./.venv/lib/python3.11/site-packages (from triton==3.3.0->torch>=1.11.0->sentence-transformers>=3.0.0) (66.1.1)\n",
      "Requirement already satisfied: mpmath<1.4,>=1.1.0 in ./.venv/lib/python3.11/site-packages (from sympy>=1.13.3->torch>=1.11.0->sentence-transformers>=3.0.0) (1.3.0)\n",
      "Requirement already satisfied: MarkupSafe>=2.0 in ./.venv/lib/python3.11/site-packages (from jinja2->torch>=1.11.0->sentence-transformers>=3.0.0) (3.0.2)\n",
      "Requirement already satisfied: charset-normalizer<4,>=2 in ./.venv/lib/python3.11/site-packages (from requests->transformers<5.0.0,>=4.41.0->sentence-transformers>=3.0.0) (3.4.2)\n",
      "Requirement already satisfied: idna<4,>=2.5 in ./.venv/lib/python3.11/site-packages (from requests->transformers<5.0.0,>=4.41.0->sentence-transformers>=3.0.0) (3.10)\n",
      "Requirement already satisfied: urllib3<3,>=1.21.1 in ./.venv/lib/python3.11/site-packages (from requests->transformers<5.0.0,>=4.41.0->sentence-transformers>=3.0.0) (2.4.0)\n",
      "Requirement already satisfied: certifi>=2017.4.17 in ./.venv/lib/python3.11/site-packages (from requests->transformers<5.0.0,>=4.41.0->sentence-transformers>=3.0.0) (2025.4.26)\n",
      "Requirement already satisfied: joblib>=1.2.0 in ./.venv/lib/python3.11/site-packages (from scikit-learn->sentence-transformers>=3.0.0) (1.5.0)\n",
      "Requirement already satisfied: threadpoolctl>=3.1.0 in ./.venv/lib/python3.11/site-packages (from scikit-learn->sentence-transformers>=3.0.0) (3.6.0)\n",
      "Note: you may need to restart the kernel to use updated packages.\n",
      "Requirement already satisfied: hf_xet in ./.venv/lib/python3.11/site-packages (1.1.2)\n",
      "Note: you may need to restart the kernel to use updated packages.\n",
      "Requirement already satisfied: ollama-haystack==2.4.2 in ./.venv/lib/python3.11/site-packages (2.4.2)\n",
      "Requirement already satisfied: haystack-ai in ./.venv/lib/python3.11/site-packages (from ollama-haystack==2.4.2) (2.15.0rc1)\n",
      "Requirement already satisfied: ollama>=0.4.0 in ./.venv/lib/python3.11/site-packages (from ollama-haystack==2.4.2) (0.4.8)\n",
      "Requirement already satisfied: pydantic in ./.venv/lib/python3.11/site-packages (from ollama-haystack==2.4.2) (2.11.4)\n",
      "Requirement already satisfied: httpx<0.29,>=0.27 in ./.venv/lib/python3.11/site-packages (from ollama>=0.4.0->ollama-haystack==2.4.2) (0.28.1)\n",
      "Requirement already satisfied: anyio in ./.venv/lib/python3.11/site-packages (from httpx<0.29,>=0.27->ollama>=0.4.0->ollama-haystack==2.4.2) (4.9.0)\n",
      "Requirement already satisfied: certifi in ./.venv/lib/python3.11/site-packages (from httpx<0.29,>=0.27->ollama>=0.4.0->ollama-haystack==2.4.2) (2025.4.26)\n",
      "Requirement already satisfied: httpcore==1.* in ./.venv/lib/python3.11/site-packages (from httpx<0.29,>=0.27->ollama>=0.4.0->ollama-haystack==2.4.2) (1.0.9)\n",
      "Requirement already satisfied: idna in ./.venv/lib/python3.11/site-packages (from httpx<0.29,>=0.27->ollama>=0.4.0->ollama-haystack==2.4.2) (3.10)\n",
      "Requirement already satisfied: h11>=0.16 in ./.venv/lib/python3.11/site-packages (from httpcore==1.*->httpx<0.29,>=0.27->ollama>=0.4.0->ollama-haystack==2.4.2) (0.16.0)\n",
      "Requirement already satisfied: annotated-types>=0.6.0 in ./.venv/lib/python3.11/site-packages (from pydantic->ollama-haystack==2.4.2) (0.7.0)\n",
      "Requirement already satisfied: pydantic-core==2.33.2 in ./.venv/lib/python3.11/site-packages (from pydantic->ollama-haystack==2.4.2) (2.33.2)\n",
      "Requirement already satisfied: typing-extensions>=4.12.2 in ./.venv/lib/python3.11/site-packages (from pydantic->ollama-haystack==2.4.2) (4.13.2)\n",
      "Requirement already satisfied: typing-inspection>=0.4.0 in ./.venv/lib/python3.11/site-packages (from pydantic->ollama-haystack==2.4.2) (0.4.0)\n",
      "Requirement already satisfied: sniffio>=1.1 in ./.venv/lib/python3.11/site-packages (from anyio->httpx<0.29,>=0.27->ollama>=0.4.0->ollama-haystack==2.4.2) (1.3.1)\n",
      "Requirement already satisfied: docstring-parser in ./.venv/lib/python3.11/site-packages (from haystack-ai->ollama-haystack==2.4.2) (0.16)\n",
      "Requirement already satisfied: haystack-experimental in ./.venv/lib/python3.11/site-packages (from haystack-ai->ollama-haystack==2.4.2) (0.10.0)\n",
      "Requirement already satisfied: jinja2 in ./.venv/lib/python3.11/site-packages (from haystack-ai->ollama-haystack==2.4.2) (3.1.6)\n",
      "Requirement already satisfied: jsonschema in ./.venv/lib/python3.11/site-packages (from haystack-ai->ollama-haystack==2.4.2) (4.23.0)\n",
      "Requirement already satisfied: lazy-imports in ./.venv/lib/python3.11/site-packages (from haystack-ai->ollama-haystack==2.4.2) (0.4.0)\n",
      "Requirement already satisfied: more-itertools in ./.venv/lib/python3.11/site-packages (from haystack-ai->ollama-haystack==2.4.2) (10.7.0)\n",
      "Requirement already satisfied: networkx in ./.venv/lib/python3.11/site-packages (from haystack-ai->ollama-haystack==2.4.2) (3.4.2)\n",
      "Requirement already satisfied: numpy in ./.venv/lib/python3.11/site-packages (from haystack-ai->ollama-haystack==2.4.2) (2.2.6)\n",
      "Requirement already satisfied: openai>=1.56.1 in ./.venv/lib/python3.11/site-packages (from haystack-ai->ollama-haystack==2.4.2) (1.79.0)\n",
      "Requirement already satisfied: posthog!=3.12.0 in ./.venv/lib/python3.11/site-packages (from haystack-ai->ollama-haystack==2.4.2) (4.0.1)\n",
      "Requirement already satisfied: python-dateutil in ./.venv/lib/python3.11/site-packages (from haystack-ai->ollama-haystack==2.4.2) (2.9.0.post0)\n",
      "Requirement already satisfied: pyyaml in ./.venv/lib/python3.11/site-packages (from haystack-ai->ollama-haystack==2.4.2) (6.0.2)\n",
      "Requirement already satisfied: requests in ./.venv/lib/python3.11/site-packages (from haystack-ai->ollama-haystack==2.4.2) (2.32.3)\n",
      "Requirement already satisfied: tenacity!=8.4.0 in ./.venv/lib/python3.11/site-packages (from haystack-ai->ollama-haystack==2.4.2) (9.1.2)\n",
      "Requirement already satisfied: tqdm in ./.venv/lib/python3.11/site-packages (from haystack-ai->ollama-haystack==2.4.2) (4.67.1)\n",
      "Requirement already satisfied: distro<2,>=1.7.0 in ./.venv/lib/python3.11/site-packages (from openai>=1.56.1->haystack-ai->ollama-haystack==2.4.2) (1.9.0)\n",
      "Requirement already satisfied: jiter<1,>=0.4.0 in ./.venv/lib/python3.11/site-packages (from openai>=1.56.1->haystack-ai->ollama-haystack==2.4.2) (0.10.0)\n",
      "Requirement already satisfied: six>=1.5 in ./.venv/lib/python3.11/site-packages (from posthog!=3.12.0->haystack-ai->ollama-haystack==2.4.2) (1.17.0)\n",
      "Requirement already satisfied: backoff>=1.10.0 in ./.venv/lib/python3.11/site-packages (from posthog!=3.12.0->haystack-ai->ollama-haystack==2.4.2) (2.2.1)\n",
      "Requirement already satisfied: charset-normalizer<4,>=2 in ./.venv/lib/python3.11/site-packages (from requests->haystack-ai->ollama-haystack==2.4.2) (3.4.2)\n",
      "Requirement already satisfied: urllib3<3,>=1.21.1 in ./.venv/lib/python3.11/site-packages (from requests->haystack-ai->ollama-haystack==2.4.2) (2.4.0)\n",
      "Requirement already satisfied: filetype in ./.venv/lib/python3.11/site-packages (from haystack-experimental->haystack-ai->ollama-haystack==2.4.2) (1.2.0)\n",
      "Requirement already satisfied: MarkupSafe>=2.0 in ./.venv/lib/python3.11/site-packages (from jinja2->haystack-ai->ollama-haystack==2.4.2) (3.0.2)\n",
      "Requirement already satisfied: attrs>=22.2.0 in ./.venv/lib/python3.11/site-packages (from jsonschema->haystack-ai->ollama-haystack==2.4.2) (25.3.0)\n",
      "Requirement already satisfied: jsonschema-specifications>=2023.03.6 in ./.venv/lib/python3.11/site-packages (from jsonschema->haystack-ai->ollama-haystack==2.4.2) (2025.4.1)\n",
      "Requirement already satisfied: referencing>=0.28.4 in ./.venv/lib/python3.11/site-packages (from jsonschema->haystack-ai->ollama-haystack==2.4.2) (0.36.2)\n",
      "Requirement already satisfied: rpds-py>=0.7.1 in ./.venv/lib/python3.11/site-packages (from jsonschema->haystack-ai->ollama-haystack==2.4.2) (0.25.1)\n",
      "Note: you may need to restart the kernel to use updated packages.\n",
      "Requirement already satisfied: tqdm in ./.venv/lib/python3.11/site-packages (4.67.1)\n",
      "Note: you may need to restart the kernel to use updated packages.\n",
      "Requirement already satisfied: einops in ./.venv/lib/python3.11/site-packages (0.8.1)\n",
      "Note: you may need to restart the kernel to use updated packages.\n"
     ]
    }
   ],
   "source": [
    "import os\n",
    "# Setting temp dir to /srv/data directory, as it otherwise fills up the home directory too much\n",
    "# Just comment out on machines that are not \"Goober\"\n",
    "# os.environ[\"TMPDIR\"] = \"/srv/data/tmp\"\n",
    "# os.makedirs(\"/srv/data/tmp\", exist_ok=True)\n",
    "\n",
    "%pip install \"haystack-ai>=2.15.0rc1\"\n",
    "%pip install ragas-haystack\n",
    "%pip install nltk\n",
    "%pip install openai\n",
    "%pip install pandas\n",
    "%pip install ragas-haystack\n",
    "%pip install \"sentence-transformers>=3.0.0\"\n",
    "%pip install hf_xet\n",
    "%pip install \"ollama-haystack==2.4.2\"\n",
    "%pip install tqdm # For Progress Bar\n",
    "%pip install einops"
   ]
  },
  {
   "cell_type": "code",
   "execution_count": 2,
   "id": "7ef9a21e",
   "metadata": {},
   "outputs": [],
   "source": [
    "import os\n",
    "import pandas as pd\n",
    "from haystack.document_stores.in_memory import InMemoryDocumentStore\n",
    "import importlib\n",
    "from pipelines.components.evaluators import DocumentMRREvaluator, DocumentMAPEvaluator, DocumentRecallEvaluator\n",
    "from tqdm import tqdm\n",
    "tqdm.pandas()\n",
    "import logging\n",
    "\n",
    "logging.basicConfig(\n",
    "    level=logging.INFO,\n",
    "    format='%(asctime)s %(levelname)s %(message)s',\n",
    "    datefmt='%H:%M:%S'\n",
    ")"
   ]
  },
  {
   "cell_type": "code",
   "execution_count": 3,
   "id": "25347f02",
   "metadata": {},
   "outputs": [],
   "source": [
    "# from config.secret import OPENAI_API_KEY\n",
    "# os.environ[\"OPENAI_API_KEY\"] = OPENAI_API_KEY\n",
    "\n",
    "os.environ[\"EMBEDDING_MODEL_NAME\"] = \"Qwen/Qwen3-Embedding-4B\"\n",
    "os.environ[\"SENTENCE_TRANSFORMERS_HOME\"] = \"./model-assets/sentence-transformers\"\n",
    "os.environ[\"HF_HUB_CACHE\"] = \"./model-assets/hugging-face\"\n",
    "os.environ[\"EMBEDDING_MODEL_TOP_K\"] = \"10\"\n",
    "\n",
    "os.environ[\"LLM_NAME\"] = \"gemma3:12b\"\n",
    "os.environ[\"LLM_CONTEXT_SIZE\"] = \"8192\""
   ]
  },
  {
   "cell_type": "code",
   "execution_count": 4,
   "id": "24275cb1",
   "metadata": {},
   "outputs": [],
   "source": [
    "df = pd.read_pickle(\"data/qa_with_docs_flat/question_answers_docs_line_1_0_dataset_flat.pkl\")"
   ]
  },
  {
   "cell_type": "markdown",
   "id": "be9433dc",
   "metadata": {},
   "source": [
    "## Setup Retrieval Pipelines\n",
    "\n",
    "Sets up the basic / hybrid RAG pipelines. These can then be used later in combintation with the different indexing methods from before to evaluate different RAG setups."
   ]
  },
  {
   "cell_type": "code",
   "execution_count": 5,
   "id": "b496eeb4",
   "metadata": {},
   "outputs": [],
   "source": [
    "base_indexing_store = InMemoryDocumentStore.load_from_disk(f\"data/document_stores/{os.environ['EMBEDDING_MODEL_NAME']}/docs_line_1_0_base_indexing_store.json\")\n",
    "context_indexing_store = InMemoryDocumentStore.load_from_disk(f\"data/document_stores/{os.environ['EMBEDDING_MODEL_NAME']}/docs_line_1_0_context_indexing_store.json\")"
   ]
  },
  {
   "cell_type": "code",
   "execution_count": 6,
   "id": "ee775ea5",
   "metadata": {},
   "outputs": [
    {
     "data": {
      "text/plain": [
       "[Document(id=5185ded672f9760cc64f96058f6b9a7df27f7aff2d7bef6ddfae2dd661c5dc72, content: 'Die \"Schädellage\" ist die ideale Position für eine vaginale Geburt, da der Kopf des Babys zuerst geb...', meta: {'title': 'Äußere Wendung.md', 'source_id': 'b18da279-2022-47e8-a0be-835a32d2a215', 'page_number': 1, 'split_id': 0, 'split_idx_start': 0}, embedding: vector of size 2560),\n",
       " Document(id=cf66cea8dc01d863e343bdba095739a0daa1943889d83f8ce9499b4ca79237e8, content: 'Eine Beckenendlage bedeutet, dass das Baby mit dem Becken (statt mit dem Kopf) nach unten im Mutterl...', meta: {'title': 'Äußere Wendung.md', 'source_id': 'b18da279-2022-47e8-a0be-835a32d2a215', 'page_number': 1, 'split_id': 2, 'split_idx_start': 452}, embedding: vector of size 2560),\n",
       " Document(id=b73dc03408f36fb40bc97647be966f5f2b431e68ab07e2010131df3e78e0be54, content: 'Diese alternativen Methoden sind oft nicht wissenschaftlich belegt und werden von Hebammen durchgefü...', meta: {'title': 'Äußere Wendung.md', 'source_id': 'b18da279-2022-47e8-a0be-835a32d2a215', 'page_number': 1, 'split_id': 4, 'split_idx_start': 847}, embedding: vector of size 2560),\n",
       " Document(id=e605e53ff4f28422ee13870ea1a4be8a672ae83badb55490378d28a75f8a8b9e, content: 'Vor einer äußeren Wendung werden routinemäßig Blutuntersuchungen durchgeführt und ein venöser Zugang...', meta: {'title': 'Äußere Wendung.md', 'source_id': 'b18da279-2022-47e8-a0be-835a32d2a215', 'page_number': 1, 'split_id': 6, 'split_idx_start': 1567}, embedding: vector of size 2560),\n",
       " Document(id=215457cbeff81b5de998cf1678d56077669137750867441897e3e1c44d0cbe3f, content: 'Diese Voruntersuchungen sind wichtig, um die Sicherheit von Mutter und Kind zu gewährleisten und mög...', meta: {'title': 'Äußere Wendung.md', 'source_id': 'b18da279-2022-47e8-a0be-835a32d2a215', 'page_number': 1, 'split_id': 8, 'split_idx_start': 2134}, embedding: vector of size 2560),\n",
       " Document(id=96386b2440dffcbde6bd0124ae9d8f219c19bed1184c36b4e806eb04ebc6be43, content: 'Diese Voruntersuchungen umfassen Ultraschall, CTG und ggf. Doppler-Sonografie, um die Position des K...', meta: {'title': 'Äußere Wendung.md', 'source_id': 'b18da279-2022-47e8-a0be-835a32d2a215', 'page_number': 1, 'split_id': 10, 'split_idx_start': 2679}, embedding: vector of size 2560),\n",
       " Document(id=a6eaa25e50934c350b2b395628ebe3f076838871a77acd982e8be2fd2d8ff3d2, content: 'Eine rückenmarksnahe Betäubung betäubt den Unterleib, während Lachgas eine schmerzlindernde Wirkung ...', meta: {'title': 'Äußere Wendung.md', 'source_id': 'b18da279-2022-47e8-a0be-835a32d2a215', 'page_number': 1, 'split_id': 12, 'split_idx_start': 2988}, embedding: vector of size 2560),\n",
       " Document(id=42e5316808b9457eed1b32ec3d3a591b2be1d91430b7fdd213c684ba874f2175, content: 'Die Ärztin/der Arzt tastet also die Position des Kindes ab und übt gezielten Druck aus, um es in die...', meta: {'title': 'Äußere Wendung.md', 'source_id': 'b18da279-2022-47e8-a0be-835a32d2a215', 'page_number': 1, 'split_id': 14, 'split_idx_start': 3218}, embedding: vector of size 2560),\n",
       " Document(id=d57edef06e2158825e2e23557f8826f8b4a4fea2091878bc5d9e48c2949cec59, content: 'Dieser Druck entsteht durch die manuellen Bewegungen der Ärztin oder des Arztes, die versucht, das B...', meta: {'title': 'Äußere Wendung.md', 'source_id': 'b18da279-2022-47e8-a0be-835a32d2a215', 'page_number': 1, 'split_id': 16, 'split_idx_start': 3756}, embedding: vector of size 2560),\n",
       " Document(id=064c993dac0bcf7ec2a09eb03b3a873d04a4752cc0f26469cb321f465315c187, content: 'Ein CTG (Kardiotokogramm) ist eine Überwachung der kindlichen Herztöne und Wehentätigkeit. Ein Bauch...', meta: {'title': 'Äußere Wendung.md', 'source_id': 'b18da279-2022-47e8-a0be-835a32d2a215', 'page_number': 1, 'split_id': 18, 'split_idx_start': 3879}, embedding: vector of size 2560),\n",
       " Document(id=3c0694058b2aa334b287de4b8ab9d4f1895e8ae0d706251205684ae55405c264, content: 'Diese Schwangerschaftswochen sind gewählt, weil das Kind in dieser Zeit noch Platz hat, sich zu dreh...', meta: {'title': 'Äußere Wendung.md', 'source_id': 'b18da279-2022-47e8-a0be-835a32d2a215', 'page_number': 1, 'split_id': 20, 'split_idx_start': 4174}, embedding: vector of size 2560),\n",
       " Document(id=18e24584f30e4cd3e72779b47226ce8f50a57a675221e27b841bda93bdc9c588, content: 'Diese Komplikationen sind selten, aber es ist wichtig, dass Sie sich der potenziellen Risiken bewuss...', meta: {'title': 'Äußere Wendung.md', 'source_id': 'b18da279-2022-47e8-a0be-835a32d2a215', 'page_number': 1, 'split_id': 22, 'split_idx_start': 4460}, embedding: vector of size 2560),\n",
       " Document(id=23e159d20cdb12b9a5b79f27b94edc5cbf21451c5d03da7f67b2e4c5fced500e, content: 'Ein Kaiserschnitt ist ein operativer Eingriff, bei dem das Baby durch einen Schnitt in der Bauchdeck...', meta: {'title': 'Äußere Wendung.md', 'source_id': 'b18da279-2022-47e8-a0be-835a32d2a215', 'page_number': 1, 'split_id': 24, 'split_idx_start': 4754}, embedding: vector of size 2560),\n",
       " Document(id=607855f86675c4f0affee700e7aad0183b9aeda7d365eaace3125df0af1b33b3, content: 'Ein Abfall der kindlichen Herzfrequenz während der äußeren Wendung ist eine mögliche Komplikation, d...', meta: {'title': 'Äußere Wendung.md', 'source_id': 'b18da279-2022-47e8-a0be-835a32d2a215', 'page_number': 1, 'split_id': 25, 'split_idx_start': 4995}, embedding: vector of size 2560),\n",
       " Document(id=a41ff4a69157e05be80371341c1d14bdf717f66c3ffab23a3b17d64a61ef2d8a, content: 'Vorzeitiger Blasensprung bedeutet, dass die Fruchthaut, die den Mutterleib schützt, vor dem Beginn d...', meta: {'title': 'Äußere Wendung.md', 'source_id': 'b18da279-2022-47e8-a0be-835a32d2a215', 'page_number': 1, 'split_id': 26, 'split_idx_start': 5163}, embedding: vector of size 2560),\n",
       " Document(id=1e73a7dfb9c3c0849d8d43c06c816ac77cd166eb3d9f2f56222e5bc19e63eb65, content: 'Wehenhemmer werden oft verabreicht, um vorzeitige Wehen zu vermeiden. Herzrasen ist eine unerwünscht...', meta: {'title': 'Äußere Wendung.md', 'source_id': 'b18da279-2022-47e8-a0be-835a32d2a215', 'page_number': 1, 'split_id': 27, 'split_idx_start': 5288}, embedding: vector of size 2560),\n",
       " Document(id=a111529f504eb32a31cc6d9d173bd7a37af2d880d56436e5defff5e672111cbc, content: 'Hierbei wird versucht, das Baby durch gezielte Druckausübung auf den Bauch der Mutter zu drehen. Sol...', meta: {'title': 'Äußere Wendung.md', 'source_id': 'b18da279-2022-47e8-a0be-835a32d2a215', 'page_number': 1, 'split_id': 28, 'split_idx_start': 5404}, embedding: vector of size 2560),\n",
       " Document(id=9305dbd34bfb0929c19055c03a00987a8e5e341677e3d382ced83613d024955a, content: '**Fetomaternale Transfusion** bezeichnet den ungewollten Transfer von Blut vom Fötus in den mütterli...', meta: {'title': 'Äußere Wendung.md', 'source_id': 'b18da279-2022-47e8-a0be-835a32d2a215', 'page_number': 1, 'split_id': 29, 'split_idx_start': 5524}, embedding: vector of size 2560),\n",
       " Document(id=438257ce55c195285a4146b5a008d97e1415bdbd93271656befce8a52ba50fe4, content: 'Ein Kreislaufschock ist ein lebensbedrohlicher Zustand, bei dem der Körper nicht mehr ausreichend mi...', meta: {'title': 'Äußere Wendung.md', 'source_id': 'b18da279-2022-47e8-a0be-835a32d2a215', 'page_number': 1, 'split_id': 30, 'split_idx_start': 5842}, embedding: vector of size 2560),\n",
       " Document(id=1f8168c22feb6759cbb5e297223ca8614ba893ddf62e4dad3e3ff0d35bfe0d92, content: 'Diese Schäden sind zwar selten, können aber durch den Druck während der Wendung oder durch andere me...', meta: {'title': 'Äußere Wendung.md', 'source_id': 'b18da279-2022-47e8-a0be-835a32d2a215', 'page_number': 1, 'split_id': 31, 'split_idx_start': 6031}, embedding: vector of size 2560),\n",
       " Document(id=5fa70895069442ab2fbc0da12efc2d8ab09bcb7effd444b1d4caafe21b851d46, content: 'Die Erfolgswahrscheinlichkeit liegt typischerweise zwischen 50% und 60%, kann aber je nach den indiv...', meta: {'title': 'Äußere Wendung.md', 'source_id': 'b18da279-2022-47e8-a0be-835a32d2a215', 'page_number': 1, 'split_id': 33, 'split_idx_start': 6214}, embedding: vector of size 2560),\n",
       " Document(id=4d1d12af2ea256ed37d1350fb7686072bc41e843e16379a26dc307d2efb1dc9c, content: 'Dies bedeutet, dass bei einem fehlgeschlagenen ersten Wendungsversuch nicht automatisch aufgegeben w...', meta: {'title': 'Äußere Wendung.md', 'source_id': 'b18da279-2022-47e8-a0be-835a32d2a215', 'page_number': 1, 'split_id': 35, 'split_idx_start': 6452}, embedding: vector of size 2560),\n",
       " Document(id=be96b82a37575f272ca193ed53d1b0305768de1625d8550170a226795795445c, content: 'Dies bedeutet, dass eine erfolgreiche Wendung nicht unbedingt die endgültige Lösung ist und weitere ...', meta: {'title': 'Äußere Wendung.md', 'source_id': 'b18da279-2022-47e8-a0be-835a32d2a215', 'page_number': 1, 'split_id': 37, 'split_idx_start': 6585}, embedding: vector of size 2560),\n",
       " Document(id=a1648c61e340b613bebf2c20a293b7e8627767373fd03dcfb639608ccd2d2216, content: '**Plazenta praevia** bedeutet, dass die Plazenta den Gebärmutterhals bedeckt, während **Vasa praevia...', meta: {'title': 'Äußere Wendung.md', 'source_id': 'b18da279-2022-47e8-a0be-835a32d2a215', 'page_number': 1, 'split_id': 39, 'split_idx_start': 6803}, embedding: vector of size 2560),\n",
       " Document(id=e56a259458afcc3fd582b6e20a3c1fbfb5c6df3900c0f2e2a1292842f201bbd7, content: '**Dopplerwerte** geben Aufschluss über die Blutversorgung des Kindes. **Vasa praevia** bezeichnet ei...', meta: {'title': 'Äußere Wendung.md', 'source_id': 'b18da279-2022-47e8-a0be-835a32d2a215', 'page_number': 1, 'split_id': 41, 'split_idx_start': 7029}, embedding: vector of size 2560),\n",
       " Document(id=4699a1ae0b8b2601ac47af884c7821000f47c80bbb79db22ec123269ba7b214d, content: 'Rhesus-negative Mütter haben eine andere Blutgruppe, die zu einer Reaktion des Immunsystems führen k...', meta: {'title': 'Äußere Wendung.md', 'source_id': 'b18da279-2022-47e8-a0be-835a32d2a215', 'page_number': 1, 'split_id': 43, 'split_idx_start': 7534}, embedding: vector of size 2560),\n",
       " Document(id=10b2fa2092dc72637e7e675ff68c90d585132de74ba3fd510f5cdc7fa6e12851, content: 'Der Mutterpass enthält wichtige Informationen über Ihre Schwangerschaft, wie z.B. Blutgruppe, Vorerk...', meta: {'title': 'Äußere Wendung.md', 'source_id': 'b18da279-2022-47e8-a0be-835a32d2a215', 'page_number': 1, 'split_id': 45, 'split_idx_start': 7864}, embedding: vector of size 2560),\n",
       " Document(id=e697be4e9341d7b49c96c1590f6e7c42e3f6072a42b55c2b90785814a284259a, content: 'Dies dient der Vorbereitung auf einen eventuellen Kaiserschnitt, der im Notfall durchgeführt werden ...', meta: {'title': 'Äußere Wendung.md', 'source_id': 'b18da279-2022-47e8-a0be-835a32d2a215', 'page_number': 1, 'split_id': 47, 'split_idx_start': 7937}, embedding: vector of size 2560),\n",
       " Document(id=7d85b306feaf08cf82475561686a9149e4542393ce515bd233b70ca5437378c5, content: 'Es gibt verschiedene Arten von Kaiserschnitten, die sich in ihrer Dringlichkeit unterscheiden: gepla...', meta: {'title': 'Kaiserschnitt.md', 'source_id': 'a561cc97-9c08-4581-8847-a7c866056712', 'page_number': 1, 'split_id': 0, 'split_idx_start': 0}, embedding: vector of size 2560),\n",
       " Document(id=75661f200ecfb10e2874b3792f2d818c307bb1a4f0ccad98ac474ceed0bc670a, content: 'Ein geplanter Kaiserschnitt wird im Voraus festgelegt und ist nicht durch eine Notfallsituation bedi...', meta: {'title': 'Kaiserschnitt.md', 'source_id': 'a561cc97-9c08-4581-8847-a7c866056712', 'page_number': 1, 'split_id': 2, 'split_idx_start': 438}, embedding: vector of size 2560),\n",
       " Document(id=53b95fccbb79a8483bcf9ad32be5c162f59b1cba7e2dfe0266fc2722a2fb18e6, content: 'Ein dringlicher Kaiserschnitt wird durchgeführt, wenn während der Geburt Komplikationen auftreten, d...', meta: {'title': 'Kaiserschnitt.md', 'source_id': 'a561cc97-9c08-4581-8847-a7c866056712', 'page_number': 1, 'split_id': 3, 'split_idx_start': 572}, embedding: vector of size 2560),\n",
       " Document(id=8546897046d6bb55894a9b0a21e54ecedc2b9eabc26fb0b097c721f77692bb86, content: 'Ein Notfallkaiserschnitt ist die dringlichste Form und wird durchgeführt, wenn Mutter oder Kind in u...', meta: {'title': 'Kaiserschnitt.md', 'source_id': 'a561cc97-9c08-4581-8847-a7c866056712', 'page_number': 1, 'split_id': 4, 'split_idx_start': 733}, embedding: vector of size 2560),\n",
       " Document(id=8a69139e205071810d3b71548a742f5f1d2e6bc662288f71de48ab7b4d760069, content: 'Eine Beckenendlage bedeutet, dass das Baby mit den Füßen oder dem Gesäß nach unten liegt. Dies kann ...', meta: {'title': 'Kaiserschnitt.md', 'source_id': 'a561cc97-9c08-4581-8847-a7c866056712', 'page_number': 1, 'split_id': 6, 'split_idx_start': 937}, embedding: vector of size 2560),\n",
       " Document(id=3eb5ab27d39bced36ea4b6ccda0b2ec13af03e11b4ee84131452101dec480ed1, content: 'Dies bedeutet, dass Sie während des Kaiserschnitts wach sein und das Baby kommen sehen können, oder ...', meta: {'title': 'Kaiserschnitt.md', 'source_id': 'a561cc97-9c08-4581-8847-a7c866056712', 'page_number': 1, 'split_id': 8, 'split_idx_start': 1410}, embedding: vector of size 2560),\n",
       " Document(id=f960e3bc37c76e62ea70e5fa1138e19f3fc99fa168ab394f1d836e6db42fa25c, content: 'Ein Katheter dient dazu, die Blase vor dem Eingriff zu entleeren, um den operativen Eingriff zu erle...', meta: {'title': 'Kaiserschnitt.md', 'source_id': 'a561cc97-9c08-4581-8847-a7c866056712', 'page_number': 1, 'split_id': 10, 'split_idx_start': 1606}, embedding: vector of size 2560),\n",
       " Document(id=276593537d1de90e630b181b6654fbbd246fdd41364e4cb4bad98081cb29b48e, content: 'Antibiotika werden vor dem Kaiserschnitt verabreicht, um das Risiko einer Infektion an der Operation...', meta: {'title': 'Kaiserschnitt.md', 'source_id': 'a561cc97-9c08-4581-8847-a7c866056712', 'page_number': 1, 'split_id': 12, 'split_idx_start': 1794}, embedding: vector of size 2560),\n",
       " Document(id=df69e293793a99c50d03d6d3d8eb2b4405cfa5c7f0d6329ca9396792495a6b04, content: 'Um die Heilung zu fördern und Komplikationen zu reduzieren, wird das Gewebe während des Eingriffs na...', meta: {'title': 'Kaiserschnitt.md', 'source_id': 'a561cc97-9c08-4581-8847-a7c866056712', 'page_number': 1, 'split_id': 14, 'split_idx_start': 1876}, embedding: vector of size 2560),\n",
       " Document(id=7cecd7209d555860085bab7f91f67962192bbdc896a3ff2f5417f2b9af3bf25a, content: 'Drainagen sind Schläuche, die in die Wunde gelegt werden, um Flüssigkeit abzuleiten. Sie werden nur ...', meta: {'title': 'Kaiserschnitt.md', 'source_id': 'a561cc97-9c08-4581-8847-a7c866056712', 'page_number': 1, 'split_id': 16, 'split_idx_start': 2460}, embedding: vector of size 2560),\n",
       " Document(id=4af9c5015b6271792c888061af8be3df5e4aae273e54d63f35bd068ef95e52a5, content: 'Um das Baby zu entbinden, kann es notwendig sein, den Kopf des Kindes während des Eingriffs zurückzu...', meta: {'title': 'Kaiserschnitt.md', 'source_id': 'a561cc97-9c08-4581-8847-a7c866056712', 'page_number': 1, 'split_id': 18, 'split_idx_start': 2627}, embedding: vector of size 2560),\n",
       " Document(id=e4589af7ea8201dfcc7d834beb5e875870d13e772eb080487f64fed86106e9f4, content: 'Wenn der Muttermund (Gebärmutterhals) zum Zeitpunkt des Kaiserschnitts geschlossen ist, kann er währ...', meta: {'title': 'Kaiserschnitt.md', 'source_id': 'a561cc97-9c08-4581-8847-a7c866056712', 'page_number': 1, 'split_id': 20, 'split_idx_start': 3053}, embedding: vector of size 2560),\n",
       " Document(id=4fd53aa1f81f0c669d0685ebb8208fbdb89e6dcde76aff98137d6b680819e25d, content: 'Bei Komplikationen wie einer schwerlösbar Plazenta oder unkontrollierbaren Blutungen kann eine Hyste...', meta: {'title': 'Kaiserschnitt.md', 'source_id': 'a561cc97-9c08-4581-8847-a7c866056712', 'page_number': 1, 'split_id': 22, 'split_idx_start': 3232}, embedding: vector of size 2560),\n",
       " Document(id=7dcf1afd8141cdbbd186c80f0af57d2cd3509a11427d44255c5fcbc2033a6157, content: 'Diese Maßnahme verhindert, dass die Mutter in späteren Schwangerschaften Antikörper gegen das Rhesus...', meta: {'title': 'Kaiserschnitt.md', 'source_id': 'a561cc97-9c08-4581-8847-a7c866056712', 'page_number': 1, 'split_id': 24, 'split_idx_start': 3764}, embedding: vector of size 2560),\n",
       " Document(id=1d0fb36808af3702c6e241c13381386d08d33de1dae7e0a3df54d79b0ed83674, content: 'Diese Kombination ist möglich, sollte aber gut überlegt sein, da eine Sterilisation eine dauerhafte ...', meta: {'title': 'Kaiserschnitt.md', 'source_id': 'a561cc97-9c08-4581-8847-a7c866056712', 'page_number': 1, 'split_id': 26, 'split_idx_start': 4018}, embedding: vector of size 2560),\n",
       " Document(id=e2470fa5236713d337d7a877ee5b7536936185b77c440e549a2a874088a94552, content: 'Dieser Abschnitt listet mögliche Komplikationen auf, die bei einem Kaiserschnitt auftreten können. D...', meta: {'title': 'Kaiserschnitt.md', 'source_id': 'a561cc97-9c08-4581-8847-a7c866056712', 'page_number': 1, 'split_id': 28, 'split_idx_start': 4382}, embedding: vector of size 2560),\n",
       " Document(id=5e04b80badd5741ee5514c0c853f3a313fcb6f1eef9c4ca113e3846bb6408579, content: 'Bei der Operation können Blutgefäße, Harnblase, Darm oder Magen verletzt werden. Dies kann weitere E...', meta: {'title': 'Kaiserschnitt.md', 'source_id': 'a561cc97-9c08-4581-8847-a7c866056712', 'page_number': 1, 'split_id': 30, 'split_idx_start': 4713}, embedding: vector of size 2560),\n",
       " Document(id=84cd90b2faf13a6c57215f0b9257885fa176b4936e8ef2d0d390af6edab56bd9, content: 'Diese Verletzungen können zusätzliche Eingriffe erfordern, um die Schäden zu beheben und die Funktio...', meta: {'title': 'Kaiserschnitt.md', 'source_id': 'a561cc97-9c08-4581-8847-a7c866056712', 'page_number': 1, 'split_id': 31, 'split_idx_start': 4747}, embedding: vector of size 2560),\n",
       " Document(id=33df56bcb11b6f36757e5a5d7a0176af364b531ef920ae61ee7ba850afe2a8c9, content: 'Massive Blutverluste können eine Bluttransfusion erforderlich machen. In besonderen Fällen kann eine...', meta: {'title': 'Kaiserschnitt.md', 'source_id': 'a561cc97-9c08-4581-8847-a7c866056712', 'page_number': 1, 'split_id': 33, 'split_idx_start': 5086}, embedding: vector of size 2560),\n",
       " Document(id=8dcba8eb320d47a9fa5b04d0ca8161dbca81fb5c0b54f1b4a96acffb2c24a3f3, content: 'Bei starken Blutverlusten kann eine Bluttransfusion notwendig werden. In seltenen Fällen, beispielsw...', meta: {'title': 'Kaiserschnitt.md', 'source_id': 'a561cc97-9c08-4581-8847-a7c866056712', 'page_number': 1, 'split_id': 34, 'split_idx_start': 5123}, embedding: vector of size 2560),\n",
       " Document(id=7f6873637c26784a2e00c76670cbaf3bc7039a625d9a49784a6527f7efaae74e, content: 'Wenn sich die Gebärmutter nach der Entbindung nicht ausreichend zusammenzieht, kann dies zu starkem ...', meta: {'title': 'Kaiserschnitt.md', 'source_id': 'a561cc97-9c08-4581-8847-a7c866056712', 'page_number': 1, 'split_id': 36, 'split_idx_start': 5596}, embedding: vector of size 2560),\n",
       " Document(id=c168f9e68347076d2f8d964631a9945a8871a4b49f2db114313fdcdb10ce6bb4, content: 'Wenn die Gebärmutter sich nach der Entbindung nicht ausreichend zusammenzieht (Atonie), kann dies zu...', meta: {'title': 'Kaiserschnitt.md', 'source_id': 'a561cc97-9c08-4581-8847-a7c866056712', 'page_number': 1, 'split_id': 37, 'split_idx_start': 5642}, embedding: vector of size 2560),\n",
       " Document(id=6fb21e312b126706c794a76119894d1de26ad87eb5b23f8aef4e5993469c97ac, content: 'Eine vorübergehende Störung der Blasenentleerung ist nach einem Kaiserschnitt möglich und wird meist...', meta: {'title': 'Kaiserschnitt.md', 'source_id': 'a561cc97-9c08-4581-8847-a7c866056712', 'page_number': 1, 'split_id': 39, 'split_idx_start': 5995}, embedding: vector of size 2560),\n",
       " Document(id=bee17e57498b1853972551758ccd1787b8d8ca3c33231aa3719df5c1077304be, content: 'Ein Katheter wird nach dem Kaiserschnitt oft gelegt, um die Blase zu entleeren. Sollte dieser länger...', meta: {'title': 'Kaiserschnitt.md', 'source_id': 'a561cc97-9c08-4581-8847-a7c866056712', 'page_number': 1, 'split_id': 40, 'split_idx_start': 6021}, embedding: vector of size 2560),\n",
       " Document(id=655988e6cec91e59acc1315cb704a3d2a427cc8087e06b30f07537cf481cfdc9, content: 'Infektionen können die Gebärmutter, Harnwege, das Bauchfell oder die Lunge betreffen. Diese werden m...', meta: {'title': 'Kaiserschnitt.md', 'source_id': 'a561cc97-9c08-4581-8847-a7c866056712', 'page_number': 1, 'split_id': 42, 'split_idx_start': 6261}, embedding: vector of size 2560),\n",
       " Document(id=1989c198b556e840490593ce29832a6753dd667b8927c241676bcc503664a8aa, content: 'Eine Sepsis ist eine schwere, lebensbedrohliche Reaktion des Körpers auf eine Infektion. Sie entsteh...', meta: {'title': 'Kaiserschnitt.md', 'source_id': 'a561cc97-9c08-4581-8847-a7c866056712', 'page_number': 1, 'split_id': 43, 'split_idx_start': 6274}, embedding: vector of size 2560),\n",
       " Document(id=8926de03893ab8697bed4bdda1ad9032b1da8e85284b864a1ae31e89ba87687f, content: 'Bei ausgedehnter Gebärmutter- oder Bauchraumentzündung kann eine erneute Operation notwendig sein, g...', meta: {'title': 'Kaiserschnitt.md', 'source_id': 'a561cc97-9c08-4581-8847-a7c866056712', 'page_number': 1, 'split_id': 45, 'split_idx_start': 6576}, embedding: vector of size 2560),\n",
       " Document(id=0430f843a11aa205a1a288c814dad12f25ccb8ed1e45a862e14d0b51c5b09a3f, content: 'Dies bedeutet, dass die Frau nach dem Eingriff unfruchtbar wird und Symptome erlebt, die denen der n...', meta: {'title': 'Kaiserschnitt.md', 'source_id': 'a561cc97-9c08-4581-8847-a7c866056712', 'page_number': 1, 'split_id': 46, 'split_idx_start': 6612}, embedding: vector of size 2560),\n",
       " Document(id=ce8211c6bfffc86b91f9ba5ab6c919548b61dcb41e1ac613460152a63b53c593, content: 'Wundheilungsstörungen können zu Infektionen, Narbenbrüchen oder Narbenendometriose führen. Diese Kom...', meta: {'title': 'Kaiserschnitt.md', 'source_id': 'a561cc97-9c08-4581-8847-a7c866056712', 'page_number': 1, 'split_id': 48, 'split_idx_start': 6879}, embedding: vector of size 2560),\n",
       " Document(id=8882e891cc1b275a966aaac6093d2bbbd42e75f6d7170197ab987a3bc30ff573, content: 'Narbenendometriose entsteht, wenn Zellen der Gebärmutterschleimhaut in der OP-Narbe oder im Bauchrau...', meta: {'title': 'Kaiserschnitt.md', 'source_id': 'a561cc97-9c08-4581-8847-a7c866056712', 'page_number': 1, 'split_id': 49, 'split_idx_start': 6902}, embedding: vector of size 2560),\n",
       " Document(id=80ea195f7b82ae3be8846a73d6a5adfab8950e2619ced3a36e54df14ae057afa, content: 'Eileiterschädigungen können in seltenen Fällen auftreten, wenn Entzündungen die Eileiter verkleben, ...', meta: {'title': 'Kaiserschnitt.md', 'source_id': 'a561cc97-9c08-4581-8847-a7c866056712', 'page_number': 1, 'split_id': 51, 'split_idx_start': 7165}, embedding: vector of size 2560),\n",
       " Document(id=b940e843435b02f595236f117b450b783f1e36e1010b3b01ee7e6d3b4d20f07d, content: 'Eileiterschwangerschaften entstehen, wenn sich eine befruchtete Eizelle außerhalb der Gebärmutter, m...', meta: {'title': 'Kaiserschnitt.md', 'source_id': 'a561cc97-9c08-4581-8847-a7c866056712', 'page_number': 1, 'split_id': 52, 'split_idx_start': 7187}, embedding: vector of size 2560),\n",
       " Document(id=2144d9944e8b18bee36f363d667fbb1b4b0d01bb3ecb9beebc4b6317f7c7d52e, content: 'Durch Verwachsungen im Bauchraum kann – auch Jahre später – ein Darmverschluss entstehen. Hier kann ...', meta: {'title': 'Kaiserschnitt.md', 'source_id': 'a561cc97-9c08-4581-8847-a7c866056712', 'page_number': 1, 'split_id': 54, 'split_idx_start': 7336}, embedding: vector of size 2560),\n",
       " Document(id=5bfdf8f2aef44e69487cf391f4d7817180b1f56fc6239446f13d6ecd8cbd3d15, content: 'Verwachsungen sind abnorme Bindegewebsbildungen, die nach Operationen entstehen können. Sie können O...', meta: {'title': 'Kaiserschnitt.md', 'source_id': 'a561cc97-9c08-4581-8847-a7c866056712', 'page_number': 1, 'split_id': 55, 'split_idx_start': 7352}, embedding: vector of size 2560),\n",
       " Document(id=5b7a671c11b2fa45e30330cb49eb2d064ce78aa2efbc3aa3bb428b662a55c555, content: 'Nach der Operation kann es zur Bildung von Blutgerinnseln kommen, die in die Lunge gelangen und eine...', meta: {'title': 'Kaiserschnitt.md', 'source_id': 'a561cc97-9c08-4581-8847-a7c866056712', 'page_number': 1, 'split_id': 57, 'split_idx_start': 7492}, embedding: vector of size 2560),\n",
       " Document(id=3cb0fc899bcad5dcc5dbb8c79a4a74caa88e55e7f6d2a625a14023672016e768, content: 'Blutgerinnsel können sich in den Venen bilden und bei einer Lungenembolie lebensbedrohlich werden. U...', meta: {'title': 'Kaiserschnitt.md', 'source_id': 'a561cc97-9c08-4581-8847-a7c866056712', 'page_number': 1, 'split_id': 58, 'split_idx_start': 7515}, embedding: vector of size 2560),\n",
       " Document(id=3682f9c6a5b90b6abdd5a674c5fa86e59690dfa816b9fc1a3e51c67fea88adf7, content: 'Eine Fruchtwasserembolie ist ein sehr seltenes, aber lebensbedrohliches Ereignis, bei dem Fruchtwass...', meta: {'title': 'Kaiserschnitt.md', 'source_id': 'a561cc97-9c08-4581-8847-a7c866056712', 'page_number': 1, 'split_id': 60, 'split_idx_start': 7874}, embedding: vector of size 2560),\n",
       " Document(id=3230c5bca28aae1a3b985d2479b729758051c9a6815fce10b7d4f4c97ea21597, content: 'Dies wird als Fruchtwasserembolie bezeichnet und ist ein medizinischer Notfall, der sofortige und in...', meta: {'title': 'Kaiserschnitt.md', 'source_id': 'a561cc97-9c08-4581-8847-a7c866056712', 'page_number': 1, 'split_id': 61, 'split_idx_start': 7895}, embedding: vector of size 2560),\n",
       " Document(id=0c39834c32948913b0c17c83ba5da8c7136923d888c9e7c6f50cbb6ea5c59a48, content: 'Durch Lagerung während des Eingriffs oder begleitende Maßnahmen (z.B. Einspritzungen) kann es zu Ner...', meta: {'title': 'Kaiserschnitt.md', 'source_id': 'a561cc97-9c08-4581-8847-a7c866056712', 'page_number': 1, 'split_id': 63, 'split_idx_start': 8067}, embedding: vector of size 2560),\n",
       " Document(id=e677653e1a076388a4f349b10ddecd4d633fa61096f54af8a64d7fcff248a658, content: 'Diese Komplikationen sind selten, entstehen aber durch Druck oder Reizung während des Eingriffs. Sie...', meta: {'title': 'Kaiserschnitt.md', 'source_id': 'a561cc97-9c08-4581-8847-a7c866056712', 'page_number': 1, 'split_id': 64, 'split_idx_start': 8108}, embedding: vector of size 2560),\n",
       " Document(id=6bbb5e5e21112d85312564671abe46053df9f8061353c4d1c36e1647a9657e19, content: 'Reaktionen auf Medikamente, Latex oder Desinfektionsmittel können im Extremfall zu einem akuten Krei...', meta: {'title': 'Kaiserschnitt.md', 'source_id': 'a561cc97-9c08-4581-8847-a7c866056712', 'page_number': 1, 'split_id': 66, 'split_idx_start': 8384}, embedding: vector of size 2560),\n",
       " Document(id=cb30dcda93dcd913ccb89d9ed663f01292414148d57571a174512730dcfb8434, content: 'Allergische Reaktionen können schwerwiegend sein und erfordern eine sofortige Behandlung. Mögliche A...', meta: {'title': 'Kaiserschnitt.md', 'source_id': 'a561cc97-9c08-4581-8847-a7c866056712', 'page_number': 1, 'split_id': 67, 'split_idx_start': 8419}, embedding: vector of size 2560),\n",
       " Document(id=e68b6c4525ca1dc70b7d7f929bbce628a64c4909b1c63a5c15f74e075c3794db, content: 'Narbenendometriose entsteht, wenn Zellen der Gebärmutterschleimhaut in der OP-Narbe oder im Bauchrau...', meta: {'title': 'Kaiserschnitt.md', 'source_id': 'a561cc97-9c08-4581-8847-a7c866056712', 'page_number': 1, 'split_id': 69, 'split_idx_start': 8633}, embedding: vector of size 2560),\n",
       " Document(id=b4a0ce0defe3903750f3565f4520637032c0349b8dc5d0c953b77c8a91499bb1, content: 'Dies nennt man Narbenendometriose und kann zu Schmerzen und Fruchtbarkeitsproblemen führen. Die Zell...', meta: {'title': 'Kaiserschnitt.md', 'source_id': 'a561cc97-9c08-4581-8847-a7c866056712', 'page_number': 1, 'split_id': 70, 'split_idx_start': 8653}, embedding: vector of size 2560),\n",
       " Document(id=d98c34229dc779d3a8e7f32ee036d785f73bc64030589e132ae487b1daf71d10, content: 'Durch die Schwangerschaft können die geraden Bauchmuskeln auseinanderweichen (Rektusdiastase). In ma...', meta: {'title': 'Kaiserschnitt.md', 'source_id': 'a561cc97-9c08-4581-8847-a7c866056712', 'page_number': 1, 'split_id': 72, 'split_idx_start': 8833}, embedding: vector of size 2560),\n",
       " Document(id=f7592782cbcd7188b582b48101886fac12335cf2e89fcc2cb7e82326e83afe62, content: 'Ein Narbenbruch entsteht, wenn die Bauchmuskeln sich nach der Schwangerschaft nicht vollständig schl...', meta: {'title': 'Kaiserschnitt.md', 'source_id': 'a561cc97-9c08-4581-8847-a7c866056712', 'page_number': 1, 'split_id': 73, 'split_idx_start': 8865}, embedding: vector of size 2560),\n",
       " Document(id=3f3850b7eaf5ce208a32c2681f191d3ce0a44f460093bb2297459846316bb62c, content: 'Diese Risiken umfassen Anpassungsstörungen nach der Geburt, Geburtsverletzungen und möglicherweise l...', meta: {'title': 'Kaiserschnitt.md', 'source_id': 'a561cc97-9c08-4581-8847-a7c866056712', 'page_number': 1, 'split_id': 75, 'split_idx_start': 9080}, embedding: vector of size 2560),\n",
       " Document(id=ea6cea88ce3c6c0d26e52f2cc88bfa124c4f60805e21294d70b85a11c9289a6f, content: 'Kinder, die per Kaiserschnitt geboren werden, zeigen häufiger vorübergehende Probleme bei der Umstel...', meta: {'title': 'Kaiserschnitt.md', 'source_id': 'a561cc97-9c08-4581-8847-a7c866056712', 'page_number': 1, 'split_id': 77, 'split_idx_start': 9241}, embedding: vector of size 2560),\n",
       " Document(id=d71a771caad9068297bdd24e0cf86591360036ea5cffd32147f8a930a87c0c85, content: 'Kinder, die per Kaiserschnitt geboren werden, können Anpassungsschwierigkeiten haben, da sie den nat...', meta: {'title': 'Kaiserschnitt.md', 'source_id': 'a561cc97-9c08-4581-8847-a7c866056712', 'page_number': 1, 'split_id': 78, 'split_idx_start': 9278}, embedding: vector of size 2560),\n",
       " Document(id=aad27ea4ab65aef49810780149bd2b14c0032964800792498774bd3561f87455, content: 'Geburtsverletzungen können sowohl beim Kind als auch bei der Mutter auftreten. Beim Kind können Druc...', meta: {'title': 'Kaiserschnitt.md', 'source_id': 'a561cc97-9c08-4581-8847-a7c866056712', 'page_number': 1, 'split_id': 80, 'split_idx_start': 9680}, embedding: vector of size 2560),\n",
       " Document(id=4e8da1d294a524aea3df17b583f7d669e2dcd75246902c4e6be6612347189d05, content: 'Diese Verletzungen entstehen während des Kaiserschnitts, wenn das Kind nicht optimal positioniert is...', meta: {'title': 'Kaiserschnitt.md', 'source_id': 'a561cc97-9c08-4581-8847-a7c866056712', 'page_number': 1, 'split_id': 81, 'split_idx_start': 9701}, embedding: vector of size 2560),\n",
       " Document(id=34e1e6dd9fbc4d1f51b00259be1fbf72e567c6451b985aecdc40349074cb828b, content: 'Beim Kaiserschnitt kann es sehr selten zu kleinen Verletzungen der kindlichen Haut kommen, die meist...', meta: {'title': 'Kaiserschnitt.md', 'source_id': 'a561cc97-9c08-4581-8847-a7c866056712', 'page_number': 1, 'split_id': 83, 'split_idx_start': 9970}, embedding: vector of size 2560),\n",
       " Document(id=c0c99af0e856a474fedd6df79369867da129abeb4091bf14c0f19763311aaa79, content: 'Diese Verletzungen entstehen während des Kaiserschnitts und sind selten. Sollte eine Naht notwendig ...', meta: {'title': 'Kaiserschnitt.md', 'source_id': 'a561cc97-9c08-4581-8847-a7c866056712', 'page_number': 1, 'split_id': 84, 'split_idx_start': 9991}, embedding: vector of size 2560),\n",
       " Document(id=e0351b8aef90cf2f3340e89d8095657cdeed41eba77e9d594d3e565fa5eddc5d, content: 'Auch bei einem Kaiserschnitt kann unter Umständen eine Saugglocke oder Zange zum Einsatz kommen, um ...', meta: {'title': 'Kaiserschnitt.md', 'source_id': 'a561cc97-9c08-4581-8847-a7c866056712', 'page_number': 1, 'split_id': 86, 'split_idx_start': 10214}, embedding: vector of size 2560),\n",
       " Document(id=0db7dae4237a6435ddd1421ea067b6b14eb8a0a0a52f7037cebb10e936628043, content: 'Diese Instrumente werden nur dann eingesetzt, wenn das Baby während des Kaiserschnitts nicht auf nat...', meta: {'title': 'Kaiserschnitt.md', 'source_id': 'a561cc97-9c08-4581-8847-a7c866056712', 'page_number': 1, 'split_id': 87, 'split_idx_start': 10249}, embedding: vector of size 2560),\n",
       " Document(id=b181d154e364f51b993c892c46b693d9ac8807ba3d1ec1d6c7b3580d3a0ed303, content: 'Es gibt Hinweise darauf, dass per Kaiserschnitt geborene Kinder möglicherweise häufiger an bestimmte...', meta: {'title': 'Kaiserschnitt.md', 'source_id': 'a561cc97-9c08-4581-8847-a7c866056712', 'page_number': 1, 'split_id': 89, 'split_idx_start': 10473}, embedding: vector of size 2560),\n",
       " Document(id=9b4d7887e2ddb5ffea8d8ddb9c4d2b867025b261dd41758e27105ee29aee5b3f, content: 'Obwohl Kaiserschnitte häufig durchgeführt werden, gibt es Hinweise auf mögliche langfristige Auswirk...', meta: {'title': 'Kaiserschnitt.md', 'source_id': 'a561cc97-9c08-4581-8847-a7c866056712', 'page_number': 1, 'split_id': 90, 'split_idx_start': 10513}, embedding: vector of size 2560),\n",
       " Document(id=6ee916835707bcc25c9071b98219d079b0d6b1e4ba4a41583f4ac23c150de56e, content: 'Nach einem Kaiserschnitt ist eine weitere Schwangerschaft und Geburt möglich, wobei die Entscheidung...', meta: {'title': 'Kaiserschnitt.md', 'source_id': 'a561cc97-9c08-4581-8847-a7c866056712', 'page_number': 1, 'split_id': 92, 'split_idx_start': 10836}, embedding: vector of size 2560),\n",
       " Document(id=fc4b2fc0b031364b77a434dfcd0237d9add70be5d0e4217cf3311cb93068e77e, content: 'Für eine vaginale Geburt nach vorangegangenem Kaiserschnitt müssen bestimmte Voraussetzungen erfüllt...', meta: {'title': 'Kaiserschnitt.md', 'source_id': 'a561cc97-9c08-4581-8847-a7c866056712', 'page_number': 1, 'split_id': 94, 'split_idx_start': 11141}, embedding: vector of size 2560),\n",
       " Document(id=62807e81ecd010065a5f66a73c9d28b6e0bf7bc13386073c73b3b63c43ba35b6, content: 'Eine vaginale Geburt nach Kaiserschnitt (Spontan-Kaiserschnitt) ist möglich, erfordert aber bestimmt...', meta: {'title': 'Kaiserschnitt.md', 'source_id': 'a561cc97-9c08-4581-8847-a7c866056712', 'page_number': 1, 'split_id': 95, 'split_idx_start': 11175}, embedding: vector of size 2560),\n",
       " Document(id=bb3d8543fffc4af8aab8c154009ad8334e8709d682fd573dd3f7bf5910d3fe63, content: 'Ein Gebärmutterriss ist das Öffnen der alten Kaiserschnittnarbe während einer nachfolgenden Geburt. ...', meta: {'title': 'Kaiserschnitt.md', 'source_id': 'a561cc97-9c08-4581-8847-a7c866056712', 'page_number': 1, 'split_id': 97, 'split_idx_start': 11581}, embedding: vector of size 2560),\n",
       " Document(id=a9c6ce3e6b9ef546b5e7f6bcdc5aabaf2725fe0ae2d4a0a54f82498c0a92c5c4, content: 'Dies nennt man Gebärmutterriss (Uterusruptur) und ist ein Notfall, der sofortige medizinische Hilfe ...', meta: {'title': 'Kaiserschnitt.md', 'source_id': 'a561cc97-9c08-4581-8847-a7c866056712', 'page_number': 1, 'split_id': 98, 'split_idx_start': 11613}, embedding: vector of size 2560),\n",
       " Document(id=ba0e5e9dafff5650a0fdf4e7bbea9cc4b47c7f3c2f83dea325f987be27f0af4a, content: 'Dies bedeutet, dass bei einer Frau, die bereits mehrere Kaiserschnitte hatte, das Risiko für Komplik...', meta: {'title': 'Kaiserschnitt.md', 'source_id': 'a561cc97-9c08-4581-8847-a7c866056712', 'page_number': 1, 'split_id': 100, 'split_idx_start': 11857}, embedding: vector of size 2560),\n",
       " Document(id=8d5d438bc21a571b68f285be7cf0af0c2466c15c32bcfdd7bca8c1f7facf9dab, content: 'Eine Erweiterung der Gebärmutterschnittführung bedeutet, dass der ursprüngliche, quer verlaufende Sc...', meta: {'title': 'Kaiserschnitt.md', 'source_id': 'a561cc97-9c08-4581-8847-a7c866056712', 'page_number': 1, 'split_id': 101, 'split_idx_start': 11900}, embedding: vector of size 2560),\n",
       " Document(id=bdd4138de9f8bc39d7432f4bf8466f1765be16908252cae323900653679fd9f9, content: 'Dies bedeutet, dass ein zu kurzer Zeitraum zwischen zwei Kaiserschnitten das Risiko eines Gebärmutte...', meta: {'title': 'Kaiserschnitt.md', 'source_id': 'a561cc97-9c08-4581-8847-a7c866056712', 'page_number': 1, 'split_id': 102, 'split_idx_start': 11973}, embedding: vector of size 2560),\n",
       " Document(id=3cd9fd0c6e13a9c2144951a38f80a4a1c228a93601f8692a3f2f2011a155b88b, content: 'Geburtseinleitung erhöht das Risiko eines Risses der alten Kaiserschnittnarbe. Dies stellt einen Not...', meta: {'title': 'Kaiserschnitt.md', 'source_id': 'a561cc97-9c08-4581-8847-a7c866056712', 'page_number': 1, 'split_id': 103, 'split_idx_start': 12023}, embedding: vector of size 2560),\n",
       " Document(id=9885e3a4a19b04cfbd9c9cf1d1a265ece748fb0a43b5a01fe47bee1a50f6c61a, content: 'Dieser Satz bezieht sich auf die Möglichkeit einer Spontangeburt nach Kaiserschnitt.  Dabei werden b...', meta: {'title': 'Kaiserschnitt.md', 'source_id': 'a561cc97-9c08-4581-8847-a7c866056712', 'page_number': 1, 'split_id': 105, 'split_idx_start': 12077}, embedding: vector of size 2560),\n",
       " Document(id=29741c05f713e5ae14f398919d5ee43615ac536485f5e7d1484c50c271b415b5, content: 'Plazentationsstörungen treten häufiger nach einem Kaiserschnitt auf. Dazu gehören beispielsweise ein...', meta: {'title': 'Kaiserschnitt.md', 'source_id': 'a561cc97-9c08-4581-8847-a7c866056712', 'page_number': 1, 'split_id': 107, 'split_idx_start': 12144}, embedding: vector of size 2560),\n",
       " Document(id=ba2a83e7ec1ad986062b3b901985ac074bfee62d946daa54b5948bd9c9b5bbc9, content: 'Dies umfasst eine Vorlage der Plazenta vor dem Muttermund (Placenta praevia), eine Verwachsung der P...', meta: {'title': 'Kaiserschnitt.md', 'source_id': 'a561cc97-9c08-4581-8847-a7c866056712', 'page_number': 1, 'split_id': 108, 'split_idx_start': 12168}, embedding: vector of size 2560),\n",
       " Document(id=941903a71c3d92b7d8e461f98de5d1b1248bfd65beb93b4da59dc021694c2ef3, content: '**Placenta praevia** bedeutet, dass die Plazenta den Gebärmutterhals bedeckt. Dies kann zu Blutungen...', meta: {'title': 'Kaiserschnitt.md', 'source_id': 'a561cc97-9c08-4581-8847-a7c866056712', 'page_number': 1, 'split_id': 110, 'split_idx_start': 12263}, embedding: vector of size 2560),\n",
       " Document(id=fedd557b23e17b39e6361b0b663aa8bc4481895b6c3d0ca6c47e1a8486671f93, content: 'Dies kann zu Blutungen und Frühgeburten führen und erfordert oft einen erneuten Kaiserschnitt. Die g...', meta: {'title': 'Kaiserschnitt.md', 'source_id': 'a561cc97-9c08-4581-8847-a7c866056712', 'page_number': 1, 'split_id': 111, 'split_idx_start': 12363}, embedding: vector of size 2560),\n",
       " Document(id=e1f434412a56af725b34f4ea9148cdd1bc7520e2870d3b043ad1f92e61bbcc0d, content: 'Dies kann zu Blutungen und erfordert oft einen erneuten Kaiserschnitt oder andere medizinische Eingr...', meta: {'title': 'Kaiserschnitt.md', 'source_id': 'a561cc97-9c08-4581-8847-a7c866056712', 'page_number': 1, 'split_id': 112, 'split_idx_start': 12456}, embedding: vector of size 2560),\n",
       " Document(id=7c2f81b586685054943edda8a64b8ade27f93a95231887cb853ecb6790496bee, content: 'Dies bezieht sich auf Plazentationsstörungen, die nach einem Kaiserschnitt häufiger auftreten können...', meta: {'title': 'Kaiserschnitt.md', 'source_id': 'a561cc97-9c08-4581-8847-a7c866056712', 'page_number': 1, 'split_id': 114, 'split_idx_start': 12548}, embedding: vector of size 2560),\n",
       " Document(id=7f8ed0297c22181a9514bdc28e10120868da79314cde1a23a5444d708b5349a4, content: 'Ein mangelndes Zusammenziehen der Gebärmutter kann nach einem Kaiserschnitt zu starkem Blutverlust f...', meta: {'title': 'Kaiserschnitt.md', 'source_id': 'a561cc97-9c08-4581-8847-a7c866056712', 'page_number': 1, 'split_id': 116, 'split_idx_start': 12734}, embedding: vector of size 2560),\n",
       " Document(id=d4230504ec4b2e70a70298271d15cccb3b9858c48e24bc12c780437b25720522, content: 'Dies bezieht sich auf eine mögliche Komplikation, die auftreten kann, wenn eine Frau nach einem Kais...', meta: {'title': 'Kaiserschnitt.md', 'source_id': 'a561cc97-9c08-4581-8847-a7c866056712', 'page_number': 1, 'split_id': 117, 'split_idx_start': 12765}, embedding: vector of size 2560),\n",
       " Document(id=b50ba48f745195aa0caab3b1ff66795f42dc0b1ac0b60611d70c6e1cacc49e30, content: 'Sehr selten nistet sich eine Schwangerschaft in der früheren Kaiserschnittnarbe ein. Diese kann nich...', meta: {'title': 'Kaiserschnitt.md', 'source_id': 'a561cc97-9c08-4581-8847-a7c866056712', 'page_number': 1, 'split_id': 119, 'split_idx_start': 13090}, embedding: vector of size 2560),\n",
       " Document(id=fa5ea9b5c30b8a0a94ed9d819e3338d71e90ec7f158ce0408154e37842b8647c, content: 'Eine Schwangerschaft in der Kaiserschnittnarbe (Heterotopische Schwangerschaft) ist eine sehr selten...', meta: {'title': 'Kaiserschnitt.md', 'source_id': 'a561cc97-9c08-4581-8847-a7c866056712', 'page_number': 1, 'split_id': 120, 'split_idx_start': 13133}, embedding: vector of size 2560),\n",
       " Document(id=254c4add7d4dd0a98529d6f5cb8cbe637673b8b1c506b73ec322c2c781c25a00, content: 'Einige Studien deuten darauf hin, dass Frauen nach einem Kaiserschnitt häufiger Schwierigkeiten habe...', meta: {'title': 'Kaiserschnitt.md', 'source_id': 'a561cc97-9c08-4581-8847-a7c866056712', 'page_number': 1, 'split_id': 122, 'split_idx_start': 13368}, embedding: vector of size 2560),\n",
       " Document(id=3bb213e404140ba3170f3983b813b01623fd6c5a5df4e99cadab58fd3eb43752, content: 'Obwohl ein Kaiserschnitt eine sichere Geburt ermöglicht, können Folge-Schwangerschaften komplexer se...', meta: {'title': 'Kaiserschnitt.md', 'source_id': 'a561cc97-9c08-4581-8847-a7c866056712', 'page_number': 1, 'split_id': 123, 'split_idx_start': 13402}, embedding: vector of size 2560),\n",
       " Document(id=3ba77f01ee6db2b857e377b3cec1619324658970777d7efc6db0a22050147714, content: 'Obwohl der Kaiserschnitt weltweit häufig durchgeführt wird, sind viele mögliche Langzeitfolgen für F...', meta: {'title': 'Kaiserschnitt.md', 'source_id': 'a561cc97-9c08-4581-8847-a7c866056712', 'page_number': 1, 'split_id': 125, 'split_idx_start': 13719}, embedding: vector of size 2560),\n",
       " Document(id=7098be640ac7fce6065d4f6869f1f5a33657f84908752217c722f8791990cda9, content: 'Der Textabschnitt weist darauf hin, dass die langfristigen Auswirkungen eines Kaiserschnitts für Fra...', meta: {'title': 'Kaiserschnitt.md', 'source_id': 'a561cc97-9c08-4581-8847-a7c866056712', 'page_number': 1, 'split_id': 126, 'split_idx_start': 13735}, embedding: vector of size 2560),\n",
       " Document(id=4e81675870966cacb17e166b89eefd414ee0073326354b5d8d008707d2414603, content: 'Dieser Abschnitt beschreibt wichtige Warnzeichen, auf die Frauen nach einem Kaiserschnitt achten sol...', meta: {'title': 'Kaiserschnitt.md', 'source_id': 'a561cc97-9c08-4581-8847-a7c866056712', 'page_number': 1, 'split_id': 128, 'split_idx_start': 13884}, embedding: vector of size 2560),\n",
       " Document(id=39e611970d12265f4e889b07614d297b59fbbf4fdfcda75de411a0882d12ca53, content: 'Dies ist ein Warnsignal für eine mögliche Infektion, die eine sofortige ärztliche Behandlung erforde...', meta: {'title': 'Kaiserschnitt.md', 'source_id': 'a561cc97-9c08-4581-8847-a7c866056712', 'page_number': 1, 'split_id': 130, 'split_idx_start': 14098}, embedding: vector of size 2560),\n",
       " Document(id=7afdda88a43e87e012582fa443f289cfc003e0635f1254e5c0fc5d2b7f4fc364, content: 'Dies kann ein Zeichen für eine Entzündung oder andere Komplikationen nach dem Kaiserschnitt sein, di...', meta: {'title': 'Kaiserschnitt.md', 'source_id': 'a561cc97-9c08-4581-8847-a7c866056712', 'page_number': 1, 'split_id': 131, 'split_idx_start': 14117}, embedding: vector of size 2560),\n",
       " Document(id=fb2ef1cead5ab38b1c439c137fd6a5d758407f9b53dc9d634272b298c3a6fafd, content: 'Dies kann ein Zeichen für eine beginnende Infektion sein. Sollten diese Symptome auftreten, suchen S...', meta: {'title': 'Kaiserschnitt.md', 'source_id': 'a561cc97-9c08-4581-8847-a7c866056712', 'page_number': 1, 'split_id': 132, 'split_idx_start': 14169}, embedding: vector of size 2560),\n",
       " Document(id=639615d760e1e2771bda377c225b7d344017d49cb5969f7fdb0df383479b0cc0, content: 'Dies kann auf eine Komplikation hindeuten und sollte umgehend ärztlich abgeklärt werden.  Starke Blu...', meta: {'title': 'Kaiserschnitt.md', 'source_id': 'a561cc97-9c08-4581-8847-a7c866056712', 'page_number': 1, 'split_id': 133, 'split_idx_start': 14233}, embedding: vector of size 2560),\n",
       " Document(id=fbe8ff70eb87843d14183e4deb32265bf2f3e16e0ef720d67585b877b3e38d49, content: 'Ein abruptes Ende des Wochenflusses kann ein Zeichen für eine Komplikation wie eine Infektion oder e...', meta: {'title': 'Kaiserschnitt.md', 'source_id': 'a561cc97-9c08-4581-8847-a7c866056712', 'page_number': 1, 'split_id': 134, 'split_idx_start': 14290}, embedding: vector of size 2560),\n",
       " Document(id=1fcab235593af6cb64d7fae5c3d79c566ac3eb6b1e3b6219df6d0c2337f0dd1c, content: 'Dies kann ein Zeichen für eine tiefe Venenthrombose sein, eine Blutgerinnselbildung in einer Vene.  ...', meta: {'title': 'Kaiserschnitt.md', 'source_id': 'a561cc97-9c08-4581-8847-a7c866056712', 'page_number': 1, 'split_id': 135, 'split_idx_start': 14351}, embedding: vector of size 2560),\n",
       " Document(id=8f182250d27b6b7ea7e1f06037b42c96d43f156f99c316a764ebc49b5c10c338, content: 'Dies kann ein Zeichen für eine Lungenembolie oder andere Komplikationen sein und erfordert sofortige...', meta: {'title': 'Kaiserschnitt.md', 'source_id': 'a561cc97-9c08-4581-8847-a7c866056712', 'page_number': 1, 'split_id': 136, 'split_idx_start': 14400}, embedding: vector of size 2560),\n",
       " Document(id=1524aca5d01db93eba0504b16290a87c2e53bef52e6ea8d3121139fad69b266a, content: 'Dieser Abschnitt warnt davor, leichte Beschwerden nach dem Kaiserschnitt nicht zu ignorieren, da sie...', meta: {'title': 'Kaiserschnitt.md', 'source_id': 'a561cc97-9c08-4581-8847-a7c866056712', 'page_number': 1, 'split_id': 138, 'split_idx_start': 14440}, embedding: vector of size 2560),\n",
       " Document(id=e1763e68e97af077f3c264878e2df42ecb255393000a803d1522878f5d3fa0b0, content: 'Die Nachsorge umfasst die Unterstützung durch eine Hebamme, Rückbildungsgymnastik zur Stärkung der B...', meta: {'title': 'Kaiserschnitt.md', 'source_id': 'a561cc97-9c08-4581-8847-a7c866056712', 'page_number': 1, 'split_id': 140, 'split_idx_start': 14663}, embedding: vector of size 2560),\n",
       " Document(id=8d69f84ebfb89fe1e1d41dd624cd0efb41cfab7e1cd5ba49e85c1bb1ba7527c8, content: 'Eine Hebamme bietet postpartale Unterstützung, die über die reine körperliche Erholung hinausgeht. S...', meta: {'title': 'Kaiserschnitt.md', 'source_id': 'a561cc97-9c08-4581-8847-a7c866056712', 'page_number': 1, 'split_id': 142, 'split_idx_start': 14691}, embedding: vector of size 2560),\n",
       " Document(id=878d0ca08f6cd90fb6f2e36ca7acffc68411ca7fe17f992fc0209a99ee1d3986, content: 'Rückbildungsgymnastik hilft, die durch den Kaiserschnitt beanspruchte Bauch- und Beckenbodenmuskulat...', meta: {'title': 'Kaiserschnitt.md', 'source_id': 'a561cc97-9c08-4581-8847-a7c866056712', 'page_number': 1, 'split_id': 143, 'split_idx_start': 14849}, embedding: vector of size 2560),\n",
       " Document(id=c27162a33abb772f717c78888ae28496c776571382536f4075e4c728cb165737, content: 'Diese Nachuntersuchung ist wichtig, um die Heilung zu überprüfen und mögliche Komplikationen frühzei...', meta: {'title': 'Kaiserschnitt.md', 'source_id': 'a561cc97-9c08-4581-8847-a7c866056712', 'page_number': 1, 'split_id': 144, 'split_idx_start': 15016}, embedding: vector of size 2560),\n",
       " Document(id=0059e3662f403ffc07f34f4b6eb62cfc7476559f37066ed87c5f45b59cefc25f, content: 'Die Klinik bietet eine moderne Geburtshilfe in Berlin-Köpenick und bietet eine Vielzahl von Schmerzl...', meta: {'title': 'DRK Geburtshilfe Infos.md', 'source_id': '1ac6201d-c0f1-4ee6-9380-416fba951afb', 'page_number': 1, 'split_id': 0, 'split_idx_start': 0}, embedding: vector of size 2560),\n",
       " Document(id=13fbc7e9f494eac8cf1feb3e5acef6fe5bc5c55b19e0db29cebeb47ac14c6147, content: 'Die Klinik bietet eine breite Palette an Gebärhilfen und Positionen, um eine angenehme und individue...', meta: {'title': 'DRK Geburtshilfe Infos.md', 'source_id': '1ac6201d-c0f1-4ee6-9380-416fba951afb', 'page_number': 1, 'split_id': 2, 'split_idx_start': 948}, embedding: vector of size 2560),\n",
       " Document(id=7dd739cc2db5ed9270b474557e2babb48e2367f65eb34419d336bb9329870dd8, content: 'Eine PDA (periduralanästhesie) ist eine Schmerzblockade, die in den Rücken gelegt wird und starke We...', meta: {'title': 'DRK Geburtshilfe Infos.md', 'source_id': '1ac6201d-c0f1-4ee6-9380-416fba951afb', 'page_number': 1, 'split_id': 4, 'split_idx_start': 1664}, embedding: vector of size 2560),\n",
       " Document(id=66e1a525e21fdfa64a0a47af09db4dedfae2b7f888b7f04e22b5b13a93e3ba9a, content: 'Die \"Misgav-Ladach-Technik\" ist eine spezielle Kaiserschnittmethode, bei der ein schrägliegender Sch...', meta: {'title': 'DRK Geburtshilfe Infos.md', 'source_id': '1ac6201d-c0f1-4ee6-9380-416fba951afb', 'page_number': 1, 'split_id': 6, 'split_idx_start': 2383}, embedding: vector of size 2560),\n",
       " Document(id=f1ed31f06aa3da304cb603c582d876a7bf9e61c4dfa4177e15d04854af4aad58, content: 'Auf der Wochenbettstation 4B gibt es gemütliche Zimmer, die als Familienzimmer genutzt werden können...', meta: {'title': 'DRK Geburtshilfe Infos.md', 'source_id': '1ac6201d-c0f1-4ee6-9380-416fba951afb', 'page_number': 1, 'split_id': 8, 'split_idx_start': 3350}, embedding: vector of size 2560),\n",
       " Document(id=0ed75454a1b9cd3f02fb0f2249d2bae58d9536d594f98129823fe478fdbbe9ff, content: 'Auf der Wochenbettstation gibt es ein separates Stillzimmer für ruhige Stillmomente und Unterstützun...', meta: {'title': 'DRK Geburtshilfe Infos.md', 'source_id': '1ac6201d-c0f1-4ee6-9380-416fba951afb', 'page_number': 1, 'split_id': 10, 'split_idx_start': 4116}, embedding: vector of size 2560),\n",
       " Document(id=ddb32f1f644e2d2bf49fdb1772b756399921632776def763a8239f0083f0377d, content: 'Bei Bedarf arbeitet die Klinik eng mit der Neonatologie des Vivantes Klinikums Neukölln zusammen, um...', meta: {'title': 'DRK Geburtshilfe Infos.md', 'source_id': '1ac6201d-c0f1-4ee6-9380-416fba951afb', 'page_number': 1, 'split_id': 12, 'split_idx_start': 4895}, embedding: vector of size 2560),\n",
       " Document(id=a1b6465d626d4fdd2ecb051c230fa675f8aa4d2b04479b43234304cdb39171b0, content: 'Die Wochenbettstation bietet Familienzimmer an, in denen auch eine Begleitperson übernachten kann. E...', meta: {'title': 'DRK Geburtshilfe Infos.md', 'source_id': '1ac6201d-c0f1-4ee6-9380-416fba951afb', 'page_number': 1, 'split_id': 14, 'split_idx_start': 5686}, embedding: vector of size 2560),\n",
       " Document(id=3cf123e7b98891e9d1be7ce24b67e7fc20291a74dbd378d187a85cf68a0dd585, content: 'Die Wochenbettstation bietet ein umfassendes Betreuungsangebot für Mutter und Kind, inklusive Stillb...', meta: {'title': 'DRK Geburtshilfe Infos.md', 'source_id': '1ac6201d-c0f1-4ee6-9380-416fba951afb', 'page_number': 1, 'split_id': 16, 'split_idx_start': 6195}, embedding: vector of size 2560),\n",
       " Document(id=b170fcd875d26396673888dae50da016a5f354b2e2dfcb59e51f72c098e4ec0c, content: 'Die Klinik arbeitet bei Bedarf mit der Neonatologie des Vivantes Klinikums Neukölln zusammen, um ein...', meta: {'title': 'DRK Geburtshilfe Infos.md', 'source_id': '1ac6201d-c0f1-4ee6-9380-416fba951afb', 'page_number': 1, 'split_id': 18, 'split_idx_start': 6663}, embedding: vector of size 2560),\n",
       " Document(id=1665239d5244571e554fe2770ddfea6ff1c3418b431a62118fe3faad72833868, content: 'Der Sozialdienst der Klinik hilft bei Fragen zu Themen wie Krankenversicherung oder Elterngeld. Bei ...', meta: {'title': 'DRK Geburtshilfe Infos.md', 'source_id': '1ac6201d-c0f1-4ee6-9380-416fba951afb', 'page_number': 1, 'split_id': 20, 'split_idx_start': 7101}, embedding: vector of size 2560),\n",
       " Document(id=8bc16afa233f1d8aa5d654f08646b349f33543b68107656832412d538164fe39, content: 'Die Babylotsinnen bieten kostenlose Unterstützung für werdende und junge Eltern direkt in der Klinik...', meta: {'title': 'DRK Geburtshilfe Infos.md', 'source_id': '1ac6201d-c0f1-4ee6-9380-416fba951afb', 'page_number': 1, 'split_id': 22, 'split_idx_start': 7479}, embedding: vector of size 2560),\n",
       " Document(id=97b858689936f8e4d2a204ea14624e0bb541e4c41db6ebc78b73afa2e6ee2827, content: 'Die Anmeldung dient dazu, wichtige Daten zu erfassen und individuelle Wünsche zu besprechen.  Die Ko...', meta: {'title': 'DRK Geburtshilfe Infos.md', 'source_id': '1ac6201d-c0f1-4ee6-9380-416fba951afb', 'page_number': 1, 'split_id': 24, 'split_idx_start': 7931}, embedding: vector of size 2560),\n",
       " Document(id=f15b6e968a9be42a09b584c7809c7220a52bd2db8fbae085ffeaa0ad2249eb7d, content: 'Der Kreißsaal befindet sich im 7. Stock des Bettenhochhauses (Haus 1) und ist als \"Kreißsaalhotel\" k...', meta: {'title': 'DRK Geburtshilfe Infos.md', 'source_id': '1ac6201d-c0f1-4ee6-9380-416fba951afb', 'page_number': 1, 'split_id': 26, 'split_idx_start': 8593}, embedding: vector of size 2560),\n",
       " Document(id=40d33acf48e0bb9eb6e273df4b6e999e74ac9b265ac528676ef82e9cda23a7e9, content: 'Nach der Entbindung geht es auf die Wochenbettstation 4B, wo Mutter und Kind gemeinsam betreut werde...', meta: {'title': 'DRK Geburtshilfe Infos.md', 'source_id': '1ac6201d-c0f1-4ee6-9380-416fba951afb', 'page_number': 1, 'split_id': 28, 'split_idx_start': 9335}, embedding: vector of size 2560),\n",
       " Document(id=2d9ed0e6315fca629b973a13c0287014f9f435601c75050f69b224a4fdfe70aa, content: 'Eine ambulante Geburt ermöglicht es Mutter und Kind, die Klinik kurz nach der Entbindung zu verlasse...', meta: {'title': 'DRK Geburtshilfe Infos.md', 'source_id': '1ac6201d-c0f1-4ee6-9380-416fba951afb', 'page_number': 1, 'split_id': 31, 'split_idx_start': 10168}, embedding: vector of size 2560),\n",
       " Document(id=21e0d031bf1d820fe19f71ad400acb1aca68b1d7c09cea38bb1f92f38fef4bad, content: 'Der Kreißsaal befindet sich im 7. Stock des Bettenhochhauses (Haus 1) und ist als kleines, persönlic...', meta: {'title': 'DRK Geburtshilfe Infos.md', 'source_id': '1ac6201d-c0f1-4ee6-9380-416fba951afb', 'page_number': 1, 'split_id': 33, 'split_idx_start': 10389}, embedding: vector of size 2560),\n",
       " Document(id=3e583d4e9ea7e37ee37fddb6d0eb77f97e8c612fce21ab81fdd4fa96c5e96cee, content: 'Diese Räumlichkeiten bieten flexible Gebärhilfen wie verstellbare Betten, Gebärhocker, Seile und Spr...', meta: {'title': 'DRK Geburtshilfe Infos.md', 'source_id': '1ac6201d-c0f1-4ee6-9380-416fba951afb', 'page_number': 1, 'split_id': 35, 'split_idx_start': 10669}, embedding: vector of size 2560),\n",
       " Document(id=bcf3842aa9d65585dc0d95a356131d41627ff657d30979ea1f323fa3aa150160, content: 'Diese flexible Ausstattung ermöglicht es den Gebärenden, die für sie angenehmste Position für die Ge...', meta: {'title': 'DRK Geburtshilfe Infos.md', 'source_id': '1ac6201d-c0f1-4ee6-9380-416fba951afb', 'page_number': 1, 'split_id': 37, 'split_idx_start': 10975}, embedding: vector of size 2560),\n",
       " Document(id=fd0386d11a3db6e9e292bcd5bbc8f387d8d9b2ad82f4fffb2fcb789259727f58, content: 'Bei einem Kaiserschnitt können Mutter und Kind so schnell wie möglich versorgt werden, da der Operat...', meta: {'title': 'DRK Geburtshilfe Infos.md', 'source_id': '1ac6201d-c0f1-4ee6-9380-416fba951afb', 'page_number': 1, 'split_id': 39, 'split_idx_start': 11140}, embedding: vector of size 2560),\n",
       " Document(id=20008af974a68cd18b1f1a357db35c6f82ceac9f3df9b6e8b96dd2659d31c595, content: 'Nach der Geburt bleibt die Familie zur Überwachung noch eine Zeit im Kreißsaal, bevor die Verlegung ...', meta: {'title': 'DRK Geburtshilfe Infos.md', 'source_id': '1ac6201d-c0f1-4ee6-9380-416fba951afb', 'page_number': 1, 'split_id': 41, 'split_idx_start': 11422}, embedding: vector of size 2560),\n",
       " Document(id=6ea78a3371abef9d8d144547400c5f2bd02262e4b344c2198af58d48de3c4c64, content: 'Dies beschreibt den \"Hebammenkreißsaal\", eine Erweiterung des Angebots der Klinik, in dem Frauen mit...', meta: {'title': 'DRK Geburtshilfe Infos.md', 'source_id': '1ac6201d-c0f1-4ee6-9380-416fba951afb', 'page_number': 1, 'split_id': 43, 'split_idx_start': 11675}, embedding: vector of size 2560),\n",
       " Document(id=653654e1d507630ef65dc7efaa276c7c97263ef7a2182255848d7156091b2dba, content: 'Der hebammengeleitete Kreißsaal bietet Frauen mit unkomplizierten Schwangerschaften eine Betreuung a...', meta: {'title': 'DRK Geburtshilfe Infos.md', 'source_id': '1ac6201d-c0f1-4ee6-9380-416fba951afb', 'page_number': 1, 'split_id': 45, 'split_idx_start': 11997}, embedding: vector of size 2560),\n",
       " Document(id=bafaef07a79d3395b67dc6fa0263a858be75e366fef3cf4c40e6d06c8163dd4d, content: 'Der Hebammenkreißsaal bietet eine natürliche und selbstbestimmte Geburt in einer sicheren Umgebung m...', meta: {'title': 'DRK Geburtshilfe Infos.md', 'source_id': '1ac6201d-c0f1-4ee6-9380-416fba951afb', 'page_number': 1, 'split_id': 47, 'split_idx_start': 12427}, embedding: vector of size 2560),\n",
       " Document(id=4cb58cd45ca814ae640b88ba8e81b1d9fae331caed6896a8fd847f1d3a963c13, content: 'Dies bezieht sich auf die Möglichkeit, den Hebammenkreißsaal zu nutzen. Er ist eine Option für Fraue...', meta: {'title': 'DRK Geburtshilfe Infos.md', 'source_id': '1ac6201d-c0f1-4ee6-9380-416fba951afb', 'page_number': 1, 'split_id': 49, 'split_idx_start': 12902}, embedding: vector of size 2560),\n",
       " Document(id=fe95b36de11c3857204bec793c1bcafe6c8f9bac916bfd3c930f8fd4d54f4372, content: 'Dies sind die Voraussetzungen für die Teilnahme am hebammengeleiteten Kreißsaal, einer Option für Fr...', meta: {'title': 'DRK Geburtshilfe Infos.md', 'source_id': '1ac6201d-c0f1-4ee6-9380-416fba951afb', 'page_number': 1, 'split_id': 51, 'split_idx_start': 12947}, embedding: vector of size 2560),\n",
       " Document(id=7653d510538900b37c42e6b36d8a6e52406ed28f5db774730f742a4ebda7bfe7, content: 'Dies bedeutet, dass die Frau ohne medizinische Eingriffe und innerhalb eines bestimmten Zeitfensters...', meta: {'title': 'DRK Geburtshilfe Infos.md', 'source_id': '1ac6201d-c0f1-4ee6-9380-416fba951afb', 'page_number': 1, 'split_id': 52, 'split_idx_start': 13103}, embedding: vector of size 2560),\n",
       " Document(id=6e7c45c0926b19ef9aa3b00b48c16527d00d2c7729cf0eb542f664889a59ea44, content: 'Dies sind die Voraussetzungen, um sich für den hebammengeleiteten Kreißsaal zu qualifizieren, der ei...', meta: {'title': 'DRK Geburtshilfe Infos.md', 'source_id': '1ac6201d-c0f1-4ee6-9380-416fba951afb', 'page_number': 1, 'split_id': 53, 'split_idx_start': 13166}, embedding: vector of size 2560),\n",
       " Document(id=7044db8e36d9c2ed8d49b26c86f83f17b17808c4a951387380354d0945a32b86, content: 'Nach zwei individuellen Beratungsgesprächen erfolgt eine kontinuierliche Betreuung durch eine Hebamm...', meta: {'title': 'DRK Geburtshilfe Infos.md', 'source_id': '1ac6201d-c0f1-4ee6-9380-416fba951afb', 'page_number': 1, 'split_id': 55, 'split_idx_start': 13246}, embedding: vector of size 2560),\n",
       " Document(id=f9c3b5194a3f9cf78bd7fd31d9469e311eec8201abdcf24399f96bfb68bdf711, content: 'Nach den Beratungsgesprächen erfolgt eine kontinuierliche Betreuung durch eine Hebamme, wobei bei Be...', meta: {'title': 'DRK Geburtshilfe Infos.md', 'source_id': '1ac6201d-c0f1-4ee6-9380-416fba951afb', 'page_number': 1, 'split_id': 56, 'split_idx_start': 13295}, embedding: vector of size 2560),\n",
       " Document(id=3423dbcdd3a93fdcc0ae2523cc4235fc482b2c4bc6e90fd75565fe6cc0fbce6b, content: 'Die Wochenbettstation 4B bietet Zimmer mit Bad an, die als Familienzimmer genutzt werden können. Ein...', meta: {'title': 'DRK Geburtshilfe Infos.md', 'source_id': '1ac6201d-c0f1-4ee6-9380-416fba951afb', 'page_number': 1, 'split_id': 58, 'split_idx_start': 14149}, embedding: vector of size 2560),\n",
       " Document(id=ba21212b52ef3d2e9dcac18a7fb3a955b8b66136f289fbd97767fd123fa3f0c4, content: 'Familienzimmer sind auf der Wochenbettstation 4B verfügbar und bieten Platz für eine Begleitperson. ...', meta: {'title': 'DRK Geburtshilfe Infos.md', 'source_id': '1ac6201d-c0f1-4ee6-9380-416fba951afb', 'page_number': 1, 'split_id': 60, 'split_idx_start': 14584}, embedding: vector of size 2560),\n",
       " Document(id=2153667f8bb0db4448de848cce7c2060beb95e75f3951595099c8666df4e372e, content: 'Die Kinderärztin führt die ersten Untersuchungen (U1 und U2) durch und gibt den Eltern Empfehlungen ...', meta: {'title': 'DRK Geburtshilfe Infos.md', 'source_id': '1ac6201d-c0f1-4ee6-9380-416fba951afb', 'page_number': 1, 'split_id': 62, 'split_idx_start': 14770}, embedding: vector of size 2560),\n",
       " Document(id=0463ce6fffd0570148c9e8ce0de9050bed6008948fec8812dec50d1d34b803b3, content: 'Die Klinik bietet eine umfassende Stillberatung durch speziell ausgebildete Schwestern und Stillbera...', meta: {'title': 'DRK Geburtshilfe Infos.md', 'source_id': '1ac6201d-c0f1-4ee6-9380-416fba951afb', 'page_number': 1, 'split_id': 64, 'split_idx_start': 15120}, embedding: vector of size 2560),\n",
       " Document(id=e2117ce0d21ce04ad78f55bbb19d4dd3c934cf0bab5cc644c4cc7fd7ddf74662, content: 'Die Entlassung aus der Klinik erfolgt nach individueller Absprache. Die Geburtsurkunde erhält man ni...', meta: {'title': 'DRK Geburtshilfe Infos.md', 'source_id': '1ac6201d-c0f1-4ee6-9380-416fba951afb', 'page_number': 1, 'split_id': 66, 'split_idx_start': 15473}, embedding: vector of size 2560),\n",
       " Document(id=6bf1ebe2fef0189a6094124deb3f446f2acd66d4f82f1766f78f91e9f5da87b3, content: 'Nach der Entlassung aus der Klinik ist eine Nachsorgehebamme für die Betreuung zu Hause empfehlenswe...', meta: {'title': 'DRK Geburtshilfe Infos.md', 'source_id': '1ac6201d-c0f1-4ee6-9380-416fba951afb', 'page_number': 1, 'split_id': 68, 'split_idx_start': 15813}, embedding: vector of size 2560),\n",
       " Document(id=e4ba9080849ef88a5ad32b7a82a410e61092fa0f1500ea68313d8a35ee39dacd, content: 'Diese Infoabende sind kostenlose Veranstaltungen, bei denen werdende Eltern das Geburtshilfe-Team ke...', meta: {'title': 'DRK Geburtshilfe Infos.md', 'source_id': '1ac6201d-c0f1-4ee6-9380-416fba951afb', 'page_number': 1, 'split_id': 70, 'split_idx_start': 16076}, embedding: vector of size 2560),\n",
       " Document(id=43667bc1517c64318d4cf4f975ed54225ea010acf7ea346873352076da264f02, content: 'Die Klinik bietet verschiedene Geburtsvorbereitungskurse an, die Informationen zum Geburtsverlauf, A...', meta: {'title': 'DRK Geburtshilfe Infos.md', 'source_id': '1ac6201d-c0f1-4ee6-9380-416fba951afb', 'page_number': 1, 'split_id': 72, 'split_idx_start': 16592}, embedding: vector of size 2560),\n",
       " Document(id=899cb443de402323ede7b7f636f201695f559dfeccefe1db33f78c3bc2c3c0df, content: 'Diese Kurse helfen, Beckenboden und Bauchmuskulatur nach der Entbindung zu stärken. Sie werden von H...', meta: {'title': 'DRK Geburtshilfe Infos.md', 'source_id': '1ac6201d-c0f1-4ee6-9380-416fba951afb', 'page_number': 1, 'split_id': 74, 'split_idx_start': 17141}, embedding: vector of size 2560),\n",
       " Document(id=8006dd7ac36a57da62ac4a8118f4f165b18500aa8bd8db7b2c02f6c642f2c13f, content: 'Die Hebammensprechstunde bietet eine Möglichkeit für CTG-Kontrollen, Akupunktur und Beratung zu Besc...', meta: {'title': 'DRK Geburtshilfe Infos.md', 'source_id': '1ac6201d-c0f1-4ee6-9380-416fba951afb', 'page_number': 1, 'split_id': 76, 'split_idx_start': 17522}, embedding: vector of size 2560),\n",
       " Document(id=5d92fa3a3b86582ccb624734396937cd2f4325dce681e8cc1af1c90314857197, content: 'Bei Risikoschwangerschaften, wie etwa bei Zwillingen oder Beckenendlage, kann eine Geburtsplanungssp...', meta: {'title': 'DRK Geburtshilfe Infos.md', 'source_id': '1ac6201d-c0f1-4ee6-9380-416fba951afb', 'page_number': 1, 'split_id': 78, 'split_idx_start': 17920}, embedding: vector of size 2560),\n",
       " Document(id=28e20e529c10ce04f18d0146209c1ae81ccb7101d9af9ca4a690b527b2fc8219, content: 'Nach der Entlassung aus der Klinik ist eine Nachsorgehebamme für die Betreuung zu Hause hilfreich. D...', meta: {'title': 'DRK Geburtshilfe Infos.md', 'source_id': '1ac6201d-c0f1-4ee6-9380-416fba951afb', 'page_number': 1, 'split_id': 80, 'split_idx_start': 18239}, embedding: vector of size 2560),\n",
       " Document(id=6a4b0afbd618b9f48a755e19db1cc752e99db82ae8418a9d4842690662588150, content: 'Dr. med. Rainer Wieth ist der Chefarzt der Klinik für Gynäkologie und Geburtshilfe der DRK Kliniken ...', meta: {'title': 'DRK Geburtshilfe Infos.md', 'source_id': '1ac6201d-c0f1-4ee6-9380-416fba951afb', 'page_number': 1, 'split_id': 82, 'split_idx_start': 18654}, embedding: vector of size 2560),\n",
       " Document(id=b10f44a2e30341da9f44979441ac5b09a1f982fb76a1969763a05f30701d7dfe, content: 'Carmen Wolf ist die Leitende Hebamme und Abteilungsleiterin des Kreißsaals. Bei Fragen rund um die G...', meta: {'title': 'DRK Geburtshilfe Infos.md', 'source_id': '1ac6201d-c0f1-4ee6-9380-416fba951afb', 'page_number': 1, 'split_id': 84, 'split_idx_start': 18903}, embedding: vector of size 2560),\n",
       " Document(id=163cb910e2845744baf60beac1845d413da9ab70e9c2207e68c97e2fdada49fc, content: 'Die Wochenbettstation 4B ist für Rückfragen nach der Entbindung und Anliegen während des Aufenthalts...', meta: {'title': 'DRK Geburtshilfe Infos.md', 'source_id': '1ac6201d-c0f1-4ee6-9380-416fba951afb', 'page_number': 1, 'split_id': 86, 'split_idx_start': 19188}, embedding: vector of size 2560),\n",
       " Document(id=2a293ebc5140c8722b68e451666834b37f02d6475eb2c8a9139845d9bf4ce677, content: 'Die Klinik befindet sich in Berlin-Köpenick und ist mit Bus, Straßenbahn und S-Bahn gut erreichbar. ...', meta: {'title': 'DRK Geburtshilfe Infos.md', 'source_id': '1ac6201d-c0f1-4ee6-9380-416fba951afb', 'page_number': 1, 'split_id': 88, 'split_idx_start': 19397}, embedding: vector of size 2560),\n",
       " Document(id=478f3ae47ad81775783343908c3d609688ea14ec7d0590cdaaba3d3f4c1edf0c, content: 'Das Kontaktformular findest du auf der Website der DRK Kliniken Berlin Köpenick. Es ist eine gute Op...', meta: {'title': 'DRK Geburtshilfe Infos.md', 'source_id': '1ac6201d-c0f1-4ee6-9380-416fba951afb', 'page_number': 1, 'split_id': 90, 'split_idx_start': 19572}, embedding: vector of size 2560),\n",
       " Document(id=e31e20b5ff4362588fdc21d3757e974746ab01f58f515c2b973ac8f7853ff31b, content: 'Die Anmeldung erfolgt meist in der Hebammensprechstunde und beinhaltet ein ausführliches Gespräch so...', meta: {'title': 'DRK Geburtshilfe Infos.md', 'source_id': '1ac6201d-c0f1-4ee6-9380-416fba951afb', 'page_number': 1, 'split_id': 93, 'split_idx_start': 19742}, embedding: vector of size 2560),\n",
       " Document(id=3a82768d58825acfcaf5486fc4a26be6a87c87eee6e196250998f60eba61fe2a, content: 'Diese Anmeldung erfolgt idealerweise ab der 32. Schwangerschaftswoche und kann telefonisch unter (03...', meta: {'title': 'DRK Geburtshilfe Infos.md', 'source_id': '1ac6201d-c0f1-4ee6-9380-416fba951afb', 'page_number': 1, 'split_id': 95, 'split_idx_start': 19988}, embedding: vector of size 2560),\n",
       " Document(id=5cc1d42d38b00c33673baf4901e2c86781ad38d737b6dcee7eaff20e6b314961, content: 'Hier werden individuelle Wünsche wie die bevorzugte Gebärposition, Schmerzmittel oder ein Familienzi...', meta: {'title': 'DRK Geburtshilfe Infos.md', 'source_id': '1ac6201d-c0f1-4ee6-9380-416fba951afb', 'page_number': 1, 'split_id': 97, 'split_idx_start': 20283}, embedding: vector of size 2560),\n",
       " Document(id=ebc4b1e254141f172630e187b73369dea70e5f3169fc78031c30528ea87d4b4e, content: 'Dies bedeutet, dass Sie sich nicht erneut anmelden müssen, wenn die Wehen beginnen oder der geplante...', meta: {'title': 'DRK Geburtshilfe Infos.md', 'source_id': '1ac6201d-c0f1-4ee6-9380-416fba951afb', 'page_number': 1, 'split_id': 99, 'split_idx_start': 20623}, embedding: vector of size 2560),\n",
       " Document(id=05041f8bcccbe8beba97dd2cb0050b1209f6d02186689d7578c128b3107b4f32, content: 'Um die bestmögliche Ruhe und Erholung für Mutter und Kind zu gewährleisten, gelten feste Besuchszeit...', meta: {'title': 'DRK Geburtshilfe Infos.md', 'source_id': '1ac6201d-c0f1-4ee6-9380-416fba951afb', 'page_number': 1, 'split_id': 101, 'split_idx_start': 20806}, embedding: vector of size 2560),\n",
       " Document(id=eaed2389fa329b533a71e01f4341c51aabd6b9b7a8cc017923ff5dac6a31a619, content: 'Um die Ruhe und Erholung von Mutter und Kind zu gewährleisten, gibt es feste Besuchszeiten von 15:00...', meta: {'title': 'DRK Geburtshilfe Infos.md', 'source_id': '1ac6201d-c0f1-4ee6-9380-416fba951afb', 'page_number': 1, 'split_id': 103, 'split_idx_start': 21095}, embedding: vector of size 2560),\n",
       " Document(id=a11025a6cac057eed6bdcd2e3bf6906f9a01a2546a05bd1f09756b39becadce4, content: 'Dieser Hinweis bezieht sich auf die Besuchszeiten auf der Wochenbettstation 4B. Es wird empfohlen, B...', meta: {'title': 'DRK Geburtshilfe Infos.md', 'source_id': '1ac6201d-c0f1-4ee6-9380-416fba951afb', 'page_number': 1, 'split_id': 105, 'split_idx_start': 21387}, embedding: vector of size 2560),\n",
       " Document(id=09af9638e762814e42fb75122ccf3544d7ce23aa0b33e91d5b7fcd9eaf5b1aa1, content: 'Diese Liste hilft dir, dich optimal auf die Geburt und die Zeit im Krankenhaus vorzubereiten. Wertge...', meta: {'title': 'DRK Geburtshilfe Infos.md', 'source_id': '1ac6201d-c0f1-4ee6-9380-416fba951afb', 'page_number': 1, 'split_id': 107, 'split_idx_start': 21596}, embedding: vector of size 2560),\n",
       " Document(id=ca1cfcfd1558640ade9f82db307255798298a697b5a10f96ad1f4a60c1859cfb, content: 'Diese Dokumente sind für die Anmeldung zur Geburt und die Aufnahme in die Klinik erforderlich. Sie s...', meta: {'title': 'DRK Geburtshilfe Infos.md', 'source_id': '1ac6201d-c0f1-4ee6-9380-416fba951afb', 'page_number': 1, 'split_id': 109, 'split_idx_start': 21691}, embedding: vector of size 2560),\n",
       " Document(id=9fe8c8806f4278d7e430bf0dc1df8cb7a2f8661709fa71f07ebb59539b749922, content: 'Diese Kleidung ist für die Zeit im Kreißsaal und auf der Wochenbettstation gedacht. Denke auch an Kl...', meta: {'title': 'DRK Geburtshilfe Infos.md', 'source_id': '1ac6201d-c0f1-4ee6-9380-416fba951afb', 'page_number': 1, 'split_id': 110, 'split_idx_start': 21844}, embedding: vector of size 2560),\n",
       " Document(id=7d3401c83a0243a5061b6f9e1a09c17026541095a0b1af84e3bdf815a31fd7f3, content: 'Diese Artikel sind für den Aufenthalt in der Klinik nützlich, da die Klinik nur grundlegende Hygiene...', meta: {'title': 'DRK Geburtshilfe Infos.md', 'source_id': '1ac6201d-c0f1-4ee6-9380-416fba951afb', 'page_number': 1, 'split_id': 111, 'split_idx_start': 22021}, embedding: vector of size 2560),\n",
       " Document(id=dc7987b0b198cae28cb3fdf63275bd456d9e44b7d76a3998dda85955d8090f33, content: 'Die Babyschale ist notwendig, um das Neugeborene sicher aus der Klinik nach Hause zu transportieren....', meta: {'title': 'DRK Geburtshilfe Infos.md', 'source_id': '1ac6201d-c0f1-4ee6-9380-416fba951afb', 'page_number': 1, 'split_id': 112, 'split_idx_start': 22152}, embedding: vector of size 2560),\n",
       " Document(id=d2c561757218ad3129879b2e0eb2a3bb738b95451d526537ccece96a5bf093c1, content: 'Diese Liste enthält nützliche Gegenstände für den Aufenthalt in der Klinik. Wertgegenstände und Schm...', meta: {'title': 'DRK Geburtshilfe Infos.md', 'source_id': '1ac6201d-c0f1-4ee6-9380-416fba951afb', 'page_number': 1, 'split_id': 113, 'split_idx_start': 22264}, embedding: vector of size 2560),\n",
       " Document(id=5cc85503df2c4552aae337745cfc5e46c0175d159bad225351c10a2cbfce6f0c, content: 'Die Klinik empfiehlt, keine Wertsachen mitzubringen, da sie keine Haftung für verlorene oder gestohl...', meta: {'title': 'DRK Geburtshilfe Infos.md', 'source_id': '1ac6201d-c0f1-4ee6-9380-416fba951afb', 'page_number': 1, 'split_id': 115, 'split_idx_start': 22475}, embedding: vector of size 2560),\n",
       " Document(id=db7e456f91f7b5e92f5412cdd5de11451294c74e4c3520ec62c4d7d1547ae91d, content: 'Die Klinik befindet sich in Berlin-Köpenick und ist mit öffentlichen Verkehrsmitteln gut erreichbar....', meta: {'title': 'DRK Geburtshilfe Infos.md', 'source_id': '1ac6201d-c0f1-4ee6-9380-416fba951afb', 'page_number': 1, 'split_id': 117, 'split_idx_start': 22567}, embedding: vector of size 2560),\n",
       " Document(id=0e5f7b055a3642b51ebf17797516f52d2a275328e3dfa423380d634c3f116eed, content: 'Die Klinik bietet gebührenpflichtige Parkplätze direkt am Haupteingang an. Die erste halbe Stunde is...', meta: {'title': 'DRK Geburtshilfe Infos.md', 'source_id': '1ac6201d-c0f1-4ee6-9380-416fba951afb', 'page_number': 1, 'split_id': 119, 'split_idx_start': 22754}, embedding: vector of size 2560),\n",
       " Document(id=a564068661018d699c63b98f5d9c16b4bec379409f7d18799e39b4464fc541ea, content: 'Die Klinik ist mit dem S-Bahnhof Köpenick (Linie S3) gut erreichbar, von dort sind es nur wenige Min...', meta: {'title': 'DRK Geburtshilfe Infos.md', 'source_id': '1ac6201d-c0f1-4ee6-9380-416fba951afb', 'page_number': 1, 'split_id': 121, 'split_idx_start': 23306}, embedding: vector of size 2560),\n",
       " Document(id=81820f4da6dd0a859d3e4559515bf928aa1464ec94b80fb1d1807468935660ed, content: 'Der Lageplan ist auf der Website der Klinik als PDF verfügbar und zeigt den Weg zu den relevanten Be...', meta: {'title': 'DRK Geburtshilfe Infos.md', 'source_id': '1ac6201d-c0f1-4ee6-9380-416fba951afb', 'page_number': 1, 'split_id': 123, 'split_idx_start': 23644}, embedding: vector of size 2560),\n",
       " Document(id=f2d11ef848691118e0e5f8f0959590f40e32edc2194e81de5eb9222a3bf3af35, content: 'Die moderne Geburtshilfe ermöglicht eine engmaschige Überwachung und frühzeitige Interventionen, um ...', meta: {'title': 'Medizinische Maßnahmen rund um die Geburt.md', 'source_id': 'fb139ac4-aef9-4241-9882-85e09d0163cb', 'page_number': 1, 'split_id': 0, 'split_idx_start': 0}, embedding: vector of size 2560),\n",
       " Document(id=d4565b722d6a1e0e5e0b5255043c3a7c438aad0986b31528ca873adaf309e14d, content: 'Diese Begleitung umfasst verschiedene Überwachungsverfahren, die darauf abzielen, das Wohl von Mutte...', meta: {'title': 'Medizinische Maßnahmen rund um die Geburt.md', 'source_id': 'fb139ac4-aef9-4241-9882-85e09d0163cb', 'page_number': 1, 'split_id': 2, 'split_idx_start': 429}, embedding: vector of size 2560),\n",
       " Document(id=ac0d9ca5d0d973024c02ca97b388f2a890039ffcb345ff9bc1650ae7156824f0, content: 'Die Herztöne des Kindes geben Aufschluss über dessen Wohlbefinden während der Geburt.  Dabei wird ei...', meta: {'title': 'Medizinische Maßnahmen rund um die Geburt.md', 'source_id': 'fb139ac4-aef9-4241-9882-85e09d0163cb', 'page_number': 1, 'split_id': 4, 'split_idx_start': 752}, embedding: vector of size 2560),\n",
       " Document(id=3155679bf227f0857ae0b7069fd3db8b6a76f530e86fefc65e0290cc8d946e5d, content: 'Ein Pinard-Stethoskop ist ein spezielles Stethoskop mit einer Schalltrichter, das es ermöglicht, die...', meta: {'title': 'Medizinische Maßnahmen rund um die Geburt.md', 'source_id': 'fb139ac4-aef9-4241-9882-85e09d0163cb', 'page_number': 1, 'split_id': 5, 'split_idx_start': 784}, embedding: vector of size 2560),\n",
       " Document(id=2e60be337d41c96f51adb8ffea602b7deeacfe5d0d80db77a1de26ee2ea4ca1c, content: 'CTG steht für Kardiotokografie und ist eine Methode zur Überwachung der Herztöne des Babys und der W...', meta: {'title': 'Medizinische Maßnahmen rund um die Geburt.md', 'source_id': 'fb139ac4-aef9-4241-9882-85e09d0163cb', 'page_number': 1, 'split_id': 7, 'split_idx_start': 1063}, embedding: vector of size 2560),\n",
       " Document(id=580004fd61ef561f29ba7508ad9964bd94e2cf922857b557f66d23dfa96256a3, content: 'Diese Aufzeichnung erfolgt mittels einer CTG-Untersuchung (Kardiotokografie). Dabei werden die Wehen...', meta: {'title': 'Medizinische Maßnahmen rund um die Geburt.md', 'source_id': 'fb139ac4-aef9-4241-9882-85e09d0163cb', 'page_number': 1, 'split_id': 8, 'split_idx_start': 1086}, embedding: vector of size 2560),\n",
       " Document(id=079f918a284e78b4f176b092251220cb559e5445de346a52b6b1ff13cc6d8784, content: 'Diese Maßnahmen dienen der genauen Überwachung des Geburtsverlaufs und der Wehentätigkeit. Sie werde...', meta: {'title': 'Medizinische Maßnahmen rund um die Geburt.md', 'source_id': 'fb139ac4-aef9-4241-9882-85e09d0163cb', 'page_number': 1, 'split_id': 10, 'split_idx_start': 1226}, embedding: vector of size 2560),\n",
       " Document(id=5e6b1b276289cfa34b81d0d79f5a57c3edf426a27007e5f90d5f2bcfc634e441, content: 'Bei einer Mikroblutanalyse wird eine kleine Blutprobe vom Kopf oder Steiß des Kindes entnommen, um w...', meta: {'title': 'Medizinische Maßnahmen rund um die Geburt.md', 'source_id': 'fb139ac4-aef9-4241-9882-85e09d0163cb', 'page_number': 1, 'split_id': 12, 'split_idx_start': 1527}, embedding: vector of size 2560),\n",
       " Document(id=65732063b50c2798f5a0aa074a7fd3fd3818e59f73ce0650686b572fbeaeebaa, content: 'Diese Blutentnahme, die sogenannte Mikroblutanalyse, dient dazu, den Sauerstoffgehalt und andere wic...', meta: {'title': 'Medizinische Maßnahmen rund um die Geburt.md', 'source_id': 'fb139ac4-aef9-4241-9882-85e09d0163cb', 'page_number': 1, 'split_id': 13, 'split_idx_start': 1544}, embedding: vector of size 2560),\n",
       " Document(id=dd6b4e93f180ecdecfa38e0640c03c460c7b2ea0efe26a5c915209a270a15dbe, content: 'Die Schmerzbehandlung während der Geburt kann sowohl alternative Methoden wie Akupunktur oder Hypnos...', meta: {'title': 'Medizinische Maßnahmen rund um die Geburt.md', 'source_id': 'fb139ac4-aef9-4241-9882-85e09d0163cb', 'page_number': 1, 'split_id': 15, 'split_idx_start': 1901}, embedding: vector of size 2560),\n",
       " Document(id=76e5cda5b5b40fe6e1df0116a24d7e879fe158c9a509bce8790eaeef6a6516ec, content: 'Diese Verfahren sollen die Schmerzen während der Wehen lindern. TENS steht für transkutane elektrisc...', meta: {'title': 'Medizinische Maßnahmen rund um die Geburt.md', 'source_id': 'fb139ac4-aef9-4241-9882-85e09d0163cb', 'page_number': 1, 'split_id': 17, 'split_idx_start': 2112}, embedding: vector of size 2560),\n",
       " Document(id=1a199db2a26dbf69de903e83e6c74a8b66425fd648280312befc7f520f9adf12, content: 'Eine Pudendus-Anästhesie ist eine lokale Betäubung des Beckenbodens, die Schmerzen während der Gebur...', meta: {'title': 'Medizinische Maßnahmen rund um die Geburt.md', 'source_id': 'fb139ac4-aef9-4241-9882-85e09d0163cb', 'page_number': 1, 'split_id': 19, 'split_idx_start': 2494}, embedding: vector of size 2560),\n",
       " Document(id=4b100c640da54eff85c64de2b34089e19c32ea2361337eafbb713a6ae5f452a1, content: 'Lachgas wird als Gasgemisch über eine Maske inhaliert und kann bei Bedarf während der Wehen eingeset...', meta: {'title': 'Medizinische Maßnahmen rund um die Geburt.md', 'source_id': 'fb139ac4-aef9-4241-9882-85e09d0163cb', 'page_number': 1, 'split_id': 21, 'split_idx_start': 2808}, embedding: vector of size 2560),\n",
       " Document(id=0a2409e49345919a784fdf7264fe5c8ea7ea58555f51c56b92c727473a143c2e, content: 'PDA bedeutet, dass ein Lokalanästhetikum in den Rückenmarkskanal injiziert wird, um die Nerven zu be...', meta: {'title': 'Medizinische Maßnahmen rund um die Geburt.md', 'source_id': 'fb139ac4-aef9-4241-9882-85e09d0163cb', 'page_number': 1, 'split_id': 23, 'split_idx_start': 2971}, embedding: vector of size 2560),\n",
       " Document(id=4d96773b71ae70699edaaa259238b5cbdbe98583741ef348ffafec02c30d5d8a, content: 'Dies bedeutet, dass Sie gemeinsam mit den Ärztinnen und Ärzten die für Sie passende Schmerzbehandlun...', meta: {'title': 'Medizinische Maßnahmen rund um die Geburt.md', 'source_id': 'fb139ac4-aef9-4241-9882-85e09d0163cb', 'page_number': 1, 'split_id': 26, 'split_idx_start': 3156}, embedding: vector of size 2560),\n",
       " Document(id=a6d877127cf8dbf560a565bf238cd348ca12c4c043c81bf29d5607a50fa82a66, content: 'Wehenverstärkende Medikamente werden eingesetzt, um den natürlichen Geburtsverlauf zu unterstützen o...', meta: {'title': 'Medizinische Maßnahmen rund um die Geburt.md', 'source_id': 'fb139ac4-aef9-4241-9882-85e09d0163cb', 'page_number': 1, 'split_id': 28, 'split_idx_start': 3352}, embedding: vector of size 2560),\n",
       " Document(id=4ab16e5db85d41f0bd1d1105f9c42807683e1d176f057612c68f6ec7a85c3cd8, content: 'Wehenverstärkende Mittel werden also eingesetzt, wenn die Wehen von alleine nicht ausreichen, um die...', meta: {'title': 'Medizinische Maßnahmen rund um die Geburt.md', 'source_id': 'fb139ac4-aef9-4241-9882-85e09d0163cb', 'page_number': 1, 'split_id': 29, 'split_idx_start': 3383}, embedding: vector of size 2560),\n",
       " Document(id=e5f589a2a38411da83caf23a35f131977f3ddd72af4f73fbc3ef1809593b1e2f, content: 'Wehenhemmende Medikamente werden eingesetzt, um den Geburtsverlauf zu verlangsamen oder zu stoppen. ...', meta: {'title': 'Medizinische Maßnahmen rund um die Geburt.md', 'source_id': 'fb139ac4-aef9-4241-9882-85e09d0163cb', 'page_number': 1, 'split_id': 31, 'split_idx_start': 3860}, embedding: vector of size 2560),\n",
       " Document(id=278e2787c046c1bb422168db062bf887a98fdaf64d766592869c83c62c43c7eb, content: 'Manchmal liegt das Kind in einer ungünstigen Position (z.B. Querlage), die eine vaginale Geburt ersc...', meta: {'title': 'Medizinische Maßnahmen rund um die Geburt.md', 'source_id': 'fb139ac4-aef9-4241-9882-85e09d0163cb', 'page_number': 1, 'split_id': 33, 'split_idx_start': 3912}, embedding: vector of size 2560),\n",
       " Document(id=8cbfd372f826aeb040aa026c9155ccd355f27b6b7e809b761105cd7ca682dd49, content: 'Dies bedeutet, dass die Wehen sehr schnell hintereinander auftreten und möglicherweise die Mutter od...', meta: {'title': 'Medizinische Maßnahmen rund um die Geburt.md', 'source_id': 'fb139ac4-aef9-4241-9882-85e09d0163cb', 'page_number': 1, 'split_id': 34, 'split_idx_start': 4018}, embedding: vector of size 2560),\n",
       " Document(id=1940817b49345d9464cceeff364364cbcfea2519bef7d261a42b09eaeae63c8a, content: 'Ein auffälliges CTG (Kardiotokografie) kann auf eine vorübergehende Sauerstoffunterversorgung des Ba...', meta: {'title': 'Medizinische Maßnahmen rund um die Geburt.md', 'source_id': 'fb139ac4-aef9-4241-9882-85e09d0163cb', 'page_number': 1, 'split_id': 35, 'split_idx_start': 4046}, embedding: vector of size 2560),\n",
       " Document(id=d306485ac321170f93022ed57c445147c9114cda65b4913eb6c15609d6544d68, content: 'Dieser Zeitraum dient dazu, das medizinische Team auf die Operation vorzubereiten und sicherzustelle...', meta: {'title': 'Medizinische Maßnahmen rund um die Geburt.md', 'source_id': 'fb139ac4-aef9-4241-9882-85e09d0163cb', 'page_number': 1, 'split_id': 36, 'split_idx_start': 4119}, embedding: vector of size 2560),\n",
       " Document(id=74b423033a2e73a5129daee28db99a727c83290ce3bd4654413f82485b17ea6f, content: 'Infektionen können sowohl für die Mutter als auch für das Kind gefährlich sein. Um das Risiko zu min...', meta: {'title': 'Medizinische Maßnahmen rund um die Geburt.md', 'source_id': 'fb139ac4-aef9-4241-9882-85e09d0163cb', 'page_number': 1, 'split_id': 38, 'split_idx_start': 4221}, embedding: vector of size 2560),\n",
       " Document(id=0b6396ee44134f10341f265af1e9d0ab33037d277a66d117bec65eefa32926f0, content: 'Streptokokkenbefunde bedeuten, dass bei der Mutter oder dem Kind Bakterien der Streptokokkenart gefu...', meta: {'title': 'Medizinische Maßnahmen rund um die Geburt.md', 'source_id': 'fb139ac4-aef9-4241-9882-85e09d0163cb', 'page_number': 1, 'split_id': 39, 'split_idx_start': 4238}, embedding: vector of size 2560),\n",
       " Document(id=40d14e7d22871e79c8bba4428d11aff0891294e1db8e5ad9fe62f9951e5f87c2, content: 'Bei Frauen mit Rhesus-negativem Blut und einem Kind mit Rhesus-positivem Blut wird eine Anti-D-Injek...', meta: {'title': 'Medizinische Maßnahmen rund um die Geburt.md', 'source_id': 'fb139ac4-aef9-4241-9882-85e09d0163cb', 'page_number': 1, 'split_id': 41, 'split_idx_start': 4468}, embedding: vector of size 2560),\n",
       " Document(id=c9fdd2e4c7f458ad2f3ccdc3ca6cf15c7d4f4ebbd171a63421a65e384a188b8f, content: 'Diese Anti-D-Prophylaxe verhindert, dass die Mutter des Kindes Antikörper gegen die Rhesus-Faktoren ...', meta: {'title': 'Medizinische Maßnahmen rund um die Geburt.md', 'source_id': 'fb139ac4-aef9-4241-9882-85e09d0163cb', 'page_number': 1, 'split_id': 42, 'split_idx_start': 4486}, embedding: vector of size 2560),\n",
       " Document(id=3546dd38df50f2b3e7365e497c716ef70ee36c4e592f4fadf929aaacdc8e15b3, content: 'Antibiotika werden während der Geburt aus Gründen der Infektionsprävention eingesetzt, insbesondere ...', meta: {'title': 'Medizinische Maßnahmen rund um die Geburt.md', 'source_id': 'fb139ac4-aef9-4241-9882-85e09d0163cb', 'page_number': 1, 'split_id': 44, 'split_idx_start': 4723}, embedding: vector of size 2560),\n",
       " Document(id=d3b1d46c67dcd4966a6945b02bde66f10618ac43b6023ca3d01ad4bcb5ccb9c5, content: 'Um Dammschäden zu vermeiden, werden während der Geburt unterstützende Maßnahmen wie Kompressen oder ...', meta: {'title': 'Medizinische Maßnahmen rund um die Geburt.md', 'source_id': 'fb139ac4-aef9-4241-9882-85e09d0163cb', 'page_number': 1, 'split_id': 46, 'split_idx_start': 5095}, embedding: vector of size 2560),\n",
       " Document(id=d5f27736246bdaaf7b2079540a8b107b83cab44a9b9b82b0c20b34fa905f12a5, content: 'Ein Dammschnitt ist ein geplanter Schnitt des Damms, der während der Geburt durchgeführt wird. Er wi...', meta: {'title': 'Medizinische Maßnahmen rund um die Geburt.md', 'source_id': 'fb139ac4-aef9-4241-9882-85e09d0163cb', 'page_number': 1, 'split_id': 48, 'split_idx_start': 5744}, embedding: vector of size 2560),\n",
       " Document(id=6c8262fa0f543ce5fcd5777b3ffd4e92162672375f703ffaf3a2fb56d5888b30, content: 'Diese Instrumente werden eingesetzt, um den Geburtsvorgang zu beschleunigen und mögliche Komplikatio...', meta: {'title': 'Medizinische Maßnahmen rund um die Geburt.md', 'source_id': 'fb139ac4-aef9-4241-9882-85e09d0163cb', 'page_number': 1, 'split_id': 50, 'split_idx_start': 6294}, embedding: vector of size 2560),\n",
       " Document(id=abe43d75693db7381e2f285097a4c6ab294f67aed870de952cdc88ee94255242, content: 'Ein Kaiserschnitt ist ein geplanter oder notfallmäßiger operativer Eingriff, der eine Bauchoperation...', meta: {'title': 'Medizinische Maßnahmen rund um die Geburt.md', 'source_id': 'fb139ac4-aef9-4241-9882-85e09d0163cb', 'page_number': 1, 'split_id': 52, 'split_idx_start': 6819}, embedding: vector of size 2560),\n",
       " Document(id=d5946d5c30de1578ed301db47682adf01cbf17abff73032ff1b27d03f52ad791, content: 'Ein Kaiserschnitt ist ein geplanter oder notwendiger operativer Eingriff bei der Geburt. Da in Notfa...', meta: {'title': 'Medizinische Maßnahmen rund um die Geburt.md', 'source_id': 'fb139ac4-aef9-4241-9882-85e09d0163cb', 'page_number': 1, 'split_id': 54, 'split_idx_start': 7169}, embedding: vector of size 2560),\n",
       " Document(id=b21749b11effbc3e736a812dca1b0e60d4db5d3b07c5431bbf0d70ae87b04c61, content: 'Ein Kaiserschnitt ist ein operativer Eingriff, bei dem die Bauchdecke und die Gebärmutter eröffnet w...', meta: {'title': 'Medizinische Maßnahmen rund um die Geburt.md', 'source_id': 'fb139ac4-aef9-4241-9882-85e09d0163cb', 'page_number': 1, 'split_id': 56, 'split_idx_start': 7799}, embedding: vector of size 2560),\n",
       " Document(id=1ef856f11fab98b372765e03a2aead378d5b9711dd3c92e77675aec60fbb4a18, content: 'Eine Wassergeburt ist eine Option, erfordert aber eine separate Aufklärung über spezifische Aspekte ...', meta: {'title': 'Medizinische Maßnahmen rund um die Geburt.md', 'source_id': 'fb139ac4-aef9-4241-9882-85e09d0163cb', 'page_number': 1, 'split_id': 58, 'split_idx_start': 8331}, embedding: vector of size 2560),\n",
       " Document(id=3baeb4a27b1e5bc5498880ec9205f3e51a1151425ea73cf8fbd36cf97e25d8be, content: 'Die Plazenta, auch Mutterkuchen genannt, ist ein Organ, das während der Schwangerschaft die Versorgu...', meta: {'title': 'Medizinische Maßnahmen rund um die Geburt.md', 'source_id': 'fb139ac4-aef9-4241-9882-85e09d0163cb', 'page_number': 1, 'split_id': 60, 'split_idx_start': 8474}, embedding: vector of size 2560),\n",
       " Document(id=4a93b18347bc62dc94ceb770ddcf245d1f3b99b3fc7eeb5eacc203f57734938d, content: 'Die Anti-D-Injektion wird verabreicht, um zu verhindern, dass Ihre Körper Antikörper gegen die roten...', meta: {'title': 'Medizinische Maßnahmen rund um die Geburt.md', 'source_id': 'fb139ac4-aef9-4241-9882-85e09d0163cb', 'page_number': 1, 'split_id': 62, 'split_idx_start': 8819}, embedding: vector of size 2560),\n",
       " Document(id=dd52bd73aff87432b748166bce19e139c8d66970d3f6f0d8efe297d51b46e77f, content: 'Dieser Abschnitt fasst die allgemeine Risikobereitschaft bei der Geburt zusammen. Die aufgeführten R...', meta: {'title': 'Medizinische Maßnahmen rund um die Geburt.md', 'source_id': 'fb139ac4-aef9-4241-9882-85e09d0163cb', 'page_number': 1, 'split_id': 64, 'split_idx_start': 9150}, embedding: vector of size 2560),\n",
       " Document(id=359dc04de059d69a14c0cc52960948af8f7d579575cbef86dad8e238ad9cb5f6, content: '**HIT Typ II (Heparin-induzierte Thrombozytopenie Typ II)** ist eine seltene, aber schwerwiegende Ko...', meta: {'title': 'Medizinische Maßnahmen rund um die Geburt.md', 'source_id': 'fb139ac4-aef9-4241-9882-85e09d0163cb', 'page_number': 1, 'split_id': 66, 'split_idx_start': 9832}, embedding: vector of size 2560),\n",
       " Document(id=031703833191d2a1af87bafc5e5a6ff969ade4d7e826b870667f11dbd1cbdf22, content: 'Eine Fruchtwasserembolie ist eine sehr seltene, aber lebensbedrohliche Komplikation während der Gebu...', meta: {'title': 'Medizinische Maßnahmen rund um die Geburt.md', 'source_id': 'fb139ac4-aef9-4241-9882-85e09d0163cb', 'page_number': 1, 'split_id': 68, 'split_idx_start': 10323}, embedding: vector of size 2560),\n",
       " Document(id=c243dc4f3ed3d204b014287be5c8d6c268997734c027374155f761b959b4ccb1, content: '**Latex** ist ein Naturkautschuk, der in medizinischen Geräten und Handschuhen verwendet wird. Eine ...', meta: {'title': 'Medizinische Maßnahmen rund um die Geburt.md', 'source_id': 'fb139ac4-aef9-4241-9882-85e09d0163cb', 'page_number': 1, 'split_id': 70, 'split_idx_start': 10558}, embedding: vector of size 2560),\n",
       " Document(id=20cc5e5319547902d64f3863c6424afaa407bee488f915807f2dfe557777d425, content: 'Diese Reaktionen treten typischerweise an den Stellen auf, an denen Elektroden für die CTG-Messung o...', meta: {'title': 'Medizinische Maßnahmen rund um die Geburt.md', 'source_id': 'fb139ac4-aef9-4241-9882-85e09d0163cb', 'page_number': 1, 'split_id': 72, 'split_idx_start': 10876}, embedding: vector of size 2560),\n",
       " Document(id=642f47bcf821edffae43d251d2e9a4843df37358362ccbd3a7b7e9b7feb60c3d, content: 'Diese Atemprobleme sind meist vorübergehend und entstehen durch die Wirkung der Medikamente auf die ...', meta: {'title': 'Medizinische Maßnahmen rund um die Geburt.md', 'source_id': 'fb139ac4-aef9-4241-9882-85e09d0163cb', 'page_number': 1, 'split_id': 74, 'split_idx_start': 11064}, embedding: vector of size 2560),\n",
       " Document(id=46bb592bc777413f1be88519cccceb1b890c20a164866da597f6b4c60a51bfbf, content: 'Lachgas wird als Schmerzlinderungsmaßnahme während der Wehen durch eine Maske inhaliert. Es handelt ...', meta: {'title': 'Medizinische Maßnahmen rund um die Geburt.md', 'source_id': 'fb139ac4-aef9-4241-9882-85e09d0163cb', 'page_number': 1, 'split_id': 76, 'split_idx_start': 11314}, embedding: vector of size 2560),\n",
       " Document(id=ec8a32a06a43f5d3f28f50a0aa57781bef5682a9f24f136c9fbbd326fd6d28a1, content: 'CTG-Elektroden und Wehenmesser sind Hilfsmittel zur Überwachung von Mutter und Kind während der Gebu...', meta: {'title': 'Medizinische Maßnahmen rund um die Geburt.md', 'source_id': 'fb139ac4-aef9-4241-9882-85e09d0163cb', 'page_number': 1, 'split_id': 78, 'split_idx_start': 11568}, embedding: vector of size 2560),\n",
       " Document(id=52811f92c85d339a3752b035628f42986159705de0d2a3be16843bbf649cb8c0, content: 'Die Mikroblutanalyse ist ein Verfahren, bei dem eine kleine Blutprobe vom Kind entnommen wird, um de...', meta: {'title': 'Medizinische Maßnahmen rund um die Geburt.md', 'source_id': 'fb139ac4-aef9-4241-9882-85e09d0163cb', 'page_number': 1, 'split_id': 80, 'split_idx_start': 11809}, embedding: vector of size 2560),\n",
       " Document(id=fd8015ab65f9981522d8caa0bbb9c8513c5315d8e1929ada43c0038c6c036d26, content: '**Fistelbildungen** sind abnorme Verbindungen zwischen Organen oder Körperöffnungen, die beispielswe...', meta: {'title': 'Medizinische Maßnahmen rund um die Geburt.md', 'source_id': 'fb139ac4-aef9-4241-9882-85e09d0163cb', 'page_number': 1, 'split_id': 82, 'split_idx_start': 12093}, embedding: vector of size 2560),\n",
       " Document(id=d273833759e0789e4ee2b2fc0637d22c3160d28171d4baf1ec61ab11f138b302, content: 'Eine Schwäche des Beckenbodens kann nach der Geburt zu Problemen wie Inkontinenz führen. Diese Schwä...', meta: {'title': 'Medizinische Maßnahmen rund um die Geburt.md', 'source_id': 'fb139ac4-aef9-4241-9882-85e09d0163cb', 'page_number': 1, 'split_id': 84, 'split_idx_start': 12562}, embedding: vector of size 2560),\n",
       " Document(id=3d958434dfcb4d879cea14f19e2160ba33e8b182d7773c8590cc30e4da81f1f6, content: 'Ein Riss der Gebärmutter ist ein seltenes, aber ernstes Ereignis, das meist einen Notkaiserschnitt e...', meta: {'title': 'Medizinische Maßnahmen rund um die Geburt.md', 'source_id': 'fb139ac4-aef9-4241-9882-85e09d0163cb', 'page_number': 1, 'split_id': 86, 'split_idx_start': 12824}, embedding: vector of size 2560),\n",
       " Document(id=b36f0668c663a6baac2ac5764d453e600dff93b444a10891e02fc236b5042e49, content: 'Harnwegsinfekte sind häufige Komplikationen nach der Geburt, da die Nähe von Darm und Harnröhre sowi...', meta: {'title': 'Medizinische Maßnahmen rund um die Geburt.md', 'source_id': 'fb139ac4-aef9-4241-9882-85e09d0163cb', 'page_number': 1, 'split_id': 88, 'split_idx_start': 13084}, embedding: vector of size 2560),\n",
       " Document(id=9c5f99d0fc612dd95ac0caa6354540066e1c191bd59c061a9e3ed6651e5a1829, content: 'Bei starker Blutungen nach der Geburt kann eine Bluttransfusion notwendig werden. Das Risiko einer I...', meta: {'title': 'Medizinische Maßnahmen rund um die Geburt.md', 'source_id': 'fb139ac4-aef9-4241-9882-85e09d0163cb', 'page_number': 1, 'split_id': 90, 'split_idx_start': 13218}, embedding: vector of size 2560),\n",
       " Document(id=cd32982247c7aa45145667acdd938b59de947e284f219f0628fdd302e563ef81, content: 'Diese Entzündungen entstehen, wenn die Gebärmutter sich nicht vollständig zurückbildet oder Teile de...', meta: {'title': 'Medizinische Maßnahmen rund um die Geburt.md', 'source_id': 'fb139ac4-aef9-4241-9882-85e09d0163cb', 'page_number': 1, 'split_id': 92, 'split_idx_start': 13854}, embedding: vector of size 2560),\n",
       " Document(id=83d542e2ba0b37f8e17eb107e0b8ce400f989048fde37bb9943c9c21dd35d58a, content: 'Ein Nabelschnurvorfall tritt auf, wenn die Nabelschnur aus der Gebärmutter herausragt, bevor das Bab...', meta: {'title': 'Medizinische Maßnahmen rund um die Geburt.md', 'source_id': 'fb139ac4-aef9-4241-9882-85e09d0163cb', 'page_number': 1, 'split_id': 94, 'split_idx_start': 14231}, embedding: vector of size 2560),\n",
       " Document(id=4ceab34124ddfd980ffa448e3cdb0955c996fd56af34460df4a8764d5751eda6, content: 'Schulterdystokie ist eine seltene, aber potenziell gefährliche Situation, bei der die Schulter des K...', meta: {'title': 'Medizinische Maßnahmen rund um die Geburt.md', 'source_id': 'fb139ac4-aef9-4241-9882-85e09d0163cb', 'page_number': 1, 'split_id': 96, 'split_idx_start': 14429}, embedding: vector of size 2560),\n",
       " Document(id=832c6d3ac0e5002bb12fe30a71a486034f8f4647eeb4b696432e6b902f31f220, content: 'Die Beckenendlage ist eine Geburtslage, bei der das Kind mit dem Kopf nach oben oder nach unten posi...', meta: {'title': 'Medizinische Maßnahmen rund um die Geburt.md', 'source_id': 'fb139ac4-aef9-4241-9882-85e09d0163cb', 'page_number': 1, 'split_id': 98, 'split_idx_start': 14819}, embedding: vector of size 2560),\n",
       " Document(id=d0c4b5ddc5df0a3f7472bef4d4259db7ef437b915113c7f18491bf9cc56c85aa, content: 'Bei Zwillingsgeburten ist eine vaginale Entbindung möglich, wenn beide Kinder richtig liegen und die...', meta: {'title': 'Medizinische Maßnahmen rund um die Geburt.md', 'source_id': 'fb139ac4-aef9-4241-9882-85e09d0163cb', 'page_number': 1, 'split_id': 100, 'split_idx_start': 15277}, embedding: vector of size 2560),\n",
       " Document(id=1447c201b5faea59db6d923faf96f8a5632ebc602bd1496514cdbfe13fe0f1e1, content: 'Dieser Abschnitt listet mögliche Komplikationen und Symptome auf, auf die Mütter nach der Geburt ach...', meta: {'title': 'Medizinische Maßnahmen rund um die Geburt.md', 'source_id': 'fb139ac4-aef9-4241-9882-85e09d0163cb', 'page_number': 1, 'split_id': 103, 'split_idx_start': 15491}, embedding: vector of size 2560),\n",
       " Document(id=cf653d26757c2f81bb94a8ab6cfc25dc06f5bfed01808fe502f9f1458626fe5f, content: 'Eine Uterusruptur ist ein Riss der Gebärmutter, der meistens während der Wehen auftritt. Dies ist ei...', meta: {'title': 'Medizinische Maßnahmen rund um die Geburt.md', 'source_id': 'fb139ac4-aef9-4241-9882-85e09d0163cb', 'page_number': 1, 'split_id': 105, 'split_idx_start': 15508}, embedding: vector of size 2560),\n",
       " Document(id=81b05b617d0d46993a6ff468472f66a730d1c540f48cd34501ef36866ff4d156, content: 'Eine Fistel ist eine abnormale Verbindung zwischen zwei Organen oder Gefäßen. Sie kann beispielsweis...', meta: {'title': 'Medizinische Maßnahmen rund um die Geburt.md', 'source_id': 'fb139ac4-aef9-4241-9882-85e09d0163cb', 'page_number': 1, 'split_id': 106, 'split_idx_start': 15718}, embedding: vector of size 2560),\n",
       " Document(id=f4c3903f5334bea6101caf44f67ce40e05e8d1b6872def492062746f2ec93ef8, content: 'Für das Kind können während des Kaiserschnitts Verletzungen auftreten, wie z.B. kleine Schnittverlet...', meta: {'title': 'Medizinische Maßnahmen rund um die Geburt.md', 'source_id': 'fb139ac4-aef9-4241-9882-85e09d0163cb', 'page_number': 1, 'split_id': 108, 'split_idx_start': 15852}, embedding: vector of size 2560),\n",
       " Document(id=b8b7bc6ccbeb86355824f04bd76c5a67e4b365dae5043355e1e182f1e745489e, content: 'Diese Symptome sind häufige, aber meist unbedenklich, Folgen der Instrumentenentbindung (Saugglocke/...', meta: {'title': 'Medizinische Maßnahmen rund um die Geburt.md', 'source_id': 'fb139ac4-aef9-4241-9882-85e09d0163cb', 'page_number': 1, 'split_id': 110, 'split_idx_start': 15867}, embedding: vector of size 2560),\n",
       " Document(id=b8dd1b2af74596d06c23532d6af97249eed1bfc1862ed8b019bc89afc48f8bd0, content: 'Vitamin K unterstützt die Blutgerinnung und wird Neugeborenen oft verabreicht, da sie bei der Geburt...', meta: {'title': 'Medizinische Maßnahmen rund um die Geburt.md', 'source_id': 'fb139ac4-aef9-4241-9882-85e09d0163cb', 'page_number': 1, 'split_id': 112, 'split_idx_start': 15975}, embedding: vector of size 2560),\n",
       " Document(id=b442551fe617025c2bae4ad7d827a376147f05acef96664fd3417259d22483a2, content: 'Dieser Satz bezieht sich auf die instrumentelle Entbindung (Saugglocke/Zange), die in bestimmten Sit...', meta: {'title': 'Medizinische Maßnahmen rund um die Geburt.md', 'source_id': 'fb139ac4-aef9-4241-9882-85e09d0163cb', 'page_number': 1, 'split_id': 114, 'split_idx_start': 16050}, embedding: vector of size 2560),\n",
       " Document(id=831a5a3995b11807d12e3f7f00482ab4b1e3c32c645ccb46c96dfbd3378f1999, content: 'Damm- und Kaiserschnittnähte können Komplikationen wie Schmerzen, Blutungen oder Infektionen verursa...', meta: {'title': 'Medizinische Maßnahmen rund um die Geburt.md', 'source_id': 'fb139ac4-aef9-4241-9882-85e09d0163cb', 'page_number': 1, 'split_id': 116, 'split_idx_start': 16193}, embedding: vector of size 2560),\n",
       " Document(id=708ede37e197e60ba42b75d173726e0e95677ff10685e32e8e8bb3de825b51ba, content: 'Eine Sepsis ist eine schwere, lebensbedrohliche Reaktion des Körpers auf eine Infektion. Sie entsteh...', meta: {'title': 'Medizinische Maßnahmen rund um die Geburt.md', 'source_id': 'fb139ac4-aef9-4241-9882-85e09d0163cb', 'page_number': 1, 'split_id': 118, 'split_idx_start': 16328}, embedding: vector of size 2560),\n",
       " Document(id=fe1fe6c1ab8eeeae80278b57100b70c4c4299e4fd102f878d65b2dd088213947, content: 'Diese Wundheilungsstörung kann zu Schmerzen, Rötungen oder Spannungsgefühl führen und erfordert mögl...', meta: {'title': 'Medizinische Maßnahmen rund um die Geburt.md', 'source_id': 'fb139ac4-aef9-4241-9882-85e09d0163cb', 'page_number': 1, 'split_id': 120, 'split_idx_start': 16481}, embedding: vector of size 2560),\n",
       " Document(id=3713348169abb341c74549097aa7e8c7f0e228ce996b66cd0067a422ba5aa43e, content: 'Narben können sich auch nach Jahren noch verändern und Beschwerden verursachen. Eine operative Korre...', meta: {'title': 'Medizinische Maßnahmen rund um die Geburt.md', 'source_id': 'fb139ac4-aef9-4241-9882-85e09d0163cb', 'page_number': 1, 'split_id': 122, 'split_idx_start': 16699}, embedding: vector of size 2560),\n",
       " Document(id=78112e942451ab823907862f1bf9b3d5c591985954712d5091872dae942a6e38, content: 'Dieser Absatz weist darauf hin, dass der vorliegende Text nur eine allgemeine Einführung in die Risi...', meta: {'title': 'Medizinische Maßnahmen rund um die Geburt.md', 'source_id': 'fb139ac4-aef9-4241-9882-85e09d0163cb', 'page_number': 1, 'split_id': 125, 'split_idx_start': 16883}, embedding: vector of size 2560),\n",
       " Document(id=12514f018feffc254c8d339e42e7f6b318c95a6d38e2f1b67dcfaf558b3f30a5, content: 'Diese Verletzungen können durch frühere Operationen, starke Verwachsungen oder schwierige anatomisch...', meta: {'title': 'Medizinische Maßnahmen rund um die Geburt.md', 'source_id': 'fb139ac4-aef9-4241-9882-85e09d0163cb', 'page_number': 1, 'split_id': 127, 'split_idx_start': 17110}, embedding: vector of size 2560),\n",
       " Document(id=1141407a758ae519d6f8d8ed7532828fdb8e5b4ea9a6c6102420312d6a877f19, content: 'Diese Aussage bezieht sich auf mögliche Komplikationen während eines Kaiserschnitts, bei denen stark...', meta: {'title': 'Medizinische Maßnahmen rund um die Geburt.md', 'source_id': 'fb139ac4-aef9-4241-9882-85e09d0163cb', 'page_number': 1, 'split_id': 129, 'split_idx_start': 17692}, embedding: vector of size 2560),\n",
       " Document(id=7afbdf326aafab34995aa3d8d26bbcb8a03df8f06eba4deef5f5053b58db38f5, content: 'Diese Verletzungen können durch die Positionierung der Mutter während des Kaiserschnitts oder durch ...', meta: {'title': 'Medizinische Maßnahmen rund um die Geburt.md', 'source_id': 'fb139ac4-aef9-4241-9882-85e09d0163cb', 'page_number': 1, 'split_id': 131, 'split_idx_start': 17952}, embedding: vector of size 2560),\n",
       " Document(id=fb74da99257544974b95e83ef547770b48dc178a0b1e721e83e7d534f57ee99c, content: 'Eine Infektion der Bauchhöhle, auch Peritonitis genannt, ist eine schwere Komplikation, die eine sof...', meta: {'title': 'Medizinische Maßnahmen rund um die Geburt.md', 'source_id': 'fb139ac4-aef9-4241-9882-85e09d0163cb', 'page_number': 1, 'split_id': 133, 'split_idx_start': 18342}, embedding: vector of size 2560),\n",
       " Document(id=46e564310148e644c361f5ac346c405c7c5a501d7c059d5858295100457bd49f, content: 'Ein Narbenbruch tritt auf, wenn sich die Wundränder an der Operationsstelle wieder öffnen. Dies kann...', meta: {'title': 'Medizinische Maßnahmen rund um die Geburt.md', 'source_id': 'fb139ac4-aef9-4241-9882-85e09d0163cb', 'page_number': 1, 'split_id': 135, 'split_idx_start': 18680}, embedding: vector of size 2560),\n",
       " Document(id=732bf368ef6ade8f0269df3f8c66adb811ad9f898e830ff71e6f15051b06db6b, content: 'Eine Darmlähmung kann dazu führen, dass der Darm sich nicht wie gewohnt bewegt und Nahrung nicht wei...', meta: {'title': 'Medizinische Maßnahmen rund um die Geburt.md', 'source_id': 'fb139ac4-aef9-4241-9882-85e09d0163cb', 'page_number': 1, 'split_id': 137, 'split_idx_start': 18888}, embedding: vector of size 2560),\n",
       " Document(id=9ef9c0a98d5c3ef4b9211bf01cfeb7ec7b3941232114a86de4e96e57d71f205e, content: '**Plazentationsstörungen** beziehen sich auf Probleme, wie die Plazenta sich an die Gebärmutterwand ...', meta: {'title': 'Medizinische Maßnahmen rund um die Geburt.md', 'source_id': 'fb139ac4-aef9-4241-9882-85e09d0163cb', 'page_number': 1, 'split_id': 139, 'split_idx_start': 19066}, embedding: vector of size 2560),\n",
       " Document(id=271c7a22d5fd44351ab035f98b7f496f571f8d0bdde146e414f96f154bd72454, content: 'Dieser Abschnitt beschreibt mögliche Folgen eines Kaiserschnitts für die Mutter. Schmerzen und Misse...', meta: {'title': 'Medizinische Maßnahmen rund um die Geburt.md', 'source_id': 'fb139ac4-aef9-4241-9882-85e09d0163cb', 'page_number': 1, 'split_id': 141, 'split_idx_start': 19359}, embedding: vector of size 2560),\n",
       " Document(id=77ad1bd6621b79e2803bd9d6ee2aada7662101d5479466f9d481a6b8af16dc45, content: 'Dieser Satz bezieht sich auf mögliche Verletzungen des Babys während eines Kaiserschnitts. Kaisersch...', meta: {'title': 'Medizinische Maßnahmen rund um die Geburt.md', 'source_id': 'fb139ac4-aef9-4241-9882-85e09d0163cb', 'page_number': 1, 'split_id': 143, 'split_idx_start': 19577}, embedding: vector of size 2560),\n",
       " Document(id=05547e22a6f78008bb15518c2c7782f61529979fe10cdb596930f03048b5fb4a, content: 'Ein Kaiserschnitt ist ein operativer Eingriff, bei dem das Baby durch einen Schnitt in Bauch und Geb...', meta: {'title': 'Medizinische Maßnahmen rund um die Geburt.md', 'source_id': 'fb139ac4-aef9-4241-9882-85e09d0163cb', 'page_number': 1, 'split_id': 145, 'split_idx_start': 19797}, embedding: vector of size 2560),\n",
       " Document(id=f35b96a0303f61ee5e0ddf00bd75f5cf2c2d7ab0e3ba10d9cff20a5981d69045, content: '**Hintergrund:** Studien legen einen möglichen Zusammenhang zwischen Kaiserschnitten und einem erhöh...', meta: {'title': 'Medizinische Maßnahmen rund um die Geburt.md', 'source_id': 'fb139ac4-aef9-4241-9882-85e09d0163cb', 'page_number': 1, 'split_id': 147, 'split_idx_start': 20093}, embedding: vector of size 2560),\n",
       " Document(id=b67ef6cfd0100b6a936158d75e371953a3c71675480f79d033aab04ebd03b360, content: 'Dieser Absatz betont die Wichtigkeit einer individuellen Beratung und ermutigt die Patientin, offene...', meta: {'title': 'Medizinische Maßnahmen rund um die Geburt.md', 'source_id': 'fb139ac4-aef9-4241-9882-85e09d0163cb', 'page_number': 1, 'split_id': 149, 'split_idx_start': 20342}, embedding: vector of size 2560),\n",
       " Document(id=32830f4cecaa91aedf891ec9b552a926bbae0144e59304eae4ccb60493d2a0ed, content: 'Dieser Abschnitt listet Symptome auf, die nach der Geburt auf eine mögliche Komplikation hindeuten u...', meta: {'title': 'Medizinische Maßnahmen rund um die Geburt.md', 'source_id': 'fb139ac4-aef9-4241-9882-85e09d0163cb', 'page_number': 1, 'split_id': 151, 'split_idx_start': 20492}, embedding: vector of size 2560),\n",
       " Document(id=924e089ed50c25f46b09d93104243132affe888a70ae03f9bbc28ee58117dd27, content: 'Dies ist ein Warnsignal für eine mögliche Infektion, die ärztlich abgeklärt werden muss. Solche Infe...', meta: {'title': 'Medizinische Maßnahmen rund um die Geburt.md', 'source_id': 'fb139ac4-aef9-4241-9882-85e09d0163cb', 'page_number': 1, 'split_id': 153, 'split_idx_start': 20599}, embedding: vector of size 2560),\n",
       " Document(id=3902dd03d139d6736203f786a1cdfe78ba7b0c86ca808f3c42fe5e062f503b83, content: 'Diese Symptome können auf eine Infektion oder andere Komplikationen nach der Geburt hindeuten und er...', meta: {'title': 'Medizinische Maßnahmen rund um die Geburt.md', 'source_id': 'fb139ac4-aef9-4241-9882-85e09d0163cb', 'page_number': 1, 'split_id': 154, 'split_idx_start': 20622}, embedding: vector of size 2560),\n",
       " Document(id=4a31f490adf71b496e14576af8ce29933ad3c1a56c042cd938120ec05aafa799, content: 'Dies bezieht sich auf die Nachblutungen, die nach der Geburt auftreten können. Eine übermäßige Blutu...', meta: {'title': 'Medizinische Maßnahmen rund um die Geburt.md', 'source_id': 'fb139ac4-aef9-4241-9882-85e09d0163cb', 'page_number': 1, 'split_id': 155, 'split_idx_start': 20658}, embedding: vector of size 2560),\n",
       " Document(id=4c8d1a2562815b44caffc79d013c02608711f82b743c00bfc427dd81f8a5f4e4, content: 'Dies kann ein Zeichen für eine Milchdrüsenentzündung oder eine Abszessbildung sein, die ärztlich abg...', meta: {'title': 'Medizinische Maßnahmen rund um die Geburt.md', 'source_id': 'fb139ac4-aef9-4241-9882-85e09d0163cb', 'page_number': 1, 'split_id': 156, 'split_idx_start': 20715}, embedding: vector of size 2560),\n",
       " Document(id=2d3471111c14184545e51cf003134083a85faa5dc58153819f2c01afb77414ed, content: 'Dies könnte ein Zeichen für eine tiefe Venenthrombose (Blutgerinnsel) sein, einer potenziell gefährl...', meta: {'title': 'Medizinische Maßnahmen rund um die Geburt.md', 'source_id': 'fb139ac4-aef9-4241-9882-85e09d0163cb', 'page_number': 1, 'split_id': 157, 'split_idx_start': 20786}, embedding: vector of size 2560),\n",
       " Document(id=3991f9d52b9779d3e5769c5e2336c067995638bafcd0efc4e3d1778ba2c0ab5b, content: 'Atemnot kann verschiedene Ursachen haben, von Stress nach der Geburt bis hin zu ernsteren Komplikati...', meta: {'title': 'Medizinische Maßnahmen rund um die Geburt.md', 'source_id': 'fb139ac4-aef9-4241-9882-85e09d0163cb', 'page_number': 1, 'split_id': 158, 'split_idx_start': 20839}, embedding: vector of size 2560),\n",
       " Document(id=e6fa01487281e0261d063c8933aae2b360a52c699a50c0e89b5b3a63785ba25f, content: 'Nach der Geburt ist es wichtig, auf Veränderungen im Körper zu achten und bei Auffälligkeiten frühze...', meta: {'title': 'Medizinische Maßnahmen rund um die Geburt.md', 'source_id': 'fb139ac4-aef9-4241-9882-85e09d0163cb', 'page_number': 1, 'split_id': 160, 'split_idx_start': 20876}, embedding: vector of size 2560),\n",
       " Document(id=aa1b124d884a8f23314417ed82f7174c3dfc63baf7f31b1dffbbd082a7d954e6, content: 'Diese Methoden sind die Allgemeinanästhesie (Narkose), die das Bewusstsein ausschaltet, und die Regi...', meta: {'title': 'Narkose.md', 'source_id': 'fa1b681e-dcd4-451d-8ffb-0466d166e0a4', 'page_number': 1, 'split_id': 0, 'split_idx_start': 0}, embedding: vector of size 2560),\n",
       " Document(id=91ba584229d4626b44be072f547c44b4304fd6c2a19d362edf7c3785018ac76f, content: 'Eine Vollnarkose wird durch die Gabe von Medikamenten erreicht, die das Gehirn beeinflussen. Während...', meta: {'title': 'Narkose.md', 'source_id': 'fa1b681e-dcd4-451d-8ffb-0466d166e0a4', 'page_number': 1, 'split_id': 2, 'split_idx_start': 104}, embedding: vector of size 2560),\n",
       " Document(id=4edab1d6617b1685c6a641744e2c9a9f718b3de2b65de8541d2d8f69bc326ead, content: 'Bei dieser Methode bleibt man wach, kann aber auf Wunsch oder bei medizinischer Notwendigkeit ein Be...', meta: {'title': 'Narkose.md', 'source_id': 'fa1b681e-dcd4-451d-8ffb-0466d166e0a4', 'page_number': 1, 'split_id': 3, 'split_idx_start': 233}, embedding: vector of size 2560),\n",
       " Document(id=11cc9a88f720562febe6599f10b2be9ac85e77f83f4ea111696a9a6d29a75a1e, content: 'Der behandelnde Arzt wird Sie also umfassend beraten und die für Sie passende Methode auswählen, wob...', meta: {'title': 'Narkose.md', 'source_id': 'fa1b681e-dcd4-451d-8ffb-0466d166e0a4', 'page_number': 1, 'split_id': 5, 'split_idx_start': 326}, embedding: vector of size 2560),\n",
       " Document(id=efa3c94657d50fae3a64434785c0e0dda4dc10b19577d889a320adcd7e79ed44, content: 'Dieser Zugang dient dazu, Flüssigkeiten und Medikamente während der Operation zu verabreichen. Die K...', meta: {'title': 'Narkose.md', 'source_id': 'fa1b681e-dcd4-451d-8ffb-0466d166e0a4', 'page_number': 1, 'split_id': 7, 'split_idx_start': 674}, embedding: vector of size 2560),\n",
       " Document(id=4f817ab321b8796d6a38b92025e4ed6ef0991482105cffb5069ce787db0c66d5, content: 'Diese Kanüle wurde zuvor in eine Vene gelegt, um Flüssigkeiten und Medikamente zu verabreichen. Die ...', meta: {'title': 'Narkose.md', 'source_id': 'fa1b681e-dcd4-451d-8ffb-0466d166e0a4', 'page_number': 1, 'split_id': 9, 'split_idx_start': 916}, embedding: vector of size 2560),\n",
       " Document(id=1846482c858ad4bbf4d24abe13225bf7a278ba57b8ddaa77c22f889e1918bdab, content: 'Die Wahl der Methode hängt von verschiedenen Faktoren ab, wie der Art des Eingriffs, Ihrer individue...', meta: {'title': 'Narkose.md', 'source_id': 'fa1b681e-dcd4-451d-8ffb-0466d166e0a4', 'page_number': 1, 'split_id': 11, 'split_idx_start': 1049}, embedding: vector of size 2560),\n",
       " Document(id=9a46f34330fff0cab7f51ac2768dee231af6c61bfdfbea0f60a8d77909f670bd, content: 'Um eine schonende Einführung zu gewährleisten und optimale Operationsbedingungen zu schaffen, wird i...', meta: {'title': 'Narkose.md', 'source_id': 'fa1b681e-dcd4-451d-8ffb-0466d166e0a4', 'page_number': 1, 'split_id': 13, 'split_idx_start': 1264}, embedding: vector of size 2560),\n",
       " Document(id=51900634cc20ceb01a47789932553da0a4d4824d2f49c28d1df3ce515014869d, content: 'Ein Tubus ist ein Kunststoffrohr, das in die Luftröhre eingeführt wird, um die Beatmung während der ...', meta: {'title': 'Narkose.md', 'source_id': 'fa1b681e-dcd4-451d-8ffb-0466d166e0a4', 'page_number': 1, 'split_id': 15, 'split_idx_start': 1302}, embedding: vector of size 2560),\n",
       " Document(id=622f3a0ee2620c8aecc411cd739e0f3372859c177aeb99dff8a417a898ffd170, content: 'Eine Kehlkopfmaske ist eine Alternative zum Tubus, die einfacher zu handhaben ist. Sie wird vor den ...', meta: {'title': 'Narkose.md', 'source_id': 'fa1b681e-dcd4-451d-8ffb-0466d166e0a4', 'page_number': 1, 'split_id': 16, 'split_idx_start': 1402}, embedding: vector of size 2560),\n",
       " Document(id=b19f8d2db40f30a2487c0a9406997902958d2d936e139aa50364fd72414d673d, content: 'Muskelrelaxantien helfen dabei, die Muskeln zu entspannen, was das Einführen des Beatmungsschlauchs ...', meta: {'title': 'Narkose.md', 'source_id': 'fa1b681e-dcd4-451d-8ffb-0466d166e0a4', 'page_number': 1, 'split_id': 18, 'split_idx_start': 1473}, embedding: vector of size 2560),\n",
       " Document(id=9ad4102655d6de72b2e35c3594a321999a271c45858ff04e94ebb0cd3ffc69e4, content: 'Diese Methode betäubt nur den zu operierenden Körperbereich, während Sie wach bleiben können. Auf Wu...', meta: {'title': 'Narkose.md', 'source_id': 'fa1b681e-dcd4-451d-8ffb-0466d166e0a4', 'page_number': 1, 'split_id': 20, 'split_idx_start': 1792}, embedding: vector of size 2560),\n",
       " Document(id=a86cfae6a7ceb7304d7a9faa131a8ac4d9391d20f25c09e91bcdf36197745ed6, content: 'Diese Symptome sind typisch für eine Regionalanästhesie, bei der ein lokales Betäubungsmittel in die...', meta: {'title': 'Narkose.md', 'source_id': 'fa1b681e-dcd4-451d-8ffb-0466d166e0a4', 'page_number': 1, 'split_id': 22, 'split_idx_start': 2123}, embedding: vector of size 2560),\n",
       " Document(id=9a10918e1dcee239ab825967f7c3293575986f8debc4abc6b58d1b1f36076b30, content: 'Bei einer Sedierung während der Regionalanästhesie werden Sie also in einen entspannten, schläfrigen...', meta: {'title': 'Narkose.md', 'source_id': 'fa1b681e-dcd4-451d-8ffb-0466d166e0a4', 'page_number': 1, 'split_id': 24, 'split_idx_start': 2436}, embedding: vector of size 2560),\n",
       " Document(id=52d35e604d8c86dde118c41adc4b171dc4fe0a6aecfff57f2d3e48a3504b1178, content: 'Diese Kombination von Regionalanästhesie und Narkose wird manchmal gewählt, um die Vorteile beider V...', meta: {'title': 'Narkose.md', 'source_id': 'fa1b681e-dcd4-451d-8ffb-0466d166e0a4', 'page_number': 1, 'split_id': 26, 'split_idx_start': 2798}, embedding: vector of size 2560),\n",
       " Document(id=da177f7c606c21fa0a1227e7e620a7af18596e21c52bd7f393315f0d5fb39998, content: 'Spinal- und Periduralanästhesie werden oft für Eingriffe am Unterkörper eingesetzt, da sie die Schme...', meta: {'title': 'Narkose.md', 'source_id': 'fa1b681e-dcd4-451d-8ffb-0466d166e0a4', 'page_number': 1, 'split_id': 28, 'split_idx_start': 3128}, embedding: vector of size 2560),\n",
       " Document(id=39a601afeb2420cdff6456f33dcbc17c54235062af9dba060160f7789a8bf301, content: 'Hierbei handelt es sich um Spinal- und Periduralanästhesie, die hauptsächlich für Eingriffe an der u...', meta: {'title': 'Narkose.md', 'source_id': 'fa1b681e-dcd4-451d-8ffb-0466d166e0a4', 'page_number': 1, 'split_id': 30, 'split_idx_start': 3387}, embedding: vector of size 2560),\n",
       " Document(id=35d15bc840166c4c794c6ca0c6343e0b234b783abb63b675f0694a1d6f81d5b5, content: 'Der Spinalraum befindet sich unterhalb der harten Rückenmarkshaut und ist mit Nervenflüssigkeit gefü...', meta: {'title': 'Narkose.md', 'source_id': 'fa1b681e-dcd4-451d-8ffb-0466d166e0a4', 'page_number': 1, 'split_id': 32, 'split_idx_start': 3462}, embedding: vector of size 2560),\n",
       " Document(id=b051d5a96313d21194f1f171cb7f5051d0dae52a563b38dcf0d644ee0ded9961, content: 'Die PDA wird häufig für Eingriffe an der unteren Körperhälfte eingesetzt, kann aber auch bei Brustko...', meta: {'title': 'Narkose.md', 'source_id': 'fa1b681e-dcd4-451d-8ffb-0466d166e0a4', 'page_number': 1, 'split_id': 33, 'split_idx_start': 3662}, embedding: vector of size 2560),\n",
       " Document(id=3585a671487ea0b43fb4d90ae26bb2e2754836ed08615f36b35436fa778cf248, content: 'Hier bezieht sich \"beide Verfahren\" auf Spinal- und Periduralanästhesie. Beide Methoden wirken auf d...', meta: {'title': 'Narkose.md', 'source_id': 'fa1b681e-dcd4-451d-8ffb-0466d166e0a4', 'page_number': 1, 'split_id': 35, 'split_idx_start': 3873}, embedding: vector of size 2560),\n",
       " Document(id=0cc0c13791d210decfdc03a3b8ff253deb0c381eb79c495ba37a7b5ed74bef76, content: 'Diese Technik, die Armplexusanästhesie, betäubt gezielt Nerven im Schulterbereich. Sie wird eingeset...', meta: {'title': 'Narkose.md', 'source_id': 'fa1b681e-dcd4-451d-8ffb-0466d166e0a4', 'page_number': 1, 'split_id': 37, 'split_idx_start': 3931}, embedding: vector of size 2560),\n",
       " Document(id=ae6e7e01f2668462de11e8b79c13f8a55653b21c4107247d7e6e753dd4954b8a, content: 'Die axilläre Technik wird bei Operationen am Arm oder der Schulter eingesetzt. Dabei wird das Betäub...', meta: {'title': 'Narkose.md', 'source_id': 'fa1b681e-dcd4-451d-8ffb-0466d166e0a4', 'page_number': 1, 'split_id': 39, 'split_idx_start': 4232}, embedding: vector of size 2560),\n",
       " Document(id=2b44218e2c3a4fd2be9bb246082ba891b754a88edb21dc0aa5330d81fb67404c, content: 'Dies bezieht sich auf eine Injektionsstelle für eine Armplexusanästhesie, einer Betäubungstechnik fü...', meta: {'title': 'Narkose.md', 'source_id': 'fa1b681e-dcd4-451d-8ffb-0466d166e0a4', 'page_number': 1, 'split_id': 40, 'split_idx_start': 4261}, embedding: vector of size 2560),\n",
       " Document(id=4ae55276239d605f93fb27d209e7aaa6bf3ec61bdacd349769b0aff7af1986f2, content: 'Bei der Armplexusanästhesie wird das Betäubungsmittel hier in die Nähe des Nervengeflechts injiziert...', meta: {'title': 'Narkose.md', 'source_id': 'fa1b681e-dcd4-451d-8ffb-0466d166e0a4', 'page_number': 1, 'split_id': 41, 'split_idx_start': 4308}, embedding: vector of size 2560),\n",
       " Document(id=db7d46fafec668f2f7a7e76676f7d599df1e840d888ba34c491d84eafb0eb9e2, content: 'Diese Injektionsstelle wird bei der Armplexusanästhesie verwendet, um den Nerven zu erreichen. Ultra...', meta: {'title': 'Narkose.md', 'source_id': 'fa1b681e-dcd4-451d-8ffb-0466d166e0a4', 'page_number': 1, 'split_id': 42, 'split_idx_start': 4354}, embedding: vector of size 2560),\n",
       " Document(id=627c60365506077482a3b9bbc33e107db78f1a3cdbcaefa712c0e44976b7b062, content: 'Diese Techniken helfen dem Arzt, die Nadel präzise zu platzieren und Nerven zu schonen. Die Stimulat...', meta: {'title': 'Narkose.md', 'source_id': 'fa1b681e-dcd4-451d-8ffb-0466d166e0a4', 'page_number': 1, 'split_id': 44, 'split_idx_start': 4416}, embedding: vector of size 2560),\n",
       " Document(id=37e2a1fa60e9b9f84df873bba8a76daf4a150ed4a6a75436e7a1974ff46777e3, content: 'Wenn eine Regionalanästhesie nicht ausreichend wirkt oder unerwünschte Nebenwirkungen auftreten, kan...', meta: {'title': 'Narkose.md', 'source_id': 'fa1b681e-dcd4-451d-8ffb-0466d166e0a4', 'page_number': 1, 'split_id': 46, 'split_idx_start': 4626}, embedding: vector of size 2560),\n",
       " Document(id=9aadd7380d59fec2c5706c619697f2c97e9db6f15f98f0e4c749933cf1b5c93b, content: 'Dieser Katheter ermöglicht eine kontinuierliche Schmerzmedikation und kann so die Notwendigkeit weit...', meta: {'title': 'Narkose.md', 'source_id': 'fa1b681e-dcd4-451d-8ffb-0466d166e0a4', 'page_number': 1, 'split_id': 48, 'split_idx_start': 4930}, embedding: vector of size 2560),\n",
       " Document(id=e0e4b056a6d180046ebfbbd906ad201dd6cfa14ae7526f9a0b3fa4c8e3b2cabd, content: 'Ein Katheter zur Schmerzbehandlung wird in die Nähe der Nerven gelegt, um Medikamente gezielt zu ver...', meta: {'title': 'Narkose.md', 'source_id': 'fa1b681e-dcd4-451d-8ffb-0466d166e0a4', 'page_number': 1, 'split_id': 50, 'split_idx_start': 5360}, embedding: vector of size 2560),\n",
       " Document(id=87588d81bac175c0e1e69d644aa79c6605761d69fc1de90210f20e21cd776db0, content: 'Ein zentraler Venenkatheter ist ein Schlauch, der in eine große Vene gelegt wird, um Medikamente, Fl...', meta: {'title': 'Narkose.md', 'source_id': 'fa1b681e-dcd4-451d-8ffb-0466d166e0a4', 'page_number': 1, 'split_id': 52, 'split_idx_start': 5514}, embedding: vector of size 2560),\n",
       " Document(id=76bb1fb5533f49eb800b7f7310ee1ecbabd88fcf72a9e9d7bd48ddaddc25e6f7, content: 'Bluttransfusionen sind selten notwendig, bergen aber Risiken wie Infektionen oder Unverträglichkeite...', meta: {'title': 'Narkose.md', 'source_id': 'fa1b681e-dcd4-451d-8ffb-0466d166e0a4', 'page_number': 1, 'split_id': 54, 'split_idx_start': 5687}, embedding: vector of size 2560),\n",
       " Document(id=38064b6017e6fcef5633a3c60f562e94eeeaf1128c160f625b4c9dd14b000369, content: 'Diese Komplikationen sind selten, können aber lebensbedrohlich sein und erfordern möglicherweise zus...', meta: {'title': 'Narkose.md', 'source_id': 'fa1b681e-dcd4-451d-8ffb-0466d166e0a4', 'page_number': 1, 'split_id': 56, 'split_idx_start': 6241}, embedding: vector of size 2560),\n",
       " Document(id=18a423ebcc2521386c3361fa9665d9e780bb08711a5a1bd3f01f03aadb905c93, content: 'Diese Häufigkeiten sind Schätzungen und können je nach individuellen Faktoren und der spezifischen S...', meta: {'title': 'Narkose.md', 'source_id': 'fa1b681e-dcd4-451d-8ffb-0466d166e0a4', 'page_number': 1, 'split_id': 58, 'split_idx_start': 6705}, embedding: vector of size 2560),\n",
       " Document(id=09dde80130a5feae3f0b109debf80241a838f131be1c3bb707f27016dce1f1bb, content: '\"Off-Label-Use\" bedeutet, dass ein Medikament für eine Anwendung eingesetzt wird, für die es nicht d...', meta: {'title': 'Narkose.md', 'source_id': 'fa1b681e-dcd4-451d-8ffb-0466d166e0a4', 'page_number': 1, 'split_id': 60, 'split_idx_start': 7081}, embedding: vector of size 2560),\n",
       " Document(id=6993ff45d44d30c8ad00a5a4d9b09d07acbb5f5b171034996667520ce8b63a62, content: 'Diese Verletzungen sind meist harmlos und bilden sich zurück, können aber in seltenen Fällen eine in...', meta: {'title': 'Narkose.md', 'source_id': 'fa1b681e-dcd4-451d-8ffb-0466d166e0a4', 'page_number': 1, 'split_id': 62, 'split_idx_start': 7482}, embedding: vector of size 2560),\n",
       " Document(id=084e4d8b7c142c20b625442cc5e9d406b11edf1a9d1f163133c09f4eb0e0e819, content: 'Katheter werden oft zur Verabreichung von Medikamenten oder Flüssigkeiten während der Narkose verwen...', meta: {'title': 'Narkose.md', 'source_id': 'fa1b681e-dcd4-451d-8ffb-0466d166e0a4', 'page_number': 1, 'split_id': 64, 'split_idx_start': 7744}, embedding: vector of size 2560),\n",
       " Document(id=f46cb6ee113fe94bf393daa097a5a5aea91f15857ead179cc8ac05e2b4f4b096, content: 'Diese Symptome können durch die Platzierung von Kathetern, Kanülen oder Nadeln entstehen, die währen...', meta: {'title': 'Narkose.md', 'source_id': 'fa1b681e-dcd4-451d-8ffb-0466d166e0a4', 'page_number': 1, 'split_id': 66, 'split_idx_start': 8034}, embedding: vector of size 2560),\n",
       " Document(id=eda0b0debcdd5afb4ecbf21fffdce22581e357f50b084b13ba1e1559ec862fb7, content: 'Diese Komplikationen sind äußerst selten und treten meist als Folge von Verletzungen während der Nar...', meta: {'title': 'Narkose.md', 'source_id': 'fa1b681e-dcd4-451d-8ffb-0466d166e0a4', 'page_number': 1, 'split_id': 68, 'split_idx_start': 8330}, embedding: vector of size 2560),\n",
       " Document(id=8a112ddc3d6eeace52b9a24e8db9c6ee8cbca0c157783fb188471d0641590033, content: 'Gerinnsel können sich bilden und Gefäße verstopfen. Dies kann zu schwerwiegenden Komplikationen wie ...', meta: {'title': 'Narkose.md', 'source_id': 'fa1b681e-dcd4-451d-8ffb-0466d166e0a4', 'page_number': 1, 'split_id': 70, 'split_idx_start': 8501}, embedding: vector of size 2560),\n",
       " Document(id=21dfaa9063c677250a762426d4e034e59545fa54100f46634b80af7545123ff8, content: 'Diese Schäden entstehen durch die Positionierung des Körpers während der Narkose. Sie sind meist vor...', meta: {'title': 'Narkose.md', 'source_id': 'fa1b681e-dcd4-451d-8ffb-0466d166e0a4', 'page_number': 1, 'split_id': 72, 'split_idx_start': 8699}, embedding: vector of size 2560),\n",
       " Document(id=fe7f2496839e1aa339c8eee4a368ac8c42ad7fecba863691996f16a1c6ca9a9b, content: 'Diese Nebenwirkungen sind meist vorübergehend und können durch Medikamente behandelt werden. Sollten...', meta: {'title': 'Narkose.md', 'source_id': 'fa1b681e-dcd4-451d-8ffb-0466d166e0a4', 'page_number': 1, 'split_id': 74, 'split_idx_start': 9149}, embedding: vector of size 2560),\n",
       " Document(id=b27f303561ffaaf20d0d3d74588d71ed1de7651b8a5491d31c5ccf392ef3dc6c, content: 'Diese seltenen, aber schwerwiegenden Komplikationen erfordern oft eine intensive medizinische Behand...', meta: {'title': 'Narkose.md', 'source_id': 'fa1b681e-dcd4-451d-8ffb-0466d166e0a4', 'page_number': 1, 'split_id': 76, 'split_idx_start': 9485}, embedding: vector of size 2560),\n",
       " Document(id=69e6f90737524073469403446c456a5c6cf36782844cf202dd05b7f5f0540e36, content: 'Metamizol ist ein Schmerzmittel, das oft bei Narkosen eingesetzt wird. Es kann in seltenen Fällen zu...', meta: {'title': 'Narkose.md', 'source_id': 'fa1b681e-dcd4-451d-8ffb-0466d166e0a4', 'page_number': 1, 'split_id': 78, 'split_idx_start': 9867}, embedding: vector of size 2560),\n",
       " Document(id=80fb3264b2506f2e805922083906c3b5643efe639d0bc0e64390646cae571a95, content: 'Maligne Hyperthermie ist eine seltene, lebensbedrohliche Stoffwechselerkrankung, die durch bestimmte...', meta: {'title': 'Narkose.md', 'source_id': 'fa1b681e-dcd4-451d-8ffb-0466d166e0a4', 'page_number': 1, 'split_id': 80, 'split_idx_start': 10244}, embedding: vector of size 2560),\n",
       " Document(id=0d75cfb187d071e72bf24d923b0bb2b31a49223ddfe02c8deb5bb3d2cb974bf4, content: 'Diese Symptome sind vorübergehend und meistens harmlos, können aber in seltenen Fällen länger anhalt...', meta: {'title': 'Narkose.md', 'source_id': 'fa1b681e-dcd4-451d-8ffb-0466d166e0a4', 'page_number': 1, 'split_id': 82, 'split_idx_start': 10513}, embedding: vector of size 2560),\n",
       " Document(id=ed58ff1f94974ed213efe55201cc11f1ce7a1769571daf12ffa1927cf9c3fd94, content: 'Um das Risiko einer Aspiration zu minimieren, ist es wichtig, dass Patient*innen die Nüchternheitsre...', meta: {'title': 'Narkose.md', 'source_id': 'fa1b681e-dcd4-451d-8ffb-0466d166e0a4', 'page_number': 1, 'split_id': 84, 'split_idx_start': 10844}, embedding: vector of size 2560),\n",
       " Document(id=286d484bb4e2d2ea03f352e644ef1a785d997819301f4a0765f6f43460969939, content: 'Ein Laryngo- oder Bronchospasmus ist eine plötzliche Verengung der Atemwege, die durch Muskelkrämpfe...', meta: {'title': 'Narkose.md', 'source_id': 'fa1b681e-dcd4-451d-8ffb-0466d166e0a4', 'page_number': 1, 'split_id': 86, 'split_idx_start': 11134}, embedding: vector of size 2560),\n",
       " Document(id=94d7c0c569e6d924bce79dc8767f6d025013e2660315d2563b0a1f3f16fa38d9, content: 'Diese Beschwerden entstehen durch vorübergehende Reizungen oder Schwellungen im Rachenraum, die durc...', meta: {'title': 'Narkose.md', 'source_id': 'fa1b681e-dcd4-451d-8ffb-0466d166e0a4', 'page_number': 1, 'split_id': 88, 'split_idx_start': 11466}, embedding: vector of size 2560),\n",
       " Document(id=9f227ce45e82cd914c6ae57740f780a099590372e7f69589a10d1fd62d346753, content: 'Diese Verletzungen können bei der Verwendung eines Beatmungstubus auftreten und führen in seltenen F...', meta: {'title': 'Narkose.md', 'source_id': 'fa1b681e-dcd4-451d-8ffb-0466d166e0a4', 'page_number': 1, 'split_id': 90, 'split_idx_start': 11662}, embedding: vector of size 2560),\n",
       " Document(id=6136ee827700f84d9c86e804ef891e98e4f69253e3efd56966b73014b3312919, content: 'Dies kann insbesondere bei der Verwendung eines Beatmungstubus auftreten. Die Gefahr ist gering, abe...', meta: {'title': 'Narkose.md', 'source_id': 'fa1b681e-dcd4-451d-8ffb-0466d166e0a4', 'page_number': 1, 'split_id': 92, 'split_idx_start': 11880}, embedding: vector of size 2560),\n",
       " Document(id=d65782486edbf3513f9f0aacc61a96b0e50b4de4e4f5af244dfd60df76e3c76c, content: '**Bewusstsein unter Narkose (Awareness):** Dabei nehmen Patienten während der Narkose ein Gefühl von...', meta: {'title': 'Narkose.md', 'source_id': 'fa1b681e-dcd4-451d-8ffb-0466d166e0a4', 'page_number': 1, 'split_id': 94, 'split_idx_start': 12107}, embedding: vector of size 2560),\n",
       " Document(id=7a935017a01b4f2ab326586bc470290d964bfdafd98ca30626981c2d13b81deb, content: 'Diese Reaktionen sind selten, entstehen, wenn das Betäubungsmittel ungewollt in den Blutkreislauf ge...', meta: {'title': 'Narkose.md', 'source_id': 'fa1b681e-dcd4-451d-8ffb-0466d166e0a4', 'page_number': 1, 'split_id': 96, 'split_idx_start': 12386}, embedding: vector of size 2560),\n",
       " Document(id=73db86a1472c247708194840824a446dfc3d8b50d74af3deee8219e8f67ef773, content: 'Ein Pneumothorax entsteht, wenn Luft in den Raum zwischen Lunge und Brustwand gelangt. Dies kann zu ...', meta: {'title': 'Narkose.md', 'source_id': 'fa1b681e-dcd4-451d-8ffb-0466d166e0a4', 'page_number': 1, 'split_id': 98, 'split_idx_start': 13009}, embedding: vector of size 2560),\n",
       " Document(id=232fb2857d69fdd95b753539e0df91799e41367d820801dbbabf15b7128d2f74, content: 'Ein regionaler Katheter wird in die Nähe der schmerzleitenden Nerven eingeführt, um gezielt schmerzs...', meta: {'title': 'Narkose.md', 'source_id': 'fa1b681e-dcd4-451d-8ffb-0466d166e0a4', 'page_number': 1, 'split_id': 100, 'split_idx_start': 13321}, embedding: vector of size 2560),\n",
       " Document(id=7fb8b77a5f002d3eedf66418d0d45b1b523755334c81165e7adb787ad650a3a6, content: 'Die Spinal- und Periduralanästhesie werden unterhalb des Rückenmarks durchgeführt, um das Risiko ein...', meta: {'title': 'Narkose.md', 'source_id': 'fa1b681e-dcd4-451d-8ffb-0466d166e0a4', 'page_number': 1, 'split_id': 102, 'split_idx_start': 13620}, embedding: vector of size 2560),\n",
       " Document(id=3dbb07e4c45e6e753b6bbab09addfbd72a5c1977fb1b93cbee380c766baf1a72, content: 'Diese seltenen Lähmungen können die Kontrolle über Blase und Darm betreffen und sind Folge von Kompl...', meta: {'title': 'Narkose.md', 'source_id': 'fa1b681e-dcd4-451d-8ffb-0466d166e0a4', 'page_number': 1, 'split_id': 104, 'split_idx_start': 13925}, embedding: vector of size 2560),\n",
       " Document(id=b5343de20791bb2e5b47358cbc906685d12740eb979d2ba64bccd528b11b719d, content: 'Eine Meningitis (Hirnhautentzündung) ist eine Entzündung der Hirnhäute, die durch Bakterien, Viren o...', meta: {'title': 'Narkose.md', 'source_id': 'fa1b681e-dcd4-451d-8ffb-0466d166e0a4', 'page_number': 1, 'split_id': 106, 'split_idx_start': 14204}, embedding: vector of size 2560),\n",
       " Document(id=e9f61fae6f1cba71c8d2b1d0fb1784ee10d11d21aa9362bb624974e75cef2f32, content: 'Diese Beschwerden können Reizungen von Hirnnerven mit vorübergehenden oder selten bleibenden Sehstör...', meta: {'title': 'Narkose.md', 'source_id': 'fa1b681e-dcd4-451d-8ffb-0466d166e0a4', 'page_number': 1, 'split_id': 108, 'split_idx_start': 14307}, embedding: vector of size 2560),\n",
       " Document(id=ba39919ba4716172b6f50327169ac29bacdf84f4b94c4f9f12bc1a22528b90de, content: 'Diese Symptome entstehen, wenn bei einer Spinal- oder Periduralanästhesie versehentlich die harte Hi...', meta: {'title': 'Narkose.md', 'source_id': 'fa1b681e-dcd4-451d-8ffb-0466d166e0a4', 'page_number': 1, 'split_id': 110, 'split_idx_start': 14530}, embedding: vector of size 2560),\n",
       " Document(id=d61591dfe3f783aa8c008b7445b9f853169268977176143bb5ccbd1f2fc8ef8d, content: 'Eine Eigenblutpflasterung (Blutpatch) ist eine Behandlungsmethode, die bei anhaltenden Kopfschmerzen...', meta: {'title': 'Narkose.md', 'source_id': 'fa1b681e-dcd4-451d-8ffb-0466d166e0a4', 'page_number': 1, 'split_id': 111, 'split_idx_start': 14656}, embedding: vector of size 2560),\n",
       " Document(id=c10a226ca89fab1a51b06d48ee060fb641a71f421f86825feb68517c49a494f1, content: 'Diese seltenen Komplikationen können nach einer Spinal- oder Periduralanästhesie auftreten, wenn es ...', meta: {'title': 'Narkose.md', 'source_id': 'fa1b681e-dcd4-451d-8ffb-0466d166e0a4', 'page_number': 1, 'split_id': 112, 'split_idx_start': 14854}, embedding: vector of size 2560),\n",
       " Document(id=8637b2cc267c98f6b1d99b1c1f097cdf9035e3467777630942890d6951333e76, content: 'Ein Blasenkatheter wird gelegentlich bei Regionalanästhesien benötigt, um die Blasenentleerung zu un...', meta: {'title': 'Narkose.md', 'source_id': 'fa1b681e-dcd4-451d-8ffb-0466d166e0a4', 'page_number': 1, 'split_id': 113, 'split_idx_start': 15055}, embedding: vector of size 2560),\n",
       " Document(id=fadd4d9f6f1f845933493cc60fdaafbdff2f626c236559ad2d1baa0c3d4372bf, content: 'Diese Störungen sind meist vorübergehend und klingen nach einiger Zeit ab. Sie können durch die Nark...', meta: {'title': 'Narkose.md', 'source_id': 'fa1b681e-dcd4-451d-8ffb-0466d166e0a4', 'page_number': 1, 'split_id': 115, 'split_idx_start': 15337}, embedding: vector of size 2560),\n",
       " Document(id=9cfb92364bb13ee7e5e552f034f8a7471817f3ed7d4627398e97be10466b8e3f, content: 'Diese Symptome sind oft vorübergehend und resultieren aus der Blockade von Nerven durch das Betäubun...', meta: {'title': 'Narkose.md', 'source_id': 'fa1b681e-dcd4-451d-8ffb-0466d166e0a4', 'page_number': 1, 'split_id': 117, 'split_idx_start': 15427}, embedding: vector of size 2560),\n",
       " Document(id=bde80fe8ea7acdb8ab3b30c585d00724ebac0999d115ab88585f843fa5843711, content: 'Die interskalenäre und supraklavikuläre Technik sind Arten der Armplexusanästhesie, bei denen das Be...', meta: {'title': 'Narkose.md', 'source_id': 'fa1b681e-dcd4-451d-8ffb-0466d166e0a4', 'page_number': 1, 'split_id': 119, 'split_idx_start': 15786}, embedding: vector of size 2560),\n",
       " Document(id=edfe27b1be2a1eb4366b84d702d667cac7e980eb2982b85de3cafac0c701a945, content: 'Eine Stimmbandlähmung kann zu Heiserkeit führen, da der Nerv, der die Stimmbänder steuert, vorüberge...', meta: {'title': 'Narkose.md', 'source_id': 'fa1b681e-dcd4-451d-8ffb-0466d166e0a4', 'page_number': 1, 'split_id': 121, 'split_idx_start': 16299}, embedding: vector of size 2560),\n",
       " Document(id=1ead99c061c82782a0bfce6be82e82a1726de5158afba35ae38043f98ca8cdb0, content: 'Ein Horner-Syndrom ist eine seltene Nervenlähmung, die sich durch ein hängendes Augenlid, vermindert...', meta: {'title': 'Narkose.md', 'source_id': 'fa1b681e-dcd4-451d-8ffb-0466d166e0a4', 'page_number': 1, 'split_id': 123, 'split_idx_start': 16454}, embedding: vector of size 2560),\n",
       " Document(id=156e7ba07e4da4268b7adf4692f5181b7732890f6dc0022387e7d5543d8d08e6, content: 'Nüchternheit ist vor Narkosen wichtig, um Komplikationen wie Erbrechen während der Operation zu verm...', meta: {'title': 'Narkose.md', 'source_id': 'fa1b681e-dcd4-451d-8ffb-0466d166e0a4', 'page_number': 1, 'split_id': 126, 'split_idx_start': 16669}, embedding: vector of size 2560),\n",
       " Document(id=31f874d6f1ca8102925008f1c9fe93e5daa6b36898c920488bc884e67a303eb9, content: 'Dieser Abschnitt beschreibt die Nüchternheitsregeln vor einer Narkose. Diese Regeln sind wichtig, um...', meta: {'title': 'Narkose.md', 'source_id': 'fa1b681e-dcd4-451d-8ffb-0466d166e0a4', 'page_number': 1, 'split_id': 128, 'split_idx_start': 16804}, embedding: vector of size 2560),\n",
       " Document(id=cc06ca5383db4982b5399ff5fe60ffa25f473abc2b6cf65f8adf1cb1edd268ce, content: 'Diese Anweisung bezieht sich auf die Nüchternheitsregeln vor einer Narkose. Sie sind wichtig, um Kom...', meta: {'title': 'Narkose.md', 'source_id': 'fa1b681e-dcd4-451d-8ffb-0466d166e0a4', 'page_number': 1, 'split_id': 129, 'split_idx_start': 16816}, embedding: vector of size 2560),\n",
       " Document(id=8f06014e838dd6a398cebed23f79e2c38e1cdab20e67ae94a4b52309650ec95c, content: 'Dies bezieht sich auf die Nüchternheitsregeln vor einer Narkose, die wichtig sind, um Komplikationen...', meta: {'title': 'Narkose.md', 'source_id': 'fa1b681e-dcd4-451d-8ffb-0466d166e0a4', 'page_number': 1, 'split_id': 131, 'split_idx_start': 16972}, embedding: vector of size 2560),\n",
       " Document(id=9d3eb23f1cadb26e42cbc183c984ea57fb7d9e7ca92b94df58bf8e0c6afd21c8, content: 'Müssen spätestens sechs Stunden vor der Anästhesie das Essen einstellen. Zwischen sechs und einer St...', meta: {'title': 'Narkose.md', 'source_id': 'fa1b681e-dcd4-451d-8ffb-0466d166e0a4', 'page_number': 1, 'split_id': 133, 'split_idx_start': 17214}, embedding: vector of size 2560),\n",
       " Document(id=879e56313bfb1b376ba1f890afc91dcbb706e814ee54fa7d4e9e80e14bb741d3, content: 'Dies bezieht sich auf Jugendliche unter 18 Jahren, die eine Narkose benötigen.  Es ist wichtig, dies...', meta: {'title': 'Narkose.md', 'source_id': 'fa1b681e-dcd4-451d-8ffb-0466d166e0a4', 'page_number': 1, 'split_id': 134, 'split_idx_start': 17243}, embedding: vector of size 2560),\n",
       " Document(id=1d5523814d795bcd4b91bb98aab4deb6166bb0b796cc2defcac99608e77b074a, content: 'Diese Regelung gilt auch für Jugendliche unter 18 Jahren. Es ist wichtig, sich genau an die Nüchtern...', meta: {'title': 'Narkose.md', 'source_id': 'fa1b681e-dcd4-451d-8ffb-0466d166e0a4', 'page_number': 1, 'split_id': 136, 'split_idx_start': 17314}, embedding: vector of size 2560),\n",
       " Document(id=0836745ea925d57156706c8d78834780c8bbf22034df89bdbe11293588715b1b, content: 'Dieser Hinweis betrifft die Nüchternheitsregeln vor der Narkose, die wichtig sind, um Komplikationen...', meta: {'title': 'Narkose.md', 'source_id': 'fa1b681e-dcd4-451d-8ffb-0466d166e0a4', 'page_number': 1, 'split_id': 139, 'split_idx_start': 17475}, embedding: vector of size 2560),\n",
       " Document(id=43f948f4bc8d9043b7ce38512b25bc0bdbdf16576ad467e279d0e2c7ba972722, content: 'Rauchen beeinträchtigt die Sauerstoffaufnahme und kann Komplikationen wie Lungenentzündung oder Krei...', meta: {'title': 'Narkose.md', 'source_id': 'fa1b681e-dcd4-451d-8ffb-0466d166e0a4', 'page_number': 1, 'split_id': 141, 'split_idx_start': 17715}, embedding: vector of size 2560),\n",
       " Document(id=513d49c98b6b6bf452043da4eb7021b90030f3b3cfb5ce32d3bba549d511bbaf, content: 'Dies ist wichtig, da einige Medikamente mit der Narkose interagieren können oder vor der Operation a...', meta: {'title': 'Narkose.md', 'source_id': 'fa1b681e-dcd4-451d-8ffb-0466d166e0a4', 'page_number': 1, 'split_id': 143, 'split_idx_start': 17874}, embedding: vector of size 2560),\n",
       " Document(id=de4554621c91b67ff8ab6c6491b10d92656fc4719a5f49a31455cc5f1067138a, content: 'Diese Unterlagen helfen dem medizinischen Personal, Ihre Krankengeschichte besser zu verstehen und d...', meta: {'title': 'Narkose.md', 'source_id': 'fa1b681e-dcd4-451d-8ffb-0466d166e0a4', 'page_number': 1, 'split_id': 145, 'split_idx_start': 18006}, embedding: vector of size 2560),\n",
       " Document(id=90b67f48983fe1c8b24d047665d2aca2392d4029bc56e8bcf91754dd3a64a51e, content: 'Diese Maßnahmen dienen der Patientensicherheit und Hygiene während der Narkose. Entfernte Gegenständ...', meta: {'title': 'Narkose.md', 'source_id': 'fa1b681e-dcd4-451d-8ffb-0466d166e0a4', 'page_number': 1, 'split_id': 147, 'split_idx_start': 18304}, embedding: vector of size 2560),\n",
       " Document(id=c2b1f7f440f93c0e9a7ff4c2e727fbaf6dd9c282a88fcb9be10d7eeb2c23889e, content: 'Diese Maßnahmen dienen dazu, Ihre Sicherheit während der Erholungsphase zu gewährleisten und möglich...', meta: {'title': 'Narkose.md', 'source_id': 'fa1b681e-dcd4-451d-8ffb-0466d166e0a4', 'page_number': 1, 'split_id': 149, 'split_idx_start': 18649}, embedding: vector of size 2560),\n",
       " Document(id=6d1216e75b762943176b9739333bc8997da013e49f9a9f5c16111a4787392946, content: 'Nach einer Narkose sind Sie vorübergehend desorientiert und haben ein vermindertes Schmerzempfinden....', meta: {'title': 'Narkose.md', 'source_id': 'fa1b681e-dcd4-451d-8ffb-0466d166e0a4', 'page_number': 1, 'split_id': 151, 'split_idx_start': 19002}, embedding: vector of size 2560),\n",
       " Document(id=6dfa5cb1a3bceaac3de714d5fb244163c3624401abfa8fac3b0f123adfad1093, content: 'Hormonelle Verhütungsmittel können durch die Narkose vorübergehend unwirksam werden. Dies bedeutet, ...', meta: {'title': 'Narkose.md', 'source_id': 'fa1b681e-dcd4-451d-8ffb-0466d166e0a4', 'page_number': 1, 'split_id': 153, 'split_idx_start': 19355}, embedding: vector of size 2560),\n",
       " Document(id=766485ac0e93929d0a6b1d5c16fbfa71f21bd963264a8f9a2321d6c5fe3f508a, content: 'Diese Symptome können auf verschiedene Komplikationen hindeuten, die eine sofortige ärztliche Behand...', meta: {'title': 'Narkose.md', 'source_id': 'fa1b681e-dcd4-451d-8ffb-0466d166e0a4', 'page_number': 1, 'split_id': 155, 'split_idx_start': 19559}, embedding: vector of size 2560),\n",
       " Document(id=892f6771440e13d8ec9286c25856f8ed80447dfb7de6a937528b9efd1969034f, content: 'Dies bedeutet, dass Sie sich nicht selbst fahren oder andere gefährliche Tätigkeiten ausüben dürfen,...', meta: {'title': 'Narkose.md', 'source_id': 'fa1b681e-dcd4-451d-8ffb-0466d166e0a4', 'page_number': 1, 'split_id': 157, 'split_idx_start': 20086}, embedding: vector of size 2560),\n",
       " Document(id=c434457b2e11cc92d8567946f4789882d172c590dc0330b42f28a6b49d6ac610, content: 'Dieser Abschnitt bezieht sich auf die Zeit nach der Narkose, insbesondere bei ambulanten Eingriffen....', meta: {'title': 'Narkose.md', 'source_id': 'fa1b681e-dcd4-451d-8ffb-0466d166e0a4', 'page_number': 1, 'split_id': 159, 'split_idx_start': 20489}, embedding: vector of size 2560),\n",
       " Document(id=e73caa6904028f0fb890d12b5827a4cb23f2d20bc23f49fa95f31e9a225bc8ba, content: 'Eine Einleitung der Geburt bedeutet, dass die Wehen künstlich ausgelöst werden, da sie von selbst ni...', meta: {'title': 'Einleitung der Geburt.md', 'source_id': '1ef0cb3e-9368-40ba-8543-b81c72b3b848', 'page_number': 1, 'split_id': 0, 'split_idx_start': 0}, embedding: vector of size 2560),\n",
       " Document(id=25154423f08bcbcab2ded9791505239919762101b8634c8b6dcd19d44f57afaa, content: 'Nach dem Platzen der Fruchtblase verliert das Kind seine schützende Hülle, was das Risiko für Infekt...', meta: {'title': 'Einleitung der Geburt.md', 'source_id': '1ef0cb3e-9368-40ba-8543-b81c72b3b848', 'page_number': 1, 'split_id': 2, 'split_idx_start': 100}, embedding: vector of size 2560),\n",
       " Document(id=ed171c0c63c8ae1492745cf0b2da41472bde1c0537929b0ce731d51a86361590, content: 'Dies können beispielsweise Schwangerschaftsdiabetes, Bluthochdruck, Leber- oder Nierenfunktionsstöru...', meta: {'title': 'Einleitung der Geburt.md', 'source_id': '1ef0cb3e-9368-40ba-8543-b81c72b3b848', 'page_number': 1, 'split_id': 3, 'split_idx_start': 237}, embedding: vector of size 2560),\n",
       " Document(id=03cd215c37d2e27b99845b2fdf7add04db758bc1bfac4fb3cd064510a69e22e2, content: 'Dies kann beispielsweise bei Wachstumsverzögerung des Kindes, Mehrlingsschwangerschaften oder bei be...', meta: {'title': 'Einleitung der Geburt.md', 'source_id': '1ef0cb3e-9368-40ba-8543-b81c72b3b848', 'page_number': 1, 'split_id': 4, 'split_idx_start': 326}, embedding: vector of size 2560),\n",
       " Document(id=736e01387f8d0f652268ad8d69fe5677582ccbcb35472e4fa18034a2311b6cf0, content: 'Dies bedeutet, dass wenn die Schwangerschaft 41 Wochen (294 Tage) dauert, eine Einleitung der Geburt...', meta: {'title': 'Einleitung der Geburt.md', 'source_id': '1ef0cb3e-9368-40ba-8543-b81c72b3b848', 'page_number': 1, 'split_id': 5, 'split_idx_start': 413}, embedding: vector of size 2560),\n",
       " Document(id=b9e6d3d78e60c18a91c8d203c6b10b568196bbf662ce06982a46837a65f242ac, content: 'Dies bedeutet, dass wenn die Schwangerschaft 42 volle Wochen gedauert hat, eine Einleitung der Gebur...', meta: {'title': 'Einleitung der Geburt.md', 'source_id': '1ef0cb3e-9368-40ba-8543-b81c72b3b848', 'page_number': 1, 'split_id': 6, 'split_idx_start': 484}, embedding: vector of size 2560),\n",
       " Document(id=2c56fec2809e035bcdb4e48f95ab337e9a8674a7d535a5175ac9cbda755c5054, content: 'Hier bedeutet \"starke Beschwerden\" körperliche Symptome, die das Wohlbefinden der Mutter beeinträcht...', meta: {'title': 'Einleitung der Geburt.md', 'source_id': '1ef0cb3e-9368-40ba-8543-b81c72b3b848', 'page_number': 1, 'split_id': 7, 'split_idx_start': 548}, embedding: vector of size 2560),\n",
       " Document(id=2bc75957e4c3b3ffb04b063ecef093460cd8691d059fc4ec5b812210ad172a3c, content: 'Diese Aussage bedeutet, dass die Entscheidung für eine Einleitung der Geburt nicht allein medizinisc...', meta: {'title': 'Einleitung der Geburt.md', 'source_id': '1ef0cb3e-9368-40ba-8543-b81c72b3b848', 'page_number': 1, 'split_id': 9, 'split_idx_start': 759}, embedding: vector of size 2560),\n",
       " Document(id=a319808421694bbae823077012fed94d1afe6ac9a2f38de9cbf0c78a1e68f5a9, content: 'Eine Undichtigkeit der Fruchtblase setzt die schützende Hülle des Kindes frei, was das Risiko für In...', meta: {'title': 'Einleitung der Geburt.md', 'source_id': '1ef0cb3e-9368-40ba-8543-b81c72b3b848', 'page_number': 1, 'split_id': 11, 'split_idx_start': 1065}, embedding: vector of size 2560),\n",
       " Document(id=2782299aea88c291d60e77f52b21fb63fc23980d6e4af1812e12f9deb5263299, content: 'Diese Komplikationen treten auf, wenn die Fruchtblase vorzeitig reißt. Eine unbehandelte Infektion k...', meta: {'title': 'Einleitung der Geburt.md', 'source_id': '1ef0cb3e-9368-40ba-8543-b81c72b3b848', 'page_number': 1, 'split_id': 13, 'split_idx_start': 1397}, embedding: vector of size 2560),\n",
       " Document(id=2212c40f80edf645929644d9d5e5c56fd14e5c2c4d2c35d6137c0d5c36fa94d9, content: 'Bei Schwangerschaftsdiabetes kann das Kind überdurchschnittlich groß werden (Makrosomie) und/oder an...', meta: {'title': 'Einleitung der Geburt.md', 'source_id': '1ef0cb3e-9368-40ba-8543-b81c72b3b848', 'page_number': 1, 'split_id': 15, 'split_idx_start': 1813}, embedding: vector of size 2560),\n",
       " Document(id=6e3aa2d0ea89ab897492b03bcfbd3366e2be701a1c9ff93f099faf6456851233, content: 'Diese Erkrankungen können die Gesundheit von Mutter und Kind gefährden und erfordern möglicherweise ...', meta: {'title': 'Einleitung der Geburt.md', 'source_id': '1ef0cb3e-9368-40ba-8543-b81c72b3b848', 'page_number': 1, 'split_id': 17, 'split_idx_start': 2032}, embedding: vector of size 2560),\n",
       " Document(id=b59963474ae4e311db1ab01a1a0a943844ac1501392662f9853d11dcbb2a21c5, content: 'Ein größeres Kind benötigt mehr Platz und Nährstoffe im Mutterleib. Dies kann zu einer Verringerung ...', meta: {'title': 'Einleitung der Geburt.md', 'source_id': '1ef0cb3e-9368-40ba-8543-b81c72b3b848', 'page_number': 1, 'split_id': 19, 'split_idx_start': 2261}, embedding: vector of size 2560),\n",
       " Document(id=c76bbe594e60c9cf1853b67809826aa73b8a72bac6ba94c986d0394019353360, content: 'Mekonium ist der erste Stuhl des Kindes. Seine Aspiration, also das Einatmen in die Lunge, kann zu s...', meta: {'title': 'Einleitung der Geburt.md', 'source_id': '1ef0cb3e-9368-40ba-8543-b81c72b3b848', 'page_number': 1, 'split_id': 21, 'split_idx_start': 2367}, embedding: vector of size 2560),\n",
       " Document(id=70f830b66af5e402e91019f31054fe3c72946e15200bed682d271037897ec8d1, content: 'Diese Schwierigkeiten entstehen, weil der Platz im Becken begrenzt ist und das Kind möglicherweise n...', meta: {'title': 'Einleitung der Geburt.md', 'source_id': '1ef0cb3e-9368-40ba-8543-b81c72b3b848', 'page_number': 1, 'split_id': 23, 'split_idx_start': 2612}, embedding: vector of size 2560),\n",
       " Document(id=80c3106c885eb3d252ec7cdbfc2482ef8f697c8439be8c74120bc129bfb91997, content: 'Diese Aussage bezieht sich auf die sogenannte \"Übertragung\", also die Überschreitung des errechneten...', meta: {'title': 'Einleitung der Geburt.md', 'source_id': '1ef0cb3e-9368-40ba-8543-b81c72b3b848', 'page_number': 1, 'split_id': 25, 'split_idx_start': 2965}, embedding: vector of size 2560),\n",
       " Document(id=89ac48e9f38e13f0c3097749cce773d4457c005e0a10d91ffec6f51b33affa9b, content: 'Ein Kaiserschnitt bedeutet nicht zwangsläufig, dass eine vaginale Geburt ausgeschlossen ist. Die Mög...', meta: {'title': 'Einleitung der Geburt.md', 'source_id': '1ef0cb3e-9368-40ba-8543-b81c72b3b848', 'page_number': 1, 'split_id': 27, 'split_idx_start': 3441}, embedding: vector of size 2560),\n",
       " Document(id=2f0436dcfb4593cff6e8eba444735ee4539625cfe9ec0168189ec78c4e028bd9, content: 'Diese Methoden zielen darauf ab, die Wehen auf natürliche Weise zu unterstützen oder auszulösen. Die...', meta: {'title': 'Einleitung der Geburt.md', 'source_id': '1ef0cb3e-9368-40ba-8543-b81c72b3b848', 'page_number': 1, 'split_id': 29, 'split_idx_start': 4024}, embedding: vector of size 2560),\n",
       " Document(id=fa4d5c41915ed659fc4511a7bcd7b27257c909462b907bd4b92a6d43c5699a9c, content: 'Prostaglandine sind körpereigene Botenstoffe, die zur Reifung des Gebärmutterhalses und zum Öffnen d...', meta: {'title': 'Einleitung der Geburt.md', 'source_id': '1ef0cb3e-9368-40ba-8543-b81c72b3b848', 'page_number': 1, 'split_id': 31, 'split_idx_start': 4118}, embedding: vector of size 2560),\n",
       " Document(id=168d41c29256fe0353a1fbbe625c95c4de128272b77cdc6e2b5c535f2972ac7a, content: 'Prostaglandine sind Medikamente, die körpereigene Hormone nachahmen und zur Wehenförderung eingesetz...', meta: {'title': 'Einleitung der Geburt.md', 'source_id': '1ef0cb3e-9368-40ba-8543-b81c72b3b848', 'page_number': 1, 'split_id': 32, 'split_idx_start': 4167}, embedding: vector of size 2560),\n",
       " Document(id=24c3c89945c1ebc143718a447bb41ae93cdaab5903f40b812c3aba7a86dbbad9, content: 'Oxytocin ist ein Hormon, das natürlicherweise im Körper produziert wird und für die Wehenbildung ver...', meta: {'title': 'Einleitung der Geburt.md', 'source_id': '1ef0cb3e-9368-40ba-8543-b81c72b3b848', 'page_number': 1, 'split_id': 34, 'split_idx_start': 4552}, embedding: vector of size 2560),\n",
       " Document(id=61f02fa48f88d8d49824d74d284eecbeba5eedf9b214a8ea3c3cb2bc4db6aa3c, content: 'Oxytocin ist ein natürlich im Körper vorkommendes Hormon, das normalerweise zur Geburt und Stillen b...', meta: {'title': 'Einleitung der Geburt.md', 'source_id': '1ef0cb3e-9368-40ba-8543-b81c72b3b848', 'page_number': 1, 'split_id': 35, 'split_idx_start': 4562}, embedding: vector of size 2560),\n",
       " Document(id=32699b589e27e1582f18cf018c1bbf481c3f0b069da724ebd435eb0fdd17cda9, content: 'Rizinusöl wird in einem \"Wehencocktail\" verwendet, der aus Rizinusöl und weiteren Zutaten besteht un...', meta: {'title': 'Einleitung der Geburt.md', 'source_id': '1ef0cb3e-9368-40ba-8543-b81c72b3b848', 'page_number': 1, 'split_id': 37, 'split_idx_start': 4817}, embedding: vector of size 2560),\n",
       " Document(id=fc4d4bb5cbebb186dd64a12fbcd60cbdd6290af90a9831ceeb6e4c0d516ee268, content: 'Rizinusöl wird als \"Wehencocktail\" bezeichnet und ist ein Mittel zur Einleitung der Geburt. Es wirkt...', meta: {'title': 'Einleitung der Geburt.md', 'source_id': '1ef0cb3e-9368-40ba-8543-b81c72b3b848', 'page_number': 1, 'split_id': 38, 'split_idx_start': 4844}, embedding: vector of size 2560),\n",
       " Document(id=2aa860657ef2f47e714574872b2893b8f89328fd68a1ff42006b614e3688baab, content: 'Die Eipollösung wird durchgeführt, wenn der Muttermund bereits leicht geöffnet ist. Dabei löst die Ä...', meta: {'title': 'Einleitung der Geburt.md', 'source_id': '1ef0cb3e-9368-40ba-8543-b81c72b3b848', 'page_number': 1, 'split_id': 40, 'split_idx_start': 4974}, embedding: vector of size 2560),\n",
       " Document(id=72b95b18f9368d8a92520c07974a76f23388bc6d91018e05ffa7057580309e48, content: 'Dies wird als Amniotomie bezeichnet und wird nur durchgeführt, wenn der Geburtsbefund bereits reif i...', meta: {'title': 'Einleitung der Geburt.md', 'source_id': '1ef0cb3e-9368-40ba-8543-b81c72b3b848', 'page_number': 1, 'split_id': 41, 'split_idx_start': 4987}, embedding: vector of size 2560),\n",
       " Document(id=5b653df765cfcfd8ac09d618c34f8422af282b99184a0c92db04ddccee5814b7, content: 'Bei der Amniotomie wird die Fruchtblase mit einem Instrument geöffnet. Dies löst in vielen Fällen We...', meta: {'title': 'Einleitung der Geburt.md', 'source_id': '1ef0cb3e-9368-40ba-8543-b81c72b3b848', 'page_number': 1, 'split_id': 43, 'split_idx_start': 5176}, embedding: vector of size 2560),\n",
       " Document(id=6f2fd961b409825b0a4a9f0a92bc7a0d88f60be703211b660e1fc1b99f92361b, content: 'Dies wird als Amniotomie bezeichnet und ist ein gängiges Verfahren zur Einleitung der Wehen. Es wird...', meta: {'title': 'Einleitung der Geburt.md', 'source_id': '1ef0cb3e-9368-40ba-8543-b81c72b3b848', 'page_number': 1, 'split_id': 44, 'split_idx_start': 5212}, embedding: vector of size 2560),\n",
       " Document(id=9f4ca5d7e8378c4ff68261d4677e286d3c2d44d417542f7cdf9b88d8aaeaa27b, content: 'Ein Doppelballonkatheter ist ein Verfahren, bei dem ein Katheter mit zwei Ballons durch die Scheide ...', meta: {'title': 'Einleitung der Geburt.md', 'source_id': '1ef0cb3e-9368-40ba-8543-b81c72b3b848', 'page_number': 1, 'split_id': 46, 'split_idx_start': 5375}, embedding: vector of size 2560),\n",
       " Document(id=5e076cd3d4d0266910e7084c5f85193c5ae14558877e55cad13de1f9be2b0cf6, content: 'Dieser Vorgang, der als Doppelballonkatheter-Methode bezeichnet wird, zielt darauf ab, den Muttermun...', meta: {'title': 'Einleitung der Geburt.md', 'source_id': '1ef0cb3e-9368-40ba-8543-b81c72b3b848', 'page_number': 1, 'split_id': 47, 'split_idx_start': 5397}, embedding: vector of size 2560),\n",
       " Document(id=bea348c86392be4b65390e580054b434b569a34e8fa2e264d401a37654f82438, content: 'Quellstäbchen sind dünne, wasserabsorbierende Stäbchen, die in den Muttermund eingelegt werden, um d...', meta: {'title': 'Einleitung der Geburt.md', 'source_id': '1ef0cb3e-9368-40ba-8543-b81c72b3b848', 'page_number': 1, 'split_id': 49, 'split_idx_start': 5673}, embedding: vector of size 2560),\n",
       " Document(id=c194fba62a7b9b974885e6651afeb41b751a40ba379a006d467a62e03fb4b50a, content: 'Quellstäbchen sind eine Methode zur Einleitung der Wehen, bei der dünne, wasserabsorbierende Stäbche...', meta: {'title': 'Einleitung der Geburt.md', 'source_id': '1ef0cb3e-9368-40ba-8543-b81c72b3b848', 'page_number': 1, 'split_id': 50, 'split_idx_start': 5688}, embedding: vector of size 2560),\n",
       " Document(id=ff318b3eec8d8efe6e4e193dde87171a67fbe8f2c048e25f303884a078fe5d4c, content: 'Dieser Abschnitt warnt davor, dass trotz sorgfältiger Durchführung der Einleitung Komplikationen auf...', meta: {'title': 'Einleitung der Geburt.md', 'source_id': '1ef0cb3e-9368-40ba-8543-b81c72b3b848', 'page_number': 1, 'split_id': 53, 'split_idx_start': 5875}, embedding: vector of size 2560),\n",
       " Document(id=39e131ef63f610da53e0249b77680f351c9f89feca9a81a174d6abed6fa6c2ce, content: '**Fruchtwasserembolie** ist eine sehr seltene, aber lebensbedrohliche Komplikation, bei der Fruchtwa...', meta: {'title': 'Einleitung der Geburt.md', 'source_id': '1ef0cb3e-9368-40ba-8543-b81c72b3b848', 'page_number': 1, 'split_id': 55, 'split_idx_start': 6166}, embedding: vector of size 2560),\n",
       " Document(id=3643c9af87c0501b3e6a51b7a7f548955a567c28a48e2a1e584ed4fd3c7b81fc, content: 'Eine Uterusruptur ist ein schwerwiegendes Ereignis, bei dem die Gebärmutterwand während der Wehen re...', meta: {'title': 'Einleitung der Geburt.md', 'source_id': '1ef0cb3e-9368-40ba-8543-b81c72b3b848', 'page_number': 1, 'split_id': 57, 'split_idx_start': 6529}, embedding: vector of size 2560),\n",
       " Document(id=05abf029f83b4895cc0460a833f625524a17030acde6906746019c3314c45be7, content: 'Oxytocin ist ein synthetisches Hormon, das die natürlichen Wehenhormone des Körpers nachahmt.  Es wi...', meta: {'title': 'Einleitung der Geburt.md', 'source_id': '1ef0cb3e-9368-40ba-8543-b81c72b3b848', 'page_number': 1, 'split_id': 59, 'split_idx_start': 6785}, embedding: vector of size 2560),\n",
       " Document(id=1b204cd629ba7a3188c922f1bd6bc5bb01840e21147dc1b1fb33b2ea703424ae, content: 'Rizinusöl, auch bekannt als \"Wehencocktail\", wird als Mittel zur Wehenförderung eingesetzt.  Die gen...', meta: {'title': 'Einleitung der Geburt.md', 'source_id': '1ef0cb3e-9368-40ba-8543-b81c72b3b848', 'page_number': 1, 'split_id': 61, 'split_idx_start': 7071}, embedding: vector of size 2560),\n",
       " Document(id=589695ff3ea4c742a4f9970a850a0d0201ea73e1b71ceb3ba108cb491cba8cd6, content: 'Diese Blutung ist ein Zeichen dafür, dass sich der Muttermund zu öffnen beginnt und ist ein normaler...', meta: {'title': 'Einleitung der Geburt.md', 'source_id': '1ef0cb3e-9368-40ba-8543-b81c72b3b848', 'page_number': 1, 'split_id': 63, 'split_idx_start': 7144}, embedding: vector of size 2560),\n",
       " Document(id=6114c24845e5b46eee4c7853c81d890483045388c01f4efad52925358128758f, content: 'Ein Nabelschnurvorfall bedeutet, dass die Nabelschnur vor dem Baby aus der Gebärmutter tritt. Dies k...', meta: {'title': 'Einleitung der Geburt.md', 'source_id': '1ef0cb3e-9368-40ba-8543-b81c72b3b848', 'page_number': 1, 'split_id': 65, 'split_idx_start': 7282}, embedding: vector of size 2560),\n",
       " Document(id=5a53d0ffde16cd9fc32f1d361e0a0653036b5f5fb44730b97d32fa8ab1fefcfb, content: 'Ein Ballonkatheter ist ein Verfahren zur Geburtseinleitung, bei dem ein Katheter mit zwei Ballons in...', meta: {'title': 'Einleitung der Geburt.md', 'source_id': '1ef0cb3e-9368-40ba-8543-b81c72b3b848', 'page_number': 1, 'split_id': 67, 'split_idx_start': 7537}, embedding: vector of size 2560),\n",
       " Document(id=6013a820b5127381769524c26c93f34e08e778d9b7f0824a7d6ef3b968fa408c, content: 'Dieser Abschnitt bezieht sich auf die Anwendung von Quellstäbchen zur Einleitung der Geburt. Obwohl ...', meta: {'title': 'Einleitung der Geburt.md', 'source_id': '1ef0cb3e-9368-40ba-8543-b81c72b3b848', 'page_number': 1, 'split_id': 69, 'split_idx_start': 7764}, embedding: vector of size 2560),\n",
       " Document(id=39963edd528211c2af8470766e6ce913a668cb538d622722143acf222f839991, content: 'Hierbei handelt es sich um seltene, aber potenziell schwerwiegende Komplikationen, die bei Versuchen...', meta: {'title': 'Einleitung der Geburt.md', 'source_id': '1ef0cb3e-9368-40ba-8543-b81c72b3b848', 'page_number': 1, 'split_id': 71, 'split_idx_start': 7879}, embedding: vector of size 2560),\n",
       " Document(id=08e59b1dcffe9ef977687c92a480664194b4fdb9ad649d74aed190b706424bf2, content: 'Prostaglandine sind Medikamente, die zur Reifung des Gebärmutterhalses und zum Öffnen des Muttermund...', meta: {'title': 'Einleitung der Geburt.md', 'source_id': '1ef0cb3e-9368-40ba-8543-b81c72b3b848', 'page_number': 1, 'split_id': 73, 'split_idx_start': 8153}, embedding: vector of size 2560),\n",
       " Document(id=45e54d90d885e1a222a18ae7c265d41913c6710879b7c551fa3ee6d738a8480c, content: 'Diese Überwachung umfasst die Kontrolle von Mutter und Kind, einschließlich Herzfrequenz, Blutdruck ...', meta: {'title': 'Einleitung der Geburt.md', 'source_id': '1ef0cb3e-9368-40ba-8543-b81c72b3b848', 'page_number': 1, 'split_id': 76, 'split_idx_start': 8355}, embedding: vector of size 2560)]"
      ]
     },
     "execution_count": 6,
     "metadata": {},
     "output_type": "execute_result"
    }
   ],
   "source": [
    "context_indexing_store.filter_documents()"
   ]
  },
  {
   "cell_type": "code",
   "execution_count": 7,
   "id": "cad5567b",
   "metadata": {},
   "outputs": [
    {
     "name": "stderr",
     "output_type": "stream",
     "text": [
      "12:46:38 INFO PyTorch version 2.7.0 available.\n",
      "12:46:38 INFO Load pretrained SentenceTransformer: Qwen/Qwen3-Embedding-4B\n"
     ]
    },
    {
     "data": {
      "application/vnd.jupyter.widget-view+json": {
       "model_id": "b5e71a335d7f49b4841abaf83d193fa7",
       "version_major": 2,
       "version_minor": 0
      },
      "text/plain": [
       "Loading checkpoint shards:   0%|          | 0/2 [00:00<?, ?it/s]"
      ]
     },
     "metadata": {},
     "output_type": "display_data"
    },
    {
     "name": "stderr",
     "output_type": "stream",
     "text": [
      "12:46:44 INFO 2 prompts are loaded, with the keys: ['query', 'document']\n"
     ]
    },
    {
     "ename": "TypeError",
     "evalue": "QwenYesNoReranker.__init__() got an unexpected keyword argument 'model_kwargs'",
     "output_type": "error",
     "traceback": [
      "\u001b[31m---------------------------------------------------------------------------\u001b[39m",
      "\u001b[31mTypeError\u001b[39m                                 Traceback (most recent call last)",
      "\u001b[36mCell\u001b[39m\u001b[36m \u001b[39m\u001b[32mIn[7]\u001b[39m\u001b[32m, line 5\u001b[39m\n\u001b[32m      2\u001b[39m importlib.reload(pipelines.retrieval_pipelines.base_retrieval_pipeline)\n\u001b[32m      3\u001b[39m \u001b[38;5;28;01mfrom\u001b[39;00m\u001b[38;5;250m \u001b[39m\u001b[34;01mpipelines\u001b[39;00m\u001b[34;01m.\u001b[39;00m\u001b[34;01mcomponents\u001b[39;00m\u001b[34;01m.\u001b[39;00m\u001b[34;01mwrap_in_list_adapter\u001b[39;00m\u001b[38;5;250m \u001b[39m\u001b[38;5;28;01mimport\u001b[39;00m WrapInListAdapter\n\u001b[32m----> \u001b[39m\u001b[32m5\u001b[39m base_retrieval_pipeline = \u001b[43mpipelines\u001b[49m\u001b[43m.\u001b[49m\u001b[43mretrieval_pipelines\u001b[49m\u001b[43m.\u001b[49m\u001b[43mbase_retrieval_pipeline\u001b[49m\u001b[43m.\u001b[49m\u001b[43mget_base_retrieval_pipeline\u001b[49m\u001b[43m(\u001b[49m\u001b[43mbase_indexing_store\u001b[49m\u001b[43m)\u001b[49m\n\u001b[32m      7\u001b[39m map_evaluator = DocumentMAPEvaluator()\n\u001b[32m      8\u001b[39m mrr_evaluator = DocumentMRREvaluator()\n",
      "\u001b[36mFile \u001b[39m\u001b[32m/srv/data/pia-rag-eval/pipelines/retrieval_pipelines/base_retrieval_pipeline.py:23\u001b[39m, in \u001b[36mget_base_retrieval_pipeline\u001b[39m\u001b[34m(document_store)\u001b[39m\n\u001b[32m     20\u001b[39m query_embedder.warm_up()\n\u001b[32m     22\u001b[39m retriever = InMemoryEmbeddingRetriever(document_store=document_store, top_k=\u001b[38;5;28mint\u001b[39m(os.environ[\u001b[33m\"\u001b[39m\u001b[33mEMBEDDING_MODEL_TOP_K\u001b[39m\u001b[33m\"\u001b[39m]))\n\u001b[32m---> \u001b[39m\u001b[32m23\u001b[39m reranker = \u001b[43mQwenYesNoReranker\u001b[49m\u001b[43m(\u001b[49m\n\u001b[32m     24\u001b[39m \u001b[43m    \u001b[49m\u001b[43mmodel\u001b[49m\u001b[43m=\u001b[49m\u001b[33;43m\"\u001b[39;49m\u001b[33;43mQwen/Qwen3-Reranker-0.6B\u001b[39;49m\u001b[33;43m\"\u001b[39;49m\u001b[43m,\u001b[49m\u001b[43m \u001b[49m\n\u001b[32m     25\u001b[39m \u001b[43m    \u001b[49m\u001b[43mtop_k\u001b[49m\u001b[43m=\u001b[49m\u001b[38;5;28;43mint\u001b[39;49m\u001b[43m(\u001b[49m\u001b[43mos\u001b[49m\u001b[43m.\u001b[49m\u001b[43menviron\u001b[49m\u001b[43m[\u001b[49m\u001b[33;43m\"\u001b[39;49m\u001b[33;43mEMBEDDING_MODEL_TOP_K\u001b[39;49m\u001b[33;43m\"\u001b[39;49m\u001b[43m]\u001b[49m\u001b[43m)\u001b[49m\u001b[43m,\u001b[49m\n\u001b[32m     26\u001b[39m \u001b[43m    \u001b[49m\u001b[43mdevice\u001b[49m\u001b[43m=\u001b[49m\u001b[43mComponentDevice\u001b[49m\u001b[43m.\u001b[49m\u001b[43mfrom_single\u001b[49m\u001b[43m(\u001b[49m\u001b[43mDevice\u001b[49m\u001b[43m.\u001b[49m\u001b[43mgpu\u001b[49m\u001b[43m(\u001b[49m\u001b[38;5;28;43mid\u001b[39;49m\u001b[43m=\u001b[49m\u001b[32;43m3\u001b[39;49m\u001b[43m)\u001b[49m\u001b[43m)\u001b[49m\u001b[43m,\u001b[49m\n\u001b[32m     27\u001b[39m \u001b[43m    \u001b[49m\u001b[43mmodel_kwargs\u001b[49m\u001b[43m=\u001b[49m\u001b[43m{\u001b[49m\u001b[33;43m\"\u001b[39;49m\u001b[33;43mtorch_dtype\u001b[39;49m\u001b[33;43m\"\u001b[39;49m\u001b[43m:\u001b[49m\u001b[43m \u001b[49m\u001b[33;43m\"\u001b[39;49m\u001b[33;43mfloat16\u001b[39;49m\u001b[33;43m\"\u001b[39;49m\u001b[43m}\u001b[49m\u001b[43m,\u001b[49m\n\u001b[32m     28\u001b[39m \u001b[43m    \u001b[49m\u001b[43mbatch_size\u001b[49m\u001b[43m=\u001b[49m\u001b[32;43m1\u001b[39;49m\u001b[43m,\u001b[49m\n\u001b[32m     29\u001b[39m \u001b[43m\u001b[49m\u001b[43m)\u001b[49m\n\u001b[32m     30\u001b[39m reranker.warm_up()\n\u001b[32m     32\u001b[39m pipeline.add_component(instance=query_embedder, name=\u001b[33m\"\u001b[39m\u001b[33mquery_embedder\u001b[39m\u001b[33m\"\u001b[39m)\n",
      "\u001b[36mFile \u001b[39m\u001b[32m/srv/data/pia-rag-eval/.venv/lib/python3.11/site-packages/haystack/core/component/component.py:299\u001b[39m, in \u001b[36mComponentMeta.__call__\u001b[39m\u001b[34m(cls, *args, **kwargs)\u001b[39m\n\u001b[32m    297\u001b[39m pre_init_hook = _COMPONENT_PRE_INIT_HOOK.get()\n\u001b[32m    298\u001b[39m \u001b[38;5;28;01mif\u001b[39;00m pre_init_hook \u001b[38;5;129;01mis\u001b[39;00m \u001b[38;5;28;01mNone\u001b[39;00m \u001b[38;5;129;01mor\u001b[39;00m pre_init_hook.in_progress:\n\u001b[32m--> \u001b[39m\u001b[32m299\u001b[39m     instance = \u001b[38;5;28;43msuper\u001b[39;49m\u001b[43m(\u001b[49m\u001b[43m)\u001b[49m\u001b[43m.\u001b[49m\u001b[34;43m__call__\u001b[39;49m\u001b[43m(\u001b[49m\u001b[43m*\u001b[49m\u001b[43margs\u001b[49m\u001b[43m,\u001b[49m\u001b[43m \u001b[49m\u001b[43m*\u001b[49m\u001b[43m*\u001b[49m\u001b[43mkwargs\u001b[49m\u001b[43m)\u001b[49m\n\u001b[32m    300\u001b[39m \u001b[38;5;28;01melse\u001b[39;00m:\n\u001b[32m    301\u001b[39m     \u001b[38;5;28;01mtry\u001b[39;00m:\n",
      "\u001b[31mTypeError\u001b[39m: QwenYesNoReranker.__init__() got an unexpected keyword argument 'model_kwargs'"
     ]
    }
   ],
   "source": [
    "import pipelines.retrieval_pipelines.base_retrieval_pipeline\n",
    "importlib.reload(pipelines.retrieval_pipelines.base_retrieval_pipeline)\n",
    "from pipelines.components.wrap_in_list_adapter import WrapInListAdapter\n",
    "\n",
    "base_retrieval_pipeline = pipelines.retrieval_pipelines.base_retrieval_pipeline.get_base_retrieval_pipeline(base_indexing_store)\n",
    "\n",
    "map_evaluator = DocumentMAPEvaluator()\n",
    "mrr_evaluator = DocumentMRREvaluator()\n",
    "recall_evaluator = DocumentRecallEvaluator()\n",
    "\n",
    "retriever_to_evaluator_adapter = WrapInListAdapter()\n",
    "\n",
    "base_retrieval_pipeline.add_component(instance=map_evaluator, name=\"map_evaluator\")\n",
    "base_retrieval_pipeline.add_component(instance=mrr_evaluator, name=\"mrr_evaluator\")\n",
    "base_retrieval_pipeline.add_component(instance=recall_evaluator, name=\"recall_evaluator\")\n",
    "base_retrieval_pipeline.add_component(instance=retriever_to_evaluator_adapter, name=\"retriever_to_evaluator_adapter\")\n",
    "base_retrieval_pipeline.connect(\"reranker\", \"retriever_to_evaluator_adapter\")\n",
    "base_retrieval_pipeline.connect(\"retriever_to_evaluator_adapter.output\", \"map_evaluator.retrieved_documents\")\n",
    "base_retrieval_pipeline.connect(\"retriever_to_evaluator_adapter.output\", \"mrr_evaluator.retrieved_documents\")\n",
    "base_retrieval_pipeline.connect(\"retriever_to_evaluator_adapter.output\", \"recall_evaluator.retrieved_documents\")"
   ]
  },
  {
   "cell_type": "code",
   "execution_count": null,
   "id": "8867a363",
   "metadata": {},
   "outputs": [
    {
     "name": "stderr",
     "output_type": "stream",
     "text": [
      "Some weights of Qwen3ForSequenceClassification were not initialized from the model checkpoint at Qwen/Qwen3-Reranker-0.6B and are newly initialized: ['score.weight']\n",
      "You should probably TRAIN this model on a down-stream task to be able to use it for predictions and inference.\n"
     ]
    },
    {
     "data": {
      "text/plain": [
       "<haystack.core.pipeline.pipeline.Pipeline object at 0x7f0e0d2ceed0>\n",
       "🚅 Components\n",
       "  - query_embedder: SentenceTransformersTextEmbedder\n",
       "  - bm25_retriever: InMemoryBM25Retriever\n",
       "  - retriever: InMemoryEmbeddingRetriever\n",
       "  - joiner: DocumentJoiner\n",
       "  - reranker: SentenceTransformersSimilarityRanker\n",
       "  - map_evaluator: DocumentMAPEvaluator\n",
       "  - mrr_evaluator: DocumentMRREvaluator\n",
       "  - recall_evaluator: DocumentRecallEvaluator\n",
       "  - retriever_to_evaluator_adapter: WrapInListAdapter\n",
       "🛤️ Connections\n",
       "  - query_embedder.embedding -> retriever.query_embedding (List[float])\n",
       "  - bm25_retriever.documents -> joiner.documents (List[Document])\n",
       "  - retriever.documents -> joiner.documents (List[Document])\n",
       "  - joiner.documents -> reranker.documents (List[Document])\n",
       "  - reranker.documents -> retriever_to_evaluator_adapter.documents (List[Document])\n",
       "  - retriever_to_evaluator_adapter.output -> map_evaluator.retrieved_documents (List[List[Document]])\n",
       "  - retriever_to_evaluator_adapter.output -> mrr_evaluator.retrieved_documents (List[List[Document]])\n",
       "  - retriever_to_evaluator_adapter.output -> recall_evaluator.retrieved_documents (List[List[Document]])"
      ]
     },
     "execution_count": 8,
     "metadata": {},
     "output_type": "execute_result"
    }
   ],
   "source": [
    "import pipelines.retrieval_pipelines.hybrid_retrieval_pipeline\n",
    "importlib.reload(pipelines.retrieval_pipelines.hybrid_retrieval_pipeline)\n",
    "\n",
    "hybrid_retrieval_pipeline = pipelines.retrieval_pipelines.hybrid_retrieval_pipeline.get_hybrid_retrieval_pipeline(base_indexing_store)\n",
    "\n",
    "map_evaluator = DocumentMAPEvaluator()\n",
    "mrr_evaluator = DocumentMRREvaluator()\n",
    "recall_evaluator = DocumentRecallEvaluator()\n",
    "\n",
    "retriever_to_evaluator_adapter = WrapInListAdapter()\n",
    "\n",
    "hybrid_retrieval_pipeline.add_component(instance=map_evaluator, name=\"map_evaluator\")\n",
    "hybrid_retrieval_pipeline.add_component(instance=mrr_evaluator, name=\"mrr_evaluator\")\n",
    "hybrid_retrieval_pipeline.add_component(instance=recall_evaluator, name=\"recall_evaluator\")\n",
    "hybrid_retrieval_pipeline.add_component(instance=retriever_to_evaluator_adapter, name=\"retriever_to_evaluator_adapter\")\n",
    "hybrid_retrieval_pipeline.connect(\"reranker\", \"retriever_to_evaluator_adapter\")\n",
    "hybrid_retrieval_pipeline.connect(\"retriever_to_evaluator_adapter.output\", \"map_evaluator.retrieved_documents\")\n",
    "hybrid_retrieval_pipeline.connect(\"retriever_to_evaluator_adapter.output\", \"mrr_evaluator.retrieved_documents\")\n",
    "hybrid_retrieval_pipeline.connect(\"retriever_to_evaluator_adapter.output\", \"recall_evaluator.retrieved_documents\")"
   ]
  },
  {
   "cell_type": "code",
   "execution_count": null,
   "id": "e550a08f",
   "metadata": {},
   "outputs": [
    {
     "name": "stderr",
     "output_type": "stream",
     "text": [
      "Some weights of Qwen3ForSequenceClassification were not initialized from the model checkpoint at Qwen/Qwen3-Reranker-0.6B and are newly initialized: ['score.weight']\n",
      "You should probably TRAIN this model on a down-stream task to be able to use it for predictions and inference.\n"
     ]
    },
    {
     "data": {
      "text/plain": [
       "<haystack.core.pipeline.pipeline.Pipeline object at 0x7f0dd9c24590>\n",
       "🚅 Components\n",
       "  - query_embedder: SentenceTransformersTextEmbedder\n",
       "  - retriever: InMemoryEmbeddingRetriever\n",
       "  - reranker: SentenceTransformersSimilarityRanker\n",
       "  - map_evaluator: DocumentMAPEvaluator\n",
       "  - mrr_evaluator: DocumentMRREvaluator\n",
       "  - recall_evaluator: DocumentRecallEvaluator\n",
       "  - retriever_to_evaluator_adapter: WrapInListAdapter\n",
       "🛤️ Connections\n",
       "  - query_embedder.embedding -> retriever.query_embedding (List[float])\n",
       "  - retriever.documents -> reranker.documents (List[Document])\n",
       "  - reranker.documents -> retriever_to_evaluator_adapter.documents (List[Document])\n",
       "  - retriever_to_evaluator_adapter.output -> map_evaluator.retrieved_documents (List[List[Document]])\n",
       "  - retriever_to_evaluator_adapter.output -> mrr_evaluator.retrieved_documents (List[List[Document]])\n",
       "  - retriever_to_evaluator_adapter.output -> recall_evaluator.retrieved_documents (List[List[Document]])"
      ]
     },
     "execution_count": 9,
     "metadata": {},
     "output_type": "execute_result"
    }
   ],
   "source": [
    "import pipelines.retrieval_pipelines.base_retrieval_pipeline\n",
    "importlib.reload(pipelines.retrieval_pipelines.base_retrieval_pipeline)\n",
    "\n",
    "context_retrieval_pipeline = pipelines.retrieval_pipelines.base_retrieval_pipeline.get_base_retrieval_pipeline(context_indexing_store)\n",
    "\n",
    "map_evaluator = DocumentMAPEvaluator()\n",
    "mrr_evaluator = DocumentMRREvaluator()\n",
    "recall_evaluator = DocumentRecallEvaluator()\n",
    "\n",
    "retriever_to_evaluator_adapter = WrapInListAdapter()\n",
    "\n",
    "context_retrieval_pipeline.add_component(instance=map_evaluator, name=\"map_evaluator\")\n",
    "context_retrieval_pipeline.add_component(instance=mrr_evaluator, name=\"mrr_evaluator\")\n",
    "context_retrieval_pipeline.add_component(instance=recall_evaluator, name=\"recall_evaluator\")\n",
    "context_retrieval_pipeline.add_component(instance=retriever_to_evaluator_adapter, name=\"retriever_to_evaluator_adapter\")\n",
    "context_retrieval_pipeline.connect(\"reranker\", \"retriever_to_evaluator_adapter\")\n",
    "context_retrieval_pipeline.connect(\"retriever_to_evaluator_adapter.output\", \"map_evaluator.retrieved_documents\")\n",
    "context_retrieval_pipeline.connect(\"retriever_to_evaluator_adapter.output\", \"mrr_evaluator.retrieved_documents\")\n",
    "context_retrieval_pipeline.connect(\"retriever_to_evaluator_adapter.output\", \"recall_evaluator.retrieved_documents\")"
   ]
  },
  {
   "cell_type": "code",
   "execution_count": null,
   "id": "2dd6c3e6",
   "metadata": {},
   "outputs": [
    {
     "name": "stderr",
     "output_type": "stream",
     "text": [
      "Some weights of Qwen3ForSequenceClassification were not initialized from the model checkpoint at Qwen/Qwen3-Reranker-0.6B and are newly initialized: ['score.weight']\n",
      "You should probably TRAIN this model on a down-stream task to be able to use it for predictions and inference.\n"
     ]
    },
    {
     "data": {
      "text/plain": [
       "<haystack.core.pipeline.pipeline.Pipeline object at 0x7f0f46ba9450>\n",
       "🚅 Components\n",
       "  - query_embedder: SentenceTransformersTextEmbedder\n",
       "  - bm25_retriever: InMemoryBM25Retriever\n",
       "  - retriever: InMemoryEmbeddingRetriever\n",
       "  - joiner: DocumentJoiner\n",
       "  - reranker: SentenceTransformersSimilarityRanker\n",
       "  - map_evaluator: DocumentMAPEvaluator\n",
       "  - mrr_evaluator: DocumentMRREvaluator\n",
       "  - recall_evaluator: DocumentRecallEvaluator\n",
       "  - retriever_to_evaluator_adapter: WrapInListAdapter\n",
       "🛤️ Connections\n",
       "  - query_embedder.embedding -> retriever.query_embedding (List[float])\n",
       "  - bm25_retriever.documents -> joiner.documents (List[Document])\n",
       "  - retriever.documents -> joiner.documents (List[Document])\n",
       "  - joiner.documents -> reranker.documents (List[Document])\n",
       "  - reranker.documents -> retriever_to_evaluator_adapter.documents (List[Document])\n",
       "  - retriever_to_evaluator_adapter.output -> map_evaluator.retrieved_documents (List[List[Document]])\n",
       "  - retriever_to_evaluator_adapter.output -> mrr_evaluator.retrieved_documents (List[List[Document]])\n",
       "  - retriever_to_evaluator_adapter.output -> recall_evaluator.retrieved_documents (List[List[Document]])"
      ]
     },
     "execution_count": 10,
     "metadata": {},
     "output_type": "execute_result"
    }
   ],
   "source": [
    "import pipelines.retrieval_pipelines.hybrid_retrieval_pipeline\n",
    "importlib.reload(pipelines.retrieval_pipelines.hybrid_retrieval_pipeline)\n",
    "\n",
    "context_hybrid_retrieval_pipeline = pipelines.retrieval_pipelines.hybrid_retrieval_pipeline.get_hybrid_retrieval_pipeline(context_indexing_store)\n",
    "\n",
    "map_evaluator = DocumentMAPEvaluator()\n",
    "mrr_evaluator = DocumentMRREvaluator()\n",
    "recall_evaluator = DocumentRecallEvaluator()\n",
    "\n",
    "retriever_to_evaluator_adapter = WrapInListAdapter()\n",
    "\n",
    "context_hybrid_retrieval_pipeline.add_component(instance=map_evaluator, name=\"map_evaluator\")\n",
    "context_hybrid_retrieval_pipeline.add_component(instance=mrr_evaluator, name=\"mrr_evaluator\")\n",
    "context_hybrid_retrieval_pipeline.add_component(instance=recall_evaluator, name=\"recall_evaluator\")\n",
    "context_hybrid_retrieval_pipeline.add_component(instance=retriever_to_evaluator_adapter, name=\"retriever_to_evaluator_adapter\")\n",
    "context_hybrid_retrieval_pipeline.connect(\"reranker\", \"retriever_to_evaluator_adapter\")\n",
    "context_hybrid_retrieval_pipeline.connect(\"retriever_to_evaluator_adapter.output\", \"map_evaluator.retrieved_documents\")\n",
    "context_hybrid_retrieval_pipeline.connect(\"retriever_to_evaluator_adapter.output\", \"mrr_evaluator.retrieved_documents\")\n",
    "context_hybrid_retrieval_pipeline.connect(\"retriever_to_evaluator_adapter.output\", \"recall_evaluator.retrieved_documents\")"
   ]
  },
  {
   "cell_type": "markdown",
   "id": "baeb621f",
   "metadata": {},
   "source": [
    "## Run Evaluation"
   ]
  },
  {
   "cell_type": "code",
   "execution_count": null,
   "id": "10195f32",
   "metadata": {},
   "outputs": [],
   "source": [
    "test_cases = [\n",
    "    {\n",
    "        \"name\": \"Basic RAG\",\n",
    "        \"pipeline\": base_retrieval_pipeline,\n",
    "    },\n",
    "    {\n",
    "        \"name\": \"Hybrid RAG\",\n",
    "        \"pipeline\": hybrid_retrieval_pipeline,\n",
    "    },\n",
    "    {\n",
    "        \"name\": \"Contextual RAG\",\n",
    "        \"pipeline\": context_retrieval_pipeline,\n",
    "    },\n",
    "    {\n",
    "        \"name\": \"Contextual Hybrid RAG\",\n",
    "        \"pipeline\": context_hybrid_retrieval_pipeline,\n",
    "    },\n",
    "]"
   ]
  },
  {
   "cell_type": "code",
   "execution_count": null,
   "id": "416e04e7",
   "metadata": {},
   "outputs": [],
   "source": [
    "import logging\n",
    "\n",
    "# silence haystack’s pipeline logs\n",
    "logging.getLogger(\"haystack\").setLevel(logging.WARNING)\n",
    "logging.getLogger(\"haystack.core.pipeline\").setLevel(logging.WARNING)\n",
    "\n",
    "# if you see similar spam from transformers, ragas, etc.\n",
    "logging.getLogger(\"transformers\").setLevel(logging.WARNING)\n",
    "logging.getLogger(\"ragas\").setLevel(logging.WARNING)"
   ]
  },
  {
   "cell_type": "code",
   "execution_count": null,
   "id": "5426b4df",
   "metadata": {},
   "outputs": [
    {
     "name": "stderr",
     "output_type": "stream",
     "text": [
      "Processing rows:   0%|          | 0/50 [00:00<?, ?row/s]"
     ]
    },
    {
     "data": {
      "application/vnd.jupyter.widget-view+json": {
       "model_id": "bee6e4b77d1342128fc4a91574319053",
       "version_major": 2,
       "version_minor": 0
      },
      "text/plain": [
       "Batches:   0%|          | 0/1 [00:00<?, ?it/s]"
      ]
     },
     "metadata": {},
     "output_type": "display_data"
    },
    {
     "data": {
      "application/vnd.jupyter.widget-view+json": {
       "model_id": "604fe3c63dad486abda8adba8231097d",
       "version_major": 2,
       "version_minor": 0
      },
      "text/plain": [
       "Batches:   0%|          | 0/5 [00:00<?, ?it/s]"
      ]
     },
     "metadata": {},
     "output_type": "display_data"
    },
    {
     "data": {
      "application/vnd.jupyter.widget-view+json": {
       "model_id": "73f51077c28443ae89305da37683cef1",
       "version_major": 2,
       "version_minor": 0
      },
      "text/plain": [
       "Batches:   0%|          | 0/1 [00:00<?, ?it/s]"
      ]
     },
     "metadata": {},
     "output_type": "display_data"
    },
    {
     "data": {
      "application/vnd.jupyter.widget-view+json": {
       "model_id": "35f7ed8d7fc54acc86c49d65dbe36d54",
       "version_major": 2,
       "version_minor": 0
      },
      "text/plain": [
       "Batches:   0%|          | 0/10 [00:00<?, ?it/s]"
      ]
     },
     "metadata": {},
     "output_type": "display_data"
    },
    {
     "data": {
      "application/vnd.jupyter.widget-view+json": {
       "model_id": "35c9bc2ab9f84aeab8324c5ecc48ea2c",
       "version_major": 2,
       "version_minor": 0
      },
      "text/plain": [
       "Batches:   0%|          | 0/1 [00:00<?, ?it/s]"
      ]
     },
     "metadata": {},
     "output_type": "display_data"
    },
    {
     "data": {
      "application/vnd.jupyter.widget-view+json": {
       "model_id": "ee7d9b06588a4e10a42ba5301d1d6226",
       "version_major": 2,
       "version_minor": 0
      },
      "text/plain": [
       "Batches:   0%|          | 0/5 [00:00<?, ?it/s]"
      ]
     },
     "metadata": {},
     "output_type": "display_data"
    },
    {
     "data": {
      "application/vnd.jupyter.widget-view+json": {
       "model_id": "189d2c624e5844298c9f1d0ac6830afd",
       "version_major": 2,
       "version_minor": 0
      },
      "text/plain": [
       "Batches:   0%|          | 0/1 [00:00<?, ?it/s]"
      ]
     },
     "metadata": {},
     "output_type": "display_data"
    },
    {
     "data": {
      "application/vnd.jupyter.widget-view+json": {
       "model_id": "39c677b4e41042aaacbe44ac334a946f",
       "version_major": 2,
       "version_minor": 0
      },
      "text/plain": [
       "Batches:   0%|          | 0/8 [00:00<?, ?it/s]"
      ]
     },
     "metadata": {},
     "output_type": "display_data"
    },
    {
     "name": "stderr",
     "output_type": "stream",
     "text": [
      "Processing rows:   2%|▏         | 1/50 [00:02<01:47,  2.20s/row]"
     ]
    },
    {
     "data": {
      "application/vnd.jupyter.widget-view+json": {
       "model_id": "77d63a763a3941c2b7ad1c746457e9af",
       "version_major": 2,
       "version_minor": 0
      },
      "text/plain": [
       "Batches:   0%|          | 0/1 [00:00<?, ?it/s]"
      ]
     },
     "metadata": {},
     "output_type": "display_data"
    },
    {
     "data": {
      "application/vnd.jupyter.widget-view+json": {
       "model_id": "d0086a4a87674cddaaec384518710c96",
       "version_major": 2,
       "version_minor": 0
      },
      "text/plain": [
       "Batches:   0%|          | 0/5 [00:00<?, ?it/s]"
      ]
     },
     "metadata": {},
     "output_type": "display_data"
    },
    {
     "data": {
      "application/vnd.jupyter.widget-view+json": {
       "model_id": "50793d53d2954537b22fea8db40382a1",
       "version_major": 2,
       "version_minor": 0
      },
      "text/plain": [
       "Batches:   0%|          | 0/1 [00:00<?, ?it/s]"
      ]
     },
     "metadata": {},
     "output_type": "display_data"
    },
    {
     "data": {
      "application/vnd.jupyter.widget-view+json": {
       "model_id": "fcd872a1b6814b229e9f92f33114b5ba",
       "version_major": 2,
       "version_minor": 0
      },
      "text/plain": [
       "Batches:   0%|          | 0/7 [00:00<?, ?it/s]"
      ]
     },
     "metadata": {},
     "output_type": "display_data"
    },
    {
     "data": {
      "application/vnd.jupyter.widget-view+json": {
       "model_id": "d0f4e45673a9472f99345094fd471f6c",
       "version_major": 2,
       "version_minor": 0
      },
      "text/plain": [
       "Batches:   0%|          | 0/1 [00:00<?, ?it/s]"
      ]
     },
     "metadata": {},
     "output_type": "display_data"
    },
    {
     "data": {
      "application/vnd.jupyter.widget-view+json": {
       "model_id": "7f000ac653a6436faeb53c57589844c9",
       "version_major": 2,
       "version_minor": 0
      },
      "text/plain": [
       "Batches:   0%|          | 0/5 [00:00<?, ?it/s]"
      ]
     },
     "metadata": {},
     "output_type": "display_data"
    },
    {
     "data": {
      "application/vnd.jupyter.widget-view+json": {
       "model_id": "f413b551a55946488257b901ef8cb7ea",
       "version_major": 2,
       "version_minor": 0
      },
      "text/plain": [
       "Batches:   0%|          | 0/1 [00:00<?, ?it/s]"
      ]
     },
     "metadata": {},
     "output_type": "display_data"
    },
    {
     "data": {
      "application/vnd.jupyter.widget-view+json": {
       "model_id": "4eebcf35a2964ca1b507929d73513ae5",
       "version_major": 2,
       "version_minor": 0
      },
      "text/plain": [
       "Batches:   0%|          | 0/6 [00:00<?, ?it/s]"
      ]
     },
     "metadata": {},
     "output_type": "display_data"
    },
    {
     "name": "stderr",
     "output_type": "stream",
     "text": [
      "Processing rows:   4%|▍         | 2/50 [00:03<01:14,  1.55s/row]"
     ]
    },
    {
     "data": {
      "application/vnd.jupyter.widget-view+json": {
       "model_id": "09e4e3b1937e4ea9864c2c539f1d2d50",
       "version_major": 2,
       "version_minor": 0
      },
      "text/plain": [
       "Batches:   0%|          | 0/1 [00:00<?, ?it/s]"
      ]
     },
     "metadata": {},
     "output_type": "display_data"
    },
    {
     "data": {
      "application/vnd.jupyter.widget-view+json": {
       "model_id": "6da4ebc3e19145cb9a3058c2f61f43e5",
       "version_major": 2,
       "version_minor": 0
      },
      "text/plain": [
       "Batches:   0%|          | 0/5 [00:00<?, ?it/s]"
      ]
     },
     "metadata": {},
     "output_type": "display_data"
    },
    {
     "data": {
      "application/vnd.jupyter.widget-view+json": {
       "model_id": "5cd044fa205249ebbbdec0f781650585",
       "version_major": 2,
       "version_minor": 0
      },
      "text/plain": [
       "Batches:   0%|          | 0/1 [00:00<?, ?it/s]"
      ]
     },
     "metadata": {},
     "output_type": "display_data"
    },
    {
     "data": {
      "application/vnd.jupyter.widget-view+json": {
       "model_id": "cffb30e9b78f41d7b9daabe1ef8182d5",
       "version_major": 2,
       "version_minor": 0
      },
      "text/plain": [
       "Batches:   0%|          | 0/9 [00:00<?, ?it/s]"
      ]
     },
     "metadata": {},
     "output_type": "display_data"
    },
    {
     "data": {
      "application/vnd.jupyter.widget-view+json": {
       "model_id": "eefa4c6705eb444fb70b2a44bb3fd07b",
       "version_major": 2,
       "version_minor": 0
      },
      "text/plain": [
       "Batches:   0%|          | 0/1 [00:00<?, ?it/s]"
      ]
     },
     "metadata": {},
     "output_type": "display_data"
    },
    {
     "data": {
      "application/vnd.jupyter.widget-view+json": {
       "model_id": "115f4b1eb68b456aba593b2193fd722d",
       "version_major": 2,
       "version_minor": 0
      },
      "text/plain": [
       "Batches:   0%|          | 0/5 [00:00<?, ?it/s]"
      ]
     },
     "metadata": {},
     "output_type": "display_data"
    },
    {
     "data": {
      "application/vnd.jupyter.widget-view+json": {
       "model_id": "3cd4160d26c44ba3b62a45eb9c9cecae",
       "version_major": 2,
       "version_minor": 0
      },
      "text/plain": [
       "Batches:   0%|          | 0/1 [00:00<?, ?it/s]"
      ]
     },
     "metadata": {},
     "output_type": "display_data"
    },
    {
     "data": {
      "application/vnd.jupyter.widget-view+json": {
       "model_id": "45af40ff99864c3e87fa2ca09751e631",
       "version_major": 2,
       "version_minor": 0
      },
      "text/plain": [
       "Batches:   0%|          | 0/9 [00:00<?, ?it/s]"
      ]
     },
     "metadata": {},
     "output_type": "display_data"
    },
    {
     "name": "stderr",
     "output_type": "stream",
     "text": [
      "Processing rows:   6%|▌         | 3/50 [00:04<01:04,  1.37s/row]"
     ]
    },
    {
     "data": {
      "application/vnd.jupyter.widget-view+json": {
       "model_id": "0f0dcb19b7b1449698aac3aaaad85d1b",
       "version_major": 2,
       "version_minor": 0
      },
      "text/plain": [
       "Batches:   0%|          | 0/1 [00:00<?, ?it/s]"
      ]
     },
     "metadata": {},
     "output_type": "display_data"
    },
    {
     "data": {
      "application/vnd.jupyter.widget-view+json": {
       "model_id": "2762d11bc031455480c9bb91991a88c2",
       "version_major": 2,
       "version_minor": 0
      },
      "text/plain": [
       "Batches:   0%|          | 0/5 [00:00<?, ?it/s]"
      ]
     },
     "metadata": {},
     "output_type": "display_data"
    },
    {
     "data": {
      "application/vnd.jupyter.widget-view+json": {
       "model_id": "29a7eac6b118414cabc1eb6edd5e603a",
       "version_major": 2,
       "version_minor": 0
      },
      "text/plain": [
       "Batches:   0%|          | 0/1 [00:00<?, ?it/s]"
      ]
     },
     "metadata": {},
     "output_type": "display_data"
    },
    {
     "data": {
      "application/vnd.jupyter.widget-view+json": {
       "model_id": "c80bea4e5e064a80b38a4ae32297ace2",
       "version_major": 2,
       "version_minor": 0
      },
      "text/plain": [
       "Batches:   0%|          | 0/7 [00:00<?, ?it/s]"
      ]
     },
     "metadata": {},
     "output_type": "display_data"
    },
    {
     "data": {
      "application/vnd.jupyter.widget-view+json": {
       "model_id": "2970614b7e8b426f8f669e7133f17b1d",
       "version_major": 2,
       "version_minor": 0
      },
      "text/plain": [
       "Batches:   0%|          | 0/1 [00:00<?, ?it/s]"
      ]
     },
     "metadata": {},
     "output_type": "display_data"
    },
    {
     "data": {
      "application/vnd.jupyter.widget-view+json": {
       "model_id": "120135fe76b94afab821e39506f5411f",
       "version_major": 2,
       "version_minor": 0
      },
      "text/plain": [
       "Batches:   0%|          | 0/5 [00:00<?, ?it/s]"
      ]
     },
     "metadata": {},
     "output_type": "display_data"
    },
    {
     "data": {
      "application/vnd.jupyter.widget-view+json": {
       "model_id": "f19b4d4d64b74e078588fa1bd0002847",
       "version_major": 2,
       "version_minor": 0
      },
      "text/plain": [
       "Batches:   0%|          | 0/1 [00:00<?, ?it/s]"
      ]
     },
     "metadata": {},
     "output_type": "display_data"
    },
    {
     "data": {
      "application/vnd.jupyter.widget-view+json": {
       "model_id": "bccb202715ff48378d3b92dcc08aaf83",
       "version_major": 2,
       "version_minor": 0
      },
      "text/plain": [
       "Batches:   0%|          | 0/8 [00:00<?, ?it/s]"
      ]
     },
     "metadata": {},
     "output_type": "display_data"
    },
    {
     "name": "stderr",
     "output_type": "stream",
     "text": [
      "Processing rows:   8%|▊         | 4/50 [00:05<00:58,  1.27s/row]"
     ]
    },
    {
     "data": {
      "application/vnd.jupyter.widget-view+json": {
       "model_id": "277aefb8e54841b988a2bf33f8f2894a",
       "version_major": 2,
       "version_minor": 0
      },
      "text/plain": [
       "Batches:   0%|          | 0/1 [00:00<?, ?it/s]"
      ]
     },
     "metadata": {},
     "output_type": "display_data"
    },
    {
     "data": {
      "application/vnd.jupyter.widget-view+json": {
       "model_id": "3cb61434cc494266befb2a5f6a808a82",
       "version_major": 2,
       "version_minor": 0
      },
      "text/plain": [
       "Batches:   0%|          | 0/5 [00:00<?, ?it/s]"
      ]
     },
     "metadata": {},
     "output_type": "display_data"
    },
    {
     "data": {
      "application/vnd.jupyter.widget-view+json": {
       "model_id": "452ff69bf297405c955b18746bd18add",
       "version_major": 2,
       "version_minor": 0
      },
      "text/plain": [
       "Batches:   0%|          | 0/1 [00:00<?, ?it/s]"
      ]
     },
     "metadata": {},
     "output_type": "display_data"
    },
    {
     "data": {
      "application/vnd.jupyter.widget-view+json": {
       "model_id": "7c37cfce6d2e41399b201de9bdce28e2",
       "version_major": 2,
       "version_minor": 0
      },
      "text/plain": [
       "Batches:   0%|          | 0/9 [00:00<?, ?it/s]"
      ]
     },
     "metadata": {},
     "output_type": "display_data"
    },
    {
     "data": {
      "application/vnd.jupyter.widget-view+json": {
       "model_id": "5648ae7392434bcaad495be678c5a51b",
       "version_major": 2,
       "version_minor": 0
      },
      "text/plain": [
       "Batches:   0%|          | 0/1 [00:00<?, ?it/s]"
      ]
     },
     "metadata": {},
     "output_type": "display_data"
    },
    {
     "data": {
      "application/vnd.jupyter.widget-view+json": {
       "model_id": "909cb3e322cc4cd1b75a9c2a99d65f05",
       "version_major": 2,
       "version_minor": 0
      },
      "text/plain": [
       "Batches:   0%|          | 0/5 [00:00<?, ?it/s]"
      ]
     },
     "metadata": {},
     "output_type": "display_data"
    },
    {
     "data": {
      "application/vnd.jupyter.widget-view+json": {
       "model_id": "cbaca503670645949edf5212222e9f58",
       "version_major": 2,
       "version_minor": 0
      },
      "text/plain": [
       "Batches:   0%|          | 0/1 [00:00<?, ?it/s]"
      ]
     },
     "metadata": {},
     "output_type": "display_data"
    },
    {
     "data": {
      "application/vnd.jupyter.widget-view+json": {
       "model_id": "dd306aafb9ad441f8f8d180b2b2b6b46",
       "version_major": 2,
       "version_minor": 0
      },
      "text/plain": [
       "Batches:   0%|          | 0/9 [00:00<?, ?it/s]"
      ]
     },
     "metadata": {},
     "output_type": "display_data"
    },
    {
     "name": "stderr",
     "output_type": "stream",
     "text": [
      "Processing rows:  10%|█         | 5/50 [00:06<00:56,  1.26s/row]"
     ]
    },
    {
     "data": {
      "application/vnd.jupyter.widget-view+json": {
       "model_id": "b840ecf7cf19441d8933066558b613ea",
       "version_major": 2,
       "version_minor": 0
      },
      "text/plain": [
       "Batches:   0%|          | 0/1 [00:00<?, ?it/s]"
      ]
     },
     "metadata": {},
     "output_type": "display_data"
    },
    {
     "data": {
      "application/vnd.jupyter.widget-view+json": {
       "model_id": "3fdaa53b59b64edf98625ef2cb37774c",
       "version_major": 2,
       "version_minor": 0
      },
      "text/plain": [
       "Batches:   0%|          | 0/5 [00:00<?, ?it/s]"
      ]
     },
     "metadata": {},
     "output_type": "display_data"
    },
    {
     "data": {
      "application/vnd.jupyter.widget-view+json": {
       "model_id": "d15e769636004ccf8dbcf18ce7f6b8e2",
       "version_major": 2,
       "version_minor": 0
      },
      "text/plain": [
       "Batches:   0%|          | 0/1 [00:00<?, ?it/s]"
      ]
     },
     "metadata": {},
     "output_type": "display_data"
    },
    {
     "data": {
      "application/vnd.jupyter.widget-view+json": {
       "model_id": "685d39826bd84968a41339e0f6905c4b",
       "version_major": 2,
       "version_minor": 0
      },
      "text/plain": [
       "Batches:   0%|          | 0/9 [00:00<?, ?it/s]"
      ]
     },
     "metadata": {},
     "output_type": "display_data"
    },
    {
     "data": {
      "application/vnd.jupyter.widget-view+json": {
       "model_id": "1c39d188e830401d938883c888445045",
       "version_major": 2,
       "version_minor": 0
      },
      "text/plain": [
       "Batches:   0%|          | 0/1 [00:00<?, ?it/s]"
      ]
     },
     "metadata": {},
     "output_type": "display_data"
    },
    {
     "data": {
      "application/vnd.jupyter.widget-view+json": {
       "model_id": "eeddf23063504c0baa2e0a61561d3a85",
       "version_major": 2,
       "version_minor": 0
      },
      "text/plain": [
       "Batches:   0%|          | 0/5 [00:00<?, ?it/s]"
      ]
     },
     "metadata": {},
     "output_type": "display_data"
    },
    {
     "data": {
      "application/vnd.jupyter.widget-view+json": {
       "model_id": "a13d2edb2e794ceeb574ce15a216285f",
       "version_major": 2,
       "version_minor": 0
      },
      "text/plain": [
       "Batches:   0%|          | 0/1 [00:00<?, ?it/s]"
      ]
     },
     "metadata": {},
     "output_type": "display_data"
    },
    {
     "data": {
      "application/vnd.jupyter.widget-view+json": {
       "model_id": "b25f8ac2f23c4b9887457d376db361a6",
       "version_major": 2,
       "version_minor": 0
      },
      "text/plain": [
       "Batches:   0%|          | 0/10 [00:00<?, ?it/s]"
      ]
     },
     "metadata": {},
     "output_type": "display_data"
    },
    {
     "name": "stderr",
     "output_type": "stream",
     "text": [
      "Processing rows:  12%|█▏        | 6/50 [00:08<00:55,  1.25s/row]"
     ]
    },
    {
     "data": {
      "application/vnd.jupyter.widget-view+json": {
       "model_id": "4992bda9a26c43ed951aab589f0832eb",
       "version_major": 2,
       "version_minor": 0
      },
      "text/plain": [
       "Batches:   0%|          | 0/1 [00:00<?, ?it/s]"
      ]
     },
     "metadata": {},
     "output_type": "display_data"
    },
    {
     "data": {
      "application/vnd.jupyter.widget-view+json": {
       "model_id": "1dc8d9c98d8c4f29b5e485925ad0974a",
       "version_major": 2,
       "version_minor": 0
      },
      "text/plain": [
       "Batches:   0%|          | 0/5 [00:00<?, ?it/s]"
      ]
     },
     "metadata": {},
     "output_type": "display_data"
    },
    {
     "data": {
      "application/vnd.jupyter.widget-view+json": {
       "model_id": "23dfc1103f3e4874ab7e408aa2785e78",
       "version_major": 2,
       "version_minor": 0
      },
      "text/plain": [
       "Batches:   0%|          | 0/1 [00:00<?, ?it/s]"
      ]
     },
     "metadata": {},
     "output_type": "display_data"
    },
    {
     "data": {
      "application/vnd.jupyter.widget-view+json": {
       "model_id": "f92df9e647f9480db6964375009d22c2",
       "version_major": 2,
       "version_minor": 0
      },
      "text/plain": [
       "Batches:   0%|          | 0/8 [00:00<?, ?it/s]"
      ]
     },
     "metadata": {},
     "output_type": "display_data"
    },
    {
     "data": {
      "application/vnd.jupyter.widget-view+json": {
       "model_id": "320f21f81cd14951b10f78c43fbc5c48",
       "version_major": 2,
       "version_minor": 0
      },
      "text/plain": [
       "Batches:   0%|          | 0/1 [00:00<?, ?it/s]"
      ]
     },
     "metadata": {},
     "output_type": "display_data"
    },
    {
     "data": {
      "application/vnd.jupyter.widget-view+json": {
       "model_id": "9e2b776d0fd848bf8e77ddbb5c1216b1",
       "version_major": 2,
       "version_minor": 0
      },
      "text/plain": [
       "Batches:   0%|          | 0/5 [00:00<?, ?it/s]"
      ]
     },
     "metadata": {},
     "output_type": "display_data"
    },
    {
     "data": {
      "application/vnd.jupyter.widget-view+json": {
       "model_id": "5565faf46b1e4a658e8f41a3ec15e117",
       "version_major": 2,
       "version_minor": 0
      },
      "text/plain": [
       "Batches:   0%|          | 0/1 [00:00<?, ?it/s]"
      ]
     },
     "metadata": {},
     "output_type": "display_data"
    },
    {
     "data": {
      "application/vnd.jupyter.widget-view+json": {
       "model_id": "a4cc00b7d665452099a670ce0dc3814f",
       "version_major": 2,
       "version_minor": 0
      },
      "text/plain": [
       "Batches:   0%|          | 0/9 [00:00<?, ?it/s]"
      ]
     },
     "metadata": {},
     "output_type": "display_data"
    },
    {
     "name": "stderr",
     "output_type": "stream",
     "text": [
      "Processing rows:  14%|█▍        | 7/50 [00:09<00:53,  1.23s/row]"
     ]
    },
    {
     "data": {
      "application/vnd.jupyter.widget-view+json": {
       "model_id": "9b6a62a114cb42fcb05967be3e406ff1",
       "version_major": 2,
       "version_minor": 0
      },
      "text/plain": [
       "Batches:   0%|          | 0/1 [00:00<?, ?it/s]"
      ]
     },
     "metadata": {},
     "output_type": "display_data"
    },
    {
     "data": {
      "application/vnd.jupyter.widget-view+json": {
       "model_id": "d3a1f78b352f44769bbe66c2a319f0c6",
       "version_major": 2,
       "version_minor": 0
      },
      "text/plain": [
       "Batches:   0%|          | 0/5 [00:00<?, ?it/s]"
      ]
     },
     "metadata": {},
     "output_type": "display_data"
    },
    {
     "data": {
      "application/vnd.jupyter.widget-view+json": {
       "model_id": "f2110f452a67446ba45f8bc5d1538bf1",
       "version_major": 2,
       "version_minor": 0
      },
      "text/plain": [
       "Batches:   0%|          | 0/1 [00:00<?, ?it/s]"
      ]
     },
     "metadata": {},
     "output_type": "display_data"
    },
    {
     "data": {
      "application/vnd.jupyter.widget-view+json": {
       "model_id": "6a035c1ef5d7498e95c8f27a617b95fd",
       "version_major": 2,
       "version_minor": 0
      },
      "text/plain": [
       "Batches:   0%|          | 0/10 [00:00<?, ?it/s]"
      ]
     },
     "metadata": {},
     "output_type": "display_data"
    },
    {
     "data": {
      "application/vnd.jupyter.widget-view+json": {
       "model_id": "da06242bbe614755885d7dc5633ddad2",
       "version_major": 2,
       "version_minor": 0
      },
      "text/plain": [
       "Batches:   0%|          | 0/1 [00:00<?, ?it/s]"
      ]
     },
     "metadata": {},
     "output_type": "display_data"
    },
    {
     "data": {
      "application/vnd.jupyter.widget-view+json": {
       "model_id": "370fac9f5f71417b8c43936f764f57b0",
       "version_major": 2,
       "version_minor": 0
      },
      "text/plain": [
       "Batches:   0%|          | 0/5 [00:00<?, ?it/s]"
      ]
     },
     "metadata": {},
     "output_type": "display_data"
    },
    {
     "data": {
      "application/vnd.jupyter.widget-view+json": {
       "model_id": "1eee904d8d5b4cd3be2938ff0948930d",
       "version_major": 2,
       "version_minor": 0
      },
      "text/plain": [
       "Batches:   0%|          | 0/1 [00:00<?, ?it/s]"
      ]
     },
     "metadata": {},
     "output_type": "display_data"
    },
    {
     "data": {
      "application/vnd.jupyter.widget-view+json": {
       "model_id": "1ec0fbf0f00049cd9a746edf31286aa4",
       "version_major": 2,
       "version_minor": 0
      },
      "text/plain": [
       "Batches:   0%|          | 0/10 [00:00<?, ?it/s]"
      ]
     },
     "metadata": {},
     "output_type": "display_data"
    },
    {
     "name": "stderr",
     "output_type": "stream",
     "text": [
      "Processing rows:  16%|█▌        | 8/50 [00:10<00:53,  1.26s/row]"
     ]
    },
    {
     "data": {
      "application/vnd.jupyter.widget-view+json": {
       "model_id": "9a6a25af78824b5ea6e36dceec3b9922",
       "version_major": 2,
       "version_minor": 0
      },
      "text/plain": [
       "Batches:   0%|          | 0/1 [00:00<?, ?it/s]"
      ]
     },
     "metadata": {},
     "output_type": "display_data"
    },
    {
     "data": {
      "application/vnd.jupyter.widget-view+json": {
       "model_id": "79119a80bb5644729a5f2a18cdfc80f1",
       "version_major": 2,
       "version_minor": 0
      },
      "text/plain": [
       "Batches:   0%|          | 0/5 [00:00<?, ?it/s]"
      ]
     },
     "metadata": {},
     "output_type": "display_data"
    },
    {
     "data": {
      "application/vnd.jupyter.widget-view+json": {
       "model_id": "d397aa01b20a4921ad16319c7aebc9e4",
       "version_major": 2,
       "version_minor": 0
      },
      "text/plain": [
       "Batches:   0%|          | 0/1 [00:00<?, ?it/s]"
      ]
     },
     "metadata": {},
     "output_type": "display_data"
    },
    {
     "data": {
      "application/vnd.jupyter.widget-view+json": {
       "model_id": "d5ae0e88bb45488f8248c23756cd9593",
       "version_major": 2,
       "version_minor": 0
      },
      "text/plain": [
       "Batches:   0%|          | 0/9 [00:00<?, ?it/s]"
      ]
     },
     "metadata": {},
     "output_type": "display_data"
    },
    {
     "data": {
      "application/vnd.jupyter.widget-view+json": {
       "model_id": "8f2f938e4e564426b5fa66d9ce6e4a43",
       "version_major": 2,
       "version_minor": 0
      },
      "text/plain": [
       "Batches:   0%|          | 0/1 [00:00<?, ?it/s]"
      ]
     },
     "metadata": {},
     "output_type": "display_data"
    },
    {
     "data": {
      "application/vnd.jupyter.widget-view+json": {
       "model_id": "b5b7e3663d3542f49bff792fe46bcd87",
       "version_major": 2,
       "version_minor": 0
      },
      "text/plain": [
       "Batches:   0%|          | 0/5 [00:00<?, ?it/s]"
      ]
     },
     "metadata": {},
     "output_type": "display_data"
    },
    {
     "data": {
      "application/vnd.jupyter.widget-view+json": {
       "model_id": "ca93163405054c03ae32d4b2b5deff94",
       "version_major": 2,
       "version_minor": 0
      },
      "text/plain": [
       "Batches:   0%|          | 0/1 [00:00<?, ?it/s]"
      ]
     },
     "metadata": {},
     "output_type": "display_data"
    },
    {
     "data": {
      "application/vnd.jupyter.widget-view+json": {
       "model_id": "515fe2a4dad0432d932f5840abe46e52",
       "version_major": 2,
       "version_minor": 0
      },
      "text/plain": [
       "Batches:   0%|          | 0/8 [00:00<?, ?it/s]"
      ]
     },
     "metadata": {},
     "output_type": "display_data"
    },
    {
     "name": "stderr",
     "output_type": "stream",
     "text": [
      "Processing rows:  18%|█▊        | 9/50 [00:11<00:50,  1.23s/row]"
     ]
    },
    {
     "data": {
      "application/vnd.jupyter.widget-view+json": {
       "model_id": "6ab828e28d6944c484d6819ca3f03e6b",
       "version_major": 2,
       "version_minor": 0
      },
      "text/plain": [
       "Batches:   0%|          | 0/1 [00:00<?, ?it/s]"
      ]
     },
     "metadata": {},
     "output_type": "display_data"
    },
    {
     "data": {
      "application/vnd.jupyter.widget-view+json": {
       "model_id": "06f065b3d1224061a012b01cd04674a5",
       "version_major": 2,
       "version_minor": 0
      },
      "text/plain": [
       "Batches:   0%|          | 0/5 [00:00<?, ?it/s]"
      ]
     },
     "metadata": {},
     "output_type": "display_data"
    },
    {
     "data": {
      "application/vnd.jupyter.widget-view+json": {
       "model_id": "1db4a0b6caf544efb4d0af5ca6713119",
       "version_major": 2,
       "version_minor": 0
      },
      "text/plain": [
       "Batches:   0%|          | 0/1 [00:00<?, ?it/s]"
      ]
     },
     "metadata": {},
     "output_type": "display_data"
    },
    {
     "data": {
      "application/vnd.jupyter.widget-view+json": {
       "model_id": "6808a53136d24554a6e5645885c225ef",
       "version_major": 2,
       "version_minor": 0
      },
      "text/plain": [
       "Batches:   0%|          | 0/9 [00:00<?, ?it/s]"
      ]
     },
     "metadata": {},
     "output_type": "display_data"
    },
    {
     "data": {
      "application/vnd.jupyter.widget-view+json": {
       "model_id": "d808c345627349c1a5113bc0c51f40b1",
       "version_major": 2,
       "version_minor": 0
      },
      "text/plain": [
       "Batches:   0%|          | 0/1 [00:00<?, ?it/s]"
      ]
     },
     "metadata": {},
     "output_type": "display_data"
    },
    {
     "data": {
      "application/vnd.jupyter.widget-view+json": {
       "model_id": "7867e6d059634a768e7189fdf5f34d78",
       "version_major": 2,
       "version_minor": 0
      },
      "text/plain": [
       "Batches:   0%|          | 0/5 [00:00<?, ?it/s]"
      ]
     },
     "metadata": {},
     "output_type": "display_data"
    },
    {
     "data": {
      "application/vnd.jupyter.widget-view+json": {
       "model_id": "aa4049168d05482cb90b3eb44e7cbf42",
       "version_major": 2,
       "version_minor": 0
      },
      "text/plain": [
       "Batches:   0%|          | 0/1 [00:00<?, ?it/s]"
      ]
     },
     "metadata": {},
     "output_type": "display_data"
    },
    {
     "data": {
      "application/vnd.jupyter.widget-view+json": {
       "model_id": "f0b263dfd13040379d01797d1340bea2",
       "version_major": 2,
       "version_minor": 0
      },
      "text/plain": [
       "Batches:   0%|          | 0/10 [00:00<?, ?it/s]"
      ]
     },
     "metadata": {},
     "output_type": "display_data"
    },
    {
     "name": "stderr",
     "output_type": "stream",
     "text": [
      "Processing rows:  20%|██        | 10/50 [00:12<00:48,  1.21s/row]"
     ]
    },
    {
     "data": {
      "application/vnd.jupyter.widget-view+json": {
       "model_id": "fe37b44b4ed944f89a7880d20f70be90",
       "version_major": 2,
       "version_minor": 0
      },
      "text/plain": [
       "Batches:   0%|          | 0/1 [00:00<?, ?it/s]"
      ]
     },
     "metadata": {},
     "output_type": "display_data"
    },
    {
     "data": {
      "application/vnd.jupyter.widget-view+json": {
       "model_id": "9c2a663bbfe0423d9f9ecfaf69864fa8",
       "version_major": 2,
       "version_minor": 0
      },
      "text/plain": [
       "Batches:   0%|          | 0/5 [00:00<?, ?it/s]"
      ]
     },
     "metadata": {},
     "output_type": "display_data"
    },
    {
     "data": {
      "application/vnd.jupyter.widget-view+json": {
       "model_id": "b5aaf1065c074f04af760083168b2a5c",
       "version_major": 2,
       "version_minor": 0
      },
      "text/plain": [
       "Batches:   0%|          | 0/1 [00:00<?, ?it/s]"
      ]
     },
     "metadata": {},
     "output_type": "display_data"
    },
    {
     "data": {
      "application/vnd.jupyter.widget-view+json": {
       "model_id": "17ac45f05f594c9ab66d62f0799cda76",
       "version_major": 2,
       "version_minor": 0
      },
      "text/plain": [
       "Batches:   0%|          | 0/7 [00:00<?, ?it/s]"
      ]
     },
     "metadata": {},
     "output_type": "display_data"
    },
    {
     "data": {
      "application/vnd.jupyter.widget-view+json": {
       "model_id": "4bc5ad82074d4286bb1eabf4474061e6",
       "version_major": 2,
       "version_minor": 0
      },
      "text/plain": [
       "Batches:   0%|          | 0/1 [00:00<?, ?it/s]"
      ]
     },
     "metadata": {},
     "output_type": "display_data"
    },
    {
     "data": {
      "application/vnd.jupyter.widget-view+json": {
       "model_id": "a35ca838718f4e96bf86e7eda5aa3312",
       "version_major": 2,
       "version_minor": 0
      },
      "text/plain": [
       "Batches:   0%|          | 0/5 [00:00<?, ?it/s]"
      ]
     },
     "metadata": {},
     "output_type": "display_data"
    },
    {
     "data": {
      "application/vnd.jupyter.widget-view+json": {
       "model_id": "587fc49297a54edd9c13462f2b0aba6e",
       "version_major": 2,
       "version_minor": 0
      },
      "text/plain": [
       "Batches:   0%|          | 0/1 [00:00<?, ?it/s]"
      ]
     },
     "metadata": {},
     "output_type": "display_data"
    },
    {
     "data": {
      "application/vnd.jupyter.widget-view+json": {
       "model_id": "c80e54e784cc4db9a578c0dc936916be",
       "version_major": 2,
       "version_minor": 0
      },
      "text/plain": [
       "Batches:   0%|          | 0/6 [00:00<?, ?it/s]"
      ]
     },
     "metadata": {},
     "output_type": "display_data"
    },
    {
     "name": "stderr",
     "output_type": "stream",
     "text": [
      "Processing rows:  22%|██▏       | 11/50 [00:13<00:45,  1.17s/row]"
     ]
    },
    {
     "data": {
      "application/vnd.jupyter.widget-view+json": {
       "model_id": "f2a68049b1754d2ea0dddb7081915442",
       "version_major": 2,
       "version_minor": 0
      },
      "text/plain": [
       "Batches:   0%|          | 0/1 [00:00<?, ?it/s]"
      ]
     },
     "metadata": {},
     "output_type": "display_data"
    },
    {
     "data": {
      "application/vnd.jupyter.widget-view+json": {
       "model_id": "eef60b55365a4b47b076e3b197feace5",
       "version_major": 2,
       "version_minor": 0
      },
      "text/plain": [
       "Batches:   0%|          | 0/5 [00:00<?, ?it/s]"
      ]
     },
     "metadata": {},
     "output_type": "display_data"
    },
    {
     "data": {
      "application/vnd.jupyter.widget-view+json": {
       "model_id": "8c90397a24cb47f8b5026099310219d4",
       "version_major": 2,
       "version_minor": 0
      },
      "text/plain": [
       "Batches:   0%|          | 0/1 [00:00<?, ?it/s]"
      ]
     },
     "metadata": {},
     "output_type": "display_data"
    },
    {
     "data": {
      "application/vnd.jupyter.widget-view+json": {
       "model_id": "eec269dfdf914adfaf6336ffa02898ec",
       "version_major": 2,
       "version_minor": 0
      },
      "text/plain": [
       "Batches:   0%|          | 0/7 [00:00<?, ?it/s]"
      ]
     },
     "metadata": {},
     "output_type": "display_data"
    },
    {
     "data": {
      "application/vnd.jupyter.widget-view+json": {
       "model_id": "64ae2ca86ccb460fb32dbeaa2f9c0ddb",
       "version_major": 2,
       "version_minor": 0
      },
      "text/plain": [
       "Batches:   0%|          | 0/1 [00:00<?, ?it/s]"
      ]
     },
     "metadata": {},
     "output_type": "display_data"
    },
    {
     "data": {
      "application/vnd.jupyter.widget-view+json": {
       "model_id": "da4669c6cadd40c3978ad27d8225667d",
       "version_major": 2,
       "version_minor": 0
      },
      "text/plain": [
       "Batches:   0%|          | 0/5 [00:00<?, ?it/s]"
      ]
     },
     "metadata": {},
     "output_type": "display_data"
    },
    {
     "data": {
      "application/vnd.jupyter.widget-view+json": {
       "model_id": "bf6b3187450e405489c69fa7781f3033",
       "version_major": 2,
       "version_minor": 0
      },
      "text/plain": [
       "Batches:   0%|          | 0/1 [00:00<?, ?it/s]"
      ]
     },
     "metadata": {},
     "output_type": "display_data"
    },
    {
     "data": {
      "application/vnd.jupyter.widget-view+json": {
       "model_id": "5f5255e04bc24cae8ee16728b90a40bd",
       "version_major": 2,
       "version_minor": 0
      },
      "text/plain": [
       "Batches:   0%|          | 0/7 [00:00<?, ?it/s]"
      ]
     },
     "metadata": {},
     "output_type": "display_data"
    },
    {
     "name": "stderr",
     "output_type": "stream",
     "text": [
      "Processing rows:  24%|██▍       | 12/50 [00:15<00:44,  1.16s/row]"
     ]
    },
    {
     "data": {
      "application/vnd.jupyter.widget-view+json": {
       "model_id": "e6b79adb8f584535b20c4a8e9aec3585",
       "version_major": 2,
       "version_minor": 0
      },
      "text/plain": [
       "Batches:   0%|          | 0/1 [00:00<?, ?it/s]"
      ]
     },
     "metadata": {},
     "output_type": "display_data"
    },
    {
     "data": {
      "application/vnd.jupyter.widget-view+json": {
       "model_id": "760e1c7230e745b78ad436195d1f7953",
       "version_major": 2,
       "version_minor": 0
      },
      "text/plain": [
       "Batches:   0%|          | 0/5 [00:00<?, ?it/s]"
      ]
     },
     "metadata": {},
     "output_type": "display_data"
    },
    {
     "data": {
      "application/vnd.jupyter.widget-view+json": {
       "model_id": "cdac5e2bcff14cb1bf193a5bee4d9c12",
       "version_major": 2,
       "version_minor": 0
      },
      "text/plain": [
       "Batches:   0%|          | 0/1 [00:00<?, ?it/s]"
      ]
     },
     "metadata": {},
     "output_type": "display_data"
    },
    {
     "data": {
      "application/vnd.jupyter.widget-view+json": {
       "model_id": "1f6aaf9263594d2da2b0690251d7b76d",
       "version_major": 2,
       "version_minor": 0
      },
      "text/plain": [
       "Batches:   0%|          | 0/9 [00:00<?, ?it/s]"
      ]
     },
     "metadata": {},
     "output_type": "display_data"
    },
    {
     "data": {
      "application/vnd.jupyter.widget-view+json": {
       "model_id": "27ae42a2217949c291c0a0f8252abc18",
       "version_major": 2,
       "version_minor": 0
      },
      "text/plain": [
       "Batches:   0%|          | 0/1 [00:00<?, ?it/s]"
      ]
     },
     "metadata": {},
     "output_type": "display_data"
    },
    {
     "data": {
      "application/vnd.jupyter.widget-view+json": {
       "model_id": "a08761ccd49348f3b1f34b63a9105c34",
       "version_major": 2,
       "version_minor": 0
      },
      "text/plain": [
       "Batches:   0%|          | 0/5 [00:00<?, ?it/s]"
      ]
     },
     "metadata": {},
     "output_type": "display_data"
    },
    {
     "data": {
      "application/vnd.jupyter.widget-view+json": {
       "model_id": "54df2c474bc54f3aa81a9e6204f909b6",
       "version_major": 2,
       "version_minor": 0
      },
      "text/plain": [
       "Batches:   0%|          | 0/1 [00:00<?, ?it/s]"
      ]
     },
     "metadata": {},
     "output_type": "display_data"
    },
    {
     "data": {
      "application/vnd.jupyter.widget-view+json": {
       "model_id": "7155358ed1e647e7b5d67f2b62afb500",
       "version_major": 2,
       "version_minor": 0
      },
      "text/plain": [
       "Batches:   0%|          | 0/8 [00:00<?, ?it/s]"
      ]
     },
     "metadata": {},
     "output_type": "display_data"
    },
    {
     "name": "stderr",
     "output_type": "stream",
     "text": [
      "Processing rows:  26%|██▌       | 13/50 [00:16<00:42,  1.16s/row]"
     ]
    },
    {
     "data": {
      "application/vnd.jupyter.widget-view+json": {
       "model_id": "4356e142601548549a3e9e4b97adeab3",
       "version_major": 2,
       "version_minor": 0
      },
      "text/plain": [
       "Batches:   0%|          | 0/1 [00:00<?, ?it/s]"
      ]
     },
     "metadata": {},
     "output_type": "display_data"
    },
    {
     "data": {
      "application/vnd.jupyter.widget-view+json": {
       "model_id": "26d77e1c2a6647ffa6e7091b9d1c650b",
       "version_major": 2,
       "version_minor": 0
      },
      "text/plain": [
       "Batches:   0%|          | 0/5 [00:00<?, ?it/s]"
      ]
     },
     "metadata": {},
     "output_type": "display_data"
    },
    {
     "data": {
      "application/vnd.jupyter.widget-view+json": {
       "model_id": "04a16a9d23ab4d5d825e9d55a778cd1a",
       "version_major": 2,
       "version_minor": 0
      },
      "text/plain": [
       "Batches:   0%|          | 0/1 [00:00<?, ?it/s]"
      ]
     },
     "metadata": {},
     "output_type": "display_data"
    },
    {
     "data": {
      "application/vnd.jupyter.widget-view+json": {
       "model_id": "74257c36607544ed814844d1031f8e15",
       "version_major": 2,
       "version_minor": 0
      },
      "text/plain": [
       "Batches:   0%|          | 0/8 [00:00<?, ?it/s]"
      ]
     },
     "metadata": {},
     "output_type": "display_data"
    },
    {
     "data": {
      "application/vnd.jupyter.widget-view+json": {
       "model_id": "e24a5d0f80b1477faee97c0711bb9dd9",
       "version_major": 2,
       "version_minor": 0
      },
      "text/plain": [
       "Batches:   0%|          | 0/1 [00:00<?, ?it/s]"
      ]
     },
     "metadata": {},
     "output_type": "display_data"
    },
    {
     "data": {
      "application/vnd.jupyter.widget-view+json": {
       "model_id": "d8278153ea5a4b51895524031c1007d4",
       "version_major": 2,
       "version_minor": 0
      },
      "text/plain": [
       "Batches:   0%|          | 0/5 [00:00<?, ?it/s]"
      ]
     },
     "metadata": {},
     "output_type": "display_data"
    },
    {
     "data": {
      "application/vnd.jupyter.widget-view+json": {
       "model_id": "f3287787e9c7454c8f817edcd31dc5b5",
       "version_major": 2,
       "version_minor": 0
      },
      "text/plain": [
       "Batches:   0%|          | 0/1 [00:00<?, ?it/s]"
      ]
     },
     "metadata": {},
     "output_type": "display_data"
    },
    {
     "data": {
      "application/vnd.jupyter.widget-view+json": {
       "model_id": "3dc612c3038b481c80ff8c419f2ce663",
       "version_major": 2,
       "version_minor": 0
      },
      "text/plain": [
       "Batches:   0%|          | 0/8 [00:00<?, ?it/s]"
      ]
     },
     "metadata": {},
     "output_type": "display_data"
    },
    {
     "name": "stderr",
     "output_type": "stream",
     "text": [
      "Processing rows:  28%|██▊       | 14/50 [00:17<00:41,  1.15s/row]"
     ]
    },
    {
     "data": {
      "application/vnd.jupyter.widget-view+json": {
       "model_id": "786fbd0f057548f48526c37221fc9845",
       "version_major": 2,
       "version_minor": 0
      },
      "text/plain": [
       "Batches:   0%|          | 0/1 [00:00<?, ?it/s]"
      ]
     },
     "metadata": {},
     "output_type": "display_data"
    },
    {
     "data": {
      "application/vnd.jupyter.widget-view+json": {
       "model_id": "80759836ffbe4c0196ed64e1842cdf32",
       "version_major": 2,
       "version_minor": 0
      },
      "text/plain": [
       "Batches:   0%|          | 0/5 [00:00<?, ?it/s]"
      ]
     },
     "metadata": {},
     "output_type": "display_data"
    },
    {
     "data": {
      "application/vnd.jupyter.widget-view+json": {
       "model_id": "693121a85b644d4a882fb1e9c983a9b5",
       "version_major": 2,
       "version_minor": 0
      },
      "text/plain": [
       "Batches:   0%|          | 0/1 [00:00<?, ?it/s]"
      ]
     },
     "metadata": {},
     "output_type": "display_data"
    },
    {
     "data": {
      "application/vnd.jupyter.widget-view+json": {
       "model_id": "fbd443b27a3d4677ad451fa0041efce1",
       "version_major": 2,
       "version_minor": 0
      },
      "text/plain": [
       "Batches:   0%|          | 0/7 [00:00<?, ?it/s]"
      ]
     },
     "metadata": {},
     "output_type": "display_data"
    },
    {
     "data": {
      "application/vnd.jupyter.widget-view+json": {
       "model_id": "79c5c9f205144db198a3ac2f245b7190",
       "version_major": 2,
       "version_minor": 0
      },
      "text/plain": [
       "Batches:   0%|          | 0/1 [00:00<?, ?it/s]"
      ]
     },
     "metadata": {},
     "output_type": "display_data"
    },
    {
     "data": {
      "application/vnd.jupyter.widget-view+json": {
       "model_id": "28eabba49f564b11b25da832b4ca1e62",
       "version_major": 2,
       "version_minor": 0
      },
      "text/plain": [
       "Batches:   0%|          | 0/5 [00:00<?, ?it/s]"
      ]
     },
     "metadata": {},
     "output_type": "display_data"
    },
    {
     "data": {
      "application/vnd.jupyter.widget-view+json": {
       "model_id": "d7562d43e86a43d2bb1b864a129cd9a2",
       "version_major": 2,
       "version_minor": 0
      },
      "text/plain": [
       "Batches:   0%|          | 0/1 [00:00<?, ?it/s]"
      ]
     },
     "metadata": {},
     "output_type": "display_data"
    },
    {
     "data": {
      "application/vnd.jupyter.widget-view+json": {
       "model_id": "44372608d2704a37adccd4ff9d96a4af",
       "version_major": 2,
       "version_minor": 0
      },
      "text/plain": [
       "Batches:   0%|          | 0/7 [00:00<?, ?it/s]"
      ]
     },
     "metadata": {},
     "output_type": "display_data"
    },
    {
     "name": "stderr",
     "output_type": "stream",
     "text": [
      "Processing rows:  30%|███       | 15/50 [00:18<00:39,  1.13s/row]"
     ]
    },
    {
     "data": {
      "application/vnd.jupyter.widget-view+json": {
       "model_id": "47e176e0d8f84809b989ba61da6b5726",
       "version_major": 2,
       "version_minor": 0
      },
      "text/plain": [
       "Batches:   0%|          | 0/1 [00:00<?, ?it/s]"
      ]
     },
     "metadata": {},
     "output_type": "display_data"
    },
    {
     "data": {
      "application/vnd.jupyter.widget-view+json": {
       "model_id": "4b6b1db3831c4178bda2f3fdfe3f66cf",
       "version_major": 2,
       "version_minor": 0
      },
      "text/plain": [
       "Batches:   0%|          | 0/5 [00:00<?, ?it/s]"
      ]
     },
     "metadata": {},
     "output_type": "display_data"
    },
    {
     "data": {
      "application/vnd.jupyter.widget-view+json": {
       "model_id": "1b90d4c025b3475bb9f47765ce5daa59",
       "version_major": 2,
       "version_minor": 0
      },
      "text/plain": [
       "Batches:   0%|          | 0/1 [00:00<?, ?it/s]"
      ]
     },
     "metadata": {},
     "output_type": "display_data"
    },
    {
     "data": {
      "application/vnd.jupyter.widget-view+json": {
       "model_id": "bee1b53bba1640d4a2e9fcf711d1b511",
       "version_major": 2,
       "version_minor": 0
      },
      "text/plain": [
       "Batches:   0%|          | 0/8 [00:00<?, ?it/s]"
      ]
     },
     "metadata": {},
     "output_type": "display_data"
    },
    {
     "data": {
      "application/vnd.jupyter.widget-view+json": {
       "model_id": "b349239026d4462ebb2841047247f6cd",
       "version_major": 2,
       "version_minor": 0
      },
      "text/plain": [
       "Batches:   0%|          | 0/1 [00:00<?, ?it/s]"
      ]
     },
     "metadata": {},
     "output_type": "display_data"
    },
    {
     "data": {
      "application/vnd.jupyter.widget-view+json": {
       "model_id": "140c0cafe6c442a09cd26410dbcca751",
       "version_major": 2,
       "version_minor": 0
      },
      "text/plain": [
       "Batches:   0%|          | 0/5 [00:00<?, ?it/s]"
      ]
     },
     "metadata": {},
     "output_type": "display_data"
    },
    {
     "data": {
      "application/vnd.jupyter.widget-view+json": {
       "model_id": "7565d5b96faa48479d9102c16ad641b2",
       "version_major": 2,
       "version_minor": 0
      },
      "text/plain": [
       "Batches:   0%|          | 0/1 [00:00<?, ?it/s]"
      ]
     },
     "metadata": {},
     "output_type": "display_data"
    },
    {
     "data": {
      "application/vnd.jupyter.widget-view+json": {
       "model_id": "4df760f812634de2afcd857903018fa5",
       "version_major": 2,
       "version_minor": 0
      },
      "text/plain": [
       "Batches:   0%|          | 0/7 [00:00<?, ?it/s]"
      ]
     },
     "metadata": {},
     "output_type": "display_data"
    },
    {
     "name": "stderr",
     "output_type": "stream",
     "text": [
      "Processing rows:  32%|███▏      | 16/50 [00:19<00:38,  1.13s/row]"
     ]
    },
    {
     "data": {
      "application/vnd.jupyter.widget-view+json": {
       "model_id": "c4af15c39b7d45a190b7c3dc7a616ad8",
       "version_major": 2,
       "version_minor": 0
      },
      "text/plain": [
       "Batches:   0%|          | 0/1 [00:00<?, ?it/s]"
      ]
     },
     "metadata": {},
     "output_type": "display_data"
    },
    {
     "data": {
      "application/vnd.jupyter.widget-view+json": {
       "model_id": "b17a5d9140d745fa9bb78b3626409816",
       "version_major": 2,
       "version_minor": 0
      },
      "text/plain": [
       "Batches:   0%|          | 0/5 [00:00<?, ?it/s]"
      ]
     },
     "metadata": {},
     "output_type": "display_data"
    },
    {
     "data": {
      "application/vnd.jupyter.widget-view+json": {
       "model_id": "ecc77de4ec884df68e901943e95fee50",
       "version_major": 2,
       "version_minor": 0
      },
      "text/plain": [
       "Batches:   0%|          | 0/1 [00:00<?, ?it/s]"
      ]
     },
     "metadata": {},
     "output_type": "display_data"
    },
    {
     "data": {
      "application/vnd.jupyter.widget-view+json": {
       "model_id": "16bb77319d8649328a4e856401c8f8d4",
       "version_major": 2,
       "version_minor": 0
      },
      "text/plain": [
       "Batches:   0%|          | 0/10 [00:00<?, ?it/s]"
      ]
     },
     "metadata": {},
     "output_type": "display_data"
    },
    {
     "data": {
      "application/vnd.jupyter.widget-view+json": {
       "model_id": "b1c8c371998a4df9874b4b41ebf482ae",
       "version_major": 2,
       "version_minor": 0
      },
      "text/plain": [
       "Batches:   0%|          | 0/1 [00:00<?, ?it/s]"
      ]
     },
     "metadata": {},
     "output_type": "display_data"
    },
    {
     "data": {
      "application/vnd.jupyter.widget-view+json": {
       "model_id": "34ce245898d54525b3a345f2a58b3697",
       "version_major": 2,
       "version_minor": 0
      },
      "text/plain": [
       "Batches:   0%|          | 0/5 [00:00<?, ?it/s]"
      ]
     },
     "metadata": {},
     "output_type": "display_data"
    },
    {
     "data": {
      "application/vnd.jupyter.widget-view+json": {
       "model_id": "e26f88aacf234be3ace6ed3984708e17",
       "version_major": 2,
       "version_minor": 0
      },
      "text/plain": [
       "Batches:   0%|          | 0/1 [00:00<?, ?it/s]"
      ]
     },
     "metadata": {},
     "output_type": "display_data"
    },
    {
     "data": {
      "application/vnd.jupyter.widget-view+json": {
       "model_id": "6cb8816713be4df4962124447cc45a04",
       "version_major": 2,
       "version_minor": 0
      },
      "text/plain": [
       "Batches:   0%|          | 0/10 [00:00<?, ?it/s]"
      ]
     },
     "metadata": {},
     "output_type": "display_data"
    },
    {
     "name": "stderr",
     "output_type": "stream",
     "text": [
      "Processing rows:  34%|███▍      | 17/50 [00:20<00:38,  1.16s/row]"
     ]
    },
    {
     "data": {
      "application/vnd.jupyter.widget-view+json": {
       "model_id": "66bf09877ce148768b5d98dc3021260f",
       "version_major": 2,
       "version_minor": 0
      },
      "text/plain": [
       "Batches:   0%|          | 0/1 [00:00<?, ?it/s]"
      ]
     },
     "metadata": {},
     "output_type": "display_data"
    },
    {
     "data": {
      "application/vnd.jupyter.widget-view+json": {
       "model_id": "16ac49d5c857478e8f69599a7401fe43",
       "version_major": 2,
       "version_minor": 0
      },
      "text/plain": [
       "Batches:   0%|          | 0/5 [00:00<?, ?it/s]"
      ]
     },
     "metadata": {},
     "output_type": "display_data"
    },
    {
     "data": {
      "application/vnd.jupyter.widget-view+json": {
       "model_id": "f87e0ce7261942f38604102ebcafa99d",
       "version_major": 2,
       "version_minor": 0
      },
      "text/plain": [
       "Batches:   0%|          | 0/1 [00:00<?, ?it/s]"
      ]
     },
     "metadata": {},
     "output_type": "display_data"
    },
    {
     "data": {
      "application/vnd.jupyter.widget-view+json": {
       "model_id": "be5aee3bf5264d95b4ca9ab69043e689",
       "version_major": 2,
       "version_minor": 0
      },
      "text/plain": [
       "Batches:   0%|          | 0/10 [00:00<?, ?it/s]"
      ]
     },
     "metadata": {},
     "output_type": "display_data"
    },
    {
     "data": {
      "application/vnd.jupyter.widget-view+json": {
       "model_id": "497d0fecc3dd4cb39c89c2328a10d1a9",
       "version_major": 2,
       "version_minor": 0
      },
      "text/plain": [
       "Batches:   0%|          | 0/1 [00:00<?, ?it/s]"
      ]
     },
     "metadata": {},
     "output_type": "display_data"
    },
    {
     "data": {
      "application/vnd.jupyter.widget-view+json": {
       "model_id": "98057d97128d459fbcf733b5eb58ffae",
       "version_major": 2,
       "version_minor": 0
      },
      "text/plain": [
       "Batches:   0%|          | 0/5 [00:00<?, ?it/s]"
      ]
     },
     "metadata": {},
     "output_type": "display_data"
    },
    {
     "data": {
      "application/vnd.jupyter.widget-view+json": {
       "model_id": "1af73c06f59544ecba0e74d75d86d43e",
       "version_major": 2,
       "version_minor": 0
      },
      "text/plain": [
       "Batches:   0%|          | 0/1 [00:00<?, ?it/s]"
      ]
     },
     "metadata": {},
     "output_type": "display_data"
    },
    {
     "data": {
      "application/vnd.jupyter.widget-view+json": {
       "model_id": "7e42cfba53c24e5483fefb3b442f0fa9",
       "version_major": 2,
       "version_minor": 0
      },
      "text/plain": [
       "Batches:   0%|          | 0/9 [00:00<?, ?it/s]"
      ]
     },
     "metadata": {},
     "output_type": "display_data"
    },
    {
     "name": "stderr",
     "output_type": "stream",
     "text": [
      "Processing rows:  36%|███▌      | 18/50 [00:22<00:37,  1.17s/row]"
     ]
    },
    {
     "data": {
      "application/vnd.jupyter.widget-view+json": {
       "model_id": "592887b402204f4a841252e326c3e759",
       "version_major": 2,
       "version_minor": 0
      },
      "text/plain": [
       "Batches:   0%|          | 0/1 [00:00<?, ?it/s]"
      ]
     },
     "metadata": {},
     "output_type": "display_data"
    },
    {
     "data": {
      "application/vnd.jupyter.widget-view+json": {
       "model_id": "8a263edba00b4112a5a78f02d14b09e1",
       "version_major": 2,
       "version_minor": 0
      },
      "text/plain": [
       "Batches:   0%|          | 0/5 [00:00<?, ?it/s]"
      ]
     },
     "metadata": {},
     "output_type": "display_data"
    },
    {
     "data": {
      "application/vnd.jupyter.widget-view+json": {
       "model_id": "0ee065c53f274139aaec0c739c79e0f5",
       "version_major": 2,
       "version_minor": 0
      },
      "text/plain": [
       "Batches:   0%|          | 0/1 [00:00<?, ?it/s]"
      ]
     },
     "metadata": {},
     "output_type": "display_data"
    },
    {
     "data": {
      "application/vnd.jupyter.widget-view+json": {
       "model_id": "35c25f58e5c04d6fb290b3a06302eec5",
       "version_major": 2,
       "version_minor": 0
      },
      "text/plain": [
       "Batches:   0%|          | 0/7 [00:00<?, ?it/s]"
      ]
     },
     "metadata": {},
     "output_type": "display_data"
    },
    {
     "data": {
      "application/vnd.jupyter.widget-view+json": {
       "model_id": "399d85c578d54621a7d6f29ee3962db2",
       "version_major": 2,
       "version_minor": 0
      },
      "text/plain": [
       "Batches:   0%|          | 0/1 [00:00<?, ?it/s]"
      ]
     },
     "metadata": {},
     "output_type": "display_data"
    },
    {
     "data": {
      "application/vnd.jupyter.widget-view+json": {
       "model_id": "d89ae6671df5466e9a18f72151cc2b40",
       "version_major": 2,
       "version_minor": 0
      },
      "text/plain": [
       "Batches:   0%|          | 0/5 [00:00<?, ?it/s]"
      ]
     },
     "metadata": {},
     "output_type": "display_data"
    },
    {
     "data": {
      "application/vnd.jupyter.widget-view+json": {
       "model_id": "984c40d2c002408a90daaac3b619ce15",
       "version_major": 2,
       "version_minor": 0
      },
      "text/plain": [
       "Batches:   0%|          | 0/1 [00:00<?, ?it/s]"
      ]
     },
     "metadata": {},
     "output_type": "display_data"
    },
    {
     "data": {
      "application/vnd.jupyter.widget-view+json": {
       "model_id": "99ac7be67e3540708279a7f3601fb2c5",
       "version_major": 2,
       "version_minor": 0
      },
      "text/plain": [
       "Batches:   0%|          | 0/8 [00:00<?, ?it/s]"
      ]
     },
     "metadata": {},
     "output_type": "display_data"
    },
    {
     "name": "stderr",
     "output_type": "stream",
     "text": [
      "Processing rows:  38%|███▊      | 19/50 [00:23<00:35,  1.15s/row]"
     ]
    },
    {
     "data": {
      "application/vnd.jupyter.widget-view+json": {
       "model_id": "c58bb9f368894d81b373323c298f63b0",
       "version_major": 2,
       "version_minor": 0
      },
      "text/plain": [
       "Batches:   0%|          | 0/1 [00:00<?, ?it/s]"
      ]
     },
     "metadata": {},
     "output_type": "display_data"
    },
    {
     "data": {
      "application/vnd.jupyter.widget-view+json": {
       "model_id": "957582869afc42e79b97b6b855e44ab8",
       "version_major": 2,
       "version_minor": 0
      },
      "text/plain": [
       "Batches:   0%|          | 0/5 [00:00<?, ?it/s]"
      ]
     },
     "metadata": {},
     "output_type": "display_data"
    },
    {
     "data": {
      "application/vnd.jupyter.widget-view+json": {
       "model_id": "fc55c3e295c24ff2a5e713849318d70d",
       "version_major": 2,
       "version_minor": 0
      },
      "text/plain": [
       "Batches:   0%|          | 0/1 [00:00<?, ?it/s]"
      ]
     },
     "metadata": {},
     "output_type": "display_data"
    },
    {
     "data": {
      "application/vnd.jupyter.widget-view+json": {
       "model_id": "0e31912fa69f409997cce4704ea1727c",
       "version_major": 2,
       "version_minor": 0
      },
      "text/plain": [
       "Batches:   0%|          | 0/8 [00:00<?, ?it/s]"
      ]
     },
     "metadata": {},
     "output_type": "display_data"
    },
    {
     "data": {
      "application/vnd.jupyter.widget-view+json": {
       "model_id": "10d617bc67d04fa0a4d1aa9066b4d25d",
       "version_major": 2,
       "version_minor": 0
      },
      "text/plain": [
       "Batches:   0%|          | 0/1 [00:00<?, ?it/s]"
      ]
     },
     "metadata": {},
     "output_type": "display_data"
    },
    {
     "data": {
      "application/vnd.jupyter.widget-view+json": {
       "model_id": "824d4fdce48b4ed4bc8ee3b3cb9e7078",
       "version_major": 2,
       "version_minor": 0
      },
      "text/plain": [
       "Batches:   0%|          | 0/5 [00:00<?, ?it/s]"
      ]
     },
     "metadata": {},
     "output_type": "display_data"
    },
    {
     "data": {
      "application/vnd.jupyter.widget-view+json": {
       "model_id": "4ebedab99e4347f89168ad5966229065",
       "version_major": 2,
       "version_minor": 0
      },
      "text/plain": [
       "Batches:   0%|          | 0/1 [00:00<?, ?it/s]"
      ]
     },
     "metadata": {},
     "output_type": "display_data"
    },
    {
     "data": {
      "application/vnd.jupyter.widget-view+json": {
       "model_id": "228f1cacba2242208866f3c0cf081e29",
       "version_major": 2,
       "version_minor": 0
      },
      "text/plain": [
       "Batches:   0%|          | 0/9 [00:00<?, ?it/s]"
      ]
     },
     "metadata": {},
     "output_type": "display_data"
    },
    {
     "name": "stderr",
     "output_type": "stream",
     "text": [
      "Processing rows:  40%|████      | 20/50 [00:24<00:34,  1.15s/row]"
     ]
    },
    {
     "data": {
      "application/vnd.jupyter.widget-view+json": {
       "model_id": "49c86f4c33364f91af87e88a6dca8fbe",
       "version_major": 2,
       "version_minor": 0
      },
      "text/plain": [
       "Batches:   0%|          | 0/1 [00:00<?, ?it/s]"
      ]
     },
     "metadata": {},
     "output_type": "display_data"
    },
    {
     "data": {
      "application/vnd.jupyter.widget-view+json": {
       "model_id": "dac8bfc52ae7414fb3e3fde1f5d41b77",
       "version_major": 2,
       "version_minor": 0
      },
      "text/plain": [
       "Batches:   0%|          | 0/5 [00:00<?, ?it/s]"
      ]
     },
     "metadata": {},
     "output_type": "display_data"
    },
    {
     "data": {
      "application/vnd.jupyter.widget-view+json": {
       "model_id": "1705d08cdcfd47619105ac7a6f966fb5",
       "version_major": 2,
       "version_minor": 0
      },
      "text/plain": [
       "Batches:   0%|          | 0/1 [00:00<?, ?it/s]"
      ]
     },
     "metadata": {},
     "output_type": "display_data"
    },
    {
     "data": {
      "application/vnd.jupyter.widget-view+json": {
       "model_id": "993a12c116c148f28e519aed552979cc",
       "version_major": 2,
       "version_minor": 0
      },
      "text/plain": [
       "Batches:   0%|          | 0/9 [00:00<?, ?it/s]"
      ]
     },
     "metadata": {},
     "output_type": "display_data"
    },
    {
     "data": {
      "application/vnd.jupyter.widget-view+json": {
       "model_id": "6d719c6a09c448b99cf80dcaf5d279ce",
       "version_major": 2,
       "version_minor": 0
      },
      "text/plain": [
       "Batches:   0%|          | 0/1 [00:00<?, ?it/s]"
      ]
     },
     "metadata": {},
     "output_type": "display_data"
    },
    {
     "data": {
      "application/vnd.jupyter.widget-view+json": {
       "model_id": "c0b8cb98fe6c4962b61fffdaa8a9ed8d",
       "version_major": 2,
       "version_minor": 0
      },
      "text/plain": [
       "Batches:   0%|          | 0/5 [00:00<?, ?it/s]"
      ]
     },
     "metadata": {},
     "output_type": "display_data"
    },
    {
     "data": {
      "application/vnd.jupyter.widget-view+json": {
       "model_id": "b5cdf33ca71f43529120744afd1ed609",
       "version_major": 2,
       "version_minor": 0
      },
      "text/plain": [
       "Batches:   0%|          | 0/1 [00:00<?, ?it/s]"
      ]
     },
     "metadata": {},
     "output_type": "display_data"
    },
    {
     "data": {
      "application/vnd.jupyter.widget-view+json": {
       "model_id": "b55045d6fe70490d8c0a7484bdfd48e8",
       "version_major": 2,
       "version_minor": 0
      },
      "text/plain": [
       "Batches:   0%|          | 0/9 [00:00<?, ?it/s]"
      ]
     },
     "metadata": {},
     "output_type": "display_data"
    },
    {
     "name": "stderr",
     "output_type": "stream",
     "text": [
      "Processing rows:  42%|████▏     | 21/50 [00:25<00:33,  1.16s/row]"
     ]
    },
    {
     "data": {
      "application/vnd.jupyter.widget-view+json": {
       "model_id": "92ebcc5b65fc4f9999dcb72567f653a8",
       "version_major": 2,
       "version_minor": 0
      },
      "text/plain": [
       "Batches:   0%|          | 0/1 [00:00<?, ?it/s]"
      ]
     },
     "metadata": {},
     "output_type": "display_data"
    },
    {
     "data": {
      "application/vnd.jupyter.widget-view+json": {
       "model_id": "e7a6ef44834749ca974074f74bfb4ea3",
       "version_major": 2,
       "version_minor": 0
      },
      "text/plain": [
       "Batches:   0%|          | 0/5 [00:00<?, ?it/s]"
      ]
     },
     "metadata": {},
     "output_type": "display_data"
    },
    {
     "data": {
      "application/vnd.jupyter.widget-view+json": {
       "model_id": "c9337fd9f70f4aa486e3beebdb1f5645",
       "version_major": 2,
       "version_minor": 0
      },
      "text/plain": [
       "Batches:   0%|          | 0/1 [00:00<?, ?it/s]"
      ]
     },
     "metadata": {},
     "output_type": "display_data"
    },
    {
     "data": {
      "application/vnd.jupyter.widget-view+json": {
       "model_id": "a3b0948adfcd48cd8568bd2e85d23b57",
       "version_major": 2,
       "version_minor": 0
      },
      "text/plain": [
       "Batches:   0%|          | 0/7 [00:00<?, ?it/s]"
      ]
     },
     "metadata": {},
     "output_type": "display_data"
    },
    {
     "data": {
      "application/vnd.jupyter.widget-view+json": {
       "model_id": "0a968b655218442e8265291fa053c40b",
       "version_major": 2,
       "version_minor": 0
      },
      "text/plain": [
       "Batches:   0%|          | 0/1 [00:00<?, ?it/s]"
      ]
     },
     "metadata": {},
     "output_type": "display_data"
    },
    {
     "data": {
      "application/vnd.jupyter.widget-view+json": {
       "model_id": "79633333a61f423180de1e06401a9020",
       "version_major": 2,
       "version_minor": 0
      },
      "text/plain": [
       "Batches:   0%|          | 0/5 [00:00<?, ?it/s]"
      ]
     },
     "metadata": {},
     "output_type": "display_data"
    },
    {
     "data": {
      "application/vnd.jupyter.widget-view+json": {
       "model_id": "55037cd0f19149aa90f34f505012fd30",
       "version_major": 2,
       "version_minor": 0
      },
      "text/plain": [
       "Batches:   0%|          | 0/1 [00:00<?, ?it/s]"
      ]
     },
     "metadata": {},
     "output_type": "display_data"
    },
    {
     "data": {
      "application/vnd.jupyter.widget-view+json": {
       "model_id": "d065259bab574939ba183eaeb1b86be2",
       "version_major": 2,
       "version_minor": 0
      },
      "text/plain": [
       "Batches:   0%|          | 0/7 [00:00<?, ?it/s]"
      ]
     },
     "metadata": {},
     "output_type": "display_data"
    },
    {
     "name": "stderr",
     "output_type": "stream",
     "text": [
      "Processing rows:  44%|████▍     | 22/50 [00:26<00:32,  1.16s/row]"
     ]
    },
    {
     "data": {
      "application/vnd.jupyter.widget-view+json": {
       "model_id": "aecd5df0bb5044d3b0b44ce2d751dc5a",
       "version_major": 2,
       "version_minor": 0
      },
      "text/plain": [
       "Batches:   0%|          | 0/1 [00:00<?, ?it/s]"
      ]
     },
     "metadata": {},
     "output_type": "display_data"
    },
    {
     "data": {
      "application/vnd.jupyter.widget-view+json": {
       "model_id": "7017dd5c264041d1b440e0c66b004fd6",
       "version_major": 2,
       "version_minor": 0
      },
      "text/plain": [
       "Batches:   0%|          | 0/5 [00:00<?, ?it/s]"
      ]
     },
     "metadata": {},
     "output_type": "display_data"
    },
    {
     "data": {
      "application/vnd.jupyter.widget-view+json": {
       "model_id": "266b2049bb594974bd428e913c089c95",
       "version_major": 2,
       "version_minor": 0
      },
      "text/plain": [
       "Batches:   0%|          | 0/1 [00:00<?, ?it/s]"
      ]
     },
     "metadata": {},
     "output_type": "display_data"
    },
    {
     "data": {
      "application/vnd.jupyter.widget-view+json": {
       "model_id": "edfb48e4a6994ea8b7d6d6a9ae983c09",
       "version_major": 2,
       "version_minor": 0
      },
      "text/plain": [
       "Batches:   0%|          | 0/8 [00:00<?, ?it/s]"
      ]
     },
     "metadata": {},
     "output_type": "display_data"
    },
    {
     "data": {
      "application/vnd.jupyter.widget-view+json": {
       "model_id": "5a188d1438684d7286708290e40dee4d",
       "version_major": 2,
       "version_minor": 0
      },
      "text/plain": [
       "Batches:   0%|          | 0/1 [00:00<?, ?it/s]"
      ]
     },
     "metadata": {},
     "output_type": "display_data"
    },
    {
     "data": {
      "application/vnd.jupyter.widget-view+json": {
       "model_id": "d43c3fd7698a4dfd96376e0763eca410",
       "version_major": 2,
       "version_minor": 0
      },
      "text/plain": [
       "Batches:   0%|          | 0/5 [00:00<?, ?it/s]"
      ]
     },
     "metadata": {},
     "output_type": "display_data"
    },
    {
     "data": {
      "application/vnd.jupyter.widget-view+json": {
       "model_id": "b64255f9c15245609c1e11410660e6e7",
       "version_major": 2,
       "version_minor": 0
      },
      "text/plain": [
       "Batches:   0%|          | 0/1 [00:00<?, ?it/s]"
      ]
     },
     "metadata": {},
     "output_type": "display_data"
    },
    {
     "data": {
      "application/vnd.jupyter.widget-view+json": {
       "model_id": "ec2be65b0c2e4c0da4f41639877d521c",
       "version_major": 2,
       "version_minor": 0
      },
      "text/plain": [
       "Batches:   0%|          | 0/8 [00:00<?, ?it/s]"
      ]
     },
     "metadata": {},
     "output_type": "display_data"
    },
    {
     "name": "stderr",
     "output_type": "stream",
     "text": [
      "Processing rows:  46%|████▌     | 23/50 [00:27<00:30,  1.15s/row]"
     ]
    },
    {
     "data": {
      "application/vnd.jupyter.widget-view+json": {
       "model_id": "a142d13d02db4116ad9590ff04f75bd4",
       "version_major": 2,
       "version_minor": 0
      },
      "text/plain": [
       "Batches:   0%|          | 0/1 [00:00<?, ?it/s]"
      ]
     },
     "metadata": {},
     "output_type": "display_data"
    },
    {
     "data": {
      "application/vnd.jupyter.widget-view+json": {
       "model_id": "d2b484dd6fff4b06824a28a1a829b016",
       "version_major": 2,
       "version_minor": 0
      },
      "text/plain": [
       "Batches:   0%|          | 0/5 [00:00<?, ?it/s]"
      ]
     },
     "metadata": {},
     "output_type": "display_data"
    },
    {
     "data": {
      "application/vnd.jupyter.widget-view+json": {
       "model_id": "beb73225b811489f9b4758e556579847",
       "version_major": 2,
       "version_minor": 0
      },
      "text/plain": [
       "Batches:   0%|          | 0/1 [00:00<?, ?it/s]"
      ]
     },
     "metadata": {},
     "output_type": "display_data"
    },
    {
     "data": {
      "application/vnd.jupyter.widget-view+json": {
       "model_id": "2b79c796b08a43e79ff68d54b0318e57",
       "version_major": 2,
       "version_minor": 0
      },
      "text/plain": [
       "Batches:   0%|          | 0/7 [00:00<?, ?it/s]"
      ]
     },
     "metadata": {},
     "output_type": "display_data"
    },
    {
     "data": {
      "application/vnd.jupyter.widget-view+json": {
       "model_id": "a364142e9c0a4ff6a43b764cec3f7d5f",
       "version_major": 2,
       "version_minor": 0
      },
      "text/plain": [
       "Batches:   0%|          | 0/1 [00:00<?, ?it/s]"
      ]
     },
     "metadata": {},
     "output_type": "display_data"
    },
    {
     "data": {
      "application/vnd.jupyter.widget-view+json": {
       "model_id": "0c481f4e802b481d90811a45cf4ddfc5",
       "version_major": 2,
       "version_minor": 0
      },
      "text/plain": [
       "Batches:   0%|          | 0/5 [00:00<?, ?it/s]"
      ]
     },
     "metadata": {},
     "output_type": "display_data"
    },
    {
     "data": {
      "application/vnd.jupyter.widget-view+json": {
       "model_id": "15b7f42de3be41648ad56b682fb237f6",
       "version_major": 2,
       "version_minor": 0
      },
      "text/plain": [
       "Batches:   0%|          | 0/1 [00:00<?, ?it/s]"
      ]
     },
     "metadata": {},
     "output_type": "display_data"
    },
    {
     "data": {
      "application/vnd.jupyter.widget-view+json": {
       "model_id": "e1e8c8069b1d46b4a9e908b163e3793f",
       "version_major": 2,
       "version_minor": 0
      },
      "text/plain": [
       "Batches:   0%|          | 0/5 [00:00<?, ?it/s]"
      ]
     },
     "metadata": {},
     "output_type": "display_data"
    },
    {
     "name": "stderr",
     "output_type": "stream",
     "text": [
      "Processing rows:  48%|████▊     | 24/50 [00:28<00:29,  1.13s/row]"
     ]
    },
    {
     "data": {
      "application/vnd.jupyter.widget-view+json": {
       "model_id": "4fab784770df4014bf6b78cf60dca9a9",
       "version_major": 2,
       "version_minor": 0
      },
      "text/plain": [
       "Batches:   0%|          | 0/1 [00:00<?, ?it/s]"
      ]
     },
     "metadata": {},
     "output_type": "display_data"
    },
    {
     "data": {
      "application/vnd.jupyter.widget-view+json": {
       "model_id": "7408f205530e49a5bb39197ce4b81ec1",
       "version_major": 2,
       "version_minor": 0
      },
      "text/plain": [
       "Batches:   0%|          | 0/5 [00:00<?, ?it/s]"
      ]
     },
     "metadata": {},
     "output_type": "display_data"
    },
    {
     "data": {
      "application/vnd.jupyter.widget-view+json": {
       "model_id": "63525b9a811e4c1fb871e67b82aa12ec",
       "version_major": 2,
       "version_minor": 0
      },
      "text/plain": [
       "Batches:   0%|          | 0/1 [00:00<?, ?it/s]"
      ]
     },
     "metadata": {},
     "output_type": "display_data"
    },
    {
     "data": {
      "application/vnd.jupyter.widget-view+json": {
       "model_id": "96cedc4fca3d4475929400f6e7d0dc0b",
       "version_major": 2,
       "version_minor": 0
      },
      "text/plain": [
       "Batches:   0%|          | 0/10 [00:00<?, ?it/s]"
      ]
     },
     "metadata": {},
     "output_type": "display_data"
    },
    {
     "data": {
      "application/vnd.jupyter.widget-view+json": {
       "model_id": "3b415f27e7774286b1157ada0baf877b",
       "version_major": 2,
       "version_minor": 0
      },
      "text/plain": [
       "Batches:   0%|          | 0/1 [00:00<?, ?it/s]"
      ]
     },
     "metadata": {},
     "output_type": "display_data"
    },
    {
     "data": {
      "application/vnd.jupyter.widget-view+json": {
       "model_id": "510b294300f349cc999eb68c6f508a3f",
       "version_major": 2,
       "version_minor": 0
      },
      "text/plain": [
       "Batches:   0%|          | 0/5 [00:00<?, ?it/s]"
      ]
     },
     "metadata": {},
     "output_type": "display_data"
    },
    {
     "data": {
      "application/vnd.jupyter.widget-view+json": {
       "model_id": "64c53af8cff04e1a95906710f69fdc7e",
       "version_major": 2,
       "version_minor": 0
      },
      "text/plain": [
       "Batches:   0%|          | 0/1 [00:00<?, ?it/s]"
      ]
     },
     "metadata": {},
     "output_type": "display_data"
    },
    {
     "data": {
      "application/vnd.jupyter.widget-view+json": {
       "model_id": "d2729acf4d184d3d98521abf10b10e85",
       "version_major": 2,
       "version_minor": 0
      },
      "text/plain": [
       "Batches:   0%|          | 0/10 [00:00<?, ?it/s]"
      ]
     },
     "metadata": {},
     "output_type": "display_data"
    },
    {
     "name": "stderr",
     "output_type": "stream",
     "text": [
      "Processing rows:  50%|█████     | 25/50 [00:30<00:29,  1.17s/row]"
     ]
    },
    {
     "data": {
      "application/vnd.jupyter.widget-view+json": {
       "model_id": "e0933e51dc46489e92f2cc9025260ffd",
       "version_major": 2,
       "version_minor": 0
      },
      "text/plain": [
       "Batches:   0%|          | 0/1 [00:00<?, ?it/s]"
      ]
     },
     "metadata": {},
     "output_type": "display_data"
    },
    {
     "data": {
      "application/vnd.jupyter.widget-view+json": {
       "model_id": "a817acde28494510b2479d96efcc80f1",
       "version_major": 2,
       "version_minor": 0
      },
      "text/plain": [
       "Batches:   0%|          | 0/5 [00:00<?, ?it/s]"
      ]
     },
     "metadata": {},
     "output_type": "display_data"
    },
    {
     "data": {
      "application/vnd.jupyter.widget-view+json": {
       "model_id": "c9b204c12bf54a348e26300074025378",
       "version_major": 2,
       "version_minor": 0
      },
      "text/plain": [
       "Batches:   0%|          | 0/1 [00:00<?, ?it/s]"
      ]
     },
     "metadata": {},
     "output_type": "display_data"
    },
    {
     "data": {
      "application/vnd.jupyter.widget-view+json": {
       "model_id": "cf11ad22164e42e7a577c6d53aa08a2b",
       "version_major": 2,
       "version_minor": 0
      },
      "text/plain": [
       "Batches:   0%|          | 0/7 [00:00<?, ?it/s]"
      ]
     },
     "metadata": {},
     "output_type": "display_data"
    },
    {
     "data": {
      "application/vnd.jupyter.widget-view+json": {
       "model_id": "5ee25883455d4ba3b205ecbd5b228453",
       "version_major": 2,
       "version_minor": 0
      },
      "text/plain": [
       "Batches:   0%|          | 0/1 [00:00<?, ?it/s]"
      ]
     },
     "metadata": {},
     "output_type": "display_data"
    },
    {
     "data": {
      "application/vnd.jupyter.widget-view+json": {
       "model_id": "44fb2527dedf46cf9b217f35d1d20727",
       "version_major": 2,
       "version_minor": 0
      },
      "text/plain": [
       "Batches:   0%|          | 0/5 [00:00<?, ?it/s]"
      ]
     },
     "metadata": {},
     "output_type": "display_data"
    },
    {
     "data": {
      "application/vnd.jupyter.widget-view+json": {
       "model_id": "193d04c45a0d4282928ed33dd92d45b6",
       "version_major": 2,
       "version_minor": 0
      },
      "text/plain": [
       "Batches:   0%|          | 0/1 [00:00<?, ?it/s]"
      ]
     },
     "metadata": {},
     "output_type": "display_data"
    },
    {
     "data": {
      "application/vnd.jupyter.widget-view+json": {
       "model_id": "62697bc4b59f467bb13df071bfafd7d3",
       "version_major": 2,
       "version_minor": 0
      },
      "text/plain": [
       "Batches:   0%|          | 0/5 [00:00<?, ?it/s]"
      ]
     },
     "metadata": {},
     "output_type": "display_data"
    },
    {
     "name": "stderr",
     "output_type": "stream",
     "text": [
      "Processing rows:  52%|█████▏    | 26/50 [00:31<00:27,  1.14s/row]"
     ]
    },
    {
     "data": {
      "application/vnd.jupyter.widget-view+json": {
       "model_id": "705fa9099d514eeab43b5680486c5668",
       "version_major": 2,
       "version_minor": 0
      },
      "text/plain": [
       "Batches:   0%|          | 0/1 [00:00<?, ?it/s]"
      ]
     },
     "metadata": {},
     "output_type": "display_data"
    },
    {
     "data": {
      "application/vnd.jupyter.widget-view+json": {
       "model_id": "f8de118e23ee4a2dae28b0f5b6e15d9f",
       "version_major": 2,
       "version_minor": 0
      },
      "text/plain": [
       "Batches:   0%|          | 0/5 [00:00<?, ?it/s]"
      ]
     },
     "metadata": {},
     "output_type": "display_data"
    },
    {
     "data": {
      "application/vnd.jupyter.widget-view+json": {
       "model_id": "8dcaa03fd36342f8a9a4418bf113670f",
       "version_major": 2,
       "version_minor": 0
      },
      "text/plain": [
       "Batches:   0%|          | 0/1 [00:00<?, ?it/s]"
      ]
     },
     "metadata": {},
     "output_type": "display_data"
    },
    {
     "data": {
      "application/vnd.jupyter.widget-view+json": {
       "model_id": "186ef44c3a3647ebb390d3217561f1fe",
       "version_major": 2,
       "version_minor": 0
      },
      "text/plain": [
       "Batches:   0%|          | 0/9 [00:00<?, ?it/s]"
      ]
     },
     "metadata": {},
     "output_type": "display_data"
    },
    {
     "data": {
      "application/vnd.jupyter.widget-view+json": {
       "model_id": "94c9ad6a803e4558bf7643579b7869d5",
       "version_major": 2,
       "version_minor": 0
      },
      "text/plain": [
       "Batches:   0%|          | 0/1 [00:00<?, ?it/s]"
      ]
     },
     "metadata": {},
     "output_type": "display_data"
    },
    {
     "data": {
      "application/vnd.jupyter.widget-view+json": {
       "model_id": "3d5c6385124c42aaab43503047882cde",
       "version_major": 2,
       "version_minor": 0
      },
      "text/plain": [
       "Batches:   0%|          | 0/5 [00:00<?, ?it/s]"
      ]
     },
     "metadata": {},
     "output_type": "display_data"
    },
    {
     "data": {
      "application/vnd.jupyter.widget-view+json": {
       "model_id": "e9984bce8cfa4a69bc91c765a8687177",
       "version_major": 2,
       "version_minor": 0
      },
      "text/plain": [
       "Batches:   0%|          | 0/1 [00:00<?, ?it/s]"
      ]
     },
     "metadata": {},
     "output_type": "display_data"
    },
    {
     "data": {
      "application/vnd.jupyter.widget-view+json": {
       "model_id": "62ab87a2cbb14d44a209dfb98890bae4",
       "version_major": 2,
       "version_minor": 0
      },
      "text/plain": [
       "Batches:   0%|          | 0/10 [00:00<?, ?it/s]"
      ]
     },
     "metadata": {},
     "output_type": "display_data"
    },
    {
     "name": "stderr",
     "output_type": "stream",
     "text": [
      "Processing rows:  54%|█████▍    | 27/50 [00:32<00:26,  1.17s/row]"
     ]
    },
    {
     "data": {
      "application/vnd.jupyter.widget-view+json": {
       "model_id": "fdb5ac86a3bc421d9bbbd2cb46fd7e88",
       "version_major": 2,
       "version_minor": 0
      },
      "text/plain": [
       "Batches:   0%|          | 0/1 [00:00<?, ?it/s]"
      ]
     },
     "metadata": {},
     "output_type": "display_data"
    },
    {
     "data": {
      "application/vnd.jupyter.widget-view+json": {
       "model_id": "ceb91f00b39c4f1587a147b033e58c09",
       "version_major": 2,
       "version_minor": 0
      },
      "text/plain": [
       "Batches:   0%|          | 0/5 [00:00<?, ?it/s]"
      ]
     },
     "metadata": {},
     "output_type": "display_data"
    },
    {
     "data": {
      "application/vnd.jupyter.widget-view+json": {
       "model_id": "4a5186fe524541f58fc8ff1283c5be67",
       "version_major": 2,
       "version_minor": 0
      },
      "text/plain": [
       "Batches:   0%|          | 0/1 [00:00<?, ?it/s]"
      ]
     },
     "metadata": {},
     "output_type": "display_data"
    },
    {
     "data": {
      "application/vnd.jupyter.widget-view+json": {
       "model_id": "776166765dc547b6b49e55783926d211",
       "version_major": 2,
       "version_minor": 0
      },
      "text/plain": [
       "Batches:   0%|          | 0/5 [00:00<?, ?it/s]"
      ]
     },
     "metadata": {},
     "output_type": "display_data"
    },
    {
     "data": {
      "application/vnd.jupyter.widget-view+json": {
       "model_id": "44903fc0f2334e6d9d6edaa9ac413e77",
       "version_major": 2,
       "version_minor": 0
      },
      "text/plain": [
       "Batches:   0%|          | 0/1 [00:00<?, ?it/s]"
      ]
     },
     "metadata": {},
     "output_type": "display_data"
    },
    {
     "data": {
      "application/vnd.jupyter.widget-view+json": {
       "model_id": "f87365b0196a4600bb0d5917f7b9a1b6",
       "version_major": 2,
       "version_minor": 0
      },
      "text/plain": [
       "Batches:   0%|          | 0/5 [00:00<?, ?it/s]"
      ]
     },
     "metadata": {},
     "output_type": "display_data"
    },
    {
     "data": {
      "application/vnd.jupyter.widget-view+json": {
       "model_id": "014a7b213a014c36a7503af7319e6839",
       "version_major": 2,
       "version_minor": 0
      },
      "text/plain": [
       "Batches:   0%|          | 0/1 [00:00<?, ?it/s]"
      ]
     },
     "metadata": {},
     "output_type": "display_data"
    },
    {
     "data": {
      "application/vnd.jupyter.widget-view+json": {
       "model_id": "c2f5bd2e95614d22b0bde8cfea61e7ef",
       "version_major": 2,
       "version_minor": 0
      },
      "text/plain": [
       "Batches:   0%|          | 0/5 [00:00<?, ?it/s]"
      ]
     },
     "metadata": {},
     "output_type": "display_data"
    },
    {
     "name": "stderr",
     "output_type": "stream",
     "text": [
      "Processing rows:  56%|█████▌    | 28/50 [00:33<00:24,  1.12s/row]"
     ]
    },
    {
     "data": {
      "application/vnd.jupyter.widget-view+json": {
       "model_id": "465cbc0bc2d44db29e9a87438ebc712f",
       "version_major": 2,
       "version_minor": 0
      },
      "text/plain": [
       "Batches:   0%|          | 0/1 [00:00<?, ?it/s]"
      ]
     },
     "metadata": {},
     "output_type": "display_data"
    },
    {
     "data": {
      "application/vnd.jupyter.widget-view+json": {
       "model_id": "8c43c4bf577546beb60e18899bec8f01",
       "version_major": 2,
       "version_minor": 0
      },
      "text/plain": [
       "Batches:   0%|          | 0/5 [00:00<?, ?it/s]"
      ]
     },
     "metadata": {},
     "output_type": "display_data"
    },
    {
     "data": {
      "application/vnd.jupyter.widget-view+json": {
       "model_id": "c3be4ca701764ec4b87a9a4f114345bd",
       "version_major": 2,
       "version_minor": 0
      },
      "text/plain": [
       "Batches:   0%|          | 0/1 [00:00<?, ?it/s]"
      ]
     },
     "metadata": {},
     "output_type": "display_data"
    },
    {
     "data": {
      "application/vnd.jupyter.widget-view+json": {
       "model_id": "e0972d944bab4ed39e0b941b0533d009",
       "version_major": 2,
       "version_minor": 0
      },
      "text/plain": [
       "Batches:   0%|          | 0/8 [00:00<?, ?it/s]"
      ]
     },
     "metadata": {},
     "output_type": "display_data"
    },
    {
     "data": {
      "application/vnd.jupyter.widget-view+json": {
       "model_id": "2bbd69f21c9c4f11b052f61c62fb0b3c",
       "version_major": 2,
       "version_minor": 0
      },
      "text/plain": [
       "Batches:   0%|          | 0/1 [00:00<?, ?it/s]"
      ]
     },
     "metadata": {},
     "output_type": "display_data"
    },
    {
     "data": {
      "application/vnd.jupyter.widget-view+json": {
       "model_id": "1bcb8bdf823f4445915d2d9e8d4864b1",
       "version_major": 2,
       "version_minor": 0
      },
      "text/plain": [
       "Batches:   0%|          | 0/5 [00:00<?, ?it/s]"
      ]
     },
     "metadata": {},
     "output_type": "display_data"
    },
    {
     "data": {
      "application/vnd.jupyter.widget-view+json": {
       "model_id": "3765c391f2da4011baf0795e15151958",
       "version_major": 2,
       "version_minor": 0
      },
      "text/plain": [
       "Batches:   0%|          | 0/1 [00:00<?, ?it/s]"
      ]
     },
     "metadata": {},
     "output_type": "display_data"
    },
    {
     "data": {
      "application/vnd.jupyter.widget-view+json": {
       "model_id": "c04815d659c546b9bfa70f0970a953ac",
       "version_major": 2,
       "version_minor": 0
      },
      "text/plain": [
       "Batches:   0%|          | 0/9 [00:00<?, ?it/s]"
      ]
     },
     "metadata": {},
     "output_type": "display_data"
    },
    {
     "name": "stderr",
     "output_type": "stream",
     "text": [
      "Processing rows:  58%|█████▊    | 29/50 [00:34<00:23,  1.14s/row]"
     ]
    },
    {
     "data": {
      "application/vnd.jupyter.widget-view+json": {
       "model_id": "da5a2c33144f431a83f88cc690b46717",
       "version_major": 2,
       "version_minor": 0
      },
      "text/plain": [
       "Batches:   0%|          | 0/1 [00:00<?, ?it/s]"
      ]
     },
     "metadata": {},
     "output_type": "display_data"
    },
    {
     "data": {
      "application/vnd.jupyter.widget-view+json": {
       "model_id": "6c2c0a9d8d2f4fcbb4be50341442c8df",
       "version_major": 2,
       "version_minor": 0
      },
      "text/plain": [
       "Batches:   0%|          | 0/5 [00:00<?, ?it/s]"
      ]
     },
     "metadata": {},
     "output_type": "display_data"
    },
    {
     "data": {
      "application/vnd.jupyter.widget-view+json": {
       "model_id": "d11a821b291c421bba75c36e772183f0",
       "version_major": 2,
       "version_minor": 0
      },
      "text/plain": [
       "Batches:   0%|          | 0/1 [00:00<?, ?it/s]"
      ]
     },
     "metadata": {},
     "output_type": "display_data"
    },
    {
     "data": {
      "application/vnd.jupyter.widget-view+json": {
       "model_id": "61c800c4f9ee41478149ab1ca1bdf69f",
       "version_major": 2,
       "version_minor": 0
      },
      "text/plain": [
       "Batches:   0%|          | 0/8 [00:00<?, ?it/s]"
      ]
     },
     "metadata": {},
     "output_type": "display_data"
    },
    {
     "data": {
      "application/vnd.jupyter.widget-view+json": {
       "model_id": "ba3dc9611f6e4cd3b6bd3e3b0d5a470d",
       "version_major": 2,
       "version_minor": 0
      },
      "text/plain": [
       "Batches:   0%|          | 0/1 [00:00<?, ?it/s]"
      ]
     },
     "metadata": {},
     "output_type": "display_data"
    },
    {
     "data": {
      "application/vnd.jupyter.widget-view+json": {
       "model_id": "4c62298facc340818b0a9f44f7b0547a",
       "version_major": 2,
       "version_minor": 0
      },
      "text/plain": [
       "Batches:   0%|          | 0/5 [00:00<?, ?it/s]"
      ]
     },
     "metadata": {},
     "output_type": "display_data"
    },
    {
     "data": {
      "application/vnd.jupyter.widget-view+json": {
       "model_id": "d3a9bab42d5b4d249b0149a91e78e92a",
       "version_major": 2,
       "version_minor": 0
      },
      "text/plain": [
       "Batches:   0%|          | 0/1 [00:00<?, ?it/s]"
      ]
     },
     "metadata": {},
     "output_type": "display_data"
    },
    {
     "data": {
      "application/vnd.jupyter.widget-view+json": {
       "model_id": "3c3ba6c630bf4716a612a6d994df83dc",
       "version_major": 2,
       "version_minor": 0
      },
      "text/plain": [
       "Batches:   0%|          | 0/8 [00:00<?, ?it/s]"
      ]
     },
     "metadata": {},
     "output_type": "display_data"
    },
    {
     "name": "stderr",
     "output_type": "stream",
     "text": [
      "Processing rows:  60%|██████    | 30/50 [00:35<00:23,  1.16s/row]"
     ]
    },
    {
     "data": {
      "application/vnd.jupyter.widget-view+json": {
       "model_id": "2d6ad8b9af594ab0bf0756a865a594c9",
       "version_major": 2,
       "version_minor": 0
      },
      "text/plain": [
       "Batches:   0%|          | 0/1 [00:00<?, ?it/s]"
      ]
     },
     "metadata": {},
     "output_type": "display_data"
    },
    {
     "data": {
      "application/vnd.jupyter.widget-view+json": {
       "model_id": "e5ee7030e7b1456e8435f196f8263fe2",
       "version_major": 2,
       "version_minor": 0
      },
      "text/plain": [
       "Batches:   0%|          | 0/5 [00:00<?, ?it/s]"
      ]
     },
     "metadata": {},
     "output_type": "display_data"
    },
    {
     "data": {
      "application/vnd.jupyter.widget-view+json": {
       "model_id": "aa7e8adb9b154a8f8aa957ee1ce38758",
       "version_major": 2,
       "version_minor": 0
      },
      "text/plain": [
       "Batches:   0%|          | 0/1 [00:00<?, ?it/s]"
      ]
     },
     "metadata": {},
     "output_type": "display_data"
    },
    {
     "data": {
      "application/vnd.jupyter.widget-view+json": {
       "model_id": "44d37dd86aa14d2a832104e5961260ef",
       "version_major": 2,
       "version_minor": 0
      },
      "text/plain": [
       "Batches:   0%|          | 0/9 [00:00<?, ?it/s]"
      ]
     },
     "metadata": {},
     "output_type": "display_data"
    },
    {
     "data": {
      "application/vnd.jupyter.widget-view+json": {
       "model_id": "80e39566b3fa4ce5a7a13fd50bf9a45e",
       "version_major": 2,
       "version_minor": 0
      },
      "text/plain": [
       "Batches:   0%|          | 0/1 [00:00<?, ?it/s]"
      ]
     },
     "metadata": {},
     "output_type": "display_data"
    },
    {
     "data": {
      "application/vnd.jupyter.widget-view+json": {
       "model_id": "e11cf1efcbb84f4f951f3ed4dee17d52",
       "version_major": 2,
       "version_minor": 0
      },
      "text/plain": [
       "Batches:   0%|          | 0/5 [00:00<?, ?it/s]"
      ]
     },
     "metadata": {},
     "output_type": "display_data"
    },
    {
     "data": {
      "application/vnd.jupyter.widget-view+json": {
       "model_id": "c313b31e55944b72a2d195dafcc97949",
       "version_major": 2,
       "version_minor": 0
      },
      "text/plain": [
       "Batches:   0%|          | 0/1 [00:00<?, ?it/s]"
      ]
     },
     "metadata": {},
     "output_type": "display_data"
    },
    {
     "data": {
      "application/vnd.jupyter.widget-view+json": {
       "model_id": "a7101935b7c74583b1433daca0130774",
       "version_major": 2,
       "version_minor": 0
      },
      "text/plain": [
       "Batches:   0%|          | 0/10 [00:00<?, ?it/s]"
      ]
     },
     "metadata": {},
     "output_type": "display_data"
    },
    {
     "name": "stderr",
     "output_type": "stream",
     "text": [
      "Processing rows:  62%|██████▏   | 31/50 [00:37<00:22,  1.19s/row]"
     ]
    },
    {
     "data": {
      "application/vnd.jupyter.widget-view+json": {
       "model_id": "5606b5f45c4647c6908c3dc90ee218e8",
       "version_major": 2,
       "version_minor": 0
      },
      "text/plain": [
       "Batches:   0%|          | 0/1 [00:00<?, ?it/s]"
      ]
     },
     "metadata": {},
     "output_type": "display_data"
    },
    {
     "data": {
      "application/vnd.jupyter.widget-view+json": {
       "model_id": "5b6cedd0eceb4f74867a389286c9b1dd",
       "version_major": 2,
       "version_minor": 0
      },
      "text/plain": [
       "Batches:   0%|          | 0/5 [00:00<?, ?it/s]"
      ]
     },
     "metadata": {},
     "output_type": "display_data"
    },
    {
     "data": {
      "application/vnd.jupyter.widget-view+json": {
       "model_id": "c343952a50f1446988842a5008904055",
       "version_major": 2,
       "version_minor": 0
      },
      "text/plain": [
       "Batches:   0%|          | 0/1 [00:00<?, ?it/s]"
      ]
     },
     "metadata": {},
     "output_type": "display_data"
    },
    {
     "data": {
      "application/vnd.jupyter.widget-view+json": {
       "model_id": "9561ae2a76a44169bbb202c0906efdce",
       "version_major": 2,
       "version_minor": 0
      },
      "text/plain": [
       "Batches:   0%|          | 0/7 [00:00<?, ?it/s]"
      ]
     },
     "metadata": {},
     "output_type": "display_data"
    },
    {
     "data": {
      "application/vnd.jupyter.widget-view+json": {
       "model_id": "f76dc6c3e97c43d5996d0cf63a8d095a",
       "version_major": 2,
       "version_minor": 0
      },
      "text/plain": [
       "Batches:   0%|          | 0/1 [00:00<?, ?it/s]"
      ]
     },
     "metadata": {},
     "output_type": "display_data"
    },
    {
     "data": {
      "application/vnd.jupyter.widget-view+json": {
       "model_id": "c1438b21a6484fc2a669e98b5ebd7648",
       "version_major": 2,
       "version_minor": 0
      },
      "text/plain": [
       "Batches:   0%|          | 0/5 [00:00<?, ?it/s]"
      ]
     },
     "metadata": {},
     "output_type": "display_data"
    },
    {
     "data": {
      "application/vnd.jupyter.widget-view+json": {
       "model_id": "6e85729f981c40c38a4b4cb74f639a75",
       "version_major": 2,
       "version_minor": 0
      },
      "text/plain": [
       "Batches:   0%|          | 0/1 [00:00<?, ?it/s]"
      ]
     },
     "metadata": {},
     "output_type": "display_data"
    },
    {
     "data": {
      "application/vnd.jupyter.widget-view+json": {
       "model_id": "2aec2ff133544cd3b28264eaf3ba5f9c",
       "version_major": 2,
       "version_minor": 0
      },
      "text/plain": [
       "Batches:   0%|          | 0/7 [00:00<?, ?it/s]"
      ]
     },
     "metadata": {},
     "output_type": "display_data"
    },
    {
     "name": "stderr",
     "output_type": "stream",
     "text": [
      "Processing rows:  64%|██████▍   | 32/50 [00:38<00:21,  1.18s/row]"
     ]
    },
    {
     "data": {
      "application/vnd.jupyter.widget-view+json": {
       "model_id": "58c489c922bd45f1908373e6d97cc833",
       "version_major": 2,
       "version_minor": 0
      },
      "text/plain": [
       "Batches:   0%|          | 0/1 [00:00<?, ?it/s]"
      ]
     },
     "metadata": {},
     "output_type": "display_data"
    },
    {
     "data": {
      "application/vnd.jupyter.widget-view+json": {
       "model_id": "703576c98fd04df1a48ad2407f7863af",
       "version_major": 2,
       "version_minor": 0
      },
      "text/plain": [
       "Batches:   0%|          | 0/5 [00:00<?, ?it/s]"
      ]
     },
     "metadata": {},
     "output_type": "display_data"
    },
    {
     "data": {
      "application/vnd.jupyter.widget-view+json": {
       "model_id": "97ed07daec234ac8a4a28e9875cd87c2",
       "version_major": 2,
       "version_minor": 0
      },
      "text/plain": [
       "Batches:   0%|          | 0/1 [00:00<?, ?it/s]"
      ]
     },
     "metadata": {},
     "output_type": "display_data"
    },
    {
     "data": {
      "application/vnd.jupyter.widget-view+json": {
       "model_id": "7db650505a7242908826bd434d349a00",
       "version_major": 2,
       "version_minor": 0
      },
      "text/plain": [
       "Batches:   0%|          | 0/9 [00:00<?, ?it/s]"
      ]
     },
     "metadata": {},
     "output_type": "display_data"
    },
    {
     "data": {
      "application/vnd.jupyter.widget-view+json": {
       "model_id": "6578468839e048139b8ed7f47309bcfd",
       "version_major": 2,
       "version_minor": 0
      },
      "text/plain": [
       "Batches:   0%|          | 0/1 [00:00<?, ?it/s]"
      ]
     },
     "metadata": {},
     "output_type": "display_data"
    },
    {
     "data": {
      "application/vnd.jupyter.widget-view+json": {
       "model_id": "34abc0d3b300413d816c03d872877109",
       "version_major": 2,
       "version_minor": 0
      },
      "text/plain": [
       "Batches:   0%|          | 0/5 [00:00<?, ?it/s]"
      ]
     },
     "metadata": {},
     "output_type": "display_data"
    },
    {
     "data": {
      "application/vnd.jupyter.widget-view+json": {
       "model_id": "5e9290a26baa439ca9d8302e364443e2",
       "version_major": 2,
       "version_minor": 0
      },
      "text/plain": [
       "Batches:   0%|          | 0/1 [00:00<?, ?it/s]"
      ]
     },
     "metadata": {},
     "output_type": "display_data"
    },
    {
     "data": {
      "application/vnd.jupyter.widget-view+json": {
       "model_id": "2f90a57dd114431ea78bfbfc0b4a077d",
       "version_major": 2,
       "version_minor": 0
      },
      "text/plain": [
       "Batches:   0%|          | 0/9 [00:00<?, ?it/s]"
      ]
     },
     "metadata": {},
     "output_type": "display_data"
    },
    {
     "name": "stderr",
     "output_type": "stream",
     "text": [
      "Processing rows:  66%|██████▌   | 33/50 [00:39<00:20,  1.18s/row]"
     ]
    },
    {
     "data": {
      "application/vnd.jupyter.widget-view+json": {
       "model_id": "98e2e71e9b284f1eb3f56c7495285f5d",
       "version_major": 2,
       "version_minor": 0
      },
      "text/plain": [
       "Batches:   0%|          | 0/1 [00:00<?, ?it/s]"
      ]
     },
     "metadata": {},
     "output_type": "display_data"
    },
    {
     "data": {
      "application/vnd.jupyter.widget-view+json": {
       "model_id": "c2753d45bdb04e24b159cfe2b997cadc",
       "version_major": 2,
       "version_minor": 0
      },
      "text/plain": [
       "Batches:   0%|          | 0/5 [00:00<?, ?it/s]"
      ]
     },
     "metadata": {},
     "output_type": "display_data"
    },
    {
     "data": {
      "application/vnd.jupyter.widget-view+json": {
       "model_id": "4dbb49d888e54809b8dcb708283aa1c9",
       "version_major": 2,
       "version_minor": 0
      },
      "text/plain": [
       "Batches:   0%|          | 0/1 [00:00<?, ?it/s]"
      ]
     },
     "metadata": {},
     "output_type": "display_data"
    },
    {
     "data": {
      "application/vnd.jupyter.widget-view+json": {
       "model_id": "de8fbece99a546e5a4720a1f6a776056",
       "version_major": 2,
       "version_minor": 0
      },
      "text/plain": [
       "Batches:   0%|          | 0/8 [00:00<?, ?it/s]"
      ]
     },
     "metadata": {},
     "output_type": "display_data"
    },
    {
     "data": {
      "application/vnd.jupyter.widget-view+json": {
       "model_id": "11118d0cdc30451fba6dafc90ede4a5e",
       "version_major": 2,
       "version_minor": 0
      },
      "text/plain": [
       "Batches:   0%|          | 0/1 [00:00<?, ?it/s]"
      ]
     },
     "metadata": {},
     "output_type": "display_data"
    },
    {
     "data": {
      "application/vnd.jupyter.widget-view+json": {
       "model_id": "771de618c232489abe09fe4a937d2204",
       "version_major": 2,
       "version_minor": 0
      },
      "text/plain": [
       "Batches:   0%|          | 0/5 [00:00<?, ?it/s]"
      ]
     },
     "metadata": {},
     "output_type": "display_data"
    },
    {
     "data": {
      "application/vnd.jupyter.widget-view+json": {
       "model_id": "182f96a919f14a159b2e2d4a5ceb0bd5",
       "version_major": 2,
       "version_minor": 0
      },
      "text/plain": [
       "Batches:   0%|          | 0/1 [00:00<?, ?it/s]"
      ]
     },
     "metadata": {},
     "output_type": "display_data"
    },
    {
     "data": {
      "application/vnd.jupyter.widget-view+json": {
       "model_id": "483e12d881f94be283077dc53f002b67",
       "version_major": 2,
       "version_minor": 0
      },
      "text/plain": [
       "Batches:   0%|          | 0/10 [00:00<?, ?it/s]"
      ]
     },
     "metadata": {},
     "output_type": "display_data"
    },
    {
     "name": "stderr",
     "output_type": "stream",
     "text": [
      "Processing rows:  68%|██████▊   | 34/50 [00:40<00:18,  1.19s/row]"
     ]
    },
    {
     "data": {
      "application/vnd.jupyter.widget-view+json": {
       "model_id": "bc4aaf9daa6a4f0e94e35302a8f120e0",
       "version_major": 2,
       "version_minor": 0
      },
      "text/plain": [
       "Batches:   0%|          | 0/1 [00:00<?, ?it/s]"
      ]
     },
     "metadata": {},
     "output_type": "display_data"
    },
    {
     "data": {
      "application/vnd.jupyter.widget-view+json": {
       "model_id": "c0ebc9ec11eb44fd9ba52ff177b82089",
       "version_major": 2,
       "version_minor": 0
      },
      "text/plain": [
       "Batches:   0%|          | 0/5 [00:00<?, ?it/s]"
      ]
     },
     "metadata": {},
     "output_type": "display_data"
    },
    {
     "data": {
      "application/vnd.jupyter.widget-view+json": {
       "model_id": "d5eee572c41744d2ac2cf2d6a1321fc1",
       "version_major": 2,
       "version_minor": 0
      },
      "text/plain": [
       "Batches:   0%|          | 0/1 [00:00<?, ?it/s]"
      ]
     },
     "metadata": {},
     "output_type": "display_data"
    },
    {
     "data": {
      "application/vnd.jupyter.widget-view+json": {
       "model_id": "5feb324958bb49e08c02b055752e4124",
       "version_major": 2,
       "version_minor": 0
      },
      "text/plain": [
       "Batches:   0%|          | 0/7 [00:00<?, ?it/s]"
      ]
     },
     "metadata": {},
     "output_type": "display_data"
    },
    {
     "data": {
      "application/vnd.jupyter.widget-view+json": {
       "model_id": "164d076b07ff4b7f8a49c4d4e8e4bd2e",
       "version_major": 2,
       "version_minor": 0
      },
      "text/plain": [
       "Batches:   0%|          | 0/1 [00:00<?, ?it/s]"
      ]
     },
     "metadata": {},
     "output_type": "display_data"
    },
    {
     "data": {
      "application/vnd.jupyter.widget-view+json": {
       "model_id": "669b20c14313424f96582772db200095",
       "version_major": 2,
       "version_minor": 0
      },
      "text/plain": [
       "Batches:   0%|          | 0/5 [00:00<?, ?it/s]"
      ]
     },
     "metadata": {},
     "output_type": "display_data"
    },
    {
     "data": {
      "application/vnd.jupyter.widget-view+json": {
       "model_id": "34b7b6ba2627457990cc5939ef82f9cf",
       "version_major": 2,
       "version_minor": 0
      },
      "text/plain": [
       "Batches:   0%|          | 0/1 [00:00<?, ?it/s]"
      ]
     },
     "metadata": {},
     "output_type": "display_data"
    },
    {
     "data": {
      "application/vnd.jupyter.widget-view+json": {
       "model_id": "8c7c5168ba0b48939e5aea219add655f",
       "version_major": 2,
       "version_minor": 0
      },
      "text/plain": [
       "Batches:   0%|          | 0/8 [00:00<?, ?it/s]"
      ]
     },
     "metadata": {},
     "output_type": "display_data"
    },
    {
     "name": "stderr",
     "output_type": "stream",
     "text": [
      "Processing rows:  70%|███████   | 35/50 [00:41<00:17,  1.16s/row]"
     ]
    },
    {
     "data": {
      "application/vnd.jupyter.widget-view+json": {
       "model_id": "58ac9114533b4adda497dc81d07f3ae8",
       "version_major": 2,
       "version_minor": 0
      },
      "text/plain": [
       "Batches:   0%|          | 0/1 [00:00<?, ?it/s]"
      ]
     },
     "metadata": {},
     "output_type": "display_data"
    },
    {
     "data": {
      "application/vnd.jupyter.widget-view+json": {
       "model_id": "4ce90a69eedb4daeb07021fd269f5cd5",
       "version_major": 2,
       "version_minor": 0
      },
      "text/plain": [
       "Batches:   0%|          | 0/5 [00:00<?, ?it/s]"
      ]
     },
     "metadata": {},
     "output_type": "display_data"
    },
    {
     "data": {
      "application/vnd.jupyter.widget-view+json": {
       "model_id": "dd030f9184774607a768789d29d1da65",
       "version_major": 2,
       "version_minor": 0
      },
      "text/plain": [
       "Batches:   0%|          | 0/1 [00:00<?, ?it/s]"
      ]
     },
     "metadata": {},
     "output_type": "display_data"
    },
    {
     "data": {
      "application/vnd.jupyter.widget-view+json": {
       "model_id": "5f3df11abad94960be61117018d6daeb",
       "version_major": 2,
       "version_minor": 0
      },
      "text/plain": [
       "Batches:   0%|          | 0/8 [00:00<?, ?it/s]"
      ]
     },
     "metadata": {},
     "output_type": "display_data"
    },
    {
     "data": {
      "application/vnd.jupyter.widget-view+json": {
       "model_id": "ad8a27f4d73d4a29964abc6bca33d8b8",
       "version_major": 2,
       "version_minor": 0
      },
      "text/plain": [
       "Batches:   0%|          | 0/1 [00:00<?, ?it/s]"
      ]
     },
     "metadata": {},
     "output_type": "display_data"
    },
    {
     "data": {
      "application/vnd.jupyter.widget-view+json": {
       "model_id": "5b856dc57df6489eb7c7565315668816",
       "version_major": 2,
       "version_minor": 0
      },
      "text/plain": [
       "Batches:   0%|          | 0/5 [00:00<?, ?it/s]"
      ]
     },
     "metadata": {},
     "output_type": "display_data"
    },
    {
     "data": {
      "application/vnd.jupyter.widget-view+json": {
       "model_id": "421a44ebbdb04a6d8944a35e7c71f8f2",
       "version_major": 2,
       "version_minor": 0
      },
      "text/plain": [
       "Batches:   0%|          | 0/1 [00:00<?, ?it/s]"
      ]
     },
     "metadata": {},
     "output_type": "display_data"
    },
    {
     "data": {
      "application/vnd.jupyter.widget-view+json": {
       "model_id": "2f3c7acaf3d14fcbb19bd4dd05247c66",
       "version_major": 2,
       "version_minor": 0
      },
      "text/plain": [
       "Batches:   0%|          | 0/7 [00:00<?, ?it/s]"
      ]
     },
     "metadata": {},
     "output_type": "display_data"
    },
    {
     "name": "stderr",
     "output_type": "stream",
     "text": [
      "Processing rows:  72%|███████▏  | 36/50 [00:42<00:15,  1.14s/row]"
     ]
    },
    {
     "data": {
      "application/vnd.jupyter.widget-view+json": {
       "model_id": "479072b90f874947b1334f70835c6ff2",
       "version_major": 2,
       "version_minor": 0
      },
      "text/plain": [
       "Batches:   0%|          | 0/1 [00:00<?, ?it/s]"
      ]
     },
     "metadata": {},
     "output_type": "display_data"
    },
    {
     "data": {
      "application/vnd.jupyter.widget-view+json": {
       "model_id": "b02950516369440890b1cd37f3966097",
       "version_major": 2,
       "version_minor": 0
      },
      "text/plain": [
       "Batches:   0%|          | 0/5 [00:00<?, ?it/s]"
      ]
     },
     "metadata": {},
     "output_type": "display_data"
    },
    {
     "data": {
      "application/vnd.jupyter.widget-view+json": {
       "model_id": "de44c0708a27477a963a32e32527dfd8",
       "version_major": 2,
       "version_minor": 0
      },
      "text/plain": [
       "Batches:   0%|          | 0/1 [00:00<?, ?it/s]"
      ]
     },
     "metadata": {},
     "output_type": "display_data"
    },
    {
     "data": {
      "application/vnd.jupyter.widget-view+json": {
       "model_id": "50e240b91dc243dabb30c9675335ed7f",
       "version_major": 2,
       "version_minor": 0
      },
      "text/plain": [
       "Batches:   0%|          | 0/10 [00:00<?, ?it/s]"
      ]
     },
     "metadata": {},
     "output_type": "display_data"
    },
    {
     "data": {
      "application/vnd.jupyter.widget-view+json": {
       "model_id": "c5b4d48c6154424f8791c80f11810a2e",
       "version_major": 2,
       "version_minor": 0
      },
      "text/plain": [
       "Batches:   0%|          | 0/1 [00:00<?, ?it/s]"
      ]
     },
     "metadata": {},
     "output_type": "display_data"
    },
    {
     "data": {
      "application/vnd.jupyter.widget-view+json": {
       "model_id": "35c0d5a1b775454a83480ee0a1fb70e9",
       "version_major": 2,
       "version_minor": 0
      },
      "text/plain": [
       "Batches:   0%|          | 0/5 [00:00<?, ?it/s]"
      ]
     },
     "metadata": {},
     "output_type": "display_data"
    },
    {
     "data": {
      "application/vnd.jupyter.widget-view+json": {
       "model_id": "b17e18d9847e4426a1799a0fa6997f77",
       "version_major": 2,
       "version_minor": 0
      },
      "text/plain": [
       "Batches:   0%|          | 0/1 [00:00<?, ?it/s]"
      ]
     },
     "metadata": {},
     "output_type": "display_data"
    },
    {
     "data": {
      "application/vnd.jupyter.widget-view+json": {
       "model_id": "a056cf44e86e42368629522ff5a8f74f",
       "version_major": 2,
       "version_minor": 0
      },
      "text/plain": [
       "Batches:   0%|          | 0/10 [00:00<?, ?it/s]"
      ]
     },
     "metadata": {},
     "output_type": "display_data"
    },
    {
     "name": "stderr",
     "output_type": "stream",
     "text": [
      "Processing rows:  74%|███████▍  | 37/50 [00:44<00:15,  1.16s/row]"
     ]
    },
    {
     "data": {
      "application/vnd.jupyter.widget-view+json": {
       "model_id": "bbcb8c806ffc4f11a0cd1db3f94b0377",
       "version_major": 2,
       "version_minor": 0
      },
      "text/plain": [
       "Batches:   0%|          | 0/1 [00:00<?, ?it/s]"
      ]
     },
     "metadata": {},
     "output_type": "display_data"
    },
    {
     "data": {
      "application/vnd.jupyter.widget-view+json": {
       "model_id": "445effd822c14ffbb32f6eeb9d42bf4d",
       "version_major": 2,
       "version_minor": 0
      },
      "text/plain": [
       "Batches:   0%|          | 0/5 [00:00<?, ?it/s]"
      ]
     },
     "metadata": {},
     "output_type": "display_data"
    },
    {
     "data": {
      "application/vnd.jupyter.widget-view+json": {
       "model_id": "016d0e9e1ab8417fbb842c3c01449233",
       "version_major": 2,
       "version_minor": 0
      },
      "text/plain": [
       "Batches:   0%|          | 0/1 [00:00<?, ?it/s]"
      ]
     },
     "metadata": {},
     "output_type": "display_data"
    },
    {
     "data": {
      "application/vnd.jupyter.widget-view+json": {
       "model_id": "1d3ee10f97dc4dc79a49235a0dbc2770",
       "version_major": 2,
       "version_minor": 0
      },
      "text/plain": [
       "Batches:   0%|          | 0/9 [00:00<?, ?it/s]"
      ]
     },
     "metadata": {},
     "output_type": "display_data"
    },
    {
     "data": {
      "application/vnd.jupyter.widget-view+json": {
       "model_id": "c134265fa8cb4ad29b77851e9b05eead",
       "version_major": 2,
       "version_minor": 0
      },
      "text/plain": [
       "Batches:   0%|          | 0/1 [00:00<?, ?it/s]"
      ]
     },
     "metadata": {},
     "output_type": "display_data"
    },
    {
     "data": {
      "application/vnd.jupyter.widget-view+json": {
       "model_id": "122da105c76a4c5cbbcbb942dd153f4f",
       "version_major": 2,
       "version_minor": 0
      },
      "text/plain": [
       "Batches:   0%|          | 0/5 [00:00<?, ?it/s]"
      ]
     },
     "metadata": {},
     "output_type": "display_data"
    },
    {
     "data": {
      "application/vnd.jupyter.widget-view+json": {
       "model_id": "784ef5bdcb4f4b4b871892c94991db56",
       "version_major": 2,
       "version_minor": 0
      },
      "text/plain": [
       "Batches:   0%|          | 0/1 [00:00<?, ?it/s]"
      ]
     },
     "metadata": {},
     "output_type": "display_data"
    },
    {
     "data": {
      "application/vnd.jupyter.widget-view+json": {
       "model_id": "7e2bca56304d4ba9afb2d0682ada0e4c",
       "version_major": 2,
       "version_minor": 0
      },
      "text/plain": [
       "Batches:   0%|          | 0/10 [00:00<?, ?it/s]"
      ]
     },
     "metadata": {},
     "output_type": "display_data"
    },
    {
     "name": "stderr",
     "output_type": "stream",
     "text": [
      "Processing rows:  76%|███████▌  | 38/50 [00:45<00:14,  1.17s/row]"
     ]
    },
    {
     "data": {
      "application/vnd.jupyter.widget-view+json": {
       "model_id": "3ecc83fe99bf48e4b7cead46772da602",
       "version_major": 2,
       "version_minor": 0
      },
      "text/plain": [
       "Batches:   0%|          | 0/1 [00:00<?, ?it/s]"
      ]
     },
     "metadata": {},
     "output_type": "display_data"
    },
    {
     "data": {
      "application/vnd.jupyter.widget-view+json": {
       "model_id": "e5e6fa86fa6b4b7ebb7127fb8ad35a6a",
       "version_major": 2,
       "version_minor": 0
      },
      "text/plain": [
       "Batches:   0%|          | 0/5 [00:00<?, ?it/s]"
      ]
     },
     "metadata": {},
     "output_type": "display_data"
    },
    {
     "data": {
      "application/vnd.jupyter.widget-view+json": {
       "model_id": "50be1bd2ba5045aa9cc8aa3696094c41",
       "version_major": 2,
       "version_minor": 0
      },
      "text/plain": [
       "Batches:   0%|          | 0/1 [00:00<?, ?it/s]"
      ]
     },
     "metadata": {},
     "output_type": "display_data"
    },
    {
     "data": {
      "application/vnd.jupyter.widget-view+json": {
       "model_id": "fa116b43dbb14d6d956ac0f5cf2bda44",
       "version_major": 2,
       "version_minor": 0
      },
      "text/plain": [
       "Batches:   0%|          | 0/10 [00:00<?, ?it/s]"
      ]
     },
     "metadata": {},
     "output_type": "display_data"
    },
    {
     "data": {
      "application/vnd.jupyter.widget-view+json": {
       "model_id": "dda2079860164d35b54ebd42da2d6bc7",
       "version_major": 2,
       "version_minor": 0
      },
      "text/plain": [
       "Batches:   0%|          | 0/1 [00:00<?, ?it/s]"
      ]
     },
     "metadata": {},
     "output_type": "display_data"
    },
    {
     "data": {
      "application/vnd.jupyter.widget-view+json": {
       "model_id": "4ffaee99b36843348028e3f8a578468b",
       "version_major": 2,
       "version_minor": 0
      },
      "text/plain": [
       "Batches:   0%|          | 0/5 [00:00<?, ?it/s]"
      ]
     },
     "metadata": {},
     "output_type": "display_data"
    },
    {
     "data": {
      "application/vnd.jupyter.widget-view+json": {
       "model_id": "62d28377fd0f4c9f86d4bc9f439f1d3b",
       "version_major": 2,
       "version_minor": 0
      },
      "text/plain": [
       "Batches:   0%|          | 0/1 [00:00<?, ?it/s]"
      ]
     },
     "metadata": {},
     "output_type": "display_data"
    },
    {
     "data": {
      "application/vnd.jupyter.widget-view+json": {
       "model_id": "44a9663c0cb34e7eaeff4eada3b5b20a",
       "version_major": 2,
       "version_minor": 0
      },
      "text/plain": [
       "Batches:   0%|          | 0/10 [00:00<?, ?it/s]"
      ]
     },
     "metadata": {},
     "output_type": "display_data"
    },
    {
     "name": "stderr",
     "output_type": "stream",
     "text": [
      "Processing rows:  78%|███████▊  | 39/50 [00:46<00:13,  1.20s/row]"
     ]
    },
    {
     "data": {
      "application/vnd.jupyter.widget-view+json": {
       "model_id": "5b8be11c2cf94859ad8e5936ded16733",
       "version_major": 2,
       "version_minor": 0
      },
      "text/plain": [
       "Batches:   0%|          | 0/1 [00:00<?, ?it/s]"
      ]
     },
     "metadata": {},
     "output_type": "display_data"
    },
    {
     "data": {
      "application/vnd.jupyter.widget-view+json": {
       "model_id": "3d87473f07ab476580d34b5b27a27032",
       "version_major": 2,
       "version_minor": 0
      },
      "text/plain": [
       "Batches:   0%|          | 0/5 [00:00<?, ?it/s]"
      ]
     },
     "metadata": {},
     "output_type": "display_data"
    },
    {
     "data": {
      "application/vnd.jupyter.widget-view+json": {
       "model_id": "5c7470a2c48a4ceda0cad86eb3158a24",
       "version_major": 2,
       "version_minor": 0
      },
      "text/plain": [
       "Batches:   0%|          | 0/1 [00:00<?, ?it/s]"
      ]
     },
     "metadata": {},
     "output_type": "display_data"
    },
    {
     "data": {
      "application/vnd.jupyter.widget-view+json": {
       "model_id": "e463efe590ea44dba164e8fedb1e95ff",
       "version_major": 2,
       "version_minor": 0
      },
      "text/plain": [
       "Batches:   0%|          | 0/9 [00:00<?, ?it/s]"
      ]
     },
     "metadata": {},
     "output_type": "display_data"
    },
    {
     "data": {
      "application/vnd.jupyter.widget-view+json": {
       "model_id": "3f89c343795942838d89b8807db1717f",
       "version_major": 2,
       "version_minor": 0
      },
      "text/plain": [
       "Batches:   0%|          | 0/1 [00:00<?, ?it/s]"
      ]
     },
     "metadata": {},
     "output_type": "display_data"
    },
    {
     "data": {
      "application/vnd.jupyter.widget-view+json": {
       "model_id": "e4e21c2c64d641aeb5bf7314c8f86eb9",
       "version_major": 2,
       "version_minor": 0
      },
      "text/plain": [
       "Batches:   0%|          | 0/5 [00:00<?, ?it/s]"
      ]
     },
     "metadata": {},
     "output_type": "display_data"
    },
    {
     "data": {
      "application/vnd.jupyter.widget-view+json": {
       "model_id": "1c8abb3b0da54df4b1b7aa2626c3c1ce",
       "version_major": 2,
       "version_minor": 0
      },
      "text/plain": [
       "Batches:   0%|          | 0/1 [00:00<?, ?it/s]"
      ]
     },
     "metadata": {},
     "output_type": "display_data"
    },
    {
     "data": {
      "application/vnd.jupyter.widget-view+json": {
       "model_id": "1edba2d1c59d4e2eb28898f3e389b28b",
       "version_major": 2,
       "version_minor": 0
      },
      "text/plain": [
       "Batches:   0%|          | 0/7 [00:00<?, ?it/s]"
      ]
     },
     "metadata": {},
     "output_type": "display_data"
    },
    {
     "name": "stderr",
     "output_type": "stream",
     "text": [
      "Processing rows:  80%|████████  | 40/50 [00:47<00:11,  1.20s/row]"
     ]
    },
    {
     "data": {
      "application/vnd.jupyter.widget-view+json": {
       "model_id": "4db68b8e2988490da5cca1976742c700",
       "version_major": 2,
       "version_minor": 0
      },
      "text/plain": [
       "Batches:   0%|          | 0/1 [00:00<?, ?it/s]"
      ]
     },
     "metadata": {},
     "output_type": "display_data"
    },
    {
     "data": {
      "application/vnd.jupyter.widget-view+json": {
       "model_id": "41cbd890c1ae4d83b6d1570890b1f1a5",
       "version_major": 2,
       "version_minor": 0
      },
      "text/plain": [
       "Batches:   0%|          | 0/5 [00:00<?, ?it/s]"
      ]
     },
     "metadata": {},
     "output_type": "display_data"
    },
    {
     "data": {
      "application/vnd.jupyter.widget-view+json": {
       "model_id": "53e07606f69743e6b4fce2faa60b4b3a",
       "version_major": 2,
       "version_minor": 0
      },
      "text/plain": [
       "Batches:   0%|          | 0/1 [00:00<?, ?it/s]"
      ]
     },
     "metadata": {},
     "output_type": "display_data"
    },
    {
     "data": {
      "application/vnd.jupyter.widget-view+json": {
       "model_id": "453e9e6ced424938ac6c37cbafa440ec",
       "version_major": 2,
       "version_minor": 0
      },
      "text/plain": [
       "Batches:   0%|          | 0/7 [00:00<?, ?it/s]"
      ]
     },
     "metadata": {},
     "output_type": "display_data"
    },
    {
     "data": {
      "application/vnd.jupyter.widget-view+json": {
       "model_id": "cb5a4aaffd524263b359040faa5b3b33",
       "version_major": 2,
       "version_minor": 0
      },
      "text/plain": [
       "Batches:   0%|          | 0/1 [00:00<?, ?it/s]"
      ]
     },
     "metadata": {},
     "output_type": "display_data"
    },
    {
     "data": {
      "application/vnd.jupyter.widget-view+json": {
       "model_id": "1694a8be18c643f2be3a8220bccb1f8d",
       "version_major": 2,
       "version_minor": 0
      },
      "text/plain": [
       "Batches:   0%|          | 0/5 [00:00<?, ?it/s]"
      ]
     },
     "metadata": {},
     "output_type": "display_data"
    },
    {
     "data": {
      "application/vnd.jupyter.widget-view+json": {
       "model_id": "d4c0c73bc7934ab7afcbb6363d5c32d3",
       "version_major": 2,
       "version_minor": 0
      },
      "text/plain": [
       "Batches:   0%|          | 0/1 [00:00<?, ?it/s]"
      ]
     },
     "metadata": {},
     "output_type": "display_data"
    },
    {
     "data": {
      "application/vnd.jupyter.widget-view+json": {
       "model_id": "1def96d19c984f62a8933c559cf541d4",
       "version_major": 2,
       "version_minor": 0
      },
      "text/plain": [
       "Batches:   0%|          | 0/8 [00:00<?, ?it/s]"
      ]
     },
     "metadata": {},
     "output_type": "display_data"
    },
    {
     "name": "stderr",
     "output_type": "stream",
     "text": [
      "Processing rows:  82%|████████▏ | 41/50 [00:48<00:10,  1.17s/row]"
     ]
    },
    {
     "data": {
      "application/vnd.jupyter.widget-view+json": {
       "model_id": "a2891a4951a349f1ae10f9e31c6299ed",
       "version_major": 2,
       "version_minor": 0
      },
      "text/plain": [
       "Batches:   0%|          | 0/1 [00:00<?, ?it/s]"
      ]
     },
     "metadata": {},
     "output_type": "display_data"
    },
    {
     "data": {
      "application/vnd.jupyter.widget-view+json": {
       "model_id": "4fc0b0078a9e45e2806be39e5cda2b93",
       "version_major": 2,
       "version_minor": 0
      },
      "text/plain": [
       "Batches:   0%|          | 0/5 [00:00<?, ?it/s]"
      ]
     },
     "metadata": {},
     "output_type": "display_data"
    },
    {
     "data": {
      "application/vnd.jupyter.widget-view+json": {
       "model_id": "8dbb2abaf4ae47e083cc78f3442572a9",
       "version_major": 2,
       "version_minor": 0
      },
      "text/plain": [
       "Batches:   0%|          | 0/1 [00:00<?, ?it/s]"
      ]
     },
     "metadata": {},
     "output_type": "display_data"
    },
    {
     "data": {
      "application/vnd.jupyter.widget-view+json": {
       "model_id": "ee4993798b6545df97ae21a550bc3966",
       "version_major": 2,
       "version_minor": 0
      },
      "text/plain": [
       "Batches:   0%|          | 0/9 [00:00<?, ?it/s]"
      ]
     },
     "metadata": {},
     "output_type": "display_data"
    },
    {
     "data": {
      "application/vnd.jupyter.widget-view+json": {
       "model_id": "1796f5d1c6d74ea3819a46fbb02e483d",
       "version_major": 2,
       "version_minor": 0
      },
      "text/plain": [
       "Batches:   0%|          | 0/1 [00:00<?, ?it/s]"
      ]
     },
     "metadata": {},
     "output_type": "display_data"
    },
    {
     "data": {
      "application/vnd.jupyter.widget-view+json": {
       "model_id": "ac3664c6f9eb48eeab372f9654bce51a",
       "version_major": 2,
       "version_minor": 0
      },
      "text/plain": [
       "Batches:   0%|          | 0/5 [00:00<?, ?it/s]"
      ]
     },
     "metadata": {},
     "output_type": "display_data"
    },
    {
     "data": {
      "application/vnd.jupyter.widget-view+json": {
       "model_id": "f4364f5564284699a55e6ce51ecfe20b",
       "version_major": 2,
       "version_minor": 0
      },
      "text/plain": [
       "Batches:   0%|          | 0/1 [00:00<?, ?it/s]"
      ]
     },
     "metadata": {},
     "output_type": "display_data"
    },
    {
     "data": {
      "application/vnd.jupyter.widget-view+json": {
       "model_id": "79b7418138224e798b5d141f181b340f",
       "version_major": 2,
       "version_minor": 0
      },
      "text/plain": [
       "Batches:   0%|          | 0/10 [00:00<?, ?it/s]"
      ]
     },
     "metadata": {},
     "output_type": "display_data"
    },
    {
     "name": "stderr",
     "output_type": "stream",
     "text": [
      "Processing rows:  84%|████████▍ | 42/50 [00:50<00:09,  1.18s/row]"
     ]
    },
    {
     "data": {
      "application/vnd.jupyter.widget-view+json": {
       "model_id": "bfb2a2f563f24b2f85a6d802e78c96f7",
       "version_major": 2,
       "version_minor": 0
      },
      "text/plain": [
       "Batches:   0%|          | 0/1 [00:00<?, ?it/s]"
      ]
     },
     "metadata": {},
     "output_type": "display_data"
    },
    {
     "data": {
      "application/vnd.jupyter.widget-view+json": {
       "model_id": "2517b1f986a54e34b0675d4338f50f6c",
       "version_major": 2,
       "version_minor": 0
      },
      "text/plain": [
       "Batches:   0%|          | 0/5 [00:00<?, ?it/s]"
      ]
     },
     "metadata": {},
     "output_type": "display_data"
    },
    {
     "data": {
      "application/vnd.jupyter.widget-view+json": {
       "model_id": "46fae9296bf64eeeb013e3b6a1534e08",
       "version_major": 2,
       "version_minor": 0
      },
      "text/plain": [
       "Batches:   0%|          | 0/1 [00:00<?, ?it/s]"
      ]
     },
     "metadata": {},
     "output_type": "display_data"
    },
    {
     "data": {
      "application/vnd.jupyter.widget-view+json": {
       "model_id": "379e5c4f81f049998c410440da2c23a1",
       "version_major": 2,
       "version_minor": 0
      },
      "text/plain": [
       "Batches:   0%|          | 0/6 [00:00<?, ?it/s]"
      ]
     },
     "metadata": {},
     "output_type": "display_data"
    },
    {
     "data": {
      "application/vnd.jupyter.widget-view+json": {
       "model_id": "ff545374b82d429baca9a8e899ff800a",
       "version_major": 2,
       "version_minor": 0
      },
      "text/plain": [
       "Batches:   0%|          | 0/1 [00:00<?, ?it/s]"
      ]
     },
     "metadata": {},
     "output_type": "display_data"
    },
    {
     "data": {
      "application/vnd.jupyter.widget-view+json": {
       "model_id": "fdb252febfc74139b9908a734757f1d0",
       "version_major": 2,
       "version_minor": 0
      },
      "text/plain": [
       "Batches:   0%|          | 0/5 [00:00<?, ?it/s]"
      ]
     },
     "metadata": {},
     "output_type": "display_data"
    },
    {
     "data": {
      "application/vnd.jupyter.widget-view+json": {
       "model_id": "89b865f1cdfd4a769025f02e5f0938e9",
       "version_major": 2,
       "version_minor": 0
      },
      "text/plain": [
       "Batches:   0%|          | 0/1 [00:00<?, ?it/s]"
      ]
     },
     "metadata": {},
     "output_type": "display_data"
    },
    {
     "data": {
      "application/vnd.jupyter.widget-view+json": {
       "model_id": "91bb9a52ab3d49709bf9712be6719d53",
       "version_major": 2,
       "version_minor": 0
      },
      "text/plain": [
       "Batches:   0%|          | 0/6 [00:00<?, ?it/s]"
      ]
     },
     "metadata": {},
     "output_type": "display_data"
    },
    {
     "name": "stderr",
     "output_type": "stream",
     "text": [
      "Processing rows:  86%|████████▌ | 43/50 [00:51<00:07,  1.14s/row]"
     ]
    },
    {
     "data": {
      "application/vnd.jupyter.widget-view+json": {
       "model_id": "206fd798a8734311940f8ab5f3d5c2f0",
       "version_major": 2,
       "version_minor": 0
      },
      "text/plain": [
       "Batches:   0%|          | 0/1 [00:00<?, ?it/s]"
      ]
     },
     "metadata": {},
     "output_type": "display_data"
    },
    {
     "data": {
      "application/vnd.jupyter.widget-view+json": {
       "model_id": "89f3a2e07ab74de281f5b3d2ece1d5ae",
       "version_major": 2,
       "version_minor": 0
      },
      "text/plain": [
       "Batches:   0%|          | 0/5 [00:00<?, ?it/s]"
      ]
     },
     "metadata": {},
     "output_type": "display_data"
    },
    {
     "data": {
      "application/vnd.jupyter.widget-view+json": {
       "model_id": "c07fc5753e704fc58b1bd02815d3d49b",
       "version_major": 2,
       "version_minor": 0
      },
      "text/plain": [
       "Batches:   0%|          | 0/1 [00:00<?, ?it/s]"
      ]
     },
     "metadata": {},
     "output_type": "display_data"
    },
    {
     "data": {
      "application/vnd.jupyter.widget-view+json": {
       "model_id": "4b9c8ff7eff04d2691d9907fca48c7f3",
       "version_major": 2,
       "version_minor": 0
      },
      "text/plain": [
       "Batches:   0%|          | 0/9 [00:00<?, ?it/s]"
      ]
     },
     "metadata": {},
     "output_type": "display_data"
    },
    {
     "data": {
      "application/vnd.jupyter.widget-view+json": {
       "model_id": "96f01de385bd4fdaa95316bbe847c2b1",
       "version_major": 2,
       "version_minor": 0
      },
      "text/plain": [
       "Batches:   0%|          | 0/1 [00:00<?, ?it/s]"
      ]
     },
     "metadata": {},
     "output_type": "display_data"
    },
    {
     "data": {
      "application/vnd.jupyter.widget-view+json": {
       "model_id": "5f414b97d9e3446281e9466fd8a903c8",
       "version_major": 2,
       "version_minor": 0
      },
      "text/plain": [
       "Batches:   0%|          | 0/5 [00:00<?, ?it/s]"
      ]
     },
     "metadata": {},
     "output_type": "display_data"
    },
    {
     "data": {
      "application/vnd.jupyter.widget-view+json": {
       "model_id": "39052d87d0d24cf5823a074681bb0164",
       "version_major": 2,
       "version_minor": 0
      },
      "text/plain": [
       "Batches:   0%|          | 0/1 [00:00<?, ?it/s]"
      ]
     },
     "metadata": {},
     "output_type": "display_data"
    },
    {
     "data": {
      "application/vnd.jupyter.widget-view+json": {
       "model_id": "ceb634d292404886a2c7ad0e88f47cfb",
       "version_major": 2,
       "version_minor": 0
      },
      "text/plain": [
       "Batches:   0%|          | 0/7 [00:00<?, ?it/s]"
      ]
     },
     "metadata": {},
     "output_type": "display_data"
    },
    {
     "name": "stderr",
     "output_type": "stream",
     "text": [
      "Processing rows:  88%|████████▊ | 44/50 [00:52<00:06,  1.14s/row]"
     ]
    },
    {
     "data": {
      "application/vnd.jupyter.widget-view+json": {
       "model_id": "a3ca17ef284f4abea4be4c8e79071521",
       "version_major": 2,
       "version_minor": 0
      },
      "text/plain": [
       "Batches:   0%|          | 0/1 [00:00<?, ?it/s]"
      ]
     },
     "metadata": {},
     "output_type": "display_data"
    },
    {
     "data": {
      "application/vnd.jupyter.widget-view+json": {
       "model_id": "efdfa81cd4a64fa69dafcd317821dc86",
       "version_major": 2,
       "version_minor": 0
      },
      "text/plain": [
       "Batches:   0%|          | 0/5 [00:00<?, ?it/s]"
      ]
     },
     "metadata": {},
     "output_type": "display_data"
    },
    {
     "data": {
      "application/vnd.jupyter.widget-view+json": {
       "model_id": "44cdc21c306b4bbc8b4235f8eb9cb03f",
       "version_major": 2,
       "version_minor": 0
      },
      "text/plain": [
       "Batches:   0%|          | 0/1 [00:00<?, ?it/s]"
      ]
     },
     "metadata": {},
     "output_type": "display_data"
    },
    {
     "data": {
      "application/vnd.jupyter.widget-view+json": {
       "model_id": "db779a267e3f4144b5439af81dfa574e",
       "version_major": 2,
       "version_minor": 0
      },
      "text/plain": [
       "Batches:   0%|          | 0/9 [00:00<?, ?it/s]"
      ]
     },
     "metadata": {},
     "output_type": "display_data"
    },
    {
     "data": {
      "application/vnd.jupyter.widget-view+json": {
       "model_id": "bc1fcd85dfe84a60a24251504eb86df1",
       "version_major": 2,
       "version_minor": 0
      },
      "text/plain": [
       "Batches:   0%|          | 0/1 [00:00<?, ?it/s]"
      ]
     },
     "metadata": {},
     "output_type": "display_data"
    },
    {
     "data": {
      "application/vnd.jupyter.widget-view+json": {
       "model_id": "3560862e156343e6812b65b2f6f67b4f",
       "version_major": 2,
       "version_minor": 0
      },
      "text/plain": [
       "Batches:   0%|          | 0/5 [00:00<?, ?it/s]"
      ]
     },
     "metadata": {},
     "output_type": "display_data"
    },
    {
     "data": {
      "application/vnd.jupyter.widget-view+json": {
       "model_id": "7be1172ca84c42bcac771ff8548894a0",
       "version_major": 2,
       "version_minor": 0
      },
      "text/plain": [
       "Batches:   0%|          | 0/1 [00:00<?, ?it/s]"
      ]
     },
     "metadata": {},
     "output_type": "display_data"
    },
    {
     "data": {
      "application/vnd.jupyter.widget-view+json": {
       "model_id": "35afeb3f20614ab2972c8926526157f4",
       "version_major": 2,
       "version_minor": 0
      },
      "text/plain": [
       "Batches:   0%|          | 0/9 [00:00<?, ?it/s]"
      ]
     },
     "metadata": {},
     "output_type": "display_data"
    },
    {
     "name": "stderr",
     "output_type": "stream",
     "text": [
      "Processing rows:  90%|█████████ | 45/50 [00:53<00:05,  1.15s/row]"
     ]
    },
    {
     "data": {
      "application/vnd.jupyter.widget-view+json": {
       "model_id": "c1a0e3efc69a4949bfb599a1eb8d598e",
       "version_major": 2,
       "version_minor": 0
      },
      "text/plain": [
       "Batches:   0%|          | 0/1 [00:00<?, ?it/s]"
      ]
     },
     "metadata": {},
     "output_type": "display_data"
    },
    {
     "data": {
      "application/vnd.jupyter.widget-view+json": {
       "model_id": "1abbde1b2c704cb79aaa2b6bf292b3eb",
       "version_major": 2,
       "version_minor": 0
      },
      "text/plain": [
       "Batches:   0%|          | 0/5 [00:00<?, ?it/s]"
      ]
     },
     "metadata": {},
     "output_type": "display_data"
    },
    {
     "data": {
      "application/vnd.jupyter.widget-view+json": {
       "model_id": "900d93770fd346848ee1c495322ec200",
       "version_major": 2,
       "version_minor": 0
      },
      "text/plain": [
       "Batches:   0%|          | 0/1 [00:00<?, ?it/s]"
      ]
     },
     "metadata": {},
     "output_type": "display_data"
    },
    {
     "data": {
      "application/vnd.jupyter.widget-view+json": {
       "model_id": "9327eaf73eb24d7ab7b30fa7d7a996be",
       "version_major": 2,
       "version_minor": 0
      },
      "text/plain": [
       "Batches:   0%|          | 0/9 [00:00<?, ?it/s]"
      ]
     },
     "metadata": {},
     "output_type": "display_data"
    },
    {
     "data": {
      "application/vnd.jupyter.widget-view+json": {
       "model_id": "ba67c7fa73d0433f8850a457e490e7e7",
       "version_major": 2,
       "version_minor": 0
      },
      "text/plain": [
       "Batches:   0%|          | 0/1 [00:00<?, ?it/s]"
      ]
     },
     "metadata": {},
     "output_type": "display_data"
    },
    {
     "data": {
      "application/vnd.jupyter.widget-view+json": {
       "model_id": "b3e73b7eb9df4dc49e89a6ae5c4afb2e",
       "version_major": 2,
       "version_minor": 0
      },
      "text/plain": [
       "Batches:   0%|          | 0/5 [00:00<?, ?it/s]"
      ]
     },
     "metadata": {},
     "output_type": "display_data"
    },
    {
     "data": {
      "application/vnd.jupyter.widget-view+json": {
       "model_id": "a41585a0d23944dfa6136c2857f05209",
       "version_major": 2,
       "version_minor": 0
      },
      "text/plain": [
       "Batches:   0%|          | 0/1 [00:00<?, ?it/s]"
      ]
     },
     "metadata": {},
     "output_type": "display_data"
    },
    {
     "data": {
      "application/vnd.jupyter.widget-view+json": {
       "model_id": "7811c335ec384b2190a7a24873b37416",
       "version_major": 2,
       "version_minor": 0
      },
      "text/plain": [
       "Batches:   0%|          | 0/9 [00:00<?, ?it/s]"
      ]
     },
     "metadata": {},
     "output_type": "display_data"
    },
    {
     "name": "stderr",
     "output_type": "stream",
     "text": [
      "Processing rows:  92%|█████████▏| 46/50 [00:54<00:04,  1.16s/row]"
     ]
    },
    {
     "data": {
      "application/vnd.jupyter.widget-view+json": {
       "model_id": "e51d19c7a4c84381aced5122c058e869",
       "version_major": 2,
       "version_minor": 0
      },
      "text/plain": [
       "Batches:   0%|          | 0/1 [00:00<?, ?it/s]"
      ]
     },
     "metadata": {},
     "output_type": "display_data"
    },
    {
     "data": {
      "application/vnd.jupyter.widget-view+json": {
       "model_id": "85754f7728c549778e65435763f487f7",
       "version_major": 2,
       "version_minor": 0
      },
      "text/plain": [
       "Batches:   0%|          | 0/5 [00:00<?, ?it/s]"
      ]
     },
     "metadata": {},
     "output_type": "display_data"
    },
    {
     "data": {
      "application/vnd.jupyter.widget-view+json": {
       "model_id": "4ff3de437fda4c438b88a41fa4d69a91",
       "version_major": 2,
       "version_minor": 0
      },
      "text/plain": [
       "Batches:   0%|          | 0/1 [00:00<?, ?it/s]"
      ]
     },
     "metadata": {},
     "output_type": "display_data"
    },
    {
     "data": {
      "application/vnd.jupyter.widget-view+json": {
       "model_id": "a726603b27614d959a5da076ce0d0926",
       "version_major": 2,
       "version_minor": 0
      },
      "text/plain": [
       "Batches:   0%|          | 0/9 [00:00<?, ?it/s]"
      ]
     },
     "metadata": {},
     "output_type": "display_data"
    },
    {
     "data": {
      "application/vnd.jupyter.widget-view+json": {
       "model_id": "da417f2a239c426aaf541d12eed9604f",
       "version_major": 2,
       "version_minor": 0
      },
      "text/plain": [
       "Batches:   0%|          | 0/1 [00:00<?, ?it/s]"
      ]
     },
     "metadata": {},
     "output_type": "display_data"
    },
    {
     "data": {
      "application/vnd.jupyter.widget-view+json": {
       "model_id": "733b7d38268245f098b4a4801f06c738",
       "version_major": 2,
       "version_minor": 0
      },
      "text/plain": [
       "Batches:   0%|          | 0/5 [00:00<?, ?it/s]"
      ]
     },
     "metadata": {},
     "output_type": "display_data"
    },
    {
     "data": {
      "application/vnd.jupyter.widget-view+json": {
       "model_id": "2330e037d4c74dc0a060799e898737d5",
       "version_major": 2,
       "version_minor": 0
      },
      "text/plain": [
       "Batches:   0%|          | 0/1 [00:00<?, ?it/s]"
      ]
     },
     "metadata": {},
     "output_type": "display_data"
    },
    {
     "data": {
      "application/vnd.jupyter.widget-view+json": {
       "model_id": "e712b196f7ce4b2ab5cef7b0555ad2d3",
       "version_major": 2,
       "version_minor": 0
      },
      "text/plain": [
       "Batches:   0%|          | 0/9 [00:00<?, ?it/s]"
      ]
     },
     "metadata": {},
     "output_type": "display_data"
    },
    {
     "name": "stderr",
     "output_type": "stream",
     "text": [
      "Processing rows:  94%|█████████▍| 47/50 [00:55<00:03,  1.16s/row]"
     ]
    },
    {
     "data": {
      "application/vnd.jupyter.widget-view+json": {
       "model_id": "001c33bddb2c437d8c2e35f7763ec855",
       "version_major": 2,
       "version_minor": 0
      },
      "text/plain": [
       "Batches:   0%|          | 0/1 [00:00<?, ?it/s]"
      ]
     },
     "metadata": {},
     "output_type": "display_data"
    },
    {
     "data": {
      "application/vnd.jupyter.widget-view+json": {
       "model_id": "15cb4c5372564601a6f7f5901ee56c2d",
       "version_major": 2,
       "version_minor": 0
      },
      "text/plain": [
       "Batches:   0%|          | 0/5 [00:00<?, ?it/s]"
      ]
     },
     "metadata": {},
     "output_type": "display_data"
    },
    {
     "data": {
      "application/vnd.jupyter.widget-view+json": {
       "model_id": "c93be6ebec7d48a6bc38c361d0d2e76b",
       "version_major": 2,
       "version_minor": 0
      },
      "text/plain": [
       "Batches:   0%|          | 0/1 [00:00<?, ?it/s]"
      ]
     },
     "metadata": {},
     "output_type": "display_data"
    },
    {
     "data": {
      "application/vnd.jupyter.widget-view+json": {
       "model_id": "5a080e9932a94718b835c07321bbe2cc",
       "version_major": 2,
       "version_minor": 0
      },
      "text/plain": [
       "Batches:   0%|          | 0/7 [00:00<?, ?it/s]"
      ]
     },
     "metadata": {},
     "output_type": "display_data"
    },
    {
     "data": {
      "application/vnd.jupyter.widget-view+json": {
       "model_id": "630c3ab03f344cc785010be03fa0473d",
       "version_major": 2,
       "version_minor": 0
      },
      "text/plain": [
       "Batches:   0%|          | 0/1 [00:00<?, ?it/s]"
      ]
     },
     "metadata": {},
     "output_type": "display_data"
    },
    {
     "data": {
      "application/vnd.jupyter.widget-view+json": {
       "model_id": "be158bfd6fe74e6ea1a5e5c9291fe8bc",
       "version_major": 2,
       "version_minor": 0
      },
      "text/plain": [
       "Batches:   0%|          | 0/5 [00:00<?, ?it/s]"
      ]
     },
     "metadata": {},
     "output_type": "display_data"
    },
    {
     "data": {
      "application/vnd.jupyter.widget-view+json": {
       "model_id": "457cb9fc6e80409fb4fedfaabf6d4393",
       "version_major": 2,
       "version_minor": 0
      },
      "text/plain": [
       "Batches:   0%|          | 0/1 [00:00<?, ?it/s]"
      ]
     },
     "metadata": {},
     "output_type": "display_data"
    },
    {
     "data": {
      "application/vnd.jupyter.widget-view+json": {
       "model_id": "f3b538be74c6404a93052bbbe5f25df6",
       "version_major": 2,
       "version_minor": 0
      },
      "text/plain": [
       "Batches:   0%|          | 0/6 [00:00<?, ?it/s]"
      ]
     },
     "metadata": {},
     "output_type": "display_data"
    },
    {
     "name": "stderr",
     "output_type": "stream",
     "text": [
      "Processing rows:  96%|█████████▌| 48/50 [00:56<00:02,  1.14s/row]"
     ]
    },
    {
     "data": {
      "application/vnd.jupyter.widget-view+json": {
       "model_id": "73f66cbca3e64801ac984410147cd919",
       "version_major": 2,
       "version_minor": 0
      },
      "text/plain": [
       "Batches:   0%|          | 0/1 [00:00<?, ?it/s]"
      ]
     },
     "metadata": {},
     "output_type": "display_data"
    },
    {
     "data": {
      "application/vnd.jupyter.widget-view+json": {
       "model_id": "7a1bc7b8c73d4910a30c56ebff83666a",
       "version_major": 2,
       "version_minor": 0
      },
      "text/plain": [
       "Batches:   0%|          | 0/5 [00:00<?, ?it/s]"
      ]
     },
     "metadata": {},
     "output_type": "display_data"
    },
    {
     "data": {
      "application/vnd.jupyter.widget-view+json": {
       "model_id": "75ccbe80ba55471d80dbedc9fb7587d6",
       "version_major": 2,
       "version_minor": 0
      },
      "text/plain": [
       "Batches:   0%|          | 0/1 [00:00<?, ?it/s]"
      ]
     },
     "metadata": {},
     "output_type": "display_data"
    },
    {
     "data": {
      "application/vnd.jupyter.widget-view+json": {
       "model_id": "688a4d3860f443e1a385a9deada581a1",
       "version_major": 2,
       "version_minor": 0
      },
      "text/plain": [
       "Batches:   0%|          | 0/9 [00:00<?, ?it/s]"
      ]
     },
     "metadata": {},
     "output_type": "display_data"
    },
    {
     "data": {
      "application/vnd.jupyter.widget-view+json": {
       "model_id": "5f2b03b757e34109962e12064e7bcec4",
       "version_major": 2,
       "version_minor": 0
      },
      "text/plain": [
       "Batches:   0%|          | 0/1 [00:00<?, ?it/s]"
      ]
     },
     "metadata": {},
     "output_type": "display_data"
    },
    {
     "data": {
      "application/vnd.jupyter.widget-view+json": {
       "model_id": "feebfa8af44e48d492a6fbd23bdcf770",
       "version_major": 2,
       "version_minor": 0
      },
      "text/plain": [
       "Batches:   0%|          | 0/5 [00:00<?, ?it/s]"
      ]
     },
     "metadata": {},
     "output_type": "display_data"
    },
    {
     "data": {
      "application/vnd.jupyter.widget-view+json": {
       "model_id": "ebb8b003144e481b996f4a6c5b42582f",
       "version_major": 2,
       "version_minor": 0
      },
      "text/plain": [
       "Batches:   0%|          | 0/1 [00:00<?, ?it/s]"
      ]
     },
     "metadata": {},
     "output_type": "display_data"
    },
    {
     "data": {
      "application/vnd.jupyter.widget-view+json": {
       "model_id": "4afa9aa74cc14b1ca7fb136c0820d10b",
       "version_major": 2,
       "version_minor": 0
      },
      "text/plain": [
       "Batches:   0%|          | 0/9 [00:00<?, ?it/s]"
      ]
     },
     "metadata": {},
     "output_type": "display_data"
    },
    {
     "name": "stderr",
     "output_type": "stream",
     "text": [
      "Processing rows:  98%|█████████▊| 49/50 [00:57<00:01,  1.15s/row]"
     ]
    },
    {
     "data": {
      "application/vnd.jupyter.widget-view+json": {
       "model_id": "881ad1f2cc7e406b92eb576e34ba9116",
       "version_major": 2,
       "version_minor": 0
      },
      "text/plain": [
       "Batches:   0%|          | 0/1 [00:00<?, ?it/s]"
      ]
     },
     "metadata": {},
     "output_type": "display_data"
    },
    {
     "data": {
      "application/vnd.jupyter.widget-view+json": {
       "model_id": "359d6f52fcc0411e907916ec753bd656",
       "version_major": 2,
       "version_minor": 0
      },
      "text/plain": [
       "Batches:   0%|          | 0/5 [00:00<?, ?it/s]"
      ]
     },
     "metadata": {},
     "output_type": "display_data"
    },
    {
     "data": {
      "application/vnd.jupyter.widget-view+json": {
       "model_id": "3ccdb8c76a27429483bd034ff07e8a15",
       "version_major": 2,
       "version_minor": 0
      },
      "text/plain": [
       "Batches:   0%|          | 0/1 [00:00<?, ?it/s]"
      ]
     },
     "metadata": {},
     "output_type": "display_data"
    },
    {
     "data": {
      "application/vnd.jupyter.widget-view+json": {
       "model_id": "9f741d7d66904ad7b627135f85f0347a",
       "version_major": 2,
       "version_minor": 0
      },
      "text/plain": [
       "Batches:   0%|          | 0/7 [00:00<?, ?it/s]"
      ]
     },
     "metadata": {},
     "output_type": "display_data"
    },
    {
     "data": {
      "application/vnd.jupyter.widget-view+json": {
       "model_id": "733da137efef45e8b92421e5f76482a9",
       "version_major": 2,
       "version_minor": 0
      },
      "text/plain": [
       "Batches:   0%|          | 0/1 [00:00<?, ?it/s]"
      ]
     },
     "metadata": {},
     "output_type": "display_data"
    },
    {
     "data": {
      "application/vnd.jupyter.widget-view+json": {
       "model_id": "bd5de13b3b484686a43652d3a4944f33",
       "version_major": 2,
       "version_minor": 0
      },
      "text/plain": [
       "Batches:   0%|          | 0/5 [00:00<?, ?it/s]"
      ]
     },
     "metadata": {},
     "output_type": "display_data"
    },
    {
     "data": {
      "application/vnd.jupyter.widget-view+json": {
       "model_id": "1e0bbcd7444148168b08b7f129d174a2",
       "version_major": 2,
       "version_minor": 0
      },
      "text/plain": [
       "Batches:   0%|          | 0/1 [00:00<?, ?it/s]"
      ]
     },
     "metadata": {},
     "output_type": "display_data"
    },
    {
     "data": {
      "application/vnd.jupyter.widget-view+json": {
       "model_id": "be536e2956264e64930e6a6e091bff96",
       "version_major": 2,
       "version_minor": 0
      },
      "text/plain": [
       "Batches:   0%|          | 0/6 [00:00<?, ?it/s]"
      ]
     },
     "metadata": {},
     "output_type": "display_data"
    },
    {
     "name": "stderr",
     "output_type": "stream",
     "text": [
      "Processing rows: 100%|██████████| 50/50 [00:59<00:00,  1.18s/row]\n",
      "Processing rows:   0%|          | 0/50 [00:00<?, ?row/s]"
     ]
    },
    {
     "data": {
      "application/vnd.jupyter.widget-view+json": {
       "model_id": "7d3a5ed7f4f64345b377c312b2d162ee",
       "version_major": 2,
       "version_minor": 0
      },
      "text/plain": [
       "Batches:   0%|          | 0/1 [00:00<?, ?it/s]"
      ]
     },
     "metadata": {},
     "output_type": "display_data"
    },
    {
     "data": {
      "application/vnd.jupyter.widget-view+json": {
       "model_id": "a2faa7200fdb4a179ac2115aa42deea8",
       "version_major": 2,
       "version_minor": 0
      },
      "text/plain": [
       "Batches:   0%|          | 0/10 [00:00<?, ?it/s]"
      ]
     },
     "metadata": {},
     "output_type": "display_data"
    },
    {
     "data": {
      "application/vnd.jupyter.widget-view+json": {
       "model_id": "53773212df2644d88e89a8d9087a807f",
       "version_major": 2,
       "version_minor": 0
      },
      "text/plain": [
       "Batches:   0%|          | 0/1 [00:00<?, ?it/s]"
      ]
     },
     "metadata": {},
     "output_type": "display_data"
    },
    {
     "data": {
      "application/vnd.jupyter.widget-view+json": {
       "model_id": "eecc1c472cc3418388a6d75b27e8ddbe",
       "version_major": 2,
       "version_minor": 0
      },
      "text/plain": [
       "Batches:   0%|          | 0/19 [00:00<?, ?it/s]"
      ]
     },
     "metadata": {},
     "output_type": "display_data"
    },
    {
     "data": {
      "application/vnd.jupyter.widget-view+json": {
       "model_id": "e5f973a6feb649a48d8669133cd2c170",
       "version_major": 2,
       "version_minor": 0
      },
      "text/plain": [
       "Batches:   0%|          | 0/1 [00:00<?, ?it/s]"
      ]
     },
     "metadata": {},
     "output_type": "display_data"
    },
    {
     "data": {
      "application/vnd.jupyter.widget-view+json": {
       "model_id": "8e1295945da64b4cbd79d8faf4aa8f73",
       "version_major": 2,
       "version_minor": 0
      },
      "text/plain": [
       "Batches:   0%|          | 0/10 [00:00<?, ?it/s]"
      ]
     },
     "metadata": {},
     "output_type": "display_data"
    },
    {
     "data": {
      "application/vnd.jupyter.widget-view+json": {
       "model_id": "85a0110a5cfa48a286660edad1409ffa",
       "version_major": 2,
       "version_minor": 0
      },
      "text/plain": [
       "Batches:   0%|          | 0/1 [00:00<?, ?it/s]"
      ]
     },
     "metadata": {},
     "output_type": "display_data"
    },
    {
     "data": {
      "application/vnd.jupyter.widget-view+json": {
       "model_id": "881a6746e54f4999924d5b84ea385959",
       "version_major": 2,
       "version_minor": 0
      },
      "text/plain": [
       "Batches:   0%|          | 0/17 [00:00<?, ?it/s]"
      ]
     },
     "metadata": {},
     "output_type": "display_data"
    },
    {
     "name": "stderr",
     "output_type": "stream",
     "text": [
      "Processing rows:   2%|▏         | 1/50 [00:01<01:33,  1.91s/row]"
     ]
    },
    {
     "data": {
      "application/vnd.jupyter.widget-view+json": {
       "model_id": "a9578cebd53f408cb9b1a9b4ff3300e4",
       "version_major": 2,
       "version_minor": 0
      },
      "text/plain": [
       "Batches:   0%|          | 0/1 [00:00<?, ?it/s]"
      ]
     },
     "metadata": {},
     "output_type": "display_data"
    },
    {
     "data": {
      "application/vnd.jupyter.widget-view+json": {
       "model_id": "edfc53cc8a914f1e9a3ff8dbdfda4c79",
       "version_major": 2,
       "version_minor": 0
      },
      "text/plain": [
       "Batches:   0%|          | 0/10 [00:00<?, ?it/s]"
      ]
     },
     "metadata": {},
     "output_type": "display_data"
    },
    {
     "data": {
      "application/vnd.jupyter.widget-view+json": {
       "model_id": "b882668bd364439d8a0a815359b36ec2",
       "version_major": 2,
       "version_minor": 0
      },
      "text/plain": [
       "Batches:   0%|          | 0/1 [00:00<?, ?it/s]"
      ]
     },
     "metadata": {},
     "output_type": "display_data"
    },
    {
     "data": {
      "application/vnd.jupyter.widget-view+json": {
       "model_id": "15df15e29e6643eaaf89536ca5743595",
       "version_major": 2,
       "version_minor": 0
      },
      "text/plain": [
       "Batches:   0%|          | 0/15 [00:00<?, ?it/s]"
      ]
     },
     "metadata": {},
     "output_type": "display_data"
    },
    {
     "data": {
      "application/vnd.jupyter.widget-view+json": {
       "model_id": "e23eaf244e124f81893f41fc2e590c44",
       "version_major": 2,
       "version_minor": 0
      },
      "text/plain": [
       "Batches:   0%|          | 0/1 [00:00<?, ?it/s]"
      ]
     },
     "metadata": {},
     "output_type": "display_data"
    },
    {
     "data": {
      "application/vnd.jupyter.widget-view+json": {
       "model_id": "148e1b829b91483085fa7400531fba50",
       "version_major": 2,
       "version_minor": 0
      },
      "text/plain": [
       "Batches:   0%|          | 0/10 [00:00<?, ?it/s]"
      ]
     },
     "metadata": {},
     "output_type": "display_data"
    },
    {
     "data": {
      "application/vnd.jupyter.widget-view+json": {
       "model_id": "0b730591f9ea4a31b0cffdc7075e5e30",
       "version_major": 2,
       "version_minor": 0
      },
      "text/plain": [
       "Batches:   0%|          | 0/1 [00:00<?, ?it/s]"
      ]
     },
     "metadata": {},
     "output_type": "display_data"
    },
    {
     "data": {
      "application/vnd.jupyter.widget-view+json": {
       "model_id": "27898ea4b3264d5e906b91a4063befba",
       "version_major": 2,
       "version_minor": 0
      },
      "text/plain": [
       "Batches:   0%|          | 0/13 [00:00<?, ?it/s]"
      ]
     },
     "metadata": {},
     "output_type": "display_data"
    },
    {
     "name": "stderr",
     "output_type": "stream",
     "text": [
      "Processing rows:   4%|▍         | 2/50 [00:03<01:26,  1.80s/row]"
     ]
    },
    {
     "data": {
      "application/vnd.jupyter.widget-view+json": {
       "model_id": "aaf827d2b7454cfba2b73cf59ba0bc4b",
       "version_major": 2,
       "version_minor": 0
      },
      "text/plain": [
       "Batches:   0%|          | 0/1 [00:00<?, ?it/s]"
      ]
     },
     "metadata": {},
     "output_type": "display_data"
    },
    {
     "data": {
      "application/vnd.jupyter.widget-view+json": {
       "model_id": "318c9fef0fda4e7db738d41c04a5e730",
       "version_major": 2,
       "version_minor": 0
      },
      "text/plain": [
       "Batches:   0%|          | 0/10 [00:00<?, ?it/s]"
      ]
     },
     "metadata": {},
     "output_type": "display_data"
    },
    {
     "data": {
      "application/vnd.jupyter.widget-view+json": {
       "model_id": "ab562b49bde34adca4ebdd8670896052",
       "version_major": 2,
       "version_minor": 0
      },
      "text/plain": [
       "Batches:   0%|          | 0/1 [00:00<?, ?it/s]"
      ]
     },
     "metadata": {},
     "output_type": "display_data"
    },
    {
     "data": {
      "application/vnd.jupyter.widget-view+json": {
       "model_id": "9a142bbe39ab49cf80a338d377c93ea3",
       "version_major": 2,
       "version_minor": 0
      },
      "text/plain": [
       "Batches:   0%|          | 0/15 [00:00<?, ?it/s]"
      ]
     },
     "metadata": {},
     "output_type": "display_data"
    },
    {
     "data": {
      "application/vnd.jupyter.widget-view+json": {
       "model_id": "f5e097aedbc44111a89ec9eee5711112",
       "version_major": 2,
       "version_minor": 0
      },
      "text/plain": [
       "Batches:   0%|          | 0/1 [00:00<?, ?it/s]"
      ]
     },
     "metadata": {},
     "output_type": "display_data"
    },
    {
     "data": {
      "application/vnd.jupyter.widget-view+json": {
       "model_id": "8454861a24ba4121989b0049ef15a7d4",
       "version_major": 2,
       "version_minor": 0
      },
      "text/plain": [
       "Batches:   0%|          | 0/10 [00:00<?, ?it/s]"
      ]
     },
     "metadata": {},
     "output_type": "display_data"
    },
    {
     "data": {
      "application/vnd.jupyter.widget-view+json": {
       "model_id": "674b697fe163488586c72bc1e984a17a",
       "version_major": 2,
       "version_minor": 0
      },
      "text/plain": [
       "Batches:   0%|          | 0/1 [00:00<?, ?it/s]"
      ]
     },
     "metadata": {},
     "output_type": "display_data"
    },
    {
     "data": {
      "application/vnd.jupyter.widget-view+json": {
       "model_id": "45b1d742344641db8cb5eb2957c2b461",
       "version_major": 2,
       "version_minor": 0
      },
      "text/plain": [
       "Batches:   0%|          | 0/14 [00:00<?, ?it/s]"
      ]
     },
     "metadata": {},
     "output_type": "display_data"
    },
    {
     "name": "stderr",
     "output_type": "stream",
     "text": [
      "Processing rows:   6%|▌         | 3/50 [00:05<01:22,  1.76s/row]"
     ]
    },
    {
     "data": {
      "application/vnd.jupyter.widget-view+json": {
       "model_id": "7ebfe71d51534b77a3b8f9796db749b2",
       "version_major": 2,
       "version_minor": 0
      },
      "text/plain": [
       "Batches:   0%|          | 0/1 [00:00<?, ?it/s]"
      ]
     },
     "metadata": {},
     "output_type": "display_data"
    },
    {
     "data": {
      "application/vnd.jupyter.widget-view+json": {
       "model_id": "d1b4db1c939a46649d9062f023dd7f7d",
       "version_major": 2,
       "version_minor": 0
      },
      "text/plain": [
       "Batches:   0%|          | 0/10 [00:00<?, ?it/s]"
      ]
     },
     "metadata": {},
     "output_type": "display_data"
    },
    {
     "data": {
      "application/vnd.jupyter.widget-view+json": {
       "model_id": "18c9b415a7f04a4782e593f4ea2ea22e",
       "version_major": 2,
       "version_minor": 0
      },
      "text/plain": [
       "Batches:   0%|          | 0/1 [00:00<?, ?it/s]"
      ]
     },
     "metadata": {},
     "output_type": "display_data"
    },
    {
     "data": {
      "application/vnd.jupyter.widget-view+json": {
       "model_id": "0f532554d3fb488faccdd5db12e4d281",
       "version_major": 2,
       "version_minor": 0
      },
      "text/plain": [
       "Batches:   0%|          | 0/15 [00:00<?, ?it/s]"
      ]
     },
     "metadata": {},
     "output_type": "display_data"
    },
    {
     "data": {
      "application/vnd.jupyter.widget-view+json": {
       "model_id": "7d9abdac52c64f13b92745ba56c4dbb7",
       "version_major": 2,
       "version_minor": 0
      },
      "text/plain": [
       "Batches:   0%|          | 0/1 [00:00<?, ?it/s]"
      ]
     },
     "metadata": {},
     "output_type": "display_data"
    },
    {
     "data": {
      "application/vnd.jupyter.widget-view+json": {
       "model_id": "2d719b145ae44016a3e766f614ae1f82",
       "version_major": 2,
       "version_minor": 0
      },
      "text/plain": [
       "Batches:   0%|          | 0/10 [00:00<?, ?it/s]"
      ]
     },
     "metadata": {},
     "output_type": "display_data"
    },
    {
     "data": {
      "application/vnd.jupyter.widget-view+json": {
       "model_id": "ff2906a44f624facbcfda83d7d40b41e",
       "version_major": 2,
       "version_minor": 0
      },
      "text/plain": [
       "Batches:   0%|          | 0/1 [00:00<?, ?it/s]"
      ]
     },
     "metadata": {},
     "output_type": "display_data"
    },
    {
     "data": {
      "application/vnd.jupyter.widget-view+json": {
       "model_id": "a67d843baa704a0d9eee3db8a0e9beef",
       "version_major": 2,
       "version_minor": 0
      },
      "text/plain": [
       "Batches:   0%|          | 0/14 [00:00<?, ?it/s]"
      ]
     },
     "metadata": {},
     "output_type": "display_data"
    },
    {
     "name": "stderr",
     "output_type": "stream",
     "text": [
      "Processing rows:   8%|▊         | 4/50 [00:07<01:20,  1.74s/row]"
     ]
    },
    {
     "data": {
      "application/vnd.jupyter.widget-view+json": {
       "model_id": "415b5f02565e4c59aabd66235f682666",
       "version_major": 2,
       "version_minor": 0
      },
      "text/plain": [
       "Batches:   0%|          | 0/1 [00:00<?, ?it/s]"
      ]
     },
     "metadata": {},
     "output_type": "display_data"
    },
    {
     "data": {
      "application/vnd.jupyter.widget-view+json": {
       "model_id": "a5fdd56e69fc48a6b2f73f1363d5dc77",
       "version_major": 2,
       "version_minor": 0
      },
      "text/plain": [
       "Batches:   0%|          | 0/10 [00:00<?, ?it/s]"
      ]
     },
     "metadata": {},
     "output_type": "display_data"
    },
    {
     "data": {
      "application/vnd.jupyter.widget-view+json": {
       "model_id": "93f1976fd9db40a0a69769acff7de112",
       "version_major": 2,
       "version_minor": 0
      },
      "text/plain": [
       "Batches:   0%|          | 0/1 [00:00<?, ?it/s]"
      ]
     },
     "metadata": {},
     "output_type": "display_data"
    },
    {
     "data": {
      "application/vnd.jupyter.widget-view+json": {
       "model_id": "121fcfae3eed45a49680155e364f9685",
       "version_major": 2,
       "version_minor": 0
      },
      "text/plain": [
       "Batches:   0%|          | 0/18 [00:00<?, ?it/s]"
      ]
     },
     "metadata": {},
     "output_type": "display_data"
    },
    {
     "data": {
      "application/vnd.jupyter.widget-view+json": {
       "model_id": "de893a7e24a44ebe9fb70ed8133efee6",
       "version_major": 2,
       "version_minor": 0
      },
      "text/plain": [
       "Batches:   0%|          | 0/1 [00:00<?, ?it/s]"
      ]
     },
     "metadata": {},
     "output_type": "display_data"
    },
    {
     "data": {
      "application/vnd.jupyter.widget-view+json": {
       "model_id": "ad185cb279a343bd822eda32101ebf0f",
       "version_major": 2,
       "version_minor": 0
      },
      "text/plain": [
       "Batches:   0%|          | 0/10 [00:00<?, ?it/s]"
      ]
     },
     "metadata": {},
     "output_type": "display_data"
    },
    {
     "data": {
      "application/vnd.jupyter.widget-view+json": {
       "model_id": "ae3812fd11c5453c9ba01bc15880d4d6",
       "version_major": 2,
       "version_minor": 0
      },
      "text/plain": [
       "Batches:   0%|          | 0/1 [00:00<?, ?it/s]"
      ]
     },
     "metadata": {},
     "output_type": "display_data"
    },
    {
     "data": {
      "application/vnd.jupyter.widget-view+json": {
       "model_id": "cc45f824378845ffb17a1cc131fc224f",
       "version_major": 2,
       "version_minor": 0
      },
      "text/plain": [
       "Batches:   0%|          | 0/18 [00:00<?, ?it/s]"
      ]
     },
     "metadata": {},
     "output_type": "display_data"
    },
    {
     "name": "stderr",
     "output_type": "stream",
     "text": [
      "Processing rows:  10%|█         | 5/50 [00:08<01:20,  1.79s/row]"
     ]
    },
    {
     "data": {
      "application/vnd.jupyter.widget-view+json": {
       "model_id": "74a4482bf28f46bf9ee1353098e98292",
       "version_major": 2,
       "version_minor": 0
      },
      "text/plain": [
       "Batches:   0%|          | 0/1 [00:00<?, ?it/s]"
      ]
     },
     "metadata": {},
     "output_type": "display_data"
    },
    {
     "data": {
      "application/vnd.jupyter.widget-view+json": {
       "model_id": "9123dac9275b4af09b0f788663218e9e",
       "version_major": 2,
       "version_minor": 0
      },
      "text/plain": [
       "Batches:   0%|          | 0/10 [00:00<?, ?it/s]"
      ]
     },
     "metadata": {},
     "output_type": "display_data"
    },
    {
     "data": {
      "application/vnd.jupyter.widget-view+json": {
       "model_id": "0badcc0136854799b6ca4017ab84cc56",
       "version_major": 2,
       "version_minor": 0
      },
      "text/plain": [
       "Batches:   0%|          | 0/1 [00:00<?, ?it/s]"
      ]
     },
     "metadata": {},
     "output_type": "display_data"
    },
    {
     "data": {
      "application/vnd.jupyter.widget-view+json": {
       "model_id": "a7bb3adcf5e344fc9745b150ceb42ede",
       "version_major": 2,
       "version_minor": 0
      },
      "text/plain": [
       "Batches:   0%|          | 0/18 [00:00<?, ?it/s]"
      ]
     },
     "metadata": {},
     "output_type": "display_data"
    },
    {
     "data": {
      "application/vnd.jupyter.widget-view+json": {
       "model_id": "e3e24d6592454ac587a82907ea915017",
       "version_major": 2,
       "version_minor": 0
      },
      "text/plain": [
       "Batches:   0%|          | 0/1 [00:00<?, ?it/s]"
      ]
     },
     "metadata": {},
     "output_type": "display_data"
    },
    {
     "data": {
      "application/vnd.jupyter.widget-view+json": {
       "model_id": "7badadefad904ee9b143f41303b7e419",
       "version_major": 2,
       "version_minor": 0
      },
      "text/plain": [
       "Batches:   0%|          | 0/10 [00:00<?, ?it/s]"
      ]
     },
     "metadata": {},
     "output_type": "display_data"
    },
    {
     "data": {
      "application/vnd.jupyter.widget-view+json": {
       "model_id": "632e187982e942cf92cfa6cdbc33e5e6",
       "version_major": 2,
       "version_minor": 0
      },
      "text/plain": [
       "Batches:   0%|          | 0/1 [00:00<?, ?it/s]"
      ]
     },
     "metadata": {},
     "output_type": "display_data"
    },
    {
     "data": {
      "application/vnd.jupyter.widget-view+json": {
       "model_id": "f92379812c05496d8476d8bdd6fad6e8",
       "version_major": 2,
       "version_minor": 0
      },
      "text/plain": [
       "Batches:   0%|          | 0/19 [00:00<?, ?it/s]"
      ]
     },
     "metadata": {},
     "output_type": "display_data"
    },
    {
     "name": "stderr",
     "output_type": "stream",
     "text": [
      "Processing rows:  12%|█▏        | 6/50 [00:10<01:20,  1.83s/row]"
     ]
    },
    {
     "data": {
      "application/vnd.jupyter.widget-view+json": {
       "model_id": "6fca5e214bc44cb7ac198316fd140de6",
       "version_major": 2,
       "version_minor": 0
      },
      "text/plain": [
       "Batches:   0%|          | 0/1 [00:00<?, ?it/s]"
      ]
     },
     "metadata": {},
     "output_type": "display_data"
    },
    {
     "data": {
      "application/vnd.jupyter.widget-view+json": {
       "model_id": "239f84ad8d3c4c60afbcebad2fa58a51",
       "version_major": 2,
       "version_minor": 0
      },
      "text/plain": [
       "Batches:   0%|          | 0/10 [00:00<?, ?it/s]"
      ]
     },
     "metadata": {},
     "output_type": "display_data"
    },
    {
     "data": {
      "application/vnd.jupyter.widget-view+json": {
       "model_id": "458ebb1eb2a348bf86f2a63ff1b363ca",
       "version_major": 2,
       "version_minor": 0
      },
      "text/plain": [
       "Batches:   0%|          | 0/1 [00:00<?, ?it/s]"
      ]
     },
     "metadata": {},
     "output_type": "display_data"
    },
    {
     "data": {
      "application/vnd.jupyter.widget-view+json": {
       "model_id": "d237bc5b2e1941c2a8e014e250218d21",
       "version_major": 2,
       "version_minor": 0
      },
      "text/plain": [
       "Batches:   0%|          | 0/15 [00:00<?, ?it/s]"
      ]
     },
     "metadata": {},
     "output_type": "display_data"
    },
    {
     "data": {
      "application/vnd.jupyter.widget-view+json": {
       "model_id": "0f7d56dc2fdf4e1987fc4b276f5d8ea3",
       "version_major": 2,
       "version_minor": 0
      },
      "text/plain": [
       "Batches:   0%|          | 0/1 [00:00<?, ?it/s]"
      ]
     },
     "metadata": {},
     "output_type": "display_data"
    },
    {
     "data": {
      "application/vnd.jupyter.widget-view+json": {
       "model_id": "b7984ff116e243c2b499b9eb443f5475",
       "version_major": 2,
       "version_minor": 0
      },
      "text/plain": [
       "Batches:   0%|          | 0/10 [00:00<?, ?it/s]"
      ]
     },
     "metadata": {},
     "output_type": "display_data"
    },
    {
     "data": {
      "application/vnd.jupyter.widget-view+json": {
       "model_id": "0b7a45de66c745b2912d81d50958f540",
       "version_major": 2,
       "version_minor": 0
      },
      "text/plain": [
       "Batches:   0%|          | 0/1 [00:00<?, ?it/s]"
      ]
     },
     "metadata": {},
     "output_type": "display_data"
    },
    {
     "data": {
      "application/vnd.jupyter.widget-view+json": {
       "model_id": "a6440a1c40fc421fb0b43f75af0362fe",
       "version_major": 2,
       "version_minor": 0
      },
      "text/plain": [
       "Batches:   0%|          | 0/16 [00:00<?, ?it/s]"
      ]
     },
     "metadata": {},
     "output_type": "display_data"
    },
    {
     "name": "stderr",
     "output_type": "stream",
     "text": [
      "Processing rows:  14%|█▍        | 7/50 [00:12<01:17,  1.81s/row]"
     ]
    },
    {
     "data": {
      "application/vnd.jupyter.widget-view+json": {
       "model_id": "6258e4abe9a7468bbdd07316cd178121",
       "version_major": 2,
       "version_minor": 0
      },
      "text/plain": [
       "Batches:   0%|          | 0/1 [00:00<?, ?it/s]"
      ]
     },
     "metadata": {},
     "output_type": "display_data"
    },
    {
     "data": {
      "application/vnd.jupyter.widget-view+json": {
       "model_id": "2d2e855f859e4e1cbfd0e54b770bdfd3",
       "version_major": 2,
       "version_minor": 0
      },
      "text/plain": [
       "Batches:   0%|          | 0/10 [00:00<?, ?it/s]"
      ]
     },
     "metadata": {},
     "output_type": "display_data"
    },
    {
     "data": {
      "application/vnd.jupyter.widget-view+json": {
       "model_id": "f66842e8cf4b47d786986ad984610924",
       "version_major": 2,
       "version_minor": 0
      },
      "text/plain": [
       "Batches:   0%|          | 0/1 [00:00<?, ?it/s]"
      ]
     },
     "metadata": {},
     "output_type": "display_data"
    },
    {
     "data": {
      "application/vnd.jupyter.widget-view+json": {
       "model_id": "6e87b973f8434cd791c030969f4294b3",
       "version_major": 2,
       "version_minor": 0
      },
      "text/plain": [
       "Batches:   0%|          | 0/20 [00:00<?, ?it/s]"
      ]
     },
     "metadata": {},
     "output_type": "display_data"
    },
    {
     "data": {
      "application/vnd.jupyter.widget-view+json": {
       "model_id": "eee8677ca3bd444bbc9a3f1e7b51f9a2",
       "version_major": 2,
       "version_minor": 0
      },
      "text/plain": [
       "Batches:   0%|          | 0/1 [00:00<?, ?it/s]"
      ]
     },
     "metadata": {},
     "output_type": "display_data"
    },
    {
     "data": {
      "application/vnd.jupyter.widget-view+json": {
       "model_id": "5479257a221c4148bfdcb3621bbff3d3",
       "version_major": 2,
       "version_minor": 0
      },
      "text/plain": [
       "Batches:   0%|          | 0/10 [00:00<?, ?it/s]"
      ]
     },
     "metadata": {},
     "output_type": "display_data"
    },
    {
     "data": {
      "application/vnd.jupyter.widget-view+json": {
       "model_id": "6018c9c915d244aca4c855b78206c26d",
       "version_major": 2,
       "version_minor": 0
      },
      "text/plain": [
       "Batches:   0%|          | 0/1 [00:00<?, ?it/s]"
      ]
     },
     "metadata": {},
     "output_type": "display_data"
    },
    {
     "data": {
      "application/vnd.jupyter.widget-view+json": {
       "model_id": "986bc9981a3e4df1b62dbc2193c8d7f8",
       "version_major": 2,
       "version_minor": 0
      },
      "text/plain": [
       "Batches:   0%|          | 0/19 [00:00<?, ?it/s]"
      ]
     },
     "metadata": {},
     "output_type": "display_data"
    },
    {
     "name": "stderr",
     "output_type": "stream",
     "text": [
      "Processing rows:  16%|█▌        | 8/50 [00:14<01:17,  1.85s/row]"
     ]
    },
    {
     "data": {
      "application/vnd.jupyter.widget-view+json": {
       "model_id": "3540c5aefb0a403ba7468e8c9b83127b",
       "version_major": 2,
       "version_minor": 0
      },
      "text/plain": [
       "Batches:   0%|          | 0/1 [00:00<?, ?it/s]"
      ]
     },
     "metadata": {},
     "output_type": "display_data"
    },
    {
     "data": {
      "application/vnd.jupyter.widget-view+json": {
       "model_id": "2032efe87a044458952ed64fb494319d",
       "version_major": 2,
       "version_minor": 0
      },
      "text/plain": [
       "Batches:   0%|          | 0/10 [00:00<?, ?it/s]"
      ]
     },
     "metadata": {},
     "output_type": "display_data"
    },
    {
     "data": {
      "application/vnd.jupyter.widget-view+json": {
       "model_id": "cf3c4896df874b20b48a280e55df3adc",
       "version_major": 2,
       "version_minor": 0
      },
      "text/plain": [
       "Batches:   0%|          | 0/1 [00:00<?, ?it/s]"
      ]
     },
     "metadata": {},
     "output_type": "display_data"
    },
    {
     "data": {
      "application/vnd.jupyter.widget-view+json": {
       "model_id": "3f73f46f0c7b4651bef05f1a308a30c0",
       "version_major": 2,
       "version_minor": 0
      },
      "text/plain": [
       "Batches:   0%|          | 0/18 [00:00<?, ?it/s]"
      ]
     },
     "metadata": {},
     "output_type": "display_data"
    },
    {
     "data": {
      "application/vnd.jupyter.widget-view+json": {
       "model_id": "58303d1c06ca4a92982a617e3ccf2822",
       "version_major": 2,
       "version_minor": 0
      },
      "text/plain": [
       "Batches:   0%|          | 0/1 [00:00<?, ?it/s]"
      ]
     },
     "metadata": {},
     "output_type": "display_data"
    },
    {
     "data": {
      "application/vnd.jupyter.widget-view+json": {
       "model_id": "13c8393db85040eba02e0df5d12f568e",
       "version_major": 2,
       "version_minor": 0
      },
      "text/plain": [
       "Batches:   0%|          | 0/10 [00:00<?, ?it/s]"
      ]
     },
     "metadata": {},
     "output_type": "display_data"
    },
    {
     "data": {
      "application/vnd.jupyter.widget-view+json": {
       "model_id": "1067a74b8b4d4873b749f321594f884d",
       "version_major": 2,
       "version_minor": 0
      },
      "text/plain": [
       "Batches:   0%|          | 0/1 [00:00<?, ?it/s]"
      ]
     },
     "metadata": {},
     "output_type": "display_data"
    },
    {
     "data": {
      "application/vnd.jupyter.widget-view+json": {
       "model_id": "d7b6fe8b97254d2cae826ca1c5447452",
       "version_major": 2,
       "version_minor": 0
      },
      "text/plain": [
       "Batches:   0%|          | 0/17 [00:00<?, ?it/s]"
      ]
     },
     "metadata": {},
     "output_type": "display_data"
    },
    {
     "name": "stderr",
     "output_type": "stream",
     "text": [
      "Processing rows:  18%|█▊        | 9/50 [00:16<01:15,  1.85s/row]"
     ]
    },
    {
     "data": {
      "application/vnd.jupyter.widget-view+json": {
       "model_id": "f7ac3a7db02f4ca08bc9b83196552b7f",
       "version_major": 2,
       "version_minor": 0
      },
      "text/plain": [
       "Batches:   0%|          | 0/1 [00:00<?, ?it/s]"
      ]
     },
     "metadata": {},
     "output_type": "display_data"
    },
    {
     "data": {
      "application/vnd.jupyter.widget-view+json": {
       "model_id": "c827e6a1e4fd4bfc9fd65bc74ef548f9",
       "version_major": 2,
       "version_minor": 0
      },
      "text/plain": [
       "Batches:   0%|          | 0/10 [00:00<?, ?it/s]"
      ]
     },
     "metadata": {},
     "output_type": "display_data"
    },
    {
     "data": {
      "application/vnd.jupyter.widget-view+json": {
       "model_id": "c10674f236174349b112c45472f2863d",
       "version_major": 2,
       "version_minor": 0
      },
      "text/plain": [
       "Batches:   0%|          | 0/1 [00:00<?, ?it/s]"
      ]
     },
     "metadata": {},
     "output_type": "display_data"
    },
    {
     "data": {
      "application/vnd.jupyter.widget-view+json": {
       "model_id": "1d2b3d39e1754ed58d9a551e24f246fa",
       "version_major": 2,
       "version_minor": 0
      },
      "text/plain": [
       "Batches:   0%|          | 0/19 [00:00<?, ?it/s]"
      ]
     },
     "metadata": {},
     "output_type": "display_data"
    },
    {
     "data": {
      "application/vnd.jupyter.widget-view+json": {
       "model_id": "e7dd930ce72c402990c875a3891d02f9",
       "version_major": 2,
       "version_minor": 0
      },
      "text/plain": [
       "Batches:   0%|          | 0/1 [00:00<?, ?it/s]"
      ]
     },
     "metadata": {},
     "output_type": "display_data"
    },
    {
     "data": {
      "application/vnd.jupyter.widget-view+json": {
       "model_id": "78670d81a11748a2b909d639d65dba13",
       "version_major": 2,
       "version_minor": 0
      },
      "text/plain": [
       "Batches:   0%|          | 0/10 [00:00<?, ?it/s]"
      ]
     },
     "metadata": {},
     "output_type": "display_data"
    },
    {
     "data": {
      "application/vnd.jupyter.widget-view+json": {
       "model_id": "8d4293d5ad2e48c2b0a9332a09dab2a0",
       "version_major": 2,
       "version_minor": 0
      },
      "text/plain": [
       "Batches:   0%|          | 0/1 [00:00<?, ?it/s]"
      ]
     },
     "metadata": {},
     "output_type": "display_data"
    },
    {
     "data": {
      "application/vnd.jupyter.widget-view+json": {
       "model_id": "6b8bb74942544935a1e13d35cc1ace62",
       "version_major": 2,
       "version_minor": 0
      },
      "text/plain": [
       "Batches:   0%|          | 0/19 [00:00<?, ?it/s]"
      ]
     },
     "metadata": {},
     "output_type": "display_data"
    },
    {
     "name": "stderr",
     "output_type": "stream",
     "text": [
      "Processing rows:  20%|██        | 10/50 [00:18<01:14,  1.86s/row]"
     ]
    },
    {
     "data": {
      "application/vnd.jupyter.widget-view+json": {
       "model_id": "4a0a6335eb40424f944bbecf3b4d3b62",
       "version_major": 2,
       "version_minor": 0
      },
      "text/plain": [
       "Batches:   0%|          | 0/1 [00:00<?, ?it/s]"
      ]
     },
     "metadata": {},
     "output_type": "display_data"
    },
    {
     "data": {
      "application/vnd.jupyter.widget-view+json": {
       "model_id": "08fdbeba83824d39ba9a7dbe8b13bf0a",
       "version_major": 2,
       "version_minor": 0
      },
      "text/plain": [
       "Batches:   0%|          | 0/10 [00:00<?, ?it/s]"
      ]
     },
     "metadata": {},
     "output_type": "display_data"
    },
    {
     "data": {
      "application/vnd.jupyter.widget-view+json": {
       "model_id": "e2ed60cbb5564208bd89fe2eed298971",
       "version_major": 2,
       "version_minor": 0
      },
      "text/plain": [
       "Batches:   0%|          | 0/1 [00:00<?, ?it/s]"
      ]
     },
     "metadata": {},
     "output_type": "display_data"
    },
    {
     "data": {
      "application/vnd.jupyter.widget-view+json": {
       "model_id": "ed1e699811354ed78bc5da29e6b6d971",
       "version_major": 2,
       "version_minor": 0
      },
      "text/plain": [
       "Batches:   0%|          | 0/16 [00:00<?, ?it/s]"
      ]
     },
     "metadata": {},
     "output_type": "display_data"
    },
    {
     "data": {
      "application/vnd.jupyter.widget-view+json": {
       "model_id": "91e3c0290ce1447597ae246f225fee1a",
       "version_major": 2,
       "version_minor": 0
      },
      "text/plain": [
       "Batches:   0%|          | 0/1 [00:00<?, ?it/s]"
      ]
     },
     "metadata": {},
     "output_type": "display_data"
    },
    {
     "data": {
      "application/vnd.jupyter.widget-view+json": {
       "model_id": "bb4fa5fd9ba049b5875a17c15dab6747",
       "version_major": 2,
       "version_minor": 0
      },
      "text/plain": [
       "Batches:   0%|          | 0/10 [00:00<?, ?it/s]"
      ]
     },
     "metadata": {},
     "output_type": "display_data"
    },
    {
     "data": {
      "application/vnd.jupyter.widget-view+json": {
       "model_id": "2ccf38300e0246a1a5fd35f9ebe0b511",
       "version_major": 2,
       "version_minor": 0
      },
      "text/plain": [
       "Batches:   0%|          | 0/1 [00:00<?, ?it/s]"
      ]
     },
     "metadata": {},
     "output_type": "display_data"
    },
    {
     "data": {
      "application/vnd.jupyter.widget-view+json": {
       "model_id": "cdbe10f424014abe98dd700b99b49f96",
       "version_major": 2,
       "version_minor": 0
      },
      "text/plain": [
       "Batches:   0%|          | 0/15 [00:00<?, ?it/s]"
      ]
     },
     "metadata": {},
     "output_type": "display_data"
    },
    {
     "name": "stderr",
     "output_type": "stream",
     "text": [
      "Processing rows:  22%|██▏       | 11/50 [00:20<01:11,  1.84s/row]"
     ]
    },
    {
     "data": {
      "application/vnd.jupyter.widget-view+json": {
       "model_id": "95b4ec912a0c441583545b4673f6c6d4",
       "version_major": 2,
       "version_minor": 0
      },
      "text/plain": [
       "Batches:   0%|          | 0/1 [00:00<?, ?it/s]"
      ]
     },
     "metadata": {},
     "output_type": "display_data"
    },
    {
     "data": {
      "application/vnd.jupyter.widget-view+json": {
       "model_id": "88da5fded93747c08a6bd93278afd4d0",
       "version_major": 2,
       "version_minor": 0
      },
      "text/plain": [
       "Batches:   0%|          | 0/10 [00:00<?, ?it/s]"
      ]
     },
     "metadata": {},
     "output_type": "display_data"
    },
    {
     "data": {
      "application/vnd.jupyter.widget-view+json": {
       "model_id": "b85e7f6d82bb449dbc4f3bac96573cb8",
       "version_major": 2,
       "version_minor": 0
      },
      "text/plain": [
       "Batches:   0%|          | 0/1 [00:00<?, ?it/s]"
      ]
     },
     "metadata": {},
     "output_type": "display_data"
    },
    {
     "data": {
      "application/vnd.jupyter.widget-view+json": {
       "model_id": "bbfee01c24a540dd84a64576a1426cff",
       "version_major": 2,
       "version_minor": 0
      },
      "text/plain": [
       "Batches:   0%|          | 0/13 [00:00<?, ?it/s]"
      ]
     },
     "metadata": {},
     "output_type": "display_data"
    },
    {
     "data": {
      "application/vnd.jupyter.widget-view+json": {
       "model_id": "940e0ba4328547e9bc65fb382a4d615b",
       "version_major": 2,
       "version_minor": 0
      },
      "text/plain": [
       "Batches:   0%|          | 0/1 [00:00<?, ?it/s]"
      ]
     },
     "metadata": {},
     "output_type": "display_data"
    },
    {
     "data": {
      "application/vnd.jupyter.widget-view+json": {
       "model_id": "41d598be56974551bde7902a5fc8911c",
       "version_major": 2,
       "version_minor": 0
      },
      "text/plain": [
       "Batches:   0%|          | 0/10 [00:00<?, ?it/s]"
      ]
     },
     "metadata": {},
     "output_type": "display_data"
    },
    {
     "data": {
      "application/vnd.jupyter.widget-view+json": {
       "model_id": "a26121090be74b6fb68f1a150ea1ae88",
       "version_major": 2,
       "version_minor": 0
      },
      "text/plain": [
       "Batches:   0%|          | 0/1 [00:00<?, ?it/s]"
      ]
     },
     "metadata": {},
     "output_type": "display_data"
    },
    {
     "data": {
      "application/vnd.jupyter.widget-view+json": {
       "model_id": "40ac82911fed4351896a53e8dbddac27",
       "version_major": 2,
       "version_minor": 0
      },
      "text/plain": [
       "Batches:   0%|          | 0/13 [00:00<?, ?it/s]"
      ]
     },
     "metadata": {},
     "output_type": "display_data"
    },
    {
     "name": "stderr",
     "output_type": "stream",
     "text": [
      "Processing rows:  24%|██▍       | 12/50 [00:21<01:09,  1.82s/row]"
     ]
    },
    {
     "data": {
      "application/vnd.jupyter.widget-view+json": {
       "model_id": "6e939065261a4135944825e01eb1db4b",
       "version_major": 2,
       "version_minor": 0
      },
      "text/plain": [
       "Batches:   0%|          | 0/1 [00:00<?, ?it/s]"
      ]
     },
     "metadata": {},
     "output_type": "display_data"
    },
    {
     "data": {
      "application/vnd.jupyter.widget-view+json": {
       "model_id": "1b717100b08a48f1a9443fa1c7e4322c",
       "version_major": 2,
       "version_minor": 0
      },
      "text/plain": [
       "Batches:   0%|          | 0/10 [00:00<?, ?it/s]"
      ]
     },
     "metadata": {},
     "output_type": "display_data"
    },
    {
     "data": {
      "application/vnd.jupyter.widget-view+json": {
       "model_id": "27f8be4c067347c0a6ca1583f8b99224",
       "version_major": 2,
       "version_minor": 0
      },
      "text/plain": [
       "Batches:   0%|          | 0/1 [00:00<?, ?it/s]"
      ]
     },
     "metadata": {},
     "output_type": "display_data"
    },
    {
     "data": {
      "application/vnd.jupyter.widget-view+json": {
       "model_id": "f30808c4366f4273aaaf62de0e08a549",
       "version_major": 2,
       "version_minor": 0
      },
      "text/plain": [
       "Batches:   0%|          | 0/18 [00:00<?, ?it/s]"
      ]
     },
     "metadata": {},
     "output_type": "display_data"
    },
    {
     "data": {
      "application/vnd.jupyter.widget-view+json": {
       "model_id": "96778bd3bd204f10a6c7fcdb572ee08e",
       "version_major": 2,
       "version_minor": 0
      },
      "text/plain": [
       "Batches:   0%|          | 0/1 [00:00<?, ?it/s]"
      ]
     },
     "metadata": {},
     "output_type": "display_data"
    },
    {
     "data": {
      "application/vnd.jupyter.widget-view+json": {
       "model_id": "d4c4f946728f4abb86eb3d10ce10f643",
       "version_major": 2,
       "version_minor": 0
      },
      "text/plain": [
       "Batches:   0%|          | 0/10 [00:00<?, ?it/s]"
      ]
     },
     "metadata": {},
     "output_type": "display_data"
    },
    {
     "data": {
      "application/vnd.jupyter.widget-view+json": {
       "model_id": "8efffc81e853401aac88eaf40892e127",
       "version_major": 2,
       "version_minor": 0
      },
      "text/plain": [
       "Batches:   0%|          | 0/1 [00:00<?, ?it/s]"
      ]
     },
     "metadata": {},
     "output_type": "display_data"
    },
    {
     "data": {
      "application/vnd.jupyter.widget-view+json": {
       "model_id": "35f52fde102f48968f4940d85c4308b0",
       "version_major": 2,
       "version_minor": 0
      },
      "text/plain": [
       "Batches:   0%|          | 0/18 [00:00<?, ?it/s]"
      ]
     },
     "metadata": {},
     "output_type": "display_data"
    },
    {
     "name": "stderr",
     "output_type": "stream",
     "text": [
      "Processing rows:  26%|██▌       | 13/50 [00:23<01:08,  1.86s/row]"
     ]
    },
    {
     "data": {
      "application/vnd.jupyter.widget-view+json": {
       "model_id": "b68cd7b898d04350a8bcaac56a6aee5c",
       "version_major": 2,
       "version_minor": 0
      },
      "text/plain": [
       "Batches:   0%|          | 0/1 [00:00<?, ?it/s]"
      ]
     },
     "metadata": {},
     "output_type": "display_data"
    },
    {
     "data": {
      "application/vnd.jupyter.widget-view+json": {
       "model_id": "d0fc95ca93964106a392f68936f23b29",
       "version_major": 2,
       "version_minor": 0
      },
      "text/plain": [
       "Batches:   0%|          | 0/10 [00:00<?, ?it/s]"
      ]
     },
     "metadata": {},
     "output_type": "display_data"
    },
    {
     "data": {
      "application/vnd.jupyter.widget-view+json": {
       "model_id": "4b50950cede24686b111cd4f2a755b23",
       "version_major": 2,
       "version_minor": 0
      },
      "text/plain": [
       "Batches:   0%|          | 0/1 [00:00<?, ?it/s]"
      ]
     },
     "metadata": {},
     "output_type": "display_data"
    },
    {
     "data": {
      "application/vnd.jupyter.widget-view+json": {
       "model_id": "04fba6d7b6fc47e6bacaf1ba7f46b11e",
       "version_major": 2,
       "version_minor": 0
      },
      "text/plain": [
       "Batches:   0%|          | 0/17 [00:00<?, ?it/s]"
      ]
     },
     "metadata": {},
     "output_type": "display_data"
    },
    {
     "data": {
      "application/vnd.jupyter.widget-view+json": {
       "model_id": "63695c6b831c4c0b97e609d887ca679a",
       "version_major": 2,
       "version_minor": 0
      },
      "text/plain": [
       "Batches:   0%|          | 0/1 [00:00<?, ?it/s]"
      ]
     },
     "metadata": {},
     "output_type": "display_data"
    },
    {
     "data": {
      "application/vnd.jupyter.widget-view+json": {
       "model_id": "4212fce7ca5e4acd9a64cd611cbf6766",
       "version_major": 2,
       "version_minor": 0
      },
      "text/plain": [
       "Batches:   0%|          | 0/10 [00:00<?, ?it/s]"
      ]
     },
     "metadata": {},
     "output_type": "display_data"
    },
    {
     "data": {
      "application/vnd.jupyter.widget-view+json": {
       "model_id": "2c419cb27fcc4899a42ef359520ba9e0",
       "version_major": 2,
       "version_minor": 0
      },
      "text/plain": [
       "Batches:   0%|          | 0/1 [00:00<?, ?it/s]"
      ]
     },
     "metadata": {},
     "output_type": "display_data"
    },
    {
     "data": {
      "application/vnd.jupyter.widget-view+json": {
       "model_id": "52521f871d84404887d4285d5884c80f",
       "version_major": 2,
       "version_minor": 0
      },
      "text/plain": [
       "Batches:   0%|          | 0/18 [00:00<?, ?it/s]"
      ]
     },
     "metadata": {},
     "output_type": "display_data"
    },
    {
     "name": "stderr",
     "output_type": "stream",
     "text": [
      "Processing rows:  28%|██▊       | 14/50 [00:25<01:06,  1.86s/row]"
     ]
    },
    {
     "data": {
      "application/vnd.jupyter.widget-view+json": {
       "model_id": "4507d053f7ef4de1a6f549fba28786fb",
       "version_major": 2,
       "version_minor": 0
      },
      "text/plain": [
       "Batches:   0%|          | 0/1 [00:00<?, ?it/s]"
      ]
     },
     "metadata": {},
     "output_type": "display_data"
    },
    {
     "data": {
      "application/vnd.jupyter.widget-view+json": {
       "model_id": "961fd56b880442cfba59697ff76b368e",
       "version_major": 2,
       "version_minor": 0
      },
      "text/plain": [
       "Batches:   0%|          | 0/10 [00:00<?, ?it/s]"
      ]
     },
     "metadata": {},
     "output_type": "display_data"
    },
    {
     "data": {
      "application/vnd.jupyter.widget-view+json": {
       "model_id": "afa9da6cfd6c4b41b93fb01352b07c87",
       "version_major": 2,
       "version_minor": 0
      },
      "text/plain": [
       "Batches:   0%|          | 0/1 [00:00<?, ?it/s]"
      ]
     },
     "metadata": {},
     "output_type": "display_data"
    },
    {
     "data": {
      "application/vnd.jupyter.widget-view+json": {
       "model_id": "28d86970dbc74a10b54530cc081d1b86",
       "version_major": 2,
       "version_minor": 0
      },
      "text/plain": [
       "Batches:   0%|          | 0/15 [00:00<?, ?it/s]"
      ]
     },
     "metadata": {},
     "output_type": "display_data"
    },
    {
     "data": {
      "application/vnd.jupyter.widget-view+json": {
       "model_id": "1fe10a8964144dd4b310c45848c5ae7d",
       "version_major": 2,
       "version_minor": 0
      },
      "text/plain": [
       "Batches:   0%|          | 0/1 [00:00<?, ?it/s]"
      ]
     },
     "metadata": {},
     "output_type": "display_data"
    },
    {
     "data": {
      "application/vnd.jupyter.widget-view+json": {
       "model_id": "f27429ed172e44efafd20a178be59c5d",
       "version_major": 2,
       "version_minor": 0
      },
      "text/plain": [
       "Batches:   0%|          | 0/10 [00:00<?, ?it/s]"
      ]
     },
     "metadata": {},
     "output_type": "display_data"
    },
    {
     "data": {
      "application/vnd.jupyter.widget-view+json": {
       "model_id": "c065f1329d874488aeabb4c64b200676",
       "version_major": 2,
       "version_minor": 0
      },
      "text/plain": [
       "Batches:   0%|          | 0/1 [00:00<?, ?it/s]"
      ]
     },
     "metadata": {},
     "output_type": "display_data"
    },
    {
     "data": {
      "application/vnd.jupyter.widget-view+json": {
       "model_id": "b9b452b7a2724c4f9b3a336d46f5dc05",
       "version_major": 2,
       "version_minor": 0
      },
      "text/plain": [
       "Batches:   0%|          | 0/15 [00:00<?, ?it/s]"
      ]
     },
     "metadata": {},
     "output_type": "display_data"
    },
    {
     "name": "stderr",
     "output_type": "stream",
     "text": [
      "Processing rows:  30%|███       | 15/50 [00:27<01:04,  1.84s/row]"
     ]
    },
    {
     "data": {
      "application/vnd.jupyter.widget-view+json": {
       "model_id": "ede241bd99984df4a53de39eac8c32a5",
       "version_major": 2,
       "version_minor": 0
      },
      "text/plain": [
       "Batches:   0%|          | 0/1 [00:00<?, ?it/s]"
      ]
     },
     "metadata": {},
     "output_type": "display_data"
    },
    {
     "data": {
      "application/vnd.jupyter.widget-view+json": {
       "model_id": "df14a66b925349b495f18387a3cb320a",
       "version_major": 2,
       "version_minor": 0
      },
      "text/plain": [
       "Batches:   0%|          | 0/10 [00:00<?, ?it/s]"
      ]
     },
     "metadata": {},
     "output_type": "display_data"
    },
    {
     "data": {
      "application/vnd.jupyter.widget-view+json": {
       "model_id": "ac556063f6b2499c8ae945b997fb05d9",
       "version_major": 2,
       "version_minor": 0
      },
      "text/plain": [
       "Batches:   0%|          | 0/1 [00:00<?, ?it/s]"
      ]
     },
     "metadata": {},
     "output_type": "display_data"
    },
    {
     "data": {
      "application/vnd.jupyter.widget-view+json": {
       "model_id": "40fa57e2f7384222a83e58da2a6dee9e",
       "version_major": 2,
       "version_minor": 0
      },
      "text/plain": [
       "Batches:   0%|          | 0/14 [00:00<?, ?it/s]"
      ]
     },
     "metadata": {},
     "output_type": "display_data"
    },
    {
     "data": {
      "application/vnd.jupyter.widget-view+json": {
       "model_id": "5a6d8e5fa97d4b408fd7d0892f3101cf",
       "version_major": 2,
       "version_minor": 0
      },
      "text/plain": [
       "Batches:   0%|          | 0/1 [00:00<?, ?it/s]"
      ]
     },
     "metadata": {},
     "output_type": "display_data"
    },
    {
     "data": {
      "application/vnd.jupyter.widget-view+json": {
       "model_id": "8a35eb8601ed40b0b464f2e863ca268f",
       "version_major": 2,
       "version_minor": 0
      },
      "text/plain": [
       "Batches:   0%|          | 0/10 [00:00<?, ?it/s]"
      ]
     },
     "metadata": {},
     "output_type": "display_data"
    },
    {
     "data": {
      "application/vnd.jupyter.widget-view+json": {
       "model_id": "104f0443ce2b4aa986b8b93e9b790e1d",
       "version_major": 2,
       "version_minor": 0
      },
      "text/plain": [
       "Batches:   0%|          | 0/1 [00:00<?, ?it/s]"
      ]
     },
     "metadata": {},
     "output_type": "display_data"
    },
    {
     "data": {
      "application/vnd.jupyter.widget-view+json": {
       "model_id": "bf7731f6ea00478e819fa053630066c7",
       "version_major": 2,
       "version_minor": 0
      },
      "text/plain": [
       "Batches:   0%|          | 0/14 [00:00<?, ?it/s]"
      ]
     },
     "metadata": {},
     "output_type": "display_data"
    },
    {
     "name": "stderr",
     "output_type": "stream",
     "text": [
      "Processing rows:  32%|███▏      | 16/50 [00:29<01:01,  1.80s/row]"
     ]
    },
    {
     "data": {
      "application/vnd.jupyter.widget-view+json": {
       "model_id": "f8702e54a68b4bb699c0b109095527e8",
       "version_major": 2,
       "version_minor": 0
      },
      "text/plain": [
       "Batches:   0%|          | 0/1 [00:00<?, ?it/s]"
      ]
     },
     "metadata": {},
     "output_type": "display_data"
    },
    {
     "data": {
      "application/vnd.jupyter.widget-view+json": {
       "model_id": "9e567a696f394e3d8ada44d574e15c99",
       "version_major": 2,
       "version_minor": 0
      },
      "text/plain": [
       "Batches:   0%|          | 0/10 [00:00<?, ?it/s]"
      ]
     },
     "metadata": {},
     "output_type": "display_data"
    },
    {
     "data": {
      "application/vnd.jupyter.widget-view+json": {
       "model_id": "0883fe2cf1d8467bbbce795f393beb7e",
       "version_major": 2,
       "version_minor": 0
      },
      "text/plain": [
       "Batches:   0%|          | 0/1 [00:00<?, ?it/s]"
      ]
     },
     "metadata": {},
     "output_type": "display_data"
    },
    {
     "data": {
      "application/vnd.jupyter.widget-view+json": {
       "model_id": "ebf05da25b3e434e8db185bf00d34375",
       "version_major": 2,
       "version_minor": 0
      },
      "text/plain": [
       "Batches:   0%|          | 0/19 [00:00<?, ?it/s]"
      ]
     },
     "metadata": {},
     "output_type": "display_data"
    },
    {
     "data": {
      "application/vnd.jupyter.widget-view+json": {
       "model_id": "65efa32e33ae4d7ba07db8c8466e96c6",
       "version_major": 2,
       "version_minor": 0
      },
      "text/plain": [
       "Batches:   0%|          | 0/1 [00:00<?, ?it/s]"
      ]
     },
     "metadata": {},
     "output_type": "display_data"
    },
    {
     "data": {
      "application/vnd.jupyter.widget-view+json": {
       "model_id": "1bcc21b8500441c0a2540d353771229e",
       "version_major": 2,
       "version_minor": 0
      },
      "text/plain": [
       "Batches:   0%|          | 0/10 [00:00<?, ?it/s]"
      ]
     },
     "metadata": {},
     "output_type": "display_data"
    },
    {
     "data": {
      "application/vnd.jupyter.widget-view+json": {
       "model_id": "9f9e35ae943a47d194bf7d9b40c7042c",
       "version_major": 2,
       "version_minor": 0
      },
      "text/plain": [
       "Batches:   0%|          | 0/1 [00:00<?, ?it/s]"
      ]
     },
     "metadata": {},
     "output_type": "display_data"
    },
    {
     "data": {
      "application/vnd.jupyter.widget-view+json": {
       "model_id": "ff2b95dbbb1347a28fce56e8bc34ae78",
       "version_major": 2,
       "version_minor": 0
      },
      "text/plain": [
       "Batches:   0%|          | 0/18 [00:00<?, ?it/s]"
      ]
     },
     "metadata": {},
     "output_type": "display_data"
    },
    {
     "name": "stderr",
     "output_type": "stream",
     "text": [
      "Processing rows:  34%|███▍      | 17/50 [00:31<01:00,  1.83s/row]"
     ]
    },
    {
     "data": {
      "application/vnd.jupyter.widget-view+json": {
       "model_id": "7827c393c39846e5aa1a14d4cec5a159",
       "version_major": 2,
       "version_minor": 0
      },
      "text/plain": [
       "Batches:   0%|          | 0/1 [00:00<?, ?it/s]"
      ]
     },
     "metadata": {},
     "output_type": "display_data"
    },
    {
     "data": {
      "application/vnd.jupyter.widget-view+json": {
       "model_id": "8f121c2cbef44f7fa748e6fd800d1b12",
       "version_major": 2,
       "version_minor": 0
      },
      "text/plain": [
       "Batches:   0%|          | 0/10 [00:00<?, ?it/s]"
      ]
     },
     "metadata": {},
     "output_type": "display_data"
    },
    {
     "data": {
      "application/vnd.jupyter.widget-view+json": {
       "model_id": "dc9eb42ffe2841a48459c60093f31ee2",
       "version_major": 2,
       "version_minor": 0
      },
      "text/plain": [
       "Batches:   0%|          | 0/1 [00:00<?, ?it/s]"
      ]
     },
     "metadata": {},
     "output_type": "display_data"
    },
    {
     "data": {
      "application/vnd.jupyter.widget-view+json": {
       "model_id": "8ea03c42f675406681444fd9c337de95",
       "version_major": 2,
       "version_minor": 0
      },
      "text/plain": [
       "Batches:   0%|          | 0/20 [00:00<?, ?it/s]"
      ]
     },
     "metadata": {},
     "output_type": "display_data"
    },
    {
     "data": {
      "application/vnd.jupyter.widget-view+json": {
       "model_id": "7a1f6b01c525464fb322921b4792bb34",
       "version_major": 2,
       "version_minor": 0
      },
      "text/plain": [
       "Batches:   0%|          | 0/1 [00:00<?, ?it/s]"
      ]
     },
     "metadata": {},
     "output_type": "display_data"
    },
    {
     "data": {
      "application/vnd.jupyter.widget-view+json": {
       "model_id": "41d5ad4cdd37431b84a5337fd98d63c0",
       "version_major": 2,
       "version_minor": 0
      },
      "text/plain": [
       "Batches:   0%|          | 0/10 [00:00<?, ?it/s]"
      ]
     },
     "metadata": {},
     "output_type": "display_data"
    },
    {
     "data": {
      "application/vnd.jupyter.widget-view+json": {
       "model_id": "7472f7ce605f462c9820fdecb7e6ad38",
       "version_major": 2,
       "version_minor": 0
      },
      "text/plain": [
       "Batches:   0%|          | 0/1 [00:00<?, ?it/s]"
      ]
     },
     "metadata": {},
     "output_type": "display_data"
    },
    {
     "data": {
      "application/vnd.jupyter.widget-view+json": {
       "model_id": "ed0382c6e795494d94768ba9994fda34",
       "version_major": 2,
       "version_minor": 0
      },
      "text/plain": [
       "Batches:   0%|          | 0/19 [00:00<?, ?it/s]"
      ]
     },
     "metadata": {},
     "output_type": "display_data"
    },
    {
     "name": "stderr",
     "output_type": "stream",
     "text": [
      "Processing rows:  36%|███▌      | 18/50 [00:33<00:59,  1.87s/row]"
     ]
    },
    {
     "data": {
      "application/vnd.jupyter.widget-view+json": {
       "model_id": "530431f3c2f645b3b9fff927bb9714db",
       "version_major": 2,
       "version_minor": 0
      },
      "text/plain": [
       "Batches:   0%|          | 0/1 [00:00<?, ?it/s]"
      ]
     },
     "metadata": {},
     "output_type": "display_data"
    },
    {
     "data": {
      "application/vnd.jupyter.widget-view+json": {
       "model_id": "4d8c72acf37e431a884117751a5fbd2a",
       "version_major": 2,
       "version_minor": 0
      },
      "text/plain": [
       "Batches:   0%|          | 0/10 [00:00<?, ?it/s]"
      ]
     },
     "metadata": {},
     "output_type": "display_data"
    },
    {
     "data": {
      "application/vnd.jupyter.widget-view+json": {
       "model_id": "7740e1b4eae64e8eba3c70880251a18e",
       "version_major": 2,
       "version_minor": 0
      },
      "text/plain": [
       "Batches:   0%|          | 0/1 [00:00<?, ?it/s]"
      ]
     },
     "metadata": {},
     "output_type": "display_data"
    },
    {
     "data": {
      "application/vnd.jupyter.widget-view+json": {
       "model_id": "602b2863018e41b497c8a35d13e180c8",
       "version_major": 2,
       "version_minor": 0
      },
      "text/plain": [
       "Batches:   0%|          | 0/13 [00:00<?, ?it/s]"
      ]
     },
     "metadata": {},
     "output_type": "display_data"
    },
    {
     "data": {
      "application/vnd.jupyter.widget-view+json": {
       "model_id": "123a2637f31d40f7bd62629b652869f0",
       "version_major": 2,
       "version_minor": 0
      },
      "text/plain": [
       "Batches:   0%|          | 0/1 [00:00<?, ?it/s]"
      ]
     },
     "metadata": {},
     "output_type": "display_data"
    },
    {
     "data": {
      "application/vnd.jupyter.widget-view+json": {
       "model_id": "41b968e9521545258c8226dc8ebf585c",
       "version_major": 2,
       "version_minor": 0
      },
      "text/plain": [
       "Batches:   0%|          | 0/10 [00:00<?, ?it/s]"
      ]
     },
     "metadata": {},
     "output_type": "display_data"
    },
    {
     "data": {
      "application/vnd.jupyter.widget-view+json": {
       "model_id": "f143a3befb2a4612b4685c82cdf5cad1",
       "version_major": 2,
       "version_minor": 0
      },
      "text/plain": [
       "Batches:   0%|          | 0/1 [00:00<?, ?it/s]"
      ]
     },
     "metadata": {},
     "output_type": "display_data"
    },
    {
     "data": {
      "application/vnd.jupyter.widget-view+json": {
       "model_id": "94f0e1f974fa4bc4a312506e17f3fc1b",
       "version_major": 2,
       "version_minor": 0
      },
      "text/plain": [
       "Batches:   0%|          | 0/13 [00:00<?, ?it/s]"
      ]
     },
     "metadata": {},
     "output_type": "display_data"
    },
    {
     "name": "stderr",
     "output_type": "stream",
     "text": [
      "Processing rows:  38%|███▊      | 19/50 [00:34<00:56,  1.81s/row]"
     ]
    },
    {
     "data": {
      "application/vnd.jupyter.widget-view+json": {
       "model_id": "b7d3b7f6bc254a7fab1dd33c154c9f95",
       "version_major": 2,
       "version_minor": 0
      },
      "text/plain": [
       "Batches:   0%|          | 0/1 [00:00<?, ?it/s]"
      ]
     },
     "metadata": {},
     "output_type": "display_data"
    },
    {
     "data": {
      "application/vnd.jupyter.widget-view+json": {
       "model_id": "6c15e21a5f864ee192a5014c77558d45",
       "version_major": 2,
       "version_minor": 0
      },
      "text/plain": [
       "Batches:   0%|          | 0/10 [00:00<?, ?it/s]"
      ]
     },
     "metadata": {},
     "output_type": "display_data"
    },
    {
     "data": {
      "application/vnd.jupyter.widget-view+json": {
       "model_id": "ec398bb0af494ce39cf85c62ecc09f51",
       "version_major": 2,
       "version_minor": 0
      },
      "text/plain": [
       "Batches:   0%|          | 0/1 [00:00<?, ?it/s]"
      ]
     },
     "metadata": {},
     "output_type": "display_data"
    },
    {
     "data": {
      "application/vnd.jupyter.widget-view+json": {
       "model_id": "2e87a24813a446e887b972c7cdc5a8b0",
       "version_major": 2,
       "version_minor": 0
      },
      "text/plain": [
       "Batches:   0%|          | 0/15 [00:00<?, ?it/s]"
      ]
     },
     "metadata": {},
     "output_type": "display_data"
    },
    {
     "data": {
      "application/vnd.jupyter.widget-view+json": {
       "model_id": "8aff704a19c54b12a18a20f612321542",
       "version_major": 2,
       "version_minor": 0
      },
      "text/plain": [
       "Batches:   0%|          | 0/1 [00:00<?, ?it/s]"
      ]
     },
     "metadata": {},
     "output_type": "display_data"
    },
    {
     "data": {
      "application/vnd.jupyter.widget-view+json": {
       "model_id": "d46eb931276a428f8a5692c7f473eff0",
       "version_major": 2,
       "version_minor": 0
      },
      "text/plain": [
       "Batches:   0%|          | 0/10 [00:00<?, ?it/s]"
      ]
     },
     "metadata": {},
     "output_type": "display_data"
    },
    {
     "data": {
      "application/vnd.jupyter.widget-view+json": {
       "model_id": "50fb03b5a21a42d2857d6a69b3f31522",
       "version_major": 2,
       "version_minor": 0
      },
      "text/plain": [
       "Batches:   0%|          | 0/1 [00:00<?, ?it/s]"
      ]
     },
     "metadata": {},
     "output_type": "display_data"
    },
    {
     "data": {
      "application/vnd.jupyter.widget-view+json": {
       "model_id": "a979d3ec34b842708271e16b75424536",
       "version_major": 2,
       "version_minor": 0
      },
      "text/plain": [
       "Batches:   0%|          | 0/16 [00:00<?, ?it/s]"
      ]
     },
     "metadata": {},
     "output_type": "display_data"
    },
    {
     "name": "stderr",
     "output_type": "stream",
     "text": [
      "Processing rows:  40%|████      | 20/50 [00:36<00:54,  1.80s/row]"
     ]
    },
    {
     "data": {
      "application/vnd.jupyter.widget-view+json": {
       "model_id": "9baf952505514d33aa5d998492b26acf",
       "version_major": 2,
       "version_minor": 0
      },
      "text/plain": [
       "Batches:   0%|          | 0/1 [00:00<?, ?it/s]"
      ]
     },
     "metadata": {},
     "output_type": "display_data"
    },
    {
     "data": {
      "application/vnd.jupyter.widget-view+json": {
       "model_id": "34c26a10731a45d8ac278c5cec48a394",
       "version_major": 2,
       "version_minor": 0
      },
      "text/plain": [
       "Batches:   0%|          | 0/10 [00:00<?, ?it/s]"
      ]
     },
     "metadata": {},
     "output_type": "display_data"
    },
    {
     "data": {
      "application/vnd.jupyter.widget-view+json": {
       "model_id": "05442d6121e240dda9d16eaec9f5e0ae",
       "version_major": 2,
       "version_minor": 0
      },
      "text/plain": [
       "Batches:   0%|          | 0/1 [00:00<?, ?it/s]"
      ]
     },
     "metadata": {},
     "output_type": "display_data"
    },
    {
     "data": {
      "application/vnd.jupyter.widget-view+json": {
       "model_id": "45890219993f4bee825e6a22ca4e1628",
       "version_major": 2,
       "version_minor": 0
      },
      "text/plain": [
       "Batches:   0%|          | 0/18 [00:00<?, ?it/s]"
      ]
     },
     "metadata": {},
     "output_type": "display_data"
    },
    {
     "data": {
      "application/vnd.jupyter.widget-view+json": {
       "model_id": "44ed5ee081c84e98ad6a1fbebf1233d1",
       "version_major": 2,
       "version_minor": 0
      },
      "text/plain": [
       "Batches:   0%|          | 0/1 [00:00<?, ?it/s]"
      ]
     },
     "metadata": {},
     "output_type": "display_data"
    },
    {
     "data": {
      "application/vnd.jupyter.widget-view+json": {
       "model_id": "ce83a6bb6f904381b32e39f2c23f8862",
       "version_major": 2,
       "version_minor": 0
      },
      "text/plain": [
       "Batches:   0%|          | 0/10 [00:00<?, ?it/s]"
      ]
     },
     "metadata": {},
     "output_type": "display_data"
    },
    {
     "data": {
      "application/vnd.jupyter.widget-view+json": {
       "model_id": "462b457b385e403ebba567717e76ed66",
       "version_major": 2,
       "version_minor": 0
      },
      "text/plain": [
       "Batches:   0%|          | 0/1 [00:00<?, ?it/s]"
      ]
     },
     "metadata": {},
     "output_type": "display_data"
    },
    {
     "data": {
      "application/vnd.jupyter.widget-view+json": {
       "model_id": "8e838c0cb47443b882d6d40f4e93b554",
       "version_major": 2,
       "version_minor": 0
      },
      "text/plain": [
       "Batches:   0%|          | 0/19 [00:00<?, ?it/s]"
      ]
     },
     "metadata": {},
     "output_type": "display_data"
    },
    {
     "name": "stderr",
     "output_type": "stream",
     "text": [
      "Processing rows:  42%|████▏     | 21/50 [00:38<00:53,  1.84s/row]"
     ]
    },
    {
     "data": {
      "application/vnd.jupyter.widget-view+json": {
       "model_id": "5699d409313f49c4bb1cfdc6aeb8bce8",
       "version_major": 2,
       "version_minor": 0
      },
      "text/plain": [
       "Batches:   0%|          | 0/1 [00:00<?, ?it/s]"
      ]
     },
     "metadata": {},
     "output_type": "display_data"
    },
    {
     "data": {
      "application/vnd.jupyter.widget-view+json": {
       "model_id": "0e1507af00e7406eabb8ac29bc4e7af5",
       "version_major": 2,
       "version_minor": 0
      },
      "text/plain": [
       "Batches:   0%|          | 0/10 [00:00<?, ?it/s]"
      ]
     },
     "metadata": {},
     "output_type": "display_data"
    },
    {
     "data": {
      "application/vnd.jupyter.widget-view+json": {
       "model_id": "0ec76dd79d3a4365bf7afe4d1e181e9a",
       "version_major": 2,
       "version_minor": 0
      },
      "text/plain": [
       "Batches:   0%|          | 0/1 [00:00<?, ?it/s]"
      ]
     },
     "metadata": {},
     "output_type": "display_data"
    },
    {
     "data": {
      "application/vnd.jupyter.widget-view+json": {
       "model_id": "55acb1f952794e43a00073097724bf6b",
       "version_major": 2,
       "version_minor": 0
      },
      "text/plain": [
       "Batches:   0%|          | 0/16 [00:00<?, ?it/s]"
      ]
     },
     "metadata": {},
     "output_type": "display_data"
    },
    {
     "data": {
      "application/vnd.jupyter.widget-view+json": {
       "model_id": "5cdf1ae31a4e4d23a83d16c7770aa3d1",
       "version_major": 2,
       "version_minor": 0
      },
      "text/plain": [
       "Batches:   0%|          | 0/1 [00:00<?, ?it/s]"
      ]
     },
     "metadata": {},
     "output_type": "display_data"
    },
    {
     "data": {
      "application/vnd.jupyter.widget-view+json": {
       "model_id": "8aacbebc9bce4372ae74912e035d8ef0",
       "version_major": 2,
       "version_minor": 0
      },
      "text/plain": [
       "Batches:   0%|          | 0/10 [00:00<?, ?it/s]"
      ]
     },
     "metadata": {},
     "output_type": "display_data"
    },
    {
     "data": {
      "application/vnd.jupyter.widget-view+json": {
       "model_id": "f5213b4d916f409f8351745a7e9d7e27",
       "version_major": 2,
       "version_minor": 0
      },
      "text/plain": [
       "Batches:   0%|          | 0/1 [00:00<?, ?it/s]"
      ]
     },
     "metadata": {},
     "output_type": "display_data"
    },
    {
     "data": {
      "application/vnd.jupyter.widget-view+json": {
       "model_id": "793f703448624f12a123b2a5d82c572c",
       "version_major": 2,
       "version_minor": 0
      },
      "text/plain": [
       "Batches:   0%|          | 0/14 [00:00<?, ?it/s]"
      ]
     },
     "metadata": {},
     "output_type": "display_data"
    },
    {
     "name": "stderr",
     "output_type": "stream",
     "text": [
      "Processing rows:  44%|████▍     | 22/50 [00:40<00:51,  1.84s/row]"
     ]
    },
    {
     "data": {
      "application/vnd.jupyter.widget-view+json": {
       "model_id": "0a93f7aa29a84650a03ca83f9a066d54",
       "version_major": 2,
       "version_minor": 0
      },
      "text/plain": [
       "Batches:   0%|          | 0/1 [00:00<?, ?it/s]"
      ]
     },
     "metadata": {},
     "output_type": "display_data"
    },
    {
     "data": {
      "application/vnd.jupyter.widget-view+json": {
       "model_id": "f94ee5eac4884e2e8b2f35e92e8a262b",
       "version_major": 2,
       "version_minor": 0
      },
      "text/plain": [
       "Batches:   0%|          | 0/10 [00:00<?, ?it/s]"
      ]
     },
     "metadata": {},
     "output_type": "display_data"
    },
    {
     "data": {
      "application/vnd.jupyter.widget-view+json": {
       "model_id": "397dde5535a4473b9b08f8fad68b397c",
       "version_major": 2,
       "version_minor": 0
      },
      "text/plain": [
       "Batches:   0%|          | 0/1 [00:00<?, ?it/s]"
      ]
     },
     "metadata": {},
     "output_type": "display_data"
    },
    {
     "data": {
      "application/vnd.jupyter.widget-view+json": {
       "model_id": "af2132baaad144e5bc2fa4bd754a30f8",
       "version_major": 2,
       "version_minor": 0
      },
      "text/plain": [
       "Batches:   0%|          | 0/17 [00:00<?, ?it/s]"
      ]
     },
     "metadata": {},
     "output_type": "display_data"
    },
    {
     "data": {
      "application/vnd.jupyter.widget-view+json": {
       "model_id": "ca45380f4b33449392205201631fd999",
       "version_major": 2,
       "version_minor": 0
      },
      "text/plain": [
       "Batches:   0%|          | 0/1 [00:00<?, ?it/s]"
      ]
     },
     "metadata": {},
     "output_type": "display_data"
    },
    {
     "data": {
      "application/vnd.jupyter.widget-view+json": {
       "model_id": "8d59f96450a84c43a1854b773d10e20c",
       "version_major": 2,
       "version_minor": 0
      },
      "text/plain": [
       "Batches:   0%|          | 0/10 [00:00<?, ?it/s]"
      ]
     },
     "metadata": {},
     "output_type": "display_data"
    },
    {
     "data": {
      "application/vnd.jupyter.widget-view+json": {
       "model_id": "d34f7cd1a03a417cbf0f6d4134e62b73",
       "version_major": 2,
       "version_minor": 0
      },
      "text/plain": [
       "Batches:   0%|          | 0/1 [00:00<?, ?it/s]"
      ]
     },
     "metadata": {},
     "output_type": "display_data"
    },
    {
     "data": {
      "application/vnd.jupyter.widget-view+json": {
       "model_id": "525b61c03c624d8fab5c49cca98a0b36",
       "version_major": 2,
       "version_minor": 0
      },
      "text/plain": [
       "Batches:   0%|          | 0/14 [00:00<?, ?it/s]"
      ]
     },
     "metadata": {},
     "output_type": "display_data"
    },
    {
     "name": "stderr",
     "output_type": "stream",
     "text": [
      "Processing rows:  46%|████▌     | 23/50 [00:42<00:49,  1.84s/row]"
     ]
    },
    {
     "data": {
      "application/vnd.jupyter.widget-view+json": {
       "model_id": "932d98a267ff486495b4efbfd523eb1b",
       "version_major": 2,
       "version_minor": 0
      },
      "text/plain": [
       "Batches:   0%|          | 0/1 [00:00<?, ?it/s]"
      ]
     },
     "metadata": {},
     "output_type": "display_data"
    },
    {
     "data": {
      "application/vnd.jupyter.widget-view+json": {
       "model_id": "5345173959744624957afb1e105522ad",
       "version_major": 2,
       "version_minor": 0
      },
      "text/plain": [
       "Batches:   0%|          | 0/10 [00:00<?, ?it/s]"
      ]
     },
     "metadata": {},
     "output_type": "display_data"
    },
    {
     "data": {
      "application/vnd.jupyter.widget-view+json": {
       "model_id": "d535b8b7f7654b4f9b1060b77e3cd544",
       "version_major": 2,
       "version_minor": 0
      },
      "text/plain": [
       "Batches:   0%|          | 0/1 [00:00<?, ?it/s]"
      ]
     },
     "metadata": {},
     "output_type": "display_data"
    },
    {
     "data": {
      "application/vnd.jupyter.widget-view+json": {
       "model_id": "6bae44fe400c473682554a35b31736e1",
       "version_major": 2,
       "version_minor": 0
      },
      "text/plain": [
       "Batches:   0%|          | 0/16 [00:00<?, ?it/s]"
      ]
     },
     "metadata": {},
     "output_type": "display_data"
    },
    {
     "data": {
      "application/vnd.jupyter.widget-view+json": {
       "model_id": "a3c90673ab49452f942ff60233f4b195",
       "version_major": 2,
       "version_minor": 0
      },
      "text/plain": [
       "Batches:   0%|          | 0/1 [00:00<?, ?it/s]"
      ]
     },
     "metadata": {},
     "output_type": "display_data"
    },
    {
     "data": {
      "application/vnd.jupyter.widget-view+json": {
       "model_id": "4beef2fcca4a48f68a36e2a50ebd8a02",
       "version_major": 2,
       "version_minor": 0
      },
      "text/plain": [
       "Batches:   0%|          | 0/10 [00:00<?, ?it/s]"
      ]
     },
     "metadata": {},
     "output_type": "display_data"
    },
    {
     "data": {
      "application/vnd.jupyter.widget-view+json": {
       "model_id": "b803fd6fabc8460f8c5e4b5cdf15e972",
       "version_major": 2,
       "version_minor": 0
      },
      "text/plain": [
       "Batches:   0%|          | 0/1 [00:00<?, ?it/s]"
      ]
     },
     "metadata": {},
     "output_type": "display_data"
    },
    {
     "data": {
      "application/vnd.jupyter.widget-view+json": {
       "model_id": "56d7616ff8a64029b8fd1f142b929181",
       "version_major": 2,
       "version_minor": 0
      },
      "text/plain": [
       "Batches:   0%|          | 0/15 [00:00<?, ?it/s]"
      ]
     },
     "metadata": {},
     "output_type": "display_data"
    },
    {
     "name": "stderr",
     "output_type": "stream",
     "text": [
      "Processing rows:  48%|████▊     | 24/50 [00:43<00:47,  1.81s/row]"
     ]
    },
    {
     "data": {
      "application/vnd.jupyter.widget-view+json": {
       "model_id": "e69ee9a89eed4774a9e5ba4b264da1ec",
       "version_major": 2,
       "version_minor": 0
      },
      "text/plain": [
       "Batches:   0%|          | 0/1 [00:00<?, ?it/s]"
      ]
     },
     "metadata": {},
     "output_type": "display_data"
    },
    {
     "data": {
      "application/vnd.jupyter.widget-view+json": {
       "model_id": "2eb7b008874f458199345299eb6ae03a",
       "version_major": 2,
       "version_minor": 0
      },
      "text/plain": [
       "Batches:   0%|          | 0/10 [00:00<?, ?it/s]"
      ]
     },
     "metadata": {},
     "output_type": "display_data"
    },
    {
     "data": {
      "application/vnd.jupyter.widget-view+json": {
       "model_id": "8cae074d3b814d09aa7fc641209b4926",
       "version_major": 2,
       "version_minor": 0
      },
      "text/plain": [
       "Batches:   0%|          | 0/1 [00:00<?, ?it/s]"
      ]
     },
     "metadata": {},
     "output_type": "display_data"
    },
    {
     "data": {
      "application/vnd.jupyter.widget-view+json": {
       "model_id": "4ab1dff427934826916f8dd397589891",
       "version_major": 2,
       "version_minor": 0
      },
      "text/plain": [
       "Batches:   0%|          | 0/20 [00:00<?, ?it/s]"
      ]
     },
     "metadata": {},
     "output_type": "display_data"
    },
    {
     "data": {
      "application/vnd.jupyter.widget-view+json": {
       "model_id": "f8a31b8f08774d9da6582362988c8c8d",
       "version_major": 2,
       "version_minor": 0
      },
      "text/plain": [
       "Batches:   0%|          | 0/1 [00:00<?, ?it/s]"
      ]
     },
     "metadata": {},
     "output_type": "display_data"
    },
    {
     "data": {
      "application/vnd.jupyter.widget-view+json": {
       "model_id": "0e0099fd79f74bf78f3d66c7f8ed5fc0",
       "version_major": 2,
       "version_minor": 0
      },
      "text/plain": [
       "Batches:   0%|          | 0/10 [00:00<?, ?it/s]"
      ]
     },
     "metadata": {},
     "output_type": "display_data"
    },
    {
     "data": {
      "application/vnd.jupyter.widget-view+json": {
       "model_id": "9c310f082fe6480aa9b2b47644865c88",
       "version_major": 2,
       "version_minor": 0
      },
      "text/plain": [
       "Batches:   0%|          | 0/1 [00:00<?, ?it/s]"
      ]
     },
     "metadata": {},
     "output_type": "display_data"
    },
    {
     "data": {
      "application/vnd.jupyter.widget-view+json": {
       "model_id": "76885fc4b7e54cdfafb909d85f8d251b",
       "version_major": 2,
       "version_minor": 0
      },
      "text/plain": [
       "Batches:   0%|          | 0/19 [00:00<?, ?it/s]"
      ]
     },
     "metadata": {},
     "output_type": "display_data"
    },
    {
     "name": "stderr",
     "output_type": "stream",
     "text": [
      "Processing rows:  50%|█████     | 25/50 [00:45<00:46,  1.85s/row]"
     ]
    },
    {
     "data": {
      "application/vnd.jupyter.widget-view+json": {
       "model_id": "ad7919bf56614a028001065f38bd693e",
       "version_major": 2,
       "version_minor": 0
      },
      "text/plain": [
       "Batches:   0%|          | 0/1 [00:00<?, ?it/s]"
      ]
     },
     "metadata": {},
     "output_type": "display_data"
    },
    {
     "data": {
      "application/vnd.jupyter.widget-view+json": {
       "model_id": "7545463a7fef4f2c8909b9cabba6fde5",
       "version_major": 2,
       "version_minor": 0
      },
      "text/plain": [
       "Batches:   0%|          | 0/10 [00:00<?, ?it/s]"
      ]
     },
     "metadata": {},
     "output_type": "display_data"
    },
    {
     "data": {
      "application/vnd.jupyter.widget-view+json": {
       "model_id": "c472755f328448c2b7cfddaa9f430d6c",
       "version_major": 2,
       "version_minor": 0
      },
      "text/plain": [
       "Batches:   0%|          | 0/1 [00:00<?, ?it/s]"
      ]
     },
     "metadata": {},
     "output_type": "display_data"
    },
    {
     "data": {
      "application/vnd.jupyter.widget-view+json": {
       "model_id": "29200b3f307c44859abc2693c5f29545",
       "version_major": 2,
       "version_minor": 0
      },
      "text/plain": [
       "Batches:   0%|          | 0/17 [00:00<?, ?it/s]"
      ]
     },
     "metadata": {},
     "output_type": "display_data"
    },
    {
     "data": {
      "application/vnd.jupyter.widget-view+json": {
       "model_id": "bb0b70bff25b41ecb232f2c51eddeacf",
       "version_major": 2,
       "version_minor": 0
      },
      "text/plain": [
       "Batches:   0%|          | 0/1 [00:00<?, ?it/s]"
      ]
     },
     "metadata": {},
     "output_type": "display_data"
    },
    {
     "data": {
      "application/vnd.jupyter.widget-view+json": {
       "model_id": "d6d981613ba34bb8a179b633db7ee4ec",
       "version_major": 2,
       "version_minor": 0
      },
      "text/plain": [
       "Batches:   0%|          | 0/10 [00:00<?, ?it/s]"
      ]
     },
     "metadata": {},
     "output_type": "display_data"
    },
    {
     "data": {
      "application/vnd.jupyter.widget-view+json": {
       "model_id": "09d9cabcd7a44371ab1064668c7a5716",
       "version_major": 2,
       "version_minor": 0
      },
      "text/plain": [
       "Batches:   0%|          | 0/1 [00:00<?, ?it/s]"
      ]
     },
     "metadata": {},
     "output_type": "display_data"
    },
    {
     "data": {
      "application/vnd.jupyter.widget-view+json": {
       "model_id": "71212189a8d942c9b917b4079c3e2b17",
       "version_major": 2,
       "version_minor": 0
      },
      "text/plain": [
       "Batches:   0%|          | 0/15 [00:00<?, ?it/s]"
      ]
     },
     "metadata": {},
     "output_type": "display_data"
    },
    {
     "name": "stderr",
     "output_type": "stream",
     "text": [
      "Processing rows:  52%|█████▏    | 26/50 [00:47<00:44,  1.84s/row]"
     ]
    },
    {
     "data": {
      "application/vnd.jupyter.widget-view+json": {
       "model_id": "58a08f4947e0413fafd86b6a8c5a54d0",
       "version_major": 2,
       "version_minor": 0
      },
      "text/plain": [
       "Batches:   0%|          | 0/1 [00:00<?, ?it/s]"
      ]
     },
     "metadata": {},
     "output_type": "display_data"
    },
    {
     "data": {
      "application/vnd.jupyter.widget-view+json": {
       "model_id": "c8de1f502a824ec2ad1ac1210d4e245c",
       "version_major": 2,
       "version_minor": 0
      },
      "text/plain": [
       "Batches:   0%|          | 0/10 [00:00<?, ?it/s]"
      ]
     },
     "metadata": {},
     "output_type": "display_data"
    },
    {
     "data": {
      "application/vnd.jupyter.widget-view+json": {
       "model_id": "3495eac5cdb94e2eb3b6ae5e81657a12",
       "version_major": 2,
       "version_minor": 0
      },
      "text/plain": [
       "Batches:   0%|          | 0/1 [00:00<?, ?it/s]"
      ]
     },
     "metadata": {},
     "output_type": "display_data"
    },
    {
     "data": {
      "application/vnd.jupyter.widget-view+json": {
       "model_id": "743b07ff69c245dd8edbad92bc1a6a7f",
       "version_major": 2,
       "version_minor": 0
      },
      "text/plain": [
       "Batches:   0%|          | 0/19 [00:00<?, ?it/s]"
      ]
     },
     "metadata": {},
     "output_type": "display_data"
    },
    {
     "data": {
      "application/vnd.jupyter.widget-view+json": {
       "model_id": "d459803673894e418c2eb75745da9249",
       "version_major": 2,
       "version_minor": 0
      },
      "text/plain": [
       "Batches:   0%|          | 0/1 [00:00<?, ?it/s]"
      ]
     },
     "metadata": {},
     "output_type": "display_data"
    },
    {
     "data": {
      "application/vnd.jupyter.widget-view+json": {
       "model_id": "4e0a563532ba4ea6948bcb64457232d5",
       "version_major": 2,
       "version_minor": 0
      },
      "text/plain": [
       "Batches:   0%|          | 0/10 [00:00<?, ?it/s]"
      ]
     },
     "metadata": {},
     "output_type": "display_data"
    },
    {
     "data": {
      "application/vnd.jupyter.widget-view+json": {
       "model_id": "9efd78608cb64f99a1bdea4102fbadde",
       "version_major": 2,
       "version_minor": 0
      },
      "text/plain": [
       "Batches:   0%|          | 0/1 [00:00<?, ?it/s]"
      ]
     },
     "metadata": {},
     "output_type": "display_data"
    },
    {
     "data": {
      "application/vnd.jupyter.widget-view+json": {
       "model_id": "dc34de14ea154657bf2fd0fd43ab586c",
       "version_major": 2,
       "version_minor": 0
      },
      "text/plain": [
       "Batches:   0%|          | 0/20 [00:00<?, ?it/s]"
      ]
     },
     "metadata": {},
     "output_type": "display_data"
    },
    {
     "name": "stderr",
     "output_type": "stream",
     "text": [
      "Processing rows:  54%|█████▍    | 27/50 [00:49<00:43,  1.87s/row]"
     ]
    },
    {
     "data": {
      "application/vnd.jupyter.widget-view+json": {
       "model_id": "530386c2d7cc42758c15c488a1042e05",
       "version_major": 2,
       "version_minor": 0
      },
      "text/plain": [
       "Batches:   0%|          | 0/1 [00:00<?, ?it/s]"
      ]
     },
     "metadata": {},
     "output_type": "display_data"
    },
    {
     "data": {
      "application/vnd.jupyter.widget-view+json": {
       "model_id": "8d76f64d553e4c27a473a63e8b5fb58f",
       "version_major": 2,
       "version_minor": 0
      },
      "text/plain": [
       "Batches:   0%|          | 0/10 [00:00<?, ?it/s]"
      ]
     },
     "metadata": {},
     "output_type": "display_data"
    },
    {
     "data": {
      "application/vnd.jupyter.widget-view+json": {
       "model_id": "6429fad5826b471f8dce19ba89ce1961",
       "version_major": 2,
       "version_minor": 0
      },
      "text/plain": [
       "Batches:   0%|          | 0/1 [00:00<?, ?it/s]"
      ]
     },
     "metadata": {},
     "output_type": "display_data"
    },
    {
     "data": {
      "application/vnd.jupyter.widget-view+json": {
       "model_id": "a986c6e7525b47aa8381b1bf32b162d3",
       "version_major": 2,
       "version_minor": 0
      },
      "text/plain": [
       "Batches:   0%|          | 0/10 [00:00<?, ?it/s]"
      ]
     },
     "metadata": {},
     "output_type": "display_data"
    },
    {
     "data": {
      "application/vnd.jupyter.widget-view+json": {
       "model_id": "497de70b0e264ea7b8cce3958518fc3b",
       "version_major": 2,
       "version_minor": 0
      },
      "text/plain": [
       "Batches:   0%|          | 0/1 [00:00<?, ?it/s]"
      ]
     },
     "metadata": {},
     "output_type": "display_data"
    },
    {
     "data": {
      "application/vnd.jupyter.widget-view+json": {
       "model_id": "ac6fbc7734fa4416bd78d9e0f0e23a8a",
       "version_major": 2,
       "version_minor": 0
      },
      "text/plain": [
       "Batches:   0%|          | 0/10 [00:00<?, ?it/s]"
      ]
     },
     "metadata": {},
     "output_type": "display_data"
    },
    {
     "data": {
      "application/vnd.jupyter.widget-view+json": {
       "model_id": "3d946a8e8ae04d80aee7f1abd4ce3761",
       "version_major": 2,
       "version_minor": 0
      },
      "text/plain": [
       "Batches:   0%|          | 0/1 [00:00<?, ?it/s]"
      ]
     },
     "metadata": {},
     "output_type": "display_data"
    },
    {
     "data": {
      "application/vnd.jupyter.widget-view+json": {
       "model_id": "74d7b4c684bf459c9562e1db345cef35",
       "version_major": 2,
       "version_minor": 0
      },
      "text/plain": [
       "Batches:   0%|          | 0/10 [00:00<?, ?it/s]"
      ]
     },
     "metadata": {},
     "output_type": "display_data"
    },
    {
     "name": "stderr",
     "output_type": "stream",
     "text": [
      "Processing rows:  56%|█████▌    | 28/50 [00:50<00:38,  1.74s/row]"
     ]
    },
    {
     "data": {
      "application/vnd.jupyter.widget-view+json": {
       "model_id": "2cc63b6c8dfa425b91de85faafc7d9c3",
       "version_major": 2,
       "version_minor": 0
      },
      "text/plain": [
       "Batches:   0%|          | 0/1 [00:00<?, ?it/s]"
      ]
     },
     "metadata": {},
     "output_type": "display_data"
    },
    {
     "data": {
      "application/vnd.jupyter.widget-view+json": {
       "model_id": "c8a5e07a41b44a29bd0ccfa1fa9daaa4",
       "version_major": 2,
       "version_minor": 0
      },
      "text/plain": [
       "Batches:   0%|          | 0/10 [00:00<?, ?it/s]"
      ]
     },
     "metadata": {},
     "output_type": "display_data"
    },
    {
     "data": {
      "application/vnd.jupyter.widget-view+json": {
       "model_id": "748e81c652044de4b4f124e4c16ea490",
       "version_major": 2,
       "version_minor": 0
      },
      "text/plain": [
       "Batches:   0%|          | 0/1 [00:00<?, ?it/s]"
      ]
     },
     "metadata": {},
     "output_type": "display_data"
    },
    {
     "data": {
      "application/vnd.jupyter.widget-view+json": {
       "model_id": "f0db504329d44a3abc7e7e15a4dd1dc9",
       "version_major": 2,
       "version_minor": 0
      },
      "text/plain": [
       "Batches:   0%|          | 0/15 [00:00<?, ?it/s]"
      ]
     },
     "metadata": {},
     "output_type": "display_data"
    },
    {
     "data": {
      "application/vnd.jupyter.widget-view+json": {
       "model_id": "beeda351c4d2472ebc25b1cafdd1a40a",
       "version_major": 2,
       "version_minor": 0
      },
      "text/plain": [
       "Batches:   0%|          | 0/1 [00:00<?, ?it/s]"
      ]
     },
     "metadata": {},
     "output_type": "display_data"
    },
    {
     "data": {
      "application/vnd.jupyter.widget-view+json": {
       "model_id": "7770c9aefe234c69af513aa38b81aec0",
       "version_major": 2,
       "version_minor": 0
      },
      "text/plain": [
       "Batches:   0%|          | 0/10 [00:00<?, ?it/s]"
      ]
     },
     "metadata": {},
     "output_type": "display_data"
    },
    {
     "data": {
      "application/vnd.jupyter.widget-view+json": {
       "model_id": "2651de4cea594165840a11cf5f546dd7",
       "version_major": 2,
       "version_minor": 0
      },
      "text/plain": [
       "Batches:   0%|          | 0/1 [00:00<?, ?it/s]"
      ]
     },
     "metadata": {},
     "output_type": "display_data"
    },
    {
     "data": {
      "application/vnd.jupyter.widget-view+json": {
       "model_id": "0e7e6729910e43e5b8c9047f330d7ebb",
       "version_major": 2,
       "version_minor": 0
      },
      "text/plain": [
       "Batches:   0%|          | 0/14 [00:00<?, ?it/s]"
      ]
     },
     "metadata": {},
     "output_type": "display_data"
    },
    {
     "name": "stderr",
     "output_type": "stream",
     "text": [
      "Processing rows:  58%|█████▊    | 29/50 [00:52<00:36,  1.73s/row]"
     ]
    },
    {
     "data": {
      "application/vnd.jupyter.widget-view+json": {
       "model_id": "ee86612a1cc84ea38339447196d2672f",
       "version_major": 2,
       "version_minor": 0
      },
      "text/plain": [
       "Batches:   0%|          | 0/1 [00:00<?, ?it/s]"
      ]
     },
     "metadata": {},
     "output_type": "display_data"
    },
    {
     "data": {
      "application/vnd.jupyter.widget-view+json": {
       "model_id": "36b578289651458c94cf1436a5b439c3",
       "version_major": 2,
       "version_minor": 0
      },
      "text/plain": [
       "Batches:   0%|          | 0/10 [00:00<?, ?it/s]"
      ]
     },
     "metadata": {},
     "output_type": "display_data"
    },
    {
     "data": {
      "application/vnd.jupyter.widget-view+json": {
       "model_id": "2b89ef9cc39d4cbd84bf52a14175c628",
       "version_major": 2,
       "version_minor": 0
      },
      "text/plain": [
       "Batches:   0%|          | 0/1 [00:00<?, ?it/s]"
      ]
     },
     "metadata": {},
     "output_type": "display_data"
    },
    {
     "data": {
      "application/vnd.jupyter.widget-view+json": {
       "model_id": "1ab000192f4646d4adb370ce2f1c6cd1",
       "version_major": 2,
       "version_minor": 0
      },
      "text/plain": [
       "Batches:   0%|          | 0/16 [00:00<?, ?it/s]"
      ]
     },
     "metadata": {},
     "output_type": "display_data"
    },
    {
     "data": {
      "application/vnd.jupyter.widget-view+json": {
       "model_id": "d1607b0c405d46dab11173663746071f",
       "version_major": 2,
       "version_minor": 0
      },
      "text/plain": [
       "Batches:   0%|          | 0/1 [00:00<?, ?it/s]"
      ]
     },
     "metadata": {},
     "output_type": "display_data"
    },
    {
     "data": {
      "application/vnd.jupyter.widget-view+json": {
       "model_id": "2303f612cd1946f08fa17871d648f8c1",
       "version_major": 2,
       "version_minor": 0
      },
      "text/plain": [
       "Batches:   0%|          | 0/10 [00:00<?, ?it/s]"
      ]
     },
     "metadata": {},
     "output_type": "display_data"
    },
    {
     "data": {
      "application/vnd.jupyter.widget-view+json": {
       "model_id": "3a0a3645adcf4c889c7394866ae0b2c2",
       "version_major": 2,
       "version_minor": 0
      },
      "text/plain": [
       "Batches:   0%|          | 0/1 [00:00<?, ?it/s]"
      ]
     },
     "metadata": {},
     "output_type": "display_data"
    },
    {
     "data": {
      "application/vnd.jupyter.widget-view+json": {
       "model_id": "04316110f20e4061b20cedbb5e541347",
       "version_major": 2,
       "version_minor": 0
      },
      "text/plain": [
       "Batches:   0%|          | 0/17 [00:00<?, ?it/s]"
      ]
     },
     "metadata": {},
     "output_type": "display_data"
    },
    {
     "name": "stderr",
     "output_type": "stream",
     "text": [
      "Processing rows:  60%|██████    | 30/50 [00:54<00:35,  1.76s/row]"
     ]
    },
    {
     "data": {
      "application/vnd.jupyter.widget-view+json": {
       "model_id": "a028a83c66aa49f989ad498684ddb2a7",
       "version_major": 2,
       "version_minor": 0
      },
      "text/plain": [
       "Batches:   0%|          | 0/1 [00:00<?, ?it/s]"
      ]
     },
     "metadata": {},
     "output_type": "display_data"
    },
    {
     "data": {
      "application/vnd.jupyter.widget-view+json": {
       "model_id": "0ee4d5a7e18245da96b77c24f7db25ec",
       "version_major": 2,
       "version_minor": 0
      },
      "text/plain": [
       "Batches:   0%|          | 0/10 [00:00<?, ?it/s]"
      ]
     },
     "metadata": {},
     "output_type": "display_data"
    },
    {
     "data": {
      "application/vnd.jupyter.widget-view+json": {
       "model_id": "e12e484b94f645c9925271c0201acbc7",
       "version_major": 2,
       "version_minor": 0
      },
      "text/plain": [
       "Batches:   0%|          | 0/1 [00:00<?, ?it/s]"
      ]
     },
     "metadata": {},
     "output_type": "display_data"
    },
    {
     "data": {
      "application/vnd.jupyter.widget-view+json": {
       "model_id": "c23e05118ce34916af5c986d59f9c1d8",
       "version_major": 2,
       "version_minor": 0
      },
      "text/plain": [
       "Batches:   0%|          | 0/17 [00:00<?, ?it/s]"
      ]
     },
     "metadata": {},
     "output_type": "display_data"
    },
    {
     "data": {
      "application/vnd.jupyter.widget-view+json": {
       "model_id": "1400931a0d4e488d8dc8fa0892bcfef8",
       "version_major": 2,
       "version_minor": 0
      },
      "text/plain": [
       "Batches:   0%|          | 0/1 [00:00<?, ?it/s]"
      ]
     },
     "metadata": {},
     "output_type": "display_data"
    },
    {
     "data": {
      "application/vnd.jupyter.widget-view+json": {
       "model_id": "96ef59d33af94215ab208dd571c65469",
       "version_major": 2,
       "version_minor": 0
      },
      "text/plain": [
       "Batches:   0%|          | 0/10 [00:00<?, ?it/s]"
      ]
     },
     "metadata": {},
     "output_type": "display_data"
    },
    {
     "data": {
      "application/vnd.jupyter.widget-view+json": {
       "model_id": "6f80dda931fb45f6b1dfc0419a538ff7",
       "version_major": 2,
       "version_minor": 0
      },
      "text/plain": [
       "Batches:   0%|          | 0/1 [00:00<?, ?it/s]"
      ]
     },
     "metadata": {},
     "output_type": "display_data"
    },
    {
     "data": {
      "application/vnd.jupyter.widget-view+json": {
       "model_id": "adf40b6b88184b9591340107949109b2",
       "version_major": 2,
       "version_minor": 0
      },
      "text/plain": [
       "Batches:   0%|          | 0/19 [00:00<?, ?it/s]"
      ]
     },
     "metadata": {},
     "output_type": "display_data"
    },
    {
     "name": "stderr",
     "output_type": "stream",
     "text": [
      "Processing rows:  62%|██████▏   | 31/50 [00:56<00:34,  1.79s/row]"
     ]
    },
    {
     "data": {
      "application/vnd.jupyter.widget-view+json": {
       "model_id": "6069f2f5025c45d5a5aa4cb2e699c091",
       "version_major": 2,
       "version_minor": 0
      },
      "text/plain": [
       "Batches:   0%|          | 0/1 [00:00<?, ?it/s]"
      ]
     },
     "metadata": {},
     "output_type": "display_data"
    },
    {
     "data": {
      "application/vnd.jupyter.widget-view+json": {
       "model_id": "2e2d12c341c146a5a631f9df194c4fd2",
       "version_major": 2,
       "version_minor": 0
      },
      "text/plain": [
       "Batches:   0%|          | 0/10 [00:00<?, ?it/s]"
      ]
     },
     "metadata": {},
     "output_type": "display_data"
    },
    {
     "data": {
      "application/vnd.jupyter.widget-view+json": {
       "model_id": "ea0ce0d3a5af442ab7a886ee22bda1ef",
       "version_major": 2,
       "version_minor": 0
      },
      "text/plain": [
       "Batches:   0%|          | 0/1 [00:00<?, ?it/s]"
      ]
     },
     "metadata": {},
     "output_type": "display_data"
    },
    {
     "data": {
      "application/vnd.jupyter.widget-view+json": {
       "model_id": "d0959e24153d47c19040d29a91047c2f",
       "version_major": 2,
       "version_minor": 0
      },
      "text/plain": [
       "Batches:   0%|          | 0/15 [00:00<?, ?it/s]"
      ]
     },
     "metadata": {},
     "output_type": "display_data"
    },
    {
     "data": {
      "application/vnd.jupyter.widget-view+json": {
       "model_id": "cc27df1650f1466d930210619ad4ad2b",
       "version_major": 2,
       "version_minor": 0
      },
      "text/plain": [
       "Batches:   0%|          | 0/1 [00:00<?, ?it/s]"
      ]
     },
     "metadata": {},
     "output_type": "display_data"
    },
    {
     "data": {
      "application/vnd.jupyter.widget-view+json": {
       "model_id": "b23d0f74c44547b98371eb780abbe55a",
       "version_major": 2,
       "version_minor": 0
      },
      "text/plain": [
       "Batches:   0%|          | 0/10 [00:00<?, ?it/s]"
      ]
     },
     "metadata": {},
     "output_type": "display_data"
    },
    {
     "data": {
      "application/vnd.jupyter.widget-view+json": {
       "model_id": "a38ce553591441dcbf80d433f89c2ab6",
       "version_major": 2,
       "version_minor": 0
      },
      "text/plain": [
       "Batches:   0%|          | 0/1 [00:00<?, ?it/s]"
      ]
     },
     "metadata": {},
     "output_type": "display_data"
    },
    {
     "data": {
      "application/vnd.jupyter.widget-view+json": {
       "model_id": "d9270d22d2a24bbe8d57c94d39c3d7bc",
       "version_major": 2,
       "version_minor": 0
      },
      "text/plain": [
       "Batches:   0%|          | 0/13 [00:00<?, ?it/s]"
      ]
     },
     "metadata": {},
     "output_type": "display_data"
    },
    {
     "name": "stderr",
     "output_type": "stream",
     "text": [
      "Processing rows:  64%|██████▍   | 32/50 [00:58<00:31,  1.77s/row]"
     ]
    },
    {
     "data": {
      "application/vnd.jupyter.widget-view+json": {
       "model_id": "953c1e16226a43ddbecb61a6d59aecf6",
       "version_major": 2,
       "version_minor": 0
      },
      "text/plain": [
       "Batches:   0%|          | 0/1 [00:00<?, ?it/s]"
      ]
     },
     "metadata": {},
     "output_type": "display_data"
    },
    {
     "data": {
      "application/vnd.jupyter.widget-view+json": {
       "model_id": "8380fb0d0f144244ada52adba5ac0370",
       "version_major": 2,
       "version_minor": 0
      },
      "text/plain": [
       "Batches:   0%|          | 0/10 [00:00<?, ?it/s]"
      ]
     },
     "metadata": {},
     "output_type": "display_data"
    },
    {
     "data": {
      "application/vnd.jupyter.widget-view+json": {
       "model_id": "60521ecdb94342328e2638914baf008c",
       "version_major": 2,
       "version_minor": 0
      },
      "text/plain": [
       "Batches:   0%|          | 0/1 [00:00<?, ?it/s]"
      ]
     },
     "metadata": {},
     "output_type": "display_data"
    },
    {
     "data": {
      "application/vnd.jupyter.widget-view+json": {
       "model_id": "c823e6016f904403ac005e03a0c9daa9",
       "version_major": 2,
       "version_minor": 0
      },
      "text/plain": [
       "Batches:   0%|          | 0/17 [00:00<?, ?it/s]"
      ]
     },
     "metadata": {},
     "output_type": "display_data"
    },
    {
     "data": {
      "application/vnd.jupyter.widget-view+json": {
       "model_id": "e210ec538ea7490a9f4002d15af49f76",
       "version_major": 2,
       "version_minor": 0
      },
      "text/plain": [
       "Batches:   0%|          | 0/1 [00:00<?, ?it/s]"
      ]
     },
     "metadata": {},
     "output_type": "display_data"
    },
    {
     "data": {
      "application/vnd.jupyter.widget-view+json": {
       "model_id": "cce805f5c9444a54bab21b13f175b2a9",
       "version_major": 2,
       "version_minor": 0
      },
      "text/plain": [
       "Batches:   0%|          | 0/10 [00:00<?, ?it/s]"
      ]
     },
     "metadata": {},
     "output_type": "display_data"
    },
    {
     "data": {
      "application/vnd.jupyter.widget-view+json": {
       "model_id": "f826206575e2468aa2143944f8236d3a",
       "version_major": 2,
       "version_minor": 0
      },
      "text/plain": [
       "Batches:   0%|          | 0/1 [00:00<?, ?it/s]"
      ]
     },
     "metadata": {},
     "output_type": "display_data"
    },
    {
     "data": {
      "application/vnd.jupyter.widget-view+json": {
       "model_id": "6fd407c9486a41ff9314622352195c79",
       "version_major": 2,
       "version_minor": 0
      },
      "text/plain": [
       "Batches:   0%|          | 0/16 [00:00<?, ?it/s]"
      ]
     },
     "metadata": {},
     "output_type": "display_data"
    },
    {
     "name": "stderr",
     "output_type": "stream",
     "text": [
      "Processing rows:  66%|██████▌   | 33/50 [00:59<00:30,  1.78s/row]"
     ]
    },
    {
     "data": {
      "application/vnd.jupyter.widget-view+json": {
       "model_id": "2bce8c62a4b945fa988d354bdc5e2cfd",
       "version_major": 2,
       "version_minor": 0
      },
      "text/plain": [
       "Batches:   0%|          | 0/1 [00:00<?, ?it/s]"
      ]
     },
     "metadata": {},
     "output_type": "display_data"
    },
    {
     "data": {
      "application/vnd.jupyter.widget-view+json": {
       "model_id": "b50c92f9d7f143948fdb5e774763062b",
       "version_major": 2,
       "version_minor": 0
      },
      "text/plain": [
       "Batches:   0%|          | 0/10 [00:00<?, ?it/s]"
      ]
     },
     "metadata": {},
     "output_type": "display_data"
    },
    {
     "data": {
      "application/vnd.jupyter.widget-view+json": {
       "model_id": "7c92da34c5304fbb96050d5613e36e9e",
       "version_major": 2,
       "version_minor": 0
      },
      "text/plain": [
       "Batches:   0%|          | 0/1 [00:00<?, ?it/s]"
      ]
     },
     "metadata": {},
     "output_type": "display_data"
    },
    {
     "data": {
      "application/vnd.jupyter.widget-view+json": {
       "model_id": "541153d2024a494f8f477cd9846db8b0",
       "version_major": 2,
       "version_minor": 0
      },
      "text/plain": [
       "Batches:   0%|          | 0/17 [00:00<?, ?it/s]"
      ]
     },
     "metadata": {},
     "output_type": "display_data"
    },
    {
     "data": {
      "application/vnd.jupyter.widget-view+json": {
       "model_id": "dd11546c202d41f59ad6c3d61f8abbde",
       "version_major": 2,
       "version_minor": 0
      },
      "text/plain": [
       "Batches:   0%|          | 0/1 [00:00<?, ?it/s]"
      ]
     },
     "metadata": {},
     "output_type": "display_data"
    },
    {
     "data": {
      "application/vnd.jupyter.widget-view+json": {
       "model_id": "edcca7027e2e403a8eae5010a5450e7d",
       "version_major": 2,
       "version_minor": 0
      },
      "text/plain": [
       "Batches:   0%|          | 0/10 [00:00<?, ?it/s]"
      ]
     },
     "metadata": {},
     "output_type": "display_data"
    },
    {
     "data": {
      "application/vnd.jupyter.widget-view+json": {
       "model_id": "c85994bb4be84e41b786207d3561b84b",
       "version_major": 2,
       "version_minor": 0
      },
      "text/plain": [
       "Batches:   0%|          | 0/1 [00:00<?, ?it/s]"
      ]
     },
     "metadata": {},
     "output_type": "display_data"
    },
    {
     "data": {
      "application/vnd.jupyter.widget-view+json": {
       "model_id": "028cd6b9341a4219b6dd3f1f5a61ab97",
       "version_major": 2,
       "version_minor": 0
      },
      "text/plain": [
       "Batches:   0%|          | 0/20 [00:00<?, ?it/s]"
      ]
     },
     "metadata": {},
     "output_type": "display_data"
    },
    {
     "name": "stderr",
     "output_type": "stream",
     "text": [
      "Processing rows:  68%|██████▊   | 34/50 [01:01<00:28,  1.81s/row]"
     ]
    },
    {
     "data": {
      "application/vnd.jupyter.widget-view+json": {
       "model_id": "16a946e0c9514d2385d1e1b91b353847",
       "version_major": 2,
       "version_minor": 0
      },
      "text/plain": [
       "Batches:   0%|          | 0/1 [00:00<?, ?it/s]"
      ]
     },
     "metadata": {},
     "output_type": "display_data"
    },
    {
     "data": {
      "application/vnd.jupyter.widget-view+json": {
       "model_id": "f702625596844683bfbb77ed0dc84ef3",
       "version_major": 2,
       "version_minor": 0
      },
      "text/plain": [
       "Batches:   0%|          | 0/10 [00:00<?, ?it/s]"
      ]
     },
     "metadata": {},
     "output_type": "display_data"
    },
    {
     "data": {
      "application/vnd.jupyter.widget-view+json": {
       "model_id": "b442c052c9d04df7b2d15bef7937634c",
       "version_major": 2,
       "version_minor": 0
      },
      "text/plain": [
       "Batches:   0%|          | 0/1 [00:00<?, ?it/s]"
      ]
     },
     "metadata": {},
     "output_type": "display_data"
    },
    {
     "data": {
      "application/vnd.jupyter.widget-view+json": {
       "model_id": "649fb36bcefa478d8fb9199f2adcdd88",
       "version_major": 2,
       "version_minor": 0
      },
      "text/plain": [
       "Batches:   0%|          | 0/17 [00:00<?, ?it/s]"
      ]
     },
     "metadata": {},
     "output_type": "display_data"
    },
    {
     "data": {
      "application/vnd.jupyter.widget-view+json": {
       "model_id": "84b1194493b14151be5eaa37abfe3e16",
       "version_major": 2,
       "version_minor": 0
      },
      "text/plain": [
       "Batches:   0%|          | 0/1 [00:00<?, ?it/s]"
      ]
     },
     "metadata": {},
     "output_type": "display_data"
    },
    {
     "data": {
      "application/vnd.jupyter.widget-view+json": {
       "model_id": "2f81ee33d955464eacdb804f18128c30",
       "version_major": 2,
       "version_minor": 0
      },
      "text/plain": [
       "Batches:   0%|          | 0/10 [00:00<?, ?it/s]"
      ]
     },
     "metadata": {},
     "output_type": "display_data"
    },
    {
     "data": {
      "application/vnd.jupyter.widget-view+json": {
       "model_id": "18e99d0344b24016bbf660b8baef6136",
       "version_major": 2,
       "version_minor": 0
      },
      "text/plain": [
       "Batches:   0%|          | 0/1 [00:00<?, ?it/s]"
      ]
     },
     "metadata": {},
     "output_type": "display_data"
    },
    {
     "data": {
      "application/vnd.jupyter.widget-view+json": {
       "model_id": "1e2402798c4d40b7ba8813493908db1f",
       "version_major": 2,
       "version_minor": 0
      },
      "text/plain": [
       "Batches:   0%|          | 0/16 [00:00<?, ?it/s]"
      ]
     },
     "metadata": {},
     "output_type": "display_data"
    },
    {
     "name": "stderr",
     "output_type": "stream",
     "text": [
      "Processing rows:  70%|███████   | 35/50 [01:03<00:27,  1.81s/row]"
     ]
    },
    {
     "data": {
      "application/vnd.jupyter.widget-view+json": {
       "model_id": "35f329156c264499a5463ee10fc5a735",
       "version_major": 2,
       "version_minor": 0
      },
      "text/plain": [
       "Batches:   0%|          | 0/1 [00:00<?, ?it/s]"
      ]
     },
     "metadata": {},
     "output_type": "display_data"
    },
    {
     "data": {
      "application/vnd.jupyter.widget-view+json": {
       "model_id": "96e925627cde40efb23f121f4ca43e64",
       "version_major": 2,
       "version_minor": 0
      },
      "text/plain": [
       "Batches:   0%|          | 0/10 [00:00<?, ?it/s]"
      ]
     },
     "metadata": {},
     "output_type": "display_data"
    },
    {
     "data": {
      "application/vnd.jupyter.widget-view+json": {
       "model_id": "2835ca79fc5a4c639f8d88b51a1c53c2",
       "version_major": 2,
       "version_minor": 0
      },
      "text/plain": [
       "Batches:   0%|          | 0/1 [00:00<?, ?it/s]"
      ]
     },
     "metadata": {},
     "output_type": "display_data"
    },
    {
     "data": {
      "application/vnd.jupyter.widget-view+json": {
       "model_id": "eb9c8ceacf3e43969f563621daf17866",
       "version_major": 2,
       "version_minor": 0
      },
      "text/plain": [
       "Batches:   0%|          | 0/17 [00:00<?, ?it/s]"
      ]
     },
     "metadata": {},
     "output_type": "display_data"
    },
    {
     "data": {
      "application/vnd.jupyter.widget-view+json": {
       "model_id": "48121e45c94f49599774ef2bef68fe7e",
       "version_major": 2,
       "version_minor": 0
      },
      "text/plain": [
       "Batches:   0%|          | 0/1 [00:00<?, ?it/s]"
      ]
     },
     "metadata": {},
     "output_type": "display_data"
    },
    {
     "data": {
      "application/vnd.jupyter.widget-view+json": {
       "model_id": "96e04ef889244851b61994f72069de90",
       "version_major": 2,
       "version_minor": 0
      },
      "text/plain": [
       "Batches:   0%|          | 0/10 [00:00<?, ?it/s]"
      ]
     },
     "metadata": {},
     "output_type": "display_data"
    },
    {
     "data": {
      "application/vnd.jupyter.widget-view+json": {
       "model_id": "75e223a5478349d2a2fac0d4f9a1797c",
       "version_major": 2,
       "version_minor": 0
      },
      "text/plain": [
       "Batches:   0%|          | 0/1 [00:00<?, ?it/s]"
      ]
     },
     "metadata": {},
     "output_type": "display_data"
    },
    {
     "data": {
      "application/vnd.jupyter.widget-view+json": {
       "model_id": "b02d217cfd0549a785591d0d6f1db0b2",
       "version_major": 2,
       "version_minor": 0
      },
      "text/plain": [
       "Batches:   0%|          | 0/14 [00:00<?, ?it/s]"
      ]
     },
     "metadata": {},
     "output_type": "display_data"
    },
    {
     "name": "stderr",
     "output_type": "stream",
     "text": [
      "Processing rows:  72%|███████▏  | 36/50 [01:05<00:25,  1.80s/row]"
     ]
    },
    {
     "data": {
      "application/vnd.jupyter.widget-view+json": {
       "model_id": "ecc5dfad3d68467d9de59f3830326268",
       "version_major": 2,
       "version_minor": 0
      },
      "text/plain": [
       "Batches:   0%|          | 0/1 [00:00<?, ?it/s]"
      ]
     },
     "metadata": {},
     "output_type": "display_data"
    },
    {
     "data": {
      "application/vnd.jupyter.widget-view+json": {
       "model_id": "827e5660d3ab4642b386bfac56716276",
       "version_major": 2,
       "version_minor": 0
      },
      "text/plain": [
       "Batches:   0%|          | 0/10 [00:00<?, ?it/s]"
      ]
     },
     "metadata": {},
     "output_type": "display_data"
    },
    {
     "data": {
      "application/vnd.jupyter.widget-view+json": {
       "model_id": "dcab2151d43240a58fbde8bbc86a3013",
       "version_major": 2,
       "version_minor": 0
      },
      "text/plain": [
       "Batches:   0%|          | 0/1 [00:00<?, ?it/s]"
      ]
     },
     "metadata": {},
     "output_type": "display_data"
    },
    {
     "data": {
      "application/vnd.jupyter.widget-view+json": {
       "model_id": "f4b6b226824f4bdc84a7ff1d7f66833b",
       "version_major": 2,
       "version_minor": 0
      },
      "text/plain": [
       "Batches:   0%|          | 0/20 [00:00<?, ?it/s]"
      ]
     },
     "metadata": {},
     "output_type": "display_data"
    },
    {
     "data": {
      "application/vnd.jupyter.widget-view+json": {
       "model_id": "ca5e5756b3894775a83f311462b424f6",
       "version_major": 2,
       "version_minor": 0
      },
      "text/plain": [
       "Batches:   0%|          | 0/1 [00:00<?, ?it/s]"
      ]
     },
     "metadata": {},
     "output_type": "display_data"
    },
    {
     "data": {
      "application/vnd.jupyter.widget-view+json": {
       "model_id": "341075f50a1c4165a65fc22f5953e630",
       "version_major": 2,
       "version_minor": 0
      },
      "text/plain": [
       "Batches:   0%|          | 0/10 [00:00<?, ?it/s]"
      ]
     },
     "metadata": {},
     "output_type": "display_data"
    },
    {
     "data": {
      "application/vnd.jupyter.widget-view+json": {
       "model_id": "c4473e827b8a4c2a9474ca074631c0ec",
       "version_major": 2,
       "version_minor": 0
      },
      "text/plain": [
       "Batches:   0%|          | 0/1 [00:00<?, ?it/s]"
      ]
     },
     "metadata": {},
     "output_type": "display_data"
    },
    {
     "data": {
      "application/vnd.jupyter.widget-view+json": {
       "model_id": "b4968088804348f183d21bda9bb19417",
       "version_major": 2,
       "version_minor": 0
      },
      "text/plain": [
       "Batches:   0%|          | 0/20 [00:00<?, ?it/s]"
      ]
     },
     "metadata": {},
     "output_type": "display_data"
    },
    {
     "name": "stderr",
     "output_type": "stream",
     "text": [
      "Processing rows:  74%|███████▍  | 37/50 [01:07<00:24,  1.85s/row]"
     ]
    },
    {
     "data": {
      "application/vnd.jupyter.widget-view+json": {
       "model_id": "998349cd7a7a49358aace6b3b2a160b6",
       "version_major": 2,
       "version_minor": 0
      },
      "text/plain": [
       "Batches:   0%|          | 0/1 [00:00<?, ?it/s]"
      ]
     },
     "metadata": {},
     "output_type": "display_data"
    },
    {
     "data": {
      "application/vnd.jupyter.widget-view+json": {
       "model_id": "e5309310234e4e809b1525a1e242a020",
       "version_major": 2,
       "version_minor": 0
      },
      "text/plain": [
       "Batches:   0%|          | 0/10 [00:00<?, ?it/s]"
      ]
     },
     "metadata": {},
     "output_type": "display_data"
    },
    {
     "data": {
      "application/vnd.jupyter.widget-view+json": {
       "model_id": "9d89c8a16f18488ab151c0b56cc05e61",
       "version_major": 2,
       "version_minor": 0
      },
      "text/plain": [
       "Batches:   0%|          | 0/1 [00:00<?, ?it/s]"
      ]
     },
     "metadata": {},
     "output_type": "display_data"
    },
    {
     "data": {
      "application/vnd.jupyter.widget-view+json": {
       "model_id": "feb8c88a75db4cee9e9d323649747d34",
       "version_major": 2,
       "version_minor": 0
      },
      "text/plain": [
       "Batches:   0%|          | 0/16 [00:00<?, ?it/s]"
      ]
     },
     "metadata": {},
     "output_type": "display_data"
    },
    {
     "data": {
      "application/vnd.jupyter.widget-view+json": {
       "model_id": "3f747464ac294643bb93bc425e700f2b",
       "version_major": 2,
       "version_minor": 0
      },
      "text/plain": [
       "Batches:   0%|          | 0/1 [00:00<?, ?it/s]"
      ]
     },
     "metadata": {},
     "output_type": "display_data"
    },
    {
     "data": {
      "application/vnd.jupyter.widget-view+json": {
       "model_id": "e8d8423252c6471eab8f1f65b3836bb3",
       "version_major": 2,
       "version_minor": 0
      },
      "text/plain": [
       "Batches:   0%|          | 0/10 [00:00<?, ?it/s]"
      ]
     },
     "metadata": {},
     "output_type": "display_data"
    },
    {
     "data": {
      "application/vnd.jupyter.widget-view+json": {
       "model_id": "fef758c6c0af4766a95e9a225b774334",
       "version_major": 2,
       "version_minor": 0
      },
      "text/plain": [
       "Batches:   0%|          | 0/1 [00:00<?, ?it/s]"
      ]
     },
     "metadata": {},
     "output_type": "display_data"
    },
    {
     "data": {
      "application/vnd.jupyter.widget-view+json": {
       "model_id": "c846887061e14f019f83c06751727350",
       "version_major": 2,
       "version_minor": 0
      },
      "text/plain": [
       "Batches:   0%|          | 0/19 [00:00<?, ?it/s]"
      ]
     },
     "metadata": {},
     "output_type": "display_data"
    },
    {
     "name": "stderr",
     "output_type": "stream",
     "text": [
      "Processing rows:  76%|███████▌  | 38/50 [01:09<00:22,  1.85s/row]"
     ]
    },
    {
     "data": {
      "application/vnd.jupyter.widget-view+json": {
       "model_id": "05b3ec11a38b412f8a99ad1ed2464303",
       "version_major": 2,
       "version_minor": 0
      },
      "text/plain": [
       "Batches:   0%|          | 0/1 [00:00<?, ?it/s]"
      ]
     },
     "metadata": {},
     "output_type": "display_data"
    },
    {
     "data": {
      "application/vnd.jupyter.widget-view+json": {
       "model_id": "4c66814794014f8dbd34c4dae59fb15a",
       "version_major": 2,
       "version_minor": 0
      },
      "text/plain": [
       "Batches:   0%|          | 0/10 [00:00<?, ?it/s]"
      ]
     },
     "metadata": {},
     "output_type": "display_data"
    },
    {
     "data": {
      "application/vnd.jupyter.widget-view+json": {
       "model_id": "b9dbcb61447b4efe8343673a9f09e5da",
       "version_major": 2,
       "version_minor": 0
      },
      "text/plain": [
       "Batches:   0%|          | 0/1 [00:00<?, ?it/s]"
      ]
     },
     "metadata": {},
     "output_type": "display_data"
    },
    {
     "data": {
      "application/vnd.jupyter.widget-view+json": {
       "model_id": "60e07c5de47f4b0b993d84903d9b54f2",
       "version_major": 2,
       "version_minor": 0
      },
      "text/plain": [
       "Batches:   0%|          | 0/19 [00:00<?, ?it/s]"
      ]
     },
     "metadata": {},
     "output_type": "display_data"
    },
    {
     "data": {
      "application/vnd.jupyter.widget-view+json": {
       "model_id": "2be82e6373404573889ac491b2395f53",
       "version_major": 2,
       "version_minor": 0
      },
      "text/plain": [
       "Batches:   0%|          | 0/1 [00:00<?, ?it/s]"
      ]
     },
     "metadata": {},
     "output_type": "display_data"
    },
    {
     "data": {
      "application/vnd.jupyter.widget-view+json": {
       "model_id": "0f1f69e677dc42afbf4333686bc72925",
       "version_major": 2,
       "version_minor": 0
      },
      "text/plain": [
       "Batches:   0%|          | 0/10 [00:00<?, ?it/s]"
      ]
     },
     "metadata": {},
     "output_type": "display_data"
    },
    {
     "data": {
      "application/vnd.jupyter.widget-view+json": {
       "model_id": "b6878da2b1f146a0bdd79281c54a1ce7",
       "version_major": 2,
       "version_minor": 0
      },
      "text/plain": [
       "Batches:   0%|          | 0/1 [00:00<?, ?it/s]"
      ]
     },
     "metadata": {},
     "output_type": "display_data"
    },
    {
     "data": {
      "application/vnd.jupyter.widget-view+json": {
       "model_id": "44aa75167b4643dd95b7e99a75f1976c",
       "version_major": 2,
       "version_minor": 0
      },
      "text/plain": [
       "Batches:   0%|          | 0/18 [00:00<?, ?it/s]"
      ]
     },
     "metadata": {},
     "output_type": "display_data"
    },
    {
     "name": "stderr",
     "output_type": "stream",
     "text": [
      "Processing rows:  78%|███████▊  | 39/50 [01:11<00:20,  1.88s/row]"
     ]
    },
    {
     "data": {
      "application/vnd.jupyter.widget-view+json": {
       "model_id": "ac4a6e306c114bb2aed6f9b3932fccca",
       "version_major": 2,
       "version_minor": 0
      },
      "text/plain": [
       "Batches:   0%|          | 0/1 [00:00<?, ?it/s]"
      ]
     },
     "metadata": {},
     "output_type": "display_data"
    },
    {
     "data": {
      "application/vnd.jupyter.widget-view+json": {
       "model_id": "fc6578570d9e4095b45b980178924a09",
       "version_major": 2,
       "version_minor": 0
      },
      "text/plain": [
       "Batches:   0%|          | 0/10 [00:00<?, ?it/s]"
      ]
     },
     "metadata": {},
     "output_type": "display_data"
    },
    {
     "data": {
      "application/vnd.jupyter.widget-view+json": {
       "model_id": "3c1312193ac647cebc7534cc39e54c3f",
       "version_major": 2,
       "version_minor": 0
      },
      "text/plain": [
       "Batches:   0%|          | 0/1 [00:00<?, ?it/s]"
      ]
     },
     "metadata": {},
     "output_type": "display_data"
    },
    {
     "data": {
      "application/vnd.jupyter.widget-view+json": {
       "model_id": "3f5f7594d16f41978db23fda75639340",
       "version_major": 2,
       "version_minor": 0
      },
      "text/plain": [
       "Batches:   0%|          | 0/16 [00:00<?, ?it/s]"
      ]
     },
     "metadata": {},
     "output_type": "display_data"
    },
    {
     "data": {
      "application/vnd.jupyter.widget-view+json": {
       "model_id": "451feca215e7403da24e1156c74c9b07",
       "version_major": 2,
       "version_minor": 0
      },
      "text/plain": [
       "Batches:   0%|          | 0/1 [00:00<?, ?it/s]"
      ]
     },
     "metadata": {},
     "output_type": "display_data"
    },
    {
     "data": {
      "application/vnd.jupyter.widget-view+json": {
       "model_id": "a1855585de5f40dbb6e2dede7413a536",
       "version_major": 2,
       "version_minor": 0
      },
      "text/plain": [
       "Batches:   0%|          | 0/10 [00:00<?, ?it/s]"
      ]
     },
     "metadata": {},
     "output_type": "display_data"
    },
    {
     "data": {
      "application/vnd.jupyter.widget-view+json": {
       "model_id": "ed15f1d6ee144056b0e893d185e98990",
       "version_major": 2,
       "version_minor": 0
      },
      "text/plain": [
       "Batches:   0%|          | 0/1 [00:00<?, ?it/s]"
      ]
     },
     "metadata": {},
     "output_type": "display_data"
    },
    {
     "data": {
      "application/vnd.jupyter.widget-view+json": {
       "model_id": "4b5596f2b6774df5ab1d946260689939",
       "version_major": 2,
       "version_minor": 0
      },
      "text/plain": [
       "Batches:   0%|          | 0/15 [00:00<?, ?it/s]"
      ]
     },
     "metadata": {},
     "output_type": "display_data"
    },
    {
     "name": "stderr",
     "output_type": "stream",
     "text": [
      "Processing rows:  80%|████████  | 40/50 [01:12<00:18,  1.84s/row]"
     ]
    },
    {
     "data": {
      "application/vnd.jupyter.widget-view+json": {
       "model_id": "ee7b8eac74824cb3b07aa9bce964f2a9",
       "version_major": 2,
       "version_minor": 0
      },
      "text/plain": [
       "Batches:   0%|          | 0/1 [00:00<?, ?it/s]"
      ]
     },
     "metadata": {},
     "output_type": "display_data"
    },
    {
     "data": {
      "application/vnd.jupyter.widget-view+json": {
       "model_id": "a7481199cfb24555a19218f72ec766e0",
       "version_major": 2,
       "version_minor": 0
      },
      "text/plain": [
       "Batches:   0%|          | 0/10 [00:00<?, ?it/s]"
      ]
     },
     "metadata": {},
     "output_type": "display_data"
    },
    {
     "data": {
      "application/vnd.jupyter.widget-view+json": {
       "model_id": "940e1731a781459a88a09a9ad410db2c",
       "version_major": 2,
       "version_minor": 0
      },
      "text/plain": [
       "Batches:   0%|          | 0/1 [00:00<?, ?it/s]"
      ]
     },
     "metadata": {},
     "output_type": "display_data"
    },
    {
     "data": {
      "application/vnd.jupyter.widget-view+json": {
       "model_id": "783d1977ae63484e8884ee05b4d50ccf",
       "version_major": 2,
       "version_minor": 0
      },
      "text/plain": [
       "Batches:   0%|          | 0/15 [00:00<?, ?it/s]"
      ]
     },
     "metadata": {},
     "output_type": "display_data"
    },
    {
     "data": {
      "application/vnd.jupyter.widget-view+json": {
       "model_id": "baaca62270ec4d51a71fa1d8856f3476",
       "version_major": 2,
       "version_minor": 0
      },
      "text/plain": [
       "Batches:   0%|          | 0/1 [00:00<?, ?it/s]"
      ]
     },
     "metadata": {},
     "output_type": "display_data"
    },
    {
     "data": {
      "application/vnd.jupyter.widget-view+json": {
       "model_id": "aba5fb97bdf64d1a9304ce6d68ccaad8",
       "version_major": 2,
       "version_minor": 0
      },
      "text/plain": [
       "Batches:   0%|          | 0/10 [00:00<?, ?it/s]"
      ]
     },
     "metadata": {},
     "output_type": "display_data"
    },
    {
     "data": {
      "application/vnd.jupyter.widget-view+json": {
       "model_id": "847140ec2c3240ad8ac9df38b1aacdfd",
       "version_major": 2,
       "version_minor": 0
      },
      "text/plain": [
       "Batches:   0%|          | 0/1 [00:00<?, ?it/s]"
      ]
     },
     "metadata": {},
     "output_type": "display_data"
    },
    {
     "data": {
      "application/vnd.jupyter.widget-view+json": {
       "model_id": "288b2617c4394eafb1a01a61af0c7a23",
       "version_major": 2,
       "version_minor": 0
      },
      "text/plain": [
       "Batches:   0%|          | 0/14 [00:00<?, ?it/s]"
      ]
     },
     "metadata": {},
     "output_type": "display_data"
    },
    {
     "name": "stderr",
     "output_type": "stream",
     "text": [
      "Processing rows:  82%|████████▏ | 41/50 [01:14<00:16,  1.80s/row]"
     ]
    },
    {
     "data": {
      "application/vnd.jupyter.widget-view+json": {
       "model_id": "94ff530b532c442596e9fb937f7e3a36",
       "version_major": 2,
       "version_minor": 0
      },
      "text/plain": [
       "Batches:   0%|          | 0/1 [00:00<?, ?it/s]"
      ]
     },
     "metadata": {},
     "output_type": "display_data"
    },
    {
     "data": {
      "application/vnd.jupyter.widget-view+json": {
       "model_id": "cb3a18a122114847a662bf2a9ccd4ed5",
       "version_major": 2,
       "version_minor": 0
      },
      "text/plain": [
       "Batches:   0%|          | 0/10 [00:00<?, ?it/s]"
      ]
     },
     "metadata": {},
     "output_type": "display_data"
    },
    {
     "data": {
      "application/vnd.jupyter.widget-view+json": {
       "model_id": "f380607d3e12458d8aba9791be198555",
       "version_major": 2,
       "version_minor": 0
      },
      "text/plain": [
       "Batches:   0%|          | 0/1 [00:00<?, ?it/s]"
      ]
     },
     "metadata": {},
     "output_type": "display_data"
    },
    {
     "data": {
      "application/vnd.jupyter.widget-view+json": {
       "model_id": "813ef75c9e694d8394dc1e047ed630d8",
       "version_major": 2,
       "version_minor": 0
      },
      "text/plain": [
       "Batches:   0%|          | 0/17 [00:00<?, ?it/s]"
      ]
     },
     "metadata": {},
     "output_type": "display_data"
    },
    {
     "data": {
      "application/vnd.jupyter.widget-view+json": {
       "model_id": "87506ad61ae34e469d2a278dd8f714ed",
       "version_major": 2,
       "version_minor": 0
      },
      "text/plain": [
       "Batches:   0%|          | 0/1 [00:00<?, ?it/s]"
      ]
     },
     "metadata": {},
     "output_type": "display_data"
    },
    {
     "data": {
      "application/vnd.jupyter.widget-view+json": {
       "model_id": "2498f1b9b46b43ab802bdd75c060f0a7",
       "version_major": 2,
       "version_minor": 0
      },
      "text/plain": [
       "Batches:   0%|          | 0/10 [00:00<?, ?it/s]"
      ]
     },
     "metadata": {},
     "output_type": "display_data"
    },
    {
     "data": {
      "application/vnd.jupyter.widget-view+json": {
       "model_id": "972325c562004f71a30e2c24ff0b4a47",
       "version_major": 2,
       "version_minor": 0
      },
      "text/plain": [
       "Batches:   0%|          | 0/1 [00:00<?, ?it/s]"
      ]
     },
     "metadata": {},
     "output_type": "display_data"
    },
    {
     "data": {
      "application/vnd.jupyter.widget-view+json": {
       "model_id": "17b6437e726e40f1bbd6b2a880cc047f",
       "version_major": 2,
       "version_minor": 0
      },
      "text/plain": [
       "Batches:   0%|          | 0/18 [00:00<?, ?it/s]"
      ]
     },
     "metadata": {},
     "output_type": "display_data"
    },
    {
     "name": "stderr",
     "output_type": "stream",
     "text": [
      "Processing rows:  84%|████████▍ | 42/50 [01:16<00:14,  1.82s/row]"
     ]
    },
    {
     "data": {
      "application/vnd.jupyter.widget-view+json": {
       "model_id": "d7b67f05fe2347afa3abb75fca6555b9",
       "version_major": 2,
       "version_minor": 0
      },
      "text/plain": [
       "Batches:   0%|          | 0/1 [00:00<?, ?it/s]"
      ]
     },
     "metadata": {},
     "output_type": "display_data"
    },
    {
     "data": {
      "application/vnd.jupyter.widget-view+json": {
       "model_id": "782538fe0b17439e8de3ae5646779ee6",
       "version_major": 2,
       "version_minor": 0
      },
      "text/plain": [
       "Batches:   0%|          | 0/10 [00:00<?, ?it/s]"
      ]
     },
     "metadata": {},
     "output_type": "display_data"
    },
    {
     "data": {
      "application/vnd.jupyter.widget-view+json": {
       "model_id": "76638ea13af64b9683e4d7f950a8db3c",
       "version_major": 2,
       "version_minor": 0
      },
      "text/plain": [
       "Batches:   0%|          | 0/1 [00:00<?, ?it/s]"
      ]
     },
     "metadata": {},
     "output_type": "display_data"
    },
    {
     "data": {
      "application/vnd.jupyter.widget-view+json": {
       "model_id": "b53d1a78bdee4c01817d31b7ea24e27a",
       "version_major": 2,
       "version_minor": 0
      },
      "text/plain": [
       "Batches:   0%|          | 0/14 [00:00<?, ?it/s]"
      ]
     },
     "metadata": {},
     "output_type": "display_data"
    },
    {
     "data": {
      "application/vnd.jupyter.widget-view+json": {
       "model_id": "6026d2ceb9a34204b0c214e3fb62a08c",
       "version_major": 2,
       "version_minor": 0
      },
      "text/plain": [
       "Batches:   0%|          | 0/1 [00:00<?, ?it/s]"
      ]
     },
     "metadata": {},
     "output_type": "display_data"
    },
    {
     "data": {
      "application/vnd.jupyter.widget-view+json": {
       "model_id": "28306ae9572e4c319696f4830429c4ce",
       "version_major": 2,
       "version_minor": 0
      },
      "text/plain": [
       "Batches:   0%|          | 0/10 [00:00<?, ?it/s]"
      ]
     },
     "metadata": {},
     "output_type": "display_data"
    },
    {
     "data": {
      "application/vnd.jupyter.widget-view+json": {
       "model_id": "a36898117ffb4d149e0b7bb63d330dcc",
       "version_major": 2,
       "version_minor": 0
      },
      "text/plain": [
       "Batches:   0%|          | 0/1 [00:00<?, ?it/s]"
      ]
     },
     "metadata": {},
     "output_type": "display_data"
    },
    {
     "data": {
      "application/vnd.jupyter.widget-view+json": {
       "model_id": "e1c4cbf4bd8a4643a6806e3f86d5b454",
       "version_major": 2,
       "version_minor": 0
      },
      "text/plain": [
       "Batches:   0%|          | 0/14 [00:00<?, ?it/s]"
      ]
     },
     "metadata": {},
     "output_type": "display_data"
    },
    {
     "name": "stderr",
     "output_type": "stream",
     "text": [
      "Processing rows:  86%|████████▌ | 43/50 [01:18<00:12,  1.78s/row]"
     ]
    },
    {
     "data": {
      "application/vnd.jupyter.widget-view+json": {
       "model_id": "8fbbb694a13747578ad5b1d97089b579",
       "version_major": 2,
       "version_minor": 0
      },
      "text/plain": [
       "Batches:   0%|          | 0/1 [00:00<?, ?it/s]"
      ]
     },
     "metadata": {},
     "output_type": "display_data"
    },
    {
     "data": {
      "application/vnd.jupyter.widget-view+json": {
       "model_id": "010a81f4ffa9402189570c42b9b82944",
       "version_major": 2,
       "version_minor": 0
      },
      "text/plain": [
       "Batches:   0%|          | 0/10 [00:00<?, ?it/s]"
      ]
     },
     "metadata": {},
     "output_type": "display_data"
    },
    {
     "data": {
      "application/vnd.jupyter.widget-view+json": {
       "model_id": "c2c5bb64f8bf4bf2949a74c7365253c0",
       "version_major": 2,
       "version_minor": 0
      },
      "text/plain": [
       "Batches:   0%|          | 0/1 [00:00<?, ?it/s]"
      ]
     },
     "metadata": {},
     "output_type": "display_data"
    },
    {
     "data": {
      "application/vnd.jupyter.widget-view+json": {
       "model_id": "59b7a59723a24e81a611a9968c841a33",
       "version_major": 2,
       "version_minor": 0
      },
      "text/plain": [
       "Batches:   0%|          | 0/16 [00:00<?, ?it/s]"
      ]
     },
     "metadata": {},
     "output_type": "display_data"
    },
    {
     "data": {
      "application/vnd.jupyter.widget-view+json": {
       "model_id": "6681718176ab4af088ae7262c529877a",
       "version_major": 2,
       "version_minor": 0
      },
      "text/plain": [
       "Batches:   0%|          | 0/1 [00:00<?, ?it/s]"
      ]
     },
     "metadata": {},
     "output_type": "display_data"
    },
    {
     "data": {
      "application/vnd.jupyter.widget-view+json": {
       "model_id": "9cb15036c67d429b9a07a29d986b7764",
       "version_major": 2,
       "version_minor": 0
      },
      "text/plain": [
       "Batches:   0%|          | 0/10 [00:00<?, ?it/s]"
      ]
     },
     "metadata": {},
     "output_type": "display_data"
    },
    {
     "data": {
      "application/vnd.jupyter.widget-view+json": {
       "model_id": "644c078e48ca48a0a73c73a0f644749a",
       "version_major": 2,
       "version_minor": 0
      },
      "text/plain": [
       "Batches:   0%|          | 0/1 [00:00<?, ?it/s]"
      ]
     },
     "metadata": {},
     "output_type": "display_data"
    },
    {
     "data": {
      "application/vnd.jupyter.widget-view+json": {
       "model_id": "9668afb9f9e849be99841f724eee262b",
       "version_major": 2,
       "version_minor": 0
      },
      "text/plain": [
       "Batches:   0%|          | 0/17 [00:00<?, ?it/s]"
      ]
     },
     "metadata": {},
     "output_type": "display_data"
    },
    {
     "name": "stderr",
     "output_type": "stream",
     "text": [
      "Processing rows:  88%|████████▊ | 44/50 [01:19<00:10,  1.80s/row]"
     ]
    },
    {
     "data": {
      "application/vnd.jupyter.widget-view+json": {
       "model_id": "fa65f6923dae4994ad34739095aae297",
       "version_major": 2,
       "version_minor": 0
      },
      "text/plain": [
       "Batches:   0%|          | 0/1 [00:00<?, ?it/s]"
      ]
     },
     "metadata": {},
     "output_type": "display_data"
    },
    {
     "data": {
      "application/vnd.jupyter.widget-view+json": {
       "model_id": "42ccee0707fe4e29845af02586716e34",
       "version_major": 2,
       "version_minor": 0
      },
      "text/plain": [
       "Batches:   0%|          | 0/10 [00:00<?, ?it/s]"
      ]
     },
     "metadata": {},
     "output_type": "display_data"
    },
    {
     "data": {
      "application/vnd.jupyter.widget-view+json": {
       "model_id": "c0feda8f3d844f4aa85ff3498f14e615",
       "version_major": 2,
       "version_minor": 0
      },
      "text/plain": [
       "Batches:   0%|          | 0/1 [00:00<?, ?it/s]"
      ]
     },
     "metadata": {},
     "output_type": "display_data"
    },
    {
     "data": {
      "application/vnd.jupyter.widget-view+json": {
       "model_id": "8b425da683cf4f0e9e1896891c650827",
       "version_major": 2,
       "version_minor": 0
      },
      "text/plain": [
       "Batches:   0%|          | 0/18 [00:00<?, ?it/s]"
      ]
     },
     "metadata": {},
     "output_type": "display_data"
    },
    {
     "data": {
      "application/vnd.jupyter.widget-view+json": {
       "model_id": "97fbd95a150a4d78ae969e17df98caf4",
       "version_major": 2,
       "version_minor": 0
      },
      "text/plain": [
       "Batches:   0%|          | 0/1 [00:00<?, ?it/s]"
      ]
     },
     "metadata": {},
     "output_type": "display_data"
    },
    {
     "data": {
      "application/vnd.jupyter.widget-view+json": {
       "model_id": "027269c01603403585d4e9a271dd4059",
       "version_major": 2,
       "version_minor": 0
      },
      "text/plain": [
       "Batches:   0%|          | 0/10 [00:00<?, ?it/s]"
      ]
     },
     "metadata": {},
     "output_type": "display_data"
    },
    {
     "data": {
      "application/vnd.jupyter.widget-view+json": {
       "model_id": "f1925ae9c635493fad91474530e91015",
       "version_major": 2,
       "version_minor": 0
      },
      "text/plain": [
       "Batches:   0%|          | 0/1 [00:00<?, ?it/s]"
      ]
     },
     "metadata": {},
     "output_type": "display_data"
    },
    {
     "data": {
      "application/vnd.jupyter.widget-view+json": {
       "model_id": "b2884e88b1554d258c919115f8b6695d",
       "version_major": 2,
       "version_minor": 0
      },
      "text/plain": [
       "Batches:   0%|          | 0/19 [00:00<?, ?it/s]"
      ]
     },
     "metadata": {},
     "output_type": "display_data"
    },
    {
     "name": "stderr",
     "output_type": "stream",
     "text": [
      "Processing rows:  90%|█████████ | 45/50 [01:21<00:09,  1.83s/row]"
     ]
    },
    {
     "data": {
      "application/vnd.jupyter.widget-view+json": {
       "model_id": "bda818b4d2eb4385bea21bc60eeb4616",
       "version_major": 2,
       "version_minor": 0
      },
      "text/plain": [
       "Batches:   0%|          | 0/1 [00:00<?, ?it/s]"
      ]
     },
     "metadata": {},
     "output_type": "display_data"
    },
    {
     "data": {
      "application/vnd.jupyter.widget-view+json": {
       "model_id": "05d78a8d7c8443d38f527d7459ae73c7",
       "version_major": 2,
       "version_minor": 0
      },
      "text/plain": [
       "Batches:   0%|          | 0/10 [00:00<?, ?it/s]"
      ]
     },
     "metadata": {},
     "output_type": "display_data"
    },
    {
     "data": {
      "application/vnd.jupyter.widget-view+json": {
       "model_id": "15ed38fcc5a744a088b4694de339e76e",
       "version_major": 2,
       "version_minor": 0
      },
      "text/plain": [
       "Batches:   0%|          | 0/1 [00:00<?, ?it/s]"
      ]
     },
     "metadata": {},
     "output_type": "display_data"
    },
    {
     "data": {
      "application/vnd.jupyter.widget-view+json": {
       "model_id": "5f87eca02584467cb8da61e5775e3689",
       "version_major": 2,
       "version_minor": 0
      },
      "text/plain": [
       "Batches:   0%|          | 0/18 [00:00<?, ?it/s]"
      ]
     },
     "metadata": {},
     "output_type": "display_data"
    },
    {
     "data": {
      "application/vnd.jupyter.widget-view+json": {
       "model_id": "49947968b67d4354929a638952eff2c9",
       "version_major": 2,
       "version_minor": 0
      },
      "text/plain": [
       "Batches:   0%|          | 0/1 [00:00<?, ?it/s]"
      ]
     },
     "metadata": {},
     "output_type": "display_data"
    },
    {
     "data": {
      "application/vnd.jupyter.widget-view+json": {
       "model_id": "93b44f3b9d554ef4807b9c30edbc9852",
       "version_major": 2,
       "version_minor": 0
      },
      "text/plain": [
       "Batches:   0%|          | 0/10 [00:00<?, ?it/s]"
      ]
     },
     "metadata": {},
     "output_type": "display_data"
    },
    {
     "data": {
      "application/vnd.jupyter.widget-view+json": {
       "model_id": "4ecbd70ffc2949e3a230992c55c9e74f",
       "version_major": 2,
       "version_minor": 0
      },
      "text/plain": [
       "Batches:   0%|          | 0/1 [00:00<?, ?it/s]"
      ]
     },
     "metadata": {},
     "output_type": "display_data"
    },
    {
     "data": {
      "application/vnd.jupyter.widget-view+json": {
       "model_id": "3026f4408d644aa9bd5fa4d5871d3d4a",
       "version_major": 2,
       "version_minor": 0
      },
      "text/plain": [
       "Batches:   0%|          | 0/17 [00:00<?, ?it/s]"
      ]
     },
     "metadata": {},
     "output_type": "display_data"
    },
    {
     "name": "stderr",
     "output_type": "stream",
     "text": [
      "Processing rows:  92%|█████████▏| 46/50 [01:23<00:07,  1.84s/row]"
     ]
    },
    {
     "data": {
      "application/vnd.jupyter.widget-view+json": {
       "model_id": "205349e9206747c5b85f140f24ee5e3f",
       "version_major": 2,
       "version_minor": 0
      },
      "text/plain": [
       "Batches:   0%|          | 0/1 [00:00<?, ?it/s]"
      ]
     },
     "metadata": {},
     "output_type": "display_data"
    },
    {
     "data": {
      "application/vnd.jupyter.widget-view+json": {
       "model_id": "80a763fc32ae4fedba1bd891a095c907",
       "version_major": 2,
       "version_minor": 0
      },
      "text/plain": [
       "Batches:   0%|          | 0/10 [00:00<?, ?it/s]"
      ]
     },
     "metadata": {},
     "output_type": "display_data"
    },
    {
     "data": {
      "application/vnd.jupyter.widget-view+json": {
       "model_id": "d1cf9a2581e0470ba9fc9dfb006a160d",
       "version_major": 2,
       "version_minor": 0
      },
      "text/plain": [
       "Batches:   0%|          | 0/1 [00:00<?, ?it/s]"
      ]
     },
     "metadata": {},
     "output_type": "display_data"
    },
    {
     "data": {
      "application/vnd.jupyter.widget-view+json": {
       "model_id": "df63e5c1378547d5895613b854c73852",
       "version_major": 2,
       "version_minor": 0
      },
      "text/plain": [
       "Batches:   0%|          | 0/18 [00:00<?, ?it/s]"
      ]
     },
     "metadata": {},
     "output_type": "display_data"
    },
    {
     "data": {
      "application/vnd.jupyter.widget-view+json": {
       "model_id": "5da98ff67ff345d484d32e0284f8a460",
       "version_major": 2,
       "version_minor": 0
      },
      "text/plain": [
       "Batches:   0%|          | 0/1 [00:00<?, ?it/s]"
      ]
     },
     "metadata": {},
     "output_type": "display_data"
    },
    {
     "data": {
      "application/vnd.jupyter.widget-view+json": {
       "model_id": "153706c8def2419fa8310e7b1a37c4b5",
       "version_major": 2,
       "version_minor": 0
      },
      "text/plain": [
       "Batches:   0%|          | 0/10 [00:00<?, ?it/s]"
      ]
     },
     "metadata": {},
     "output_type": "display_data"
    },
    {
     "data": {
      "application/vnd.jupyter.widget-view+json": {
       "model_id": "5760a9c65d594126b5f6b8f3f6b9b4a1",
       "version_major": 2,
       "version_minor": 0
      },
      "text/plain": [
       "Batches:   0%|          | 0/1 [00:00<?, ?it/s]"
      ]
     },
     "metadata": {},
     "output_type": "display_data"
    },
    {
     "data": {
      "application/vnd.jupyter.widget-view+json": {
       "model_id": "19e35dfb36114e19af58ccb9f800e1de",
       "version_major": 2,
       "version_minor": 0
      },
      "text/plain": [
       "Batches:   0%|          | 0/19 [00:00<?, ?it/s]"
      ]
     },
     "metadata": {},
     "output_type": "display_data"
    },
    {
     "name": "stderr",
     "output_type": "stream",
     "text": [
      "Processing rows:  94%|█████████▍| 47/50 [01:25<00:05,  1.86s/row]"
     ]
    },
    {
     "data": {
      "application/vnd.jupyter.widget-view+json": {
       "model_id": "d2ee5852ec6f46d3836934b369b88c95",
       "version_major": 2,
       "version_minor": 0
      },
      "text/plain": [
       "Batches:   0%|          | 0/1 [00:00<?, ?it/s]"
      ]
     },
     "metadata": {},
     "output_type": "display_data"
    },
    {
     "data": {
      "application/vnd.jupyter.widget-view+json": {
       "model_id": "9cd67d75e6c84496aa06d3346f556b9e",
       "version_major": 2,
       "version_minor": 0
      },
      "text/plain": [
       "Batches:   0%|          | 0/10 [00:00<?, ?it/s]"
      ]
     },
     "metadata": {},
     "output_type": "display_data"
    },
    {
     "data": {
      "application/vnd.jupyter.widget-view+json": {
       "model_id": "8d60092e1d5741c2b9e3b22ef297f4ac",
       "version_major": 2,
       "version_minor": 0
      },
      "text/plain": [
       "Batches:   0%|          | 0/1 [00:00<?, ?it/s]"
      ]
     },
     "metadata": {},
     "output_type": "display_data"
    },
    {
     "data": {
      "application/vnd.jupyter.widget-view+json": {
       "model_id": "fffa1bf06a5746fba5c0108165203b20",
       "version_major": 2,
       "version_minor": 0
      },
      "text/plain": [
       "Batches:   0%|          | 0/15 [00:00<?, ?it/s]"
      ]
     },
     "metadata": {},
     "output_type": "display_data"
    },
    {
     "data": {
      "application/vnd.jupyter.widget-view+json": {
       "model_id": "28a8aac28df24f0c96b07c51120f7592",
       "version_major": 2,
       "version_minor": 0
      },
      "text/plain": [
       "Batches:   0%|          | 0/1 [00:00<?, ?it/s]"
      ]
     },
     "metadata": {},
     "output_type": "display_data"
    },
    {
     "data": {
      "application/vnd.jupyter.widget-view+json": {
       "model_id": "1b0a29cfc5434f89b77fd1b273cf8d4b",
       "version_major": 2,
       "version_minor": 0
      },
      "text/plain": [
       "Batches:   0%|          | 0/10 [00:00<?, ?it/s]"
      ]
     },
     "metadata": {},
     "output_type": "display_data"
    },
    {
     "data": {
      "application/vnd.jupyter.widget-view+json": {
       "model_id": "40d318334afe415e826d7f9505f1f6dc",
       "version_major": 2,
       "version_minor": 0
      },
      "text/plain": [
       "Batches:   0%|          | 0/1 [00:00<?, ?it/s]"
      ]
     },
     "metadata": {},
     "output_type": "display_data"
    },
    {
     "data": {
      "application/vnd.jupyter.widget-view+json": {
       "model_id": "de3b122b24704985a745d38d9de5c7f2",
       "version_major": 2,
       "version_minor": 0
      },
      "text/plain": [
       "Batches:   0%|          | 0/14 [00:00<?, ?it/s]"
      ]
     },
     "metadata": {},
     "output_type": "display_data"
    },
    {
     "name": "stderr",
     "output_type": "stream",
     "text": [
      "Processing rows:  96%|█████████▌| 48/50 [01:27<00:03,  1.83s/row]"
     ]
    },
    {
     "data": {
      "application/vnd.jupyter.widget-view+json": {
       "model_id": "114ba598a45144528ec3329935659c19",
       "version_major": 2,
       "version_minor": 0
      },
      "text/plain": [
       "Batches:   0%|          | 0/1 [00:00<?, ?it/s]"
      ]
     },
     "metadata": {},
     "output_type": "display_data"
    },
    {
     "data": {
      "application/vnd.jupyter.widget-view+json": {
       "model_id": "9a22084bb91846d0a3551675c331bcc7",
       "version_major": 2,
       "version_minor": 0
      },
      "text/plain": [
       "Batches:   0%|          | 0/10 [00:00<?, ?it/s]"
      ]
     },
     "metadata": {},
     "output_type": "display_data"
    },
    {
     "data": {
      "application/vnd.jupyter.widget-view+json": {
       "model_id": "278b8ea754744cce908703026ef3ad02",
       "version_major": 2,
       "version_minor": 0
      },
      "text/plain": [
       "Batches:   0%|          | 0/1 [00:00<?, ?it/s]"
      ]
     },
     "metadata": {},
     "output_type": "display_data"
    },
    {
     "data": {
      "application/vnd.jupyter.widget-view+json": {
       "model_id": "1eb7ac0886ce443388c76f342b406108",
       "version_major": 2,
       "version_minor": 0
      },
      "text/plain": [
       "Batches:   0%|          | 0/16 [00:00<?, ?it/s]"
      ]
     },
     "metadata": {},
     "output_type": "display_data"
    },
    {
     "data": {
      "application/vnd.jupyter.widget-view+json": {
       "model_id": "7ee62637b8aa4bbbbe9b69149955dd22",
       "version_major": 2,
       "version_minor": 0
      },
      "text/plain": [
       "Batches:   0%|          | 0/1 [00:00<?, ?it/s]"
      ]
     },
     "metadata": {},
     "output_type": "display_data"
    },
    {
     "data": {
      "application/vnd.jupyter.widget-view+json": {
       "model_id": "537b729706a3479c9ca2a9f0606737f8",
       "version_major": 2,
       "version_minor": 0
      },
      "text/plain": [
       "Batches:   0%|          | 0/10 [00:00<?, ?it/s]"
      ]
     },
     "metadata": {},
     "output_type": "display_data"
    },
    {
     "data": {
      "application/vnd.jupyter.widget-view+json": {
       "model_id": "03a8c25f473949a2a2416eca39671780",
       "version_major": 2,
       "version_minor": 0
      },
      "text/plain": [
       "Batches:   0%|          | 0/1 [00:00<?, ?it/s]"
      ]
     },
     "metadata": {},
     "output_type": "display_data"
    },
    {
     "data": {
      "application/vnd.jupyter.widget-view+json": {
       "model_id": "bad54b14ba554cea9438769bb42660de",
       "version_major": 2,
       "version_minor": 0
      },
      "text/plain": [
       "Batches:   0%|          | 0/12 [00:00<?, ?it/s]"
      ]
     },
     "metadata": {},
     "output_type": "display_data"
    },
    {
     "name": "stderr",
     "output_type": "stream",
     "text": [
      "Processing rows:  98%|█████████▊| 49/50 [01:29<00:01,  1.90s/row]"
     ]
    },
    {
     "data": {
      "application/vnd.jupyter.widget-view+json": {
       "model_id": "bbd354d051a9498fbf5fcdca1716021f",
       "version_major": 2,
       "version_minor": 0
      },
      "text/plain": [
       "Batches:   0%|          | 0/1 [00:00<?, ?it/s]"
      ]
     },
     "metadata": {},
     "output_type": "display_data"
    },
    {
     "data": {
      "application/vnd.jupyter.widget-view+json": {
       "model_id": "da6b335a87724c4f9a81d5d99d5ba1a9",
       "version_major": 2,
       "version_minor": 0
      },
      "text/plain": [
       "Batches:   0%|          | 0/10 [00:00<?, ?it/s]"
      ]
     },
     "metadata": {},
     "output_type": "display_data"
    },
    {
     "data": {
      "application/vnd.jupyter.widget-view+json": {
       "model_id": "04723eea31024add8aa7d85dd6594812",
       "version_major": 2,
       "version_minor": 0
      },
      "text/plain": [
       "Batches:   0%|          | 0/1 [00:00<?, ?it/s]"
      ]
     },
     "metadata": {},
     "output_type": "display_data"
    },
    {
     "data": {
      "application/vnd.jupyter.widget-view+json": {
       "model_id": "c4177c87285b409dafd6caafdabc6d73",
       "version_major": 2,
       "version_minor": 0
      },
      "text/plain": [
       "Batches:   0%|          | 0/15 [00:00<?, ?it/s]"
      ]
     },
     "metadata": {},
     "output_type": "display_data"
    },
    {
     "data": {
      "application/vnd.jupyter.widget-view+json": {
       "model_id": "4be5a22aa8f94d4f8bddaeb5daed5315",
       "version_major": 2,
       "version_minor": 0
      },
      "text/plain": [
       "Batches:   0%|          | 0/1 [00:00<?, ?it/s]"
      ]
     },
     "metadata": {},
     "output_type": "display_data"
    },
    {
     "data": {
      "application/vnd.jupyter.widget-view+json": {
       "model_id": "0c2d1c009af546ea96720c526581068e",
       "version_major": 2,
       "version_minor": 0
      },
      "text/plain": [
       "Batches:   0%|          | 0/10 [00:00<?, ?it/s]"
      ]
     },
     "metadata": {},
     "output_type": "display_data"
    },
    {
     "data": {
      "application/vnd.jupyter.widget-view+json": {
       "model_id": "7a58b5d2392145b1a68c956bf891b946",
       "version_major": 2,
       "version_minor": 0
      },
      "text/plain": [
       "Batches:   0%|          | 0/1 [00:00<?, ?it/s]"
      ]
     },
     "metadata": {},
     "output_type": "display_data"
    },
    {
     "data": {
      "application/vnd.jupyter.widget-view+json": {
       "model_id": "8c6be4e9671b4694b897b566e28ea69c",
       "version_major": 2,
       "version_minor": 0
      },
      "text/plain": [
       "Batches:   0%|          | 0/14 [00:00<?, ?it/s]"
      ]
     },
     "metadata": {},
     "output_type": "display_data"
    },
    {
     "name": "stderr",
     "output_type": "stream",
     "text": [
      "Processing rows: 100%|██████████| 50/50 [01:31<00:00,  1.82s/row]\n",
      "Processing rows:   0%|          | 0/50 [00:00<?, ?row/s]"
     ]
    },
    {
     "data": {
      "application/vnd.jupyter.widget-view+json": {
       "model_id": "c4af3edb2b6446fb9187dd09bbcb5686",
       "version_major": 2,
       "version_minor": 0
      },
      "text/plain": [
       "Batches:   0%|          | 0/1 [00:00<?, ?it/s]"
      ]
     },
     "metadata": {},
     "output_type": "display_data"
    },
    {
     "data": {
      "application/vnd.jupyter.widget-view+json": {
       "model_id": "b5223e1760d240c4b030474be6e4a7d7",
       "version_major": 2,
       "version_minor": 0
      },
      "text/plain": [
       "Batches:   0%|          | 0/20 [00:00<?, ?it/s]"
      ]
     },
     "metadata": {},
     "output_type": "display_data"
    },
    {
     "data": {
      "application/vnd.jupyter.widget-view+json": {
       "model_id": "0e82a6201425444aabe29bcb17f154dc",
       "version_major": 2,
       "version_minor": 0
      },
      "text/plain": [
       "Batches:   0%|          | 0/1 [00:00<?, ?it/s]"
      ]
     },
     "metadata": {},
     "output_type": "display_data"
    },
    {
     "data": {
      "application/vnd.jupyter.widget-view+json": {
       "model_id": "4e0ce08b4ab1431d8c88f61c63ec437e",
       "version_major": 2,
       "version_minor": 0
      },
      "text/plain": [
       "Batches:   0%|          | 0/35 [00:00<?, ?it/s]"
      ]
     },
     "metadata": {},
     "output_type": "display_data"
    },
    {
     "data": {
      "application/vnd.jupyter.widget-view+json": {
       "model_id": "098bd6c969a74f379273ad8183140bdf",
       "version_major": 2,
       "version_minor": 0
      },
      "text/plain": [
       "Batches:   0%|          | 0/1 [00:00<?, ?it/s]"
      ]
     },
     "metadata": {},
     "output_type": "display_data"
    },
    {
     "data": {
      "application/vnd.jupyter.widget-view+json": {
       "model_id": "abe2dc42d17743c2945005c9802487fa",
       "version_major": 2,
       "version_minor": 0
      },
      "text/plain": [
       "Batches:   0%|          | 0/20 [00:00<?, ?it/s]"
      ]
     },
     "metadata": {},
     "output_type": "display_data"
    },
    {
     "data": {
      "application/vnd.jupyter.widget-view+json": {
       "model_id": "69ef9fad258c4139a6288aba03efafed",
       "version_major": 2,
       "version_minor": 0
      },
      "text/plain": [
       "Batches:   0%|          | 0/1 [00:00<?, ?it/s]"
      ]
     },
     "metadata": {},
     "output_type": "display_data"
    },
    {
     "data": {
      "application/vnd.jupyter.widget-view+json": {
       "model_id": "493ab09e2c684ef58eab3b87c286ab48",
       "version_major": 2,
       "version_minor": 0
      },
      "text/plain": [
       "Batches:   0%|          | 0/31 [00:00<?, ?it/s]"
      ]
     },
     "metadata": {},
     "output_type": "display_data"
    },
    {
     "name": "stderr",
     "output_type": "stream",
     "text": [
      "Processing rows:   2%|▏         | 1/50 [00:03<02:37,  3.21s/row]"
     ]
    },
    {
     "data": {
      "application/vnd.jupyter.widget-view+json": {
       "model_id": "84346a73885440bea519d584eee9c9f7",
       "version_major": 2,
       "version_minor": 0
      },
      "text/plain": [
       "Batches:   0%|          | 0/1 [00:00<?, ?it/s]"
      ]
     },
     "metadata": {},
     "output_type": "display_data"
    },
    {
     "data": {
      "application/vnd.jupyter.widget-view+json": {
       "model_id": "0c5b86972f244c75b1188ed9aa8ae860",
       "version_major": 2,
       "version_minor": 0
      },
      "text/plain": [
       "Batches:   0%|          | 0/20 [00:00<?, ?it/s]"
      ]
     },
     "metadata": {},
     "output_type": "display_data"
    },
    {
     "data": {
      "application/vnd.jupyter.widget-view+json": {
       "model_id": "fe7f794d06c24ccb8a0864d750c788a2",
       "version_major": 2,
       "version_minor": 0
      },
      "text/plain": [
       "Batches:   0%|          | 0/1 [00:00<?, ?it/s]"
      ]
     },
     "metadata": {},
     "output_type": "display_data"
    },
    {
     "data": {
      "application/vnd.jupyter.widget-view+json": {
       "model_id": "554a9c03c2dd446e9bf509ccf879ac0d",
       "version_major": 2,
       "version_minor": 0
      },
      "text/plain": [
       "Batches:   0%|          | 0/33 [00:00<?, ?it/s]"
      ]
     },
     "metadata": {},
     "output_type": "display_data"
    },
    {
     "data": {
      "application/vnd.jupyter.widget-view+json": {
       "model_id": "a96e98c8b3ee4d1e936950c36aa21e88",
       "version_major": 2,
       "version_minor": 0
      },
      "text/plain": [
       "Batches:   0%|          | 0/1 [00:00<?, ?it/s]"
      ]
     },
     "metadata": {},
     "output_type": "display_data"
    },
    {
     "data": {
      "application/vnd.jupyter.widget-view+json": {
       "model_id": "2d1f00274e4a496bab7956bc15c7d3c4",
       "version_major": 2,
       "version_minor": 0
      },
      "text/plain": [
       "Batches:   0%|          | 0/20 [00:00<?, ?it/s]"
      ]
     },
     "metadata": {},
     "output_type": "display_data"
    },
    {
     "data": {
      "application/vnd.jupyter.widget-view+json": {
       "model_id": "9aa69e947212462ca1de1e6e4a4072ca",
       "version_major": 2,
       "version_minor": 0
      },
      "text/plain": [
       "Batches:   0%|          | 0/1 [00:00<?, ?it/s]"
      ]
     },
     "metadata": {},
     "output_type": "display_data"
    },
    {
     "data": {
      "application/vnd.jupyter.widget-view+json": {
       "model_id": "729be89d72bf43e98d5ddcb670354f2e",
       "version_major": 2,
       "version_minor": 0
      },
      "text/plain": [
       "Batches:   0%|          | 0/31 [00:00<?, ?it/s]"
      ]
     },
     "metadata": {},
     "output_type": "display_data"
    },
    {
     "name": "stderr",
     "output_type": "stream",
     "text": [
      "Processing rows:   4%|▍         | 2/50 [00:06<02:32,  3.17s/row]"
     ]
    },
    {
     "data": {
      "application/vnd.jupyter.widget-view+json": {
       "model_id": "81fcaf80273f4123ab995004ddad8b1a",
       "version_major": 2,
       "version_minor": 0
      },
      "text/plain": [
       "Batches:   0%|          | 0/1 [00:00<?, ?it/s]"
      ]
     },
     "metadata": {},
     "output_type": "display_data"
    },
    {
     "data": {
      "application/vnd.jupyter.widget-view+json": {
       "model_id": "eb3a7d83b86047b1ad97e56410ebd2a9",
       "version_major": 2,
       "version_minor": 0
      },
      "text/plain": [
       "Batches:   0%|          | 0/20 [00:00<?, ?it/s]"
      ]
     },
     "metadata": {},
     "output_type": "display_data"
    },
    {
     "data": {
      "application/vnd.jupyter.widget-view+json": {
       "model_id": "b2597f94d2254217a56865a6d347a0e8",
       "version_major": 2,
       "version_minor": 0
      },
      "text/plain": [
       "Batches:   0%|          | 0/1 [00:00<?, ?it/s]"
      ]
     },
     "metadata": {},
     "output_type": "display_data"
    },
    {
     "data": {
      "application/vnd.jupyter.widget-view+json": {
       "model_id": "c78215e60525478185a6fbee89e8e125",
       "version_major": 2,
       "version_minor": 0
      },
      "text/plain": [
       "Batches:   0%|          | 0/32 [00:00<?, ?it/s]"
      ]
     },
     "metadata": {},
     "output_type": "display_data"
    },
    {
     "data": {
      "application/vnd.jupyter.widget-view+json": {
       "model_id": "97ffc3c105c64bed966f9ce5660c17ca",
       "version_major": 2,
       "version_minor": 0
      },
      "text/plain": [
       "Batches:   0%|          | 0/1 [00:00<?, ?it/s]"
      ]
     },
     "metadata": {},
     "output_type": "display_data"
    },
    {
     "data": {
      "application/vnd.jupyter.widget-view+json": {
       "model_id": "13a96a1b2ce94152ab267507924b84fe",
       "version_major": 2,
       "version_minor": 0
      },
      "text/plain": [
       "Batches:   0%|          | 0/20 [00:00<?, ?it/s]"
      ]
     },
     "metadata": {},
     "output_type": "display_data"
    },
    {
     "data": {
      "application/vnd.jupyter.widget-view+json": {
       "model_id": "a8820aae5488474bad236759d35821e9",
       "version_major": 2,
       "version_minor": 0
      },
      "text/plain": [
       "Batches:   0%|          | 0/1 [00:00<?, ?it/s]"
      ]
     },
     "metadata": {},
     "output_type": "display_data"
    },
    {
     "data": {
      "application/vnd.jupyter.widget-view+json": {
       "model_id": "359ca0087c464259ac91b00233b60dc9",
       "version_major": 2,
       "version_minor": 0
      },
      "text/plain": [
       "Batches:   0%|          | 0/30 [00:00<?, ?it/s]"
      ]
     },
     "metadata": {},
     "output_type": "display_data"
    },
    {
     "name": "stderr",
     "output_type": "stream",
     "text": [
      "Processing rows:   6%|▌         | 3/50 [00:09<02:26,  3.12s/row]"
     ]
    },
    {
     "data": {
      "application/vnd.jupyter.widget-view+json": {
       "model_id": "88108a31509349fcaa89d19ffaed5915",
       "version_major": 2,
       "version_minor": 0
      },
      "text/plain": [
       "Batches:   0%|          | 0/1 [00:00<?, ?it/s]"
      ]
     },
     "metadata": {},
     "output_type": "display_data"
    },
    {
     "data": {
      "application/vnd.jupyter.widget-view+json": {
       "model_id": "ace3fb487aec4cc4b3070d5cfa552c1a",
       "version_major": 2,
       "version_minor": 0
      },
      "text/plain": [
       "Batches:   0%|          | 0/20 [00:00<?, ?it/s]"
      ]
     },
     "metadata": {},
     "output_type": "display_data"
    },
    {
     "data": {
      "application/vnd.jupyter.widget-view+json": {
       "model_id": "91a0efc3fef5494ca8b042f5eac1030b",
       "version_major": 2,
       "version_minor": 0
      },
      "text/plain": [
       "Batches:   0%|          | 0/1 [00:00<?, ?it/s]"
      ]
     },
     "metadata": {},
     "output_type": "display_data"
    },
    {
     "data": {
      "application/vnd.jupyter.widget-view+json": {
       "model_id": "d84de336dc1a41ef938bb47d8fbe34c1",
       "version_major": 2,
       "version_minor": 0
      },
      "text/plain": [
       "Batches:   0%|          | 0/32 [00:00<?, ?it/s]"
      ]
     },
     "metadata": {},
     "output_type": "display_data"
    },
    {
     "data": {
      "application/vnd.jupyter.widget-view+json": {
       "model_id": "921a6fa67f064f4caad0fb454ccc60ba",
       "version_major": 2,
       "version_minor": 0
      },
      "text/plain": [
       "Batches:   0%|          | 0/1 [00:00<?, ?it/s]"
      ]
     },
     "metadata": {},
     "output_type": "display_data"
    },
    {
     "data": {
      "application/vnd.jupyter.widget-view+json": {
       "model_id": "6e39027397b047a3b84f3440491c654a",
       "version_major": 2,
       "version_minor": 0
      },
      "text/plain": [
       "Batches:   0%|          | 0/20 [00:00<?, ?it/s]"
      ]
     },
     "metadata": {},
     "output_type": "display_data"
    },
    {
     "data": {
      "application/vnd.jupyter.widget-view+json": {
       "model_id": "18511a80599c4e5987fa50eee246eb01",
       "version_major": 2,
       "version_minor": 0
      },
      "text/plain": [
       "Batches:   0%|          | 0/1 [00:00<?, ?it/s]"
      ]
     },
     "metadata": {},
     "output_type": "display_data"
    },
    {
     "data": {
      "application/vnd.jupyter.widget-view+json": {
       "model_id": "a7579ef120f4475182499deaebcedc99",
       "version_major": 2,
       "version_minor": 0
      },
      "text/plain": [
       "Batches:   0%|          | 0/31 [00:00<?, ?it/s]"
      ]
     },
     "metadata": {},
     "output_type": "display_data"
    },
    {
     "name": "stderr",
     "output_type": "stream",
     "text": [
      "Processing rows:   8%|▊         | 4/50 [00:12<02:22,  3.11s/row]"
     ]
    },
    {
     "data": {
      "application/vnd.jupyter.widget-view+json": {
       "model_id": "ee74e745ab68419399b2d4ae2f258eec",
       "version_major": 2,
       "version_minor": 0
      },
      "text/plain": [
       "Batches:   0%|          | 0/1 [00:00<?, ?it/s]"
      ]
     },
     "metadata": {},
     "output_type": "display_data"
    },
    {
     "data": {
      "application/vnd.jupyter.widget-view+json": {
       "model_id": "b565732e07144ae2b26b56517db4f161",
       "version_major": 2,
       "version_minor": 0
      },
      "text/plain": [
       "Batches:   0%|          | 0/20 [00:00<?, ?it/s]"
      ]
     },
     "metadata": {},
     "output_type": "display_data"
    },
    {
     "data": {
      "application/vnd.jupyter.widget-view+json": {
       "model_id": "58eb6f3f31784232898f1a33437dc439",
       "version_major": 2,
       "version_minor": 0
      },
      "text/plain": [
       "Batches:   0%|          | 0/1 [00:00<?, ?it/s]"
      ]
     },
     "metadata": {},
     "output_type": "display_data"
    },
    {
     "data": {
      "application/vnd.jupyter.widget-view+json": {
       "model_id": "6de7e6bb0118477dba26cb6575258677",
       "version_major": 2,
       "version_minor": 0
      },
      "text/plain": [
       "Batches:   0%|          | 0/36 [00:00<?, ?it/s]"
      ]
     },
     "metadata": {},
     "output_type": "display_data"
    },
    {
     "data": {
      "application/vnd.jupyter.widget-view+json": {
       "model_id": "6e6ee6f3994b4602babdf3102dca11e4",
       "version_major": 2,
       "version_minor": 0
      },
      "text/plain": [
       "Batches:   0%|          | 0/1 [00:00<?, ?it/s]"
      ]
     },
     "metadata": {},
     "output_type": "display_data"
    },
    {
     "data": {
      "application/vnd.jupyter.widget-view+json": {
       "model_id": "e7bd8393706442f2bfed30c5f4ce9836",
       "version_major": 2,
       "version_minor": 0
      },
      "text/plain": [
       "Batches:   0%|          | 0/20 [00:00<?, ?it/s]"
      ]
     },
     "metadata": {},
     "output_type": "display_data"
    },
    {
     "data": {
      "application/vnd.jupyter.widget-view+json": {
       "model_id": "277ad15e811049da92d320541aaa0ad2",
       "version_major": 2,
       "version_minor": 0
      },
      "text/plain": [
       "Batches:   0%|          | 0/1 [00:00<?, ?it/s]"
      ]
     },
     "metadata": {},
     "output_type": "display_data"
    },
    {
     "data": {
      "application/vnd.jupyter.widget-view+json": {
       "model_id": "52fe217d16a44d31adf58c413ef29f36",
       "version_major": 2,
       "version_minor": 0
      },
      "text/plain": [
       "Batches:   0%|          | 0/36 [00:00<?, ?it/s]"
      ]
     },
     "metadata": {},
     "output_type": "display_data"
    },
    {
     "name": "stderr",
     "output_type": "stream",
     "text": [
      "Processing rows:  10%|█         | 5/50 [00:15<02:22,  3.18s/row]"
     ]
    },
    {
     "data": {
      "application/vnd.jupyter.widget-view+json": {
       "model_id": "bc1af88bc4ab4648b12b4c8331ba407d",
       "version_major": 2,
       "version_minor": 0
      },
      "text/plain": [
       "Batches:   0%|          | 0/1 [00:00<?, ?it/s]"
      ]
     },
     "metadata": {},
     "output_type": "display_data"
    },
    {
     "data": {
      "application/vnd.jupyter.widget-view+json": {
       "model_id": "fa3a991967254d9783cd9e0302397140",
       "version_major": 2,
       "version_minor": 0
      },
      "text/plain": [
       "Batches:   0%|          | 0/20 [00:00<?, ?it/s]"
      ]
     },
     "metadata": {},
     "output_type": "display_data"
    },
    {
     "data": {
      "application/vnd.jupyter.widget-view+json": {
       "model_id": "96e1a478698945c38d8ae2196954c0ba",
       "version_major": 2,
       "version_minor": 0
      },
      "text/plain": [
       "Batches:   0%|          | 0/1 [00:00<?, ?it/s]"
      ]
     },
     "metadata": {},
     "output_type": "display_data"
    },
    {
     "data": {
      "application/vnd.jupyter.widget-view+json": {
       "model_id": "384a8aac0f5e48058644e9a3205cf214",
       "version_major": 2,
       "version_minor": 0
      },
      "text/plain": [
       "Batches:   0%|          | 0/36 [00:00<?, ?it/s]"
      ]
     },
     "metadata": {},
     "output_type": "display_data"
    },
    {
     "data": {
      "application/vnd.jupyter.widget-view+json": {
       "model_id": "1e3c29169bef4062b4a9c77cde744a05",
       "version_major": 2,
       "version_minor": 0
      },
      "text/plain": [
       "Batches:   0%|          | 0/1 [00:00<?, ?it/s]"
      ]
     },
     "metadata": {},
     "output_type": "display_data"
    },
    {
     "data": {
      "application/vnd.jupyter.widget-view+json": {
       "model_id": "989629287bf3478eb194ccb9edc61c99",
       "version_major": 2,
       "version_minor": 0
      },
      "text/plain": [
       "Batches:   0%|          | 0/20 [00:00<?, ?it/s]"
      ]
     },
     "metadata": {},
     "output_type": "display_data"
    },
    {
     "data": {
      "application/vnd.jupyter.widget-view+json": {
       "model_id": "2be9571a75ed406c8b3c1335ab7ed10a",
       "version_major": 2,
       "version_minor": 0
      },
      "text/plain": [
       "Batches:   0%|          | 0/1 [00:00<?, ?it/s]"
      ]
     },
     "metadata": {},
     "output_type": "display_data"
    },
    {
     "data": {
      "application/vnd.jupyter.widget-view+json": {
       "model_id": "233022f5086d40819ba4ed9da2a6928b",
       "version_major": 2,
       "version_minor": 0
      },
      "text/plain": [
       "Batches:   0%|          | 0/38 [00:00<?, ?it/s]"
      ]
     },
     "metadata": {},
     "output_type": "display_data"
    },
    {
     "name": "stderr",
     "output_type": "stream",
     "text": [
      "Processing rows:  12%|█▏        | 6/50 [00:19<02:22,  3.25s/row]"
     ]
    },
    {
     "data": {
      "application/vnd.jupyter.widget-view+json": {
       "model_id": "d0076b97397c4416bc7ff25a978c9640",
       "version_major": 2,
       "version_minor": 0
      },
      "text/plain": [
       "Batches:   0%|          | 0/1 [00:00<?, ?it/s]"
      ]
     },
     "metadata": {},
     "output_type": "display_data"
    },
    {
     "data": {
      "application/vnd.jupyter.widget-view+json": {
       "model_id": "4fe2ea2b942547b8800f46fdb8e65c1e",
       "version_major": 2,
       "version_minor": 0
      },
      "text/plain": [
       "Batches:   0%|          | 0/20 [00:00<?, ?it/s]"
      ]
     },
     "metadata": {},
     "output_type": "display_data"
    },
    {
     "data": {
      "application/vnd.jupyter.widget-view+json": {
       "model_id": "a4900503cec34988bf2b9e430463400c",
       "version_major": 2,
       "version_minor": 0
      },
      "text/plain": [
       "Batches:   0%|          | 0/1 [00:00<?, ?it/s]"
      ]
     },
     "metadata": {},
     "output_type": "display_data"
    },
    {
     "data": {
      "application/vnd.jupyter.widget-view+json": {
       "model_id": "0af2d0b8ec50439e8227433391d35280",
       "version_major": 2,
       "version_minor": 0
      },
      "text/plain": [
       "Batches:   0%|          | 0/33 [00:00<?, ?it/s]"
      ]
     },
     "metadata": {},
     "output_type": "display_data"
    },
    {
     "data": {
      "application/vnd.jupyter.widget-view+json": {
       "model_id": "4121fbbb14de4d9ba6e13cd600ad0c44",
       "version_major": 2,
       "version_minor": 0
      },
      "text/plain": [
       "Batches:   0%|          | 0/1 [00:00<?, ?it/s]"
      ]
     },
     "metadata": {},
     "output_type": "display_data"
    },
    {
     "data": {
      "application/vnd.jupyter.widget-view+json": {
       "model_id": "8bb9636463a34f33981552b5de9c575b",
       "version_major": 2,
       "version_minor": 0
      },
      "text/plain": [
       "Batches:   0%|          | 0/20 [00:00<?, ?it/s]"
      ]
     },
     "metadata": {},
     "output_type": "display_data"
    },
    {
     "data": {
      "application/vnd.jupyter.widget-view+json": {
       "model_id": "30e813d62f7c442f9379aa8d5443b657",
       "version_major": 2,
       "version_minor": 0
      },
      "text/plain": [
       "Batches:   0%|          | 0/1 [00:00<?, ?it/s]"
      ]
     },
     "metadata": {},
     "output_type": "display_data"
    },
    {
     "data": {
      "application/vnd.jupyter.widget-view+json": {
       "model_id": "b4eb5e43db3f4a2dad737945dc8ce39a",
       "version_major": 2,
       "version_minor": 0
      },
      "text/plain": [
       "Batches:   0%|          | 0/29 [00:00<?, ?it/s]"
      ]
     },
     "metadata": {},
     "output_type": "display_data"
    },
    {
     "name": "stderr",
     "output_type": "stream",
     "text": [
      "Processing rows:  14%|█▍        | 7/50 [00:22<02:17,  3.20s/row]"
     ]
    },
    {
     "data": {
      "application/vnd.jupyter.widget-view+json": {
       "model_id": "f42cda1ff7a74ab5a5e693aa559a4b62",
       "version_major": 2,
       "version_minor": 0
      },
      "text/plain": [
       "Batches:   0%|          | 0/1 [00:00<?, ?it/s]"
      ]
     },
     "metadata": {},
     "output_type": "display_data"
    },
    {
     "data": {
      "application/vnd.jupyter.widget-view+json": {
       "model_id": "69a2d7da5c144e2899eadb4cf1994c86",
       "version_major": 2,
       "version_minor": 0
      },
      "text/plain": [
       "Batches:   0%|          | 0/20 [00:00<?, ?it/s]"
      ]
     },
     "metadata": {},
     "output_type": "display_data"
    },
    {
     "data": {
      "application/vnd.jupyter.widget-view+json": {
       "model_id": "f80e7c28e5134cb583dad4b06230bc48",
       "version_major": 2,
       "version_minor": 0
      },
      "text/plain": [
       "Batches:   0%|          | 0/1 [00:00<?, ?it/s]"
      ]
     },
     "metadata": {},
     "output_type": "display_data"
    },
    {
     "data": {
      "application/vnd.jupyter.widget-view+json": {
       "model_id": "75d960711ecc495ab0d781ee662eb74d",
       "version_major": 2,
       "version_minor": 0
      },
      "text/plain": [
       "Batches:   0%|          | 0/38 [00:00<?, ?it/s]"
      ]
     },
     "metadata": {},
     "output_type": "display_data"
    },
    {
     "data": {
      "application/vnd.jupyter.widget-view+json": {
       "model_id": "c0b672f284ce4c2db4a34636a4611faf",
       "version_major": 2,
       "version_minor": 0
      },
      "text/plain": [
       "Batches:   0%|          | 0/1 [00:00<?, ?it/s]"
      ]
     },
     "metadata": {},
     "output_type": "display_data"
    },
    {
     "data": {
      "application/vnd.jupyter.widget-view+json": {
       "model_id": "8c3113e1e0fc46189f3798994c5997d7",
       "version_major": 2,
       "version_minor": 0
      },
      "text/plain": [
       "Batches:   0%|          | 0/20 [00:00<?, ?it/s]"
      ]
     },
     "metadata": {},
     "output_type": "display_data"
    },
    {
     "data": {
      "application/vnd.jupyter.widget-view+json": {
       "model_id": "dc54338e12e84080b84c4619da8b0801",
       "version_major": 2,
       "version_minor": 0
      },
      "text/plain": [
       "Batches:   0%|          | 0/1 [00:00<?, ?it/s]"
      ]
     },
     "metadata": {},
     "output_type": "display_data"
    },
    {
     "data": {
      "application/vnd.jupyter.widget-view+json": {
       "model_id": "a3e82de9e91a4f258a5d87205cd47a02",
       "version_major": 2,
       "version_minor": 0
      },
      "text/plain": [
       "Batches:   0%|          | 0/36 [00:00<?, ?it/s]"
      ]
     },
     "metadata": {},
     "output_type": "display_data"
    },
    {
     "name": "stderr",
     "output_type": "stream",
     "text": [
      "Processing rows:  16%|█▌        | 8/50 [00:25<02:17,  3.26s/row]"
     ]
    },
    {
     "data": {
      "application/vnd.jupyter.widget-view+json": {
       "model_id": "d9613876fdf1485c92664359b1627d29",
       "version_major": 2,
       "version_minor": 0
      },
      "text/plain": [
       "Batches:   0%|          | 0/1 [00:00<?, ?it/s]"
      ]
     },
     "metadata": {},
     "output_type": "display_data"
    },
    {
     "data": {
      "application/vnd.jupyter.widget-view+json": {
       "model_id": "176d5d1b5ea84ad89e86471e461b5524",
       "version_major": 2,
       "version_minor": 0
      },
      "text/plain": [
       "Batches:   0%|          | 0/20 [00:00<?, ?it/s]"
      ]
     },
     "metadata": {},
     "output_type": "display_data"
    },
    {
     "data": {
      "application/vnd.jupyter.widget-view+json": {
       "model_id": "b4a667d9cdbf474e93a03160d792fc8e",
       "version_major": 2,
       "version_minor": 0
      },
      "text/plain": [
       "Batches:   0%|          | 0/1 [00:00<?, ?it/s]"
      ]
     },
     "metadata": {},
     "output_type": "display_data"
    },
    {
     "data": {
      "application/vnd.jupyter.widget-view+json": {
       "model_id": "edc16344faf4440c9f9b58886d6e2946",
       "version_major": 2,
       "version_minor": 0
      },
      "text/plain": [
       "Batches:   0%|          | 0/36 [00:00<?, ?it/s]"
      ]
     },
     "metadata": {},
     "output_type": "display_data"
    },
    {
     "data": {
      "application/vnd.jupyter.widget-view+json": {
       "model_id": "d6298eb3a8a54b04b6c930b0aa3b0851",
       "version_major": 2,
       "version_minor": 0
      },
      "text/plain": [
       "Batches:   0%|          | 0/1 [00:00<?, ?it/s]"
      ]
     },
     "metadata": {},
     "output_type": "display_data"
    },
    {
     "data": {
      "application/vnd.jupyter.widget-view+json": {
       "model_id": "a4765ae77aac4a5ba49950a6a81d6343",
       "version_major": 2,
       "version_minor": 0
      },
      "text/plain": [
       "Batches:   0%|          | 0/20 [00:00<?, ?it/s]"
      ]
     },
     "metadata": {},
     "output_type": "display_data"
    },
    {
     "data": {
      "application/vnd.jupyter.widget-view+json": {
       "model_id": "18b471a0c1a640aab271c532795893ef",
       "version_major": 2,
       "version_minor": 0
      },
      "text/plain": [
       "Batches:   0%|          | 0/1 [00:00<?, ?it/s]"
      ]
     },
     "metadata": {},
     "output_type": "display_data"
    },
    {
     "data": {
      "application/vnd.jupyter.widget-view+json": {
       "model_id": "c13ed6b7df9f45988c99bf8fd04cb47f",
       "version_major": 2,
       "version_minor": 0
      },
      "text/plain": [
       "Batches:   0%|          | 0/35 [00:00<?, ?it/s]"
      ]
     },
     "metadata": {},
     "output_type": "display_data"
    },
    {
     "name": "stderr",
     "output_type": "stream",
     "text": [
      "Processing rows:  18%|█▊        | 9/50 [00:29<02:14,  3.29s/row]"
     ]
    },
    {
     "data": {
      "application/vnd.jupyter.widget-view+json": {
       "model_id": "91d6e74a138c4716a06bd3a9fcf77d2e",
       "version_major": 2,
       "version_minor": 0
      },
      "text/plain": [
       "Batches:   0%|          | 0/1 [00:00<?, ?it/s]"
      ]
     },
     "metadata": {},
     "output_type": "display_data"
    },
    {
     "data": {
      "application/vnd.jupyter.widget-view+json": {
       "model_id": "a88514062e0449729fe6900d7ecd93a8",
       "version_major": 2,
       "version_minor": 0
      },
      "text/plain": [
       "Batches:   0%|          | 0/20 [00:00<?, ?it/s]"
      ]
     },
     "metadata": {},
     "output_type": "display_data"
    },
    {
     "data": {
      "application/vnd.jupyter.widget-view+json": {
       "model_id": "a14dacca41b34f2a89ad92a7b5e11d68",
       "version_major": 2,
       "version_minor": 0
      },
      "text/plain": [
       "Batches:   0%|          | 0/1 [00:00<?, ?it/s]"
      ]
     },
     "metadata": {},
     "output_type": "display_data"
    },
    {
     "data": {
      "application/vnd.jupyter.widget-view+json": {
       "model_id": "e803582cef684f8db9e3e3c3a52a8523",
       "version_major": 2,
       "version_minor": 0
      },
      "text/plain": [
       "Batches:   0%|          | 0/38 [00:00<?, ?it/s]"
      ]
     },
     "metadata": {},
     "output_type": "display_data"
    },
    {
     "data": {
      "application/vnd.jupyter.widget-view+json": {
       "model_id": "7bf8aec2c16c48bf82697f459d376854",
       "version_major": 2,
       "version_minor": 0
      },
      "text/plain": [
       "Batches:   0%|          | 0/1 [00:00<?, ?it/s]"
      ]
     },
     "metadata": {},
     "output_type": "display_data"
    },
    {
     "data": {
      "application/vnd.jupyter.widget-view+json": {
       "model_id": "092a20b1fd594afdb297a72cfa9bb5a8",
       "version_major": 2,
       "version_minor": 0
      },
      "text/plain": [
       "Batches:   0%|          | 0/20 [00:00<?, ?it/s]"
      ]
     },
     "metadata": {},
     "output_type": "display_data"
    },
    {
     "data": {
      "application/vnd.jupyter.widget-view+json": {
       "model_id": "33b866bd57984ad68054b2ded14a976b",
       "version_major": 2,
       "version_minor": 0
      },
      "text/plain": [
       "Batches:   0%|          | 0/1 [00:00<?, ?it/s]"
      ]
     },
     "metadata": {},
     "output_type": "display_data"
    },
    {
     "data": {
      "application/vnd.jupyter.widget-view+json": {
       "model_id": "d763b1ac01ba47409bd61204e6a1524c",
       "version_major": 2,
       "version_minor": 0
      },
      "text/plain": [
       "Batches:   0%|          | 0/38 [00:00<?, ?it/s]"
      ]
     },
     "metadata": {},
     "output_type": "display_data"
    },
    {
     "name": "stderr",
     "output_type": "stream",
     "text": [
      "Processing rows:  20%|██        | 10/50 [00:32<02:13,  3.34s/row]"
     ]
    },
    {
     "data": {
      "application/vnd.jupyter.widget-view+json": {
       "model_id": "be3ab723eda941a3a5f29fa7834bd541",
       "version_major": 2,
       "version_minor": 0
      },
      "text/plain": [
       "Batches:   0%|          | 0/1 [00:00<?, ?it/s]"
      ]
     },
     "metadata": {},
     "output_type": "display_data"
    },
    {
     "data": {
      "application/vnd.jupyter.widget-view+json": {
       "model_id": "2c3122df76614e9395c2c39241187be9",
       "version_major": 2,
       "version_minor": 0
      },
      "text/plain": [
       "Batches:   0%|          | 0/20 [00:00<?, ?it/s]"
      ]
     },
     "metadata": {},
     "output_type": "display_data"
    },
    {
     "data": {
      "application/vnd.jupyter.widget-view+json": {
       "model_id": "6b1c2c94b88647a3a70da07f25080549",
       "version_major": 2,
       "version_minor": 0
      },
      "text/plain": [
       "Batches:   0%|          | 0/1 [00:00<?, ?it/s]"
      ]
     },
     "metadata": {},
     "output_type": "display_data"
    },
    {
     "data": {
      "application/vnd.jupyter.widget-view+json": {
       "model_id": "88ae972fd2954d7694cf9082968dbe1f",
       "version_major": 2,
       "version_minor": 0
      },
      "text/plain": [
       "Batches:   0%|          | 0/36 [00:00<?, ?it/s]"
      ]
     },
     "metadata": {},
     "output_type": "display_data"
    },
    {
     "data": {
      "application/vnd.jupyter.widget-view+json": {
       "model_id": "c91e07504df04829b3c3203d84c7ee68",
       "version_major": 2,
       "version_minor": 0
      },
      "text/plain": [
       "Batches:   0%|          | 0/1 [00:00<?, ?it/s]"
      ]
     },
     "metadata": {},
     "output_type": "display_data"
    },
    {
     "data": {
      "application/vnd.jupyter.widget-view+json": {
       "model_id": "76b61f43a4014617b0355529879bec96",
       "version_major": 2,
       "version_minor": 0
      },
      "text/plain": [
       "Batches:   0%|          | 0/20 [00:00<?, ?it/s]"
      ]
     },
     "metadata": {},
     "output_type": "display_data"
    },
    {
     "data": {
      "application/vnd.jupyter.widget-view+json": {
       "model_id": "730ef8d19d584a56a830513b743867d0",
       "version_major": 2,
       "version_minor": 0
      },
      "text/plain": [
       "Batches:   0%|          | 0/1 [00:00<?, ?it/s]"
      ]
     },
     "metadata": {},
     "output_type": "display_data"
    },
    {
     "data": {
      "application/vnd.jupyter.widget-view+json": {
       "model_id": "70caa19d773d4a6e8913f1492681befd",
       "version_major": 2,
       "version_minor": 0
      },
      "text/plain": [
       "Batches:   0%|          | 0/33 [00:00<?, ?it/s]"
      ]
     },
     "metadata": {},
     "output_type": "display_data"
    },
    {
     "name": "stderr",
     "output_type": "stream",
     "text": [
      "Processing rows:  22%|██▏       | 11/50 [00:35<02:09,  3.33s/row]"
     ]
    },
    {
     "data": {
      "application/vnd.jupyter.widget-view+json": {
       "model_id": "2601e38307814a378e3b1b3fa76cca45",
       "version_major": 2,
       "version_minor": 0
      },
      "text/plain": [
       "Batches:   0%|          | 0/1 [00:00<?, ?it/s]"
      ]
     },
     "metadata": {},
     "output_type": "display_data"
    },
    {
     "data": {
      "application/vnd.jupyter.widget-view+json": {
       "model_id": "fc4928aa0a7748229293752e529567df",
       "version_major": 2,
       "version_minor": 0
      },
      "text/plain": [
       "Batches:   0%|          | 0/20 [00:00<?, ?it/s]"
      ]
     },
     "metadata": {},
     "output_type": "display_data"
    },
    {
     "data": {
      "application/vnd.jupyter.widget-view+json": {
       "model_id": "faaec591f82a4f67b178a265f4acf900",
       "version_major": 2,
       "version_minor": 0
      },
      "text/plain": [
       "Batches:   0%|          | 0/1 [00:00<?, ?it/s]"
      ]
     },
     "metadata": {},
     "output_type": "display_data"
    },
    {
     "data": {
      "application/vnd.jupyter.widget-view+json": {
       "model_id": "eddd3297afd7460f8a9f9b0c3e54af0a",
       "version_major": 2,
       "version_minor": 0
      },
      "text/plain": [
       "Batches:   0%|          | 0/29 [00:00<?, ?it/s]"
      ]
     },
     "metadata": {},
     "output_type": "display_data"
    },
    {
     "data": {
      "application/vnd.jupyter.widget-view+json": {
       "model_id": "0502786d430c401887b5102f8c3a2eaf",
       "version_major": 2,
       "version_minor": 0
      },
      "text/plain": [
       "Batches:   0%|          | 0/1 [00:00<?, ?it/s]"
      ]
     },
     "metadata": {},
     "output_type": "display_data"
    },
    {
     "data": {
      "application/vnd.jupyter.widget-view+json": {
       "model_id": "bb16b3e6e9ee427b88434a4abc6025b3",
       "version_major": 2,
       "version_minor": 0
      },
      "text/plain": [
       "Batches:   0%|          | 0/20 [00:00<?, ?it/s]"
      ]
     },
     "metadata": {},
     "output_type": "display_data"
    },
    {
     "data": {
      "application/vnd.jupyter.widget-view+json": {
       "model_id": "e48afed1fb1348c7b81edc1eabb8f91d",
       "version_major": 2,
       "version_minor": 0
      },
      "text/plain": [
       "Batches:   0%|          | 0/1 [00:00<?, ?it/s]"
      ]
     },
     "metadata": {},
     "output_type": "display_data"
    },
    {
     "data": {
      "application/vnd.jupyter.widget-view+json": {
       "model_id": "49f09aa62d4047508699926ba0bd6fc0",
       "version_major": 2,
       "version_minor": 0
      },
      "text/plain": [
       "Batches:   0%|          | 0/28 [00:00<?, ?it/s]"
      ]
     },
     "metadata": {},
     "output_type": "display_data"
    },
    {
     "name": "stderr",
     "output_type": "stream",
     "text": [
      "Processing rows:  24%|██▍       | 12/50 [00:38<02:02,  3.24s/row]"
     ]
    },
    {
     "data": {
      "application/vnd.jupyter.widget-view+json": {
       "model_id": "4c95b8340eb348ec899281c83740cd76",
       "version_major": 2,
       "version_minor": 0
      },
      "text/plain": [
       "Batches:   0%|          | 0/1 [00:00<?, ?it/s]"
      ]
     },
     "metadata": {},
     "output_type": "display_data"
    },
    {
     "data": {
      "application/vnd.jupyter.widget-view+json": {
       "model_id": "9567642e98ad40f9b753218d98dac00b",
       "version_major": 2,
       "version_minor": 0
      },
      "text/plain": [
       "Batches:   0%|          | 0/20 [00:00<?, ?it/s]"
      ]
     },
     "metadata": {},
     "output_type": "display_data"
    },
    {
     "data": {
      "application/vnd.jupyter.widget-view+json": {
       "model_id": "9befdb0e000f40bba822137bf52f6016",
       "version_major": 2,
       "version_minor": 0
      },
      "text/plain": [
       "Batches:   0%|          | 0/1 [00:00<?, ?it/s]"
      ]
     },
     "metadata": {},
     "output_type": "display_data"
    },
    {
     "data": {
      "application/vnd.jupyter.widget-view+json": {
       "model_id": "80c58f76b81f4ed2bb22cc74feb55766",
       "version_major": 2,
       "version_minor": 0
      },
      "text/plain": [
       "Batches:   0%|          | 0/34 [00:00<?, ?it/s]"
      ]
     },
     "metadata": {},
     "output_type": "display_data"
    },
    {
     "data": {
      "application/vnd.jupyter.widget-view+json": {
       "model_id": "9e0be081bf684bacb1e18fde0fdeb40b",
       "version_major": 2,
       "version_minor": 0
      },
      "text/plain": [
       "Batches:   0%|          | 0/1 [00:00<?, ?it/s]"
      ]
     },
     "metadata": {},
     "output_type": "display_data"
    },
    {
     "data": {
      "application/vnd.jupyter.widget-view+json": {
       "model_id": "c6e6dfaaab9a4b028ab99dd8ded9ba34",
       "version_major": 2,
       "version_minor": 0
      },
      "text/plain": [
       "Batches:   0%|          | 0/20 [00:00<?, ?it/s]"
      ]
     },
     "metadata": {},
     "output_type": "display_data"
    },
    {
     "data": {
      "application/vnd.jupyter.widget-view+json": {
       "model_id": "ca4ccd4f75964166933c7455fd1e694c",
       "version_major": 2,
       "version_minor": 0
      },
      "text/plain": [
       "Batches:   0%|          | 0/1 [00:00<?, ?it/s]"
      ]
     },
     "metadata": {},
     "output_type": "display_data"
    },
    {
     "data": {
      "application/vnd.jupyter.widget-view+json": {
       "model_id": "c031792d689248f7941ff86d57dfcb8b",
       "version_major": 2,
       "version_minor": 0
      },
      "text/plain": [
       "Batches:   0%|          | 0/36 [00:00<?, ?it/s]"
      ]
     },
     "metadata": {},
     "output_type": "display_data"
    },
    {
     "name": "stderr",
     "output_type": "stream",
     "text": [
      "Processing rows:  26%|██▌       | 13/50 [00:42<02:00,  3.25s/row]"
     ]
    },
    {
     "data": {
      "application/vnd.jupyter.widget-view+json": {
       "model_id": "f2851e2d40b846f1ab4d5e8e0277bade",
       "version_major": 2,
       "version_minor": 0
      },
      "text/plain": [
       "Batches:   0%|          | 0/1 [00:00<?, ?it/s]"
      ]
     },
     "metadata": {},
     "output_type": "display_data"
    },
    {
     "data": {
      "application/vnd.jupyter.widget-view+json": {
       "model_id": "3db6980de6cf47beb1bd742cd386e53c",
       "version_major": 2,
       "version_minor": 0
      },
      "text/plain": [
       "Batches:   0%|          | 0/20 [00:00<?, ?it/s]"
      ]
     },
     "metadata": {},
     "output_type": "display_data"
    },
    {
     "data": {
      "application/vnd.jupyter.widget-view+json": {
       "model_id": "be49f719b7504c95abfb7ad26d579185",
       "version_major": 2,
       "version_minor": 0
      },
      "text/plain": [
       "Batches:   0%|          | 0/1 [00:00<?, ?it/s]"
      ]
     },
     "metadata": {},
     "output_type": "display_data"
    },
    {
     "data": {
      "application/vnd.jupyter.widget-view+json": {
       "model_id": "13b5c828598742fabcdfac3706a2433d",
       "version_major": 2,
       "version_minor": 0
      },
      "text/plain": [
       "Batches:   0%|          | 0/34 [00:00<?, ?it/s]"
      ]
     },
     "metadata": {},
     "output_type": "display_data"
    },
    {
     "data": {
      "application/vnd.jupyter.widget-view+json": {
       "model_id": "8a3ecc52906047d0896c72128ea8bc78",
       "version_major": 2,
       "version_minor": 0
      },
      "text/plain": [
       "Batches:   0%|          | 0/1 [00:00<?, ?it/s]"
      ]
     },
     "metadata": {},
     "output_type": "display_data"
    },
    {
     "data": {
      "application/vnd.jupyter.widget-view+json": {
       "model_id": "ba15a8e402094c50bdfbe0158a8682dc",
       "version_major": 2,
       "version_minor": 0
      },
      "text/plain": [
       "Batches:   0%|          | 0/20 [00:00<?, ?it/s]"
      ]
     },
     "metadata": {},
     "output_type": "display_data"
    },
    {
     "data": {
      "application/vnd.jupyter.widget-view+json": {
       "model_id": "09b8131c41fb4b5f99577bf26d702be6",
       "version_major": 2,
       "version_minor": 0
      },
      "text/plain": [
       "Batches:   0%|          | 0/1 [00:00<?, ?it/s]"
      ]
     },
     "metadata": {},
     "output_type": "display_data"
    },
    {
     "data": {
      "application/vnd.jupyter.widget-view+json": {
       "model_id": "010c809774084027beac4698b448aefd",
       "version_major": 2,
       "version_minor": 0
      },
      "text/plain": [
       "Batches:   0%|          | 0/35 [00:00<?, ?it/s]"
      ]
     },
     "metadata": {},
     "output_type": "display_data"
    },
    {
     "name": "stderr",
     "output_type": "stream",
     "text": [
      "Processing rows:  28%|██▊       | 14/50 [00:45<01:57,  3.26s/row]"
     ]
    },
    {
     "data": {
      "application/vnd.jupyter.widget-view+json": {
       "model_id": "280c2a1b826d49d1a18cf38e86ebf94e",
       "version_major": 2,
       "version_minor": 0
      },
      "text/plain": [
       "Batches:   0%|          | 0/1 [00:00<?, ?it/s]"
      ]
     },
     "metadata": {},
     "output_type": "display_data"
    },
    {
     "data": {
      "application/vnd.jupyter.widget-view+json": {
       "model_id": "1be327372d374995b50128e969c53448",
       "version_major": 2,
       "version_minor": 0
      },
      "text/plain": [
       "Batches:   0%|          | 0/20 [00:00<?, ?it/s]"
      ]
     },
     "metadata": {},
     "output_type": "display_data"
    },
    {
     "data": {
      "application/vnd.jupyter.widget-view+json": {
       "model_id": "710bd18217b74e1a965854ada7550549",
       "version_major": 2,
       "version_minor": 0
      },
      "text/plain": [
       "Batches:   0%|          | 0/1 [00:00<?, ?it/s]"
      ]
     },
     "metadata": {},
     "output_type": "display_data"
    },
    {
     "data": {
      "application/vnd.jupyter.widget-view+json": {
       "model_id": "2f903a97bac74ddc8756210989fc1f8b",
       "version_major": 2,
       "version_minor": 0
      },
      "text/plain": [
       "Batches:   0%|          | 0/30 [00:00<?, ?it/s]"
      ]
     },
     "metadata": {},
     "output_type": "display_data"
    },
    {
     "data": {
      "application/vnd.jupyter.widget-view+json": {
       "model_id": "119ac2e97635436aac582d66e4950b2c",
       "version_major": 2,
       "version_minor": 0
      },
      "text/plain": [
       "Batches:   0%|          | 0/1 [00:00<?, ?it/s]"
      ]
     },
     "metadata": {},
     "output_type": "display_data"
    },
    {
     "data": {
      "application/vnd.jupyter.widget-view+json": {
       "model_id": "7282a66fb46447d8b3bfc66f9d6e27e6",
       "version_major": 2,
       "version_minor": 0
      },
      "text/plain": [
       "Batches:   0%|          | 0/20 [00:00<?, ?it/s]"
      ]
     },
     "metadata": {},
     "output_type": "display_data"
    },
    {
     "data": {
      "application/vnd.jupyter.widget-view+json": {
       "model_id": "1d866adffa2a46c2a666ade2af0dbbb6",
       "version_major": 2,
       "version_minor": 0
      },
      "text/plain": [
       "Batches:   0%|          | 0/1 [00:00<?, ?it/s]"
      ]
     },
     "metadata": {},
     "output_type": "display_data"
    },
    {
     "data": {
      "application/vnd.jupyter.widget-view+json": {
       "model_id": "7f612079e5ec4931beb7b6a59b4e08e3",
       "version_major": 2,
       "version_minor": 0
      },
      "text/plain": [
       "Batches:   0%|          | 0/28 [00:00<?, ?it/s]"
      ]
     },
     "metadata": {},
     "output_type": "display_data"
    },
    {
     "name": "stderr",
     "output_type": "stream",
     "text": [
      "Processing rows:  30%|███       | 15/50 [00:48<01:51,  3.19s/row]"
     ]
    },
    {
     "data": {
      "application/vnd.jupyter.widget-view+json": {
       "model_id": "8940418f354d425a80504d4d4e4762cc",
       "version_major": 2,
       "version_minor": 0
      },
      "text/plain": [
       "Batches:   0%|          | 0/1 [00:00<?, ?it/s]"
      ]
     },
     "metadata": {},
     "output_type": "display_data"
    },
    {
     "data": {
      "application/vnd.jupyter.widget-view+json": {
       "model_id": "8d52829dc6a7411c9fc83e4302f4781b",
       "version_major": 2,
       "version_minor": 0
      },
      "text/plain": [
       "Batches:   0%|          | 0/20 [00:00<?, ?it/s]"
      ]
     },
     "metadata": {},
     "output_type": "display_data"
    },
    {
     "data": {
      "application/vnd.jupyter.widget-view+json": {
       "model_id": "f02dfcac178d47ba8ad594d943c27cb0",
       "version_major": 2,
       "version_minor": 0
      },
      "text/plain": [
       "Batches:   0%|          | 0/1 [00:00<?, ?it/s]"
      ]
     },
     "metadata": {},
     "output_type": "display_data"
    },
    {
     "data": {
      "application/vnd.jupyter.widget-view+json": {
       "model_id": "7633a640dc1a4f98be36781f63bd31f0",
       "version_major": 2,
       "version_minor": 0
      },
      "text/plain": [
       "Batches:   0%|          | 0/32 [00:00<?, ?it/s]"
      ]
     },
     "metadata": {},
     "output_type": "display_data"
    },
    {
     "data": {
      "application/vnd.jupyter.widget-view+json": {
       "model_id": "ab7703cd92d0491398e9d4c106874c86",
       "version_major": 2,
       "version_minor": 0
      },
      "text/plain": [
       "Batches:   0%|          | 0/1 [00:00<?, ?it/s]"
      ]
     },
     "metadata": {},
     "output_type": "display_data"
    },
    {
     "data": {
      "application/vnd.jupyter.widget-view+json": {
       "model_id": "0c6227a786a2436abe8f3d9a53e614c6",
       "version_major": 2,
       "version_minor": 0
      },
      "text/plain": [
       "Batches:   0%|          | 0/20 [00:00<?, ?it/s]"
      ]
     },
     "metadata": {},
     "output_type": "display_data"
    },
    {
     "data": {
      "application/vnd.jupyter.widget-view+json": {
       "model_id": "8181942db0d14655aad391adeb03eb7f",
       "version_major": 2,
       "version_minor": 0
      },
      "text/plain": [
       "Batches:   0%|          | 0/1 [00:00<?, ?it/s]"
      ]
     },
     "metadata": {},
     "output_type": "display_data"
    },
    {
     "data": {
      "application/vnd.jupyter.widget-view+json": {
       "model_id": "0e5c06351289498096706c4828111385",
       "version_major": 2,
       "version_minor": 0
      },
      "text/plain": [
       "Batches:   0%|          | 0/31 [00:00<?, ?it/s]"
      ]
     },
     "metadata": {},
     "output_type": "display_data"
    },
    {
     "name": "stderr",
     "output_type": "stream",
     "text": [
      "Processing rows:  32%|███▏      | 16/50 [00:51<01:47,  3.18s/row]"
     ]
    },
    {
     "data": {
      "application/vnd.jupyter.widget-view+json": {
       "model_id": "e9a7563f66a2401e9034b295768c5e54",
       "version_major": 2,
       "version_minor": 0
      },
      "text/plain": [
       "Batches:   0%|          | 0/1 [00:00<?, ?it/s]"
      ]
     },
     "metadata": {},
     "output_type": "display_data"
    },
    {
     "data": {
      "application/vnd.jupyter.widget-view+json": {
       "model_id": "18e421be0d7c42a1858e194b8bbca65f",
       "version_major": 2,
       "version_minor": 0
      },
      "text/plain": [
       "Batches:   0%|          | 0/20 [00:00<?, ?it/s]"
      ]
     },
     "metadata": {},
     "output_type": "display_data"
    },
    {
     "data": {
      "application/vnd.jupyter.widget-view+json": {
       "model_id": "489b3c9be8f8414e88fdf4aabddbf8ec",
       "version_major": 2,
       "version_minor": 0
      },
      "text/plain": [
       "Batches:   0%|          | 0/1 [00:00<?, ?it/s]"
      ]
     },
     "metadata": {},
     "output_type": "display_data"
    },
    {
     "data": {
      "application/vnd.jupyter.widget-view+json": {
       "model_id": "797bb80be7864f3bb1585772d7a15449",
       "version_major": 2,
       "version_minor": 0
      },
      "text/plain": [
       "Batches:   0%|          | 0/35 [00:00<?, ?it/s]"
      ]
     },
     "metadata": {},
     "output_type": "display_data"
    },
    {
     "data": {
      "application/vnd.jupyter.widget-view+json": {
       "model_id": "37756dce803b496782075abc7d42e2d9",
       "version_major": 2,
       "version_minor": 0
      },
      "text/plain": [
       "Batches:   0%|          | 0/1 [00:00<?, ?it/s]"
      ]
     },
     "metadata": {},
     "output_type": "display_data"
    },
    {
     "data": {
      "application/vnd.jupyter.widget-view+json": {
       "model_id": "82f8b2ab174d4ea7a873d8adeb9329d5",
       "version_major": 2,
       "version_minor": 0
      },
      "text/plain": [
       "Batches:   0%|          | 0/20 [00:00<?, ?it/s]"
      ]
     },
     "metadata": {},
     "output_type": "display_data"
    },
    {
     "data": {
      "application/vnd.jupyter.widget-view+json": {
       "model_id": "edaeb42c62674bb3baadae792306ecfb",
       "version_major": 2,
       "version_minor": 0
      },
      "text/plain": [
       "Batches:   0%|          | 0/1 [00:00<?, ?it/s]"
      ]
     },
     "metadata": {},
     "output_type": "display_data"
    },
    {
     "data": {
      "application/vnd.jupyter.widget-view+json": {
       "model_id": "6429f7a641384e709bcb8a047104c029",
       "version_major": 2,
       "version_minor": 0
      },
      "text/plain": [
       "Batches:   0%|          | 0/36 [00:00<?, ?it/s]"
      ]
     },
     "metadata": {},
     "output_type": "display_data"
    },
    {
     "name": "stderr",
     "output_type": "stream",
     "text": [
      "Processing rows:  34%|███▍      | 17/50 [00:54<01:46,  3.23s/row]"
     ]
    },
    {
     "data": {
      "application/vnd.jupyter.widget-view+json": {
       "model_id": "fa1a960963d24220a7f648d17fec0c0b",
       "version_major": 2,
       "version_minor": 0
      },
      "text/plain": [
       "Batches:   0%|          | 0/1 [00:00<?, ?it/s]"
      ]
     },
     "metadata": {},
     "output_type": "display_data"
    },
    {
     "data": {
      "application/vnd.jupyter.widget-view+json": {
       "model_id": "8c3445529b764385a62de84a0aceba6b",
       "version_major": 2,
       "version_minor": 0
      },
      "text/plain": [
       "Batches:   0%|          | 0/20 [00:00<?, ?it/s]"
      ]
     },
     "metadata": {},
     "output_type": "display_data"
    },
    {
     "data": {
      "application/vnd.jupyter.widget-view+json": {
       "model_id": "d431c1a7d98a4d3e955e3742200e33d0",
       "version_major": 2,
       "version_minor": 0
      },
      "text/plain": [
       "Batches:   0%|          | 0/1 [00:00<?, ?it/s]"
      ]
     },
     "metadata": {},
     "output_type": "display_data"
    },
    {
     "data": {
      "application/vnd.jupyter.widget-view+json": {
       "model_id": "b52efe9aba67486687294c7b042645f9",
       "version_major": 2,
       "version_minor": 0
      },
      "text/plain": [
       "Batches:   0%|          | 0/39 [00:00<?, ?it/s]"
      ]
     },
     "metadata": {},
     "output_type": "display_data"
    },
    {
     "data": {
      "application/vnd.jupyter.widget-view+json": {
       "model_id": "6850294a893945e6abe296809cbedab7",
       "version_major": 2,
       "version_minor": 0
      },
      "text/plain": [
       "Batches:   0%|          | 0/1 [00:00<?, ?it/s]"
      ]
     },
     "metadata": {},
     "output_type": "display_data"
    },
    {
     "data": {
      "application/vnd.jupyter.widget-view+json": {
       "model_id": "75e8a5274d304159a87306a679a48a2e",
       "version_major": 2,
       "version_minor": 0
      },
      "text/plain": [
       "Batches:   0%|          | 0/20 [00:00<?, ?it/s]"
      ]
     },
     "metadata": {},
     "output_type": "display_data"
    },
    {
     "data": {
      "application/vnd.jupyter.widget-view+json": {
       "model_id": "542930f323d3413496dd492b451c53c0",
       "version_major": 2,
       "version_minor": 0
      },
      "text/plain": [
       "Batches:   0%|          | 0/1 [00:00<?, ?it/s]"
      ]
     },
     "metadata": {},
     "output_type": "display_data"
    },
    {
     "data": {
      "application/vnd.jupyter.widget-view+json": {
       "model_id": "963f082d975c470d9c8b24c9047f6c63",
       "version_major": 2,
       "version_minor": 0
      },
      "text/plain": [
       "Batches:   0%|          | 0/38 [00:00<?, ?it/s]"
      ]
     },
     "metadata": {},
     "output_type": "display_data"
    },
    {
     "name": "stderr",
     "output_type": "stream",
     "text": [
      "Processing rows:  36%|███▌      | 18/50 [00:58<01:45,  3.30s/row]"
     ]
    },
    {
     "data": {
      "application/vnd.jupyter.widget-view+json": {
       "model_id": "5fd4f780b26d4888be8cced86a0e3beb",
       "version_major": 2,
       "version_minor": 0
      },
      "text/plain": [
       "Batches:   0%|          | 0/1 [00:00<?, ?it/s]"
      ]
     },
     "metadata": {},
     "output_type": "display_data"
    },
    {
     "data": {
      "application/vnd.jupyter.widget-view+json": {
       "model_id": "f30e649faa2e466ebc830e7f54e76151",
       "version_major": 2,
       "version_minor": 0
      },
      "text/plain": [
       "Batches:   0%|          | 0/20 [00:00<?, ?it/s]"
      ]
     },
     "metadata": {},
     "output_type": "display_data"
    },
    {
     "data": {
      "application/vnd.jupyter.widget-view+json": {
       "model_id": "2cd41f6f7448447db971f8a554c65332",
       "version_major": 2,
       "version_minor": 0
      },
      "text/plain": [
       "Batches:   0%|          | 0/1 [00:00<?, ?it/s]"
      ]
     },
     "metadata": {},
     "output_type": "display_data"
    },
    {
     "data": {
      "application/vnd.jupyter.widget-view+json": {
       "model_id": "1503ac1155e74fbf9d02c5a60570bb35",
       "version_major": 2,
       "version_minor": 0
      },
      "text/plain": [
       "Batches:   0%|          | 0/27 [00:00<?, ?it/s]"
      ]
     },
     "metadata": {},
     "output_type": "display_data"
    },
    {
     "data": {
      "application/vnd.jupyter.widget-view+json": {
       "model_id": "6557a4334dac44e3998d94d9fcec23d5",
       "version_major": 2,
       "version_minor": 0
      },
      "text/plain": [
       "Batches:   0%|          | 0/1 [00:00<?, ?it/s]"
      ]
     },
     "metadata": {},
     "output_type": "display_data"
    },
    {
     "data": {
      "application/vnd.jupyter.widget-view+json": {
       "model_id": "dd90ac39519c46cbb1c2a9e8596cc42d",
       "version_major": 2,
       "version_minor": 0
      },
      "text/plain": [
       "Batches:   0%|          | 0/20 [00:00<?, ?it/s]"
      ]
     },
     "metadata": {},
     "output_type": "display_data"
    },
    {
     "data": {
      "application/vnd.jupyter.widget-view+json": {
       "model_id": "4cf121dc63ce4fb284b177b1132f3b3b",
       "version_major": 2,
       "version_minor": 0
      },
      "text/plain": [
       "Batches:   0%|          | 0/1 [00:00<?, ?it/s]"
      ]
     },
     "metadata": {},
     "output_type": "display_data"
    },
    {
     "data": {
      "application/vnd.jupyter.widget-view+json": {
       "model_id": "aed066486878495ab84cfec472b19202",
       "version_major": 2,
       "version_minor": 0
      },
      "text/plain": [
       "Batches:   0%|          | 0/23 [00:00<?, ?it/s]"
      ]
     },
     "metadata": {},
     "output_type": "display_data"
    },
    {
     "name": "stderr",
     "output_type": "stream",
     "text": [
      "Processing rows:  38%|███▊      | 19/50 [01:01<01:37,  3.16s/row]"
     ]
    },
    {
     "data": {
      "application/vnd.jupyter.widget-view+json": {
       "model_id": "a484b56f4beb4de49ea72c563f4fa8b6",
       "version_major": 2,
       "version_minor": 0
      },
      "text/plain": [
       "Batches:   0%|          | 0/1 [00:00<?, ?it/s]"
      ]
     },
     "metadata": {},
     "output_type": "display_data"
    },
    {
     "data": {
      "application/vnd.jupyter.widget-view+json": {
       "model_id": "efc7ae1408f04413b13af180431e6e33",
       "version_major": 2,
       "version_minor": 0
      },
      "text/plain": [
       "Batches:   0%|          | 0/20 [00:00<?, ?it/s]"
      ]
     },
     "metadata": {},
     "output_type": "display_data"
    },
    {
     "data": {
      "application/vnd.jupyter.widget-view+json": {
       "model_id": "20f79cbe4dbb4d8ca982c9be71e76e0f",
       "version_major": 2,
       "version_minor": 0
      },
      "text/plain": [
       "Batches:   0%|          | 0/1 [00:00<?, ?it/s]"
      ]
     },
     "metadata": {},
     "output_type": "display_data"
    },
    {
     "data": {
      "application/vnd.jupyter.widget-view+json": {
       "model_id": "6b829e3ee3684522805b3c7aa5c4c5ac",
       "version_major": 2,
       "version_minor": 0
      },
      "text/plain": [
       "Batches:   0%|          | 0/30 [00:00<?, ?it/s]"
      ]
     },
     "metadata": {},
     "output_type": "display_data"
    },
    {
     "data": {
      "application/vnd.jupyter.widget-view+json": {
       "model_id": "50971cf4954b476b986662fcfcb62a23",
       "version_major": 2,
       "version_minor": 0
      },
      "text/plain": [
       "Batches:   0%|          | 0/1 [00:00<?, ?it/s]"
      ]
     },
     "metadata": {},
     "output_type": "display_data"
    },
    {
     "data": {
      "application/vnd.jupyter.widget-view+json": {
       "model_id": "cea32e8ad6f94bcab6f781af53dfef2f",
       "version_major": 2,
       "version_minor": 0
      },
      "text/plain": [
       "Batches:   0%|          | 0/20 [00:00<?, ?it/s]"
      ]
     },
     "metadata": {},
     "output_type": "display_data"
    },
    {
     "data": {
      "application/vnd.jupyter.widget-view+json": {
       "model_id": "c3420674a0d64d12a3e9d7aefca19d27",
       "version_major": 2,
       "version_minor": 0
      },
      "text/plain": [
       "Batches:   0%|          | 0/1 [00:00<?, ?it/s]"
      ]
     },
     "metadata": {},
     "output_type": "display_data"
    },
    {
     "data": {
      "application/vnd.jupyter.widget-view+json": {
       "model_id": "a74aa826985a4883be1d20936ba456f2",
       "version_major": 2,
       "version_minor": 0
      },
      "text/plain": [
       "Batches:   0%|          | 0/31 [00:00<?, ?it/s]"
      ]
     },
     "metadata": {},
     "output_type": "display_data"
    },
    {
     "name": "stderr",
     "output_type": "stream",
     "text": [
      "Processing rows:  40%|████      | 20/50 [01:04<01:34,  3.13s/row]"
     ]
    },
    {
     "data": {
      "application/vnd.jupyter.widget-view+json": {
       "model_id": "262751277e464ca892ff905ced007bf3",
       "version_major": 2,
       "version_minor": 0
      },
      "text/plain": [
       "Batches:   0%|          | 0/1 [00:00<?, ?it/s]"
      ]
     },
     "metadata": {},
     "output_type": "display_data"
    },
    {
     "data": {
      "application/vnd.jupyter.widget-view+json": {
       "model_id": "888a3ed2dc7744c4b7010ca100400d5f",
       "version_major": 2,
       "version_minor": 0
      },
      "text/plain": [
       "Batches:   0%|          | 0/20 [00:00<?, ?it/s]"
      ]
     },
     "metadata": {},
     "output_type": "display_data"
    },
    {
     "data": {
      "application/vnd.jupyter.widget-view+json": {
       "model_id": "d74be9c04495418b837864f5cca05c49",
       "version_major": 2,
       "version_minor": 0
      },
      "text/plain": [
       "Batches:   0%|          | 0/1 [00:00<?, ?it/s]"
      ]
     },
     "metadata": {},
     "output_type": "display_data"
    },
    {
     "data": {
      "application/vnd.jupyter.widget-view+json": {
       "model_id": "cc36287990c6460cb765b313c12a507a",
       "version_major": 2,
       "version_minor": 0
      },
      "text/plain": [
       "Batches:   0%|          | 0/34 [00:00<?, ?it/s]"
      ]
     },
     "metadata": {},
     "output_type": "display_data"
    },
    {
     "data": {
      "application/vnd.jupyter.widget-view+json": {
       "model_id": "0b80161940ec418fb4be649c328a1d84",
       "version_major": 2,
       "version_minor": 0
      },
      "text/plain": [
       "Batches:   0%|          | 0/1 [00:00<?, ?it/s]"
      ]
     },
     "metadata": {},
     "output_type": "display_data"
    },
    {
     "data": {
      "application/vnd.jupyter.widget-view+json": {
       "model_id": "0ea21f82d47b454ab98643379048bec8",
       "version_major": 2,
       "version_minor": 0
      },
      "text/plain": [
       "Batches:   0%|          | 0/20 [00:00<?, ?it/s]"
      ]
     },
     "metadata": {},
     "output_type": "display_data"
    },
    {
     "data": {
      "application/vnd.jupyter.widget-view+json": {
       "model_id": "2bf498c9edf04faa8a202c88ddce8d11",
       "version_major": 2,
       "version_minor": 0
      },
      "text/plain": [
       "Batches:   0%|          | 0/1 [00:00<?, ?it/s]"
      ]
     },
     "metadata": {},
     "output_type": "display_data"
    },
    {
     "data": {
      "application/vnd.jupyter.widget-view+json": {
       "model_id": "845f5ad6c5b047099ee7e3977b128b49",
       "version_major": 2,
       "version_minor": 0
      },
      "text/plain": [
       "Batches:   0%|          | 0/36 [00:00<?, ?it/s]"
      ]
     },
     "metadata": {},
     "output_type": "display_data"
    },
    {
     "name": "stderr",
     "output_type": "stream",
     "text": [
      "Processing rows:  42%|████▏     | 21/50 [01:07<01:32,  3.19s/row]"
     ]
    },
    {
     "data": {
      "application/vnd.jupyter.widget-view+json": {
       "model_id": "186b1aa9a7154717bc1d638977d19b73",
       "version_major": 2,
       "version_minor": 0
      },
      "text/plain": [
       "Batches:   0%|          | 0/1 [00:00<?, ?it/s]"
      ]
     },
     "metadata": {},
     "output_type": "display_data"
    },
    {
     "data": {
      "application/vnd.jupyter.widget-view+json": {
       "model_id": "07ddf926d9a94b7486f695173b9b49a6",
       "version_major": 2,
       "version_minor": 0
      },
      "text/plain": [
       "Batches:   0%|          | 0/20 [00:00<?, ?it/s]"
      ]
     },
     "metadata": {},
     "output_type": "display_data"
    },
    {
     "data": {
      "application/vnd.jupyter.widget-view+json": {
       "model_id": "669e2591fe45477980aa13d8893ef9de",
       "version_major": 2,
       "version_minor": 0
      },
      "text/plain": [
       "Batches:   0%|          | 0/1 [00:00<?, ?it/s]"
      ]
     },
     "metadata": {},
     "output_type": "display_data"
    },
    {
     "data": {
      "application/vnd.jupyter.widget-view+json": {
       "model_id": "7054dd25dea24969955c8a78fec89c83",
       "version_major": 2,
       "version_minor": 0
      },
      "text/plain": [
       "Batches:   0%|          | 0/33 [00:00<?, ?it/s]"
      ]
     },
     "metadata": {},
     "output_type": "display_data"
    },
    {
     "data": {
      "application/vnd.jupyter.widget-view+json": {
       "model_id": "7e7aa410480e44049d9185b4fd5ae783",
       "version_major": 2,
       "version_minor": 0
      },
      "text/plain": [
       "Batches:   0%|          | 0/1 [00:00<?, ?it/s]"
      ]
     },
     "metadata": {},
     "output_type": "display_data"
    },
    {
     "data": {
      "application/vnd.jupyter.widget-view+json": {
       "model_id": "359dbf6510e94841ba63ef42ed3524ab",
       "version_major": 2,
       "version_minor": 0
      },
      "text/plain": [
       "Batches:   0%|          | 0/20 [00:00<?, ?it/s]"
      ]
     },
     "metadata": {},
     "output_type": "display_data"
    },
    {
     "data": {
      "application/vnd.jupyter.widget-view+json": {
       "model_id": "c9e38f345c034f90878fbc21960c4cb4",
       "version_major": 2,
       "version_minor": 0
      },
      "text/plain": [
       "Batches:   0%|          | 0/1 [00:00<?, ?it/s]"
      ]
     },
     "metadata": {},
     "output_type": "display_data"
    },
    {
     "data": {
      "application/vnd.jupyter.widget-view+json": {
       "model_id": "3bcfedc27f29477e8e131df0e07284aa",
       "version_major": 2,
       "version_minor": 0
      },
      "text/plain": [
       "Batches:   0%|          | 0/28 [00:00<?, ?it/s]"
      ]
     },
     "metadata": {},
     "output_type": "display_data"
    },
    {
     "name": "stderr",
     "output_type": "stream",
     "text": [
      "Processing rows:  44%|████▍     | 22/50 [01:10<01:28,  3.17s/row]"
     ]
    },
    {
     "data": {
      "application/vnd.jupyter.widget-view+json": {
       "model_id": "b77dca1024374818a939db8ed813138e",
       "version_major": 2,
       "version_minor": 0
      },
      "text/plain": [
       "Batches:   0%|          | 0/1 [00:00<?, ?it/s]"
      ]
     },
     "metadata": {},
     "output_type": "display_data"
    },
    {
     "data": {
      "application/vnd.jupyter.widget-view+json": {
       "model_id": "d6ce778392c740178d9c118a55f458e6",
       "version_major": 2,
       "version_minor": 0
      },
      "text/plain": [
       "Batches:   0%|          | 0/20 [00:00<?, ?it/s]"
      ]
     },
     "metadata": {},
     "output_type": "display_data"
    },
    {
     "data": {
      "application/vnd.jupyter.widget-view+json": {
       "model_id": "705868290835481c9f23ef31a2587147",
       "version_major": 2,
       "version_minor": 0
      },
      "text/plain": [
       "Batches:   0%|          | 0/1 [00:00<?, ?it/s]"
      ]
     },
     "metadata": {},
     "output_type": "display_data"
    },
    {
     "data": {
      "application/vnd.jupyter.widget-view+json": {
       "model_id": "6e701ec77e9446a380d6814dd955593b",
       "version_major": 2,
       "version_minor": 0
      },
      "text/plain": [
       "Batches:   0%|          | 0/33 [00:00<?, ?it/s]"
      ]
     },
     "metadata": {},
     "output_type": "display_data"
    },
    {
     "data": {
      "application/vnd.jupyter.widget-view+json": {
       "model_id": "a4e164f762bf4b01a4e7637a48ecbdb1",
       "version_major": 2,
       "version_minor": 0
      },
      "text/plain": [
       "Batches:   0%|          | 0/1 [00:00<?, ?it/s]"
      ]
     },
     "metadata": {},
     "output_type": "display_data"
    },
    {
     "data": {
      "application/vnd.jupyter.widget-view+json": {
       "model_id": "3447df7ce114477b94cba9c47f8675d9",
       "version_major": 2,
       "version_minor": 0
      },
      "text/plain": [
       "Batches:   0%|          | 0/20 [00:00<?, ?it/s]"
      ]
     },
     "metadata": {},
     "output_type": "display_data"
    },
    {
     "data": {
      "application/vnd.jupyter.widget-view+json": {
       "model_id": "0cf8b6f15fc4470da54e5a1d846a4e7f",
       "version_major": 2,
       "version_minor": 0
      },
      "text/plain": [
       "Batches:   0%|          | 0/1 [00:00<?, ?it/s]"
      ]
     },
     "metadata": {},
     "output_type": "display_data"
    },
    {
     "data": {
      "application/vnd.jupyter.widget-view+json": {
       "model_id": "a294da0bd0bb434d94be6cb9d8cee062",
       "version_major": 2,
       "version_minor": 0
      },
      "text/plain": [
       "Batches:   0%|          | 0/32 [00:00<?, ?it/s]"
      ]
     },
     "metadata": {},
     "output_type": "display_data"
    },
    {
     "name": "stderr",
     "output_type": "stream",
     "text": [
      "Processing rows:  46%|████▌     | 23/50 [01:13<01:25,  3.18s/row]"
     ]
    },
    {
     "data": {
      "application/vnd.jupyter.widget-view+json": {
       "model_id": "8afed7e2dc2147fdb33b70f880ac8a3a",
       "version_major": 2,
       "version_minor": 0
      },
      "text/plain": [
       "Batches:   0%|          | 0/1 [00:00<?, ?it/s]"
      ]
     },
     "metadata": {},
     "output_type": "display_data"
    },
    {
     "data": {
      "application/vnd.jupyter.widget-view+json": {
       "model_id": "0cbe0e5eb6af4d08a2792b5f028d80cc",
       "version_major": 2,
       "version_minor": 0
      },
      "text/plain": [
       "Batches:   0%|          | 0/20 [00:00<?, ?it/s]"
      ]
     },
     "metadata": {},
     "output_type": "display_data"
    },
    {
     "data": {
      "application/vnd.jupyter.widget-view+json": {
       "model_id": "f265e21beaa6479893929a8c746bdd64",
       "version_major": 2,
       "version_minor": 0
      },
      "text/plain": [
       "Batches:   0%|          | 0/1 [00:00<?, ?it/s]"
      ]
     },
     "metadata": {},
     "output_type": "display_data"
    },
    {
     "data": {
      "application/vnd.jupyter.widget-view+json": {
       "model_id": "2b2dffa2afc54840a5ed857eec4583ad",
       "version_major": 2,
       "version_minor": 0
      },
      "text/plain": [
       "Batches:   0%|          | 0/31 [00:00<?, ?it/s]"
      ]
     },
     "metadata": {},
     "output_type": "display_data"
    },
    {
     "data": {
      "application/vnd.jupyter.widget-view+json": {
       "model_id": "c1ec2787dbc74bb29a9818aba2f837b8",
       "version_major": 2,
       "version_minor": 0
      },
      "text/plain": [
       "Batches:   0%|          | 0/1 [00:00<?, ?it/s]"
      ]
     },
     "metadata": {},
     "output_type": "display_data"
    },
    {
     "data": {
      "application/vnd.jupyter.widget-view+json": {
       "model_id": "ea0a8c118782461f859aec04047db2e1",
       "version_major": 2,
       "version_minor": 0
      },
      "text/plain": [
       "Batches:   0%|          | 0/20 [00:00<?, ?it/s]"
      ]
     },
     "metadata": {},
     "output_type": "display_data"
    },
    {
     "data": {
      "application/vnd.jupyter.widget-view+json": {
       "model_id": "7e777b185ea74f229b77ce77716ae57a",
       "version_major": 2,
       "version_minor": 0
      },
      "text/plain": [
       "Batches:   0%|          | 0/1 [00:00<?, ?it/s]"
      ]
     },
     "metadata": {},
     "output_type": "display_data"
    },
    {
     "data": {
      "application/vnd.jupyter.widget-view+json": {
       "model_id": "6bdcc23ba3e048559c4f59bae9a26dd5",
       "version_major": 2,
       "version_minor": 0
      },
      "text/plain": [
       "Batches:   0%|          | 0/32 [00:00<?, ?it/s]"
      ]
     },
     "metadata": {},
     "output_type": "display_data"
    },
    {
     "name": "stderr",
     "output_type": "stream",
     "text": [
      "Processing rows:  48%|████▊     | 24/50 [01:17<01:22,  3.17s/row]"
     ]
    },
    {
     "data": {
      "application/vnd.jupyter.widget-view+json": {
       "model_id": "68a8d54443fd4fa0903f8f82e338fbe3",
       "version_major": 2,
       "version_minor": 0
      },
      "text/plain": [
       "Batches:   0%|          | 0/1 [00:00<?, ?it/s]"
      ]
     },
     "metadata": {},
     "output_type": "display_data"
    },
    {
     "data": {
      "application/vnd.jupyter.widget-view+json": {
       "model_id": "527eb312eacd4934a03dafd8476d88d7",
       "version_major": 2,
       "version_minor": 0
      },
      "text/plain": [
       "Batches:   0%|          | 0/20 [00:00<?, ?it/s]"
      ]
     },
     "metadata": {},
     "output_type": "display_data"
    },
    {
     "data": {
      "application/vnd.jupyter.widget-view+json": {
       "model_id": "9bf766aed8164f6f9ff31f5a36740754",
       "version_major": 2,
       "version_minor": 0
      },
      "text/plain": [
       "Batches:   0%|          | 0/1 [00:00<?, ?it/s]"
      ]
     },
     "metadata": {},
     "output_type": "display_data"
    },
    {
     "data": {
      "application/vnd.jupyter.widget-view+json": {
       "model_id": "386471f97e1b46da933457f01af6333b",
       "version_major": 2,
       "version_minor": 0
      },
      "text/plain": [
       "Batches:   0%|          | 0/34 [00:00<?, ?it/s]"
      ]
     },
     "metadata": {},
     "output_type": "display_data"
    },
    {
     "data": {
      "application/vnd.jupyter.widget-view+json": {
       "model_id": "e6ee7d7f08a644f3ba915f67c1818722",
       "version_major": 2,
       "version_minor": 0
      },
      "text/plain": [
       "Batches:   0%|          | 0/1 [00:00<?, ?it/s]"
      ]
     },
     "metadata": {},
     "output_type": "display_data"
    },
    {
     "data": {
      "application/vnd.jupyter.widget-view+json": {
       "model_id": "e6a7c81230dc483e985a123f5a6396b5",
       "version_major": 2,
       "version_minor": 0
      },
      "text/plain": [
       "Batches:   0%|          | 0/20 [00:00<?, ?it/s]"
      ]
     },
     "metadata": {},
     "output_type": "display_data"
    },
    {
     "data": {
      "application/vnd.jupyter.widget-view+json": {
       "model_id": "473bded913f14ac0b1d7f4319d14584b",
       "version_major": 2,
       "version_minor": 0
      },
      "text/plain": [
       "Batches:   0%|          | 0/1 [00:00<?, ?it/s]"
      ]
     },
     "metadata": {},
     "output_type": "display_data"
    },
    {
     "data": {
      "application/vnd.jupyter.widget-view+json": {
       "model_id": "135530b1aa0846998c9e716ef225a0a3",
       "version_major": 2,
       "version_minor": 0
      },
      "text/plain": [
       "Batches:   0%|          | 0/37 [00:00<?, ?it/s]"
      ]
     },
     "metadata": {},
     "output_type": "display_data"
    },
    {
     "name": "stderr",
     "output_type": "stream",
     "text": [
      "Processing rows:  50%|█████     | 25/50 [01:20<01:20,  3.22s/row]"
     ]
    },
    {
     "data": {
      "application/vnd.jupyter.widget-view+json": {
       "model_id": "724c8da5612942b8a83131ab2c9ce7b7",
       "version_major": 2,
       "version_minor": 0
      },
      "text/plain": [
       "Batches:   0%|          | 0/1 [00:00<?, ?it/s]"
      ]
     },
     "metadata": {},
     "output_type": "display_data"
    },
    {
     "data": {
      "application/vnd.jupyter.widget-view+json": {
       "model_id": "3d8520a57c10438fb9b5ddf458f89069",
       "version_major": 2,
       "version_minor": 0
      },
      "text/plain": [
       "Batches:   0%|          | 0/20 [00:00<?, ?it/s]"
      ]
     },
     "metadata": {},
     "output_type": "display_data"
    },
    {
     "data": {
      "application/vnd.jupyter.widget-view+json": {
       "model_id": "e4256f2a7b204d658ec78016b6de201a",
       "version_major": 2,
       "version_minor": 0
      },
      "text/plain": [
       "Batches:   0%|          | 0/1 [00:00<?, ?it/s]"
      ]
     },
     "metadata": {},
     "output_type": "display_data"
    },
    {
     "data": {
      "application/vnd.jupyter.widget-view+json": {
       "model_id": "c9a14e0b42e240dabf205c8110b29c29",
       "version_major": 2,
       "version_minor": 0
      },
      "text/plain": [
       "Batches:   0%|          | 0/37 [00:00<?, ?it/s]"
      ]
     },
     "metadata": {},
     "output_type": "display_data"
    },
    {
     "data": {
      "application/vnd.jupyter.widget-view+json": {
       "model_id": "f48bfe51c3ee4a8782d3bbaf7346d8d4",
       "version_major": 2,
       "version_minor": 0
      },
      "text/plain": [
       "Batches:   0%|          | 0/1 [00:00<?, ?it/s]"
      ]
     },
     "metadata": {},
     "output_type": "display_data"
    },
    {
     "data": {
      "application/vnd.jupyter.widget-view+json": {
       "model_id": "ba0d0dcdab6e433b8b31c48b3cbb2476",
       "version_major": 2,
       "version_minor": 0
      },
      "text/plain": [
       "Batches:   0%|          | 0/20 [00:00<?, ?it/s]"
      ]
     },
     "metadata": {},
     "output_type": "display_data"
    },
    {
     "data": {
      "application/vnd.jupyter.widget-view+json": {
       "model_id": "b5091ccbc6514cc49358601e8d303a54",
       "version_major": 2,
       "version_minor": 0
      },
      "text/plain": [
       "Batches:   0%|          | 0/1 [00:00<?, ?it/s]"
      ]
     },
     "metadata": {},
     "output_type": "display_data"
    },
    {
     "data": {
      "application/vnd.jupyter.widget-view+json": {
       "model_id": "9f545c153a474028b22d777df0bf829f",
       "version_major": 2,
       "version_minor": 0
      },
      "text/plain": [
       "Batches:   0%|          | 0/35 [00:00<?, ?it/s]"
      ]
     },
     "metadata": {},
     "output_type": "display_data"
    },
    {
     "name": "stderr",
     "output_type": "stream",
     "text": [
      "Processing rows:  52%|█████▏    | 26/50 [01:23<01:18,  3.25s/row]"
     ]
    },
    {
     "data": {
      "application/vnd.jupyter.widget-view+json": {
       "model_id": "85ab891603d544cd8d81307f8ada48f6",
       "version_major": 2,
       "version_minor": 0
      },
      "text/plain": [
       "Batches:   0%|          | 0/1 [00:00<?, ?it/s]"
      ]
     },
     "metadata": {},
     "output_type": "display_data"
    },
    {
     "data": {
      "application/vnd.jupyter.widget-view+json": {
       "model_id": "02dcfadcfb9c40e097b369092ce1d448",
       "version_major": 2,
       "version_minor": 0
      },
      "text/plain": [
       "Batches:   0%|          | 0/20 [00:00<?, ?it/s]"
      ]
     },
     "metadata": {},
     "output_type": "display_data"
    },
    {
     "data": {
      "application/vnd.jupyter.widget-view+json": {
       "model_id": "8673d3ca1527478bb7b79de4c71acd31",
       "version_major": 2,
       "version_minor": 0
      },
      "text/plain": [
       "Batches:   0%|          | 0/1 [00:00<?, ?it/s]"
      ]
     },
     "metadata": {},
     "output_type": "display_data"
    },
    {
     "data": {
      "application/vnd.jupyter.widget-view+json": {
       "model_id": "938d81fdab794882845e29bb39dbe575",
       "version_major": 2,
       "version_minor": 0
      },
      "text/plain": [
       "Batches:   0%|          | 0/36 [00:00<?, ?it/s]"
      ]
     },
     "metadata": {},
     "output_type": "display_data"
    },
    {
     "data": {
      "application/vnd.jupyter.widget-view+json": {
       "model_id": "3063c861955342cfa89acda6761bfd7b",
       "version_major": 2,
       "version_minor": 0
      },
      "text/plain": [
       "Batches:   0%|          | 0/1 [00:00<?, ?it/s]"
      ]
     },
     "metadata": {},
     "output_type": "display_data"
    },
    {
     "data": {
      "application/vnd.jupyter.widget-view+json": {
       "model_id": "aa35904fc95246d59a9ac285838715e8",
       "version_major": 2,
       "version_minor": 0
      },
      "text/plain": [
       "Batches:   0%|          | 0/20 [00:00<?, ?it/s]"
      ]
     },
     "metadata": {},
     "output_type": "display_data"
    },
    {
     "data": {
      "application/vnd.jupyter.widget-view+json": {
       "model_id": "fc92dc57921840e09d539862ef8745a8",
       "version_major": 2,
       "version_minor": 0
      },
      "text/plain": [
       "Batches:   0%|          | 0/1 [00:00<?, ?it/s]"
      ]
     },
     "metadata": {},
     "output_type": "display_data"
    },
    {
     "data": {
      "application/vnd.jupyter.widget-view+json": {
       "model_id": "33a2a3ddf45745318250119f301474c0",
       "version_major": 2,
       "version_minor": 0
      },
      "text/plain": [
       "Batches:   0%|          | 0/36 [00:00<?, ?it/s]"
      ]
     },
     "metadata": {},
     "output_type": "display_data"
    },
    {
     "name": "stderr",
     "output_type": "stream",
     "text": [
      "Processing rows:  54%|█████▍    | 27/50 [01:27<01:15,  3.28s/row]"
     ]
    },
    {
     "data": {
      "application/vnd.jupyter.widget-view+json": {
       "model_id": "9408a5f475a749089988ec3793ef1977",
       "version_major": 2,
       "version_minor": 0
      },
      "text/plain": [
       "Batches:   0%|          | 0/1 [00:00<?, ?it/s]"
      ]
     },
     "metadata": {},
     "output_type": "display_data"
    },
    {
     "data": {
      "application/vnd.jupyter.widget-view+json": {
       "model_id": "3c8e655a6d184277a6f5049910b41345",
       "version_major": 2,
       "version_minor": 0
      },
      "text/plain": [
       "Batches:   0%|          | 0/20 [00:00<?, ?it/s]"
      ]
     },
     "metadata": {},
     "output_type": "display_data"
    },
    {
     "data": {
      "application/vnd.jupyter.widget-view+json": {
       "model_id": "e75be11315bb44b68d1c5a0191f97544",
       "version_major": 2,
       "version_minor": 0
      },
      "text/plain": [
       "Batches:   0%|          | 0/1 [00:00<?, ?it/s]"
      ]
     },
     "metadata": {},
     "output_type": "display_data"
    },
    {
     "data": {
      "application/vnd.jupyter.widget-view+json": {
       "model_id": "e5390b7ba83e446291231d885d0d0506",
       "version_major": 2,
       "version_minor": 0
      },
      "text/plain": [
       "Batches:   0%|          | 0/20 [00:00<?, ?it/s]"
      ]
     },
     "metadata": {},
     "output_type": "display_data"
    },
    {
     "data": {
      "application/vnd.jupyter.widget-view+json": {
       "model_id": "03522e6aeaf84695821c13f845d875ce",
       "version_major": 2,
       "version_minor": 0
      },
      "text/plain": [
       "Batches:   0%|          | 0/1 [00:00<?, ?it/s]"
      ]
     },
     "metadata": {},
     "output_type": "display_data"
    },
    {
     "data": {
      "application/vnd.jupyter.widget-view+json": {
       "model_id": "00143e4f29a14429b857ae12f0802728",
       "version_major": 2,
       "version_minor": 0
      },
      "text/plain": [
       "Batches:   0%|          | 0/20 [00:00<?, ?it/s]"
      ]
     },
     "metadata": {},
     "output_type": "display_data"
    },
    {
     "data": {
      "application/vnd.jupyter.widget-view+json": {
       "model_id": "c470d81e52d946c298be94a31d7b348c",
       "version_major": 2,
       "version_minor": 0
      },
      "text/plain": [
       "Batches:   0%|          | 0/1 [00:00<?, ?it/s]"
      ]
     },
     "metadata": {},
     "output_type": "display_data"
    },
    {
     "data": {
      "application/vnd.jupyter.widget-view+json": {
       "model_id": "f76f59f396b44cabb2a4abdee934ab95",
       "version_major": 2,
       "version_minor": 0
      },
      "text/plain": [
       "Batches:   0%|          | 0/20 [00:00<?, ?it/s]"
      ]
     },
     "metadata": {},
     "output_type": "display_data"
    },
    {
     "name": "stderr",
     "output_type": "stream",
     "text": [
      "Processing rows:  56%|█████▌    | 28/50 [01:29<01:06,  3.03s/row]"
     ]
    },
    {
     "data": {
      "application/vnd.jupyter.widget-view+json": {
       "model_id": "95316bce9b3440e186786d29815c85da",
       "version_major": 2,
       "version_minor": 0
      },
      "text/plain": [
       "Batches:   0%|          | 0/1 [00:00<?, ?it/s]"
      ]
     },
     "metadata": {},
     "output_type": "display_data"
    },
    {
     "data": {
      "application/vnd.jupyter.widget-view+json": {
       "model_id": "e0f51f0fb42b4d1db35f748dfad4f83a",
       "version_major": 2,
       "version_minor": 0
      },
      "text/plain": [
       "Batches:   0%|          | 0/20 [00:00<?, ?it/s]"
      ]
     },
     "metadata": {},
     "output_type": "display_data"
    },
    {
     "data": {
      "application/vnd.jupyter.widget-view+json": {
       "model_id": "c89d728aa0f24d5b931d11526597a38f",
       "version_major": 2,
       "version_minor": 0
      },
      "text/plain": [
       "Batches:   0%|          | 0/1 [00:00<?, ?it/s]"
      ]
     },
     "metadata": {},
     "output_type": "display_data"
    },
    {
     "data": {
      "application/vnd.jupyter.widget-view+json": {
       "model_id": "bab7e04f3f1b43c2b0d87dbeb5a1e08b",
       "version_major": 2,
       "version_minor": 0
      },
      "text/plain": [
       "Batches:   0%|          | 0/30 [00:00<?, ?it/s]"
      ]
     },
     "metadata": {},
     "output_type": "display_data"
    },
    {
     "data": {
      "application/vnd.jupyter.widget-view+json": {
       "model_id": "120f1c4ed08d41bb8bf752a98558fbfb",
       "version_major": 2,
       "version_minor": 0
      },
      "text/plain": [
       "Batches:   0%|          | 0/1 [00:00<?, ?it/s]"
      ]
     },
     "metadata": {},
     "output_type": "display_data"
    },
    {
     "data": {
      "application/vnd.jupyter.widget-view+json": {
       "model_id": "3472e3bea53f4dac99a5fba80aee7d78",
       "version_major": 2,
       "version_minor": 0
      },
      "text/plain": [
       "Batches:   0%|          | 0/20 [00:00<?, ?it/s]"
      ]
     },
     "metadata": {},
     "output_type": "display_data"
    },
    {
     "data": {
      "application/vnd.jupyter.widget-view+json": {
       "model_id": "facf6c1f05db4712864b9f59d443ced6",
       "version_major": 2,
       "version_minor": 0
      },
      "text/plain": [
       "Batches:   0%|          | 0/1 [00:00<?, ?it/s]"
      ]
     },
     "metadata": {},
     "output_type": "display_data"
    },
    {
     "data": {
      "application/vnd.jupyter.widget-view+json": {
       "model_id": "89fbf45368924ec7958e075df4b9cfd6",
       "version_major": 2,
       "version_minor": 0
      },
      "text/plain": [
       "Batches:   0%|          | 0/30 [00:00<?, ?it/s]"
      ]
     },
     "metadata": {},
     "output_type": "display_data"
    },
    {
     "name": "stderr",
     "output_type": "stream",
     "text": [
      "Processing rows:  58%|█████▊    | 29/50 [01:32<01:03,  3.04s/row]"
     ]
    },
    {
     "data": {
      "application/vnd.jupyter.widget-view+json": {
       "model_id": "304e6695c4454c73be2a969d310d3fb0",
       "version_major": 2,
       "version_minor": 0
      },
      "text/plain": [
       "Batches:   0%|          | 0/1 [00:00<?, ?it/s]"
      ]
     },
     "metadata": {},
     "output_type": "display_data"
    },
    {
     "data": {
      "application/vnd.jupyter.widget-view+json": {
       "model_id": "3d30fa4649bb4aea82f7de12338f8299",
       "version_major": 2,
       "version_minor": 0
      },
      "text/plain": [
       "Batches:   0%|          | 0/20 [00:00<?, ?it/s]"
      ]
     },
     "metadata": {},
     "output_type": "display_data"
    },
    {
     "data": {
      "application/vnd.jupyter.widget-view+json": {
       "model_id": "dfe09fd71c13471e8eb8541275dc0601",
       "version_major": 2,
       "version_minor": 0
      },
      "text/plain": [
       "Batches:   0%|          | 0/1 [00:00<?, ?it/s]"
      ]
     },
     "metadata": {},
     "output_type": "display_data"
    },
    {
     "data": {
      "application/vnd.jupyter.widget-view+json": {
       "model_id": "4e172e241d624a0bae316979b7ffaf20",
       "version_major": 2,
       "version_minor": 0
      },
      "text/plain": [
       "Batches:   0%|          | 0/33 [00:00<?, ?it/s]"
      ]
     },
     "metadata": {},
     "output_type": "display_data"
    },
    {
     "data": {
      "application/vnd.jupyter.widget-view+json": {
       "model_id": "6d96b7167f1a40fb9287f5cd8bd1a87e",
       "version_major": 2,
       "version_minor": 0
      },
      "text/plain": [
       "Batches:   0%|          | 0/1 [00:00<?, ?it/s]"
      ]
     },
     "metadata": {},
     "output_type": "display_data"
    },
    {
     "data": {
      "application/vnd.jupyter.widget-view+json": {
       "model_id": "81cdd66008244d1f827c1e2229dc8fe3",
       "version_major": 2,
       "version_minor": 0
      },
      "text/plain": [
       "Batches:   0%|          | 0/20 [00:00<?, ?it/s]"
      ]
     },
     "metadata": {},
     "output_type": "display_data"
    },
    {
     "data": {
      "application/vnd.jupyter.widget-view+json": {
       "model_id": "00427c72957e4cef8d5e364b2dd1b58c",
       "version_major": 2,
       "version_minor": 0
      },
      "text/plain": [
       "Batches:   0%|          | 0/1 [00:00<?, ?it/s]"
      ]
     },
     "metadata": {},
     "output_type": "display_data"
    },
    {
     "data": {
      "application/vnd.jupyter.widget-view+json": {
       "model_id": "76c75eb986fa46ad9a155adfbc681e33",
       "version_major": 2,
       "version_minor": 0
      },
      "text/plain": [
       "Batches:   0%|          | 0/33 [00:00<?, ?it/s]"
      ]
     },
     "metadata": {},
     "output_type": "display_data"
    },
    {
     "name": "stderr",
     "output_type": "stream",
     "text": [
      "Processing rows:  60%|██████    | 30/50 [01:35<01:01,  3.09s/row]"
     ]
    },
    {
     "data": {
      "application/vnd.jupyter.widget-view+json": {
       "model_id": "9499607d48c7407fa3de72d77f4c401b",
       "version_major": 2,
       "version_minor": 0
      },
      "text/plain": [
       "Batches:   0%|          | 0/1 [00:00<?, ?it/s]"
      ]
     },
     "metadata": {},
     "output_type": "display_data"
    },
    {
     "data": {
      "application/vnd.jupyter.widget-view+json": {
       "model_id": "c5a17b7c013e494395c487f3846d1771",
       "version_major": 2,
       "version_minor": 0
      },
      "text/plain": [
       "Batches:   0%|          | 0/20 [00:00<?, ?it/s]"
      ]
     },
     "metadata": {},
     "output_type": "display_data"
    },
    {
     "data": {
      "application/vnd.jupyter.widget-view+json": {
       "model_id": "4f311ca01a9e4877a689f90cc5d76648",
       "version_major": 2,
       "version_minor": 0
      },
      "text/plain": [
       "Batches:   0%|          | 0/1 [00:00<?, ?it/s]"
      ]
     },
     "metadata": {},
     "output_type": "display_data"
    },
    {
     "data": {
      "application/vnd.jupyter.widget-view+json": {
       "model_id": "336b17524806458580976093266e8f94",
       "version_major": 2,
       "version_minor": 0
      },
      "text/plain": [
       "Batches:   0%|          | 0/33 [00:00<?, ?it/s]"
      ]
     },
     "metadata": {},
     "output_type": "display_data"
    },
    {
     "data": {
      "application/vnd.jupyter.widget-view+json": {
       "model_id": "632670cba02d4e139574106789d31b8d",
       "version_major": 2,
       "version_minor": 0
      },
      "text/plain": [
       "Batches:   0%|          | 0/1 [00:00<?, ?it/s]"
      ]
     },
     "metadata": {},
     "output_type": "display_data"
    },
    {
     "data": {
      "application/vnd.jupyter.widget-view+json": {
       "model_id": "9a6a9c7d9358491686323cd95059cab0",
       "version_major": 2,
       "version_minor": 0
      },
      "text/plain": [
       "Batches:   0%|          | 0/20 [00:00<?, ?it/s]"
      ]
     },
     "metadata": {},
     "output_type": "display_data"
    },
    {
     "data": {
      "application/vnd.jupyter.widget-view+json": {
       "model_id": "21f09b3a8699447888503d21e2cbb48d",
       "version_major": 2,
       "version_minor": 0
      },
      "text/plain": [
       "Batches:   0%|          | 0/1 [00:00<?, ?it/s]"
      ]
     },
     "metadata": {},
     "output_type": "display_data"
    },
    {
     "data": {
      "application/vnd.jupyter.widget-view+json": {
       "model_id": "72122d291dd349fba992c57de84bbf34",
       "version_major": 2,
       "version_minor": 0
      },
      "text/plain": [
       "Batches:   0%|          | 0/35 [00:00<?, ?it/s]"
      ]
     },
     "metadata": {},
     "output_type": "display_data"
    },
    {
     "name": "stderr",
     "output_type": "stream",
     "text": [
      "Processing rows:  62%|██████▏   | 31/50 [01:39<00:59,  3.14s/row]"
     ]
    },
    {
     "data": {
      "application/vnd.jupyter.widget-view+json": {
       "model_id": "e3a402cc343b420485d9083a61f5662d",
       "version_major": 2,
       "version_minor": 0
      },
      "text/plain": [
       "Batches:   0%|          | 0/1 [00:00<?, ?it/s]"
      ]
     },
     "metadata": {},
     "output_type": "display_data"
    },
    {
     "data": {
      "application/vnd.jupyter.widget-view+json": {
       "model_id": "2a9ab4d0e07b4e22b43f312945324893",
       "version_major": 2,
       "version_minor": 0
      },
      "text/plain": [
       "Batches:   0%|          | 0/20 [00:00<?, ?it/s]"
      ]
     },
     "metadata": {},
     "output_type": "display_data"
    },
    {
     "data": {
      "application/vnd.jupyter.widget-view+json": {
       "model_id": "50a25d5d959947e4a6b3852897c5c6d6",
       "version_major": 2,
       "version_minor": 0
      },
      "text/plain": [
       "Batches:   0%|          | 0/1 [00:00<?, ?it/s]"
      ]
     },
     "metadata": {},
     "output_type": "display_data"
    },
    {
     "data": {
      "application/vnd.jupyter.widget-view+json": {
       "model_id": "b8d3ca8eebe04bb6b49587aedc299482",
       "version_major": 2,
       "version_minor": 0
      },
      "text/plain": [
       "Batches:   0%|          | 0/31 [00:00<?, ?it/s]"
      ]
     },
     "metadata": {},
     "output_type": "display_data"
    },
    {
     "data": {
      "application/vnd.jupyter.widget-view+json": {
       "model_id": "6c60ab317721466a87d2341feb94fba3",
       "version_major": 2,
       "version_minor": 0
      },
      "text/plain": [
       "Batches:   0%|          | 0/1 [00:00<?, ?it/s]"
      ]
     },
     "metadata": {},
     "output_type": "display_data"
    },
    {
     "data": {
      "application/vnd.jupyter.widget-view+json": {
       "model_id": "733769dd0f89406eb7953553350eed3d",
       "version_major": 2,
       "version_minor": 0
      },
      "text/plain": [
       "Batches:   0%|          | 0/20 [00:00<?, ?it/s]"
      ]
     },
     "metadata": {},
     "output_type": "display_data"
    },
    {
     "data": {
      "application/vnd.jupyter.widget-view+json": {
       "model_id": "45e5ce23e470485694d174358e94c874",
       "version_major": 2,
       "version_minor": 0
      },
      "text/plain": [
       "Batches:   0%|          | 0/1 [00:00<?, ?it/s]"
      ]
     },
     "metadata": {},
     "output_type": "display_data"
    },
    {
     "data": {
      "application/vnd.jupyter.widget-view+json": {
       "model_id": "daa2ea8769af474a80b8fe11cbdf3f42",
       "version_major": 2,
       "version_minor": 0
      },
      "text/plain": [
       "Batches:   0%|          | 0/31 [00:00<?, ?it/s]"
      ]
     },
     "metadata": {},
     "output_type": "display_data"
    },
    {
     "name": "stderr",
     "output_type": "stream",
     "text": [
      "Processing rows:  64%|██████▍   | 32/50 [01:42<00:56,  3.14s/row]"
     ]
    },
    {
     "data": {
      "application/vnd.jupyter.widget-view+json": {
       "model_id": "2ba95d094b7c42e09c346fecc94e2e73",
       "version_major": 2,
       "version_minor": 0
      },
      "text/plain": [
       "Batches:   0%|          | 0/1 [00:00<?, ?it/s]"
      ]
     },
     "metadata": {},
     "output_type": "display_data"
    },
    {
     "data": {
      "application/vnd.jupyter.widget-view+json": {
       "model_id": "73558109959349a0a9653e1b8ea1a3b3",
       "version_major": 2,
       "version_minor": 0
      },
      "text/plain": [
       "Batches:   0%|          | 0/20 [00:00<?, ?it/s]"
      ]
     },
     "metadata": {},
     "output_type": "display_data"
    },
    {
     "data": {
      "application/vnd.jupyter.widget-view+json": {
       "model_id": "c2feb3ea93724c8fa907c7b4cc43d7ab",
       "version_major": 2,
       "version_minor": 0
      },
      "text/plain": [
       "Batches:   0%|          | 0/1 [00:00<?, ?it/s]"
      ]
     },
     "metadata": {},
     "output_type": "display_data"
    },
    {
     "data": {
      "application/vnd.jupyter.widget-view+json": {
       "model_id": "bcd2981903ab4aca878754df7b2796b5",
       "version_major": 2,
       "version_minor": 0
      },
      "text/plain": [
       "Batches:   0%|          | 0/32 [00:00<?, ?it/s]"
      ]
     },
     "metadata": {},
     "output_type": "display_data"
    },
    {
     "data": {
      "application/vnd.jupyter.widget-view+json": {
       "model_id": "48d248f89990406d894ec3fb301a3f85",
       "version_major": 2,
       "version_minor": 0
      },
      "text/plain": [
       "Batches:   0%|          | 0/1 [00:00<?, ?it/s]"
      ]
     },
     "metadata": {},
     "output_type": "display_data"
    },
    {
     "data": {
      "application/vnd.jupyter.widget-view+json": {
       "model_id": "dd1c40564bdf42279eaf369f3d27a952",
       "version_major": 2,
       "version_minor": 0
      },
      "text/plain": [
       "Batches:   0%|          | 0/20 [00:00<?, ?it/s]"
      ]
     },
     "metadata": {},
     "output_type": "display_data"
    },
    {
     "data": {
      "application/vnd.jupyter.widget-view+json": {
       "model_id": "aaddad8b3fba4c9d981935160bc49706",
       "version_major": 2,
       "version_minor": 0
      },
      "text/plain": [
       "Batches:   0%|          | 0/1 [00:00<?, ?it/s]"
      ]
     },
     "metadata": {},
     "output_type": "display_data"
    },
    {
     "data": {
      "application/vnd.jupyter.widget-view+json": {
       "model_id": "5624f013e4f145b18ead671fc2afa64e",
       "version_major": 2,
       "version_minor": 0
      },
      "text/plain": [
       "Batches:   0%|          | 0/29 [00:00<?, ?it/s]"
      ]
     },
     "metadata": {},
     "output_type": "display_data"
    },
    {
     "name": "stderr",
     "output_type": "stream",
     "text": [
      "Processing rows:  66%|██████▌   | 33/50 [01:45<00:53,  3.12s/row]"
     ]
    },
    {
     "data": {
      "application/vnd.jupyter.widget-view+json": {
       "model_id": "d7400c515db64cf5b39b03f0d417c459",
       "version_major": 2,
       "version_minor": 0
      },
      "text/plain": [
       "Batches:   0%|          | 0/1 [00:00<?, ?it/s]"
      ]
     },
     "metadata": {},
     "output_type": "display_data"
    },
    {
     "data": {
      "application/vnd.jupyter.widget-view+json": {
       "model_id": "7bc23703a356462a9f10229917bf9cfc",
       "version_major": 2,
       "version_minor": 0
      },
      "text/plain": [
       "Batches:   0%|          | 0/20 [00:00<?, ?it/s]"
      ]
     },
     "metadata": {},
     "output_type": "display_data"
    },
    {
     "data": {
      "application/vnd.jupyter.widget-view+json": {
       "model_id": "a389c22a04c542919f63b9358087e7b8",
       "version_major": 2,
       "version_minor": 0
      },
      "text/plain": [
       "Batches:   0%|          | 0/1 [00:00<?, ?it/s]"
      ]
     },
     "metadata": {},
     "output_type": "display_data"
    },
    {
     "data": {
      "application/vnd.jupyter.widget-view+json": {
       "model_id": "c75da1c706304d008fece07a26d4438b",
       "version_major": 2,
       "version_minor": 0
      },
      "text/plain": [
       "Batches:   0%|          | 0/36 [00:00<?, ?it/s]"
      ]
     },
     "metadata": {},
     "output_type": "display_data"
    },
    {
     "data": {
      "application/vnd.jupyter.widget-view+json": {
       "model_id": "cb66a20971794fdaa56596fdb4ccecf2",
       "version_major": 2,
       "version_minor": 0
      },
      "text/plain": [
       "Batches:   0%|          | 0/1 [00:00<?, ?it/s]"
      ]
     },
     "metadata": {},
     "output_type": "display_data"
    },
    {
     "data": {
      "application/vnd.jupyter.widget-view+json": {
       "model_id": "7fac87df3c8845afa31c6dcddfb1e1a5",
       "version_major": 2,
       "version_minor": 0
      },
      "text/plain": [
       "Batches:   0%|          | 0/20 [00:00<?, ?it/s]"
      ]
     },
     "metadata": {},
     "output_type": "display_data"
    },
    {
     "data": {
      "application/vnd.jupyter.widget-view+json": {
       "model_id": "705856da236e458f9452a48f131aeb5f",
       "version_major": 2,
       "version_minor": 0
      },
      "text/plain": [
       "Batches:   0%|          | 0/1 [00:00<?, ?it/s]"
      ]
     },
     "metadata": {},
     "output_type": "display_data"
    },
    {
     "data": {
      "application/vnd.jupyter.widget-view+json": {
       "model_id": "fe58480b6b1049f28e64dafa13d32c2a",
       "version_major": 2,
       "version_minor": 0
      },
      "text/plain": [
       "Batches:   0%|          | 0/38 [00:00<?, ?it/s]"
      ]
     },
     "metadata": {},
     "output_type": "display_data"
    },
    {
     "name": "stderr",
     "output_type": "stream",
     "text": [
      "Processing rows:  68%|██████▊   | 34/50 [01:48<00:51,  3.19s/row]"
     ]
    },
    {
     "data": {
      "application/vnd.jupyter.widget-view+json": {
       "model_id": "cb14de723d4e4cc9a93f4de75557aeca",
       "version_major": 2,
       "version_minor": 0
      },
      "text/plain": [
       "Batches:   0%|          | 0/1 [00:00<?, ?it/s]"
      ]
     },
     "metadata": {},
     "output_type": "display_data"
    },
    {
     "data": {
      "application/vnd.jupyter.widget-view+json": {
       "model_id": "e3dfc7bd7d6e4dc1a87b469ff85e79b4",
       "version_major": 2,
       "version_minor": 0
      },
      "text/plain": [
       "Batches:   0%|          | 0/20 [00:00<?, ?it/s]"
      ]
     },
     "metadata": {},
     "output_type": "display_data"
    },
    {
     "data": {
      "application/vnd.jupyter.widget-view+json": {
       "model_id": "3000ddd9ffee48979746100b44a4692f",
       "version_major": 2,
       "version_minor": 0
      },
      "text/plain": [
       "Batches:   0%|          | 0/1 [00:00<?, ?it/s]"
      ]
     },
     "metadata": {},
     "output_type": "display_data"
    },
    {
     "data": {
      "application/vnd.jupyter.widget-view+json": {
       "model_id": "d62c2dd00e22496288b9d9b19922bdb7",
       "version_major": 2,
       "version_minor": 0
      },
      "text/plain": [
       "Batches:   0%|          | 0/33 [00:00<?, ?it/s]"
      ]
     },
     "metadata": {},
     "output_type": "display_data"
    },
    {
     "data": {
      "application/vnd.jupyter.widget-view+json": {
       "model_id": "e88594bbf1be402fbb976648e93a7651",
       "version_major": 2,
       "version_minor": 0
      },
      "text/plain": [
       "Batches:   0%|          | 0/1 [00:00<?, ?it/s]"
      ]
     },
     "metadata": {},
     "output_type": "display_data"
    },
    {
     "data": {
      "application/vnd.jupyter.widget-view+json": {
       "model_id": "3ffc20158e454d50bc6a56d3e5f4ddfc",
       "version_major": 2,
       "version_minor": 0
      },
      "text/plain": [
       "Batches:   0%|          | 0/20 [00:00<?, ?it/s]"
      ]
     },
     "metadata": {},
     "output_type": "display_data"
    },
    {
     "data": {
      "application/vnd.jupyter.widget-view+json": {
       "model_id": "1890bc6ade3c4e3c9472989daf224070",
       "version_major": 2,
       "version_minor": 0
      },
      "text/plain": [
       "Batches:   0%|          | 0/1 [00:00<?, ?it/s]"
      ]
     },
     "metadata": {},
     "output_type": "display_data"
    },
    {
     "data": {
      "application/vnd.jupyter.widget-view+json": {
       "model_id": "bfe306f78e5c4c39a2ede46fac6a1d95",
       "version_major": 2,
       "version_minor": 0
      },
      "text/plain": [
       "Batches:   0%|          | 0/33 [00:00<?, ?it/s]"
      ]
     },
     "metadata": {},
     "output_type": "display_data"
    },
    {
     "name": "stderr",
     "output_type": "stream",
     "text": [
      "Processing rows:  70%|███████   | 35/50 [01:51<00:47,  3.18s/row]"
     ]
    },
    {
     "data": {
      "application/vnd.jupyter.widget-view+json": {
       "model_id": "6a385fb520ce471e8ff2d7ab7d1052fe",
       "version_major": 2,
       "version_minor": 0
      },
      "text/plain": [
       "Batches:   0%|          | 0/1 [00:00<?, ?it/s]"
      ]
     },
     "metadata": {},
     "output_type": "display_data"
    },
    {
     "data": {
      "application/vnd.jupyter.widget-view+json": {
       "model_id": "fdbfc4f812e24a5fad4e03e792bcda08",
       "version_major": 2,
       "version_minor": 0
      },
      "text/plain": [
       "Batches:   0%|          | 0/20 [00:00<?, ?it/s]"
      ]
     },
     "metadata": {},
     "output_type": "display_data"
    },
    {
     "data": {
      "application/vnd.jupyter.widget-view+json": {
       "model_id": "1aa0cd8e732342d08287118923bd048d",
       "version_major": 2,
       "version_minor": 0
      },
      "text/plain": [
       "Batches:   0%|          | 0/1 [00:00<?, ?it/s]"
      ]
     },
     "metadata": {},
     "output_type": "display_data"
    },
    {
     "data": {
      "application/vnd.jupyter.widget-view+json": {
       "model_id": "89ac07339f4f4d1ca6d593cf036c2dac",
       "version_major": 2,
       "version_minor": 0
      },
      "text/plain": [
       "Batches:   0%|          | 0/31 [00:00<?, ?it/s]"
      ]
     },
     "metadata": {},
     "output_type": "display_data"
    },
    {
     "data": {
      "application/vnd.jupyter.widget-view+json": {
       "model_id": "c76760bd65094bb79beebc73ae4a902b",
       "version_major": 2,
       "version_minor": 0
      },
      "text/plain": [
       "Batches:   0%|          | 0/1 [00:00<?, ?it/s]"
      ]
     },
     "metadata": {},
     "output_type": "display_data"
    },
    {
     "data": {
      "application/vnd.jupyter.widget-view+json": {
       "model_id": "03ae7ac1f194492bbf043db4eba492f2",
       "version_major": 2,
       "version_minor": 0
      },
      "text/plain": [
       "Batches:   0%|          | 0/20 [00:00<?, ?it/s]"
      ]
     },
     "metadata": {},
     "output_type": "display_data"
    },
    {
     "data": {
      "application/vnd.jupyter.widget-view+json": {
       "model_id": "ea2499c3a89344cbad690e9a6e36fc97",
       "version_major": 2,
       "version_minor": 0
      },
      "text/plain": [
       "Batches:   0%|          | 0/1 [00:00<?, ?it/s]"
      ]
     },
     "metadata": {},
     "output_type": "display_data"
    },
    {
     "data": {
      "application/vnd.jupyter.widget-view+json": {
       "model_id": "b97139788cc64c3592e96fbd4e7baa52",
       "version_major": 2,
       "version_minor": 0
      },
      "text/plain": [
       "Batches:   0%|          | 0/29 [00:00<?, ?it/s]"
      ]
     },
     "metadata": {},
     "output_type": "display_data"
    },
    {
     "name": "stderr",
     "output_type": "stream",
     "text": [
      "Processing rows:  72%|███████▏  | 36/50 [01:54<00:44,  3.14s/row]"
     ]
    },
    {
     "data": {
      "application/vnd.jupyter.widget-view+json": {
       "model_id": "8c97d60afdbc435cb9e905e3d986f46c",
       "version_major": 2,
       "version_minor": 0
      },
      "text/plain": [
       "Batches:   0%|          | 0/1 [00:00<?, ?it/s]"
      ]
     },
     "metadata": {},
     "output_type": "display_data"
    },
    {
     "data": {
      "application/vnd.jupyter.widget-view+json": {
       "model_id": "6a75561e3bb14e3eb964b51ae2b6728f",
       "version_major": 2,
       "version_minor": 0
      },
      "text/plain": [
       "Batches:   0%|          | 0/20 [00:00<?, ?it/s]"
      ]
     },
     "metadata": {},
     "output_type": "display_data"
    },
    {
     "data": {
      "application/vnd.jupyter.widget-view+json": {
       "model_id": "1a5f120d114b4d5199d859b75c6f77b6",
       "version_major": 2,
       "version_minor": 0
      },
      "text/plain": [
       "Batches:   0%|          | 0/1 [00:00<?, ?it/s]"
      ]
     },
     "metadata": {},
     "output_type": "display_data"
    },
    {
     "data": {
      "application/vnd.jupyter.widget-view+json": {
       "model_id": "acffcdb25edb4c33957df535c76b58ab",
       "version_major": 2,
       "version_minor": 0
      },
      "text/plain": [
       "Batches:   0%|          | 0/39 [00:00<?, ?it/s]"
      ]
     },
     "metadata": {},
     "output_type": "display_data"
    },
    {
     "data": {
      "application/vnd.jupyter.widget-view+json": {
       "model_id": "7f5668ac8683499bb5114dcce8165861",
       "version_major": 2,
       "version_minor": 0
      },
      "text/plain": [
       "Batches:   0%|          | 0/1 [00:00<?, ?it/s]"
      ]
     },
     "metadata": {},
     "output_type": "display_data"
    },
    {
     "data": {
      "application/vnd.jupyter.widget-view+json": {
       "model_id": "d726ac9c05e240c6bd4e628ed29fc901",
       "version_major": 2,
       "version_minor": 0
      },
      "text/plain": [
       "Batches:   0%|          | 0/20 [00:00<?, ?it/s]"
      ]
     },
     "metadata": {},
     "output_type": "display_data"
    },
    {
     "data": {
      "application/vnd.jupyter.widget-view+json": {
       "model_id": "b21c4e0b99054dbe97a5c2237dd48fad",
       "version_major": 2,
       "version_minor": 0
      },
      "text/plain": [
       "Batches:   0%|          | 0/1 [00:00<?, ?it/s]"
      ]
     },
     "metadata": {},
     "output_type": "display_data"
    },
    {
     "data": {
      "application/vnd.jupyter.widget-view+json": {
       "model_id": "66e58f397250456f99c893889dbb26b0",
       "version_major": 2,
       "version_minor": 0
      },
      "text/plain": [
       "Batches:   0%|          | 0/36 [00:00<?, ?it/s]"
      ]
     },
     "metadata": {},
     "output_type": "display_data"
    },
    {
     "name": "stderr",
     "output_type": "stream",
     "text": [
      "Processing rows:  74%|███████▍  | 37/50 [01:58<00:41,  3.22s/row]"
     ]
    },
    {
     "data": {
      "application/vnd.jupyter.widget-view+json": {
       "model_id": "c4bfdd8568e7466f85e75d688c7368f5",
       "version_major": 2,
       "version_minor": 0
      },
      "text/plain": [
       "Batches:   0%|          | 0/1 [00:00<?, ?it/s]"
      ]
     },
     "metadata": {},
     "output_type": "display_data"
    },
    {
     "data": {
      "application/vnd.jupyter.widget-view+json": {
       "model_id": "274a9353636c4603906e8615b47bbff1",
       "version_major": 2,
       "version_minor": 0
      },
      "text/plain": [
       "Batches:   0%|          | 0/20 [00:00<?, ?it/s]"
      ]
     },
     "metadata": {},
     "output_type": "display_data"
    },
    {
     "data": {
      "application/vnd.jupyter.widget-view+json": {
       "model_id": "d14cc5553aab470ea59ecd4132e37aba",
       "version_major": 2,
       "version_minor": 0
      },
      "text/plain": [
       "Batches:   0%|          | 0/1 [00:00<?, ?it/s]"
      ]
     },
     "metadata": {},
     "output_type": "display_data"
    },
    {
     "data": {
      "application/vnd.jupyter.widget-view+json": {
       "model_id": "f61be38cbce04ebebe91a0e4ce348cb4",
       "version_major": 2,
       "version_minor": 0
      },
      "text/plain": [
       "Batches:   0%|          | 0/33 [00:00<?, ?it/s]"
      ]
     },
     "metadata": {},
     "output_type": "display_data"
    },
    {
     "data": {
      "application/vnd.jupyter.widget-view+json": {
       "model_id": "4a13bae6597042739957a8a9d8c9765f",
       "version_major": 2,
       "version_minor": 0
      },
      "text/plain": [
       "Batches:   0%|          | 0/1 [00:00<?, ?it/s]"
      ]
     },
     "metadata": {},
     "output_type": "display_data"
    },
    {
     "data": {
      "application/vnd.jupyter.widget-view+json": {
       "model_id": "dd3bfa6dfca04950b4b95d15aa8d1e92",
       "version_major": 2,
       "version_minor": 0
      },
      "text/plain": [
       "Batches:   0%|          | 0/20 [00:00<?, ?it/s]"
      ]
     },
     "metadata": {},
     "output_type": "display_data"
    },
    {
     "data": {
      "application/vnd.jupyter.widget-view+json": {
       "model_id": "5daf718219f447579c2bd66eff2e91f1",
       "version_major": 2,
       "version_minor": 0
      },
      "text/plain": [
       "Batches:   0%|          | 0/1 [00:00<?, ?it/s]"
      ]
     },
     "metadata": {},
     "output_type": "display_data"
    },
    {
     "data": {
      "application/vnd.jupyter.widget-view+json": {
       "model_id": "5d1b899a3da844af82e5fc4cca619217",
       "version_major": 2,
       "version_minor": 0
      },
      "text/plain": [
       "Batches:   0%|          | 0/38 [00:00<?, ?it/s]"
      ]
     },
     "metadata": {},
     "output_type": "display_data"
    },
    {
     "name": "stderr",
     "output_type": "stream",
     "text": [
      "Processing rows:  76%|███████▌  | 38/50 [02:01<00:38,  3.24s/row]"
     ]
    },
    {
     "data": {
      "application/vnd.jupyter.widget-view+json": {
       "model_id": "7e2f6d97fa9b44d1a356cf2d4b910448",
       "version_major": 2,
       "version_minor": 0
      },
      "text/plain": [
       "Batches:   0%|          | 0/1 [00:00<?, ?it/s]"
      ]
     },
     "metadata": {},
     "output_type": "display_data"
    },
    {
     "data": {
      "application/vnd.jupyter.widget-view+json": {
       "model_id": "a204501a18e64f88969e7078ee4ddd40",
       "version_major": 2,
       "version_minor": 0
      },
      "text/plain": [
       "Batches:   0%|          | 0/20 [00:00<?, ?it/s]"
      ]
     },
     "metadata": {},
     "output_type": "display_data"
    },
    {
     "data": {
      "application/vnd.jupyter.widget-view+json": {
       "model_id": "ed7c38c301724582a98457a0e7520040",
       "version_major": 2,
       "version_minor": 0
      },
      "text/plain": [
       "Batches:   0%|          | 0/1 [00:00<?, ?it/s]"
      ]
     },
     "metadata": {},
     "output_type": "display_data"
    },
    {
     "data": {
      "application/vnd.jupyter.widget-view+json": {
       "model_id": "28f1689b0a4946149d7cd6ac85701bee",
       "version_major": 2,
       "version_minor": 0
      },
      "text/plain": [
       "Batches:   0%|          | 0/32 [00:00<?, ?it/s]"
      ]
     },
     "metadata": {},
     "output_type": "display_data"
    },
    {
     "data": {
      "application/vnd.jupyter.widget-view+json": {
       "model_id": "29ae66b2f57a46109b725488aa99d5d7",
       "version_major": 2,
       "version_minor": 0
      },
      "text/plain": [
       "Batches:   0%|          | 0/1 [00:00<?, ?it/s]"
      ]
     },
     "metadata": {},
     "output_type": "display_data"
    },
    {
     "data": {
      "application/vnd.jupyter.widget-view+json": {
       "model_id": "1b56a4709a5745ee8d01700c35f6a9ae",
       "version_major": 2,
       "version_minor": 0
      },
      "text/plain": [
       "Batches:   0%|          | 0/20 [00:00<?, ?it/s]"
      ]
     },
     "metadata": {},
     "output_type": "display_data"
    },
    {
     "data": {
      "application/vnd.jupyter.widget-view+json": {
       "model_id": "e5caf5f6bd8e4e6e90b8a2de8541ec3e",
       "version_major": 2,
       "version_minor": 0
      },
      "text/plain": [
       "Batches:   0%|          | 0/1 [00:00<?, ?it/s]"
      ]
     },
     "metadata": {},
     "output_type": "display_data"
    },
    {
     "data": {
      "application/vnd.jupyter.widget-view+json": {
       "model_id": "60d9aa383936445abcc790b56164045f",
       "version_major": 2,
       "version_minor": 0
      },
      "text/plain": [
       "Batches:   0%|          | 0/35 [00:00<?, ?it/s]"
      ]
     },
     "metadata": {},
     "output_type": "display_data"
    },
    {
     "name": "stderr",
     "output_type": "stream",
     "text": [
      "Processing rows:  78%|███████▊  | 39/50 [02:04<00:35,  3.24s/row]"
     ]
    },
    {
     "data": {
      "application/vnd.jupyter.widget-view+json": {
       "model_id": "1e14b08da79c4805b0195d9877dd26e3",
       "version_major": 2,
       "version_minor": 0
      },
      "text/plain": [
       "Batches:   0%|          | 0/1 [00:00<?, ?it/s]"
      ]
     },
     "metadata": {},
     "output_type": "display_data"
    },
    {
     "data": {
      "application/vnd.jupyter.widget-view+json": {
       "model_id": "bfa2b5c0fb064c629c50ffb2f5ed6748",
       "version_major": 2,
       "version_minor": 0
      },
      "text/plain": [
       "Batches:   0%|          | 0/20 [00:00<?, ?it/s]"
      ]
     },
     "metadata": {},
     "output_type": "display_data"
    },
    {
     "data": {
      "application/vnd.jupyter.widget-view+json": {
       "model_id": "39f08c58773247afb50c2b20238a51a7",
       "version_major": 2,
       "version_minor": 0
      },
      "text/plain": [
       "Batches:   0%|          | 0/1 [00:00<?, ?it/s]"
      ]
     },
     "metadata": {},
     "output_type": "display_data"
    },
    {
     "data": {
      "application/vnd.jupyter.widget-view+json": {
       "model_id": "ff99dd5cfdca4e608a8df43b36aef1f7",
       "version_major": 2,
       "version_minor": 0
      },
      "text/plain": [
       "Batches:   0%|          | 0/35 [00:00<?, ?it/s]"
      ]
     },
     "metadata": {},
     "output_type": "display_data"
    },
    {
     "data": {
      "application/vnd.jupyter.widget-view+json": {
       "model_id": "61a4809a5af2480da5bc73312b3f0369",
       "version_major": 2,
       "version_minor": 0
      },
      "text/plain": [
       "Batches:   0%|          | 0/1 [00:00<?, ?it/s]"
      ]
     },
     "metadata": {},
     "output_type": "display_data"
    },
    {
     "data": {
      "application/vnd.jupyter.widget-view+json": {
       "model_id": "1c82208a5b97449db48f5032ab4220b7",
       "version_major": 2,
       "version_minor": 0
      },
      "text/plain": [
       "Batches:   0%|          | 0/20 [00:00<?, ?it/s]"
      ]
     },
     "metadata": {},
     "output_type": "display_data"
    },
    {
     "data": {
      "application/vnd.jupyter.widget-view+json": {
       "model_id": "3cd6698742584bd2990a71a581e936da",
       "version_major": 2,
       "version_minor": 0
      },
      "text/plain": [
       "Batches:   0%|          | 0/1 [00:00<?, ?it/s]"
      ]
     },
     "metadata": {},
     "output_type": "display_data"
    },
    {
     "data": {
      "application/vnd.jupyter.widget-view+json": {
       "model_id": "42a054a45b9b49ee88b58a85db67b3c4",
       "version_major": 2,
       "version_minor": 0
      },
      "text/plain": [
       "Batches:   0%|          | 0/27 [00:00<?, ?it/s]"
      ]
     },
     "metadata": {},
     "output_type": "display_data"
    },
    {
     "name": "stderr",
     "output_type": "stream",
     "text": [
      "Processing rows:  80%|████████  | 40/50 [02:07<00:31,  3.20s/row]"
     ]
    },
    {
     "data": {
      "application/vnd.jupyter.widget-view+json": {
       "model_id": "df6136ead1904247a19a0e6ffae1b38c",
       "version_major": 2,
       "version_minor": 0
      },
      "text/plain": [
       "Batches:   0%|          | 0/1 [00:00<?, ?it/s]"
      ]
     },
     "metadata": {},
     "output_type": "display_data"
    },
    {
     "data": {
      "application/vnd.jupyter.widget-view+json": {
       "model_id": "f3b08af211504003a7a24070290ff93d",
       "version_major": 2,
       "version_minor": 0
      },
      "text/plain": [
       "Batches:   0%|          | 0/20 [00:00<?, ?it/s]"
      ]
     },
     "metadata": {},
     "output_type": "display_data"
    },
    {
     "data": {
      "application/vnd.jupyter.widget-view+json": {
       "model_id": "9a7879a88ca04d61b2f44a764994770e",
       "version_major": 2,
       "version_minor": 0
      },
      "text/plain": [
       "Batches:   0%|          | 0/1 [00:00<?, ?it/s]"
      ]
     },
     "metadata": {},
     "output_type": "display_data"
    },
    {
     "data": {
      "application/vnd.jupyter.widget-view+json": {
       "model_id": "5ec70bd544354cbfbbca46a199ccd522",
       "version_major": 2,
       "version_minor": 0
      },
      "text/plain": [
       "Batches:   0%|          | 0/34 [00:00<?, ?it/s]"
      ]
     },
     "metadata": {},
     "output_type": "display_data"
    },
    {
     "data": {
      "application/vnd.jupyter.widget-view+json": {
       "model_id": "168600d3af2c48a9a6065243d0e40df4",
       "version_major": 2,
       "version_minor": 0
      },
      "text/plain": [
       "Batches:   0%|          | 0/1 [00:00<?, ?it/s]"
      ]
     },
     "metadata": {},
     "output_type": "display_data"
    },
    {
     "data": {
      "application/vnd.jupyter.widget-view+json": {
       "model_id": "612ceb93f4d94473900dbccb06db7bf3",
       "version_major": 2,
       "version_minor": 0
      },
      "text/plain": [
       "Batches:   0%|          | 0/20 [00:00<?, ?it/s]"
      ]
     },
     "metadata": {},
     "output_type": "display_data"
    },
    {
     "data": {
      "application/vnd.jupyter.widget-view+json": {
       "model_id": "005c77463fa548b0be3b213a4e7d447f",
       "version_major": 2,
       "version_minor": 0
      },
      "text/plain": [
       "Batches:   0%|          | 0/1 [00:00<?, ?it/s]"
      ]
     },
     "metadata": {},
     "output_type": "display_data"
    },
    {
     "data": {
      "application/vnd.jupyter.widget-view+json": {
       "model_id": "5b90653c44774e8b9213c7394cce2a61",
       "version_major": 2,
       "version_minor": 0
      },
      "text/plain": [
       "Batches:   0%|          | 0/31 [00:00<?, ?it/s]"
      ]
     },
     "metadata": {},
     "output_type": "display_data"
    },
    {
     "name": "stderr",
     "output_type": "stream",
     "text": [
      "Processing rows:  82%|████████▏ | 41/50 [02:11<00:28,  3.19s/row]"
     ]
    },
    {
     "data": {
      "application/vnd.jupyter.widget-view+json": {
       "model_id": "a30ebbff055c4a27ae60ae44fbee2490",
       "version_major": 2,
       "version_minor": 0
      },
      "text/plain": [
       "Batches:   0%|          | 0/1 [00:00<?, ?it/s]"
      ]
     },
     "metadata": {},
     "output_type": "display_data"
    },
    {
     "data": {
      "application/vnd.jupyter.widget-view+json": {
       "model_id": "4a4a165920df4437b8fcd15b6e660ae7",
       "version_major": 2,
       "version_minor": 0
      },
      "text/plain": [
       "Batches:   0%|          | 0/20 [00:00<?, ?it/s]"
      ]
     },
     "metadata": {},
     "output_type": "display_data"
    },
    {
     "data": {
      "application/vnd.jupyter.widget-view+json": {
       "model_id": "f290fd0c487e42aeb70cf23b07943096",
       "version_major": 2,
       "version_minor": 0
      },
      "text/plain": [
       "Batches:   0%|          | 0/1 [00:00<?, ?it/s]"
      ]
     },
     "metadata": {},
     "output_type": "display_data"
    },
    {
     "data": {
      "application/vnd.jupyter.widget-view+json": {
       "model_id": "4723f71571d747149bd1e0c0b2678930",
       "version_major": 2,
       "version_minor": 0
      },
      "text/plain": [
       "Batches:   0%|          | 0/33 [00:00<?, ?it/s]"
      ]
     },
     "metadata": {},
     "output_type": "display_data"
    },
    {
     "data": {
      "application/vnd.jupyter.widget-view+json": {
       "model_id": "a24008351b2c49ff8637f326f4c7b8d9",
       "version_major": 2,
       "version_minor": 0
      },
      "text/plain": [
       "Batches:   0%|          | 0/1 [00:00<?, ?it/s]"
      ]
     },
     "metadata": {},
     "output_type": "display_data"
    },
    {
     "data": {
      "application/vnd.jupyter.widget-view+json": {
       "model_id": "cf7796eb85614c388cd2d74464bbd7f0",
       "version_major": 2,
       "version_minor": 0
      },
      "text/plain": [
       "Batches:   0%|          | 0/20 [00:00<?, ?it/s]"
      ]
     },
     "metadata": {},
     "output_type": "display_data"
    },
    {
     "data": {
      "application/vnd.jupyter.widget-view+json": {
       "model_id": "8fd752ddf07845c4a2537eef125af7c0",
       "version_major": 2,
       "version_minor": 0
      },
      "text/plain": [
       "Batches:   0%|          | 0/1 [00:00<?, ?it/s]"
      ]
     },
     "metadata": {},
     "output_type": "display_data"
    },
    {
     "data": {
      "application/vnd.jupyter.widget-view+json": {
       "model_id": "da849bcfa3b14dc6adc8d185e0350528",
       "version_major": 2,
       "version_minor": 0
      },
      "text/plain": [
       "Batches:   0%|          | 0/34 [00:00<?, ?it/s]"
      ]
     },
     "metadata": {},
     "output_type": "display_data"
    },
    {
     "name": "stderr",
     "output_type": "stream",
     "text": [
      "Processing rows:  84%|████████▍ | 42/50 [02:14<00:25,  3.19s/row]"
     ]
    },
    {
     "data": {
      "application/vnd.jupyter.widget-view+json": {
       "model_id": "ad9c5630550b45e5a7cdff644b335711",
       "version_major": 2,
       "version_minor": 0
      },
      "text/plain": [
       "Batches:   0%|          | 0/1 [00:00<?, ?it/s]"
      ]
     },
     "metadata": {},
     "output_type": "display_data"
    },
    {
     "data": {
      "application/vnd.jupyter.widget-view+json": {
       "model_id": "bbcb05a58757433397768b9ae54b6c47",
       "version_major": 2,
       "version_minor": 0
      },
      "text/plain": [
       "Batches:   0%|          | 0/20 [00:00<?, ?it/s]"
      ]
     },
     "metadata": {},
     "output_type": "display_data"
    },
    {
     "data": {
      "application/vnd.jupyter.widget-view+json": {
       "model_id": "aa82f1adafdf4a30b505cef9d90b3b72",
       "version_major": 2,
       "version_minor": 0
      },
      "text/plain": [
       "Batches:   0%|          | 0/1 [00:00<?, ?it/s]"
      ]
     },
     "metadata": {},
     "output_type": "display_data"
    },
    {
     "data": {
      "application/vnd.jupyter.widget-view+json": {
       "model_id": "3d197ec9ac0740619db33257aae12d54",
       "version_major": 2,
       "version_minor": 0
      },
      "text/plain": [
       "Batches:   0%|          | 0/30 [00:00<?, ?it/s]"
      ]
     },
     "metadata": {},
     "output_type": "display_data"
    },
    {
     "data": {
      "application/vnd.jupyter.widget-view+json": {
       "model_id": "91fc07be46554f16b55ac6956c6c2ac6",
       "version_major": 2,
       "version_minor": 0
      },
      "text/plain": [
       "Batches:   0%|          | 0/1 [00:00<?, ?it/s]"
      ]
     },
     "metadata": {},
     "output_type": "display_data"
    },
    {
     "data": {
      "application/vnd.jupyter.widget-view+json": {
       "model_id": "055fc002080d49f39a55e2ebd5bd2226",
       "version_major": 2,
       "version_minor": 0
      },
      "text/plain": [
       "Batches:   0%|          | 0/20 [00:00<?, ?it/s]"
      ]
     },
     "metadata": {},
     "output_type": "display_data"
    },
    {
     "data": {
      "application/vnd.jupyter.widget-view+json": {
       "model_id": "82b05de5c1304c748bf7c2ccaf2dc48b",
       "version_major": 2,
       "version_minor": 0
      },
      "text/plain": [
       "Batches:   0%|          | 0/1 [00:00<?, ?it/s]"
      ]
     },
     "metadata": {},
     "output_type": "display_data"
    },
    {
     "data": {
      "application/vnd.jupyter.widget-view+json": {
       "model_id": "2cd61ae7027b4227a417d5c17b7117c6",
       "version_major": 2,
       "version_minor": 0
      },
      "text/plain": [
       "Batches:   0%|          | 0/31 [00:00<?, ?it/s]"
      ]
     },
     "metadata": {},
     "output_type": "display_data"
    },
    {
     "name": "stderr",
     "output_type": "stream",
     "text": [
      "Processing rows:  86%|████████▌ | 43/50 [02:17<00:22,  3.16s/row]"
     ]
    },
    {
     "data": {
      "application/vnd.jupyter.widget-view+json": {
       "model_id": "dbe29d46d7614cb498e029ba58ee1ab2",
       "version_major": 2,
       "version_minor": 0
      },
      "text/plain": [
       "Batches:   0%|          | 0/1 [00:00<?, ?it/s]"
      ]
     },
     "metadata": {},
     "output_type": "display_data"
    },
    {
     "data": {
      "application/vnd.jupyter.widget-view+json": {
       "model_id": "5112a854fa72474a978a876ee9407172",
       "version_major": 2,
       "version_minor": 0
      },
      "text/plain": [
       "Batches:   0%|          | 0/20 [00:00<?, ?it/s]"
      ]
     },
     "metadata": {},
     "output_type": "display_data"
    },
    {
     "data": {
      "application/vnd.jupyter.widget-view+json": {
       "model_id": "d6d7fbf5556e480884ddfe656482860b",
       "version_major": 2,
       "version_minor": 0
      },
      "text/plain": [
       "Batches:   0%|          | 0/1 [00:00<?, ?it/s]"
      ]
     },
     "metadata": {},
     "output_type": "display_data"
    },
    {
     "data": {
      "application/vnd.jupyter.widget-view+json": {
       "model_id": "eea91b3e129543629493bffe817dfd6a",
       "version_major": 2,
       "version_minor": 0
      },
      "text/plain": [
       "Batches:   0%|          | 0/33 [00:00<?, ?it/s]"
      ]
     },
     "metadata": {},
     "output_type": "display_data"
    },
    {
     "data": {
      "application/vnd.jupyter.widget-view+json": {
       "model_id": "02b4798788e9467aafa9320968dbcd41",
       "version_major": 2,
       "version_minor": 0
      },
      "text/plain": [
       "Batches:   0%|          | 0/1 [00:00<?, ?it/s]"
      ]
     },
     "metadata": {},
     "output_type": "display_data"
    },
    {
     "data": {
      "application/vnd.jupyter.widget-view+json": {
       "model_id": "774272cd42164090bc7eca62e047b498",
       "version_major": 2,
       "version_minor": 0
      },
      "text/plain": [
       "Batches:   0%|          | 0/20 [00:00<?, ?it/s]"
      ]
     },
     "metadata": {},
     "output_type": "display_data"
    },
    {
     "data": {
      "application/vnd.jupyter.widget-view+json": {
       "model_id": "28099883abfe4922b237f85c900a8cb8",
       "version_major": 2,
       "version_minor": 0
      },
      "text/plain": [
       "Batches:   0%|          | 0/1 [00:00<?, ?it/s]"
      ]
     },
     "metadata": {},
     "output_type": "display_data"
    },
    {
     "data": {
      "application/vnd.jupyter.widget-view+json": {
       "model_id": "fe428a5391e0421d8a0c43c2b6a55c54",
       "version_major": 2,
       "version_minor": 0
      },
      "text/plain": [
       "Batches:   0%|          | 0/34 [00:00<?, ?it/s]"
      ]
     },
     "metadata": {},
     "output_type": "display_data"
    },
    {
     "name": "stderr",
     "output_type": "stream",
     "text": [
      "Processing rows:  88%|████████▊ | 44/50 [02:20<00:19,  3.18s/row]"
     ]
    },
    {
     "data": {
      "application/vnd.jupyter.widget-view+json": {
       "model_id": "2fee5c90bd3243c4a8678d83c820afa0",
       "version_major": 2,
       "version_minor": 0
      },
      "text/plain": [
       "Batches:   0%|          | 0/1 [00:00<?, ?it/s]"
      ]
     },
     "metadata": {},
     "output_type": "display_data"
    },
    {
     "data": {
      "application/vnd.jupyter.widget-view+json": {
       "model_id": "1594116df5434092950cc9f5b64f6bb4",
       "version_major": 2,
       "version_minor": 0
      },
      "text/plain": [
       "Batches:   0%|          | 0/20 [00:00<?, ?it/s]"
      ]
     },
     "metadata": {},
     "output_type": "display_data"
    },
    {
     "data": {
      "application/vnd.jupyter.widget-view+json": {
       "model_id": "bb26474ccdb14250829491130ce37330",
       "version_major": 2,
       "version_minor": 0
      },
      "text/plain": [
       "Batches:   0%|          | 0/1 [00:00<?, ?it/s]"
      ]
     },
     "metadata": {},
     "output_type": "display_data"
    },
    {
     "data": {
      "application/vnd.jupyter.widget-view+json": {
       "model_id": "091a4f1c94d04efbae7196a468784800",
       "version_major": 2,
       "version_minor": 0
      },
      "text/plain": [
       "Batches:   0%|          | 0/34 [00:00<?, ?it/s]"
      ]
     },
     "metadata": {},
     "output_type": "display_data"
    },
    {
     "data": {
      "application/vnd.jupyter.widget-view+json": {
       "model_id": "10770d0833064a63abfce4a198f96f98",
       "version_major": 2,
       "version_minor": 0
      },
      "text/plain": [
       "Batches:   0%|          | 0/1 [00:00<?, ?it/s]"
      ]
     },
     "metadata": {},
     "output_type": "display_data"
    },
    {
     "data": {
      "application/vnd.jupyter.widget-view+json": {
       "model_id": "3a215cf5b5644fe5974afc25be3e56ef",
       "version_major": 2,
       "version_minor": 0
      },
      "text/plain": [
       "Batches:   0%|          | 0/20 [00:00<?, ?it/s]"
      ]
     },
     "metadata": {},
     "output_type": "display_data"
    },
    {
     "data": {
      "application/vnd.jupyter.widget-view+json": {
       "model_id": "509ec9ba6b7849868fa8a070197f5f9c",
       "version_major": 2,
       "version_minor": 0
      },
      "text/plain": [
       "Batches:   0%|          | 0/1 [00:00<?, ?it/s]"
      ]
     },
     "metadata": {},
     "output_type": "display_data"
    },
    {
     "data": {
      "application/vnd.jupyter.widget-view+json": {
       "model_id": "d469799128f74e8eaaf26f5509cbe403",
       "version_major": 2,
       "version_minor": 0
      },
      "text/plain": [
       "Batches:   0%|          | 0/35 [00:00<?, ?it/s]"
      ]
     },
     "metadata": {},
     "output_type": "display_data"
    },
    {
     "name": "stderr",
     "output_type": "stream",
     "text": [
      "Processing rows:  90%|█████████ | 45/50 [02:23<00:16,  3.21s/row]"
     ]
    },
    {
     "data": {
      "application/vnd.jupyter.widget-view+json": {
       "model_id": "9136b84a50f14ddd97d39e845a7303ab",
       "version_major": 2,
       "version_minor": 0
      },
      "text/plain": [
       "Batches:   0%|          | 0/1 [00:00<?, ?it/s]"
      ]
     },
     "metadata": {},
     "output_type": "display_data"
    },
    {
     "data": {
      "application/vnd.jupyter.widget-view+json": {
       "model_id": "20f4e809ec59440ebc49acc5e902a5a7",
       "version_major": 2,
       "version_minor": 0
      },
      "text/plain": [
       "Batches:   0%|          | 0/20 [00:00<?, ?it/s]"
      ]
     },
     "metadata": {},
     "output_type": "display_data"
    },
    {
     "data": {
      "application/vnd.jupyter.widget-view+json": {
       "model_id": "0f4606bb8ab447a4abd97f4fc13c3bd2",
       "version_major": 2,
       "version_minor": 0
      },
      "text/plain": [
       "Batches:   0%|          | 0/1 [00:00<?, ?it/s]"
      ]
     },
     "metadata": {},
     "output_type": "display_data"
    },
    {
     "data": {
      "application/vnd.jupyter.widget-view+json": {
       "model_id": "9a798bd45cdf429789700227081573da",
       "version_major": 2,
       "version_minor": 0
      },
      "text/plain": [
       "Batches:   0%|          | 0/36 [00:00<?, ?it/s]"
      ]
     },
     "metadata": {},
     "output_type": "display_data"
    },
    {
     "data": {
      "application/vnd.jupyter.widget-view+json": {
       "model_id": "03a668962b464f5fbbdd6d98016ebbd6",
       "version_major": 2,
       "version_minor": 0
      },
      "text/plain": [
       "Batches:   0%|          | 0/1 [00:00<?, ?it/s]"
      ]
     },
     "metadata": {},
     "output_type": "display_data"
    },
    {
     "data": {
      "application/vnd.jupyter.widget-view+json": {
       "model_id": "62921db2fd7e42eb8e716304e00abcb8",
       "version_major": 2,
       "version_minor": 0
      },
      "text/plain": [
       "Batches:   0%|          | 0/20 [00:00<?, ?it/s]"
      ]
     },
     "metadata": {},
     "output_type": "display_data"
    },
    {
     "data": {
      "application/vnd.jupyter.widget-view+json": {
       "model_id": "cfedc14eedae482db1003e6c9b3122cf",
       "version_major": 2,
       "version_minor": 0
      },
      "text/plain": [
       "Batches:   0%|          | 0/1 [00:00<?, ?it/s]"
      ]
     },
     "metadata": {},
     "output_type": "display_data"
    },
    {
     "data": {
      "application/vnd.jupyter.widget-view+json": {
       "model_id": "61c8204e7f024501ab8fe70faf01710d",
       "version_major": 2,
       "version_minor": 0
      },
      "text/plain": [
       "Batches:   0%|          | 0/33 [00:00<?, ?it/s]"
      ]
     },
     "metadata": {},
     "output_type": "display_data"
    },
    {
     "name": "stderr",
     "output_type": "stream",
     "text": [
      "Processing rows:  92%|█████████▏| 46/50 [02:27<00:12,  3.23s/row]"
     ]
    },
    {
     "data": {
      "application/vnd.jupyter.widget-view+json": {
       "model_id": "046267077bda4f919a59987b010b0755",
       "version_major": 2,
       "version_minor": 0
      },
      "text/plain": [
       "Batches:   0%|          | 0/1 [00:00<?, ?it/s]"
      ]
     },
     "metadata": {},
     "output_type": "display_data"
    },
    {
     "data": {
      "application/vnd.jupyter.widget-view+json": {
       "model_id": "15b67c0207744a27891389e106a4f604",
       "version_major": 2,
       "version_minor": 0
      },
      "text/plain": [
       "Batches:   0%|          | 0/20 [00:00<?, ?it/s]"
      ]
     },
     "metadata": {},
     "output_type": "display_data"
    },
    {
     "data": {
      "application/vnd.jupyter.widget-view+json": {
       "model_id": "bc5ad0fb72f7460abae2f268a8bf0ca2",
       "version_major": 2,
       "version_minor": 0
      },
      "text/plain": [
       "Batches:   0%|          | 0/1 [00:00<?, ?it/s]"
      ]
     },
     "metadata": {},
     "output_type": "display_data"
    },
    {
     "data": {
      "application/vnd.jupyter.widget-view+json": {
       "model_id": "ce6d7de9d83c4322b9caa501ac11263b",
       "version_major": 2,
       "version_minor": 0
      },
      "text/plain": [
       "Batches:   0%|          | 0/31 [00:00<?, ?it/s]"
      ]
     },
     "metadata": {},
     "output_type": "display_data"
    },
    {
     "data": {
      "application/vnd.jupyter.widget-view+json": {
       "model_id": "5a4edd515c164dc494fc727659b5f96b",
       "version_major": 2,
       "version_minor": 0
      },
      "text/plain": [
       "Batches:   0%|          | 0/1 [00:00<?, ?it/s]"
      ]
     },
     "metadata": {},
     "output_type": "display_data"
    },
    {
     "data": {
      "application/vnd.jupyter.widget-view+json": {
       "model_id": "562b88192a6b4c379d98951cee08b07d",
       "version_major": 2,
       "version_minor": 0
      },
      "text/plain": [
       "Batches:   0%|          | 0/20 [00:00<?, ?it/s]"
      ]
     },
     "metadata": {},
     "output_type": "display_data"
    },
    {
     "data": {
      "application/vnd.jupyter.widget-view+json": {
       "model_id": "9b1dde1204044cb3b509bf9482253d8c",
       "version_major": 2,
       "version_minor": 0
      },
      "text/plain": [
       "Batches:   0%|          | 0/1 [00:00<?, ?it/s]"
      ]
     },
     "metadata": {},
     "output_type": "display_data"
    },
    {
     "data": {
      "application/vnd.jupyter.widget-view+json": {
       "model_id": "f5dadebfa07a41b5b2f79b92a3907e48",
       "version_major": 2,
       "version_minor": 0
      },
      "text/plain": [
       "Batches:   0%|          | 0/35 [00:00<?, ?it/s]"
      ]
     },
     "metadata": {},
     "output_type": "display_data"
    },
    {
     "name": "stderr",
     "output_type": "stream",
     "text": [
      "Processing rows:  94%|█████████▍| 47/50 [02:30<00:09,  3.22s/row]"
     ]
    },
    {
     "data": {
      "application/vnd.jupyter.widget-view+json": {
       "model_id": "7db91872ab974cc5adbf0917441c10cb",
       "version_major": 2,
       "version_minor": 0
      },
      "text/plain": [
       "Batches:   0%|          | 0/1 [00:00<?, ?it/s]"
      ]
     },
     "metadata": {},
     "output_type": "display_data"
    },
    {
     "data": {
      "application/vnd.jupyter.widget-view+json": {
       "model_id": "4ddfb9b03ad24e2c9208b322eb06d547",
       "version_major": 2,
       "version_minor": 0
      },
      "text/plain": [
       "Batches:   0%|          | 0/20 [00:00<?, ?it/s]"
      ]
     },
     "metadata": {},
     "output_type": "display_data"
    },
    {
     "data": {
      "application/vnd.jupyter.widget-view+json": {
       "model_id": "85538b5e65324ffba8c3fba8453112c3",
       "version_major": 2,
       "version_minor": 0
      },
      "text/plain": [
       "Batches:   0%|          | 0/1 [00:00<?, ?it/s]"
      ]
     },
     "metadata": {},
     "output_type": "display_data"
    },
    {
     "data": {
      "application/vnd.jupyter.widget-view+json": {
       "model_id": "924fbfd1595e41558155e7e1b5583a2d",
       "version_major": 2,
       "version_minor": 0
      },
      "text/plain": [
       "Batches:   0%|          | 0/33 [00:00<?, ?it/s]"
      ]
     },
     "metadata": {},
     "output_type": "display_data"
    },
    {
     "data": {
      "application/vnd.jupyter.widget-view+json": {
       "model_id": "3f943065970b40f9a3f39d8f8be27c87",
       "version_major": 2,
       "version_minor": 0
      },
      "text/plain": [
       "Batches:   0%|          | 0/1 [00:00<?, ?it/s]"
      ]
     },
     "metadata": {},
     "output_type": "display_data"
    },
    {
     "data": {
      "application/vnd.jupyter.widget-view+json": {
       "model_id": "c53447e78ec94bf6950884c565e4c0ad",
       "version_major": 2,
       "version_minor": 0
      },
      "text/plain": [
       "Batches:   0%|          | 0/20 [00:00<?, ?it/s]"
      ]
     },
     "metadata": {},
     "output_type": "display_data"
    },
    {
     "data": {
      "application/vnd.jupyter.widget-view+json": {
       "model_id": "5843cc1aab5a4560b313c804bd2f70b2",
       "version_major": 2,
       "version_minor": 0
      },
      "text/plain": [
       "Batches:   0%|          | 0/1 [00:00<?, ?it/s]"
      ]
     },
     "metadata": {},
     "output_type": "display_data"
    },
    {
     "data": {
      "application/vnd.jupyter.widget-view+json": {
       "model_id": "207e920657b84d8fa1e3483959206b38",
       "version_major": 2,
       "version_minor": 0
      },
      "text/plain": [
       "Batches:   0%|          | 0/33 [00:00<?, ?it/s]"
      ]
     },
     "metadata": {},
     "output_type": "display_data"
    },
    {
     "name": "stderr",
     "output_type": "stream",
     "text": [
      "Processing rows:  96%|█████████▌| 48/50 [02:33<00:06,  3.21s/row]"
     ]
    },
    {
     "data": {
      "application/vnd.jupyter.widget-view+json": {
       "model_id": "8708023006594770a45f233a7a9ce92d",
       "version_major": 2,
       "version_minor": 0
      },
      "text/plain": [
       "Batches:   0%|          | 0/1 [00:00<?, ?it/s]"
      ]
     },
     "metadata": {},
     "output_type": "display_data"
    },
    {
     "data": {
      "application/vnd.jupyter.widget-view+json": {
       "model_id": "b48f8ba2ed794a63a672911c87e14d80",
       "version_major": 2,
       "version_minor": 0
      },
      "text/plain": [
       "Batches:   0%|          | 0/20 [00:00<?, ?it/s]"
      ]
     },
     "metadata": {},
     "output_type": "display_data"
    },
    {
     "data": {
      "application/vnd.jupyter.widget-view+json": {
       "model_id": "bc70053f799e4b38a674548844fc5b68",
       "version_major": 2,
       "version_minor": 0
      },
      "text/plain": [
       "Batches:   0%|          | 0/1 [00:00<?, ?it/s]"
      ]
     },
     "metadata": {},
     "output_type": "display_data"
    },
    {
     "data": {
      "application/vnd.jupyter.widget-view+json": {
       "model_id": "10a05ae8ce934a318ad0fa088ccf93df",
       "version_major": 2,
       "version_minor": 0
      },
      "text/plain": [
       "Batches:   0%|          | 0/33 [00:00<?, ?it/s]"
      ]
     },
     "metadata": {},
     "output_type": "display_data"
    },
    {
     "data": {
      "application/vnd.jupyter.widget-view+json": {
       "model_id": "79f55cadead4462180ef855e31632d86",
       "version_major": 2,
       "version_minor": 0
      },
      "text/plain": [
       "Batches:   0%|          | 0/1 [00:00<?, ?it/s]"
      ]
     },
     "metadata": {},
     "output_type": "display_data"
    },
    {
     "data": {
      "application/vnd.jupyter.widget-view+json": {
       "model_id": "baedda456e1141f48f4f47bf575bf390",
       "version_major": 2,
       "version_minor": 0
      },
      "text/plain": [
       "Batches:   0%|          | 0/20 [00:00<?, ?it/s]"
      ]
     },
     "metadata": {},
     "output_type": "display_data"
    },
    {
     "data": {
      "application/vnd.jupyter.widget-view+json": {
       "model_id": "eec7dfefa4b24670b663cf5ee3956d3f",
       "version_major": 2,
       "version_minor": 0
      },
      "text/plain": [
       "Batches:   0%|          | 0/1 [00:00<?, ?it/s]"
      ]
     },
     "metadata": {},
     "output_type": "display_data"
    },
    {
     "data": {
      "application/vnd.jupyter.widget-view+json": {
       "model_id": "d35f29d888e643ec80d34137c085c96f",
       "version_major": 2,
       "version_minor": 0
      },
      "text/plain": [
       "Batches:   0%|          | 0/29 [00:00<?, ?it/s]"
      ]
     },
     "metadata": {},
     "output_type": "display_data"
    },
    {
     "name": "stderr",
     "output_type": "stream",
     "text": [
      "Processing rows:  98%|█████████▊| 49/50 [02:36<00:03,  3.18s/row]"
     ]
    },
    {
     "data": {
      "application/vnd.jupyter.widget-view+json": {
       "model_id": "1e83a55ea49c402f9e0b25816fb88774",
       "version_major": 2,
       "version_minor": 0
      },
      "text/plain": [
       "Batches:   0%|          | 0/1 [00:00<?, ?it/s]"
      ]
     },
     "metadata": {},
     "output_type": "display_data"
    },
    {
     "data": {
      "application/vnd.jupyter.widget-view+json": {
       "model_id": "68014b1833504648a012a465667eb73b",
       "version_major": 2,
       "version_minor": 0
      },
      "text/plain": [
       "Batches:   0%|          | 0/20 [00:00<?, ?it/s]"
      ]
     },
     "metadata": {},
     "output_type": "display_data"
    },
    {
     "data": {
      "application/vnd.jupyter.widget-view+json": {
       "model_id": "3f7266781dce4ce2b9470cc5deec9a14",
       "version_major": 2,
       "version_minor": 0
      },
      "text/plain": [
       "Batches:   0%|          | 0/1 [00:00<?, ?it/s]"
      ]
     },
     "metadata": {},
     "output_type": "display_data"
    },
    {
     "data": {
      "application/vnd.jupyter.widget-view+json": {
       "model_id": "0fc5268a34e4473dab0c8753d462a53b",
       "version_major": 2,
       "version_minor": 0
      },
      "text/plain": [
       "Batches:   0%|          | 0/34 [00:00<?, ?it/s]"
      ]
     },
     "metadata": {},
     "output_type": "display_data"
    },
    {
     "data": {
      "application/vnd.jupyter.widget-view+json": {
       "model_id": "50aef27e95ff45cb906a08208111cd0e",
       "version_major": 2,
       "version_minor": 0
      },
      "text/plain": [
       "Batches:   0%|          | 0/1 [00:00<?, ?it/s]"
      ]
     },
     "metadata": {},
     "output_type": "display_data"
    },
    {
     "data": {
      "application/vnd.jupyter.widget-view+json": {
       "model_id": "d9a43ab7999740df99689b01f792b9f3",
       "version_major": 2,
       "version_minor": 0
      },
      "text/plain": [
       "Batches:   0%|          | 0/20 [00:00<?, ?it/s]"
      ]
     },
     "metadata": {},
     "output_type": "display_data"
    },
    {
     "data": {
      "application/vnd.jupyter.widget-view+json": {
       "model_id": "c46a93c4e9754211868e07a6da1cdeb1",
       "version_major": 2,
       "version_minor": 0
      },
      "text/plain": [
       "Batches:   0%|          | 0/1 [00:00<?, ?it/s]"
      ]
     },
     "metadata": {},
     "output_type": "display_data"
    },
    {
     "data": {
      "application/vnd.jupyter.widget-view+json": {
       "model_id": "32d977ec6f3344b9af818c7ac645cd8c",
       "version_major": 2,
       "version_minor": 0
      },
      "text/plain": [
       "Batches:   0%|          | 0/30 [00:00<?, ?it/s]"
      ]
     },
     "metadata": {},
     "output_type": "display_data"
    },
    {
     "name": "stderr",
     "output_type": "stream",
     "text": [
      "Processing rows: 100%|██████████| 50/50 [02:39<00:00,  3.19s/row]\n"
     ]
    }
   ],
   "source": [
    "import config.prompt\n",
    "importlib.reload(config.prompt)\n",
    "\n",
    "top_k_values = [5, 10, 20]\n",
    "\n",
    "results = []\n",
    "\n",
    "# 1) Filter out the null‐question rows\n",
    "df_nonnull = df[df[\"question\"].notnull()]\n",
    "\n",
    "df_shuffled = df_nonnull.sample(n=50, random_state=42).reset_index(drop=True)\n",
    "\n",
    "for top_k in top_k_values:\n",
    "    for index, row in tqdm(\n",
    "        df_shuffled.iterrows(),\n",
    "        total=len(df_shuffled),\n",
    "        desc=\"Processing rows\",\n",
    "        unit=\"row\"\n",
    "    ):\n",
    "        reference = row[\"groundTruth\"]\n",
    "        relevant_documents = row[\"documents\"]\n",
    "        question = row[\"question\"]\n",
    "\n",
    "        for test_case in test_cases:\n",
    "            pipeline = test_case[\"pipeline\"]\n",
    "            request_payload = {\n",
    "                \"retriever\": {\n",
    "                    \"top_k\": top_k,\n",
    "                },\n",
    "                \"reranker\": {\n",
    "                    \"query\": question,\n",
    "                    \"top_k\": top_k,\n",
    "                },\n",
    "                \"query_embedder\": {\n",
    "                    \"text\": question,\n",
    "                },\n",
    "                \"map_evaluator\": {\n",
    "                    \"ground_truth_documents\": [relevant_documents],\n",
    "                },\n",
    "                \"mrr_evaluator\": {\n",
    "                    \"ground_truth_documents\": [relevant_documents],\n",
    "                },\n",
    "                \"recall_evaluator\": {\n",
    "                    \"ground_truth_documents\": [relevant_documents],\n",
    "                }\n",
    "            }\n",
    "            if \"bm25_retriever\" in pipeline.graph.nodes:\n",
    "                request_payload[\"bm25_retriever\"] = {\n",
    "                    \"query\": question,\n",
    "                    \"top_k\": top_k,\n",
    "                }\n",
    "            result = pipeline.run(request_payload)\n",
    "\n",
    "            map_score = result.get(\"map_evaluator\", {}).get(\"score\", {})\n",
    "            mrr_score = result.get(\"mrr_evaluator\", {}).get(\"score\", {})\n",
    "            recall_score = result.get(\"recall_evaluator\", {}).get(\"score\", {})\n",
    "\n",
    "            df.at[index, f\"{test_case['name']}_map\"] = map_score\n",
    "            df.at[index, f\"{test_case['name']}_mrr\"] = mrr_score\n",
    "            df.at[index, f\"{test_case['name']}_recall\"] = recall_score\n",
    "\n",
    "    embedding_model_name = os.environ['EMBEDDING_MODEL_NAME'].replace('/', '')\n",
    "    df.to_pickle(f\"results/retrieval_eval_results_{embedding_model_name}_topk{top_k}.pkl\")"
   ]
  },
  {
   "cell_type": "code",
   "execution_count": null,
   "id": "55f4674f",
   "metadata": {},
   "outputs": [
    {
     "data": {
      "text/html": [
       "<div>\n",
       "<style scoped>\n",
       "    .dataframe tbody tr th:only-of-type {\n",
       "        vertical-align: middle;\n",
       "    }\n",
       "\n",
       "    .dataframe tbody tr th {\n",
       "        vertical-align: top;\n",
       "    }\n",
       "\n",
       "    .dataframe thead th {\n",
       "        text-align: right;\n",
       "    }\n",
       "</style>\n",
       "<table border=\"1\" class=\"dataframe\">\n",
       "  <thead>\n",
       "    <tr style=\"text-align: right;\">\n",
       "      <th></th>\n",
       "      <th>question</th>\n",
       "      <th>references</th>\n",
       "      <th>groundTruth</th>\n",
       "      <th>source_file</th>\n",
       "      <th>documents</th>\n",
       "      <th>variant</th>\n",
       "      <th>prev_messages</th>\n",
       "      <th>Basic RAG_map</th>\n",
       "      <th>Basic RAG_mrr</th>\n",
       "      <th>Basic RAG_recall</th>\n",
       "      <th>Hybrid RAG_map</th>\n",
       "      <th>Hybrid RAG_mrr</th>\n",
       "      <th>Hybrid RAG_recall</th>\n",
       "      <th>Contextual RAG_map</th>\n",
       "      <th>Contextual RAG_mrr</th>\n",
       "      <th>Contextual RAG_recall</th>\n",
       "      <th>Contextual Hybrid RAG_map</th>\n",
       "      <th>Contextual Hybrid RAG_mrr</th>\n",
       "      <th>Contextual Hybrid RAG_recall</th>\n",
       "    </tr>\n",
       "  </thead>\n",
       "  <tbody>\n",
       "    <tr>\n",
       "      <th>0</th>\n",
       "      <td>Wie läuft eine äußere Wendung ab und was passi...</td>\n",
       "      <td>[Eine äußere Wendung findet in der Regel in ei...</td>\n",
       "      <td>Eine äußere Wendung findet ambulant in einer K...</td>\n",
       "      <td>Äußere Wendung.md</td>\n",
       "      <td>[Document(id=42e5316808b9457eed1b32ec3d3a591b2...</td>\n",
       "      <td>default</td>\n",
       "      <td>[]</td>\n",
       "      <td>0.052632</td>\n",
       "      <td>0.052632</td>\n",
       "      <td>1.0</td>\n",
       "      <td>0.000000</td>\n",
       "      <td>0.000000</td>\n",
       "      <td>0.0</td>\n",
       "      <td>1.000000</td>\n",
       "      <td>1.000000</td>\n",
       "      <td>1.0</td>\n",
       "      <td>0.000000</td>\n",
       "      <td>0.000000</td>\n",
       "      <td>0.0</td>\n",
       "    </tr>\n",
       "    <tr>\n",
       "      <th>1</th>\n",
       "      <td>Und wie lange dauert dieser Eingriff normalerw...</td>\n",
       "      <td>[Eine äußere Wendung findet in der Regel in ei...</td>\n",
       "      <td>Eine äußere Wendung findet ambulant in einer K...</td>\n",
       "      <td>Äußere Wendung.md</td>\n",
       "      <td>[Document(id=42e5316808b9457eed1b32ec3d3a591b2...</td>\n",
       "      <td>contextual</td>\n",
       "      <td>[Wie läuft eine äußere Wendung ab?, Bei der äu...</td>\n",
       "      <td>0.216667</td>\n",
       "      <td>0.333333</td>\n",
       "      <td>1.0</td>\n",
       "      <td>0.225490</td>\n",
       "      <td>0.333333</td>\n",
       "      <td>1.0</td>\n",
       "      <td>0.666667</td>\n",
       "      <td>1.000000</td>\n",
       "      <td>1.0</td>\n",
       "      <td>0.000000</td>\n",
       "      <td>0.000000</td>\n",
       "      <td>0.0</td>\n",
       "    </tr>\n",
       "    <tr>\n",
       "      <th>2</th>\n",
       "      <td>Ey, wie machen die eigentlich so 'ne äußere We...</td>\n",
       "      <td>[Eine äußere Wendung findet in der Regel in ei...</td>\n",
       "      <td>Eine äußere Wendung findet ambulant in einer K...</td>\n",
       "      <td>Äußere Wendung.md</td>\n",
       "      <td>[Document(id=42e5316808b9457eed1b32ec3d3a591b2...</td>\n",
       "      <td>slang</td>\n",
       "      <td>[]</td>\n",
       "      <td>0.166667</td>\n",
       "      <td>0.166667</td>\n",
       "      <td>1.0</td>\n",
       "      <td>0.083333</td>\n",
       "      <td>0.083333</td>\n",
       "      <td>1.0</td>\n",
       "      <td>0.071429</td>\n",
       "      <td>0.071429</td>\n",
       "      <td>1.0</td>\n",
       "      <td>0.052632</td>\n",
       "      <td>0.052632</td>\n",
       "      <td>1.0</td>\n",
       "    </tr>\n",
       "    <tr>\n",
       "      <th>3</th>\n",
       "      <td>How is an external version done and what happe...</td>\n",
       "      <td>[Eine äußere Wendung findet in der Regel in ei...</td>\n",
       "      <td>Eine äußere Wendung findet ambulant in einer K...</td>\n",
       "      <td>Äußere Wendung.md</td>\n",
       "      <td>[Document(id=42e5316808b9457eed1b32ec3d3a591b2...</td>\n",
       "      <td>english</td>\n",
       "      <td>[]</td>\n",
       "      <td>0.111111</td>\n",
       "      <td>0.111111</td>\n",
       "      <td>1.0</td>\n",
       "      <td>0.250000</td>\n",
       "      <td>0.250000</td>\n",
       "      <td>1.0</td>\n",
       "      <td>0.125000</td>\n",
       "      <td>0.125000</td>\n",
       "      <td>1.0</td>\n",
       "      <td>0.000000</td>\n",
       "      <td>0.000000</td>\n",
       "      <td>0.0</td>\n",
       "    </tr>\n",
       "    <tr>\n",
       "      <th>4</th>\n",
       "      <td>Können Sie mir erklären, wie eine äußere Wendu...</td>\n",
       "      <td>[Eine äußere Wendung findet in der Regel in ei...</td>\n",
       "      <td>Eine äußere Wendung findet ambulant in einer K...</td>\n",
       "      <td>Äußere Wendung.md</td>\n",
       "      <td>[Document(id=42e5316808b9457eed1b32ec3d3a591b2...</td>\n",
       "      <td>german-variation-1</td>\n",
       "      <td>[]</td>\n",
       "      <td>0.113095</td>\n",
       "      <td>0.083333</td>\n",
       "      <td>1.0</td>\n",
       "      <td>0.166667</td>\n",
       "      <td>0.166667</td>\n",
       "      <td>1.0</td>\n",
       "      <td>1.000000</td>\n",
       "      <td>1.000000</td>\n",
       "      <td>1.0</td>\n",
       "      <td>0.071429</td>\n",
       "      <td>0.071429</td>\n",
       "      <td>1.0</td>\n",
       "    </tr>\n",
       "    <tr>\n",
       "      <th>...</th>\n",
       "      <td>...</td>\n",
       "      <td>...</td>\n",
       "      <td>...</td>\n",
       "      <td>...</td>\n",
       "      <td>...</td>\n",
       "      <td>...</td>\n",
       "      <td>...</td>\n",
       "      <td>...</td>\n",
       "      <td>...</td>\n",
       "      <td>...</td>\n",
       "      <td>...</td>\n",
       "      <td>...</td>\n",
       "      <td>...</td>\n",
       "      <td>...</td>\n",
       "      <td>...</td>\n",
       "      <td>...</td>\n",
       "      <td>...</td>\n",
       "      <td>...</td>\n",
       "      <td>...</td>\n",
       "    </tr>\n",
       "    <tr>\n",
       "      <th>605</th>\n",
       "      <td>Was ist zu tun, wenn nach der Geburtseinleitun...</td>\n",
       "      <td>[Bei jeder medikamentösen oder mechanischen Me...</td>\n",
       "      <td>Sollten nach der Geburtseinleitung starke oder...</td>\n",
       "      <td>Einleitung der Geburt.md</td>\n",
       "      <td>[Document(id=8cbfd372f826aeb040aa026c9155ccd35...</td>\n",
       "      <td>german-variation-2</td>\n",
       "      <td>[]</td>\n",
       "      <td>NaN</td>\n",
       "      <td>NaN</td>\n",
       "      <td>NaN</td>\n",
       "      <td>NaN</td>\n",
       "      <td>NaN</td>\n",
       "      <td>NaN</td>\n",
       "      <td>NaN</td>\n",
       "      <td>NaN</td>\n",
       "      <td>NaN</td>\n",
       "      <td>NaN</td>\n",
       "      <td>NaN</td>\n",
       "      <td>NaN</td>\n",
       "    </tr>\n",
       "    <tr>\n",
       "      <th>606</th>\n",
       "      <td>Kann mir jemand sagen, was ich machen soll, we...</td>\n",
       "      <td>[Bei jeder medikamentösen oder mechanischen Me...</td>\n",
       "      <td>Sollten nach der Geburtseinleitung starke oder...</td>\n",
       "      <td>Einleitung der Geburt.md</td>\n",
       "      <td>[Document(id=8cbfd372f826aeb040aa026c9155ccd35...</td>\n",
       "      <td>german-variation-3</td>\n",
       "      <td>[]</td>\n",
       "      <td>NaN</td>\n",
       "      <td>NaN</td>\n",
       "      <td>NaN</td>\n",
       "      <td>NaN</td>\n",
       "      <td>NaN</td>\n",
       "      <td>NaN</td>\n",
       "      <td>NaN</td>\n",
       "      <td>NaN</td>\n",
       "      <td>NaN</td>\n",
       "      <td>NaN</td>\n",
       "      <td>NaN</td>\n",
       "      <td>NaN</td>\n",
       "    </tr>\n",
       "    <tr>\n",
       "      <th>607</th>\n",
       "      <td>Ich hatte eine Geburtseinleitung – was mache i...</td>\n",
       "      <td>[Bei jeder medikamentösen oder mechanischen Me...</td>\n",
       "      <td>Sollten nach der Geburtseinleitung starke oder...</td>\n",
       "      <td>Einleitung der Geburt.md</td>\n",
       "      <td>[Document(id=8cbfd372f826aeb040aa026c9155ccd35...</td>\n",
       "      <td>german-variation-4</td>\n",
       "      <td>[]</td>\n",
       "      <td>NaN</td>\n",
       "      <td>NaN</td>\n",
       "      <td>NaN</td>\n",
       "      <td>NaN</td>\n",
       "      <td>NaN</td>\n",
       "      <td>NaN</td>\n",
       "      <td>NaN</td>\n",
       "      <td>NaN</td>\n",
       "      <td>NaN</td>\n",
       "      <td>NaN</td>\n",
       "      <td>NaN</td>\n",
       "      <td>NaN</td>\n",
       "    </tr>\n",
       "    <tr>\n",
       "      <th>608</th>\n",
       "      <td>Was empfehlen Sie, wenn nach der Einleitung de...</td>\n",
       "      <td>[Bei jeder medikamentösen oder mechanischen Me...</td>\n",
       "      <td>Sollten nach der Geburtseinleitung starke oder...</td>\n",
       "      <td>Einleitung der Geburt.md</td>\n",
       "      <td>[Document(id=8cbfd372f826aeb040aa026c9155ccd35...</td>\n",
       "      <td>german-variation-5</td>\n",
       "      <td>[]</td>\n",
       "      <td>NaN</td>\n",
       "      <td>NaN</td>\n",
       "      <td>NaN</td>\n",
       "      <td>NaN</td>\n",
       "      <td>NaN</td>\n",
       "      <td>NaN</td>\n",
       "      <td>NaN</td>\n",
       "      <td>NaN</td>\n",
       "      <td>NaN</td>\n",
       "      <td>NaN</td>\n",
       "      <td>NaN</td>\n",
       "      <td>NaN</td>\n",
       "    </tr>\n",
       "    <tr>\n",
       "      <th>609</th>\n",
       "      <td>Wenn nach der Geburtseinleitung plötzlich star...</td>\n",
       "      <td>[Bei jeder medikamentösen oder mechanischen Me...</td>\n",
       "      <td>Sollten nach der Geburtseinleitung starke oder...</td>\n",
       "      <td>Einleitung der Geburt.md</td>\n",
       "      <td>[Document(id=8cbfd372f826aeb040aa026c9155ccd35...</td>\n",
       "      <td>german-variation-6</td>\n",
       "      <td>[]</td>\n",
       "      <td>NaN</td>\n",
       "      <td>NaN</td>\n",
       "      <td>NaN</td>\n",
       "      <td>NaN</td>\n",
       "      <td>NaN</td>\n",
       "      <td>NaN</td>\n",
       "      <td>NaN</td>\n",
       "      <td>NaN</td>\n",
       "      <td>NaN</td>\n",
       "      <td>NaN</td>\n",
       "      <td>NaN</td>\n",
       "      <td>NaN</td>\n",
       "    </tr>\n",
       "  </tbody>\n",
       "</table>\n",
       "<p>610 rows × 19 columns</p>\n",
       "</div>"
      ],
      "text/plain": [
       "                                              question  \\\n",
       "0    Wie läuft eine äußere Wendung ab und was passi...   \n",
       "1    Und wie lange dauert dieser Eingriff normalerw...   \n",
       "2    Ey, wie machen die eigentlich so 'ne äußere We...   \n",
       "3    How is an external version done and what happe...   \n",
       "4    Können Sie mir erklären, wie eine äußere Wendu...   \n",
       "..                                                 ...   \n",
       "605  Was ist zu tun, wenn nach der Geburtseinleitun...   \n",
       "606  Kann mir jemand sagen, was ich machen soll, we...   \n",
       "607  Ich hatte eine Geburtseinleitung – was mache i...   \n",
       "608  Was empfehlen Sie, wenn nach der Einleitung de...   \n",
       "609  Wenn nach der Geburtseinleitung plötzlich star...   \n",
       "\n",
       "                                            references  \\\n",
       "0    [Eine äußere Wendung findet in der Regel in ei...   \n",
       "1    [Eine äußere Wendung findet in der Regel in ei...   \n",
       "2    [Eine äußere Wendung findet in der Regel in ei...   \n",
       "3    [Eine äußere Wendung findet in der Regel in ei...   \n",
       "4    [Eine äußere Wendung findet in der Regel in ei...   \n",
       "..                                                 ...   \n",
       "605  [Bei jeder medikamentösen oder mechanischen Me...   \n",
       "606  [Bei jeder medikamentösen oder mechanischen Me...   \n",
       "607  [Bei jeder medikamentösen oder mechanischen Me...   \n",
       "608  [Bei jeder medikamentösen oder mechanischen Me...   \n",
       "609  [Bei jeder medikamentösen oder mechanischen Me...   \n",
       "\n",
       "                                           groundTruth  \\\n",
       "0    Eine äußere Wendung findet ambulant in einer K...   \n",
       "1    Eine äußere Wendung findet ambulant in einer K...   \n",
       "2    Eine äußere Wendung findet ambulant in einer K...   \n",
       "3    Eine äußere Wendung findet ambulant in einer K...   \n",
       "4    Eine äußere Wendung findet ambulant in einer K...   \n",
       "..                                                 ...   \n",
       "605  Sollten nach der Geburtseinleitung starke oder...   \n",
       "606  Sollten nach der Geburtseinleitung starke oder...   \n",
       "607  Sollten nach der Geburtseinleitung starke oder...   \n",
       "608  Sollten nach der Geburtseinleitung starke oder...   \n",
       "609  Sollten nach der Geburtseinleitung starke oder...   \n",
       "\n",
       "                  source_file  \\\n",
       "0          Äußere Wendung.md   \n",
       "1          Äußere Wendung.md   \n",
       "2          Äußere Wendung.md   \n",
       "3          Äußere Wendung.md   \n",
       "4          Äußere Wendung.md   \n",
       "..                        ...   \n",
       "605  Einleitung der Geburt.md   \n",
       "606  Einleitung der Geburt.md   \n",
       "607  Einleitung der Geburt.md   \n",
       "608  Einleitung der Geburt.md   \n",
       "609  Einleitung der Geburt.md   \n",
       "\n",
       "                                             documents             variant  \\\n",
       "0    [Document(id=42e5316808b9457eed1b32ec3d3a591b2...             default   \n",
       "1    [Document(id=42e5316808b9457eed1b32ec3d3a591b2...          contextual   \n",
       "2    [Document(id=42e5316808b9457eed1b32ec3d3a591b2...               slang   \n",
       "3    [Document(id=42e5316808b9457eed1b32ec3d3a591b2...             english   \n",
       "4    [Document(id=42e5316808b9457eed1b32ec3d3a591b2...  german-variation-1   \n",
       "..                                                 ...                 ...   \n",
       "605  [Document(id=8cbfd372f826aeb040aa026c9155ccd35...  german-variation-2   \n",
       "606  [Document(id=8cbfd372f826aeb040aa026c9155ccd35...  german-variation-3   \n",
       "607  [Document(id=8cbfd372f826aeb040aa026c9155ccd35...  german-variation-4   \n",
       "608  [Document(id=8cbfd372f826aeb040aa026c9155ccd35...  german-variation-5   \n",
       "609  [Document(id=8cbfd372f826aeb040aa026c9155ccd35...  german-variation-6   \n",
       "\n",
       "                                         prev_messages  Basic RAG_map  \\\n",
       "0                                                   []       0.052632   \n",
       "1    [Wie läuft eine äußere Wendung ab?, Bei der äu...       0.216667   \n",
       "2                                                   []       0.166667   \n",
       "3                                                   []       0.111111   \n",
       "4                                                   []       0.113095   \n",
       "..                                                 ...            ...   \n",
       "605                                                 []            NaN   \n",
       "606                                                 []            NaN   \n",
       "607                                                 []            NaN   \n",
       "608                                                 []            NaN   \n",
       "609                                                 []            NaN   \n",
       "\n",
       "     Basic RAG_mrr  Basic RAG_recall  Hybrid RAG_map  Hybrid RAG_mrr  \\\n",
       "0         0.052632               1.0        0.000000        0.000000   \n",
       "1         0.333333               1.0        0.225490        0.333333   \n",
       "2         0.166667               1.0        0.083333        0.083333   \n",
       "3         0.111111               1.0        0.250000        0.250000   \n",
       "4         0.083333               1.0        0.166667        0.166667   \n",
       "..             ...               ...             ...             ...   \n",
       "605            NaN               NaN             NaN             NaN   \n",
       "606            NaN               NaN             NaN             NaN   \n",
       "607            NaN               NaN             NaN             NaN   \n",
       "608            NaN               NaN             NaN             NaN   \n",
       "609            NaN               NaN             NaN             NaN   \n",
       "\n",
       "     Hybrid RAG_recall  Contextual RAG_map  Contextual RAG_mrr  \\\n",
       "0                  0.0            1.000000            1.000000   \n",
       "1                  1.0            0.666667            1.000000   \n",
       "2                  1.0            0.071429            0.071429   \n",
       "3                  1.0            0.125000            0.125000   \n",
       "4                  1.0            1.000000            1.000000   \n",
       "..                 ...                 ...                 ...   \n",
       "605                NaN                 NaN                 NaN   \n",
       "606                NaN                 NaN                 NaN   \n",
       "607                NaN                 NaN                 NaN   \n",
       "608                NaN                 NaN                 NaN   \n",
       "609                NaN                 NaN                 NaN   \n",
       "\n",
       "     Contextual RAG_recall  Contextual Hybrid RAG_map  \\\n",
       "0                      1.0                   0.000000   \n",
       "1                      1.0                   0.000000   \n",
       "2                      1.0                   0.052632   \n",
       "3                      1.0                   0.000000   \n",
       "4                      1.0                   0.071429   \n",
       "..                     ...                        ...   \n",
       "605                    NaN                        NaN   \n",
       "606                    NaN                        NaN   \n",
       "607                    NaN                        NaN   \n",
       "608                    NaN                        NaN   \n",
       "609                    NaN                        NaN   \n",
       "\n",
       "     Contextual Hybrid RAG_mrr  Contextual Hybrid RAG_recall  \n",
       "0                     0.000000                           0.0  \n",
       "1                     0.000000                           0.0  \n",
       "2                     0.052632                           1.0  \n",
       "3                     0.000000                           0.0  \n",
       "4                     0.071429                           1.0  \n",
       "..                         ...                           ...  \n",
       "605                        NaN                           NaN  \n",
       "606                        NaN                           NaN  \n",
       "607                        NaN                           NaN  \n",
       "608                        NaN                           NaN  \n",
       "609                        NaN                           NaN  \n",
       "\n",
       "[610 rows x 19 columns]"
      ]
     },
     "execution_count": 14,
     "metadata": {},
     "output_type": "execute_result"
    }
   ],
   "source": [
    "df"
   ]
  },
  {
   "cell_type": "code",
   "execution_count": null,
   "id": "e1725071",
   "metadata": {},
   "outputs": [],
   "source": []
  }
 ],
 "metadata": {
  "kernelspec": {
   "display_name": ".venv",
   "language": "python",
   "name": "python3"
  },
  "language_info": {
   "codemirror_mode": {
    "name": "ipython",
    "version": 3
   },
   "file_extension": ".py",
   "mimetype": "text/x-python",
   "name": "python",
   "nbconvert_exporter": "python",
   "pygments_lexer": "ipython3",
   "version": "3.11.2"
  }
 },
 "nbformat": 4,
 "nbformat_minor": 5
}
