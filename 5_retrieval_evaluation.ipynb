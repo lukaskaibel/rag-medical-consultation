{
 "cells": [
  {
   "cell_type": "markdown",
   "id": "0dcd96e4",
   "metadata": {},
   "source": [
    "# Retrieval Evaluation"
   ]
  },
  {
   "cell_type": "code",
   "execution_count": 1,
   "metadata": {},
   "outputs": [
    {
     "name": "stdout",
     "output_type": "stream",
     "text": [
      "Requirement already satisfied: haystack-ai in ./.venv/lib/python3.11/site-packages (2.13.2)\n",
      "Requirement already satisfied: haystack-experimental in ./.venv/lib/python3.11/site-packages (from haystack-ai) (0.10.0)\n",
      "Requirement already satisfied: jinja2 in ./.venv/lib/python3.11/site-packages (from haystack-ai) (3.1.6)\n",
      "Requirement already satisfied: jsonschema in ./.venv/lib/python3.11/site-packages (from haystack-ai) (4.23.0)\n",
      "Requirement already satisfied: lazy-imports in ./.venv/lib/python3.11/site-packages (from haystack-ai) (0.4.0)\n",
      "Requirement already satisfied: more-itertools in ./.venv/lib/python3.11/site-packages (from haystack-ai) (10.7.0)\n",
      "Requirement already satisfied: networkx in ./.venv/lib/python3.11/site-packages (from haystack-ai) (3.4.2)\n",
      "Requirement already satisfied: numpy in ./.venv/lib/python3.11/site-packages (from haystack-ai) (2.2.6)\n",
      "Requirement already satisfied: openai>=1.56.1 in ./.venv/lib/python3.11/site-packages (from haystack-ai) (1.79.0)\n",
      "Requirement already satisfied: posthog!=3.12.0 in ./.venv/lib/python3.11/site-packages (from haystack-ai) (4.0.1)\n",
      "Requirement already satisfied: pydantic in ./.venv/lib/python3.11/site-packages (from haystack-ai) (2.11.4)\n",
      "Requirement already satisfied: python-dateutil in ./.venv/lib/python3.11/site-packages (from haystack-ai) (2.9.0.post0)\n",
      "Requirement already satisfied: pyyaml in ./.venv/lib/python3.11/site-packages (from haystack-ai) (6.0.2)\n",
      "Requirement already satisfied: requests in ./.venv/lib/python3.11/site-packages (from haystack-ai) (2.32.3)\n",
      "Requirement already satisfied: tenacity!=8.4.0 in ./.venv/lib/python3.11/site-packages (from haystack-ai) (9.1.2)\n",
      "Requirement already satisfied: tqdm in ./.venv/lib/python3.11/site-packages (from haystack-ai) (4.67.1)\n",
      "Requirement already satisfied: typing-extensions>=4.7 in ./.venv/lib/python3.11/site-packages (from haystack-ai) (4.13.2)\n",
      "Requirement already satisfied: anyio<5,>=3.5.0 in ./.venv/lib/python3.11/site-packages (from openai>=1.56.1->haystack-ai) (4.9.0)\n",
      "Requirement already satisfied: distro<2,>=1.7.0 in ./.venv/lib/python3.11/site-packages (from openai>=1.56.1->haystack-ai) (1.9.0)\n",
      "Requirement already satisfied: httpx<1,>=0.23.0 in ./.venv/lib/python3.11/site-packages (from openai>=1.56.1->haystack-ai) (0.28.1)\n",
      "Requirement already satisfied: jiter<1,>=0.4.0 in ./.venv/lib/python3.11/site-packages (from openai>=1.56.1->haystack-ai) (0.10.0)\n",
      "Requirement already satisfied: sniffio in ./.venv/lib/python3.11/site-packages (from openai>=1.56.1->haystack-ai) (1.3.1)\n",
      "Requirement already satisfied: idna>=2.8 in ./.venv/lib/python3.11/site-packages (from anyio<5,>=3.5.0->openai>=1.56.1->haystack-ai) (3.10)\n",
      "Requirement already satisfied: certifi in ./.venv/lib/python3.11/site-packages (from httpx<1,>=0.23.0->openai>=1.56.1->haystack-ai) (2025.4.26)\n",
      "Requirement already satisfied: httpcore==1.* in ./.venv/lib/python3.11/site-packages (from httpx<1,>=0.23.0->openai>=1.56.1->haystack-ai) (1.0.9)\n",
      "Requirement already satisfied: h11>=0.16 in ./.venv/lib/python3.11/site-packages (from httpcore==1.*->httpx<1,>=0.23.0->openai>=1.56.1->haystack-ai) (0.16.0)\n",
      "Requirement already satisfied: annotated-types>=0.6.0 in ./.venv/lib/python3.11/site-packages (from pydantic->haystack-ai) (0.7.0)\n",
      "Requirement already satisfied: pydantic-core==2.33.2 in ./.venv/lib/python3.11/site-packages (from pydantic->haystack-ai) (2.33.2)\n",
      "Requirement already satisfied: typing-inspection>=0.4.0 in ./.venv/lib/python3.11/site-packages (from pydantic->haystack-ai) (0.4.0)\n",
      "Requirement already satisfied: six>=1.5 in ./.venv/lib/python3.11/site-packages (from posthog!=3.12.0->haystack-ai) (1.17.0)\n",
      "Requirement already satisfied: backoff>=1.10.0 in ./.venv/lib/python3.11/site-packages (from posthog!=3.12.0->haystack-ai) (2.2.1)\n",
      "Requirement already satisfied: charset-normalizer<4,>=2 in ./.venv/lib/python3.11/site-packages (from requests->haystack-ai) (3.4.2)\n",
      "Requirement already satisfied: urllib3<3,>=1.21.1 in ./.venv/lib/python3.11/site-packages (from requests->haystack-ai) (2.4.0)\n",
      "Requirement already satisfied: filetype in ./.venv/lib/python3.11/site-packages (from haystack-experimental->haystack-ai) (1.2.0)\n",
      "Requirement already satisfied: MarkupSafe>=2.0 in ./.venv/lib/python3.11/site-packages (from jinja2->haystack-ai) (3.0.2)\n",
      "Requirement already satisfied: attrs>=22.2.0 in ./.venv/lib/python3.11/site-packages (from jsonschema->haystack-ai) (25.3.0)\n",
      "Requirement already satisfied: jsonschema-specifications>=2023.03.6 in ./.venv/lib/python3.11/site-packages (from jsonschema->haystack-ai) (2025.4.1)\n",
      "Requirement already satisfied: referencing>=0.28.4 in ./.venv/lib/python3.11/site-packages (from jsonschema->haystack-ai) (0.36.2)\n",
      "Requirement already satisfied: rpds-py>=0.7.1 in ./.venv/lib/python3.11/site-packages (from jsonschema->haystack-ai) (0.25.1)\n",
      "Note: you may need to restart the kernel to use updated packages.\n",
      "Requirement already satisfied: ragas-haystack in ./.venv/lib/python3.11/site-packages (2.1.0)\n",
      "Requirement already satisfied: haystack-ai in ./.venv/lib/python3.11/site-packages (from ragas-haystack) (2.13.2)\n",
      "Requirement already satisfied: ragas<0.3.0,>=0.2.0 in ./.venv/lib/python3.11/site-packages (from ragas-haystack) (0.2.15)\n",
      "Requirement already satisfied: numpy in ./.venv/lib/python3.11/site-packages (from ragas<0.3.0,>=0.2.0->ragas-haystack) (2.2.6)\n",
      "Requirement already satisfied: datasets in ./.venv/lib/python3.11/site-packages (from ragas<0.3.0,>=0.2.0->ragas-haystack) (3.6.0)\n",
      "Requirement already satisfied: tiktoken in ./.venv/lib/python3.11/site-packages (from ragas<0.3.0,>=0.2.0->ragas-haystack) (0.9.0)\n",
      "Requirement already satisfied: langchain in ./.venv/lib/python3.11/site-packages (from ragas<0.3.0,>=0.2.0->ragas-haystack) (0.3.25)\n",
      "Requirement already satisfied: langchain-core in ./.venv/lib/python3.11/site-packages (from ragas<0.3.0,>=0.2.0->ragas-haystack) (0.3.60)\n",
      "Requirement already satisfied: langchain-community in ./.venv/lib/python3.11/site-packages (from ragas<0.3.0,>=0.2.0->ragas-haystack) (0.3.24)\n",
      "Requirement already satisfied: langchain_openai in ./.venv/lib/python3.11/site-packages (from ragas<0.3.0,>=0.2.0->ragas-haystack) (0.3.17)\n",
      "Requirement already satisfied: nest-asyncio in ./.venv/lib/python3.11/site-packages (from ragas<0.3.0,>=0.2.0->ragas-haystack) (1.6.0)\n",
      "Requirement already satisfied: appdirs in ./.venv/lib/python3.11/site-packages (from ragas<0.3.0,>=0.2.0->ragas-haystack) (1.4.4)\n",
      "Requirement already satisfied: pydantic>=2 in ./.venv/lib/python3.11/site-packages (from ragas<0.3.0,>=0.2.0->ragas-haystack) (2.11.4)\n",
      "Requirement already satisfied: openai>1 in ./.venv/lib/python3.11/site-packages (from ragas<0.3.0,>=0.2.0->ragas-haystack) (1.79.0)\n",
      "Requirement already satisfied: diskcache>=5.6.3 in ./.venv/lib/python3.11/site-packages (from ragas<0.3.0,>=0.2.0->ragas-haystack) (5.6.3)\n",
      "Requirement already satisfied: anyio<5,>=3.5.0 in ./.venv/lib/python3.11/site-packages (from openai>1->ragas<0.3.0,>=0.2.0->ragas-haystack) (4.9.0)\n",
      "Requirement already satisfied: distro<2,>=1.7.0 in ./.venv/lib/python3.11/site-packages (from openai>1->ragas<0.3.0,>=0.2.0->ragas-haystack) (1.9.0)\n",
      "Requirement already satisfied: httpx<1,>=0.23.0 in ./.venv/lib/python3.11/site-packages (from openai>1->ragas<0.3.0,>=0.2.0->ragas-haystack) (0.28.1)\n",
      "Requirement already satisfied: jiter<1,>=0.4.0 in ./.venv/lib/python3.11/site-packages (from openai>1->ragas<0.3.0,>=0.2.0->ragas-haystack) (0.10.0)\n",
      "Requirement already satisfied: sniffio in ./.venv/lib/python3.11/site-packages (from openai>1->ragas<0.3.0,>=0.2.0->ragas-haystack) (1.3.1)\n",
      "Requirement already satisfied: tqdm>4 in ./.venv/lib/python3.11/site-packages (from openai>1->ragas<0.3.0,>=0.2.0->ragas-haystack) (4.67.1)\n",
      "Requirement already satisfied: typing-extensions<5,>=4.11 in ./.venv/lib/python3.11/site-packages (from openai>1->ragas<0.3.0,>=0.2.0->ragas-haystack) (4.13.2)\n",
      "Requirement already satisfied: idna>=2.8 in ./.venv/lib/python3.11/site-packages (from anyio<5,>=3.5.0->openai>1->ragas<0.3.0,>=0.2.0->ragas-haystack) (3.10)\n",
      "Requirement already satisfied: certifi in ./.venv/lib/python3.11/site-packages (from httpx<1,>=0.23.0->openai>1->ragas<0.3.0,>=0.2.0->ragas-haystack) (2025.4.26)\n",
      "Requirement already satisfied: httpcore==1.* in ./.venv/lib/python3.11/site-packages (from httpx<1,>=0.23.0->openai>1->ragas<0.3.0,>=0.2.0->ragas-haystack) (1.0.9)\n",
      "Requirement already satisfied: h11>=0.16 in ./.venv/lib/python3.11/site-packages (from httpcore==1.*->httpx<1,>=0.23.0->openai>1->ragas<0.3.0,>=0.2.0->ragas-haystack) (0.16.0)\n",
      "Requirement already satisfied: annotated-types>=0.6.0 in ./.venv/lib/python3.11/site-packages (from pydantic>=2->ragas<0.3.0,>=0.2.0->ragas-haystack) (0.7.0)\n",
      "Requirement already satisfied: pydantic-core==2.33.2 in ./.venv/lib/python3.11/site-packages (from pydantic>=2->ragas<0.3.0,>=0.2.0->ragas-haystack) (2.33.2)\n",
      "Requirement already satisfied: typing-inspection>=0.4.0 in ./.venv/lib/python3.11/site-packages (from pydantic>=2->ragas<0.3.0,>=0.2.0->ragas-haystack) (0.4.0)\n",
      "Requirement already satisfied: filelock in ./.venv/lib/python3.11/site-packages (from datasets->ragas<0.3.0,>=0.2.0->ragas-haystack) (3.18.0)\n",
      "Requirement already satisfied: pyarrow>=15.0.0 in ./.venv/lib/python3.11/site-packages (from datasets->ragas<0.3.0,>=0.2.0->ragas-haystack) (20.0.0)\n",
      "Requirement already satisfied: dill<0.3.9,>=0.3.0 in ./.venv/lib/python3.11/site-packages (from datasets->ragas<0.3.0,>=0.2.0->ragas-haystack) (0.3.8)\n",
      "Requirement already satisfied: pandas in ./.venv/lib/python3.11/site-packages (from datasets->ragas<0.3.0,>=0.2.0->ragas-haystack) (2.2.3)\n",
      "Requirement already satisfied: requests>=2.32.2 in ./.venv/lib/python3.11/site-packages (from datasets->ragas<0.3.0,>=0.2.0->ragas-haystack) (2.32.3)\n",
      "Requirement already satisfied: xxhash in ./.venv/lib/python3.11/site-packages (from datasets->ragas<0.3.0,>=0.2.0->ragas-haystack) (3.5.0)\n",
      "Requirement already satisfied: multiprocess<0.70.17 in ./.venv/lib/python3.11/site-packages (from datasets->ragas<0.3.0,>=0.2.0->ragas-haystack) (0.70.16)\n",
      "Requirement already satisfied: fsspec<=2025.3.0,>=2023.1.0 in ./.venv/lib/python3.11/site-packages (from fsspec[http]<=2025.3.0,>=2023.1.0->datasets->ragas<0.3.0,>=0.2.0->ragas-haystack) (2025.3.0)\n",
      "Requirement already satisfied: huggingface-hub>=0.24.0 in ./.venv/lib/python3.11/site-packages (from datasets->ragas<0.3.0,>=0.2.0->ragas-haystack) (0.31.4)\n",
      "Requirement already satisfied: packaging in ./.venv/lib/python3.11/site-packages (from datasets->ragas<0.3.0,>=0.2.0->ragas-haystack) (24.2)\n",
      "Requirement already satisfied: pyyaml>=5.1 in ./.venv/lib/python3.11/site-packages (from datasets->ragas<0.3.0,>=0.2.0->ragas-haystack) (6.0.2)\n",
      "Requirement already satisfied: aiohttp!=4.0.0a0,!=4.0.0a1 in ./.venv/lib/python3.11/site-packages (from fsspec[http]<=2025.3.0,>=2023.1.0->datasets->ragas<0.3.0,>=0.2.0->ragas-haystack) (3.11.18)\n",
      "Requirement already satisfied: aiohappyeyeballs>=2.3.0 in ./.venv/lib/python3.11/site-packages (from aiohttp!=4.0.0a0,!=4.0.0a1->fsspec[http]<=2025.3.0,>=2023.1.0->datasets->ragas<0.3.0,>=0.2.0->ragas-haystack) (2.6.1)\n",
      "Requirement already satisfied: aiosignal>=1.1.2 in ./.venv/lib/python3.11/site-packages (from aiohttp!=4.0.0a0,!=4.0.0a1->fsspec[http]<=2025.3.0,>=2023.1.0->datasets->ragas<0.3.0,>=0.2.0->ragas-haystack) (1.3.2)\n",
      "Requirement already satisfied: attrs>=17.3.0 in ./.venv/lib/python3.11/site-packages (from aiohttp!=4.0.0a0,!=4.0.0a1->fsspec[http]<=2025.3.0,>=2023.1.0->datasets->ragas<0.3.0,>=0.2.0->ragas-haystack) (25.3.0)\n",
      "Requirement already satisfied: frozenlist>=1.1.1 in ./.venv/lib/python3.11/site-packages (from aiohttp!=4.0.0a0,!=4.0.0a1->fsspec[http]<=2025.3.0,>=2023.1.0->datasets->ragas<0.3.0,>=0.2.0->ragas-haystack) (1.6.0)\n",
      "Requirement already satisfied: multidict<7.0,>=4.5 in ./.venv/lib/python3.11/site-packages (from aiohttp!=4.0.0a0,!=4.0.0a1->fsspec[http]<=2025.3.0,>=2023.1.0->datasets->ragas<0.3.0,>=0.2.0->ragas-haystack) (6.4.4)\n",
      "Requirement already satisfied: propcache>=0.2.0 in ./.venv/lib/python3.11/site-packages (from aiohttp!=4.0.0a0,!=4.0.0a1->fsspec[http]<=2025.3.0,>=2023.1.0->datasets->ragas<0.3.0,>=0.2.0->ragas-haystack) (0.3.1)\n",
      "Requirement already satisfied: yarl<2.0,>=1.17.0 in ./.venv/lib/python3.11/site-packages (from aiohttp!=4.0.0a0,!=4.0.0a1->fsspec[http]<=2025.3.0,>=2023.1.0->datasets->ragas<0.3.0,>=0.2.0->ragas-haystack) (1.20.0)\n",
      "Requirement already satisfied: charset-normalizer<4,>=2 in ./.venv/lib/python3.11/site-packages (from requests>=2.32.2->datasets->ragas<0.3.0,>=0.2.0->ragas-haystack) (3.4.2)\n",
      "Requirement already satisfied: urllib3<3,>=1.21.1 in ./.venv/lib/python3.11/site-packages (from requests>=2.32.2->datasets->ragas<0.3.0,>=0.2.0->ragas-haystack) (2.4.0)\n",
      "Requirement already satisfied: haystack-experimental in ./.venv/lib/python3.11/site-packages (from haystack-ai->ragas-haystack) (0.10.0)\n",
      "Requirement already satisfied: jinja2 in ./.venv/lib/python3.11/site-packages (from haystack-ai->ragas-haystack) (3.1.6)\n",
      "Requirement already satisfied: jsonschema in ./.venv/lib/python3.11/site-packages (from haystack-ai->ragas-haystack) (4.23.0)\n",
      "Requirement already satisfied: lazy-imports in ./.venv/lib/python3.11/site-packages (from haystack-ai->ragas-haystack) (0.4.0)\n",
      "Requirement already satisfied: more-itertools in ./.venv/lib/python3.11/site-packages (from haystack-ai->ragas-haystack) (10.7.0)\n",
      "Requirement already satisfied: networkx in ./.venv/lib/python3.11/site-packages (from haystack-ai->ragas-haystack) (3.4.2)\n",
      "Requirement already satisfied: posthog!=3.12.0 in ./.venv/lib/python3.11/site-packages (from haystack-ai->ragas-haystack) (4.0.1)\n",
      "Requirement already satisfied: python-dateutil in ./.venv/lib/python3.11/site-packages (from haystack-ai->ragas-haystack) (2.9.0.post0)\n",
      "Requirement already satisfied: tenacity!=8.4.0 in ./.venv/lib/python3.11/site-packages (from haystack-ai->ragas-haystack) (9.1.2)\n",
      "Requirement already satisfied: six>=1.5 in ./.venv/lib/python3.11/site-packages (from posthog!=3.12.0->haystack-ai->ragas-haystack) (1.17.0)\n",
      "Requirement already satisfied: backoff>=1.10.0 in ./.venv/lib/python3.11/site-packages (from posthog!=3.12.0->haystack-ai->ragas-haystack) (2.2.1)\n",
      "Requirement already satisfied: filetype in ./.venv/lib/python3.11/site-packages (from haystack-experimental->haystack-ai->ragas-haystack) (1.2.0)\n",
      "Requirement already satisfied: MarkupSafe>=2.0 in ./.venv/lib/python3.11/site-packages (from jinja2->haystack-ai->ragas-haystack) (3.0.2)\n",
      "Requirement already satisfied: jsonschema-specifications>=2023.03.6 in ./.venv/lib/python3.11/site-packages (from jsonschema->haystack-ai->ragas-haystack) (2025.4.1)\n",
      "Requirement already satisfied: referencing>=0.28.4 in ./.venv/lib/python3.11/site-packages (from jsonschema->haystack-ai->ragas-haystack) (0.36.2)\n",
      "Requirement already satisfied: rpds-py>=0.7.1 in ./.venv/lib/python3.11/site-packages (from jsonschema->haystack-ai->ragas-haystack) (0.25.1)\n",
      "Requirement already satisfied: langchain-text-splitters<1.0.0,>=0.3.8 in ./.venv/lib/python3.11/site-packages (from langchain->ragas<0.3.0,>=0.2.0->ragas-haystack) (0.3.8)\n",
      "Requirement already satisfied: langsmith<0.4,>=0.1.17 in ./.venv/lib/python3.11/site-packages (from langchain->ragas<0.3.0,>=0.2.0->ragas-haystack) (0.3.42)\n",
      "Requirement already satisfied: SQLAlchemy<3,>=1.4 in ./.venv/lib/python3.11/site-packages (from langchain->ragas<0.3.0,>=0.2.0->ragas-haystack) (2.0.41)\n",
      "Requirement already satisfied: jsonpatch<2.0,>=1.33 in ./.venv/lib/python3.11/site-packages (from langchain-core->ragas<0.3.0,>=0.2.0->ragas-haystack) (1.33)\n",
      "Requirement already satisfied: jsonpointer>=1.9 in ./.venv/lib/python3.11/site-packages (from jsonpatch<2.0,>=1.33->langchain-core->ragas<0.3.0,>=0.2.0->ragas-haystack) (3.0.0)\n",
      "Requirement already satisfied: orjson<4.0.0,>=3.9.14 in ./.venv/lib/python3.11/site-packages (from langsmith<0.4,>=0.1.17->langchain->ragas<0.3.0,>=0.2.0->ragas-haystack) (3.10.18)\n",
      "Requirement already satisfied: requests-toolbelt<2.0.0,>=1.0.0 in ./.venv/lib/python3.11/site-packages (from langsmith<0.4,>=0.1.17->langchain->ragas<0.3.0,>=0.2.0->ragas-haystack) (1.0.0)\n",
      "Requirement already satisfied: zstandard<0.24.0,>=0.23.0 in ./.venv/lib/python3.11/site-packages (from langsmith<0.4,>=0.1.17->langchain->ragas<0.3.0,>=0.2.0->ragas-haystack) (0.23.0)\n",
      "Requirement already satisfied: greenlet>=1 in ./.venv/lib/python3.11/site-packages (from SQLAlchemy<3,>=1.4->langchain->ragas<0.3.0,>=0.2.0->ragas-haystack) (3.2.2)\n",
      "Requirement already satisfied: dataclasses-json<0.7,>=0.5.7 in ./.venv/lib/python3.11/site-packages (from langchain-community->ragas<0.3.0,>=0.2.0->ragas-haystack) (0.6.7)\n",
      "Requirement already satisfied: pydantic-settings<3.0.0,>=2.4.0 in ./.venv/lib/python3.11/site-packages (from langchain-community->ragas<0.3.0,>=0.2.0->ragas-haystack) (2.9.1)\n",
      "Requirement already satisfied: httpx-sse<1.0.0,>=0.4.0 in ./.venv/lib/python3.11/site-packages (from langchain-community->ragas<0.3.0,>=0.2.0->ragas-haystack) (0.4.0)\n",
      "Requirement already satisfied: marshmallow<4.0.0,>=3.18.0 in ./.venv/lib/python3.11/site-packages (from dataclasses-json<0.7,>=0.5.7->langchain-community->ragas<0.3.0,>=0.2.0->ragas-haystack) (3.26.1)\n",
      "Requirement already satisfied: typing-inspect<1,>=0.4.0 in ./.venv/lib/python3.11/site-packages (from dataclasses-json<0.7,>=0.5.7->langchain-community->ragas<0.3.0,>=0.2.0->ragas-haystack) (0.9.0)\n",
      "Requirement already satisfied: python-dotenv>=0.21.0 in ./.venv/lib/python3.11/site-packages (from pydantic-settings<3.0.0,>=2.4.0->langchain-community->ragas<0.3.0,>=0.2.0->ragas-haystack) (1.1.0)\n",
      "Requirement already satisfied: mypy-extensions>=0.3.0 in ./.venv/lib/python3.11/site-packages (from typing-inspect<1,>=0.4.0->dataclasses-json<0.7,>=0.5.7->langchain-community->ragas<0.3.0,>=0.2.0->ragas-haystack) (1.1.0)\n",
      "Requirement already satisfied: regex>=2022.1.18 in ./.venv/lib/python3.11/site-packages (from tiktoken->ragas<0.3.0,>=0.2.0->ragas-haystack) (2024.11.6)\n",
      "Requirement already satisfied: pytz>=2020.1 in ./.venv/lib/python3.11/site-packages (from pandas->datasets->ragas<0.3.0,>=0.2.0->ragas-haystack) (2025.2)\n",
      "Requirement already satisfied: tzdata>=2022.7 in ./.venv/lib/python3.11/site-packages (from pandas->datasets->ragas<0.3.0,>=0.2.0->ragas-haystack) (2025.2)\n",
      "Note: you may need to restart the kernel to use updated packages.\n",
      "Requirement already satisfied: nltk in ./.venv/lib/python3.11/site-packages (3.9.1)\n",
      "Requirement already satisfied: click in ./.venv/lib/python3.11/site-packages (from nltk) (8.2.1)\n",
      "Requirement already satisfied: joblib in ./.venv/lib/python3.11/site-packages (from nltk) (1.5.0)\n",
      "Requirement already satisfied: regex>=2021.8.3 in ./.venv/lib/python3.11/site-packages (from nltk) (2024.11.6)\n",
      "Requirement already satisfied: tqdm in ./.venv/lib/python3.11/site-packages (from nltk) (4.67.1)\n",
      "Note: you may need to restart the kernel to use updated packages.\n",
      "Requirement already satisfied: openai in ./.venv/lib/python3.11/site-packages (1.79.0)\n",
      "Requirement already satisfied: anyio<5,>=3.5.0 in ./.venv/lib/python3.11/site-packages (from openai) (4.9.0)\n",
      "Requirement already satisfied: distro<2,>=1.7.0 in ./.venv/lib/python3.11/site-packages (from openai) (1.9.0)\n",
      "Requirement already satisfied: httpx<1,>=0.23.0 in ./.venv/lib/python3.11/site-packages (from openai) (0.28.1)\n",
      "Requirement already satisfied: jiter<1,>=0.4.0 in ./.venv/lib/python3.11/site-packages (from openai) (0.10.0)\n",
      "Requirement already satisfied: pydantic<3,>=1.9.0 in ./.venv/lib/python3.11/site-packages (from openai) (2.11.4)\n",
      "Requirement already satisfied: sniffio in ./.venv/lib/python3.11/site-packages (from openai) (1.3.1)\n",
      "Requirement already satisfied: tqdm>4 in ./.venv/lib/python3.11/site-packages (from openai) (4.67.1)\n",
      "Requirement already satisfied: typing-extensions<5,>=4.11 in ./.venv/lib/python3.11/site-packages (from openai) (4.13.2)\n",
      "Requirement already satisfied: idna>=2.8 in ./.venv/lib/python3.11/site-packages (from anyio<5,>=3.5.0->openai) (3.10)\n",
      "Requirement already satisfied: certifi in ./.venv/lib/python3.11/site-packages (from httpx<1,>=0.23.0->openai) (2025.4.26)\n",
      "Requirement already satisfied: httpcore==1.* in ./.venv/lib/python3.11/site-packages (from httpx<1,>=0.23.0->openai) (1.0.9)\n",
      "Requirement already satisfied: h11>=0.16 in ./.venv/lib/python3.11/site-packages (from httpcore==1.*->httpx<1,>=0.23.0->openai) (0.16.0)\n",
      "Requirement already satisfied: annotated-types>=0.6.0 in ./.venv/lib/python3.11/site-packages (from pydantic<3,>=1.9.0->openai) (0.7.0)\n",
      "Requirement already satisfied: pydantic-core==2.33.2 in ./.venv/lib/python3.11/site-packages (from pydantic<3,>=1.9.0->openai) (2.33.2)\n",
      "Requirement already satisfied: typing-inspection>=0.4.0 in ./.venv/lib/python3.11/site-packages (from pydantic<3,>=1.9.0->openai) (0.4.0)\n",
      "Note: you may need to restart the kernel to use updated packages.\n",
      "Requirement already satisfied: pandas in ./.venv/lib/python3.11/site-packages (2.2.3)\n",
      "Requirement already satisfied: numpy>=1.23.2 in ./.venv/lib/python3.11/site-packages (from pandas) (2.2.6)\n",
      "Requirement already satisfied: python-dateutil>=2.8.2 in ./.venv/lib/python3.11/site-packages (from pandas) (2.9.0.post0)\n",
      "Requirement already satisfied: pytz>=2020.1 in ./.venv/lib/python3.11/site-packages (from pandas) (2025.2)\n",
      "Requirement already satisfied: tzdata>=2022.7 in ./.venv/lib/python3.11/site-packages (from pandas) (2025.2)\n",
      "Requirement already satisfied: six>=1.5 in ./.venv/lib/python3.11/site-packages (from python-dateutil>=2.8.2->pandas) (1.17.0)\n",
      "Note: you may need to restart the kernel to use updated packages.\n",
      "Requirement already satisfied: ragas-haystack in ./.venv/lib/python3.11/site-packages (2.1.0)\n",
      "Requirement already satisfied: haystack-ai in ./.venv/lib/python3.11/site-packages (from ragas-haystack) (2.13.2)\n",
      "Requirement already satisfied: ragas<0.3.0,>=0.2.0 in ./.venv/lib/python3.11/site-packages (from ragas-haystack) (0.2.15)\n",
      "Requirement already satisfied: numpy in ./.venv/lib/python3.11/site-packages (from ragas<0.3.0,>=0.2.0->ragas-haystack) (2.2.6)\n",
      "Requirement already satisfied: datasets in ./.venv/lib/python3.11/site-packages (from ragas<0.3.0,>=0.2.0->ragas-haystack) (3.6.0)\n",
      "Requirement already satisfied: tiktoken in ./.venv/lib/python3.11/site-packages (from ragas<0.3.0,>=0.2.0->ragas-haystack) (0.9.0)\n",
      "Requirement already satisfied: langchain in ./.venv/lib/python3.11/site-packages (from ragas<0.3.0,>=0.2.0->ragas-haystack) (0.3.25)\n",
      "Requirement already satisfied: langchain-core in ./.venv/lib/python3.11/site-packages (from ragas<0.3.0,>=0.2.0->ragas-haystack) (0.3.60)\n",
      "Requirement already satisfied: langchain-community in ./.venv/lib/python3.11/site-packages (from ragas<0.3.0,>=0.2.0->ragas-haystack) (0.3.24)\n",
      "Requirement already satisfied: langchain_openai in ./.venv/lib/python3.11/site-packages (from ragas<0.3.0,>=0.2.0->ragas-haystack) (0.3.17)\n",
      "Requirement already satisfied: nest-asyncio in ./.venv/lib/python3.11/site-packages (from ragas<0.3.0,>=0.2.0->ragas-haystack) (1.6.0)\n",
      "Requirement already satisfied: appdirs in ./.venv/lib/python3.11/site-packages (from ragas<0.3.0,>=0.2.0->ragas-haystack) (1.4.4)\n",
      "Requirement already satisfied: pydantic>=2 in ./.venv/lib/python3.11/site-packages (from ragas<0.3.0,>=0.2.0->ragas-haystack) (2.11.4)\n",
      "Requirement already satisfied: openai>1 in ./.venv/lib/python3.11/site-packages (from ragas<0.3.0,>=0.2.0->ragas-haystack) (1.79.0)\n",
      "Requirement already satisfied: diskcache>=5.6.3 in ./.venv/lib/python3.11/site-packages (from ragas<0.3.0,>=0.2.0->ragas-haystack) (5.6.3)\n",
      "Requirement already satisfied: anyio<5,>=3.5.0 in ./.venv/lib/python3.11/site-packages (from openai>1->ragas<0.3.0,>=0.2.0->ragas-haystack) (4.9.0)\n",
      "Requirement already satisfied: distro<2,>=1.7.0 in ./.venv/lib/python3.11/site-packages (from openai>1->ragas<0.3.0,>=0.2.0->ragas-haystack) (1.9.0)\n",
      "Requirement already satisfied: httpx<1,>=0.23.0 in ./.venv/lib/python3.11/site-packages (from openai>1->ragas<0.3.0,>=0.2.0->ragas-haystack) (0.28.1)\n",
      "Requirement already satisfied: jiter<1,>=0.4.0 in ./.venv/lib/python3.11/site-packages (from openai>1->ragas<0.3.0,>=0.2.0->ragas-haystack) (0.10.0)\n",
      "Requirement already satisfied: sniffio in ./.venv/lib/python3.11/site-packages (from openai>1->ragas<0.3.0,>=0.2.0->ragas-haystack) (1.3.1)\n",
      "Requirement already satisfied: tqdm>4 in ./.venv/lib/python3.11/site-packages (from openai>1->ragas<0.3.0,>=0.2.0->ragas-haystack) (4.67.1)\n",
      "Requirement already satisfied: typing-extensions<5,>=4.11 in ./.venv/lib/python3.11/site-packages (from openai>1->ragas<0.3.0,>=0.2.0->ragas-haystack) (4.13.2)\n",
      "Requirement already satisfied: idna>=2.8 in ./.venv/lib/python3.11/site-packages (from anyio<5,>=3.5.0->openai>1->ragas<0.3.0,>=0.2.0->ragas-haystack) (3.10)\n",
      "Requirement already satisfied: certifi in ./.venv/lib/python3.11/site-packages (from httpx<1,>=0.23.0->openai>1->ragas<0.3.0,>=0.2.0->ragas-haystack) (2025.4.26)\n",
      "Requirement already satisfied: httpcore==1.* in ./.venv/lib/python3.11/site-packages (from httpx<1,>=0.23.0->openai>1->ragas<0.3.0,>=0.2.0->ragas-haystack) (1.0.9)\n",
      "Requirement already satisfied: h11>=0.16 in ./.venv/lib/python3.11/site-packages (from httpcore==1.*->httpx<1,>=0.23.0->openai>1->ragas<0.3.0,>=0.2.0->ragas-haystack) (0.16.0)\n",
      "Requirement already satisfied: annotated-types>=0.6.0 in ./.venv/lib/python3.11/site-packages (from pydantic>=2->ragas<0.3.0,>=0.2.0->ragas-haystack) (0.7.0)\n",
      "Requirement already satisfied: pydantic-core==2.33.2 in ./.venv/lib/python3.11/site-packages (from pydantic>=2->ragas<0.3.0,>=0.2.0->ragas-haystack) (2.33.2)\n",
      "Requirement already satisfied: typing-inspection>=0.4.0 in ./.venv/lib/python3.11/site-packages (from pydantic>=2->ragas<0.3.0,>=0.2.0->ragas-haystack) (0.4.0)\n",
      "Requirement already satisfied: filelock in ./.venv/lib/python3.11/site-packages (from datasets->ragas<0.3.0,>=0.2.0->ragas-haystack) (3.18.0)\n",
      "Requirement already satisfied: pyarrow>=15.0.0 in ./.venv/lib/python3.11/site-packages (from datasets->ragas<0.3.0,>=0.2.0->ragas-haystack) (20.0.0)\n",
      "Requirement already satisfied: dill<0.3.9,>=0.3.0 in ./.venv/lib/python3.11/site-packages (from datasets->ragas<0.3.0,>=0.2.0->ragas-haystack) (0.3.8)\n",
      "Requirement already satisfied: pandas in ./.venv/lib/python3.11/site-packages (from datasets->ragas<0.3.0,>=0.2.0->ragas-haystack) (2.2.3)\n",
      "Requirement already satisfied: requests>=2.32.2 in ./.venv/lib/python3.11/site-packages (from datasets->ragas<0.3.0,>=0.2.0->ragas-haystack) (2.32.3)\n",
      "Requirement already satisfied: xxhash in ./.venv/lib/python3.11/site-packages (from datasets->ragas<0.3.0,>=0.2.0->ragas-haystack) (3.5.0)\n",
      "Requirement already satisfied: multiprocess<0.70.17 in ./.venv/lib/python3.11/site-packages (from datasets->ragas<0.3.0,>=0.2.0->ragas-haystack) (0.70.16)\n",
      "Requirement already satisfied: fsspec<=2025.3.0,>=2023.1.0 in ./.venv/lib/python3.11/site-packages (from fsspec[http]<=2025.3.0,>=2023.1.0->datasets->ragas<0.3.0,>=0.2.0->ragas-haystack) (2025.3.0)\n",
      "Requirement already satisfied: huggingface-hub>=0.24.0 in ./.venv/lib/python3.11/site-packages (from datasets->ragas<0.3.0,>=0.2.0->ragas-haystack) (0.31.4)\n",
      "Requirement already satisfied: packaging in ./.venv/lib/python3.11/site-packages (from datasets->ragas<0.3.0,>=0.2.0->ragas-haystack) (24.2)\n",
      "Requirement already satisfied: pyyaml>=5.1 in ./.venv/lib/python3.11/site-packages (from datasets->ragas<0.3.0,>=0.2.0->ragas-haystack) (6.0.2)\n",
      "Requirement already satisfied: aiohttp!=4.0.0a0,!=4.0.0a1 in ./.venv/lib/python3.11/site-packages (from fsspec[http]<=2025.3.0,>=2023.1.0->datasets->ragas<0.3.0,>=0.2.0->ragas-haystack) (3.11.18)\n",
      "Requirement already satisfied: aiohappyeyeballs>=2.3.0 in ./.venv/lib/python3.11/site-packages (from aiohttp!=4.0.0a0,!=4.0.0a1->fsspec[http]<=2025.3.0,>=2023.1.0->datasets->ragas<0.3.0,>=0.2.0->ragas-haystack) (2.6.1)\n",
      "Requirement already satisfied: aiosignal>=1.1.2 in ./.venv/lib/python3.11/site-packages (from aiohttp!=4.0.0a0,!=4.0.0a1->fsspec[http]<=2025.3.0,>=2023.1.0->datasets->ragas<0.3.0,>=0.2.0->ragas-haystack) (1.3.2)\n",
      "Requirement already satisfied: attrs>=17.3.0 in ./.venv/lib/python3.11/site-packages (from aiohttp!=4.0.0a0,!=4.0.0a1->fsspec[http]<=2025.3.0,>=2023.1.0->datasets->ragas<0.3.0,>=0.2.0->ragas-haystack) (25.3.0)\n",
      "Requirement already satisfied: frozenlist>=1.1.1 in ./.venv/lib/python3.11/site-packages (from aiohttp!=4.0.0a0,!=4.0.0a1->fsspec[http]<=2025.3.0,>=2023.1.0->datasets->ragas<0.3.0,>=0.2.0->ragas-haystack) (1.6.0)\n",
      "Requirement already satisfied: multidict<7.0,>=4.5 in ./.venv/lib/python3.11/site-packages (from aiohttp!=4.0.0a0,!=4.0.0a1->fsspec[http]<=2025.3.0,>=2023.1.0->datasets->ragas<0.3.0,>=0.2.0->ragas-haystack) (6.4.4)\n",
      "Requirement already satisfied: propcache>=0.2.0 in ./.venv/lib/python3.11/site-packages (from aiohttp!=4.0.0a0,!=4.0.0a1->fsspec[http]<=2025.3.0,>=2023.1.0->datasets->ragas<0.3.0,>=0.2.0->ragas-haystack) (0.3.1)\n",
      "Requirement already satisfied: yarl<2.0,>=1.17.0 in ./.venv/lib/python3.11/site-packages (from aiohttp!=4.0.0a0,!=4.0.0a1->fsspec[http]<=2025.3.0,>=2023.1.0->datasets->ragas<0.3.0,>=0.2.0->ragas-haystack) (1.20.0)\n",
      "Requirement already satisfied: charset-normalizer<4,>=2 in ./.venv/lib/python3.11/site-packages (from requests>=2.32.2->datasets->ragas<0.3.0,>=0.2.0->ragas-haystack) (3.4.2)\n",
      "Requirement already satisfied: urllib3<3,>=1.21.1 in ./.venv/lib/python3.11/site-packages (from requests>=2.32.2->datasets->ragas<0.3.0,>=0.2.0->ragas-haystack) (2.4.0)\n",
      "Requirement already satisfied: haystack-experimental in ./.venv/lib/python3.11/site-packages (from haystack-ai->ragas-haystack) (0.10.0)\n",
      "Requirement already satisfied: jinja2 in ./.venv/lib/python3.11/site-packages (from haystack-ai->ragas-haystack) (3.1.6)\n",
      "Requirement already satisfied: jsonschema in ./.venv/lib/python3.11/site-packages (from haystack-ai->ragas-haystack) (4.23.0)\n",
      "Requirement already satisfied: lazy-imports in ./.venv/lib/python3.11/site-packages (from haystack-ai->ragas-haystack) (0.4.0)\n",
      "Requirement already satisfied: more-itertools in ./.venv/lib/python3.11/site-packages (from haystack-ai->ragas-haystack) (10.7.0)\n",
      "Requirement already satisfied: networkx in ./.venv/lib/python3.11/site-packages (from haystack-ai->ragas-haystack) (3.4.2)\n",
      "Requirement already satisfied: posthog!=3.12.0 in ./.venv/lib/python3.11/site-packages (from haystack-ai->ragas-haystack) (4.0.1)\n",
      "Requirement already satisfied: python-dateutil in ./.venv/lib/python3.11/site-packages (from haystack-ai->ragas-haystack) (2.9.0.post0)\n",
      "Requirement already satisfied: tenacity!=8.4.0 in ./.venv/lib/python3.11/site-packages (from haystack-ai->ragas-haystack) (9.1.2)\n",
      "Requirement already satisfied: six>=1.5 in ./.venv/lib/python3.11/site-packages (from posthog!=3.12.0->haystack-ai->ragas-haystack) (1.17.0)\n",
      "Requirement already satisfied: backoff>=1.10.0 in ./.venv/lib/python3.11/site-packages (from posthog!=3.12.0->haystack-ai->ragas-haystack) (2.2.1)\n",
      "Requirement already satisfied: filetype in ./.venv/lib/python3.11/site-packages (from haystack-experimental->haystack-ai->ragas-haystack) (1.2.0)\n",
      "Requirement already satisfied: MarkupSafe>=2.0 in ./.venv/lib/python3.11/site-packages (from jinja2->haystack-ai->ragas-haystack) (3.0.2)\n",
      "Requirement already satisfied: jsonschema-specifications>=2023.03.6 in ./.venv/lib/python3.11/site-packages (from jsonschema->haystack-ai->ragas-haystack) (2025.4.1)\n",
      "Requirement already satisfied: referencing>=0.28.4 in ./.venv/lib/python3.11/site-packages (from jsonschema->haystack-ai->ragas-haystack) (0.36.2)\n",
      "Requirement already satisfied: rpds-py>=0.7.1 in ./.venv/lib/python3.11/site-packages (from jsonschema->haystack-ai->ragas-haystack) (0.25.1)\n",
      "Requirement already satisfied: langchain-text-splitters<1.0.0,>=0.3.8 in ./.venv/lib/python3.11/site-packages (from langchain->ragas<0.3.0,>=0.2.0->ragas-haystack) (0.3.8)\n",
      "Requirement already satisfied: langsmith<0.4,>=0.1.17 in ./.venv/lib/python3.11/site-packages (from langchain->ragas<0.3.0,>=0.2.0->ragas-haystack) (0.3.42)\n",
      "Requirement already satisfied: SQLAlchemy<3,>=1.4 in ./.venv/lib/python3.11/site-packages (from langchain->ragas<0.3.0,>=0.2.0->ragas-haystack) (2.0.41)\n",
      "Requirement already satisfied: jsonpatch<2.0,>=1.33 in ./.venv/lib/python3.11/site-packages (from langchain-core->ragas<0.3.0,>=0.2.0->ragas-haystack) (1.33)\n",
      "Requirement already satisfied: jsonpointer>=1.9 in ./.venv/lib/python3.11/site-packages (from jsonpatch<2.0,>=1.33->langchain-core->ragas<0.3.0,>=0.2.0->ragas-haystack) (3.0.0)\n",
      "Requirement already satisfied: orjson<4.0.0,>=3.9.14 in ./.venv/lib/python3.11/site-packages (from langsmith<0.4,>=0.1.17->langchain->ragas<0.3.0,>=0.2.0->ragas-haystack) (3.10.18)\n",
      "Requirement already satisfied: requests-toolbelt<2.0.0,>=1.0.0 in ./.venv/lib/python3.11/site-packages (from langsmith<0.4,>=0.1.17->langchain->ragas<0.3.0,>=0.2.0->ragas-haystack) (1.0.0)\n",
      "Requirement already satisfied: zstandard<0.24.0,>=0.23.0 in ./.venv/lib/python3.11/site-packages (from langsmith<0.4,>=0.1.17->langchain->ragas<0.3.0,>=0.2.0->ragas-haystack) (0.23.0)\n",
      "Requirement already satisfied: greenlet>=1 in ./.venv/lib/python3.11/site-packages (from SQLAlchemy<3,>=1.4->langchain->ragas<0.3.0,>=0.2.0->ragas-haystack) (3.2.2)\n",
      "Requirement already satisfied: dataclasses-json<0.7,>=0.5.7 in ./.venv/lib/python3.11/site-packages (from langchain-community->ragas<0.3.0,>=0.2.0->ragas-haystack) (0.6.7)\n",
      "Requirement already satisfied: pydantic-settings<3.0.0,>=2.4.0 in ./.venv/lib/python3.11/site-packages (from langchain-community->ragas<0.3.0,>=0.2.0->ragas-haystack) (2.9.1)\n",
      "Requirement already satisfied: httpx-sse<1.0.0,>=0.4.0 in ./.venv/lib/python3.11/site-packages (from langchain-community->ragas<0.3.0,>=0.2.0->ragas-haystack) (0.4.0)\n",
      "Requirement already satisfied: marshmallow<4.0.0,>=3.18.0 in ./.venv/lib/python3.11/site-packages (from dataclasses-json<0.7,>=0.5.7->langchain-community->ragas<0.3.0,>=0.2.0->ragas-haystack) (3.26.1)\n",
      "Requirement already satisfied: typing-inspect<1,>=0.4.0 in ./.venv/lib/python3.11/site-packages (from dataclasses-json<0.7,>=0.5.7->langchain-community->ragas<0.3.0,>=0.2.0->ragas-haystack) (0.9.0)\n",
      "Requirement already satisfied: python-dotenv>=0.21.0 in ./.venv/lib/python3.11/site-packages (from pydantic-settings<3.0.0,>=2.4.0->langchain-community->ragas<0.3.0,>=0.2.0->ragas-haystack) (1.1.0)\n",
      "Requirement already satisfied: mypy-extensions>=0.3.0 in ./.venv/lib/python3.11/site-packages (from typing-inspect<1,>=0.4.0->dataclasses-json<0.7,>=0.5.7->langchain-community->ragas<0.3.0,>=0.2.0->ragas-haystack) (1.1.0)\n",
      "Requirement already satisfied: regex>=2022.1.18 in ./.venv/lib/python3.11/site-packages (from tiktoken->ragas<0.3.0,>=0.2.0->ragas-haystack) (2024.11.6)\n",
      "Requirement already satisfied: pytz>=2020.1 in ./.venv/lib/python3.11/site-packages (from pandas->datasets->ragas<0.3.0,>=0.2.0->ragas-haystack) (2025.2)\n",
      "Requirement already satisfied: tzdata>=2022.7 in ./.venv/lib/python3.11/site-packages (from pandas->datasets->ragas<0.3.0,>=0.2.0->ragas-haystack) (2025.2)\n",
      "Note: you may need to restart the kernel to use updated packages.\n",
      "Note: you may need to restart the kernel to use updated packages.\n",
      "Requirement already satisfied: hf_xet in ./.venv/lib/python3.11/site-packages (1.1.2)\n",
      "Note: you may need to restart the kernel to use updated packages.\n",
      "Requirement already satisfied: ollama-haystack==2.4.2 in ./.venv/lib/python3.11/site-packages (2.4.2)\n",
      "Requirement already satisfied: haystack-ai in ./.venv/lib/python3.11/site-packages (from ollama-haystack==2.4.2) (2.13.2)\n",
      "Requirement already satisfied: ollama>=0.4.0 in ./.venv/lib/python3.11/site-packages (from ollama-haystack==2.4.2) (0.4.8)\n",
      "Requirement already satisfied: pydantic in ./.venv/lib/python3.11/site-packages (from ollama-haystack==2.4.2) (2.11.4)\n",
      "Requirement already satisfied: httpx<0.29,>=0.27 in ./.venv/lib/python3.11/site-packages (from ollama>=0.4.0->ollama-haystack==2.4.2) (0.28.1)\n",
      "Requirement already satisfied: anyio in ./.venv/lib/python3.11/site-packages (from httpx<0.29,>=0.27->ollama>=0.4.0->ollama-haystack==2.4.2) (4.9.0)\n",
      "Requirement already satisfied: certifi in ./.venv/lib/python3.11/site-packages (from httpx<0.29,>=0.27->ollama>=0.4.0->ollama-haystack==2.4.2) (2025.4.26)\n",
      "Requirement already satisfied: httpcore==1.* in ./.venv/lib/python3.11/site-packages (from httpx<0.29,>=0.27->ollama>=0.4.0->ollama-haystack==2.4.2) (1.0.9)\n",
      "Requirement already satisfied: idna in ./.venv/lib/python3.11/site-packages (from httpx<0.29,>=0.27->ollama>=0.4.0->ollama-haystack==2.4.2) (3.10)\n",
      "Requirement already satisfied: h11>=0.16 in ./.venv/lib/python3.11/site-packages (from httpcore==1.*->httpx<0.29,>=0.27->ollama>=0.4.0->ollama-haystack==2.4.2) (0.16.0)\n",
      "Requirement already satisfied: annotated-types>=0.6.0 in ./.venv/lib/python3.11/site-packages (from pydantic->ollama-haystack==2.4.2) (0.7.0)\n",
      "Requirement already satisfied: pydantic-core==2.33.2 in ./.venv/lib/python3.11/site-packages (from pydantic->ollama-haystack==2.4.2) (2.33.2)\n",
      "Requirement already satisfied: typing-extensions>=4.12.2 in ./.venv/lib/python3.11/site-packages (from pydantic->ollama-haystack==2.4.2) (4.13.2)\n",
      "Requirement already satisfied: typing-inspection>=0.4.0 in ./.venv/lib/python3.11/site-packages (from pydantic->ollama-haystack==2.4.2) (0.4.0)\n",
      "Requirement already satisfied: sniffio>=1.1 in ./.venv/lib/python3.11/site-packages (from anyio->httpx<0.29,>=0.27->ollama>=0.4.0->ollama-haystack==2.4.2) (1.3.1)\n",
      "Requirement already satisfied: haystack-experimental in ./.venv/lib/python3.11/site-packages (from haystack-ai->ollama-haystack==2.4.2) (0.10.0)\n",
      "Requirement already satisfied: jinja2 in ./.venv/lib/python3.11/site-packages (from haystack-ai->ollama-haystack==2.4.2) (3.1.6)\n",
      "Requirement already satisfied: jsonschema in ./.venv/lib/python3.11/site-packages (from haystack-ai->ollama-haystack==2.4.2) (4.23.0)\n",
      "Requirement already satisfied: lazy-imports in ./.venv/lib/python3.11/site-packages (from haystack-ai->ollama-haystack==2.4.2) (0.4.0)\n",
      "Requirement already satisfied: more-itertools in ./.venv/lib/python3.11/site-packages (from haystack-ai->ollama-haystack==2.4.2) (10.7.0)\n",
      "Requirement already satisfied: networkx in ./.venv/lib/python3.11/site-packages (from haystack-ai->ollama-haystack==2.4.2) (3.4.2)\n",
      "Requirement already satisfied: numpy in ./.venv/lib/python3.11/site-packages (from haystack-ai->ollama-haystack==2.4.2) (2.2.6)\n",
      "Requirement already satisfied: openai>=1.56.1 in ./.venv/lib/python3.11/site-packages (from haystack-ai->ollama-haystack==2.4.2) (1.79.0)\n",
      "Requirement already satisfied: posthog!=3.12.0 in ./.venv/lib/python3.11/site-packages (from haystack-ai->ollama-haystack==2.4.2) (4.0.1)\n",
      "Requirement already satisfied: python-dateutil in ./.venv/lib/python3.11/site-packages (from haystack-ai->ollama-haystack==2.4.2) (2.9.0.post0)\n",
      "Requirement already satisfied: pyyaml in ./.venv/lib/python3.11/site-packages (from haystack-ai->ollama-haystack==2.4.2) (6.0.2)\n",
      "Requirement already satisfied: requests in ./.venv/lib/python3.11/site-packages (from haystack-ai->ollama-haystack==2.4.2) (2.32.3)\n",
      "Requirement already satisfied: tenacity!=8.4.0 in ./.venv/lib/python3.11/site-packages (from haystack-ai->ollama-haystack==2.4.2) (9.1.2)\n",
      "Requirement already satisfied: tqdm in ./.venv/lib/python3.11/site-packages (from haystack-ai->ollama-haystack==2.4.2) (4.67.1)\n",
      "Requirement already satisfied: distro<2,>=1.7.0 in ./.venv/lib/python3.11/site-packages (from openai>=1.56.1->haystack-ai->ollama-haystack==2.4.2) (1.9.0)\n",
      "Requirement already satisfied: jiter<1,>=0.4.0 in ./.venv/lib/python3.11/site-packages (from openai>=1.56.1->haystack-ai->ollama-haystack==2.4.2) (0.10.0)\n",
      "Requirement already satisfied: six>=1.5 in ./.venv/lib/python3.11/site-packages (from posthog!=3.12.0->haystack-ai->ollama-haystack==2.4.2) (1.17.0)\n",
      "Requirement already satisfied: backoff>=1.10.0 in ./.venv/lib/python3.11/site-packages (from posthog!=3.12.0->haystack-ai->ollama-haystack==2.4.2) (2.2.1)\n",
      "Requirement already satisfied: charset-normalizer<4,>=2 in ./.venv/lib/python3.11/site-packages (from requests->haystack-ai->ollama-haystack==2.4.2) (3.4.2)\n",
      "Requirement already satisfied: urllib3<3,>=1.21.1 in ./.venv/lib/python3.11/site-packages (from requests->haystack-ai->ollama-haystack==2.4.2) (2.4.0)\n",
      "Requirement already satisfied: filetype in ./.venv/lib/python3.11/site-packages (from haystack-experimental->haystack-ai->ollama-haystack==2.4.2) (1.2.0)\n",
      "Requirement already satisfied: MarkupSafe>=2.0 in ./.venv/lib/python3.11/site-packages (from jinja2->haystack-ai->ollama-haystack==2.4.2) (3.0.2)\n",
      "Requirement already satisfied: attrs>=22.2.0 in ./.venv/lib/python3.11/site-packages (from jsonschema->haystack-ai->ollama-haystack==2.4.2) (25.3.0)\n",
      "Requirement already satisfied: jsonschema-specifications>=2023.03.6 in ./.venv/lib/python3.11/site-packages (from jsonschema->haystack-ai->ollama-haystack==2.4.2) (2025.4.1)\n",
      "Requirement already satisfied: referencing>=0.28.4 in ./.venv/lib/python3.11/site-packages (from jsonschema->haystack-ai->ollama-haystack==2.4.2) (0.36.2)\n",
      "Requirement already satisfied: rpds-py>=0.7.1 in ./.venv/lib/python3.11/site-packages (from jsonschema->haystack-ai->ollama-haystack==2.4.2) (0.25.1)\n",
      "Note: you may need to restart the kernel to use updated packages.\n",
      "Requirement already satisfied: tqdm in ./.venv/lib/python3.11/site-packages (4.67.1)\n",
      "Note: you may need to restart the kernel to use updated packages.\n"
     ]
    }
   ],
   "source": [
    "import os\n",
    "# Setting temp dir to /srv/data directory, as it otherwise fills up the home directory too much\n",
    "# Just comment out on machines that are not \"Goober\"\n",
    "os.environ[\"TMPDIR\"] = \"/srv/data/tmp\"\n",
    "os.makedirs(\"/srv/data/tmp\", exist_ok=True)\n",
    "\n",
    "%pip install haystack-ai\n",
    "%pip install ragas-haystack\n",
    "%pip install nltk\n",
    "%pip install openai\n",
    "%pip install pandas\n",
    "%pip install ragas-haystack\n",
    "%pip install sentence-transformers>=3.0.0\n",
    "%pip install hf_xet\n",
    "%pip install ollama-haystack==2.4.2\n",
    "%pip install tqdm # For Progress Bar"
   ]
  },
  {
   "cell_type": "code",
   "execution_count": 1,
   "id": "7ef9a21e",
   "metadata": {},
   "outputs": [],
   "source": [
    "import os\n",
    "import pandas as pd\n",
    "from haystack.document_stores.in_memory import InMemoryDocumentStore\n",
    "import importlib\n",
    "from haystack.components.evaluators import DocumentMRREvaluator, DocumentMAPEvaluator, DocumentRecallEvaluator\n",
    "from tqdm import tqdm\n",
    "tqdm.pandas()\n",
    "import logging\n",
    "\n",
    "logging.basicConfig(\n",
    "    level=logging.INFO,\n",
    "    format='%(asctime)s %(levelname)s %(message)s',\n",
    "    datefmt='%H:%M:%S'\n",
    ")"
   ]
  },
  {
   "cell_type": "code",
   "execution_count": 2,
   "id": "25347f02",
   "metadata": {},
   "outputs": [],
   "source": [
    "from config.secret import OPENAI_API_KEY\n",
    "os.environ[\"OPENAI_API_KEY\"] = OPENAI_API_KEY\n",
    "\n",
    "os.environ[\"EMBEDDING_MODEL_NAME\"] = \"Qwen/Qwen3-Embedding-4B\"\n",
    "os.environ[\"SENTENCE_TRANSFORMERS_HOME\"] = \"./model-assets/sentence-transformers\"\n",
    "os.environ[\"EMBEDDING_MODEL_TOP_K\"] = \"10\"\n",
    "\n",
    "os.environ[\"LLM_NAME\"] = \"gemma3:12b\"\n",
    "os.environ[\"LLM_CONTEXT_SIZE\"] = \"8192\""
   ]
  },
  {
   "cell_type": "code",
   "execution_count": null,
   "id": "24275cb1",
   "metadata": {},
   "outputs": [],
   "source": [
    "df = pd.read_pickle(\"data/qa_with_docs_flat/question_answers_docs_line_1_0_dataset_flat.pkl\")\n",
    "all_documents = pd.read_pickle(\"data/all_documents.pkl\")[\"document\"].tolist()"
   ]
  },
  {
   "cell_type": "code",
   "execution_count": 5,
   "id": "a4d21e62",
   "metadata": {},
   "outputs": [
    {
     "name": "stdout",
     "output_type": "stream",
     "text": [
      "                                            question  \\\n",
      "0  Wie läuft eine äußere Wendung ab und was passi...   \n",
      "1  Und wie lange dauert dieser Eingriff normalerw...   \n",
      "2  Ey, wie machen die eigentlich so 'ne äußere We...   \n",
      "3  How is an external version done and what happe...   \n",
      "4  Können Sie mir erklären, wie eine äußere Wendu...   \n",
      "\n",
      "                                          references  \\\n",
      "0  [Eine äußere Wendung findet in der Regel in ei...   \n",
      "1  [Eine äußere Wendung findet in der Regel in ei...   \n",
      "2  [Eine äußere Wendung findet in der Regel in ei...   \n",
      "3  [Eine äußere Wendung findet in der Regel in ei...   \n",
      "4  [Eine äußere Wendung findet in der Regel in ei...   \n",
      "\n",
      "                                         groundTruth         source_file  \\\n",
      "0  Eine äußere Wendung findet ambulant in einer K...  Äußere Wendung.md   \n",
      "1  Eine äußere Wendung findet ambulant in einer K...  Äußere Wendung.md   \n",
      "2  Eine äußere Wendung findet ambulant in einer K...  Äußere Wendung.md   \n",
      "3  Eine äußere Wendung findet ambulant in einer K...  Äußere Wendung.md   \n",
      "4  Eine äußere Wendung findet ambulant in einer K...  Äußere Wendung.md   \n",
      "\n",
      "                                           documents             variant  \\\n",
      "0  [Document(id=ea0c518b7c51e474b09770e8db9709652...             default   \n",
      "1  [Document(id=ea0c518b7c51e474b09770e8db9709652...          contextual   \n",
      "2  [Document(id=ea0c518b7c51e474b09770e8db9709652...               slang   \n",
      "3  [Document(id=ea0c518b7c51e474b09770e8db9709652...             english   \n",
      "4  [Document(id=ea0c518b7c51e474b09770e8db9709652...  german-variation-1   \n",
      "\n",
      "                                       prev_messages  \n",
      "0                                                 []  \n",
      "1  [Wie läuft eine äußere Wendung ab?, Bei der äu...  \n",
      "2                                                 []  \n",
      "3                                                 []  \n",
      "4                                                 []  \n"
     ]
    }
   ],
   "source": [
    "print(df.head())"
   ]
  },
  {
   "cell_type": "markdown",
   "id": "be9433dc",
   "metadata": {},
   "source": [
    "## Setup Retrieval Pipelines\n",
    "\n",
    "Sets up the basic / hybrid RAG pipelines. These can then be used later in combintation with the different indexing methods from before to evaluate different RAG setups."
   ]
  },
  {
   "cell_type": "code",
   "execution_count": 6,
   "id": "b496eeb4",
   "metadata": {},
   "outputs": [],
   "source": [
    "base_indexing_store = InMemoryDocumentStore.load_from_disk(f\"data/document_stores/{os.environ['EMBEDDING_MODEL_NAME']}/base_indexing_store.json\")\n",
    "context_indexing_store = InMemoryDocumentStore.load_from_disk(f\"data/document_stores/{os.environ['EMBEDDING_MODEL_NAME']}/context_indexing_store.json\")"
   ]
  },
  {
   "cell_type": "code",
   "execution_count": 56,
   "id": "8a5c07f9",
   "metadata": {},
   "outputs": [
    {
     "data": {
      "text/plain": [
       "[]"
      ]
     },
     "execution_count": 56,
     "metadata": {},
     "output_type": "execute_result"
    }
   ],
   "source": [
    "context_indexing_store.filter_documents()"
   ]
  },
  {
   "cell_type": "code",
   "execution_count": 55,
   "id": "d3653f5a",
   "metadata": {},
   "outputs": [
    {
     "data": {
      "text/plain": [
       "[Document(id=cd20e2851eabc57193d0701ee1feb0bb91b1baea70e6921324ad565fd656bee1, content: 'Weshalb wird eine äußere Wendung in Erwägung gezogen?\n",
       " \n",
       " ', meta: {'title': 'Äußere Wendung.md', 'source_id': '7ae1e3f0-dd60-4371-ab7b-aeeebef45f64', 'page_number': 1, 'split_id': 0, 'split_idx_start': 0}, embedding: vector of size 2560),\n",
       " Document(id=064cc49648b2da93bbbdf3c5eff49d64d533c6036a3a6345ac652f9cbd710884, content: 'Im Laufe der Schwangerschaft kann das ungeborene Kind seine Position im Mutterleib mehrfach veränder...', meta: {'title': 'Äußere Wendung.md', 'source_id': '7ae1e3f0-dd60-4371-ab7b-aeeebef45f64', 'page_number': 1, 'split_id': 1, 'split_idx_start': 55}, embedding: vector of size 2560),\n",
       " Document(id=8cf370d93ab8a2d239a9733288e705d0f44ac146396abb75955aa908aff7694b, content: 'Verbleibt das Kind hingegen am Schwangerschaftsende in einer anderen Haltung – etwa mit dem Becken n...', meta: {'title': 'Äußere Wendung.md', 'source_id': '7ae1e3f0-dd60-4371-ab7b-aeeebef45f64', 'page_number': 1, 'split_id': 2, 'split_idx_start': 507}, embedding: vector of size 2560),\n",
       " Document(id=829095ebf88b7c5b70c985ac154e04a26b3ece69a75afe0a5ecfff57188c1332, content: 'Neben der äußeren Wendung existieren alternative Ansätze aus dem Bereich der Komplementärmedizin. Da...', meta: {'title': 'Äußere Wendung.md', 'source_id': '7ae1e3f0-dd60-4371-ab7b-aeeebef45f64', 'page_number': 1, 'split_id': 3, 'split_idx_start': 902}, embedding: vector of size 2560),\n",
       " Document(id=ea0c518b7c51e474b09770e8db97096528008239dbb0c497b6ce041cf5246496, content: 'Eine äußere Wendung findet in der Regel in einer Klinik statt und wird ambulant durchgeführt. Um die...', meta: {'title': 'Äußere Wendung.md', 'source_id': '7ae1e3f0-dd60-4371-ab7b-aeeebef45f64', 'page_number': 1, 'split_id': 4, 'split_idx_start': 1622}, embedding: vector of size 2560),\n",
       " Document(id=6d52fd21d8d1869483753745e9229b112438f2064282caabb96e210a2e67c5aa, content: 'Zunächst wird per Ultraschall die genaue Position des Kindes (etwa Beckenendlage, Querlage oder Fußl...', meta: {'title': 'Äußere Wendung.md', 'source_id': '7ae1e3f0-dd60-4371-ab7b-aeeebef45f64', 'page_number': 1, 'split_id': 5, 'split_idx_start': 2189}, embedding: vector of size 2560),\n",
       " Document(id=8f122386cd183d10454e85bd7ec40be6fe72090e29cf1cf692d437ffae473aca, content: 'Die Entscheidung, ob die Wendung tatsächlich durchgeführt wird, hängt vom Ergebnis dieser Voruntersu...', meta: {'title': 'Äußere Wendung.md', 'source_id': '7ae1e3f0-dd60-4371-ab7b-aeeebef45f64', 'page_number': 1, 'split_id': 6, 'split_idx_start': 2734}, embedding: vector of size 2560),\n",
       " Document(id=aaa11ed03bf9527e30c241b3788ea32987abeab51f94ba967d2f01b306447ad7, content: 'In der Regel ist keine Schmerzmedikation notwendig. In manchen Fällen kann jedoch eine rückenmarksna...', meta: {'title': 'Äußere Wendung.md', 'source_id': '7ae1e3f0-dd60-4371-ab7b-aeeebef45f64', 'page_number': 1, 'split_id': 7, 'split_idx_start': 3043}, embedding: vector of size 2560),\n",
       " Document(id=43a6551c09c72b6cf8ae742fd59b2e3a57b201be16525c571e3e65e26686661d, content: 'Die eigentliche Wendung wird von einer erfahrenen Ärztin oder einem erfahrenen Arzt, manchmal auch i...', meta: {'title': 'Äußere Wendung.md', 'source_id': '7ae1e3f0-dd60-4371-ab7b-aeeebef45f64', 'page_number': 1, 'split_id': 8, 'split_idx_start': 3273}, embedding: vector of size 2560),\n",
       " Document(id=894be1c4e27096c71d750e872638e3aefe4d81f0bdf27370039332da90bfcbcc, content: 'Die Prozedur ist in der Regel nicht schmerzhaft, allerdings kann der Druck auf den Bauch als unangen...', meta: {'title': 'Äußere Wendung.md', 'source_id': '7ae1e3f0-dd60-4371-ab7b-aeeebef45f64', 'page_number': 1, 'split_id': 9, 'split_idx_start': 3811}, embedding: vector of size 2560),\n",
       " Document(id=aa9657440ba02ea5ad03f5e46fb0630230629214987e913265e7e692d3adc2f8, content: 'Nach der Wendung wird überprüft, ob Wehen eingesetzt haben. Die kindlichen Herztöne werden weiter üb...', meta: {'title': 'Äußere Wendung.md', 'source_id': '7ae1e3f0-dd60-4371-ab7b-aeeebef45f64', 'page_number': 1, 'split_id': 10, 'split_idx_start': 3934}, embedding: vector of size 2560),\n",
       " Document(id=6bdc4396b56ae161fb90971a227b9f050b4e7fa1db284ebbee90a23d746c3dd9, content: 'Der optimale Zeitpunkt für eine äußere Wendung liegt meist in der 37. oder 38. Schwangerschaftswoche...', meta: {'title': 'Äußere Wendung.md', 'source_id': '7ae1e3f0-dd60-4371-ab7b-aeeebef45f64', 'page_number': 1, 'split_id': 11, 'split_idx_start': 4229}, embedding: vector of size 2560),\n",
       " Document(id=8d9fec50f0c97411d4902550d2a9a1509f3a3d968f974d705b0eb440afe12f68, content: 'Trotz größter Vorsicht kann es bei der äußeren Wendung zu Komplikationen kommen, in Einzelfällen sog...', meta: {'title': 'Äußere Wendung.md', 'source_id': '7ae1e3f0-dd60-4371-ab7b-aeeebef45f64', 'page_number': 1, 'split_id': 12, 'split_idx_start': 4515}, embedding: vector of size 2560),\n",
       " Document(id=992d28b4148348077305898b1ace2c60526e2b7be40c5c3af2cade1d6eb0216c, content: 'In seltenen Fällen kann ein sofortiger Kaiserschnitt notwendig werden, etwa bei auffälligen kindlich...', meta: {'title': 'Äußere Wendung.md', 'source_id': '7ae1e3f0-dd60-4371-ab7b-aeeebef45f64', 'page_number': 1, 'split_id': 13, 'split_idx_start': 4809}, embedding: vector of size 2560),\n",
       " Document(id=2dc9865b7f5ec04ecf95099e3635b07623ad6267374f9db5cd4b6faedba624e7, content: 'Die Erfolgsaussichten für eine äußere Wendung sind in vielen Fällen gut, jedoch nicht garantiert. Fa...', meta: {'title': 'Äußere Wendung.md', 'source_id': '7ae1e3f0-dd60-4371-ab7b-aeeebef45f64', 'page_number': 1, 'split_id': 14, 'split_idx_start': 6269}, embedding: vector of size 2560),\n",
       " Document(id=57f00c6369558d8b7964763a8f229b3b0a65346d2c934ff15d436cd3befda163, content: 'Wenn ein erster Versuch nicht gelingt, kann in Absprache mit der Ärztin/dem Arzt ein weiterer Anlauf...', meta: {'title': 'Äußere Wendung.md', 'source_id': '7ae1e3f0-dd60-4371-ab7b-aeeebef45f64', 'page_number': 1, 'split_id': 15, 'split_idx_start': 6507}, embedding: vector of size 2560),\n",
       " Document(id=fb5c0a0be64d8a09a26eae1a40145bd0a36a6df4933b04bb53905d466d76200d, content: 'Auch nach einer erfolgreichen Wendung besteht die Möglichkeit, dass sich das Kind erneut zurück in d...', meta: {'title': 'Äußere Wendung.md', 'source_id': '7ae1e3f0-dd60-4371-ab7b-aeeebef45f64', 'page_number': 1, 'split_id': 16, 'split_idx_start': 6640}, embedding: vector of size 2560),\n",
       " Document(id=ce8ce7f1546c1871e712abc962aa8dec928a32f220338685ec0e63deab04c20a, content: 'Wann sollte auf eine Wendung verzichtet werden?\n",
       " \n",
       " ', meta: {'title': 'Äußere Wendung.md', 'source_id': '7ae1e3f0-dd60-4371-ab7b-aeeebef45f64', 'page_number': 1, 'split_id': 17, 'split_idx_start': 6858}, embedding: vector of size 2560),\n",
       " Document(id=b0328fb22729525468c81e23002b9577fba20bb07c3df9205779330118f642f1, content: 'Bestimmte Bedingungen schließen eine äußere Wendung aus oder machen sie riskant – etwa, wenn die Pla...', meta: {'title': 'Äußere Wendung.md', 'source_id': '7ae1e3f0-dd60-4371-ab7b-aeeebef45f64', 'page_number': 1, 'split_id': 18, 'split_idx_start': 6907}, embedding: vector of size 2560),\n",
       " Document(id=15074fa5c17c66353375ea63f57d1e6653e524f38391f52b49fa25abef0af534, content: 'Auch gesundheitliche Einschränkungen bei Mutter oder Kind, etwa Fehlbildungen der Gebärmutter, Infek...', meta: {'title': 'Äußere Wendung.md', 'source_id': '7ae1e3f0-dd60-4371-ab7b-aeeebef45f64', 'page_number': 1, 'split_id': 19, 'split_idx_start': 7133}, embedding: vector of size 2560),\n",
       " Document(id=32a47a42b8dbbbe94e2752cd1b2621e6f845383bc8dbb4d686b57f1ff906fe2b, content: 'Frauen mit Rhesus-negativem Blut können ebenfalls eine äußere Wendung durchführen lassen. Da dabei k...', meta: {'title': 'Äußere Wendung.md', 'source_id': '7ae1e3f0-dd60-4371-ab7b-aeeebef45f64', 'page_number': 1, 'split_id': 20, 'split_idx_start': 7638}, embedding: vector of size 2560),\n",
       " Document(id=e77293359399c031c2b229cce73823b65106f7c7edbb3b19464a81b8a683f697, content: 'Bitte bringen Sie zum Beratungsgespräch unbedingt Ihren Mutterpass mit.\n",
       " \n",
       " ', meta: {'title': 'Äußere Wendung.md', 'source_id': '7ae1e3f0-dd60-4371-ab7b-aeeebef45f64', 'page_number': 1, 'split_id': 21, 'split_idx_start': 7968}, embedding: vector of size 2560),\n",
       " Document(id=0770152876f9100b527371a25a2e37a534668db7d9da8eaa28d0cf23917cd6cf, content: 'Vor dem Eingriff ist es in manchen Fällen erforderlich, für einige Stunden nichts zu essen oder zu t...', meta: {'title': 'Äußere Wendung.md', 'source_id': '7ae1e3f0-dd60-4371-ab7b-aeeebef45f64', 'page_number': 1, 'split_id': 22, 'split_idx_start': 8041}, embedding: vector of size 2560),\n",
       " Document(id=096c9c376aa848e399fb92847404656eca5216455e0877806ba604e625d625a6, content: 'Ein Kaiserschnitt kann aus unterschiedlichen Gründen und mit variierender Dringlichkeit notwendig we...', meta: {'title': 'Kaiserschnitt.md', 'source_id': 'cec11350-e783-4477-b76e-bd9afa5342c5', 'page_number': 1, 'split_id': 0, 'split_idx_start': 0}, embedding: vector of size 2560),\n",
       " Document(id=5fdd2b2ba29bf2cc8729fe36f2192acfa7352ef34b505b2ac4b077e44846f44d, content: 'Geplanter Kaiserschnitt ohne akuten Handlungsbedarf, z. B. bei bekannter Querlage oder nach mehreren...', meta: {'title': 'Kaiserschnitt.md', 'source_id': 'cec11350-e783-4477-b76e-bd9afa5342c5', 'page_number': 1, 'split_id': 1, 'split_idx_start': 438}, embedding: vector of size 2560),\n",
       " Document(id=d4fc8c10431213e8c507eba1baadea048c0ea6662359d343325009d472e0371b, content: 'Auch bei besonderen Umständen wie Beckenendlage oder einem sehr großen Kind kann ein Kaiserschnitt e...', meta: {'title': 'Kaiserschnitt.md', 'source_id': 'cec11350-e783-4477-b76e-bd9afa5342c5', 'page_number': 1, 'split_id': 2, 'split_idx_start': 937}, embedding: vector of size 2560),\n",
       " Document(id=fcda42d20cf9c518637e852e336cb5f4cb95aba25bd252e20098186d6607b507, content: 'Der Eingriff erfolgt in der Regel unter Regionalanästhesie (Spinal- oder Periduralanästhesie) oder, ...', meta: {'title': 'Kaiserschnitt.md', 'source_id': 'cec11350-e783-4477-b76e-bd9afa5342c5', 'page_number': 1, 'split_id': 3, 'split_idx_start': 1410}, embedding: vector of size 2560),\n",
       " Document(id=7a457af531a696daf3d7c1fa6d289779989d19a2fba8c14c00b23c1f49b1addd, content: 'Zur Vorbereitung wird Ihre Harnblase über einen Katheter entleert. Dann legt das OP-Team unter steri...', meta: {'title': 'Kaiserschnitt.md', 'source_id': 'cec11350-e783-4477-b76e-bd9afa5342c5', 'page_number': 1, 'split_id': 4, 'split_idx_start': 1606}, embedding: vector of size 2560),\n",
       " Document(id=3dc6f48d103838951941995047aa38c361d3cd2c6469b9751cc08a73888aeafa, content: 'Vor Beginn des Eingriffs erhalten Sie ein Antibiotikum zur Infektionsprophylaxe.\n",
       " \n",
       " ', meta: {'title': 'Kaiserschnitt.md', 'source_id': 'cec11350-e783-4477-b76e-bd9afa5342c5', 'page_number': 1, 'split_id': 5, 'split_idx_start': 1794}, embedding: vector of size 2560),\n",
       " Document(id=7565d4c7e34a94c33e4ae39a69cd1f69b72d906c32ee694b8b7b975f93e0cb74, content: 'Die Bauchdecke, der Bauchraum und anschließend die Gebärmutter werden eröffnet. Dabei wird das Geweb...', meta: {'title': 'Kaiserschnitt.md', 'source_id': 'cec11350-e783-4477-b76e-bd9afa5342c5', 'page_number': 1, 'split_id': 6, 'split_idx_start': 1876}, embedding: vector of size 2560),\n",
       " Document(id=8f7f9154fb285e91b58a091697d56b67bc2db3d620989a5b9da1380a6093a3e0, content: 'Drainagen zum Ableiten von Blut oder Wundsekret werden nur in Ausnahmefällen und bei Bedarf eingeset...', meta: {'title': 'Kaiserschnitt.md', 'source_id': 'cec11350-e783-4477-b76e-bd9afa5342c5', 'page_number': 1, 'split_id': 7, 'split_idx_start': 2460}, embedding: vector of size 2560),\n",
       " Document(id=a22ff1e65098db81c702ba1046db43441af7b9bebd4acc45e95a3143d47b7920, content: 'In besonderen Fällen, beispielsweise wenn der Kopf des Babys bereits tief im Becken liegt, kann es n...', meta: {'title': 'Kaiserschnitt.md', 'source_id': 'cec11350-e783-4477-b76e-bd9afa5342c5', 'page_number': 1, 'split_id': 8, 'split_idx_start': 2627}, embedding: vector of size 2560),\n",
       " Document(id=a319bac81337808b96709d47536ce0d6f854407ab5a58d5c843294d0f8287945, content: 'Ist der Muttermund zum Zeitpunkt des Kaiserschnitts noch verschlossen, kann er während des Eingriffs...', meta: {'title': 'Kaiserschnitt.md', 'source_id': 'cec11350-e783-4477-b76e-bd9afa5342c5', 'page_number': 1, 'split_id': 9, 'split_idx_start': 3053}, embedding: vector of size 2560),\n",
       " Document(id=5d78b1eea3f706720d531c9e81ffb30705fbf5de4851e27020b74019295ecb45, content: 'Kommt es während des Kaiserschnitts zu Komplikationen, z. B. wenn die Plazenta schwer lösbar ist ode...', meta: {'title': 'Kaiserschnitt.md', 'source_id': 'cec11350-e783-4477-b76e-bd9afa5342c5', 'page_number': 1, 'split_id': 10, 'split_idx_start': 3232}, embedding: vector of size 2560),\n",
       " Document(id=a5b3f49f9b26d88b641cc0fcf2996a8d8c6142009a39d4cf4c341ae5a56f9657, content: 'Bei Rhesus-negativer Blutgruppe der Mutter und Rhesus-positivem Kind erhalten Sie nach der Geburt ei...', meta: {'title': 'Kaiserschnitt.md', 'source_id': 'cec11350-e783-4477-b76e-bd9afa5342c5', 'page_number': 1, 'split_id': 11, 'split_idx_start': 3764}, embedding: vector of size 2560),\n",
       " Document(id=4385f766a0169a4529b42413186c7df0fe00baaa201658f285e308a0e094dab8, content: 'Wenn Sie eine dauerhafte Empfängnisverhütung durch Sterilisation wünschen, kann dieser Eingriff mit ...', meta: {'title': 'Kaiserschnitt.md', 'source_id': 'cec11350-e783-4477-b76e-bd9afa5342c5', 'page_number': 1, 'split_id': 12, 'split_idx_start': 4018}, embedding: vector of size 2560),\n",
       " Document(id=5784ac0a18014b7cdc1af2718ef6b9f3c081b92758b73d0aac6306ed242a274f, content: 'Trotz größter Sorgfalt kann es bei einem Kaiserschnitt – wie bei jeder Operation – zu ernsthaften, t...', meta: {'title': 'Kaiserschnitt.md', 'source_id': 'cec11350-e783-4477-b76e-bd9afa5342c5', 'page_number': 1, 'split_id': 13, 'split_idx_start': 4382}, embedding: vector of size 2560),\n",
       " Document(id=41acb966fc18f94abc184a9091789b0262b0a80f76fc131ee002f5ebd181bee1, content: 'Verletzungen benachbarter Organe:\n",
       " Bei der Operation können Blutgefäße, Harnblase, Harnleiter, Darm o...', meta: {'title': 'Kaiserschnitt.md', 'source_id': 'cec11350-e783-4477-b76e-bd9afa5342c5', 'page_number': 1, 'split_id': 14, 'split_idx_start': 4713}, embedding: vector of size 2560),\n",
       " Document(id=a94e8a25f9d962aab31edf5c5579e325cf1484fc6fd49bef1ca88a50a81b7134, content: 'Starke Blutungen oder Nachblutungen:\n",
       " Massive Blutverluste können eine Bluttransfusion erforderlich m...', meta: {'title': 'Kaiserschnitt.md', 'source_id': 'cec11350-e783-4477-b76e-bd9afa5342c5', 'page_number': 1, 'split_id': 15, 'split_idx_start': 5086}, embedding: vector of size 2560),\n",
       " Document(id=26a8237fc65c3066a60867bd3ecd85f6c533ab2782e22225ad36669abe4c75f1, content: 'Versagen der Gebärmutterkontraktion (Atonie):\n",
       " Zieht sich die Gebärmutter nach der Entbindung nicht a...', meta: {'title': 'Kaiserschnitt.md', 'source_id': 'cec11350-e783-4477-b76e-bd9afa5342c5', 'page_number': 1, 'split_id': 16, 'split_idx_start': 5596}, embedding: vector of size 2560),\n",
       " Document(id=2cb6743bae701e102023385c90210182973176a22bce07a2b6ed769ef6224775, content: 'Blasenfunktionsstörungen:\n",
       " Eine vorübergehende Störung der Blasenentleerung ist möglich und wird meis...', meta: {'title': 'Kaiserschnitt.md', 'source_id': 'cec11350-e783-4477-b76e-bd9afa5342c5', 'page_number': 1, 'split_id': 17, 'split_idx_start': 5995}, embedding: vector of size 2560),\n",
       " Document(id=2e9347833204759a5d25f580b06148ac3bb1f0f61d188e72f3933c91d042955a, content: 'Infektionen:\n",
       " Entzündungen der Gebärmutter, Harnwege, des Bauchfells oder der Lunge können vorkommen....', meta: {'title': 'Kaiserschnitt.md', 'source_id': 'cec11350-e783-4477-b76e-bd9afa5342c5', 'page_number': 1, 'split_id': 18, 'split_idx_start': 6261}, embedding: vector of size 2560),\n",
       " Document(id=4388659e71bb758bda5425822f4733bb252cb6dbb711d00734d48d820f615c54, content: 'Schwere Infektionen des Bauchraums:\n",
       " Bei ausgedehnter Gebärmutter- oder Bauchraumentzündung kann eine...', meta: {'title': 'Kaiserschnitt.md', 'source_id': 'cec11350-e783-4477-b76e-bd9afa5342c5', 'page_number': 1, 'split_id': 19, 'split_idx_start': 6576}, embedding: vector of size 2560),\n",
       " Document(id=e02d02e67a70c9b7697396b8715a9418c1db5e053835fbfc1e29eba6efb1f33d, content: 'Wundheilungsstörungen:\n",
       " Infektionen der OP-Wunde können Nachbehandlungen wie Spülung, Drainage oder e...', meta: {'title': 'Kaiserschnitt.md', 'source_id': 'cec11350-e783-4477-b76e-bd9afa5342c5', 'page_number': 1, 'split_id': 20, 'split_idx_start': 6879}, embedding: vector of size 2560),\n",
       " Document(id=e97a6a1877c25b168b99ae5fe2f27a781000f892addf4dc1d1bcea4808823e9d, content: 'Eileiterschädigungen:\n",
       " Entzündungen können in seltenen Fällen die Eileiter verkleben, was eine später...', meta: {'title': 'Kaiserschnitt.md', 'source_id': 'cec11350-e783-4477-b76e-bd9afa5342c5', 'page_number': 1, 'split_id': 21, 'split_idx_start': 7165}, embedding: vector of size 2560),\n",
       " Document(id=18194c1657a6ac1c9b6f08a697cfd6d60bdc2f79d3a09fb1faa765f7f86e569e, content: 'Darmverschluss:\n",
       " Durch Verwachsungen im Bauchraum kann – auch Jahre später – ein Darmverschluss entst...', meta: {'title': 'Kaiserschnitt.md', 'source_id': 'cec11350-e783-4477-b76e-bd9afa5342c5', 'page_number': 1, 'split_id': 22, 'split_idx_start': 7336}, embedding: vector of size 2560),\n",
       " Document(id=3254a88f4298d8d2731ea2cff5c410d88d7025ff1f14d7bf4b373b87bc769aa7, content: 'Thrombose und Embolie:\n",
       " Nach der Operation kann es zur Bildung von Blutgerinnseln in den Venen kommen...', meta: {'title': 'Kaiserschnitt.md', 'source_id': 'cec11350-e783-4477-b76e-bd9afa5342c5', 'page_number': 1, 'split_id': 23, 'split_idx_start': 7492}, embedding: vector of size 2560),\n",
       " Document(id=5cdcd0ae449be4a1ff0f57fb27e66ea549303244a80e86840bb8b501e70cad89, content: 'Fruchtwasserembolie:\n",
       " In sehr seltenen Fällen kann Fruchtwasser in den Blutkreislauf gelangen und ein...', meta: {'title': 'Kaiserschnitt.md', 'source_id': 'cec11350-e783-4477-b76e-bd9afa5342c5', 'page_number': 1, 'split_id': 24, 'split_idx_start': 7874}, embedding: vector of size 2560),\n",
       " Document(id=ce00174048a3e0f052fdce1739cdf7034dc6e8684d2556877c3f6d4768b05c4f, content: 'Lagerungsschäden und Nervenverletzungen:\n",
       " Durch Lagerung während des Eingriffs oder begleitende Maßna...', meta: {'title': 'Kaiserschnitt.md', 'source_id': 'cec11350-e783-4477-b76e-bd9afa5342c5', 'page_number': 1, 'split_id': 25, 'split_idx_start': 8067}, embedding: vector of size 2560),\n",
       " Document(id=86b569496f95a8479f406800276a11c304b28b23ec11978e4ca66c62e4996312, content: 'Allergien und Unverträglichkeiten:\n",
       " Reaktionen auf Medikamente, Latex oder Desinfektionsmittel können...', meta: {'title': 'Kaiserschnitt.md', 'source_id': 'cec11350-e783-4477-b76e-bd9afa5342c5', 'page_number': 1, 'split_id': 26, 'split_idx_start': 8384}, embedding: vector of size 2560),\n",
       " Document(id=834bca49cfd4ee720088560995dba4390eceb85e9fac09cff10bf6144058cfe7, content: 'Narbenendometriose:\n",
       " In Ausnahmefällen wachsen Zellen der Gebärmutterschleimhaut in der OP-Narbe oder...', meta: {'title': 'Kaiserschnitt.md', 'source_id': 'cec11350-e783-4477-b76e-bd9afa5342c5', 'page_number': 1, 'split_id': 27, 'split_idx_start': 8633}, embedding: vector of size 2560),\n",
       " Document(id=313b21810e86147b7409c4a9bd6eaeac8b764045d6250b77dc691c34f04367df, content: 'Rektusdiastase und Narbenbruch:\n",
       " Durch die Schwangerschaft können die geraden Bauchmuskeln auseinande...', meta: {'title': 'Kaiserschnitt.md', 'source_id': 'cec11350-e783-4477-b76e-bd9afa5342c5', 'page_number': 1, 'split_id': 28, 'split_idx_start': 8833}, embedding: vector of size 2560),\n",
       " Document(id=a1b7d62b9d31feef601036230e031e20678f81f589cb0cc0b5a5b9b5f6e16b73, content: 'Auch für das Neugeborene können im Zusammenhang mit einem Kaiserschnitt Risiken bestehen – sowohl ku...', meta: {'title': 'Kaiserschnitt.md', 'source_id': 'cec11350-e783-4477-b76e-bd9afa5342c5', 'page_number': 1, 'split_id': 29, 'split_idx_start': 9080}, embedding: vector of size 2560),\n",
       " Document(id=caa8a09327d5cbb8b37deeafc41ddea1f41eee718ddefa7ef466013c8c149d1f, content: 'Anpassungsstörungen nach der Geburt:\n",
       " Kinder, die per Kaiserschnitt zur Welt kommen, zeigen häufiger ...', meta: {'title': 'Kaiserschnitt.md', 'source_id': 'cec11350-e783-4477-b76e-bd9afa5342c5', 'page_number': 1, 'split_id': 30, 'split_idx_start': 9241}, embedding: vector of size 2560),\n",
       " Document(id=0b16061bc1e88fafc24a45c25d49a0f872fd19f3d8c2225f70b1d5462c3428ce, content: 'Geburtsverletzungen:\n",
       " Ist das Kind ungünstig im Becken fixiert, kann es beim Herausheben aus der Gebä...', meta: {'title': 'Kaiserschnitt.md', 'source_id': 'cec11350-e783-4477-b76e-bd9afa5342c5', 'page_number': 1, 'split_id': 31, 'split_idx_start': 9680}, embedding: vector of size 2560),\n",
       " Document(id=aaa2c6e6f69197c667bf7e1e1b72f8e619e8ebddfe74b6aecde2b7d4326cec9e, content: 'Schnittverletzungen:\n",
       " Beim Öffnen der Gebärmutter kann es sehr selten zu kleinen Verletzungen der kin...', meta: {'title': 'Kaiserschnitt.md', 'source_id': 'cec11350-e783-4477-b76e-bd9afa5342c5', 'page_number': 1, 'split_id': 32, 'split_idx_start': 9970}, embedding: vector of size 2560),\n",
       " Document(id=c873116e59dd60839ba4eb446369f461775ef4ac26f226717cfec4b66c4c2d2a, content: 'Einsatz von Saugglocke oder Zange:\n",
       " Auch bei einem Kaiserschnitt kann unter Umständen eine Saugglocke...', meta: {'title': 'Kaiserschnitt.md', 'source_id': 'cec11350-e783-4477-b76e-bd9afa5342c5', 'page_number': 1, 'split_id': 33, 'split_idx_start': 10214}, embedding: vector of size 2560),\n",
       " Document(id=de2a7b66910dec73d13b8bd548e166337b89851fef2fc9e9c17f7999e921e1bf, content: 'Langfristige gesundheitliche Einflüsse:\n",
       " Es gibt Hinweise, dass per Kaiserschnitt geborene Kinder mög...', meta: {'title': 'Kaiserschnitt.md', 'source_id': 'cec11350-e783-4477-b76e-bd9afa5342c5', 'page_number': 1, 'split_id': 34, 'split_idx_start': 10473}, embedding: vector of size 2560),\n",
       " Document(id=510e97c3819dd6f40c6dd2a4b76ccd982fa258ba0c64831e5cd1cb8135a81b9c, content: 'Ein Kaiserschnitt kann Auswirkungen auf nachfolgende Schwangerschaften und Geburten haben. Grundsätz...', meta: {'title': 'Kaiserschnitt.md', 'source_id': 'cec11350-e783-4477-b76e-bd9afa5342c5', 'page_number': 1, 'split_id': 35, 'split_idx_start': 10836}, embedding: vector of size 2560),\n",
       " Document(id=1f7be1815210a8965e92593e34388f76a4cb76814cdeff9d47c4750a45a81678, content: 'Spontangeburt nach Kaiserschnitt:\n",
       " Für eine vaginale Geburt nach vorangegangenem Kaiserschnitt müssen...', meta: {'title': 'Kaiserschnitt.md', 'source_id': 'cec11350-e783-4477-b76e-bd9afa5342c5', 'page_number': 1, 'split_id': 36, 'split_idx_start': 11141}, embedding: vector of size 2560),\n",
       " Document(id=24974446632a15f57782d56aa9fed50464df907ac3d5b6d600ebdcef7282149c, content: 'Gebärmutterriss (Uterusruptur):\n",
       " In seltenen Fällen kann sich während einer nachfolgenden Geburt die ...', meta: {'title': 'Kaiserschnitt.md', 'source_id': 'cec11350-e783-4477-b76e-bd9afa5342c5', 'page_number': 1, 'split_id': 37, 'split_idx_start': 11581}, embedding: vector of size 2560),\n",
       " Document(id=e89078a2c4b6acec5cf27446b7edef6e3bc0b8aa93ef1a5f6a63aaef70da456c, content: 'mehreren vorausgegangenen Kaiserschnitten,\n",
       " früherer Erweiterung der Gebärmutterschnittführung (z. B....', meta: {'title': 'Kaiserschnitt.md', 'source_id': 'cec11350-e783-4477-b76e-bd9afa5342c5', 'page_number': 1, 'split_id': 38, 'split_idx_start': 11857}, embedding: vector of size 2560),\n",
       " Document(id=ab38e1d8bb8e1894345eb9c23a0758c3b64b442aed6450579446845d096f8d16, content: 'Daher wird unter diesen Umständen besonders sorgfältig überwacht.\n",
       " \n",
       " ', meta: {'title': 'Kaiserschnitt.md', 'source_id': 'cec11350-e783-4477-b76e-bd9afa5342c5', 'page_number': 1, 'split_id': 39, 'split_idx_start': 12077}, embedding: vector of size 2560),\n",
       " Document(id=fd765136b56c68f6950cee3e3d90f9fc4060fffb0a0ac704de62425e35077e04, content: 'Plazentationsstörungen:\n",
       " Nach einem Kaiserschnitt treten häufiger Komplikationen mit der Plazenta auf...', meta: {'title': 'Kaiserschnitt.md', 'source_id': 'cec11350-e783-4477-b76e-bd9afa5342c5', 'page_number': 1, 'split_id': 40, 'split_idx_start': 12144}, embedding: vector of size 2560),\n",
       " Document(id=6df981678449e2d3f519cf4451da602ee528e42e4dce28b27d48a94426cc8105, content: 'Placenta praevia: die Plazenta liegt vor dem Muttermund, was Blutungen und Frühgeburten begünstigt,\n",
       " ...', meta: {'title': 'Kaiserschnitt.md', 'source_id': 'cec11350-e783-4477-b76e-bd9afa5342c5', 'page_number': 1, 'split_id': 41, 'split_idx_start': 12263}, embedding: vector of size 2560),\n",
       " Document(id=1ed50df553c9505dd8e14b9b7a7d2518cde3fba1fa7bf45440135ca3c219179e, content: 'Solche Fälle erfordern oft einen erneuten Kaiserschnitt und können zusätzliche Maßnahmen wie eine Ta...', meta: {'title': 'Kaiserschnitt.md', 'source_id': 'cec11350-e783-4477-b76e-bd9afa5342c5', 'page_number': 1, 'split_id': 42, 'split_idx_start': 12548}, embedding: vector of size 2560),\n",
       " Document(id=75487abdcb6b489d995615e67db2140214d449b77866ee6c3abce8d6fcfed7b7, content: 'Starke Nachblutungen (Atonie):\n",
       " Ein mangelndes Zusammenziehen der Gebärmutter kann nach einer Spontan...', meta: {'title': 'Kaiserschnitt.md', 'source_id': 'cec11350-e783-4477-b76e-bd9afa5342c5', 'page_number': 1, 'split_id': 43, 'split_idx_start': 12734}, embedding: vector of size 2560),\n",
       " Document(id=65e9d0bb3d75ca59edd9689d587cf7296e783c8b829535c4021351eed0820a74, content: 'Schwangerschaft in der Kaiserschnittnarbe:\n",
       " Sehr selten nistet sich eine Schwangerschaft in der frühe...', meta: {'title': 'Kaiserschnitt.md', 'source_id': 'cec11350-e783-4477-b76e-bd9afa5342c5', 'page_number': 1, 'split_id': 44, 'split_idx_start': 13090}, embedding: vector of size 2560),\n",
       " Document(id=863be031661694a5a71400fea907e1e28c83e65f79f73e9a4b84764e9e2c813a, content: 'Fruchtbarkeit nach Kaiserschnitt:\n",
       " Einige Studien deuten darauf hin, dass Frauen nach einem Kaisersch...', meta: {'title': 'Kaiserschnitt.md', 'source_id': 'cec11350-e783-4477-b76e-bd9afa5342c5', 'page_number': 1, 'split_id': 45, 'split_idx_start': 13368}, embedding: vector of size 2560),\n",
       " Document(id=e20427c4dbc6a6bba96f5d669e7c20a0f67d17a855a40b39f81ed0c5b1bb5fbf, content: 'Langzeitfolgen:\n",
       " Obwohl der Kaiserschnitt weltweit häufig durchgeführt wird, sind viele mögliche Lang...', meta: {'title': 'Kaiserschnitt.md', 'source_id': 'cec11350-e783-4477-b76e-bd9afa5342c5', 'page_number': 1, 'split_id': 46, 'split_idx_start': 13719}, embedding: vector of size 2560),\n",
       " Document(id=75cf8521595c8d1b0a168b892b37619bc393ab3db1c2925d63176a39ddc05708, content: 'Bitte beachten Sie nach der Entlassung aus der Klinik bestimmte Warnsignale, die auf Komplikationen ...', meta: {'title': 'Kaiserschnitt.md', 'source_id': 'cec11350-e783-4477-b76e-bd9afa5342c5', 'page_number': 1, 'split_id': 47, 'split_idx_start': 13884}, embedding: vector of size 2560),\n",
       " Document(id=34d7d6c87ece265af76bc986ef1811024257e2179e24d7587ef4e470798e89de, content: 'Fieber über 38 °C,\n",
       " zunehmende oder anhaltende Schmerzen im Unterbauch,\n",
       " Rötung, Schwellung oder Schme...', meta: {'title': 'Kaiserschnitt.md', 'source_id': 'cec11350-e783-4477-b76e-bd9afa5342c5', 'page_number': 1, 'split_id': 48, 'split_idx_start': 14098}, embedding: vector of size 2560),\n",
       " Document(id=87761bef503739856c9298cf70a2f64bdb4b0aa99f89dad9c1664c8a8c135ffd, content: 'Auch wenn diese Beschwerden erst einige Tage nach der Entlassung auftreten, sollten sie nicht unbeac...', meta: {'title': 'Kaiserschnitt.md', 'source_id': 'cec11350-e783-4477-b76e-bd9afa5342c5', 'page_number': 1, 'split_id': 49, 'split_idx_start': 14440}, embedding: vector of size 2560),\n",
       " Document(id=ef768195fdc81077460487be5f1fee3e533b1c20e2c532afd38682706fd77053, content: 'Nachsorge und Rückbildung:\n",
       " \n",
       " ', meta: {'title': 'Kaiserschnitt.md', 'source_id': 'cec11350-e783-4477-b76e-bd9afa5342c5', 'page_number': 1, 'split_id': 50, 'split_idx_start': 14663}, embedding: vector of size 2560),\n",
       " Document(id=f2d9b3fc3fbd674c206216d7b3ae33c0a3e84d9e9933673cbdf0ee1a56315877, content: 'Organisieren Sie frühzeitig die Betreuung durch eine Hebamme. Sie unterstützt Sie bei der körperlich...', meta: {'title': 'Kaiserschnitt.md', 'source_id': 'cec11350-e783-4477-b76e-bd9afa5342c5', 'page_number': 1, 'split_id': 51, 'split_idx_start': 14691}, embedding: vector of size 2560),\n",
       " Document(id=d8d314b9d482fbaef7592256066614798e9ce1ba79e32995ae6c9a85bcd97097, content: 'Die Klinik für Geburtshilfe in den DRK Kliniken Berlin Köpenick bietet werdenden Eltern eine sichere...', meta: {'title': 'DRK Geburtshilfe Infos.md', 'source_id': '8aebf112-c5a5-48d5-aaa9-9635e1ee5c8b', 'page_number': 1, 'split_id': 0, 'split_idx_start': 0}, embedding: vector of size 2560),\n",
       " Document(id=4bd8d22bf7ce6ea94d9ebf114351df0e2c23320506366bb43d586668260d295c, content: 'Familienfreundliche Ausstattung: Die Geburt findet in wohnlicher Umgebung statt. Es stehen zwei Einz...', meta: {'title': 'DRK Geburtshilfe Infos.md', 'source_id': '8aebf112-c5a5-48d5-aaa9-9635e1ee5c8b', 'page_number': 1, 'split_id': 1, 'split_idx_start': 948}, embedding: vector of size 2560),\n",
       " Document(id=c3c7fa888c2ea913233e25135541bcba0ec80fdb091b2fa1bf52cb723ddadddb, content: 'Vielfältige Schmerzlinderungsangebote: Jede Frau empfindet die Geburt anders – entsprechend bietet d...', meta: {'title': 'DRK Geburtshilfe Infos.md', 'source_id': '8aebf112-c5a5-48d5-aaa9-9635e1ee5c8b', 'page_number': 1, 'split_id': 2, 'split_idx_start': 1664}, embedding: vector of size 2560),\n",
       " Document(id=94d11af06bc075d7eb8cd48a9cf431cdc9014d416c88f290a072928cf2b5265b, content: 'Sanfte Kaiserschnitt-Methoden: Sollte ein Kaiserschnitt nötig sein – ob ungeplant unter der Geburt o...', meta: {'title': 'DRK Geburtshilfe Infos.md', 'source_id': '8aebf112-c5a5-48d5-aaa9-9635e1ee5c8b', 'page_number': 1, 'split_id': 3, 'split_idx_start': 2383}, embedding: vector of size 2560),\n",
       " Document(id=401c11785261461f8dcee45c3735189c55e03aae053019691f22db149c78ff8a, content: 'Integrative Wochenbettpflege & Familienzimmer: Mutter und Neugeborenes werden auf Station gemeinsam ...', meta: {'title': 'DRK Geburtshilfe Infos.md', 'source_id': '8aebf112-c5a5-48d5-aaa9-9635e1ee5c8b', 'page_number': 1, 'split_id': 4, 'split_idx_start': 3350}, embedding: vector of size 2560),\n",
       " Document(id=dd6003560bc59ebb013dee332c707819b46be1ec9def60365b99fc1c0561a1d3, content: 'Umfassende Betreuung und Stillberatung: Auf der Wochenbettstation steht den Eltern ein multidiszipli...', meta: {'title': 'DRK Geburtshilfe Infos.md', 'source_id': '8aebf112-c5a5-48d5-aaa9-9635e1ee5c8b', 'page_number': 1, 'split_id': 5, 'split_idx_start': 4116}, embedding: vector of size 2560),\n",
       " Document(id=f4ae4ad94acb51a447451ed9f3b2de378b2605b01d4c2858e7c2b0146ed2a408, content: 'Neugeborenen-Versorgung: Die Gesundheit des Kindes wird von Anfang an eng überwacht. Eine Kinderärzt...', meta: {'title': 'DRK Geburtshilfe Infos.md', 'source_id': '8aebf112-c5a5-48d5-aaa9-9635e1ee5c8b', 'page_number': 1, 'split_id': 6, 'split_idx_start': 4895}, embedding: vector of size 2560),\n",
       " Document(id=ee87b8af305d0312c7498f4d6a77357f2df86e1af6b749e3ccbd6e5a3e0169e0, content: 'Integrative Wochenbettpflege & Familienzimmer (Fortsetzung): Mutter und Neugeborenes werden gemeinsa...', meta: {'title': 'DRK Geburtshilfe Infos.md', 'source_id': '8aebf112-c5a5-48d5-aaa9-9635e1ee5c8b', 'page_number': 1, 'split_id': 7, 'split_idx_start': 5686}, embedding: vector of size 2560),\n",
       " Document(id=c7083503e8c01b7581863d2ce0eaa2c87acf5ad2a30516ddd73acc12d86248e1, content: 'Umfassende Betreuung und Stillberatung: Auf der Wochenbettstation steht ein Team aus Hebammen, Krank...', meta: {'title': 'DRK Geburtshilfe Infos.md', 'source_id': '8aebf112-c5a5-48d5-aaa9-9635e1ee5c8b', 'page_number': 1, 'split_id': 8, 'split_idx_start': 6195}, embedding: vector of size 2560),\n",
       " Document(id=291dc7cb39e4cad39470e9fdd765a00c4adb071323a00001cea5af88c76a745b, content: 'Neugeborenen-Versorgung: Jedes Neugeborene wird unmittelbar nach der Geburt ärztlich untersucht (U1 ...', meta: {'title': 'DRK Geburtshilfe Infos.md', 'source_id': '8aebf112-c5a5-48d5-aaa9-9635e1ee5c8b', 'page_number': 1, 'split_id': 9, 'split_idx_start': 6663}, embedding: vector of size 2560),\n",
       " Document(id=282f44ad8be999398343b06b2602ce39869bb2cab2a543e1f72b0966edfb0a24, content: 'Soziale und psychologische Unterstützung: Ein Sozialdienst hilft bei organisatorischen und finanziel...', meta: {'title': 'DRK Geburtshilfe Infos.md', 'source_id': '8aebf112-c5a5-48d5-aaa9-9635e1ee5c8b', 'page_number': 1, 'split_id': 10, 'split_idx_start': 7101}, embedding: vector of size 2560),\n",
       " Document(id=492a4a2b1b97de4f959c50bf29c1ccb6722a770091b36dff1ada79d894e68602, content: 'Babylotsinnen – Hilfen rund um die Geburt: Die Babylotsinnen Anette Schmolla und Maika Kaltwasser-Wu...', meta: {'title': 'DRK Geburtshilfe Infos.md', 'source_id': '8aebf112-c5a5-48d5-aaa9-9635e1ee5c8b', 'page_number': 1, 'split_id': 11, 'split_idx_start': 7479}, embedding: vector of size 2560),\n",
       " Document(id=2f6b08e3a86a041bd223bbc2bbcd110cae76caa6af18283da9998ed5886f8c85, content: '\n",
       " Ablauf der Geburt – von Anmeldung bis Nachsorge\n",
       " \n",
       " ', meta: {'title': 'DRK Geburtshilfe Infos.md', 'source_id': '8aebf112-c5a5-48d5-aaa9-9635e1ee5c8b', 'page_number': 1, 'split_id': 12, 'split_idx_start': 7931}, embedding: vector of size 2560),\n",
       " Document(id=be65f3b489606bfcf3bd95b2cce0be34869d7b85ccfce301d6ea19c36ac593bb, content: 'Vor der Geburt – Anmeldung und Vorbereitung: Ab der 32. Schwangerschaftswoche sollte die Anmeldung z...', meta: {'title': 'DRK Geburtshilfe Infos.md', 'source_id': '8aebf112-c5a5-48d5-aaa9-9635e1ee5c8b', 'page_number': 1, 'split_id': 13, 'split_idx_start': 7981}, embedding: vector of size 2560),\n",
       " Document(id=bf7c5926f2d968ac3a3a2ac8a0102cc18ab417fa5865833899d05be699b1bf82, content: 'Während der Geburt – Entbindung im Kreißsaal: Bei Geburtsbeginn (Wehen oder Blasensprung) geht es in...', meta: {'title': 'DRK Geburtshilfe Infos.md', 'source_id': '8aebf112-c5a5-48d5-aaa9-9635e1ee5c8b', 'page_number': 1, 'split_id': 14, 'split_idx_start': 8643}, embedding: vector of size 2560),\n",
       " Document(id=9ab8fd9589291e3b47ee4da70fe2d38a14db53d0704c9a19c7cfbbbf3f588491, content: 'Nach der Geburt – Wochenbett im Krankenhaus und zu Hause: Danach geht es auf die Wochenbettstation 4...', meta: {'title': 'DRK Geburtshilfe Infos.md', 'source_id': '8aebf112-c5a5-48d5-aaa9-9635e1ee5c8b', 'page_number': 1, 'split_id': 15, 'split_idx_start': 9385}, embedding: vector of size 2560),\n",
       " Document(id=55e156c90a6aca26bf8e4008190494eadab7ebe6be142531e37bed22cd6336f7, content: '\n",
       " Tipp: Eine ambulante Geburt ist möglich. Dabei verlässt man die Klinik zwischen 4 und 24 Stunden na...', meta: {'title': 'DRK Geburtshilfe Infos.md', 'source_id': '8aebf112-c5a5-48d5-aaa9-9635e1ee5c8b', 'page_number': 1, 'split_id': 16, 'split_idx_start': 10217}, embedding: vector of size 2560),\n",
       " Document(id=1327da5159294a828f259846eef49533813e976af68299b7ff4aa985f873c216, content: 'Der Kreißsaal befindet sich im 7. Stock des Bettenhochhauses (Haus 1) und ist als kleines, persönlic...', meta: {'title': 'DRK Geburtshilfe Infos.md', 'source_id': '8aebf112-c5a5-48d5-aaa9-9635e1ee5c8b', 'page_number': 1, 'split_id': 17, 'split_idx_start': 10439}, embedding: vector of size 2560),\n",
       " Document(id=83c27ada6f602bf3e3a7ef3f22fba85766364ba64e0a656861655589740c365a, content: 'Zur Ausstattung gehören zwei moderne Einzelkreißsäle für die eigentliche Geburt und zusätzlich wohnl...', meta: {'title': 'DRK Geburtshilfe Infos.md', 'source_id': '8aebf112-c5a5-48d5-aaa9-9635e1ee5c8b', 'page_number': 1, 'split_id': 18, 'split_idx_start': 10719}, embedding: vector of size 2560),\n",
       " Document(id=c49a540cf2a8a45eed9f91980b5c89618add7e0bea89e2cbaa21d119633ae410, content: 'Alle Entbindungsräume bieten flexible Gebärhilfen wie verstellbare Betten, Gebärhocker, Seile, Spros...', meta: {'title': 'DRK Geburtshilfe Infos.md', 'source_id': '8aebf112-c5a5-48d5-aaa9-9635e1ee5c8b', 'page_number': 1, 'split_id': 19, 'split_idx_start': 11025}, embedding: vector of size 2560),\n",
       " Document(id=de282f1c6795c9447e2bc43b911dd62dd7c1a4a239b9551ee131662cdbc53bca, content: 'Für Notfälle steht direkt nebenan ein eigener OP-Saal zur Verfügung, sodass im Fall eines Kaiserschn...', meta: {'title': 'DRK Geburtshilfe Infos.md', 'source_id': '8aebf112-c5a5-48d5-aaa9-9635e1ee5c8b', 'page_number': 1, 'split_id': 20, 'split_idx_start': 11190}, embedding: vector of size 2560),\n",
       " Document(id=f326b951ff2814a7728a16583f43e9ecf113c57c5fa98e1c06c132115bb6e3b9, content: 'Im Kreißsaal arbeiten Hebammen, Frauenärztinnen, Anästhesistinnen und die Kinderklinik eng zusammen....', meta: {'title': 'DRK Geburtshilfe Infos.md', 'source_id': '8aebf112-c5a5-48d5-aaa9-9635e1ee5c8b', 'page_number': 1, 'split_id': 21, 'split_idx_start': 11472}, embedding: vector of size 2560),\n",
       " Document(id=714b0f0840718aa9976443d8d0d05dcf593162cff8106ca1419e849477c393e1, content: 'Was bei uns im „Kreißsaalhotel“ schon immer gelebt wurde, findet nun auch den Weg in die Öffentlichk...', meta: {'title': 'DRK Geburtshilfe Infos.md', 'source_id': '8aebf112-c5a5-48d5-aaa9-9635e1ee5c8b', 'page_number': 1, 'split_id': 22, 'split_idx_start': 11725}, embedding: vector of size 2560),\n",
       " Document(id=280e6feffa039a1dd91601548aafb06d4b4f77acfb651d2578c44117bd0b18ec, content: 'Als Erweiterung unseres schon bestehenden geburtshilflichen Angebots gibt es den hebammengeleiteten ...', meta: {'title': 'DRK Geburtshilfe Infos.md', 'source_id': '8aebf112-c5a5-48d5-aaa9-9635e1ee5c8b', 'page_number': 1, 'split_id': 23, 'split_idx_start': 12047}, embedding: vector of size 2560),\n",
       " Document(id=72817634c4179aaeb2f8b0eb22e873e92bc519732c6b97a0096f4deec604de2a, content: 'Für Frauen, die sich für den Hebammenkreißsaal entscheiden, finden zwei Vorgespräche durch das Hebam...', meta: {'title': 'DRK Geburtshilfe Infos.md', 'source_id': '8aebf112-c5a5-48d5-aaa9-9635e1ee5c8b', 'page_number': 1, 'split_id': 24, 'split_idx_start': 12477}, embedding: vector of size 2560),\n",
       " Document(id=52abddd30ff23b74391614cac9dd6e0d8bff0bb1905cb0b1fbeec1a72f99df91, content: 'Welche Voraussetzungen müssen erfüllt sein?\n",
       " \n",
       " ', meta: {'title': 'DRK Geburtshilfe Infos.md', 'source_id': '8aebf112-c5a5-48d5-aaa9-9635e1ee5c8b', 'page_number': 1, 'split_id': 25, 'split_idx_start': 12952}, embedding: vector of size 2560),\n",
       " Document(id=cd8e95f1377dc3dd3aad63a5d903bbecb13a96bcc7d953976797413c665a2715, content: 'komplikationslose Schwangerschaft einer gesunden, werdenden Mutter und einem zu erwartenden gesunden...', meta: {'title': 'DRK Geburtshilfe Infos.md', 'source_id': '8aebf112-c5a5-48d5-aaa9-9635e1ee5c8b', 'page_number': 1, 'split_id': 26, 'split_idx_start': 12997}, embedding: vector of size 2560),\n",
       " Document(id=ef7c96a1798ee044f53456d94c4e63109e9b1b9a2b7a817b244163b5718ba949, content: 'Wie läuft die Betreuung im Hebammenkreißsaal ab?\n",
       " Nach den zwei individuellen Beratungsgesprächen zwi...', meta: {'title': 'DRK Geburtshilfe Infos.md', 'source_id': '8aebf112-c5a5-48d5-aaa9-9635e1ee5c8b', 'page_number': 1, 'split_id': 27, 'split_idx_start': 13296}, embedding: vector of size 2560),\n",
       " Document(id=c52719eb90b183dce2455c20905e6243085082305ea36bd92a35eb6bde5de387, content: 'Auf der Wochenbettstation 4B werden Mutter und Kind rund um die Uhr gemeinsam betreut. Das Konzept d...', meta: {'title': 'DRK Geburtshilfe Infos.md', 'source_id': '8aebf112-c5a5-48d5-aaa9-9635e1ee5c8b', 'page_number': 1, 'split_id': 28, 'split_idx_start': 14199}, embedding: vector of size 2560),\n",
       " Document(id=5edc50a0e7ee22a6fc7c618de721f5587d0812e3f5ed39ec6f68941162c1b3c8, content: 'Die Unterbringung einer Begleitperson im Familienzimmer ist möglich, kostet 95 Euro pro Nacht (inklu...', meta: {'title': 'DRK Geburtshilfe Infos.md', 'source_id': '8aebf112-c5a5-48d5-aaa9-9635e1ee5c8b', 'page_number': 1, 'split_id': 29, 'split_idx_start': 14634}, embedding: vector of size 2560),\n",
       " Document(id=9e74eedc6c9b1b43e0ebd7bd0cdeb4773add3c6b6424e5ee43ed5b2829cf97ca, content: 'Das Team besteht aus Kinderkrankenschwestern, Hebammen, Ärzt*innen der Frauenklinik sowie einer Kind...', meta: {'title': 'DRK Geburtshilfe Infos.md', 'source_id': '8aebf112-c5a5-48d5-aaa9-9635e1ee5c8b', 'page_number': 1, 'split_id': 30, 'split_idx_start': 14820}, embedding: vector of size 2560),\n",
       " Document(id=518f899c37f545534d2e4457d5c607ca44e6aaf45913b31cfb75081b69f8042d, content: 'Hebammen und Schwestern bieten intensive Stillberatung an. Bereits am ersten Tag wird das richtige A...', meta: {'title': 'DRK Geburtshilfe Infos.md', 'source_id': '8aebf112-c5a5-48d5-aaa9-9635e1ee5c8b', 'page_number': 1, 'split_id': 31, 'split_idx_start': 15170}, embedding: vector of size 2560),\n",
       " Document(id=2b82e3ca95867a554bf15c0157fcd7620a67191c4e47af0215444c9a4312addf, content: 'Die durchschnittliche Aufenthaltsdauer beträgt 2 bis 4 Tage, kann aber flexibel angepasst werden. Vo...', meta: {'title': 'DRK Geburtshilfe Infos.md', 'source_id': '8aebf112-c5a5-48d5-aaa9-9635e1ee5c8b', 'page_number': 1, 'split_id': 32, 'split_idx_start': 15523}, embedding: vector of size 2560),\n",
       " Document(id=588e4b7064952c5a6bef4ede1a2b69b06d511119fd8487851c0bc4a6991d9d37, content: 'Nach der Entlassung sollte eine Nachsorgehebamme übernehmen. Eine Liste mit Kontaktdaten liegt auf S...', meta: {'title': 'DRK Geburtshilfe Infos.md', 'source_id': '8aebf112-c5a5-48d5-aaa9-9635e1ee5c8b', 'page_number': 1, 'split_id': 33, 'split_idx_start': 15863}, embedding: vector of size 2560),\n",
       " Document(id=b33a7aeaf117ecfb3c7e197291e34b959090ea95bd2fe351082ad75367f6b578, content: 'Infoabende für werdende Eltern: Mehrmals im Monat finden kostenlose Infoabende statt. Dabei stellt s...', meta: {'title': 'DRK Geburtshilfe Infos.md', 'source_id': '8aebf112-c5a5-48d5-aaa9-9635e1ee5c8b', 'page_number': 1, 'split_id': 34, 'split_idx_start': 16126}, embedding: vector of size 2560),\n",
       " Document(id=879aeff42d6420138837a8c00aac2aef68c68de97e16aa00b848b72a6e1f953e, content: 'Geburtsvorbereitungskurse: Diese Kurse werden von erfahrenen Hebammen geleitet, teilweise in Zusamme...', meta: {'title': 'DRK Geburtshilfe Infos.md', 'source_id': '8aebf112-c5a5-48d5-aaa9-9635e1ee5c8b', 'page_number': 1, 'split_id': 35, 'split_idx_start': 16642}, embedding: vector of size 2560),\n",
       " Document(id=bc5d2a3988ebf98057cf720bfe16d41b7fd2af793ecf377411b82995c501c63e, content: 'Rückbildungskurse: Nach der Geburt helfen diese Kurse, Beckenboden und Bauchmuskulatur zu stärken. S...', meta: {'title': 'DRK Geburtshilfe Infos.md', 'source_id': '8aebf112-c5a5-48d5-aaa9-9635e1ee5c8b', 'page_number': 1, 'split_id': 36, 'split_idx_start': 17191}, embedding: vector of size 2560),\n",
       " Document(id=71b7ac855f527aed783f004962599c760fc92e8a75aad93d9f65699c86628f8b, content: 'Hebammensprechstunde (Schwangerenambulanz): In dieser Sprechstunde werden CTG-Kontrollen, geburtsvor...', meta: {'title': 'DRK Geburtshilfe Infos.md', 'source_id': '8aebf112-c5a5-48d5-aaa9-9635e1ee5c8b', 'page_number': 1, 'split_id': 37, 'split_idx_start': 17572}, embedding: vector of size 2560),\n",
       " Document(id=cc2a781828a32e220d83d5d45281c127c1d3ca7897e123ef4447acf9f64ed4c5, content: 'Ärztliche Sprechstunden: Neben der Hebammensprechstunde gibt es ärztliche Angebote wie die Geburtspl...', meta: {'title': 'DRK Geburtshilfe Infos.md', 'source_id': '8aebf112-c5a5-48d5-aaa9-9635e1ee5c8b', 'page_number': 1, 'split_id': 38, 'split_idx_start': 17970}, embedding: vector of size 2560),\n",
       " Document(id=4967c20bc727674abe37171fe0185a09e48d4290e27be7b640ce87307962c248, content: 'Wochenbettbetreuung und Nachsorge: Nach der Entlassung haben Mütter Anspruch auf Hebammenbetreuung z...', meta: {'title': 'DRK Geburtshilfe Infos.md', 'source_id': '8aebf112-c5a5-48d5-aaa9-9635e1ee5c8b', 'page_number': 1, 'split_id': 39, 'split_idx_start': 18289}, embedding: vector of size 2560),\n",
       " Document(id=96aa6e6ad93797346809dd3030b60e916249340233b63cc2bdba8af91cf39579, content: 'Leitender Arzt: Dr. med. Rainer Wieth, Chefarzt der Klinik für Gynäkologie und Geburtshilfe. Kontakt...', meta: {'title': 'DRK Geburtshilfe Infos.md', 'source_id': '8aebf112-c5a5-48d5-aaa9-9635e1ee5c8b', 'page_number': 1, 'split_id': 40, 'split_idx_start': 18704}, embedding: vector of size 2560),\n",
       " Document(id=5a5f59056e3a02f8267305032030934e91b4d00e0edafa26d54a2f4f192edf60, content: 'Kreißsaal: Abteilungsleitung Carmen Wolf (Leitende Hebamme), erreichbar unter (030) 3035 - 3170. Die...', meta: {'title': 'DRK Geburtshilfe Infos.md', 'source_id': '8aebf112-c5a5-48d5-aaa9-9635e1ee5c8b', 'page_number': 1, 'split_id': 41, 'split_idx_start': 18953}, embedding: vector of size 2560),\n",
       " Document(id=30cb6123f7b5cf253e0e99b870e4567fc5107abf9c5705896726af484312d03e, content: 'Wochenbettstation 4B: Leitung Franziska Schnuppe (Stationsleitung), erreichbar unter (030) 3035 - 32...', meta: {'title': 'DRK Geburtshilfe Infos.md', 'source_id': '8aebf112-c5a5-48d5-aaa9-9635e1ee5c8b', 'page_number': 1, 'split_id': 42, 'split_idx_start': 19238}, embedding: vector of size 2560),\n",
       " Document(id=3f45a3762e5ba09dfc5d7f2dbf2ddc79541c8c29604d0f3c7b67d76f15d95220, content: 'Adresse der Klinik: DRK Kliniken Berlin Köpenick – Klinik für Geburtshilfe, Salvador-Allende-Straße ...', meta: {'title': 'DRK Geburtshilfe Infos.md', 'source_id': '8aebf112-c5a5-48d5-aaa9-9635e1ee5c8b', 'page_number': 1, 'split_id': 43, 'split_idx_start': 19447}, embedding: vector of size 2560),\n",
       " Document(id=6ad4b7a0267a7e6797c33b4f30aa7c373e746692c6866cba310d5abfe715d8f7, content: 'Kontaktformular: Wer lieber schriftlich kommuniziert, kann das Kontaktformular auf der Website der K...', meta: {'title': 'DRK Geburtshilfe Infos.md', 'source_id': '8aebf112-c5a5-48d5-aaa9-9635e1ee5c8b', 'page_number': 1, 'split_id': 44, 'split_idx_start': 19622}, embedding: vector of size 2560),\n",
       " Document(id=18d6d3049495e1adac370df4eecb6b5411c73475d733ad08c514a22603dec181, content: '\n",
       " Die Anmeldung zur Geburt sollte idealerweise ab der 32. Schwangerschaftswoche erfolgen, um eine per...', meta: {'title': 'DRK Geburtshilfe Infos.md', 'source_id': '8aebf112-c5a5-48d5-aaa9-9635e1ee5c8b', 'page_number': 1, 'split_id': 45, 'split_idx_start': 19791}, embedding: vector of size 2560),\n",
       " Document(id=0285edc69540945413147961b9e3dfdedfe29318be610941ab71b68b4518b4ad, content: 'Die Anmeldung findet meist in der Hebammensprechstunde statt und beinhaltet ein ausführliches Gesprä...', meta: {'title': 'DRK Geburtshilfe Infos.md', 'source_id': '8aebf112-c5a5-48d5-aaa9-9635e1ee5c8b', 'page_number': 1, 'split_id': 46, 'split_idx_start': 20038}, embedding: vector of size 2560),\n",
       " Document(id=e21eb6ea6e57d81ccd381d291ae0fb4d761c74223b4d6da240a1e26d698aa3fe, content: 'In diesem Gespräch können auch individuelle Wünsche (z. B. Gebärposition, Schmerzmittel, Familienzim...', meta: {'title': 'DRK Geburtshilfe Infos.md', 'source_id': '8aebf112-c5a5-48d5-aaa9-9635e1ee5c8b', 'page_number': 1, 'split_id': 47, 'split_idx_start': 20333}, embedding: vector of size 2560),\n",
       " Document(id=31a53889891305b03d921fc97157a66845049843263c5b86d13af99488446715, content: 'Die eigentliche Aufnahme in die Klinik erfolgt erst mit Geburtsbeginn – dafür ist keine erneute Anme...', meta: {'title': 'DRK Geburtshilfe Infos.md', 'source_id': '8aebf112-c5a5-48d5-aaa9-9635e1ee5c8b', 'page_number': 1, 'split_id': 48, 'split_idx_start': 20673}, embedding: vector of size 2560),\n",
       " Document(id=5aeaa642451c3527366c941e77e24e64a6f428b248f1514a29cc5ce7f35b63a3, content: 'Die ersten Tage nach der Geburt sind eine sensible Zeit. Deshalb liegt der Fokus auf Ruhe und Famili...', meta: {'title': 'DRK Geburtshilfe Infos.md', 'source_id': '8aebf112-c5a5-48d5-aaa9-9635e1ee5c8b', 'page_number': 1, 'split_id': 49, 'split_idx_start': 20856}, embedding: vector of size 2560),\n",
       " Document(id=207536e6fbe60951b7c84f9399787a80fca9e75f0c998a726d71e8c7c0def6b9, content: 'Für größere Gruppen gibt es ein Besucherzimmer, damit das Patientenzimmer ruhig bleibt. Außerhalb di...', meta: {'title': 'DRK Geburtshilfe Infos.md', 'source_id': '8aebf112-c5a5-48d5-aaa9-9635e1ee5c8b', 'page_number': 1, 'split_id': 50, 'split_idx_start': 21145}, embedding: vector of size 2560),\n",
       " Document(id=c133ebfa75ada6123d17cae708a070d7aa5ccdab2412eee643fae213a2a28664, content: 'Hinweis: Direkt nach der Geburt und vormittags wird empfohlen, Besuche möglichst zu vermeiden – die ...', meta: {'title': 'DRK Geburtshilfe Infos.md', 'source_id': '8aebf112-c5a5-48d5-aaa9-9635e1ee5c8b', 'page_number': 1, 'split_id': 51, 'split_idx_start': 21437}, embedding: vector of size 2560),\n",
       " Document(id=1191e1a6546fec93fca702cc8c23c06d5ffae8a8ee66b6c0cc72ccb5da6ee573, content: 'Damit du bei der Aufnahme nichts vergisst, hier die wichtigsten Dinge für deine Kliniktasche:\n",
       " \n",
       " ', meta: {'title': 'DRK Geburtshilfe Infos.md', 'source_id': '8aebf112-c5a5-48d5-aaa9-9635e1ee5c8b', 'page_number': 1, 'split_id': 52, 'split_idx_start': 21646}, embedding: vector of size 2560),\n",
       " Document(id=9257e9536fd62c0cdc68025f2d434fda42fce8facc3a79daf9bb54cd6bd962ab, content: 'Dokumente: Personalausweis oder Reisepass, Krankenversicherungskarte, ggf. Einweisung oder Überweisu...', meta: {'title': 'DRK Geburtshilfe Infos.md', 'source_id': '8aebf112-c5a5-48d5-aaa9-9635e1ee5c8b', 'page_number': 1, 'split_id': 53, 'split_idx_start': 21741}, embedding: vector of size 2560),\n",
       " Document(id=1faa504f61d5e3dee1987282808fa8681c57bccab3b59378d66af41718c79033, content: 'Wertgegenstände und Schmuck sollten zu Hause bleiben – die Klinik übernimmt keine Haftung.\n",
       " \n",
       " ', meta: {'title': 'DRK Geburtshilfe Infos.md', 'source_id': '8aebf112-c5a5-48d5-aaa9-9635e1ee5c8b', 'page_number': 1, 'split_id': 54, 'split_idx_start': 22525}, embedding: vector of size 2560),\n",
       " Document(id=31e9a93db3dceb94d6083354be195bbd74926489ffd03df728d5fdf9b0135c00, content: 'Die DRK Kliniken Berlin Köpenick befinden sich in der Salvador-Allende-Straße 2–8, 12559 Berlin. Der...', meta: {'title': 'DRK Geburtshilfe Infos.md', 'source_id': '8aebf112-c5a5-48d5-aaa9-9635e1ee5c8b', 'page_number': 1, 'split_id': 55, 'split_idx_start': 22617}, embedding: vector of size 2560),\n",
       " Document(id=bd4bc50f52254343f27d42a7115f931f2ace44734a90f4a8f93adf5cd3826f11, content: 'Anreise mit dem Auto: Die Einfahrt zum Besucherparkplatz befindet sich direkt am Haupteingang. Es gi...', meta: {'title': 'DRK Geburtshilfe Infos.md', 'source_id': '8aebf112-c5a5-48d5-aaa9-9635e1ee5c8b', 'page_number': 1, 'split_id': 56, 'split_idx_start': 22804}, embedding: vector of size 2560),\n",
       " Document(id=17adb4a203c0d9aa514788464ead99de5a65695f4cb562dd13b647c334469bce, content: 'Anreise mit öffentlichen Verkehrsmitteln: Direkt vor dem Haupteingang halten mehrere Bus- und Straße...', meta: {'title': 'DRK Geburtshilfe Infos.md', 'source_id': '8aebf112-c5a5-48d5-aaa9-9635e1ee5c8b', 'page_number': 1, 'split_id': 57, 'split_idx_start': 23356}, embedding: vector of size 2560),\n",
       " Document(id=a456042883bdbf9f0f89b38437d3b4a0f5ebe72a9952c27cc3bce0f0a7d5f741, content: 'Lageplan: Einen übersichtlichen Lageplan mit allen Gebäuden und Eingängen kannst du als PDF auf der ...', meta: {'title': 'DRK Geburtshilfe Infos.md', 'source_id': '8aebf112-c5a5-48d5-aaa9-9635e1ee5c8b', 'page_number': 1, 'split_id': 58, 'split_idx_start': 23694}, embedding: vector of size 2560),\n",
       " Document(id=2c70e3fe6de7d50a7f0bcb076fdf152652d913a21518aebfea7c1b2befd84ad9, content: 'Die Geburt stellt einen natürlichen Ablauf dar. Durch moderne geburtshilfliche Verfahren, insbesonde...', meta: {'title': 'Medizinische Maßnahmen rund um die Geburt.md', 'source_id': '73715a31-955e-47df-a9fb-6c900290bddf', 'page_number': 1, 'split_id': 0, 'split_idx_start': 0}, embedding: vector of size 2560),\n",
       " Document(id=754f64f0c83127bd9abf7a96c23f7a429eb24bc93571ff21c59b049c535ac96d, content: 'Während des gesamten Geburtsprozesses werden Sie und Ihr Kind von Hebammen sowie Ärztinnen und Ärzte...', meta: {'title': 'Medizinische Maßnahmen rund um die Geburt.md', 'source_id': '73715a31-955e-47df-a9fb-6c900290bddf', 'page_number': 1, 'split_id': 1, 'split_idx_start': 429}, embedding: vector of size 2560),\n",
       " Document(id=a3caeb29cffe70e4f653ae5290031c02daa3e8aa95c1afc86f1896aba48f2c27, content: 'Abhören der kindlichen Herztöne\n",
       " Die Herztöne des Kindes werden in regelmäßigen Abständen mit einem s...', meta: {'title': 'Medizinische Maßnahmen rund um die Geburt.md', 'source_id': '73715a31-955e-47df-a9fb-6c900290bddf', 'page_number': 1, 'split_id': 2, 'split_idx_start': 752}, embedding: vector of size 2560),\n",
       " Document(id=45334e5de32a77a9d054f4b631e549385a13f499a2bfa265f959511ce227b795, content: 'CTG (Kardiotokografie)\n",
       " Mittels Elektroden, die auf der Bauchhaut angebracht werden, lassen sich sowo...', meta: {'title': 'Medizinische Maßnahmen rund um die Geburt.md', 'source_id': '73715a31-955e-47df-a9fb-6c900290bddf', 'page_number': 1, 'split_id': 3, 'split_idx_start': 1063}, embedding: vector of size 2560),\n",
       " Document(id=c25720d39e3d4de27ba132b3c6e5145051b726a7b968ec4691ba2b2cc88f5141, content: 'Falls die Fruchtblase bereits geplatzt ist und der Muttermund geöffnet wurde, kann gegebenenfalls ei...', meta: {'title': 'Medizinische Maßnahmen rund um die Geburt.md', 'source_id': '73715a31-955e-47df-a9fb-6c900290bddf', 'page_number': 1, 'split_id': 4, 'split_idx_start': 1226}, embedding: vector of size 2560),\n",
       " Document(id=08919d155f260fd44a405f23386820d41671c5b78661e54b0e05d1f2bd3b3af4, content: 'Mikroblutanalyse\n",
       " Sollte ein Verdacht auf eine Gefährdung des Kindes bestehen, kann bei geöffnetem Mu...', meta: {'title': 'Medizinische Maßnahmen rund um die Geburt.md', 'source_id': '73715a31-955e-47df-a9fb-6c900290bddf', 'page_number': 1, 'split_id': 5, 'split_idx_start': 1527}, embedding: vector of size 2560),\n",
       " Document(id=9d270b513dd50f76b31461e9bd6ca1ea4981c4d8a0a13c994595876fda4fdd44, content: 'Die Geburt ist eine körperlich intensive und oftmals schmerzhafte Erfahrung. Zur Bewältigung der Sch...', meta: {'title': 'Medizinische Maßnahmen rund um die Geburt.md', 'source_id': '73715a31-955e-47df-a9fb-6c900290bddf', 'page_number': 1, 'split_id': 6, 'split_idx_start': 1901}, embedding: vector of size 2560),\n",
       " Document(id=584a24234048af3bcc14a227ad5e8743f180617f20b67939f77bc0f69eb47a2e, content: 'Zur Linderung der Eröffnungswehen – von Beginn bis zur vollständigen Öffnung des Muttermundes auf et...', meta: {'title': 'Medizinische Maßnahmen rund um die Geburt.md', 'source_id': '73715a31-955e-47df-a9fb-6c900290bddf', 'page_number': 1, 'split_id': 7, 'split_idx_start': 2112}, embedding: vector of size 2560),\n",
       " Document(id=9fabb0f85cf542e242f9d6bac503324e5fb1c8d699fde3bdd0475b562d3cc6d6, content: 'In der Schlussphase der Geburt (Austrittsphase) kann der Beckenboden durch eine Pudendus-Anästhesie ...', meta: {'title': 'Medizinische Maßnahmen rund um die Geburt.md', 'source_id': '73715a31-955e-47df-a9fb-6c900290bddf', 'page_number': 1, 'split_id': 8, 'split_idx_start': 2494}, embedding: vector of size 2560),\n",
       " Document(id=cecb384591e99223e9b022c0c865ed04bee6bfaa236a8d4b97d1c76fa5ea490e, content: 'Lachgas kann ebenfalls zur Schmerzlinderung beitragen. Dabei inhalieren Sie ein Sauerstoff-Lachgas-G...', meta: {'title': 'Medizinische Maßnahmen rund um die Geburt.md', 'source_id': '73715a31-955e-47df-a9fb-6c900290bddf', 'page_number': 1, 'split_id': 9, 'split_idx_start': 2808}, embedding: vector of size 2560),\n",
       " Document(id=13c6d3da1c434ca4c19b690acf88d730e0e1d4a613870fa2f31fdcc9f38ada44, content: 'Die Periduralanästhesie (PDA) stellt eine besonders effektive Methode zur nahezu vollständigen Schme...', meta: {'title': 'Medizinische Maßnahmen rund um die Geburt.md', 'source_id': '73715a31-955e-47df-a9fb-6c900290bddf', 'page_number': 1, 'split_id': 10, 'split_idx_start': 2971}, embedding: vector of size 2560),\n",
       " Document(id=624c059f02fee76c7e7bce4e810d7696d874027488faafae58da75ea87d88764, content: '\n",
       " Ihr medizinisches Team wird Sie umfassend über die verschiedenen Möglichkeiten der Schmerzbehandlun...', meta: {'title': 'Medizinische Maßnahmen rund um die Geburt.md', 'source_id': '73715a31-955e-47df-a9fb-6c900290bddf', 'page_number': 1, 'split_id': 11, 'split_idx_start': 3155}, embedding: vector of size 2560),\n",
       " Document(id=1d8242a735daa42d648f5469d6321c0dd80ffbab92dd19a248af0f97d7d09e58, content: 'Medikamente zur Wehensteuerung\n",
       " Sind die Wehen zu schwach oder bleiben aus, können wehenverstärkende ...', meta: {'title': 'Medizinische Maßnahmen rund um die Geburt.md', 'source_id': '73715a31-955e-47df-a9fb-6c900290bddf', 'page_number': 1, 'split_id': 12, 'split_idx_start': 3352}, embedding: vector of size 2560),\n",
       " Document(id=938d234975079dd335ad40ac71f4c9c21f81d59afe979d66bd452ecb85116687, content: 'Wehenhemmende Medikamente werden eingesetzt, wenn:\n",
       " \n",
       " ', meta: {'title': 'Medizinische Maßnahmen rund um die Geburt.md', 'source_id': '73715a31-955e-47df-a9fb-6c900290bddf', 'page_number': 1, 'split_id': 13, 'split_idx_start': 3860}, embedding: vector of size 2560),\n",
       " Document(id=29959784c1a1ed0b06a6f2a9c17c00f5e5631a99bf343dd26ccd27bb4f0aa7b5, content: 'der Geburtsverlauf gezielt verlangsamt werden soll, um dem Kind Zeit für eine Positionsänderung zu g...', meta: {'title': 'Medizinische Maßnahmen rund um die Geburt.md', 'source_id': '73715a31-955e-47df-a9fb-6c900290bddf', 'page_number': 1, 'split_id': 14, 'split_idx_start': 3912}, embedding: vector of size 2560),\n",
       " Document(id=9bf721095370b09b7856a6d28a1f43d808a2181905bc27f29d4d63ce3e574c69, content: 'Infektionsschutz\n",
       " Bei erhöhtem Infektionsrisiko, etwa bei drohender Frühgeburt, langem Zeitraum nach ...', meta: {'title': 'Medizinische Maßnahmen rund um die Geburt.md', 'source_id': '73715a31-955e-47df-a9fb-6c900290bddf', 'page_number': 1, 'split_id': 15, 'split_idx_start': 4221}, embedding: vector of size 2560),\n",
       " Document(id=f6774b0bbc19388649edd2b880f2611c4e868b73568b12e43f2920fedcb01618, content: 'Anti-D-Prophylaxe\n",
       " Bei Rhesus-negativem Blut der Mutter und Rhesus-positivem Kind erfolgt nach der Ge...', meta: {'title': 'Medizinische Maßnahmen rund um die Geburt.md', 'source_id': '73715a31-955e-47df-a9fb-6c900290bddf', 'page_number': 1, 'split_id': 16, 'split_idx_start': 4468}, embedding: vector of size 2560),\n",
       " Document(id=19aa1fe63285791c3505e4e1816eb5642950d52ed7343083ce3ce0d38dda4e1b, content: 'In bestimmten Fällen, etwa bei drohender Frühgeburt, lang zurückliegendem Blasensprung, Fieber oder ...', meta: {'title': 'Medizinische Maßnahmen rund um die Geburt.md', 'source_id': '73715a31-955e-47df-a9fb-6c900290bddf', 'page_number': 1, 'split_id': 17, 'split_idx_start': 4723}, embedding: vector of size 2560),\n",
       " Document(id=ff7884201eb66e8986113b94391bf42af26a4f746a7cce2922754134966eb804, content: 'Ziel ist es, die Entbindung möglichst ohne Dammschnitt zu ermöglichen. Bereits im Verlauf der Geburt...', meta: {'title': 'Medizinische Maßnahmen rund um die Geburt.md', 'source_id': '73715a31-955e-47df-a9fb-6c900290bddf', 'page_number': 1, 'split_id': 18, 'split_idx_start': 5095}, embedding: vector of size 2560),\n",
       " Document(id=2ed196f070b32f7671828fccebcba3d824d601902f8ea90751f641c92d4fdbfc, content: 'Ein Dammschnitt wird nur vorgenommen, wenn er medizinisch notwendig ist – etwa um eine Überdehnung d...', meta: {'title': 'Medizinische Maßnahmen rund um die Geburt.md', 'source_id': '73715a31-955e-47df-a9fb-6c900290bddf', 'page_number': 1, 'split_id': 19, 'split_idx_start': 5744}, embedding: vector of size 2560),\n",
       " Document(id=8bf863b58a4e6258657541fcca265b3dc1b15aba46a769eac0f3b0517503a46c, content: 'Wenn während der Geburt eine Gefährdung für Mutter oder Kind besteht – beispielsweise bei Geburtssti...', meta: {'title': 'Medizinische Maßnahmen rund um die Geburt.md', 'source_id': '73715a31-955e-47df-a9fb-6c900290bddf', 'page_number': 1, 'split_id': 20, 'split_idx_start': 6294}, embedding: vector of size 2560),\n",
       " Document(id=48f7ef2e54d31e74ad5af037c4b1308d5d7be9d1709b59375a664dfc09016161, content: 'Ein Kaiserschnitt wird entweder geplant durchgeführt – etwa bei sehr großen Kindern, Beckenanomalien...', meta: {'title': 'Medizinische Maßnahmen rund um die Geburt.md', 'source_id': '73715a31-955e-47df-a9fb-6c900290bddf', 'page_number': 1, 'split_id': 21, 'split_idx_start': 6819}, embedding: vector of size 2560),\n",
       " Document(id=f37aab2e271fbfa5fb45960697a62477f3b5969aa426c936f8ae696369755b45, content: 'Vor einem geplanten Kaiserschnitt bespricht Ihre Ärztin oder Ihr Arzt mit Ihnen die jeweiligen Vor- ...', meta: {'title': 'Medizinische Maßnahmen rund um die Geburt.md', 'source_id': '73715a31-955e-47df-a9fb-6c900290bddf', 'page_number': 1, 'split_id': 22, 'split_idx_start': 7169}, embedding: vector of size 2560),\n",
       " Document(id=3debddcb5036c8891a53663327f60255c8c94ea1b047efa058294eb202e7630d, content: 'Sollten Sie sich aktiv für einen Kaiserschnitt entscheiden, so müssen Sie wissen, dass dadurch sowoh...', meta: {'title': 'Medizinische Maßnahmen rund um die Geburt.md', 'source_id': '73715a31-955e-47df-a9fb-6c900290bddf', 'page_number': 1, 'split_id': 23, 'split_idx_start': 7799}, embedding: vector of size 2560),\n",
       " Document(id=510ab43193848ee5fc5234db3070c2907d21b9cd659661f0476b2ca16768656d, content: 'Falls Sie eine Geburt im Wasser wünschen, werden Sie gesondert über die damit verbundenen Besonderhe...', meta: {'title': 'Medizinische Maßnahmen rund um die Geburt.md', 'source_id': '73715a31-955e-47df-a9fb-6c900290bddf', 'page_number': 1, 'split_id': 24, 'split_idx_start': 8331}, embedding: vector of size 2560),\n",
       " Document(id=49884bad853a52de36ad918d604df42716c5ede86c74aaa9ac4e30821d358f44, content: 'Unmittelbar nach der Geburt Ihres Kindes folgt die sogenannte Nachgeburtsperiode, in der die Plazent...', meta: {'title': 'Medizinische Maßnahmen rund um die Geburt.md', 'source_id': '73715a31-955e-47df-a9fb-6c900290bddf', 'page_number': 1, 'split_id': 25, 'split_idx_start': 8474}, embedding: vector of size 2560),\n",
       " Document(id=cc54b9eac60afd127d41a1f314893640aa077f9b7ee4bd7d068ce08cd6a127f1, content: 'Wenn bei Ihnen eine Rhesus-negative Blutgruppe vorliegt und Ihr Kind Rhesus-positiv ist, erhalten Si...', meta: {'title': 'Medizinische Maßnahmen rund um die Geburt.md', 'source_id': '73715a31-955e-47df-a9fb-6c900290bddf', 'page_number': 1, 'split_id': 26, 'split_idx_start': 8819}, embedding: vector of size 2560),\n",
       " Document(id=dbc1add62c3aad000aef0b3eb9fab32e960979627278107c90b84503946e0027, content: 'Die Geburt eines Kindes kann mit unterschiedlichen Risiken für Mutter und Kind verbunden sein. Auch ...', meta: {'title': 'Medizinische Maßnahmen rund um die Geburt.md', 'source_id': '73715a31-955e-47df-a9fb-6c900290bddf', 'page_number': 1, 'split_id': 27, 'split_idx_start': 9150}, embedding: vector of size 2560),\n",
       " Document(id=9792368013e1f1bfb8bd95fb594a7ec941865bbc3007fa9b7077e7e27475dc3d, content: 'Blutgerinnsel und Embolien: Es besteht das Risiko, dass sich Thrombosen bilden – etwa in den Beinven...', meta: {'title': 'Medizinische Maßnahmen rund um die Geburt.md', 'source_id': '73715a31-955e-47df-a9fb-6c900290bddf', 'page_number': 1, 'split_id': 28, 'split_idx_start': 9832}, embedding: vector of size 2560),\n",
       " Document(id=198851c3a1132f73996005de5d61370e079ff34bfa251f66d6a271b2d4488781, content: 'Fruchtwasserembolie: In sehr seltenen Ausnahmefällen kann Fruchtwasser in den mütterlichen Kreislauf...', meta: {'title': 'Medizinische Maßnahmen rund um die Geburt.md', 'source_id': '73715a31-955e-47df-a9fb-6c900290bddf', 'page_number': 1, 'split_id': 29, 'split_idx_start': 10323}, embedding: vector of size 2560),\n",
       " Document(id=7b607f47cc7b2dc29f0f4020753c855d04e461792e18467c12fab355c78d75f2, content: 'Allergien oder Unverträglichkeiten: In seltenen Fällen kann es durch eine Überempfindlichkeit gegenü...', meta: {'title': 'Medizinische Maßnahmen rund um die Geburt.md', 'source_id': '73715a31-955e-47df-a9fb-6c900290bddf', 'page_number': 1, 'split_id': 30, 'split_idx_start': 10558}, embedding: vector of size 2560),\n",
       " Document(id=313bc886d9e33aaadaa9a9d4224897b760d942e7adeb86efe6a315fc4f08545a, content: 'Einstichstellenreaktionen: Sehr vereinzelt treten an den Punktionsstellen kleinere Blutergüsse oder ...', meta: {'title': 'Medizinische Maßnahmen rund um die Geburt.md', 'source_id': '73715a31-955e-47df-a9fb-6c900290bddf', 'page_number': 1, 'split_id': 31, 'split_idx_start': 10876}, embedding: vector of size 2560),\n",
       " Document(id=bd5f51fe7ad28a4428140c54e24c2e11ea1d6e61ed035168a953888a145ee184, content: 'Atemprobleme beim Neugeborenen: Wenn das Baby kurz nach der Gabe von Schmerz- oder Beruhigungsmittel...', meta: {'title': 'Medizinische Maßnahmen rund um die Geburt.md', 'source_id': '73715a31-955e-47df-a9fb-6c900290bddf', 'page_number': 1, 'split_id': 32, 'split_idx_start': 11064}, embedding: vector of size 2560),\n",
       " Document(id=52290476b7e4869600571a46351b1120b7c36334012c97b33d9b0ef97496fb16, content: 'Lachgas: Nebenwirkungen wie Schwindel, vorübergehende Benommenheit, Kribbelgefühle oder Druck im Ohr...', meta: {'title': 'Medizinische Maßnahmen rund um die Geburt.md', 'source_id': '73715a31-955e-47df-a9fb-6c900290bddf', 'page_number': 1, 'split_id': 33, 'split_idx_start': 11314}, embedding: vector of size 2560),\n",
       " Document(id=7a3d94da507f032f8a619e28ff9b78f4d9b80b4e11aa15bef5e6888500162986, content: '\n",
       " Risiken durch geburtliche Überwachungsmethoden\n",
       " \n",
       " ', meta: {'title': 'Medizinische Maßnahmen rund um die Geburt.md', 'source_id': '73715a31-955e-47df-a9fb-6c900290bddf', 'page_number': 1, 'split_id': 34, 'split_idx_start': 11568}, embedding: vector of size 2560),\n",
       " Document(id=87b60131c19522759eebccbef0c50b775743f908d080c37ce9584de461990093, content: 'Infektionen durch Hilfsmittel: Die Anwendung einer CTG-Elektrode oder eines Wehenmessers kann – wenn...', meta: {'title': 'Medizinische Maßnahmen rund um die Geburt.md', 'source_id': '73715a31-955e-47df-a9fb-6c900290bddf', 'page_number': 1, 'split_id': 35, 'split_idx_start': 11617}, embedding: vector of size 2560),\n",
       " Document(id=86c9bcc31e79c29a0a7d79d81c942fbfb3907e4b75a51af0947babf82497e3ad, content: 'Blutentnahmen beim Kind: Bei der Mikroblutanalyse kann es in sehr seltenen Fällen zu nennenswertem B...', meta: {'title': 'Medizinische Maßnahmen rund um die Geburt.md', 'source_id': '73715a31-955e-47df-a9fb-6c900290bddf', 'page_number': 1, 'split_id': 36, 'split_idx_start': 11858}, embedding: vector of size 2560),\n",
       " Document(id=1a852a9adde44a2a6c6016c320fa5ed11bee646a12efbe740b0a28d2b523ee70, content: 'Geburtsverletzungen im Intimbereich: Risse an der Scheide, den Schamlippen, der Klitoris oder dem Da...', meta: {'title': 'Medizinische Maßnahmen rund um die Geburt.md', 'source_id': '73715a31-955e-47df-a9fb-6c900290bddf', 'page_number': 1, 'split_id': 37, 'split_idx_start': 12142}, embedding: vector of size 2560),\n",
       " Document(id=39bb83a1d9e2e9af2a4eed9591c21f5f550419833d53a5d637d488f248d11a1b, content: 'Funktionsstörungen des Beckenbodens: Eine vorübergehende Schwäche des Beckenbodens kann zu unkontrol...', meta: {'title': 'Medizinische Maßnahmen rund um die Geburt.md', 'source_id': '73715a31-955e-47df-a9fb-6c900290bddf', 'page_number': 1, 'split_id': 38, 'split_idx_start': 12611}, embedding: vector of size 2560),\n",
       " Document(id=ca21b5a967e3d0f4b97a92bf605c078cf9d12aa9f36fab82bd2726a1438ad9c0, content: 'Riss der Gebärmutter: Vor allem bei Frauen mit vorangegangener Operation an der Gebärmutter (z. B. K...', meta: {'title': 'Medizinische Maßnahmen rund um die Geburt.md', 'source_id': '73715a31-955e-47df-a9fb-6c900290bddf', 'page_number': 1, 'split_id': 39, 'split_idx_start': 12873}, embedding: vector of size 2560),\n",
       " Document(id=ee5dde429ce361db708831abb7441c9b77b21d262673366f27b09e1fd8a5681f, content: 'Harnwegsinfekte: Entzündungen der Harnblase oder der Harnleiter können nach der Geburt auftreten, si...', meta: {'title': 'Medizinische Maßnahmen rund um die Geburt.md', 'source_id': '73715a31-955e-47df-a9fb-6c900290bddf', 'page_number': 1, 'split_id': 40, 'split_idx_start': 13133}, embedding: vector of size 2560),\n",
       " Document(id=bc2060afda0f9e39166df8e43e93bee0b1f95a0f7a02820d4d598486c6e74818, content: 'Starke Blutungen nach der Geburt: Diese können auftreten, wenn sich die Plazenta nicht oder nur unvo...', meta: {'title': 'Medizinische Maßnahmen rund um die Geburt.md', 'source_id': '73715a31-955e-47df-a9fb-6c900290bddf', 'page_number': 1, 'split_id': 41, 'split_idx_start': 13267}, embedding: vector of size 2560),\n",
       " Document(id=5d0cfb4a6287b7252deed3b8cc4baa9e4dcac0c8c70c0ccda45c9ec2cdc82a3d, content: 'Infektionen im Wochenbett: Verzögerte Rückbildung der Gebärmutter oder Plazentareste können Entzündu...', meta: {'title': 'Medizinische Maßnahmen rund um die Geburt.md', 'source_id': '73715a31-955e-47df-a9fb-6c900290bddf', 'page_number': 1, 'split_id': 42, 'split_idx_start': 13903}, embedding: vector of size 2560),\n",
       " Document(id=726644ace1fb6fa0e5da1504ed4d6a46dd47d64f9a81ddaa2c3c0ba3d1d59a7f, content: 'Nabelschnurvorfall: Wenn sich die Nabelschnur vor das Köpfchen schiebt, kann sie abgedrückt werden. ...', meta: {'title': 'Medizinische Maßnahmen rund um die Geburt.md', 'source_id': '73715a31-955e-47df-a9fb-6c900290bddf', 'page_number': 1, 'split_id': 43, 'split_idx_start': 14280}, embedding: vector of size 2560),\n",
       " Document(id=1025982f02fda57e5cb0518611fef57f890546072c596975d138761343270814, content: 'Schulterdystokie: Bleibt die Schulter des Kindes nach der Geburt des Kopfes im Becken hängen, ist sc...', meta: {'title': 'Medizinische Maßnahmen rund um die Geburt.md', 'source_id': '73715a31-955e-47df-a9fb-6c900290bddf', 'page_number': 1, 'split_id': 44, 'split_idx_start': 14478}, embedding: vector of size 2560),\n",
       " Document(id=ec47310a365457c52fb4085e1300f04ce58cb4dce7e2c180b9845a7917df6b3c, content: 'Spontangeburt aus Beckenendlage: Hierbei kommen spezielle Entbindungstechniken wie das Bracht- oder ...', meta: {'title': 'Medizinische Maßnahmen rund um die Geburt.md', 'source_id': '73715a31-955e-47df-a9fb-6c900290bddf', 'page_number': 1, 'split_id': 45, 'split_idx_start': 14868}, embedding: vector of size 2560),\n",
       " Document(id=2fccd3cb26938bc2b6903d1f8a225dfb1ab41b7f298ca70dde2fa8d661e59d1f, content: 'Zwillingsgeburten: Auch bei Zwillingen ist unter geeigneten Bedingungen eine vaginale Entbindung mög...', meta: {'title': 'Medizinische Maßnahmen rund um die Geburt.md', 'source_id': '73715a31-955e-47df-a9fb-6c900290bddf', 'page_number': 1, 'split_id': 46, 'split_idx_start': 15326}, embedding: vector of size 2560),\n",
       " Document(id=deb2982d9879af7cb750d7fa8bc17b58e57046db4f3c5f9e2ba4bfbbe9023b19, content: '\n",
       " Risiken bei instrumenteller Entbindung (Saugglocke/Zange)\n",
       " \n",
       " ', meta: {'title': 'Medizinische Maßnahmen rund um die Geburt.md', 'source_id': '73715a31-955e-47df-a9fb-6c900290bddf', 'page_number': 1, 'split_id': 47, 'split_idx_start': 15539}, embedding: vector of size 2560),\n",
       " Document(id=d7911fa338ea810f7c0e89ea177d0e0f56156f701908117977bcc1bf953a054c, content: 'Für die Mutter:\n",
       " \n",
       " ', meta: {'title': 'Medizinische Maßnahmen rund um die Geburt.md', 'source_id': '73715a31-955e-47df-a9fb-6c900290bddf', 'page_number': 1, 'split_id': 48, 'split_idx_start': 15599}, embedding: vector of size 2560),\n",
       " Document(id=8feea427a9bf0bcbcf6d7ea91e4362e65c071860ede33e0632a3ff0ebf091912, content: 'Es kann zu Verletzungen von Scheide, Gebärmutterhals oder -wand kommen. In seltenen Fällen tritt ein...', meta: {'title': 'Medizinische Maßnahmen rund um die Geburt.md', 'source_id': '73715a31-955e-47df-a9fb-6c900290bddf', 'page_number': 1, 'split_id': 49, 'split_idx_start': 15616}, embedding: vector of size 2560),\n",
       " Document(id=f9b2067fc5e68dc0a37102922aed44d444a6b5c33015400d87a0281bfea88332, content: 'Für das Kind:\n",
       " \n",
       " ', meta: {'title': 'Medizinische Maßnahmen rund um die Geburt.md', 'source_id': '73715a31-955e-47df-a9fb-6c900290bddf', 'page_number': 1, 'split_id': 50, 'split_idx_start': 15960}, embedding: vector of size 2560),\n",
       " Document(id=da7ebcfb229b9c36173874ed833a6643dddbb417d37b97b68e0e6b0462fa46e0, content: 'Druckstellen, Blutergüsse oder Schwellungen am Kopf treten gelegentlich auf und heilen meist folgenl...', meta: {'title': 'Medizinische Maßnahmen rund um die Geburt.md', 'source_id': '73715a31-955e-47df-a9fb-6c900290bddf', 'page_number': 1, 'split_id': 51, 'split_idx_start': 15975}, embedding: vector of size 2560),\n",
       " Document(id=57974b9bde25a9b0384b5a6417a5c817dbf620978e5ceab936e6d2ee36a2db53, content: 'Zur Vorbeugung von Hirnblutungen wird in der Regel Vitamin K verabreicht.\n",
       " \n",
       " ', meta: {'title': 'Medizinische Maßnahmen rund um die Geburt.md', 'source_id': '73715a31-955e-47df-a9fb-6c900290bddf', 'page_number': 1, 'split_id': 52, 'split_idx_start': 16083}, embedding: vector of size 2560),\n",
       " Document(id=281ee98110ec93a9177662d2912262a2727b799ff86644eff9d8817394c75d9d, content: 'Schwere Schädigungen wie Schädelbrüche, Lähmungen oder Hirnblutungen sind äußerst selten, können abe...', meta: {'title': 'Medizinische Maßnahmen rund um die Geburt.md', 'source_id': '73715a31-955e-47df-a9fb-6c900290bddf', 'page_number': 1, 'split_id': 53, 'split_idx_start': 16158}, embedding: vector of size 2560),\n",
       " Document(id=87cc86c59ae37b94b74c8ca2cd0072fd50d76836ce8fd772356723c7ab641da6, content: 'Sowohl bei Damm- als auch bei Kaiserschnittnähten kann es zu Schmerzen, Nachblutungen, Infektionen o...', meta: {'title': 'Medizinische Maßnahmen rund um die Geburt.md', 'source_id': '73715a31-955e-47df-a9fb-6c900290bddf', 'page_number': 1, 'split_id': 54, 'split_idx_start': 16301}, embedding: vector of size 2560),\n",
       " Document(id=4d22165f58de594eeba8a4ae891ee5a754ad126f58463a258e237fff32e400a6, content: 'Bei bestimmten Risikofaktoren wie starkem Übergewicht kann sich eine Sepsis (Blutvergiftung) entwick...', meta: {'title': 'Medizinische Maßnahmen rund um die Geburt.md', 'source_id': '73715a31-955e-47df-a9fb-6c900290bddf', 'page_number': 1, 'split_id': 55, 'split_idx_start': 16436}, embedding: vector of size 2560),\n",
       " Document(id=bb878ef2a2121e43698ba725bf3addabdc7f8009a0b5e0c6bef680ad1f5f072a, content: 'Manchmal tritt eine Wundheilungsstörung erst Wochen später auf. Ein teilweises oder vollständiges Au...', meta: {'title': 'Medizinische Maßnahmen rund um die Geburt.md', 'source_id': '73715a31-955e-47df-a9fb-6c900290bddf', 'page_number': 1, 'split_id': 56, 'split_idx_start': 16589}, embedding: vector of size 2560),\n",
       " Document(id=3e0cf07440257b3e602cb41f14e6c1cf8bbee203f64652a1dd7b07d09c1b9d30, content: 'Narbenbildungen oder Verwachsungen können dauerhaft Beschwerden wie Schmerzen bei Bewegung oder Gesc...', meta: {'title': 'Medizinische Maßnahmen rund um die Geburt.md', 'source_id': '73715a31-955e-47df-a9fb-6c900290bddf', 'page_number': 1, 'split_id': 57, 'split_idx_start': 16807}, embedding: vector of size 2560),\n",
       " Document(id=bffe4adcd955d23a9e7acffbed81177155ed5b9caa81966911b9e4929fad0ed5, content: '\n",
       " Dieser Informationsbogen kann lediglich über die zentralen Risiken eines Kaiserschnitts aufklären. ...', meta: {'title': 'Medizinische Maßnahmen rund um die Geburt.md', 'source_id': '73715a31-955e-47df-a9fb-6c900290bddf', 'page_number': 1, 'split_id': 58, 'split_idx_start': 16990}, embedding: vector of size 2560),\n",
       " Document(id=d02c047cad98045e8cb3d30841d44b614929be3a5096394d0733385ef2daaca7, content: 'In seltenen Fällen kann es während des Eingriffs zu Verletzungen benachbarter Organe kommen – beispi...', meta: {'title': 'Medizinische Maßnahmen rund um die Geburt.md', 'source_id': '73715a31-955e-47df-a9fb-6c900290bddf', 'page_number': 1, 'split_id': 59, 'split_idx_start': 17218}, embedding: vector of size 2560),\n",
       " Document(id=facae2a80ad7d91205df968e54d36ee1fccf8558844004de8ed9c307eedd3813, content: 'Sehr selten kann es zu so starken Blutungen kommen, dass die Quelle chirurgisch gestillt werden muss...', meta: {'title': 'Medizinische Maßnahmen rund um die Geburt.md', 'source_id': '73715a31-955e-47df-a9fb-6c900290bddf', 'page_number': 1, 'split_id': 60, 'split_idx_start': 17800}, embedding: vector of size 2560),\n",
       " Document(id=ad9939e13cfb690091ee46380640678d38cfffbbbe5b37e0c829f31c679f52e6, content: 'Ebenfalls möglich sind Verletzungen von Haut, Bindegewebe oder Nerven, die im Rahmen der Lagerung wä...', meta: {'title': 'Medizinische Maßnahmen rund um die Geburt.md', 'source_id': '73715a31-955e-47df-a9fb-6c900290bddf', 'page_number': 1, 'split_id': 61, 'split_idx_start': 18060}, embedding: vector of size 2560),\n",
       " Document(id=e34fd6c147ccf480a89d0b73687a07557525d836e4a075dd8d56073432f6622d, content: 'Infektionen, zum Beispiel der Harnwege, des Bauchfells oder der Lunge, können als Folge des Eingriff...', meta: {'title': 'Medizinische Maßnahmen rund um die Geburt.md', 'source_id': '73715a31-955e-47df-a9fb-6c900290bddf', 'page_number': 1, 'split_id': 62, 'split_idx_start': 18450}, embedding: vector of size 2560),\n",
       " Document(id=aa4a2854452c3553650dad084a48e81e3925cb7ba21d77ef7c66d1577d221be3, content: 'Wundheilungsprobleme mit oder ohne Hautbeteiligung sind möglich, vor allem wenn sich ein Narbenbruch...', meta: {'title': 'Medizinische Maßnahmen rund um die Geburt.md', 'source_id': '73715a31-955e-47df-a9fb-6c900290bddf', 'page_number': 1, 'split_id': 63, 'split_idx_start': 18788}, embedding: vector of size 2560),\n",
       " Document(id=84cc5d72c489f0eef6c2e9a9629cc48e2963fe8dbb6544d1e06c46828fbc4b4d, content: 'Gelegentlich führt eine Darmlähmung oder eine spätere Verwachsung zu einem Darmverschluss. In extrem...', meta: {'title': 'Medizinische Maßnahmen rund um die Geburt.md', 'source_id': '73715a31-955e-47df-a9fb-6c900290bddf', 'page_number': 1, 'split_id': 64, 'split_idx_start': 18996}, embedding: vector of size 2560),\n",
       " Document(id=c46fa6d31980b215ab202243b5e6fef141673a8387a5ecb58c22b7bcde417780, content: 'Bei künftigen Schwangerschaften kann die Narbe an der Gebärmutter erneut aufreißen, was unter Umstän...', meta: {'title': 'Medizinische Maßnahmen rund um die Geburt.md', 'source_id': '73715a31-955e-47df-a9fb-6c900290bddf', 'page_number': 1, 'split_id': 65, 'split_idx_start': 19174}, embedding: vector of size 2560),\n",
       " Document(id=4eb2814e7e1e81798379a98e7e0da3cef5fc75871a176741929982f1e97d59e2, content: 'Nach dem Eingriff sind Schmerzen und Missempfindungen rund um die Operationsnarbe häufig. Diese Besc...', meta: {'title': 'Medizinische Maßnahmen rund um die Geburt.md', 'source_id': '73715a31-955e-47df-a9fb-6c900290bddf', 'page_number': 1, 'split_id': 66, 'split_idx_start': 19467}, embedding: vector of size 2560),\n",
       " Document(id=bb66041e30526024b0d94a0fe49038dce416848fe7494b5ff475c5af434c583c, content: 'Beim Öffnen der Gebärmutter kann es in seltenen Fällen zu kleinen Schnittverletzungen beim Baby komm...', meta: {'title': 'Medizinische Maßnahmen rund um die Geburt.md', 'source_id': '73715a31-955e-47df-a9fb-6c900290bddf', 'page_number': 1, 'split_id': 67, 'split_idx_start': 19685}, embedding: vector of size 2560),\n",
       " Document(id=b15836078d7b710a8cbc15494c261a21037153c58c901f91edb897d86cc1e043, content: 'Nach einem Kaiserschnitt kann es beim Neugeborenen zu Anpassungsstörungen kommen – etwa zu Problemen...', meta: {'title': 'Medizinische Maßnahmen rund um die Geburt.md', 'source_id': '73715a31-955e-47df-a9fb-6c900290bddf', 'page_number': 1, 'split_id': 68, 'split_idx_start': 19905}, embedding: vector of size 2560),\n",
       " Document(id=8e4ad824cbdc3c9840e680f9369fda64319731c89e6cfccc35569e86dbaff6c2, content: 'Beobachtungen deuten darauf hin, dass bestimmte Krankheiten wie Asthma, Diabetes, allergische Reakti...', meta: {'title': 'Medizinische Maßnahmen rund um die Geburt.md', 'source_id': '73715a31-955e-47df-a9fb-6c900290bddf', 'page_number': 1, 'split_id': 69, 'split_idx_start': 20201}, embedding: vector of size 2560),\n",
       " Document(id=e7ef41354bc0c81b14469d1ac293978c793272995ad81a3e1f9cdf08d63c14f2, content: 'Bitte sprechen Sie im persönlichen Aufklärungsgespräch alle Punkte an, die Ihnen unklar erscheinen o...', meta: {'title': 'Medizinische Maßnahmen rund um die Geburt.md', 'source_id': '73715a31-955e-47df-a9fb-6c900290bddf', 'page_number': 1, 'split_id': 70, 'split_idx_start': 20450}, embedding: vector of size 2560),\n",
       " Document(id=5ca4f285badff13f7115a48d1063086afd9205ac4c3ebadc07f3a4ecdbc198f1, content: 'Suchen Sie bitte ärztliche Hilfe auf, wenn eines oder mehrere der folgenden Symptome bei Ihnen auftr...', meta: {'title': 'Medizinische Maßnahmen rund um die Geburt.md', 'source_id': '73715a31-955e-47df-a9fb-6c900290bddf', 'page_number': 1, 'split_id': 71, 'split_idx_start': 20600}, embedding: vector of size 2560),\n",
       " Document(id=d5b5818dc0c954a5950c11911e1744c105deb135b6345628c3fdf0ffbee961db, content: 'Fieber von über 38 °C,\n",
       " zunehmende Schmerzen im Unterbauch,\n",
       " Blutungen, die stärker sind als der norma...', meta: {'title': 'Medizinische Maßnahmen rund um die Geburt.md', 'source_id': '73715a31-955e-47df-a9fb-6c900290bddf', 'page_number': 1, 'split_id': 72, 'split_idx_start': 20707}, embedding: vector of size 2560),\n",
       " Document(id=87b4980b1b66138b13cbf8e2f88fc0e89230e31ab8d69874d309aff253d0ef56, content: 'Auch wenn sich solche Beschwerden erst Tage nach der Entlassung zeigen, sollten Sie nicht zögern, är...', meta: {'title': 'Medizinische Maßnahmen rund um die Geburt.md', 'source_id': '73715a31-955e-47df-a9fb-6c900290bddf', 'page_number': 1, 'split_id': 73, 'split_idx_start': 20984}, embedding: vector of size 2560),\n",
       " Document(id=01e8da54e685b2260569a1dd2e434f7a44dce5aab84b735f141d75808dbf09af, content: 'Damit Sie den geplanten Eingriff schmerzfrei erleben, stehen zwei grundlegende Methoden zur Verfügun...', meta: {'title': 'Narkose.md', 'source_id': '5f228e4f-ab5c-4585-8ee9-bb4ce764dbbc', 'page_number': 1, 'split_id': 0, 'split_idx_start': 0}, embedding: vector of size 2560),\n",
       " Document(id=eaf754b7dd349dc7dd19fcbdefd9457ddc7c2fe86c7fe33179788d1c16710767, content: 'Eine Allgemeinanästhesie (Narkose), die das Bewusstsein sowie das Schmerzempfinden im gesamten Körpe...', meta: {'title': 'Narkose.md', 'source_id': '5f228e4f-ab5c-4585-8ee9-bb4ce764dbbc', 'page_number': 1, 'split_id': 1, 'split_idx_start': 104}, embedding: vector of size 2560),\n",
       " Document(id=da6c160fae6198f5f47e553c496ffb708b2fd3f8891a2a0abff11e2acef05f7e, content: 'In bestimmten Fällen ist auch eine Kombination beider Verfahren möglich. Welches Anästhesieverfahren...', meta: {'title': 'Narkose.md', 'source_id': '5f228e4f-ab5c-4585-8ee9-bb4ce764dbbc', 'page_number': 1, 'split_id': 2, 'split_idx_start': 326}, embedding: vector of size 2560),\n",
       " Document(id=e6cb71cd5847f7a174e63641c71cf1193a03f31270e996741f93d3702a0989e6, content: 'Vor Beginn der Anästhesie wird über eine Verweilkanüle in einer Vene – beispielsweise an Hand oder A...', meta: {'title': 'Narkose.md', 'source_id': '5f228e4f-ab5c-4585-8ee9-bb4ce764dbbc', 'page_number': 1, 'split_id': 3, 'split_idx_start': 674}, embedding: vector of size 2560),\n",
       " Document(id=fe7febc92dc30cfd4528e98d79a4c3449e4db392af33b9e901f35bc36a3f7cf9, content: 'Die Einleitung der Narkose erfolgt durch die intravenöse Gabe eines schnell wirksamen Narkosemittels...', meta: {'title': 'Narkose.md', 'source_id': '5f228e4f-ab5c-4585-8ee9-bb4ce764dbbc', 'page_number': 1, 'split_id': 4, 'split_idx_start': 916}, embedding: vector of size 2560),\n",
       " Document(id=75a12e9645c65114784c4610fd69a920e77c081fa801073e342d30d0f3d56bec, content: 'Zur Aufrechterhaltung der Narkose während des Eingriffs kommen entweder kontinuierlich verabreichte ...', meta: {'title': 'Narkose.md', 'source_id': '5f228e4f-ab5c-4585-8ee9-bb4ce764dbbc', 'page_number': 1, 'split_id': 5, 'split_idx_start': 1049}, embedding: vector of size 2560),\n",
       " Document(id=40cefa28f832d8a3b5691be16b6529c9f6e0d6f3b058c03f88a070ef042948d8, content: 'Für die kontrollierte Beatmung wird:\n",
       " \n",
       " ', meta: {'title': 'Narkose.md', 'source_id': '5f228e4f-ab5c-4585-8ee9-bb4ce764dbbc', 'page_number': 1, 'split_id': 6, 'split_idx_start': 1264}, embedding: vector of size 2560),\n",
       " Document(id=54875c72832c89950745f47bc90fc42edc8f256545bfa3db5b3e36e0e0db68ee, content: 'ein Beatmungsschlauch (Tubus) über Mund oder Nase in die Luftröhre eingeführt (Intubationsnarkose),\n",
       " ...', meta: {'title': 'Narkose.md', 'source_id': '5f228e4f-ab5c-4585-8ee9-bb4ce764dbbc', 'page_number': 1, 'split_id': 7, 'split_idx_start': 1302}, embedding: vector of size 2560),\n",
       " Document(id=35981162edee918f662c260b709d7794ac4f0a10ad0ef5a74dbc41c0644783a0, content: 'Die Verwendung eines Tubus bietet den zusätzlichen Schutz, das Risiko des Eindringens von Speichel o...', meta: {'title': 'Narkose.md', 'source_id': '5f228e4f-ab5c-4585-8ee9-bb4ce764dbbc', 'page_number': 1, 'split_id': 8, 'split_idx_start': 1473}, embedding: vector of size 2560),\n",
       " Document(id=e926ecdcecdeab1dbdeb420adb32eedfa0cfede5f0ee52c65e3f05e900d1d340, content: 'Bei der Regionalanästhesie wird ein örtlich wirkendes Betäubungsmittel in die Nähe von Nerven gespri...', meta: {'title': 'Narkose.md', 'source_id': '5f228e4f-ab5c-4585-8ee9-bb4ce764dbbc', 'page_number': 1, 'split_id': 9, 'split_idx_start': 1792}, embedding: vector of size 2560),\n",
       " Document(id=476623281cca1be5b6d9ad590cbe07e1eeea751b2c7bb5c9b6ea5f5ec66b7f4a, content: 'Typischerweise äußert sich die Wirkung zunächst durch ein Kribbeln oder Wärmegefühl. Im Anschluss fü...', meta: {'title': 'Narkose.md', 'source_id': '5f228e4f-ab5c-4585-8ee9-bb4ce764dbbc', 'page_number': 1, 'split_id': 10, 'split_idx_start': 2123}, embedding: vector of size 2560),\n",
       " Document(id=1da73ffbe748056ba11ec02f8468f451b66397f9917d5b6fa9bafc2edaa0acb5, content: 'Während einer Regionalanästhesie bleiben Sie wach. Auf Wunsch oder bei medizinischer Indikation kann...', meta: {'title': 'Narkose.md', 'source_id': '5f228e4f-ab5c-4585-8ee9-bb4ce764dbbc', 'page_number': 1, 'split_id': 11, 'split_idx_start': 2436}, embedding: vector of size 2560),\n",
       " Document(id=0f6aa22edf6414d1311bd082c32b821ea52b4a9f0b517f635e48d55303391c4a, content: 'Mitunter ist es sinnvoll, die Regionalanästhesie ergänzend zur Narkose anzuwenden. Diese Kombination...', meta: {'title': 'Narkose.md', 'source_id': '5f228e4f-ab5c-4585-8ee9-bb4ce764dbbc', 'page_number': 1, 'split_id': 12, 'split_idx_start': 2798}, embedding: vector of size 2560),\n",
       " Document(id=7c8464eb0514fabe9e595f4e3dfc7be6c0969f49f322984f15a5210bc6fdac31, content: 'Diese Methoden eignen sich besonders für operative Eingriffe an der unteren Körperhälfte – etwa an B...', meta: {'title': 'Narkose.md', 'source_id': '5f228e4f-ab5c-4585-8ee9-bb4ce764dbbc', 'page_number': 1, 'split_id': 13, 'split_idx_start': 3128}, embedding: vector of size 2560),\n",
       " Document(id=5f53abecefff800f4ff28fca34733846a39af31893945d404b7f1a817e13537b, content: 'Beide Verfahren wirken auf die Nervenfasern, die im Rückenmark verlaufen:\n",
       " \n",
       " ', meta: {'title': 'Narkose.md', 'source_id': '5f228e4f-ab5c-4585-8ee9-bb4ce764dbbc', 'page_number': 1, 'split_id': 14, 'split_idx_start': 3387}, embedding: vector of size 2560),\n",
       " Document(id=ebc4a632ce6442e64149d9e9d7504fb55095b41538bea5be21be0cdedc8911de, content: 'Bei der Spinalanästhesie wird das Betäubungsmittel in Höhe der Lendenwirbelsäule direkt in den sogen...', meta: {'title': 'Narkose.md', 'source_id': '5f228e4f-ab5c-4585-8ee9-bb4ce764dbbc', 'page_number': 1, 'split_id': 15, 'split_idx_start': 3462}, embedding: vector of size 2560),\n",
       " Document(id=ad6d40c168ed08b66dd3f872985fdd05b7e1c0614ad3f8c25c076668b832a900, content: 'Eine Kombination beider Verfahren ist ebenfalls möglich.\n",
       " \n",
       " ', meta: {'title': 'Narkose.md', 'source_id': '5f228e4f-ab5c-4585-8ee9-bb4ce764dbbc', 'page_number': 1, 'split_id': 16, 'split_idx_start': 3873}, embedding: vector of size 2560),\n",
       " Document(id=983e50aba8197e0c70d00abc2703f476c675feeecc07e7b96d172e3175ac0562, content: 'Bei Operationen an Schulter, Arm oder Hand kann eine Betäubung des sogenannten Armplexus erfolgen – ...', meta: {'title': 'Narkose.md', 'source_id': '5f228e4f-ab5c-4585-8ee9-bb4ce764dbbc', 'page_number': 1, 'split_id': 17, 'split_idx_start': 3931}, embedding: vector of size 2560),\n",
       " Document(id=8826907e7e22f9a89af93397b0afcbf8ef538e30a92515a9e297df21c2efb439, content: 'in der Achselhöhle (axillär)\n",
       " unterhalb des Schlüsselbeins (infraklavikulär)\n",
       " oberhalb des Schlüsselbe...', meta: {'title': 'Narkose.md', 'source_id': '5f228e4f-ab5c-4585-8ee9-bb4ce764dbbc', 'page_number': 1, 'split_id': 18, 'split_idx_start': 4232}, embedding: vector of size 2560),\n",
       " Document(id=9c9ffca142625b39b21803b07c95f2dbd8084408339a52617febb91ed3651026, content: 'Um die genaue Position der Nadel sicherzustellen, nutzt der Arzt meist Ultraschall und/oder einen Ne...', meta: {'title': 'Narkose.md', 'source_id': '5f228e4f-ab5c-4585-8ee9-bb4ce764dbbc', 'page_number': 1, 'split_id': 19, 'split_idx_start': 4416}, embedding: vector of size 2560),\n",
       " Document(id=26aede75f0bf7318645e6afe6db63c447aa49ecd6355c87cf68dfb131fdfb22f, content: 'Wechsel zur Narkose bei unzureichender Wirkung\n",
       " \n",
       " ', meta: {'title': 'Narkose.md', 'source_id': '5f228e4f-ab5c-4585-8ee9-bb4ce764dbbc', 'page_number': 1, 'split_id': 20, 'split_idx_start': 4626}, embedding: vector of size 2560),\n",
       " Document(id=ff2abfbcc53c1863b20c90cf916f151045ba50cd1aee686d693dfc42eb0cb9a3, content: 'In Einzelfällen kann es vorkommen, dass eine Regionalanästhesie nicht ausreicht, um die Schmerzleitu...', meta: {'title': 'Narkose.md', 'source_id': '5f228e4f-ab5c-4585-8ee9-bb4ce764dbbc', 'page_number': 1, 'split_id': 21, 'split_idx_start': 4674}, embedding: vector of size 2560),\n",
       " Document(id=bb3fc062747c1a8df1b7a76b1aa55473750a6935adbad6792d43ef6a30e7011d, content: 'Für eine effektive Schmerztherapie nach der Operation kann ein dünner Kunststoffschlauch (regionaler...', meta: {'title': 'Narkose.md', 'source_id': '5f228e4f-ab5c-4585-8ee9-bb4ce764dbbc', 'page_number': 1, 'split_id': 22, 'split_idx_start': 4978}, embedding: vector of size 2560),\n",
       " Document(id=06e69cd0f843a6f8bcb0272b5df0c4c7a6fed77311acf2cc7ad7b4c56fd6e0c2, content: 'Sollte der Einsatz eines solchen Katheters für die postoperative Schmerztherapie empfohlen werden, k...', meta: {'title': 'Narkose.md', 'source_id': '5f228e4f-ab5c-4585-8ee9-bb4ce764dbbc', 'page_number': 1, 'split_id': 23, 'split_idx_start': 5408}, embedding: vector of size 2560),\n",
       " Document(id=be522f3b32b0737a156dd61056636caa6492fbaefd2aed86ce9371a2c99b6248, content: 'Weitere Maßnahmen und mögliche Begleiteingriffe\n",
       " \n",
       " ', meta: {'title': 'Narkose.md', 'source_id': '5f228e4f-ab5c-4585-8ee9-bb4ce764dbbc', 'page_number': 1, 'split_id': 24, 'split_idx_start': 5562}, embedding: vector of size 2560),\n",
       " Document(id=08e1c23af2307f0330198dcf47a4a9de94f372e2303f64ddf0f709e61a36e474, content: 'Falls absehbare Zusatzmaßnahmen oder Folgeeingriffe notwendig werden, wie z. B. das Einführen eines ...', meta: {'title': 'Narkose.md', 'source_id': '5f228e4f-ab5c-4585-8ee9-bb4ce764dbbc', 'page_number': 1, 'split_id': 25, 'split_idx_start': 5611}, embedding: vector of size 2560),\n",
       " Document(id=c620e1e75c700fec922f47b5ee78e55c6caf69c620425f2ab48fa285dc3d1da5, content: 'Sollte eine Bluttransfusion mit Spenderblut in Frage kommen, erhalten Sie ebenfalls eine separate Au...', meta: {'title': 'Narkose.md', 'source_id': '5f228e4f-ab5c-4585-8ee9-bb4ce764dbbc', 'page_number': 1, 'split_id': 26, 'split_idx_start': 5784}, embedding: vector of size 2560),\n",
       " Document(id=2c142eda95f9dc2a69b83c05be91b1f566fe627f4cc0465b031d0d7972c6c410, content: 'Während des Eingriffs werden Ihre wichtigsten Vitalfunktionen wie Herzschlag, Atmung und Kreislauf k...', meta: {'title': 'Narkose.md', 'source_id': '5f228e4f-ab5c-4585-8ee9-bb4ce764dbbc', 'page_number': 1, 'split_id': 27, 'split_idx_start': 6338}, embedding: vector of size 2560),\n",
       " Document(id=e574d46d597a8b0482acfc4b6911f61f5a18b6597f927c890e88c1f98176e464, content: 'Die im Folgenden genannten Häufigkeiten von Komplikationen dienen der groben Einordnung und basieren...', meta: {'title': 'Narkose.md', 'source_id': '5f228e4f-ab5c-4585-8ee9-bb4ce764dbbc', 'page_number': 1, 'split_id': 28, 'split_idx_start': 6802}, embedding: vector of size 2560),\n",
       " Document(id=d49c89ffc3c17022df80088dc6cbf8bf2234e3f43e83f11f4f6b2c59a73a790a, content: 'Falls vorgesehen ist, bei Ihnen Medikamente anzuwenden, die sich in der Anästhesie bewährt haben, je...', meta: {'title': 'Narkose.md', 'source_id': '5f228e4f-ab5c-4585-8ee9-bb4ce764dbbc', 'page_number': 1, 'split_id': 29, 'split_idx_start': 7178}, embedding: vector of size 2560),\n",
       " Document(id=ef0b1376e2bab8b60c1a1794a1245fddd1b506a21f2c3c0f024f6263980138f7, content: 'Allgemeine Risiken bei Injektionen, Kanülen und Kathetern\n",
       " \n",
       " ', meta: {'title': 'Narkose.md', 'source_id': '5f228e4f-ab5c-4585-8ee9-bb4ce764dbbc', 'page_number': 1, 'split_id': 30, 'split_idx_start': 7579}, embedding: vector of size 2560),\n",
       " Document(id=4d0b996934558ef3b7517ecb9a2a142a9299e7ea327e24195293f3eba1acc557, content: 'Wird eine Nadel, Kanüle oder ein Katheter gesetzt, kann es zu einer Verletzung von Blutgefäßen komme...', meta: {'title': 'Narkose.md', 'source_id': '5f228e4f-ab5c-4585-8ee9-bb4ce764dbbc', 'page_number': 1, 'split_id': 31, 'split_idx_start': 7638}, embedding: vector of size 2560),\n",
       " Document(id=2e5c54cd767935cfe7204beef612556f3b2c73578fb514a0d1a438ab690d43bf, content: 'Katheter, insbesondere bei längerer Liegedauer in Venen, können Reizungen, Abszesse, Gewebeuntergang...', meta: {'title': 'Narkose.md', 'source_id': '5f228e4f-ab5c-4585-8ee9-bb4ce764dbbc', 'page_number': 1, 'split_id': 32, 'split_idx_start': 7900}, embedding: vector of size 2560),\n",
       " Document(id=830fcddc065702dda6d054b9d9d0b1f6eb6096f35ec7efe598a4e57baaea1ef8, content: 'Durch die Platzierung oder das Einführen solcher Hilfsmittel können Nerven verletzt werden. In der F...', meta: {'title': 'Narkose.md', 'source_id': '5f228e4f-ab5c-4585-8ee9-bb4ce764dbbc', 'page_number': 1, 'split_id': 33, 'split_idx_start': 8190}, embedding: vector of size 2560),\n",
       " Document(id=54a52c44f758a5bceaddab2dc627a708d5601cd1a9ccbcff3e8a2d39b7c4378e, content: 'Sehr selten kann es durch schwerwiegende Nervenverletzungen, größere Blutergüsse oder entzündliche R...', meta: {'title': 'Narkose.md', 'source_id': '5f228e4f-ab5c-4585-8ee9-bb4ce764dbbc', 'page_number': 1, 'split_id': 34, 'split_idx_start': 8486}, embedding: vector of size 2560),\n",
       " Document(id=46897b2b93914a2695f8fce549c72e4715be6b0e6416fdd2fb0a9ac8102aed48, content: 'Thrombosen oder Embolien: Gerinnt Blut und verstopft Gefäße, kann dies – je nach Lage – zu ernsten, ...', meta: {'title': 'Narkose.md', 'source_id': '5f228e4f-ab5c-4585-8ee9-bb4ce764dbbc', 'page_number': 1, 'split_id': 35, 'split_idx_start': 8657}, embedding: vector of size 2560),\n",
       " Document(id=c2ba453330aaf1a5d6c178266af1a8800c8f3d0e4024b1526626f11c93fe9f02, content: '\n",
       " Allgemeine Risiken von Anästhesieverfahren und Medikamentennebenwirkungen\n",
       " \n",
       " ', meta: {'title': 'Narkose.md', 'source_id': '5f228e4f-ab5c-4585-8ee9-bb4ce764dbbc', 'page_number': 1, 'split_id': 36, 'split_idx_start': 8855}, embedding: vector of size 2560),\n",
       " Document(id=36840c7835dd9f3ad934abe282e33ae3e31520888a82ae7c70a41272da96f16b, content: 'Lagerungsbedingte Schäden: Während der Anästhesie kann es durch unbeabsichtigten Druck, Zug oder Übe...', meta: {'title': 'Narkose.md', 'source_id': '5f228e4f-ab5c-4585-8ee9-bb4ce764dbbc', 'page_number': 1, 'split_id': 37, 'split_idx_start': 8931}, embedding: vector of size 2560),\n",
       " Document(id=fb6fa32332033ed122c75bac03d4941e437c17b68f86a7a40c369d78032b5ec9, content: 'Medikamentenreaktionen: Die eingesetzten Mittel (z. B. Betäubungs- oder Muskelrelaxantien, Desinfekt...', meta: {'title': 'Narkose.md', 'source_id': '5f228e4f-ab5c-4585-8ee9-bb4ce764dbbc', 'page_number': 1, 'split_id': 38, 'split_idx_start': 9381}, embedding: vector of size 2560),\n",
       " Document(id=8f2c67832548b3f758b5a8efea149fb2a3589b9a23efc140df2d59f8210cf853, content: 'Schwere Komplikationen: In seltenen Fällen können starke allergische Reaktionen oder unvorhergesehen...', meta: {'title': 'Narkose.md', 'source_id': '5f228e4f-ab5c-4585-8ee9-bb4ce764dbbc', 'page_number': 1, 'split_id': 39, 'split_idx_start': 9717}, embedding: vector of size 2560),\n",
       " Document(id=9dee9288407ec6c0af2e8c59cc9741c283d850241ad1bf8ee4b1beb823fcc059, content: 'Medikamentenspezifische Risiken: Jedes Präparat birgt individuelle Gefahren. Beispielsweise kann das...', meta: {'title': 'Narkose.md', 'source_id': '5f228e4f-ab5c-4585-8ee9-bb4ce764dbbc', 'page_number': 1, 'split_id': 40, 'split_idx_start': 10099}, embedding: vector of size 2560),\n",
       " Document(id=70f1f01bcf451d2f00a36c612a6d77802413ff8469f2914570b43ea50f4253ab, content: 'Maligne Hyperthermie: Diese seltene, genetisch bedingte Stoffwechselstörung kann nach Gabe bestimmte...', meta: {'title': 'Narkose.md', 'source_id': '5f228e4f-ab5c-4585-8ee9-bb4ce764dbbc', 'page_number': 1, 'split_id': 41, 'split_idx_start': 10476}, embedding: vector of size 2560),\n",
       " Document(id=66ce736caf791e0e546af37276e6ad4d2bb70903c184ce582c6765e682894693, content: 'Verwirrtheit nach Narkose: Besonders bei älteren Personen können nach der Anästhesie geistige Einsch...', meta: {'title': 'Narkose.md', 'source_id': '5f228e4f-ab5c-4585-8ee9-bb4ce764dbbc', 'page_number': 1, 'split_id': 42, 'split_idx_start': 10745}, embedding: vector of size 2560),\n",
       " Document(id=6d0780ae05ecfcc23efd347d5e47b0af656d8930b320533ecd152540f75ceb8a, content: 'Einatmen von Mageninhalt (Aspiration): Falls während der Narkose Mageninhalt in die Lunge gelangt, k...', meta: {'title': 'Narkose.md', 'source_id': '5f228e4f-ab5c-4585-8ee9-bb4ce764dbbc', 'page_number': 1, 'split_id': 43, 'split_idx_start': 11076}, embedding: vector of size 2560),\n",
       " Document(id=c6b60ef9504acf99646bfd4db4850377d4ee052b864a0f9d480bc0b78350a83d, content: 'Luftwegskomplikationen: Beim Einführen oder Entfernen von Beatmungshilfen (v. a. Tubus, seltener Keh...', meta: {'title': 'Narkose.md', 'source_id': '5f228e4f-ab5c-4585-8ee9-bb4ce764dbbc', 'page_number': 1, 'split_id': 44, 'split_idx_start': 11366}, embedding: vector of size 2560),\n",
       " Document(id=771ef30480f3f9aff4806f872ea16050e7d155164d6b2c90103c1a3171e22070, content: 'Heiserkeit und Schluckbeschwerden: Diese Beschwerden treten häufiger nach der Verwendung eines Tubus...', meta: {'title': 'Narkose.md', 'source_id': '5f228e4f-ab5c-4585-8ee9-bb4ce764dbbc', 'page_number': 1, 'split_id': 45, 'split_idx_start': 11698}, embedding: vector of size 2560),\n",
       " Document(id=c990b72ae5c8e26653baa7aa0f6784ab015198802f46f99f773768f810928157, content: 'Verletzungen im Rachenraum: Schäden an Stimmbändern (z. B. Stimmbandlähmung), dem Kehlkopf oder der ...', meta: {'title': 'Narkose.md', 'source_id': '5f228e4f-ab5c-4585-8ee9-bb4ce764dbbc', 'page_number': 1, 'split_id': 46, 'split_idx_start': 11894}, embedding: vector of size 2560),\n",
       " Document(id=2b8235308033a05cc310c18164cd94cf5855f01752ebe00be7feaff13edc2a8b, content: 'Zahnschäden: Besonders bei bereits geschädigten oder gelockerten Zähnen kann es zu Schäden an Zähnen...', meta: {'title': 'Narkose.md', 'source_id': '5f228e4f-ab5c-4585-8ee9-bb4ce764dbbc', 'page_number': 1, 'split_id': 47, 'split_idx_start': 12112}, embedding: vector of size 2560),\n",
       " Document(id=fbd57aa38e567a725f5be62889045ff692f8a1de8f0eb4c396b4d4c28e2ef1d4, content: 'Bewusstsein unter Narkose (Awareness): In sehr seltenen Fällen wachen Patientinnen oder Patienten wä...', meta: {'title': 'Narkose.md', 'source_id': '5f228e4f-ab5c-4585-8ee9-bb4ce764dbbc', 'page_number': 1, 'split_id': 48, 'split_idx_start': 12339}, embedding: vector of size 2560),\n",
       " Document(id=a98c85f332d6f85552c10a3857fb682e9c6ad312d0a43e2409f1bdd1bc44d3f9, content: 'Reaktionen auf das Betäubungsmittel: Falls das Mittel versehentlich direkt in ein Blutgefäß gespritz...', meta: {'title': 'Narkose.md', 'source_id': '5f228e4f-ab5c-4585-8ee9-bb4ce764dbbc', 'page_number': 1, 'split_id': 49, 'split_idx_start': 12618}, embedding: vector of size 2560),\n",
       " Document(id=cd3705ea4560adff9215f3041e2b9320a235a4266c63aae5615a6f0c262c304b, content: 'Pneumothorax (Luft in der Brusthöhle): Bei thorakaler PDA oder Armplexusanästhesien – außer der axil...', meta: {'title': 'Narkose.md', 'source_id': '5f228e4f-ab5c-4585-8ee9-bb4ce764dbbc', 'page_number': 1, 'split_id': 50, 'split_idx_start': 13241}, embedding: vector of size 2560),\n",
       " Document(id=647ac31f59c4d9657f2f180ce55e841475fa556232f6e35db4bd9f9db6cc0bd2, content: 'Komplikationen bei Schmerzkathetern: Wenn ein regionaler Katheter zur Schmerzbehandlung eingesetzt w...', meta: {'title': 'Narkose.md', 'source_id': '5f228e4f-ab5c-4585-8ee9-bb4ce764dbbc', 'page_number': 1, 'split_id': 51, 'split_idx_start': 13553}, embedding: vector of size 2560),\n",
       " Document(id=bc97e7004cac776776348e259805a026983e8e7aa327c0d7c0d6e00142e7204c, content: '\n",
       " Spezielle Risiken der Spinal- und Periduralanästhesie\n",
       " \n",
       " ', meta: {'title': 'Narkose.md', 'source_id': '5f228e4f-ab5c-4585-8ee9-bb4ce764dbbc', 'page_number': 1, 'split_id': 52, 'split_idx_start': 13852}, embedding: vector of size 2560),\n",
       " Document(id=35ae2f153c57e43d5a17ca518f737f238c23b03296b41a6a67c8041f42b5e4aa, content: 'Verletzungen des Rückenmarks: Bei der Spinal- und lumbalen Periduralanästhesie ist eine direkte Schä...', meta: {'title': 'Narkose.md', 'source_id': '5f228e4f-ab5c-4585-8ee9-bb4ce764dbbc', 'page_number': 1, 'split_id': 53, 'split_idx_start': 13908}, embedding: vector of size 2560),\n",
       " Document(id=15244edc99fb04874b64f9d547ca371a672841fa5b73feb4cf80538461986324, content: 'Lähmungen und Funktionsstörungen: In seltenen Fällen kann es durch Blutansammlungen (Hämatome), Infe...', meta: {'title': 'Narkose.md', 'source_id': '5f228e4f-ab5c-4585-8ee9-bb4ce764dbbc', 'page_number': 1, 'split_id': 54, 'split_idx_start': 14213}, embedding: vector of size 2560),\n",
       " Document(id=ac6340da6ded7fe7424c9864388d28f7ab71195dcf21777fddfeb80e57a73a83, content: 'Hirnhautentzündungen: Eine aufsteigende Infektion kann in seltenen Fällen zu einer Meningitis führen...', meta: {'title': 'Narkose.md', 'source_id': '5f228e4f-ab5c-4585-8ee9-bb4ce764dbbc', 'page_number': 1, 'split_id': 55, 'split_idx_start': 14492}, embedding: vector of size 2560),\n",
       " Document(id=dda2ccccf5d44cb3dd4d70148a568267315def0ef0292d8d899f18eda8fb5e75, content: 'Komplikationen durch unbeabsichtigten Durchstich der harten Rückenmarkshaut: Wird diese bei der PDA ...', meta: {'title': 'Narkose.md', 'source_id': '5f228e4f-ab5c-4585-8ee9-bb4ce764dbbc', 'page_number': 1, 'split_id': 56, 'split_idx_start': 14595}, embedding: vector of size 2560),\n",
       " Document(id=080163e5390628bfa67fe298b738c6825e2e71d6d68efe650653668ceb353f2b, content: 'Reizung von Hirnnerven mit vorübergehenden oder selten bleibenden Sehstörungen, Hörproblemen oder se...', meta: {'title': 'Narkose.md', 'source_id': '5f228e4f-ab5c-4585-8ee9-bb4ce764dbbc', 'page_number': 1, 'split_id': 57, 'split_idx_start': 14818}, embedding: vector of size 2560),\n",
       " Document(id=bbdaeced40820863de3ae70e26a0983a01549e6c88e1f7470ab1751d6b290348, content: 'Sexuelle Funktionsstörungen: Vorübergehende Störungen der Potenz sind ebenfalls möglich.\n",
       " \n",
       " ', meta: {'title': 'Narkose.md', 'source_id': '5f228e4f-ab5c-4585-8ee9-bb4ce764dbbc', 'page_number': 1, 'split_id': 58, 'split_idx_start': 15625}, embedding: vector of size 2560),\n",
       " Document(id=758da63ff6fd1aa6e5dd07fa3517a85f09031f8101fe360bf2ade4b80257dedd, content: 'Empfindungs- und Bewegungsstörungen: Infolge der Betäubung können Missempfindungen wie Kribbeln, Tau...', meta: {'title': 'Narkose.md', 'source_id': '5f228e4f-ab5c-4585-8ee9-bb4ce764dbbc', 'page_number': 1, 'split_id': 59, 'split_idx_start': 15715}, embedding: vector of size 2560),\n",
       " Document(id=3ffc03833032f63b438380609464312e28041fb93e749846b8bf35a967c3f175, content: 'Zwerchfellnervenlähmung: Eine vorübergehende Lähmung des Nervs, der das Zwerchfell versorgt, ist bes...', meta: {'title': 'Narkose.md', 'source_id': '5f228e4f-ab5c-4585-8ee9-bb4ce764dbbc', 'page_number': 1, 'split_id': 60, 'split_idx_start': 16074}, embedding: vector of size 2560),\n",
       " Document(id=d004726eca312931e163d410762947dfeb4c72aaf010f0b784d7be580979166e, content: 'Stimmbandlähmung: Gelegentlich kann es zu einer kurzzeitigen Lähmung des Stimmbandnervs kommen, die ...', meta: {'title': 'Narkose.md', 'source_id': '5f228e4f-ab5c-4585-8ee9-bb4ce764dbbc', 'page_number': 1, 'split_id': 61, 'split_idx_start': 16587}, embedding: vector of size 2560),\n",
       " Document(id=61d51ae9338dc1beedbeb8ec27590449f4b0241be45daa8db6b9aa9241ee8ce7, content: 'Horner-Syndrom: Ein einseitiges herabhängendes Augenlid, ein Wärmegefühl im Gesicht oder Heiserkeit ...', meta: {'title': 'Narkose.md', 'source_id': '5f228e4f-ab5c-4585-8ee9-bb4ce764dbbc', 'page_number': 1, 'split_id': 62, 'split_idx_start': 16742}, embedding: vector of size 2560),\n",
       " Document(id=1893906269fd284486590261c3d98b5bb87ada7c64e1aecc2df1822d3ca921e4, content: '\n",
       " Bitte beachten Sie unbedingt die nachfolgenden Hinweise zur NÜCHTERNHEIT, sofern der Arzt keine abw...', meta: {'title': 'Narkose.md', 'source_id': '5f228e4f-ab5c-4585-8ee9-bb4ce764dbbc', 'page_number': 1, 'split_id': 63, 'split_idx_start': 16956}, embedding: vector of size 2560),\n",
       " Document(id=7b45fe2987423f8836913708457d2bc648fa45b4db65f074d34b112406278048, content: 'Erwachsene:\n",
       " Bis zu sechs Stunden vor dem Eingriff ist eine leichte, gut verdauliche Mahlzeit erlaubt...', meta: {'title': 'Narkose.md', 'source_id': '5f228e4f-ab5c-4585-8ee9-bb4ce764dbbc', 'page_number': 1, 'split_id': 64, 'split_idx_start': 17092}, embedding: vector of size 2560),\n",
       " Document(id=d754f394a61fbdcdb1e8c18caa827e2ab96974d33b1989e2c74343e57b0dd3bc, content: 'Zwischen sechs und zwei Stunden vor der Anästhesie dürfen Sie lediglich noch 1–2 Gläser klare Flüssi...', meta: {'title': 'Narkose.md', 'source_id': '5f228e4f-ab5c-4585-8ee9-bb4ce764dbbc', 'page_number': 1, 'split_id': 65, 'split_idx_start': 17260}, embedding: vector of size 2560),\n",
       " Document(id=eace49294e3b77cf6bc9b9e63d353ea72e8fe2bb874a046f63c017e90705a1b9, content: 'Jugendliche unter 18 Jahren:\n",
       " Müssen spätestens sechs Stunden vor der Narkose das Essen einstellen.\n",
       " \n",
       " ...', meta: {'title': 'Narkose.md', 'source_id': '5f228e4f-ab5c-4585-8ee9-bb4ce764dbbc', 'page_number': 1, 'split_id': 66, 'split_idx_start': 17502}, embedding: vector of size 2560),\n",
       " Document(id=dc64ae679275635a5c5fe44303355a76930c2a099ccc3516db3a67a2cc6af94b, content: 'Zwischen sechs und einer Stunde vor der Anästhesie dürfen auch sie nur klare, fettfreie und alkoholf...', meta: {'title': 'Narkose.md', 'source_id': '5f228e4f-ab5c-4585-8ee9-bb4ce764dbbc', 'page_number': 1, 'split_id': 67, 'split_idx_start': 17602}, embedding: vector of size 2560),\n",
       " Document(id=38f78759e7307752dfc9161a7b5be72a8caca80b7dd22aff4ab7ec4f0bc3012a, content: '\n",
       " Ab dem jeweils für Sie geltenden Zeitpunkt ist jegliche Nahrungs- und Flüssigkeitsaufnahme verboten...', meta: {'title': 'Narkose.md', 'source_id': '5f228e4f-ab5c-4585-8ee9-bb4ce764dbbc', 'page_number': 1, 'split_id': 68, 'split_idx_start': 17762}, embedding: vector of size 2560),\n",
       " Document(id=eed083ec85abde748f75b56cdef9fc884c40aa39ee4b73fa493ed5d192029ca0, content: 'Rauchen erhöht grundsätzlich das Risiko während Narkose und Operation, zum Beispiel für Infektionen ...', meta: {'title': 'Narkose.md', 'source_id': '5f228e4f-ab5c-4585-8ee9-bb4ce764dbbc', 'page_number': 1, 'split_id': 69, 'split_idx_start': 18003}, embedding: vector of size 2560),\n",
       " Document(id=b271739cb2fe33908fd1e2354846bac7599edea51cb9a558f341ebcbd3e3a9d0, content: 'Der Arzt wird mit Ihnen besprechen, welche Medikamente weiterhin eingenommen, abgesetzt oder gegeben...', meta: {'title': 'Narkose.md', 'source_id': '5f228e4f-ab5c-4585-8ee9-bb4ce764dbbc', 'page_number': 1, 'split_id': 70, 'split_idx_start': 18162}, embedding: vector of size 2560),\n",
       " Document(id=789839d157ac3810f0420ab5a16a50eb2c019fd7d89258766870e993bbc407c3, content: 'Bitte bringen Sie sämtliche vorhandenen medizinischen Unterlagen mit (z. B. Narkosepass, Allergiepas...', meta: {'title': 'Narkose.md', 'source_id': '5f228e4f-ab5c-4585-8ee9-bb4ce764dbbc', 'page_number': 1, 'split_id': 71, 'split_idx_start': 18294}, embedding: vector of size 2560),\n",
       " Document(id=2e4422bd53d240e0b600bb902a4cbef4c7ea936119a0c130a197b0a12543bc63, content: 'Kontaktlinsen, herausnehmbare Prothesen, Schmuck wie Ringe oder Piercings sowie künstliche Haarteile...', meta: {'title': 'Narkose.md', 'source_id': '5f228e4f-ab5c-4585-8ee9-bb4ce764dbbc', 'page_number': 1, 'split_id': 72, 'split_idx_start': 18592}, embedding: vector of size 2560),\n",
       " Document(id=a3944ca4331c4b2afcdd1992423e96d0fb92faf3e233f232f7fbcc9c0f8d9255, content: 'Solange Ihre lebenswichtigen Körperfunktionen sich noch stabilisieren, bleiben Sie zur Kontrolle unt...', meta: {'title': 'Narkose.md', 'source_id': '5f228e4f-ab5c-4585-8ee9-bb4ce764dbbc', 'page_number': 1, 'split_id': 73, 'split_idx_start': 18937}, embedding: vector of size 2560),\n",
       " Document(id=85027df1880320972eb065a6778c7c1652cb96a5f4e5b8182af5cddc9cb65286, content: 'Da direkt nach der Narkose erhöhte Sturzgefahr besteht, dürfen Sie keinesfalls ohne Hilfe aufstehen!...', meta: {'title': 'Narkose.md', 'source_id': '5f228e4f-ab5c-4585-8ee9-bb4ce764dbbc', 'page_number': 1, 'split_id': 74, 'split_idx_start': 19290}, embedding: vector of size 2560),\n",
       " Document(id=f764a9e705fa77d45ea78952947501b3eae2dbd089ed45431b4358da9519dfbc, content: 'Falls Sie hormonelle Verhütungsmittel verwenden (z. B. Antibabypille oder Hormonspirale), beachten S...', meta: {'title': 'Narkose.md', 'source_id': '5f228e4f-ab5c-4585-8ee9-bb4ce764dbbc', 'page_number': 1, 'split_id': 75, 'split_idx_start': 19643}, embedding: vector of size 2560),\n",
       " Document(id=1ac21d8018022af8ca74f21a7316bf5a8e5fe8a37cc5fbe26441761b6687d90b, content: 'Bitte informieren Sie sofort medizinisches Personal, wenn nach dem Eingriff Beschwerden auftreten wi...', meta: {'title': 'Narkose.md', 'source_id': '5f228e4f-ab5c-4585-8ee9-bb4ce764dbbc', 'page_number': 1, 'split_id': 76, 'split_idx_start': 19847}, embedding: vector of size 2560),\n",
       " Document(id=2c4b93c84205618b80210ef940774da22f81a916565c8b2683953c4bcf87749c, content: 'Nach einem ambulanten Eingriff ist Ihre Reaktionsfähigkeit durch die verabreichten Betäubungs-, Schm...', meta: {'title': 'Narkose.md', 'source_id': '5f228e4f-ab5c-4585-8ee9-bb4ce764dbbc', 'page_number': 1, 'split_id': 77, 'split_idx_start': 20374}, embedding: vector of size 2560),\n",
       " Document(id=19eeeea52ec4fab81607637c9f113f7d654f535fb0a6973957ae1eb16b12edd4, content: 'In dieser Phase dürfen Sie keinesfalls selbst ein Fahrzeug führen oder am Straßenverkehr teilnehmen....', meta: {'title': 'Narkose.md', 'source_id': '5f228e4f-ab5c-4585-8ee9-bb4ce764dbbc', 'page_number': 1, 'split_id': 78, 'split_idx_start': 20777}, embedding: vector of size 2560),\n",
       " Document(id=7a595d2ef05e3ba455b3152110e6ea7cce06453b216683b761d576e7327fe399, content: 'In bestimmten Situationen wird ein vorzeitiger Geburtsbeginn medizinisch empfohlen oder notwendig:\n",
       " \n",
       " ...', meta: {'title': 'Einleitung der Geburt.md', 'source_id': 'f534ef37-3ee9-4d29-a4d5-7c7723f610a8', 'page_number': 1, 'split_id': 0, 'split_idx_start': 0}, embedding: vector of size 2560),\n",
       " Document(id=e2d12b2007228efab1084ee779703ea36d63beee5df26bef5f8e7f097d14d6ae, content: 'nach dem Platzen der Fruchtblase ab etwa der 34. Schwangerschaftswoche – in Ausnahmen auch früher –,...', meta: {'title': 'Einleitung der Geburt.md', 'source_id': 'f534ef37-3ee9-4d29-a4d5-7c7723f610a8', 'page_number': 1, 'split_id': 1, 'split_idx_start': 100}, embedding: vector of size 2560),\n",
       " Document(id=bdd3de68d7b24afd260fc1694ebe72e5420c487766d6524d1a3182dc559d05a7, content: 'In jedem Fall erfolgt eine individuelle Risikoabwägung. Wir erklären Ihnen nachvollziehbar, warum di...', meta: {'title': 'Einleitung der Geburt.md', 'source_id': 'f534ef37-3ee9-4d29-a4d5-7c7723f610a8', 'page_number': 1, 'split_id': 2, 'split_idx_start': 759}, embedding: vector of size 2560),\n",
       " Document(id=d328e2f37249b8213b1a5137074fe515ff296d055cf90d15c8e806e4a66a6be2, content: 'Reißt die Fruchtblase oder entsteht eine Undichtigkeit, verliert das Kind seine schützende Hülle, wa...', meta: {'title': 'Einleitung der Geburt.md', 'source_id': 'f534ef37-3ee9-4d29-a4d5-7c7723f610a8', 'page_number': 1, 'split_id': 3, 'split_idx_start': 1065}, embedding: vector of size 2560),\n",
       " Document(id=4994fd1e7cfe82217991d1be3d1717385216b5d24dc64bb5485b3bd4f97c3ca2, content: 'Auch bei der Mutter kann sich eine Infektion entwickeln – mit Schmerzen im Unterbauch, Fieber und Bl...', meta: {'title': 'Einleitung der Geburt.md', 'source_id': 'f534ef37-3ee9-4d29-a4d5-7c7723f610a8', 'page_number': 1, 'split_id': 4, 'split_idx_start': 1397}, embedding: vector of size 2560),\n",
       " Document(id=dfddfad9617a4e806bf5cb241bb1e56e988c5cf855c695e30353d47ef0742229, content: 'Bei Schwangerschaftsdiabetes ist das Kind mitunter sehr groß oder auf andere Weise gefährdet. Schon ...', meta: {'title': 'Einleitung der Geburt.md', 'source_id': 'f534ef37-3ee9-4d29-a4d5-7c7723f610a8', 'page_number': 1, 'split_id': 5, 'split_idx_start': 1813}, embedding: vector of size 2560),\n",
       " Document(id=79261b58b82a083e8681dca720873af93b5f8684d058d5dbe08a4afb376e70ac, content: 'Auch Erkrankungen wie Bluthochdruck, gestörte Leber- oder Nierenfunktion, Wachstumsverzögerung des K...', meta: {'title': 'Einleitung der Geburt.md', 'source_id': 'f534ef37-3ee9-4d29-a4d5-7c7723f610a8', 'page_number': 1, 'split_id': 6, 'split_idx_start': 2032}, embedding: vector of size 2560),\n",
       " Document(id=d71ec1e0edf5287203ff67ab345a44e96bcb93fc54170a7de7fc2644cd9201a9, content: 'Wenn das Kind größer wird, kann dies sowohl die Versorgung im Mutterleib als auch die Geburt erschwe...', meta: {'title': 'Einleitung der Geburt.md', 'source_id': 'f534ef37-3ee9-4d29-a4d5-7c7723f610a8', 'page_number': 1, 'split_id': 7, 'split_idx_start': 2261}, embedding: vector of size 2560),\n",
       " Document(id=8bbf1e8404f9ee87b152cee4e3971eeeae60fa6b4885a3b8cc05b14f89fb60de, content: 'Die Fruchtwassermenge nimmt ab und kann durch Ausscheidungen des Kindes verunreinigt sein. Gelangt d...', meta: {'title': 'Einleitung der Geburt.md', 'source_id': 'f534ef37-3ee9-4d29-a4d5-7c7723f610a8', 'page_number': 1, 'split_id': 8, 'split_idx_start': 2367}, embedding: vector of size 2560),\n",
       " Document(id=b04ad27d1bb7384e2cc12157dc279e86f7bef421039e63ea3255f5ea45320281, content: 'Größere Kinder machen den Geburtsvorgang schwieriger: Der enge Raum im Becken erhöht das Risiko für ...', meta: {'title': 'Einleitung der Geburt.md', 'source_id': 'f534ef37-3ee9-4d29-a4d5-7c7723f610a8', 'page_number': 1, 'split_id': 9, 'split_idx_start': 2612}, embedding: vector of size 2560),\n",
       " Document(id=dacecaf08f2b193ddb647f60ca1f39071d5a41c07acf28070ba5d8673df96ef2, content: 'Wird der Geburtstermin nur um wenige Tage überschritten, kann unter medizinischer Beobachtung noch e...', meta: {'title': 'Einleitung der Geburt.md', 'source_id': 'f534ef37-3ee9-4d29-a4d5-7c7723f610a8', 'page_number': 1, 'split_id': 10, 'split_idx_start': 2965}, embedding: vector of size 2560),\n",
       " Document(id=d7ddea42475497a9b3af782ce099bcfd243aa29569a671f2c9537b1c7eef1e17, content: 'Besondere Situation: Frühere Kaiserschnittgeburt\n",
       " \n",
       " ', meta: {'title': 'Einleitung der Geburt.md', 'source_id': 'f534ef37-3ee9-4d29-a4d5-7c7723f610a8', 'page_number': 1, 'split_id': 11, 'split_idx_start': 3441}, embedding: vector of size 2560),\n",
       " Document(id=c634c91655bda8a442b9a8646ba9beaa57825a32d932e0347551b80577996bee, content: 'Wurde in der Vergangenheit ein Kaiserschnitt durchgeführt, ist eine vaginale Geburt in etwa 60–85 % ...', meta: {'title': 'Einleitung der Geburt.md', 'source_id': 'f534ef37-3ee9-4d29-a4d5-7c7723f610a8', 'page_number': 1, 'split_id': 12, 'split_idx_start': 3491}, embedding: vector of size 2560),\n",
       " Document(id=80b85d700469836ef5c8c3baeb4b8364e483c307f6a416790b34df6cbe3a3125, content: 'Verfahren zur Geburtseinleitung und deren Risiken\n",
       " \n",
       " ', meta: {'title': 'Einleitung der Geburt.md', 'source_id': 'f534ef37-3ee9-4d29-a4d5-7c7723f610a8', 'page_number': 1, 'split_id': 13, 'split_idx_start': 4074}, embedding: vector of size 2560),\n",
       " Document(id=3a9391344ee6efa401095e5fd946741cc5d05fb87318baf510428c634bb89f7e, content: 'Verschiedene Methoden stehen zur Verfügung, um die Geburt auf medizinischem Weg einzuleiten:\n",
       " \n",
       " ', meta: {'title': 'Einleitung der Geburt.md', 'source_id': 'f534ef37-3ee9-4d29-a4d5-7c7723f610a8', 'page_number': 1, 'split_id': 14, 'split_idx_start': 4125}, embedding: vector of size 2560),\n",
       " Document(id=d027911d60a260e7ce684e0043165849c8c2055265ba32daacd2f86c0b60229d, content: 'Prostaglandine (z. B. Misoprostol, Dinoproston):\n",
       " Diese körpereigenen Botenstoffe fördern die Reifung...', meta: {'title': 'Einleitung der Geburt.md', 'source_id': 'f534ef37-3ee9-4d29-a4d5-7c7723f610a8', 'page_number': 1, 'split_id': 15, 'split_idx_start': 4219}, embedding: vector of size 2560),\n",
       " Document(id=379c8a283256dfe31ae4376ae415d3bb66cc6f5cbaf334f162654b606cd54b86, content: 'Oxytocin:\n",
       " Dieses Hormon wird eingesetzt, wenn der Muttermund bereits teilweise geöffnet ist, besonde...', meta: {'title': 'Einleitung der Geburt.md', 'source_id': 'f534ef37-3ee9-4d29-a4d5-7c7723f610a8', 'page_number': 1, 'split_id': 16, 'split_idx_start': 4653}, embedding: vector of size 2560),\n",
       " Document(id=be4e126df5e1aee6c29d8dd75292bc336bd552a6409789c8d90668181d9c6e65, content: 'Rizinusöl (Wehencocktail):\n",
       " Diese Mischung enthält Rizinusöl und weitere Zutaten, meist eingenommen a...', meta: {'title': 'Einleitung der Geburt.md', 'source_id': 'f534ef37-3ee9-4d29-a4d5-7c7723f610a8', 'page_number': 1, 'split_id': 17, 'split_idx_start': 4918}, embedding: vector of size 2560),\n",
       " Document(id=391fae8d9f97da8b6c6f7b185321f60f70cc5ebf856b8cdfbf32008eb04ef72e, content: 'Eipollösung:\n",
       " Wenn der Muttermund leicht geöffnet ist, kann die Ärztin oder der Arzt die Fruchtblase ...', meta: {'title': 'Einleitung der Geburt.md', 'source_id': 'f534ef37-3ee9-4d29-a4d5-7c7723f610a8', 'page_number': 1, 'split_id': 18, 'split_idx_start': 5075}, embedding: vector of size 2560),\n",
       " Document(id=83fa93fe4fc8c3c1439251a5f474a9d8d2537779abf8561cf6c391abeb46e047, content: 'Amniotomie (Fruchtblasensprengung):\n",
       " Bei reifem Geburtsbefund wird die Fruchtblase mit einem Instrume...', meta: {'title': 'Einleitung der Geburt.md', 'source_id': 'f534ef37-3ee9-4d29-a4d5-7c7723f610a8', 'page_number': 1, 'split_id': 19, 'split_idx_start': 5277}, embedding: vector of size 2560),\n",
       " Document(id=123cef08d97f7339c38284552d6b25320106dcc04c4f6b67da21d08a87f23150, content: 'Doppelballonkatheter:\n",
       " Ein Katheter mit zwei Ballons wird durch die Scheide in den Muttermund eingefü...', meta: {'title': 'Einleitung der Geburt.md', 'source_id': 'f534ef37-3ee9-4d29-a4d5-7c7723f610a8', 'page_number': 1, 'split_id': 20, 'split_idx_start': 5476}, embedding: vector of size 2560),\n",
       " Document(id=ef31af8a51a26be06238972b522e6038fe6a657252eb7ee81ed822ade9f92482, content: 'Quellstäbchen:\n",
       " Dünne, wasserabsorbierende Stäbchen werden in den Muttermund eingelegt und dehnen die...', meta: {'title': 'Einleitung der Geburt.md', 'source_id': 'f534ef37-3ee9-4d29-a4d5-7c7723f610a8', 'page_number': 1, 'split_id': 21, 'split_idx_start': 5774}, embedding: vector of size 2560),\n",
       " Document(id=5eee4ca9e63eac5782221bc714a759f316137171c9a75c0974fa44d446e6c1ce, content: '\n",
       " Auch bei größter Sorgfalt können Komplikationen auftreten, die unter Umständen sofortige medizinisc...', meta: {'title': 'Einleitung der Geburt.md', 'source_id': 'f534ef37-3ee9-4d29-a4d5-7c7723f610a8', 'page_number': 1, 'split_id': 22, 'split_idx_start': 5975}, embedding: vector of size 2560),\n",
       " Document(id=12f9cac40471328d8443837775911deb0be4bd4a4ae25fa27596fc8c66655547, content: 'Selten treten Beschwerden wie Übelkeit, Kreislaufprobleme oder Durchfall auf. In sehr seltenen Fälle...', meta: {'title': 'Einleitung der Geburt.md', 'source_id': 'f534ef37-3ee9-4d29-a4d5-7c7723f610a8', 'page_number': 1, 'split_id': 23, 'split_idx_start': 6267}, embedding: vector of size 2560),\n",
       " Document(id=d0140db40fce60641315dfdcbedd4beeb92e7d031a22117f8ad07172d5b4e27a, content: 'Frauen mit früheren Operationen an der Gebärmutter – wie Kaiserschnitt oder Entfernung von Myomen – ...', meta: {'title': 'Einleitung der Geburt.md', 'source_id': 'f534ef37-3ee9-4d29-a4d5-7c7723f610a8', 'page_number': 1, 'split_id': 24, 'split_idx_start': 6630}, embedding: vector of size 2560),\n",
       " Document(id=960482addbcd096291a1f0291d77937336e653ece187de48fc651ddb88eadc3c, content: 'Auch Oxytocin kann zu übermäßiger Wehentätigkeit führen. Die Wirkung ist jedoch gut steuerbar, da da...', meta: {'title': 'Einleitung der Geburt.md', 'source_id': 'f534ef37-3ee9-4d29-a4d5-7c7723f610a8', 'page_number': 1, 'split_id': 25, 'split_idx_start': 6886}, embedding: vector of size 2560),\n",
       " Document(id=d47c68e2b51b7762050cf1bf5c4cc14fd40c5fa7efc821a218dfb92d09f891b3, content: 'Häufig treten nach der Einnahme Übelkeit, Durchfall oder Erbrechen auf.\n",
       " \n",
       " ', meta: {'title': 'Einleitung der Geburt.md', 'source_id': 'f534ef37-3ee9-4d29-a4d5-7c7723f610a8', 'page_number': 1, 'split_id': 26, 'split_idx_start': 7172}, embedding: vector of size 2560),\n",
       " Document(id=1779582c953acdf7e7575a8a9f437e13b04b891e804cf4762b4eef537d6d3732, content: 'Es kann zu leichter Blutung aus der Scheide kommen, die in der Regel unbedenklich ist und auf die be...', meta: {'title': 'Einleitung der Geburt.md', 'source_id': 'f534ef37-3ee9-4d29-a4d5-7c7723f610a8', 'page_number': 1, 'split_id': 27, 'split_idx_start': 7245}, embedding: vector of size 2560),\n",
       " Document(id=90a9099dbd5330adecd52d0a0809108d236b3e8d8ecde646cbc81a1d1a4cc8df, content: 'Wird die Fruchtblase geöffnet, kann bei längerer Geburtsdauer eine Infektion auftreten. Ist der Kopf...', meta: {'title': 'Einleitung der Geburt.md', 'source_id': 'f534ef37-3ee9-4d29-a4d5-7c7723f610a8', 'page_number': 1, 'split_id': 28, 'split_idx_start': 7383}, embedding: vector of size 2560),\n",
       " Document(id=119e747e2ca00879df293e1d95a99808074496fd73ad41fd9ea0109a66d92656, content: 'Die Einlage und das Befüllen der Ballons können als unangenehm empfunden werden. Längeres Liegen mit...', meta: {'title': 'Einleitung der Geburt.md', 'source_id': 'f534ef37-3ee9-4d29-a4d5-7c7723f610a8', 'page_number': 1, 'split_id': 29, 'split_idx_start': 7638}, embedding: vector of size 2560),\n",
       " Document(id=2b54490d2dc389c78578395ee772450ae82cc056697f19917b4048fe8c602d1f, content: 'Die Einlage kann schmerzhaft sein, ein Infektionsrisiko besteht theoretisch, ist jedoch nicht ausrei...', meta: {'title': 'Einleitung der Geburt.md', 'source_id': 'f534ef37-3ee9-4d29-a4d5-7c7723f610a8', 'page_number': 1, 'split_id': 30, 'split_idx_start': 7865}, embedding: vector of size 2560),\n",
       " Document(id=26f240814fab011db71d880777b22052f0c4d42fb54d982000b90fb2e5b77d8f, content: 'Wird eine natürliche Geburt nach Kaiserschnitt versucht, kann es in seltenen Fällen zu Komplikatione...', meta: {'title': 'Einleitung der Geburt.md', 'source_id': 'f534ef37-3ee9-4d29-a4d5-7c7723f610a8', 'page_number': 1, 'split_id': 31, 'split_idx_start': 7980}, embedding: vector of size 2560),\n",
       " Document(id=66e835839865a6c9b9670f607dc5a34dc24bcfc1164cdb7b83a8fb7d176b16b8, content: 'Die Gabe von Prostaglandinen ist bei Zustand nach Kaiserschnitt mit einem höheren Risiko verbunden. ...', meta: {'title': 'Einleitung der Geburt.md', 'source_id': 'f534ef37-3ee9-4d29-a4d5-7c7723f610a8', 'page_number': 1, 'split_id': 32, 'split_idx_start': 8254}, embedding: vector of size 2560),\n",
       " Document(id=8a64407f7a87fa95d3ce2f268e6b00c66f644162b8adf38f306d2da6c1e5d3c9, content: '\n",
       " Bei jeder medikamentösen oder mechanischen Methode zur Wehenförderung ist eine enge Überwachung une...', meta: {'title': 'Einleitung der Geburt.md', 'source_id': 'f534ef37-3ee9-4d29-a4d5-7c7723f610a8', 'page_number': 1, 'split_id': 33, 'split_idx_start': 8455}, embedding: vector of size 2560)]"
      ]
     },
     "execution_count": 55,
     "metadata": {},
     "output_type": "execute_result"
    }
   ],
   "source": [
    "base_indexing_store.filter_documents()"
   ]
  },
  {
   "cell_type": "code",
   "execution_count": 43,
   "id": "cad5567b",
   "metadata": {},
   "outputs": [
    {
     "data": {
      "text/plain": [
       "<haystack.core.pipeline.pipeline.Pipeline object at 0x7fdf5d5ebc50>\n",
       "🚅 Components\n",
       "  - query_embedder: SentenceTransformersTextEmbedder\n",
       "  - retriever: InMemoryEmbeddingRetriever\n",
       "  - map_evaluator: DocumentMAPEvaluator\n",
       "  - mrr_evaluator: DocumentMRREvaluator\n",
       "  - recall_evaluator: DocumentRecallEvaluator\n",
       "  - retriever_to_evaluator_adapter: WrapInListAdapter\n",
       "🛤️ Connections\n",
       "  - query_embedder.embedding -> retriever.query_embedding (List[float])\n",
       "  - retriever.documents -> retriever_to_evaluator_adapter.documents (List[Document])\n",
       "  - retriever_to_evaluator_adapter.output -> map_evaluator.retrieved_documents (List[List[Document]])\n",
       "  - retriever_to_evaluator_adapter.output -> mrr_evaluator.retrieved_documents (List[List[Document]])\n",
       "  - retriever_to_evaluator_adapter.output -> recall_evaluator.retrieved_documents (List[List[Document]])"
      ]
     },
     "execution_count": 43,
     "metadata": {},
     "output_type": "execute_result"
    }
   ],
   "source": [
    "import pipelines.retrieval_pipelines.base_retrieval_pipeline\n",
    "importlib.reload(pipelines.retrieval_pipelines.base_retrieval_pipeline)\n",
    "from pipelines.components.wrap_in_list_adapter import WrapInListAdapter\n",
    "\n",
    "base_retrieval_pipeline = pipelines.retrieval_pipelines.base_retrieval_pipeline.get_base_retrieval_pipeline(base_indexing_store)\n",
    "\n",
    "map_evaluator = DocumentMAPEvaluator()\n",
    "mrr_evaluator = DocumentMRREvaluator()\n",
    "recall_evaluator = DocumentRecallEvaluator()\n",
    "\n",
    "retriever_to_evaluator_adapter = WrapInListAdapter()\n",
    "\n",
    "base_retrieval_pipeline.add_component(instance=map_evaluator, name=\"map_evaluator\")\n",
    "base_retrieval_pipeline.add_component(instance=mrr_evaluator, name=\"mrr_evaluator\")\n",
    "base_retrieval_pipeline.add_component(instance=recall_evaluator, name=\"recall_evaluator\")\n",
    "base_retrieval_pipeline.add_component(instance=retriever_to_evaluator_adapter, name=\"retriever_to_evaluator_adapter\")\n",
    "base_retrieval_pipeline.connect(\"retriever\", \"retriever_to_evaluator_adapter\")\n",
    "base_retrieval_pipeline.connect(\"retriever_to_evaluator_adapter.output\", \"map_evaluator.retrieved_documents\")\n",
    "base_retrieval_pipeline.connect(\"retriever_to_evaluator_adapter.output\", \"mrr_evaluator.retrieved_documents\")\n",
    "base_retrieval_pipeline.connect(\"retriever_to_evaluator_adapter.output\", \"recall_evaluator.retrieved_documents\")"
   ]
  },
  {
   "cell_type": "code",
   "execution_count": 44,
   "id": "8867a363",
   "metadata": {},
   "outputs": [
    {
     "data": {
      "text/plain": [
       "<haystack.core.pipeline.pipeline.Pipeline object at 0x7fdf5d8f1350>\n",
       "🚅 Components\n",
       "  - query_embedder: SentenceTransformersTextEmbedder\n",
       "  - bm25_retriever: InMemoryBM25Retriever\n",
       "  - retriever: InMemoryEmbeddingRetriever\n",
       "  - joiner: DocumentJoiner\n",
       "  - map_evaluator: DocumentMAPEvaluator\n",
       "  - mrr_evaluator: DocumentMRREvaluator\n",
       "  - recall_evaluator: DocumentRecallEvaluator\n",
       "  - retriever_to_evaluator_adapter: WrapInListAdapter\n",
       "🛤️ Connections\n",
       "  - query_embedder.embedding -> retriever.query_embedding (List[float])\n",
       "  - bm25_retriever.documents -> joiner.documents (List[Document])\n",
       "  - retriever.documents -> joiner.documents (List[Document])\n",
       "  - joiner.documents -> retriever_to_evaluator_adapter.documents (List[Document])\n",
       "  - retriever_to_evaluator_adapter.output -> map_evaluator.retrieved_documents (List[List[Document]])\n",
       "  - retriever_to_evaluator_adapter.output -> mrr_evaluator.retrieved_documents (List[List[Document]])\n",
       "  - retriever_to_evaluator_adapter.output -> recall_evaluator.retrieved_documents (List[List[Document]])"
      ]
     },
     "execution_count": 44,
     "metadata": {},
     "output_type": "execute_result"
    }
   ],
   "source": [
    "import pipelines.retrieval_pipelines.hybrid_retrieval_pipeline\n",
    "importlib.reload(pipelines.retrieval_pipelines.hybrid_retrieval_pipeline)\n",
    "\n",
    "hybrid_retrieval_pipeline = pipelines.retrieval_pipelines.hybrid_retrieval_pipeline.get_hybrid_retrieval_pipeline(base_indexing_store)\n",
    "\n",
    "map_evaluator = DocumentMAPEvaluator()\n",
    "mrr_evaluator = DocumentMRREvaluator()\n",
    "recall_evaluator = DocumentRecallEvaluator()\n",
    "\n",
    "retriever_to_evaluator_adapter = WrapInListAdapter()\n",
    "\n",
    "hybrid_retrieval_pipeline.add_component(instance=map_evaluator, name=\"map_evaluator\")\n",
    "hybrid_retrieval_pipeline.add_component(instance=mrr_evaluator, name=\"mrr_evaluator\")\n",
    "hybrid_retrieval_pipeline.add_component(instance=recall_evaluator, name=\"recall_evaluator\")\n",
    "hybrid_retrieval_pipeline.add_component(instance=retriever_to_evaluator_adapter, name=\"retriever_to_evaluator_adapter\")\n",
    "hybrid_retrieval_pipeline.connect(\"joiner\", \"retriever_to_evaluator_adapter\")\n",
    "hybrid_retrieval_pipeline.connect(\"retriever_to_evaluator_adapter.output\", \"map_evaluator.retrieved_documents\")\n",
    "hybrid_retrieval_pipeline.connect(\"retriever_to_evaluator_adapter.output\", \"mrr_evaluator.retrieved_documents\")\n",
    "hybrid_retrieval_pipeline.connect(\"retriever_to_evaluator_adapter.output\", \"recall_evaluator.retrieved_documents\")"
   ]
  },
  {
   "cell_type": "code",
   "execution_count": 45,
   "id": "e550a08f",
   "metadata": {},
   "outputs": [
    {
     "data": {
      "text/plain": [
       "<haystack.core.pipeline.pipeline.Pipeline object at 0x7fdf5d418750>\n",
       "🚅 Components\n",
       "  - query_embedder: SentenceTransformersTextEmbedder\n",
       "  - retriever: InMemoryEmbeddingRetriever\n",
       "  - map_evaluator: DocumentMAPEvaluator\n",
       "  - mrr_evaluator: DocumentMRREvaluator\n",
       "  - recall_evaluator: DocumentRecallEvaluator\n",
       "  - retriever_to_evaluator_adapter: WrapInListAdapter\n",
       "🛤️ Connections\n",
       "  - query_embedder.embedding -> retriever.query_embedding (List[float])\n",
       "  - retriever.documents -> retriever_to_evaluator_adapter.documents (List[Document])\n",
       "  - retriever_to_evaluator_adapter.output -> map_evaluator.retrieved_documents (List[List[Document]])\n",
       "  - retriever_to_evaluator_adapter.output -> mrr_evaluator.retrieved_documents (List[List[Document]])\n",
       "  - retriever_to_evaluator_adapter.output -> recall_evaluator.retrieved_documents (List[List[Document]])"
      ]
     },
     "execution_count": 45,
     "metadata": {},
     "output_type": "execute_result"
    }
   ],
   "source": [
    "import pipelines.retrieval_pipelines.base_retrieval_pipeline\n",
    "importlib.reload(pipelines.retrieval_pipelines.base_retrieval_pipeline)\n",
    "\n",
    "context_retrieval_pipeline = pipelines.retrieval_pipelines.base_retrieval_pipeline.get_base_retrieval_pipeline(context_indexing_store)\n",
    "\n",
    "map_evaluator = DocumentMAPEvaluator()\n",
    "mrr_evaluator = DocumentMRREvaluator()\n",
    "recall_evaluator = DocumentRecallEvaluator()\n",
    "\n",
    "retriever_to_evaluator_adapter = WrapInListAdapter()\n",
    "\n",
    "context_retrieval_pipeline.add_component(instance=map_evaluator, name=\"map_evaluator\")\n",
    "context_retrieval_pipeline.add_component(instance=mrr_evaluator, name=\"mrr_evaluator\")\n",
    "context_retrieval_pipeline.add_component(instance=recall_evaluator, name=\"recall_evaluator\")\n",
    "context_retrieval_pipeline.add_component(instance=retriever_to_evaluator_adapter, name=\"retriever_to_evaluator_adapter\")\n",
    "context_retrieval_pipeline.connect(\"retriever\", \"retriever_to_evaluator_adapter\")\n",
    "context_retrieval_pipeline.connect(\"retriever_to_evaluator_adapter.output\", \"map_evaluator.retrieved_documents\")\n",
    "context_retrieval_pipeline.connect(\"retriever_to_evaluator_adapter.output\", \"mrr_evaluator.retrieved_documents\")\n",
    "context_retrieval_pipeline.connect(\"retriever_to_evaluator_adapter.output\", \"recall_evaluator.retrieved_documents\")"
   ]
  },
  {
   "cell_type": "code",
   "execution_count": 46,
   "id": "2dd6c3e6",
   "metadata": {},
   "outputs": [
    {
     "data": {
      "text/plain": [
       "<haystack.core.pipeline.pipeline.Pipeline object at 0x7fdf5d64ced0>\n",
       "🚅 Components\n",
       "  - query_embedder: SentenceTransformersTextEmbedder\n",
       "  - bm25_retriever: InMemoryBM25Retriever\n",
       "  - retriever: InMemoryEmbeddingRetriever\n",
       "  - joiner: DocumentJoiner\n",
       "  - map_evaluator: DocumentMAPEvaluator\n",
       "  - mrr_evaluator: DocumentMRREvaluator\n",
       "  - recall_evaluator: DocumentRecallEvaluator\n",
       "  - retriever_to_evaluator_adapter: WrapInListAdapter\n",
       "🛤️ Connections\n",
       "  - query_embedder.embedding -> retriever.query_embedding (List[float])\n",
       "  - bm25_retriever.documents -> joiner.documents (List[Document])\n",
       "  - retriever.documents -> joiner.documents (List[Document])\n",
       "  - joiner.documents -> retriever_to_evaluator_adapter.documents (List[Document])\n",
       "  - retriever_to_evaluator_adapter.output -> map_evaluator.retrieved_documents (List[List[Document]])\n",
       "  - retriever_to_evaluator_adapter.output -> mrr_evaluator.retrieved_documents (List[List[Document]])\n",
       "  - retriever_to_evaluator_adapter.output -> recall_evaluator.retrieved_documents (List[List[Document]])"
      ]
     },
     "execution_count": 46,
     "metadata": {},
     "output_type": "execute_result"
    }
   ],
   "source": [
    "import pipelines.retrieval_pipelines.hybrid_retrieval_pipeline\n",
    "importlib.reload(pipelines.retrieval_pipelines.hybrid_retrieval_pipeline)\n",
    "\n",
    "context_hybrid_retrieval_pipeline = pipelines.retrieval_pipelines.hybrid_retrieval_pipeline.get_hybrid_retrieval_pipeline(context_indexing_store)\n",
    "\n",
    "map_evaluator = DocumentMAPEvaluator()\n",
    "mrr_evaluator = DocumentMRREvaluator()\n",
    "recall_evaluator = DocumentRecallEvaluator()\n",
    "\n",
    "retriever_to_evaluator_adapter = WrapInListAdapter()\n",
    "\n",
    "context_hybrid_retrieval_pipeline.add_component(instance=map_evaluator, name=\"map_evaluator\")\n",
    "context_hybrid_retrieval_pipeline.add_component(instance=mrr_evaluator, name=\"mrr_evaluator\")\n",
    "context_hybrid_retrieval_pipeline.add_component(instance=recall_evaluator, name=\"recall_evaluator\")\n",
    "context_hybrid_retrieval_pipeline.add_component(instance=retriever_to_evaluator_adapter, name=\"retriever_to_evaluator_adapter\")\n",
    "context_hybrid_retrieval_pipeline.connect(\"joiner\", \"retriever_to_evaluator_adapter\")\n",
    "context_hybrid_retrieval_pipeline.connect(\"retriever_to_evaluator_adapter.output\", \"map_evaluator.retrieved_documents\")\n",
    "context_hybrid_retrieval_pipeline.connect(\"retriever_to_evaluator_adapter.output\", \"mrr_evaluator.retrieved_documents\")\n",
    "context_hybrid_retrieval_pipeline.connect(\"retriever_to_evaluator_adapter.output\", \"recall_evaluator.retrieved_documents\")"
   ]
  },
  {
   "cell_type": "markdown",
   "id": "baeb621f",
   "metadata": {},
   "source": [
    "## Run Evaluation"
   ]
  },
  {
   "cell_type": "code",
   "execution_count": 47,
   "id": "10195f32",
   "metadata": {},
   "outputs": [],
   "source": [
    "test_cases = [\n",
    "    {\n",
    "        \"name\": \"Basic RAG\",\n",
    "        \"pipeline\": base_retrieval_pipeline,\n",
    "    },\n",
    "    {\n",
    "        \"name\": \"Hybrid RAG\",\n",
    "        \"pipeline\": hybrid_retrieval_pipeline,\n",
    "    },\n",
    "    {\n",
    "        \"name\": \"Contextual RAG\",\n",
    "        \"pipeline\": context_retrieval_pipeline,\n",
    "    },\n",
    "    {\n",
    "        \"name\": \"Contextual Hybrid RAG\",\n",
    "        \"pipeline\": context_hybrid_retrieval_pipeline,\n",
    "    },\n",
    "]"
   ]
  },
  {
   "cell_type": "code",
   "execution_count": 48,
   "id": "939269c8",
   "metadata": {},
   "outputs": [],
   "source": [
    "import numpy as np\n",
    "from scipy.stats import norm\n",
    "\n",
    "def _has_ci_converged(measurements, tol, alpha=0.05):\n",
    "    \"\"\"\n",
    "    Return True if the (1-alpha)% confidence‐interval half‐width\n",
    "    of the mean is <= tol.\n",
    "    \"\"\"\n",
    "    n = len(measurements)\n",
    "    if n < 2:\n",
    "        return False\n",
    "    mean = np.mean(measurements)\n",
    "    var  = np.var(measurements, ddof=1)\n",
    "    se = np.sqrt(var / n)\n",
    "    z = norm.ppf(1 - alpha/2)\n",
    "    half_width = z * se\n",
    "    logging.info(\n",
    "        \"n=%d, mean=%.4f, var=%.6f, SE=%.6f, z=%.3f → half_width=%.6f (tol=%.6f)\",\n",
    "        n, mean, var, se, z, half_width, tol\n",
    "    )\n",
    "    return half_width <= tol\n",
    "\n",
    "def did_converge(precisions, recalls, tolerance=0.01, alpha=0.05):\n",
    "    \"\"\"\n",
    "    Decide whether to stop based on the CI half-width\n",
    "    of both precision and recall.\n",
    "\n",
    "    :param precisions: List[float]\n",
    "    :param recalls:    List[float]\n",
    "    :param step_size:  (unused) kept for API compatibility\n",
    "    :param tolerance:  float, max allowable CI half-width\n",
    "    :param alpha:      float, significance level (default 0.05 ⇒ 95% CI)\n",
    "    :return:           bool, True if both metrics have CI half-width <= tolerance\n",
    "    \"\"\"\n",
    "    return (_has_ci_converged(precisions, tolerance, alpha) and\n",
    "            _has_ci_converged(recalls,    tolerance, alpha))"
   ]
  },
  {
   "cell_type": "code",
   "execution_count": 49,
   "id": "416e04e7",
   "metadata": {},
   "outputs": [],
   "source": [
    "import logging\n",
    "\n",
    "# silence haystack’s pipeline logs\n",
    "logging.getLogger(\"haystack\").setLevel(logging.WARNING)\n",
    "logging.getLogger(\"haystack.core.pipeline\").setLevel(logging.WARNING)\n",
    "\n",
    "# if you see similar spam from transformers, ragas, etc.\n",
    "logging.getLogger(\"transformers\").setLevel(logging.WARNING)\n",
    "logging.getLogger(\"ragas\").setLevel(logging.WARNING)"
   ]
  },
  {
   "cell_type": "code",
   "execution_count": null,
   "id": "5426b4df",
   "metadata": {},
   "outputs": [
    {
     "name": "stderr",
     "output_type": "stream",
     "text": [
      "Processing rows:   0%|          | 0/50 [00:00<?, ?row/s]"
     ]
    },
    {
     "name": "stdout",
     "output_type": "stream",
     "text": [
      "[[Document(id=32a47a42b8dbbbe94e2752cd1b2621e6f845383bc8dbb4d686b57f1ff906fe2b, content: 'Frauen mit Rhesus-negativem Blut können ebenfalls eine äußere Wendung durchführen lassen. Da dabei k...', meta: {'title': 'Äußere Wendung.md', 'source_id': '7ae1e3f0-dd60-4371-ab7b-aeeebef45f64', 'page_number': 1, 'split_id': 20, 'split_idx_start': 7638})]]\n"
     ]
    },
    {
     "data": {
      "application/vnd.jupyter.widget-view+json": {
       "model_id": "46b1ca6467c0406092fdb2b01acd5c6b",
       "version_major": 2,
       "version_minor": 0
      },
      "text/plain": [
       "Batches:   0%|          | 0/1 [00:00<?, ?it/s]"
      ]
     },
     "metadata": {},
     "output_type": "display_data"
    },
    {
     "data": {
      "application/vnd.jupyter.widget-view+json": {
       "model_id": "6bbe83fa449642f89b04cb20b34b070f",
       "version_major": 2,
       "version_minor": 0
      },
      "text/plain": [
       "Batches:   0%|          | 0/1 [00:00<?, ?it/s]"
      ]
     },
     "metadata": {},
     "output_type": "display_data"
    },
    {
     "data": {
      "application/vnd.jupyter.widget-view+json": {
       "model_id": "635c3bfb1f8d440f831eb3b80d26274f",
       "version_major": 2,
       "version_minor": 0
      },
      "text/plain": [
       "Batches:   0%|          | 0/1 [00:00<?, ?it/s]"
      ]
     },
     "metadata": {},
     "output_type": "display_data"
    },
    {
     "name": "stderr",
     "output_type": "stream",
     "text": [
      "10:57:02 WARNING No Documents found with embeddings. Returning empty list. To generate embeddings, use a DocumentEmbedder.\n"
     ]
    },
    {
     "data": {
      "application/vnd.jupyter.widget-view+json": {
       "model_id": "1be9610862e147c6a5acec48e7e71f5a",
       "version_major": 2,
       "version_minor": 0
      },
      "text/plain": [
       "Batches:   0%|          | 0/1 [00:00<?, ?it/s]"
      ]
     },
     "metadata": {},
     "output_type": "display_data"
    },
    {
     "name": "stderr",
     "output_type": "stream",
     "text": [
      "10:57:02 WARNING No Documents found with embeddings. Returning empty list. To generate embeddings, use a DocumentEmbedder.\n",
      "Processing rows:   2%|▏         | 1/50 [00:00<00:21,  2.25row/s]"
     ]
    },
    {
     "name": "stdout",
     "output_type": "stream",
     "text": [
      "[[Document(id=d8d314b9d482fbaef7592256066614798e9ce1ba79e32995ae6c9a85bcd97097, content: 'Die Klinik für Geburtshilfe in den DRK Kliniken Berlin Köpenick bietet werdenden Eltern eine sichere...', meta: {'title': 'DRK Geburtshilfe Infos.md', 'source_id': '8aebf112-c5a5-48d5-aaa9-9635e1ee5c8b', 'page_number': 1, 'split_id': 0, 'split_idx_start': 0}), Document(id=c3c7fa888c2ea913233e25135541bcba0ec80fdb091b2fa1bf52cb723ddadddb, content: 'Vielfältige Schmerzlinderungsangebote: Jede Frau empfindet die Geburt anders – entsprechend bietet d...', meta: {'title': 'DRK Geburtshilfe Infos.md', 'source_id': '8aebf112-c5a5-48d5-aaa9-9635e1ee5c8b', 'page_number': 1, 'split_id': 2, 'split_idx_start': 1664})]]\n"
     ]
    },
    {
     "data": {
      "application/vnd.jupyter.widget-view+json": {
       "model_id": "ef248ea302324738b05a29310fea449b",
       "version_major": 2,
       "version_minor": 0
      },
      "text/plain": [
       "Batches:   0%|          | 0/1 [00:00<?, ?it/s]"
      ]
     },
     "metadata": {},
     "output_type": "display_data"
    },
    {
     "data": {
      "application/vnd.jupyter.widget-view+json": {
       "model_id": "202ecb05a9824bb8a2778e4a486f1fe7",
       "version_major": 2,
       "version_minor": 0
      },
      "text/plain": [
       "Batches:   0%|          | 0/1 [00:00<?, ?it/s]"
      ]
     },
     "metadata": {},
     "output_type": "display_data"
    },
    {
     "data": {
      "application/vnd.jupyter.widget-view+json": {
       "model_id": "3d24b77b42334655891f1650048a319a",
       "version_major": 2,
       "version_minor": 0
      },
      "text/plain": [
       "Batches:   0%|          | 0/1 [00:00<?, ?it/s]"
      ]
     },
     "metadata": {},
     "output_type": "display_data"
    },
    {
     "name": "stderr",
     "output_type": "stream",
     "text": [
      "10:57:02 WARNING No Documents found with embeddings. Returning empty list. To generate embeddings, use a DocumentEmbedder.\n"
     ]
    },
    {
     "data": {
      "application/vnd.jupyter.widget-view+json": {
       "model_id": "4ebfd599d05b49a2ac03694d67ee803c",
       "version_major": 2,
       "version_minor": 0
      },
      "text/plain": [
       "Batches:   0%|          | 0/1 [00:00<?, ?it/s]"
      ]
     },
     "metadata": {},
     "output_type": "display_data"
    },
    {
     "name": "stderr",
     "output_type": "stream",
     "text": [
      "10:57:02 WARNING No Documents found with embeddings. Returning empty list. To generate embeddings, use a DocumentEmbedder.\n",
      "Processing rows:   4%|▍         | 2/50 [00:00<00:19,  2.44row/s]"
     ]
    },
    {
     "name": "stdout",
     "output_type": "stream",
     "text": [
      "[[Document(id=2dc9865b7f5ec04ecf95099e3635b07623ad6267374f9db5cd4b6faedba624e7, content: 'Die Erfolgsaussichten für eine äußere Wendung sind in vielen Fällen gut, jedoch nicht garantiert. Fa...', meta: {'title': 'Äußere Wendung.md', 'source_id': '7ae1e3f0-dd60-4371-ab7b-aeeebef45f64', 'page_number': 1, 'split_id': 14, 'split_idx_start': 6269})]]\n"
     ]
    },
    {
     "data": {
      "application/vnd.jupyter.widget-view+json": {
       "model_id": "9639ca47cfc245bdaab7feb1d9dda619",
       "version_major": 2,
       "version_minor": 0
      },
      "text/plain": [
       "Batches:   0%|          | 0/1 [00:00<?, ?it/s]"
      ]
     },
     "metadata": {},
     "output_type": "display_data"
    },
    {
     "data": {
      "application/vnd.jupyter.widget-view+json": {
       "model_id": "e340245937354d5e9b971e32ddd40b7f",
       "version_major": 2,
       "version_minor": 0
      },
      "text/plain": [
       "Batches:   0%|          | 0/1 [00:00<?, ?it/s]"
      ]
     },
     "metadata": {},
     "output_type": "display_data"
    },
    {
     "data": {
      "application/vnd.jupyter.widget-view+json": {
       "model_id": "11561b1ee940494fbb6d176e01a9dd6c",
       "version_major": 2,
       "version_minor": 0
      },
      "text/plain": [
       "Batches:   0%|          | 0/1 [00:00<?, ?it/s]"
      ]
     },
     "metadata": {},
     "output_type": "display_data"
    },
    {
     "name": "stderr",
     "output_type": "stream",
     "text": [
      "10:57:03 WARNING No Documents found with embeddings. Returning empty list. To generate embeddings, use a DocumentEmbedder.\n"
     ]
    },
    {
     "data": {
      "application/vnd.jupyter.widget-view+json": {
       "model_id": "22bdbfa2da704a0aaedc914926319e4a",
       "version_major": 2,
       "version_minor": 0
      },
      "text/plain": [
       "Batches:   0%|          | 0/1 [00:00<?, ?it/s]"
      ]
     },
     "metadata": {},
     "output_type": "display_data"
    },
    {
     "name": "stderr",
     "output_type": "stream",
     "text": [
      "10:57:03 WARNING No Documents found with embeddings. Returning empty list. To generate embeddings, use a DocumentEmbedder.\n",
      "Processing rows:   6%|▌         | 3/50 [00:01<00:19,  2.45row/s]"
     ]
    },
    {
     "name": "stdout",
     "output_type": "stream",
     "text": [
      "[[Document(id=90a9099dbd5330adecd52d0a0809108d236b3e8d8ecde646cbc81a1d1a4cc8df, content: 'Wird die Fruchtblase geöffnet, kann bei längerer Geburtsdauer eine Infektion auftreten. Ist der Kopf...', meta: {'title': 'Einleitung der Geburt.md', 'source_id': 'f534ef37-3ee9-4d29-a4d5-7c7723f610a8', 'page_number': 1, 'split_id': 28, 'split_idx_start': 7383})]]\n"
     ]
    },
    {
     "data": {
      "application/vnd.jupyter.widget-view+json": {
       "model_id": "e9006629144c4c85879edb06fd089806",
       "version_major": 2,
       "version_minor": 0
      },
      "text/plain": [
       "Batches:   0%|          | 0/1 [00:00<?, ?it/s]"
      ]
     },
     "metadata": {},
     "output_type": "display_data"
    },
    {
     "data": {
      "application/vnd.jupyter.widget-view+json": {
       "model_id": "644427842d104bdb90fff2e71eec0f12",
       "version_major": 2,
       "version_minor": 0
      },
      "text/plain": [
       "Batches:   0%|          | 0/1 [00:00<?, ?it/s]"
      ]
     },
     "metadata": {},
     "output_type": "display_data"
    },
    {
     "data": {
      "application/vnd.jupyter.widget-view+json": {
       "model_id": "b2ecb02e2aec4bebb230e0ba8a581ddb",
       "version_major": 2,
       "version_minor": 0
      },
      "text/plain": [
       "Batches:   0%|          | 0/1 [00:00<?, ?it/s]"
      ]
     },
     "metadata": {},
     "output_type": "display_data"
    },
    {
     "name": "stderr",
     "output_type": "stream",
     "text": [
      "10:57:03 WARNING No Documents found with embeddings. Returning empty list. To generate embeddings, use a DocumentEmbedder.\n"
     ]
    },
    {
     "data": {
      "application/vnd.jupyter.widget-view+json": {
       "model_id": "e39a0e15a5de451fbff404f765aa8a4c",
       "version_major": 2,
       "version_minor": 0
      },
      "text/plain": [
       "Batches:   0%|          | 0/1 [00:00<?, ?it/s]"
      ]
     },
     "metadata": {},
     "output_type": "display_data"
    },
    {
     "name": "stderr",
     "output_type": "stream",
     "text": [
      "10:57:03 WARNING No Documents found with embeddings. Returning empty list. To generate embeddings, use a DocumentEmbedder.\n",
      "Processing rows:   8%|▊         | 4/50 [00:01<00:18,  2.53row/s]"
     ]
    },
    {
     "name": "stdout",
     "output_type": "stream",
     "text": [
      "[[Document(id=f4ae4ad94acb51a447451ed9f3b2de378b2605b01d4c2858e7c2b0146ed2a408, content: 'Neugeborenen-Versorgung: Die Gesundheit des Kindes wird von Anfang an eng überwacht. Eine Kinderärzt...', meta: {'title': 'DRK Geburtshilfe Infos.md', 'source_id': '8aebf112-c5a5-48d5-aaa9-9635e1ee5c8b', 'page_number': 1, 'split_id': 6, 'split_idx_start': 4895}), Document(id=291dc7cb39e4cad39470e9fdd765a00c4adb071323a00001cea5af88c76a745b, content: 'Neugeborenen-Versorgung: Jedes Neugeborene wird unmittelbar nach der Geburt ärztlich untersucht (U1 ...', meta: {'title': 'DRK Geburtshilfe Infos.md', 'source_id': '8aebf112-c5a5-48d5-aaa9-9635e1ee5c8b', 'page_number': 1, 'split_id': 9, 'split_idx_start': 6663})]]\n"
     ]
    },
    {
     "data": {
      "application/vnd.jupyter.widget-view+json": {
       "model_id": "91495c3ec09e44fe95ef2e6f67ae170a",
       "version_major": 2,
       "version_minor": 0
      },
      "text/plain": [
       "Batches:   0%|          | 0/1 [00:00<?, ?it/s]"
      ]
     },
     "metadata": {},
     "output_type": "display_data"
    },
    {
     "data": {
      "application/vnd.jupyter.widget-view+json": {
       "model_id": "c2687f33d80a4f19825ecece95250085",
       "version_major": 2,
       "version_minor": 0
      },
      "text/plain": [
       "Batches:   0%|          | 0/1 [00:00<?, ?it/s]"
      ]
     },
     "metadata": {},
     "output_type": "display_data"
    },
    {
     "data": {
      "application/vnd.jupyter.widget-view+json": {
       "model_id": "ad23bf915f83489d8913173114cd4813",
       "version_major": 2,
       "version_minor": 0
      },
      "text/plain": [
       "Batches:   0%|          | 0/1 [00:00<?, ?it/s]"
      ]
     },
     "metadata": {},
     "output_type": "display_data"
    },
    {
     "name": "stderr",
     "output_type": "stream",
     "text": [
      "10:57:03 WARNING No Documents found with embeddings. Returning empty list. To generate embeddings, use a DocumentEmbedder.\n"
     ]
    },
    {
     "data": {
      "application/vnd.jupyter.widget-view+json": {
       "model_id": "90d0eb8ee45747839cf33f8f2acdb072",
       "version_major": 2,
       "version_minor": 0
      },
      "text/plain": [
       "Batches:   0%|          | 0/1 [00:00<?, ?it/s]"
      ]
     },
     "metadata": {},
     "output_type": "display_data"
    },
    {
     "name": "stderr",
     "output_type": "stream",
     "text": [
      "10:57:03 WARNING No Documents found with embeddings. Returning empty list. To generate embeddings, use a DocumentEmbedder.\n",
      "Processing rows:  10%|█         | 5/50 [00:01<00:17,  2.59row/s]"
     ]
    },
    {
     "name": "stdout",
     "output_type": "stream",
     "text": [
      "[[Document(id=8f7f9154fb285e91b58a091697d56b67bc2db3d620989a5b9da1380a6093a3e0, content: 'Drainagen zum Ableiten von Blut oder Wundsekret werden nur in Ausnahmefällen und bei Bedarf eingeset...', meta: {'title': 'Kaiserschnitt.md', 'source_id': 'cec11350-e783-4477-b76e-bd9afa5342c5', 'page_number': 1, 'split_id': 7, 'split_idx_start': 2460})]]\n"
     ]
    },
    {
     "data": {
      "application/vnd.jupyter.widget-view+json": {
       "model_id": "ff17db44638845e6bc0b9860732366d3",
       "version_major": 2,
       "version_minor": 0
      },
      "text/plain": [
       "Batches:   0%|          | 0/1 [00:00<?, ?it/s]"
      ]
     },
     "metadata": {},
     "output_type": "display_data"
    },
    {
     "data": {
      "application/vnd.jupyter.widget-view+json": {
       "model_id": "bc8f6f0ecef9413f98b05bdaf6915790",
       "version_major": 2,
       "version_minor": 0
      },
      "text/plain": [
       "Batches:   0%|          | 0/1 [00:00<?, ?it/s]"
      ]
     },
     "metadata": {},
     "output_type": "display_data"
    },
    {
     "data": {
      "application/vnd.jupyter.widget-view+json": {
       "model_id": "adc25197cd9044fcb678375e06441d4d",
       "version_major": 2,
       "version_minor": 0
      },
      "text/plain": [
       "Batches:   0%|          | 0/1 [00:00<?, ?it/s]"
      ]
     },
     "metadata": {},
     "output_type": "display_data"
    },
    {
     "name": "stderr",
     "output_type": "stream",
     "text": [
      "10:57:04 WARNING No Documents found with embeddings. Returning empty list. To generate embeddings, use a DocumentEmbedder.\n"
     ]
    },
    {
     "data": {
      "application/vnd.jupyter.widget-view+json": {
       "model_id": "d23bb5065ecb456f87717c015fbfe1f7",
       "version_major": 2,
       "version_minor": 0
      },
      "text/plain": [
       "Batches:   0%|          | 0/1 [00:00<?, ?it/s]"
      ]
     },
     "metadata": {},
     "output_type": "display_data"
    },
    {
     "name": "stderr",
     "output_type": "stream",
     "text": [
      "10:57:04 WARNING No Documents found with embeddings. Returning empty list. To generate embeddings, use a DocumentEmbedder.\n",
      "Processing rows:  12%|█▏        | 6/50 [00:02<00:16,  2.62row/s]"
     ]
    },
    {
     "name": "stdout",
     "output_type": "stream",
     "text": [
      "[[Document(id=2c4b93c84205618b80210ef940774da22f81a916565c8b2683953c4bcf87749c, content: 'Nach einem ambulanten Eingriff ist Ihre Reaktionsfähigkeit durch die verabreichten Betäubungs-, Schm...', meta: {'title': 'Narkose.md', 'source_id': '5f228e4f-ab5c-4585-8ee9-bb4ce764dbbc', 'page_number': 1, 'split_id': 77, 'split_idx_start': 20374}), Document(id=19eeeea52ec4fab81607637c9f113f7d654f535fb0a6973957ae1eb16b12edd4, content: 'In dieser Phase dürfen Sie keinesfalls selbst ein Fahrzeug führen oder am Straßenverkehr teilnehmen....', meta: {'title': 'Narkose.md', 'source_id': '5f228e4f-ab5c-4585-8ee9-bb4ce764dbbc', 'page_number': 1, 'split_id': 78, 'split_idx_start': 20777})]]\n"
     ]
    },
    {
     "data": {
      "application/vnd.jupyter.widget-view+json": {
       "model_id": "ce69ed5975e944fdbce1a36a04b10af5",
       "version_major": 2,
       "version_minor": 0
      },
      "text/plain": [
       "Batches:   0%|          | 0/1 [00:00<?, ?it/s]"
      ]
     },
     "metadata": {},
     "output_type": "display_data"
    },
    {
     "data": {
      "application/vnd.jupyter.widget-view+json": {
       "model_id": "49ccd0ea196447e9918b832af67d06bc",
       "version_major": 2,
       "version_minor": 0
      },
      "text/plain": [
       "Batches:   0%|          | 0/1 [00:00<?, ?it/s]"
      ]
     },
     "metadata": {},
     "output_type": "display_data"
    },
    {
     "data": {
      "application/vnd.jupyter.widget-view+json": {
       "model_id": "6458841ed0cd46dabcc43d21890128d8",
       "version_major": 2,
       "version_minor": 0
      },
      "text/plain": [
       "Batches:   0%|          | 0/1 [00:00<?, ?it/s]"
      ]
     },
     "metadata": {},
     "output_type": "display_data"
    },
    {
     "name": "stderr",
     "output_type": "stream",
     "text": [
      "10:57:04 WARNING No Documents found with embeddings. Returning empty list. To generate embeddings, use a DocumentEmbedder.\n"
     ]
    },
    {
     "data": {
      "application/vnd.jupyter.widget-view+json": {
       "model_id": "ec7736aec3dd4fed9a37ff3614b40f7e",
       "version_major": 2,
       "version_minor": 0
      },
      "text/plain": [
       "Batches:   0%|          | 0/1 [00:00<?, ?it/s]"
      ]
     },
     "metadata": {},
     "output_type": "display_data"
    },
    {
     "name": "stderr",
     "output_type": "stream",
     "text": [
      "10:57:04 WARNING No Documents found with embeddings. Returning empty list. To generate embeddings, use a DocumentEmbedder.\n",
      "Processing rows:  14%|█▍        | 7/50 [00:02<00:16,  2.62row/s]"
     ]
    },
    {
     "name": "stdout",
     "output_type": "stream",
     "text": [
      "[[Document(id=2ed196f070b32f7671828fccebcba3d824d601902f8ea90751f641c92d4fdbfc, content: 'Ein Dammschnitt wird nur vorgenommen, wenn er medizinisch notwendig ist – etwa um eine Überdehnung d...', meta: {'title': 'Medizinische Maßnahmen rund um die Geburt.md', 'source_id': '73715a31-955e-47df-a9fb-6c900290bddf', 'page_number': 1, 'split_id': 19, 'split_idx_start': 5744})]]\n"
     ]
    },
    {
     "data": {
      "application/vnd.jupyter.widget-view+json": {
       "model_id": "288eee16463e4ed7810002c967b1a78b",
       "version_major": 2,
       "version_minor": 0
      },
      "text/plain": [
       "Batches:   0%|          | 0/1 [00:00<?, ?it/s]"
      ]
     },
     "metadata": {},
     "output_type": "display_data"
    },
    {
     "data": {
      "application/vnd.jupyter.widget-view+json": {
       "model_id": "9daca36ba0134234b87d2d1aa6e794f2",
       "version_major": 2,
       "version_minor": 0
      },
      "text/plain": [
       "Batches:   0%|          | 0/1 [00:00<?, ?it/s]"
      ]
     },
     "metadata": {},
     "output_type": "display_data"
    },
    {
     "data": {
      "application/vnd.jupyter.widget-view+json": {
       "model_id": "7e0290abf3a84cf0b441ec57f409f374",
       "version_major": 2,
       "version_minor": 0
      },
      "text/plain": [
       "Batches:   0%|          | 0/1 [00:00<?, ?it/s]"
      ]
     },
     "metadata": {},
     "output_type": "display_data"
    },
    {
     "name": "stderr",
     "output_type": "stream",
     "text": [
      "10:57:05 WARNING No Documents found with embeddings. Returning empty list. To generate embeddings, use a DocumentEmbedder.\n"
     ]
    },
    {
     "data": {
      "application/vnd.jupyter.widget-view+json": {
       "model_id": "74915cd9d29549939ef6d9ac11c821fe",
       "version_major": 2,
       "version_minor": 0
      },
      "text/plain": [
       "Batches:   0%|          | 0/1 [00:00<?, ?it/s]"
      ]
     },
     "metadata": {},
     "output_type": "display_data"
    },
    {
     "name": "stderr",
     "output_type": "stream",
     "text": [
      "10:57:05 WARNING No Documents found with embeddings. Returning empty list. To generate embeddings, use a DocumentEmbedder.\n",
      "Processing rows:  16%|█▌        | 8/50 [00:03<00:16,  2.59row/s]"
     ]
    },
    {
     "name": "stdout",
     "output_type": "stream",
     "text": [
      "[[Document(id=dfddfad9617a4e806bf5cb241bb1e56e988c5cf855c695e30353d47ef0742229, content: 'Bei Schwangerschaftsdiabetes ist das Kind mitunter sehr groß oder auf andere Weise gefährdet. Schon ...', meta: {'title': 'Einleitung der Geburt.md', 'source_id': 'f534ef37-3ee9-4d29-a4d5-7c7723f610a8', 'page_number': 1, 'split_id': 5, 'split_idx_start': 1813})]]\n"
     ]
    },
    {
     "data": {
      "application/vnd.jupyter.widget-view+json": {
       "model_id": "f28e337e89af48d49338deaf90bf920c",
       "version_major": 2,
       "version_minor": 0
      },
      "text/plain": [
       "Batches:   0%|          | 0/1 [00:00<?, ?it/s]"
      ]
     },
     "metadata": {},
     "output_type": "display_data"
    },
    {
     "data": {
      "application/vnd.jupyter.widget-view+json": {
       "model_id": "5c90d66fc28d4125b87d57aa8ddec3c9",
       "version_major": 2,
       "version_minor": 0
      },
      "text/plain": [
       "Batches:   0%|          | 0/1 [00:00<?, ?it/s]"
      ]
     },
     "metadata": {},
     "output_type": "display_data"
    },
    {
     "data": {
      "application/vnd.jupyter.widget-view+json": {
       "model_id": "89f92b9c43ed479fbbe632b9d6676681",
       "version_major": 2,
       "version_minor": 0
      },
      "text/plain": [
       "Batches:   0%|          | 0/1 [00:00<?, ?it/s]"
      ]
     },
     "metadata": {},
     "output_type": "display_data"
    },
    {
     "name": "stderr",
     "output_type": "stream",
     "text": [
      "10:57:05 WARNING No Documents found with embeddings. Returning empty list. To generate embeddings, use a DocumentEmbedder.\n"
     ]
    },
    {
     "data": {
      "application/vnd.jupyter.widget-view+json": {
       "model_id": "411397f71f3a4c3bbc30cb618d27712a",
       "version_major": 2,
       "version_minor": 0
      },
      "text/plain": [
       "Batches:   0%|          | 0/1 [00:00<?, ?it/s]"
      ]
     },
     "metadata": {},
     "output_type": "display_data"
    },
    {
     "name": "stderr",
     "output_type": "stream",
     "text": [
      "10:57:05 WARNING No Documents found with embeddings. Returning empty list. To generate embeddings, use a DocumentEmbedder.\n",
      "Processing rows:  18%|█▊        | 9/50 [00:03<00:15,  2.62row/s]"
     ]
    },
    {
     "name": "stdout",
     "output_type": "stream",
     "text": [
      "[[Document(id=9ab8fd9589291e3b47ee4da70fe2d38a14db53d0704c9a19c7cfbbbf3f588491, content: 'Nach der Geburt – Wochenbett im Krankenhaus und zu Hause: Danach geht es auf die Wochenbettstation 4...', meta: {'title': 'DRK Geburtshilfe Infos.md', 'source_id': '8aebf112-c5a5-48d5-aaa9-9635e1ee5c8b', 'page_number': 1, 'split_id': 15, 'split_idx_start': 9385}), Document(id=588e4b7064952c5a6bef4ede1a2b69b06d511119fd8487851c0bc4a6991d9d37, content: 'Nach der Entlassung sollte eine Nachsorgehebamme übernehmen. Eine Liste mit Kontaktdaten liegt auf S...', meta: {'title': 'DRK Geburtshilfe Infos.md', 'source_id': '8aebf112-c5a5-48d5-aaa9-9635e1ee5c8b', 'page_number': 1, 'split_id': 33, 'split_idx_start': 15863}), Document(id=4967c20bc727674abe37171fe0185a09e48d4290e27be7b640ce87307962c248, content: 'Wochenbettbetreuung und Nachsorge: Nach der Entlassung haben Mütter Anspruch auf Hebammenbetreuung z...', meta: {'title': 'DRK Geburtshilfe Infos.md', 'source_id': '8aebf112-c5a5-48d5-aaa9-9635e1ee5c8b', 'page_number': 1, 'split_id': 39, 'split_idx_start': 18289})]]\n"
     ]
    },
    {
     "data": {
      "application/vnd.jupyter.widget-view+json": {
       "model_id": "52965ec060504edab0d6fe47e55f8a04",
       "version_major": 2,
       "version_minor": 0
      },
      "text/plain": [
       "Batches:   0%|          | 0/1 [00:00<?, ?it/s]"
      ]
     },
     "metadata": {},
     "output_type": "display_data"
    },
    {
     "data": {
      "application/vnd.jupyter.widget-view+json": {
       "model_id": "8e8b9430c61a4d5685509d38c4acfe22",
       "version_major": 2,
       "version_minor": 0
      },
      "text/plain": [
       "Batches:   0%|          | 0/1 [00:00<?, ?it/s]"
      ]
     },
     "metadata": {},
     "output_type": "display_data"
    },
    {
     "data": {
      "application/vnd.jupyter.widget-view+json": {
       "model_id": "5486b63e10054a93b1b7800981ba4402",
       "version_major": 2,
       "version_minor": 0
      },
      "text/plain": [
       "Batches:   0%|          | 0/1 [00:00<?, ?it/s]"
      ]
     },
     "metadata": {},
     "output_type": "display_data"
    },
    {
     "name": "stderr",
     "output_type": "stream",
     "text": [
      "10:57:05 WARNING No Documents found with embeddings. Returning empty list. To generate embeddings, use a DocumentEmbedder.\n"
     ]
    },
    {
     "data": {
      "application/vnd.jupyter.widget-view+json": {
       "model_id": "e2f9e4d573944f169d39078bcad40230",
       "version_major": 2,
       "version_minor": 0
      },
      "text/plain": [
       "Batches:   0%|          | 0/1 [00:00<?, ?it/s]"
      ]
     },
     "metadata": {},
     "output_type": "display_data"
    },
    {
     "name": "stderr",
     "output_type": "stream",
     "text": [
      "10:57:05 WARNING No Documents found with embeddings. Returning empty list. To generate embeddings, use a DocumentEmbedder.\n",
      "Processing rows:  20%|██        | 10/50 [00:03<00:15,  2.62row/s]"
     ]
    },
    {
     "name": "stdout",
     "output_type": "stream",
     "text": [
      "[[Document(id=55e156c90a6aca26bf8e4008190494eadab7ebe6be142531e37bed22cd6336f7, content: '\n",
      "Tipp: Eine ambulante Geburt ist möglich. Dabei verlässt man die Klinik zwischen 4 und 24 Stunden na...', meta: {'title': 'DRK Geburtshilfe Infos.md', 'source_id': '8aebf112-c5a5-48d5-aaa9-9635e1ee5c8b', 'page_number': 1, 'split_id': 16, 'split_idx_start': 10217})]]\n"
     ]
    },
    {
     "data": {
      "application/vnd.jupyter.widget-view+json": {
       "model_id": "eae0b99b1e4443409b18146cb0d0806c",
       "version_major": 2,
       "version_minor": 0
      },
      "text/plain": [
       "Batches:   0%|          | 0/1 [00:00<?, ?it/s]"
      ]
     },
     "metadata": {},
     "output_type": "display_data"
    },
    {
     "data": {
      "application/vnd.jupyter.widget-view+json": {
       "model_id": "9c79f2845c6c4d5f9c369bcf72f77b32",
       "version_major": 2,
       "version_minor": 0
      },
      "text/plain": [
       "Batches:   0%|          | 0/1 [00:00<?, ?it/s]"
      ]
     },
     "metadata": {},
     "output_type": "display_data"
    },
    {
     "data": {
      "application/vnd.jupyter.widget-view+json": {
       "model_id": "c1865309790f4b96a0ed96767e0f38d6",
       "version_major": 2,
       "version_minor": 0
      },
      "text/plain": [
       "Batches:   0%|          | 0/1 [00:00<?, ?it/s]"
      ]
     },
     "metadata": {},
     "output_type": "display_data"
    },
    {
     "name": "stderr",
     "output_type": "stream",
     "text": [
      "10:57:06 WARNING No Documents found with embeddings. Returning empty list. To generate embeddings, use a DocumentEmbedder.\n"
     ]
    },
    {
     "data": {
      "application/vnd.jupyter.widget-view+json": {
       "model_id": "f826c50a0c704efcba689101c89d8457",
       "version_major": 2,
       "version_minor": 0
      },
      "text/plain": [
       "Batches:   0%|          | 0/1 [00:00<?, ?it/s]"
      ]
     },
     "metadata": {},
     "output_type": "display_data"
    },
    {
     "name": "stderr",
     "output_type": "stream",
     "text": [
      "10:57:06 WARNING No Documents found with embeddings. Returning empty list. To generate embeddings, use a DocumentEmbedder.\n",
      "Processing rows:  22%|██▏       | 11/50 [00:04<00:14,  2.63row/s]"
     ]
    },
    {
     "name": "stdout",
     "output_type": "stream",
     "text": [
      "[[Document(id=401c11785261461f8dcee45c3735189c55e03aae053019691f22db149c78ff8a, content: 'Integrative Wochenbettpflege & Familienzimmer: Mutter und Neugeborenes werden auf Station gemeinsam ...', meta: {'title': 'DRK Geburtshilfe Infos.md', 'source_id': '8aebf112-c5a5-48d5-aaa9-9635e1ee5c8b', 'page_number': 1, 'split_id': 4, 'split_idx_start': 3350}), Document(id=c52719eb90b183dce2455c20905e6243085082305ea36bd92a35eb6bde5de387, content: 'Auf der Wochenbettstation 4B werden Mutter und Kind rund um die Uhr gemeinsam betreut. Das Konzept d...', meta: {'title': 'DRK Geburtshilfe Infos.md', 'source_id': '8aebf112-c5a5-48d5-aaa9-9635e1ee5c8b', 'page_number': 1, 'split_id': 28, 'split_idx_start': 14199})]]\n"
     ]
    },
    {
     "data": {
      "application/vnd.jupyter.widget-view+json": {
       "model_id": "d5bffc9c1e1f4892b6b293561c67badc",
       "version_major": 2,
       "version_minor": 0
      },
      "text/plain": [
       "Batches:   0%|          | 0/1 [00:00<?, ?it/s]"
      ]
     },
     "metadata": {},
     "output_type": "display_data"
    },
    {
     "data": {
      "application/vnd.jupyter.widget-view+json": {
       "model_id": "22af00afd0b04cae99bc2b356f07fd52",
       "version_major": 2,
       "version_minor": 0
      },
      "text/plain": [
       "Batches:   0%|          | 0/1 [00:00<?, ?it/s]"
      ]
     },
     "metadata": {},
     "output_type": "display_data"
    },
    {
     "data": {
      "application/vnd.jupyter.widget-view+json": {
       "model_id": "7e06c3b2e3f14414acf476f50f97afc2",
       "version_major": 2,
       "version_minor": 0
      },
      "text/plain": [
       "Batches:   0%|          | 0/1 [00:00<?, ?it/s]"
      ]
     },
     "metadata": {},
     "output_type": "display_data"
    },
    {
     "name": "stderr",
     "output_type": "stream",
     "text": [
      "10:57:06 WARNING No Documents found with embeddings. Returning empty list. To generate embeddings, use a DocumentEmbedder.\n"
     ]
    },
    {
     "data": {
      "application/vnd.jupyter.widget-view+json": {
       "model_id": "f567f1ef48974fee8700de047ad1a95e",
       "version_major": 2,
       "version_minor": 0
      },
      "text/plain": [
       "Batches:   0%|          | 0/1 [00:00<?, ?it/s]"
      ]
     },
     "metadata": {},
     "output_type": "display_data"
    },
    {
     "name": "stderr",
     "output_type": "stream",
     "text": [
      "10:57:06 WARNING No Documents found with embeddings. Returning empty list. To generate embeddings, use a DocumentEmbedder.\n",
      "Processing rows:  24%|██▍       | 12/50 [00:04<00:14,  2.59row/s]"
     ]
    },
    {
     "name": "stdout",
     "output_type": "stream",
     "text": [
      "[[Document(id=4385f766a0169a4529b42413186c7df0fe00baaa201658f285e308a0e094dab8, content: 'Wenn Sie eine dauerhafte Empfängnisverhütung durch Sterilisation wünschen, kann dieser Eingriff mit ...', meta: {'title': 'Kaiserschnitt.md', 'source_id': 'cec11350-e783-4477-b76e-bd9afa5342c5', 'page_number': 1, 'split_id': 12, 'split_idx_start': 4018})]]\n"
     ]
    },
    {
     "data": {
      "application/vnd.jupyter.widget-view+json": {
       "model_id": "132ccaaa5ac84483a49c0c0e71091423",
       "version_major": 2,
       "version_minor": 0
      },
      "text/plain": [
       "Batches:   0%|          | 0/1 [00:00<?, ?it/s]"
      ]
     },
     "metadata": {},
     "output_type": "display_data"
    },
    {
     "data": {
      "application/vnd.jupyter.widget-view+json": {
       "model_id": "4225ef053cb8405a8a1731d8d42d0929",
       "version_major": 2,
       "version_minor": 0
      },
      "text/plain": [
       "Batches:   0%|          | 0/1 [00:00<?, ?it/s]"
      ]
     },
     "metadata": {},
     "output_type": "display_data"
    },
    {
     "data": {
      "application/vnd.jupyter.widget-view+json": {
       "model_id": "53d83a678bc5481db2bd9623208f0167",
       "version_major": 2,
       "version_minor": 0
      },
      "text/plain": [
       "Batches:   0%|          | 0/1 [00:00<?, ?it/s]"
      ]
     },
     "metadata": {},
     "output_type": "display_data"
    },
    {
     "name": "stderr",
     "output_type": "stream",
     "text": [
      "10:57:06 WARNING No Documents found with embeddings. Returning empty list. To generate embeddings, use a DocumentEmbedder.\n"
     ]
    },
    {
     "data": {
      "application/vnd.jupyter.widget-view+json": {
       "model_id": "b98af7285972404d8e03bca0e0ff269a",
       "version_major": 2,
       "version_minor": 0
      },
      "text/plain": [
       "Batches:   0%|          | 0/1 [00:00<?, ?it/s]"
      ]
     },
     "metadata": {},
     "output_type": "display_data"
    },
    {
     "name": "stderr",
     "output_type": "stream",
     "text": [
      "10:57:07 WARNING No Documents found with embeddings. Returning empty list. To generate embeddings, use a DocumentEmbedder.\n",
      "Processing rows:  26%|██▌       | 13/50 [00:05<00:14,  2.55row/s]"
     ]
    },
    {
     "name": "stdout",
     "output_type": "stream",
     "text": [
      "[[Document(id=a3caeb29cffe70e4f653ae5290031c02daa3e8aa95c1afc86f1896aba48f2c27, content: 'Abhören der kindlichen Herztöne\n",
      "Die Herztöne des Kindes werden in regelmäßigen Abständen mit einem s...', meta: {'title': 'Medizinische Maßnahmen rund um die Geburt.md', 'source_id': '73715a31-955e-47df-a9fb-6c900290bddf', 'page_number': 1, 'split_id': 2, 'split_idx_start': 752}), Document(id=45334e5de32a77a9d054f4b631e549385a13f499a2bfa265f959511ce227b795, content: 'CTG (Kardiotokografie)\n",
      "Mittels Elektroden, die auf der Bauchhaut angebracht werden, lassen sich sowo...', meta: {'title': 'Medizinische Maßnahmen rund um die Geburt.md', 'source_id': '73715a31-955e-47df-a9fb-6c900290bddf', 'page_number': 1, 'split_id': 3, 'split_idx_start': 1063}), Document(id=c25720d39e3d4de27ba132b3c6e5145051b726a7b968ec4691ba2b2cc88f5141, content: 'Falls die Fruchtblase bereits geplatzt ist und der Muttermund geöffnet wurde, kann gegebenenfalls ei...', meta: {'title': 'Medizinische Maßnahmen rund um die Geburt.md', 'source_id': '73715a31-955e-47df-a9fb-6c900290bddf', 'page_number': 1, 'split_id': 4, 'split_idx_start': 1226})]]\n"
     ]
    },
    {
     "data": {
      "application/vnd.jupyter.widget-view+json": {
       "model_id": "976eab70800c49359e94c5a8a30d0aad",
       "version_major": 2,
       "version_minor": 0
      },
      "text/plain": [
       "Batches:   0%|          | 0/1 [00:00<?, ?it/s]"
      ]
     },
     "metadata": {},
     "output_type": "display_data"
    },
    {
     "data": {
      "application/vnd.jupyter.widget-view+json": {
       "model_id": "b466a65736a94f1c8003c0322e6ec895",
       "version_major": 2,
       "version_minor": 0
      },
      "text/plain": [
       "Batches:   0%|          | 0/1 [00:00<?, ?it/s]"
      ]
     },
     "metadata": {},
     "output_type": "display_data"
    },
    {
     "data": {
      "application/vnd.jupyter.widget-view+json": {
       "model_id": "32dd0c707f894b29b28a5820cc6bf98e",
       "version_major": 2,
       "version_minor": 0
      },
      "text/plain": [
       "Batches:   0%|          | 0/1 [00:00<?, ?it/s]"
      ]
     },
     "metadata": {},
     "output_type": "display_data"
    },
    {
     "name": "stderr",
     "output_type": "stream",
     "text": [
      "10:57:07 WARNING No Documents found with embeddings. Returning empty list. To generate embeddings, use a DocumentEmbedder.\n"
     ]
    },
    {
     "data": {
      "application/vnd.jupyter.widget-view+json": {
       "model_id": "9e5a752feaf84c5a8479c74bcfd1a42f",
       "version_major": 2,
       "version_minor": 0
      },
      "text/plain": [
       "Batches:   0%|          | 0/1 [00:00<?, ?it/s]"
      ]
     },
     "metadata": {},
     "output_type": "display_data"
    },
    {
     "name": "stderr",
     "output_type": "stream",
     "text": [
      "10:57:07 WARNING No Documents found with embeddings. Returning empty list. To generate embeddings, use a DocumentEmbedder.\n",
      "Processing rows:  28%|██▊       | 14/50 [00:05<00:14,  2.53row/s]"
     ]
    },
    {
     "name": "stdout",
     "output_type": "stream",
     "text": [
      "[[Document(id=9ab8fd9589291e3b47ee4da70fe2d38a14db53d0704c9a19c7cfbbbf3f588491, content: 'Nach der Geburt – Wochenbett im Krankenhaus und zu Hause: Danach geht es auf die Wochenbettstation 4...', meta: {'title': 'DRK Geburtshilfe Infos.md', 'source_id': '8aebf112-c5a5-48d5-aaa9-9635e1ee5c8b', 'page_number': 1, 'split_id': 15, 'split_idx_start': 9385}), Document(id=588e4b7064952c5a6bef4ede1a2b69b06d511119fd8487851c0bc4a6991d9d37, content: 'Nach der Entlassung sollte eine Nachsorgehebamme übernehmen. Eine Liste mit Kontaktdaten liegt auf S...', meta: {'title': 'DRK Geburtshilfe Infos.md', 'source_id': '8aebf112-c5a5-48d5-aaa9-9635e1ee5c8b', 'page_number': 1, 'split_id': 33, 'split_idx_start': 15863}), Document(id=4967c20bc727674abe37171fe0185a09e48d4290e27be7b640ce87307962c248, content: 'Wochenbettbetreuung und Nachsorge: Nach der Entlassung haben Mütter Anspruch auf Hebammenbetreuung z...', meta: {'title': 'DRK Geburtshilfe Infos.md', 'source_id': '8aebf112-c5a5-48d5-aaa9-9635e1ee5c8b', 'page_number': 1, 'split_id': 39, 'split_idx_start': 18289})]]\n"
     ]
    },
    {
     "data": {
      "application/vnd.jupyter.widget-view+json": {
       "model_id": "f0b26a2c50f446d2ab1768210a507c99",
       "version_major": 2,
       "version_minor": 0
      },
      "text/plain": [
       "Batches:   0%|          | 0/1 [00:00<?, ?it/s]"
      ]
     },
     "metadata": {},
     "output_type": "display_data"
    },
    {
     "data": {
      "application/vnd.jupyter.widget-view+json": {
       "model_id": "67481f93f9314aa6ad2e7d47a42abce6",
       "version_major": 2,
       "version_minor": 0
      },
      "text/plain": [
       "Batches:   0%|          | 0/1 [00:00<?, ?it/s]"
      ]
     },
     "metadata": {},
     "output_type": "display_data"
    },
    {
     "data": {
      "application/vnd.jupyter.widget-view+json": {
       "model_id": "4e3ae94aa40d4001837efb96f202edf6",
       "version_major": 2,
       "version_minor": 0
      },
      "text/plain": [
       "Batches:   0%|          | 0/1 [00:00<?, ?it/s]"
      ]
     },
     "metadata": {},
     "output_type": "display_data"
    },
    {
     "name": "stderr",
     "output_type": "stream",
     "text": [
      "10:57:07 WARNING No Documents found with embeddings. Returning empty list. To generate embeddings, use a DocumentEmbedder.\n"
     ]
    },
    {
     "data": {
      "application/vnd.jupyter.widget-view+json": {
       "model_id": "7760e61a0ade4b34921d8b5b1bac0c8e",
       "version_major": 2,
       "version_minor": 0
      },
      "text/plain": [
       "Batches:   0%|          | 0/1 [00:00<?, ?it/s]"
      ]
     },
     "metadata": {},
     "output_type": "display_data"
    },
    {
     "name": "stderr",
     "output_type": "stream",
     "text": [
      "10:57:07 WARNING No Documents found with embeddings. Returning empty list. To generate embeddings, use a DocumentEmbedder.\n",
      "Processing rows:  30%|███       | 15/50 [00:05<00:13,  2.50row/s]"
     ]
    },
    {
     "name": "stdout",
     "output_type": "stream",
     "text": [
      "[[Document(id=2ed196f070b32f7671828fccebcba3d824d601902f8ea90751f641c92d4fdbfc, content: 'Ein Dammschnitt wird nur vorgenommen, wenn er medizinisch notwendig ist – etwa um eine Überdehnung d...', meta: {'title': 'Medizinische Maßnahmen rund um die Geburt.md', 'source_id': '73715a31-955e-47df-a9fb-6c900290bddf', 'page_number': 1, 'split_id': 19, 'split_idx_start': 5744})]]\n"
     ]
    },
    {
     "data": {
      "application/vnd.jupyter.widget-view+json": {
       "model_id": "f746f946413b4daaa22c017ec33b1c1e",
       "version_major": 2,
       "version_minor": 0
      },
      "text/plain": [
       "Batches:   0%|          | 0/1 [00:00<?, ?it/s]"
      ]
     },
     "metadata": {},
     "output_type": "display_data"
    },
    {
     "data": {
      "application/vnd.jupyter.widget-view+json": {
       "model_id": "7a8a0d45db3b442f828430f399bf9206",
       "version_major": 2,
       "version_minor": 0
      },
      "text/plain": [
       "Batches:   0%|          | 0/1 [00:00<?, ?it/s]"
      ]
     },
     "metadata": {},
     "output_type": "display_data"
    },
    {
     "data": {
      "application/vnd.jupyter.widget-view+json": {
       "model_id": "89c5c3d0fd944683a1f9b300fb420718",
       "version_major": 2,
       "version_minor": 0
      },
      "text/plain": [
       "Batches:   0%|          | 0/1 [00:00<?, ?it/s]"
      ]
     },
     "metadata": {},
     "output_type": "display_data"
    },
    {
     "name": "stderr",
     "output_type": "stream",
     "text": [
      "10:57:08 WARNING No Documents found with embeddings. Returning empty list. To generate embeddings, use a DocumentEmbedder.\n"
     ]
    },
    {
     "data": {
      "application/vnd.jupyter.widget-view+json": {
       "model_id": "54a63c38c3b24e7dba8ed1d8e7096699",
       "version_major": 2,
       "version_minor": 0
      },
      "text/plain": [
       "Batches:   0%|          | 0/1 [00:00<?, ?it/s]"
      ]
     },
     "metadata": {},
     "output_type": "display_data"
    },
    {
     "name": "stderr",
     "output_type": "stream",
     "text": [
      "10:57:08 WARNING No Documents found with embeddings. Returning empty list. To generate embeddings, use a DocumentEmbedder.\n",
      "Processing rows:  32%|███▏      | 16/50 [00:06<00:13,  2.54row/s]"
     ]
    },
    {
     "name": "stdout",
     "output_type": "stream",
     "text": [
      "[[Document(id=c634c91655bda8a442b9a8646ba9beaa57825a32d932e0347551b80577996bee, content: 'Wurde in der Vergangenheit ein Kaiserschnitt durchgeführt, ist eine vaginale Geburt in etwa 60–85 % ...', meta: {'title': 'Einleitung der Geburt.md', 'source_id': 'f534ef37-3ee9-4d29-a4d5-7c7723f610a8', 'page_number': 1, 'split_id': 12, 'split_idx_start': 3491})]]\n"
     ]
    },
    {
     "data": {
      "application/vnd.jupyter.widget-view+json": {
       "model_id": "b593d4ccbad540339f5cc3566549d12a",
       "version_major": 2,
       "version_minor": 0
      },
      "text/plain": [
       "Batches:   0%|          | 0/1 [00:00<?, ?it/s]"
      ]
     },
     "metadata": {},
     "output_type": "display_data"
    },
    {
     "data": {
      "application/vnd.jupyter.widget-view+json": {
       "model_id": "a20ec7fcd2fa46baa574a502d2b7f0cc",
       "version_major": 2,
       "version_minor": 0
      },
      "text/plain": [
       "Batches:   0%|          | 0/1 [00:00<?, ?it/s]"
      ]
     },
     "metadata": {},
     "output_type": "display_data"
    },
    {
     "data": {
      "application/vnd.jupyter.widget-view+json": {
       "model_id": "852426b7d3fc485594cedc0e3cf0c1c0",
       "version_major": 2,
       "version_minor": 0
      },
      "text/plain": [
       "Batches:   0%|          | 0/1 [00:00<?, ?it/s]"
      ]
     },
     "metadata": {},
     "output_type": "display_data"
    },
    {
     "name": "stderr",
     "output_type": "stream",
     "text": [
      "10:57:08 WARNING No Documents found with embeddings. Returning empty list. To generate embeddings, use a DocumentEmbedder.\n"
     ]
    },
    {
     "data": {
      "application/vnd.jupyter.widget-view+json": {
       "model_id": "283da94113e44f8688a5f5995683de32",
       "version_major": 2,
       "version_minor": 0
      },
      "text/plain": [
       "Batches:   0%|          | 0/1 [00:00<?, ?it/s]"
      ]
     },
     "metadata": {},
     "output_type": "display_data"
    },
    {
     "name": "stderr",
     "output_type": "stream",
     "text": [
      "10:57:08 WARNING No Documents found with embeddings. Returning empty list. To generate embeddings, use a DocumentEmbedder.\n",
      "Processing rows:  34%|███▍      | 17/50 [00:06<00:12,  2.56row/s]"
     ]
    },
    {
     "name": "stdout",
     "output_type": "stream",
     "text": [
      "[[Document(id=f9b2067fc5e68dc0a37102922aed44d444a6b5c33015400d87a0281bfea88332, content: 'Für das Kind:\n",
      "\n",
      "', meta: {'title': 'Medizinische Maßnahmen rund um die Geburt.md', 'source_id': '73715a31-955e-47df-a9fb-6c900290bddf', 'page_number': 1, 'split_id': 50, 'split_idx_start': 15960}), Document(id=dacecaf08f2b193ddb647f60ca1f39071d5a41c07acf28070ba5d8673df96ef2, content: 'Wird der Geburtstermin nur um wenige Tage überschritten, kann unter medizinischer Beobachtung noch e...', meta: {'title': 'Einleitung der Geburt.md', 'source_id': 'f534ef37-3ee9-4d29-a4d5-7c7723f610a8', 'page_number': 1, 'split_id': 10, 'split_idx_start': 2965})]]\n"
     ]
    },
    {
     "data": {
      "application/vnd.jupyter.widget-view+json": {
       "model_id": "c40a2aec18fd408ab3dd4b07afd18650",
       "version_major": 2,
       "version_minor": 0
      },
      "text/plain": [
       "Batches:   0%|          | 0/1 [00:00<?, ?it/s]"
      ]
     },
     "metadata": {},
     "output_type": "display_data"
    },
    {
     "data": {
      "application/vnd.jupyter.widget-view+json": {
       "model_id": "690bbd6466f848f4a32edaeeed189c05",
       "version_major": 2,
       "version_minor": 0
      },
      "text/plain": [
       "Batches:   0%|          | 0/1 [00:00<?, ?it/s]"
      ]
     },
     "metadata": {},
     "output_type": "display_data"
    },
    {
     "data": {
      "application/vnd.jupyter.widget-view+json": {
       "model_id": "8930528c47a64522abec4a9a1832dbd7",
       "version_major": 2,
       "version_minor": 0
      },
      "text/plain": [
       "Batches:   0%|          | 0/1 [00:00<?, ?it/s]"
      ]
     },
     "metadata": {},
     "output_type": "display_data"
    },
    {
     "name": "stderr",
     "output_type": "stream",
     "text": [
      "10:57:08 WARNING No Documents found with embeddings. Returning empty list. To generate embeddings, use a DocumentEmbedder.\n"
     ]
    },
    {
     "data": {
      "application/vnd.jupyter.widget-view+json": {
       "model_id": "4b46239ecf224d2da3e042891294763e",
       "version_major": 2,
       "version_minor": 0
      },
      "text/plain": [
       "Batches:   0%|          | 0/1 [00:00<?, ?it/s]"
      ]
     },
     "metadata": {},
     "output_type": "display_data"
    },
    {
     "name": "stderr",
     "output_type": "stream",
     "text": [
      "10:57:08 WARNING No Documents found with embeddings. Returning empty list. To generate embeddings, use a DocumentEmbedder.\n",
      "Processing rows:  36%|███▌      | 18/50 [00:07<00:12,  2.59row/s]"
     ]
    },
    {
     "name": "stdout",
     "output_type": "stream",
     "text": [
      "[[Document(id=6bdc4396b56ae161fb90971a227b9f050b4e7fa1db284ebbee90a23d746c3dd9, content: 'Der optimale Zeitpunkt für eine äußere Wendung liegt meist in der 37. oder 38. Schwangerschaftswoche...', meta: {'title': 'Äußere Wendung.md', 'source_id': '7ae1e3f0-dd60-4371-ab7b-aeeebef45f64', 'page_number': 1, 'split_id': 11, 'split_idx_start': 4229})]]\n"
     ]
    },
    {
     "data": {
      "application/vnd.jupyter.widget-view+json": {
       "model_id": "21ed3156b8d64a2fbfc3e5119ca80ca9",
       "version_major": 2,
       "version_minor": 0
      },
      "text/plain": [
       "Batches:   0%|          | 0/1 [00:00<?, ?it/s]"
      ]
     },
     "metadata": {},
     "output_type": "display_data"
    },
    {
     "data": {
      "application/vnd.jupyter.widget-view+json": {
       "model_id": "8b55f7838da243449e6b759c64ba5598",
       "version_major": 2,
       "version_minor": 0
      },
      "text/plain": [
       "Batches:   0%|          | 0/1 [00:00<?, ?it/s]"
      ]
     },
     "metadata": {},
     "output_type": "display_data"
    },
    {
     "data": {
      "application/vnd.jupyter.widget-view+json": {
       "model_id": "4f2e8430e1f741dbb8f7f0c01d1914af",
       "version_major": 2,
       "version_minor": 0
      },
      "text/plain": [
       "Batches:   0%|          | 0/1 [00:00<?, ?it/s]"
      ]
     },
     "metadata": {},
     "output_type": "display_data"
    },
    {
     "name": "stderr",
     "output_type": "stream",
     "text": [
      "10:57:09 WARNING No Documents found with embeddings. Returning empty list. To generate embeddings, use a DocumentEmbedder.\n"
     ]
    },
    {
     "data": {
      "application/vnd.jupyter.widget-view+json": {
       "model_id": "bd8a5021034c45ef8edd9448d30c56fd",
       "version_major": 2,
       "version_minor": 0
      },
      "text/plain": [
       "Batches:   0%|          | 0/1 [00:00<?, ?it/s]"
      ]
     },
     "metadata": {},
     "output_type": "display_data"
    },
    {
     "name": "stderr",
     "output_type": "stream",
     "text": [
      "10:57:09 WARNING No Documents found with embeddings. Returning empty list. To generate embeddings, use a DocumentEmbedder.\n",
      "Processing rows:  38%|███▊      | 19/50 [00:07<00:11,  2.62row/s]"
     ]
    },
    {
     "name": "stdout",
     "output_type": "stream",
     "text": [
      "[[Document(id=ea0c518b7c51e474b09770e8db97096528008239dbb0c497b6ce041cf5246496, content: 'Eine äußere Wendung findet in der Regel in einer Klinik statt und wird ambulant durchgeführt. Um die...', meta: {'title': 'Äußere Wendung.md', 'source_id': '7ae1e3f0-dd60-4371-ab7b-aeeebef45f64', 'page_number': 1, 'split_id': 4, 'split_idx_start': 1622}), Document(id=6d52fd21d8d1869483753745e9229b112438f2064282caabb96e210a2e67c5aa, content: 'Zunächst wird per Ultraschall die genaue Position des Kindes (etwa Beckenendlage, Querlage oder Fußl...', meta: {'title': 'Äußere Wendung.md', 'source_id': '7ae1e3f0-dd60-4371-ab7b-aeeebef45f64', 'page_number': 1, 'split_id': 5, 'split_idx_start': 2189}), Document(id=43a6551c09c72b6cf8ae742fd59b2e3a57b201be16525c571e3e65e26686661d, content: 'Die eigentliche Wendung wird von einer erfahrenen Ärztin oder einem erfahrenen Arzt, manchmal auch i...', meta: {'title': 'Äußere Wendung.md', 'source_id': '7ae1e3f0-dd60-4371-ab7b-aeeebef45f64', 'page_number': 1, 'split_id': 8, 'split_idx_start': 3273}), Document(id=aa9657440ba02ea5ad03f5e46fb0630230629214987e913265e7e692d3adc2f8, content: 'Nach der Wendung wird überprüft, ob Wehen eingesetzt haben. Die kindlichen Herztöne werden weiter üb...', meta: {'title': 'Äußere Wendung.md', 'source_id': '7ae1e3f0-dd60-4371-ab7b-aeeebef45f64', 'page_number': 1, 'split_id': 10, 'split_idx_start': 3934})]]\n"
     ]
    },
    {
     "data": {
      "application/vnd.jupyter.widget-view+json": {
       "model_id": "67c6eb2eaa9640f69f0102e131596d81",
       "version_major": 2,
       "version_minor": 0
      },
      "text/plain": [
       "Batches:   0%|          | 0/1 [00:00<?, ?it/s]"
      ]
     },
     "metadata": {},
     "output_type": "display_data"
    },
    {
     "data": {
      "application/vnd.jupyter.widget-view+json": {
       "model_id": "73d880ca437b4d8fbfc7ef58a77dc93c",
       "version_major": 2,
       "version_minor": 0
      },
      "text/plain": [
       "Batches:   0%|          | 0/1 [00:00<?, ?it/s]"
      ]
     },
     "metadata": {},
     "output_type": "display_data"
    },
    {
     "data": {
      "application/vnd.jupyter.widget-view+json": {
       "model_id": "58f4351c578d4f6bad42e1576daa8b5e",
       "version_major": 2,
       "version_minor": 0
      },
      "text/plain": [
       "Batches:   0%|          | 0/1 [00:00<?, ?it/s]"
      ]
     },
     "metadata": {},
     "output_type": "display_data"
    },
    {
     "name": "stderr",
     "output_type": "stream",
     "text": [
      "10:57:09 WARNING No Documents found with embeddings. Returning empty list. To generate embeddings, use a DocumentEmbedder.\n"
     ]
    },
    {
     "data": {
      "application/vnd.jupyter.widget-view+json": {
       "model_id": "f4a6eb64fe5f4eec8130ffe682120038",
       "version_major": 2,
       "version_minor": 0
      },
      "text/plain": [
       "Batches:   0%|          | 0/1 [00:00<?, ?it/s]"
      ]
     },
     "metadata": {},
     "output_type": "display_data"
    },
    {
     "name": "stderr",
     "output_type": "stream",
     "text": [
      "10:57:09 WARNING No Documents found with embeddings. Returning empty list. To generate embeddings, use a DocumentEmbedder.\n",
      "Processing rows:  40%|████      | 20/50 [00:07<00:11,  2.64row/s]"
     ]
    },
    {
     "name": "stdout",
     "output_type": "stream",
     "text": [
      "[[Document(id=4385f766a0169a4529b42413186c7df0fe00baaa201658f285e308a0e094dab8, content: 'Wenn Sie eine dauerhafte Empfängnisverhütung durch Sterilisation wünschen, kann dieser Eingriff mit ...', meta: {'title': 'Kaiserschnitt.md', 'source_id': 'cec11350-e783-4477-b76e-bd9afa5342c5', 'page_number': 1, 'split_id': 12, 'split_idx_start': 4018})]]\n"
     ]
    },
    {
     "data": {
      "application/vnd.jupyter.widget-view+json": {
       "model_id": "541b47e390884595b967087e4fa6ef68",
       "version_major": 2,
       "version_minor": 0
      },
      "text/plain": [
       "Batches:   0%|          | 0/1 [00:00<?, ?it/s]"
      ]
     },
     "metadata": {},
     "output_type": "display_data"
    },
    {
     "data": {
      "application/vnd.jupyter.widget-view+json": {
       "model_id": "f1dec241ddc04d8a95aa970f6fd3e66b",
       "version_major": 2,
       "version_minor": 0
      },
      "text/plain": [
       "Batches:   0%|          | 0/1 [00:00<?, ?it/s]"
      ]
     },
     "metadata": {},
     "output_type": "display_data"
    },
    {
     "data": {
      "application/vnd.jupyter.widget-view+json": {
       "model_id": "9a4bf78fd77241b3922aee6a6ed40598",
       "version_major": 2,
       "version_minor": 0
      },
      "text/plain": [
       "Batches:   0%|          | 0/1 [00:00<?, ?it/s]"
      ]
     },
     "metadata": {},
     "output_type": "display_data"
    },
    {
     "name": "stderr",
     "output_type": "stream",
     "text": [
      "10:57:10 WARNING No Documents found with embeddings. Returning empty list. To generate embeddings, use a DocumentEmbedder.\n"
     ]
    },
    {
     "data": {
      "application/vnd.jupyter.widget-view+json": {
       "model_id": "06f70e4038c945dd9dcfee682f91df49",
       "version_major": 2,
       "version_minor": 0
      },
      "text/plain": [
       "Batches:   0%|          | 0/1 [00:00<?, ?it/s]"
      ]
     },
     "metadata": {},
     "output_type": "display_data"
    },
    {
     "name": "stderr",
     "output_type": "stream",
     "text": [
      "10:57:10 WARNING No Documents found with embeddings. Returning empty list. To generate embeddings, use a DocumentEmbedder.\n",
      "Processing rows:  42%|████▏     | 21/50 [00:08<00:10,  2.66row/s]"
     ]
    },
    {
     "name": "stdout",
     "output_type": "stream",
     "text": [
      "[[Document(id=be65f3b489606bfcf3bd95b2cce0be34869d7b85ccfce301d6ea19c36ac593bb, content: 'Vor der Geburt – Anmeldung und Vorbereitung: Ab der 32. Schwangerschaftswoche sollte die Anmeldung z...', meta: {'title': 'DRK Geburtshilfe Infos.md', 'source_id': '8aebf112-c5a5-48d5-aaa9-9635e1ee5c8b', 'page_number': 1, 'split_id': 13, 'split_idx_start': 7981}), Document(id=18d6d3049495e1adac370df4eecb6b5411c73475d733ad08c514a22603dec181, content: '\n",
      "Die Anmeldung zur Geburt sollte idealerweise ab der 32. Schwangerschaftswoche erfolgen, um eine per...', meta: {'title': 'DRK Geburtshilfe Infos.md', 'source_id': '8aebf112-c5a5-48d5-aaa9-9635e1ee5c8b', 'page_number': 1, 'split_id': 45, 'split_idx_start': 19791}), Document(id=0285edc69540945413147961b9e3dfdedfe29318be610941ab71b68b4518b4ad, content: 'Die Anmeldung findet meist in der Hebammensprechstunde statt und beinhaltet ein ausführliches Gesprä...', meta: {'title': 'DRK Geburtshilfe Infos.md', 'source_id': '8aebf112-c5a5-48d5-aaa9-9635e1ee5c8b', 'page_number': 1, 'split_id': 46, 'split_idx_start': 20038})]]\n"
     ]
    },
    {
     "data": {
      "application/vnd.jupyter.widget-view+json": {
       "model_id": "fb55173b32d646fc922d6a11deb1fa0a",
       "version_major": 2,
       "version_minor": 0
      },
      "text/plain": [
       "Batches:   0%|          | 0/1 [00:00<?, ?it/s]"
      ]
     },
     "metadata": {},
     "output_type": "display_data"
    },
    {
     "data": {
      "application/vnd.jupyter.widget-view+json": {
       "model_id": "c7ca784afebe40d79ca471612e80e862",
       "version_major": 2,
       "version_minor": 0
      },
      "text/plain": [
       "Batches:   0%|          | 0/1 [00:00<?, ?it/s]"
      ]
     },
     "metadata": {},
     "output_type": "display_data"
    },
    {
     "data": {
      "application/vnd.jupyter.widget-view+json": {
       "model_id": "b59b5d4ee87b4d229157206e21a632d6",
       "version_major": 2,
       "version_minor": 0
      },
      "text/plain": [
       "Batches:   0%|          | 0/1 [00:00<?, ?it/s]"
      ]
     },
     "metadata": {},
     "output_type": "display_data"
    },
    {
     "name": "stderr",
     "output_type": "stream",
     "text": [
      "10:57:10 WARNING No Documents found with embeddings. Returning empty list. To generate embeddings, use a DocumentEmbedder.\n"
     ]
    },
    {
     "data": {
      "application/vnd.jupyter.widget-view+json": {
       "model_id": "53c6ae3cf73946da92fa650c717c7254",
       "version_major": 2,
       "version_minor": 0
      },
      "text/plain": [
       "Batches:   0%|          | 0/1 [00:00<?, ?it/s]"
      ]
     },
     "metadata": {},
     "output_type": "display_data"
    },
    {
     "name": "stderr",
     "output_type": "stream",
     "text": [
      "10:57:10 WARNING No Documents found with embeddings. Returning empty list. To generate embeddings, use a DocumentEmbedder.\n",
      "Processing rows:  44%|████▍     | 22/50 [00:08<00:10,  2.66row/s]"
     ]
    },
    {
     "name": "stdout",
     "output_type": "stream",
     "text": [
      "[[Document(id=e6cb71cd5847f7a174e63641c71cf1193a03f31270e996741f93d3702a0989e6, content: 'Vor Beginn der Anästhesie wird über eine Verweilkanüle in einer Vene – beispielsweise an Hand oder A...', meta: {'title': 'Narkose.md', 'source_id': '5f228e4f-ab5c-4585-8ee9-bb4ce764dbbc', 'page_number': 1, 'split_id': 3, 'split_idx_start': 674})]]\n"
     ]
    },
    {
     "data": {
      "application/vnd.jupyter.widget-view+json": {
       "model_id": "dfa2487218c0486f9cdf991a7efa3456",
       "version_major": 2,
       "version_minor": 0
      },
      "text/plain": [
       "Batches:   0%|          | 0/1 [00:00<?, ?it/s]"
      ]
     },
     "metadata": {},
     "output_type": "display_data"
    },
    {
     "data": {
      "application/vnd.jupyter.widget-view+json": {
       "model_id": "f93191d550f8418b83e62fa92e4c0ad6",
       "version_major": 2,
       "version_minor": 0
      },
      "text/plain": [
       "Batches:   0%|          | 0/1 [00:00<?, ?it/s]"
      ]
     },
     "metadata": {},
     "output_type": "display_data"
    },
    {
     "data": {
      "application/vnd.jupyter.widget-view+json": {
       "model_id": "17027e2a6aef4f0887665f4e6aafadde",
       "version_major": 2,
       "version_minor": 0
      },
      "text/plain": [
       "Batches:   0%|          | 0/1 [00:00<?, ?it/s]"
      ]
     },
     "metadata": {},
     "output_type": "display_data"
    },
    {
     "name": "stderr",
     "output_type": "stream",
     "text": [
      "10:57:10 WARNING No Documents found with embeddings. Returning empty list. To generate embeddings, use a DocumentEmbedder.\n"
     ]
    },
    {
     "data": {
      "application/vnd.jupyter.widget-view+json": {
       "model_id": "87850fff8e674714898868f28bd88066",
       "version_major": 2,
       "version_minor": 0
      },
      "text/plain": [
       "Batches:   0%|          | 0/1 [00:00<?, ?it/s]"
      ]
     },
     "metadata": {},
     "output_type": "display_data"
    },
    {
     "name": "stderr",
     "output_type": "stream",
     "text": [
      "10:57:10 WARNING No Documents found with embeddings. Returning empty list. To generate embeddings, use a DocumentEmbedder.\n",
      "Processing rows:  46%|████▌     | 23/50 [00:08<00:10,  2.66row/s]"
     ]
    },
    {
     "name": "stdout",
     "output_type": "stream",
     "text": [
      "[[Document(id=a5b3f49f9b26d88b641cc0fcf2996a8d8c6142009a39d4cf4c341ae5a56f9657, content: 'Bei Rhesus-negativer Blutgruppe der Mutter und Rhesus-positivem Kind erhalten Sie nach der Geburt ei...', meta: {'title': 'Kaiserschnitt.md', 'source_id': 'cec11350-e783-4477-b76e-bd9afa5342c5', 'page_number': 1, 'split_id': 11, 'split_idx_start': 3764}), Document(id=cc54b9eac60afd127d41a1f314893640aa077f9b7ee4bd7d068ce08cd6a127f1, content: 'Wenn bei Ihnen eine Rhesus-negative Blutgruppe vorliegt und Ihr Kind Rhesus-positiv ist, erhalten Si...', meta: {'title': 'Medizinische Maßnahmen rund um die Geburt.md', 'source_id': '73715a31-955e-47df-a9fb-6c900290bddf', 'page_number': 1, 'split_id': 26, 'split_idx_start': 8819})]]\n"
     ]
    },
    {
     "data": {
      "application/vnd.jupyter.widget-view+json": {
       "model_id": "3a92b9b210ed4539910826d1c8e0330b",
       "version_major": 2,
       "version_minor": 0
      },
      "text/plain": [
       "Batches:   0%|          | 0/1 [00:00<?, ?it/s]"
      ]
     },
     "metadata": {},
     "output_type": "display_data"
    },
    {
     "data": {
      "application/vnd.jupyter.widget-view+json": {
       "model_id": "586b7fe72c20427592ccbd175991e502",
       "version_major": 2,
       "version_minor": 0
      },
      "text/plain": [
       "Batches:   0%|          | 0/1 [00:00<?, ?it/s]"
      ]
     },
     "metadata": {},
     "output_type": "display_data"
    },
    {
     "data": {
      "application/vnd.jupyter.widget-view+json": {
       "model_id": "164ffa4b5a384a91a963dc9eebc1aa4a",
       "version_major": 2,
       "version_minor": 0
      },
      "text/plain": [
       "Batches:   0%|          | 0/1 [00:00<?, ?it/s]"
      ]
     },
     "metadata": {},
     "output_type": "display_data"
    },
    {
     "name": "stderr",
     "output_type": "stream",
     "text": [
      "10:57:11 WARNING No Documents found with embeddings. Returning empty list. To generate embeddings, use a DocumentEmbedder.\n"
     ]
    },
    {
     "data": {
      "application/vnd.jupyter.widget-view+json": {
       "model_id": "be9a82a6e4b3414fa4a27396ce0a7cb8",
       "version_major": 2,
       "version_minor": 0
      },
      "text/plain": [
       "Batches:   0%|          | 0/1 [00:00<?, ?it/s]"
      ]
     },
     "metadata": {},
     "output_type": "display_data"
    },
    {
     "name": "stderr",
     "output_type": "stream",
     "text": [
      "10:57:11 WARNING No Documents found with embeddings. Returning empty list. To generate embeddings, use a DocumentEmbedder.\n",
      "Processing rows:  48%|████▊     | 24/50 [00:09<00:09,  2.63row/s]"
     ]
    },
    {
     "name": "stdout",
     "output_type": "stream",
     "text": [
      "[[Document(id=5784ac0a18014b7cdc1af2718ef6b9f3c081b92758b73d0aac6306ed242a274f, content: 'Trotz größter Sorgfalt kann es bei einem Kaiserschnitt – wie bei jeder Operation – zu ernsthaften, t...', meta: {'title': 'Kaiserschnitt.md', 'source_id': 'cec11350-e783-4477-b76e-bd9afa5342c5', 'page_number': 1, 'split_id': 13, 'split_idx_start': 4382}), Document(id=41acb966fc18f94abc184a9091789b0262b0a80f76fc131ee002f5ebd181bee1, content: 'Verletzungen benachbarter Organe:\n",
      "Bei der Operation können Blutgefäße, Harnblase, Harnleiter, Darm o...', meta: {'title': 'Kaiserschnitt.md', 'source_id': 'cec11350-e783-4477-b76e-bd9afa5342c5', 'page_number': 1, 'split_id': 14, 'split_idx_start': 4713}), Document(id=a94e8a25f9d962aab31edf5c5579e325cf1484fc6fd49bef1ca88a50a81b7134, content: 'Starke Blutungen oder Nachblutungen:\n",
      "Massive Blutverluste können eine Bluttransfusion erforderlich m...', meta: {'title': 'Kaiserschnitt.md', 'source_id': 'cec11350-e783-4477-b76e-bd9afa5342c5', 'page_number': 1, 'split_id': 15, 'split_idx_start': 5086}), Document(id=26a8237fc65c3066a60867bd3ecd85f6c533ab2782e22225ad36669abe4c75f1, content: 'Versagen der Gebärmutterkontraktion (Atonie):\n",
      "Zieht sich die Gebärmutter nach der Entbindung nicht a...', meta: {'title': 'Kaiserschnitt.md', 'source_id': 'cec11350-e783-4477-b76e-bd9afa5342c5', 'page_number': 1, 'split_id': 16, 'split_idx_start': 5596}), Document(id=2cb6743bae701e102023385c90210182973176a22bce07a2b6ed769ef6224775, content: 'Blasenfunktionsstörungen:\n",
      "Eine vorübergehende Störung der Blasenentleerung ist möglich und wird meis...', meta: {'title': 'Kaiserschnitt.md', 'source_id': 'cec11350-e783-4477-b76e-bd9afa5342c5', 'page_number': 1, 'split_id': 17, 'split_idx_start': 5995}), Document(id=2e9347833204759a5d25f580b06148ac3bb1f0f61d188e72f3933c91d042955a, content: 'Infektionen:\n",
      "Entzündungen der Gebärmutter, Harnwege, des Bauchfells oder der Lunge können vorkommen....', meta: {'title': 'Kaiserschnitt.md', 'source_id': 'cec11350-e783-4477-b76e-bd9afa5342c5', 'page_number': 1, 'split_id': 18, 'split_idx_start': 6261}), Document(id=4388659e71bb758bda5425822f4733bb252cb6dbb711d00734d48d820f615c54, content: 'Schwere Infektionen des Bauchraums:\n",
      "Bei ausgedehnter Gebärmutter- oder Bauchraumentzündung kann eine...', meta: {'title': 'Kaiserschnitt.md', 'source_id': 'cec11350-e783-4477-b76e-bd9afa5342c5', 'page_number': 1, 'split_id': 19, 'split_idx_start': 6576}), Document(id=e02d02e67a70c9b7697396b8715a9418c1db5e053835fbfc1e29eba6efb1f33d, content: 'Wundheilungsstörungen:\n",
      "Infektionen der OP-Wunde können Nachbehandlungen wie Spülung, Drainage oder e...', meta: {'title': 'Kaiserschnitt.md', 'source_id': 'cec11350-e783-4477-b76e-bd9afa5342c5', 'page_number': 1, 'split_id': 20, 'split_idx_start': 6879}), Document(id=e97a6a1877c25b168b99ae5fe2f27a781000f892addf4dc1d1bcea4808823e9d, content: 'Eileiterschädigungen:\n",
      "Entzündungen können in seltenen Fällen die Eileiter verkleben, was eine später...', meta: {'title': 'Kaiserschnitt.md', 'source_id': 'cec11350-e783-4477-b76e-bd9afa5342c5', 'page_number': 1, 'split_id': 21, 'split_idx_start': 7165}), Document(id=18194c1657a6ac1c9b6f08a697cfd6d60bdc2f79d3a09fb1faa765f7f86e569e, content: 'Darmverschluss:\n",
      "Durch Verwachsungen im Bauchraum kann – auch Jahre später – ein Darmverschluss entst...', meta: {'title': 'Kaiserschnitt.md', 'source_id': 'cec11350-e783-4477-b76e-bd9afa5342c5', 'page_number': 1, 'split_id': 22, 'split_idx_start': 7336}), Document(id=3254a88f4298d8d2731ea2cff5c410d88d7025ff1f14d7bf4b373b87bc769aa7, content: 'Thrombose und Embolie:\n",
      "Nach der Operation kann es zur Bildung von Blutgerinnseln in den Venen kommen...', meta: {'title': 'Kaiserschnitt.md', 'source_id': 'cec11350-e783-4477-b76e-bd9afa5342c5', 'page_number': 1, 'split_id': 23, 'split_idx_start': 7492}), Document(id=5cdcd0ae449be4a1ff0f57fb27e66ea549303244a80e86840bb8b501e70cad89, content: 'Fruchtwasserembolie:\n",
      "In sehr seltenen Fällen kann Fruchtwasser in den Blutkreislauf gelangen und ein...', meta: {'title': 'Kaiserschnitt.md', 'source_id': 'cec11350-e783-4477-b76e-bd9afa5342c5', 'page_number': 1, 'split_id': 24, 'split_idx_start': 7874}), Document(id=ce00174048a3e0f052fdce1739cdf7034dc6e8684d2556877c3f6d4768b05c4f, content: 'Lagerungsschäden und Nervenverletzungen:\n",
      "Durch Lagerung während des Eingriffs oder begleitende Maßna...', meta: {'title': 'Kaiserschnitt.md', 'source_id': 'cec11350-e783-4477-b76e-bd9afa5342c5', 'page_number': 1, 'split_id': 25, 'split_idx_start': 8067}), Document(id=86b569496f95a8479f406800276a11c304b28b23ec11978e4ca66c62e4996312, content: 'Allergien und Unverträglichkeiten:\n",
      "Reaktionen auf Medikamente, Latex oder Desinfektionsmittel können...', meta: {'title': 'Kaiserschnitt.md', 'source_id': 'cec11350-e783-4477-b76e-bd9afa5342c5', 'page_number': 1, 'split_id': 26, 'split_idx_start': 8384}), Document(id=834bca49cfd4ee720088560995dba4390eceb85e9fac09cff10bf6144058cfe7, content: 'Narbenendometriose:\n",
      "In Ausnahmefällen wachsen Zellen der Gebärmutterschleimhaut in der OP-Narbe oder...', meta: {'title': 'Kaiserschnitt.md', 'source_id': 'cec11350-e783-4477-b76e-bd9afa5342c5', 'page_number': 1, 'split_id': 27, 'split_idx_start': 8633}), Document(id=313b21810e86147b7409c4a9bd6eaeac8b764045d6250b77dc691c34f04367df, content: 'Rektusdiastase und Narbenbruch:\n",
      "Durch die Schwangerschaft können die geraden Bauchmuskeln auseinande...', meta: {'title': 'Kaiserschnitt.md', 'source_id': 'cec11350-e783-4477-b76e-bd9afa5342c5', 'page_number': 1, 'split_id': 28, 'split_idx_start': 8833})]]\n"
     ]
    },
    {
     "data": {
      "application/vnd.jupyter.widget-view+json": {
       "model_id": "a7ffb33e19224bfcb70bf808a04946da",
       "version_major": 2,
       "version_minor": 0
      },
      "text/plain": [
       "Batches:   0%|          | 0/1 [00:00<?, ?it/s]"
      ]
     },
     "metadata": {},
     "output_type": "display_data"
    },
    {
     "data": {
      "application/vnd.jupyter.widget-view+json": {
       "model_id": "a7b733c193cf4e41970c0c2714302510",
       "version_major": 2,
       "version_minor": 0
      },
      "text/plain": [
       "Batches:   0%|          | 0/1 [00:00<?, ?it/s]"
      ]
     },
     "metadata": {},
     "output_type": "display_data"
    },
    {
     "data": {
      "application/vnd.jupyter.widget-view+json": {
       "model_id": "aac89ec12dc94b6e92ce250f57ab4e11",
       "version_major": 2,
       "version_minor": 0
      },
      "text/plain": [
       "Batches:   0%|          | 0/1 [00:00<?, ?it/s]"
      ]
     },
     "metadata": {},
     "output_type": "display_data"
    },
    {
     "name": "stderr",
     "output_type": "stream",
     "text": [
      "10:57:11 WARNING No Documents found with embeddings. Returning empty list. To generate embeddings, use a DocumentEmbedder.\n"
     ]
    },
    {
     "data": {
      "application/vnd.jupyter.widget-view+json": {
       "model_id": "66bc68641ae64fdbac7e97005666e393",
       "version_major": 2,
       "version_minor": 0
      },
      "text/plain": [
       "Batches:   0%|          | 0/1 [00:00<?, ?it/s]"
      ]
     },
     "metadata": {},
     "output_type": "display_data"
    },
    {
     "name": "stderr",
     "output_type": "stream",
     "text": [
      "10:57:11 WARNING No Documents found with embeddings. Returning empty list. To generate embeddings, use a DocumentEmbedder.\n",
      "Processing rows:  50%|█████     | 25/50 [00:09<00:09,  2.62row/s]"
     ]
    },
    {
     "name": "stdout",
     "output_type": "stream",
     "text": [
      "[[Document(id=f6774b0bbc19388649edd2b880f2611c4e868b73568b12e43f2920fedcb01618, content: 'Anti-D-Prophylaxe\n",
      "Bei Rhesus-negativem Blut der Mutter und Rhesus-positivem Kind erfolgt nach der Ge...', meta: {'title': 'Medizinische Maßnahmen rund um die Geburt.md', 'source_id': '73715a31-955e-47df-a9fb-6c900290bddf', 'page_number': 1, 'split_id': 16, 'split_idx_start': 4468}), Document(id=cc54b9eac60afd127d41a1f314893640aa077f9b7ee4bd7d068ce08cd6a127f1, content: 'Wenn bei Ihnen eine Rhesus-negative Blutgruppe vorliegt und Ihr Kind Rhesus-positiv ist, erhalten Si...', meta: {'title': 'Medizinische Maßnahmen rund um die Geburt.md', 'source_id': '73715a31-955e-47df-a9fb-6c900290bddf', 'page_number': 1, 'split_id': 26, 'split_idx_start': 8819})]]\n"
     ]
    },
    {
     "data": {
      "application/vnd.jupyter.widget-view+json": {
       "model_id": "296293ea4b68460ba594af36e1e5fed5",
       "version_major": 2,
       "version_minor": 0
      },
      "text/plain": [
       "Batches:   0%|          | 0/1 [00:00<?, ?it/s]"
      ]
     },
     "metadata": {},
     "output_type": "display_data"
    },
    {
     "data": {
      "application/vnd.jupyter.widget-view+json": {
       "model_id": "a85a50a685124743a8c79196337837df",
       "version_major": 2,
       "version_minor": 0
      },
      "text/plain": [
       "Batches:   0%|          | 0/1 [00:00<?, ?it/s]"
      ]
     },
     "metadata": {},
     "output_type": "display_data"
    },
    {
     "data": {
      "application/vnd.jupyter.widget-view+json": {
       "model_id": "01545bc59c73434e8b7dffb3e3edf527",
       "version_major": 2,
       "version_minor": 0
      },
      "text/plain": [
       "Batches:   0%|          | 0/1 [00:00<?, ?it/s]"
      ]
     },
     "metadata": {},
     "output_type": "display_data"
    },
    {
     "name": "stderr",
     "output_type": "stream",
     "text": [
      "10:57:11 WARNING No Documents found with embeddings. Returning empty list. To generate embeddings, use a DocumentEmbedder.\n"
     ]
    },
    {
     "data": {
      "application/vnd.jupyter.widget-view+json": {
       "model_id": "a9e583256d7e4bb4a002e3802aa234d9",
       "version_major": 2,
       "version_minor": 0
      },
      "text/plain": [
       "Batches:   0%|          | 0/1 [00:00<?, ?it/s]"
      ]
     },
     "metadata": {},
     "output_type": "display_data"
    },
    {
     "name": "stderr",
     "output_type": "stream",
     "text": [
      "10:57:12 WARNING No Documents found with embeddings. Returning empty list. To generate embeddings, use a DocumentEmbedder.\n",
      "Processing rows:  52%|█████▏    | 26/50 [00:10<00:09,  2.62row/s]"
     ]
    },
    {
     "name": "stdout",
     "output_type": "stream",
     "text": [
      "[[Document(id=f9b2067fc5e68dc0a37102922aed44d444a6b5c33015400d87a0281bfea88332, content: 'Für das Kind:\n",
      "\n",
      "', meta: {'title': 'Medizinische Maßnahmen rund um die Geburt.md', 'source_id': '73715a31-955e-47df-a9fb-6c900290bddf', 'page_number': 1, 'split_id': 50, 'split_idx_start': 15960}), Document(id=dacecaf08f2b193ddb647f60ca1f39071d5a41c07acf28070ba5d8673df96ef2, content: 'Wird der Geburtstermin nur um wenige Tage überschritten, kann unter medizinischer Beobachtung noch e...', meta: {'title': 'Einleitung der Geburt.md', 'source_id': 'f534ef37-3ee9-4d29-a4d5-7c7723f610a8', 'page_number': 1, 'split_id': 10, 'split_idx_start': 2965})]]\n"
     ]
    },
    {
     "data": {
      "application/vnd.jupyter.widget-view+json": {
       "model_id": "1dc2faa586454696b2d54b15c1f8af49",
       "version_major": 2,
       "version_minor": 0
      },
      "text/plain": [
       "Batches:   0%|          | 0/1 [00:00<?, ?it/s]"
      ]
     },
     "metadata": {},
     "output_type": "display_data"
    },
    {
     "data": {
      "application/vnd.jupyter.widget-view+json": {
       "model_id": "135a777bdd834f559c4275a4444970bb",
       "version_major": 2,
       "version_minor": 0
      },
      "text/plain": [
       "Batches:   0%|          | 0/1 [00:00<?, ?it/s]"
      ]
     },
     "metadata": {},
     "output_type": "display_data"
    },
    {
     "data": {
      "application/vnd.jupyter.widget-view+json": {
       "model_id": "bcc13a1181bd42909967f015905b8129",
       "version_major": 2,
       "version_minor": 0
      },
      "text/plain": [
       "Batches:   0%|          | 0/1 [00:00<?, ?it/s]"
      ]
     },
     "metadata": {},
     "output_type": "display_data"
    },
    {
     "name": "stderr",
     "output_type": "stream",
     "text": [
      "10:57:12 WARNING No Documents found with embeddings. Returning empty list. To generate embeddings, use a DocumentEmbedder.\n"
     ]
    },
    {
     "data": {
      "application/vnd.jupyter.widget-view+json": {
       "model_id": "6422ede4d75644229289bc1ffeb9fc39",
       "version_major": 2,
       "version_minor": 0
      },
      "text/plain": [
       "Batches:   0%|          | 0/1 [00:00<?, ?it/s]"
      ]
     },
     "metadata": {},
     "output_type": "display_data"
    },
    {
     "name": "stderr",
     "output_type": "stream",
     "text": [
      "10:57:12 WARNING No Documents found with embeddings. Returning empty list. To generate embeddings, use a DocumentEmbedder.\n",
      "Processing rows:  54%|█████▍    | 27/50 [00:10<00:08,  2.62row/s]"
     ]
    },
    {
     "name": "stdout",
     "output_type": "stream",
     "text": [
      "[[Document(id=75cf8521595c8d1b0a168b892b37619bc393ab3db1c2925d63176a39ddc05708, content: 'Bitte beachten Sie nach der Entlassung aus der Klinik bestimmte Warnsignale, die auf Komplikationen ...', meta: {'title': 'Kaiserschnitt.md', 'source_id': 'cec11350-e783-4477-b76e-bd9afa5342c5', 'page_number': 1, 'split_id': 47, 'split_idx_start': 13884}), Document(id=34d7d6c87ece265af76bc986ef1811024257e2179e24d7587ef4e470798e89de, content: 'Fieber über 38 °C,\n",
      "zunehmende oder anhaltende Schmerzen im Unterbauch,\n",
      "Rötung, Schwellung oder Schme...', meta: {'title': 'Kaiserschnitt.md', 'source_id': 'cec11350-e783-4477-b76e-bd9afa5342c5', 'page_number': 1, 'split_id': 48, 'split_idx_start': 14098}), Document(id=87761bef503739856c9298cf70a2f64bdb4b0aa99f89dad9c1664c8a8c135ffd, content: 'Auch wenn diese Beschwerden erst einige Tage nach der Entlassung auftreten, sollten sie nicht unbeac...', meta: {'title': 'Kaiserschnitt.md', 'source_id': 'cec11350-e783-4477-b76e-bd9afa5342c5', 'page_number': 1, 'split_id': 49, 'split_idx_start': 14440}), Document(id=5ca4f285badff13f7115a48d1063086afd9205ac4c3ebadc07f3a4ecdbc198f1, content: 'Suchen Sie bitte ärztliche Hilfe auf, wenn eines oder mehrere der folgenden Symptome bei Ihnen auftr...', meta: {'title': 'Medizinische Maßnahmen rund um die Geburt.md', 'source_id': '73715a31-955e-47df-a9fb-6c900290bddf', 'page_number': 1, 'split_id': 71, 'split_idx_start': 20600}), Document(id=d5b5818dc0c954a5950c11911e1744c105deb135b6345628c3fdf0ffbee961db, content: 'Fieber von über 38 °C,\n",
      "zunehmende Schmerzen im Unterbauch,\n",
      "Blutungen, die stärker sind als der norma...', meta: {'title': 'Medizinische Maßnahmen rund um die Geburt.md', 'source_id': '73715a31-955e-47df-a9fb-6c900290bddf', 'page_number': 1, 'split_id': 72, 'split_idx_start': 20707}), Document(id=1ac21d8018022af8ca74f21a7316bf5a8e5fe8a37cc5fbe26441761b6687d90b, content: 'Bitte informieren Sie sofort medizinisches Personal, wenn nach dem Eingriff Beschwerden auftreten wi...', meta: {'title': 'Narkose.md', 'source_id': '5f228e4f-ab5c-4585-8ee9-bb4ce764dbbc', 'page_number': 1, 'split_id': 76, 'split_idx_start': 19847})]]\n"
     ]
    },
    {
     "data": {
      "application/vnd.jupyter.widget-view+json": {
       "model_id": "149369a9f7004fbc8eb0114521e05eb5",
       "version_major": 2,
       "version_minor": 0
      },
      "text/plain": [
       "Batches:   0%|          | 0/1 [00:00<?, ?it/s]"
      ]
     },
     "metadata": {},
     "output_type": "display_data"
    },
    {
     "data": {
      "application/vnd.jupyter.widget-view+json": {
       "model_id": "a5a33e894ac84687b8d9e8f0462e2ccd",
       "version_major": 2,
       "version_minor": 0
      },
      "text/plain": [
       "Batches:   0%|          | 0/1 [00:00<?, ?it/s]"
      ]
     },
     "metadata": {},
     "output_type": "display_data"
    },
    {
     "data": {
      "application/vnd.jupyter.widget-view+json": {
       "model_id": "60b878d92475436f9a7d40de0bc232e3",
       "version_major": 2,
       "version_minor": 0
      },
      "text/plain": [
       "Batches:   0%|          | 0/1 [00:00<?, ?it/s]"
      ]
     },
     "metadata": {},
     "output_type": "display_data"
    },
    {
     "name": "stderr",
     "output_type": "stream",
     "text": [
      "10:57:12 WARNING No Documents found with embeddings. Returning empty list. To generate embeddings, use a DocumentEmbedder.\n"
     ]
    },
    {
     "data": {
      "application/vnd.jupyter.widget-view+json": {
       "model_id": "04765bb8fd5f48c987e8a3c1a7e64a4a",
       "version_major": 2,
       "version_minor": 0
      },
      "text/plain": [
       "Batches:   0%|          | 0/1 [00:00<?, ?it/s]"
      ]
     },
     "metadata": {},
     "output_type": "display_data"
    },
    {
     "name": "stderr",
     "output_type": "stream",
     "text": [
      "10:57:12 WARNING No Documents found with embeddings. Returning empty list. To generate embeddings, use a DocumentEmbedder.\n",
      "Processing rows:  56%|█████▌    | 28/50 [00:10<00:08,  2.71row/s]"
     ]
    },
    {
     "name": "stdout",
     "output_type": "stream",
     "text": [
      "[[Document(id=9ab8fd9589291e3b47ee4da70fe2d38a14db53d0704c9a19c7cfbbbf3f588491, content: 'Nach der Geburt – Wochenbett im Krankenhaus und zu Hause: Danach geht es auf die Wochenbettstation 4...', meta: {'title': 'DRK Geburtshilfe Infos.md', 'source_id': '8aebf112-c5a5-48d5-aaa9-9635e1ee5c8b', 'page_number': 1, 'split_id': 15, 'split_idx_start': 9385}), Document(id=588e4b7064952c5a6bef4ede1a2b69b06d511119fd8487851c0bc4a6991d9d37, content: 'Nach der Entlassung sollte eine Nachsorgehebamme übernehmen. Eine Liste mit Kontaktdaten liegt auf S...', meta: {'title': 'DRK Geburtshilfe Infos.md', 'source_id': '8aebf112-c5a5-48d5-aaa9-9635e1ee5c8b', 'page_number': 1, 'split_id': 33, 'split_idx_start': 15863}), Document(id=4967c20bc727674abe37171fe0185a09e48d4290e27be7b640ce87307962c248, content: 'Wochenbettbetreuung und Nachsorge: Nach der Entlassung haben Mütter Anspruch auf Hebammenbetreuung z...', meta: {'title': 'DRK Geburtshilfe Infos.md', 'source_id': '8aebf112-c5a5-48d5-aaa9-9635e1ee5c8b', 'page_number': 1, 'split_id': 39, 'split_idx_start': 18289})]]\n"
     ]
    },
    {
     "data": {
      "application/vnd.jupyter.widget-view+json": {
       "model_id": "0347c14f18b846a892e3ac55d94a1908",
       "version_major": 2,
       "version_minor": 0
      },
      "text/plain": [
       "Batches:   0%|          | 0/1 [00:00<?, ?it/s]"
      ]
     },
     "metadata": {},
     "output_type": "display_data"
    },
    {
     "data": {
      "application/vnd.jupyter.widget-view+json": {
       "model_id": "2c0840fafd23471cbbcc0ae944405508",
       "version_major": 2,
       "version_minor": 0
      },
      "text/plain": [
       "Batches:   0%|          | 0/1 [00:00<?, ?it/s]"
      ]
     },
     "metadata": {},
     "output_type": "display_data"
    },
    {
     "data": {
      "application/vnd.jupyter.widget-view+json": {
       "model_id": "57302f33f64d44569e45b3471aefd4d0",
       "version_major": 2,
       "version_minor": 0
      },
      "text/plain": [
       "Batches:   0%|          | 0/1 [00:00<?, ?it/s]"
      ]
     },
     "metadata": {},
     "output_type": "display_data"
    },
    {
     "name": "stderr",
     "output_type": "stream",
     "text": [
      "10:57:13 WARNING No Documents found with embeddings. Returning empty list. To generate embeddings, use a DocumentEmbedder.\n"
     ]
    },
    {
     "data": {
      "application/vnd.jupyter.widget-view+json": {
       "model_id": "2ddfda7013f04d169d1cc53e38d0f672",
       "version_major": 2,
       "version_minor": 0
      },
      "text/plain": [
       "Batches:   0%|          | 0/1 [00:00<?, ?it/s]"
      ]
     },
     "metadata": {},
     "output_type": "display_data"
    },
    {
     "name": "stderr",
     "output_type": "stream",
     "text": [
      "10:57:13 WARNING No Documents found with embeddings. Returning empty list. To generate embeddings, use a DocumentEmbedder.\n",
      "Processing rows:  58%|█████▊    | 29/50 [00:11<00:07,  2.65row/s]"
     ]
    },
    {
     "name": "stdout",
     "output_type": "stream",
     "text": [
      "[[Document(id=f4ae4ad94acb51a447451ed9f3b2de378b2605b01d4c2858e7c2b0146ed2a408, content: 'Neugeborenen-Versorgung: Die Gesundheit des Kindes wird von Anfang an eng überwacht. Eine Kinderärzt...', meta: {'title': 'DRK Geburtshilfe Infos.md', 'source_id': '8aebf112-c5a5-48d5-aaa9-9635e1ee5c8b', 'page_number': 1, 'split_id': 6, 'split_idx_start': 4895}), Document(id=291dc7cb39e4cad39470e9fdd765a00c4adb071323a00001cea5af88c76a745b, content: 'Neugeborenen-Versorgung: Jedes Neugeborene wird unmittelbar nach der Geburt ärztlich untersucht (U1 ...', meta: {'title': 'DRK Geburtshilfe Infos.md', 'source_id': '8aebf112-c5a5-48d5-aaa9-9635e1ee5c8b', 'page_number': 1, 'split_id': 9, 'split_idx_start': 6663})]]\n"
     ]
    },
    {
     "data": {
      "application/vnd.jupyter.widget-view+json": {
       "model_id": "91f7d5d2b2df402dabfa2c1d105db557",
       "version_major": 2,
       "version_minor": 0
      },
      "text/plain": [
       "Batches:   0%|          | 0/1 [00:00<?, ?it/s]"
      ]
     },
     "metadata": {},
     "output_type": "display_data"
    },
    {
     "data": {
      "application/vnd.jupyter.widget-view+json": {
       "model_id": "c480fcfc91594569861447c6c26c985c",
       "version_major": 2,
       "version_minor": 0
      },
      "text/plain": [
       "Batches:   0%|          | 0/1 [00:00<?, ?it/s]"
      ]
     },
     "metadata": {},
     "output_type": "display_data"
    },
    {
     "data": {
      "application/vnd.jupyter.widget-view+json": {
       "model_id": "755b9f4b4d8340f8abf1b874cf62125a",
       "version_major": 2,
       "version_minor": 0
      },
      "text/plain": [
       "Batches:   0%|          | 0/1 [00:00<?, ?it/s]"
      ]
     },
     "metadata": {},
     "output_type": "display_data"
    },
    {
     "name": "stderr",
     "output_type": "stream",
     "text": [
      "10:57:13 WARNING No Documents found with embeddings. Returning empty list. To generate embeddings, use a DocumentEmbedder.\n"
     ]
    },
    {
     "data": {
      "application/vnd.jupyter.widget-view+json": {
       "model_id": "256e016563a2433fbcddb0a9f2c3d493",
       "version_major": 2,
       "version_minor": 0
      },
      "text/plain": [
       "Batches:   0%|          | 0/1 [00:00<?, ?it/s]"
      ]
     },
     "metadata": {},
     "output_type": "display_data"
    },
    {
     "name": "stderr",
     "output_type": "stream",
     "text": [
      "10:57:13 WARNING No Documents found with embeddings. Returning empty list. To generate embeddings, use a DocumentEmbedder.\n",
      "Processing rows:  60%|██████    | 30/50 [00:11<00:07,  2.65row/s]"
     ]
    },
    {
     "name": "stdout",
     "output_type": "stream",
     "text": [
      "[[Document(id=a1b7d62b9d31feef601036230e031e20678f81f589cb0cc0b5a5b9b5f6e16b73, content: 'Auch für das Neugeborene können im Zusammenhang mit einem Kaiserschnitt Risiken bestehen – sowohl ku...', meta: {'title': 'Kaiserschnitt.md', 'source_id': 'cec11350-e783-4477-b76e-bd9afa5342c5', 'page_number': 1, 'split_id': 29, 'split_idx_start': 9080}), Document(id=caa8a09327d5cbb8b37deeafc41ddea1f41eee718ddefa7ef466013c8c149d1f, content: 'Anpassungsstörungen nach der Geburt:\n",
      "Kinder, die per Kaiserschnitt zur Welt kommen, zeigen häufiger ...', meta: {'title': 'Kaiserschnitt.md', 'source_id': 'cec11350-e783-4477-b76e-bd9afa5342c5', 'page_number': 1, 'split_id': 30, 'split_idx_start': 9241}), Document(id=0b16061bc1e88fafc24a45c25d49a0f872fd19f3d8c2225f70b1d5462c3428ce, content: 'Geburtsverletzungen:\n",
      "Ist das Kind ungünstig im Becken fixiert, kann es beim Herausheben aus der Gebä...', meta: {'title': 'Kaiserschnitt.md', 'source_id': 'cec11350-e783-4477-b76e-bd9afa5342c5', 'page_number': 1, 'split_id': 31, 'split_idx_start': 9680}), Document(id=aaa2c6e6f69197c667bf7e1e1b72f8e619e8ebddfe74b6aecde2b7d4326cec9e, content: 'Schnittverletzungen:\n",
      "Beim Öffnen der Gebärmutter kann es sehr selten zu kleinen Verletzungen der kin...', meta: {'title': 'Kaiserschnitt.md', 'source_id': 'cec11350-e783-4477-b76e-bd9afa5342c5', 'page_number': 1, 'split_id': 32, 'split_idx_start': 9970}), Document(id=c873116e59dd60839ba4eb446369f461775ef4ac26f226717cfec4b66c4c2d2a, content: 'Einsatz von Saugglocke oder Zange:\n",
      "Auch bei einem Kaiserschnitt kann unter Umständen eine Saugglocke...', meta: {'title': 'Kaiserschnitt.md', 'source_id': 'cec11350-e783-4477-b76e-bd9afa5342c5', 'page_number': 1, 'split_id': 33, 'split_idx_start': 10214}), Document(id=de2a7b66910dec73d13b8bd548e166337b89851fef2fc9e9c17f7999e921e1bf, content: 'Langfristige gesundheitliche Einflüsse:\n",
      "Es gibt Hinweise, dass per Kaiserschnitt geborene Kinder mög...', meta: {'title': 'Kaiserschnitt.md', 'source_id': 'cec11350-e783-4477-b76e-bd9afa5342c5', 'page_number': 1, 'split_id': 34, 'split_idx_start': 10473}), Document(id=f9b2067fc5e68dc0a37102922aed44d444a6b5c33015400d87a0281bfea88332, content: 'Für das Kind:\n",
      "\n",
      "', meta: {'title': 'Medizinische Maßnahmen rund um die Geburt.md', 'source_id': '73715a31-955e-47df-a9fb-6c900290bddf', 'page_number': 1, 'split_id': 50, 'split_idx_start': 15960})]]\n"
     ]
    },
    {
     "data": {
      "application/vnd.jupyter.widget-view+json": {
       "model_id": "283abdd7f8d442ce8054806898894a77",
       "version_major": 2,
       "version_minor": 0
      },
      "text/plain": [
       "Batches:   0%|          | 0/1 [00:00<?, ?it/s]"
      ]
     },
     "metadata": {},
     "output_type": "display_data"
    },
    {
     "data": {
      "application/vnd.jupyter.widget-view+json": {
       "model_id": "88e7109c55fa4dbbb60d6cee8f36c810",
       "version_major": 2,
       "version_minor": 0
      },
      "text/plain": [
       "Batches:   0%|          | 0/1 [00:00<?, ?it/s]"
      ]
     },
     "metadata": {},
     "output_type": "display_data"
    },
    {
     "data": {
      "application/vnd.jupyter.widget-view+json": {
       "model_id": "544806b9a84b40c698623f6e7c8ab694",
       "version_major": 2,
       "version_minor": 0
      },
      "text/plain": [
       "Batches:   0%|          | 0/1 [00:00<?, ?it/s]"
      ]
     },
     "metadata": {},
     "output_type": "display_data"
    },
    {
     "name": "stderr",
     "output_type": "stream",
     "text": [
      "10:57:13 WARNING No Documents found with embeddings. Returning empty list. To generate embeddings, use a DocumentEmbedder.\n"
     ]
    },
    {
     "data": {
      "application/vnd.jupyter.widget-view+json": {
       "model_id": "2b357907e3ec45e4922eb361f2163825",
       "version_major": 2,
       "version_minor": 0
      },
      "text/plain": [
       "Batches:   0%|          | 0/1 [00:00<?, ?it/s]"
      ]
     },
     "metadata": {},
     "output_type": "display_data"
    },
    {
     "name": "stderr",
     "output_type": "stream",
     "text": [
      "10:57:13 WARNING No Documents found with embeddings. Returning empty list. To generate embeddings, use a DocumentEmbedder.\n",
      "Processing rows:  62%|██████▏   | 31/50 [00:11<00:07,  2.67row/s]"
     ]
    },
    {
     "name": "stdout",
     "output_type": "stream",
     "text": [
      "[[Document(id=d8d314b9d482fbaef7592256066614798e9ce1ba79e32995ae6c9a85bcd97097, content: 'Die Klinik für Geburtshilfe in den DRK Kliniken Berlin Köpenick bietet werdenden Eltern eine sichere...', meta: {'title': 'DRK Geburtshilfe Infos.md', 'source_id': '8aebf112-c5a5-48d5-aaa9-9635e1ee5c8b', 'page_number': 1, 'split_id': 0, 'split_idx_start': 0}), Document(id=c3c7fa888c2ea913233e25135541bcba0ec80fdb091b2fa1bf52cb723ddadddb, content: 'Vielfältige Schmerzlinderungsangebote: Jede Frau empfindet die Geburt anders – entsprechend bietet d...', meta: {'title': 'DRK Geburtshilfe Infos.md', 'source_id': '8aebf112-c5a5-48d5-aaa9-9635e1ee5c8b', 'page_number': 1, 'split_id': 2, 'split_idx_start': 1664})]]\n"
     ]
    },
    {
     "data": {
      "application/vnd.jupyter.widget-view+json": {
       "model_id": "30b9b8b18e6e45b8b07d1a876968fc02",
       "version_major": 2,
       "version_minor": 0
      },
      "text/plain": [
       "Batches:   0%|          | 0/1 [00:00<?, ?it/s]"
      ]
     },
     "metadata": {},
     "output_type": "display_data"
    },
    {
     "data": {
      "application/vnd.jupyter.widget-view+json": {
       "model_id": "4c9476a8d56643bab2b99ecf80991694",
       "version_major": 2,
       "version_minor": 0
      },
      "text/plain": [
       "Batches:   0%|          | 0/1 [00:00<?, ?it/s]"
      ]
     },
     "metadata": {},
     "output_type": "display_data"
    },
    {
     "data": {
      "application/vnd.jupyter.widget-view+json": {
       "model_id": "3a85471af6364d7688888e57e427d7a3",
       "version_major": 2,
       "version_minor": 0
      },
      "text/plain": [
       "Batches:   0%|          | 0/1 [00:00<?, ?it/s]"
      ]
     },
     "metadata": {},
     "output_type": "display_data"
    },
    {
     "name": "stderr",
     "output_type": "stream",
     "text": [
      "10:57:14 WARNING No Documents found with embeddings. Returning empty list. To generate embeddings, use a DocumentEmbedder.\n"
     ]
    },
    {
     "data": {
      "application/vnd.jupyter.widget-view+json": {
       "model_id": "f8af8f3492e143ab8cae302758e09998",
       "version_major": 2,
       "version_minor": 0
      },
      "text/plain": [
       "Batches:   0%|          | 0/1 [00:00<?, ?it/s]"
      ]
     },
     "metadata": {},
     "output_type": "display_data"
    },
    {
     "name": "stderr",
     "output_type": "stream",
     "text": [
      "10:57:14 WARNING No Documents found with embeddings. Returning empty list. To generate embeddings, use a DocumentEmbedder.\n",
      "Processing rows:  64%|██████▍   | 32/50 [00:12<00:06,  2.68row/s]"
     ]
    },
    {
     "name": "stdout",
     "output_type": "stream",
     "text": [
      "[[Document(id=57f00c6369558d8b7964763a8f229b3b0a65346d2c934ff15d436cd3befda163, content: 'Wenn ein erster Versuch nicht gelingt, kann in Absprache mit der Ärztin/dem Arzt ein weiterer Anlauf...', meta: {'title': 'Äußere Wendung.md', 'source_id': '7ae1e3f0-dd60-4371-ab7b-aeeebef45f64', 'page_number': 1, 'split_id': 15, 'split_idx_start': 6507}), Document(id=fb5c0a0be64d8a09a26eae1a40145bd0a36a6df4933b04bb53905d466d76200d, content: 'Auch nach einer erfolgreichen Wendung besteht die Möglichkeit, dass sich das Kind erneut zurück in d...', meta: {'title': 'Äußere Wendung.md', 'source_id': '7ae1e3f0-dd60-4371-ab7b-aeeebef45f64', 'page_number': 1, 'split_id': 16, 'split_idx_start': 6640})]]\n"
     ]
    },
    {
     "data": {
      "application/vnd.jupyter.widget-view+json": {
       "model_id": "e37532265cd54e70aaaa5249aa7b9530",
       "version_major": 2,
       "version_minor": 0
      },
      "text/plain": [
       "Batches:   0%|          | 0/1 [00:00<?, ?it/s]"
      ]
     },
     "metadata": {},
     "output_type": "display_data"
    },
    {
     "data": {
      "application/vnd.jupyter.widget-view+json": {
       "model_id": "fdda5c93f481450284c50656753c8461",
       "version_major": 2,
       "version_minor": 0
      },
      "text/plain": [
       "Batches:   0%|          | 0/1 [00:00<?, ?it/s]"
      ]
     },
     "metadata": {},
     "output_type": "display_data"
    },
    {
     "data": {
      "application/vnd.jupyter.widget-view+json": {
       "model_id": "52a08e43ac304afcb151c81070660bdd",
       "version_major": 2,
       "version_minor": 0
      },
      "text/plain": [
       "Batches:   0%|          | 0/1 [00:00<?, ?it/s]"
      ]
     },
     "metadata": {},
     "output_type": "display_data"
    },
    {
     "name": "stderr",
     "output_type": "stream",
     "text": [
      "10:57:14 WARNING No Documents found with embeddings. Returning empty list. To generate embeddings, use a DocumentEmbedder.\n"
     ]
    },
    {
     "data": {
      "application/vnd.jupyter.widget-view+json": {
       "model_id": "82cfe986986f46ae95c8a8e7259b0b90",
       "version_major": 2,
       "version_minor": 0
      },
      "text/plain": [
       "Batches:   0%|          | 0/1 [00:00<?, ?it/s]"
      ]
     },
     "metadata": {},
     "output_type": "display_data"
    },
    {
     "name": "stderr",
     "output_type": "stream",
     "text": [
      "10:57:14 WARNING No Documents found with embeddings. Returning empty list. To generate embeddings, use a DocumentEmbedder.\n",
      "Processing rows:  66%|██████▌   | 33/50 [00:12<00:06,  2.66row/s]"
     ]
    },
    {
     "name": "stdout",
     "output_type": "stream",
     "text": [
      "[[Document(id=75cf8521595c8d1b0a168b892b37619bc393ab3db1c2925d63176a39ddc05708, content: 'Bitte beachten Sie nach der Entlassung aus der Klinik bestimmte Warnsignale, die auf Komplikationen ...', meta: {'title': 'Kaiserschnitt.md', 'source_id': 'cec11350-e783-4477-b76e-bd9afa5342c5', 'page_number': 1, 'split_id': 47, 'split_idx_start': 13884}), Document(id=34d7d6c87ece265af76bc986ef1811024257e2179e24d7587ef4e470798e89de, content: 'Fieber über 38 °C,\n",
      "zunehmende oder anhaltende Schmerzen im Unterbauch,\n",
      "Rötung, Schwellung oder Schme...', meta: {'title': 'Kaiserschnitt.md', 'source_id': 'cec11350-e783-4477-b76e-bd9afa5342c5', 'page_number': 1, 'split_id': 48, 'split_idx_start': 14098}), Document(id=5ca4f285badff13f7115a48d1063086afd9205ac4c3ebadc07f3a4ecdbc198f1, content: 'Suchen Sie bitte ärztliche Hilfe auf, wenn eines oder mehrere der folgenden Symptome bei Ihnen auftr...', meta: {'title': 'Medizinische Maßnahmen rund um die Geburt.md', 'source_id': '73715a31-955e-47df-a9fb-6c900290bddf', 'page_number': 1, 'split_id': 71, 'split_idx_start': 20600}), Document(id=d5b5818dc0c954a5950c11911e1744c105deb135b6345628c3fdf0ffbee961db, content: 'Fieber von über 38 °C,\n",
      "zunehmende Schmerzen im Unterbauch,\n",
      "Blutungen, die stärker sind als der norma...', meta: {'title': 'Medizinische Maßnahmen rund um die Geburt.md', 'source_id': '73715a31-955e-47df-a9fb-6c900290bddf', 'page_number': 1, 'split_id': 72, 'split_idx_start': 20707})]]\n"
     ]
    },
    {
     "data": {
      "application/vnd.jupyter.widget-view+json": {
       "model_id": "3f60f5be98d443cebf2363a749259995",
       "version_major": 2,
       "version_minor": 0
      },
      "text/plain": [
       "Batches:   0%|          | 0/1 [00:00<?, ?it/s]"
      ]
     },
     "metadata": {},
     "output_type": "display_data"
    },
    {
     "data": {
      "application/vnd.jupyter.widget-view+json": {
       "model_id": "e64c3943fae642c7a2ed825d35a99368",
       "version_major": 2,
       "version_minor": 0
      },
      "text/plain": [
       "Batches:   0%|          | 0/1 [00:00<?, ?it/s]"
      ]
     },
     "metadata": {},
     "output_type": "display_data"
    },
    {
     "data": {
      "application/vnd.jupyter.widget-view+json": {
       "model_id": "c72a6bbbc9534efbb8fcb1018b36bc69",
       "version_major": 2,
       "version_minor": 0
      },
      "text/plain": [
       "Batches:   0%|          | 0/1 [00:00<?, ?it/s]"
      ]
     },
     "metadata": {},
     "output_type": "display_data"
    },
    {
     "name": "stderr",
     "output_type": "stream",
     "text": [
      "10:57:14 WARNING No Documents found with embeddings. Returning empty list. To generate embeddings, use a DocumentEmbedder.\n"
     ]
    },
    {
     "data": {
      "application/vnd.jupyter.widget-view+json": {
       "model_id": "eb3da227a64f43ed930d6cbd1b51154f",
       "version_major": 2,
       "version_minor": 0
      },
      "text/plain": [
       "Batches:   0%|          | 0/1 [00:00<?, ?it/s]"
      ]
     },
     "metadata": {},
     "output_type": "display_data"
    },
    {
     "name": "stderr",
     "output_type": "stream",
     "text": [
      "10:57:15 WARNING No Documents found with embeddings. Returning empty list. To generate embeddings, use a DocumentEmbedder.\n",
      "Processing rows:  68%|██████▊   | 34/50 [00:13<00:06,  2.63row/s]"
     ]
    },
    {
     "name": "stdout",
     "output_type": "stream",
     "text": [
      "[[Document(id=be4e126df5e1aee6c29d8dd75292bc336bd552a6409789c8d90668181d9c6e65, content: 'Rizinusöl (Wehencocktail):\n",
      "Diese Mischung enthält Rizinusöl und weitere Zutaten, meist eingenommen a...', meta: {'title': 'Einleitung der Geburt.md', 'source_id': 'f534ef37-3ee9-4d29-a4d5-7c7723f610a8', 'page_number': 1, 'split_id': 17, 'split_idx_start': 4918}), Document(id=d47c68e2b51b7762050cf1bf5c4cc14fd40c5fa7efc821a218dfb92d09f891b3, content: 'Häufig treten nach der Einnahme Übelkeit, Durchfall oder Erbrechen auf.\n",
      "\n",
      "', meta: {'title': 'Einleitung der Geburt.md', 'source_id': 'f534ef37-3ee9-4d29-a4d5-7c7723f610a8', 'page_number': 1, 'split_id': 26, 'split_idx_start': 7172})]]\n"
     ]
    },
    {
     "data": {
      "application/vnd.jupyter.widget-view+json": {
       "model_id": "1fa1f7972a4c4f5ab254b3c93f81bff1",
       "version_major": 2,
       "version_minor": 0
      },
      "text/plain": [
       "Batches:   0%|          | 0/1 [00:00<?, ?it/s]"
      ]
     },
     "metadata": {},
     "output_type": "display_data"
    },
    {
     "data": {
      "application/vnd.jupyter.widget-view+json": {
       "model_id": "93b7be4ab990494d846fdd793f974da4",
       "version_major": 2,
       "version_minor": 0
      },
      "text/plain": [
       "Batches:   0%|          | 0/1 [00:00<?, ?it/s]"
      ]
     },
     "metadata": {},
     "output_type": "display_data"
    },
    {
     "data": {
      "application/vnd.jupyter.widget-view+json": {
       "model_id": "d3d3f76fdb024d53b29bb8ccdf08d2da",
       "version_major": 2,
       "version_minor": 0
      },
      "text/plain": [
       "Batches:   0%|          | 0/1 [00:00<?, ?it/s]"
      ]
     },
     "metadata": {},
     "output_type": "display_data"
    },
    {
     "name": "stderr",
     "output_type": "stream",
     "text": [
      "10:57:15 WARNING No Documents found with embeddings. Returning empty list. To generate embeddings, use a DocumentEmbedder.\n"
     ]
    },
    {
     "data": {
      "application/vnd.jupyter.widget-view+json": {
       "model_id": "bfe3dc9917374547b97fd08fc1ffcb3d",
       "version_major": 2,
       "version_minor": 0
      },
      "text/plain": [
       "Batches:   0%|          | 0/1 [00:00<?, ?it/s]"
      ]
     },
     "metadata": {},
     "output_type": "display_data"
    },
    {
     "name": "stderr",
     "output_type": "stream",
     "text": [
      "10:57:15 WARNING No Documents found with embeddings. Returning empty list. To generate embeddings, use a DocumentEmbedder.\n",
      "Processing rows:  70%|███████   | 35/50 [00:13<00:05,  2.66row/s]"
     ]
    },
    {
     "name": "stdout",
     "output_type": "stream",
     "text": [
      "[[Document(id=e6cb71cd5847f7a174e63641c71cf1193a03f31270e996741f93d3702a0989e6, content: 'Vor Beginn der Anästhesie wird über eine Verweilkanüle in einer Vene – beispielsweise an Hand oder A...', meta: {'title': 'Narkose.md', 'source_id': '5f228e4f-ab5c-4585-8ee9-bb4ce764dbbc', 'page_number': 1, 'split_id': 3, 'split_idx_start': 674})]]\n"
     ]
    },
    {
     "data": {
      "application/vnd.jupyter.widget-view+json": {
       "model_id": "90f9ab89cdc14a7b8763a0c3330776a3",
       "version_major": 2,
       "version_minor": 0
      },
      "text/plain": [
       "Batches:   0%|          | 0/1 [00:00<?, ?it/s]"
      ]
     },
     "metadata": {},
     "output_type": "display_data"
    },
    {
     "data": {
      "application/vnd.jupyter.widget-view+json": {
       "model_id": "84d0393988f744fc9b73e54874fe423a",
       "version_major": 2,
       "version_minor": 0
      },
      "text/plain": [
       "Batches:   0%|          | 0/1 [00:00<?, ?it/s]"
      ]
     },
     "metadata": {},
     "output_type": "display_data"
    },
    {
     "data": {
      "application/vnd.jupyter.widget-view+json": {
       "model_id": "b760ed6d61944b389a36dce1de0eb761",
       "version_major": 2,
       "version_minor": 0
      },
      "text/plain": [
       "Batches:   0%|          | 0/1 [00:00<?, ?it/s]"
      ]
     },
     "metadata": {},
     "output_type": "display_data"
    },
    {
     "name": "stderr",
     "output_type": "stream",
     "text": [
      "10:57:15 WARNING No Documents found with embeddings. Returning empty list. To generate embeddings, use a DocumentEmbedder.\n"
     ]
    },
    {
     "data": {
      "application/vnd.jupyter.widget-view+json": {
       "model_id": "6638a89784864549b808d8df0fffc06a",
       "version_major": 2,
       "version_minor": 0
      },
      "text/plain": [
       "Batches:   0%|          | 0/1 [00:00<?, ?it/s]"
      ]
     },
     "metadata": {},
     "output_type": "display_data"
    },
    {
     "name": "stderr",
     "output_type": "stream",
     "text": [
      "10:57:15 WARNING No Documents found with embeddings. Returning empty list. To generate embeddings, use a DocumentEmbedder.\n",
      "Processing rows:  72%|███████▏  | 36/50 [00:13<00:05,  2.67row/s]"
     ]
    },
    {
     "name": "stdout",
     "output_type": "stream",
     "text": [
      "[[Document(id=90a9099dbd5330adecd52d0a0809108d236b3e8d8ecde646cbc81a1d1a4cc8df, content: 'Wird die Fruchtblase geöffnet, kann bei längerer Geburtsdauer eine Infektion auftreten. Ist der Kopf...', meta: {'title': 'Einleitung der Geburt.md', 'source_id': 'f534ef37-3ee9-4d29-a4d5-7c7723f610a8', 'page_number': 1, 'split_id': 28, 'split_idx_start': 7383})]]\n"
     ]
    },
    {
     "data": {
      "application/vnd.jupyter.widget-view+json": {
       "model_id": "fb891304551d4d029094b9b34893362d",
       "version_major": 2,
       "version_minor": 0
      },
      "text/plain": [
       "Batches:   0%|          | 0/1 [00:00<?, ?it/s]"
      ]
     },
     "metadata": {},
     "output_type": "display_data"
    },
    {
     "data": {
      "application/vnd.jupyter.widget-view+json": {
       "model_id": "5bc03f2dabc6457a91ccc9a0fac3fd54",
       "version_major": 2,
       "version_minor": 0
      },
      "text/plain": [
       "Batches:   0%|          | 0/1 [00:00<?, ?it/s]"
      ]
     },
     "metadata": {},
     "output_type": "display_data"
    },
    {
     "data": {
      "application/vnd.jupyter.widget-view+json": {
       "model_id": "e0553fb8c0424200ae1f1879ad5737ea",
       "version_major": 2,
       "version_minor": 0
      },
      "text/plain": [
       "Batches:   0%|          | 0/1 [00:00<?, ?it/s]"
      ]
     },
     "metadata": {},
     "output_type": "display_data"
    },
    {
     "name": "stderr",
     "output_type": "stream",
     "text": [
      "10:57:16 WARNING No Documents found with embeddings. Returning empty list. To generate embeddings, use a DocumentEmbedder.\n"
     ]
    },
    {
     "data": {
      "application/vnd.jupyter.widget-view+json": {
       "model_id": "7ad686f0ff9648119ab101c6b8c50414",
       "version_major": 2,
       "version_minor": 0
      },
      "text/plain": [
       "Batches:   0%|          | 0/1 [00:00<?, ?it/s]"
      ]
     },
     "metadata": {},
     "output_type": "display_data"
    },
    {
     "name": "stderr",
     "output_type": "stream",
     "text": [
      "10:57:16 WARNING No Documents found with embeddings. Returning empty list. To generate embeddings, use a DocumentEmbedder.\n",
      "Processing rows:  74%|███████▍  | 37/50 [00:14<00:04,  2.67row/s]"
     ]
    },
    {
     "name": "stdout",
     "output_type": "stream",
     "text": [
      "[[Document(id=f2d9b3fc3fbd674c206216d7b3ae33c0a3e84d9e9933673cbdf0ee1a56315877, content: 'Organisieren Sie frühzeitig die Betreuung durch eine Hebamme. Sie unterstützt Sie bei der körperlich...', meta: {'title': 'Kaiserschnitt.md', 'source_id': 'cec11350-e783-4477-b76e-bd9afa5342c5', 'page_number': 1, 'split_id': 51, 'split_idx_start': 14691})]]\n"
     ]
    },
    {
     "data": {
      "application/vnd.jupyter.widget-view+json": {
       "model_id": "e784853ad4fe4a5aa38dc55354c50d80",
       "version_major": 2,
       "version_minor": 0
      },
      "text/plain": [
       "Batches:   0%|          | 0/1 [00:00<?, ?it/s]"
      ]
     },
     "metadata": {},
     "output_type": "display_data"
    },
    {
     "data": {
      "application/vnd.jupyter.widget-view+json": {
       "model_id": "1df7fff94d8c4a378a8065759fc28984",
       "version_major": 2,
       "version_minor": 0
      },
      "text/plain": [
       "Batches:   0%|          | 0/1 [00:00<?, ?it/s]"
      ]
     },
     "metadata": {},
     "output_type": "display_data"
    },
    {
     "data": {
      "application/vnd.jupyter.widget-view+json": {
       "model_id": "f39bd0e9932c46efb478ce82f8871e1a",
       "version_major": 2,
       "version_minor": 0
      },
      "text/plain": [
       "Batches:   0%|          | 0/1 [00:00<?, ?it/s]"
      ]
     },
     "metadata": {},
     "output_type": "display_data"
    },
    {
     "name": "stderr",
     "output_type": "stream",
     "text": [
      "10:57:16 WARNING No Documents found with embeddings. Returning empty list. To generate embeddings, use a DocumentEmbedder.\n"
     ]
    },
    {
     "data": {
      "application/vnd.jupyter.widget-view+json": {
       "model_id": "4974e448ce804103bcabdc1c18c9c9ea",
       "version_major": 2,
       "version_minor": 0
      },
      "text/plain": [
       "Batches:   0%|          | 0/1 [00:00<?, ?it/s]"
      ]
     },
     "metadata": {},
     "output_type": "display_data"
    },
    {
     "name": "stderr",
     "output_type": "stream",
     "text": [
      "10:57:16 WARNING No Documents found with embeddings. Returning empty list. To generate embeddings, use a DocumentEmbedder.\n",
      "Processing rows:  76%|███████▌  | 38/50 [00:14<00:04,  2.66row/s]"
     ]
    },
    {
     "name": "stdout",
     "output_type": "stream",
     "text": [
      "[[Document(id=caa8a09327d5cbb8b37deeafc41ddea1f41eee718ddefa7ef466013c8c149d1f, content: 'Anpassungsstörungen nach der Geburt:\n",
      "Kinder, die per Kaiserschnitt zur Welt kommen, zeigen häufiger ...', meta: {'title': 'Kaiserschnitt.md', 'source_id': 'cec11350-e783-4477-b76e-bd9afa5342c5', 'page_number': 1, 'split_id': 30, 'split_idx_start': 9241}), Document(id=8bf863b58a4e6258657541fcca265b3dc1b15aba46a769eac0f3b0517503a46c, content: 'Wenn während der Geburt eine Gefährdung für Mutter oder Kind besteht – beispielsweise bei Geburtssti...', meta: {'title': 'Medizinische Maßnahmen rund um die Geburt.md', 'source_id': '73715a31-955e-47df-a9fb-6c900290bddf', 'page_number': 1, 'split_id': 20, 'split_idx_start': 6294}), Document(id=3debddcb5036c8891a53663327f60255c8c94ea1b047efa058294eb202e7630d, content: 'Sollten Sie sich aktiv für einen Kaiserschnitt entscheiden, so müssen Sie wissen, dass dadurch sowoh...', meta: {'title': 'Medizinische Maßnahmen rund um die Geburt.md', 'source_id': '73715a31-955e-47df-a9fb-6c900290bddf', 'page_number': 1, 'split_id': 23, 'split_idx_start': 7799}), Document(id=ec47310a365457c52fb4085e1300f04ce58cb4dce7e2c180b9845a7917df6b3c, content: 'Spontangeburt aus Beckenendlage: Hierbei kommen spezielle Entbindungstechniken wie das Bracht- oder ...', meta: {'title': 'Medizinische Maßnahmen rund um die Geburt.md', 'source_id': '73715a31-955e-47df-a9fb-6c900290bddf', 'page_number': 1, 'split_id': 45, 'split_idx_start': 14868}), Document(id=d7911fa338ea810f7c0e89ea177d0e0f56156f701908117977bcc1bf953a054c, content: 'Für die Mutter:\n",
      "\n",
      "', meta: {'title': 'Medizinische Maßnahmen rund um die Geburt.md', 'source_id': '73715a31-955e-47df-a9fb-6c900290bddf', 'page_number': 1, 'split_id': 48, 'split_idx_start': 15599}), Document(id=8feea427a9bf0bcbcf6d7ea91e4362e65c071860ede33e0632a3ff0ebf091912, content: 'Es kann zu Verletzungen von Scheide, Gebärmutterhals oder -wand kommen. In seltenen Fällen tritt ein...', meta: {'title': 'Medizinische Maßnahmen rund um die Geburt.md', 'source_id': '73715a31-955e-47df-a9fb-6c900290bddf', 'page_number': 1, 'split_id': 49, 'split_idx_start': 15616}), Document(id=f9b2067fc5e68dc0a37102922aed44d444a6b5c33015400d87a0281bfea88332, content: 'Für das Kind:\n",
      "\n",
      "', meta: {'title': 'Medizinische Maßnahmen rund um die Geburt.md', 'source_id': '73715a31-955e-47df-a9fb-6c900290bddf', 'page_number': 1, 'split_id': 50, 'split_idx_start': 15960}), Document(id=da7ebcfb229b9c36173874ed833a6643dddbb417d37b97b68e0e6b0462fa46e0, content: 'Druckstellen, Blutergüsse oder Schwellungen am Kopf treten gelegentlich auf und heilen meist folgenl...', meta: {'title': 'Medizinische Maßnahmen rund um die Geburt.md', 'source_id': '73715a31-955e-47df-a9fb-6c900290bddf', 'page_number': 1, 'split_id': 51, 'split_idx_start': 15975}), Document(id=57974b9bde25a9b0384b5a6417a5c817dbf620978e5ceab936e6d2ee36a2db53, content: 'Zur Vorbeugung von Hirnblutungen wird in der Regel Vitamin K verabreicht.\n",
      "\n",
      "', meta: {'title': 'Medizinische Maßnahmen rund um die Geburt.md', 'source_id': '73715a31-955e-47df-a9fb-6c900290bddf', 'page_number': 1, 'split_id': 52, 'split_idx_start': 16083}), Document(id=281ee98110ec93a9177662d2912262a2727b799ff86644eff9d8817394c75d9d, content: 'Schwere Schädigungen wie Schädelbrüche, Lähmungen oder Hirnblutungen sind äußerst selten, können abe...', meta: {'title': 'Medizinische Maßnahmen rund um die Geburt.md', 'source_id': '73715a31-955e-47df-a9fb-6c900290bddf', 'page_number': 1, 'split_id': 53, 'split_idx_start': 16158}), Document(id=e2d12b2007228efab1084ee779703ea36d63beee5df26bef5f8e7f097d14d6ae, content: 'nach dem Platzen der Fruchtblase ab etwa der 34. Schwangerschaftswoche – in Ausnahmen auch früher –,...', meta: {'title': 'Einleitung der Geburt.md', 'source_id': 'f534ef37-3ee9-4d29-a4d5-7c7723f610a8', 'page_number': 1, 'split_id': 1, 'split_idx_start': 100}), Document(id=d328e2f37249b8213b1a5137074fe515ff296d055cf90d15c8e806e4a66a6be2, content: 'Reißt die Fruchtblase oder entsteht eine Undichtigkeit, verliert das Kind seine schützende Hülle, wa...', meta: {'title': 'Einleitung der Geburt.md', 'source_id': 'f534ef37-3ee9-4d29-a4d5-7c7723f610a8', 'page_number': 1, 'split_id': 3, 'split_idx_start': 1065}), Document(id=b04ad27d1bb7384e2cc12157dc279e86f7bef421039e63ea3255f5ea45320281, content: 'Größere Kinder machen den Geburtsvorgang schwieriger: Der enge Raum im Becken erhöht das Risiko für ...', meta: {'title': 'Einleitung der Geburt.md', 'source_id': 'f534ef37-3ee9-4d29-a4d5-7c7723f610a8', 'page_number': 1, 'split_id': 9, 'split_idx_start': 2612}), Document(id=dacecaf08f2b193ddb647f60ca1f39071d5a41c07acf28070ba5d8673df96ef2, content: 'Wird der Geburtstermin nur um wenige Tage überschritten, kann unter medizinischer Beobachtung noch e...', meta: {'title': 'Einleitung der Geburt.md', 'source_id': 'f534ef37-3ee9-4d29-a4d5-7c7723f610a8', 'page_number': 1, 'split_id': 10, 'split_idx_start': 2965})]]\n"
     ]
    },
    {
     "data": {
      "application/vnd.jupyter.widget-view+json": {
       "model_id": "8ddeefd561bb421dbecd7fbe1b5b4bb0",
       "version_major": 2,
       "version_minor": 0
      },
      "text/plain": [
       "Batches:   0%|          | 0/1 [00:00<?, ?it/s]"
      ]
     },
     "metadata": {},
     "output_type": "display_data"
    },
    {
     "data": {
      "application/vnd.jupyter.widget-view+json": {
       "model_id": "4cc0837d549f470484924b5ce400cbc3",
       "version_major": 2,
       "version_minor": 0
      },
      "text/plain": [
       "Batches:   0%|          | 0/1 [00:00<?, ?it/s]"
      ]
     },
     "metadata": {},
     "output_type": "display_data"
    },
    {
     "data": {
      "application/vnd.jupyter.widget-view+json": {
       "model_id": "0d6b18b37de94211b4eacf8ceb8257fe",
       "version_major": 2,
       "version_minor": 0
      },
      "text/plain": [
       "Batches:   0%|          | 0/1 [00:00<?, ?it/s]"
      ]
     },
     "metadata": {},
     "output_type": "display_data"
    },
    {
     "name": "stderr",
     "output_type": "stream",
     "text": [
      "10:57:16 WARNING No Documents found with embeddings. Returning empty list. To generate embeddings, use a DocumentEmbedder.\n"
     ]
    },
    {
     "data": {
      "application/vnd.jupyter.widget-view+json": {
       "model_id": "5fbf28ee4e494ee38c746f702c692d1c",
       "version_major": 2,
       "version_minor": 0
      },
      "text/plain": [
       "Batches:   0%|          | 0/1 [00:00<?, ?it/s]"
      ]
     },
     "metadata": {},
     "output_type": "display_data"
    },
    {
     "name": "stderr",
     "output_type": "stream",
     "text": [
      "10:57:16 WARNING No Documents found with embeddings. Returning empty list. To generate embeddings, use a DocumentEmbedder.\n",
      "Processing rows:  78%|███████▊  | 39/50 [00:14<00:04,  2.61row/s]"
     ]
    },
    {
     "name": "stdout",
     "output_type": "stream",
     "text": [
      "[[Document(id=829095ebf88b7c5b70c985ac154e04a26b3ece69a75afe0a5ecfff57188c1332, content: 'Neben der äußeren Wendung existieren alternative Ansätze aus dem Bereich der Komplementärmedizin. Da...', meta: {'title': 'Äußere Wendung.md', 'source_id': '7ae1e3f0-dd60-4371-ab7b-aeeebef45f64', 'page_number': 1, 'split_id': 3, 'split_idx_start': 902})]]\n"
     ]
    },
    {
     "data": {
      "application/vnd.jupyter.widget-view+json": {
       "model_id": "edc506eb95254722aa33f3c29a98667e",
       "version_major": 2,
       "version_minor": 0
      },
      "text/plain": [
       "Batches:   0%|          | 0/1 [00:00<?, ?it/s]"
      ]
     },
     "metadata": {},
     "output_type": "display_data"
    },
    {
     "data": {
      "application/vnd.jupyter.widget-view+json": {
       "model_id": "0b506c22c22146b490fe44f9858238d7",
       "version_major": 2,
       "version_minor": 0
      },
      "text/plain": [
       "Batches:   0%|          | 0/1 [00:00<?, ?it/s]"
      ]
     },
     "metadata": {},
     "output_type": "display_data"
    },
    {
     "data": {
      "application/vnd.jupyter.widget-view+json": {
       "model_id": "6b43a4690bfc47a2b19dd1d5becc4bd0",
       "version_major": 2,
       "version_minor": 0
      },
      "text/plain": [
       "Batches:   0%|          | 0/1 [00:00<?, ?it/s]"
      ]
     },
     "metadata": {},
     "output_type": "display_data"
    },
    {
     "name": "stderr",
     "output_type": "stream",
     "text": [
      "10:57:17 WARNING No Documents found with embeddings. Returning empty list. To generate embeddings, use a DocumentEmbedder.\n"
     ]
    },
    {
     "data": {
      "application/vnd.jupyter.widget-view+json": {
       "model_id": "4897c47cc55d4bd9bf1e6c6dd5eb0101",
       "version_major": 2,
       "version_minor": 0
      },
      "text/plain": [
       "Batches:   0%|          | 0/1 [00:00<?, ?it/s]"
      ]
     },
     "metadata": {},
     "output_type": "display_data"
    },
    {
     "name": "stderr",
     "output_type": "stream",
     "text": [
      "10:57:17 WARNING No Documents found with embeddings. Returning empty list. To generate embeddings, use a DocumentEmbedder.\n",
      "Processing rows:  80%|████████  | 40/50 [00:15<00:03,  2.63row/s]"
     ]
    },
    {
     "name": "stdout",
     "output_type": "stream",
     "text": [
      "[[Document(id=f9b2067fc5e68dc0a37102922aed44d444a6b5c33015400d87a0281bfea88332, content: 'Für das Kind:\n",
      "\n",
      "', meta: {'title': 'Medizinische Maßnahmen rund um die Geburt.md', 'source_id': '73715a31-955e-47df-a9fb-6c900290bddf', 'page_number': 1, 'split_id': 50, 'split_idx_start': 15960}), Document(id=e2d12b2007228efab1084ee779703ea36d63beee5df26bef5f8e7f097d14d6ae, content: 'nach dem Platzen der Fruchtblase ab etwa der 34. Schwangerschaftswoche – in Ausnahmen auch früher –,...', meta: {'title': 'Einleitung der Geburt.md', 'source_id': 'f534ef37-3ee9-4d29-a4d5-7c7723f610a8', 'page_number': 1, 'split_id': 1, 'split_idx_start': 100}), Document(id=d328e2f37249b8213b1a5137074fe515ff296d055cf90d15c8e806e4a66a6be2, content: 'Reißt die Fruchtblase oder entsteht eine Undichtigkeit, verliert das Kind seine schützende Hülle, wa...', meta: {'title': 'Einleitung der Geburt.md', 'source_id': 'f534ef37-3ee9-4d29-a4d5-7c7723f610a8', 'page_number': 1, 'split_id': 3, 'split_idx_start': 1065}), Document(id=4994fd1e7cfe82217991d1be3d1717385216b5d24dc64bb5485b3bd4f97c3ca2, content: 'Auch bei der Mutter kann sich eine Infektion entwickeln – mit Schmerzen im Unterbauch, Fieber und Bl...', meta: {'title': 'Einleitung der Geburt.md', 'source_id': 'f534ef37-3ee9-4d29-a4d5-7c7723f610a8', 'page_number': 1, 'split_id': 4, 'split_idx_start': 1397})]]\n"
     ]
    },
    {
     "data": {
      "application/vnd.jupyter.widget-view+json": {
       "model_id": "7d5be2ad78e54e17b39ce727df1b47a7",
       "version_major": 2,
       "version_minor": 0
      },
      "text/plain": [
       "Batches:   0%|          | 0/1 [00:00<?, ?it/s]"
      ]
     },
     "metadata": {},
     "output_type": "display_data"
    },
    {
     "data": {
      "application/vnd.jupyter.widget-view+json": {
       "model_id": "c75dc7a6205443399a4fe31e6f255159",
       "version_major": 2,
       "version_minor": 0
      },
      "text/plain": [
       "Batches:   0%|          | 0/1 [00:00<?, ?it/s]"
      ]
     },
     "metadata": {},
     "output_type": "display_data"
    },
    {
     "data": {
      "application/vnd.jupyter.widget-view+json": {
       "model_id": "c729ccbd1aeb4cd6b9550b398db1505d",
       "version_major": 2,
       "version_minor": 0
      },
      "text/plain": [
       "Batches:   0%|          | 0/1 [00:00<?, ?it/s]"
      ]
     },
     "metadata": {},
     "output_type": "display_data"
    },
    {
     "name": "stderr",
     "output_type": "stream",
     "text": [
      "10:57:17 WARNING No Documents found with embeddings. Returning empty list. To generate embeddings, use a DocumentEmbedder.\n"
     ]
    },
    {
     "data": {
      "application/vnd.jupyter.widget-view+json": {
       "model_id": "b1035743dd6f402ebd262b4982af8351",
       "version_major": 2,
       "version_minor": 0
      },
      "text/plain": [
       "Batches:   0%|          | 0/1 [00:00<?, ?it/s]"
      ]
     },
     "metadata": {},
     "output_type": "display_data"
    },
    {
     "name": "stderr",
     "output_type": "stream",
     "text": [
      "10:57:17 WARNING No Documents found with embeddings. Returning empty list. To generate embeddings, use a DocumentEmbedder.\n",
      "Processing rows:  82%|████████▏ | 41/50 [00:15<00:03,  2.53row/s]"
     ]
    },
    {
     "name": "stdout",
     "output_type": "stream",
     "text": [
      "[[Document(id=f764a9e705fa77d45ea78952947501b3eae2dbd089ed45431b4358da9519dfbc, content: 'Falls Sie hormonelle Verhütungsmittel verwenden (z. B. Antibabypille oder Hormonspirale), beachten S...', meta: {'title': 'Narkose.md', 'source_id': '5f228e4f-ab5c-4585-8ee9-bb4ce764dbbc', 'page_number': 1, 'split_id': 75, 'split_idx_start': 19643})]]\n"
     ]
    },
    {
     "data": {
      "application/vnd.jupyter.widget-view+json": {
       "model_id": "d1b4c74ff2794bc8a426142374e21393",
       "version_major": 2,
       "version_minor": 0
      },
      "text/plain": [
       "Batches:   0%|          | 0/1 [00:00<?, ?it/s]"
      ]
     },
     "metadata": {},
     "output_type": "display_data"
    },
    {
     "data": {
      "application/vnd.jupyter.widget-view+json": {
       "model_id": "c96f38bb7ea046ba8718ec07bdb1f88c",
       "version_major": 2,
       "version_minor": 0
      },
      "text/plain": [
       "Batches:   0%|          | 0/1 [00:00<?, ?it/s]"
      ]
     },
     "metadata": {},
     "output_type": "display_data"
    },
    {
     "data": {
      "application/vnd.jupyter.widget-view+json": {
       "model_id": "741aac2b047049acb0a21c372c1c9fc7",
       "version_major": 2,
       "version_minor": 0
      },
      "text/plain": [
       "Batches:   0%|          | 0/1 [00:00<?, ?it/s]"
      ]
     },
     "metadata": {},
     "output_type": "display_data"
    },
    {
     "name": "stderr",
     "output_type": "stream",
     "text": [
      "10:57:18 WARNING No Documents found with embeddings. Returning empty list. To generate embeddings, use a DocumentEmbedder.\n"
     ]
    },
    {
     "data": {
      "application/vnd.jupyter.widget-view+json": {
       "model_id": "3be34b8680794a44a0f6ae5259347ec7",
       "version_major": 2,
       "version_minor": 0
      },
      "text/plain": [
       "Batches:   0%|          | 0/1 [00:00<?, ?it/s]"
      ]
     },
     "metadata": {},
     "output_type": "display_data"
    },
    {
     "name": "stderr",
     "output_type": "stream",
     "text": [
      "10:57:18 WARNING No Documents found with embeddings. Returning empty list. To generate embeddings, use a DocumentEmbedder.\n",
      "Processing rows:  84%|████████▍ | 42/50 [00:16<00:03,  2.59row/s]"
     ]
    },
    {
     "name": "stdout",
     "output_type": "stream",
     "text": [
      "[[Document(id=f6774b0bbc19388649edd2b880f2611c4e868b73568b12e43f2920fedcb01618, content: 'Anti-D-Prophylaxe\n",
      "Bei Rhesus-negativem Blut der Mutter und Rhesus-positivem Kind erfolgt nach der Ge...', meta: {'title': 'Medizinische Maßnahmen rund um die Geburt.md', 'source_id': '73715a31-955e-47df-a9fb-6c900290bddf', 'page_number': 1, 'split_id': 16, 'split_idx_start': 4468}), Document(id=cc54b9eac60afd127d41a1f314893640aa077f9b7ee4bd7d068ce08cd6a127f1, content: 'Wenn bei Ihnen eine Rhesus-negative Blutgruppe vorliegt und Ihr Kind Rhesus-positiv ist, erhalten Si...', meta: {'title': 'Medizinische Maßnahmen rund um die Geburt.md', 'source_id': '73715a31-955e-47df-a9fb-6c900290bddf', 'page_number': 1, 'split_id': 26, 'split_idx_start': 8819})]]\n"
     ]
    },
    {
     "data": {
      "application/vnd.jupyter.widget-view+json": {
       "model_id": "baa6a00c7cf54103a45bb70d7eab3c2f",
       "version_major": 2,
       "version_minor": 0
      },
      "text/plain": [
       "Batches:   0%|          | 0/1 [00:00<?, ?it/s]"
      ]
     },
     "metadata": {},
     "output_type": "display_data"
    },
    {
     "data": {
      "application/vnd.jupyter.widget-view+json": {
       "model_id": "3eb67138a01d4f47ab1892d3d70d19b7",
       "version_major": 2,
       "version_minor": 0
      },
      "text/plain": [
       "Batches:   0%|          | 0/1 [00:00<?, ?it/s]"
      ]
     },
     "metadata": {},
     "output_type": "display_data"
    },
    {
     "data": {
      "application/vnd.jupyter.widget-view+json": {
       "model_id": "e5f2c166aefb47aa8ee22b038a95f695",
       "version_major": 2,
       "version_minor": 0
      },
      "text/plain": [
       "Batches:   0%|          | 0/1 [00:00<?, ?it/s]"
      ]
     },
     "metadata": {},
     "output_type": "display_data"
    },
    {
     "name": "stderr",
     "output_type": "stream",
     "text": [
      "10:57:18 WARNING No Documents found with embeddings. Returning empty list. To generate embeddings, use a DocumentEmbedder.\n"
     ]
    },
    {
     "data": {
      "application/vnd.jupyter.widget-view+json": {
       "model_id": "19ee1ef0e5f64c638b71da26e447fd96",
       "version_major": 2,
       "version_minor": 0
      },
      "text/plain": [
       "Batches:   0%|          | 0/1 [00:00<?, ?it/s]"
      ]
     },
     "metadata": {},
     "output_type": "display_data"
    },
    {
     "name": "stderr",
     "output_type": "stream",
     "text": [
      "10:57:18 WARNING No Documents found with embeddings. Returning empty list. To generate embeddings, use a DocumentEmbedder.\n",
      "Processing rows:  86%|████████▌ | 43/50 [00:16<00:02,  2.62row/s]"
     ]
    },
    {
     "name": "stdout",
     "output_type": "stream",
     "text": [
      "[[Document(id=bffe4adcd955d23a9e7acffbed81177155ed5b9caa81966911b9e4929fad0ed5, content: '\n",
      "Dieser Informationsbogen kann lediglich über die zentralen Risiken eines Kaiserschnitts aufklären. ...', meta: {'title': 'Medizinische Maßnahmen rund um die Geburt.md', 'source_id': '73715a31-955e-47df-a9fb-6c900290bddf', 'page_number': 1, 'split_id': 58, 'split_idx_start': 16990}), Document(id=d02c047cad98045e8cb3d30841d44b614929be3a5096394d0733385ef2daaca7, content: 'In seltenen Fällen kann es während des Eingriffs zu Verletzungen benachbarter Organe kommen – beispi...', meta: {'title': 'Medizinische Maßnahmen rund um die Geburt.md', 'source_id': '73715a31-955e-47df-a9fb-6c900290bddf', 'page_number': 1, 'split_id': 59, 'split_idx_start': 17218}), Document(id=facae2a80ad7d91205df968e54d36ee1fccf8558844004de8ed9c307eedd3813, content: 'Sehr selten kann es zu so starken Blutungen kommen, dass die Quelle chirurgisch gestillt werden muss...', meta: {'title': 'Medizinische Maßnahmen rund um die Geburt.md', 'source_id': '73715a31-955e-47df-a9fb-6c900290bddf', 'page_number': 1, 'split_id': 60, 'split_idx_start': 17800}), Document(id=e34fd6c147ccf480a89d0b73687a07557525d836e4a075dd8d56073432f6622d, content: 'Infektionen, zum Beispiel der Harnwege, des Bauchfells oder der Lunge, können als Folge des Eingriff...', meta: {'title': 'Medizinische Maßnahmen rund um die Geburt.md', 'source_id': '73715a31-955e-47df-a9fb-6c900290bddf', 'page_number': 1, 'split_id': 62, 'split_idx_start': 18450}), Document(id=aa4a2854452c3553650dad084a48e81e3925cb7ba21d77ef7c66d1577d221be3, content: 'Wundheilungsprobleme mit oder ohne Hautbeteiligung sind möglich, vor allem wenn sich ein Narbenbruch...', meta: {'title': 'Medizinische Maßnahmen rund um die Geburt.md', 'source_id': '73715a31-955e-47df-a9fb-6c900290bddf', 'page_number': 1, 'split_id': 63, 'split_idx_start': 18788}), Document(id=84cc5d72c489f0eef6c2e9a9629cc48e2963fe8dbb6544d1e06c46828fbc4b4d, content: 'Gelegentlich führt eine Darmlähmung oder eine spätere Verwachsung zu einem Darmverschluss. In extrem...', meta: {'title': 'Medizinische Maßnahmen rund um die Geburt.md', 'source_id': '73715a31-955e-47df-a9fb-6c900290bddf', 'page_number': 1, 'split_id': 64, 'split_idx_start': 18996}), Document(id=c46fa6d31980b215ab202243b5e6fef141673a8387a5ecb58c22b7bcde417780, content: 'Bei künftigen Schwangerschaften kann die Narbe an der Gebärmutter erneut aufreißen, was unter Umstän...', meta: {'title': 'Medizinische Maßnahmen rund um die Geburt.md', 'source_id': '73715a31-955e-47df-a9fb-6c900290bddf', 'page_number': 1, 'split_id': 65, 'split_idx_start': 19174}), Document(id=4eb2814e7e1e81798379a98e7e0da3cef5fc75871a176741929982f1e97d59e2, content: 'Nach dem Eingriff sind Schmerzen und Missempfindungen rund um die Operationsnarbe häufig. Diese Besc...', meta: {'title': 'Medizinische Maßnahmen rund um die Geburt.md', 'source_id': '73715a31-955e-47df-a9fb-6c900290bddf', 'page_number': 1, 'split_id': 66, 'split_idx_start': 19467}), Document(id=bb66041e30526024b0d94a0fe49038dce416848fe7494b5ff475c5af434c583c, content: 'Beim Öffnen der Gebärmutter kann es in seltenen Fällen zu kleinen Schnittverletzungen beim Baby komm...', meta: {'title': 'Medizinische Maßnahmen rund um die Geburt.md', 'source_id': '73715a31-955e-47df-a9fb-6c900290bddf', 'page_number': 1, 'split_id': 67, 'split_idx_start': 19685}), Document(id=b15836078d7b710a8cbc15494c261a21037153c58c901f91edb897d86cc1e043, content: 'Nach einem Kaiserschnitt kann es beim Neugeborenen zu Anpassungsstörungen kommen – etwa zu Problemen...', meta: {'title': 'Medizinische Maßnahmen rund um die Geburt.md', 'source_id': '73715a31-955e-47df-a9fb-6c900290bddf', 'page_number': 1, 'split_id': 68, 'split_idx_start': 19905}), Document(id=8e4ad824cbdc3c9840e680f9369fda64319731c89e6cfccc35569e86dbaff6c2, content: 'Beobachtungen deuten darauf hin, dass bestimmte Krankheiten wie Asthma, Diabetes, allergische Reakti...', meta: {'title': 'Medizinische Maßnahmen rund um die Geburt.md', 'source_id': '73715a31-955e-47df-a9fb-6c900290bddf', 'page_number': 1, 'split_id': 69, 'split_idx_start': 20201})]]\n"
     ]
    },
    {
     "data": {
      "application/vnd.jupyter.widget-view+json": {
       "model_id": "356bf2c86e8541ff9d945d3982f5fc86",
       "version_major": 2,
       "version_minor": 0
      },
      "text/plain": [
       "Batches:   0%|          | 0/1 [00:00<?, ?it/s]"
      ]
     },
     "metadata": {},
     "output_type": "display_data"
    },
    {
     "data": {
      "application/vnd.jupyter.widget-view+json": {
       "model_id": "7e9143c4857c42648b9947cd4a45ce10",
       "version_major": 2,
       "version_minor": 0
      },
      "text/plain": [
       "Batches:   0%|          | 0/1 [00:00<?, ?it/s]"
      ]
     },
     "metadata": {},
     "output_type": "display_data"
    },
    {
     "data": {
      "application/vnd.jupyter.widget-view+json": {
       "model_id": "0259c6c18f57455e8c4799195eab2ca5",
       "version_major": 2,
       "version_minor": 0
      },
      "text/plain": [
       "Batches:   0%|          | 0/1 [00:00<?, ?it/s]"
      ]
     },
     "metadata": {},
     "output_type": "display_data"
    },
    {
     "name": "stderr",
     "output_type": "stream",
     "text": [
      "10:57:18 WARNING No Documents found with embeddings. Returning empty list. To generate embeddings, use a DocumentEmbedder.\n"
     ]
    },
    {
     "data": {
      "application/vnd.jupyter.widget-view+json": {
       "model_id": "39386d4b89b64804becb35546dd91ffd",
       "version_major": 2,
       "version_minor": 0
      },
      "text/plain": [
       "Batches:   0%|          | 0/1 [00:00<?, ?it/s]"
      ]
     },
     "metadata": {},
     "output_type": "display_data"
    },
    {
     "name": "stderr",
     "output_type": "stream",
     "text": [
      "10:57:18 WARNING No Documents found with embeddings. Returning empty list. To generate embeddings, use a DocumentEmbedder.\n",
      "Processing rows:  88%|████████▊ | 44/50 [00:16<00:02,  2.64row/s]"
     ]
    },
    {
     "name": "stdout",
     "output_type": "stream",
     "text": [
      "[[Document(id=a1b7d62b9d31feef601036230e031e20678f81f589cb0cc0b5a5b9b5f6e16b73, content: 'Auch für das Neugeborene können im Zusammenhang mit einem Kaiserschnitt Risiken bestehen – sowohl ku...', meta: {'title': 'Kaiserschnitt.md', 'source_id': 'cec11350-e783-4477-b76e-bd9afa5342c5', 'page_number': 1, 'split_id': 29, 'split_idx_start': 9080}), Document(id=caa8a09327d5cbb8b37deeafc41ddea1f41eee718ddefa7ef466013c8c149d1f, content: 'Anpassungsstörungen nach der Geburt:\n",
      "Kinder, die per Kaiserschnitt zur Welt kommen, zeigen häufiger ...', meta: {'title': 'Kaiserschnitt.md', 'source_id': 'cec11350-e783-4477-b76e-bd9afa5342c5', 'page_number': 1, 'split_id': 30, 'split_idx_start': 9241}), Document(id=0b16061bc1e88fafc24a45c25d49a0f872fd19f3d8c2225f70b1d5462c3428ce, content: 'Geburtsverletzungen:\n",
      "Ist das Kind ungünstig im Becken fixiert, kann es beim Herausheben aus der Gebä...', meta: {'title': 'Kaiserschnitt.md', 'source_id': 'cec11350-e783-4477-b76e-bd9afa5342c5', 'page_number': 1, 'split_id': 31, 'split_idx_start': 9680}), Document(id=aaa2c6e6f69197c667bf7e1e1b72f8e619e8ebddfe74b6aecde2b7d4326cec9e, content: 'Schnittverletzungen:\n",
      "Beim Öffnen der Gebärmutter kann es sehr selten zu kleinen Verletzungen der kin...', meta: {'title': 'Kaiserschnitt.md', 'source_id': 'cec11350-e783-4477-b76e-bd9afa5342c5', 'page_number': 1, 'split_id': 32, 'split_idx_start': 9970}), Document(id=c873116e59dd60839ba4eb446369f461775ef4ac26f226717cfec4b66c4c2d2a, content: 'Einsatz von Saugglocke oder Zange:\n",
      "Auch bei einem Kaiserschnitt kann unter Umständen eine Saugglocke...', meta: {'title': 'Kaiserschnitt.md', 'source_id': 'cec11350-e783-4477-b76e-bd9afa5342c5', 'page_number': 1, 'split_id': 33, 'split_idx_start': 10214}), Document(id=de2a7b66910dec73d13b8bd548e166337b89851fef2fc9e9c17f7999e921e1bf, content: 'Langfristige gesundheitliche Einflüsse:\n",
      "Es gibt Hinweise, dass per Kaiserschnitt geborene Kinder mög...', meta: {'title': 'Kaiserschnitt.md', 'source_id': 'cec11350-e783-4477-b76e-bd9afa5342c5', 'page_number': 1, 'split_id': 34, 'split_idx_start': 10473}), Document(id=f9b2067fc5e68dc0a37102922aed44d444a6b5c33015400d87a0281bfea88332, content: 'Für das Kind:\n",
      "\n",
      "', meta: {'title': 'Medizinische Maßnahmen rund um die Geburt.md', 'source_id': '73715a31-955e-47df-a9fb-6c900290bddf', 'page_number': 1, 'split_id': 50, 'split_idx_start': 15960})]]\n"
     ]
    },
    {
     "data": {
      "application/vnd.jupyter.widget-view+json": {
       "model_id": "7085e8c6bc3b42b38b138f02e99491ab",
       "version_major": 2,
       "version_minor": 0
      },
      "text/plain": [
       "Batches:   0%|          | 0/1 [00:00<?, ?it/s]"
      ]
     },
     "metadata": {},
     "output_type": "display_data"
    },
    {
     "data": {
      "application/vnd.jupyter.widget-view+json": {
       "model_id": "a4284b86114943f69c89b91733725af8",
       "version_major": 2,
       "version_minor": 0
      },
      "text/plain": [
       "Batches:   0%|          | 0/1 [00:00<?, ?it/s]"
      ]
     },
     "metadata": {},
     "output_type": "display_data"
    },
    {
     "data": {
      "application/vnd.jupyter.widget-view+json": {
       "model_id": "72a6c9ccad2948f282430c996555e167",
       "version_major": 2,
       "version_minor": 0
      },
      "text/plain": [
       "Batches:   0%|          | 0/1 [00:00<?, ?it/s]"
      ]
     },
     "metadata": {},
     "output_type": "display_data"
    },
    {
     "name": "stderr",
     "output_type": "stream",
     "text": [
      "10:57:19 WARNING No Documents found with embeddings. Returning empty list. To generate embeddings, use a DocumentEmbedder.\n"
     ]
    },
    {
     "data": {
      "application/vnd.jupyter.widget-view+json": {
       "model_id": "91f9c9cce67c4762aefb5a040289da93",
       "version_major": 2,
       "version_minor": 0
      },
      "text/plain": [
       "Batches:   0%|          | 0/1 [00:00<?, ?it/s]"
      ]
     },
     "metadata": {},
     "output_type": "display_data"
    },
    {
     "name": "stderr",
     "output_type": "stream",
     "text": [
      "10:57:19 WARNING No Documents found with embeddings. Returning empty list. To generate embeddings, use a DocumentEmbedder.\n",
      "Processing rows:  90%|█████████ | 45/50 [00:17<00:01,  2.65row/s]"
     ]
    },
    {
     "name": "stdout",
     "output_type": "stream",
     "text": [
      "[[Document(id=8a64407f7a87fa95d3ce2f268e6b00c66f644162b8adf38f306d2da6c1e5d3c9, content: '\n",
      "Bei jeder medikamentösen oder mechanischen Methode zur Wehenförderung ist eine enge Überwachung une...', meta: {'title': 'Einleitung der Geburt.md', 'source_id': 'f534ef37-3ee9-4d29-a4d5-7c7723f610a8', 'page_number': 1, 'split_id': 33, 'split_idx_start': 8455})]]\n"
     ]
    },
    {
     "data": {
      "application/vnd.jupyter.widget-view+json": {
       "model_id": "725f28f9cfe4494784c16edff394e741",
       "version_major": 2,
       "version_minor": 0
      },
      "text/plain": [
       "Batches:   0%|          | 0/1 [00:00<?, ?it/s]"
      ]
     },
     "metadata": {},
     "output_type": "display_data"
    },
    {
     "data": {
      "application/vnd.jupyter.widget-view+json": {
       "model_id": "517faf0ffc354affbd367ab870ddb5b0",
       "version_major": 2,
       "version_minor": 0
      },
      "text/plain": [
       "Batches:   0%|          | 0/1 [00:00<?, ?it/s]"
      ]
     },
     "metadata": {},
     "output_type": "display_data"
    },
    {
     "data": {
      "application/vnd.jupyter.widget-view+json": {
       "model_id": "dbbb7e610964478584df80311d3bcb33",
       "version_major": 2,
       "version_minor": 0
      },
      "text/plain": [
       "Batches:   0%|          | 0/1 [00:00<?, ?it/s]"
      ]
     },
     "metadata": {},
     "output_type": "display_data"
    },
    {
     "name": "stderr",
     "output_type": "stream",
     "text": [
      "10:57:19 WARNING No Documents found with embeddings. Returning empty list. To generate embeddings, use a DocumentEmbedder.\n"
     ]
    },
    {
     "data": {
      "application/vnd.jupyter.widget-view+json": {
       "model_id": "423474402bfd4651baf6d32fbbc26e7f",
       "version_major": 2,
       "version_minor": 0
      },
      "text/plain": [
       "Batches:   0%|          | 0/1 [00:00<?, ?it/s]"
      ]
     },
     "metadata": {},
     "output_type": "display_data"
    },
    {
     "name": "stderr",
     "output_type": "stream",
     "text": [
      "10:57:19 WARNING No Documents found with embeddings. Returning empty list. To generate embeddings, use a DocumentEmbedder.\n",
      "Processing rows:  92%|█████████▏| 46/50 [00:17<00:01,  2.65row/s]"
     ]
    },
    {
     "name": "stdout",
     "output_type": "stream",
     "text": [
      "[[Document(id=4385f766a0169a4529b42413186c7df0fe00baaa201658f285e308a0e094dab8, content: 'Wenn Sie eine dauerhafte Empfängnisverhütung durch Sterilisation wünschen, kann dieser Eingriff mit ...', meta: {'title': 'Kaiserschnitt.md', 'source_id': 'cec11350-e783-4477-b76e-bd9afa5342c5', 'page_number': 1, 'split_id': 12, 'split_idx_start': 4018})]]\n"
     ]
    },
    {
     "data": {
      "application/vnd.jupyter.widget-view+json": {
       "model_id": "74c993e2ee4547b3b5fb18006837b732",
       "version_major": 2,
       "version_minor": 0
      },
      "text/plain": [
       "Batches:   0%|          | 0/1 [00:00<?, ?it/s]"
      ]
     },
     "metadata": {},
     "output_type": "display_data"
    },
    {
     "data": {
      "application/vnd.jupyter.widget-view+json": {
       "model_id": "b31394a393514223a4e46796afa6c997",
       "version_major": 2,
       "version_minor": 0
      },
      "text/plain": [
       "Batches:   0%|          | 0/1 [00:00<?, ?it/s]"
      ]
     },
     "metadata": {},
     "output_type": "display_data"
    },
    {
     "data": {
      "application/vnd.jupyter.widget-view+json": {
       "model_id": "9c89135daf814effa030a717c17deeca",
       "version_major": 2,
       "version_minor": 0
      },
      "text/plain": [
       "Batches:   0%|          | 0/1 [00:00<?, ?it/s]"
      ]
     },
     "metadata": {},
     "output_type": "display_data"
    },
    {
     "name": "stderr",
     "output_type": "stream",
     "text": [
      "10:57:19 WARNING No Documents found with embeddings. Returning empty list. To generate embeddings, use a DocumentEmbedder.\n"
     ]
    },
    {
     "data": {
      "application/vnd.jupyter.widget-view+json": {
       "model_id": "796ab945bc8a4741bd3c921752a892fe",
       "version_major": 2,
       "version_minor": 0
      },
      "text/plain": [
       "Batches:   0%|          | 0/1 [00:00<?, ?it/s]"
      ]
     },
     "metadata": {},
     "output_type": "display_data"
    },
    {
     "name": "stderr",
     "output_type": "stream",
     "text": [
      "10:57:19 WARNING No Documents found with embeddings. Returning empty list. To generate embeddings, use a DocumentEmbedder.\n",
      "Processing rows:  94%|█████████▍| 47/50 [00:17<00:01,  2.65row/s]"
     ]
    },
    {
     "name": "stdout",
     "output_type": "stream",
     "text": [
      "[[Document(id=5edc50a0e7ee22a6fc7c618de721f5587d0812e3f5ed39ec6f68941162c1b3c8, content: 'Die Unterbringung einer Begleitperson im Familienzimmer ist möglich, kostet 95 Euro pro Nacht (inklu...', meta: {'title': 'DRK Geburtshilfe Infos.md', 'source_id': '8aebf112-c5a5-48d5-aaa9-9635e1ee5c8b', 'page_number': 1, 'split_id': 29, 'split_idx_start': 14634})]]\n"
     ]
    },
    {
     "data": {
      "application/vnd.jupyter.widget-view+json": {
       "model_id": "3b6d547d36494f9daee82d25d2aebcc5",
       "version_major": 2,
       "version_minor": 0
      },
      "text/plain": [
       "Batches:   0%|          | 0/1 [00:00<?, ?it/s]"
      ]
     },
     "metadata": {},
     "output_type": "display_data"
    },
    {
     "data": {
      "application/vnd.jupyter.widget-view+json": {
       "model_id": "27f27f4dc70045b1aff8ce1f5bcc9379",
       "version_major": 2,
       "version_minor": 0
      },
      "text/plain": [
       "Batches:   0%|          | 0/1 [00:00<?, ?it/s]"
      ]
     },
     "metadata": {},
     "output_type": "display_data"
    },
    {
     "data": {
      "application/vnd.jupyter.widget-view+json": {
       "model_id": "38f092a930a147918f0cd8657d30c4a2",
       "version_major": 2,
       "version_minor": 0
      },
      "text/plain": [
       "Batches:   0%|          | 0/1 [00:00<?, ?it/s]"
      ]
     },
     "metadata": {},
     "output_type": "display_data"
    },
    {
     "name": "stderr",
     "output_type": "stream",
     "text": [
      "10:57:20 WARNING No Documents found with embeddings. Returning empty list. To generate embeddings, use a DocumentEmbedder.\n"
     ]
    },
    {
     "data": {
      "application/vnd.jupyter.widget-view+json": {
       "model_id": "af298b92fbb44e9e9a671cfc16a7906b",
       "version_major": 2,
       "version_minor": 0
      },
      "text/plain": [
       "Batches:   0%|          | 0/1 [00:00<?, ?it/s]"
      ]
     },
     "metadata": {},
     "output_type": "display_data"
    },
    {
     "name": "stderr",
     "output_type": "stream",
     "text": [
      "10:57:20 WARNING No Documents found with embeddings. Returning empty list. To generate embeddings, use a DocumentEmbedder.\n",
      "Processing rows:  96%|█████████▌| 48/50 [00:18<00:00,  2.65row/s]"
     ]
    },
    {
     "name": "stdout",
     "output_type": "stream",
     "text": [
      "[[Document(id=57f00c6369558d8b7964763a8f229b3b0a65346d2c934ff15d436cd3befda163, content: 'Wenn ein erster Versuch nicht gelingt, kann in Absprache mit der Ärztin/dem Arzt ein weiterer Anlauf...', meta: {'title': 'Äußere Wendung.md', 'source_id': '7ae1e3f0-dd60-4371-ab7b-aeeebef45f64', 'page_number': 1, 'split_id': 15, 'split_idx_start': 6507}), Document(id=fb5c0a0be64d8a09a26eae1a40145bd0a36a6df4933b04bb53905d466d76200d, content: 'Auch nach einer erfolgreichen Wendung besteht die Möglichkeit, dass sich das Kind erneut zurück in d...', meta: {'title': 'Äußere Wendung.md', 'source_id': '7ae1e3f0-dd60-4371-ab7b-aeeebef45f64', 'page_number': 1, 'split_id': 16, 'split_idx_start': 6640})]]\n"
     ]
    },
    {
     "data": {
      "application/vnd.jupyter.widget-view+json": {
       "model_id": "8d0faff86e44479bb4ec3d81c8fbc084",
       "version_major": 2,
       "version_minor": 0
      },
      "text/plain": [
       "Batches:   0%|          | 0/1 [00:00<?, ?it/s]"
      ]
     },
     "metadata": {},
     "output_type": "display_data"
    },
    {
     "data": {
      "application/vnd.jupyter.widget-view+json": {
       "model_id": "174735cb813a4b86948888b558fe7238",
       "version_major": 2,
       "version_minor": 0
      },
      "text/plain": [
       "Batches:   0%|          | 0/1 [00:00<?, ?it/s]"
      ]
     },
     "metadata": {},
     "output_type": "display_data"
    },
    {
     "data": {
      "application/vnd.jupyter.widget-view+json": {
       "model_id": "2ea9e50de0fe4f8186816e8b56baec6d",
       "version_major": 2,
       "version_minor": 0
      },
      "text/plain": [
       "Batches:   0%|          | 0/1 [00:00<?, ?it/s]"
      ]
     },
     "metadata": {},
     "output_type": "display_data"
    },
    {
     "name": "stderr",
     "output_type": "stream",
     "text": [
      "10:57:20 WARNING No Documents found with embeddings. Returning empty list. To generate embeddings, use a DocumentEmbedder.\n"
     ]
    },
    {
     "data": {
      "application/vnd.jupyter.widget-view+json": {
       "model_id": "9e12260b7db342978b12770d992cf9c4",
       "version_major": 2,
       "version_minor": 0
      },
      "text/plain": [
       "Batches:   0%|          | 0/1 [00:00<?, ?it/s]"
      ]
     },
     "metadata": {},
     "output_type": "display_data"
    },
    {
     "name": "stderr",
     "output_type": "stream",
     "text": [
      "10:57:20 WARNING No Documents found with embeddings. Returning empty list. To generate embeddings, use a DocumentEmbedder.\n",
      "Processing rows:  98%|█████████▊| 49/50 [00:18<00:00,  2.64row/s]"
     ]
    },
    {
     "name": "stdout",
     "output_type": "stream",
     "text": [
      "[[Document(id=55e156c90a6aca26bf8e4008190494eadab7ebe6be142531e37bed22cd6336f7, content: '\n",
      "Tipp: Eine ambulante Geburt ist möglich. Dabei verlässt man die Klinik zwischen 4 und 24 Stunden na...', meta: {'title': 'DRK Geburtshilfe Infos.md', 'source_id': '8aebf112-c5a5-48d5-aaa9-9635e1ee5c8b', 'page_number': 1, 'split_id': 16, 'split_idx_start': 10217})]]\n"
     ]
    },
    {
     "data": {
      "application/vnd.jupyter.widget-view+json": {
       "model_id": "2ddcad5a43b64126a5a0ca990905d44c",
       "version_major": 2,
       "version_minor": 0
      },
      "text/plain": [
       "Batches:   0%|          | 0/1 [00:00<?, ?it/s]"
      ]
     },
     "metadata": {},
     "output_type": "display_data"
    },
    {
     "data": {
      "application/vnd.jupyter.widget-view+json": {
       "model_id": "879f5bd85cdc4a268ef178240b3e063c",
       "version_major": 2,
       "version_minor": 0
      },
      "text/plain": [
       "Batches:   0%|          | 0/1 [00:00<?, ?it/s]"
      ]
     },
     "metadata": {},
     "output_type": "display_data"
    },
    {
     "data": {
      "application/vnd.jupyter.widget-view+json": {
       "model_id": "c8a647351ba24f148df041aac8ebbe3b",
       "version_major": 2,
       "version_minor": 0
      },
      "text/plain": [
       "Batches:   0%|          | 0/1 [00:00<?, ?it/s]"
      ]
     },
     "metadata": {},
     "output_type": "display_data"
    },
    {
     "name": "stderr",
     "output_type": "stream",
     "text": [
      "10:57:21 WARNING No Documents found with embeddings. Returning empty list. To generate embeddings, use a DocumentEmbedder.\n"
     ]
    },
    {
     "data": {
      "application/vnd.jupyter.widget-view+json": {
       "model_id": "a927687a05884f05a93249e22ed4f3a1",
       "version_major": 2,
       "version_minor": 0
      },
      "text/plain": [
       "Batches:   0%|          | 0/1 [00:00<?, ?it/s]"
      ]
     },
     "metadata": {},
     "output_type": "display_data"
    },
    {
     "name": "stderr",
     "output_type": "stream",
     "text": [
      "10:57:21 WARNING No Documents found with embeddings. Returning empty list. To generate embeddings, use a DocumentEmbedder.\n",
      "Processing rows: 100%|██████████| 50/50 [00:19<00:00,  2.62row/s]\n"
     ]
    }
   ],
   "source": [
    "import config.prompt\n",
    "importlib.reload(config.prompt)\n",
    "\n",
    "results = []\n",
    "\n",
    "# 1) Filter out the null‐question rows\n",
    "df_nonnull = df[df[\"question\"].notnull()]\n",
    "\n",
    "df_shuffled = df_nonnull.sample(n=50, random_state=42).reset_index(drop=True)\n",
    "\n",
    "# 3) Now iterate\n",
    "\n",
    "for index, row in tqdm(\n",
    "    df_shuffled.iterrows(),\n",
    "    total=len(df_shuffled),\n",
    "    desc=\"Processing rows\",\n",
    "    unit=\"row\"\n",
    "):\n",
    "    reference = row[\"groundTruth\"]\n",
    "    relevant_documents = row[\"documents\"]\n",
    "    question = row[\"question\"]\n",
    "\n",
    "    for test_case in test_cases:\n",
    "        pipeline = test_case[\"pipeline\"]\n",
    "        request_payload = {\n",
    "            \"query_embedder\": {\n",
    "                \"text\": question,\n",
    "            },\n",
    "            \"map_evaluator\": {\n",
    "                \"ground_truth_documents\": [relevant_documents],\n",
    "            },\n",
    "            \"mrr_evaluator\": {\n",
    "                \"ground_truth_documents\": [relevant_documents],\n",
    "            },\n",
    "            \"recall_evaluator\": {\n",
    "                \"ground_truth_documents\": [relevant_documents],\n",
    "            }\n",
    "        }\n",
    "        if \"bm25_retriever\" in pipeline.graph.nodes:\n",
    "            request_payload[\"bm25_retriever\"] = {\n",
    "                \"query\": question\n",
    "            }\n",
    "        result = pipeline.run(request_payload)\n",
    "\n",
    "        map_score = result.get(\"map_evaluator\", {}).get(\"score\", {})\n",
    "        mrr_score = result.get(\"mrr_evaluator\", {}).get(\"score\", {})\n",
    "        recall_score = result.get(\"recall_evaluator\", {}).get(\"score\", {})\n",
    "\n",
    "        df.at[index, f\"{test_case['name']}_map\"] = map_score\n",
    "        df.at[index, f\"{test_case['name']}_mrr\"] = mrr_score\n",
    "        df.at[index, f\"{test_case['name']}_recall\"] = recall_score"
   ]
  },
  {
   "cell_type": "code",
   "execution_count": 51,
   "id": "0d34970c",
   "metadata": {},
   "outputs": [],
   "source": [
    "embedding_model_name = os.environ['EMBEDDING_MODEL_NAME'].replace('/', '')\n",
    "df.to_pickle(f\"results/retrieval_eval_results_{embedding_model_name}_{os.environ['EMBEDDING_MODEL_TOP_K']}_topk{os.environ['EMBEDDING_MODEL_TOP_K']}.pkl\")"
   ]
  },
  {
   "cell_type": "code",
   "execution_count": 54,
   "id": "55f4674f",
   "metadata": {},
   "outputs": [
    {
     "data": {
      "text/html": [
       "<div>\n",
       "<style scoped>\n",
       "    .dataframe tbody tr th:only-of-type {\n",
       "        vertical-align: middle;\n",
       "    }\n",
       "\n",
       "    .dataframe tbody tr th {\n",
       "        vertical-align: top;\n",
       "    }\n",
       "\n",
       "    .dataframe thead th {\n",
       "        text-align: right;\n",
       "    }\n",
       "</style>\n",
       "<table border=\"1\" class=\"dataframe\">\n",
       "  <thead>\n",
       "    <tr style=\"text-align: right;\">\n",
       "      <th></th>\n",
       "      <th>question</th>\n",
       "      <th>references</th>\n",
       "      <th>groundTruth</th>\n",
       "      <th>source_file</th>\n",
       "      <th>documents</th>\n",
       "      <th>variant</th>\n",
       "      <th>prev_messages</th>\n",
       "      <th>Basic RAG_map</th>\n",
       "      <th>Basic RAG_mrr</th>\n",
       "      <th>Basic RAG_recall</th>\n",
       "      <th>Hybrid RAG_map</th>\n",
       "      <th>Hybrid RAG_mrr</th>\n",
       "      <th>Hybrid RAG_recall</th>\n",
       "      <th>Contextual RAG_map</th>\n",
       "      <th>Contextual RAG_mrr</th>\n",
       "      <th>Contextual RAG_recall</th>\n",
       "      <th>Contextual Hybrid RAG_map</th>\n",
       "      <th>Contextual Hybrid RAG_mrr</th>\n",
       "      <th>Contextual Hybrid RAG_recall</th>\n",
       "    </tr>\n",
       "  </thead>\n",
       "  <tbody>\n",
       "    <tr>\n",
       "      <th>0</th>\n",
       "      <td>Wie läuft eine äußere Wendung ab und was passi...</td>\n",
       "      <td>[Eine äußere Wendung findet in der Regel in ei...</td>\n",
       "      <td>Eine äußere Wendung findet ambulant in einer K...</td>\n",
       "      <td>Äußere Wendung.md</td>\n",
       "      <td>[Document(id=ea0c518b7c51e474b09770e8db9709652...</td>\n",
       "      <td>default</td>\n",
       "      <td>[]</td>\n",
       "      <td>0.000000</td>\n",
       "      <td>0.0</td>\n",
       "      <td>0.0</td>\n",
       "      <td>0.000000</td>\n",
       "      <td>0.000000</td>\n",
       "      <td>0.0</td>\n",
       "      <td>0.0</td>\n",
       "      <td>0.0</td>\n",
       "      <td>0.0</td>\n",
       "      <td>0.0</td>\n",
       "      <td>0.0</td>\n",
       "      <td>0.0</td>\n",
       "    </tr>\n",
       "    <tr>\n",
       "      <th>1</th>\n",
       "      <td>Und wie lange dauert dieser Eingriff normalerw...</td>\n",
       "      <td>[Eine äußere Wendung findet in der Regel in ei...</td>\n",
       "      <td>Eine äußere Wendung findet ambulant in einer K...</td>\n",
       "      <td>Äußere Wendung.md</td>\n",
       "      <td>[Document(id=ea0c518b7c51e474b09770e8db9709652...</td>\n",
       "      <td>contextual</td>\n",
       "      <td>[Wie läuft eine äußere Wendung ab?, Bei der äu...</td>\n",
       "      <td>0.833333</td>\n",
       "      <td>1.0</td>\n",
       "      <td>1.0</td>\n",
       "      <td>0.333333</td>\n",
       "      <td>0.333333</td>\n",
       "      <td>1.0</td>\n",
       "      <td>0.0</td>\n",
       "      <td>0.0</td>\n",
       "      <td>0.0</td>\n",
       "      <td>0.0</td>\n",
       "      <td>0.0</td>\n",
       "      <td>0.0</td>\n",
       "    </tr>\n",
       "    <tr>\n",
       "      <th>2</th>\n",
       "      <td>Ey, wie machen die eigentlich so 'ne äußere We...</td>\n",
       "      <td>[Eine äußere Wendung findet in der Regel in ei...</td>\n",
       "      <td>Eine äußere Wendung findet ambulant in einer K...</td>\n",
       "      <td>Äußere Wendung.md</td>\n",
       "      <td>[Document(id=ea0c518b7c51e474b09770e8db9709652...</td>\n",
       "      <td>slang</td>\n",
       "      <td>[]</td>\n",
       "      <td>1.000000</td>\n",
       "      <td>1.0</td>\n",
       "      <td>1.0</td>\n",
       "      <td>0.333333</td>\n",
       "      <td>0.333333</td>\n",
       "      <td>1.0</td>\n",
       "      <td>0.0</td>\n",
       "      <td>0.0</td>\n",
       "      <td>0.0</td>\n",
       "      <td>0.0</td>\n",
       "      <td>0.0</td>\n",
       "      <td>0.0</td>\n",
       "    </tr>\n",
       "    <tr>\n",
       "      <th>3</th>\n",
       "      <td>How is an external version done and what happe...</td>\n",
       "      <td>[Eine äußere Wendung findet in der Regel in ei...</td>\n",
       "      <td>Eine äußere Wendung findet ambulant in einer K...</td>\n",
       "      <td>Äußere Wendung.md</td>\n",
       "      <td>[Document(id=ea0c518b7c51e474b09770e8db9709652...</td>\n",
       "      <td>english</td>\n",
       "      <td>[]</td>\n",
       "      <td>0.500000</td>\n",
       "      <td>0.5</td>\n",
       "      <td>1.0</td>\n",
       "      <td>0.166667</td>\n",
       "      <td>0.166667</td>\n",
       "      <td>1.0</td>\n",
       "      <td>0.0</td>\n",
       "      <td>0.0</td>\n",
       "      <td>0.0</td>\n",
       "      <td>0.0</td>\n",
       "      <td>0.0</td>\n",
       "      <td>0.0</td>\n",
       "    </tr>\n",
       "    <tr>\n",
       "      <th>4</th>\n",
       "      <td>Können Sie mir erklären, wie eine äußere Wendu...</td>\n",
       "      <td>[Eine äußere Wendung findet in der Regel in ei...</td>\n",
       "      <td>Eine äußere Wendung findet ambulant in einer K...</td>\n",
       "      <td>Äußere Wendung.md</td>\n",
       "      <td>[Document(id=ea0c518b7c51e474b09770e8db9709652...</td>\n",
       "      <td>german-variation-1</td>\n",
       "      <td>[]</td>\n",
       "      <td>1.000000</td>\n",
       "      <td>1.0</td>\n",
       "      <td>1.0</td>\n",
       "      <td>0.333333</td>\n",
       "      <td>0.333333</td>\n",
       "      <td>1.0</td>\n",
       "      <td>0.0</td>\n",
       "      <td>0.0</td>\n",
       "      <td>0.0</td>\n",
       "      <td>0.0</td>\n",
       "      <td>0.0</td>\n",
       "      <td>0.0</td>\n",
       "    </tr>\n",
       "    <tr>\n",
       "      <th>...</th>\n",
       "      <td>...</td>\n",
       "      <td>...</td>\n",
       "      <td>...</td>\n",
       "      <td>...</td>\n",
       "      <td>...</td>\n",
       "      <td>...</td>\n",
       "      <td>...</td>\n",
       "      <td>...</td>\n",
       "      <td>...</td>\n",
       "      <td>...</td>\n",
       "      <td>...</td>\n",
       "      <td>...</td>\n",
       "      <td>...</td>\n",
       "      <td>...</td>\n",
       "      <td>...</td>\n",
       "      <td>...</td>\n",
       "      <td>...</td>\n",
       "      <td>...</td>\n",
       "      <td>...</td>\n",
       "    </tr>\n",
       "    <tr>\n",
       "      <th>605</th>\n",
       "      <td>Was ist zu tun, wenn nach der Geburtseinleitun...</td>\n",
       "      <td>[Bei jeder medikamentösen oder mechanischen Me...</td>\n",
       "      <td>Sollten nach der Geburtseinleitung starke oder...</td>\n",
       "      <td>Einleitung der Geburt.md</td>\n",
       "      <td>[Document(id=8a64407f7a87fa95d3ce2f268e6b00c66...</td>\n",
       "      <td>german-variation-2</td>\n",
       "      <td>[]</td>\n",
       "      <td>NaN</td>\n",
       "      <td>NaN</td>\n",
       "      <td>NaN</td>\n",
       "      <td>NaN</td>\n",
       "      <td>NaN</td>\n",
       "      <td>NaN</td>\n",
       "      <td>NaN</td>\n",
       "      <td>NaN</td>\n",
       "      <td>NaN</td>\n",
       "      <td>NaN</td>\n",
       "      <td>NaN</td>\n",
       "      <td>NaN</td>\n",
       "    </tr>\n",
       "    <tr>\n",
       "      <th>606</th>\n",
       "      <td>Kann mir jemand sagen, was ich machen soll, we...</td>\n",
       "      <td>[Bei jeder medikamentösen oder mechanischen Me...</td>\n",
       "      <td>Sollten nach der Geburtseinleitung starke oder...</td>\n",
       "      <td>Einleitung der Geburt.md</td>\n",
       "      <td>[Document(id=8a64407f7a87fa95d3ce2f268e6b00c66...</td>\n",
       "      <td>german-variation-3</td>\n",
       "      <td>[]</td>\n",
       "      <td>NaN</td>\n",
       "      <td>NaN</td>\n",
       "      <td>NaN</td>\n",
       "      <td>NaN</td>\n",
       "      <td>NaN</td>\n",
       "      <td>NaN</td>\n",
       "      <td>NaN</td>\n",
       "      <td>NaN</td>\n",
       "      <td>NaN</td>\n",
       "      <td>NaN</td>\n",
       "      <td>NaN</td>\n",
       "      <td>NaN</td>\n",
       "    </tr>\n",
       "    <tr>\n",
       "      <th>607</th>\n",
       "      <td>Ich hatte eine Geburtseinleitung – was mache i...</td>\n",
       "      <td>[Bei jeder medikamentösen oder mechanischen Me...</td>\n",
       "      <td>Sollten nach der Geburtseinleitung starke oder...</td>\n",
       "      <td>Einleitung der Geburt.md</td>\n",
       "      <td>[Document(id=8a64407f7a87fa95d3ce2f268e6b00c66...</td>\n",
       "      <td>german-variation-4</td>\n",
       "      <td>[]</td>\n",
       "      <td>NaN</td>\n",
       "      <td>NaN</td>\n",
       "      <td>NaN</td>\n",
       "      <td>NaN</td>\n",
       "      <td>NaN</td>\n",
       "      <td>NaN</td>\n",
       "      <td>NaN</td>\n",
       "      <td>NaN</td>\n",
       "      <td>NaN</td>\n",
       "      <td>NaN</td>\n",
       "      <td>NaN</td>\n",
       "      <td>NaN</td>\n",
       "    </tr>\n",
       "    <tr>\n",
       "      <th>608</th>\n",
       "      <td>Was empfehlen Sie, wenn nach der Einleitung de...</td>\n",
       "      <td>[Bei jeder medikamentösen oder mechanischen Me...</td>\n",
       "      <td>Sollten nach der Geburtseinleitung starke oder...</td>\n",
       "      <td>Einleitung der Geburt.md</td>\n",
       "      <td>[Document(id=8a64407f7a87fa95d3ce2f268e6b00c66...</td>\n",
       "      <td>german-variation-5</td>\n",
       "      <td>[]</td>\n",
       "      <td>NaN</td>\n",
       "      <td>NaN</td>\n",
       "      <td>NaN</td>\n",
       "      <td>NaN</td>\n",
       "      <td>NaN</td>\n",
       "      <td>NaN</td>\n",
       "      <td>NaN</td>\n",
       "      <td>NaN</td>\n",
       "      <td>NaN</td>\n",
       "      <td>NaN</td>\n",
       "      <td>NaN</td>\n",
       "      <td>NaN</td>\n",
       "    </tr>\n",
       "    <tr>\n",
       "      <th>609</th>\n",
       "      <td>Wenn nach der Geburtseinleitung plötzlich star...</td>\n",
       "      <td>[Bei jeder medikamentösen oder mechanischen Me...</td>\n",
       "      <td>Sollten nach der Geburtseinleitung starke oder...</td>\n",
       "      <td>Einleitung der Geburt.md</td>\n",
       "      <td>[Document(id=8a64407f7a87fa95d3ce2f268e6b00c66...</td>\n",
       "      <td>german-variation-6</td>\n",
       "      <td>[]</td>\n",
       "      <td>NaN</td>\n",
       "      <td>NaN</td>\n",
       "      <td>NaN</td>\n",
       "      <td>NaN</td>\n",
       "      <td>NaN</td>\n",
       "      <td>NaN</td>\n",
       "      <td>NaN</td>\n",
       "      <td>NaN</td>\n",
       "      <td>NaN</td>\n",
       "      <td>NaN</td>\n",
       "      <td>NaN</td>\n",
       "      <td>NaN</td>\n",
       "    </tr>\n",
       "  </tbody>\n",
       "</table>\n",
       "<p>610 rows × 19 columns</p>\n",
       "</div>"
      ],
      "text/plain": [
       "                                              question  \\\n",
       "0    Wie läuft eine äußere Wendung ab und was passi...   \n",
       "1    Und wie lange dauert dieser Eingriff normalerw...   \n",
       "2    Ey, wie machen die eigentlich so 'ne äußere We...   \n",
       "3    How is an external version done and what happe...   \n",
       "4    Können Sie mir erklären, wie eine äußere Wendu...   \n",
       "..                                                 ...   \n",
       "605  Was ist zu tun, wenn nach der Geburtseinleitun...   \n",
       "606  Kann mir jemand sagen, was ich machen soll, we...   \n",
       "607  Ich hatte eine Geburtseinleitung – was mache i...   \n",
       "608  Was empfehlen Sie, wenn nach der Einleitung de...   \n",
       "609  Wenn nach der Geburtseinleitung plötzlich star...   \n",
       "\n",
       "                                            references  \\\n",
       "0    [Eine äußere Wendung findet in der Regel in ei...   \n",
       "1    [Eine äußere Wendung findet in der Regel in ei...   \n",
       "2    [Eine äußere Wendung findet in der Regel in ei...   \n",
       "3    [Eine äußere Wendung findet in der Regel in ei...   \n",
       "4    [Eine äußere Wendung findet in der Regel in ei...   \n",
       "..                                                 ...   \n",
       "605  [Bei jeder medikamentösen oder mechanischen Me...   \n",
       "606  [Bei jeder medikamentösen oder mechanischen Me...   \n",
       "607  [Bei jeder medikamentösen oder mechanischen Me...   \n",
       "608  [Bei jeder medikamentösen oder mechanischen Me...   \n",
       "609  [Bei jeder medikamentösen oder mechanischen Me...   \n",
       "\n",
       "                                           groundTruth  \\\n",
       "0    Eine äußere Wendung findet ambulant in einer K...   \n",
       "1    Eine äußere Wendung findet ambulant in einer K...   \n",
       "2    Eine äußere Wendung findet ambulant in einer K...   \n",
       "3    Eine äußere Wendung findet ambulant in einer K...   \n",
       "4    Eine äußere Wendung findet ambulant in einer K...   \n",
       "..                                                 ...   \n",
       "605  Sollten nach der Geburtseinleitung starke oder...   \n",
       "606  Sollten nach der Geburtseinleitung starke oder...   \n",
       "607  Sollten nach der Geburtseinleitung starke oder...   \n",
       "608  Sollten nach der Geburtseinleitung starke oder...   \n",
       "609  Sollten nach der Geburtseinleitung starke oder...   \n",
       "\n",
       "                  source_file  \\\n",
       "0          Äußere Wendung.md   \n",
       "1          Äußere Wendung.md   \n",
       "2          Äußere Wendung.md   \n",
       "3          Äußere Wendung.md   \n",
       "4          Äußere Wendung.md   \n",
       "..                        ...   \n",
       "605  Einleitung der Geburt.md   \n",
       "606  Einleitung der Geburt.md   \n",
       "607  Einleitung der Geburt.md   \n",
       "608  Einleitung der Geburt.md   \n",
       "609  Einleitung der Geburt.md   \n",
       "\n",
       "                                             documents             variant  \\\n",
       "0    [Document(id=ea0c518b7c51e474b09770e8db9709652...             default   \n",
       "1    [Document(id=ea0c518b7c51e474b09770e8db9709652...          contextual   \n",
       "2    [Document(id=ea0c518b7c51e474b09770e8db9709652...               slang   \n",
       "3    [Document(id=ea0c518b7c51e474b09770e8db9709652...             english   \n",
       "4    [Document(id=ea0c518b7c51e474b09770e8db9709652...  german-variation-1   \n",
       "..                                                 ...                 ...   \n",
       "605  [Document(id=8a64407f7a87fa95d3ce2f268e6b00c66...  german-variation-2   \n",
       "606  [Document(id=8a64407f7a87fa95d3ce2f268e6b00c66...  german-variation-3   \n",
       "607  [Document(id=8a64407f7a87fa95d3ce2f268e6b00c66...  german-variation-4   \n",
       "608  [Document(id=8a64407f7a87fa95d3ce2f268e6b00c66...  german-variation-5   \n",
       "609  [Document(id=8a64407f7a87fa95d3ce2f268e6b00c66...  german-variation-6   \n",
       "\n",
       "                                         prev_messages  Basic RAG_map  \\\n",
       "0                                                   []       0.000000   \n",
       "1    [Wie läuft eine äußere Wendung ab?, Bei der äu...       0.833333   \n",
       "2                                                   []       1.000000   \n",
       "3                                                   []       0.500000   \n",
       "4                                                   []       1.000000   \n",
       "..                                                 ...            ...   \n",
       "605                                                 []            NaN   \n",
       "606                                                 []            NaN   \n",
       "607                                                 []            NaN   \n",
       "608                                                 []            NaN   \n",
       "609                                                 []            NaN   \n",
       "\n",
       "     Basic RAG_mrr  Basic RAG_recall  Hybrid RAG_map  Hybrid RAG_mrr  \\\n",
       "0              0.0               0.0        0.000000        0.000000   \n",
       "1              1.0               1.0        0.333333        0.333333   \n",
       "2              1.0               1.0        0.333333        0.333333   \n",
       "3              0.5               1.0        0.166667        0.166667   \n",
       "4              1.0               1.0        0.333333        0.333333   \n",
       "..             ...               ...             ...             ...   \n",
       "605            NaN               NaN             NaN             NaN   \n",
       "606            NaN               NaN             NaN             NaN   \n",
       "607            NaN               NaN             NaN             NaN   \n",
       "608            NaN               NaN             NaN             NaN   \n",
       "609            NaN               NaN             NaN             NaN   \n",
       "\n",
       "     Hybrid RAG_recall  Contextual RAG_map  Contextual RAG_mrr  \\\n",
       "0                  0.0                 0.0                 0.0   \n",
       "1                  1.0                 0.0                 0.0   \n",
       "2                  1.0                 0.0                 0.0   \n",
       "3                  1.0                 0.0                 0.0   \n",
       "4                  1.0                 0.0                 0.0   \n",
       "..                 ...                 ...                 ...   \n",
       "605                NaN                 NaN                 NaN   \n",
       "606                NaN                 NaN                 NaN   \n",
       "607                NaN                 NaN                 NaN   \n",
       "608                NaN                 NaN                 NaN   \n",
       "609                NaN                 NaN                 NaN   \n",
       "\n",
       "     Contextual RAG_recall  Contextual Hybrid RAG_map  \\\n",
       "0                      0.0                        0.0   \n",
       "1                      0.0                        0.0   \n",
       "2                      0.0                        0.0   \n",
       "3                      0.0                        0.0   \n",
       "4                      0.0                        0.0   \n",
       "..                     ...                        ...   \n",
       "605                    NaN                        NaN   \n",
       "606                    NaN                        NaN   \n",
       "607                    NaN                        NaN   \n",
       "608                    NaN                        NaN   \n",
       "609                    NaN                        NaN   \n",
       "\n",
       "     Contextual Hybrid RAG_mrr  Contextual Hybrid RAG_recall  \n",
       "0                          0.0                           0.0  \n",
       "1                          0.0                           0.0  \n",
       "2                          0.0                           0.0  \n",
       "3                          0.0                           0.0  \n",
       "4                          0.0                           0.0  \n",
       "..                         ...                           ...  \n",
       "605                        NaN                           NaN  \n",
       "606                        NaN                           NaN  \n",
       "607                        NaN                           NaN  \n",
       "608                        NaN                           NaN  \n",
       "609                        NaN                           NaN  \n",
       "\n",
       "[610 rows x 19 columns]"
      ]
     },
     "execution_count": 54,
     "metadata": {},
     "output_type": "execute_result"
    }
   ],
   "source": [
    "df"
   ]
  },
  {
   "cell_type": "code",
   "execution_count": null,
   "id": "e1725071",
   "metadata": {},
   "outputs": [],
   "source": []
  }
 ],
 "metadata": {
  "kernelspec": {
   "display_name": ".venv",
   "language": "python",
   "name": "python3"
  },
  "language_info": {
   "codemirror_mode": {
    "name": "ipython",
    "version": 3
   },
   "file_extension": ".py",
   "mimetype": "text/x-python",
   "name": "python",
   "nbconvert_exporter": "python",
   "pygments_lexer": "ipython3",
   "version": "3.11.2"
  }
 },
 "nbformat": 4,
 "nbformat_minor": 5
}
