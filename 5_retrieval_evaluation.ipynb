{
 "cells": [
  {
   "cell_type": "markdown",
   "id": "0dcd96e4",
   "metadata": {},
   "source": [
    "# Retrieval Evaluation"
   ]
  },
  {
   "cell_type": "code",
   "execution_count": 1,
   "id": "36ee93f0",
   "metadata": {},
   "outputs": [
    {
     "name": "stdout",
     "output_type": "stream",
     "text": [
      "Requirement already satisfied: haystack-ai>=2.15.0rc1 in ./.venv/lib/python3.11/site-packages (2.15.0rc1)\n",
      "Requirement already satisfied: docstring-parser in ./.venv/lib/python3.11/site-packages (from haystack-ai>=2.15.0rc1) (0.16)\n",
      "Requirement already satisfied: haystack-experimental in ./.venv/lib/python3.11/site-packages (from haystack-ai>=2.15.0rc1) (0.10.0)\n",
      "Requirement already satisfied: jinja2 in ./.venv/lib/python3.11/site-packages (from haystack-ai>=2.15.0rc1) (3.1.6)\n",
      "Requirement already satisfied: jsonschema in ./.venv/lib/python3.11/site-packages (from haystack-ai>=2.15.0rc1) (4.23.0)\n",
      "Requirement already satisfied: lazy-imports in ./.venv/lib/python3.11/site-packages (from haystack-ai>=2.15.0rc1) (0.4.0)\n",
      "Requirement already satisfied: more-itertools in ./.venv/lib/python3.11/site-packages (from haystack-ai>=2.15.0rc1) (10.7.0)\n",
      "Requirement already satisfied: networkx in ./.venv/lib/python3.11/site-packages (from haystack-ai>=2.15.0rc1) (3.4.2)\n",
      "Requirement already satisfied: numpy in ./.venv/lib/python3.11/site-packages (from haystack-ai>=2.15.0rc1) (2.2.6)\n",
      "Requirement already satisfied: openai>=1.56.1 in ./.venv/lib/python3.11/site-packages (from haystack-ai>=2.15.0rc1) (1.79.0)\n",
      "Requirement already satisfied: posthog!=3.12.0 in ./.venv/lib/python3.11/site-packages (from haystack-ai>=2.15.0rc1) (4.0.1)\n",
      "Requirement already satisfied: pydantic in ./.venv/lib/python3.11/site-packages (from haystack-ai>=2.15.0rc1) (2.11.4)\n",
      "Requirement already satisfied: python-dateutil in ./.venv/lib/python3.11/site-packages (from haystack-ai>=2.15.0rc1) (2.9.0.post0)\n",
      "Requirement already satisfied: pyyaml in ./.venv/lib/python3.11/site-packages (from haystack-ai>=2.15.0rc1) (6.0.2)\n",
      "Requirement already satisfied: requests in ./.venv/lib/python3.11/site-packages (from haystack-ai>=2.15.0rc1) (2.32.3)\n",
      "Requirement already satisfied: tenacity!=8.4.0 in ./.venv/lib/python3.11/site-packages (from haystack-ai>=2.15.0rc1) (9.1.2)\n",
      "Requirement already satisfied: tqdm in ./.venv/lib/python3.11/site-packages (from haystack-ai>=2.15.0rc1) (4.67.1)\n",
      "Requirement already satisfied: typing-extensions>=4.7 in ./.venv/lib/python3.11/site-packages (from haystack-ai>=2.15.0rc1) (4.13.2)\n",
      "Requirement already satisfied: anyio<5,>=3.5.0 in ./.venv/lib/python3.11/site-packages (from openai>=1.56.1->haystack-ai>=2.15.0rc1) (4.9.0)\n",
      "Requirement already satisfied: distro<2,>=1.7.0 in ./.venv/lib/python3.11/site-packages (from openai>=1.56.1->haystack-ai>=2.15.0rc1) (1.9.0)\n",
      "Requirement already satisfied: httpx<1,>=0.23.0 in ./.venv/lib/python3.11/site-packages (from openai>=1.56.1->haystack-ai>=2.15.0rc1) (0.28.1)\n",
      "Requirement already satisfied: jiter<1,>=0.4.0 in ./.venv/lib/python3.11/site-packages (from openai>=1.56.1->haystack-ai>=2.15.0rc1) (0.10.0)\n",
      "Requirement already satisfied: sniffio in ./.venv/lib/python3.11/site-packages (from openai>=1.56.1->haystack-ai>=2.15.0rc1) (1.3.1)\n",
      "Requirement already satisfied: idna>=2.8 in ./.venv/lib/python3.11/site-packages (from anyio<5,>=3.5.0->openai>=1.56.1->haystack-ai>=2.15.0rc1) (3.10)\n",
      "Requirement already satisfied: certifi in ./.venv/lib/python3.11/site-packages (from httpx<1,>=0.23.0->openai>=1.56.1->haystack-ai>=2.15.0rc1) (2025.4.26)\n",
      "Requirement already satisfied: httpcore==1.* in ./.venv/lib/python3.11/site-packages (from httpx<1,>=0.23.0->openai>=1.56.1->haystack-ai>=2.15.0rc1) (1.0.9)\n",
      "Requirement already satisfied: h11>=0.16 in ./.venv/lib/python3.11/site-packages (from httpcore==1.*->httpx<1,>=0.23.0->openai>=1.56.1->haystack-ai>=2.15.0rc1) (0.16.0)\n",
      "Requirement already satisfied: annotated-types>=0.6.0 in ./.venv/lib/python3.11/site-packages (from pydantic->haystack-ai>=2.15.0rc1) (0.7.0)\n",
      "Requirement already satisfied: pydantic-core==2.33.2 in ./.venv/lib/python3.11/site-packages (from pydantic->haystack-ai>=2.15.0rc1) (2.33.2)\n",
      "Requirement already satisfied: typing-inspection>=0.4.0 in ./.venv/lib/python3.11/site-packages (from pydantic->haystack-ai>=2.15.0rc1) (0.4.0)\n",
      "Requirement already satisfied: six>=1.5 in ./.venv/lib/python3.11/site-packages (from posthog!=3.12.0->haystack-ai>=2.15.0rc1) (1.17.0)\n",
      "Requirement already satisfied: backoff>=1.10.0 in ./.venv/lib/python3.11/site-packages (from posthog!=3.12.0->haystack-ai>=2.15.0rc1) (2.2.1)\n",
      "Requirement already satisfied: charset-normalizer<4,>=2 in ./.venv/lib/python3.11/site-packages (from requests->haystack-ai>=2.15.0rc1) (3.4.2)\n",
      "Requirement already satisfied: urllib3<3,>=1.21.1 in ./.venv/lib/python3.11/site-packages (from requests->haystack-ai>=2.15.0rc1) (2.4.0)\n",
      "Requirement already satisfied: filetype in ./.venv/lib/python3.11/site-packages (from haystack-experimental->haystack-ai>=2.15.0rc1) (1.2.0)\n",
      "Requirement already satisfied: MarkupSafe>=2.0 in ./.venv/lib/python3.11/site-packages (from jinja2->haystack-ai>=2.15.0rc1) (3.0.2)\n",
      "Requirement already satisfied: attrs>=22.2.0 in ./.venv/lib/python3.11/site-packages (from jsonschema->haystack-ai>=2.15.0rc1) (25.3.0)\n",
      "Requirement already satisfied: jsonschema-specifications>=2023.03.6 in ./.venv/lib/python3.11/site-packages (from jsonschema->haystack-ai>=2.15.0rc1) (2025.4.1)\n",
      "Requirement already satisfied: referencing>=0.28.4 in ./.venv/lib/python3.11/site-packages (from jsonschema->haystack-ai>=2.15.0rc1) (0.36.2)\n",
      "Requirement already satisfied: rpds-py>=0.7.1 in ./.venv/lib/python3.11/site-packages (from jsonschema->haystack-ai>=2.15.0rc1) (0.25.1)\n",
      "Note: you may need to restart the kernel to use updated packages.\n",
      "Requirement already satisfied: ragas-haystack in ./.venv/lib/python3.11/site-packages (2.1.0)\n",
      "Requirement already satisfied: haystack-ai in ./.venv/lib/python3.11/site-packages (from ragas-haystack) (2.15.0rc1)\n",
      "Requirement already satisfied: ragas<0.3.0,>=0.2.0 in ./.venv/lib/python3.11/site-packages (from ragas-haystack) (0.2.15)\n",
      "Requirement already satisfied: numpy in ./.venv/lib/python3.11/site-packages (from ragas<0.3.0,>=0.2.0->ragas-haystack) (2.2.6)\n",
      "Requirement already satisfied: datasets in ./.venv/lib/python3.11/site-packages (from ragas<0.3.0,>=0.2.0->ragas-haystack) (3.6.0)\n",
      "Requirement already satisfied: tiktoken in ./.venv/lib/python3.11/site-packages (from ragas<0.3.0,>=0.2.0->ragas-haystack) (0.9.0)\n",
      "Requirement already satisfied: langchain in ./.venv/lib/python3.11/site-packages (from ragas<0.3.0,>=0.2.0->ragas-haystack) (0.3.25)\n",
      "Requirement already satisfied: langchain-core in ./.venv/lib/python3.11/site-packages (from ragas<0.3.0,>=0.2.0->ragas-haystack) (0.3.60)\n",
      "Requirement already satisfied: langchain-community in ./.venv/lib/python3.11/site-packages (from ragas<0.3.0,>=0.2.0->ragas-haystack) (0.3.24)\n",
      "Requirement already satisfied: langchain_openai in ./.venv/lib/python3.11/site-packages (from ragas<0.3.0,>=0.2.0->ragas-haystack) (0.3.17)\n",
      "Requirement already satisfied: nest-asyncio in ./.venv/lib/python3.11/site-packages (from ragas<0.3.0,>=0.2.0->ragas-haystack) (1.6.0)\n",
      "Requirement already satisfied: appdirs in ./.venv/lib/python3.11/site-packages (from ragas<0.3.0,>=0.2.0->ragas-haystack) (1.4.4)\n",
      "Requirement already satisfied: pydantic>=2 in ./.venv/lib/python3.11/site-packages (from ragas<0.3.0,>=0.2.0->ragas-haystack) (2.11.4)\n",
      "Requirement already satisfied: openai>1 in ./.venv/lib/python3.11/site-packages (from ragas<0.3.0,>=0.2.0->ragas-haystack) (1.79.0)\n",
      "Requirement already satisfied: diskcache>=5.6.3 in ./.venv/lib/python3.11/site-packages (from ragas<0.3.0,>=0.2.0->ragas-haystack) (5.6.3)\n",
      "Requirement already satisfied: anyio<5,>=3.5.0 in ./.venv/lib/python3.11/site-packages (from openai>1->ragas<0.3.0,>=0.2.0->ragas-haystack) (4.9.0)\n",
      "Requirement already satisfied: distro<2,>=1.7.0 in ./.venv/lib/python3.11/site-packages (from openai>1->ragas<0.3.0,>=0.2.0->ragas-haystack) (1.9.0)\n",
      "Requirement already satisfied: httpx<1,>=0.23.0 in ./.venv/lib/python3.11/site-packages (from openai>1->ragas<0.3.0,>=0.2.0->ragas-haystack) (0.28.1)\n",
      "Requirement already satisfied: jiter<1,>=0.4.0 in ./.venv/lib/python3.11/site-packages (from openai>1->ragas<0.3.0,>=0.2.0->ragas-haystack) (0.10.0)\n",
      "Requirement already satisfied: sniffio in ./.venv/lib/python3.11/site-packages (from openai>1->ragas<0.3.0,>=0.2.0->ragas-haystack) (1.3.1)\n",
      "Requirement already satisfied: tqdm>4 in ./.venv/lib/python3.11/site-packages (from openai>1->ragas<0.3.0,>=0.2.0->ragas-haystack) (4.67.1)\n",
      "Requirement already satisfied: typing-extensions<5,>=4.11 in ./.venv/lib/python3.11/site-packages (from openai>1->ragas<0.3.0,>=0.2.0->ragas-haystack) (4.13.2)\n",
      "Requirement already satisfied: idna>=2.8 in ./.venv/lib/python3.11/site-packages (from anyio<5,>=3.5.0->openai>1->ragas<0.3.0,>=0.2.0->ragas-haystack) (3.10)\n",
      "Requirement already satisfied: certifi in ./.venv/lib/python3.11/site-packages (from httpx<1,>=0.23.0->openai>1->ragas<0.3.0,>=0.2.0->ragas-haystack) (2025.4.26)\n",
      "Requirement already satisfied: httpcore==1.* in ./.venv/lib/python3.11/site-packages (from httpx<1,>=0.23.0->openai>1->ragas<0.3.0,>=0.2.0->ragas-haystack) (1.0.9)\n",
      "Requirement already satisfied: h11>=0.16 in ./.venv/lib/python3.11/site-packages (from httpcore==1.*->httpx<1,>=0.23.0->openai>1->ragas<0.3.0,>=0.2.0->ragas-haystack) (0.16.0)\n",
      "Requirement already satisfied: annotated-types>=0.6.0 in ./.venv/lib/python3.11/site-packages (from pydantic>=2->ragas<0.3.0,>=0.2.0->ragas-haystack) (0.7.0)\n",
      "Requirement already satisfied: pydantic-core==2.33.2 in ./.venv/lib/python3.11/site-packages (from pydantic>=2->ragas<0.3.0,>=0.2.0->ragas-haystack) (2.33.2)\n",
      "Requirement already satisfied: typing-inspection>=0.4.0 in ./.venv/lib/python3.11/site-packages (from pydantic>=2->ragas<0.3.0,>=0.2.0->ragas-haystack) (0.4.0)\n",
      "Requirement already satisfied: filelock in ./.venv/lib/python3.11/site-packages (from datasets->ragas<0.3.0,>=0.2.0->ragas-haystack) (3.18.0)\n",
      "Requirement already satisfied: pyarrow>=15.0.0 in ./.venv/lib/python3.11/site-packages (from datasets->ragas<0.3.0,>=0.2.0->ragas-haystack) (20.0.0)\n",
      "Requirement already satisfied: dill<0.3.9,>=0.3.0 in ./.venv/lib/python3.11/site-packages (from datasets->ragas<0.3.0,>=0.2.0->ragas-haystack) (0.3.8)\n",
      "Requirement already satisfied: pandas in ./.venv/lib/python3.11/site-packages (from datasets->ragas<0.3.0,>=0.2.0->ragas-haystack) (2.2.3)\n",
      "Requirement already satisfied: requests>=2.32.2 in ./.venv/lib/python3.11/site-packages (from datasets->ragas<0.3.0,>=0.2.0->ragas-haystack) (2.32.3)\n",
      "Requirement already satisfied: xxhash in ./.venv/lib/python3.11/site-packages (from datasets->ragas<0.3.0,>=0.2.0->ragas-haystack) (3.5.0)\n",
      "Requirement already satisfied: multiprocess<0.70.17 in ./.venv/lib/python3.11/site-packages (from datasets->ragas<0.3.0,>=0.2.0->ragas-haystack) (0.70.16)\n",
      "Requirement already satisfied: fsspec<=2025.3.0,>=2023.1.0 in ./.venv/lib/python3.11/site-packages (from fsspec[http]<=2025.3.0,>=2023.1.0->datasets->ragas<0.3.0,>=0.2.0->ragas-haystack) (2025.3.0)\n",
      "Requirement already satisfied: huggingface-hub>=0.24.0 in ./.venv/lib/python3.11/site-packages (from datasets->ragas<0.3.0,>=0.2.0->ragas-haystack) (0.31.4)\n",
      "Requirement already satisfied: packaging in ./.venv/lib/python3.11/site-packages (from datasets->ragas<0.3.0,>=0.2.0->ragas-haystack) (24.2)\n",
      "Requirement already satisfied: pyyaml>=5.1 in ./.venv/lib/python3.11/site-packages (from datasets->ragas<0.3.0,>=0.2.0->ragas-haystack) (6.0.2)\n",
      "Requirement already satisfied: aiohttp!=4.0.0a0,!=4.0.0a1 in ./.venv/lib/python3.11/site-packages (from fsspec[http]<=2025.3.0,>=2023.1.0->datasets->ragas<0.3.0,>=0.2.0->ragas-haystack) (3.11.18)\n",
      "Requirement already satisfied: aiohappyeyeballs>=2.3.0 in ./.venv/lib/python3.11/site-packages (from aiohttp!=4.0.0a0,!=4.0.0a1->fsspec[http]<=2025.3.0,>=2023.1.0->datasets->ragas<0.3.0,>=0.2.0->ragas-haystack) (2.6.1)\n",
      "Requirement already satisfied: aiosignal>=1.1.2 in ./.venv/lib/python3.11/site-packages (from aiohttp!=4.0.0a0,!=4.0.0a1->fsspec[http]<=2025.3.0,>=2023.1.0->datasets->ragas<0.3.0,>=0.2.0->ragas-haystack) (1.3.2)\n",
      "Requirement already satisfied: attrs>=17.3.0 in ./.venv/lib/python3.11/site-packages (from aiohttp!=4.0.0a0,!=4.0.0a1->fsspec[http]<=2025.3.0,>=2023.1.0->datasets->ragas<0.3.0,>=0.2.0->ragas-haystack) (25.3.0)\n",
      "Requirement already satisfied: frozenlist>=1.1.1 in ./.venv/lib/python3.11/site-packages (from aiohttp!=4.0.0a0,!=4.0.0a1->fsspec[http]<=2025.3.0,>=2023.1.0->datasets->ragas<0.3.0,>=0.2.0->ragas-haystack) (1.6.0)\n",
      "Requirement already satisfied: multidict<7.0,>=4.5 in ./.venv/lib/python3.11/site-packages (from aiohttp!=4.0.0a0,!=4.0.0a1->fsspec[http]<=2025.3.0,>=2023.1.0->datasets->ragas<0.3.0,>=0.2.0->ragas-haystack) (6.4.4)\n",
      "Requirement already satisfied: propcache>=0.2.0 in ./.venv/lib/python3.11/site-packages (from aiohttp!=4.0.0a0,!=4.0.0a1->fsspec[http]<=2025.3.0,>=2023.1.0->datasets->ragas<0.3.0,>=0.2.0->ragas-haystack) (0.3.1)\n",
      "Requirement already satisfied: yarl<2.0,>=1.17.0 in ./.venv/lib/python3.11/site-packages (from aiohttp!=4.0.0a0,!=4.0.0a1->fsspec[http]<=2025.3.0,>=2023.1.0->datasets->ragas<0.3.0,>=0.2.0->ragas-haystack) (1.20.0)\n",
      "Requirement already satisfied: charset-normalizer<4,>=2 in ./.venv/lib/python3.11/site-packages (from requests>=2.32.2->datasets->ragas<0.3.0,>=0.2.0->ragas-haystack) (3.4.2)\n",
      "Requirement already satisfied: urllib3<3,>=1.21.1 in ./.venv/lib/python3.11/site-packages (from requests>=2.32.2->datasets->ragas<0.3.0,>=0.2.0->ragas-haystack) (2.4.0)\n",
      "Requirement already satisfied: docstring-parser in ./.venv/lib/python3.11/site-packages (from haystack-ai->ragas-haystack) (0.16)\n",
      "Requirement already satisfied: haystack-experimental in ./.venv/lib/python3.11/site-packages (from haystack-ai->ragas-haystack) (0.10.0)\n",
      "Requirement already satisfied: jinja2 in ./.venv/lib/python3.11/site-packages (from haystack-ai->ragas-haystack) (3.1.6)\n",
      "Requirement already satisfied: jsonschema in ./.venv/lib/python3.11/site-packages (from haystack-ai->ragas-haystack) (4.23.0)\n",
      "Requirement already satisfied: lazy-imports in ./.venv/lib/python3.11/site-packages (from haystack-ai->ragas-haystack) (0.4.0)\n",
      "Requirement already satisfied: more-itertools in ./.venv/lib/python3.11/site-packages (from haystack-ai->ragas-haystack) (10.7.0)\n",
      "Requirement already satisfied: networkx in ./.venv/lib/python3.11/site-packages (from haystack-ai->ragas-haystack) (3.4.2)\n",
      "Requirement already satisfied: posthog!=3.12.0 in ./.venv/lib/python3.11/site-packages (from haystack-ai->ragas-haystack) (4.0.1)\n",
      "Requirement already satisfied: python-dateutil in ./.venv/lib/python3.11/site-packages (from haystack-ai->ragas-haystack) (2.9.0.post0)\n",
      "Requirement already satisfied: tenacity!=8.4.0 in ./.venv/lib/python3.11/site-packages (from haystack-ai->ragas-haystack) (9.1.2)\n",
      "Requirement already satisfied: six>=1.5 in ./.venv/lib/python3.11/site-packages (from posthog!=3.12.0->haystack-ai->ragas-haystack) (1.17.0)\n",
      "Requirement already satisfied: backoff>=1.10.0 in ./.venv/lib/python3.11/site-packages (from posthog!=3.12.0->haystack-ai->ragas-haystack) (2.2.1)\n",
      "Requirement already satisfied: filetype in ./.venv/lib/python3.11/site-packages (from haystack-experimental->haystack-ai->ragas-haystack) (1.2.0)\n",
      "Requirement already satisfied: MarkupSafe>=2.0 in ./.venv/lib/python3.11/site-packages (from jinja2->haystack-ai->ragas-haystack) (3.0.2)\n",
      "Requirement already satisfied: jsonschema-specifications>=2023.03.6 in ./.venv/lib/python3.11/site-packages (from jsonschema->haystack-ai->ragas-haystack) (2025.4.1)\n",
      "Requirement already satisfied: referencing>=0.28.4 in ./.venv/lib/python3.11/site-packages (from jsonschema->haystack-ai->ragas-haystack) (0.36.2)\n",
      "Requirement already satisfied: rpds-py>=0.7.1 in ./.venv/lib/python3.11/site-packages (from jsonschema->haystack-ai->ragas-haystack) (0.25.1)\n",
      "Requirement already satisfied: langchain-text-splitters<1.0.0,>=0.3.8 in ./.venv/lib/python3.11/site-packages (from langchain->ragas<0.3.0,>=0.2.0->ragas-haystack) (0.3.8)\n",
      "Requirement already satisfied: langsmith<0.4,>=0.1.17 in ./.venv/lib/python3.11/site-packages (from langchain->ragas<0.3.0,>=0.2.0->ragas-haystack) (0.3.42)\n",
      "Requirement already satisfied: SQLAlchemy<3,>=1.4 in ./.venv/lib/python3.11/site-packages (from langchain->ragas<0.3.0,>=0.2.0->ragas-haystack) (2.0.41)\n",
      "Requirement already satisfied: jsonpatch<2.0,>=1.33 in ./.venv/lib/python3.11/site-packages (from langchain-core->ragas<0.3.0,>=0.2.0->ragas-haystack) (1.33)\n",
      "Requirement already satisfied: jsonpointer>=1.9 in ./.venv/lib/python3.11/site-packages (from jsonpatch<2.0,>=1.33->langchain-core->ragas<0.3.0,>=0.2.0->ragas-haystack) (3.0.0)\n",
      "Requirement already satisfied: orjson<4.0.0,>=3.9.14 in ./.venv/lib/python3.11/site-packages (from langsmith<0.4,>=0.1.17->langchain->ragas<0.3.0,>=0.2.0->ragas-haystack) (3.10.18)\n",
      "Requirement already satisfied: requests-toolbelt<2.0.0,>=1.0.0 in ./.venv/lib/python3.11/site-packages (from langsmith<0.4,>=0.1.17->langchain->ragas<0.3.0,>=0.2.0->ragas-haystack) (1.0.0)\n",
      "Requirement already satisfied: zstandard<0.24.0,>=0.23.0 in ./.venv/lib/python3.11/site-packages (from langsmith<0.4,>=0.1.17->langchain->ragas<0.3.0,>=0.2.0->ragas-haystack) (0.23.0)\n",
      "Requirement already satisfied: greenlet>=1 in ./.venv/lib/python3.11/site-packages (from SQLAlchemy<3,>=1.4->langchain->ragas<0.3.0,>=0.2.0->ragas-haystack) (3.2.2)\n",
      "Requirement already satisfied: dataclasses-json<0.7,>=0.5.7 in ./.venv/lib/python3.11/site-packages (from langchain-community->ragas<0.3.0,>=0.2.0->ragas-haystack) (0.6.7)\n",
      "Requirement already satisfied: pydantic-settings<3.0.0,>=2.4.0 in ./.venv/lib/python3.11/site-packages (from langchain-community->ragas<0.3.0,>=0.2.0->ragas-haystack) (2.9.1)\n",
      "Requirement already satisfied: httpx-sse<1.0.0,>=0.4.0 in ./.venv/lib/python3.11/site-packages (from langchain-community->ragas<0.3.0,>=0.2.0->ragas-haystack) (0.4.0)\n",
      "Requirement already satisfied: marshmallow<4.0.0,>=3.18.0 in ./.venv/lib/python3.11/site-packages (from dataclasses-json<0.7,>=0.5.7->langchain-community->ragas<0.3.0,>=0.2.0->ragas-haystack) (3.26.1)\n",
      "Requirement already satisfied: typing-inspect<1,>=0.4.0 in ./.venv/lib/python3.11/site-packages (from dataclasses-json<0.7,>=0.5.7->langchain-community->ragas<0.3.0,>=0.2.0->ragas-haystack) (0.9.0)\n",
      "Requirement already satisfied: python-dotenv>=0.21.0 in ./.venv/lib/python3.11/site-packages (from pydantic-settings<3.0.0,>=2.4.0->langchain-community->ragas<0.3.0,>=0.2.0->ragas-haystack) (1.1.0)\n",
      "Requirement already satisfied: mypy-extensions>=0.3.0 in ./.venv/lib/python3.11/site-packages (from typing-inspect<1,>=0.4.0->dataclasses-json<0.7,>=0.5.7->langchain-community->ragas<0.3.0,>=0.2.0->ragas-haystack) (1.1.0)\n",
      "Requirement already satisfied: regex>=2022.1.18 in ./.venv/lib/python3.11/site-packages (from tiktoken->ragas<0.3.0,>=0.2.0->ragas-haystack) (2024.11.6)\n",
      "Requirement already satisfied: pytz>=2020.1 in ./.venv/lib/python3.11/site-packages (from pandas->datasets->ragas<0.3.0,>=0.2.0->ragas-haystack) (2025.2)\n",
      "Requirement already satisfied: tzdata>=2022.7 in ./.venv/lib/python3.11/site-packages (from pandas->datasets->ragas<0.3.0,>=0.2.0->ragas-haystack) (2025.2)\n",
      "Note: you may need to restart the kernel to use updated packages.\n",
      "Requirement already satisfied: nltk in ./.venv/lib/python3.11/site-packages (3.9.1)\n",
      "Requirement already satisfied: click in ./.venv/lib/python3.11/site-packages (from nltk) (8.2.1)\n",
      "Requirement already satisfied: joblib in ./.venv/lib/python3.11/site-packages (from nltk) (1.5.0)\n",
      "Requirement already satisfied: regex>=2021.8.3 in ./.venv/lib/python3.11/site-packages (from nltk) (2024.11.6)\n",
      "Requirement already satisfied: tqdm in ./.venv/lib/python3.11/site-packages (from nltk) (4.67.1)\n",
      "Note: you may need to restart the kernel to use updated packages.\n",
      "Requirement already satisfied: openai in ./.venv/lib/python3.11/site-packages (1.79.0)\n",
      "Requirement already satisfied: anyio<5,>=3.5.0 in ./.venv/lib/python3.11/site-packages (from openai) (4.9.0)\n",
      "Requirement already satisfied: distro<2,>=1.7.0 in ./.venv/lib/python3.11/site-packages (from openai) (1.9.0)\n",
      "Requirement already satisfied: httpx<1,>=0.23.0 in ./.venv/lib/python3.11/site-packages (from openai) (0.28.1)\n",
      "Requirement already satisfied: jiter<1,>=0.4.0 in ./.venv/lib/python3.11/site-packages (from openai) (0.10.0)\n",
      "Requirement already satisfied: pydantic<3,>=1.9.0 in ./.venv/lib/python3.11/site-packages (from openai) (2.11.4)\n",
      "Requirement already satisfied: sniffio in ./.venv/lib/python3.11/site-packages (from openai) (1.3.1)\n",
      "Requirement already satisfied: tqdm>4 in ./.venv/lib/python3.11/site-packages (from openai) (4.67.1)\n",
      "Requirement already satisfied: typing-extensions<5,>=4.11 in ./.venv/lib/python3.11/site-packages (from openai) (4.13.2)\n",
      "Requirement already satisfied: idna>=2.8 in ./.venv/lib/python3.11/site-packages (from anyio<5,>=3.5.0->openai) (3.10)\n",
      "Requirement already satisfied: certifi in ./.venv/lib/python3.11/site-packages (from httpx<1,>=0.23.0->openai) (2025.4.26)\n",
      "Requirement already satisfied: httpcore==1.* in ./.venv/lib/python3.11/site-packages (from httpx<1,>=0.23.0->openai) (1.0.9)\n",
      "Requirement already satisfied: h11>=0.16 in ./.venv/lib/python3.11/site-packages (from httpcore==1.*->httpx<1,>=0.23.0->openai) (0.16.0)\n",
      "Requirement already satisfied: annotated-types>=0.6.0 in ./.venv/lib/python3.11/site-packages (from pydantic<3,>=1.9.0->openai) (0.7.0)\n",
      "Requirement already satisfied: pydantic-core==2.33.2 in ./.venv/lib/python3.11/site-packages (from pydantic<3,>=1.9.0->openai) (2.33.2)\n",
      "Requirement already satisfied: typing-inspection>=0.4.0 in ./.venv/lib/python3.11/site-packages (from pydantic<3,>=1.9.0->openai) (0.4.0)\n",
      "Note: you may need to restart the kernel to use updated packages.\n",
      "Requirement already satisfied: pandas in ./.venv/lib/python3.11/site-packages (2.2.3)\n",
      "Requirement already satisfied: numpy>=1.23.2 in ./.venv/lib/python3.11/site-packages (from pandas) (2.2.6)\n",
      "Requirement already satisfied: python-dateutil>=2.8.2 in ./.venv/lib/python3.11/site-packages (from pandas) (2.9.0.post0)\n",
      "Requirement already satisfied: pytz>=2020.1 in ./.venv/lib/python3.11/site-packages (from pandas) (2025.2)\n",
      "Requirement already satisfied: tzdata>=2022.7 in ./.venv/lib/python3.11/site-packages (from pandas) (2025.2)\n",
      "Requirement already satisfied: six>=1.5 in ./.venv/lib/python3.11/site-packages (from python-dateutil>=2.8.2->pandas) (1.17.0)\n",
      "Note: you may need to restart the kernel to use updated packages.\n",
      "Requirement already satisfied: ragas-haystack in ./.venv/lib/python3.11/site-packages (2.1.0)\n",
      "Requirement already satisfied: haystack-ai in ./.venv/lib/python3.11/site-packages (from ragas-haystack) (2.15.0rc1)\n",
      "Requirement already satisfied: ragas<0.3.0,>=0.2.0 in ./.venv/lib/python3.11/site-packages (from ragas-haystack) (0.2.15)\n",
      "Requirement already satisfied: numpy in ./.venv/lib/python3.11/site-packages (from ragas<0.3.0,>=0.2.0->ragas-haystack) (2.2.6)\n",
      "Requirement already satisfied: datasets in ./.venv/lib/python3.11/site-packages (from ragas<0.3.0,>=0.2.0->ragas-haystack) (3.6.0)\n",
      "Requirement already satisfied: tiktoken in ./.venv/lib/python3.11/site-packages (from ragas<0.3.0,>=0.2.0->ragas-haystack) (0.9.0)\n",
      "Requirement already satisfied: langchain in ./.venv/lib/python3.11/site-packages (from ragas<0.3.0,>=0.2.0->ragas-haystack) (0.3.25)\n",
      "Requirement already satisfied: langchain-core in ./.venv/lib/python3.11/site-packages (from ragas<0.3.0,>=0.2.0->ragas-haystack) (0.3.60)\n",
      "Requirement already satisfied: langchain-community in ./.venv/lib/python3.11/site-packages (from ragas<0.3.0,>=0.2.0->ragas-haystack) (0.3.24)\n",
      "Requirement already satisfied: langchain_openai in ./.venv/lib/python3.11/site-packages (from ragas<0.3.0,>=0.2.0->ragas-haystack) (0.3.17)\n",
      "Requirement already satisfied: nest-asyncio in ./.venv/lib/python3.11/site-packages (from ragas<0.3.0,>=0.2.0->ragas-haystack) (1.6.0)\n",
      "Requirement already satisfied: appdirs in ./.venv/lib/python3.11/site-packages (from ragas<0.3.0,>=0.2.0->ragas-haystack) (1.4.4)\n",
      "Requirement already satisfied: pydantic>=2 in ./.venv/lib/python3.11/site-packages (from ragas<0.3.0,>=0.2.0->ragas-haystack) (2.11.4)\n",
      "Requirement already satisfied: openai>1 in ./.venv/lib/python3.11/site-packages (from ragas<0.3.0,>=0.2.0->ragas-haystack) (1.79.0)\n",
      "Requirement already satisfied: diskcache>=5.6.3 in ./.venv/lib/python3.11/site-packages (from ragas<0.3.0,>=0.2.0->ragas-haystack) (5.6.3)\n",
      "Requirement already satisfied: anyio<5,>=3.5.0 in ./.venv/lib/python3.11/site-packages (from openai>1->ragas<0.3.0,>=0.2.0->ragas-haystack) (4.9.0)\n",
      "Requirement already satisfied: distro<2,>=1.7.0 in ./.venv/lib/python3.11/site-packages (from openai>1->ragas<0.3.0,>=0.2.0->ragas-haystack) (1.9.0)\n",
      "Requirement already satisfied: httpx<1,>=0.23.0 in ./.venv/lib/python3.11/site-packages (from openai>1->ragas<0.3.0,>=0.2.0->ragas-haystack) (0.28.1)\n",
      "Requirement already satisfied: jiter<1,>=0.4.0 in ./.venv/lib/python3.11/site-packages (from openai>1->ragas<0.3.0,>=0.2.0->ragas-haystack) (0.10.0)\n",
      "Requirement already satisfied: sniffio in ./.venv/lib/python3.11/site-packages (from openai>1->ragas<0.3.0,>=0.2.0->ragas-haystack) (1.3.1)\n",
      "Requirement already satisfied: tqdm>4 in ./.venv/lib/python3.11/site-packages (from openai>1->ragas<0.3.0,>=0.2.0->ragas-haystack) (4.67.1)\n",
      "Requirement already satisfied: typing-extensions<5,>=4.11 in ./.venv/lib/python3.11/site-packages (from openai>1->ragas<0.3.0,>=0.2.0->ragas-haystack) (4.13.2)\n",
      "Requirement already satisfied: idna>=2.8 in ./.venv/lib/python3.11/site-packages (from anyio<5,>=3.5.0->openai>1->ragas<0.3.0,>=0.2.0->ragas-haystack) (3.10)\n",
      "Requirement already satisfied: certifi in ./.venv/lib/python3.11/site-packages (from httpx<1,>=0.23.0->openai>1->ragas<0.3.0,>=0.2.0->ragas-haystack) (2025.4.26)\n",
      "Requirement already satisfied: httpcore==1.* in ./.venv/lib/python3.11/site-packages (from httpx<1,>=0.23.0->openai>1->ragas<0.3.0,>=0.2.0->ragas-haystack) (1.0.9)\n",
      "Requirement already satisfied: h11>=0.16 in ./.venv/lib/python3.11/site-packages (from httpcore==1.*->httpx<1,>=0.23.0->openai>1->ragas<0.3.0,>=0.2.0->ragas-haystack) (0.16.0)\n",
      "Requirement already satisfied: annotated-types>=0.6.0 in ./.venv/lib/python3.11/site-packages (from pydantic>=2->ragas<0.3.0,>=0.2.0->ragas-haystack) (0.7.0)\n",
      "Requirement already satisfied: pydantic-core==2.33.2 in ./.venv/lib/python3.11/site-packages (from pydantic>=2->ragas<0.3.0,>=0.2.0->ragas-haystack) (2.33.2)\n",
      "Requirement already satisfied: typing-inspection>=0.4.0 in ./.venv/lib/python3.11/site-packages (from pydantic>=2->ragas<0.3.0,>=0.2.0->ragas-haystack) (0.4.0)\n",
      "Requirement already satisfied: filelock in ./.venv/lib/python3.11/site-packages (from datasets->ragas<0.3.0,>=0.2.0->ragas-haystack) (3.18.0)\n",
      "Requirement already satisfied: pyarrow>=15.0.0 in ./.venv/lib/python3.11/site-packages (from datasets->ragas<0.3.0,>=0.2.0->ragas-haystack) (20.0.0)\n",
      "Requirement already satisfied: dill<0.3.9,>=0.3.0 in ./.venv/lib/python3.11/site-packages (from datasets->ragas<0.3.0,>=0.2.0->ragas-haystack) (0.3.8)\n",
      "Requirement already satisfied: pandas in ./.venv/lib/python3.11/site-packages (from datasets->ragas<0.3.0,>=0.2.0->ragas-haystack) (2.2.3)\n",
      "Requirement already satisfied: requests>=2.32.2 in ./.venv/lib/python3.11/site-packages (from datasets->ragas<0.3.0,>=0.2.0->ragas-haystack) (2.32.3)\n",
      "Requirement already satisfied: xxhash in ./.venv/lib/python3.11/site-packages (from datasets->ragas<0.3.0,>=0.2.0->ragas-haystack) (3.5.0)\n",
      "Requirement already satisfied: multiprocess<0.70.17 in ./.venv/lib/python3.11/site-packages (from datasets->ragas<0.3.0,>=0.2.0->ragas-haystack) (0.70.16)\n",
      "Requirement already satisfied: fsspec<=2025.3.0,>=2023.1.0 in ./.venv/lib/python3.11/site-packages (from fsspec[http]<=2025.3.0,>=2023.1.0->datasets->ragas<0.3.0,>=0.2.0->ragas-haystack) (2025.3.0)\n",
      "Requirement already satisfied: huggingface-hub>=0.24.0 in ./.venv/lib/python3.11/site-packages (from datasets->ragas<0.3.0,>=0.2.0->ragas-haystack) (0.31.4)\n",
      "Requirement already satisfied: packaging in ./.venv/lib/python3.11/site-packages (from datasets->ragas<0.3.0,>=0.2.0->ragas-haystack) (24.2)\n",
      "Requirement already satisfied: pyyaml>=5.1 in ./.venv/lib/python3.11/site-packages (from datasets->ragas<0.3.0,>=0.2.0->ragas-haystack) (6.0.2)\n",
      "Requirement already satisfied: aiohttp!=4.0.0a0,!=4.0.0a1 in ./.venv/lib/python3.11/site-packages (from fsspec[http]<=2025.3.0,>=2023.1.0->datasets->ragas<0.3.0,>=0.2.0->ragas-haystack) (3.11.18)\n",
      "Requirement already satisfied: aiohappyeyeballs>=2.3.0 in ./.venv/lib/python3.11/site-packages (from aiohttp!=4.0.0a0,!=4.0.0a1->fsspec[http]<=2025.3.0,>=2023.1.0->datasets->ragas<0.3.0,>=0.2.0->ragas-haystack) (2.6.1)\n",
      "Requirement already satisfied: aiosignal>=1.1.2 in ./.venv/lib/python3.11/site-packages (from aiohttp!=4.0.0a0,!=4.0.0a1->fsspec[http]<=2025.3.0,>=2023.1.0->datasets->ragas<0.3.0,>=0.2.0->ragas-haystack) (1.3.2)\n",
      "Requirement already satisfied: attrs>=17.3.0 in ./.venv/lib/python3.11/site-packages (from aiohttp!=4.0.0a0,!=4.0.0a1->fsspec[http]<=2025.3.0,>=2023.1.0->datasets->ragas<0.3.0,>=0.2.0->ragas-haystack) (25.3.0)\n",
      "Requirement already satisfied: frozenlist>=1.1.1 in ./.venv/lib/python3.11/site-packages (from aiohttp!=4.0.0a0,!=4.0.0a1->fsspec[http]<=2025.3.0,>=2023.1.0->datasets->ragas<0.3.0,>=0.2.0->ragas-haystack) (1.6.0)\n",
      "Requirement already satisfied: multidict<7.0,>=4.5 in ./.venv/lib/python3.11/site-packages (from aiohttp!=4.0.0a0,!=4.0.0a1->fsspec[http]<=2025.3.0,>=2023.1.0->datasets->ragas<0.3.0,>=0.2.0->ragas-haystack) (6.4.4)\n",
      "Requirement already satisfied: propcache>=0.2.0 in ./.venv/lib/python3.11/site-packages (from aiohttp!=4.0.0a0,!=4.0.0a1->fsspec[http]<=2025.3.0,>=2023.1.0->datasets->ragas<0.3.0,>=0.2.0->ragas-haystack) (0.3.1)\n",
      "Requirement already satisfied: yarl<2.0,>=1.17.0 in ./.venv/lib/python3.11/site-packages (from aiohttp!=4.0.0a0,!=4.0.0a1->fsspec[http]<=2025.3.0,>=2023.1.0->datasets->ragas<0.3.0,>=0.2.0->ragas-haystack) (1.20.0)\n",
      "Requirement already satisfied: charset-normalizer<4,>=2 in ./.venv/lib/python3.11/site-packages (from requests>=2.32.2->datasets->ragas<0.3.0,>=0.2.0->ragas-haystack) (3.4.2)\n",
      "Requirement already satisfied: urllib3<3,>=1.21.1 in ./.venv/lib/python3.11/site-packages (from requests>=2.32.2->datasets->ragas<0.3.0,>=0.2.0->ragas-haystack) (2.4.0)\n",
      "Requirement already satisfied: docstring-parser in ./.venv/lib/python3.11/site-packages (from haystack-ai->ragas-haystack) (0.16)\n",
      "Requirement already satisfied: haystack-experimental in ./.venv/lib/python3.11/site-packages (from haystack-ai->ragas-haystack) (0.10.0)\n",
      "Requirement already satisfied: jinja2 in ./.venv/lib/python3.11/site-packages (from haystack-ai->ragas-haystack) (3.1.6)\n",
      "Requirement already satisfied: jsonschema in ./.venv/lib/python3.11/site-packages (from haystack-ai->ragas-haystack) (4.23.0)\n",
      "Requirement already satisfied: lazy-imports in ./.venv/lib/python3.11/site-packages (from haystack-ai->ragas-haystack) (0.4.0)\n",
      "Requirement already satisfied: more-itertools in ./.venv/lib/python3.11/site-packages (from haystack-ai->ragas-haystack) (10.7.0)\n",
      "Requirement already satisfied: networkx in ./.venv/lib/python3.11/site-packages (from haystack-ai->ragas-haystack) (3.4.2)\n",
      "Requirement already satisfied: posthog!=3.12.0 in ./.venv/lib/python3.11/site-packages (from haystack-ai->ragas-haystack) (4.0.1)\n",
      "Requirement already satisfied: python-dateutil in ./.venv/lib/python3.11/site-packages (from haystack-ai->ragas-haystack) (2.9.0.post0)\n",
      "Requirement already satisfied: tenacity!=8.4.0 in ./.venv/lib/python3.11/site-packages (from haystack-ai->ragas-haystack) (9.1.2)\n",
      "Requirement already satisfied: six>=1.5 in ./.venv/lib/python3.11/site-packages (from posthog!=3.12.0->haystack-ai->ragas-haystack) (1.17.0)\n",
      "Requirement already satisfied: backoff>=1.10.0 in ./.venv/lib/python3.11/site-packages (from posthog!=3.12.0->haystack-ai->ragas-haystack) (2.2.1)\n",
      "Requirement already satisfied: filetype in ./.venv/lib/python3.11/site-packages (from haystack-experimental->haystack-ai->ragas-haystack) (1.2.0)\n",
      "Requirement already satisfied: MarkupSafe>=2.0 in ./.venv/lib/python3.11/site-packages (from jinja2->haystack-ai->ragas-haystack) (3.0.2)\n",
      "Requirement already satisfied: jsonschema-specifications>=2023.03.6 in ./.venv/lib/python3.11/site-packages (from jsonschema->haystack-ai->ragas-haystack) (2025.4.1)\n",
      "Requirement already satisfied: referencing>=0.28.4 in ./.venv/lib/python3.11/site-packages (from jsonschema->haystack-ai->ragas-haystack) (0.36.2)\n",
      "Requirement already satisfied: rpds-py>=0.7.1 in ./.venv/lib/python3.11/site-packages (from jsonschema->haystack-ai->ragas-haystack) (0.25.1)\n",
      "Requirement already satisfied: langchain-text-splitters<1.0.0,>=0.3.8 in ./.venv/lib/python3.11/site-packages (from langchain->ragas<0.3.0,>=0.2.0->ragas-haystack) (0.3.8)\n",
      "Requirement already satisfied: langsmith<0.4,>=0.1.17 in ./.venv/lib/python3.11/site-packages (from langchain->ragas<0.3.0,>=0.2.0->ragas-haystack) (0.3.42)\n",
      "Requirement already satisfied: SQLAlchemy<3,>=1.4 in ./.venv/lib/python3.11/site-packages (from langchain->ragas<0.3.0,>=0.2.0->ragas-haystack) (2.0.41)\n",
      "Requirement already satisfied: jsonpatch<2.0,>=1.33 in ./.venv/lib/python3.11/site-packages (from langchain-core->ragas<0.3.0,>=0.2.0->ragas-haystack) (1.33)\n",
      "Requirement already satisfied: jsonpointer>=1.9 in ./.venv/lib/python3.11/site-packages (from jsonpatch<2.0,>=1.33->langchain-core->ragas<0.3.0,>=0.2.0->ragas-haystack) (3.0.0)\n",
      "Requirement already satisfied: orjson<4.0.0,>=3.9.14 in ./.venv/lib/python3.11/site-packages (from langsmith<0.4,>=0.1.17->langchain->ragas<0.3.0,>=0.2.0->ragas-haystack) (3.10.18)\n",
      "Requirement already satisfied: requests-toolbelt<2.0.0,>=1.0.0 in ./.venv/lib/python3.11/site-packages (from langsmith<0.4,>=0.1.17->langchain->ragas<0.3.0,>=0.2.0->ragas-haystack) (1.0.0)\n",
      "Requirement already satisfied: zstandard<0.24.0,>=0.23.0 in ./.venv/lib/python3.11/site-packages (from langsmith<0.4,>=0.1.17->langchain->ragas<0.3.0,>=0.2.0->ragas-haystack) (0.23.0)\n",
      "Requirement already satisfied: greenlet>=1 in ./.venv/lib/python3.11/site-packages (from SQLAlchemy<3,>=1.4->langchain->ragas<0.3.0,>=0.2.0->ragas-haystack) (3.2.2)\n",
      "Requirement already satisfied: dataclasses-json<0.7,>=0.5.7 in ./.venv/lib/python3.11/site-packages (from langchain-community->ragas<0.3.0,>=0.2.0->ragas-haystack) (0.6.7)\n",
      "Requirement already satisfied: pydantic-settings<3.0.0,>=2.4.0 in ./.venv/lib/python3.11/site-packages (from langchain-community->ragas<0.3.0,>=0.2.0->ragas-haystack) (2.9.1)\n",
      "Requirement already satisfied: httpx-sse<1.0.0,>=0.4.0 in ./.venv/lib/python3.11/site-packages (from langchain-community->ragas<0.3.0,>=0.2.0->ragas-haystack) (0.4.0)\n",
      "Requirement already satisfied: marshmallow<4.0.0,>=3.18.0 in ./.venv/lib/python3.11/site-packages (from dataclasses-json<0.7,>=0.5.7->langchain-community->ragas<0.3.0,>=0.2.0->ragas-haystack) (3.26.1)\n",
      "Requirement already satisfied: typing-inspect<1,>=0.4.0 in ./.venv/lib/python3.11/site-packages (from dataclasses-json<0.7,>=0.5.7->langchain-community->ragas<0.3.0,>=0.2.0->ragas-haystack) (0.9.0)\n",
      "Requirement already satisfied: python-dotenv>=0.21.0 in ./.venv/lib/python3.11/site-packages (from pydantic-settings<3.0.0,>=2.4.0->langchain-community->ragas<0.3.0,>=0.2.0->ragas-haystack) (1.1.0)\n",
      "Requirement already satisfied: mypy-extensions>=0.3.0 in ./.venv/lib/python3.11/site-packages (from typing-inspect<1,>=0.4.0->dataclasses-json<0.7,>=0.5.7->langchain-community->ragas<0.3.0,>=0.2.0->ragas-haystack) (1.1.0)\n",
      "Requirement already satisfied: regex>=2022.1.18 in ./.venv/lib/python3.11/site-packages (from tiktoken->ragas<0.3.0,>=0.2.0->ragas-haystack) (2024.11.6)\n",
      "Requirement already satisfied: pytz>=2020.1 in ./.venv/lib/python3.11/site-packages (from pandas->datasets->ragas<0.3.0,>=0.2.0->ragas-haystack) (2025.2)\n",
      "Requirement already satisfied: tzdata>=2022.7 in ./.venv/lib/python3.11/site-packages (from pandas->datasets->ragas<0.3.0,>=0.2.0->ragas-haystack) (2025.2)\n",
      "Note: you may need to restart the kernel to use updated packages.\n",
      "Requirement already satisfied: sentence-transformers>=3.0.0 in ./.venv/lib/python3.11/site-packages (4.1.0)\n",
      "Requirement already satisfied: transformers<5.0.0,>=4.41.0 in ./.venv/lib/python3.11/site-packages (from sentence-transformers>=3.0.0) (4.52.2)\n",
      "Requirement already satisfied: tqdm in ./.venv/lib/python3.11/site-packages (from sentence-transformers>=3.0.0) (4.67.1)\n",
      "Requirement already satisfied: torch>=1.11.0 in ./.venv/lib/python3.11/site-packages (from sentence-transformers>=3.0.0) (2.7.0)\n",
      "Requirement already satisfied: scikit-learn in ./.venv/lib/python3.11/site-packages (from sentence-transformers>=3.0.0) (1.6.1)\n",
      "Requirement already satisfied: scipy in ./.venv/lib/python3.11/site-packages (from sentence-transformers>=3.0.0) (1.15.3)\n",
      "Requirement already satisfied: huggingface-hub>=0.20.0 in ./.venv/lib/python3.11/site-packages (from sentence-transformers>=3.0.0) (0.31.4)\n",
      "Requirement already satisfied: Pillow in ./.venv/lib/python3.11/site-packages (from sentence-transformers>=3.0.0) (11.2.1)\n",
      "Requirement already satisfied: typing_extensions>=4.5.0 in ./.venv/lib/python3.11/site-packages (from sentence-transformers>=3.0.0) (4.13.2)\n",
      "Requirement already satisfied: filelock in ./.venv/lib/python3.11/site-packages (from transformers<5.0.0,>=4.41.0->sentence-transformers>=3.0.0) (3.18.0)\n",
      "Requirement already satisfied: numpy>=1.17 in ./.venv/lib/python3.11/site-packages (from transformers<5.0.0,>=4.41.0->sentence-transformers>=3.0.0) (2.2.6)\n",
      "Requirement already satisfied: packaging>=20.0 in ./.venv/lib/python3.11/site-packages (from transformers<5.0.0,>=4.41.0->sentence-transformers>=3.0.0) (24.2)\n",
      "Requirement already satisfied: pyyaml>=5.1 in ./.venv/lib/python3.11/site-packages (from transformers<5.0.0,>=4.41.0->sentence-transformers>=3.0.0) (6.0.2)\n",
      "Requirement already satisfied: regex!=2019.12.17 in ./.venv/lib/python3.11/site-packages (from transformers<5.0.0,>=4.41.0->sentence-transformers>=3.0.0) (2024.11.6)\n",
      "Requirement already satisfied: requests in ./.venv/lib/python3.11/site-packages (from transformers<5.0.0,>=4.41.0->sentence-transformers>=3.0.0) (2.32.3)\n",
      "Requirement already satisfied: tokenizers<0.22,>=0.21 in ./.venv/lib/python3.11/site-packages (from transformers<5.0.0,>=4.41.0->sentence-transformers>=3.0.0) (0.21.1)\n",
      "Requirement already satisfied: safetensors>=0.4.3 in ./.venv/lib/python3.11/site-packages (from transformers<5.0.0,>=4.41.0->sentence-transformers>=3.0.0) (0.5.3)\n",
      "Requirement already satisfied: fsspec>=2023.5.0 in ./.venv/lib/python3.11/site-packages (from huggingface-hub>=0.20.0->sentence-transformers>=3.0.0) (2025.3.0)\n",
      "Requirement already satisfied: sympy>=1.13.3 in ./.venv/lib/python3.11/site-packages (from torch>=1.11.0->sentence-transformers>=3.0.0) (1.14.0)\n",
      "Requirement already satisfied: networkx in ./.venv/lib/python3.11/site-packages (from torch>=1.11.0->sentence-transformers>=3.0.0) (3.4.2)\n",
      "Requirement already satisfied: jinja2 in ./.venv/lib/python3.11/site-packages (from torch>=1.11.0->sentence-transformers>=3.0.0) (3.1.6)\n",
      "Requirement already satisfied: nvidia-cuda-nvrtc-cu12==12.6.77 in ./.venv/lib/python3.11/site-packages (from torch>=1.11.0->sentence-transformers>=3.0.0) (12.6.77)\n",
      "Requirement already satisfied: nvidia-cuda-runtime-cu12==12.6.77 in ./.venv/lib/python3.11/site-packages (from torch>=1.11.0->sentence-transformers>=3.0.0) (12.6.77)\n",
      "Requirement already satisfied: nvidia-cuda-cupti-cu12==12.6.80 in ./.venv/lib/python3.11/site-packages (from torch>=1.11.0->sentence-transformers>=3.0.0) (12.6.80)\n",
      "Requirement already satisfied: nvidia-cudnn-cu12==9.5.1.17 in ./.venv/lib/python3.11/site-packages (from torch>=1.11.0->sentence-transformers>=3.0.0) (9.5.1.17)\n",
      "Requirement already satisfied: nvidia-cublas-cu12==12.6.4.1 in ./.venv/lib/python3.11/site-packages (from torch>=1.11.0->sentence-transformers>=3.0.0) (12.6.4.1)\n",
      "Requirement already satisfied: nvidia-cufft-cu12==11.3.0.4 in ./.venv/lib/python3.11/site-packages (from torch>=1.11.0->sentence-transformers>=3.0.0) (11.3.0.4)\n",
      "Requirement already satisfied: nvidia-curand-cu12==10.3.7.77 in ./.venv/lib/python3.11/site-packages (from torch>=1.11.0->sentence-transformers>=3.0.0) (10.3.7.77)\n",
      "Requirement already satisfied: nvidia-cusolver-cu12==11.7.1.2 in ./.venv/lib/python3.11/site-packages (from torch>=1.11.0->sentence-transformers>=3.0.0) (11.7.1.2)\n",
      "Requirement already satisfied: nvidia-cusparse-cu12==12.5.4.2 in ./.venv/lib/python3.11/site-packages (from torch>=1.11.0->sentence-transformers>=3.0.0) (12.5.4.2)\n",
      "Requirement already satisfied: nvidia-cusparselt-cu12==0.6.3 in ./.venv/lib/python3.11/site-packages (from torch>=1.11.0->sentence-transformers>=3.0.0) (0.6.3)\n",
      "Requirement already satisfied: nvidia-nccl-cu12==2.26.2 in ./.venv/lib/python3.11/site-packages (from torch>=1.11.0->sentence-transformers>=3.0.0) (2.26.2)\n",
      "Requirement already satisfied: nvidia-nvtx-cu12==12.6.77 in ./.venv/lib/python3.11/site-packages (from torch>=1.11.0->sentence-transformers>=3.0.0) (12.6.77)\n",
      "Requirement already satisfied: nvidia-nvjitlink-cu12==12.6.85 in ./.venv/lib/python3.11/site-packages (from torch>=1.11.0->sentence-transformers>=3.0.0) (12.6.85)\n",
      "Requirement already satisfied: nvidia-cufile-cu12==1.11.1.6 in ./.venv/lib/python3.11/site-packages (from torch>=1.11.0->sentence-transformers>=3.0.0) (1.11.1.6)\n",
      "Requirement already satisfied: triton==3.3.0 in ./.venv/lib/python3.11/site-packages (from torch>=1.11.0->sentence-transformers>=3.0.0) (3.3.0)\n",
      "Requirement already satisfied: setuptools>=40.8.0 in ./.venv/lib/python3.11/site-packages (from triton==3.3.0->torch>=1.11.0->sentence-transformers>=3.0.0) (66.1.1)\n",
      "Requirement already satisfied: mpmath<1.4,>=1.1.0 in ./.venv/lib/python3.11/site-packages (from sympy>=1.13.3->torch>=1.11.0->sentence-transformers>=3.0.0) (1.3.0)\n",
      "Requirement already satisfied: MarkupSafe>=2.0 in ./.venv/lib/python3.11/site-packages (from jinja2->torch>=1.11.0->sentence-transformers>=3.0.0) (3.0.2)\n",
      "Requirement already satisfied: charset-normalizer<4,>=2 in ./.venv/lib/python3.11/site-packages (from requests->transformers<5.0.0,>=4.41.0->sentence-transformers>=3.0.0) (3.4.2)\n",
      "Requirement already satisfied: idna<4,>=2.5 in ./.venv/lib/python3.11/site-packages (from requests->transformers<5.0.0,>=4.41.0->sentence-transformers>=3.0.0) (3.10)\n",
      "Requirement already satisfied: urllib3<3,>=1.21.1 in ./.venv/lib/python3.11/site-packages (from requests->transformers<5.0.0,>=4.41.0->sentence-transformers>=3.0.0) (2.4.0)\n",
      "Requirement already satisfied: certifi>=2017.4.17 in ./.venv/lib/python3.11/site-packages (from requests->transformers<5.0.0,>=4.41.0->sentence-transformers>=3.0.0) (2025.4.26)\n",
      "Requirement already satisfied: joblib>=1.2.0 in ./.venv/lib/python3.11/site-packages (from scikit-learn->sentence-transformers>=3.0.0) (1.5.0)\n",
      "Requirement already satisfied: threadpoolctl>=3.1.0 in ./.venv/lib/python3.11/site-packages (from scikit-learn->sentence-transformers>=3.0.0) (3.6.0)\n",
      "Note: you may need to restart the kernel to use updated packages.\n",
      "Requirement already satisfied: hf_xet in ./.venv/lib/python3.11/site-packages (1.1.2)\n",
      "Note: you may need to restart the kernel to use updated packages.\n",
      "Requirement already satisfied: ollama-haystack==2.4.2 in ./.venv/lib/python3.11/site-packages (2.4.2)\n",
      "Requirement already satisfied: haystack-ai in ./.venv/lib/python3.11/site-packages (from ollama-haystack==2.4.2) (2.15.0rc1)\n",
      "Requirement already satisfied: ollama>=0.4.0 in ./.venv/lib/python3.11/site-packages (from ollama-haystack==2.4.2) (0.4.8)\n",
      "Requirement already satisfied: pydantic in ./.venv/lib/python3.11/site-packages (from ollama-haystack==2.4.2) (2.11.4)\n",
      "Requirement already satisfied: httpx<0.29,>=0.27 in ./.venv/lib/python3.11/site-packages (from ollama>=0.4.0->ollama-haystack==2.4.2) (0.28.1)\n",
      "Requirement already satisfied: anyio in ./.venv/lib/python3.11/site-packages (from httpx<0.29,>=0.27->ollama>=0.4.0->ollama-haystack==2.4.2) (4.9.0)\n",
      "Requirement already satisfied: certifi in ./.venv/lib/python3.11/site-packages (from httpx<0.29,>=0.27->ollama>=0.4.0->ollama-haystack==2.4.2) (2025.4.26)\n",
      "Requirement already satisfied: httpcore==1.* in ./.venv/lib/python3.11/site-packages (from httpx<0.29,>=0.27->ollama>=0.4.0->ollama-haystack==2.4.2) (1.0.9)\n",
      "Requirement already satisfied: idna in ./.venv/lib/python3.11/site-packages (from httpx<0.29,>=0.27->ollama>=0.4.0->ollama-haystack==2.4.2) (3.10)\n",
      "Requirement already satisfied: h11>=0.16 in ./.venv/lib/python3.11/site-packages (from httpcore==1.*->httpx<0.29,>=0.27->ollama>=0.4.0->ollama-haystack==2.4.2) (0.16.0)\n",
      "Requirement already satisfied: annotated-types>=0.6.0 in ./.venv/lib/python3.11/site-packages (from pydantic->ollama-haystack==2.4.2) (0.7.0)\n",
      "Requirement already satisfied: pydantic-core==2.33.2 in ./.venv/lib/python3.11/site-packages (from pydantic->ollama-haystack==2.4.2) (2.33.2)\n",
      "Requirement already satisfied: typing-extensions>=4.12.2 in ./.venv/lib/python3.11/site-packages (from pydantic->ollama-haystack==2.4.2) (4.13.2)\n",
      "Requirement already satisfied: typing-inspection>=0.4.0 in ./.venv/lib/python3.11/site-packages (from pydantic->ollama-haystack==2.4.2) (0.4.0)\n",
      "Requirement already satisfied: sniffio>=1.1 in ./.venv/lib/python3.11/site-packages (from anyio->httpx<0.29,>=0.27->ollama>=0.4.0->ollama-haystack==2.4.2) (1.3.1)\n",
      "Requirement already satisfied: docstring-parser in ./.venv/lib/python3.11/site-packages (from haystack-ai->ollama-haystack==2.4.2) (0.16)\n",
      "Requirement already satisfied: haystack-experimental in ./.venv/lib/python3.11/site-packages (from haystack-ai->ollama-haystack==2.4.2) (0.10.0)\n",
      "Requirement already satisfied: jinja2 in ./.venv/lib/python3.11/site-packages (from haystack-ai->ollama-haystack==2.4.2) (3.1.6)\n",
      "Requirement already satisfied: jsonschema in ./.venv/lib/python3.11/site-packages (from haystack-ai->ollama-haystack==2.4.2) (4.23.0)\n",
      "Requirement already satisfied: lazy-imports in ./.venv/lib/python3.11/site-packages (from haystack-ai->ollama-haystack==2.4.2) (0.4.0)\n",
      "Requirement already satisfied: more-itertools in ./.venv/lib/python3.11/site-packages (from haystack-ai->ollama-haystack==2.4.2) (10.7.0)\n",
      "Requirement already satisfied: networkx in ./.venv/lib/python3.11/site-packages (from haystack-ai->ollama-haystack==2.4.2) (3.4.2)\n",
      "Requirement already satisfied: numpy in ./.venv/lib/python3.11/site-packages (from haystack-ai->ollama-haystack==2.4.2) (2.2.6)\n",
      "Requirement already satisfied: openai>=1.56.1 in ./.venv/lib/python3.11/site-packages (from haystack-ai->ollama-haystack==2.4.2) (1.79.0)\n",
      "Requirement already satisfied: posthog!=3.12.0 in ./.venv/lib/python3.11/site-packages (from haystack-ai->ollama-haystack==2.4.2) (4.0.1)\n",
      "Requirement already satisfied: python-dateutil in ./.venv/lib/python3.11/site-packages (from haystack-ai->ollama-haystack==2.4.2) (2.9.0.post0)\n",
      "Requirement already satisfied: pyyaml in ./.venv/lib/python3.11/site-packages (from haystack-ai->ollama-haystack==2.4.2) (6.0.2)\n",
      "Requirement already satisfied: requests in ./.venv/lib/python3.11/site-packages (from haystack-ai->ollama-haystack==2.4.2) (2.32.3)\n",
      "Requirement already satisfied: tenacity!=8.4.0 in ./.venv/lib/python3.11/site-packages (from haystack-ai->ollama-haystack==2.4.2) (9.1.2)\n",
      "Requirement already satisfied: tqdm in ./.venv/lib/python3.11/site-packages (from haystack-ai->ollama-haystack==2.4.2) (4.67.1)\n",
      "Requirement already satisfied: distro<2,>=1.7.0 in ./.venv/lib/python3.11/site-packages (from openai>=1.56.1->haystack-ai->ollama-haystack==2.4.2) (1.9.0)\n",
      "Requirement already satisfied: jiter<1,>=0.4.0 in ./.venv/lib/python3.11/site-packages (from openai>=1.56.1->haystack-ai->ollama-haystack==2.4.2) (0.10.0)\n",
      "Requirement already satisfied: six>=1.5 in ./.venv/lib/python3.11/site-packages (from posthog!=3.12.0->haystack-ai->ollama-haystack==2.4.2) (1.17.0)\n",
      "Requirement already satisfied: backoff>=1.10.0 in ./.venv/lib/python3.11/site-packages (from posthog!=3.12.0->haystack-ai->ollama-haystack==2.4.2) (2.2.1)\n",
      "Requirement already satisfied: charset-normalizer<4,>=2 in ./.venv/lib/python3.11/site-packages (from requests->haystack-ai->ollama-haystack==2.4.2) (3.4.2)\n",
      "Requirement already satisfied: urllib3<3,>=1.21.1 in ./.venv/lib/python3.11/site-packages (from requests->haystack-ai->ollama-haystack==2.4.2) (2.4.0)\n",
      "Requirement already satisfied: filetype in ./.venv/lib/python3.11/site-packages (from haystack-experimental->haystack-ai->ollama-haystack==2.4.2) (1.2.0)\n",
      "Requirement already satisfied: MarkupSafe>=2.0 in ./.venv/lib/python3.11/site-packages (from jinja2->haystack-ai->ollama-haystack==2.4.2) (3.0.2)\n",
      "Requirement already satisfied: attrs>=22.2.0 in ./.venv/lib/python3.11/site-packages (from jsonschema->haystack-ai->ollama-haystack==2.4.2) (25.3.0)\n",
      "Requirement already satisfied: jsonschema-specifications>=2023.03.6 in ./.venv/lib/python3.11/site-packages (from jsonschema->haystack-ai->ollama-haystack==2.4.2) (2025.4.1)\n",
      "Requirement already satisfied: referencing>=0.28.4 in ./.venv/lib/python3.11/site-packages (from jsonschema->haystack-ai->ollama-haystack==2.4.2) (0.36.2)\n",
      "Requirement already satisfied: rpds-py>=0.7.1 in ./.venv/lib/python3.11/site-packages (from jsonschema->haystack-ai->ollama-haystack==2.4.2) (0.25.1)\n",
      "Note: you may need to restart the kernel to use updated packages.\n",
      "Requirement already satisfied: tqdm in ./.venv/lib/python3.11/site-packages (4.67.1)\n",
      "Note: you may need to restart the kernel to use updated packages.\n",
      "Requirement already satisfied: einops in ./.venv/lib/python3.11/site-packages (0.8.1)\n",
      "Note: you may need to restart the kernel to use updated packages.\n"
     ]
    }
   ],
   "source": [
    "import os\n",
    "# Setting temp dir to /srv/data directory, as it otherwise fills up the home directory too much\n",
    "# Just comment out on machines that are not \"Goober\"\n",
    "# os.environ[\"TMPDIR\"] = \"/srv/data/tmp\"\n",
    "# os.makedirs(\"/srv/data/tmp\", exist_ok=True)\n",
    "\n",
    "%pip install \"haystack-ai>=2.15.0rc1\"\n",
    "%pip install ragas-haystack\n",
    "%pip install nltk\n",
    "%pip install openai\n",
    "%pip install pandas\n",
    "%pip install ragas-haystack\n",
    "%pip install \"sentence-transformers>=3.0.0\"\n",
    "%pip install hf_xet\n",
    "%pip install \"ollama-haystack==2.4.2\"\n",
    "%pip install tqdm # For Progress Bar\n",
    "%pip install einops"
   ]
  },
  {
   "cell_type": "code",
   "execution_count": 2,
   "id": "7ef9a21e",
   "metadata": {},
   "outputs": [],
   "source": [
    "import os\n",
    "import pandas as pd\n",
    "from haystack.document_stores.in_memory import InMemoryDocumentStore\n",
    "import importlib\n",
    "from pipelines.components.evaluators import DocumentMRREvaluator, DocumentMAPEvaluator, DocumentRecallEvaluator\n",
    "from tqdm import tqdm\n",
    "tqdm.pandas()\n",
    "import logging\n",
    "\n",
    "logging.basicConfig(\n",
    "    level=logging.INFO,\n",
    "    format='%(asctime)s %(levelname)s %(message)s',\n",
    "    datefmt='%H:%M:%S'\n",
    ")"
   ]
  },
  {
   "cell_type": "code",
   "execution_count": 3,
   "id": "25347f02",
   "metadata": {},
   "outputs": [],
   "source": [
    "# from config.secret import OPENAI_API_KEY\n",
    "# os.environ[\"OPENAI_API_KEY\"] = OPENAI_API_KEY\n",
    "\n",
    "os.environ[\"EMBEDDING_MODEL_NAME\"] = \"Qwen/Qwen3-Embedding-4B\"\n",
    "os.environ[\"SENTENCE_TRANSFORMERS_HOME\"] = \"./model-assets/sentence-transformers\"\n",
    "os.environ[\"HF_HUB_CACHE\"] = \"./model-assets/hugging-face\"\n",
    "os.environ[\"EMBEDDING_MODEL_TOP_K\"] = \"10\"\n",
    "\n",
    "os.environ[\"LLM_NAME\"] = \"gemma3:12b\"\n",
    "os.environ[\"LLM_CONTEXT_SIZE\"] = \"8192\""
   ]
  },
  {
   "cell_type": "code",
   "execution_count": 4,
   "id": "24275cb1",
   "metadata": {},
   "outputs": [],
   "source": [
    "df = pd.read_pickle(\"data/qa_with_docs_flat/question_answers_docs_line_1_0_dataset_flat.pkl\")"
   ]
  },
  {
   "cell_type": "markdown",
   "id": "be9433dc",
   "metadata": {},
   "source": [
    "## Setup Retrieval Pipelines\n",
    "\n",
    "Sets up the basic / hybrid RAG pipelines. These can then be used later in combintation with the different indexing methods from before to evaluate different RAG setups."
   ]
  },
  {
   "cell_type": "code",
   "execution_count": null,
   "id": "08db30eb",
   "metadata": {},
   "outputs": [],
   "source": []
  },
  {
   "cell_type": "code",
   "execution_count": 5,
   "id": "b496eeb4",
   "metadata": {},
   "outputs": [],
   "source": [
    "base_indexing_store = InMemoryDocumentStore.load_from_disk(f\"data/document_stores/{os.environ['EMBEDDING_MODEL_NAME']}/docs_line_1_0_base_indexing_store.json\")\n",
    "context_indexing_store = InMemoryDocumentStore.load_from_disk(f\"data/document_stores/{os.environ['EMBEDDING_MODEL_NAME']}/docs_line_1_0_context_indexing_store.json\")"
   ]
  },
  {
   "cell_type": "code",
   "execution_count": 6,
   "id": "ee775ea5",
   "metadata": {},
   "outputs": [
    {
     "data": {
      "text/plain": [
       "[Document(id=5185ded672f9760cc64f96058f6b9a7df27f7aff2d7bef6ddfae2dd661c5dc72, content: 'Die \"Schädellage\" ist die ideale Position für eine vaginale Geburt, da der Kopf des Babys zuerst geb...', meta: {'title': 'Äußere Wendung.md', 'source_id': 'b18da279-2022-47e8-a0be-835a32d2a215', 'page_number': 1, 'split_id': 0, 'split_idx_start': 0}, embedding: vector of size 2560),\n",
       " Document(id=cf66cea8dc01d863e343bdba095739a0daa1943889d83f8ce9499b4ca79237e8, content: 'Eine Beckenendlage bedeutet, dass das Baby mit dem Becken (statt mit dem Kopf) nach unten im Mutterl...', meta: {'title': 'Äußere Wendung.md', 'source_id': 'b18da279-2022-47e8-a0be-835a32d2a215', 'page_number': 1, 'split_id': 2, 'split_idx_start': 452}, embedding: vector of size 2560),\n",
       " Document(id=b73dc03408f36fb40bc97647be966f5f2b431e68ab07e2010131df3e78e0be54, content: 'Diese alternativen Methoden sind oft nicht wissenschaftlich belegt und werden von Hebammen durchgefü...', meta: {'title': 'Äußere Wendung.md', 'source_id': 'b18da279-2022-47e8-a0be-835a32d2a215', 'page_number': 1, 'split_id': 4, 'split_idx_start': 847}, embedding: vector of size 2560),\n",
       " Document(id=e605e53ff4f28422ee13870ea1a4be8a672ae83badb55490378d28a75f8a8b9e, content: 'Vor einer äußeren Wendung werden routinemäßig Blutuntersuchungen durchgeführt und ein venöser Zugang...', meta: {'title': 'Äußere Wendung.md', 'source_id': 'b18da279-2022-47e8-a0be-835a32d2a215', 'page_number': 1, 'split_id': 6, 'split_idx_start': 1567}, embedding: vector of size 2560),\n",
       " Document(id=215457cbeff81b5de998cf1678d56077669137750867441897e3e1c44d0cbe3f, content: 'Diese Voruntersuchungen sind wichtig, um die Sicherheit von Mutter und Kind zu gewährleisten und mög...', meta: {'title': 'Äußere Wendung.md', 'source_id': 'b18da279-2022-47e8-a0be-835a32d2a215', 'page_number': 1, 'split_id': 8, 'split_idx_start': 2134}, embedding: vector of size 2560),\n",
       " Document(id=96386b2440dffcbde6bd0124ae9d8f219c19bed1184c36b4e806eb04ebc6be43, content: 'Diese Voruntersuchungen umfassen Ultraschall, CTG und ggf. Doppler-Sonografie, um die Position des K...', meta: {'title': 'Äußere Wendung.md', 'source_id': 'b18da279-2022-47e8-a0be-835a32d2a215', 'page_number': 1, 'split_id': 10, 'split_idx_start': 2679}, embedding: vector of size 2560),\n",
       " Document(id=a6eaa25e50934c350b2b395628ebe3f076838871a77acd982e8be2fd2d8ff3d2, content: 'Eine rückenmarksnahe Betäubung betäubt den Unterleib, während Lachgas eine schmerzlindernde Wirkung ...', meta: {'title': 'Äußere Wendung.md', 'source_id': 'b18da279-2022-47e8-a0be-835a32d2a215', 'page_number': 1, 'split_id': 12, 'split_idx_start': 2988}, embedding: vector of size 2560),\n",
       " Document(id=42e5316808b9457eed1b32ec3d3a591b2be1d91430b7fdd213c684ba874f2175, content: 'Die Ärztin/der Arzt tastet also die Position des Kindes ab und übt gezielten Druck aus, um es in die...', meta: {'title': 'Äußere Wendung.md', 'source_id': 'b18da279-2022-47e8-a0be-835a32d2a215', 'page_number': 1, 'split_id': 14, 'split_idx_start': 3218}, embedding: vector of size 2560),\n",
       " Document(id=d57edef06e2158825e2e23557f8826f8b4a4fea2091878bc5d9e48c2949cec59, content: 'Dieser Druck entsteht durch die manuellen Bewegungen der Ärztin oder des Arztes, die versucht, das B...', meta: {'title': 'Äußere Wendung.md', 'source_id': 'b18da279-2022-47e8-a0be-835a32d2a215', 'page_number': 1, 'split_id': 16, 'split_idx_start': 3756}, embedding: vector of size 2560),\n",
       " Document(id=064c993dac0bcf7ec2a09eb03b3a873d04a4752cc0f26469cb321f465315c187, content: 'Ein CTG (Kardiotokogramm) ist eine Überwachung der kindlichen Herztöne und Wehentätigkeit. Ein Bauch...', meta: {'title': 'Äußere Wendung.md', 'source_id': 'b18da279-2022-47e8-a0be-835a32d2a215', 'page_number': 1, 'split_id': 18, 'split_idx_start': 3879}, embedding: vector of size 2560),\n",
       " Document(id=3c0694058b2aa334b287de4b8ab9d4f1895e8ae0d706251205684ae55405c264, content: 'Diese Schwangerschaftswochen sind gewählt, weil das Kind in dieser Zeit noch Platz hat, sich zu dreh...', meta: {'title': 'Äußere Wendung.md', 'source_id': 'b18da279-2022-47e8-a0be-835a32d2a215', 'page_number': 1, 'split_id': 20, 'split_idx_start': 4174}, embedding: vector of size 2560),\n",
       " Document(id=18e24584f30e4cd3e72779b47226ce8f50a57a675221e27b841bda93bdc9c588, content: 'Diese Komplikationen sind selten, aber es ist wichtig, dass Sie sich der potenziellen Risiken bewuss...', meta: {'title': 'Äußere Wendung.md', 'source_id': 'b18da279-2022-47e8-a0be-835a32d2a215', 'page_number': 1, 'split_id': 22, 'split_idx_start': 4460}, embedding: vector of size 2560),\n",
       " Document(id=23e159d20cdb12b9a5b79f27b94edc5cbf21451c5d03da7f67b2e4c5fced500e, content: 'Ein Kaiserschnitt ist ein operativer Eingriff, bei dem das Baby durch einen Schnitt in der Bauchdeck...', meta: {'title': 'Äußere Wendung.md', 'source_id': 'b18da279-2022-47e8-a0be-835a32d2a215', 'page_number': 1, 'split_id': 24, 'split_idx_start': 4754}, embedding: vector of size 2560),\n",
       " Document(id=607855f86675c4f0affee700e7aad0183b9aeda7d365eaace3125df0af1b33b3, content: 'Ein Abfall der kindlichen Herzfrequenz während der äußeren Wendung ist eine mögliche Komplikation, d...', meta: {'title': 'Äußere Wendung.md', 'source_id': 'b18da279-2022-47e8-a0be-835a32d2a215', 'page_number': 1, 'split_id': 25, 'split_idx_start': 4995}, embedding: vector of size 2560),\n",
       " Document(id=a41ff4a69157e05be80371341c1d14bdf717f66c3ffab23a3b17d64a61ef2d8a, content: 'Vorzeitiger Blasensprung bedeutet, dass die Fruchthaut, die den Mutterleib schützt, vor dem Beginn d...', meta: {'title': 'Äußere Wendung.md', 'source_id': 'b18da279-2022-47e8-a0be-835a32d2a215', 'page_number': 1, 'split_id': 26, 'split_idx_start': 5163}, embedding: vector of size 2560),\n",
       " Document(id=1e73a7dfb9c3c0849d8d43c06c816ac77cd166eb3d9f2f56222e5bc19e63eb65, content: 'Wehenhemmer werden oft verabreicht, um vorzeitige Wehen zu vermeiden. Herzrasen ist eine unerwünscht...', meta: {'title': 'Äußere Wendung.md', 'source_id': 'b18da279-2022-47e8-a0be-835a32d2a215', 'page_number': 1, 'split_id': 27, 'split_idx_start': 5288}, embedding: vector of size 2560),\n",
       " Document(id=a111529f504eb32a31cc6d9d173bd7a37af2d880d56436e5defff5e672111cbc, content: 'Hierbei wird versucht, das Baby durch gezielte Druckausübung auf den Bauch der Mutter zu drehen. Sol...', meta: {'title': 'Äußere Wendung.md', 'source_id': 'b18da279-2022-47e8-a0be-835a32d2a215', 'page_number': 1, 'split_id': 28, 'split_idx_start': 5404}, embedding: vector of size 2560),\n",
       " Document(id=9305dbd34bfb0929c19055c03a00987a8e5e341677e3d382ced83613d024955a, content: '**Fetomaternale Transfusion** bezeichnet den ungewollten Transfer von Blut vom Fötus in den mütterli...', meta: {'title': 'Äußere Wendung.md', 'source_id': 'b18da279-2022-47e8-a0be-835a32d2a215', 'page_number': 1, 'split_id': 29, 'split_idx_start': 5524}, embedding: vector of size 2560),\n",
       " Document(id=438257ce55c195285a4146b5a008d97e1415bdbd93271656befce8a52ba50fe4, content: 'Ein Kreislaufschock ist ein lebensbedrohlicher Zustand, bei dem der Körper nicht mehr ausreichend mi...', meta: {'title': 'Äußere Wendung.md', 'source_id': 'b18da279-2022-47e8-a0be-835a32d2a215', 'page_number': 1, 'split_id': 30, 'split_idx_start': 5842}, embedding: vector of size 2560),\n",
       " Document(id=1f8168c22feb6759cbb5e297223ca8614ba893ddf62e4dad3e3ff0d35bfe0d92, content: 'Diese Schäden sind zwar selten, können aber durch den Druck während der Wendung oder durch andere me...', meta: {'title': 'Äußere Wendung.md', 'source_id': 'b18da279-2022-47e8-a0be-835a32d2a215', 'page_number': 1, 'split_id': 31, 'split_idx_start': 6031}, embedding: vector of size 2560),\n",
       " Document(id=5fa70895069442ab2fbc0da12efc2d8ab09bcb7effd444b1d4caafe21b851d46, content: 'Die Erfolgswahrscheinlichkeit liegt typischerweise zwischen 50% und 60%, kann aber je nach den indiv...', meta: {'title': 'Äußere Wendung.md', 'source_id': 'b18da279-2022-47e8-a0be-835a32d2a215', 'page_number': 1, 'split_id': 33, 'split_idx_start': 6214}, embedding: vector of size 2560),\n",
       " Document(id=4d1d12af2ea256ed37d1350fb7686072bc41e843e16379a26dc307d2efb1dc9c, content: 'Dies bedeutet, dass bei einem fehlgeschlagenen ersten Wendungsversuch nicht automatisch aufgegeben w...', meta: {'title': 'Äußere Wendung.md', 'source_id': 'b18da279-2022-47e8-a0be-835a32d2a215', 'page_number': 1, 'split_id': 35, 'split_idx_start': 6452}, embedding: vector of size 2560),\n",
       " Document(id=be96b82a37575f272ca193ed53d1b0305768de1625d8550170a226795795445c, content: 'Dies bedeutet, dass eine erfolgreiche Wendung nicht unbedingt die endgültige Lösung ist und weitere ...', meta: {'title': 'Äußere Wendung.md', 'source_id': 'b18da279-2022-47e8-a0be-835a32d2a215', 'page_number': 1, 'split_id': 37, 'split_idx_start': 6585}, embedding: vector of size 2560),\n",
       " Document(id=a1648c61e340b613bebf2c20a293b7e8627767373fd03dcfb639608ccd2d2216, content: '**Plazenta praevia** bedeutet, dass die Plazenta den Gebärmutterhals bedeckt, während **Vasa praevia...', meta: {'title': 'Äußere Wendung.md', 'source_id': 'b18da279-2022-47e8-a0be-835a32d2a215', 'page_number': 1, 'split_id': 39, 'split_idx_start': 6803}, embedding: vector of size 2560),\n",
       " Document(id=e56a259458afcc3fd582b6e20a3c1fbfb5c6df3900c0f2e2a1292842f201bbd7, content: '**Dopplerwerte** geben Aufschluss über die Blutversorgung des Kindes. **Vasa praevia** bezeichnet ei...', meta: {'title': 'Äußere Wendung.md', 'source_id': 'b18da279-2022-47e8-a0be-835a32d2a215', 'page_number': 1, 'split_id': 41, 'split_idx_start': 7029}, embedding: vector of size 2560),\n",
       " Document(id=4699a1ae0b8b2601ac47af884c7821000f47c80bbb79db22ec123269ba7b214d, content: 'Rhesus-negative Mütter haben eine andere Blutgruppe, die zu einer Reaktion des Immunsystems führen k...', meta: {'title': 'Äußere Wendung.md', 'source_id': 'b18da279-2022-47e8-a0be-835a32d2a215', 'page_number': 1, 'split_id': 43, 'split_idx_start': 7534}, embedding: vector of size 2560),\n",
       " Document(id=10b2fa2092dc72637e7e675ff68c90d585132de74ba3fd510f5cdc7fa6e12851, content: 'Der Mutterpass enthält wichtige Informationen über Ihre Schwangerschaft, wie z.B. Blutgruppe, Vorerk...', meta: {'title': 'Äußere Wendung.md', 'source_id': 'b18da279-2022-47e8-a0be-835a32d2a215', 'page_number': 1, 'split_id': 45, 'split_idx_start': 7864}, embedding: vector of size 2560),\n",
       " Document(id=e697be4e9341d7b49c96c1590f6e7c42e3f6072a42b55c2b90785814a284259a, content: 'Dies dient der Vorbereitung auf einen eventuellen Kaiserschnitt, der im Notfall durchgeführt werden ...', meta: {'title': 'Äußere Wendung.md', 'source_id': 'b18da279-2022-47e8-a0be-835a32d2a215', 'page_number': 1, 'split_id': 47, 'split_idx_start': 7937}, embedding: vector of size 2560),\n",
       " Document(id=7d85b306feaf08cf82475561686a9149e4542393ce515bd233b70ca5437378c5, content: 'Es gibt verschiedene Arten von Kaiserschnitten, die sich in ihrer Dringlichkeit unterscheiden: gepla...', meta: {'title': 'Kaiserschnitt.md', 'source_id': 'a561cc97-9c08-4581-8847-a7c866056712', 'page_number': 1, 'split_id': 0, 'split_idx_start': 0}, embedding: vector of size 2560),\n",
       " Document(id=75661f200ecfb10e2874b3792f2d818c307bb1a4f0ccad98ac474ceed0bc670a, content: 'Ein geplanter Kaiserschnitt wird im Voraus festgelegt und ist nicht durch eine Notfallsituation bedi...', meta: {'title': 'Kaiserschnitt.md', 'source_id': 'a561cc97-9c08-4581-8847-a7c866056712', 'page_number': 1, 'split_id': 2, 'split_idx_start': 438}, embedding: vector of size 2560),\n",
       " Document(id=53b95fccbb79a8483bcf9ad32be5c162f59b1cba7e2dfe0266fc2722a2fb18e6, content: 'Ein dringlicher Kaiserschnitt wird durchgeführt, wenn während der Geburt Komplikationen auftreten, d...', meta: {'title': 'Kaiserschnitt.md', 'source_id': 'a561cc97-9c08-4581-8847-a7c866056712', 'page_number': 1, 'split_id': 3, 'split_idx_start': 572}, embedding: vector of size 2560),\n",
       " Document(id=8546897046d6bb55894a9b0a21e54ecedc2b9eabc26fb0b097c721f77692bb86, content: 'Ein Notfallkaiserschnitt ist die dringlichste Form und wird durchgeführt, wenn Mutter oder Kind in u...', meta: {'title': 'Kaiserschnitt.md', 'source_id': 'a561cc97-9c08-4581-8847-a7c866056712', 'page_number': 1, 'split_id': 4, 'split_idx_start': 733}, embedding: vector of size 2560),\n",
       " Document(id=8a69139e205071810d3b71548a742f5f1d2e6bc662288f71de48ab7b4d760069, content: 'Eine Beckenendlage bedeutet, dass das Baby mit den Füßen oder dem Gesäß nach unten liegt. Dies kann ...', meta: {'title': 'Kaiserschnitt.md', 'source_id': 'a561cc97-9c08-4581-8847-a7c866056712', 'page_number': 1, 'split_id': 6, 'split_idx_start': 937}, embedding: vector of size 2560),\n",
       " Document(id=3eb5ab27d39bced36ea4b6ccda0b2ec13af03e11b4ee84131452101dec480ed1, content: 'Dies bedeutet, dass Sie während des Kaiserschnitts wach sein und das Baby kommen sehen können, oder ...', meta: {'title': 'Kaiserschnitt.md', 'source_id': 'a561cc97-9c08-4581-8847-a7c866056712', 'page_number': 1, 'split_id': 8, 'split_idx_start': 1410}, embedding: vector of size 2560),\n",
       " Document(id=f960e3bc37c76e62ea70e5fa1138e19f3fc99fa168ab394f1d836e6db42fa25c, content: 'Ein Katheter dient dazu, die Blase vor dem Eingriff zu entleeren, um den operativen Eingriff zu erle...', meta: {'title': 'Kaiserschnitt.md', 'source_id': 'a561cc97-9c08-4581-8847-a7c866056712', 'page_number': 1, 'split_id': 10, 'split_idx_start': 1606}, embedding: vector of size 2560),\n",
       " Document(id=276593537d1de90e630b181b6654fbbd246fdd41364e4cb4bad98081cb29b48e, content: 'Antibiotika werden vor dem Kaiserschnitt verabreicht, um das Risiko einer Infektion an der Operation...', meta: {'title': 'Kaiserschnitt.md', 'source_id': 'a561cc97-9c08-4581-8847-a7c866056712', 'page_number': 1, 'split_id': 12, 'split_idx_start': 1794}, embedding: vector of size 2560),\n",
       " Document(id=df69e293793a99c50d03d6d3d8eb2b4405cfa5c7f0d6329ca9396792495a6b04, content: 'Um die Heilung zu fördern und Komplikationen zu reduzieren, wird das Gewebe während des Eingriffs na...', meta: {'title': 'Kaiserschnitt.md', 'source_id': 'a561cc97-9c08-4581-8847-a7c866056712', 'page_number': 1, 'split_id': 14, 'split_idx_start': 1876}, embedding: vector of size 2560),\n",
       " Document(id=7cecd7209d555860085bab7f91f67962192bbdc896a3ff2f5417f2b9af3bf25a, content: 'Drainagen sind Schläuche, die in die Wunde gelegt werden, um Flüssigkeit abzuleiten. Sie werden nur ...', meta: {'title': 'Kaiserschnitt.md', 'source_id': 'a561cc97-9c08-4581-8847-a7c866056712', 'page_number': 1, 'split_id': 16, 'split_idx_start': 2460}, embedding: vector of size 2560),\n",
       " Document(id=4af9c5015b6271792c888061af8be3df5e4aae273e54d63f35bd068ef95e52a5, content: 'Um das Baby zu entbinden, kann es notwendig sein, den Kopf des Kindes während des Eingriffs zurückzu...', meta: {'title': 'Kaiserschnitt.md', 'source_id': 'a561cc97-9c08-4581-8847-a7c866056712', 'page_number': 1, 'split_id': 18, 'split_idx_start': 2627}, embedding: vector of size 2560),\n",
       " Document(id=e4589af7ea8201dfcc7d834beb5e875870d13e772eb080487f64fed86106e9f4, content: 'Wenn der Muttermund (Gebärmutterhals) zum Zeitpunkt des Kaiserschnitts geschlossen ist, kann er währ...', meta: {'title': 'Kaiserschnitt.md', 'source_id': 'a561cc97-9c08-4581-8847-a7c866056712', 'page_number': 1, 'split_id': 20, 'split_idx_start': 3053}, embedding: vector of size 2560),\n",
       " Document(id=4fd53aa1f81f0c669d0685ebb8208fbdb89e6dcde76aff98137d6b680819e25d, content: 'Bei Komplikationen wie einer schwerlösbar Plazenta oder unkontrollierbaren Blutungen kann eine Hyste...', meta: {'title': 'Kaiserschnitt.md', 'source_id': 'a561cc97-9c08-4581-8847-a7c866056712', 'page_number': 1, 'split_id': 22, 'split_idx_start': 3232}, embedding: vector of size 2560),\n",
       " Document(id=7dcf1afd8141cdbbd186c80f0af57d2cd3509a11427d44255c5fcbc2033a6157, content: 'Diese Maßnahme verhindert, dass die Mutter in späteren Schwangerschaften Antikörper gegen das Rhesus...', meta: {'title': 'Kaiserschnitt.md', 'source_id': 'a561cc97-9c08-4581-8847-a7c866056712', 'page_number': 1, 'split_id': 24, 'split_idx_start': 3764}, embedding: vector of size 2560),\n",
       " Document(id=1d0fb36808af3702c6e241c13381386d08d33de1dae7e0a3df54d79b0ed83674, content: 'Diese Kombination ist möglich, sollte aber gut überlegt sein, da eine Sterilisation eine dauerhafte ...', meta: {'title': 'Kaiserschnitt.md', 'source_id': 'a561cc97-9c08-4581-8847-a7c866056712', 'page_number': 1, 'split_id': 26, 'split_idx_start': 4018}, embedding: vector of size 2560),\n",
       " Document(id=e2470fa5236713d337d7a877ee5b7536936185b77c440e549a2a874088a94552, content: 'Dieser Abschnitt listet mögliche Komplikationen auf, die bei einem Kaiserschnitt auftreten können. D...', meta: {'title': 'Kaiserschnitt.md', 'source_id': 'a561cc97-9c08-4581-8847-a7c866056712', 'page_number': 1, 'split_id': 28, 'split_idx_start': 4382}, embedding: vector of size 2560),\n",
       " Document(id=5e04b80badd5741ee5514c0c853f3a313fcb6f1eef9c4ca113e3846bb6408579, content: 'Bei der Operation können Blutgefäße, Harnblase, Darm oder Magen verletzt werden. Dies kann weitere E...', meta: {'title': 'Kaiserschnitt.md', 'source_id': 'a561cc97-9c08-4581-8847-a7c866056712', 'page_number': 1, 'split_id': 30, 'split_idx_start': 4713}, embedding: vector of size 2560),\n",
       " Document(id=84cd90b2faf13a6c57215f0b9257885fa176b4936e8ef2d0d390af6edab56bd9, content: 'Diese Verletzungen können zusätzliche Eingriffe erfordern, um die Schäden zu beheben und die Funktio...', meta: {'title': 'Kaiserschnitt.md', 'source_id': 'a561cc97-9c08-4581-8847-a7c866056712', 'page_number': 1, 'split_id': 31, 'split_idx_start': 4747}, embedding: vector of size 2560),\n",
       " Document(id=33df56bcb11b6f36757e5a5d7a0176af364b531ef920ae61ee7ba850afe2a8c9, content: 'Massive Blutverluste können eine Bluttransfusion erforderlich machen. In besonderen Fällen kann eine...', meta: {'title': 'Kaiserschnitt.md', 'source_id': 'a561cc97-9c08-4581-8847-a7c866056712', 'page_number': 1, 'split_id': 33, 'split_idx_start': 5086}, embedding: vector of size 2560),\n",
       " Document(id=8dcba8eb320d47a9fa5b04d0ca8161dbca81fb5c0b54f1b4a96acffb2c24a3f3, content: 'Bei starken Blutverlusten kann eine Bluttransfusion notwendig werden. In seltenen Fällen, beispielsw...', meta: {'title': 'Kaiserschnitt.md', 'source_id': 'a561cc97-9c08-4581-8847-a7c866056712', 'page_number': 1, 'split_id': 34, 'split_idx_start': 5123}, embedding: vector of size 2560),\n",
       " Document(id=7f6873637c26784a2e00c76670cbaf3bc7039a625d9a49784a6527f7efaae74e, content: 'Wenn sich die Gebärmutter nach der Entbindung nicht ausreichend zusammenzieht, kann dies zu starkem ...', meta: {'title': 'Kaiserschnitt.md', 'source_id': 'a561cc97-9c08-4581-8847-a7c866056712', 'page_number': 1, 'split_id': 36, 'split_idx_start': 5596}, embedding: vector of size 2560),\n",
       " Document(id=c168f9e68347076d2f8d964631a9945a8871a4b49f2db114313fdcdb10ce6bb4, content: 'Wenn die Gebärmutter sich nach der Entbindung nicht ausreichend zusammenzieht (Atonie), kann dies zu...', meta: {'title': 'Kaiserschnitt.md', 'source_id': 'a561cc97-9c08-4581-8847-a7c866056712', 'page_number': 1, 'split_id': 37, 'split_idx_start': 5642}, embedding: vector of size 2560),\n",
       " Document(id=6fb21e312b126706c794a76119894d1de26ad87eb5b23f8aef4e5993469c97ac, content: 'Eine vorübergehende Störung der Blasenentleerung ist nach einem Kaiserschnitt möglich und wird meist...', meta: {'title': 'Kaiserschnitt.md', 'source_id': 'a561cc97-9c08-4581-8847-a7c866056712', 'page_number': 1, 'split_id': 39, 'split_idx_start': 5995}, embedding: vector of size 2560),\n",
       " Document(id=bee17e57498b1853972551758ccd1787b8d8ca3c33231aa3719df5c1077304be, content: 'Ein Katheter wird nach dem Kaiserschnitt oft gelegt, um die Blase zu entleeren. Sollte dieser länger...', meta: {'title': 'Kaiserschnitt.md', 'source_id': 'a561cc97-9c08-4581-8847-a7c866056712', 'page_number': 1, 'split_id': 40, 'split_idx_start': 6021}, embedding: vector of size 2560),\n",
       " Document(id=655988e6cec91e59acc1315cb704a3d2a427cc8087e06b30f07537cf481cfdc9, content: 'Infektionen können die Gebärmutter, Harnwege, das Bauchfell oder die Lunge betreffen. Diese werden m...', meta: {'title': 'Kaiserschnitt.md', 'source_id': 'a561cc97-9c08-4581-8847-a7c866056712', 'page_number': 1, 'split_id': 42, 'split_idx_start': 6261}, embedding: vector of size 2560),\n",
       " Document(id=1989c198b556e840490593ce29832a6753dd667b8927c241676bcc503664a8aa, content: 'Eine Sepsis ist eine schwere, lebensbedrohliche Reaktion des Körpers auf eine Infektion. Sie entsteh...', meta: {'title': 'Kaiserschnitt.md', 'source_id': 'a561cc97-9c08-4581-8847-a7c866056712', 'page_number': 1, 'split_id': 43, 'split_idx_start': 6274}, embedding: vector of size 2560),\n",
       " Document(id=8926de03893ab8697bed4bdda1ad9032b1da8e85284b864a1ae31e89ba87687f, content: 'Bei ausgedehnter Gebärmutter- oder Bauchraumentzündung kann eine erneute Operation notwendig sein, g...', meta: {'title': 'Kaiserschnitt.md', 'source_id': 'a561cc97-9c08-4581-8847-a7c866056712', 'page_number': 1, 'split_id': 45, 'split_idx_start': 6576}, embedding: vector of size 2560),\n",
       " Document(id=0430f843a11aa205a1a288c814dad12f25ccb8ed1e45a862e14d0b51c5b09a3f, content: 'Dies bedeutet, dass die Frau nach dem Eingriff unfruchtbar wird und Symptome erlebt, die denen der n...', meta: {'title': 'Kaiserschnitt.md', 'source_id': 'a561cc97-9c08-4581-8847-a7c866056712', 'page_number': 1, 'split_id': 46, 'split_idx_start': 6612}, embedding: vector of size 2560),\n",
       " Document(id=ce8211c6bfffc86b91f9ba5ab6c919548b61dcb41e1ac613460152a63b53c593, content: 'Wundheilungsstörungen können zu Infektionen, Narbenbrüchen oder Narbenendometriose führen. Diese Kom...', meta: {'title': 'Kaiserschnitt.md', 'source_id': 'a561cc97-9c08-4581-8847-a7c866056712', 'page_number': 1, 'split_id': 48, 'split_idx_start': 6879}, embedding: vector of size 2560),\n",
       " Document(id=8882e891cc1b275a966aaac6093d2bbbd42e75f6d7170197ab987a3bc30ff573, content: 'Narbenendometriose entsteht, wenn Zellen der Gebärmutterschleimhaut in der OP-Narbe oder im Bauchrau...', meta: {'title': 'Kaiserschnitt.md', 'source_id': 'a561cc97-9c08-4581-8847-a7c866056712', 'page_number': 1, 'split_id': 49, 'split_idx_start': 6902}, embedding: vector of size 2560),\n",
       " Document(id=80ea195f7b82ae3be8846a73d6a5adfab8950e2619ced3a36e54df14ae057afa, content: 'Eileiterschädigungen können in seltenen Fällen auftreten, wenn Entzündungen die Eileiter verkleben, ...', meta: {'title': 'Kaiserschnitt.md', 'source_id': 'a561cc97-9c08-4581-8847-a7c866056712', 'page_number': 1, 'split_id': 51, 'split_idx_start': 7165}, embedding: vector of size 2560),\n",
       " Document(id=b940e843435b02f595236f117b450b783f1e36e1010b3b01ee7e6d3b4d20f07d, content: 'Eileiterschwangerschaften entstehen, wenn sich eine befruchtete Eizelle außerhalb der Gebärmutter, m...', meta: {'title': 'Kaiserschnitt.md', 'source_id': 'a561cc97-9c08-4581-8847-a7c866056712', 'page_number': 1, 'split_id': 52, 'split_idx_start': 7187}, embedding: vector of size 2560),\n",
       " Document(id=2144d9944e8b18bee36f363d667fbb1b4b0d01bb3ecb9beebc4b6317f7c7d52e, content: 'Durch Verwachsungen im Bauchraum kann – auch Jahre später – ein Darmverschluss entstehen. Hier kann ...', meta: {'title': 'Kaiserschnitt.md', 'source_id': 'a561cc97-9c08-4581-8847-a7c866056712', 'page_number': 1, 'split_id': 54, 'split_idx_start': 7336}, embedding: vector of size 2560),\n",
       " Document(id=5bfdf8f2aef44e69487cf391f4d7817180b1f56fc6239446f13d6ecd8cbd3d15, content: 'Verwachsungen sind abnorme Bindegewebsbildungen, die nach Operationen entstehen können. Sie können O...', meta: {'title': 'Kaiserschnitt.md', 'source_id': 'a561cc97-9c08-4581-8847-a7c866056712', 'page_number': 1, 'split_id': 55, 'split_idx_start': 7352}, embedding: vector of size 2560),\n",
       " Document(id=5b7a671c11b2fa45e30330cb49eb2d064ce78aa2efbc3aa3bb428b662a55c555, content: 'Nach der Operation kann es zur Bildung von Blutgerinnseln kommen, die in die Lunge gelangen und eine...', meta: {'title': 'Kaiserschnitt.md', 'source_id': 'a561cc97-9c08-4581-8847-a7c866056712', 'page_number': 1, 'split_id': 57, 'split_idx_start': 7492}, embedding: vector of size 2560),\n",
       " Document(id=3cb0fc899bcad5dcc5dbb8c79a4a74caa88e55e7f6d2a625a14023672016e768, content: 'Blutgerinnsel können sich in den Venen bilden und bei einer Lungenembolie lebensbedrohlich werden. U...', meta: {'title': 'Kaiserschnitt.md', 'source_id': 'a561cc97-9c08-4581-8847-a7c866056712', 'page_number': 1, 'split_id': 58, 'split_idx_start': 7515}, embedding: vector of size 2560),\n",
       " Document(id=3682f9c6a5b90b6abdd5a674c5fa86e59690dfa816b9fc1a3e51c67fea88adf7, content: 'Eine Fruchtwasserembolie ist ein sehr seltenes, aber lebensbedrohliches Ereignis, bei dem Fruchtwass...', meta: {'title': 'Kaiserschnitt.md', 'source_id': 'a561cc97-9c08-4581-8847-a7c866056712', 'page_number': 1, 'split_id': 60, 'split_idx_start': 7874}, embedding: vector of size 2560),\n",
       " Document(id=3230c5bca28aae1a3b985d2479b729758051c9a6815fce10b7d4f4c97ea21597, content: 'Dies wird als Fruchtwasserembolie bezeichnet und ist ein medizinischer Notfall, der sofortige und in...', meta: {'title': 'Kaiserschnitt.md', 'source_id': 'a561cc97-9c08-4581-8847-a7c866056712', 'page_number': 1, 'split_id': 61, 'split_idx_start': 7895}, embedding: vector of size 2560),\n",
       " Document(id=0c39834c32948913b0c17c83ba5da8c7136923d888c9e7c6f50cbb6ea5c59a48, content: 'Durch Lagerung während des Eingriffs oder begleitende Maßnahmen (z.B. Einspritzungen) kann es zu Ner...', meta: {'title': 'Kaiserschnitt.md', 'source_id': 'a561cc97-9c08-4581-8847-a7c866056712', 'page_number': 1, 'split_id': 63, 'split_idx_start': 8067}, embedding: vector of size 2560),\n",
       " Document(id=e677653e1a076388a4f349b10ddecd4d633fa61096f54af8a64d7fcff248a658, content: 'Diese Komplikationen sind selten, entstehen aber durch Druck oder Reizung während des Eingriffs. Sie...', meta: {'title': 'Kaiserschnitt.md', 'source_id': 'a561cc97-9c08-4581-8847-a7c866056712', 'page_number': 1, 'split_id': 64, 'split_idx_start': 8108}, embedding: vector of size 2560),\n",
       " Document(id=6bbb5e5e21112d85312564671abe46053df9f8061353c4d1c36e1647a9657e19, content: 'Reaktionen auf Medikamente, Latex oder Desinfektionsmittel können im Extremfall zu einem akuten Krei...', meta: {'title': 'Kaiserschnitt.md', 'source_id': 'a561cc97-9c08-4581-8847-a7c866056712', 'page_number': 1, 'split_id': 66, 'split_idx_start': 8384}, embedding: vector of size 2560),\n",
       " Document(id=cb30dcda93dcd913ccb89d9ed663f01292414148d57571a174512730dcfb8434, content: 'Allergische Reaktionen können schwerwiegend sein und erfordern eine sofortige Behandlung. Mögliche A...', meta: {'title': 'Kaiserschnitt.md', 'source_id': 'a561cc97-9c08-4581-8847-a7c866056712', 'page_number': 1, 'split_id': 67, 'split_idx_start': 8419}, embedding: vector of size 2560),\n",
       " Document(id=e68b6c4525ca1dc70b7d7f929bbce628a64c4909b1c63a5c15f74e075c3794db, content: 'Narbenendometriose entsteht, wenn Zellen der Gebärmutterschleimhaut in der OP-Narbe oder im Bauchrau...', meta: {'title': 'Kaiserschnitt.md', 'source_id': 'a561cc97-9c08-4581-8847-a7c866056712', 'page_number': 1, 'split_id': 69, 'split_idx_start': 8633}, embedding: vector of size 2560),\n",
       " Document(id=b4a0ce0defe3903750f3565f4520637032c0349b8dc5d0c953b77c8a91499bb1, content: 'Dies nennt man Narbenendometriose und kann zu Schmerzen und Fruchtbarkeitsproblemen führen. Die Zell...', meta: {'title': 'Kaiserschnitt.md', 'source_id': 'a561cc97-9c08-4581-8847-a7c866056712', 'page_number': 1, 'split_id': 70, 'split_idx_start': 8653}, embedding: vector of size 2560),\n",
       " Document(id=d98c34229dc779d3a8e7f32ee036d785f73bc64030589e132ae487b1daf71d10, content: 'Durch die Schwangerschaft können die geraden Bauchmuskeln auseinanderweichen (Rektusdiastase). In ma...', meta: {'title': 'Kaiserschnitt.md', 'source_id': 'a561cc97-9c08-4581-8847-a7c866056712', 'page_number': 1, 'split_id': 72, 'split_idx_start': 8833}, embedding: vector of size 2560),\n",
       " Document(id=f7592782cbcd7188b582b48101886fac12335cf2e89fcc2cb7e82326e83afe62, content: 'Ein Narbenbruch entsteht, wenn die Bauchmuskeln sich nach der Schwangerschaft nicht vollständig schl...', meta: {'title': 'Kaiserschnitt.md', 'source_id': 'a561cc97-9c08-4581-8847-a7c866056712', 'page_number': 1, 'split_id': 73, 'split_idx_start': 8865}, embedding: vector of size 2560),\n",
       " Document(id=3f3850b7eaf5ce208a32c2681f191d3ce0a44f460093bb2297459846316bb62c, content: 'Diese Risiken umfassen Anpassungsstörungen nach der Geburt, Geburtsverletzungen und möglicherweise l...', meta: {'title': 'Kaiserschnitt.md', 'source_id': 'a561cc97-9c08-4581-8847-a7c866056712', 'page_number': 1, 'split_id': 75, 'split_idx_start': 9080}, embedding: vector of size 2560),\n",
       " Document(id=ea6cea88ce3c6c0d26e52f2cc88bfa124c4f60805e21294d70b85a11c9289a6f, content: 'Kinder, die per Kaiserschnitt geboren werden, zeigen häufiger vorübergehende Probleme bei der Umstel...', meta: {'title': 'Kaiserschnitt.md', 'source_id': 'a561cc97-9c08-4581-8847-a7c866056712', 'page_number': 1, 'split_id': 77, 'split_idx_start': 9241}, embedding: vector of size 2560),\n",
       " Document(id=d71a771caad9068297bdd24e0cf86591360036ea5cffd32147f8a930a87c0c85, content: 'Kinder, die per Kaiserschnitt geboren werden, können Anpassungsschwierigkeiten haben, da sie den nat...', meta: {'title': 'Kaiserschnitt.md', 'source_id': 'a561cc97-9c08-4581-8847-a7c866056712', 'page_number': 1, 'split_id': 78, 'split_idx_start': 9278}, embedding: vector of size 2560),\n",
       " Document(id=aad27ea4ab65aef49810780149bd2b14c0032964800792498774bd3561f87455, content: 'Geburtsverletzungen können sowohl beim Kind als auch bei der Mutter auftreten. Beim Kind können Druc...', meta: {'title': 'Kaiserschnitt.md', 'source_id': 'a561cc97-9c08-4581-8847-a7c866056712', 'page_number': 1, 'split_id': 80, 'split_idx_start': 9680}, embedding: vector of size 2560),\n",
       " Document(id=4e8da1d294a524aea3df17b583f7d669e2dcd75246902c4e6be6612347189d05, content: 'Diese Verletzungen entstehen während des Kaiserschnitts, wenn das Kind nicht optimal positioniert is...', meta: {'title': 'Kaiserschnitt.md', 'source_id': 'a561cc97-9c08-4581-8847-a7c866056712', 'page_number': 1, 'split_id': 81, 'split_idx_start': 9701}, embedding: vector of size 2560),\n",
       " Document(id=34e1e6dd9fbc4d1f51b00259be1fbf72e567c6451b985aecdc40349074cb828b, content: 'Beim Kaiserschnitt kann es sehr selten zu kleinen Verletzungen der kindlichen Haut kommen, die meist...', meta: {'title': 'Kaiserschnitt.md', 'source_id': 'a561cc97-9c08-4581-8847-a7c866056712', 'page_number': 1, 'split_id': 83, 'split_idx_start': 9970}, embedding: vector of size 2560),\n",
       " Document(id=c0c99af0e856a474fedd6df79369867da129abeb4091bf14c0f19763311aaa79, content: 'Diese Verletzungen entstehen während des Kaiserschnitts und sind selten. Sollte eine Naht notwendig ...', meta: {'title': 'Kaiserschnitt.md', 'source_id': 'a561cc97-9c08-4581-8847-a7c866056712', 'page_number': 1, 'split_id': 84, 'split_idx_start': 9991}, embedding: vector of size 2560),\n",
       " Document(id=e0351b8aef90cf2f3340e89d8095657cdeed41eba77e9d594d3e565fa5eddc5d, content: 'Auch bei einem Kaiserschnitt kann unter Umständen eine Saugglocke oder Zange zum Einsatz kommen, um ...', meta: {'title': 'Kaiserschnitt.md', 'source_id': 'a561cc97-9c08-4581-8847-a7c866056712', 'page_number': 1, 'split_id': 86, 'split_idx_start': 10214}, embedding: vector of size 2560),\n",
       " Document(id=0db7dae4237a6435ddd1421ea067b6b14eb8a0a0a52f7037cebb10e936628043, content: 'Diese Instrumente werden nur dann eingesetzt, wenn das Baby während des Kaiserschnitts nicht auf nat...', meta: {'title': 'Kaiserschnitt.md', 'source_id': 'a561cc97-9c08-4581-8847-a7c866056712', 'page_number': 1, 'split_id': 87, 'split_idx_start': 10249}, embedding: vector of size 2560),\n",
       " Document(id=b181d154e364f51b993c892c46b693d9ac8807ba3d1ec1d6c7b3580d3a0ed303, content: 'Es gibt Hinweise darauf, dass per Kaiserschnitt geborene Kinder möglicherweise häufiger an bestimmte...', meta: {'title': 'Kaiserschnitt.md', 'source_id': 'a561cc97-9c08-4581-8847-a7c866056712', 'page_number': 1, 'split_id': 89, 'split_idx_start': 10473}, embedding: vector of size 2560),\n",
       " Document(id=9b4d7887e2ddb5ffea8d8ddb9c4d2b867025b261dd41758e27105ee29aee5b3f, content: 'Obwohl Kaiserschnitte häufig durchgeführt werden, gibt es Hinweise auf mögliche langfristige Auswirk...', meta: {'title': 'Kaiserschnitt.md', 'source_id': 'a561cc97-9c08-4581-8847-a7c866056712', 'page_number': 1, 'split_id': 90, 'split_idx_start': 10513}, embedding: vector of size 2560),\n",
       " Document(id=6ee916835707bcc25c9071b98219d079b0d6b1e4ba4a41583f4ac23c150de56e, content: 'Nach einem Kaiserschnitt ist eine weitere Schwangerschaft und Geburt möglich, wobei die Entscheidung...', meta: {'title': 'Kaiserschnitt.md', 'source_id': 'a561cc97-9c08-4581-8847-a7c866056712', 'page_number': 1, 'split_id': 92, 'split_idx_start': 10836}, embedding: vector of size 2560),\n",
       " Document(id=fc4b2fc0b031364b77a434dfcd0237d9add70be5d0e4217cf3311cb93068e77e, content: 'Für eine vaginale Geburt nach vorangegangenem Kaiserschnitt müssen bestimmte Voraussetzungen erfüllt...', meta: {'title': 'Kaiserschnitt.md', 'source_id': 'a561cc97-9c08-4581-8847-a7c866056712', 'page_number': 1, 'split_id': 94, 'split_idx_start': 11141}, embedding: vector of size 2560),\n",
       " Document(id=62807e81ecd010065a5f66a73c9d28b6e0bf7bc13386073c73b3b63c43ba35b6, content: 'Eine vaginale Geburt nach Kaiserschnitt (Spontan-Kaiserschnitt) ist möglich, erfordert aber bestimmt...', meta: {'title': 'Kaiserschnitt.md', 'source_id': 'a561cc97-9c08-4581-8847-a7c866056712', 'page_number': 1, 'split_id': 95, 'split_idx_start': 11175}, embedding: vector of size 2560),\n",
       " Document(id=bb3d8543fffc4af8aab8c154009ad8334e8709d682fd573dd3f7bf5910d3fe63, content: 'Ein Gebärmutterriss ist das Öffnen der alten Kaiserschnittnarbe während einer nachfolgenden Geburt. ...', meta: {'title': 'Kaiserschnitt.md', 'source_id': 'a561cc97-9c08-4581-8847-a7c866056712', 'page_number': 1, 'split_id': 97, 'split_idx_start': 11581}, embedding: vector of size 2560),\n",
       " Document(id=a9c6ce3e6b9ef546b5e7f6bcdc5aabaf2725fe0ae2d4a0a54f82498c0a92c5c4, content: 'Dies nennt man Gebärmutterriss (Uterusruptur) und ist ein Notfall, der sofortige medizinische Hilfe ...', meta: {'title': 'Kaiserschnitt.md', 'source_id': 'a561cc97-9c08-4581-8847-a7c866056712', 'page_number': 1, 'split_id': 98, 'split_idx_start': 11613}, embedding: vector of size 2560),\n",
       " Document(id=ba0e5e9dafff5650a0fdf4e7bbea9cc4b47c7f3c2f83dea325f987be27f0af4a, content: 'Dies bedeutet, dass bei einer Frau, die bereits mehrere Kaiserschnitte hatte, das Risiko für Komplik...', meta: {'title': 'Kaiserschnitt.md', 'source_id': 'a561cc97-9c08-4581-8847-a7c866056712', 'page_number': 1, 'split_id': 100, 'split_idx_start': 11857}, embedding: vector of size 2560),\n",
       " Document(id=8d5d438bc21a571b68f285be7cf0af0c2466c15c32bcfdd7bca8c1f7facf9dab, content: 'Eine Erweiterung der Gebärmutterschnittführung bedeutet, dass der ursprüngliche, quer verlaufende Sc...', meta: {'title': 'Kaiserschnitt.md', 'source_id': 'a561cc97-9c08-4581-8847-a7c866056712', 'page_number': 1, 'split_id': 101, 'split_idx_start': 11900}, embedding: vector of size 2560),\n",
       " Document(id=bdd4138de9f8bc39d7432f4bf8466f1765be16908252cae323900653679fd9f9, content: 'Dies bedeutet, dass ein zu kurzer Zeitraum zwischen zwei Kaiserschnitten das Risiko eines Gebärmutte...', meta: {'title': 'Kaiserschnitt.md', 'source_id': 'a561cc97-9c08-4581-8847-a7c866056712', 'page_number': 1, 'split_id': 102, 'split_idx_start': 11973}, embedding: vector of size 2560),\n",
       " Document(id=3cd9fd0c6e13a9c2144951a38f80a4a1c228a93601f8692a3f2f2011a155b88b, content: 'Geburtseinleitung erhöht das Risiko eines Risses der alten Kaiserschnittnarbe. Dies stellt einen Not...', meta: {'title': 'Kaiserschnitt.md', 'source_id': 'a561cc97-9c08-4581-8847-a7c866056712', 'page_number': 1, 'split_id': 103, 'split_idx_start': 12023}, embedding: vector of size 2560),\n",
       " Document(id=9885e3a4a19b04cfbd9c9cf1d1a265ece748fb0a43b5a01fe47bee1a50f6c61a, content: 'Dieser Satz bezieht sich auf die Möglichkeit einer Spontangeburt nach Kaiserschnitt.  Dabei werden b...', meta: {'title': 'Kaiserschnitt.md', 'source_id': 'a561cc97-9c08-4581-8847-a7c866056712', 'page_number': 1, 'split_id': 105, 'split_idx_start': 12077}, embedding: vector of size 2560),\n",
       " Document(id=29741c05f713e5ae14f398919d5ee43615ac536485f5e7d1484c50c271b415b5, content: 'Plazentationsstörungen treten häufiger nach einem Kaiserschnitt auf. Dazu gehören beispielsweise ein...', meta: {'title': 'Kaiserschnitt.md', 'source_id': 'a561cc97-9c08-4581-8847-a7c866056712', 'page_number': 1, 'split_id': 107, 'split_idx_start': 12144}, embedding: vector of size 2560),\n",
       " Document(id=ba2a83e7ec1ad986062b3b901985ac074bfee62d946daa54b5948bd9c9b5bbc9, content: 'Dies umfasst eine Vorlage der Plazenta vor dem Muttermund (Placenta praevia), eine Verwachsung der P...', meta: {'title': 'Kaiserschnitt.md', 'source_id': 'a561cc97-9c08-4581-8847-a7c866056712', 'page_number': 1, 'split_id': 108, 'split_idx_start': 12168}, embedding: vector of size 2560),\n",
       " Document(id=941903a71c3d92b7d8e461f98de5d1b1248bfd65beb93b4da59dc021694c2ef3, content: '**Placenta praevia** bedeutet, dass die Plazenta den Gebärmutterhals bedeckt. Dies kann zu Blutungen...', meta: {'title': 'Kaiserschnitt.md', 'source_id': 'a561cc97-9c08-4581-8847-a7c866056712', 'page_number': 1, 'split_id': 110, 'split_idx_start': 12263}, embedding: vector of size 2560),\n",
       " Document(id=fedd557b23e17b39e6361b0b663aa8bc4481895b6c3d0ca6c47e1a8486671f93, content: 'Dies kann zu Blutungen und Frühgeburten führen und erfordert oft einen erneuten Kaiserschnitt. Die g...', meta: {'title': 'Kaiserschnitt.md', 'source_id': 'a561cc97-9c08-4581-8847-a7c866056712', 'page_number': 1, 'split_id': 111, 'split_idx_start': 12363}, embedding: vector of size 2560),\n",
       " Document(id=e1f434412a56af725b34f4ea9148cdd1bc7520e2870d3b043ad1f92e61bbcc0d, content: 'Dies kann zu Blutungen und erfordert oft einen erneuten Kaiserschnitt oder andere medizinische Eingr...', meta: {'title': 'Kaiserschnitt.md', 'source_id': 'a561cc97-9c08-4581-8847-a7c866056712', 'page_number': 1, 'split_id': 112, 'split_idx_start': 12456}, embedding: vector of size 2560),\n",
       " Document(id=7c2f81b586685054943edda8a64b8ade27f93a95231887cb853ecb6790496bee, content: 'Dies bezieht sich auf Plazentationsstörungen, die nach einem Kaiserschnitt häufiger auftreten können...', meta: {'title': 'Kaiserschnitt.md', 'source_id': 'a561cc97-9c08-4581-8847-a7c866056712', 'page_number': 1, 'split_id': 114, 'split_idx_start': 12548}, embedding: vector of size 2560),\n",
       " Document(id=7f8ed0297c22181a9514bdc28e10120868da79314cde1a23a5444d708b5349a4, content: 'Ein mangelndes Zusammenziehen der Gebärmutter kann nach einem Kaiserschnitt zu starkem Blutverlust f...', meta: {'title': 'Kaiserschnitt.md', 'source_id': 'a561cc97-9c08-4581-8847-a7c866056712', 'page_number': 1, 'split_id': 116, 'split_idx_start': 12734}, embedding: vector of size 2560),\n",
       " Document(id=d4230504ec4b2e70a70298271d15cccb3b9858c48e24bc12c780437b25720522, content: 'Dies bezieht sich auf eine mögliche Komplikation, die auftreten kann, wenn eine Frau nach einem Kais...', meta: {'title': 'Kaiserschnitt.md', 'source_id': 'a561cc97-9c08-4581-8847-a7c866056712', 'page_number': 1, 'split_id': 117, 'split_idx_start': 12765}, embedding: vector of size 2560),\n",
       " Document(id=b50ba48f745195aa0caab3b1ff66795f42dc0b1ac0b60611d70c6e1cacc49e30, content: 'Sehr selten nistet sich eine Schwangerschaft in der früheren Kaiserschnittnarbe ein. Diese kann nich...', meta: {'title': 'Kaiserschnitt.md', 'source_id': 'a561cc97-9c08-4581-8847-a7c866056712', 'page_number': 1, 'split_id': 119, 'split_idx_start': 13090}, embedding: vector of size 2560),\n",
       " Document(id=fa5ea9b5c30b8a0a94ed9d819e3338d71e90ec7f158ce0408154e37842b8647c, content: 'Eine Schwangerschaft in der Kaiserschnittnarbe (Heterotopische Schwangerschaft) ist eine sehr selten...', meta: {'title': 'Kaiserschnitt.md', 'source_id': 'a561cc97-9c08-4581-8847-a7c866056712', 'page_number': 1, 'split_id': 120, 'split_idx_start': 13133}, embedding: vector of size 2560),\n",
       " Document(id=254c4add7d4dd0a98529d6f5cb8cbe637673b8b1c506b73ec322c2c781c25a00, content: 'Einige Studien deuten darauf hin, dass Frauen nach einem Kaiserschnitt häufiger Schwierigkeiten habe...', meta: {'title': 'Kaiserschnitt.md', 'source_id': 'a561cc97-9c08-4581-8847-a7c866056712', 'page_number': 1, 'split_id': 122, 'split_idx_start': 13368}, embedding: vector of size 2560),\n",
       " Document(id=3bb213e404140ba3170f3983b813b01623fd6c5a5df4e99cadab58fd3eb43752, content: 'Obwohl ein Kaiserschnitt eine sichere Geburt ermöglicht, können Folge-Schwangerschaften komplexer se...', meta: {'title': 'Kaiserschnitt.md', 'source_id': 'a561cc97-9c08-4581-8847-a7c866056712', 'page_number': 1, 'split_id': 123, 'split_idx_start': 13402}, embedding: vector of size 2560),\n",
       " Document(id=3ba77f01ee6db2b857e377b3cec1619324658970777d7efc6db0a22050147714, content: 'Obwohl der Kaiserschnitt weltweit häufig durchgeführt wird, sind viele mögliche Langzeitfolgen für F...', meta: {'title': 'Kaiserschnitt.md', 'source_id': 'a561cc97-9c08-4581-8847-a7c866056712', 'page_number': 1, 'split_id': 125, 'split_idx_start': 13719}, embedding: vector of size 2560),\n",
       " Document(id=7098be640ac7fce6065d4f6869f1f5a33657f84908752217c722f8791990cda9, content: 'Der Textabschnitt weist darauf hin, dass die langfristigen Auswirkungen eines Kaiserschnitts für Fra...', meta: {'title': 'Kaiserschnitt.md', 'source_id': 'a561cc97-9c08-4581-8847-a7c866056712', 'page_number': 1, 'split_id': 126, 'split_idx_start': 13735}, embedding: vector of size 2560),\n",
       " Document(id=4e81675870966cacb17e166b89eefd414ee0073326354b5d8d008707d2414603, content: 'Dieser Abschnitt beschreibt wichtige Warnzeichen, auf die Frauen nach einem Kaiserschnitt achten sol...', meta: {'title': 'Kaiserschnitt.md', 'source_id': 'a561cc97-9c08-4581-8847-a7c866056712', 'page_number': 1, 'split_id': 128, 'split_idx_start': 13884}, embedding: vector of size 2560),\n",
       " Document(id=39e611970d12265f4e889b07614d297b59fbbf4fdfcda75de411a0882d12ca53, content: 'Dies ist ein Warnsignal für eine mögliche Infektion, die eine sofortige ärztliche Behandlung erforde...', meta: {'title': 'Kaiserschnitt.md', 'source_id': 'a561cc97-9c08-4581-8847-a7c866056712', 'page_number': 1, 'split_id': 130, 'split_idx_start': 14098}, embedding: vector of size 2560),\n",
       " Document(id=7afdda88a43e87e012582fa443f289cfc003e0635f1254e5c0fc5d2b7f4fc364, content: 'Dies kann ein Zeichen für eine Entzündung oder andere Komplikationen nach dem Kaiserschnitt sein, di...', meta: {'title': 'Kaiserschnitt.md', 'source_id': 'a561cc97-9c08-4581-8847-a7c866056712', 'page_number': 1, 'split_id': 131, 'split_idx_start': 14117}, embedding: vector of size 2560),\n",
       " Document(id=fb2ef1cead5ab38b1c439c137fd6a5d758407f9b53dc9d634272b298c3a6fafd, content: 'Dies kann ein Zeichen für eine beginnende Infektion sein. Sollten diese Symptome auftreten, suchen S...', meta: {'title': 'Kaiserschnitt.md', 'source_id': 'a561cc97-9c08-4581-8847-a7c866056712', 'page_number': 1, 'split_id': 132, 'split_idx_start': 14169}, embedding: vector of size 2560),\n",
       " Document(id=639615d760e1e2771bda377c225b7d344017d49cb5969f7fdb0df383479b0cc0, content: 'Dies kann auf eine Komplikation hindeuten und sollte umgehend ärztlich abgeklärt werden.  Starke Blu...', meta: {'title': 'Kaiserschnitt.md', 'source_id': 'a561cc97-9c08-4581-8847-a7c866056712', 'page_number': 1, 'split_id': 133, 'split_idx_start': 14233}, embedding: vector of size 2560),\n",
       " Document(id=fbe8ff70eb87843d14183e4deb32265bf2f3e16e0ef720d67585b877b3e38d49, content: 'Ein abruptes Ende des Wochenflusses kann ein Zeichen für eine Komplikation wie eine Infektion oder e...', meta: {'title': 'Kaiserschnitt.md', 'source_id': 'a561cc97-9c08-4581-8847-a7c866056712', 'page_number': 1, 'split_id': 134, 'split_idx_start': 14290}, embedding: vector of size 2560),\n",
       " Document(id=1fcab235593af6cb64d7fae5c3d79c566ac3eb6b1e3b6219df6d0c2337f0dd1c, content: 'Dies kann ein Zeichen für eine tiefe Venenthrombose sein, eine Blutgerinnselbildung in einer Vene.  ...', meta: {'title': 'Kaiserschnitt.md', 'source_id': 'a561cc97-9c08-4581-8847-a7c866056712', 'page_number': 1, 'split_id': 135, 'split_idx_start': 14351}, embedding: vector of size 2560),\n",
       " Document(id=8f182250d27b6b7ea7e1f06037b42c96d43f156f99c316a764ebc49b5c10c338, content: 'Dies kann ein Zeichen für eine Lungenembolie oder andere Komplikationen sein und erfordert sofortige...', meta: {'title': 'Kaiserschnitt.md', 'source_id': 'a561cc97-9c08-4581-8847-a7c866056712', 'page_number': 1, 'split_id': 136, 'split_idx_start': 14400}, embedding: vector of size 2560),\n",
       " Document(id=1524aca5d01db93eba0504b16290a87c2e53bef52e6ea8d3121139fad69b266a, content: 'Dieser Abschnitt warnt davor, leichte Beschwerden nach dem Kaiserschnitt nicht zu ignorieren, da sie...', meta: {'title': 'Kaiserschnitt.md', 'source_id': 'a561cc97-9c08-4581-8847-a7c866056712', 'page_number': 1, 'split_id': 138, 'split_idx_start': 14440}, embedding: vector of size 2560),\n",
       " Document(id=e1763e68e97af077f3c264878e2df42ecb255393000a803d1522878f5d3fa0b0, content: 'Die Nachsorge umfasst die Unterstützung durch eine Hebamme, Rückbildungsgymnastik zur Stärkung der B...', meta: {'title': 'Kaiserschnitt.md', 'source_id': 'a561cc97-9c08-4581-8847-a7c866056712', 'page_number': 1, 'split_id': 140, 'split_idx_start': 14663}, embedding: vector of size 2560),\n",
       " Document(id=8d69f84ebfb89fe1e1d41dd624cd0efb41cfab7e1cd5ba49e85c1bb1ba7527c8, content: 'Eine Hebamme bietet postpartale Unterstützung, die über die reine körperliche Erholung hinausgeht. S...', meta: {'title': 'Kaiserschnitt.md', 'source_id': 'a561cc97-9c08-4581-8847-a7c866056712', 'page_number': 1, 'split_id': 142, 'split_idx_start': 14691}, embedding: vector of size 2560),\n",
       " Document(id=878d0ca08f6cd90fb6f2e36ca7acffc68411ca7fe17f992fc0209a99ee1d3986, content: 'Rückbildungsgymnastik hilft, die durch den Kaiserschnitt beanspruchte Bauch- und Beckenbodenmuskulat...', meta: {'title': 'Kaiserschnitt.md', 'source_id': 'a561cc97-9c08-4581-8847-a7c866056712', 'page_number': 1, 'split_id': 143, 'split_idx_start': 14849}, embedding: vector of size 2560),\n",
       " Document(id=c27162a33abb772f717c78888ae28496c776571382536f4075e4c728cb165737, content: 'Diese Nachuntersuchung ist wichtig, um die Heilung zu überprüfen und mögliche Komplikationen frühzei...', meta: {'title': 'Kaiserschnitt.md', 'source_id': 'a561cc97-9c08-4581-8847-a7c866056712', 'page_number': 1, 'split_id': 144, 'split_idx_start': 15016}, embedding: vector of size 2560),\n",
       " Document(id=0059e3662f403ffc07f34f4b6eb62cfc7476559f37066ed87c5f45b59cefc25f, content: 'Die Klinik bietet eine moderne Geburtshilfe in Berlin-Köpenick und bietet eine Vielzahl von Schmerzl...', meta: {'title': 'DRK Geburtshilfe Infos.md', 'source_id': '1ac6201d-c0f1-4ee6-9380-416fba951afb', 'page_number': 1, 'split_id': 0, 'split_idx_start': 0}, embedding: vector of size 2560),\n",
       " Document(id=13fbc7e9f494eac8cf1feb3e5acef6fe5bc5c55b19e0db29cebeb47ac14c6147, content: 'Die Klinik bietet eine breite Palette an Gebärhilfen und Positionen, um eine angenehme und individue...', meta: {'title': 'DRK Geburtshilfe Infos.md', 'source_id': '1ac6201d-c0f1-4ee6-9380-416fba951afb', 'page_number': 1, 'split_id': 2, 'split_idx_start': 948}, embedding: vector of size 2560),\n",
       " Document(id=7dd739cc2db5ed9270b474557e2babb48e2367f65eb34419d336bb9329870dd8, content: 'Eine PDA (periduralanästhesie) ist eine Schmerzblockade, die in den Rücken gelegt wird und starke We...', meta: {'title': 'DRK Geburtshilfe Infos.md', 'source_id': '1ac6201d-c0f1-4ee6-9380-416fba951afb', 'page_number': 1, 'split_id': 4, 'split_idx_start': 1664}, embedding: vector of size 2560),\n",
       " Document(id=66e1a525e21fdfa64a0a47af09db4dedfae2b7f888b7f04e22b5b13a93e3ba9a, content: 'Die \"Misgav-Ladach-Technik\" ist eine spezielle Kaiserschnittmethode, bei der ein schrägliegender Sch...', meta: {'title': 'DRK Geburtshilfe Infos.md', 'source_id': '1ac6201d-c0f1-4ee6-9380-416fba951afb', 'page_number': 1, 'split_id': 6, 'split_idx_start': 2383}, embedding: vector of size 2560),\n",
       " Document(id=f1ed31f06aa3da304cb603c582d876a7bf9e61c4dfa4177e15d04854af4aad58, content: 'Auf der Wochenbettstation 4B gibt es gemütliche Zimmer, die als Familienzimmer genutzt werden können...', meta: {'title': 'DRK Geburtshilfe Infos.md', 'source_id': '1ac6201d-c0f1-4ee6-9380-416fba951afb', 'page_number': 1, 'split_id': 8, 'split_idx_start': 3350}, embedding: vector of size 2560),\n",
       " Document(id=0ed75454a1b9cd3f02fb0f2249d2bae58d9536d594f98129823fe478fdbbe9ff, content: 'Auf der Wochenbettstation gibt es ein separates Stillzimmer für ruhige Stillmomente und Unterstützun...', meta: {'title': 'DRK Geburtshilfe Infos.md', 'source_id': '1ac6201d-c0f1-4ee6-9380-416fba951afb', 'page_number': 1, 'split_id': 10, 'split_idx_start': 4116}, embedding: vector of size 2560),\n",
       " Document(id=ddb32f1f644e2d2bf49fdb1772b756399921632776def763a8239f0083f0377d, content: 'Bei Bedarf arbeitet die Klinik eng mit der Neonatologie des Vivantes Klinikums Neukölln zusammen, um...', meta: {'title': 'DRK Geburtshilfe Infos.md', 'source_id': '1ac6201d-c0f1-4ee6-9380-416fba951afb', 'page_number': 1, 'split_id': 12, 'split_idx_start': 4895}, embedding: vector of size 2560),\n",
       " Document(id=a1b6465d626d4fdd2ecb051c230fa675f8aa4d2b04479b43234304cdb39171b0, content: 'Die Wochenbettstation bietet Familienzimmer an, in denen auch eine Begleitperson übernachten kann. E...', meta: {'title': 'DRK Geburtshilfe Infos.md', 'source_id': '1ac6201d-c0f1-4ee6-9380-416fba951afb', 'page_number': 1, 'split_id': 14, 'split_idx_start': 5686}, embedding: vector of size 2560),\n",
       " Document(id=3cf123e7b98891e9d1be7ce24b67e7fc20291a74dbd378d187a85cf68a0dd585, content: 'Die Wochenbettstation bietet ein umfassendes Betreuungsangebot für Mutter und Kind, inklusive Stillb...', meta: {'title': 'DRK Geburtshilfe Infos.md', 'source_id': '1ac6201d-c0f1-4ee6-9380-416fba951afb', 'page_number': 1, 'split_id': 16, 'split_idx_start': 6195}, embedding: vector of size 2560),\n",
       " Document(id=b170fcd875d26396673888dae50da016a5f354b2e2dfcb59e51f72c098e4ec0c, content: 'Die Klinik arbeitet bei Bedarf mit der Neonatologie des Vivantes Klinikums Neukölln zusammen, um ein...', meta: {'title': 'DRK Geburtshilfe Infos.md', 'source_id': '1ac6201d-c0f1-4ee6-9380-416fba951afb', 'page_number': 1, 'split_id': 18, 'split_idx_start': 6663}, embedding: vector of size 2560),\n",
       " Document(id=1665239d5244571e554fe2770ddfea6ff1c3418b431a62118fe3faad72833868, content: 'Der Sozialdienst der Klinik hilft bei Fragen zu Themen wie Krankenversicherung oder Elterngeld. Bei ...', meta: {'title': 'DRK Geburtshilfe Infos.md', 'source_id': '1ac6201d-c0f1-4ee6-9380-416fba951afb', 'page_number': 1, 'split_id': 20, 'split_idx_start': 7101}, embedding: vector of size 2560),\n",
       " Document(id=8bc16afa233f1d8aa5d654f08646b349f33543b68107656832412d538164fe39, content: 'Die Babylotsinnen bieten kostenlose Unterstützung für werdende und junge Eltern direkt in der Klinik...', meta: {'title': 'DRK Geburtshilfe Infos.md', 'source_id': '1ac6201d-c0f1-4ee6-9380-416fba951afb', 'page_number': 1, 'split_id': 22, 'split_idx_start': 7479}, embedding: vector of size 2560),\n",
       " Document(id=97b858689936f8e4d2a204ea14624e0bb541e4c41db6ebc78b73afa2e6ee2827, content: 'Die Anmeldung dient dazu, wichtige Daten zu erfassen und individuelle Wünsche zu besprechen.  Die Ko...', meta: {'title': 'DRK Geburtshilfe Infos.md', 'source_id': '1ac6201d-c0f1-4ee6-9380-416fba951afb', 'page_number': 1, 'split_id': 24, 'split_idx_start': 7931}, embedding: vector of size 2560),\n",
       " Document(id=f15b6e968a9be42a09b584c7809c7220a52bd2db8fbae085ffeaa0ad2249eb7d, content: 'Der Kreißsaal befindet sich im 7. Stock des Bettenhochhauses (Haus 1) und ist als \"Kreißsaalhotel\" k...', meta: {'title': 'DRK Geburtshilfe Infos.md', 'source_id': '1ac6201d-c0f1-4ee6-9380-416fba951afb', 'page_number': 1, 'split_id': 26, 'split_idx_start': 8593}, embedding: vector of size 2560),\n",
       " Document(id=40d33acf48e0bb9eb6e273df4b6e999e74ac9b265ac528676ef82e9cda23a7e9, content: 'Nach der Entbindung geht es auf die Wochenbettstation 4B, wo Mutter und Kind gemeinsam betreut werde...', meta: {'title': 'DRK Geburtshilfe Infos.md', 'source_id': '1ac6201d-c0f1-4ee6-9380-416fba951afb', 'page_number': 1, 'split_id': 28, 'split_idx_start': 9335}, embedding: vector of size 2560),\n",
       " Document(id=2d9ed0e6315fca629b973a13c0287014f9f435601c75050f69b224a4fdfe70aa, content: 'Eine ambulante Geburt ermöglicht es Mutter und Kind, die Klinik kurz nach der Entbindung zu verlasse...', meta: {'title': 'DRK Geburtshilfe Infos.md', 'source_id': '1ac6201d-c0f1-4ee6-9380-416fba951afb', 'page_number': 1, 'split_id': 31, 'split_idx_start': 10168}, embedding: vector of size 2560),\n",
       " Document(id=21e0d031bf1d820fe19f71ad400acb1aca68b1d7c09cea38bb1f92f38fef4bad, content: 'Der Kreißsaal befindet sich im 7. Stock des Bettenhochhauses (Haus 1) und ist als kleines, persönlic...', meta: {'title': 'DRK Geburtshilfe Infos.md', 'source_id': '1ac6201d-c0f1-4ee6-9380-416fba951afb', 'page_number': 1, 'split_id': 33, 'split_idx_start': 10389}, embedding: vector of size 2560),\n",
       " Document(id=3e583d4e9ea7e37ee37fddb6d0eb77f97e8c612fce21ab81fdd4fa96c5e96cee, content: 'Diese Räumlichkeiten bieten flexible Gebärhilfen wie verstellbare Betten, Gebärhocker, Seile und Spr...', meta: {'title': 'DRK Geburtshilfe Infos.md', 'source_id': '1ac6201d-c0f1-4ee6-9380-416fba951afb', 'page_number': 1, 'split_id': 35, 'split_idx_start': 10669}, embedding: vector of size 2560),\n",
       " Document(id=bcf3842aa9d65585dc0d95a356131d41627ff657d30979ea1f323fa3aa150160, content: 'Diese flexible Ausstattung ermöglicht es den Gebärenden, die für sie angenehmste Position für die Ge...', meta: {'title': 'DRK Geburtshilfe Infos.md', 'source_id': '1ac6201d-c0f1-4ee6-9380-416fba951afb', 'page_number': 1, 'split_id': 37, 'split_idx_start': 10975}, embedding: vector of size 2560),\n",
       " Document(id=fd0386d11a3db6e9e292bcd5bbc8f387d8d9b2ad82f4fffb2fcb789259727f58, content: 'Bei einem Kaiserschnitt können Mutter und Kind so schnell wie möglich versorgt werden, da der Operat...', meta: {'title': 'DRK Geburtshilfe Infos.md', 'source_id': '1ac6201d-c0f1-4ee6-9380-416fba951afb', 'page_number': 1, 'split_id': 39, 'split_idx_start': 11140}, embedding: vector of size 2560),\n",
       " Document(id=20008af974a68cd18b1f1a357db35c6f82ceac9f3df9b6e8b96dd2659d31c595, content: 'Nach der Geburt bleibt die Familie zur Überwachung noch eine Zeit im Kreißsaal, bevor die Verlegung ...', meta: {'title': 'DRK Geburtshilfe Infos.md', 'source_id': '1ac6201d-c0f1-4ee6-9380-416fba951afb', 'page_number': 1, 'split_id': 41, 'split_idx_start': 11422}, embedding: vector of size 2560),\n",
       " Document(id=6ea78a3371abef9d8d144547400c5f2bd02262e4b344c2198af58d48de3c4c64, content: 'Dies beschreibt den \"Hebammenkreißsaal\", eine Erweiterung des Angebots der Klinik, in dem Frauen mit...', meta: {'title': 'DRK Geburtshilfe Infos.md', 'source_id': '1ac6201d-c0f1-4ee6-9380-416fba951afb', 'page_number': 1, 'split_id': 43, 'split_idx_start': 11675}, embedding: vector of size 2560),\n",
       " Document(id=653654e1d507630ef65dc7efaa276c7c97263ef7a2182255848d7156091b2dba, content: 'Der hebammengeleitete Kreißsaal bietet Frauen mit unkomplizierten Schwangerschaften eine Betreuung a...', meta: {'title': 'DRK Geburtshilfe Infos.md', 'source_id': '1ac6201d-c0f1-4ee6-9380-416fba951afb', 'page_number': 1, 'split_id': 45, 'split_idx_start': 11997}, embedding: vector of size 2560),\n",
       " Document(id=bafaef07a79d3395b67dc6fa0263a858be75e366fef3cf4c40e6d06c8163dd4d, content: 'Der Hebammenkreißsaal bietet eine natürliche und selbstbestimmte Geburt in einer sicheren Umgebung m...', meta: {'title': 'DRK Geburtshilfe Infos.md', 'source_id': '1ac6201d-c0f1-4ee6-9380-416fba951afb', 'page_number': 1, 'split_id': 47, 'split_idx_start': 12427}, embedding: vector of size 2560),\n",
       " Document(id=4cb58cd45ca814ae640b88ba8e81b1d9fae331caed6896a8fd847f1d3a963c13, content: 'Dies bezieht sich auf die Möglichkeit, den Hebammenkreißsaal zu nutzen. Er ist eine Option für Fraue...', meta: {'title': 'DRK Geburtshilfe Infos.md', 'source_id': '1ac6201d-c0f1-4ee6-9380-416fba951afb', 'page_number': 1, 'split_id': 49, 'split_idx_start': 12902}, embedding: vector of size 2560),\n",
       " Document(id=fe95b36de11c3857204bec793c1bcafe6c8f9bac916bfd3c930f8fd4d54f4372, content: 'Dies sind die Voraussetzungen für die Teilnahme am hebammengeleiteten Kreißsaal, einer Option für Fr...', meta: {'title': 'DRK Geburtshilfe Infos.md', 'source_id': '1ac6201d-c0f1-4ee6-9380-416fba951afb', 'page_number': 1, 'split_id': 51, 'split_idx_start': 12947}, embedding: vector of size 2560),\n",
       " Document(id=7653d510538900b37c42e6b36d8a6e52406ed28f5db774730f742a4ebda7bfe7, content: 'Dies bedeutet, dass die Frau ohne medizinische Eingriffe und innerhalb eines bestimmten Zeitfensters...', meta: {'title': 'DRK Geburtshilfe Infos.md', 'source_id': '1ac6201d-c0f1-4ee6-9380-416fba951afb', 'page_number': 1, 'split_id': 52, 'split_idx_start': 13103}, embedding: vector of size 2560),\n",
       " Document(id=6e7c45c0926b19ef9aa3b00b48c16527d00d2c7729cf0eb542f664889a59ea44, content: 'Dies sind die Voraussetzungen, um sich für den hebammengeleiteten Kreißsaal zu qualifizieren, der ei...', meta: {'title': 'DRK Geburtshilfe Infos.md', 'source_id': '1ac6201d-c0f1-4ee6-9380-416fba951afb', 'page_number': 1, 'split_id': 53, 'split_idx_start': 13166}, embedding: vector of size 2560),\n",
       " Document(id=7044db8e36d9c2ed8d49b26c86f83f17b17808c4a951387380354d0945a32b86, content: 'Nach zwei individuellen Beratungsgesprächen erfolgt eine kontinuierliche Betreuung durch eine Hebamm...', meta: {'title': 'DRK Geburtshilfe Infos.md', 'source_id': '1ac6201d-c0f1-4ee6-9380-416fba951afb', 'page_number': 1, 'split_id': 55, 'split_idx_start': 13246}, embedding: vector of size 2560),\n",
       " Document(id=f9c3b5194a3f9cf78bd7fd31d9469e311eec8201abdcf24399f96bfb68bdf711, content: 'Nach den Beratungsgesprächen erfolgt eine kontinuierliche Betreuung durch eine Hebamme, wobei bei Be...', meta: {'title': 'DRK Geburtshilfe Infos.md', 'source_id': '1ac6201d-c0f1-4ee6-9380-416fba951afb', 'page_number': 1, 'split_id': 56, 'split_idx_start': 13295}, embedding: vector of size 2560),\n",
       " Document(id=3423dbcdd3a93fdcc0ae2523cc4235fc482b2c4bc6e90fd75565fe6cc0fbce6b, content: 'Die Wochenbettstation 4B bietet Zimmer mit Bad an, die als Familienzimmer genutzt werden können. Ein...', meta: {'title': 'DRK Geburtshilfe Infos.md', 'source_id': '1ac6201d-c0f1-4ee6-9380-416fba951afb', 'page_number': 1, 'split_id': 58, 'split_idx_start': 14149}, embedding: vector of size 2560),\n",
       " Document(id=ba21212b52ef3d2e9dcac18a7fb3a955b8b66136f289fbd97767fd123fa3f0c4, content: 'Familienzimmer sind auf der Wochenbettstation 4B verfügbar und bieten Platz für eine Begleitperson. ...', meta: {'title': 'DRK Geburtshilfe Infos.md', 'source_id': '1ac6201d-c0f1-4ee6-9380-416fba951afb', 'page_number': 1, 'split_id': 60, 'split_idx_start': 14584}, embedding: vector of size 2560),\n",
       " Document(id=2153667f8bb0db4448de848cce7c2060beb95e75f3951595099c8666df4e372e, content: 'Die Kinderärztin führt die ersten Untersuchungen (U1 und U2) durch und gibt den Eltern Empfehlungen ...', meta: {'title': 'DRK Geburtshilfe Infos.md', 'source_id': '1ac6201d-c0f1-4ee6-9380-416fba951afb', 'page_number': 1, 'split_id': 62, 'split_idx_start': 14770}, embedding: vector of size 2560),\n",
       " Document(id=0463ce6fffd0570148c9e8ce0de9050bed6008948fec8812dec50d1d34b803b3, content: 'Die Klinik bietet eine umfassende Stillberatung durch speziell ausgebildete Schwestern und Stillbera...', meta: {'title': 'DRK Geburtshilfe Infos.md', 'source_id': '1ac6201d-c0f1-4ee6-9380-416fba951afb', 'page_number': 1, 'split_id': 64, 'split_idx_start': 15120}, embedding: vector of size 2560),\n",
       " Document(id=e2117ce0d21ce04ad78f55bbb19d4dd3c934cf0bab5cc644c4cc7fd7ddf74662, content: 'Die Entlassung aus der Klinik erfolgt nach individueller Absprache. Die Geburtsurkunde erhält man ni...', meta: {'title': 'DRK Geburtshilfe Infos.md', 'source_id': '1ac6201d-c0f1-4ee6-9380-416fba951afb', 'page_number': 1, 'split_id': 66, 'split_idx_start': 15473}, embedding: vector of size 2560),\n",
       " Document(id=6bf1ebe2fef0189a6094124deb3f446f2acd66d4f82f1766f78f91e9f5da87b3, content: 'Nach der Entlassung aus der Klinik ist eine Nachsorgehebamme für die Betreuung zu Hause empfehlenswe...', meta: {'title': 'DRK Geburtshilfe Infos.md', 'source_id': '1ac6201d-c0f1-4ee6-9380-416fba951afb', 'page_number': 1, 'split_id': 68, 'split_idx_start': 15813}, embedding: vector of size 2560),\n",
       " Document(id=e4ba9080849ef88a5ad32b7a82a410e61092fa0f1500ea68313d8a35ee39dacd, content: 'Diese Infoabende sind kostenlose Veranstaltungen, bei denen werdende Eltern das Geburtshilfe-Team ke...', meta: {'title': 'DRK Geburtshilfe Infos.md', 'source_id': '1ac6201d-c0f1-4ee6-9380-416fba951afb', 'page_number': 1, 'split_id': 70, 'split_idx_start': 16076}, embedding: vector of size 2560),\n",
       " Document(id=43667bc1517c64318d4cf4f975ed54225ea010acf7ea346873352076da264f02, content: 'Die Klinik bietet verschiedene Geburtsvorbereitungskurse an, die Informationen zum Geburtsverlauf, A...', meta: {'title': 'DRK Geburtshilfe Infos.md', 'source_id': '1ac6201d-c0f1-4ee6-9380-416fba951afb', 'page_number': 1, 'split_id': 72, 'split_idx_start': 16592}, embedding: vector of size 2560),\n",
       " Document(id=899cb443de402323ede7b7f636f201695f559dfeccefe1db33f78c3bc2c3c0df, content: 'Diese Kurse helfen, Beckenboden und Bauchmuskulatur nach der Entbindung zu stärken. Sie werden von H...', meta: {'title': 'DRK Geburtshilfe Infos.md', 'source_id': '1ac6201d-c0f1-4ee6-9380-416fba951afb', 'page_number': 1, 'split_id': 74, 'split_idx_start': 17141}, embedding: vector of size 2560),\n",
       " Document(id=8006dd7ac36a57da62ac4a8118f4f165b18500aa8bd8db7b2c02f6c642f2c13f, content: 'Die Hebammensprechstunde bietet eine Möglichkeit für CTG-Kontrollen, Akupunktur und Beratung zu Besc...', meta: {'title': 'DRK Geburtshilfe Infos.md', 'source_id': '1ac6201d-c0f1-4ee6-9380-416fba951afb', 'page_number': 1, 'split_id': 76, 'split_idx_start': 17522}, embedding: vector of size 2560),\n",
       " Document(id=5d92fa3a3b86582ccb624734396937cd2f4325dce681e8cc1af1c90314857197, content: 'Bei Risikoschwangerschaften, wie etwa bei Zwillingen oder Beckenendlage, kann eine Geburtsplanungssp...', meta: {'title': 'DRK Geburtshilfe Infos.md', 'source_id': '1ac6201d-c0f1-4ee6-9380-416fba951afb', 'page_number': 1, 'split_id': 78, 'split_idx_start': 17920}, embedding: vector of size 2560),\n",
       " Document(id=28e20e529c10ce04f18d0146209c1ae81ccb7101d9af9ca4a690b527b2fc8219, content: 'Nach der Entlassung aus der Klinik ist eine Nachsorgehebamme für die Betreuung zu Hause hilfreich. D...', meta: {'title': 'DRK Geburtshilfe Infos.md', 'source_id': '1ac6201d-c0f1-4ee6-9380-416fba951afb', 'page_number': 1, 'split_id': 80, 'split_idx_start': 18239}, embedding: vector of size 2560),\n",
       " Document(id=6a4b0afbd618b9f48a755e19db1cc752e99db82ae8418a9d4842690662588150, content: 'Dr. med. Rainer Wieth ist der Chefarzt der Klinik für Gynäkologie und Geburtshilfe der DRK Kliniken ...', meta: {'title': 'DRK Geburtshilfe Infos.md', 'source_id': '1ac6201d-c0f1-4ee6-9380-416fba951afb', 'page_number': 1, 'split_id': 82, 'split_idx_start': 18654}, embedding: vector of size 2560),\n",
       " Document(id=b10f44a2e30341da9f44979441ac5b09a1f982fb76a1969763a05f30701d7dfe, content: 'Carmen Wolf ist die Leitende Hebamme und Abteilungsleiterin des Kreißsaals. Bei Fragen rund um die G...', meta: {'title': 'DRK Geburtshilfe Infos.md', 'source_id': '1ac6201d-c0f1-4ee6-9380-416fba951afb', 'page_number': 1, 'split_id': 84, 'split_idx_start': 18903}, embedding: vector of size 2560),\n",
       " Document(id=163cb910e2845744baf60beac1845d413da9ab70e9c2207e68c97e2fdada49fc, content: 'Die Wochenbettstation 4B ist für Rückfragen nach der Entbindung und Anliegen während des Aufenthalts...', meta: {'title': 'DRK Geburtshilfe Infos.md', 'source_id': '1ac6201d-c0f1-4ee6-9380-416fba951afb', 'page_number': 1, 'split_id': 86, 'split_idx_start': 19188}, embedding: vector of size 2560),\n",
       " Document(id=2a293ebc5140c8722b68e451666834b37f02d6475eb2c8a9139845d9bf4ce677, content: 'Die Klinik befindet sich in Berlin-Köpenick und ist mit Bus, Straßenbahn und S-Bahn gut erreichbar. ...', meta: {'title': 'DRK Geburtshilfe Infos.md', 'source_id': '1ac6201d-c0f1-4ee6-9380-416fba951afb', 'page_number': 1, 'split_id': 88, 'split_idx_start': 19397}, embedding: vector of size 2560),\n",
       " Document(id=478f3ae47ad81775783343908c3d609688ea14ec7d0590cdaaba3d3f4c1edf0c, content: 'Das Kontaktformular findest du auf der Website der DRK Kliniken Berlin Köpenick. Es ist eine gute Op...', meta: {'title': 'DRK Geburtshilfe Infos.md', 'source_id': '1ac6201d-c0f1-4ee6-9380-416fba951afb', 'page_number': 1, 'split_id': 90, 'split_idx_start': 19572}, embedding: vector of size 2560),\n",
       " Document(id=e31e20b5ff4362588fdc21d3757e974746ab01f58f515c2b973ac8f7853ff31b, content: 'Die Anmeldung erfolgt meist in der Hebammensprechstunde und beinhaltet ein ausführliches Gespräch so...', meta: {'title': 'DRK Geburtshilfe Infos.md', 'source_id': '1ac6201d-c0f1-4ee6-9380-416fba951afb', 'page_number': 1, 'split_id': 93, 'split_idx_start': 19742}, embedding: vector of size 2560),\n",
       " Document(id=3a82768d58825acfcaf5486fc4a26be6a87c87eee6e196250998f60eba61fe2a, content: 'Diese Anmeldung erfolgt idealerweise ab der 32. Schwangerschaftswoche und kann telefonisch unter (03...', meta: {'title': 'DRK Geburtshilfe Infos.md', 'source_id': '1ac6201d-c0f1-4ee6-9380-416fba951afb', 'page_number': 1, 'split_id': 95, 'split_idx_start': 19988}, embedding: vector of size 2560),\n",
       " Document(id=5cc1d42d38b00c33673baf4901e2c86781ad38d737b6dcee7eaff20e6b314961, content: 'Hier werden individuelle Wünsche wie die bevorzugte Gebärposition, Schmerzmittel oder ein Familienzi...', meta: {'title': 'DRK Geburtshilfe Infos.md', 'source_id': '1ac6201d-c0f1-4ee6-9380-416fba951afb', 'page_number': 1, 'split_id': 97, 'split_idx_start': 20283}, embedding: vector of size 2560),\n",
       " Document(id=ebc4b1e254141f172630e187b73369dea70e5f3169fc78031c30528ea87d4b4e, content: 'Dies bedeutet, dass Sie sich nicht erneut anmelden müssen, wenn die Wehen beginnen oder der geplante...', meta: {'title': 'DRK Geburtshilfe Infos.md', 'source_id': '1ac6201d-c0f1-4ee6-9380-416fba951afb', 'page_number': 1, 'split_id': 99, 'split_idx_start': 20623}, embedding: vector of size 2560),\n",
       " Document(id=05041f8bcccbe8beba97dd2cb0050b1209f6d02186689d7578c128b3107b4f32, content: 'Um die bestmögliche Ruhe und Erholung für Mutter und Kind zu gewährleisten, gelten feste Besuchszeit...', meta: {'title': 'DRK Geburtshilfe Infos.md', 'source_id': '1ac6201d-c0f1-4ee6-9380-416fba951afb', 'page_number': 1, 'split_id': 101, 'split_idx_start': 20806}, embedding: vector of size 2560),\n",
       " Document(id=eaed2389fa329b533a71e01f4341c51aabd6b9b7a8cc017923ff5dac6a31a619, content: 'Um die Ruhe und Erholung von Mutter und Kind zu gewährleisten, gibt es feste Besuchszeiten von 15:00...', meta: {'title': 'DRK Geburtshilfe Infos.md', 'source_id': '1ac6201d-c0f1-4ee6-9380-416fba951afb', 'page_number': 1, 'split_id': 103, 'split_idx_start': 21095}, embedding: vector of size 2560),\n",
       " Document(id=a11025a6cac057eed6bdcd2e3bf6906f9a01a2546a05bd1f09756b39becadce4, content: 'Dieser Hinweis bezieht sich auf die Besuchszeiten auf der Wochenbettstation 4B. Es wird empfohlen, B...', meta: {'title': 'DRK Geburtshilfe Infos.md', 'source_id': '1ac6201d-c0f1-4ee6-9380-416fba951afb', 'page_number': 1, 'split_id': 105, 'split_idx_start': 21387}, embedding: vector of size 2560),\n",
       " Document(id=09af9638e762814e42fb75122ccf3544d7ce23aa0b33e91d5b7fcd9eaf5b1aa1, content: 'Diese Liste hilft dir, dich optimal auf die Geburt und die Zeit im Krankenhaus vorzubereiten. Wertge...', meta: {'title': 'DRK Geburtshilfe Infos.md', 'source_id': '1ac6201d-c0f1-4ee6-9380-416fba951afb', 'page_number': 1, 'split_id': 107, 'split_idx_start': 21596}, embedding: vector of size 2560),\n",
       " Document(id=ca1cfcfd1558640ade9f82db307255798298a697b5a10f96ad1f4a60c1859cfb, content: 'Diese Dokumente sind für die Anmeldung zur Geburt und die Aufnahme in die Klinik erforderlich. Sie s...', meta: {'title': 'DRK Geburtshilfe Infos.md', 'source_id': '1ac6201d-c0f1-4ee6-9380-416fba951afb', 'page_number': 1, 'split_id': 109, 'split_idx_start': 21691}, embedding: vector of size 2560),\n",
       " Document(id=9fe8c8806f4278d7e430bf0dc1df8cb7a2f8661709fa71f07ebb59539b749922, content: 'Diese Kleidung ist für die Zeit im Kreißsaal und auf der Wochenbettstation gedacht. Denke auch an Kl...', meta: {'title': 'DRK Geburtshilfe Infos.md', 'source_id': '1ac6201d-c0f1-4ee6-9380-416fba951afb', 'page_number': 1, 'split_id': 110, 'split_idx_start': 21844}, embedding: vector of size 2560),\n",
       " Document(id=7d3401c83a0243a5061b6f9e1a09c17026541095a0b1af84e3bdf815a31fd7f3, content: 'Diese Artikel sind für den Aufenthalt in der Klinik nützlich, da die Klinik nur grundlegende Hygiene...', meta: {'title': 'DRK Geburtshilfe Infos.md', 'source_id': '1ac6201d-c0f1-4ee6-9380-416fba951afb', 'page_number': 1, 'split_id': 111, 'split_idx_start': 22021}, embedding: vector of size 2560),\n",
       " Document(id=dc7987b0b198cae28cb3fdf63275bd456d9e44b7d76a3998dda85955d8090f33, content: 'Die Babyschale ist notwendig, um das Neugeborene sicher aus der Klinik nach Hause zu transportieren....', meta: {'title': 'DRK Geburtshilfe Infos.md', 'source_id': '1ac6201d-c0f1-4ee6-9380-416fba951afb', 'page_number': 1, 'split_id': 112, 'split_idx_start': 22152}, embedding: vector of size 2560),\n",
       " Document(id=d2c561757218ad3129879b2e0eb2a3bb738b95451d526537ccece96a5bf093c1, content: 'Diese Liste enthält nützliche Gegenstände für den Aufenthalt in der Klinik. Wertgegenstände und Schm...', meta: {'title': 'DRK Geburtshilfe Infos.md', 'source_id': '1ac6201d-c0f1-4ee6-9380-416fba951afb', 'page_number': 1, 'split_id': 113, 'split_idx_start': 22264}, embedding: vector of size 2560),\n",
       " Document(id=5cc85503df2c4552aae337745cfc5e46c0175d159bad225351c10a2cbfce6f0c, content: 'Die Klinik empfiehlt, keine Wertsachen mitzubringen, da sie keine Haftung für verlorene oder gestohl...', meta: {'title': 'DRK Geburtshilfe Infos.md', 'source_id': '1ac6201d-c0f1-4ee6-9380-416fba951afb', 'page_number': 1, 'split_id': 115, 'split_idx_start': 22475}, embedding: vector of size 2560),\n",
       " Document(id=db7e456f91f7b5e92f5412cdd5de11451294c74e4c3520ec62c4d7d1547ae91d, content: 'Die Klinik befindet sich in Berlin-Köpenick und ist mit öffentlichen Verkehrsmitteln gut erreichbar....', meta: {'title': 'DRK Geburtshilfe Infos.md', 'source_id': '1ac6201d-c0f1-4ee6-9380-416fba951afb', 'page_number': 1, 'split_id': 117, 'split_idx_start': 22567}, embedding: vector of size 2560),\n",
       " Document(id=0e5f7b055a3642b51ebf17797516f52d2a275328e3dfa423380d634c3f116eed, content: 'Die Klinik bietet gebührenpflichtige Parkplätze direkt am Haupteingang an. Die erste halbe Stunde is...', meta: {'title': 'DRK Geburtshilfe Infos.md', 'source_id': '1ac6201d-c0f1-4ee6-9380-416fba951afb', 'page_number': 1, 'split_id': 119, 'split_idx_start': 22754}, embedding: vector of size 2560),\n",
       " Document(id=a564068661018d699c63b98f5d9c16b4bec379409f7d18799e39b4464fc541ea, content: 'Die Klinik ist mit dem S-Bahnhof Köpenick (Linie S3) gut erreichbar, von dort sind es nur wenige Min...', meta: {'title': 'DRK Geburtshilfe Infos.md', 'source_id': '1ac6201d-c0f1-4ee6-9380-416fba951afb', 'page_number': 1, 'split_id': 121, 'split_idx_start': 23306}, embedding: vector of size 2560),\n",
       " Document(id=81820f4da6dd0a859d3e4559515bf928aa1464ec94b80fb1d1807468935660ed, content: 'Der Lageplan ist auf der Website der Klinik als PDF verfügbar und zeigt den Weg zu den relevanten Be...', meta: {'title': 'DRK Geburtshilfe Infos.md', 'source_id': '1ac6201d-c0f1-4ee6-9380-416fba951afb', 'page_number': 1, 'split_id': 123, 'split_idx_start': 23644}, embedding: vector of size 2560),\n",
       " Document(id=f2d11ef848691118e0e5f8f0959590f40e32edc2194e81de5eb9222a3bf3af35, content: 'Die moderne Geburtshilfe ermöglicht eine engmaschige Überwachung und frühzeitige Interventionen, um ...', meta: {'title': 'Medizinische Maßnahmen rund um die Geburt.md', 'source_id': 'fb139ac4-aef9-4241-9882-85e09d0163cb', 'page_number': 1, 'split_id': 0, 'split_idx_start': 0}, embedding: vector of size 2560),\n",
       " Document(id=d4565b722d6a1e0e5e0b5255043c3a7c438aad0986b31528ca873adaf309e14d, content: 'Diese Begleitung umfasst verschiedene Überwachungsverfahren, die darauf abzielen, das Wohl von Mutte...', meta: {'title': 'Medizinische Maßnahmen rund um die Geburt.md', 'source_id': 'fb139ac4-aef9-4241-9882-85e09d0163cb', 'page_number': 1, 'split_id': 2, 'split_idx_start': 429}, embedding: vector of size 2560),\n",
       " Document(id=ac0d9ca5d0d973024c02ca97b388f2a890039ffcb345ff9bc1650ae7156824f0, content: 'Die Herztöne des Kindes geben Aufschluss über dessen Wohlbefinden während der Geburt.  Dabei wird ei...', meta: {'title': 'Medizinische Maßnahmen rund um die Geburt.md', 'source_id': 'fb139ac4-aef9-4241-9882-85e09d0163cb', 'page_number': 1, 'split_id': 4, 'split_idx_start': 752}, embedding: vector of size 2560),\n",
       " Document(id=3155679bf227f0857ae0b7069fd3db8b6a76f530e86fefc65e0290cc8d946e5d, content: 'Ein Pinard-Stethoskop ist ein spezielles Stethoskop mit einer Schalltrichter, das es ermöglicht, die...', meta: {'title': 'Medizinische Maßnahmen rund um die Geburt.md', 'source_id': 'fb139ac4-aef9-4241-9882-85e09d0163cb', 'page_number': 1, 'split_id': 5, 'split_idx_start': 784}, embedding: vector of size 2560),\n",
       " Document(id=2e60be337d41c96f51adb8ffea602b7deeacfe5d0d80db77a1de26ee2ea4ca1c, content: 'CTG steht für Kardiotokografie und ist eine Methode zur Überwachung der Herztöne des Babys und der W...', meta: {'title': 'Medizinische Maßnahmen rund um die Geburt.md', 'source_id': 'fb139ac4-aef9-4241-9882-85e09d0163cb', 'page_number': 1, 'split_id': 7, 'split_idx_start': 1063}, embedding: vector of size 2560),\n",
       " Document(id=580004fd61ef561f29ba7508ad9964bd94e2cf922857b557f66d23dfa96256a3, content: 'Diese Aufzeichnung erfolgt mittels einer CTG-Untersuchung (Kardiotokografie). Dabei werden die Wehen...', meta: {'title': 'Medizinische Maßnahmen rund um die Geburt.md', 'source_id': 'fb139ac4-aef9-4241-9882-85e09d0163cb', 'page_number': 1, 'split_id': 8, 'split_idx_start': 1086}, embedding: vector of size 2560),\n",
       " Document(id=079f918a284e78b4f176b092251220cb559e5445de346a52b6b1ff13cc6d8784, content: 'Diese Maßnahmen dienen der genauen Überwachung des Geburtsverlaufs und der Wehentätigkeit. Sie werde...', meta: {'title': 'Medizinische Maßnahmen rund um die Geburt.md', 'source_id': 'fb139ac4-aef9-4241-9882-85e09d0163cb', 'page_number': 1, 'split_id': 10, 'split_idx_start': 1226}, embedding: vector of size 2560),\n",
       " Document(id=5e6b1b276289cfa34b81d0d79f5a57c3edf426a27007e5f90d5f2bcfc634e441, content: 'Bei einer Mikroblutanalyse wird eine kleine Blutprobe vom Kopf oder Steiß des Kindes entnommen, um w...', meta: {'title': 'Medizinische Maßnahmen rund um die Geburt.md', 'source_id': 'fb139ac4-aef9-4241-9882-85e09d0163cb', 'page_number': 1, 'split_id': 12, 'split_idx_start': 1527}, embedding: vector of size 2560),\n",
       " Document(id=65732063b50c2798f5a0aa074a7fd3fd3818e59f73ce0650686b572fbeaeebaa, content: 'Diese Blutentnahme, die sogenannte Mikroblutanalyse, dient dazu, den Sauerstoffgehalt und andere wic...', meta: {'title': 'Medizinische Maßnahmen rund um die Geburt.md', 'source_id': 'fb139ac4-aef9-4241-9882-85e09d0163cb', 'page_number': 1, 'split_id': 13, 'split_idx_start': 1544}, embedding: vector of size 2560),\n",
       " Document(id=dd6b4e93f180ecdecfa38e0640c03c460c7b2ea0efe26a5c915209a270a15dbe, content: 'Die Schmerzbehandlung während der Geburt kann sowohl alternative Methoden wie Akupunktur oder Hypnos...', meta: {'title': 'Medizinische Maßnahmen rund um die Geburt.md', 'source_id': 'fb139ac4-aef9-4241-9882-85e09d0163cb', 'page_number': 1, 'split_id': 15, 'split_idx_start': 1901}, embedding: vector of size 2560),\n",
       " Document(id=76e5cda5b5b40fe6e1df0116a24d7e879fe158c9a509bce8790eaeef6a6516ec, content: 'Diese Verfahren sollen die Schmerzen während der Wehen lindern. TENS steht für transkutane elektrisc...', meta: {'title': 'Medizinische Maßnahmen rund um die Geburt.md', 'source_id': 'fb139ac4-aef9-4241-9882-85e09d0163cb', 'page_number': 1, 'split_id': 17, 'split_idx_start': 2112}, embedding: vector of size 2560),\n",
       " Document(id=1a199db2a26dbf69de903e83e6c74a8b66425fd648280312befc7f520f9adf12, content: 'Eine Pudendus-Anästhesie ist eine lokale Betäubung des Beckenbodens, die Schmerzen während der Gebur...', meta: {'title': 'Medizinische Maßnahmen rund um die Geburt.md', 'source_id': 'fb139ac4-aef9-4241-9882-85e09d0163cb', 'page_number': 1, 'split_id': 19, 'split_idx_start': 2494}, embedding: vector of size 2560),\n",
       " Document(id=4b100c640da54eff85c64de2b34089e19c32ea2361337eafbb713a6ae5f452a1, content: 'Lachgas wird als Gasgemisch über eine Maske inhaliert und kann bei Bedarf während der Wehen eingeset...', meta: {'title': 'Medizinische Maßnahmen rund um die Geburt.md', 'source_id': 'fb139ac4-aef9-4241-9882-85e09d0163cb', 'page_number': 1, 'split_id': 21, 'split_idx_start': 2808}, embedding: vector of size 2560),\n",
       " Document(id=0a2409e49345919a784fdf7264fe5c8ea7ea58555f51c56b92c727473a143c2e, content: 'PDA bedeutet, dass ein Lokalanästhetikum in den Rückenmarkskanal injiziert wird, um die Nerven zu be...', meta: {'title': 'Medizinische Maßnahmen rund um die Geburt.md', 'source_id': 'fb139ac4-aef9-4241-9882-85e09d0163cb', 'page_number': 1, 'split_id': 23, 'split_idx_start': 2971}, embedding: vector of size 2560),\n",
       " Document(id=4d96773b71ae70699edaaa259238b5cbdbe98583741ef348ffafec02c30d5d8a, content: 'Dies bedeutet, dass Sie gemeinsam mit den Ärztinnen und Ärzten die für Sie passende Schmerzbehandlun...', meta: {'title': 'Medizinische Maßnahmen rund um die Geburt.md', 'source_id': 'fb139ac4-aef9-4241-9882-85e09d0163cb', 'page_number': 1, 'split_id': 26, 'split_idx_start': 3156}, embedding: vector of size 2560),\n",
       " Document(id=a6d877127cf8dbf560a565bf238cd348ca12c4c043c81bf29d5607a50fa82a66, content: 'Wehenverstärkende Medikamente werden eingesetzt, um den natürlichen Geburtsverlauf zu unterstützen o...', meta: {'title': 'Medizinische Maßnahmen rund um die Geburt.md', 'source_id': 'fb139ac4-aef9-4241-9882-85e09d0163cb', 'page_number': 1, 'split_id': 28, 'split_idx_start': 3352}, embedding: vector of size 2560),\n",
       " Document(id=4ab16e5db85d41f0bd1d1105f9c42807683e1d176f057612c68f6ec7a85c3cd8, content: 'Wehenverstärkende Mittel werden also eingesetzt, wenn die Wehen von alleine nicht ausreichen, um die...', meta: {'title': 'Medizinische Maßnahmen rund um die Geburt.md', 'source_id': 'fb139ac4-aef9-4241-9882-85e09d0163cb', 'page_number': 1, 'split_id': 29, 'split_idx_start': 3383}, embedding: vector of size 2560),\n",
       " Document(id=e5f589a2a38411da83caf23a35f131977f3ddd72af4f73fbc3ef1809593b1e2f, content: 'Wehenhemmende Medikamente werden eingesetzt, um den Geburtsverlauf zu verlangsamen oder zu stoppen. ...', meta: {'title': 'Medizinische Maßnahmen rund um die Geburt.md', 'source_id': 'fb139ac4-aef9-4241-9882-85e09d0163cb', 'page_number': 1, 'split_id': 31, 'split_idx_start': 3860}, embedding: vector of size 2560),\n",
       " Document(id=278e2787c046c1bb422168db062bf887a98fdaf64d766592869c83c62c43c7eb, content: 'Manchmal liegt das Kind in einer ungünstigen Position (z.B. Querlage), die eine vaginale Geburt ersc...', meta: {'title': 'Medizinische Maßnahmen rund um die Geburt.md', 'source_id': 'fb139ac4-aef9-4241-9882-85e09d0163cb', 'page_number': 1, 'split_id': 33, 'split_idx_start': 3912}, embedding: vector of size 2560),\n",
       " Document(id=8cbfd372f826aeb040aa026c9155ccd355f27b6b7e809b761105cd7ca682dd49, content: 'Dies bedeutet, dass die Wehen sehr schnell hintereinander auftreten und möglicherweise die Mutter od...', meta: {'title': 'Medizinische Maßnahmen rund um die Geburt.md', 'source_id': 'fb139ac4-aef9-4241-9882-85e09d0163cb', 'page_number': 1, 'split_id': 34, 'split_idx_start': 4018}, embedding: vector of size 2560),\n",
       " Document(id=1940817b49345d9464cceeff364364cbcfea2519bef7d261a42b09eaeae63c8a, content: 'Ein auffälliges CTG (Kardiotokografie) kann auf eine vorübergehende Sauerstoffunterversorgung des Ba...', meta: {'title': 'Medizinische Maßnahmen rund um die Geburt.md', 'source_id': 'fb139ac4-aef9-4241-9882-85e09d0163cb', 'page_number': 1, 'split_id': 35, 'split_idx_start': 4046}, embedding: vector of size 2560),\n",
       " Document(id=d306485ac321170f93022ed57c445147c9114cda65b4913eb6c15609d6544d68, content: 'Dieser Zeitraum dient dazu, das medizinische Team auf die Operation vorzubereiten und sicherzustelle...', meta: {'title': 'Medizinische Maßnahmen rund um die Geburt.md', 'source_id': 'fb139ac4-aef9-4241-9882-85e09d0163cb', 'page_number': 1, 'split_id': 36, 'split_idx_start': 4119}, embedding: vector of size 2560),\n",
       " Document(id=74b423033a2e73a5129daee28db99a727c83290ce3bd4654413f82485b17ea6f, content: 'Infektionen können sowohl für die Mutter als auch für das Kind gefährlich sein. Um das Risiko zu min...', meta: {'title': 'Medizinische Maßnahmen rund um die Geburt.md', 'source_id': 'fb139ac4-aef9-4241-9882-85e09d0163cb', 'page_number': 1, 'split_id': 38, 'split_idx_start': 4221}, embedding: vector of size 2560),\n",
       " Document(id=0b6396ee44134f10341f265af1e9d0ab33037d277a66d117bec65eefa32926f0, content: 'Streptokokkenbefunde bedeuten, dass bei der Mutter oder dem Kind Bakterien der Streptokokkenart gefu...', meta: {'title': 'Medizinische Maßnahmen rund um die Geburt.md', 'source_id': 'fb139ac4-aef9-4241-9882-85e09d0163cb', 'page_number': 1, 'split_id': 39, 'split_idx_start': 4238}, embedding: vector of size 2560),\n",
       " Document(id=40d14e7d22871e79c8bba4428d11aff0891294e1db8e5ad9fe62f9951e5f87c2, content: 'Bei Frauen mit Rhesus-negativem Blut und einem Kind mit Rhesus-positivem Blut wird eine Anti-D-Injek...', meta: {'title': 'Medizinische Maßnahmen rund um die Geburt.md', 'source_id': 'fb139ac4-aef9-4241-9882-85e09d0163cb', 'page_number': 1, 'split_id': 41, 'split_idx_start': 4468}, embedding: vector of size 2560),\n",
       " Document(id=c9fdd2e4c7f458ad2f3ccdc3ca6cf15c7d4f4ebbd171a63421a65e384a188b8f, content: 'Diese Anti-D-Prophylaxe verhindert, dass die Mutter des Kindes Antikörper gegen die Rhesus-Faktoren ...', meta: {'title': 'Medizinische Maßnahmen rund um die Geburt.md', 'source_id': 'fb139ac4-aef9-4241-9882-85e09d0163cb', 'page_number': 1, 'split_id': 42, 'split_idx_start': 4486}, embedding: vector of size 2560),\n",
       " Document(id=3546dd38df50f2b3e7365e497c716ef70ee36c4e592f4fadf929aaacdc8e15b3, content: 'Antibiotika werden während der Geburt aus Gründen der Infektionsprävention eingesetzt, insbesondere ...', meta: {'title': 'Medizinische Maßnahmen rund um die Geburt.md', 'source_id': 'fb139ac4-aef9-4241-9882-85e09d0163cb', 'page_number': 1, 'split_id': 44, 'split_idx_start': 4723}, embedding: vector of size 2560),\n",
       " Document(id=d3b1d46c67dcd4966a6945b02bde66f10618ac43b6023ca3d01ad4bcb5ccb9c5, content: 'Um Dammschäden zu vermeiden, werden während der Geburt unterstützende Maßnahmen wie Kompressen oder ...', meta: {'title': 'Medizinische Maßnahmen rund um die Geburt.md', 'source_id': 'fb139ac4-aef9-4241-9882-85e09d0163cb', 'page_number': 1, 'split_id': 46, 'split_idx_start': 5095}, embedding: vector of size 2560),\n",
       " Document(id=d5f27736246bdaaf7b2079540a8b107b83cab44a9b9b82b0c20b34fa905f12a5, content: 'Ein Dammschnitt ist ein geplanter Schnitt des Damms, der während der Geburt durchgeführt wird. Er wi...', meta: {'title': 'Medizinische Maßnahmen rund um die Geburt.md', 'source_id': 'fb139ac4-aef9-4241-9882-85e09d0163cb', 'page_number': 1, 'split_id': 48, 'split_idx_start': 5744}, embedding: vector of size 2560),\n",
       " Document(id=6c8262fa0f543ce5fcd5777b3ffd4e92162672375f703ffaf3a2fb56d5888b30, content: 'Diese Instrumente werden eingesetzt, um den Geburtsvorgang zu beschleunigen und mögliche Komplikatio...', meta: {'title': 'Medizinische Maßnahmen rund um die Geburt.md', 'source_id': 'fb139ac4-aef9-4241-9882-85e09d0163cb', 'page_number': 1, 'split_id': 50, 'split_idx_start': 6294}, embedding: vector of size 2560),\n",
       " Document(id=abe43d75693db7381e2f285097a4c6ab294f67aed870de952cdc88ee94255242, content: 'Ein Kaiserschnitt ist ein geplanter oder notfallmäßiger operativer Eingriff, der eine Bauchoperation...', meta: {'title': 'Medizinische Maßnahmen rund um die Geburt.md', 'source_id': 'fb139ac4-aef9-4241-9882-85e09d0163cb', 'page_number': 1, 'split_id': 52, 'split_idx_start': 6819}, embedding: vector of size 2560),\n",
       " Document(id=d5946d5c30de1578ed301db47682adf01cbf17abff73032ff1b27d03f52ad791, content: 'Ein Kaiserschnitt ist ein geplanter oder notwendiger operativer Eingriff bei der Geburt. Da in Notfa...', meta: {'title': 'Medizinische Maßnahmen rund um die Geburt.md', 'source_id': 'fb139ac4-aef9-4241-9882-85e09d0163cb', 'page_number': 1, 'split_id': 54, 'split_idx_start': 7169}, embedding: vector of size 2560),\n",
       " Document(id=b21749b11effbc3e736a812dca1b0e60d4db5d3b07c5431bbf0d70ae87b04c61, content: 'Ein Kaiserschnitt ist ein operativer Eingriff, bei dem die Bauchdecke und die Gebärmutter eröffnet w...', meta: {'title': 'Medizinische Maßnahmen rund um die Geburt.md', 'source_id': 'fb139ac4-aef9-4241-9882-85e09d0163cb', 'page_number': 1, 'split_id': 56, 'split_idx_start': 7799}, embedding: vector of size 2560),\n",
       " Document(id=1ef856f11fab98b372765e03a2aead378d5b9711dd3c92e77675aec60fbb4a18, content: 'Eine Wassergeburt ist eine Option, erfordert aber eine separate Aufklärung über spezifische Aspekte ...', meta: {'title': 'Medizinische Maßnahmen rund um die Geburt.md', 'source_id': 'fb139ac4-aef9-4241-9882-85e09d0163cb', 'page_number': 1, 'split_id': 58, 'split_idx_start': 8331}, embedding: vector of size 2560),\n",
       " Document(id=3baeb4a27b1e5bc5498880ec9205f3e51a1151425ea73cf8fbd36cf97e25d8be, content: 'Die Plazenta, auch Mutterkuchen genannt, ist ein Organ, das während der Schwangerschaft die Versorgu...', meta: {'title': 'Medizinische Maßnahmen rund um die Geburt.md', 'source_id': 'fb139ac4-aef9-4241-9882-85e09d0163cb', 'page_number': 1, 'split_id': 60, 'split_idx_start': 8474}, embedding: vector of size 2560),\n",
       " Document(id=4a93b18347bc62dc94ceb770ddcf245d1f3b99b3fc7eeb5eacc203f57734938d, content: 'Die Anti-D-Injektion wird verabreicht, um zu verhindern, dass Ihre Körper Antikörper gegen die roten...', meta: {'title': 'Medizinische Maßnahmen rund um die Geburt.md', 'source_id': 'fb139ac4-aef9-4241-9882-85e09d0163cb', 'page_number': 1, 'split_id': 62, 'split_idx_start': 8819}, embedding: vector of size 2560),\n",
       " Document(id=dd52bd73aff87432b748166bce19e139c8d66970d3f6f0d8efe297d51b46e77f, content: 'Dieser Abschnitt fasst die allgemeine Risikobereitschaft bei der Geburt zusammen. Die aufgeführten R...', meta: {'title': 'Medizinische Maßnahmen rund um die Geburt.md', 'source_id': 'fb139ac4-aef9-4241-9882-85e09d0163cb', 'page_number': 1, 'split_id': 64, 'split_idx_start': 9150}, embedding: vector of size 2560),\n",
       " Document(id=359dc04de059d69a14c0cc52960948af8f7d579575cbef86dad8e238ad9cb5f6, content: '**HIT Typ II (Heparin-induzierte Thrombozytopenie Typ II)** ist eine seltene, aber schwerwiegende Ko...', meta: {'title': 'Medizinische Maßnahmen rund um die Geburt.md', 'source_id': 'fb139ac4-aef9-4241-9882-85e09d0163cb', 'page_number': 1, 'split_id': 66, 'split_idx_start': 9832}, embedding: vector of size 2560),\n",
       " Document(id=031703833191d2a1af87bafc5e5a6ff969ade4d7e826b870667f11dbd1cbdf22, content: 'Eine Fruchtwasserembolie ist eine sehr seltene, aber lebensbedrohliche Komplikation während der Gebu...', meta: {'title': 'Medizinische Maßnahmen rund um die Geburt.md', 'source_id': 'fb139ac4-aef9-4241-9882-85e09d0163cb', 'page_number': 1, 'split_id': 68, 'split_idx_start': 10323}, embedding: vector of size 2560),\n",
       " Document(id=c243dc4f3ed3d204b014287be5c8d6c268997734c027374155f761b959b4ccb1, content: '**Latex** ist ein Naturkautschuk, der in medizinischen Geräten und Handschuhen verwendet wird. Eine ...', meta: {'title': 'Medizinische Maßnahmen rund um die Geburt.md', 'source_id': 'fb139ac4-aef9-4241-9882-85e09d0163cb', 'page_number': 1, 'split_id': 70, 'split_idx_start': 10558}, embedding: vector of size 2560),\n",
       " Document(id=20cc5e5319547902d64f3863c6424afaa407bee488f915807f2dfe557777d425, content: 'Diese Reaktionen treten typischerweise an den Stellen auf, an denen Elektroden für die CTG-Messung o...', meta: {'title': 'Medizinische Maßnahmen rund um die Geburt.md', 'source_id': 'fb139ac4-aef9-4241-9882-85e09d0163cb', 'page_number': 1, 'split_id': 72, 'split_idx_start': 10876}, embedding: vector of size 2560),\n",
       " Document(id=642f47bcf821edffae43d251d2e9a4843df37358362ccbd3a7b7e9b7feb60c3d, content: 'Diese Atemprobleme sind meist vorübergehend und entstehen durch die Wirkung der Medikamente auf die ...', meta: {'title': 'Medizinische Maßnahmen rund um die Geburt.md', 'source_id': 'fb139ac4-aef9-4241-9882-85e09d0163cb', 'page_number': 1, 'split_id': 74, 'split_idx_start': 11064}, embedding: vector of size 2560),\n",
       " Document(id=46bb592bc777413f1be88519cccceb1b890c20a164866da597f6b4c60a51bfbf, content: 'Lachgas wird als Schmerzlinderungsmaßnahme während der Wehen durch eine Maske inhaliert. Es handelt ...', meta: {'title': 'Medizinische Maßnahmen rund um die Geburt.md', 'source_id': 'fb139ac4-aef9-4241-9882-85e09d0163cb', 'page_number': 1, 'split_id': 76, 'split_idx_start': 11314}, embedding: vector of size 2560),\n",
       " Document(id=ec8a32a06a43f5d3f28f50a0aa57781bef5682a9f24f136c9fbbd326fd6d28a1, content: 'CTG-Elektroden und Wehenmesser sind Hilfsmittel zur Überwachung von Mutter und Kind während der Gebu...', meta: {'title': 'Medizinische Maßnahmen rund um die Geburt.md', 'source_id': 'fb139ac4-aef9-4241-9882-85e09d0163cb', 'page_number': 1, 'split_id': 78, 'split_idx_start': 11568}, embedding: vector of size 2560),\n",
       " Document(id=52811f92c85d339a3752b035628f42986159705de0d2a3be16843bbf649cb8c0, content: 'Die Mikroblutanalyse ist ein Verfahren, bei dem eine kleine Blutprobe vom Kind entnommen wird, um de...', meta: {'title': 'Medizinische Maßnahmen rund um die Geburt.md', 'source_id': 'fb139ac4-aef9-4241-9882-85e09d0163cb', 'page_number': 1, 'split_id': 80, 'split_idx_start': 11809}, embedding: vector of size 2560),\n",
       " Document(id=fd8015ab65f9981522d8caa0bbb9c8513c5315d8e1929ada43c0038c6c036d26, content: '**Fistelbildungen** sind abnorme Verbindungen zwischen Organen oder Körperöffnungen, die beispielswe...', meta: {'title': 'Medizinische Maßnahmen rund um die Geburt.md', 'source_id': 'fb139ac4-aef9-4241-9882-85e09d0163cb', 'page_number': 1, 'split_id': 82, 'split_idx_start': 12093}, embedding: vector of size 2560),\n",
       " Document(id=d273833759e0789e4ee2b2fc0637d22c3160d28171d4baf1ec61ab11f138b302, content: 'Eine Schwäche des Beckenbodens kann nach der Geburt zu Problemen wie Inkontinenz führen. Diese Schwä...', meta: {'title': 'Medizinische Maßnahmen rund um die Geburt.md', 'source_id': 'fb139ac4-aef9-4241-9882-85e09d0163cb', 'page_number': 1, 'split_id': 84, 'split_idx_start': 12562}, embedding: vector of size 2560),\n",
       " Document(id=3d958434dfcb4d879cea14f19e2160ba33e8b182d7773c8590cc30e4da81f1f6, content: 'Ein Riss der Gebärmutter ist ein seltenes, aber ernstes Ereignis, das meist einen Notkaiserschnitt e...', meta: {'title': 'Medizinische Maßnahmen rund um die Geburt.md', 'source_id': 'fb139ac4-aef9-4241-9882-85e09d0163cb', 'page_number': 1, 'split_id': 86, 'split_idx_start': 12824}, embedding: vector of size 2560),\n",
       " Document(id=b36f0668c663a6baac2ac5764d453e600dff93b444a10891e02fc236b5042e49, content: 'Harnwegsinfekte sind häufige Komplikationen nach der Geburt, da die Nähe von Darm und Harnröhre sowi...', meta: {'title': 'Medizinische Maßnahmen rund um die Geburt.md', 'source_id': 'fb139ac4-aef9-4241-9882-85e09d0163cb', 'page_number': 1, 'split_id': 88, 'split_idx_start': 13084}, embedding: vector of size 2560),\n",
       " Document(id=9c5f99d0fc612dd95ac0caa6354540066e1c191bd59c061a9e3ed6651e5a1829, content: 'Bei starker Blutungen nach der Geburt kann eine Bluttransfusion notwendig werden. Das Risiko einer I...', meta: {'title': 'Medizinische Maßnahmen rund um die Geburt.md', 'source_id': 'fb139ac4-aef9-4241-9882-85e09d0163cb', 'page_number': 1, 'split_id': 90, 'split_idx_start': 13218}, embedding: vector of size 2560),\n",
       " Document(id=cd32982247c7aa45145667acdd938b59de947e284f219f0628fdd302e563ef81, content: 'Diese Entzündungen entstehen, wenn die Gebärmutter sich nicht vollständig zurückbildet oder Teile de...', meta: {'title': 'Medizinische Maßnahmen rund um die Geburt.md', 'source_id': 'fb139ac4-aef9-4241-9882-85e09d0163cb', 'page_number': 1, 'split_id': 92, 'split_idx_start': 13854}, embedding: vector of size 2560),\n",
       " Document(id=83d542e2ba0b37f8e17eb107e0b8ce400f989048fde37bb9943c9c21dd35d58a, content: 'Ein Nabelschnurvorfall tritt auf, wenn die Nabelschnur aus der Gebärmutter herausragt, bevor das Bab...', meta: {'title': 'Medizinische Maßnahmen rund um die Geburt.md', 'source_id': 'fb139ac4-aef9-4241-9882-85e09d0163cb', 'page_number': 1, 'split_id': 94, 'split_idx_start': 14231}, embedding: vector of size 2560),\n",
       " Document(id=4ceab34124ddfd980ffa448e3cdb0955c996fd56af34460df4a8764d5751eda6, content: 'Schulterdystokie ist eine seltene, aber potenziell gefährliche Situation, bei der die Schulter des K...', meta: {'title': 'Medizinische Maßnahmen rund um die Geburt.md', 'source_id': 'fb139ac4-aef9-4241-9882-85e09d0163cb', 'page_number': 1, 'split_id': 96, 'split_idx_start': 14429}, embedding: vector of size 2560),\n",
       " Document(id=832c6d3ac0e5002bb12fe30a71a486034f8f4647eeb4b696432e6b902f31f220, content: 'Die Beckenendlage ist eine Geburtslage, bei der das Kind mit dem Kopf nach oben oder nach unten posi...', meta: {'title': 'Medizinische Maßnahmen rund um die Geburt.md', 'source_id': 'fb139ac4-aef9-4241-9882-85e09d0163cb', 'page_number': 1, 'split_id': 98, 'split_idx_start': 14819}, embedding: vector of size 2560),\n",
       " Document(id=d0c4b5ddc5df0a3f7472bef4d4259db7ef437b915113c7f18491bf9cc56c85aa, content: 'Bei Zwillingsgeburten ist eine vaginale Entbindung möglich, wenn beide Kinder richtig liegen und die...', meta: {'title': 'Medizinische Maßnahmen rund um die Geburt.md', 'source_id': 'fb139ac4-aef9-4241-9882-85e09d0163cb', 'page_number': 1, 'split_id': 100, 'split_idx_start': 15277}, embedding: vector of size 2560),\n",
       " Document(id=1447c201b5faea59db6d923faf96f8a5632ebc602bd1496514cdbfe13fe0f1e1, content: 'Dieser Abschnitt listet mögliche Komplikationen und Symptome auf, auf die Mütter nach der Geburt ach...', meta: {'title': 'Medizinische Maßnahmen rund um die Geburt.md', 'source_id': 'fb139ac4-aef9-4241-9882-85e09d0163cb', 'page_number': 1, 'split_id': 103, 'split_idx_start': 15491}, embedding: vector of size 2560),\n",
       " Document(id=cf653d26757c2f81bb94a8ab6cfc25dc06f5bfed01808fe502f9f1458626fe5f, content: 'Eine Uterusruptur ist ein Riss der Gebärmutter, der meistens während der Wehen auftritt. Dies ist ei...', meta: {'title': 'Medizinische Maßnahmen rund um die Geburt.md', 'source_id': 'fb139ac4-aef9-4241-9882-85e09d0163cb', 'page_number': 1, 'split_id': 105, 'split_idx_start': 15508}, embedding: vector of size 2560),\n",
       " Document(id=81b05b617d0d46993a6ff468472f66a730d1c540f48cd34501ef36866ff4d156, content: 'Eine Fistel ist eine abnormale Verbindung zwischen zwei Organen oder Gefäßen. Sie kann beispielsweis...', meta: {'title': 'Medizinische Maßnahmen rund um die Geburt.md', 'source_id': 'fb139ac4-aef9-4241-9882-85e09d0163cb', 'page_number': 1, 'split_id': 106, 'split_idx_start': 15718}, embedding: vector of size 2560),\n",
       " Document(id=f4c3903f5334bea6101caf44f67ce40e05e8d1b6872def492062746f2ec93ef8, content: 'Für das Kind können während des Kaiserschnitts Verletzungen auftreten, wie z.B. kleine Schnittverlet...', meta: {'title': 'Medizinische Maßnahmen rund um die Geburt.md', 'source_id': 'fb139ac4-aef9-4241-9882-85e09d0163cb', 'page_number': 1, 'split_id': 108, 'split_idx_start': 15852}, embedding: vector of size 2560),\n",
       " Document(id=b8b7bc6ccbeb86355824f04bd76c5a67e4b365dae5043355e1e182f1e745489e, content: 'Diese Symptome sind häufige, aber meist unbedenklich, Folgen der Instrumentenentbindung (Saugglocke/...', meta: {'title': 'Medizinische Maßnahmen rund um die Geburt.md', 'source_id': 'fb139ac4-aef9-4241-9882-85e09d0163cb', 'page_number': 1, 'split_id': 110, 'split_idx_start': 15867}, embedding: vector of size 2560),\n",
       " Document(id=b8dd1b2af74596d06c23532d6af97249eed1bfc1862ed8b019bc89afc48f8bd0, content: 'Vitamin K unterstützt die Blutgerinnung und wird Neugeborenen oft verabreicht, da sie bei der Geburt...', meta: {'title': 'Medizinische Maßnahmen rund um die Geburt.md', 'source_id': 'fb139ac4-aef9-4241-9882-85e09d0163cb', 'page_number': 1, 'split_id': 112, 'split_idx_start': 15975}, embedding: vector of size 2560),\n",
       " Document(id=b442551fe617025c2bae4ad7d827a376147f05acef96664fd3417259d22483a2, content: 'Dieser Satz bezieht sich auf die instrumentelle Entbindung (Saugglocke/Zange), die in bestimmten Sit...', meta: {'title': 'Medizinische Maßnahmen rund um die Geburt.md', 'source_id': 'fb139ac4-aef9-4241-9882-85e09d0163cb', 'page_number': 1, 'split_id': 114, 'split_idx_start': 16050}, embedding: vector of size 2560),\n",
       " Document(id=831a5a3995b11807d12e3f7f00482ab4b1e3c32c645ccb46c96dfbd3378f1999, content: 'Damm- und Kaiserschnittnähte können Komplikationen wie Schmerzen, Blutungen oder Infektionen verursa...', meta: {'title': 'Medizinische Maßnahmen rund um die Geburt.md', 'source_id': 'fb139ac4-aef9-4241-9882-85e09d0163cb', 'page_number': 1, 'split_id': 116, 'split_idx_start': 16193}, embedding: vector of size 2560),\n",
       " Document(id=708ede37e197e60ba42b75d173726e0e95677ff10685e32e8e8bb3de825b51ba, content: 'Eine Sepsis ist eine schwere, lebensbedrohliche Reaktion des Körpers auf eine Infektion. Sie entsteh...', meta: {'title': 'Medizinische Maßnahmen rund um die Geburt.md', 'source_id': 'fb139ac4-aef9-4241-9882-85e09d0163cb', 'page_number': 1, 'split_id': 118, 'split_idx_start': 16328}, embedding: vector of size 2560),\n",
       " Document(id=fe1fe6c1ab8eeeae80278b57100b70c4c4299e4fd102f878d65b2dd088213947, content: 'Diese Wundheilungsstörung kann zu Schmerzen, Rötungen oder Spannungsgefühl führen und erfordert mögl...', meta: {'title': 'Medizinische Maßnahmen rund um die Geburt.md', 'source_id': 'fb139ac4-aef9-4241-9882-85e09d0163cb', 'page_number': 1, 'split_id': 120, 'split_idx_start': 16481}, embedding: vector of size 2560),\n",
       " Document(id=3713348169abb341c74549097aa7e8c7f0e228ce996b66cd0067a422ba5aa43e, content: 'Narben können sich auch nach Jahren noch verändern und Beschwerden verursachen. Eine operative Korre...', meta: {'title': 'Medizinische Maßnahmen rund um die Geburt.md', 'source_id': 'fb139ac4-aef9-4241-9882-85e09d0163cb', 'page_number': 1, 'split_id': 122, 'split_idx_start': 16699}, embedding: vector of size 2560),\n",
       " Document(id=78112e942451ab823907862f1bf9b3d5c591985954712d5091872dae942a6e38, content: 'Dieser Absatz weist darauf hin, dass der vorliegende Text nur eine allgemeine Einführung in die Risi...', meta: {'title': 'Medizinische Maßnahmen rund um die Geburt.md', 'source_id': 'fb139ac4-aef9-4241-9882-85e09d0163cb', 'page_number': 1, 'split_id': 125, 'split_idx_start': 16883}, embedding: vector of size 2560),\n",
       " Document(id=12514f018feffc254c8d339e42e7f6b318c95a6d38e2f1b67dcfaf558b3f30a5, content: 'Diese Verletzungen können durch frühere Operationen, starke Verwachsungen oder schwierige anatomisch...', meta: {'title': 'Medizinische Maßnahmen rund um die Geburt.md', 'source_id': 'fb139ac4-aef9-4241-9882-85e09d0163cb', 'page_number': 1, 'split_id': 127, 'split_idx_start': 17110}, embedding: vector of size 2560),\n",
       " Document(id=1141407a758ae519d6f8d8ed7532828fdb8e5b4ea9a6c6102420312d6a877f19, content: 'Diese Aussage bezieht sich auf mögliche Komplikationen während eines Kaiserschnitts, bei denen stark...', meta: {'title': 'Medizinische Maßnahmen rund um die Geburt.md', 'source_id': 'fb139ac4-aef9-4241-9882-85e09d0163cb', 'page_number': 1, 'split_id': 129, 'split_idx_start': 17692}, embedding: vector of size 2560),\n",
       " Document(id=7afbdf326aafab34995aa3d8d26bbcb8a03df8f06eba4deef5f5053b58db38f5, content: 'Diese Verletzungen können durch die Positionierung der Mutter während des Kaiserschnitts oder durch ...', meta: {'title': 'Medizinische Maßnahmen rund um die Geburt.md', 'source_id': 'fb139ac4-aef9-4241-9882-85e09d0163cb', 'page_number': 1, 'split_id': 131, 'split_idx_start': 17952}, embedding: vector of size 2560),\n",
       " Document(id=fb74da99257544974b95e83ef547770b48dc178a0b1e721e83e7d534f57ee99c, content: 'Eine Infektion der Bauchhöhle, auch Peritonitis genannt, ist eine schwere Komplikation, die eine sof...', meta: {'title': 'Medizinische Maßnahmen rund um die Geburt.md', 'source_id': 'fb139ac4-aef9-4241-9882-85e09d0163cb', 'page_number': 1, 'split_id': 133, 'split_idx_start': 18342}, embedding: vector of size 2560),\n",
       " Document(id=46e564310148e644c361f5ac346c405c7c5a501d7c059d5858295100457bd49f, content: 'Ein Narbenbruch tritt auf, wenn sich die Wundränder an der Operationsstelle wieder öffnen. Dies kann...', meta: {'title': 'Medizinische Maßnahmen rund um die Geburt.md', 'source_id': 'fb139ac4-aef9-4241-9882-85e09d0163cb', 'page_number': 1, 'split_id': 135, 'split_idx_start': 18680}, embedding: vector of size 2560),\n",
       " Document(id=732bf368ef6ade8f0269df3f8c66adb811ad9f898e830ff71e6f15051b06db6b, content: 'Eine Darmlähmung kann dazu führen, dass der Darm sich nicht wie gewohnt bewegt und Nahrung nicht wei...', meta: {'title': 'Medizinische Maßnahmen rund um die Geburt.md', 'source_id': 'fb139ac4-aef9-4241-9882-85e09d0163cb', 'page_number': 1, 'split_id': 137, 'split_idx_start': 18888}, embedding: vector of size 2560),\n",
       " Document(id=9ef9c0a98d5c3ef4b9211bf01cfeb7ec7b3941232114a86de4e96e57d71f205e, content: '**Plazentationsstörungen** beziehen sich auf Probleme, wie die Plazenta sich an die Gebärmutterwand ...', meta: {'title': 'Medizinische Maßnahmen rund um die Geburt.md', 'source_id': 'fb139ac4-aef9-4241-9882-85e09d0163cb', 'page_number': 1, 'split_id': 139, 'split_idx_start': 19066}, embedding: vector of size 2560),\n",
       " Document(id=271c7a22d5fd44351ab035f98b7f496f571f8d0bdde146e414f96f154bd72454, content: 'Dieser Abschnitt beschreibt mögliche Folgen eines Kaiserschnitts für die Mutter. Schmerzen und Misse...', meta: {'title': 'Medizinische Maßnahmen rund um die Geburt.md', 'source_id': 'fb139ac4-aef9-4241-9882-85e09d0163cb', 'page_number': 1, 'split_id': 141, 'split_idx_start': 19359}, embedding: vector of size 2560),\n",
       " Document(id=77ad1bd6621b79e2803bd9d6ee2aada7662101d5479466f9d481a6b8af16dc45, content: 'Dieser Satz bezieht sich auf mögliche Verletzungen des Babys während eines Kaiserschnitts. Kaisersch...', meta: {'title': 'Medizinische Maßnahmen rund um die Geburt.md', 'source_id': 'fb139ac4-aef9-4241-9882-85e09d0163cb', 'page_number': 1, 'split_id': 143, 'split_idx_start': 19577}, embedding: vector of size 2560),\n",
       " Document(id=05547e22a6f78008bb15518c2c7782f61529979fe10cdb596930f03048b5fb4a, content: 'Ein Kaiserschnitt ist ein operativer Eingriff, bei dem das Baby durch einen Schnitt in Bauch und Geb...', meta: {'title': 'Medizinische Maßnahmen rund um die Geburt.md', 'source_id': 'fb139ac4-aef9-4241-9882-85e09d0163cb', 'page_number': 1, 'split_id': 145, 'split_idx_start': 19797}, embedding: vector of size 2560),\n",
       " Document(id=f35b96a0303f61ee5e0ddf00bd75f5cf2c2d7ab0e3ba10d9cff20a5981d69045, content: '**Hintergrund:** Studien legen einen möglichen Zusammenhang zwischen Kaiserschnitten und einem erhöh...', meta: {'title': 'Medizinische Maßnahmen rund um die Geburt.md', 'source_id': 'fb139ac4-aef9-4241-9882-85e09d0163cb', 'page_number': 1, 'split_id': 147, 'split_idx_start': 20093}, embedding: vector of size 2560),\n",
       " Document(id=b67ef6cfd0100b6a936158d75e371953a3c71675480f79d033aab04ebd03b360, content: 'Dieser Absatz betont die Wichtigkeit einer individuellen Beratung und ermutigt die Patientin, offene...', meta: {'title': 'Medizinische Maßnahmen rund um die Geburt.md', 'source_id': 'fb139ac4-aef9-4241-9882-85e09d0163cb', 'page_number': 1, 'split_id': 149, 'split_idx_start': 20342}, embedding: vector of size 2560),\n",
       " Document(id=32830f4cecaa91aedf891ec9b552a926bbae0144e59304eae4ccb60493d2a0ed, content: 'Dieser Abschnitt listet Symptome auf, die nach der Geburt auf eine mögliche Komplikation hindeuten u...', meta: {'title': 'Medizinische Maßnahmen rund um die Geburt.md', 'source_id': 'fb139ac4-aef9-4241-9882-85e09d0163cb', 'page_number': 1, 'split_id': 151, 'split_idx_start': 20492}, embedding: vector of size 2560),\n",
       " Document(id=924e089ed50c25f46b09d93104243132affe888a70ae03f9bbc28ee58117dd27, content: 'Dies ist ein Warnsignal für eine mögliche Infektion, die ärztlich abgeklärt werden muss. Solche Infe...', meta: {'title': 'Medizinische Maßnahmen rund um die Geburt.md', 'source_id': 'fb139ac4-aef9-4241-9882-85e09d0163cb', 'page_number': 1, 'split_id': 153, 'split_idx_start': 20599}, embedding: vector of size 2560),\n",
       " Document(id=3902dd03d139d6736203f786a1cdfe78ba7b0c86ca808f3c42fe5e062f503b83, content: 'Diese Symptome können auf eine Infektion oder andere Komplikationen nach der Geburt hindeuten und er...', meta: {'title': 'Medizinische Maßnahmen rund um die Geburt.md', 'source_id': 'fb139ac4-aef9-4241-9882-85e09d0163cb', 'page_number': 1, 'split_id': 154, 'split_idx_start': 20622}, embedding: vector of size 2560),\n",
       " Document(id=4a31f490adf71b496e14576af8ce29933ad3c1a56c042cd938120ec05aafa799, content: 'Dies bezieht sich auf die Nachblutungen, die nach der Geburt auftreten können. Eine übermäßige Blutu...', meta: {'title': 'Medizinische Maßnahmen rund um die Geburt.md', 'source_id': 'fb139ac4-aef9-4241-9882-85e09d0163cb', 'page_number': 1, 'split_id': 155, 'split_idx_start': 20658}, embedding: vector of size 2560),\n",
       " Document(id=4c8d1a2562815b44caffc79d013c02608711f82b743c00bfc427dd81f8a5f4e4, content: 'Dies kann ein Zeichen für eine Milchdrüsenentzündung oder eine Abszessbildung sein, die ärztlich abg...', meta: {'title': 'Medizinische Maßnahmen rund um die Geburt.md', 'source_id': 'fb139ac4-aef9-4241-9882-85e09d0163cb', 'page_number': 1, 'split_id': 156, 'split_idx_start': 20715}, embedding: vector of size 2560),\n",
       " Document(id=2d3471111c14184545e51cf003134083a85faa5dc58153819f2c01afb77414ed, content: 'Dies könnte ein Zeichen für eine tiefe Venenthrombose (Blutgerinnsel) sein, einer potenziell gefährl...', meta: {'title': 'Medizinische Maßnahmen rund um die Geburt.md', 'source_id': 'fb139ac4-aef9-4241-9882-85e09d0163cb', 'page_number': 1, 'split_id': 157, 'split_idx_start': 20786}, embedding: vector of size 2560),\n",
       " Document(id=3991f9d52b9779d3e5769c5e2336c067995638bafcd0efc4e3d1778ba2c0ab5b, content: 'Atemnot kann verschiedene Ursachen haben, von Stress nach der Geburt bis hin zu ernsteren Komplikati...', meta: {'title': 'Medizinische Maßnahmen rund um die Geburt.md', 'source_id': 'fb139ac4-aef9-4241-9882-85e09d0163cb', 'page_number': 1, 'split_id': 158, 'split_idx_start': 20839}, embedding: vector of size 2560),\n",
       " Document(id=e6fa01487281e0261d063c8933aae2b360a52c699a50c0e89b5b3a63785ba25f, content: 'Nach der Geburt ist es wichtig, auf Veränderungen im Körper zu achten und bei Auffälligkeiten frühze...', meta: {'title': 'Medizinische Maßnahmen rund um die Geburt.md', 'source_id': 'fb139ac4-aef9-4241-9882-85e09d0163cb', 'page_number': 1, 'split_id': 160, 'split_idx_start': 20876}, embedding: vector of size 2560),\n",
       " Document(id=aa1b124d884a8f23314417ed82f7174c3dfc63baf7f31b1dffbbd082a7d954e6, content: 'Diese Methoden sind die Allgemeinanästhesie (Narkose), die das Bewusstsein ausschaltet, und die Regi...', meta: {'title': 'Narkose.md', 'source_id': 'fa1b681e-dcd4-451d-8ffb-0466d166e0a4', 'page_number': 1, 'split_id': 0, 'split_idx_start': 0}, embedding: vector of size 2560),\n",
       " Document(id=91ba584229d4626b44be072f547c44b4304fd6c2a19d362edf7c3785018ac76f, content: 'Eine Vollnarkose wird durch die Gabe von Medikamenten erreicht, die das Gehirn beeinflussen. Während...', meta: {'title': 'Narkose.md', 'source_id': 'fa1b681e-dcd4-451d-8ffb-0466d166e0a4', 'page_number': 1, 'split_id': 2, 'split_idx_start': 104}, embedding: vector of size 2560),\n",
       " Document(id=4edab1d6617b1685c6a641744e2c9a9f718b3de2b65de8541d2d8f69bc326ead, content: 'Bei dieser Methode bleibt man wach, kann aber auf Wunsch oder bei medizinischer Notwendigkeit ein Be...', meta: {'title': 'Narkose.md', 'source_id': 'fa1b681e-dcd4-451d-8ffb-0466d166e0a4', 'page_number': 1, 'split_id': 3, 'split_idx_start': 233}, embedding: vector of size 2560),\n",
       " Document(id=11cc9a88f720562febe6599f10b2be9ac85e77f83f4ea111696a9a6d29a75a1e, content: 'Der behandelnde Arzt wird Sie also umfassend beraten und die für Sie passende Methode auswählen, wob...', meta: {'title': 'Narkose.md', 'source_id': 'fa1b681e-dcd4-451d-8ffb-0466d166e0a4', 'page_number': 1, 'split_id': 5, 'split_idx_start': 326}, embedding: vector of size 2560),\n",
       " Document(id=efa3c94657d50fae3a64434785c0e0dda4dc10b19577d889a320adcd7e79ed44, content: 'Dieser Zugang dient dazu, Flüssigkeiten und Medikamente während der Operation zu verabreichen. Die K...', meta: {'title': 'Narkose.md', 'source_id': 'fa1b681e-dcd4-451d-8ffb-0466d166e0a4', 'page_number': 1, 'split_id': 7, 'split_idx_start': 674}, embedding: vector of size 2560),\n",
       " Document(id=4f817ab321b8796d6a38b92025e4ed6ef0991482105cffb5069ce787db0c66d5, content: 'Diese Kanüle wurde zuvor in eine Vene gelegt, um Flüssigkeiten und Medikamente zu verabreichen. Die ...', meta: {'title': 'Narkose.md', 'source_id': 'fa1b681e-dcd4-451d-8ffb-0466d166e0a4', 'page_number': 1, 'split_id': 9, 'split_idx_start': 916}, embedding: vector of size 2560),\n",
       " Document(id=1846482c858ad4bbf4d24abe13225bf7a278ba57b8ddaa77c22f889e1918bdab, content: 'Die Wahl der Methode hängt von verschiedenen Faktoren ab, wie der Art des Eingriffs, Ihrer individue...', meta: {'title': 'Narkose.md', 'source_id': 'fa1b681e-dcd4-451d-8ffb-0466d166e0a4', 'page_number': 1, 'split_id': 11, 'split_idx_start': 1049}, embedding: vector of size 2560),\n",
       " Document(id=9a46f34330fff0cab7f51ac2768dee231af6c61bfdfbea0f60a8d77909f670bd, content: 'Um eine schonende Einführung zu gewährleisten und optimale Operationsbedingungen zu schaffen, wird i...', meta: {'title': 'Narkose.md', 'source_id': 'fa1b681e-dcd4-451d-8ffb-0466d166e0a4', 'page_number': 1, 'split_id': 13, 'split_idx_start': 1264}, embedding: vector of size 2560),\n",
       " Document(id=51900634cc20ceb01a47789932553da0a4d4824d2f49c28d1df3ce515014869d, content: 'Ein Tubus ist ein Kunststoffrohr, das in die Luftröhre eingeführt wird, um die Beatmung während der ...', meta: {'title': 'Narkose.md', 'source_id': 'fa1b681e-dcd4-451d-8ffb-0466d166e0a4', 'page_number': 1, 'split_id': 15, 'split_idx_start': 1302}, embedding: vector of size 2560),\n",
       " Document(id=622f3a0ee2620c8aecc411cd739e0f3372859c177aeb99dff8a417a898ffd170, content: 'Eine Kehlkopfmaske ist eine Alternative zum Tubus, die einfacher zu handhaben ist. Sie wird vor den ...', meta: {'title': 'Narkose.md', 'source_id': 'fa1b681e-dcd4-451d-8ffb-0466d166e0a4', 'page_number': 1, 'split_id': 16, 'split_idx_start': 1402}, embedding: vector of size 2560),\n",
       " Document(id=b19f8d2db40f30a2487c0a9406997902958d2d936e139aa50364fd72414d673d, content: 'Muskelrelaxantien helfen dabei, die Muskeln zu entspannen, was das Einführen des Beatmungsschlauchs ...', meta: {'title': 'Narkose.md', 'source_id': 'fa1b681e-dcd4-451d-8ffb-0466d166e0a4', 'page_number': 1, 'split_id': 18, 'split_idx_start': 1473}, embedding: vector of size 2560),\n",
       " Document(id=9ad4102655d6de72b2e35c3594a321999a271c45858ff04e94ebb0cd3ffc69e4, content: 'Diese Methode betäubt nur den zu operierenden Körperbereich, während Sie wach bleiben können. Auf Wu...', meta: {'title': 'Narkose.md', 'source_id': 'fa1b681e-dcd4-451d-8ffb-0466d166e0a4', 'page_number': 1, 'split_id': 20, 'split_idx_start': 1792}, embedding: vector of size 2560),\n",
       " Document(id=a86cfae6a7ceb7304d7a9faa131a8ac4d9391d20f25c09e91bcdf36197745ed6, content: 'Diese Symptome sind typisch für eine Regionalanästhesie, bei der ein lokales Betäubungsmittel in die...', meta: {'title': 'Narkose.md', 'source_id': 'fa1b681e-dcd4-451d-8ffb-0466d166e0a4', 'page_number': 1, 'split_id': 22, 'split_idx_start': 2123}, embedding: vector of size 2560),\n",
       " Document(id=9a10918e1dcee239ab825967f7c3293575986f8debc4abc6b58d1b1f36076b30, content: 'Bei einer Sedierung während der Regionalanästhesie werden Sie also in einen entspannten, schläfrigen...', meta: {'title': 'Narkose.md', 'source_id': 'fa1b681e-dcd4-451d-8ffb-0466d166e0a4', 'page_number': 1, 'split_id': 24, 'split_idx_start': 2436}, embedding: vector of size 2560),\n",
       " Document(id=52d35e604d8c86dde118c41adc4b171dc4fe0a6aecfff57f2d3e48a3504b1178, content: 'Diese Kombination von Regionalanästhesie und Narkose wird manchmal gewählt, um die Vorteile beider V...', meta: {'title': 'Narkose.md', 'source_id': 'fa1b681e-dcd4-451d-8ffb-0466d166e0a4', 'page_number': 1, 'split_id': 26, 'split_idx_start': 2798}, embedding: vector of size 2560),\n",
       " Document(id=da177f7c606c21fa0a1227e7e620a7af18596e21c52bd7f393315f0d5fb39998, content: 'Spinal- und Periduralanästhesie werden oft für Eingriffe am Unterkörper eingesetzt, da sie die Schme...', meta: {'title': 'Narkose.md', 'source_id': 'fa1b681e-dcd4-451d-8ffb-0466d166e0a4', 'page_number': 1, 'split_id': 28, 'split_idx_start': 3128}, embedding: vector of size 2560),\n",
       " Document(id=39a601afeb2420cdff6456f33dcbc17c54235062af9dba060160f7789a8bf301, content: 'Hierbei handelt es sich um Spinal- und Periduralanästhesie, die hauptsächlich für Eingriffe an der u...', meta: {'title': 'Narkose.md', 'source_id': 'fa1b681e-dcd4-451d-8ffb-0466d166e0a4', 'page_number': 1, 'split_id': 30, 'split_idx_start': 3387}, embedding: vector of size 2560),\n",
       " Document(id=35d15bc840166c4c794c6ca0c6343e0b234b783abb63b675f0694a1d6f81d5b5, content: 'Der Spinalraum befindet sich unterhalb der harten Rückenmarkshaut und ist mit Nervenflüssigkeit gefü...', meta: {'title': 'Narkose.md', 'source_id': 'fa1b681e-dcd4-451d-8ffb-0466d166e0a4', 'page_number': 1, 'split_id': 32, 'split_idx_start': 3462}, embedding: vector of size 2560),\n",
       " Document(id=b051d5a96313d21194f1f171cb7f5051d0dae52a563b38dcf0d644ee0ded9961, content: 'Die PDA wird häufig für Eingriffe an der unteren Körperhälfte eingesetzt, kann aber auch bei Brustko...', meta: {'title': 'Narkose.md', 'source_id': 'fa1b681e-dcd4-451d-8ffb-0466d166e0a4', 'page_number': 1, 'split_id': 33, 'split_idx_start': 3662}, embedding: vector of size 2560),\n",
       " Document(id=3585a671487ea0b43fb4d90ae26bb2e2754836ed08615f36b35436fa778cf248, content: 'Hier bezieht sich \"beide Verfahren\" auf Spinal- und Periduralanästhesie. Beide Methoden wirken auf d...', meta: {'title': 'Narkose.md', 'source_id': 'fa1b681e-dcd4-451d-8ffb-0466d166e0a4', 'page_number': 1, 'split_id': 35, 'split_idx_start': 3873}, embedding: vector of size 2560),\n",
       " Document(id=0cc0c13791d210decfdc03a3b8ff253deb0c381eb79c495ba37a7b5ed74bef76, content: 'Diese Technik, die Armplexusanästhesie, betäubt gezielt Nerven im Schulterbereich. Sie wird eingeset...', meta: {'title': 'Narkose.md', 'source_id': 'fa1b681e-dcd4-451d-8ffb-0466d166e0a4', 'page_number': 1, 'split_id': 37, 'split_idx_start': 3931}, embedding: vector of size 2560),\n",
       " Document(id=ae6e7e01f2668462de11e8b79c13f8a55653b21c4107247d7e6e753dd4954b8a, content: 'Die axilläre Technik wird bei Operationen am Arm oder der Schulter eingesetzt. Dabei wird das Betäub...', meta: {'title': 'Narkose.md', 'source_id': 'fa1b681e-dcd4-451d-8ffb-0466d166e0a4', 'page_number': 1, 'split_id': 39, 'split_idx_start': 4232}, embedding: vector of size 2560),\n",
       " Document(id=2b44218e2c3a4fd2be9bb246082ba891b754a88edb21dc0aa5330d81fb67404c, content: 'Dies bezieht sich auf eine Injektionsstelle für eine Armplexusanästhesie, einer Betäubungstechnik fü...', meta: {'title': 'Narkose.md', 'source_id': 'fa1b681e-dcd4-451d-8ffb-0466d166e0a4', 'page_number': 1, 'split_id': 40, 'split_idx_start': 4261}, embedding: vector of size 2560),\n",
       " Document(id=4ae55276239d605f93fb27d209e7aaa6bf3ec61bdacd349769b0aff7af1986f2, content: 'Bei der Armplexusanästhesie wird das Betäubungsmittel hier in die Nähe des Nervengeflechts injiziert...', meta: {'title': 'Narkose.md', 'source_id': 'fa1b681e-dcd4-451d-8ffb-0466d166e0a4', 'page_number': 1, 'split_id': 41, 'split_idx_start': 4308}, embedding: vector of size 2560),\n",
       " Document(id=db7d46fafec668f2f7a7e76676f7d599df1e840d888ba34c491d84eafb0eb9e2, content: 'Diese Injektionsstelle wird bei der Armplexusanästhesie verwendet, um den Nerven zu erreichen. Ultra...', meta: {'title': 'Narkose.md', 'source_id': 'fa1b681e-dcd4-451d-8ffb-0466d166e0a4', 'page_number': 1, 'split_id': 42, 'split_idx_start': 4354}, embedding: vector of size 2560),\n",
       " Document(id=627c60365506077482a3b9bbc33e107db78f1a3cdbcaefa712c0e44976b7b062, content: 'Diese Techniken helfen dem Arzt, die Nadel präzise zu platzieren und Nerven zu schonen. Die Stimulat...', meta: {'title': 'Narkose.md', 'source_id': 'fa1b681e-dcd4-451d-8ffb-0466d166e0a4', 'page_number': 1, 'split_id': 44, 'split_idx_start': 4416}, embedding: vector of size 2560),\n",
       " Document(id=37e2a1fa60e9b9f84df873bba8a76daf4a150ed4a6a75436e7a1974ff46777e3, content: 'Wenn eine Regionalanästhesie nicht ausreichend wirkt oder unerwünschte Nebenwirkungen auftreten, kan...', meta: {'title': 'Narkose.md', 'source_id': 'fa1b681e-dcd4-451d-8ffb-0466d166e0a4', 'page_number': 1, 'split_id': 46, 'split_idx_start': 4626}, embedding: vector of size 2560),\n",
       " Document(id=9aadd7380d59fec2c5706c619697f2c97e9db6f15f98f0e4c749933cf1b5c93b, content: 'Dieser Katheter ermöglicht eine kontinuierliche Schmerzmedikation und kann so die Notwendigkeit weit...', meta: {'title': 'Narkose.md', 'source_id': 'fa1b681e-dcd4-451d-8ffb-0466d166e0a4', 'page_number': 1, 'split_id': 48, 'split_idx_start': 4930}, embedding: vector of size 2560),\n",
       " Document(id=e0e4b056a6d180046ebfbbd906ad201dd6cfa14ae7526f9a0b3fa4c8e3b2cabd, content: 'Ein Katheter zur Schmerzbehandlung wird in die Nähe der Nerven gelegt, um Medikamente gezielt zu ver...', meta: {'title': 'Narkose.md', 'source_id': 'fa1b681e-dcd4-451d-8ffb-0466d166e0a4', 'page_number': 1, 'split_id': 50, 'split_idx_start': 5360}, embedding: vector of size 2560),\n",
       " Document(id=87588d81bac175c0e1e69d644aa79c6605761d69fc1de90210f20e21cd776db0, content: 'Ein zentraler Venenkatheter ist ein Schlauch, der in eine große Vene gelegt wird, um Medikamente, Fl...', meta: {'title': 'Narkose.md', 'source_id': 'fa1b681e-dcd4-451d-8ffb-0466d166e0a4', 'page_number': 1, 'split_id': 52, 'split_idx_start': 5514}, embedding: vector of size 2560),\n",
       " Document(id=76bb1fb5533f49eb800b7f7310ee1ecbabd88fcf72a9e9d7bd48ddaddc25e6f7, content: 'Bluttransfusionen sind selten notwendig, bergen aber Risiken wie Infektionen oder Unverträglichkeite...', meta: {'title': 'Narkose.md', 'source_id': 'fa1b681e-dcd4-451d-8ffb-0466d166e0a4', 'page_number': 1, 'split_id': 54, 'split_idx_start': 5687}, embedding: vector of size 2560),\n",
       " Document(id=38064b6017e6fcef5633a3c60f562e94eeeaf1128c160f625b4c9dd14b000369, content: 'Diese Komplikationen sind selten, können aber lebensbedrohlich sein und erfordern möglicherweise zus...', meta: {'title': 'Narkose.md', 'source_id': 'fa1b681e-dcd4-451d-8ffb-0466d166e0a4', 'page_number': 1, 'split_id': 56, 'split_idx_start': 6241}, embedding: vector of size 2560),\n",
       " Document(id=18a423ebcc2521386c3361fa9665d9e780bb08711a5a1bd3f01f03aadb905c93, content: 'Diese Häufigkeiten sind Schätzungen und können je nach individuellen Faktoren und der spezifischen S...', meta: {'title': 'Narkose.md', 'source_id': 'fa1b681e-dcd4-451d-8ffb-0466d166e0a4', 'page_number': 1, 'split_id': 58, 'split_idx_start': 6705}, embedding: vector of size 2560),\n",
       " Document(id=09dde80130a5feae3f0b109debf80241a838f131be1c3bb707f27016dce1f1bb, content: '\"Off-Label-Use\" bedeutet, dass ein Medikament für eine Anwendung eingesetzt wird, für die es nicht d...', meta: {'title': 'Narkose.md', 'source_id': 'fa1b681e-dcd4-451d-8ffb-0466d166e0a4', 'page_number': 1, 'split_id': 60, 'split_idx_start': 7081}, embedding: vector of size 2560),\n",
       " Document(id=6993ff45d44d30c8ad00a5a4d9b09d07acbb5f5b171034996667520ce8b63a62, content: 'Diese Verletzungen sind meist harmlos und bilden sich zurück, können aber in seltenen Fällen eine in...', meta: {'title': 'Narkose.md', 'source_id': 'fa1b681e-dcd4-451d-8ffb-0466d166e0a4', 'page_number': 1, 'split_id': 62, 'split_idx_start': 7482}, embedding: vector of size 2560),\n",
       " Document(id=084e4d8b7c142c20b625442cc5e9d406b11edf1a9d1f163133c09f4eb0e0e819, content: 'Katheter werden oft zur Verabreichung von Medikamenten oder Flüssigkeiten während der Narkose verwen...', meta: {'title': 'Narkose.md', 'source_id': 'fa1b681e-dcd4-451d-8ffb-0466d166e0a4', 'page_number': 1, 'split_id': 64, 'split_idx_start': 7744}, embedding: vector of size 2560),\n",
       " Document(id=f46cb6ee113fe94bf393daa097a5a5aea91f15857ead179cc8ac05e2b4f4b096, content: 'Diese Symptome können durch die Platzierung von Kathetern, Kanülen oder Nadeln entstehen, die währen...', meta: {'title': 'Narkose.md', 'source_id': 'fa1b681e-dcd4-451d-8ffb-0466d166e0a4', 'page_number': 1, 'split_id': 66, 'split_idx_start': 8034}, embedding: vector of size 2560),\n",
       " Document(id=eda0b0debcdd5afb4ecbf21fffdce22581e357f50b084b13ba1e1559ec862fb7, content: 'Diese Komplikationen sind äußerst selten und treten meist als Folge von Verletzungen während der Nar...', meta: {'title': 'Narkose.md', 'source_id': 'fa1b681e-dcd4-451d-8ffb-0466d166e0a4', 'page_number': 1, 'split_id': 68, 'split_idx_start': 8330}, embedding: vector of size 2560),\n",
       " Document(id=8a112ddc3d6eeace52b9a24e8db9c6ee8cbca0c157783fb188471d0641590033, content: 'Gerinnsel können sich bilden und Gefäße verstopfen. Dies kann zu schwerwiegenden Komplikationen wie ...', meta: {'title': 'Narkose.md', 'source_id': 'fa1b681e-dcd4-451d-8ffb-0466d166e0a4', 'page_number': 1, 'split_id': 70, 'split_idx_start': 8501}, embedding: vector of size 2560),\n",
       " Document(id=21dfaa9063c677250a762426d4e034e59545fa54100f46634b80af7545123ff8, content: 'Diese Schäden entstehen durch die Positionierung des Körpers während der Narkose. Sie sind meist vor...', meta: {'title': 'Narkose.md', 'source_id': 'fa1b681e-dcd4-451d-8ffb-0466d166e0a4', 'page_number': 1, 'split_id': 72, 'split_idx_start': 8699}, embedding: vector of size 2560),\n",
       " Document(id=fe7f2496839e1aa339c8eee4a368ac8c42ad7fecba863691996f16a1c6ca9a9b, content: 'Diese Nebenwirkungen sind meist vorübergehend und können durch Medikamente behandelt werden. Sollten...', meta: {'title': 'Narkose.md', 'source_id': 'fa1b681e-dcd4-451d-8ffb-0466d166e0a4', 'page_number': 1, 'split_id': 74, 'split_idx_start': 9149}, embedding: vector of size 2560),\n",
       " Document(id=b27f303561ffaaf20d0d3d74588d71ed1de7651b8a5491d31c5ccf392ef3dc6c, content: 'Diese seltenen, aber schwerwiegenden Komplikationen erfordern oft eine intensive medizinische Behand...', meta: {'title': 'Narkose.md', 'source_id': 'fa1b681e-dcd4-451d-8ffb-0466d166e0a4', 'page_number': 1, 'split_id': 76, 'split_idx_start': 9485}, embedding: vector of size 2560),\n",
       " Document(id=69e6f90737524073469403446c456a5c6cf36782844cf202dd05b7f5f0540e36, content: 'Metamizol ist ein Schmerzmittel, das oft bei Narkosen eingesetzt wird. Es kann in seltenen Fällen zu...', meta: {'title': 'Narkose.md', 'source_id': 'fa1b681e-dcd4-451d-8ffb-0466d166e0a4', 'page_number': 1, 'split_id': 78, 'split_idx_start': 9867}, embedding: vector of size 2560),\n",
       " Document(id=80fb3264b2506f2e805922083906c3b5643efe639d0bc0e64390646cae571a95, content: 'Maligne Hyperthermie ist eine seltene, lebensbedrohliche Stoffwechselerkrankung, die durch bestimmte...', meta: {'title': 'Narkose.md', 'source_id': 'fa1b681e-dcd4-451d-8ffb-0466d166e0a4', 'page_number': 1, 'split_id': 80, 'split_idx_start': 10244}, embedding: vector of size 2560),\n",
       " Document(id=0d75cfb187d071e72bf24d923b0bb2b31a49223ddfe02c8deb5bb3d2cb974bf4, content: 'Diese Symptome sind vorübergehend und meistens harmlos, können aber in seltenen Fällen länger anhalt...', meta: {'title': 'Narkose.md', 'source_id': 'fa1b681e-dcd4-451d-8ffb-0466d166e0a4', 'page_number': 1, 'split_id': 82, 'split_idx_start': 10513}, embedding: vector of size 2560),\n",
       " Document(id=ed58ff1f94974ed213efe55201cc11f1ce7a1769571daf12ffa1927cf9c3fd94, content: 'Um das Risiko einer Aspiration zu minimieren, ist es wichtig, dass Patient*innen die Nüchternheitsre...', meta: {'title': 'Narkose.md', 'source_id': 'fa1b681e-dcd4-451d-8ffb-0466d166e0a4', 'page_number': 1, 'split_id': 84, 'split_idx_start': 10844}, embedding: vector of size 2560),\n",
       " Document(id=286d484bb4e2d2ea03f352e644ef1a785d997819301f4a0765f6f43460969939, content: 'Ein Laryngo- oder Bronchospasmus ist eine plötzliche Verengung der Atemwege, die durch Muskelkrämpfe...', meta: {'title': 'Narkose.md', 'source_id': 'fa1b681e-dcd4-451d-8ffb-0466d166e0a4', 'page_number': 1, 'split_id': 86, 'split_idx_start': 11134}, embedding: vector of size 2560),\n",
       " Document(id=94d7c0c569e6d924bce79dc8767f6d025013e2660315d2563b0a1f3f16fa38d9, content: 'Diese Beschwerden entstehen durch vorübergehende Reizungen oder Schwellungen im Rachenraum, die durc...', meta: {'title': 'Narkose.md', 'source_id': 'fa1b681e-dcd4-451d-8ffb-0466d166e0a4', 'page_number': 1, 'split_id': 88, 'split_idx_start': 11466}, embedding: vector of size 2560),\n",
       " Document(id=9f227ce45e82cd914c6ae57740f780a099590372e7f69589a10d1fd62d346753, content: 'Diese Verletzungen können bei der Verwendung eines Beatmungstubus auftreten und führen in seltenen F...', meta: {'title': 'Narkose.md', 'source_id': 'fa1b681e-dcd4-451d-8ffb-0466d166e0a4', 'page_number': 1, 'split_id': 90, 'split_idx_start': 11662}, embedding: vector of size 2560),\n",
       " Document(id=6136ee827700f84d9c86e804ef891e98e4f69253e3efd56966b73014b3312919, content: 'Dies kann insbesondere bei der Verwendung eines Beatmungstubus auftreten. Die Gefahr ist gering, abe...', meta: {'title': 'Narkose.md', 'source_id': 'fa1b681e-dcd4-451d-8ffb-0466d166e0a4', 'page_number': 1, 'split_id': 92, 'split_idx_start': 11880}, embedding: vector of size 2560),\n",
       " Document(id=d65782486edbf3513f9f0aacc61a96b0e50b4de4e4f5af244dfd60df76e3c76c, content: '**Bewusstsein unter Narkose (Awareness):** Dabei nehmen Patienten während der Narkose ein Gefühl von...', meta: {'title': 'Narkose.md', 'source_id': 'fa1b681e-dcd4-451d-8ffb-0466d166e0a4', 'page_number': 1, 'split_id': 94, 'split_idx_start': 12107}, embedding: vector of size 2560),\n",
       " Document(id=7a935017a01b4f2ab326586bc470290d964bfdafd98ca30626981c2d13b81deb, content: 'Diese Reaktionen sind selten, entstehen, wenn das Betäubungsmittel ungewollt in den Blutkreislauf ge...', meta: {'title': 'Narkose.md', 'source_id': 'fa1b681e-dcd4-451d-8ffb-0466d166e0a4', 'page_number': 1, 'split_id': 96, 'split_idx_start': 12386}, embedding: vector of size 2560),\n",
       " Document(id=73db86a1472c247708194840824a446dfc3d8b50d74af3deee8219e8f67ef773, content: 'Ein Pneumothorax entsteht, wenn Luft in den Raum zwischen Lunge und Brustwand gelangt. Dies kann zu ...', meta: {'title': 'Narkose.md', 'source_id': 'fa1b681e-dcd4-451d-8ffb-0466d166e0a4', 'page_number': 1, 'split_id': 98, 'split_idx_start': 13009}, embedding: vector of size 2560),\n",
       " Document(id=232fb2857d69fdd95b753539e0df91799e41367d820801dbbabf15b7128d2f74, content: 'Ein regionaler Katheter wird in die Nähe der schmerzleitenden Nerven eingeführt, um gezielt schmerzs...', meta: {'title': 'Narkose.md', 'source_id': 'fa1b681e-dcd4-451d-8ffb-0466d166e0a4', 'page_number': 1, 'split_id': 100, 'split_idx_start': 13321}, embedding: vector of size 2560),\n",
       " Document(id=7fb8b77a5f002d3eedf66418d0d45b1b523755334c81165e7adb787ad650a3a6, content: 'Die Spinal- und Periduralanästhesie werden unterhalb des Rückenmarks durchgeführt, um das Risiko ein...', meta: {'title': 'Narkose.md', 'source_id': 'fa1b681e-dcd4-451d-8ffb-0466d166e0a4', 'page_number': 1, 'split_id': 102, 'split_idx_start': 13620}, embedding: vector of size 2560),\n",
       " Document(id=3dbb07e4c45e6e753b6bbab09addfbd72a5c1977fb1b93cbee380c766baf1a72, content: 'Diese seltenen Lähmungen können die Kontrolle über Blase und Darm betreffen und sind Folge von Kompl...', meta: {'title': 'Narkose.md', 'source_id': 'fa1b681e-dcd4-451d-8ffb-0466d166e0a4', 'page_number': 1, 'split_id': 104, 'split_idx_start': 13925}, embedding: vector of size 2560),\n",
       " Document(id=b5343de20791bb2e5b47358cbc906685d12740eb979d2ba64bccd528b11b719d, content: 'Eine Meningitis (Hirnhautentzündung) ist eine Entzündung der Hirnhäute, die durch Bakterien, Viren o...', meta: {'title': 'Narkose.md', 'source_id': 'fa1b681e-dcd4-451d-8ffb-0466d166e0a4', 'page_number': 1, 'split_id': 106, 'split_idx_start': 14204}, embedding: vector of size 2560),\n",
       " Document(id=e9f61fae6f1cba71c8d2b1d0fb1784ee10d11d21aa9362bb624974e75cef2f32, content: 'Diese Beschwerden können Reizungen von Hirnnerven mit vorübergehenden oder selten bleibenden Sehstör...', meta: {'title': 'Narkose.md', 'source_id': 'fa1b681e-dcd4-451d-8ffb-0466d166e0a4', 'page_number': 1, 'split_id': 108, 'split_idx_start': 14307}, embedding: vector of size 2560),\n",
       " Document(id=ba39919ba4716172b6f50327169ac29bacdf84f4b94c4f9f12bc1a22528b90de, content: 'Diese Symptome entstehen, wenn bei einer Spinal- oder Periduralanästhesie versehentlich die harte Hi...', meta: {'title': 'Narkose.md', 'source_id': 'fa1b681e-dcd4-451d-8ffb-0466d166e0a4', 'page_number': 1, 'split_id': 110, 'split_idx_start': 14530}, embedding: vector of size 2560),\n",
       " Document(id=d61591dfe3f783aa8c008b7445b9f853169268977176143bb5ccbd1f2fc8ef8d, content: 'Eine Eigenblutpflasterung (Blutpatch) ist eine Behandlungsmethode, die bei anhaltenden Kopfschmerzen...', meta: {'title': 'Narkose.md', 'source_id': 'fa1b681e-dcd4-451d-8ffb-0466d166e0a4', 'page_number': 1, 'split_id': 111, 'split_idx_start': 14656}, embedding: vector of size 2560),\n",
       " Document(id=c10a226ca89fab1a51b06d48ee060fb641a71f421f86825feb68517c49a494f1, content: 'Diese seltenen Komplikationen können nach einer Spinal- oder Periduralanästhesie auftreten, wenn es ...', meta: {'title': 'Narkose.md', 'source_id': 'fa1b681e-dcd4-451d-8ffb-0466d166e0a4', 'page_number': 1, 'split_id': 112, 'split_idx_start': 14854}, embedding: vector of size 2560),\n",
       " Document(id=8637b2cc267c98f6b1d99b1c1f097cdf9035e3467777630942890d6951333e76, content: 'Ein Blasenkatheter wird gelegentlich bei Regionalanästhesien benötigt, um die Blasenentleerung zu un...', meta: {'title': 'Narkose.md', 'source_id': 'fa1b681e-dcd4-451d-8ffb-0466d166e0a4', 'page_number': 1, 'split_id': 113, 'split_idx_start': 15055}, embedding: vector of size 2560),\n",
       " Document(id=fadd4d9f6f1f845933493cc60fdaafbdff2f626c236559ad2d1baa0c3d4372bf, content: 'Diese Störungen sind meist vorübergehend und klingen nach einiger Zeit ab. Sie können durch die Nark...', meta: {'title': 'Narkose.md', 'source_id': 'fa1b681e-dcd4-451d-8ffb-0466d166e0a4', 'page_number': 1, 'split_id': 115, 'split_idx_start': 15337}, embedding: vector of size 2560),\n",
       " Document(id=9cfb92364bb13ee7e5e552f034f8a7471817f3ed7d4627398e97be10466b8e3f, content: 'Diese Symptome sind oft vorübergehend und resultieren aus der Blockade von Nerven durch das Betäubun...', meta: {'title': 'Narkose.md', 'source_id': 'fa1b681e-dcd4-451d-8ffb-0466d166e0a4', 'page_number': 1, 'split_id': 117, 'split_idx_start': 15427}, embedding: vector of size 2560),\n",
       " Document(id=bde80fe8ea7acdb8ab3b30c585d00724ebac0999d115ab88585f843fa5843711, content: 'Die interskalenäre und supraklavikuläre Technik sind Arten der Armplexusanästhesie, bei denen das Be...', meta: {'title': 'Narkose.md', 'source_id': 'fa1b681e-dcd4-451d-8ffb-0466d166e0a4', 'page_number': 1, 'split_id': 119, 'split_idx_start': 15786}, embedding: vector of size 2560),\n",
       " Document(id=edfe27b1be2a1eb4366b84d702d667cac7e980eb2982b85de3cafac0c701a945, content: 'Eine Stimmbandlähmung kann zu Heiserkeit führen, da der Nerv, der die Stimmbänder steuert, vorüberge...', meta: {'title': 'Narkose.md', 'source_id': 'fa1b681e-dcd4-451d-8ffb-0466d166e0a4', 'page_number': 1, 'split_id': 121, 'split_idx_start': 16299}, embedding: vector of size 2560),\n",
       " Document(id=1ead99c061c82782a0bfce6be82e82a1726de5158afba35ae38043f98ca8cdb0, content: 'Ein Horner-Syndrom ist eine seltene Nervenlähmung, die sich durch ein hängendes Augenlid, vermindert...', meta: {'title': 'Narkose.md', 'source_id': 'fa1b681e-dcd4-451d-8ffb-0466d166e0a4', 'page_number': 1, 'split_id': 123, 'split_idx_start': 16454}, embedding: vector of size 2560),\n",
       " Document(id=156e7ba07e4da4268b7adf4692f5181b7732890f6dc0022387e7d5543d8d08e6, content: 'Nüchternheit ist vor Narkosen wichtig, um Komplikationen wie Erbrechen während der Operation zu verm...', meta: {'title': 'Narkose.md', 'source_id': 'fa1b681e-dcd4-451d-8ffb-0466d166e0a4', 'page_number': 1, 'split_id': 126, 'split_idx_start': 16669}, embedding: vector of size 2560),\n",
       " Document(id=31f874d6f1ca8102925008f1c9fe93e5daa6b36898c920488bc884e67a303eb9, content: 'Dieser Abschnitt beschreibt die Nüchternheitsregeln vor einer Narkose. Diese Regeln sind wichtig, um...', meta: {'title': 'Narkose.md', 'source_id': 'fa1b681e-dcd4-451d-8ffb-0466d166e0a4', 'page_number': 1, 'split_id': 128, 'split_idx_start': 16804}, embedding: vector of size 2560),\n",
       " Document(id=cc06ca5383db4982b5399ff5fe60ffa25f473abc2b6cf65f8adf1cb1edd268ce, content: 'Diese Anweisung bezieht sich auf die Nüchternheitsregeln vor einer Narkose. Sie sind wichtig, um Kom...', meta: {'title': 'Narkose.md', 'source_id': 'fa1b681e-dcd4-451d-8ffb-0466d166e0a4', 'page_number': 1, 'split_id': 129, 'split_idx_start': 16816}, embedding: vector of size 2560),\n",
       " Document(id=8f06014e838dd6a398cebed23f79e2c38e1cdab20e67ae94a4b52309650ec95c, content: 'Dies bezieht sich auf die Nüchternheitsregeln vor einer Narkose, die wichtig sind, um Komplikationen...', meta: {'title': 'Narkose.md', 'source_id': 'fa1b681e-dcd4-451d-8ffb-0466d166e0a4', 'page_number': 1, 'split_id': 131, 'split_idx_start': 16972}, embedding: vector of size 2560),\n",
       " Document(id=9d3eb23f1cadb26e42cbc183c984ea57fb7d9e7ca92b94df58bf8e0c6afd21c8, content: 'Müssen spätestens sechs Stunden vor der Anästhesie das Essen einstellen. Zwischen sechs und einer St...', meta: {'title': 'Narkose.md', 'source_id': 'fa1b681e-dcd4-451d-8ffb-0466d166e0a4', 'page_number': 1, 'split_id': 133, 'split_idx_start': 17214}, embedding: vector of size 2560),\n",
       " Document(id=879e56313bfb1b376ba1f890afc91dcbb706e814ee54fa7d4e9e80e14bb741d3, content: 'Dies bezieht sich auf Jugendliche unter 18 Jahren, die eine Narkose benötigen.  Es ist wichtig, dies...', meta: {'title': 'Narkose.md', 'source_id': 'fa1b681e-dcd4-451d-8ffb-0466d166e0a4', 'page_number': 1, 'split_id': 134, 'split_idx_start': 17243}, embedding: vector of size 2560),\n",
       " Document(id=1d5523814d795bcd4b91bb98aab4deb6166bb0b796cc2defcac99608e77b074a, content: 'Diese Regelung gilt auch für Jugendliche unter 18 Jahren. Es ist wichtig, sich genau an die Nüchtern...', meta: {'title': 'Narkose.md', 'source_id': 'fa1b681e-dcd4-451d-8ffb-0466d166e0a4', 'page_number': 1, 'split_id': 136, 'split_idx_start': 17314}, embedding: vector of size 2560),\n",
       " Document(id=0836745ea925d57156706c8d78834780c8bbf22034df89bdbe11293588715b1b, content: 'Dieser Hinweis betrifft die Nüchternheitsregeln vor der Narkose, die wichtig sind, um Komplikationen...', meta: {'title': 'Narkose.md', 'source_id': 'fa1b681e-dcd4-451d-8ffb-0466d166e0a4', 'page_number': 1, 'split_id': 139, 'split_idx_start': 17475}, embedding: vector of size 2560),\n",
       " Document(id=43f948f4bc8d9043b7ce38512b25bc0bdbdf16576ad467e279d0e2c7ba972722, content: 'Rauchen beeinträchtigt die Sauerstoffaufnahme und kann Komplikationen wie Lungenentzündung oder Krei...', meta: {'title': 'Narkose.md', 'source_id': 'fa1b681e-dcd4-451d-8ffb-0466d166e0a4', 'page_number': 1, 'split_id': 141, 'split_idx_start': 17715}, embedding: vector of size 2560),\n",
       " Document(id=513d49c98b6b6bf452043da4eb7021b90030f3b3cfb5ce32d3bba549d511bbaf, content: 'Dies ist wichtig, da einige Medikamente mit der Narkose interagieren können oder vor der Operation a...', meta: {'title': 'Narkose.md', 'source_id': 'fa1b681e-dcd4-451d-8ffb-0466d166e0a4', 'page_number': 1, 'split_id': 143, 'split_idx_start': 17874}, embedding: vector of size 2560),\n",
       " Document(id=de4554621c91b67ff8ab6c6491b10d92656fc4719a5f49a31455cc5f1067138a, content: 'Diese Unterlagen helfen dem medizinischen Personal, Ihre Krankengeschichte besser zu verstehen und d...', meta: {'title': 'Narkose.md', 'source_id': 'fa1b681e-dcd4-451d-8ffb-0466d166e0a4', 'page_number': 1, 'split_id': 145, 'split_idx_start': 18006}, embedding: vector of size 2560),\n",
       " Document(id=90b67f48983fe1c8b24d047665d2aca2392d4029bc56e8bcf91754dd3a64a51e, content: 'Diese Maßnahmen dienen der Patientensicherheit und Hygiene während der Narkose. Entfernte Gegenständ...', meta: {'title': 'Narkose.md', 'source_id': 'fa1b681e-dcd4-451d-8ffb-0466d166e0a4', 'page_number': 1, 'split_id': 147, 'split_idx_start': 18304}, embedding: vector of size 2560),\n",
       " Document(id=c2b1f7f440f93c0e9a7ff4c2e727fbaf6dd9c282a88fcb9be10d7eeb2c23889e, content: 'Diese Maßnahmen dienen dazu, Ihre Sicherheit während der Erholungsphase zu gewährleisten und möglich...', meta: {'title': 'Narkose.md', 'source_id': 'fa1b681e-dcd4-451d-8ffb-0466d166e0a4', 'page_number': 1, 'split_id': 149, 'split_idx_start': 18649}, embedding: vector of size 2560),\n",
       " Document(id=6d1216e75b762943176b9739333bc8997da013e49f9a9f5c16111a4787392946, content: 'Nach einer Narkose sind Sie vorübergehend desorientiert und haben ein vermindertes Schmerzempfinden....', meta: {'title': 'Narkose.md', 'source_id': 'fa1b681e-dcd4-451d-8ffb-0466d166e0a4', 'page_number': 1, 'split_id': 151, 'split_idx_start': 19002}, embedding: vector of size 2560),\n",
       " Document(id=6dfa5cb1a3bceaac3de714d5fb244163c3624401abfa8fac3b0f123adfad1093, content: 'Hormonelle Verhütungsmittel können durch die Narkose vorübergehend unwirksam werden. Dies bedeutet, ...', meta: {'title': 'Narkose.md', 'source_id': 'fa1b681e-dcd4-451d-8ffb-0466d166e0a4', 'page_number': 1, 'split_id': 153, 'split_idx_start': 19355}, embedding: vector of size 2560),\n",
       " Document(id=766485ac0e93929d0a6b1d5c16fbfa71f21bd963264a8f9a2321d6c5fe3f508a, content: 'Diese Symptome können auf verschiedene Komplikationen hindeuten, die eine sofortige ärztliche Behand...', meta: {'title': 'Narkose.md', 'source_id': 'fa1b681e-dcd4-451d-8ffb-0466d166e0a4', 'page_number': 1, 'split_id': 155, 'split_idx_start': 19559}, embedding: vector of size 2560),\n",
       " Document(id=892f6771440e13d8ec9286c25856f8ed80447dfb7de6a937528b9efd1969034f, content: 'Dies bedeutet, dass Sie sich nicht selbst fahren oder andere gefährliche Tätigkeiten ausüben dürfen,...', meta: {'title': 'Narkose.md', 'source_id': 'fa1b681e-dcd4-451d-8ffb-0466d166e0a4', 'page_number': 1, 'split_id': 157, 'split_idx_start': 20086}, embedding: vector of size 2560),\n",
       " Document(id=c434457b2e11cc92d8567946f4789882d172c590dc0330b42f28a6b49d6ac610, content: 'Dieser Abschnitt bezieht sich auf die Zeit nach der Narkose, insbesondere bei ambulanten Eingriffen....', meta: {'title': 'Narkose.md', 'source_id': 'fa1b681e-dcd4-451d-8ffb-0466d166e0a4', 'page_number': 1, 'split_id': 159, 'split_idx_start': 20489}, embedding: vector of size 2560),\n",
       " Document(id=e73caa6904028f0fb890d12b5827a4cb23f2d20bc23f49fa95f31e9a225bc8ba, content: 'Eine Einleitung der Geburt bedeutet, dass die Wehen künstlich ausgelöst werden, da sie von selbst ni...', meta: {'title': 'Einleitung der Geburt.md', 'source_id': '1ef0cb3e-9368-40ba-8543-b81c72b3b848', 'page_number': 1, 'split_id': 0, 'split_idx_start': 0}, embedding: vector of size 2560),\n",
       " Document(id=25154423f08bcbcab2ded9791505239919762101b8634c8b6dcd19d44f57afaa, content: 'Nach dem Platzen der Fruchtblase verliert das Kind seine schützende Hülle, was das Risiko für Infekt...', meta: {'title': 'Einleitung der Geburt.md', 'source_id': '1ef0cb3e-9368-40ba-8543-b81c72b3b848', 'page_number': 1, 'split_id': 2, 'split_idx_start': 100}, embedding: vector of size 2560),\n",
       " Document(id=ed171c0c63c8ae1492745cf0b2da41472bde1c0537929b0ce731d51a86361590, content: 'Dies können beispielsweise Schwangerschaftsdiabetes, Bluthochdruck, Leber- oder Nierenfunktionsstöru...', meta: {'title': 'Einleitung der Geburt.md', 'source_id': '1ef0cb3e-9368-40ba-8543-b81c72b3b848', 'page_number': 1, 'split_id': 3, 'split_idx_start': 237}, embedding: vector of size 2560),\n",
       " Document(id=03cd215c37d2e27b99845b2fdf7add04db758bc1bfac4fb3cd064510a69e22e2, content: 'Dies kann beispielsweise bei Wachstumsverzögerung des Kindes, Mehrlingsschwangerschaften oder bei be...', meta: {'title': 'Einleitung der Geburt.md', 'source_id': '1ef0cb3e-9368-40ba-8543-b81c72b3b848', 'page_number': 1, 'split_id': 4, 'split_idx_start': 326}, embedding: vector of size 2560),\n",
       " Document(id=736e01387f8d0f652268ad8d69fe5677582ccbcb35472e4fa18034a2311b6cf0, content: 'Dies bedeutet, dass wenn die Schwangerschaft 41 Wochen (294 Tage) dauert, eine Einleitung der Geburt...', meta: {'title': 'Einleitung der Geburt.md', 'source_id': '1ef0cb3e-9368-40ba-8543-b81c72b3b848', 'page_number': 1, 'split_id': 5, 'split_idx_start': 413}, embedding: vector of size 2560),\n",
       " Document(id=b9e6d3d78e60c18a91c8d203c6b10b568196bbf662ce06982a46837a65f242ac, content: 'Dies bedeutet, dass wenn die Schwangerschaft 42 volle Wochen gedauert hat, eine Einleitung der Gebur...', meta: {'title': 'Einleitung der Geburt.md', 'source_id': '1ef0cb3e-9368-40ba-8543-b81c72b3b848', 'page_number': 1, 'split_id': 6, 'split_idx_start': 484}, embedding: vector of size 2560),\n",
       " Document(id=2c56fec2809e035bcdb4e48f95ab337e9a8674a7d535a5175ac9cbda755c5054, content: 'Hier bedeutet \"starke Beschwerden\" körperliche Symptome, die das Wohlbefinden der Mutter beeinträcht...', meta: {'title': 'Einleitung der Geburt.md', 'source_id': '1ef0cb3e-9368-40ba-8543-b81c72b3b848', 'page_number': 1, 'split_id': 7, 'split_idx_start': 548}, embedding: vector of size 2560),\n",
       " Document(id=2bc75957e4c3b3ffb04b063ecef093460cd8691d059fc4ec5b812210ad172a3c, content: 'Diese Aussage bedeutet, dass die Entscheidung für eine Einleitung der Geburt nicht allein medizinisc...', meta: {'title': 'Einleitung der Geburt.md', 'source_id': '1ef0cb3e-9368-40ba-8543-b81c72b3b848', 'page_number': 1, 'split_id': 9, 'split_idx_start': 759}, embedding: vector of size 2560),\n",
       " Document(id=a319808421694bbae823077012fed94d1afe6ac9a2f38de9cbf0c78a1e68f5a9, content: 'Eine Undichtigkeit der Fruchtblase setzt die schützende Hülle des Kindes frei, was das Risiko für In...', meta: {'title': 'Einleitung der Geburt.md', 'source_id': '1ef0cb3e-9368-40ba-8543-b81c72b3b848', 'page_number': 1, 'split_id': 11, 'split_idx_start': 1065}, embedding: vector of size 2560),\n",
       " Document(id=2782299aea88c291d60e77f52b21fb63fc23980d6e4af1812e12f9deb5263299, content: 'Diese Komplikationen treten auf, wenn die Fruchtblase vorzeitig reißt. Eine unbehandelte Infektion k...', meta: {'title': 'Einleitung der Geburt.md', 'source_id': '1ef0cb3e-9368-40ba-8543-b81c72b3b848', 'page_number': 1, 'split_id': 13, 'split_idx_start': 1397}, embedding: vector of size 2560),\n",
       " Document(id=2212c40f80edf645929644d9d5e5c56fd14e5c2c4d2c35d6137c0d5c36fa94d9, content: 'Bei Schwangerschaftsdiabetes kann das Kind überdurchschnittlich groß werden (Makrosomie) und/oder an...', meta: {'title': 'Einleitung der Geburt.md', 'source_id': '1ef0cb3e-9368-40ba-8543-b81c72b3b848', 'page_number': 1, 'split_id': 15, 'split_idx_start': 1813}, embedding: vector of size 2560),\n",
       " Document(id=6e3aa2d0ea89ab897492b03bcfbd3366e2be701a1c9ff93f099faf6456851233, content: 'Diese Erkrankungen können die Gesundheit von Mutter und Kind gefährden und erfordern möglicherweise ...', meta: {'title': 'Einleitung der Geburt.md', 'source_id': '1ef0cb3e-9368-40ba-8543-b81c72b3b848', 'page_number': 1, 'split_id': 17, 'split_idx_start': 2032}, embedding: vector of size 2560),\n",
       " Document(id=b59963474ae4e311db1ab01a1a0a943844ac1501392662f9853d11dcbb2a21c5, content: 'Ein größeres Kind benötigt mehr Platz und Nährstoffe im Mutterleib. Dies kann zu einer Verringerung ...', meta: {'title': 'Einleitung der Geburt.md', 'source_id': '1ef0cb3e-9368-40ba-8543-b81c72b3b848', 'page_number': 1, 'split_id': 19, 'split_idx_start': 2261}, embedding: vector of size 2560),\n",
       " Document(id=c76bbe594e60c9cf1853b67809826aa73b8a72bac6ba94c986d0394019353360, content: 'Mekonium ist der erste Stuhl des Kindes. Seine Aspiration, also das Einatmen in die Lunge, kann zu s...', meta: {'title': 'Einleitung der Geburt.md', 'source_id': '1ef0cb3e-9368-40ba-8543-b81c72b3b848', 'page_number': 1, 'split_id': 21, 'split_idx_start': 2367}, embedding: vector of size 2560),\n",
       " Document(id=70f830b66af5e402e91019f31054fe3c72946e15200bed682d271037897ec8d1, content: 'Diese Schwierigkeiten entstehen, weil der Platz im Becken begrenzt ist und das Kind möglicherweise n...', meta: {'title': 'Einleitung der Geburt.md', 'source_id': '1ef0cb3e-9368-40ba-8543-b81c72b3b848', 'page_number': 1, 'split_id': 23, 'split_idx_start': 2612}, embedding: vector of size 2560),\n",
       " Document(id=80c3106c885eb3d252ec7cdbfc2482ef8f697c8439be8c74120bc129bfb91997, content: 'Diese Aussage bezieht sich auf die sogenannte \"Übertragung\", also die Überschreitung des errechneten...', meta: {'title': 'Einleitung der Geburt.md', 'source_id': '1ef0cb3e-9368-40ba-8543-b81c72b3b848', 'page_number': 1, 'split_id': 25, 'split_idx_start': 2965}, embedding: vector of size 2560),\n",
       " Document(id=89ac48e9f38e13f0c3097749cce773d4457c005e0a10d91ffec6f51b33affa9b, content: 'Ein Kaiserschnitt bedeutet nicht zwangsläufig, dass eine vaginale Geburt ausgeschlossen ist. Die Mög...', meta: {'title': 'Einleitung der Geburt.md', 'source_id': '1ef0cb3e-9368-40ba-8543-b81c72b3b848', 'page_number': 1, 'split_id': 27, 'split_idx_start': 3441}, embedding: vector of size 2560),\n",
       " Document(id=2f0436dcfb4593cff6e8eba444735ee4539625cfe9ec0168189ec78c4e028bd9, content: 'Diese Methoden zielen darauf ab, die Wehen auf natürliche Weise zu unterstützen oder auszulösen. Die...', meta: {'title': 'Einleitung der Geburt.md', 'source_id': '1ef0cb3e-9368-40ba-8543-b81c72b3b848', 'page_number': 1, 'split_id': 29, 'split_idx_start': 4024}, embedding: vector of size 2560),\n",
       " Document(id=fa4d5c41915ed659fc4511a7bcd7b27257c909462b907bd4b92a6d43c5699a9c, content: 'Prostaglandine sind körpereigene Botenstoffe, die zur Reifung des Gebärmutterhalses und zum Öffnen d...', meta: {'title': 'Einleitung der Geburt.md', 'source_id': '1ef0cb3e-9368-40ba-8543-b81c72b3b848', 'page_number': 1, 'split_id': 31, 'split_idx_start': 4118}, embedding: vector of size 2560),\n",
       " Document(id=168d41c29256fe0353a1fbbe625c95c4de128272b77cdc6e2b5c535f2972ac7a, content: 'Prostaglandine sind Medikamente, die körpereigene Hormone nachahmen und zur Wehenförderung eingesetz...', meta: {'title': 'Einleitung der Geburt.md', 'source_id': '1ef0cb3e-9368-40ba-8543-b81c72b3b848', 'page_number': 1, 'split_id': 32, 'split_idx_start': 4167}, embedding: vector of size 2560),\n",
       " Document(id=24c3c89945c1ebc143718a447bb41ae93cdaab5903f40b812c3aba7a86dbbad9, content: 'Oxytocin ist ein Hormon, das natürlicherweise im Körper produziert wird und für die Wehenbildung ver...', meta: {'title': 'Einleitung der Geburt.md', 'source_id': '1ef0cb3e-9368-40ba-8543-b81c72b3b848', 'page_number': 1, 'split_id': 34, 'split_idx_start': 4552}, embedding: vector of size 2560),\n",
       " Document(id=61f02fa48f88d8d49824d74d284eecbeba5eedf9b214a8ea3c3cb2bc4db6aa3c, content: 'Oxytocin ist ein natürlich im Körper vorkommendes Hormon, das normalerweise zur Geburt und Stillen b...', meta: {'title': 'Einleitung der Geburt.md', 'source_id': '1ef0cb3e-9368-40ba-8543-b81c72b3b848', 'page_number': 1, 'split_id': 35, 'split_idx_start': 4562}, embedding: vector of size 2560),\n",
       " Document(id=32699b589e27e1582f18cf018c1bbf481c3f0b069da724ebd435eb0fdd17cda9, content: 'Rizinusöl wird in einem \"Wehencocktail\" verwendet, der aus Rizinusöl und weiteren Zutaten besteht un...', meta: {'title': 'Einleitung der Geburt.md', 'source_id': '1ef0cb3e-9368-40ba-8543-b81c72b3b848', 'page_number': 1, 'split_id': 37, 'split_idx_start': 4817}, embedding: vector of size 2560),\n",
       " Document(id=fc4d4bb5cbebb186dd64a12fbcd60cbdd6290af90a9831ceeb6e4c0d516ee268, content: 'Rizinusöl wird als \"Wehencocktail\" bezeichnet und ist ein Mittel zur Einleitung der Geburt. Es wirkt...', meta: {'title': 'Einleitung der Geburt.md', 'source_id': '1ef0cb3e-9368-40ba-8543-b81c72b3b848', 'page_number': 1, 'split_id': 38, 'split_idx_start': 4844}, embedding: vector of size 2560),\n",
       " Document(id=2aa860657ef2f47e714574872b2893b8f89328fd68a1ff42006b614e3688baab, content: 'Die Eipollösung wird durchgeführt, wenn der Muttermund bereits leicht geöffnet ist. Dabei löst die Ä...', meta: {'title': 'Einleitung der Geburt.md', 'source_id': '1ef0cb3e-9368-40ba-8543-b81c72b3b848', 'page_number': 1, 'split_id': 40, 'split_idx_start': 4974}, embedding: vector of size 2560),\n",
       " Document(id=72b95b18f9368d8a92520c07974a76f23388bc6d91018e05ffa7057580309e48, content: 'Dies wird als Amniotomie bezeichnet und wird nur durchgeführt, wenn der Geburtsbefund bereits reif i...', meta: {'title': 'Einleitung der Geburt.md', 'source_id': '1ef0cb3e-9368-40ba-8543-b81c72b3b848', 'page_number': 1, 'split_id': 41, 'split_idx_start': 4987}, embedding: vector of size 2560),\n",
       " Document(id=5b653df765cfcfd8ac09d618c34f8422af282b99184a0c92db04ddccee5814b7, content: 'Bei der Amniotomie wird die Fruchtblase mit einem Instrument geöffnet. Dies löst in vielen Fällen We...', meta: {'title': 'Einleitung der Geburt.md', 'source_id': '1ef0cb3e-9368-40ba-8543-b81c72b3b848', 'page_number': 1, 'split_id': 43, 'split_idx_start': 5176}, embedding: vector of size 2560),\n",
       " Document(id=6f2fd961b409825b0a4a9f0a92bc7a0d88f60be703211b660e1fc1b99f92361b, content: 'Dies wird als Amniotomie bezeichnet und ist ein gängiges Verfahren zur Einleitung der Wehen. Es wird...', meta: {'title': 'Einleitung der Geburt.md', 'source_id': '1ef0cb3e-9368-40ba-8543-b81c72b3b848', 'page_number': 1, 'split_id': 44, 'split_idx_start': 5212}, embedding: vector of size 2560),\n",
       " Document(id=9f4ca5d7e8378c4ff68261d4677e286d3c2d44d417542f7cdf9b88d8aaeaa27b, content: 'Ein Doppelballonkatheter ist ein Verfahren, bei dem ein Katheter mit zwei Ballons durch die Scheide ...', meta: {'title': 'Einleitung der Geburt.md', 'source_id': '1ef0cb3e-9368-40ba-8543-b81c72b3b848', 'page_number': 1, 'split_id': 46, 'split_idx_start': 5375}, embedding: vector of size 2560),\n",
       " Document(id=5e076cd3d4d0266910e7084c5f85193c5ae14558877e55cad13de1f9be2b0cf6, content: 'Dieser Vorgang, der als Doppelballonkatheter-Methode bezeichnet wird, zielt darauf ab, den Muttermun...', meta: {'title': 'Einleitung der Geburt.md', 'source_id': '1ef0cb3e-9368-40ba-8543-b81c72b3b848', 'page_number': 1, 'split_id': 47, 'split_idx_start': 5397}, embedding: vector of size 2560),\n",
       " Document(id=bea348c86392be4b65390e580054b434b569a34e8fa2e264d401a37654f82438, content: 'Quellstäbchen sind dünne, wasserabsorbierende Stäbchen, die in den Muttermund eingelegt werden, um d...', meta: {'title': 'Einleitung der Geburt.md', 'source_id': '1ef0cb3e-9368-40ba-8543-b81c72b3b848', 'page_number': 1, 'split_id': 49, 'split_idx_start': 5673}, embedding: vector of size 2560),\n",
       " Document(id=c194fba62a7b9b974885e6651afeb41b751a40ba379a006d467a62e03fb4b50a, content: 'Quellstäbchen sind eine Methode zur Einleitung der Wehen, bei der dünne, wasserabsorbierende Stäbche...', meta: {'title': 'Einleitung der Geburt.md', 'source_id': '1ef0cb3e-9368-40ba-8543-b81c72b3b848', 'page_number': 1, 'split_id': 50, 'split_idx_start': 5688}, embedding: vector of size 2560),\n",
       " Document(id=ff318b3eec8d8efe6e4e193dde87171a67fbe8f2c048e25f303884a078fe5d4c, content: 'Dieser Abschnitt warnt davor, dass trotz sorgfältiger Durchführung der Einleitung Komplikationen auf...', meta: {'title': 'Einleitung der Geburt.md', 'source_id': '1ef0cb3e-9368-40ba-8543-b81c72b3b848', 'page_number': 1, 'split_id': 53, 'split_idx_start': 5875}, embedding: vector of size 2560),\n",
       " Document(id=39e131ef63f610da53e0249b77680f351c9f89feca9a81a174d6abed6fa6c2ce, content: '**Fruchtwasserembolie** ist eine sehr seltene, aber lebensbedrohliche Komplikation, bei der Fruchtwa...', meta: {'title': 'Einleitung der Geburt.md', 'source_id': '1ef0cb3e-9368-40ba-8543-b81c72b3b848', 'page_number': 1, 'split_id': 55, 'split_idx_start': 6166}, embedding: vector of size 2560),\n",
       " Document(id=3643c9af87c0501b3e6a51b7a7f548955a567c28a48e2a1e584ed4fd3c7b81fc, content: 'Eine Uterusruptur ist ein schwerwiegendes Ereignis, bei dem die Gebärmutterwand während der Wehen re...', meta: {'title': 'Einleitung der Geburt.md', 'source_id': '1ef0cb3e-9368-40ba-8543-b81c72b3b848', 'page_number': 1, 'split_id': 57, 'split_idx_start': 6529}, embedding: vector of size 2560),\n",
       " Document(id=05abf029f83b4895cc0460a833f625524a17030acde6906746019c3314c45be7, content: 'Oxytocin ist ein synthetisches Hormon, das die natürlichen Wehenhormone des Körpers nachahmt.  Es wi...', meta: {'title': 'Einleitung der Geburt.md', 'source_id': '1ef0cb3e-9368-40ba-8543-b81c72b3b848', 'page_number': 1, 'split_id': 59, 'split_idx_start': 6785}, embedding: vector of size 2560),\n",
       " Document(id=1b204cd629ba7a3188c922f1bd6bc5bb01840e21147dc1b1fb33b2ea703424ae, content: 'Rizinusöl, auch bekannt als \"Wehencocktail\", wird als Mittel zur Wehenförderung eingesetzt.  Die gen...', meta: {'title': 'Einleitung der Geburt.md', 'source_id': '1ef0cb3e-9368-40ba-8543-b81c72b3b848', 'page_number': 1, 'split_id': 61, 'split_idx_start': 7071}, embedding: vector of size 2560),\n",
       " Document(id=589695ff3ea4c742a4f9970a850a0d0201ea73e1b71ceb3ba108cb491cba8cd6, content: 'Diese Blutung ist ein Zeichen dafür, dass sich der Muttermund zu öffnen beginnt und ist ein normaler...', meta: {'title': 'Einleitung der Geburt.md', 'source_id': '1ef0cb3e-9368-40ba-8543-b81c72b3b848', 'page_number': 1, 'split_id': 63, 'split_idx_start': 7144}, embedding: vector of size 2560),\n",
       " Document(id=6114c24845e5b46eee4c7853c81d890483045388c01f4efad52925358128758f, content: 'Ein Nabelschnurvorfall bedeutet, dass die Nabelschnur vor dem Baby aus der Gebärmutter tritt. Dies k...', meta: {'title': 'Einleitung der Geburt.md', 'source_id': '1ef0cb3e-9368-40ba-8543-b81c72b3b848', 'page_number': 1, 'split_id': 65, 'split_idx_start': 7282}, embedding: vector of size 2560),\n",
       " Document(id=5a53d0ffde16cd9fc32f1d361e0a0653036b5f5fb44730b97d32fa8ab1fefcfb, content: 'Ein Ballonkatheter ist ein Verfahren zur Geburtseinleitung, bei dem ein Katheter mit zwei Ballons in...', meta: {'title': 'Einleitung der Geburt.md', 'source_id': '1ef0cb3e-9368-40ba-8543-b81c72b3b848', 'page_number': 1, 'split_id': 67, 'split_idx_start': 7537}, embedding: vector of size 2560),\n",
       " Document(id=6013a820b5127381769524c26c93f34e08e778d9b7f0824a7d6ef3b968fa408c, content: 'Dieser Abschnitt bezieht sich auf die Anwendung von Quellstäbchen zur Einleitung der Geburt. Obwohl ...', meta: {'title': 'Einleitung der Geburt.md', 'source_id': '1ef0cb3e-9368-40ba-8543-b81c72b3b848', 'page_number': 1, 'split_id': 69, 'split_idx_start': 7764}, embedding: vector of size 2560),\n",
       " Document(id=39963edd528211c2af8470766e6ce913a668cb538d622722143acf222f839991, content: 'Hierbei handelt es sich um seltene, aber potenziell schwerwiegende Komplikationen, die bei Versuchen...', meta: {'title': 'Einleitung der Geburt.md', 'source_id': '1ef0cb3e-9368-40ba-8543-b81c72b3b848', 'page_number': 1, 'split_id': 71, 'split_idx_start': 7879}, embedding: vector of size 2560),\n",
       " Document(id=08e59b1dcffe9ef977687c92a480664194b4fdb9ad649d74aed190b706424bf2, content: 'Prostaglandine sind Medikamente, die zur Reifung des Gebärmutterhalses und zum Öffnen des Muttermund...', meta: {'title': 'Einleitung der Geburt.md', 'source_id': '1ef0cb3e-9368-40ba-8543-b81c72b3b848', 'page_number': 1, 'split_id': 73, 'split_idx_start': 8153}, embedding: vector of size 2560),\n",
       " Document(id=45e54d90d885e1a222a18ae7c265d41913c6710879b7c551fa3ee6d738a8480c, content: 'Diese Überwachung umfasst die Kontrolle von Mutter und Kind, einschließlich Herzfrequenz, Blutdruck ...', meta: {'title': 'Einleitung der Geburt.md', 'source_id': '1ef0cb3e-9368-40ba-8543-b81c72b3b848', 'page_number': 1, 'split_id': 76, 'split_idx_start': 8355}, embedding: vector of size 2560)]"
      ]
     },
     "execution_count": 6,
     "metadata": {},
     "output_type": "execute_result"
    }
   ],
   "source": [
    "context_indexing_store.filter_documents()"
   ]
  },
  {
   "cell_type": "code",
   "execution_count": 7,
   "id": "cad5567b",
   "metadata": {},
   "outputs": [
    {
     "name": "stderr",
     "output_type": "stream",
     "text": [
      "12:47:18 INFO PyTorch version 2.7.0 available.\n",
      "12:47:19 INFO Load pretrained SentenceTransformer: Qwen/Qwen3-Embedding-4B\n"
     ]
    },
    {
     "data": {
      "application/vnd.jupyter.widget-view+json": {
       "model_id": "72e721d61c7e4cf58bdca73c7c47d4fa",
       "version_major": 2,
       "version_minor": 0
      },
      "text/plain": [
       "Loading checkpoint shards:   0%|          | 0/2 [00:00<?, ?it/s]"
      ]
     },
     "metadata": {},
     "output_type": "display_data"
    },
    {
     "name": "stderr",
     "output_type": "stream",
     "text": [
      "12:47:24 INFO 2 prompts are loaded, with the keys: ['query', 'document']\n"
     ]
    },
    {
     "data": {
      "application/vnd.jupyter.widget-view+json": {
       "model_id": "b701a3627e11473c81a4ea355c40a973",
       "version_major": 2,
       "version_minor": 0
      },
      "text/plain": [
       "generation_config.json:   0%|          | 0.00/214 [00:00<?, ?B/s]"
      ]
     },
     "metadata": {},
     "output_type": "display_data"
    },
    {
     "data": {
      "text/plain": [
       "<haystack.core.pipeline.pipeline.Pipeline object at 0x7f597f4b67d0>\n",
       "🚅 Components\n",
       "  - query_embedder: SentenceTransformersTextEmbedder\n",
       "  - retriever: InMemoryEmbeddingRetriever\n",
       "  - reranker: QwenYesNoReranker\n",
       "  - map_evaluator: DocumentMAPEvaluator\n",
       "  - mrr_evaluator: DocumentMRREvaluator\n",
       "  - recall_evaluator: DocumentRecallEvaluator\n",
       "  - retriever_to_evaluator_adapter: WrapInListAdapter\n",
       "🛤️ Connections\n",
       "  - query_embedder.embedding -> retriever.query_embedding (List[float])\n",
       "  - retriever.documents -> reranker.documents (List[Document])\n",
       "  - reranker.documents -> retriever_to_evaluator_adapter.documents (List[Document])\n",
       "  - retriever_to_evaluator_adapter.output -> map_evaluator.retrieved_documents (List[List[Document]])\n",
       "  - retriever_to_evaluator_adapter.output -> mrr_evaluator.retrieved_documents (List[List[Document]])\n",
       "  - retriever_to_evaluator_adapter.output -> recall_evaluator.retrieved_documents (List[List[Document]])"
      ]
     },
     "execution_count": 7,
     "metadata": {},
     "output_type": "execute_result"
    }
   ],
   "source": [
    "import pipelines.retrieval_pipelines.base_retrieval_pipeline\n",
    "importlib.reload(pipelines.retrieval_pipelines.base_retrieval_pipeline)\n",
    "from pipelines.components.wrap_in_list_adapter import WrapInListAdapter\n",
    "\n",
    "base_retrieval_pipeline = pipelines.retrieval_pipelines.base_retrieval_pipeline.get_base_retrieval_pipeline(base_indexing_store)\n",
    "\n",
    "map_evaluator = DocumentMAPEvaluator()\n",
    "mrr_evaluator = DocumentMRREvaluator()\n",
    "recall_evaluator = DocumentRecallEvaluator()\n",
    "\n",
    "retriever_to_evaluator_adapter = WrapInListAdapter()\n",
    "\n",
    "base_retrieval_pipeline.add_component(instance=map_evaluator, name=\"map_evaluator\")\n",
    "base_retrieval_pipeline.add_component(instance=mrr_evaluator, name=\"mrr_evaluator\")\n",
    "base_retrieval_pipeline.add_component(instance=recall_evaluator, name=\"recall_evaluator\")\n",
    "base_retrieval_pipeline.add_component(instance=retriever_to_evaluator_adapter, name=\"retriever_to_evaluator_adapter\")\n",
    "base_retrieval_pipeline.connect(\"reranker\", \"retriever_to_evaluator_adapter\")\n",
    "base_retrieval_pipeline.connect(\"retriever_to_evaluator_adapter.output\", \"map_evaluator.retrieved_documents\")\n",
    "base_retrieval_pipeline.connect(\"retriever_to_evaluator_adapter.output\", \"mrr_evaluator.retrieved_documents\")\n",
    "base_retrieval_pipeline.connect(\"retriever_to_evaluator_adapter.output\", \"recall_evaluator.retrieved_documents\")"
   ]
  },
  {
   "cell_type": "code",
   "execution_count": 8,
   "id": "8867a363",
   "metadata": {},
   "outputs": [
    {
     "data": {
      "text/plain": [
       "<haystack.core.pipeline.pipeline.Pipeline object at 0x7f597ef26050>\n",
       "🚅 Components\n",
       "  - query_embedder: SentenceTransformersTextEmbedder\n",
       "  - bm25_retriever: InMemoryBM25Retriever\n",
       "  - retriever: InMemoryEmbeddingRetriever\n",
       "  - joiner: DocumentJoiner\n",
       "  - reranker: QwenYesNoReranker\n",
       "  - map_evaluator: DocumentMAPEvaluator\n",
       "  - mrr_evaluator: DocumentMRREvaluator\n",
       "  - recall_evaluator: DocumentRecallEvaluator\n",
       "  - retriever_to_evaluator_adapter: WrapInListAdapter\n",
       "🛤️ Connections\n",
       "  - query_embedder.embedding -> retriever.query_embedding (List[float])\n",
       "  - bm25_retriever.documents -> joiner.documents (List[Document])\n",
       "  - retriever.documents -> joiner.documents (List[Document])\n",
       "  - joiner.documents -> reranker.documents (List[Document])\n",
       "  - reranker.documents -> retriever_to_evaluator_adapter.documents (List[Document])\n",
       "  - retriever_to_evaluator_adapter.output -> map_evaluator.retrieved_documents (List[List[Document]])\n",
       "  - retriever_to_evaluator_adapter.output -> mrr_evaluator.retrieved_documents (List[List[Document]])\n",
       "  - retriever_to_evaluator_adapter.output -> recall_evaluator.retrieved_documents (List[List[Document]])"
      ]
     },
     "execution_count": 8,
     "metadata": {},
     "output_type": "execute_result"
    }
   ],
   "source": [
    "import pipelines.retrieval_pipelines.hybrid_retrieval_pipeline\n",
    "importlib.reload(pipelines.retrieval_pipelines.hybrid_retrieval_pipeline)\n",
    "\n",
    "hybrid_retrieval_pipeline = pipelines.retrieval_pipelines.hybrid_retrieval_pipeline.get_hybrid_retrieval_pipeline(base_indexing_store)\n",
    "\n",
    "map_evaluator = DocumentMAPEvaluator()\n",
    "mrr_evaluator = DocumentMRREvaluator()\n",
    "recall_evaluator = DocumentRecallEvaluator()\n",
    "\n",
    "retriever_to_evaluator_adapter = WrapInListAdapter()\n",
    "\n",
    "hybrid_retrieval_pipeline.add_component(instance=map_evaluator, name=\"map_evaluator\")\n",
    "hybrid_retrieval_pipeline.add_component(instance=mrr_evaluator, name=\"mrr_evaluator\")\n",
    "hybrid_retrieval_pipeline.add_component(instance=recall_evaluator, name=\"recall_evaluator\")\n",
    "hybrid_retrieval_pipeline.add_component(instance=retriever_to_evaluator_adapter, name=\"retriever_to_evaluator_adapter\")\n",
    "hybrid_retrieval_pipeline.connect(\"reranker\", \"retriever_to_evaluator_adapter\")\n",
    "hybrid_retrieval_pipeline.connect(\"retriever_to_evaluator_adapter.output\", \"map_evaluator.retrieved_documents\")\n",
    "hybrid_retrieval_pipeline.connect(\"retriever_to_evaluator_adapter.output\", \"mrr_evaluator.retrieved_documents\")\n",
    "hybrid_retrieval_pipeline.connect(\"retriever_to_evaluator_adapter.output\", \"recall_evaluator.retrieved_documents\")"
   ]
  },
  {
   "cell_type": "code",
   "execution_count": 9,
   "id": "e550a08f",
   "metadata": {},
   "outputs": [
    {
     "data": {
      "text/plain": [
       "<haystack.core.pipeline.pipeline.Pipeline object at 0x7f597ef07610>\n",
       "🚅 Components\n",
       "  - query_embedder: SentenceTransformersTextEmbedder\n",
       "  - retriever: InMemoryEmbeddingRetriever\n",
       "  - reranker: QwenYesNoReranker\n",
       "  - map_evaluator: DocumentMAPEvaluator\n",
       "  - mrr_evaluator: DocumentMRREvaluator\n",
       "  - recall_evaluator: DocumentRecallEvaluator\n",
       "  - retriever_to_evaluator_adapter: WrapInListAdapter\n",
       "🛤️ Connections\n",
       "  - query_embedder.embedding -> retriever.query_embedding (List[float])\n",
       "  - retriever.documents -> reranker.documents (List[Document])\n",
       "  - reranker.documents -> retriever_to_evaluator_adapter.documents (List[Document])\n",
       "  - retriever_to_evaluator_adapter.output -> map_evaluator.retrieved_documents (List[List[Document]])\n",
       "  - retriever_to_evaluator_adapter.output -> mrr_evaluator.retrieved_documents (List[List[Document]])\n",
       "  - retriever_to_evaluator_adapter.output -> recall_evaluator.retrieved_documents (List[List[Document]])"
      ]
     },
     "execution_count": 9,
     "metadata": {},
     "output_type": "execute_result"
    }
   ],
   "source": [
    "import pipelines.retrieval_pipelines.base_retrieval_pipeline\n",
    "importlib.reload(pipelines.retrieval_pipelines.base_retrieval_pipeline)\n",
    "\n",
    "context_retrieval_pipeline = pipelines.retrieval_pipelines.base_retrieval_pipeline.get_base_retrieval_pipeline(context_indexing_store)\n",
    "\n",
    "map_evaluator = DocumentMAPEvaluator()\n",
    "mrr_evaluator = DocumentMRREvaluator()\n",
    "recall_evaluator = DocumentRecallEvaluator()\n",
    "\n",
    "retriever_to_evaluator_adapter = WrapInListAdapter()\n",
    "\n",
    "context_retrieval_pipeline.add_component(instance=map_evaluator, name=\"map_evaluator\")\n",
    "context_retrieval_pipeline.add_component(instance=mrr_evaluator, name=\"mrr_evaluator\")\n",
    "context_retrieval_pipeline.add_component(instance=recall_evaluator, name=\"recall_evaluator\")\n",
    "context_retrieval_pipeline.add_component(instance=retriever_to_evaluator_adapter, name=\"retriever_to_evaluator_adapter\")\n",
    "context_retrieval_pipeline.connect(\"reranker\", \"retriever_to_evaluator_adapter\")\n",
    "context_retrieval_pipeline.connect(\"retriever_to_evaluator_adapter.output\", \"map_evaluator.retrieved_documents\")\n",
    "context_retrieval_pipeline.connect(\"retriever_to_evaluator_adapter.output\", \"mrr_evaluator.retrieved_documents\")\n",
    "context_retrieval_pipeline.connect(\"retriever_to_evaluator_adapter.output\", \"recall_evaluator.retrieved_documents\")"
   ]
  },
  {
   "cell_type": "code",
   "execution_count": 10,
   "id": "2dd6c3e6",
   "metadata": {},
   "outputs": [
    {
     "data": {
      "text/plain": [
       "<haystack.core.pipeline.pipeline.Pipeline object at 0x7f57f918ad90>\n",
       "🚅 Components\n",
       "  - query_embedder: SentenceTransformersTextEmbedder\n",
       "  - bm25_retriever: InMemoryBM25Retriever\n",
       "  - retriever: InMemoryEmbeddingRetriever\n",
       "  - joiner: DocumentJoiner\n",
       "  - reranker: QwenYesNoReranker\n",
       "  - map_evaluator: DocumentMAPEvaluator\n",
       "  - mrr_evaluator: DocumentMRREvaluator\n",
       "  - recall_evaluator: DocumentRecallEvaluator\n",
       "  - retriever_to_evaluator_adapter: WrapInListAdapter\n",
       "🛤️ Connections\n",
       "  - query_embedder.embedding -> retriever.query_embedding (List[float])\n",
       "  - bm25_retriever.documents -> joiner.documents (List[Document])\n",
       "  - retriever.documents -> joiner.documents (List[Document])\n",
       "  - joiner.documents -> reranker.documents (List[Document])\n",
       "  - reranker.documents -> retriever_to_evaluator_adapter.documents (List[Document])\n",
       "  - retriever_to_evaluator_adapter.output -> map_evaluator.retrieved_documents (List[List[Document]])\n",
       "  - retriever_to_evaluator_adapter.output -> mrr_evaluator.retrieved_documents (List[List[Document]])\n",
       "  - retriever_to_evaluator_adapter.output -> recall_evaluator.retrieved_documents (List[List[Document]])"
      ]
     },
     "execution_count": 10,
     "metadata": {},
     "output_type": "execute_result"
    }
   ],
   "source": [
    "import pipelines.retrieval_pipelines.hybrid_retrieval_pipeline\n",
    "importlib.reload(pipelines.retrieval_pipelines.hybrid_retrieval_pipeline)\n",
    "\n",
    "context_hybrid_retrieval_pipeline = pipelines.retrieval_pipelines.hybrid_retrieval_pipeline.get_hybrid_retrieval_pipeline(context_indexing_store)\n",
    "\n",
    "map_evaluator = DocumentMAPEvaluator()\n",
    "mrr_evaluator = DocumentMRREvaluator()\n",
    "recall_evaluator = DocumentRecallEvaluator()\n",
    "\n",
    "retriever_to_evaluator_adapter = WrapInListAdapter()\n",
    "\n",
    "context_hybrid_retrieval_pipeline.add_component(instance=map_evaluator, name=\"map_evaluator\")\n",
    "context_hybrid_retrieval_pipeline.add_component(instance=mrr_evaluator, name=\"mrr_evaluator\")\n",
    "context_hybrid_retrieval_pipeline.add_component(instance=recall_evaluator, name=\"recall_evaluator\")\n",
    "context_hybrid_retrieval_pipeline.add_component(instance=retriever_to_evaluator_adapter, name=\"retriever_to_evaluator_adapter\")\n",
    "context_hybrid_retrieval_pipeline.connect(\"reranker\", \"retriever_to_evaluator_adapter\")\n",
    "context_hybrid_retrieval_pipeline.connect(\"retriever_to_evaluator_adapter.output\", \"map_evaluator.retrieved_documents\")\n",
    "context_hybrid_retrieval_pipeline.connect(\"retriever_to_evaluator_adapter.output\", \"mrr_evaluator.retrieved_documents\")\n",
    "context_hybrid_retrieval_pipeline.connect(\"retriever_to_evaluator_adapter.output\", \"recall_evaluator.retrieved_documents\")"
   ]
  },
  {
   "cell_type": "markdown",
   "id": "baeb621f",
   "metadata": {},
   "source": [
    "## Run Evaluation"
   ]
  },
  {
   "cell_type": "code",
   "execution_count": 11,
   "id": "10195f32",
   "metadata": {},
   "outputs": [],
   "source": [
    "test_cases = [\n",
    "    {\n",
    "        \"name\": \"Basic RAG\",\n",
    "        \"pipeline\": base_retrieval_pipeline,\n",
    "    },\n",
    "    {\n",
    "        \"name\": \"Hybrid RAG\",\n",
    "        \"pipeline\": hybrid_retrieval_pipeline,\n",
    "    },\n",
    "    {\n",
    "        \"name\": \"Contextual RAG\",\n",
    "        \"pipeline\": context_retrieval_pipeline,\n",
    "    },\n",
    "    {\n",
    "        \"name\": \"Contextual Hybrid RAG\",\n",
    "        \"pipeline\": context_hybrid_retrieval_pipeline,\n",
    "    },\n",
    "]"
   ]
  },
  {
   "cell_type": "code",
   "execution_count": 12,
   "id": "416e04e7",
   "metadata": {},
   "outputs": [],
   "source": [
    "import logging\n",
    "\n",
    "# silence haystack’s pipeline logs\n",
    "logging.getLogger(\"haystack\").setLevel(logging.WARNING)\n",
    "logging.getLogger(\"haystack.core.pipeline\").setLevel(logging.WARNING)\n",
    "\n",
    "# if you see similar spam from transformers, ragas, etc.\n",
    "logging.getLogger(\"transformers\").setLevel(logging.WARNING)\n",
    "logging.getLogger(\"ragas\").setLevel(logging.WARNING)"
   ]
  },
  {
   "cell_type": "code",
   "execution_count": null,
   "id": "5426b4df",
   "metadata": {},
   "outputs": [
    {
     "name": "stderr",
     "output_type": "stream",
     "text": [
      "Processing rows:   0%|          | 0/50 [00:00<?, ?row/s]"
     ]
    },
    {
     "data": {
      "application/vnd.jupyter.widget-view+json": {
       "model_id": "5278396622a64492a6301017f030180d",
       "version_major": 2,
       "version_minor": 0
      },
      "text/plain": [
       "Batches:   0%|          | 0/1 [00:00<?, ?it/s]"
      ]
     },
     "metadata": {},
     "output_type": "display_data"
    },
    {
     "name": "stderr",
     "output_type": "stream",
     "text": [
      "You're using a Qwen2TokenizerFast tokenizer. Please note that with a fast tokenizer, using the `__call__` method is faster than using a method to encode the text followed by a call to the `pad` method to get a padded encoding.\n",
      "/srv/data/pia-rag-eval/.venv/lib/python3.11/site-packages/transformers/tokenization_utils_base.py:2714: UserWarning: `max_length` is ignored when `padding`=`True` and there is no truncation strategy. To pad to max length, use `padding='max_length'`.\n",
      "  warnings.warn(\n"
     ]
    },
    {
     "data": {
      "application/vnd.jupyter.widget-view+json": {
       "model_id": "5393134ac0f54d2ab6fda6d7102665da",
       "version_major": 2,
       "version_minor": 0
      },
      "text/plain": [
       "Batches:   0%|          | 0/1 [00:00<?, ?it/s]"
      ]
     },
     "metadata": {},
     "output_type": "display_data"
    },
    {
     "name": "stderr",
     "output_type": "stream",
     "text": [
      "You're using a Qwen2TokenizerFast tokenizer. Please note that with a fast tokenizer, using the `__call__` method is faster than using a method to encode the text followed by a call to the `pad` method to get a padded encoding.\n",
      "/srv/data/pia-rag-eval/.venv/lib/python3.11/site-packages/transformers/tokenization_utils_base.py:2714: UserWarning: `max_length` is ignored when `padding`=`True` and there is no truncation strategy. To pad to max length, use `padding='max_length'`.\n",
      "  warnings.warn(\n"
     ]
    },
    {
     "data": {
      "application/vnd.jupyter.widget-view+json": {
       "model_id": "dd55baceaf6b4ec18670bac38e9118ca",
       "version_major": 2,
       "version_minor": 0
      },
      "text/plain": [
       "Batches:   0%|          | 0/1 [00:00<?, ?it/s]"
      ]
     },
     "metadata": {},
     "output_type": "display_data"
    },
    {
     "name": "stderr",
     "output_type": "stream",
     "text": [
      "You're using a Qwen2TokenizerFast tokenizer. Please note that with a fast tokenizer, using the `__call__` method is faster than using a method to encode the text followed by a call to the `pad` method to get a padded encoding.\n",
      "/srv/data/pia-rag-eval/.venv/lib/python3.11/site-packages/transformers/tokenization_utils_base.py:2714: UserWarning: `max_length` is ignored when `padding`=`True` and there is no truncation strategy. To pad to max length, use `padding='max_length'`.\n",
      "  warnings.warn(\n"
     ]
    },
    {
     "data": {
      "application/vnd.jupyter.widget-view+json": {
       "model_id": "f99811227e7d49e3900c178ce6942543",
       "version_major": 2,
       "version_minor": 0
      },
      "text/plain": [
       "Batches:   0%|          | 0/1 [00:00<?, ?it/s]"
      ]
     },
     "metadata": {},
     "output_type": "display_data"
    },
    {
     "name": "stderr",
     "output_type": "stream",
     "text": [
      "You're using a Qwen2TokenizerFast tokenizer. Please note that with a fast tokenizer, using the `__call__` method is faster than using a method to encode the text followed by a call to the `pad` method to get a padded encoding.\n",
      "/srv/data/pia-rag-eval/.venv/lib/python3.11/site-packages/transformers/tokenization_utils_base.py:2714: UserWarning: `max_length` is ignored when `padding`=`True` and there is no truncation strategy. To pad to max length, use `padding='max_length'`.\n",
      "  warnings.warn(\n",
      "Processing rows:   2%|▏         | 1/50 [00:08<06:45,  8.28s/row]"
     ]
    },
    {
     "data": {
      "application/vnd.jupyter.widget-view+json": {
       "model_id": "580beabe2f8448faa14710dec4f406cd",
       "version_major": 2,
       "version_minor": 0
      },
      "text/plain": [
       "Batches:   0%|          | 0/1 [00:00<?, ?it/s]"
      ]
     },
     "metadata": {},
     "output_type": "display_data"
    },
    {
     "name": "stderr",
     "output_type": "stream",
     "text": [
      "You're using a Qwen2TokenizerFast tokenizer. Please note that with a fast tokenizer, using the `__call__` method is faster than using a method to encode the text followed by a call to the `pad` method to get a padded encoding.\n",
      "/srv/data/pia-rag-eval/.venv/lib/python3.11/site-packages/transformers/tokenization_utils_base.py:2714: UserWarning: `max_length` is ignored when `padding`=`True` and there is no truncation strategy. To pad to max length, use `padding='max_length'`.\n",
      "  warnings.warn(\n"
     ]
    },
    {
     "data": {
      "application/vnd.jupyter.widget-view+json": {
       "model_id": "9b08f8f98d3d4f60bffbef52563b7f71",
       "version_major": 2,
       "version_minor": 0
      },
      "text/plain": [
       "Batches:   0%|          | 0/1 [00:00<?, ?it/s]"
      ]
     },
     "metadata": {},
     "output_type": "display_data"
    },
    {
     "name": "stderr",
     "output_type": "stream",
     "text": [
      "You're using a Qwen2TokenizerFast tokenizer. Please note that with a fast tokenizer, using the `__call__` method is faster than using a method to encode the text followed by a call to the `pad` method to get a padded encoding.\n"
     ]
    },
    {
     "data": {
      "application/vnd.jupyter.widget-view+json": {
       "model_id": "304d8715fac847eeae7d8621506da03b",
       "version_major": 2,
       "version_minor": 0
      },
      "text/plain": [
       "Batches:   0%|          | 0/1 [00:00<?, ?it/s]"
      ]
     },
     "metadata": {},
     "output_type": "display_data"
    },
    {
     "name": "stderr",
     "output_type": "stream",
     "text": [
      "You're using a Qwen2TokenizerFast tokenizer. Please note that with a fast tokenizer, using the `__call__` method is faster than using a method to encode the text followed by a call to the `pad` method to get a padded encoding.\n"
     ]
    },
    {
     "data": {
      "application/vnd.jupyter.widget-view+json": {
       "model_id": "bb2486383134420a9d301d24362b59fd",
       "version_major": 2,
       "version_minor": 0
      },
      "text/plain": [
       "Batches:   0%|          | 0/1 [00:00<?, ?it/s]"
      ]
     },
     "metadata": {},
     "output_type": "display_data"
    },
    {
     "name": "stderr",
     "output_type": "stream",
     "text": [
      "You're using a Qwen2TokenizerFast tokenizer. Please note that with a fast tokenizer, using the `__call__` method is faster than using a method to encode the text followed by a call to the `pad` method to get a padded encoding.\n",
      "Processing rows:   4%|▍         | 2/50 [00:15<06:09,  7.69s/row]"
     ]
    },
    {
     "data": {
      "application/vnd.jupyter.widget-view+json": {
       "model_id": "dfc03a5ec0cd4bef89bcb58db77183bc",
       "version_major": 2,
       "version_minor": 0
      },
      "text/plain": [
       "Batches:   0%|          | 0/1 [00:00<?, ?it/s]"
      ]
     },
     "metadata": {},
     "output_type": "display_data"
    },
    {
     "name": "stderr",
     "output_type": "stream",
     "text": [
      "You're using a Qwen2TokenizerFast tokenizer. Please note that with a fast tokenizer, using the `__call__` method is faster than using a method to encode the text followed by a call to the `pad` method to get a padded encoding.\n"
     ]
    },
    {
     "data": {
      "application/vnd.jupyter.widget-view+json": {
       "model_id": "0f8c025a4639408c9dad77e1f0628003",
       "version_major": 2,
       "version_minor": 0
      },
      "text/plain": [
       "Batches:   0%|          | 0/1 [00:00<?, ?it/s]"
      ]
     },
     "metadata": {},
     "output_type": "display_data"
    },
    {
     "name": "stderr",
     "output_type": "stream",
     "text": [
      "You're using a Qwen2TokenizerFast tokenizer. Please note that with a fast tokenizer, using the `__call__` method is faster than using a method to encode the text followed by a call to the `pad` method to get a padded encoding.\n"
     ]
    },
    {
     "data": {
      "application/vnd.jupyter.widget-view+json": {
       "model_id": "8bc4232153514608b016c60fb02a1041",
       "version_major": 2,
       "version_minor": 0
      },
      "text/plain": [
       "Batches:   0%|          | 0/1 [00:00<?, ?it/s]"
      ]
     },
     "metadata": {},
     "output_type": "display_data"
    },
    {
     "name": "stderr",
     "output_type": "stream",
     "text": [
      "You're using a Qwen2TokenizerFast tokenizer. Please note that with a fast tokenizer, using the `__call__` method is faster than using a method to encode the text followed by a call to the `pad` method to get a padded encoding.\n"
     ]
    },
    {
     "data": {
      "application/vnd.jupyter.widget-view+json": {
       "model_id": "bddf01fec65046a5a2dd3d911d6f8555",
       "version_major": 2,
       "version_minor": 0
      },
      "text/plain": [
       "Batches:   0%|          | 0/1 [00:00<?, ?it/s]"
      ]
     },
     "metadata": {},
     "output_type": "display_data"
    },
    {
     "name": "stderr",
     "output_type": "stream",
     "text": [
      "You're using a Qwen2TokenizerFast tokenizer. Please note that with a fast tokenizer, using the `__call__` method is faster than using a method to encode the text followed by a call to the `pad` method to get a padded encoding.\n",
      "Processing rows:   6%|▌         | 3/50 [00:22<05:48,  7.41s/row]"
     ]
    },
    {
     "data": {
      "application/vnd.jupyter.widget-view+json": {
       "model_id": "f7d685ae257d40e6969d4a6a2fca7d6c",
       "version_major": 2,
       "version_minor": 0
      },
      "text/plain": [
       "Batches:   0%|          | 0/1 [00:00<?, ?it/s]"
      ]
     },
     "metadata": {},
     "output_type": "display_data"
    },
    {
     "name": "stderr",
     "output_type": "stream",
     "text": [
      "You're using a Qwen2TokenizerFast tokenizer. Please note that with a fast tokenizer, using the `__call__` method is faster than using a method to encode the text followed by a call to the `pad` method to get a padded encoding.\n"
     ]
    },
    {
     "data": {
      "application/vnd.jupyter.widget-view+json": {
       "model_id": "a77c805b25434016a0b622b83417b7ed",
       "version_major": 2,
       "version_minor": 0
      },
      "text/plain": [
       "Batches:   0%|          | 0/1 [00:00<?, ?it/s]"
      ]
     },
     "metadata": {},
     "output_type": "display_data"
    },
    {
     "name": "stderr",
     "output_type": "stream",
     "text": [
      "You're using a Qwen2TokenizerFast tokenizer. Please note that with a fast tokenizer, using the `__call__` method is faster than using a method to encode the text followed by a call to the `pad` method to get a padded encoding.\n"
     ]
    },
    {
     "data": {
      "application/vnd.jupyter.widget-view+json": {
       "model_id": "2612f0e0e95449959e507a8b7782c037",
       "version_major": 2,
       "version_minor": 0
      },
      "text/plain": [
       "Batches:   0%|          | 0/1 [00:00<?, ?it/s]"
      ]
     },
     "metadata": {},
     "output_type": "display_data"
    },
    {
     "name": "stderr",
     "output_type": "stream",
     "text": [
      "You're using a Qwen2TokenizerFast tokenizer. Please note that with a fast tokenizer, using the `__call__` method is faster than using a method to encode the text followed by a call to the `pad` method to get a padded encoding.\n"
     ]
    },
    {
     "data": {
      "application/vnd.jupyter.widget-view+json": {
       "model_id": "191821a75dcc485b993c0f4346f8b9a4",
       "version_major": 2,
       "version_minor": 0
      },
      "text/plain": [
       "Batches:   0%|          | 0/1 [00:00<?, ?it/s]"
      ]
     },
     "metadata": {},
     "output_type": "display_data"
    },
    {
     "name": "stderr",
     "output_type": "stream",
     "text": [
      "You're using a Qwen2TokenizerFast tokenizer. Please note that with a fast tokenizer, using the `__call__` method is faster than using a method to encode the text followed by a call to the `pad` method to get a padded encoding.\n",
      "Processing rows:   8%|▊         | 4/50 [00:29<05:33,  7.25s/row]"
     ]
    },
    {
     "data": {
      "application/vnd.jupyter.widget-view+json": {
       "model_id": "7c1d542b37574b2a877c556f43e5f875",
       "version_major": 2,
       "version_minor": 0
      },
      "text/plain": [
       "Batches:   0%|          | 0/1 [00:00<?, ?it/s]"
      ]
     },
     "metadata": {},
     "output_type": "display_data"
    },
    {
     "name": "stderr",
     "output_type": "stream",
     "text": [
      "You're using a Qwen2TokenizerFast tokenizer. Please note that with a fast tokenizer, using the `__call__` method is faster than using a method to encode the text followed by a call to the `pad` method to get a padded encoding.\n"
     ]
    },
    {
     "data": {
      "application/vnd.jupyter.widget-view+json": {
       "model_id": "b2617152d80c43a0b6e9a500da1b6134",
       "version_major": 2,
       "version_minor": 0
      },
      "text/plain": [
       "Batches:   0%|          | 0/1 [00:00<?, ?it/s]"
      ]
     },
     "metadata": {},
     "output_type": "display_data"
    },
    {
     "name": "stderr",
     "output_type": "stream",
     "text": [
      "You're using a Qwen2TokenizerFast tokenizer. Please note that with a fast tokenizer, using the `__call__` method is faster than using a method to encode the text followed by a call to the `pad` method to get a padded encoding.\n"
     ]
    },
    {
     "data": {
      "application/vnd.jupyter.widget-view+json": {
       "model_id": "a2280f42c81d421e8b42224c37621f2c",
       "version_major": 2,
       "version_minor": 0
      },
      "text/plain": [
       "Batches:   0%|          | 0/1 [00:00<?, ?it/s]"
      ]
     },
     "metadata": {},
     "output_type": "display_data"
    },
    {
     "name": "stderr",
     "output_type": "stream",
     "text": [
      "You're using a Qwen2TokenizerFast tokenizer. Please note that with a fast tokenizer, using the `__call__` method is faster than using a method to encode the text followed by a call to the `pad` method to get a padded encoding.\n"
     ]
    },
    {
     "data": {
      "application/vnd.jupyter.widget-view+json": {
       "model_id": "746cce59ab9e4b1090dea19a66cde850",
       "version_major": 2,
       "version_minor": 0
      },
      "text/plain": [
       "Batches:   0%|          | 0/1 [00:00<?, ?it/s]"
      ]
     },
     "metadata": {},
     "output_type": "display_data"
    },
    {
     "name": "stderr",
     "output_type": "stream",
     "text": [
      "You're using a Qwen2TokenizerFast tokenizer. Please note that with a fast tokenizer, using the `__call__` method is faster than using a method to encode the text followed by a call to the `pad` method to get a padded encoding.\n",
      "Processing rows:  10%|█         | 5/50 [00:36<05:19,  7.11s/row]"
     ]
    },
    {
     "data": {
      "application/vnd.jupyter.widget-view+json": {
       "model_id": "9854d5d1f6744cf2bdb4129d7f079a56",
       "version_major": 2,
       "version_minor": 0
      },
      "text/plain": [
       "Batches:   0%|          | 0/1 [00:00<?, ?it/s]"
      ]
     },
     "metadata": {},
     "output_type": "display_data"
    },
    {
     "name": "stderr",
     "output_type": "stream",
     "text": [
      "You're using a Qwen2TokenizerFast tokenizer. Please note that with a fast tokenizer, using the `__call__` method is faster than using a method to encode the text followed by a call to the `pad` method to get a padded encoding.\n"
     ]
    },
    {
     "data": {
      "application/vnd.jupyter.widget-view+json": {
       "model_id": "179ccea5c89045e8bfa74c74a4d6b6bf",
       "version_major": 2,
       "version_minor": 0
      },
      "text/plain": [
       "Batches:   0%|          | 0/1 [00:00<?, ?it/s]"
      ]
     },
     "metadata": {},
     "output_type": "display_data"
    },
    {
     "name": "stderr",
     "output_type": "stream",
     "text": [
      "You're using a Qwen2TokenizerFast tokenizer. Please note that with a fast tokenizer, using the `__call__` method is faster than using a method to encode the text followed by a call to the `pad` method to get a padded encoding.\n"
     ]
    },
    {
     "data": {
      "application/vnd.jupyter.widget-view+json": {
       "model_id": "64ecff1d29494a6da841d08bc5c3290a",
       "version_major": 2,
       "version_minor": 0
      },
      "text/plain": [
       "Batches:   0%|          | 0/1 [00:00<?, ?it/s]"
      ]
     },
     "metadata": {},
     "output_type": "display_data"
    },
    {
     "name": "stderr",
     "output_type": "stream",
     "text": [
      "You're using a Qwen2TokenizerFast tokenizer. Please note that with a fast tokenizer, using the `__call__` method is faster than using a method to encode the text followed by a call to the `pad` method to get a padded encoding.\n"
     ]
    },
    {
     "data": {
      "application/vnd.jupyter.widget-view+json": {
       "model_id": "fcb905c40b30493ba55bc391d9ee2d8b",
       "version_major": 2,
       "version_minor": 0
      },
      "text/plain": [
       "Batches:   0%|          | 0/1 [00:00<?, ?it/s]"
      ]
     },
     "metadata": {},
     "output_type": "display_data"
    },
    {
     "name": "stderr",
     "output_type": "stream",
     "text": [
      "You're using a Qwen2TokenizerFast tokenizer. Please note that with a fast tokenizer, using the `__call__` method is faster than using a method to encode the text followed by a call to the `pad` method to get a padded encoding.\n",
      "Processing rows:  12%|█▏        | 6/50 [00:43<05:15,  7.17s/row]"
     ]
    },
    {
     "data": {
      "application/vnd.jupyter.widget-view+json": {
       "model_id": "9be92c9ff6814d4887eb08ca17cf18e1",
       "version_major": 2,
       "version_minor": 0
      },
      "text/plain": [
       "Batches:   0%|          | 0/1 [00:00<?, ?it/s]"
      ]
     },
     "metadata": {},
     "output_type": "display_data"
    },
    {
     "name": "stderr",
     "output_type": "stream",
     "text": [
      "You're using a Qwen2TokenizerFast tokenizer. Please note that with a fast tokenizer, using the `__call__` method is faster than using a method to encode the text followed by a call to the `pad` method to get a padded encoding.\n"
     ]
    },
    {
     "data": {
      "application/vnd.jupyter.widget-view+json": {
       "model_id": "f7691b64746b46b3a34a660d233f8ff6",
       "version_major": 2,
       "version_minor": 0
      },
      "text/plain": [
       "Batches:   0%|          | 0/1 [00:00<?, ?it/s]"
      ]
     },
     "metadata": {},
     "output_type": "display_data"
    },
    {
     "name": "stderr",
     "output_type": "stream",
     "text": [
      "You're using a Qwen2TokenizerFast tokenizer. Please note that with a fast tokenizer, using the `__call__` method is faster than using a method to encode the text followed by a call to the `pad` method to get a padded encoding.\n"
     ]
    },
    {
     "data": {
      "application/vnd.jupyter.widget-view+json": {
       "model_id": "54a259e49a4047a59cee1182423a054a",
       "version_major": 2,
       "version_minor": 0
      },
      "text/plain": [
       "Batches:   0%|          | 0/1 [00:00<?, ?it/s]"
      ]
     },
     "metadata": {},
     "output_type": "display_data"
    },
    {
     "name": "stderr",
     "output_type": "stream",
     "text": [
      "You're using a Qwen2TokenizerFast tokenizer. Please note that with a fast tokenizer, using the `__call__` method is faster than using a method to encode the text followed by a call to the `pad` method to get a padded encoding.\n"
     ]
    },
    {
     "data": {
      "application/vnd.jupyter.widget-view+json": {
       "model_id": "7120a023af284b9d821a36e001295a96",
       "version_major": 2,
       "version_minor": 0
      },
      "text/plain": [
       "Batches:   0%|          | 0/1 [00:00<?, ?it/s]"
      ]
     },
     "metadata": {},
     "output_type": "display_data"
    },
    {
     "name": "stderr",
     "output_type": "stream",
     "text": [
      "You're using a Qwen2TokenizerFast tokenizer. Please note that with a fast tokenizer, using the `__call__` method is faster than using a method to encode the text followed by a call to the `pad` method to get a padded encoding.\n",
      "Processing rows:  14%|█▍        | 7/50 [00:50<05:07,  7.15s/row]"
     ]
    },
    {
     "data": {
      "application/vnd.jupyter.widget-view+json": {
       "model_id": "12817f0a52ba4c7b8d35dc306db44b9a",
       "version_major": 2,
       "version_minor": 0
      },
      "text/plain": [
       "Batches:   0%|          | 0/1 [00:00<?, ?it/s]"
      ]
     },
     "metadata": {},
     "output_type": "display_data"
    },
    {
     "name": "stderr",
     "output_type": "stream",
     "text": [
      "You're using a Qwen2TokenizerFast tokenizer. Please note that with a fast tokenizer, using the `__call__` method is faster than using a method to encode the text followed by a call to the `pad` method to get a padded encoding.\n"
     ]
    },
    {
     "data": {
      "application/vnd.jupyter.widget-view+json": {
       "model_id": "5c6270329a03464e8ee5899130a863c3",
       "version_major": 2,
       "version_minor": 0
      },
      "text/plain": [
       "Batches:   0%|          | 0/1 [00:00<?, ?it/s]"
      ]
     },
     "metadata": {},
     "output_type": "display_data"
    },
    {
     "name": "stderr",
     "output_type": "stream",
     "text": [
      "You're using a Qwen2TokenizerFast tokenizer. Please note that with a fast tokenizer, using the `__call__` method is faster than using a method to encode the text followed by a call to the `pad` method to get a padded encoding.\n"
     ]
    },
    {
     "data": {
      "application/vnd.jupyter.widget-view+json": {
       "model_id": "7c3cb3db92984a49bb1b9c8a442876b5",
       "version_major": 2,
       "version_minor": 0
      },
      "text/plain": [
       "Batches:   0%|          | 0/1 [00:00<?, ?it/s]"
      ]
     },
     "metadata": {},
     "output_type": "display_data"
    },
    {
     "name": "stderr",
     "output_type": "stream",
     "text": [
      "You're using a Qwen2TokenizerFast tokenizer. Please note that with a fast tokenizer, using the `__call__` method is faster than using a method to encode the text followed by a call to the `pad` method to get a padded encoding.\n"
     ]
    },
    {
     "data": {
      "application/vnd.jupyter.widget-view+json": {
       "model_id": "1895b3d7d933424c9dace036fce0c7b1",
       "version_major": 2,
       "version_minor": 0
      },
      "text/plain": [
       "Batches:   0%|          | 0/1 [00:00<?, ?it/s]"
      ]
     },
     "metadata": {},
     "output_type": "display_data"
    },
    {
     "name": "stderr",
     "output_type": "stream",
     "text": [
      "You're using a Qwen2TokenizerFast tokenizer. Please note that with a fast tokenizer, using the `__call__` method is faster than using a method to encode the text followed by a call to the `pad` method to get a padded encoding.\n",
      "Processing rows:  16%|█▌        | 8/50 [00:58<05:03,  7.23s/row]"
     ]
    },
    {
     "data": {
      "application/vnd.jupyter.widget-view+json": {
       "model_id": "e87817a991d649bf9331df38f8b0cdf1",
       "version_major": 2,
       "version_minor": 0
      },
      "text/plain": [
       "Batches:   0%|          | 0/1 [00:00<?, ?it/s]"
      ]
     },
     "metadata": {},
     "output_type": "display_data"
    },
    {
     "name": "stderr",
     "output_type": "stream",
     "text": [
      "You're using a Qwen2TokenizerFast tokenizer. Please note that with a fast tokenizer, using the `__call__` method is faster than using a method to encode the text followed by a call to the `pad` method to get a padded encoding.\n"
     ]
    },
    {
     "data": {
      "application/vnd.jupyter.widget-view+json": {
       "model_id": "b6b3a2bc7f914d43850a037f9c79bdcf",
       "version_major": 2,
       "version_minor": 0
      },
      "text/plain": [
       "Batches:   0%|          | 0/1 [00:00<?, ?it/s]"
      ]
     },
     "metadata": {},
     "output_type": "display_data"
    },
    {
     "name": "stderr",
     "output_type": "stream",
     "text": [
      "You're using a Qwen2TokenizerFast tokenizer. Please note that with a fast tokenizer, using the `__call__` method is faster than using a method to encode the text followed by a call to the `pad` method to get a padded encoding.\n"
     ]
    },
    {
     "data": {
      "application/vnd.jupyter.widget-view+json": {
       "model_id": "7a14fafc7f6147cc9d3438a523673f9e",
       "version_major": 2,
       "version_minor": 0
      },
      "text/plain": [
       "Batches:   0%|          | 0/1 [00:00<?, ?it/s]"
      ]
     },
     "metadata": {},
     "output_type": "display_data"
    },
    {
     "name": "stderr",
     "output_type": "stream",
     "text": [
      "You're using a Qwen2TokenizerFast tokenizer. Please note that with a fast tokenizer, using the `__call__` method is faster than using a method to encode the text followed by a call to the `pad` method to get a padded encoding.\n"
     ]
    },
    {
     "data": {
      "application/vnd.jupyter.widget-view+json": {
       "model_id": "2c21365cb1a740aa996a5e10fc237648",
       "version_major": 2,
       "version_minor": 0
      },
      "text/plain": [
       "Batches:   0%|          | 0/1 [00:00<?, ?it/s]"
      ]
     },
     "metadata": {},
     "output_type": "display_data"
    },
    {
     "name": "stderr",
     "output_type": "stream",
     "text": [
      "You're using a Qwen2TokenizerFast tokenizer. Please note that with a fast tokenizer, using the `__call__` method is faster than using a method to encode the text followed by a call to the `pad` method to get a padded encoding.\n",
      "Processing rows:  18%|█▊        | 9/50 [01:05<04:52,  7.14s/row]"
     ]
    },
    {
     "data": {
      "application/vnd.jupyter.widget-view+json": {
       "model_id": "2ca832d1c111495a95d86e2478aa6ec1",
       "version_major": 2,
       "version_minor": 0
      },
      "text/plain": [
       "Batches:   0%|          | 0/1 [00:00<?, ?it/s]"
      ]
     },
     "metadata": {},
     "output_type": "display_data"
    },
    {
     "name": "stderr",
     "output_type": "stream",
     "text": [
      "You're using a Qwen2TokenizerFast tokenizer. Please note that with a fast tokenizer, using the `__call__` method is faster than using a method to encode the text followed by a call to the `pad` method to get a padded encoding.\n"
     ]
    },
    {
     "data": {
      "application/vnd.jupyter.widget-view+json": {
       "model_id": "30aeabab3d2a46fc94a8792a9d74b32c",
       "version_major": 2,
       "version_minor": 0
      },
      "text/plain": [
       "Batches:   0%|          | 0/1 [00:00<?, ?it/s]"
      ]
     },
     "metadata": {},
     "output_type": "display_data"
    },
    {
     "name": "stderr",
     "output_type": "stream",
     "text": [
      "You're using a Qwen2TokenizerFast tokenizer. Please note that with a fast tokenizer, using the `__call__` method is faster than using a method to encode the text followed by a call to the `pad` method to get a padded encoding.\n"
     ]
    },
    {
     "data": {
      "application/vnd.jupyter.widget-view+json": {
       "model_id": "e65d31cb3a5943f982b458cdb491021c",
       "version_major": 2,
       "version_minor": 0
      },
      "text/plain": [
       "Batches:   0%|          | 0/1 [00:00<?, ?it/s]"
      ]
     },
     "metadata": {},
     "output_type": "display_data"
    },
    {
     "name": "stderr",
     "output_type": "stream",
     "text": [
      "You're using a Qwen2TokenizerFast tokenizer. Please note that with a fast tokenizer, using the `__call__` method is faster than using a method to encode the text followed by a call to the `pad` method to get a padded encoding.\n"
     ]
    },
    {
     "data": {
      "application/vnd.jupyter.widget-view+json": {
       "model_id": "93a443052e744818ab83ac350085a8c1",
       "version_major": 2,
       "version_minor": 0
      },
      "text/plain": [
       "Batches:   0%|          | 0/1 [00:00<?, ?it/s]"
      ]
     },
     "metadata": {},
     "output_type": "display_data"
    },
    {
     "name": "stderr",
     "output_type": "stream",
     "text": [
      "You're using a Qwen2TokenizerFast tokenizer. Please note that with a fast tokenizer, using the `__call__` method is faster than using a method to encode the text followed by a call to the `pad` method to get a padded encoding.\n",
      "Processing rows:  20%|██        | 10/50 [01:12<04:44,  7.12s/row]"
     ]
    },
    {
     "data": {
      "application/vnd.jupyter.widget-view+json": {
       "model_id": "dd3d8c4b59624f71a8a48552f7f7428e",
       "version_major": 2,
       "version_minor": 0
      },
      "text/plain": [
       "Batches:   0%|          | 0/1 [00:00<?, ?it/s]"
      ]
     },
     "metadata": {},
     "output_type": "display_data"
    },
    {
     "name": "stderr",
     "output_type": "stream",
     "text": [
      "You're using a Qwen2TokenizerFast tokenizer. Please note that with a fast tokenizer, using the `__call__` method is faster than using a method to encode the text followed by a call to the `pad` method to get a padded encoding.\n"
     ]
    },
    {
     "data": {
      "application/vnd.jupyter.widget-view+json": {
       "model_id": "ece31c9ea2834b04ac03dacd20c2863e",
       "version_major": 2,
       "version_minor": 0
      },
      "text/plain": [
       "Batches:   0%|          | 0/1 [00:00<?, ?it/s]"
      ]
     },
     "metadata": {},
     "output_type": "display_data"
    },
    {
     "name": "stderr",
     "output_type": "stream",
     "text": [
      "You're using a Qwen2TokenizerFast tokenizer. Please note that with a fast tokenizer, using the `__call__` method is faster than using a method to encode the text followed by a call to the `pad` method to get a padded encoding.\n"
     ]
    },
    {
     "data": {
      "application/vnd.jupyter.widget-view+json": {
       "model_id": "2d51a32042604668932d3d0b98b1ee26",
       "version_major": 2,
       "version_minor": 0
      },
      "text/plain": [
       "Batches:   0%|          | 0/1 [00:00<?, ?it/s]"
      ]
     },
     "metadata": {},
     "output_type": "display_data"
    },
    {
     "name": "stderr",
     "output_type": "stream",
     "text": [
      "You're using a Qwen2TokenizerFast tokenizer. Please note that with a fast tokenizer, using the `__call__` method is faster than using a method to encode the text followed by a call to the `pad` method to get a padded encoding.\n"
     ]
    },
    {
     "data": {
      "application/vnd.jupyter.widget-view+json": {
       "model_id": "61a1398b6f3449fe9ce946610651caf8",
       "version_major": 2,
       "version_minor": 0
      },
      "text/plain": [
       "Batches:   0%|          | 0/1 [00:00<?, ?it/s]"
      ]
     },
     "metadata": {},
     "output_type": "display_data"
    },
    {
     "name": "stderr",
     "output_type": "stream",
     "text": [
      "You're using a Qwen2TokenizerFast tokenizer. Please note that with a fast tokenizer, using the `__call__` method is faster than using a method to encode the text followed by a call to the `pad` method to get a padded encoding.\n",
      "Processing rows:  22%|██▏       | 11/50 [01:20<04:49,  7.43s/row]"
     ]
    },
    {
     "data": {
      "application/vnd.jupyter.widget-view+json": {
       "model_id": "cb4588ca191a4219a42e0ebc0b2e7a58",
       "version_major": 2,
       "version_minor": 0
      },
      "text/plain": [
       "Batches:   0%|          | 0/1 [00:00<?, ?it/s]"
      ]
     },
     "metadata": {},
     "output_type": "display_data"
    },
    {
     "name": "stderr",
     "output_type": "stream",
     "text": [
      "You're using a Qwen2TokenizerFast tokenizer. Please note that with a fast tokenizer, using the `__call__` method is faster than using a method to encode the text followed by a call to the `pad` method to get a padded encoding.\n"
     ]
    },
    {
     "data": {
      "application/vnd.jupyter.widget-view+json": {
       "model_id": "f41754e0f3ce4ce487b6d270b955e5dd",
       "version_major": 2,
       "version_minor": 0
      },
      "text/plain": [
       "Batches:   0%|          | 0/1 [00:00<?, ?it/s]"
      ]
     },
     "metadata": {},
     "output_type": "display_data"
    },
    {
     "name": "stderr",
     "output_type": "stream",
     "text": [
      "You're using a Qwen2TokenizerFast tokenizer. Please note that with a fast tokenizer, using the `__call__` method is faster than using a method to encode the text followed by a call to the `pad` method to get a padded encoding.\n"
     ]
    },
    {
     "data": {
      "application/vnd.jupyter.widget-view+json": {
       "model_id": "08f33b9976664c73b4963febc262697b",
       "version_major": 2,
       "version_minor": 0
      },
      "text/plain": [
       "Batches:   0%|          | 0/1 [00:00<?, ?it/s]"
      ]
     },
     "metadata": {},
     "output_type": "display_data"
    },
    {
     "name": "stderr",
     "output_type": "stream",
     "text": [
      "You're using a Qwen2TokenizerFast tokenizer. Please note that with a fast tokenizer, using the `__call__` method is faster than using a method to encode the text followed by a call to the `pad` method to get a padded encoding.\n"
     ]
    },
    {
     "data": {
      "application/vnd.jupyter.widget-view+json": {
       "model_id": "8cb957fbe2da47a8a21939c352ce1f2d",
       "version_major": 2,
       "version_minor": 0
      },
      "text/plain": [
       "Batches:   0%|          | 0/1 [00:00<?, ?it/s]"
      ]
     },
     "metadata": {},
     "output_type": "display_data"
    },
    {
     "name": "stderr",
     "output_type": "stream",
     "text": [
      "You're using a Qwen2TokenizerFast tokenizer. Please note that with a fast tokenizer, using the `__call__` method is faster than using a method to encode the text followed by a call to the `pad` method to get a padded encoding.\n",
      "Processing rows:  24%|██▍       | 12/50 [01:27<04:41,  7.40s/row]"
     ]
    },
    {
     "data": {
      "application/vnd.jupyter.widget-view+json": {
       "model_id": "f2a601d08ca941e4a55417a7aea62872",
       "version_major": 2,
       "version_minor": 0
      },
      "text/plain": [
       "Batches:   0%|          | 0/1 [00:00<?, ?it/s]"
      ]
     },
     "metadata": {},
     "output_type": "display_data"
    },
    {
     "name": "stderr",
     "output_type": "stream",
     "text": [
      "You're using a Qwen2TokenizerFast tokenizer. Please note that with a fast tokenizer, using the `__call__` method is faster than using a method to encode the text followed by a call to the `pad` method to get a padded encoding.\n"
     ]
    },
    {
     "data": {
      "application/vnd.jupyter.widget-view+json": {
       "model_id": "a62d4e8f138142bbbad106177f892d5c",
       "version_major": 2,
       "version_minor": 0
      },
      "text/plain": [
       "Batches:   0%|          | 0/1 [00:00<?, ?it/s]"
      ]
     },
     "metadata": {},
     "output_type": "display_data"
    },
    {
     "name": "stderr",
     "output_type": "stream",
     "text": [
      "You're using a Qwen2TokenizerFast tokenizer. Please note that with a fast tokenizer, using the `__call__` method is faster than using a method to encode the text followed by a call to the `pad` method to get a padded encoding.\n"
     ]
    },
    {
     "data": {
      "application/vnd.jupyter.widget-view+json": {
       "model_id": "0809ece8e9704dcea6b56fd584284830",
       "version_major": 2,
       "version_minor": 0
      },
      "text/plain": [
       "Batches:   0%|          | 0/1 [00:00<?, ?it/s]"
      ]
     },
     "metadata": {},
     "output_type": "display_data"
    },
    {
     "name": "stderr",
     "output_type": "stream",
     "text": [
      "You're using a Qwen2TokenizerFast tokenizer. Please note that with a fast tokenizer, using the `__call__` method is faster than using a method to encode the text followed by a call to the `pad` method to get a padded encoding.\n"
     ]
    },
    {
     "data": {
      "application/vnd.jupyter.widget-view+json": {
       "model_id": "9bf771d2a00f4f2280dbc642355ccc85",
       "version_major": 2,
       "version_minor": 0
      },
      "text/plain": [
       "Batches:   0%|          | 0/1 [00:00<?, ?it/s]"
      ]
     },
     "metadata": {},
     "output_type": "display_data"
    },
    {
     "name": "stderr",
     "output_type": "stream",
     "text": [
      "You're using a Qwen2TokenizerFast tokenizer. Please note that with a fast tokenizer, using the `__call__` method is faster than using a method to encode the text followed by a call to the `pad` method to get a padded encoding.\n",
      "Processing rows:  26%|██▌       | 13/50 [01:35<04:33,  7.40s/row]"
     ]
    },
    {
     "data": {
      "application/vnd.jupyter.widget-view+json": {
       "model_id": "1a54755632b640e2ae665fc9b4ef6e92",
       "version_major": 2,
       "version_minor": 0
      },
      "text/plain": [
       "Batches:   0%|          | 0/1 [00:00<?, ?it/s]"
      ]
     },
     "metadata": {},
     "output_type": "display_data"
    },
    {
     "name": "stderr",
     "output_type": "stream",
     "text": [
      "You're using a Qwen2TokenizerFast tokenizer. Please note that with a fast tokenizer, using the `__call__` method is faster than using a method to encode the text followed by a call to the `pad` method to get a padded encoding.\n"
     ]
    },
    {
     "data": {
      "application/vnd.jupyter.widget-view+json": {
       "model_id": "075fbf1206684f29a259e0be7e8a98b7",
       "version_major": 2,
       "version_minor": 0
      },
      "text/plain": [
       "Batches:   0%|          | 0/1 [00:00<?, ?it/s]"
      ]
     },
     "metadata": {},
     "output_type": "display_data"
    },
    {
     "name": "stderr",
     "output_type": "stream",
     "text": [
      "You're using a Qwen2TokenizerFast tokenizer. Please note that with a fast tokenizer, using the `__call__` method is faster than using a method to encode the text followed by a call to the `pad` method to get a padded encoding.\n"
     ]
    },
    {
     "data": {
      "application/vnd.jupyter.widget-view+json": {
       "model_id": "6ed7ef49d35f4affbbcea06090f77448",
       "version_major": 2,
       "version_minor": 0
      },
      "text/plain": [
       "Batches:   0%|          | 0/1 [00:00<?, ?it/s]"
      ]
     },
     "metadata": {},
     "output_type": "display_data"
    },
    {
     "name": "stderr",
     "output_type": "stream",
     "text": [
      "You're using a Qwen2TokenizerFast tokenizer. Please note that with a fast tokenizer, using the `__call__` method is faster than using a method to encode the text followed by a call to the `pad` method to get a padded encoding.\n"
     ]
    },
    {
     "data": {
      "application/vnd.jupyter.widget-view+json": {
       "model_id": "4206568a50544a13af7074ffec7f080a",
       "version_major": 2,
       "version_minor": 0
      },
      "text/plain": [
       "Batches:   0%|          | 0/1 [00:00<?, ?it/s]"
      ]
     },
     "metadata": {},
     "output_type": "display_data"
    },
    {
     "name": "stderr",
     "output_type": "stream",
     "text": [
      "You're using a Qwen2TokenizerFast tokenizer. Please note that with a fast tokenizer, using the `__call__` method is faster than using a method to encode the text followed by a call to the `pad` method to get a padded encoding.\n",
      "Processing rows:  28%|██▊       | 14/50 [01:42<04:22,  7.29s/row]"
     ]
    },
    {
     "data": {
      "application/vnd.jupyter.widget-view+json": {
       "model_id": "4c313fde3be741a2921534a437a4bda5",
       "version_major": 2,
       "version_minor": 0
      },
      "text/plain": [
       "Batches:   0%|          | 0/1 [00:00<?, ?it/s]"
      ]
     },
     "metadata": {},
     "output_type": "display_data"
    },
    {
     "name": "stderr",
     "output_type": "stream",
     "text": [
      "You're using a Qwen2TokenizerFast tokenizer. Please note that with a fast tokenizer, using the `__call__` method is faster than using a method to encode the text followed by a call to the `pad` method to get a padded encoding.\n"
     ]
    },
    {
     "data": {
      "application/vnd.jupyter.widget-view+json": {
       "model_id": "73e7d59dc6ac4c809c84edac4993af1c",
       "version_major": 2,
       "version_minor": 0
      },
      "text/plain": [
       "Batches:   0%|          | 0/1 [00:00<?, ?it/s]"
      ]
     },
     "metadata": {},
     "output_type": "display_data"
    },
    {
     "name": "stderr",
     "output_type": "stream",
     "text": [
      "You're using a Qwen2TokenizerFast tokenizer. Please note that with a fast tokenizer, using the `__call__` method is faster than using a method to encode the text followed by a call to the `pad` method to get a padded encoding.\n"
     ]
    },
    {
     "data": {
      "application/vnd.jupyter.widget-view+json": {
       "model_id": "5f4e7b15bb344aa3bd362f58ce6f45be",
       "version_major": 2,
       "version_minor": 0
      },
      "text/plain": [
       "Batches:   0%|          | 0/1 [00:00<?, ?it/s]"
      ]
     },
     "metadata": {},
     "output_type": "display_data"
    },
    {
     "name": "stderr",
     "output_type": "stream",
     "text": [
      "You're using a Qwen2TokenizerFast tokenizer. Please note that with a fast tokenizer, using the `__call__` method is faster than using a method to encode the text followed by a call to the `pad` method to get a padded encoding.\n"
     ]
    },
    {
     "data": {
      "application/vnd.jupyter.widget-view+json": {
       "model_id": "4e9988c282b542d2ad1902087c54d3e9",
       "version_major": 2,
       "version_minor": 0
      },
      "text/plain": [
       "Batches:   0%|          | 0/1 [00:00<?, ?it/s]"
      ]
     },
     "metadata": {},
     "output_type": "display_data"
    },
    {
     "name": "stderr",
     "output_type": "stream",
     "text": [
      "You're using a Qwen2TokenizerFast tokenizer. Please note that with a fast tokenizer, using the `__call__` method is faster than using a method to encode the text followed by a call to the `pad` method to get a padded encoding.\n",
      "Processing rows:  30%|███       | 15/50 [01:49<04:15,  7.31s/row]"
     ]
    },
    {
     "data": {
      "application/vnd.jupyter.widget-view+json": {
       "model_id": "35ce12d44b6b45b88c573b5ab1d2220b",
       "version_major": 2,
       "version_minor": 0
      },
      "text/plain": [
       "Batches:   0%|          | 0/1 [00:00<?, ?it/s]"
      ]
     },
     "metadata": {},
     "output_type": "display_data"
    },
    {
     "name": "stderr",
     "output_type": "stream",
     "text": [
      "You're using a Qwen2TokenizerFast tokenizer. Please note that with a fast tokenizer, using the `__call__` method is faster than using a method to encode the text followed by a call to the `pad` method to get a padded encoding.\n"
     ]
    },
    {
     "data": {
      "application/vnd.jupyter.widget-view+json": {
       "model_id": "8c0cfb2ed3574927abb95b5c91a634a1",
       "version_major": 2,
       "version_minor": 0
      },
      "text/plain": [
       "Batches:   0%|          | 0/1 [00:00<?, ?it/s]"
      ]
     },
     "metadata": {},
     "output_type": "display_data"
    },
    {
     "name": "stderr",
     "output_type": "stream",
     "text": [
      "You're using a Qwen2TokenizerFast tokenizer. Please note that with a fast tokenizer, using the `__call__` method is faster than using a method to encode the text followed by a call to the `pad` method to get a padded encoding.\n"
     ]
    },
    {
     "data": {
      "application/vnd.jupyter.widget-view+json": {
       "model_id": "ee0a753be32b4e46833061ece8d0773c",
       "version_major": 2,
       "version_minor": 0
      },
      "text/plain": [
       "Batches:   0%|          | 0/1 [00:00<?, ?it/s]"
      ]
     },
     "metadata": {},
     "output_type": "display_data"
    },
    {
     "name": "stderr",
     "output_type": "stream",
     "text": [
      "You're using a Qwen2TokenizerFast tokenizer. Please note that with a fast tokenizer, using the `__call__` method is faster than using a method to encode the text followed by a call to the `pad` method to get a padded encoding.\n"
     ]
    },
    {
     "data": {
      "application/vnd.jupyter.widget-view+json": {
       "model_id": "6015334e4bf94a739f0c9c6e478f2576",
       "version_major": 2,
       "version_minor": 0
      },
      "text/plain": [
       "Batches:   0%|          | 0/1 [00:00<?, ?it/s]"
      ]
     },
     "metadata": {},
     "output_type": "display_data"
    },
    {
     "name": "stderr",
     "output_type": "stream",
     "text": [
      "You're using a Qwen2TokenizerFast tokenizer. Please note that with a fast tokenizer, using the `__call__` method is faster than using a method to encode the text followed by a call to the `pad` method to get a padded encoding.\n",
      "Processing rows:  32%|███▏      | 16/50 [01:56<04:05,  7.23s/row]"
     ]
    },
    {
     "data": {
      "application/vnd.jupyter.widget-view+json": {
       "model_id": "ba621330a1614bbfb3c28b3871e93e45",
       "version_major": 2,
       "version_minor": 0
      },
      "text/plain": [
       "Batches:   0%|          | 0/1 [00:00<?, ?it/s]"
      ]
     },
     "metadata": {},
     "output_type": "display_data"
    },
    {
     "name": "stderr",
     "output_type": "stream",
     "text": [
      "You're using a Qwen2TokenizerFast tokenizer. Please note that with a fast tokenizer, using the `__call__` method is faster than using a method to encode the text followed by a call to the `pad` method to get a padded encoding.\n"
     ]
    },
    {
     "data": {
      "application/vnd.jupyter.widget-view+json": {
       "model_id": "0c3d7357ffab4d11947fe69a8a8de13f",
       "version_major": 2,
       "version_minor": 0
      },
      "text/plain": [
       "Batches:   0%|          | 0/1 [00:00<?, ?it/s]"
      ]
     },
     "metadata": {},
     "output_type": "display_data"
    },
    {
     "name": "stderr",
     "output_type": "stream",
     "text": [
      "You're using a Qwen2TokenizerFast tokenizer. Please note that with a fast tokenizer, using the `__call__` method is faster than using a method to encode the text followed by a call to the `pad` method to get a padded encoding.\n"
     ]
    },
    {
     "data": {
      "application/vnd.jupyter.widget-view+json": {
       "model_id": "e6096272d4ab4c5b948a5e880192efd3",
       "version_major": 2,
       "version_minor": 0
      },
      "text/plain": [
       "Batches:   0%|          | 0/1 [00:00<?, ?it/s]"
      ]
     },
     "metadata": {},
     "output_type": "display_data"
    },
    {
     "name": "stderr",
     "output_type": "stream",
     "text": [
      "You're using a Qwen2TokenizerFast tokenizer. Please note that with a fast tokenizer, using the `__call__` method is faster than using a method to encode the text followed by a call to the `pad` method to get a padded encoding.\n"
     ]
    },
    {
     "data": {
      "application/vnd.jupyter.widget-view+json": {
       "model_id": "861e9058ad9449ec880b8ad56ab6e108",
       "version_major": 2,
       "version_minor": 0
      },
      "text/plain": [
       "Batches:   0%|          | 0/1 [00:00<?, ?it/s]"
      ]
     },
     "metadata": {},
     "output_type": "display_data"
    },
    {
     "name": "stderr",
     "output_type": "stream",
     "text": [
      "You're using a Qwen2TokenizerFast tokenizer. Please note that with a fast tokenizer, using the `__call__` method is faster than using a method to encode the text followed by a call to the `pad` method to get a padded encoding.\n",
      "Processing rows:  34%|███▍      | 17/50 [02:04<04:05,  7.44s/row]"
     ]
    },
    {
     "data": {
      "application/vnd.jupyter.widget-view+json": {
       "model_id": "f3c29d9bf6f340aa8f0c35474dcc4f56",
       "version_major": 2,
       "version_minor": 0
      },
      "text/plain": [
       "Batches:   0%|          | 0/1 [00:00<?, ?it/s]"
      ]
     },
     "metadata": {},
     "output_type": "display_data"
    },
    {
     "name": "stderr",
     "output_type": "stream",
     "text": [
      "You're using a Qwen2TokenizerFast tokenizer. Please note that with a fast tokenizer, using the `__call__` method is faster than using a method to encode the text followed by a call to the `pad` method to get a padded encoding.\n"
     ]
    },
    {
     "data": {
      "application/vnd.jupyter.widget-view+json": {
       "model_id": "8459075c585e4a86b6a9b2595d790e78",
       "version_major": 2,
       "version_minor": 0
      },
      "text/plain": [
       "Batches:   0%|          | 0/1 [00:00<?, ?it/s]"
      ]
     },
     "metadata": {},
     "output_type": "display_data"
    },
    {
     "name": "stderr",
     "output_type": "stream",
     "text": [
      "You're using a Qwen2TokenizerFast tokenizer. Please note that with a fast tokenizer, using the `__call__` method is faster than using a method to encode the text followed by a call to the `pad` method to get a padded encoding.\n"
     ]
    },
    {
     "data": {
      "application/vnd.jupyter.widget-view+json": {
       "model_id": "d65ebf7f25b7430ab4762e373a7bad09",
       "version_major": 2,
       "version_minor": 0
      },
      "text/plain": [
       "Batches:   0%|          | 0/1 [00:00<?, ?it/s]"
      ]
     },
     "metadata": {},
     "output_type": "display_data"
    },
    {
     "name": "stderr",
     "output_type": "stream",
     "text": [
      "You're using a Qwen2TokenizerFast tokenizer. Please note that with a fast tokenizer, using the `__call__` method is faster than using a method to encode the text followed by a call to the `pad` method to get a padded encoding.\n"
     ]
    },
    {
     "data": {
      "application/vnd.jupyter.widget-view+json": {
       "model_id": "dbbaab03a00b427daa89afbcefce5aa4",
       "version_major": 2,
       "version_minor": 0
      },
      "text/plain": [
       "Batches:   0%|          | 0/1 [00:00<?, ?it/s]"
      ]
     },
     "metadata": {},
     "output_type": "display_data"
    },
    {
     "name": "stderr",
     "output_type": "stream",
     "text": [
      "You're using a Qwen2TokenizerFast tokenizer. Please note that with a fast tokenizer, using the `__call__` method is faster than using a method to encode the text followed by a call to the `pad` method to get a padded encoding.\n",
      "Processing rows:  36%|███▌      | 18/50 [02:12<04:02,  7.57s/row]"
     ]
    },
    {
     "data": {
      "application/vnd.jupyter.widget-view+json": {
       "model_id": "3e7cf7382fc04806a4789270fd59c66d",
       "version_major": 2,
       "version_minor": 0
      },
      "text/plain": [
       "Batches:   0%|          | 0/1 [00:00<?, ?it/s]"
      ]
     },
     "metadata": {},
     "output_type": "display_data"
    },
    {
     "name": "stderr",
     "output_type": "stream",
     "text": [
      "You're using a Qwen2TokenizerFast tokenizer. Please note that with a fast tokenizer, using the `__call__` method is faster than using a method to encode the text followed by a call to the `pad` method to get a padded encoding.\n"
     ]
    },
    {
     "data": {
      "application/vnd.jupyter.widget-view+json": {
       "model_id": "bcbb9b5a34e54de98451a16b9beaf77b",
       "version_major": 2,
       "version_minor": 0
      },
      "text/plain": [
       "Batches:   0%|          | 0/1 [00:00<?, ?it/s]"
      ]
     },
     "metadata": {},
     "output_type": "display_data"
    },
    {
     "name": "stderr",
     "output_type": "stream",
     "text": [
      "You're using a Qwen2TokenizerFast tokenizer. Please note that with a fast tokenizer, using the `__call__` method is faster than using a method to encode the text followed by a call to the `pad` method to get a padded encoding.\n"
     ]
    },
    {
     "data": {
      "application/vnd.jupyter.widget-view+json": {
       "model_id": "923ac47966d54e30825594b3e742cfa2",
       "version_major": 2,
       "version_minor": 0
      },
      "text/plain": [
       "Batches:   0%|          | 0/1 [00:00<?, ?it/s]"
      ]
     },
     "metadata": {},
     "output_type": "display_data"
    },
    {
     "name": "stderr",
     "output_type": "stream",
     "text": [
      "You're using a Qwen2TokenizerFast tokenizer. Please note that with a fast tokenizer, using the `__call__` method is faster than using a method to encode the text followed by a call to the `pad` method to get a padded encoding.\n"
     ]
    },
    {
     "data": {
      "application/vnd.jupyter.widget-view+json": {
       "model_id": "ac946ab2f74748d8b713d5aac88ef32b",
       "version_major": 2,
       "version_minor": 0
      },
      "text/plain": [
       "Batches:   0%|          | 0/1 [00:00<?, ?it/s]"
      ]
     },
     "metadata": {},
     "output_type": "display_data"
    },
    {
     "name": "stderr",
     "output_type": "stream",
     "text": [
      "You're using a Qwen2TokenizerFast tokenizer. Please note that with a fast tokenizer, using the `__call__` method is faster than using a method to encode the text followed by a call to the `pad` method to get a padded encoding.\n",
      "Processing rows:  38%|███▊      | 19/50 [02:19<03:52,  7.51s/row]"
     ]
    },
    {
     "data": {
      "application/vnd.jupyter.widget-view+json": {
       "model_id": "1473d6b25db34d569e73731a33bbd374",
       "version_major": 2,
       "version_minor": 0
      },
      "text/plain": [
       "Batches:   0%|          | 0/1 [00:00<?, ?it/s]"
      ]
     },
     "metadata": {},
     "output_type": "display_data"
    },
    {
     "name": "stderr",
     "output_type": "stream",
     "text": [
      "You're using a Qwen2TokenizerFast tokenizer. Please note that with a fast tokenizer, using the `__call__` method is faster than using a method to encode the text followed by a call to the `pad` method to get a padded encoding.\n"
     ]
    },
    {
     "data": {
      "application/vnd.jupyter.widget-view+json": {
       "model_id": "c836336eb90441659be6c6ca6ede9a34",
       "version_major": 2,
       "version_minor": 0
      },
      "text/plain": [
       "Batches:   0%|          | 0/1 [00:00<?, ?it/s]"
      ]
     },
     "metadata": {},
     "output_type": "display_data"
    },
    {
     "name": "stderr",
     "output_type": "stream",
     "text": [
      "You're using a Qwen2TokenizerFast tokenizer. Please note that with a fast tokenizer, using the `__call__` method is faster than using a method to encode the text followed by a call to the `pad` method to get a padded encoding.\n"
     ]
    },
    {
     "data": {
      "application/vnd.jupyter.widget-view+json": {
       "model_id": "9c5a6cb3be34488785a4e1ab9dc03c6a",
       "version_major": 2,
       "version_minor": 0
      },
      "text/plain": [
       "Batches:   0%|          | 0/1 [00:00<?, ?it/s]"
      ]
     },
     "metadata": {},
     "output_type": "display_data"
    },
    {
     "name": "stderr",
     "output_type": "stream",
     "text": [
      "You're using a Qwen2TokenizerFast tokenizer. Please note that with a fast tokenizer, using the `__call__` method is faster than using a method to encode the text followed by a call to the `pad` method to get a padded encoding.\n"
     ]
    },
    {
     "data": {
      "application/vnd.jupyter.widget-view+json": {
       "model_id": "45c7502177734cf4863928d457451236",
       "version_major": 2,
       "version_minor": 0
      },
      "text/plain": [
       "Batches:   0%|          | 0/1 [00:00<?, ?it/s]"
      ]
     },
     "metadata": {},
     "output_type": "display_data"
    },
    {
     "name": "stderr",
     "output_type": "stream",
     "text": [
      "You're using a Qwen2TokenizerFast tokenizer. Please note that with a fast tokenizer, using the `__call__` method is faster than using a method to encode the text followed by a call to the `pad` method to get a padded encoding.\n",
      "Processing rows:  40%|████      | 20/50 [02:26<03:42,  7.40s/row]"
     ]
    },
    {
     "data": {
      "application/vnd.jupyter.widget-view+json": {
       "model_id": "f7ae8d7f49f14855a6643bdae9a6a435",
       "version_major": 2,
       "version_minor": 0
      },
      "text/plain": [
       "Batches:   0%|          | 0/1 [00:00<?, ?it/s]"
      ]
     },
     "metadata": {},
     "output_type": "display_data"
    },
    {
     "name": "stderr",
     "output_type": "stream",
     "text": [
      "You're using a Qwen2TokenizerFast tokenizer. Please note that with a fast tokenizer, using the `__call__` method is faster than using a method to encode the text followed by a call to the `pad` method to get a padded encoding.\n"
     ]
    },
    {
     "data": {
      "application/vnd.jupyter.widget-view+json": {
       "model_id": "1db9287dd97340138ca66bc9cc62902a",
       "version_major": 2,
       "version_minor": 0
      },
      "text/plain": [
       "Batches:   0%|          | 0/1 [00:00<?, ?it/s]"
      ]
     },
     "metadata": {},
     "output_type": "display_data"
    },
    {
     "name": "stderr",
     "output_type": "stream",
     "text": [
      "You're using a Qwen2TokenizerFast tokenizer. Please note that with a fast tokenizer, using the `__call__` method is faster than using a method to encode the text followed by a call to the `pad` method to get a padded encoding.\n"
     ]
    },
    {
     "data": {
      "application/vnd.jupyter.widget-view+json": {
       "model_id": "358e8bb6f1334969b0993146e84c9158",
       "version_major": 2,
       "version_minor": 0
      },
      "text/plain": [
       "Batches:   0%|          | 0/1 [00:00<?, ?it/s]"
      ]
     },
     "metadata": {},
     "output_type": "display_data"
    },
    {
     "name": "stderr",
     "output_type": "stream",
     "text": [
      "You're using a Qwen2TokenizerFast tokenizer. Please note that with a fast tokenizer, using the `__call__` method is faster than using a method to encode the text followed by a call to the `pad` method to get a padded encoding.\n"
     ]
    },
    {
     "data": {
      "application/vnd.jupyter.widget-view+json": {
       "model_id": "6fa020181def45a393dc2846dc9facb6",
       "version_major": 2,
       "version_minor": 0
      },
      "text/plain": [
       "Batches:   0%|          | 0/1 [00:00<?, ?it/s]"
      ]
     },
     "metadata": {},
     "output_type": "display_data"
    },
    {
     "name": "stderr",
     "output_type": "stream",
     "text": [
      "You're using a Qwen2TokenizerFast tokenizer. Please note that with a fast tokenizer, using the `__call__` method is faster than using a method to encode the text followed by a call to the `pad` method to get a padded encoding.\n",
      "Processing rows:  42%|████▏     | 21/50 [02:34<03:34,  7.41s/row]"
     ]
    },
    {
     "data": {
      "application/vnd.jupyter.widget-view+json": {
       "model_id": "48cfb30503464095bc987a2f076067e4",
       "version_major": 2,
       "version_minor": 0
      },
      "text/plain": [
       "Batches:   0%|          | 0/1 [00:00<?, ?it/s]"
      ]
     },
     "metadata": {},
     "output_type": "display_data"
    },
    {
     "name": "stderr",
     "output_type": "stream",
     "text": [
      "You're using a Qwen2TokenizerFast tokenizer. Please note that with a fast tokenizer, using the `__call__` method is faster than using a method to encode the text followed by a call to the `pad` method to get a padded encoding.\n"
     ]
    },
    {
     "data": {
      "application/vnd.jupyter.widget-view+json": {
       "model_id": "a2ca14ac25404e18801a2a96144e6da0",
       "version_major": 2,
       "version_minor": 0
      },
      "text/plain": [
       "Batches:   0%|          | 0/1 [00:00<?, ?it/s]"
      ]
     },
     "metadata": {},
     "output_type": "display_data"
    },
    {
     "name": "stderr",
     "output_type": "stream",
     "text": [
      "You're using a Qwen2TokenizerFast tokenizer. Please note that with a fast tokenizer, using the `__call__` method is faster than using a method to encode the text followed by a call to the `pad` method to get a padded encoding.\n"
     ]
    },
    {
     "data": {
      "application/vnd.jupyter.widget-view+json": {
       "model_id": "5d527e57b36940399dde9fd3cb54b954",
       "version_major": 2,
       "version_minor": 0
      },
      "text/plain": [
       "Batches:   0%|          | 0/1 [00:00<?, ?it/s]"
      ]
     },
     "metadata": {},
     "output_type": "display_data"
    },
    {
     "name": "stderr",
     "output_type": "stream",
     "text": [
      "You're using a Qwen2TokenizerFast tokenizer. Please note that with a fast tokenizer, using the `__call__` method is faster than using a method to encode the text followed by a call to the `pad` method to get a padded encoding.\n"
     ]
    },
    {
     "data": {
      "application/vnd.jupyter.widget-view+json": {
       "model_id": "865a107148fb41aabad270e8adc7a3b9",
       "version_major": 2,
       "version_minor": 0
      },
      "text/plain": [
       "Batches:   0%|          | 0/1 [00:00<?, ?it/s]"
      ]
     },
     "metadata": {},
     "output_type": "display_data"
    },
    {
     "name": "stderr",
     "output_type": "stream",
     "text": [
      "You're using a Qwen2TokenizerFast tokenizer. Please note that with a fast tokenizer, using the `__call__` method is faster than using a method to encode the text followed by a call to the `pad` method to get a padded encoding.\n",
      "Processing rows:  44%|████▍     | 22/50 [02:41<03:26,  7.38s/row]"
     ]
    },
    {
     "data": {
      "application/vnd.jupyter.widget-view+json": {
       "model_id": "58a3ff525d4f443e8741aa70a4ee75fc",
       "version_major": 2,
       "version_minor": 0
      },
      "text/plain": [
       "Batches:   0%|          | 0/1 [00:00<?, ?it/s]"
      ]
     },
     "metadata": {},
     "output_type": "display_data"
    },
    {
     "name": "stderr",
     "output_type": "stream",
     "text": [
      "You're using a Qwen2TokenizerFast tokenizer. Please note that with a fast tokenizer, using the `__call__` method is faster than using a method to encode the text followed by a call to the `pad` method to get a padded encoding.\n"
     ]
    },
    {
     "data": {
      "application/vnd.jupyter.widget-view+json": {
       "model_id": "52ec3a620b864e3cb7265a94b6a9054d",
       "version_major": 2,
       "version_minor": 0
      },
      "text/plain": [
       "Batches:   0%|          | 0/1 [00:00<?, ?it/s]"
      ]
     },
     "metadata": {},
     "output_type": "display_data"
    },
    {
     "name": "stderr",
     "output_type": "stream",
     "text": [
      "You're using a Qwen2TokenizerFast tokenizer. Please note that with a fast tokenizer, using the `__call__` method is faster than using a method to encode the text followed by a call to the `pad` method to get a padded encoding.\n"
     ]
    },
    {
     "data": {
      "application/vnd.jupyter.widget-view+json": {
       "model_id": "7f15c9921a81482cbb13da0fa06d2824",
       "version_major": 2,
       "version_minor": 0
      },
      "text/plain": [
       "Batches:   0%|          | 0/1 [00:00<?, ?it/s]"
      ]
     },
     "metadata": {},
     "output_type": "display_data"
    },
    {
     "name": "stderr",
     "output_type": "stream",
     "text": [
      "You're using a Qwen2TokenizerFast tokenizer. Please note that with a fast tokenizer, using the `__call__` method is faster than using a method to encode the text followed by a call to the `pad` method to get a padded encoding.\n"
     ]
    },
    {
     "data": {
      "application/vnd.jupyter.widget-view+json": {
       "model_id": "4d3f96884aa04dc0bc06fd9754f27edb",
       "version_major": 2,
       "version_minor": 0
      },
      "text/plain": [
       "Batches:   0%|          | 0/1 [00:00<?, ?it/s]"
      ]
     },
     "metadata": {},
     "output_type": "display_data"
    },
    {
     "name": "stderr",
     "output_type": "stream",
     "text": [
      "You're using a Qwen2TokenizerFast tokenizer. Please note that with a fast tokenizer, using the `__call__` method is faster than using a method to encode the text followed by a call to the `pad` method to get a padded encoding.\n",
      "Processing rows:  46%|████▌     | 23/50 [02:48<03:17,  7.31s/row]"
     ]
    },
    {
     "data": {
      "application/vnd.jupyter.widget-view+json": {
       "model_id": "45dae47f52794ff6bd4a4b2649f92c9a",
       "version_major": 2,
       "version_minor": 0
      },
      "text/plain": [
       "Batches:   0%|          | 0/1 [00:00<?, ?it/s]"
      ]
     },
     "metadata": {},
     "output_type": "display_data"
    },
    {
     "name": "stderr",
     "output_type": "stream",
     "text": [
      "You're using a Qwen2TokenizerFast tokenizer. Please note that with a fast tokenizer, using the `__call__` method is faster than using a method to encode the text followed by a call to the `pad` method to get a padded encoding.\n"
     ]
    },
    {
     "data": {
      "application/vnd.jupyter.widget-view+json": {
       "model_id": "4ddedfb9f50b469c9005696b579e4ede",
       "version_major": 2,
       "version_minor": 0
      },
      "text/plain": [
       "Batches:   0%|          | 0/1 [00:00<?, ?it/s]"
      ]
     },
     "metadata": {},
     "output_type": "display_data"
    },
    {
     "name": "stderr",
     "output_type": "stream",
     "text": [
      "You're using a Qwen2TokenizerFast tokenizer. Please note that with a fast tokenizer, using the `__call__` method is faster than using a method to encode the text followed by a call to the `pad` method to get a padded encoding.\n"
     ]
    },
    {
     "data": {
      "application/vnd.jupyter.widget-view+json": {
       "model_id": "422f0bc825214bd99180bbc65883f0ca",
       "version_major": 2,
       "version_minor": 0
      },
      "text/plain": [
       "Batches:   0%|          | 0/1 [00:00<?, ?it/s]"
      ]
     },
     "metadata": {},
     "output_type": "display_data"
    },
    {
     "name": "stderr",
     "output_type": "stream",
     "text": [
      "You're using a Qwen2TokenizerFast tokenizer. Please note that with a fast tokenizer, using the `__call__` method is faster than using a method to encode the text followed by a call to the `pad` method to get a padded encoding.\n"
     ]
    },
    {
     "data": {
      "application/vnd.jupyter.widget-view+json": {
       "model_id": "8e4283eceb13446983a8b018b3b37763",
       "version_major": 2,
       "version_minor": 0
      },
      "text/plain": [
       "Batches:   0%|          | 0/1 [00:00<?, ?it/s]"
      ]
     },
     "metadata": {},
     "output_type": "display_data"
    },
    {
     "name": "stderr",
     "output_type": "stream",
     "text": [
      "You're using a Qwen2TokenizerFast tokenizer. Please note that with a fast tokenizer, using the `__call__` method is faster than using a method to encode the text followed by a call to the `pad` method to get a padded encoding.\n",
      "Processing rows:  48%|████▊     | 24/50 [02:55<03:07,  7.22s/row]"
     ]
    },
    {
     "data": {
      "application/vnd.jupyter.widget-view+json": {
       "model_id": "61118aaabf7843d4aa8b1bfd7fa46ca3",
       "version_major": 2,
       "version_minor": 0
      },
      "text/plain": [
       "Batches:   0%|          | 0/1 [00:00<?, ?it/s]"
      ]
     },
     "metadata": {},
     "output_type": "display_data"
    },
    {
     "name": "stderr",
     "output_type": "stream",
     "text": [
      "You're using a Qwen2TokenizerFast tokenizer. Please note that with a fast tokenizer, using the `__call__` method is faster than using a method to encode the text followed by a call to the `pad` method to get a padded encoding.\n"
     ]
    },
    {
     "data": {
      "application/vnd.jupyter.widget-view+json": {
       "model_id": "348f0ae0f3754d75b39ff5df3faaf0f5",
       "version_major": 2,
       "version_minor": 0
      },
      "text/plain": [
       "Batches:   0%|          | 0/1 [00:00<?, ?it/s]"
      ]
     },
     "metadata": {},
     "output_type": "display_data"
    },
    {
     "name": "stderr",
     "output_type": "stream",
     "text": [
      "You're using a Qwen2TokenizerFast tokenizer. Please note that with a fast tokenizer, using the `__call__` method is faster than using a method to encode the text followed by a call to the `pad` method to get a padded encoding.\n"
     ]
    },
    {
     "data": {
      "application/vnd.jupyter.widget-view+json": {
       "model_id": "8522e28e981145ef86e29bef9a777793",
       "version_major": 2,
       "version_minor": 0
      },
      "text/plain": [
       "Batches:   0%|          | 0/1 [00:00<?, ?it/s]"
      ]
     },
     "metadata": {},
     "output_type": "display_data"
    },
    {
     "name": "stderr",
     "output_type": "stream",
     "text": [
      "You're using a Qwen2TokenizerFast tokenizer. Please note that with a fast tokenizer, using the `__call__` method is faster than using a method to encode the text followed by a call to the `pad` method to get a padded encoding.\n"
     ]
    },
    {
     "data": {
      "application/vnd.jupyter.widget-view+json": {
       "model_id": "33d2be59df894cd5b923e13786a925ab",
       "version_major": 2,
       "version_minor": 0
      },
      "text/plain": [
       "Batches:   0%|          | 0/1 [00:00<?, ?it/s]"
      ]
     },
     "metadata": {},
     "output_type": "display_data"
    },
    {
     "name": "stderr",
     "output_type": "stream",
     "text": [
      "You're using a Qwen2TokenizerFast tokenizer. Please note that with a fast tokenizer, using the `__call__` method is faster than using a method to encode the text followed by a call to the `pad` method to get a padded encoding.\n",
      "Processing rows:  50%|█████     | 25/50 [03:03<03:07,  7.48s/row]"
     ]
    },
    {
     "data": {
      "application/vnd.jupyter.widget-view+json": {
       "model_id": "65614e12e93c46c9b609477bbcfedf40",
       "version_major": 2,
       "version_minor": 0
      },
      "text/plain": [
       "Batches:   0%|          | 0/1 [00:00<?, ?it/s]"
      ]
     },
     "metadata": {},
     "output_type": "display_data"
    },
    {
     "name": "stderr",
     "output_type": "stream",
     "text": [
      "You're using a Qwen2TokenizerFast tokenizer. Please note that with a fast tokenizer, using the `__call__` method is faster than using a method to encode the text followed by a call to the `pad` method to get a padded encoding.\n"
     ]
    },
    {
     "data": {
      "application/vnd.jupyter.widget-view+json": {
       "model_id": "e9fa970b679a45c697ee34fb6890eb8e",
       "version_major": 2,
       "version_minor": 0
      },
      "text/plain": [
       "Batches:   0%|          | 0/1 [00:00<?, ?it/s]"
      ]
     },
     "metadata": {},
     "output_type": "display_data"
    },
    {
     "name": "stderr",
     "output_type": "stream",
     "text": [
      "You're using a Qwen2TokenizerFast tokenizer. Please note that with a fast tokenizer, using the `__call__` method is faster than using a method to encode the text followed by a call to the `pad` method to get a padded encoding.\n"
     ]
    },
    {
     "data": {
      "application/vnd.jupyter.widget-view+json": {
       "model_id": "39d7f07df61342d9a708d8f70b4688cb",
       "version_major": 2,
       "version_minor": 0
      },
      "text/plain": [
       "Batches:   0%|          | 0/1 [00:00<?, ?it/s]"
      ]
     },
     "metadata": {},
     "output_type": "display_data"
    },
    {
     "name": "stderr",
     "output_type": "stream",
     "text": [
      "You're using a Qwen2TokenizerFast tokenizer. Please note that with a fast tokenizer, using the `__call__` method is faster than using a method to encode the text followed by a call to the `pad` method to get a padded encoding.\n"
     ]
    },
    {
     "data": {
      "application/vnd.jupyter.widget-view+json": {
       "model_id": "86f0f5bd02914b29af91a5127f091d40",
       "version_major": 2,
       "version_minor": 0
      },
      "text/plain": [
       "Batches:   0%|          | 0/1 [00:00<?, ?it/s]"
      ]
     },
     "metadata": {},
     "output_type": "display_data"
    },
    {
     "name": "stderr",
     "output_type": "stream",
     "text": [
      "You're using a Qwen2TokenizerFast tokenizer. Please note that with a fast tokenizer, using the `__call__` method is faster than using a method to encode the text followed by a call to the `pad` method to get a padded encoding.\n",
      "Processing rows:  52%|█████▏    | 26/50 [03:11<02:58,  7.43s/row]"
     ]
    },
    {
     "data": {
      "application/vnd.jupyter.widget-view+json": {
       "model_id": "b7d4ca531ed544c2bd4dbd7ae00308cc",
       "version_major": 2,
       "version_minor": 0
      },
      "text/plain": [
       "Batches:   0%|          | 0/1 [00:00<?, ?it/s]"
      ]
     },
     "metadata": {},
     "output_type": "display_data"
    },
    {
     "name": "stderr",
     "output_type": "stream",
     "text": [
      "You're using a Qwen2TokenizerFast tokenizer. Please note that with a fast tokenizer, using the `__call__` method is faster than using a method to encode the text followed by a call to the `pad` method to get a padded encoding.\n"
     ]
    },
    {
     "data": {
      "application/vnd.jupyter.widget-view+json": {
       "model_id": "ac38b3e6e21148f9978c153d68b09e94",
       "version_major": 2,
       "version_minor": 0
      },
      "text/plain": [
       "Batches:   0%|          | 0/1 [00:00<?, ?it/s]"
      ]
     },
     "metadata": {},
     "output_type": "display_data"
    },
    {
     "name": "stderr",
     "output_type": "stream",
     "text": [
      "You're using a Qwen2TokenizerFast tokenizer. Please note that with a fast tokenizer, using the `__call__` method is faster than using a method to encode the text followed by a call to the `pad` method to get a padded encoding.\n"
     ]
    },
    {
     "data": {
      "application/vnd.jupyter.widget-view+json": {
       "model_id": "01e90fc2f2aa4ecbb332540cecbd4a36",
       "version_major": 2,
       "version_minor": 0
      },
      "text/plain": [
       "Batches:   0%|          | 0/1 [00:00<?, ?it/s]"
      ]
     },
     "metadata": {},
     "output_type": "display_data"
    },
    {
     "name": "stderr",
     "output_type": "stream",
     "text": [
      "You're using a Qwen2TokenizerFast tokenizer. Please note that with a fast tokenizer, using the `__call__` method is faster than using a method to encode the text followed by a call to the `pad` method to get a padded encoding.\n"
     ]
    },
    {
     "data": {
      "application/vnd.jupyter.widget-view+json": {
       "model_id": "b295faacb61948f4a449ae1774b59341",
       "version_major": 2,
       "version_minor": 0
      },
      "text/plain": [
       "Batches:   0%|          | 0/1 [00:00<?, ?it/s]"
      ]
     },
     "metadata": {},
     "output_type": "display_data"
    },
    {
     "name": "stderr",
     "output_type": "stream",
     "text": [
      "You're using a Qwen2TokenizerFast tokenizer. Please note that with a fast tokenizer, using the `__call__` method is faster than using a method to encode the text followed by a call to the `pad` method to get a padded encoding.\n",
      "Processing rows:  54%|█████▍    | 27/50 [03:18<02:50,  7.42s/row]"
     ]
    },
    {
     "data": {
      "application/vnd.jupyter.widget-view+json": {
       "model_id": "6204dd9461254b0588647af2384280a5",
       "version_major": 2,
       "version_minor": 0
      },
      "text/plain": [
       "Batches:   0%|          | 0/1 [00:00<?, ?it/s]"
      ]
     },
     "metadata": {},
     "output_type": "display_data"
    },
    {
     "name": "stderr",
     "output_type": "stream",
     "text": [
      "You're using a Qwen2TokenizerFast tokenizer. Please note that with a fast tokenizer, using the `__call__` method is faster than using a method to encode the text followed by a call to the `pad` method to get a padded encoding.\n"
     ]
    },
    {
     "data": {
      "application/vnd.jupyter.widget-view+json": {
       "model_id": "f6db4d9ae1ce41909f2dbed7fa1e3881",
       "version_major": 2,
       "version_minor": 0
      },
      "text/plain": [
       "Batches:   0%|          | 0/1 [00:00<?, ?it/s]"
      ]
     },
     "metadata": {},
     "output_type": "display_data"
    },
    {
     "name": "stderr",
     "output_type": "stream",
     "text": [
      "You're using a Qwen2TokenizerFast tokenizer. Please note that with a fast tokenizer, using the `__call__` method is faster than using a method to encode the text followed by a call to the `pad` method to get a padded encoding.\n"
     ]
    },
    {
     "data": {
      "application/vnd.jupyter.widget-view+json": {
       "model_id": "6727a1eb9d3d4eae9562bfbca6f8715b",
       "version_major": 2,
       "version_minor": 0
      },
      "text/plain": [
       "Batches:   0%|          | 0/1 [00:00<?, ?it/s]"
      ]
     },
     "metadata": {},
     "output_type": "display_data"
    },
    {
     "name": "stderr",
     "output_type": "stream",
     "text": [
      "You're using a Qwen2TokenizerFast tokenizer. Please note that with a fast tokenizer, using the `__call__` method is faster than using a method to encode the text followed by a call to the `pad` method to get a padded encoding.\n"
     ]
    },
    {
     "data": {
      "application/vnd.jupyter.widget-view+json": {
       "model_id": "cf258992b0434319b7fb37a258098b7e",
       "version_major": 2,
       "version_minor": 0
      },
      "text/plain": [
       "Batches:   0%|          | 0/1 [00:00<?, ?it/s]"
      ]
     },
     "metadata": {},
     "output_type": "display_data"
    },
    {
     "name": "stderr",
     "output_type": "stream",
     "text": [
      "You're using a Qwen2TokenizerFast tokenizer. Please note that with a fast tokenizer, using the `__call__` method is faster than using a method to encode the text followed by a call to the `pad` method to get a padded encoding.\n",
      "Processing rows:  56%|█████▌    | 28/50 [03:26<02:43,  7.42s/row]"
     ]
    },
    {
     "data": {
      "application/vnd.jupyter.widget-view+json": {
       "model_id": "b19226b01e4847649af90fcb41e78088",
       "version_major": 2,
       "version_minor": 0
      },
      "text/plain": [
       "Batches:   0%|          | 0/1 [00:00<?, ?it/s]"
      ]
     },
     "metadata": {},
     "output_type": "display_data"
    },
    {
     "name": "stderr",
     "output_type": "stream",
     "text": [
      "You're using a Qwen2TokenizerFast tokenizer. Please note that with a fast tokenizer, using the `__call__` method is faster than using a method to encode the text followed by a call to the `pad` method to get a padded encoding.\n"
     ]
    },
    {
     "data": {
      "application/vnd.jupyter.widget-view+json": {
       "model_id": "15af1dcf315d4592a8965c1d6a43ec64",
       "version_major": 2,
       "version_minor": 0
      },
      "text/plain": [
       "Batches:   0%|          | 0/1 [00:00<?, ?it/s]"
      ]
     },
     "metadata": {},
     "output_type": "display_data"
    },
    {
     "name": "stderr",
     "output_type": "stream",
     "text": [
      "You're using a Qwen2TokenizerFast tokenizer. Please note that with a fast tokenizer, using the `__call__` method is faster than using a method to encode the text followed by a call to the `pad` method to get a padded encoding.\n"
     ]
    },
    {
     "data": {
      "application/vnd.jupyter.widget-view+json": {
       "model_id": "fa76ae83f7ae4d7bbf7c5594ad26fa41",
       "version_major": 2,
       "version_minor": 0
      },
      "text/plain": [
       "Batches:   0%|          | 0/1 [00:00<?, ?it/s]"
      ]
     },
     "metadata": {},
     "output_type": "display_data"
    },
    {
     "name": "stderr",
     "output_type": "stream",
     "text": [
      "You're using a Qwen2TokenizerFast tokenizer. Please note that with a fast tokenizer, using the `__call__` method is faster than using a method to encode the text followed by a call to the `pad` method to get a padded encoding.\n"
     ]
    },
    {
     "data": {
      "application/vnd.jupyter.widget-view+json": {
       "model_id": "44d4fa318b1b4ac8b86ded81edbab0e2",
       "version_major": 2,
       "version_minor": 0
      },
      "text/plain": [
       "Batches:   0%|          | 0/1 [00:00<?, ?it/s]"
      ]
     },
     "metadata": {},
     "output_type": "display_data"
    },
    {
     "name": "stderr",
     "output_type": "stream",
     "text": [
      "You're using a Qwen2TokenizerFast tokenizer. Please note that with a fast tokenizer, using the `__call__` method is faster than using a method to encode the text followed by a call to the `pad` method to get a padded encoding.\n",
      "Processing rows:  58%|█████▊    | 29/50 [03:33<02:36,  7.45s/row]"
     ]
    },
    {
     "data": {
      "application/vnd.jupyter.widget-view+json": {
       "model_id": "1dda0de79abe4585b70c52289326524d",
       "version_major": 2,
       "version_minor": 0
      },
      "text/plain": [
       "Batches:   0%|          | 0/1 [00:00<?, ?it/s]"
      ]
     },
     "metadata": {},
     "output_type": "display_data"
    },
    {
     "name": "stderr",
     "output_type": "stream",
     "text": [
      "You're using a Qwen2TokenizerFast tokenizer. Please note that with a fast tokenizer, using the `__call__` method is faster than using a method to encode the text followed by a call to the `pad` method to get a padded encoding.\n"
     ]
    },
    {
     "data": {
      "application/vnd.jupyter.widget-view+json": {
       "model_id": "bf7b7cb9f2a64e1b89bdf15305396034",
       "version_major": 2,
       "version_minor": 0
      },
      "text/plain": [
       "Batches:   0%|          | 0/1 [00:00<?, ?it/s]"
      ]
     },
     "metadata": {},
     "output_type": "display_data"
    },
    {
     "name": "stderr",
     "output_type": "stream",
     "text": [
      "You're using a Qwen2TokenizerFast tokenizer. Please note that with a fast tokenizer, using the `__call__` method is faster than using a method to encode the text followed by a call to the `pad` method to get a padded encoding.\n"
     ]
    },
    {
     "data": {
      "application/vnd.jupyter.widget-view+json": {
       "model_id": "bc72acb171e348f194d5c8785714cad3",
       "version_major": 2,
       "version_minor": 0
      },
      "text/plain": [
       "Batches:   0%|          | 0/1 [00:00<?, ?it/s]"
      ]
     },
     "metadata": {},
     "output_type": "display_data"
    },
    {
     "name": "stderr",
     "output_type": "stream",
     "text": [
      "You're using a Qwen2TokenizerFast tokenizer. Please note that with a fast tokenizer, using the `__call__` method is faster than using a method to encode the text followed by a call to the `pad` method to get a padded encoding.\n"
     ]
    },
    {
     "data": {
      "application/vnd.jupyter.widget-view+json": {
       "model_id": "01d75e5dccf3470ba8c5e5feb96b0173",
       "version_major": 2,
       "version_minor": 0
      },
      "text/plain": [
       "Batches:   0%|          | 0/1 [00:00<?, ?it/s]"
      ]
     },
     "metadata": {},
     "output_type": "display_data"
    },
    {
     "name": "stderr",
     "output_type": "stream",
     "text": [
      "You're using a Qwen2TokenizerFast tokenizer. Please note that with a fast tokenizer, using the `__call__` method is faster than using a method to encode the text followed by a call to the `pad` method to get a padded encoding.\n",
      "Processing rows:  60%|██████    | 30/50 [03:41<02:30,  7.50s/row]"
     ]
    },
    {
     "data": {
      "application/vnd.jupyter.widget-view+json": {
       "model_id": "8c10199912d24838a892d3f25bc39407",
       "version_major": 2,
       "version_minor": 0
      },
      "text/plain": [
       "Batches:   0%|          | 0/1 [00:00<?, ?it/s]"
      ]
     },
     "metadata": {},
     "output_type": "display_data"
    },
    {
     "name": "stderr",
     "output_type": "stream",
     "text": [
      "You're using a Qwen2TokenizerFast tokenizer. Please note that with a fast tokenizer, using the `__call__` method is faster than using a method to encode the text followed by a call to the `pad` method to get a padded encoding.\n"
     ]
    },
    {
     "data": {
      "application/vnd.jupyter.widget-view+json": {
       "model_id": "6ac32870423f4a0ea3ca3376f4a4543b",
       "version_major": 2,
       "version_minor": 0
      },
      "text/plain": [
       "Batches:   0%|          | 0/1 [00:00<?, ?it/s]"
      ]
     },
     "metadata": {},
     "output_type": "display_data"
    },
    {
     "name": "stderr",
     "output_type": "stream",
     "text": [
      "You're using a Qwen2TokenizerFast tokenizer. Please note that with a fast tokenizer, using the `__call__` method is faster than using a method to encode the text followed by a call to the `pad` method to get a padded encoding.\n"
     ]
    },
    {
     "data": {
      "application/vnd.jupyter.widget-view+json": {
       "model_id": "88b849daaf5c49aea2270099b81fee7b",
       "version_major": 2,
       "version_minor": 0
      },
      "text/plain": [
       "Batches:   0%|          | 0/1 [00:00<?, ?it/s]"
      ]
     },
     "metadata": {},
     "output_type": "display_data"
    },
    {
     "name": "stderr",
     "output_type": "stream",
     "text": [
      "You're using a Qwen2TokenizerFast tokenizer. Please note that with a fast tokenizer, using the `__call__` method is faster than using a method to encode the text followed by a call to the `pad` method to get a padded encoding.\n"
     ]
    },
    {
     "data": {
      "application/vnd.jupyter.widget-view+json": {
       "model_id": "5c571d0f8a544d02a394a201a34297ab",
       "version_major": 2,
       "version_minor": 0
      },
      "text/plain": [
       "Batches:   0%|          | 0/1 [00:00<?, ?it/s]"
      ]
     },
     "metadata": {},
     "output_type": "display_data"
    },
    {
     "name": "stderr",
     "output_type": "stream",
     "text": [
      "You're using a Qwen2TokenizerFast tokenizer. Please note that with a fast tokenizer, using the `__call__` method is faster than using a method to encode the text followed by a call to the `pad` method to get a padded encoding.\n",
      "Processing rows:  62%|██████▏   | 31/50 [03:48<02:23,  7.58s/row]"
     ]
    },
    {
     "data": {
      "application/vnd.jupyter.widget-view+json": {
       "model_id": "085eeae943424bc88e6ab3db9d2fbbd4",
       "version_major": 2,
       "version_minor": 0
      },
      "text/plain": [
       "Batches:   0%|          | 0/1 [00:00<?, ?it/s]"
      ]
     },
     "metadata": {},
     "output_type": "display_data"
    },
    {
     "name": "stderr",
     "output_type": "stream",
     "text": [
      "You're using a Qwen2TokenizerFast tokenizer. Please note that with a fast tokenizer, using the `__call__` method is faster than using a method to encode the text followed by a call to the `pad` method to get a padded encoding.\n"
     ]
    },
    {
     "data": {
      "application/vnd.jupyter.widget-view+json": {
       "model_id": "5280b97a46ae4a4bb19db812f068ddbf",
       "version_major": 2,
       "version_minor": 0
      },
      "text/plain": [
       "Batches:   0%|          | 0/1 [00:00<?, ?it/s]"
      ]
     },
     "metadata": {},
     "output_type": "display_data"
    },
    {
     "name": "stderr",
     "output_type": "stream",
     "text": [
      "You're using a Qwen2TokenizerFast tokenizer. Please note that with a fast tokenizer, using the `__call__` method is faster than using a method to encode the text followed by a call to the `pad` method to get a padded encoding.\n"
     ]
    },
    {
     "data": {
      "application/vnd.jupyter.widget-view+json": {
       "model_id": "21632ce8a84b43729f37c548947bda32",
       "version_major": 2,
       "version_minor": 0
      },
      "text/plain": [
       "Batches:   0%|          | 0/1 [00:00<?, ?it/s]"
      ]
     },
     "metadata": {},
     "output_type": "display_data"
    },
    {
     "name": "stderr",
     "output_type": "stream",
     "text": [
      "You're using a Qwen2TokenizerFast tokenizer. Please note that with a fast tokenizer, using the `__call__` method is faster than using a method to encode the text followed by a call to the `pad` method to get a padded encoding.\n"
     ]
    },
    {
     "data": {
      "application/vnd.jupyter.widget-view+json": {
       "model_id": "49268a64ac214f8b959f6c3a352aee68",
       "version_major": 2,
       "version_minor": 0
      },
      "text/plain": [
       "Batches:   0%|          | 0/1 [00:00<?, ?it/s]"
      ]
     },
     "metadata": {},
     "output_type": "display_data"
    },
    {
     "name": "stderr",
     "output_type": "stream",
     "text": [
      "You're using a Qwen2TokenizerFast tokenizer. Please note that with a fast tokenizer, using the `__call__` method is faster than using a method to encode the text followed by a call to the `pad` method to get a padded encoding.\n",
      "Processing rows:  64%|██████▍   | 32/50 [03:56<02:14,  7.45s/row]"
     ]
    },
    {
     "data": {
      "application/vnd.jupyter.widget-view+json": {
       "model_id": "319e24f04e8f44a9a6bc1e88d90d374f",
       "version_major": 2,
       "version_minor": 0
      },
      "text/plain": [
       "Batches:   0%|          | 0/1 [00:00<?, ?it/s]"
      ]
     },
     "metadata": {},
     "output_type": "display_data"
    },
    {
     "name": "stderr",
     "output_type": "stream",
     "text": [
      "You're using a Qwen2TokenizerFast tokenizer. Please note that with a fast tokenizer, using the `__call__` method is faster than using a method to encode the text followed by a call to the `pad` method to get a padded encoding.\n"
     ]
    },
    {
     "data": {
      "application/vnd.jupyter.widget-view+json": {
       "model_id": "6a1b5631129545c49c3b979b0c88a4d7",
       "version_major": 2,
       "version_minor": 0
      },
      "text/plain": [
       "Batches:   0%|          | 0/1 [00:00<?, ?it/s]"
      ]
     },
     "metadata": {},
     "output_type": "display_data"
    },
    {
     "name": "stderr",
     "output_type": "stream",
     "text": [
      "You're using a Qwen2TokenizerFast tokenizer. Please note that with a fast tokenizer, using the `__call__` method is faster than using a method to encode the text followed by a call to the `pad` method to get a padded encoding.\n"
     ]
    },
    {
     "data": {
      "application/vnd.jupyter.widget-view+json": {
       "model_id": "84abdbef5c6140118be2018fa839ad45",
       "version_major": 2,
       "version_minor": 0
      },
      "text/plain": [
       "Batches:   0%|          | 0/1 [00:00<?, ?it/s]"
      ]
     },
     "metadata": {},
     "output_type": "display_data"
    },
    {
     "name": "stderr",
     "output_type": "stream",
     "text": [
      "You're using a Qwen2TokenizerFast tokenizer. Please note that with a fast tokenizer, using the `__call__` method is faster than using a method to encode the text followed by a call to the `pad` method to get a padded encoding.\n"
     ]
    },
    {
     "data": {
      "application/vnd.jupyter.widget-view+json": {
       "model_id": "3f1194cdf76c46edac4976e5fef008e8",
       "version_major": 2,
       "version_minor": 0
      },
      "text/plain": [
       "Batches:   0%|          | 0/1 [00:00<?, ?it/s]"
      ]
     },
     "metadata": {},
     "output_type": "display_data"
    },
    {
     "name": "stderr",
     "output_type": "stream",
     "text": [
      "You're using a Qwen2TokenizerFast tokenizer. Please note that with a fast tokenizer, using the `__call__` method is faster than using a method to encode the text followed by a call to the `pad` method to get a padded encoding.\n",
      "Processing rows:  66%|██████▌   | 33/50 [04:03<02:08,  7.54s/row]"
     ]
    },
    {
     "data": {
      "application/vnd.jupyter.widget-view+json": {
       "model_id": "84686d1077354264af158ec191b148c7",
       "version_major": 2,
       "version_minor": 0
      },
      "text/plain": [
       "Batches:   0%|          | 0/1 [00:00<?, ?it/s]"
      ]
     },
     "metadata": {},
     "output_type": "display_data"
    },
    {
     "name": "stderr",
     "output_type": "stream",
     "text": [
      "You're using a Qwen2TokenizerFast tokenizer. Please note that with a fast tokenizer, using the `__call__` method is faster than using a method to encode the text followed by a call to the `pad` method to get a padded encoding.\n"
     ]
    },
    {
     "data": {
      "application/vnd.jupyter.widget-view+json": {
       "model_id": "9b37074b257c49b0bc2ff1d6f8a3db27",
       "version_major": 2,
       "version_minor": 0
      },
      "text/plain": [
       "Batches:   0%|          | 0/1 [00:00<?, ?it/s]"
      ]
     },
     "metadata": {},
     "output_type": "display_data"
    },
    {
     "name": "stderr",
     "output_type": "stream",
     "text": [
      "You're using a Qwen2TokenizerFast tokenizer. Please note that with a fast tokenizer, using the `__call__` method is faster than using a method to encode the text followed by a call to the `pad` method to get a padded encoding.\n"
     ]
    },
    {
     "data": {
      "application/vnd.jupyter.widget-view+json": {
       "model_id": "9f1bf58d15114eefae5728c255828095",
       "version_major": 2,
       "version_minor": 0
      },
      "text/plain": [
       "Batches:   0%|          | 0/1 [00:00<?, ?it/s]"
      ]
     },
     "metadata": {},
     "output_type": "display_data"
    },
    {
     "name": "stderr",
     "output_type": "stream",
     "text": [
      "You're using a Qwen2TokenizerFast tokenizer. Please note that with a fast tokenizer, using the `__call__` method is faster than using a method to encode the text followed by a call to the `pad` method to get a padded encoding.\n"
     ]
    },
    {
     "data": {
      "application/vnd.jupyter.widget-view+json": {
       "model_id": "096a8812b1ac4730b0817e3f94bad9c7",
       "version_major": 2,
       "version_minor": 0
      },
      "text/plain": [
       "Batches:   0%|          | 0/1 [00:00<?, ?it/s]"
      ]
     },
     "metadata": {},
     "output_type": "display_data"
    },
    {
     "name": "stderr",
     "output_type": "stream",
     "text": [
      "You're using a Qwen2TokenizerFast tokenizer. Please note that with a fast tokenizer, using the `__call__` method is faster than using a method to encode the text followed by a call to the `pad` method to get a padded encoding.\n",
      "Processing rows:  68%|██████▊   | 34/50 [04:11<02:01,  7.57s/row]"
     ]
    },
    {
     "data": {
      "application/vnd.jupyter.widget-view+json": {
       "model_id": "c8c6f6875bd143a48638a5c449e6d646",
       "version_major": 2,
       "version_minor": 0
      },
      "text/plain": [
       "Batches:   0%|          | 0/1 [00:00<?, ?it/s]"
      ]
     },
     "metadata": {},
     "output_type": "display_data"
    },
    {
     "name": "stderr",
     "output_type": "stream",
     "text": [
      "You're using a Qwen2TokenizerFast tokenizer. Please note that with a fast tokenizer, using the `__call__` method is faster than using a method to encode the text followed by a call to the `pad` method to get a padded encoding.\n"
     ]
    },
    {
     "data": {
      "application/vnd.jupyter.widget-view+json": {
       "model_id": "4292bb6c5d1445ccbc5c7d4f44a2a2f7",
       "version_major": 2,
       "version_minor": 0
      },
      "text/plain": [
       "Batches:   0%|          | 0/1 [00:00<?, ?it/s]"
      ]
     },
     "metadata": {},
     "output_type": "display_data"
    },
    {
     "name": "stderr",
     "output_type": "stream",
     "text": [
      "You're using a Qwen2TokenizerFast tokenizer. Please note that with a fast tokenizer, using the `__call__` method is faster than using a method to encode the text followed by a call to the `pad` method to get a padded encoding.\n"
     ]
    },
    {
     "data": {
      "application/vnd.jupyter.widget-view+json": {
       "model_id": "c89af1abdc44459d849ee364c2b035fe",
       "version_major": 2,
       "version_minor": 0
      },
      "text/plain": [
       "Batches:   0%|          | 0/1 [00:00<?, ?it/s]"
      ]
     },
     "metadata": {},
     "output_type": "display_data"
    },
    {
     "name": "stderr",
     "output_type": "stream",
     "text": [
      "You're using a Qwen2TokenizerFast tokenizer. Please note that with a fast tokenizer, using the `__call__` method is faster than using a method to encode the text followed by a call to the `pad` method to get a padded encoding.\n"
     ]
    },
    {
     "data": {
      "application/vnd.jupyter.widget-view+json": {
       "model_id": "268c4c6fcafd438487ddfc5af4c590de",
       "version_major": 2,
       "version_minor": 0
      },
      "text/plain": [
       "Batches:   0%|          | 0/1 [00:00<?, ?it/s]"
      ]
     },
     "metadata": {},
     "output_type": "display_data"
    },
    {
     "name": "stderr",
     "output_type": "stream",
     "text": [
      "You're using a Qwen2TokenizerFast tokenizer. Please note that with a fast tokenizer, using the `__call__` method is faster than using a method to encode the text followed by a call to the `pad` method to get a padded encoding.\n",
      "Processing rows:  70%|███████   | 35/50 [04:18<01:51,  7.43s/row]"
     ]
    },
    {
     "data": {
      "application/vnd.jupyter.widget-view+json": {
       "model_id": "541b1bd194b34c6f930402421c8de180",
       "version_major": 2,
       "version_minor": 0
      },
      "text/plain": [
       "Batches:   0%|          | 0/1 [00:00<?, ?it/s]"
      ]
     },
     "metadata": {},
     "output_type": "display_data"
    },
    {
     "name": "stderr",
     "output_type": "stream",
     "text": [
      "You're using a Qwen2TokenizerFast tokenizer. Please note that with a fast tokenizer, using the `__call__` method is faster than using a method to encode the text followed by a call to the `pad` method to get a padded encoding.\n"
     ]
    },
    {
     "data": {
      "application/vnd.jupyter.widget-view+json": {
       "model_id": "438d1f718e114d6592d5a3f4aee10bd0",
       "version_major": 2,
       "version_minor": 0
      },
      "text/plain": [
       "Batches:   0%|          | 0/1 [00:00<?, ?it/s]"
      ]
     },
     "metadata": {},
     "output_type": "display_data"
    },
    {
     "name": "stderr",
     "output_type": "stream",
     "text": [
      "You're using a Qwen2TokenizerFast tokenizer. Please note that with a fast tokenizer, using the `__call__` method is faster than using a method to encode the text followed by a call to the `pad` method to get a padded encoding.\n"
     ]
    },
    {
     "data": {
      "application/vnd.jupyter.widget-view+json": {
       "model_id": "75bd76987e0a41fbad74021fe035d152",
       "version_major": 2,
       "version_minor": 0
      },
      "text/plain": [
       "Batches:   0%|          | 0/1 [00:00<?, ?it/s]"
      ]
     },
     "metadata": {},
     "output_type": "display_data"
    },
    {
     "name": "stderr",
     "output_type": "stream",
     "text": [
      "You're using a Qwen2TokenizerFast tokenizer. Please note that with a fast tokenizer, using the `__call__` method is faster than using a method to encode the text followed by a call to the `pad` method to get a padded encoding.\n"
     ]
    },
    {
     "data": {
      "application/vnd.jupyter.widget-view+json": {
       "model_id": "0394f4ac007b417883e1e78c5fd61fc3",
       "version_major": 2,
       "version_minor": 0
      },
      "text/plain": [
       "Batches:   0%|          | 0/1 [00:00<?, ?it/s]"
      ]
     },
     "metadata": {},
     "output_type": "display_data"
    },
    {
     "name": "stderr",
     "output_type": "stream",
     "text": [
      "You're using a Qwen2TokenizerFast tokenizer. Please note that with a fast tokenizer, using the `__call__` method is faster than using a method to encode the text followed by a call to the `pad` method to get a padded encoding.\n",
      "Processing rows:  72%|███████▏  | 36/50 [04:25<01:43,  7.41s/row]"
     ]
    },
    {
     "data": {
      "application/vnd.jupyter.widget-view+json": {
       "model_id": "7cbed943307a44dc9aae0104d256bbf2",
       "version_major": 2,
       "version_minor": 0
      },
      "text/plain": [
       "Batches:   0%|          | 0/1 [00:00<?, ?it/s]"
      ]
     },
     "metadata": {},
     "output_type": "display_data"
    },
    {
     "name": "stderr",
     "output_type": "stream",
     "text": [
      "You're using a Qwen2TokenizerFast tokenizer. Please note that with a fast tokenizer, using the `__call__` method is faster than using a method to encode the text followed by a call to the `pad` method to get a padded encoding.\n"
     ]
    },
    {
     "data": {
      "application/vnd.jupyter.widget-view+json": {
       "model_id": "e3d2498fd46b4901ad2d6af859f9a83c",
       "version_major": 2,
       "version_minor": 0
      },
      "text/plain": [
       "Batches:   0%|          | 0/1 [00:00<?, ?it/s]"
      ]
     },
     "metadata": {},
     "output_type": "display_data"
    },
    {
     "name": "stderr",
     "output_type": "stream",
     "text": [
      "You're using a Qwen2TokenizerFast tokenizer. Please note that with a fast tokenizer, using the `__call__` method is faster than using a method to encode the text followed by a call to the `pad` method to get a padded encoding.\n"
     ]
    },
    {
     "data": {
      "application/vnd.jupyter.widget-view+json": {
       "model_id": "b122c20835cf4a499690a8087b0ce278",
       "version_major": 2,
       "version_minor": 0
      },
      "text/plain": [
       "Batches:   0%|          | 0/1 [00:00<?, ?it/s]"
      ]
     },
     "metadata": {},
     "output_type": "display_data"
    },
    {
     "name": "stderr",
     "output_type": "stream",
     "text": [
      "You're using a Qwen2TokenizerFast tokenizer. Please note that with a fast tokenizer, using the `__call__` method is faster than using a method to encode the text followed by a call to the `pad` method to get a padded encoding.\n"
     ]
    },
    {
     "data": {
      "application/vnd.jupyter.widget-view+json": {
       "model_id": "7a4462681fa24c3391e6133c28c9d631",
       "version_major": 2,
       "version_minor": 0
      },
      "text/plain": [
       "Batches:   0%|          | 0/1 [00:00<?, ?it/s]"
      ]
     },
     "metadata": {},
     "output_type": "display_data"
    },
    {
     "name": "stderr",
     "output_type": "stream",
     "text": [
      "You're using a Qwen2TokenizerFast tokenizer. Please note that with a fast tokenizer, using the `__call__` method is faster than using a method to encode the text followed by a call to the `pad` method to get a padded encoding.\n",
      "Processing rows:  74%|███████▍  | 37/50 [04:33<01:36,  7.41s/row]"
     ]
    },
    {
     "data": {
      "application/vnd.jupyter.widget-view+json": {
       "model_id": "c0248aa2e7b1428d88c4d1885cc1a6fc",
       "version_major": 2,
       "version_minor": 0
      },
      "text/plain": [
       "Batches:   0%|          | 0/1 [00:00<?, ?it/s]"
      ]
     },
     "metadata": {},
     "output_type": "display_data"
    },
    {
     "name": "stderr",
     "output_type": "stream",
     "text": [
      "You're using a Qwen2TokenizerFast tokenizer. Please note that with a fast tokenizer, using the `__call__` method is faster than using a method to encode the text followed by a call to the `pad` method to get a padded encoding.\n"
     ]
    },
    {
     "data": {
      "application/vnd.jupyter.widget-view+json": {
       "model_id": "be4130e5df4e41eeb85614a8d6ecfb80",
       "version_major": 2,
       "version_minor": 0
      },
      "text/plain": [
       "Batches:   0%|          | 0/1 [00:00<?, ?it/s]"
      ]
     },
     "metadata": {},
     "output_type": "display_data"
    },
    {
     "name": "stderr",
     "output_type": "stream",
     "text": [
      "You're using a Qwen2TokenizerFast tokenizer. Please note that with a fast tokenizer, using the `__call__` method is faster than using a method to encode the text followed by a call to the `pad` method to get a padded encoding.\n"
     ]
    },
    {
     "data": {
      "application/vnd.jupyter.widget-view+json": {
       "model_id": "4b81e1e846cf4e1785734126aa7e5c2f",
       "version_major": 2,
       "version_minor": 0
      },
      "text/plain": [
       "Batches:   0%|          | 0/1 [00:00<?, ?it/s]"
      ]
     },
     "metadata": {},
     "output_type": "display_data"
    },
    {
     "name": "stderr",
     "output_type": "stream",
     "text": [
      "You're using a Qwen2TokenizerFast tokenizer. Please note that with a fast tokenizer, using the `__call__` method is faster than using a method to encode the text followed by a call to the `pad` method to get a padded encoding.\n"
     ]
    },
    {
     "data": {
      "application/vnd.jupyter.widget-view+json": {
       "model_id": "becafee1c73a478aa970e0f8f3df7f7a",
       "version_major": 2,
       "version_minor": 0
      },
      "text/plain": [
       "Batches:   0%|          | 0/1 [00:00<?, ?it/s]"
      ]
     },
     "metadata": {},
     "output_type": "display_data"
    },
    {
     "name": "stderr",
     "output_type": "stream",
     "text": [
      "You're using a Qwen2TokenizerFast tokenizer. Please note that with a fast tokenizer, using the `__call__` method is faster than using a method to encode the text followed by a call to the `pad` method to get a padded encoding.\n",
      "Processing rows:  76%|███████▌  | 38/50 [04:40<01:28,  7.36s/row]"
     ]
    },
    {
     "data": {
      "application/vnd.jupyter.widget-view+json": {
       "model_id": "67d84df7dd1b4754a80989cb2547065d",
       "version_major": 2,
       "version_minor": 0
      },
      "text/plain": [
       "Batches:   0%|          | 0/1 [00:00<?, ?it/s]"
      ]
     },
     "metadata": {},
     "output_type": "display_data"
    },
    {
     "name": "stderr",
     "output_type": "stream",
     "text": [
      "You're using a Qwen2TokenizerFast tokenizer. Please note that with a fast tokenizer, using the `__call__` method is faster than using a method to encode the text followed by a call to the `pad` method to get a padded encoding.\n"
     ]
    },
    {
     "data": {
      "application/vnd.jupyter.widget-view+json": {
       "model_id": "a733a1c8a0c94db28cd05b24632ab4bc",
       "version_major": 2,
       "version_minor": 0
      },
      "text/plain": [
       "Batches:   0%|          | 0/1 [00:00<?, ?it/s]"
      ]
     },
     "metadata": {},
     "output_type": "display_data"
    },
    {
     "name": "stderr",
     "output_type": "stream",
     "text": [
      "You're using a Qwen2TokenizerFast tokenizer. Please note that with a fast tokenizer, using the `__call__` method is faster than using a method to encode the text followed by a call to the `pad` method to get a padded encoding.\n"
     ]
    },
    {
     "data": {
      "application/vnd.jupyter.widget-view+json": {
       "model_id": "9b8fa46257f743c596b429fa3860fdc0",
       "version_major": 2,
       "version_minor": 0
      },
      "text/plain": [
       "Batches:   0%|          | 0/1 [00:00<?, ?it/s]"
      ]
     },
     "metadata": {},
     "output_type": "display_data"
    },
    {
     "name": "stderr",
     "output_type": "stream",
     "text": [
      "You're using a Qwen2TokenizerFast tokenizer. Please note that with a fast tokenizer, using the `__call__` method is faster than using a method to encode the text followed by a call to the `pad` method to get a padded encoding.\n"
     ]
    },
    {
     "data": {
      "application/vnd.jupyter.widget-view+json": {
       "model_id": "ff75665b41a24f8ab151d8e07e9c1f32",
       "version_major": 2,
       "version_minor": 0
      },
      "text/plain": [
       "Batches:   0%|          | 0/1 [00:00<?, ?it/s]"
      ]
     },
     "metadata": {},
     "output_type": "display_data"
    },
    {
     "name": "stderr",
     "output_type": "stream",
     "text": [
      "You're using a Qwen2TokenizerFast tokenizer. Please note that with a fast tokenizer, using the `__call__` method is faster than using a method to encode the text followed by a call to the `pad` method to get a padded encoding.\n",
      "Processing rows:  78%|███████▊  | 39/50 [04:48<01:21,  7.38s/row]"
     ]
    },
    {
     "data": {
      "application/vnd.jupyter.widget-view+json": {
       "model_id": "5119863fe6e948eb8dea2afbe2d4550c",
       "version_major": 2,
       "version_minor": 0
      },
      "text/plain": [
       "Batches:   0%|          | 0/1 [00:00<?, ?it/s]"
      ]
     },
     "metadata": {},
     "output_type": "display_data"
    },
    {
     "name": "stderr",
     "output_type": "stream",
     "text": [
      "You're using a Qwen2TokenizerFast tokenizer. Please note that with a fast tokenizer, using the `__call__` method is faster than using a method to encode the text followed by a call to the `pad` method to get a padded encoding.\n"
     ]
    },
    {
     "data": {
      "application/vnd.jupyter.widget-view+json": {
       "model_id": "c17ffa4f5c194908b833562c3bcc9cd9",
       "version_major": 2,
       "version_minor": 0
      },
      "text/plain": [
       "Batches:   0%|          | 0/1 [00:00<?, ?it/s]"
      ]
     },
     "metadata": {},
     "output_type": "display_data"
    },
    {
     "name": "stderr",
     "output_type": "stream",
     "text": [
      "You're using a Qwen2TokenizerFast tokenizer. Please note that with a fast tokenizer, using the `__call__` method is faster than using a method to encode the text followed by a call to the `pad` method to get a padded encoding.\n"
     ]
    },
    {
     "data": {
      "application/vnd.jupyter.widget-view+json": {
       "model_id": "52e30017e57c4065b0f2987a13eb2b06",
       "version_major": 2,
       "version_minor": 0
      },
      "text/plain": [
       "Batches:   0%|          | 0/1 [00:00<?, ?it/s]"
      ]
     },
     "metadata": {},
     "output_type": "display_data"
    },
    {
     "name": "stderr",
     "output_type": "stream",
     "text": [
      "You're using a Qwen2TokenizerFast tokenizer. Please note that with a fast tokenizer, using the `__call__` method is faster than using a method to encode the text followed by a call to the `pad` method to get a padded encoding.\n"
     ]
    },
    {
     "data": {
      "application/vnd.jupyter.widget-view+json": {
       "model_id": "ee46c43849b241b4acdfb5404b2a0013",
       "version_major": 2,
       "version_minor": 0
      },
      "text/plain": [
       "Batches:   0%|          | 0/1 [00:00<?, ?it/s]"
      ]
     },
     "metadata": {},
     "output_type": "display_data"
    },
    {
     "name": "stderr",
     "output_type": "stream",
     "text": [
      "You're using a Qwen2TokenizerFast tokenizer. Please note that with a fast tokenizer, using the `__call__` method is faster than using a method to encode the text followed by a call to the `pad` method to get a padded encoding.\n",
      "Processing rows:  80%|████████  | 40/50 [04:55<01:13,  7.37s/row]"
     ]
    },
    {
     "data": {
      "application/vnd.jupyter.widget-view+json": {
       "model_id": "c4e6188ed346485e9e4f7b74bfb73bd5",
       "version_major": 2,
       "version_minor": 0
      },
      "text/plain": [
       "Batches:   0%|          | 0/1 [00:00<?, ?it/s]"
      ]
     },
     "metadata": {},
     "output_type": "display_data"
    },
    {
     "name": "stderr",
     "output_type": "stream",
     "text": [
      "You're using a Qwen2TokenizerFast tokenizer. Please note that with a fast tokenizer, using the `__call__` method is faster than using a method to encode the text followed by a call to the `pad` method to get a padded encoding.\n"
     ]
    },
    {
     "data": {
      "application/vnd.jupyter.widget-view+json": {
       "model_id": "d9c7b653709d471b9509deb1ae709114",
       "version_major": 2,
       "version_minor": 0
      },
      "text/plain": [
       "Batches:   0%|          | 0/1 [00:00<?, ?it/s]"
      ]
     },
     "metadata": {},
     "output_type": "display_data"
    },
    {
     "name": "stderr",
     "output_type": "stream",
     "text": [
      "You're using a Qwen2TokenizerFast tokenizer. Please note that with a fast tokenizer, using the `__call__` method is faster than using a method to encode the text followed by a call to the `pad` method to get a padded encoding.\n"
     ]
    },
    {
     "data": {
      "application/vnd.jupyter.widget-view+json": {
       "model_id": "073aedbda12e4144b4d7114cf800a3df",
       "version_major": 2,
       "version_minor": 0
      },
      "text/plain": [
       "Batches:   0%|          | 0/1 [00:00<?, ?it/s]"
      ]
     },
     "metadata": {},
     "output_type": "display_data"
    },
    {
     "name": "stderr",
     "output_type": "stream",
     "text": [
      "You're using a Qwen2TokenizerFast tokenizer. Please note that with a fast tokenizer, using the `__call__` method is faster than using a method to encode the text followed by a call to the `pad` method to get a padded encoding.\n"
     ]
    },
    {
     "data": {
      "application/vnd.jupyter.widget-view+json": {
       "model_id": "7949bbaab2054e6cadd47a72c37cc734",
       "version_major": 2,
       "version_minor": 0
      },
      "text/plain": [
       "Batches:   0%|          | 0/1 [00:00<?, ?it/s]"
      ]
     },
     "metadata": {},
     "output_type": "display_data"
    },
    {
     "name": "stderr",
     "output_type": "stream",
     "text": [
      "You're using a Qwen2TokenizerFast tokenizer. Please note that with a fast tokenizer, using the `__call__` method is faster than using a method to encode the text followed by a call to the `pad` method to get a padded encoding.\n",
      "Processing rows:  82%|████████▏ | 41/50 [05:03<01:07,  7.46s/row]"
     ]
    },
    {
     "data": {
      "application/vnd.jupyter.widget-view+json": {
       "model_id": "f82bdb5cd425485e9baae12ee4484d86",
       "version_major": 2,
       "version_minor": 0
      },
      "text/plain": [
       "Batches:   0%|          | 0/1 [00:00<?, ?it/s]"
      ]
     },
     "metadata": {},
     "output_type": "display_data"
    },
    {
     "name": "stderr",
     "output_type": "stream",
     "text": [
      "You're using a Qwen2TokenizerFast tokenizer. Please note that with a fast tokenizer, using the `__call__` method is faster than using a method to encode the text followed by a call to the `pad` method to get a padded encoding.\n"
     ]
    },
    {
     "data": {
      "application/vnd.jupyter.widget-view+json": {
       "model_id": "ce3cdd7d03ad467ca07251a823ec1c63",
       "version_major": 2,
       "version_minor": 0
      },
      "text/plain": [
       "Batches:   0%|          | 0/1 [00:00<?, ?it/s]"
      ]
     },
     "metadata": {},
     "output_type": "display_data"
    },
    {
     "name": "stderr",
     "output_type": "stream",
     "text": [
      "You're using a Qwen2TokenizerFast tokenizer. Please note that with a fast tokenizer, using the `__call__` method is faster than using a method to encode the text followed by a call to the `pad` method to get a padded encoding.\n"
     ]
    },
    {
     "data": {
      "application/vnd.jupyter.widget-view+json": {
       "model_id": "c566f9d3c1854b63aeacaf89416455b7",
       "version_major": 2,
       "version_minor": 0
      },
      "text/plain": [
       "Batches:   0%|          | 0/1 [00:00<?, ?it/s]"
      ]
     },
     "metadata": {},
     "output_type": "display_data"
    },
    {
     "name": "stderr",
     "output_type": "stream",
     "text": [
      "You're using a Qwen2TokenizerFast tokenizer. Please note that with a fast tokenizer, using the `__call__` method is faster than using a method to encode the text followed by a call to the `pad` method to get a padded encoding.\n"
     ]
    },
    {
     "data": {
      "application/vnd.jupyter.widget-view+json": {
       "model_id": "72431b656a6c4e3bae258096c994027b",
       "version_major": 2,
       "version_minor": 0
      },
      "text/plain": [
       "Batches:   0%|          | 0/1 [00:00<?, ?it/s]"
      ]
     },
     "metadata": {},
     "output_type": "display_data"
    },
    {
     "name": "stderr",
     "output_type": "stream",
     "text": [
      "You're using a Qwen2TokenizerFast tokenizer. Please note that with a fast tokenizer, using the `__call__` method is faster than using a method to encode the text followed by a call to the `pad` method to get a padded encoding.\n",
      "Processing rows:  84%|████████▍ | 42/50 [05:10<00:59,  7.44s/row]"
     ]
    },
    {
     "data": {
      "application/vnd.jupyter.widget-view+json": {
       "model_id": "6e46323b70014a9688c92c5f595ec482",
       "version_major": 2,
       "version_minor": 0
      },
      "text/plain": [
       "Batches:   0%|          | 0/1 [00:00<?, ?it/s]"
      ]
     },
     "metadata": {},
     "output_type": "display_data"
    },
    {
     "name": "stderr",
     "output_type": "stream",
     "text": [
      "You're using a Qwen2TokenizerFast tokenizer. Please note that with a fast tokenizer, using the `__call__` method is faster than using a method to encode the text followed by a call to the `pad` method to get a padded encoding.\n"
     ]
    },
    {
     "data": {
      "application/vnd.jupyter.widget-view+json": {
       "model_id": "862e42b5755f4636902e44b99c565660",
       "version_major": 2,
       "version_minor": 0
      },
      "text/plain": [
       "Batches:   0%|          | 0/1 [00:00<?, ?it/s]"
      ]
     },
     "metadata": {},
     "output_type": "display_data"
    },
    {
     "name": "stderr",
     "output_type": "stream",
     "text": [
      "You're using a Qwen2TokenizerFast tokenizer. Please note that with a fast tokenizer, using the `__call__` method is faster than using a method to encode the text followed by a call to the `pad` method to get a padded encoding.\n"
     ]
    },
    {
     "data": {
      "application/vnd.jupyter.widget-view+json": {
       "model_id": "ea99243e357a462692f71597eacbf46f",
       "version_major": 2,
       "version_minor": 0
      },
      "text/plain": [
       "Batches:   0%|          | 0/1 [00:00<?, ?it/s]"
      ]
     },
     "metadata": {},
     "output_type": "display_data"
    },
    {
     "name": "stderr",
     "output_type": "stream",
     "text": [
      "You're using a Qwen2TokenizerFast tokenizer. Please note that with a fast tokenizer, using the `__call__` method is faster than using a method to encode the text followed by a call to the `pad` method to get a padded encoding.\n"
     ]
    },
    {
     "data": {
      "application/vnd.jupyter.widget-view+json": {
       "model_id": "995f5246417f45b08ca88a35c5c4d23e",
       "version_major": 2,
       "version_minor": 0
      },
      "text/plain": [
       "Batches:   0%|          | 0/1 [00:00<?, ?it/s]"
      ]
     },
     "metadata": {},
     "output_type": "display_data"
    },
    {
     "name": "stderr",
     "output_type": "stream",
     "text": [
      "You're using a Qwen2TokenizerFast tokenizer. Please note that with a fast tokenizer, using the `__call__` method is faster than using a method to encode the text followed by a call to the `pad` method to get a padded encoding.\n",
      "Processing rows:  86%|████████▌ | 43/50 [05:17<00:51,  7.34s/row]"
     ]
    },
    {
     "data": {
      "application/vnd.jupyter.widget-view+json": {
       "model_id": "5c827774baad4e3f8c6457025d10b0f3",
       "version_major": 2,
       "version_minor": 0
      },
      "text/plain": [
       "Batches:   0%|          | 0/1 [00:00<?, ?it/s]"
      ]
     },
     "metadata": {},
     "output_type": "display_data"
    },
    {
     "name": "stderr",
     "output_type": "stream",
     "text": [
      "You're using a Qwen2TokenizerFast tokenizer. Please note that with a fast tokenizer, using the `__call__` method is faster than using a method to encode the text followed by a call to the `pad` method to get a padded encoding.\n"
     ]
    },
    {
     "data": {
      "application/vnd.jupyter.widget-view+json": {
       "model_id": "47ef10d342b84263852cb8aee591555d",
       "version_major": 2,
       "version_minor": 0
      },
      "text/plain": [
       "Batches:   0%|          | 0/1 [00:00<?, ?it/s]"
      ]
     },
     "metadata": {},
     "output_type": "display_data"
    },
    {
     "name": "stderr",
     "output_type": "stream",
     "text": [
      "You're using a Qwen2TokenizerFast tokenizer. Please note that with a fast tokenizer, using the `__call__` method is faster than using a method to encode the text followed by a call to the `pad` method to get a padded encoding.\n"
     ]
    },
    {
     "data": {
      "application/vnd.jupyter.widget-view+json": {
       "model_id": "3589eaa125954883a7f4098900df3d75",
       "version_major": 2,
       "version_minor": 0
      },
      "text/plain": [
       "Batches:   0%|          | 0/1 [00:00<?, ?it/s]"
      ]
     },
     "metadata": {},
     "output_type": "display_data"
    },
    {
     "name": "stderr",
     "output_type": "stream",
     "text": [
      "You're using a Qwen2TokenizerFast tokenizer. Please note that with a fast tokenizer, using the `__call__` method is faster than using a method to encode the text followed by a call to the `pad` method to get a padded encoding.\n"
     ]
    },
    {
     "data": {
      "application/vnd.jupyter.widget-view+json": {
       "model_id": "7b026c3cfcea49efaeddad419cfeb14c",
       "version_major": 2,
       "version_minor": 0
      },
      "text/plain": [
       "Batches:   0%|          | 0/1 [00:00<?, ?it/s]"
      ]
     },
     "metadata": {},
     "output_type": "display_data"
    },
    {
     "name": "stderr",
     "output_type": "stream",
     "text": [
      "You're using a Qwen2TokenizerFast tokenizer. Please note that with a fast tokenizer, using the `__call__` method is faster than using a method to encode the text followed by a call to the `pad` method to get a padded encoding.\n",
      "Processing rows:  88%|████████▊ | 44/50 [05:24<00:44,  7.36s/row]"
     ]
    },
    {
     "data": {
      "application/vnd.jupyter.widget-view+json": {
       "model_id": "35d1b3b7892f4463a1249a492dfccdf6",
       "version_major": 2,
       "version_minor": 0
      },
      "text/plain": [
       "Batches:   0%|          | 0/1 [00:00<?, ?it/s]"
      ]
     },
     "metadata": {},
     "output_type": "display_data"
    },
    {
     "name": "stderr",
     "output_type": "stream",
     "text": [
      "You're using a Qwen2TokenizerFast tokenizer. Please note that with a fast tokenizer, using the `__call__` method is faster than using a method to encode the text followed by a call to the `pad` method to get a padded encoding.\n"
     ]
    },
    {
     "data": {
      "application/vnd.jupyter.widget-view+json": {
       "model_id": "9e84dd2227f7494fb609366b1858620b",
       "version_major": 2,
       "version_minor": 0
      },
      "text/plain": [
       "Batches:   0%|          | 0/1 [00:00<?, ?it/s]"
      ]
     },
     "metadata": {},
     "output_type": "display_data"
    },
    {
     "name": "stderr",
     "output_type": "stream",
     "text": [
      "You're using a Qwen2TokenizerFast tokenizer. Please note that with a fast tokenizer, using the `__call__` method is faster than using a method to encode the text followed by a call to the `pad` method to get a padded encoding.\n"
     ]
    },
    {
     "data": {
      "application/vnd.jupyter.widget-view+json": {
       "model_id": "e9f9d743b20e48cfa89049d17725ecd9",
       "version_major": 2,
       "version_minor": 0
      },
      "text/plain": [
       "Batches:   0%|          | 0/1 [00:00<?, ?it/s]"
      ]
     },
     "metadata": {},
     "output_type": "display_data"
    },
    {
     "name": "stderr",
     "output_type": "stream",
     "text": [
      "You're using a Qwen2TokenizerFast tokenizer. Please note that with a fast tokenizer, using the `__call__` method is faster than using a method to encode the text followed by a call to the `pad` method to get a padded encoding.\n"
     ]
    },
    {
     "data": {
      "application/vnd.jupyter.widget-view+json": {
       "model_id": "65405dbde7ec4b248ff3b7bf8edcc9b1",
       "version_major": 2,
       "version_minor": 0
      },
      "text/plain": [
       "Batches:   0%|          | 0/1 [00:00<?, ?it/s]"
      ]
     },
     "metadata": {},
     "output_type": "display_data"
    },
    {
     "name": "stderr",
     "output_type": "stream",
     "text": [
      "You're using a Qwen2TokenizerFast tokenizer. Please note that with a fast tokenizer, using the `__call__` method is faster than using a method to encode the text followed by a call to the `pad` method to get a padded encoding.\n",
      "Processing rows:  90%|█████████ | 45/50 [05:32<00:37,  7.40s/row]"
     ]
    },
    {
     "data": {
      "application/vnd.jupyter.widget-view+json": {
       "model_id": "582f68ff5b84455d9982be3962d07acb",
       "version_major": 2,
       "version_minor": 0
      },
      "text/plain": [
       "Batches:   0%|          | 0/1 [00:00<?, ?it/s]"
      ]
     },
     "metadata": {},
     "output_type": "display_data"
    },
    {
     "name": "stderr",
     "output_type": "stream",
     "text": [
      "You're using a Qwen2TokenizerFast tokenizer. Please note that with a fast tokenizer, using the `__call__` method is faster than using a method to encode the text followed by a call to the `pad` method to get a padded encoding.\n"
     ]
    },
    {
     "data": {
      "application/vnd.jupyter.widget-view+json": {
       "model_id": "bb5b7779786d4bd389cbf470754b1bbe",
       "version_major": 2,
       "version_minor": 0
      },
      "text/plain": [
       "Batches:   0%|          | 0/1 [00:00<?, ?it/s]"
      ]
     },
     "metadata": {},
     "output_type": "display_data"
    },
    {
     "name": "stderr",
     "output_type": "stream",
     "text": [
      "You're using a Qwen2TokenizerFast tokenizer. Please note that with a fast tokenizer, using the `__call__` method is faster than using a method to encode the text followed by a call to the `pad` method to get a padded encoding.\n"
     ]
    },
    {
     "data": {
      "application/vnd.jupyter.widget-view+json": {
       "model_id": "5625b189c2254c8484f9980d2c9fd01e",
       "version_major": 2,
       "version_minor": 0
      },
      "text/plain": [
       "Batches:   0%|          | 0/1 [00:00<?, ?it/s]"
      ]
     },
     "metadata": {},
     "output_type": "display_data"
    },
    {
     "name": "stderr",
     "output_type": "stream",
     "text": [
      "You're using a Qwen2TokenizerFast tokenizer. Please note that with a fast tokenizer, using the `__call__` method is faster than using a method to encode the text followed by a call to the `pad` method to get a padded encoding.\n"
     ]
    },
    {
     "data": {
      "application/vnd.jupyter.widget-view+json": {
       "model_id": "07279ce19f1a4224a47bf3844b12f0ac",
       "version_major": 2,
       "version_minor": 0
      },
      "text/plain": [
       "Batches:   0%|          | 0/1 [00:00<?, ?it/s]"
      ]
     },
     "metadata": {},
     "output_type": "display_data"
    },
    {
     "name": "stderr",
     "output_type": "stream",
     "text": [
      "You're using a Qwen2TokenizerFast tokenizer. Please note that with a fast tokenizer, using the `__call__` method is faster than using a method to encode the text followed by a call to the `pad` method to get a padded encoding.\n",
      "Processing rows:  92%|█████████▏| 46/50 [05:40<00:30,  7.53s/row]"
     ]
    },
    {
     "data": {
      "application/vnd.jupyter.widget-view+json": {
       "model_id": "0b8b3b0e79064389bdef63e108d7813b",
       "version_major": 2,
       "version_minor": 0
      },
      "text/plain": [
       "Batches:   0%|          | 0/1 [00:00<?, ?it/s]"
      ]
     },
     "metadata": {},
     "output_type": "display_data"
    },
    {
     "name": "stderr",
     "output_type": "stream",
     "text": [
      "You're using a Qwen2TokenizerFast tokenizer. Please note that with a fast tokenizer, using the `__call__` method is faster than using a method to encode the text followed by a call to the `pad` method to get a padded encoding.\n"
     ]
    },
    {
     "data": {
      "application/vnd.jupyter.widget-view+json": {
       "model_id": "6ecb67a40c4646a0bcf1e703a4c72a9a",
       "version_major": 2,
       "version_minor": 0
      },
      "text/plain": [
       "Batches:   0%|          | 0/1 [00:00<?, ?it/s]"
      ]
     },
     "metadata": {},
     "output_type": "display_data"
    },
    {
     "name": "stderr",
     "output_type": "stream",
     "text": [
      "You're using a Qwen2TokenizerFast tokenizer. Please note that with a fast tokenizer, using the `__call__` method is faster than using a method to encode the text followed by a call to the `pad` method to get a padded encoding.\n"
     ]
    },
    {
     "data": {
      "application/vnd.jupyter.widget-view+json": {
       "model_id": "7c4eb8cc3c8f42d2984d8ebda948692c",
       "version_major": 2,
       "version_minor": 0
      },
      "text/plain": [
       "Batches:   0%|          | 0/1 [00:00<?, ?it/s]"
      ]
     },
     "metadata": {},
     "output_type": "display_data"
    },
    {
     "name": "stderr",
     "output_type": "stream",
     "text": [
      "You're using a Qwen2TokenizerFast tokenizer. Please note that with a fast tokenizer, using the `__call__` method is faster than using a method to encode the text followed by a call to the `pad` method to get a padded encoding.\n"
     ]
    },
    {
     "data": {
      "application/vnd.jupyter.widget-view+json": {
       "model_id": "c75d4c9e608c43029e874cf9cfc2ffeb",
       "version_major": 2,
       "version_minor": 0
      },
      "text/plain": [
       "Batches:   0%|          | 0/1 [00:00<?, ?it/s]"
      ]
     },
     "metadata": {},
     "output_type": "display_data"
    },
    {
     "name": "stderr",
     "output_type": "stream",
     "text": [
      "You're using a Qwen2TokenizerFast tokenizer. Please note that with a fast tokenizer, using the `__call__` method is faster than using a method to encode the text followed by a call to the `pad` method to get a padded encoding.\n",
      "Processing rows:  94%|█████████▍| 47/50 [05:47<00:22,  7.52s/row]"
     ]
    },
    {
     "data": {
      "application/vnd.jupyter.widget-view+json": {
       "model_id": "f90448a9c72541b4980ce127c9812f2d",
       "version_major": 2,
       "version_minor": 0
      },
      "text/plain": [
       "Batches:   0%|          | 0/1 [00:00<?, ?it/s]"
      ]
     },
     "metadata": {},
     "output_type": "display_data"
    },
    {
     "name": "stderr",
     "output_type": "stream",
     "text": [
      "You're using a Qwen2TokenizerFast tokenizer. Please note that with a fast tokenizer, using the `__call__` method is faster than using a method to encode the text followed by a call to the `pad` method to get a padded encoding.\n"
     ]
    },
    {
     "data": {
      "application/vnd.jupyter.widget-view+json": {
       "model_id": "1d7e9f20c4f34eba88505e6abe04e1c5",
       "version_major": 2,
       "version_minor": 0
      },
      "text/plain": [
       "Batches:   0%|          | 0/1 [00:00<?, ?it/s]"
      ]
     },
     "metadata": {},
     "output_type": "display_data"
    },
    {
     "name": "stderr",
     "output_type": "stream",
     "text": [
      "You're using a Qwen2TokenizerFast tokenizer. Please note that with a fast tokenizer, using the `__call__` method is faster than using a method to encode the text followed by a call to the `pad` method to get a padded encoding.\n"
     ]
    },
    {
     "data": {
      "application/vnd.jupyter.widget-view+json": {
       "model_id": "10222708a4d04b469b9d252cbdf79a24",
       "version_major": 2,
       "version_minor": 0
      },
      "text/plain": [
       "Batches:   0%|          | 0/1 [00:00<?, ?it/s]"
      ]
     },
     "metadata": {},
     "output_type": "display_data"
    },
    {
     "name": "stderr",
     "output_type": "stream",
     "text": [
      "You're using a Qwen2TokenizerFast tokenizer. Please note that with a fast tokenizer, using the `__call__` method is faster than using a method to encode the text followed by a call to the `pad` method to get a padded encoding.\n"
     ]
    },
    {
     "data": {
      "application/vnd.jupyter.widget-view+json": {
       "model_id": "42e6c89236ca4d748afcc77064a2eb37",
       "version_major": 2,
       "version_minor": 0
      },
      "text/plain": [
       "Batches:   0%|          | 0/1 [00:00<?, ?it/s]"
      ]
     },
     "metadata": {},
     "output_type": "display_data"
    },
    {
     "name": "stderr",
     "output_type": "stream",
     "text": [
      "You're using a Qwen2TokenizerFast tokenizer. Please note that with a fast tokenizer, using the `__call__` method is faster than using a method to encode the text followed by a call to the `pad` method to get a padded encoding.\n",
      "Processing rows:  96%|█████████▌| 48/50 [05:54<00:14,  7.38s/row]"
     ]
    },
    {
     "data": {
      "application/vnd.jupyter.widget-view+json": {
       "model_id": "acbd612ce3074b209dd789351c025083",
       "version_major": 2,
       "version_minor": 0
      },
      "text/plain": [
       "Batches:   0%|          | 0/1 [00:00<?, ?it/s]"
      ]
     },
     "metadata": {},
     "output_type": "display_data"
    },
    {
     "name": "stderr",
     "output_type": "stream",
     "text": [
      "You're using a Qwen2TokenizerFast tokenizer. Please note that with a fast tokenizer, using the `__call__` method is faster than using a method to encode the text followed by a call to the `pad` method to get a padded encoding.\n"
     ]
    },
    {
     "data": {
      "application/vnd.jupyter.widget-view+json": {
       "model_id": "2605e0c7525b4ae2a2a9f597a48a3db7",
       "version_major": 2,
       "version_minor": 0
      },
      "text/plain": [
       "Batches:   0%|          | 0/1 [00:00<?, ?it/s]"
      ]
     },
     "metadata": {},
     "output_type": "display_data"
    },
    {
     "name": "stderr",
     "output_type": "stream",
     "text": [
      "You're using a Qwen2TokenizerFast tokenizer. Please note that with a fast tokenizer, using the `__call__` method is faster than using a method to encode the text followed by a call to the `pad` method to get a padded encoding.\n"
     ]
    },
    {
     "data": {
      "application/vnd.jupyter.widget-view+json": {
       "model_id": "79b7b90cd2c54289b801419eca94b37d",
       "version_major": 2,
       "version_minor": 0
      },
      "text/plain": [
       "Batches:   0%|          | 0/1 [00:00<?, ?it/s]"
      ]
     },
     "metadata": {},
     "output_type": "display_data"
    },
    {
     "name": "stderr",
     "output_type": "stream",
     "text": [
      "You're using a Qwen2TokenizerFast tokenizer. Please note that with a fast tokenizer, using the `__call__` method is faster than using a method to encode the text followed by a call to the `pad` method to get a padded encoding.\n"
     ]
    },
    {
     "data": {
      "application/vnd.jupyter.widget-view+json": {
       "model_id": "ef0a5bc1d0054be3a7ba1246962f38ea",
       "version_major": 2,
       "version_minor": 0
      },
      "text/plain": [
       "Batches:   0%|          | 0/1 [00:00<?, ?it/s]"
      ]
     },
     "metadata": {},
     "output_type": "display_data"
    },
    {
     "name": "stderr",
     "output_type": "stream",
     "text": [
      "You're using a Qwen2TokenizerFast tokenizer. Please note that with a fast tokenizer, using the `__call__` method is faster than using a method to encode the text followed by a call to the `pad` method to get a padded encoding.\n",
      "Processing rows:  98%|█████████▊| 49/50 [06:02<00:07,  7.33s/row]"
     ]
    },
    {
     "data": {
      "application/vnd.jupyter.widget-view+json": {
       "model_id": "a908f7eacf2b488f90486f4bbcdfec62",
       "version_major": 2,
       "version_minor": 0
      },
      "text/plain": [
       "Batches:   0%|          | 0/1 [00:00<?, ?it/s]"
      ]
     },
     "metadata": {},
     "output_type": "display_data"
    },
    {
     "name": "stderr",
     "output_type": "stream",
     "text": [
      "You're using a Qwen2TokenizerFast tokenizer. Please note that with a fast tokenizer, using the `__call__` method is faster than using a method to encode the text followed by a call to the `pad` method to get a padded encoding.\n"
     ]
    },
    {
     "data": {
      "application/vnd.jupyter.widget-view+json": {
       "model_id": "8e9ba7f123f04ce58e682d63515179ae",
       "version_major": 2,
       "version_minor": 0
      },
      "text/plain": [
       "Batches:   0%|          | 0/1 [00:00<?, ?it/s]"
      ]
     },
     "metadata": {},
     "output_type": "display_data"
    },
    {
     "name": "stderr",
     "output_type": "stream",
     "text": [
      "You're using a Qwen2TokenizerFast tokenizer. Please note that with a fast tokenizer, using the `__call__` method is faster than using a method to encode the text followed by a call to the `pad` method to get a padded encoding.\n"
     ]
    },
    {
     "data": {
      "application/vnd.jupyter.widget-view+json": {
       "model_id": "66f0391962d74144a0bc8f2cb874bbf8",
       "version_major": 2,
       "version_minor": 0
      },
      "text/plain": [
       "Batches:   0%|          | 0/1 [00:00<?, ?it/s]"
      ]
     },
     "metadata": {},
     "output_type": "display_data"
    },
    {
     "name": "stderr",
     "output_type": "stream",
     "text": [
      "You're using a Qwen2TokenizerFast tokenizer. Please note that with a fast tokenizer, using the `__call__` method is faster than using a method to encode the text followed by a call to the `pad` method to get a padded encoding.\n"
     ]
    },
    {
     "data": {
      "application/vnd.jupyter.widget-view+json": {
       "model_id": "627f07adee5241dd82ed1182bd7071a2",
       "version_major": 2,
       "version_minor": 0
      },
      "text/plain": [
       "Batches:   0%|          | 0/1 [00:00<?, ?it/s]"
      ]
     },
     "metadata": {},
     "output_type": "display_data"
    },
    {
     "name": "stderr",
     "output_type": "stream",
     "text": [
      "You're using a Qwen2TokenizerFast tokenizer. Please note that with a fast tokenizer, using the `__call__` method is faster than using a method to encode the text followed by a call to the `pad` method to get a padded encoding.\n",
      "Processing rows: 100%|██████████| 50/50 [06:09<00:00,  7.39s/row]\n",
      "Processing rows:   0%|          | 0/50 [00:00<?, ?row/s]"
     ]
    },
    {
     "data": {
      "application/vnd.jupyter.widget-view+json": {
       "model_id": "18a809eb85a54c1c9bf7c8b20833cd9a",
       "version_major": 2,
       "version_minor": 0
      },
      "text/plain": [
       "Batches:   0%|          | 0/1 [00:00<?, ?it/s]"
      ]
     },
     "metadata": {},
     "output_type": "display_data"
    },
    {
     "name": "stderr",
     "output_type": "stream",
     "text": [
      "You're using a Qwen2TokenizerFast tokenizer. Please note that with a fast tokenizer, using the `__call__` method is faster than using a method to encode the text followed by a call to the `pad` method to get a padded encoding.\n"
     ]
    },
    {
     "data": {
      "application/vnd.jupyter.widget-view+json": {
       "model_id": "8395ecf499de423fb409ea2f307c7c55",
       "version_major": 2,
       "version_minor": 0
      },
      "text/plain": [
       "Batches:   0%|          | 0/1 [00:00<?, ?it/s]"
      ]
     },
     "metadata": {},
     "output_type": "display_data"
    },
    {
     "name": "stderr",
     "output_type": "stream",
     "text": [
      "You're using a Qwen2TokenizerFast tokenizer. Please note that with a fast tokenizer, using the `__call__` method is faster than using a method to encode the text followed by a call to the `pad` method to get a padded encoding.\n"
     ]
    },
    {
     "data": {
      "application/vnd.jupyter.widget-view+json": {
       "model_id": "350a2113c7404488a61267288715314f",
       "version_major": 2,
       "version_minor": 0
      },
      "text/plain": [
       "Batches:   0%|          | 0/1 [00:00<?, ?it/s]"
      ]
     },
     "metadata": {},
     "output_type": "display_data"
    },
    {
     "name": "stderr",
     "output_type": "stream",
     "text": [
      "You're using a Qwen2TokenizerFast tokenizer. Please note that with a fast tokenizer, using the `__call__` method is faster than using a method to encode the text followed by a call to the `pad` method to get a padded encoding.\n"
     ]
    },
    {
     "data": {
      "application/vnd.jupyter.widget-view+json": {
       "model_id": "2787a51b49ce41d3a9725c598204647c",
       "version_major": 2,
       "version_minor": 0
      },
      "text/plain": [
       "Batches:   0%|          | 0/1 [00:00<?, ?it/s]"
      ]
     },
     "metadata": {},
     "output_type": "display_data"
    },
    {
     "name": "stderr",
     "output_type": "stream",
     "text": [
      "You're using a Qwen2TokenizerFast tokenizer. Please note that with a fast tokenizer, using the `__call__` method is faster than using a method to encode the text followed by a call to the `pad` method to get a padded encoding.\n",
      "Processing rows:   2%|▏         | 1/50 [00:08<06:57,  8.52s/row]"
     ]
    },
    {
     "data": {
      "application/vnd.jupyter.widget-view+json": {
       "model_id": "89a3980f732b49648aaaf6ab95f1a0c1",
       "version_major": 2,
       "version_minor": 0
      },
      "text/plain": [
       "Batches:   0%|          | 0/1 [00:00<?, ?it/s]"
      ]
     },
     "metadata": {},
     "output_type": "display_data"
    },
    {
     "name": "stderr",
     "output_type": "stream",
     "text": [
      "You're using a Qwen2TokenizerFast tokenizer. Please note that with a fast tokenizer, using the `__call__` method is faster than using a method to encode the text followed by a call to the `pad` method to get a padded encoding.\n"
     ]
    },
    {
     "data": {
      "application/vnd.jupyter.widget-view+json": {
       "model_id": "c0a9d763b6b740238dec5d7e7eb3ce25",
       "version_major": 2,
       "version_minor": 0
      },
      "text/plain": [
       "Batches:   0%|          | 0/1 [00:00<?, ?it/s]"
      ]
     },
     "metadata": {},
     "output_type": "display_data"
    },
    {
     "name": "stderr",
     "output_type": "stream",
     "text": [
      "You're using a Qwen2TokenizerFast tokenizer. Please note that with a fast tokenizer, using the `__call__` method is faster than using a method to encode the text followed by a call to the `pad` method to get a padded encoding.\n"
     ]
    },
    {
     "data": {
      "application/vnd.jupyter.widget-view+json": {
       "model_id": "5931f6148d894d02bc1a06a0c8774249",
       "version_major": 2,
       "version_minor": 0
      },
      "text/plain": [
       "Batches:   0%|          | 0/1 [00:00<?, ?it/s]"
      ]
     },
     "metadata": {},
     "output_type": "display_data"
    },
    {
     "name": "stderr",
     "output_type": "stream",
     "text": [
      "You're using a Qwen2TokenizerFast tokenizer. Please note that with a fast tokenizer, using the `__call__` method is faster than using a method to encode the text followed by a call to the `pad` method to get a padded encoding.\n"
     ]
    },
    {
     "data": {
      "application/vnd.jupyter.widget-view+json": {
       "model_id": "25275d88d7834cc5a620c55763dac76d",
       "version_major": 2,
       "version_minor": 0
      },
      "text/plain": [
       "Batches:   0%|          | 0/1 [00:00<?, ?it/s]"
      ]
     },
     "metadata": {},
     "output_type": "display_data"
    },
    {
     "name": "stderr",
     "output_type": "stream",
     "text": [
      "You're using a Qwen2TokenizerFast tokenizer. Please note that with a fast tokenizer, using the `__call__` method is faster than using a method to encode the text followed by a call to the `pad` method to get a padded encoding.\n",
      "Processing rows:   4%|▍         | 2/50 [00:16<06:29,  8.10s/row]"
     ]
    },
    {
     "data": {
      "application/vnd.jupyter.widget-view+json": {
       "model_id": "49cba131845f458a8c12eef2b4b457a1",
       "version_major": 2,
       "version_minor": 0
      },
      "text/plain": [
       "Batches:   0%|          | 0/1 [00:00<?, ?it/s]"
      ]
     },
     "metadata": {},
     "output_type": "display_data"
    },
    {
     "name": "stderr",
     "output_type": "stream",
     "text": [
      "You're using a Qwen2TokenizerFast tokenizer. Please note that with a fast tokenizer, using the `__call__` method is faster than using a method to encode the text followed by a call to the `pad` method to get a padded encoding.\n"
     ]
    },
    {
     "data": {
      "application/vnd.jupyter.widget-view+json": {
       "model_id": "17f1427df9854290aa5f7b0bb1c4a69b",
       "version_major": 2,
       "version_minor": 0
      },
      "text/plain": [
       "Batches:   0%|          | 0/1 [00:00<?, ?it/s]"
      ]
     },
     "metadata": {},
     "output_type": "display_data"
    },
    {
     "name": "stderr",
     "output_type": "stream",
     "text": [
      "You're using a Qwen2TokenizerFast tokenizer. Please note that with a fast tokenizer, using the `__call__` method is faster than using a method to encode the text followed by a call to the `pad` method to get a padded encoding.\n"
     ]
    },
    {
     "data": {
      "application/vnd.jupyter.widget-view+json": {
       "model_id": "db7037fa56ee4f43b74a74dbd99200ca",
       "version_major": 2,
       "version_minor": 0
      },
      "text/plain": [
       "Batches:   0%|          | 0/1 [00:00<?, ?it/s]"
      ]
     },
     "metadata": {},
     "output_type": "display_data"
    },
    {
     "name": "stderr",
     "output_type": "stream",
     "text": [
      "You're using a Qwen2TokenizerFast tokenizer. Please note that with a fast tokenizer, using the `__call__` method is faster than using a method to encode the text followed by a call to the `pad` method to get a padded encoding.\n"
     ]
    },
    {
     "data": {
      "application/vnd.jupyter.widget-view+json": {
       "model_id": "fe9a7f8cddd44972a4ecfcdb7a33b5d2",
       "version_major": 2,
       "version_minor": 0
      },
      "text/plain": [
       "Batches:   0%|          | 0/1 [00:00<?, ?it/s]"
      ]
     },
     "metadata": {},
     "output_type": "display_data"
    },
    {
     "name": "stderr",
     "output_type": "stream",
     "text": [
      "You're using a Qwen2TokenizerFast tokenizer. Please note that with a fast tokenizer, using the `__call__` method is faster than using a method to encode the text followed by a call to the `pad` method to get a padded encoding.\n",
      "Processing rows:   6%|▌         | 3/50 [00:24<06:31,  8.33s/row]"
     ]
    },
    {
     "data": {
      "application/vnd.jupyter.widget-view+json": {
       "model_id": "46a77367fa7846049271f638faed2e88",
       "version_major": 2,
       "version_minor": 0
      },
      "text/plain": [
       "Batches:   0%|          | 0/1 [00:00<?, ?it/s]"
      ]
     },
     "metadata": {},
     "output_type": "display_data"
    },
    {
     "name": "stderr",
     "output_type": "stream",
     "text": [
      "You're using a Qwen2TokenizerFast tokenizer. Please note that with a fast tokenizer, using the `__call__` method is faster than using a method to encode the text followed by a call to the `pad` method to get a padded encoding.\n"
     ]
    },
    {
     "data": {
      "application/vnd.jupyter.widget-view+json": {
       "model_id": "47b7c2b245b246edb0fd4d43957e2292",
       "version_major": 2,
       "version_minor": 0
      },
      "text/plain": [
       "Batches:   0%|          | 0/1 [00:00<?, ?it/s]"
      ]
     },
     "metadata": {},
     "output_type": "display_data"
    },
    {
     "name": "stderr",
     "output_type": "stream",
     "text": [
      "You're using a Qwen2TokenizerFast tokenizer. Please note that with a fast tokenizer, using the `__call__` method is faster than using a method to encode the text followed by a call to the `pad` method to get a padded encoding.\n"
     ]
    },
    {
     "data": {
      "application/vnd.jupyter.widget-view+json": {
       "model_id": "4798b57fda554fbeab25f188de66d5c3",
       "version_major": 2,
       "version_minor": 0
      },
      "text/plain": [
       "Batches:   0%|          | 0/1 [00:00<?, ?it/s]"
      ]
     },
     "metadata": {},
     "output_type": "display_data"
    },
    {
     "name": "stderr",
     "output_type": "stream",
     "text": [
      "You're using a Qwen2TokenizerFast tokenizer. Please note that with a fast tokenizer, using the `__call__` method is faster than using a method to encode the text followed by a call to the `pad` method to get a padded encoding.\n"
     ]
    },
    {
     "data": {
      "application/vnd.jupyter.widget-view+json": {
       "model_id": "9f3ae772eaae44008465ad6370d6496e",
       "version_major": 2,
       "version_minor": 0
      },
      "text/plain": [
       "Batches:   0%|          | 0/1 [00:00<?, ?it/s]"
      ]
     },
     "metadata": {},
     "output_type": "display_data"
    },
    {
     "name": "stderr",
     "output_type": "stream",
     "text": [
      "You're using a Qwen2TokenizerFast tokenizer. Please note that with a fast tokenizer, using the `__call__` method is faster than using a method to encode the text followed by a call to the `pad` method to get a padded encoding.\n",
      "Processing rows:   8%|▊         | 4/50 [00:33<06:19,  8.25s/row]"
     ]
    },
    {
     "data": {
      "application/vnd.jupyter.widget-view+json": {
       "model_id": "ae651e4ccf244272b465d9d1b638ef25",
       "version_major": 2,
       "version_minor": 0
      },
      "text/plain": [
       "Batches:   0%|          | 0/1 [00:00<?, ?it/s]"
      ]
     },
     "metadata": {},
     "output_type": "display_data"
    },
    {
     "name": "stderr",
     "output_type": "stream",
     "text": [
      "You're using a Qwen2TokenizerFast tokenizer. Please note that with a fast tokenizer, using the `__call__` method is faster than using a method to encode the text followed by a call to the `pad` method to get a padded encoding.\n"
     ]
    },
    {
     "data": {
      "application/vnd.jupyter.widget-view+json": {
       "model_id": "da8ef05ec11e42069f46c1093ea1c7aa",
       "version_major": 2,
       "version_minor": 0
      },
      "text/plain": [
       "Batches:   0%|          | 0/1 [00:00<?, ?it/s]"
      ]
     },
     "metadata": {},
     "output_type": "display_data"
    },
    {
     "name": "stderr",
     "output_type": "stream",
     "text": [
      "You're using a Qwen2TokenizerFast tokenizer. Please note that with a fast tokenizer, using the `__call__` method is faster than using a method to encode the text followed by a call to the `pad` method to get a padded encoding.\n"
     ]
    },
    {
     "data": {
      "application/vnd.jupyter.widget-view+json": {
       "model_id": "b40d98549d894d459809ed4934f59305",
       "version_major": 2,
       "version_minor": 0
      },
      "text/plain": [
       "Batches:   0%|          | 0/1 [00:00<?, ?it/s]"
      ]
     },
     "metadata": {},
     "output_type": "display_data"
    },
    {
     "name": "stderr",
     "output_type": "stream",
     "text": [
      "You're using a Qwen2TokenizerFast tokenizer. Please note that with a fast tokenizer, using the `__call__` method is faster than using a method to encode the text followed by a call to the `pad` method to get a padded encoding.\n"
     ]
    },
    {
     "data": {
      "application/vnd.jupyter.widget-view+json": {
       "model_id": "364bc0aff07d4ece82f95038c446a95f",
       "version_major": 2,
       "version_minor": 0
      },
      "text/plain": [
       "Batches:   0%|          | 0/1 [00:00<?, ?it/s]"
      ]
     },
     "metadata": {},
     "output_type": "display_data"
    },
    {
     "name": "stderr",
     "output_type": "stream",
     "text": [
      "You're using a Qwen2TokenizerFast tokenizer. Please note that with a fast tokenizer, using the `__call__` method is faster than using a method to encode the text followed by a call to the `pad` method to get a padded encoding.\n",
      "Processing rows:  10%|█         | 5/50 [00:41<06:16,  8.36s/row]"
     ]
    },
    {
     "data": {
      "application/vnd.jupyter.widget-view+json": {
       "model_id": "c75e88b8d8aa4fc09914472bac045882",
       "version_major": 2,
       "version_minor": 0
      },
      "text/plain": [
       "Batches:   0%|          | 0/1 [00:00<?, ?it/s]"
      ]
     },
     "metadata": {},
     "output_type": "display_data"
    },
    {
     "name": "stderr",
     "output_type": "stream",
     "text": [
      "You're using a Qwen2TokenizerFast tokenizer. Please note that with a fast tokenizer, using the `__call__` method is faster than using a method to encode the text followed by a call to the `pad` method to get a padded encoding.\n"
     ]
    },
    {
     "data": {
      "application/vnd.jupyter.widget-view+json": {
       "model_id": "6b9b2f7dea6246f3a18509a0ae16a0b6",
       "version_major": 2,
       "version_minor": 0
      },
      "text/plain": [
       "Batches:   0%|          | 0/1 [00:00<?, ?it/s]"
      ]
     },
     "metadata": {},
     "output_type": "display_data"
    },
    {
     "name": "stderr",
     "output_type": "stream",
     "text": [
      "You're using a Qwen2TokenizerFast tokenizer. Please note that with a fast tokenizer, using the `__call__` method is faster than using a method to encode the text followed by a call to the `pad` method to get a padded encoding.\n"
     ]
    },
    {
     "data": {
      "application/vnd.jupyter.widget-view+json": {
       "model_id": "613bc83baa694ea59fcca876ad4387d9",
       "version_major": 2,
       "version_minor": 0
      },
      "text/plain": [
       "Batches:   0%|          | 0/1 [00:00<?, ?it/s]"
      ]
     },
     "metadata": {},
     "output_type": "display_data"
    },
    {
     "name": "stderr",
     "output_type": "stream",
     "text": [
      "You're using a Qwen2TokenizerFast tokenizer. Please note that with a fast tokenizer, using the `__call__` method is faster than using a method to encode the text followed by a call to the `pad` method to get a padded encoding.\n"
     ]
    },
    {
     "data": {
      "application/vnd.jupyter.widget-view+json": {
       "model_id": "f8a6893936904b538ee1f47602f2840b",
       "version_major": 2,
       "version_minor": 0
      },
      "text/plain": [
       "Batches:   0%|          | 0/1 [00:00<?, ?it/s]"
      ]
     },
     "metadata": {},
     "output_type": "display_data"
    },
    {
     "name": "stderr",
     "output_type": "stream",
     "text": [
      "You're using a Qwen2TokenizerFast tokenizer. Please note that with a fast tokenizer, using the `__call__` method is faster than using a method to encode the text followed by a call to the `pad` method to get a padded encoding.\n",
      "Processing rows:  12%|█▏        | 6/50 [00:49<06:07,  8.36s/row]"
     ]
    },
    {
     "data": {
      "application/vnd.jupyter.widget-view+json": {
       "model_id": "28fe1ae3ef284ef5b5de4e35653c177e",
       "version_major": 2,
       "version_minor": 0
      },
      "text/plain": [
       "Batches:   0%|          | 0/1 [00:00<?, ?it/s]"
      ]
     },
     "metadata": {},
     "output_type": "display_data"
    },
    {
     "name": "stderr",
     "output_type": "stream",
     "text": [
      "You're using a Qwen2TokenizerFast tokenizer. Please note that with a fast tokenizer, using the `__call__` method is faster than using a method to encode the text followed by a call to the `pad` method to get a padded encoding.\n"
     ]
    },
    {
     "data": {
      "application/vnd.jupyter.widget-view+json": {
       "model_id": "073d28d2b298431f9db10d1182fc5096",
       "version_major": 2,
       "version_minor": 0
      },
      "text/plain": [
       "Batches:   0%|          | 0/1 [00:00<?, ?it/s]"
      ]
     },
     "metadata": {},
     "output_type": "display_data"
    },
    {
     "name": "stderr",
     "output_type": "stream",
     "text": [
      "You're using a Qwen2TokenizerFast tokenizer. Please note that with a fast tokenizer, using the `__call__` method is faster than using a method to encode the text followed by a call to the `pad` method to get a padded encoding.\n"
     ]
    },
    {
     "data": {
      "application/vnd.jupyter.widget-view+json": {
       "model_id": "f28a6913d7ad46d3a7dcdfb308dd3456",
       "version_major": 2,
       "version_minor": 0
      },
      "text/plain": [
       "Batches:   0%|          | 0/1 [00:00<?, ?it/s]"
      ]
     },
     "metadata": {},
     "output_type": "display_data"
    },
    {
     "name": "stderr",
     "output_type": "stream",
     "text": [
      "You're using a Qwen2TokenizerFast tokenizer. Please note that with a fast tokenizer, using the `__call__` method is faster than using a method to encode the text followed by a call to the `pad` method to get a padded encoding.\n"
     ]
    },
    {
     "data": {
      "application/vnd.jupyter.widget-view+json": {
       "model_id": "dc83d56a6aa047a8b442fdd66dbfef6a",
       "version_major": 2,
       "version_minor": 0
      },
      "text/plain": [
       "Batches:   0%|          | 0/1 [00:00<?, ?it/s]"
      ]
     },
     "metadata": {},
     "output_type": "display_data"
    },
    {
     "name": "stderr",
     "output_type": "stream",
     "text": [
      "You're using a Qwen2TokenizerFast tokenizer. Please note that with a fast tokenizer, using the `__call__` method is faster than using a method to encode the text followed by a call to the `pad` method to get a padded encoding.\n",
      "Processing rows:  14%|█▍        | 7/50 [00:58<05:55,  8.26s/row]"
     ]
    },
    {
     "data": {
      "application/vnd.jupyter.widget-view+json": {
       "model_id": "6c4b878ef2744998abc71a1455516ee8",
       "version_major": 2,
       "version_minor": 0
      },
      "text/plain": [
       "Batches:   0%|          | 0/1 [00:00<?, ?it/s]"
      ]
     },
     "metadata": {},
     "output_type": "display_data"
    },
    {
     "name": "stderr",
     "output_type": "stream",
     "text": [
      "You're using a Qwen2TokenizerFast tokenizer. Please note that with a fast tokenizer, using the `__call__` method is faster than using a method to encode the text followed by a call to the `pad` method to get a padded encoding.\n"
     ]
    },
    {
     "data": {
      "application/vnd.jupyter.widget-view+json": {
       "model_id": "4f21a8f3283240e5b0b409638eb45941",
       "version_major": 2,
       "version_minor": 0
      },
      "text/plain": [
       "Batches:   0%|          | 0/1 [00:00<?, ?it/s]"
      ]
     },
     "metadata": {},
     "output_type": "display_data"
    },
    {
     "name": "stderr",
     "output_type": "stream",
     "text": [
      "You're using a Qwen2TokenizerFast tokenizer. Please note that with a fast tokenizer, using the `__call__` method is faster than using a method to encode the text followed by a call to the `pad` method to get a padded encoding.\n"
     ]
    },
    {
     "data": {
      "application/vnd.jupyter.widget-view+json": {
       "model_id": "712bf0e67d4c4867baa95d3101570ef0",
       "version_major": 2,
       "version_minor": 0
      },
      "text/plain": [
       "Batches:   0%|          | 0/1 [00:00<?, ?it/s]"
      ]
     },
     "metadata": {},
     "output_type": "display_data"
    },
    {
     "name": "stderr",
     "output_type": "stream",
     "text": [
      "You're using a Qwen2TokenizerFast tokenizer. Please note that with a fast tokenizer, using the `__call__` method is faster than using a method to encode the text followed by a call to the `pad` method to get a padded encoding.\n"
     ]
    },
    {
     "data": {
      "application/vnd.jupyter.widget-view+json": {
       "model_id": "bd4dade0b04e44eb9ac9f1e23c006674",
       "version_major": 2,
       "version_minor": 0
      },
      "text/plain": [
       "Batches:   0%|          | 0/1 [00:00<?, ?it/s]"
      ]
     },
     "metadata": {},
     "output_type": "display_data"
    },
    {
     "name": "stderr",
     "output_type": "stream",
     "text": [
      "You're using a Qwen2TokenizerFast tokenizer. Please note that with a fast tokenizer, using the `__call__` method is faster than using a method to encode the text followed by a call to the `pad` method to get a padded encoding.\n",
      "Processing rows:  16%|█▌        | 8/50 [01:06<05:45,  8.23s/row]"
     ]
    },
    {
     "data": {
      "application/vnd.jupyter.widget-view+json": {
       "model_id": "a9c63e82d1e542319694dc32b36f805d",
       "version_major": 2,
       "version_minor": 0
      },
      "text/plain": [
       "Batches:   0%|          | 0/1 [00:00<?, ?it/s]"
      ]
     },
     "metadata": {},
     "output_type": "display_data"
    },
    {
     "name": "stderr",
     "output_type": "stream",
     "text": [
      "You're using a Qwen2TokenizerFast tokenizer. Please note that with a fast tokenizer, using the `__call__` method is faster than using a method to encode the text followed by a call to the `pad` method to get a padded encoding.\n"
     ]
    },
    {
     "data": {
      "application/vnd.jupyter.widget-view+json": {
       "model_id": "120fd215ecf248ebb68a40c774b0aae1",
       "version_major": 2,
       "version_minor": 0
      },
      "text/plain": [
       "Batches:   0%|          | 0/1 [00:00<?, ?it/s]"
      ]
     },
     "metadata": {},
     "output_type": "display_data"
    },
    {
     "name": "stderr",
     "output_type": "stream",
     "text": [
      "You're using a Qwen2TokenizerFast tokenizer. Please note that with a fast tokenizer, using the `__call__` method is faster than using a method to encode the text followed by a call to the `pad` method to get a padded encoding.\n"
     ]
    },
    {
     "data": {
      "application/vnd.jupyter.widget-view+json": {
       "model_id": "e53298b387894a53bc240f12f0105ffc",
       "version_major": 2,
       "version_minor": 0
      },
      "text/plain": [
       "Batches:   0%|          | 0/1 [00:00<?, ?it/s]"
      ]
     },
     "metadata": {},
     "output_type": "display_data"
    },
    {
     "name": "stderr",
     "output_type": "stream",
     "text": [
      "You're using a Qwen2TokenizerFast tokenizer. Please note that with a fast tokenizer, using the `__call__` method is faster than using a method to encode the text followed by a call to the `pad` method to get a padded encoding.\n"
     ]
    },
    {
     "data": {
      "application/vnd.jupyter.widget-view+json": {
       "model_id": "6490bfca67be45bc97f38b5685bccd81",
       "version_major": 2,
       "version_minor": 0
      },
      "text/plain": [
       "Batches:   0%|          | 0/1 [00:00<?, ?it/s]"
      ]
     },
     "metadata": {},
     "output_type": "display_data"
    },
    {
     "name": "stderr",
     "output_type": "stream",
     "text": [
      "You're using a Qwen2TokenizerFast tokenizer. Please note that with a fast tokenizer, using the `__call__` method is faster than using a method to encode the text followed by a call to the `pad` method to get a padded encoding.\n",
      "Processing rows:  18%|█▊        | 9/50 [01:14<05:34,  8.17s/row]"
     ]
    },
    {
     "data": {
      "application/vnd.jupyter.widget-view+json": {
       "model_id": "52c8cc6a02a54edcb05d3335c0fa5e63",
       "version_major": 2,
       "version_minor": 0
      },
      "text/plain": [
       "Batches:   0%|          | 0/1 [00:00<?, ?it/s]"
      ]
     },
     "metadata": {},
     "output_type": "display_data"
    },
    {
     "name": "stderr",
     "output_type": "stream",
     "text": [
      "You're using a Qwen2TokenizerFast tokenizer. Please note that with a fast tokenizer, using the `__call__` method is faster than using a method to encode the text followed by a call to the `pad` method to get a padded encoding.\n"
     ]
    },
    {
     "data": {
      "application/vnd.jupyter.widget-view+json": {
       "model_id": "34a42bc18c6b49f8b3cfdb6055c4140b",
       "version_major": 2,
       "version_minor": 0
      },
      "text/plain": [
       "Batches:   0%|          | 0/1 [00:00<?, ?it/s]"
      ]
     },
     "metadata": {},
     "output_type": "display_data"
    },
    {
     "name": "stderr",
     "output_type": "stream",
     "text": [
      "You're using a Qwen2TokenizerFast tokenizer. Please note that with a fast tokenizer, using the `__call__` method is faster than using a method to encode the text followed by a call to the `pad` method to get a padded encoding.\n"
     ]
    },
    {
     "data": {
      "application/vnd.jupyter.widget-view+json": {
       "model_id": "7ca987f5974a4b53b3f2ba0cd7303a52",
       "version_major": 2,
       "version_minor": 0
      },
      "text/plain": [
       "Batches:   0%|          | 0/1 [00:00<?, ?it/s]"
      ]
     },
     "metadata": {},
     "output_type": "display_data"
    },
    {
     "name": "stderr",
     "output_type": "stream",
     "text": [
      "You're using a Qwen2TokenizerFast tokenizer. Please note that with a fast tokenizer, using the `__call__` method is faster than using a method to encode the text followed by a call to the `pad` method to get a padded encoding.\n"
     ]
    },
    {
     "data": {
      "application/vnd.jupyter.widget-view+json": {
       "model_id": "fda9cafde4b94a94827b4bb94b34c16d",
       "version_major": 2,
       "version_minor": 0
      },
      "text/plain": [
       "Batches:   0%|          | 0/1 [00:00<?, ?it/s]"
      ]
     },
     "metadata": {},
     "output_type": "display_data"
    },
    {
     "name": "stderr",
     "output_type": "stream",
     "text": [
      "You're using a Qwen2TokenizerFast tokenizer. Please note that with a fast tokenizer, using the `__call__` method is faster than using a method to encode the text followed by a call to the `pad` method to get a padded encoding.\n",
      "Processing rows:  20%|██        | 10/50 [01:22<05:30,  8.26s/row]"
     ]
    },
    {
     "data": {
      "application/vnd.jupyter.widget-view+json": {
       "model_id": "7d4da76fb8c54e51aa1536d08040c01f",
       "version_major": 2,
       "version_minor": 0
      },
      "text/plain": [
       "Batches:   0%|          | 0/1 [00:00<?, ?it/s]"
      ]
     },
     "metadata": {},
     "output_type": "display_data"
    },
    {
     "name": "stderr",
     "output_type": "stream",
     "text": [
      "You're using a Qwen2TokenizerFast tokenizer. Please note that with a fast tokenizer, using the `__call__` method is faster than using a method to encode the text followed by a call to the `pad` method to get a padded encoding.\n"
     ]
    },
    {
     "data": {
      "application/vnd.jupyter.widget-view+json": {
       "model_id": "1ecb310bbb6a49e99d250242315a6283",
       "version_major": 2,
       "version_minor": 0
      },
      "text/plain": [
       "Batches:   0%|          | 0/1 [00:00<?, ?it/s]"
      ]
     },
     "metadata": {},
     "output_type": "display_data"
    },
    {
     "name": "stderr",
     "output_type": "stream",
     "text": [
      "You're using a Qwen2TokenizerFast tokenizer. Please note that with a fast tokenizer, using the `__call__` method is faster than using a method to encode the text followed by a call to the `pad` method to get a padded encoding.\n"
     ]
    },
    {
     "data": {
      "application/vnd.jupyter.widget-view+json": {
       "model_id": "bcb3341ea99e402a9d7a916a2b19c3d6",
       "version_major": 2,
       "version_minor": 0
      },
      "text/plain": [
       "Batches:   0%|          | 0/1 [00:00<?, ?it/s]"
      ]
     },
     "metadata": {},
     "output_type": "display_data"
    },
    {
     "name": "stderr",
     "output_type": "stream",
     "text": [
      "You're using a Qwen2TokenizerFast tokenizer. Please note that with a fast tokenizer, using the `__call__` method is faster than using a method to encode the text followed by a call to the `pad` method to get a padded encoding.\n"
     ]
    },
    {
     "data": {
      "application/vnd.jupyter.widget-view+json": {
       "model_id": "cbf8c2f5b3394d5da94e248c96fc0014",
       "version_major": 2,
       "version_minor": 0
      },
      "text/plain": [
       "Batches:   0%|          | 0/1 [00:00<?, ?it/s]"
      ]
     },
     "metadata": {},
     "output_type": "display_data"
    },
    {
     "name": "stderr",
     "output_type": "stream",
     "text": [
      "You're using a Qwen2TokenizerFast tokenizer. Please note that with a fast tokenizer, using the `__call__` method is faster than using a method to encode the text followed by a call to the `pad` method to get a padded encoding.\n",
      "Processing rows:  22%|██▏       | 11/50 [01:30<05:22,  8.27s/row]"
     ]
    },
    {
     "data": {
      "application/vnd.jupyter.widget-view+json": {
       "model_id": "6f8429d1e21349f0b93f8fe625f3b6b3",
       "version_major": 2,
       "version_minor": 0
      },
      "text/plain": [
       "Batches:   0%|          | 0/1 [00:00<?, ?it/s]"
      ]
     },
     "metadata": {},
     "output_type": "display_data"
    },
    {
     "name": "stderr",
     "output_type": "stream",
     "text": [
      "You're using a Qwen2TokenizerFast tokenizer. Please note that with a fast tokenizer, using the `__call__` method is faster than using a method to encode the text followed by a call to the `pad` method to get a padded encoding.\n"
     ]
    },
    {
     "data": {
      "application/vnd.jupyter.widget-view+json": {
       "model_id": "900f41419000471983031ad5e2858c7e",
       "version_major": 2,
       "version_minor": 0
      },
      "text/plain": [
       "Batches:   0%|          | 0/1 [00:00<?, ?it/s]"
      ]
     },
     "metadata": {},
     "output_type": "display_data"
    },
    {
     "name": "stderr",
     "output_type": "stream",
     "text": [
      "You're using a Qwen2TokenizerFast tokenizer. Please note that with a fast tokenizer, using the `__call__` method is faster than using a method to encode the text followed by a call to the `pad` method to get a padded encoding.\n"
     ]
    },
    {
     "data": {
      "application/vnd.jupyter.widget-view+json": {
       "model_id": "f2f74317f25d4debac50f9c37d95451d",
       "version_major": 2,
       "version_minor": 0
      },
      "text/plain": [
       "Batches:   0%|          | 0/1 [00:00<?, ?it/s]"
      ]
     },
     "metadata": {},
     "output_type": "display_data"
    },
    {
     "name": "stderr",
     "output_type": "stream",
     "text": [
      "You're using a Qwen2TokenizerFast tokenizer. Please note that with a fast tokenizer, using the `__call__` method is faster than using a method to encode the text followed by a call to the `pad` method to get a padded encoding.\n"
     ]
    },
    {
     "data": {
      "application/vnd.jupyter.widget-view+json": {
       "model_id": "2226d2230a2446f79a9ac0272fcde331",
       "version_major": 2,
       "version_minor": 0
      },
      "text/plain": [
       "Batches:   0%|          | 0/1 [00:00<?, ?it/s]"
      ]
     },
     "metadata": {},
     "output_type": "display_data"
    },
    {
     "name": "stderr",
     "output_type": "stream",
     "text": [
      "You're using a Qwen2TokenizerFast tokenizer. Please note that with a fast tokenizer, using the `__call__` method is faster than using a method to encode the text followed by a call to the `pad` method to get a padded encoding.\n",
      "Processing rows:  24%|██▍       | 12/50 [01:39<05:18,  8.39s/row]"
     ]
    },
    {
     "data": {
      "application/vnd.jupyter.widget-view+json": {
       "model_id": "1ec275f33a8749a8a128b8cbba539831",
       "version_major": 2,
       "version_minor": 0
      },
      "text/plain": [
       "Batches:   0%|          | 0/1 [00:00<?, ?it/s]"
      ]
     },
     "metadata": {},
     "output_type": "display_data"
    },
    {
     "name": "stderr",
     "output_type": "stream",
     "text": [
      "You're using a Qwen2TokenizerFast tokenizer. Please note that with a fast tokenizer, using the `__call__` method is faster than using a method to encode the text followed by a call to the `pad` method to get a padded encoding.\n"
     ]
    },
    {
     "data": {
      "application/vnd.jupyter.widget-view+json": {
       "model_id": "779ec64eaa364943b9341cc9a23abe46",
       "version_major": 2,
       "version_minor": 0
      },
      "text/plain": [
       "Batches:   0%|          | 0/1 [00:00<?, ?it/s]"
      ]
     },
     "metadata": {},
     "output_type": "display_data"
    },
    {
     "name": "stderr",
     "output_type": "stream",
     "text": [
      "You're using a Qwen2TokenizerFast tokenizer. Please note that with a fast tokenizer, using the `__call__` method is faster than using a method to encode the text followed by a call to the `pad` method to get a padded encoding.\n"
     ]
    },
    {
     "data": {
      "application/vnd.jupyter.widget-view+json": {
       "model_id": "bb69d98a0db2459196368286961c670b",
       "version_major": 2,
       "version_minor": 0
      },
      "text/plain": [
       "Batches:   0%|          | 0/1 [00:00<?, ?it/s]"
      ]
     },
     "metadata": {},
     "output_type": "display_data"
    },
    {
     "name": "stderr",
     "output_type": "stream",
     "text": [
      "You're using a Qwen2TokenizerFast tokenizer. Please note that with a fast tokenizer, using the `__call__` method is faster than using a method to encode the text followed by a call to the `pad` method to get a padded encoding.\n"
     ]
    },
    {
     "data": {
      "application/vnd.jupyter.widget-view+json": {
       "model_id": "7a362620d5474082946ab84b8b9262be",
       "version_major": 2,
       "version_minor": 0
      },
      "text/plain": [
       "Batches:   0%|          | 0/1 [00:00<?, ?it/s]"
      ]
     },
     "metadata": {},
     "output_type": "display_data"
    },
    {
     "name": "stderr",
     "output_type": "stream",
     "text": [
      "You're using a Qwen2TokenizerFast tokenizer. Please note that with a fast tokenizer, using the `__call__` method is faster than using a method to encode the text followed by a call to the `pad` method to get a padded encoding.\n",
      "Processing rows:  26%|██▌       | 13/50 [01:47<05:06,  8.29s/row]"
     ]
    },
    {
     "data": {
      "application/vnd.jupyter.widget-view+json": {
       "model_id": "2f344cad0b0b422d83c441e32319b4eb",
       "version_major": 2,
       "version_minor": 0
      },
      "text/plain": [
       "Batches:   0%|          | 0/1 [00:00<?, ?it/s]"
      ]
     },
     "metadata": {},
     "output_type": "display_data"
    },
    {
     "name": "stderr",
     "output_type": "stream",
     "text": [
      "You're using a Qwen2TokenizerFast tokenizer. Please note that with a fast tokenizer, using the `__call__` method is faster than using a method to encode the text followed by a call to the `pad` method to get a padded encoding.\n"
     ]
    },
    {
     "data": {
      "application/vnd.jupyter.widget-view+json": {
       "model_id": "1c1a461a07c34e6db86bb50a76406d58",
       "version_major": 2,
       "version_minor": 0
      },
      "text/plain": [
       "Batches:   0%|          | 0/1 [00:00<?, ?it/s]"
      ]
     },
     "metadata": {},
     "output_type": "display_data"
    },
    {
     "name": "stderr",
     "output_type": "stream",
     "text": [
      "You're using a Qwen2TokenizerFast tokenizer. Please note that with a fast tokenizer, using the `__call__` method is faster than using a method to encode the text followed by a call to the `pad` method to get a padded encoding.\n"
     ]
    },
    {
     "data": {
      "application/vnd.jupyter.widget-view+json": {
       "model_id": "a79385cdaeb84be58b31971572d79e29",
       "version_major": 2,
       "version_minor": 0
      },
      "text/plain": [
       "Batches:   0%|          | 0/1 [00:00<?, ?it/s]"
      ]
     },
     "metadata": {},
     "output_type": "display_data"
    },
    {
     "name": "stderr",
     "output_type": "stream",
     "text": [
      "You're using a Qwen2TokenizerFast tokenizer. Please note that with a fast tokenizer, using the `__call__` method is faster than using a method to encode the text followed by a call to the `pad` method to get a padded encoding.\n"
     ]
    },
    {
     "data": {
      "application/vnd.jupyter.widget-view+json": {
       "model_id": "941b0a0e74ad4f068a9a750c49689071",
       "version_major": 2,
       "version_minor": 0
      },
      "text/plain": [
       "Batches:   0%|          | 0/1 [00:00<?, ?it/s]"
      ]
     },
     "metadata": {},
     "output_type": "display_data"
    },
    {
     "name": "stderr",
     "output_type": "stream",
     "text": [
      "You're using a Qwen2TokenizerFast tokenizer. Please note that with a fast tokenizer, using the `__call__` method is faster than using a method to encode the text followed by a call to the `pad` method to get a padded encoding.\n",
      "Processing rows:  28%|██▊       | 14/50 [01:55<04:56,  8.23s/row]"
     ]
    },
    {
     "data": {
      "application/vnd.jupyter.widget-view+json": {
       "model_id": "9032461d2ea24e88ba917e7f190d1a18",
       "version_major": 2,
       "version_minor": 0
      },
      "text/plain": [
       "Batches:   0%|          | 0/1 [00:00<?, ?it/s]"
      ]
     },
     "metadata": {},
     "output_type": "display_data"
    },
    {
     "name": "stderr",
     "output_type": "stream",
     "text": [
      "You're using a Qwen2TokenizerFast tokenizer. Please note that with a fast tokenizer, using the `__call__` method is faster than using a method to encode the text followed by a call to the `pad` method to get a padded encoding.\n"
     ]
    },
    {
     "data": {
      "application/vnd.jupyter.widget-view+json": {
       "model_id": "f1004289d7db4740a7c2e439a535dda3",
       "version_major": 2,
       "version_minor": 0
      },
      "text/plain": [
       "Batches:   0%|          | 0/1 [00:00<?, ?it/s]"
      ]
     },
     "metadata": {},
     "output_type": "display_data"
    },
    {
     "name": "stderr",
     "output_type": "stream",
     "text": [
      "You're using a Qwen2TokenizerFast tokenizer. Please note that with a fast tokenizer, using the `__call__` method is faster than using a method to encode the text followed by a call to the `pad` method to get a padded encoding.\n"
     ]
    },
    {
     "data": {
      "application/vnd.jupyter.widget-view+json": {
       "model_id": "b9079f9d188e449c9afbf4490c1d26dd",
       "version_major": 2,
       "version_minor": 0
      },
      "text/plain": [
       "Batches:   0%|          | 0/1 [00:00<?, ?it/s]"
      ]
     },
     "metadata": {},
     "output_type": "display_data"
    },
    {
     "name": "stderr",
     "output_type": "stream",
     "text": [
      "You're using a Qwen2TokenizerFast tokenizer. Please note that with a fast tokenizer, using the `__call__` method is faster than using a method to encode the text followed by a call to the `pad` method to get a padded encoding.\n"
     ]
    },
    {
     "data": {
      "application/vnd.jupyter.widget-view+json": {
       "model_id": "457bcafe8ccf454faef0e16cdc6e4ec3",
       "version_major": 2,
       "version_minor": 0
      },
      "text/plain": [
       "Batches:   0%|          | 0/1 [00:00<?, ?it/s]"
      ]
     },
     "metadata": {},
     "output_type": "display_data"
    },
    {
     "name": "stderr",
     "output_type": "stream",
     "text": [
      "You're using a Qwen2TokenizerFast tokenizer. Please note that with a fast tokenizer, using the `__call__` method is faster than using a method to encode the text followed by a call to the `pad` method to get a padded encoding.\n",
      "Processing rows:  30%|███       | 15/50 [02:04<04:51,  8.34s/row]"
     ]
    },
    {
     "data": {
      "application/vnd.jupyter.widget-view+json": {
       "model_id": "7a93c5ee88124d01b00391e1b4e4de7f",
       "version_major": 2,
       "version_minor": 0
      },
      "text/plain": [
       "Batches:   0%|          | 0/1 [00:00<?, ?it/s]"
      ]
     },
     "metadata": {},
     "output_type": "display_data"
    },
    {
     "name": "stderr",
     "output_type": "stream",
     "text": [
      "You're using a Qwen2TokenizerFast tokenizer. Please note that with a fast tokenizer, using the `__call__` method is faster than using a method to encode the text followed by a call to the `pad` method to get a padded encoding.\n"
     ]
    },
    {
     "data": {
      "application/vnd.jupyter.widget-view+json": {
       "model_id": "53f6dd03f82748da8c82b72aad890566",
       "version_major": 2,
       "version_minor": 0
      },
      "text/plain": [
       "Batches:   0%|          | 0/1 [00:00<?, ?it/s]"
      ]
     },
     "metadata": {},
     "output_type": "display_data"
    },
    {
     "name": "stderr",
     "output_type": "stream",
     "text": [
      "You're using a Qwen2TokenizerFast tokenizer. Please note that with a fast tokenizer, using the `__call__` method is faster than using a method to encode the text followed by a call to the `pad` method to get a padded encoding.\n"
     ]
    },
    {
     "data": {
      "application/vnd.jupyter.widget-view+json": {
       "model_id": "5f12f732fd5d49f2819072889b4f3ba8",
       "version_major": 2,
       "version_minor": 0
      },
      "text/plain": [
       "Batches:   0%|          | 0/1 [00:00<?, ?it/s]"
      ]
     },
     "metadata": {},
     "output_type": "display_data"
    },
    {
     "name": "stderr",
     "output_type": "stream",
     "text": [
      "You're using a Qwen2TokenizerFast tokenizer. Please note that with a fast tokenizer, using the `__call__` method is faster than using a method to encode the text followed by a call to the `pad` method to get a padded encoding.\n"
     ]
    },
    {
     "data": {
      "application/vnd.jupyter.widget-view+json": {
       "model_id": "f77f110a51b54206a6d0f5085761878d",
       "version_major": 2,
       "version_minor": 0
      },
      "text/plain": [
       "Batches:   0%|          | 0/1 [00:00<?, ?it/s]"
      ]
     },
     "metadata": {},
     "output_type": "display_data"
    },
    {
     "name": "stderr",
     "output_type": "stream",
     "text": [
      "You're using a Qwen2TokenizerFast tokenizer. Please note that with a fast tokenizer, using the `__call__` method is faster than using a method to encode the text followed by a call to the `pad` method to get a padded encoding.\n",
      "Processing rows:  32%|███▏      | 16/50 [02:12<04:36,  8.13s/row]"
     ]
    },
    {
     "data": {
      "application/vnd.jupyter.widget-view+json": {
       "model_id": "fd41a13c750b4682a9903c470ef15652",
       "version_major": 2,
       "version_minor": 0
      },
      "text/plain": [
       "Batches:   0%|          | 0/1 [00:00<?, ?it/s]"
      ]
     },
     "metadata": {},
     "output_type": "display_data"
    },
    {
     "name": "stderr",
     "output_type": "stream",
     "text": [
      "You're using a Qwen2TokenizerFast tokenizer. Please note that with a fast tokenizer, using the `__call__` method is faster than using a method to encode the text followed by a call to the `pad` method to get a padded encoding.\n"
     ]
    },
    {
     "data": {
      "application/vnd.jupyter.widget-view+json": {
       "model_id": "7b7a756313684e43ad1e62e24ea8e8fd",
       "version_major": 2,
       "version_minor": 0
      },
      "text/plain": [
       "Batches:   0%|          | 0/1 [00:00<?, ?it/s]"
      ]
     },
     "metadata": {},
     "output_type": "display_data"
    },
    {
     "name": "stderr",
     "output_type": "stream",
     "text": [
      "You're using a Qwen2TokenizerFast tokenizer. Please note that with a fast tokenizer, using the `__call__` method is faster than using a method to encode the text followed by a call to the `pad` method to get a padded encoding.\n"
     ]
    },
    {
     "data": {
      "application/vnd.jupyter.widget-view+json": {
       "model_id": "38b02120cb0640e693223b2aa3467d01",
       "version_major": 2,
       "version_minor": 0
      },
      "text/plain": [
       "Batches:   0%|          | 0/1 [00:00<?, ?it/s]"
      ]
     },
     "metadata": {},
     "output_type": "display_data"
    },
    {
     "name": "stderr",
     "output_type": "stream",
     "text": [
      "You're using a Qwen2TokenizerFast tokenizer. Please note that with a fast tokenizer, using the `__call__` method is faster than using a method to encode the text followed by a call to the `pad` method to get a padded encoding.\n"
     ]
    },
    {
     "data": {
      "application/vnd.jupyter.widget-view+json": {
       "model_id": "f3685b06b5364466b4e07c217ffe963b",
       "version_major": 2,
       "version_minor": 0
      },
      "text/plain": [
       "Batches:   0%|          | 0/1 [00:00<?, ?it/s]"
      ]
     },
     "metadata": {},
     "output_type": "display_data"
    },
    {
     "name": "stderr",
     "output_type": "stream",
     "text": [
      "You're using a Qwen2TokenizerFast tokenizer. Please note that with a fast tokenizer, using the `__call__` method is faster than using a method to encode the text followed by a call to the `pad` method to get a padded encoding.\n",
      "Processing rows:  34%|███▍      | 17/50 [02:20<04:30,  8.20s/row]"
     ]
    },
    {
     "data": {
      "application/vnd.jupyter.widget-view+json": {
       "model_id": "f93c638dd0ea44f29808cbc8a25b0040",
       "version_major": 2,
       "version_minor": 0
      },
      "text/plain": [
       "Batches:   0%|          | 0/1 [00:00<?, ?it/s]"
      ]
     },
     "metadata": {},
     "output_type": "display_data"
    },
    {
     "name": "stderr",
     "output_type": "stream",
     "text": [
      "You're using a Qwen2TokenizerFast tokenizer. Please note that with a fast tokenizer, using the `__call__` method is faster than using a method to encode the text followed by a call to the `pad` method to get a padded encoding.\n"
     ]
    },
    {
     "data": {
      "application/vnd.jupyter.widget-view+json": {
       "model_id": "3b2eafe93d084dd3b6749cfff64b6155",
       "version_major": 2,
       "version_minor": 0
      },
      "text/plain": [
       "Batches:   0%|          | 0/1 [00:00<?, ?it/s]"
      ]
     },
     "metadata": {},
     "output_type": "display_data"
    },
    {
     "name": "stderr",
     "output_type": "stream",
     "text": [
      "You're using a Qwen2TokenizerFast tokenizer. Please note that with a fast tokenizer, using the `__call__` method is faster than using a method to encode the text followed by a call to the `pad` method to get a padded encoding.\n"
     ]
    },
    {
     "data": {
      "application/vnd.jupyter.widget-view+json": {
       "model_id": "26d03fed4aec41cc81aae234440b9137",
       "version_major": 2,
       "version_minor": 0
      },
      "text/plain": [
       "Batches:   0%|          | 0/1 [00:00<?, ?it/s]"
      ]
     },
     "metadata": {},
     "output_type": "display_data"
    },
    {
     "name": "stderr",
     "output_type": "stream",
     "text": [
      "You're using a Qwen2TokenizerFast tokenizer. Please note that with a fast tokenizer, using the `__call__` method is faster than using a method to encode the text followed by a call to the `pad` method to get a padded encoding.\n"
     ]
    },
    {
     "data": {
      "application/vnd.jupyter.widget-view+json": {
       "model_id": "93a27e86bcad4dc4a5026bc547a7da7c",
       "version_major": 2,
       "version_minor": 0
      },
      "text/plain": [
       "Batches:   0%|          | 0/1 [00:00<?, ?it/s]"
      ]
     },
     "metadata": {},
     "output_type": "display_data"
    },
    {
     "name": "stderr",
     "output_type": "stream",
     "text": [
      "You're using a Qwen2TokenizerFast tokenizer. Please note that with a fast tokenizer, using the `__call__` method is faster than using a method to encode the text followed by a call to the `pad` method to get a padded encoding.\n",
      "Processing rows:  36%|███▌      | 18/50 [02:28<04:22,  8.20s/row]"
     ]
    },
    {
     "data": {
      "application/vnd.jupyter.widget-view+json": {
       "model_id": "df651ba29691469d9a3543d2f2987c74",
       "version_major": 2,
       "version_minor": 0
      },
      "text/plain": [
       "Batches:   0%|          | 0/1 [00:00<?, ?it/s]"
      ]
     },
     "metadata": {},
     "output_type": "display_data"
    },
    {
     "name": "stderr",
     "output_type": "stream",
     "text": [
      "You're using a Qwen2TokenizerFast tokenizer. Please note that with a fast tokenizer, using the `__call__` method is faster than using a method to encode the text followed by a call to the `pad` method to get a padded encoding.\n"
     ]
    },
    {
     "data": {
      "application/vnd.jupyter.widget-view+json": {
       "model_id": "83622e4776fa4cc9b2cbaf4dda92b7e0",
       "version_major": 2,
       "version_minor": 0
      },
      "text/plain": [
       "Batches:   0%|          | 0/1 [00:00<?, ?it/s]"
      ]
     },
     "metadata": {},
     "output_type": "display_data"
    },
    {
     "name": "stderr",
     "output_type": "stream",
     "text": [
      "You're using a Qwen2TokenizerFast tokenizer. Please note that with a fast tokenizer, using the `__call__` method is faster than using a method to encode the text followed by a call to the `pad` method to get a padded encoding.\n"
     ]
    },
    {
     "data": {
      "application/vnd.jupyter.widget-view+json": {
       "model_id": "181cf8d7f22540388e58c9a0bf38191f",
       "version_major": 2,
       "version_minor": 0
      },
      "text/plain": [
       "Batches:   0%|          | 0/1 [00:00<?, ?it/s]"
      ]
     },
     "metadata": {},
     "output_type": "display_data"
    },
    {
     "name": "stderr",
     "output_type": "stream",
     "text": [
      "You're using a Qwen2TokenizerFast tokenizer. Please note that with a fast tokenizer, using the `__call__` method is faster than using a method to encode the text followed by a call to the `pad` method to get a padded encoding.\n"
     ]
    },
    {
     "data": {
      "application/vnd.jupyter.widget-view+json": {
       "model_id": "28b4c292092c4e37967772847f7da84a",
       "version_major": 2,
       "version_minor": 0
      },
      "text/plain": [
       "Batches:   0%|          | 0/1 [00:00<?, ?it/s]"
      ]
     },
     "metadata": {},
     "output_type": "display_data"
    },
    {
     "name": "stderr",
     "output_type": "stream",
     "text": [
      "You're using a Qwen2TokenizerFast tokenizer. Please note that with a fast tokenizer, using the `__call__` method is faster than using a method to encode the text followed by a call to the `pad` method to get a padded encoding.\n",
      "Processing rows:  38%|███▊      | 19/50 [02:36<04:11,  8.10s/row]"
     ]
    },
    {
     "data": {
      "application/vnd.jupyter.widget-view+json": {
       "model_id": "e9b7384e961f43c0886c93b0502a5a52",
       "version_major": 2,
       "version_minor": 0
      },
      "text/plain": [
       "Batches:   0%|          | 0/1 [00:00<?, ?it/s]"
      ]
     },
     "metadata": {},
     "output_type": "display_data"
    },
    {
     "name": "stderr",
     "output_type": "stream",
     "text": [
      "You're using a Qwen2TokenizerFast tokenizer. Please note that with a fast tokenizer, using the `__call__` method is faster than using a method to encode the text followed by a call to the `pad` method to get a padded encoding.\n"
     ]
    },
    {
     "data": {
      "application/vnd.jupyter.widget-view+json": {
       "model_id": "425fd650ba324679883d3abdbf2273e2",
       "version_major": 2,
       "version_minor": 0
      },
      "text/plain": [
       "Batches:   0%|          | 0/1 [00:00<?, ?it/s]"
      ]
     },
     "metadata": {},
     "output_type": "display_data"
    },
    {
     "name": "stderr",
     "output_type": "stream",
     "text": [
      "You're using a Qwen2TokenizerFast tokenizer. Please note that with a fast tokenizer, using the `__call__` method is faster than using a method to encode the text followed by a call to the `pad` method to get a padded encoding.\n"
     ]
    },
    {
     "data": {
      "application/vnd.jupyter.widget-view+json": {
       "model_id": "8b0dff2abdcc4d78928b110f0a1dac8f",
       "version_major": 2,
       "version_minor": 0
      },
      "text/plain": [
       "Batches:   0%|          | 0/1 [00:00<?, ?it/s]"
      ]
     },
     "metadata": {},
     "output_type": "display_data"
    },
    {
     "name": "stderr",
     "output_type": "stream",
     "text": [
      "You're using a Qwen2TokenizerFast tokenizer. Please note that with a fast tokenizer, using the `__call__` method is faster than using a method to encode the text followed by a call to the `pad` method to get a padded encoding.\n"
     ]
    },
    {
     "data": {
      "application/vnd.jupyter.widget-view+json": {
       "model_id": "3afad8b56bf34b9da66fd6713be84eb3",
       "version_major": 2,
       "version_minor": 0
      },
      "text/plain": [
       "Batches:   0%|          | 0/1 [00:00<?, ?it/s]"
      ]
     },
     "metadata": {},
     "output_type": "display_data"
    },
    {
     "name": "stderr",
     "output_type": "stream",
     "text": [
      "You're using a Qwen2TokenizerFast tokenizer. Please note that with a fast tokenizer, using the `__call__` method is faster than using a method to encode the text followed by a call to the `pad` method to get a padded encoding.\n",
      "Processing rows:  40%|████      | 20/50 [02:44<03:59,  7.99s/row]"
     ]
    },
    {
     "data": {
      "application/vnd.jupyter.widget-view+json": {
       "model_id": "0f296f97a2234649a34d16fa417fce0a",
       "version_major": 2,
       "version_minor": 0
      },
      "text/plain": [
       "Batches:   0%|          | 0/1 [00:00<?, ?it/s]"
      ]
     },
     "metadata": {},
     "output_type": "display_data"
    },
    {
     "name": "stderr",
     "output_type": "stream",
     "text": [
      "You're using a Qwen2TokenizerFast tokenizer. Please note that with a fast tokenizer, using the `__call__` method is faster than using a method to encode the text followed by a call to the `pad` method to get a padded encoding.\n"
     ]
    },
    {
     "data": {
      "application/vnd.jupyter.widget-view+json": {
       "model_id": "d0b4a9a06b00482bab2ca46e4405bc1c",
       "version_major": 2,
       "version_minor": 0
      },
      "text/plain": [
       "Batches:   0%|          | 0/1 [00:00<?, ?it/s]"
      ]
     },
     "metadata": {},
     "output_type": "display_data"
    },
    {
     "name": "stderr",
     "output_type": "stream",
     "text": [
      "You're using a Qwen2TokenizerFast tokenizer. Please note that with a fast tokenizer, using the `__call__` method is faster than using a method to encode the text followed by a call to the `pad` method to get a padded encoding.\n"
     ]
    },
    {
     "data": {
      "application/vnd.jupyter.widget-view+json": {
       "model_id": "2196434e3ad544e38bd6a69f7fab4bbc",
       "version_major": 2,
       "version_minor": 0
      },
      "text/plain": [
       "Batches:   0%|          | 0/1 [00:00<?, ?it/s]"
      ]
     },
     "metadata": {},
     "output_type": "display_data"
    },
    {
     "name": "stderr",
     "output_type": "stream",
     "text": [
      "You're using a Qwen2TokenizerFast tokenizer. Please note that with a fast tokenizer, using the `__call__` method is faster than using a method to encode the text followed by a call to the `pad` method to get a padded encoding.\n"
     ]
    },
    {
     "data": {
      "application/vnd.jupyter.widget-view+json": {
       "model_id": "f32490f7cb9b4b6f9f5e06aed04e839c",
       "version_major": 2,
       "version_minor": 0
      },
      "text/plain": [
       "Batches:   0%|          | 0/1 [00:00<?, ?it/s]"
      ]
     },
     "metadata": {},
     "output_type": "display_data"
    },
    {
     "name": "stderr",
     "output_type": "stream",
     "text": [
      "You're using a Qwen2TokenizerFast tokenizer. Please note that with a fast tokenizer, using the `__call__` method is faster than using a method to encode the text followed by a call to the `pad` method to get a padded encoding.\n",
      "Processing rows:  42%|████▏     | 21/50 [02:52<03:50,  7.96s/row]"
     ]
    },
    {
     "data": {
      "application/vnd.jupyter.widget-view+json": {
       "model_id": "d45d981c330d450daa8a828f57498bc3",
       "version_major": 2,
       "version_minor": 0
      },
      "text/plain": [
       "Batches:   0%|          | 0/1 [00:00<?, ?it/s]"
      ]
     },
     "metadata": {},
     "output_type": "display_data"
    },
    {
     "name": "stderr",
     "output_type": "stream",
     "text": [
      "You're using a Qwen2TokenizerFast tokenizer. Please note that with a fast tokenizer, using the `__call__` method is faster than using a method to encode the text followed by a call to the `pad` method to get a padded encoding.\n"
     ]
    },
    {
     "data": {
      "application/vnd.jupyter.widget-view+json": {
       "model_id": "9cb2a71869fd4cebbbb6443fd7ee8f64",
       "version_major": 2,
       "version_minor": 0
      },
      "text/plain": [
       "Batches:   0%|          | 0/1 [00:00<?, ?it/s]"
      ]
     },
     "metadata": {},
     "output_type": "display_data"
    },
    {
     "name": "stderr",
     "output_type": "stream",
     "text": [
      "You're using a Qwen2TokenizerFast tokenizer. Please note that with a fast tokenizer, using the `__call__` method is faster than using a method to encode the text followed by a call to the `pad` method to get a padded encoding.\n"
     ]
    },
    {
     "data": {
      "application/vnd.jupyter.widget-view+json": {
       "model_id": "09babd0cae9040caa4e456f6a3dc5f9a",
       "version_major": 2,
       "version_minor": 0
      },
      "text/plain": [
       "Batches:   0%|          | 0/1 [00:00<?, ?it/s]"
      ]
     },
     "metadata": {},
     "output_type": "display_data"
    },
    {
     "name": "stderr",
     "output_type": "stream",
     "text": [
      "You're using a Qwen2TokenizerFast tokenizer. Please note that with a fast tokenizer, using the `__call__` method is faster than using a method to encode the text followed by a call to the `pad` method to get a padded encoding.\n"
     ]
    },
    {
     "data": {
      "application/vnd.jupyter.widget-view+json": {
       "model_id": "8eef33fa8adb4264946a0bd928c1ba9b",
       "version_major": 2,
       "version_minor": 0
      },
      "text/plain": [
       "Batches:   0%|          | 0/1 [00:00<?, ?it/s]"
      ]
     },
     "metadata": {},
     "output_type": "display_data"
    },
    {
     "name": "stderr",
     "output_type": "stream",
     "text": [
      "You're using a Qwen2TokenizerFast tokenizer. Please note that with a fast tokenizer, using the `__call__` method is faster than using a method to encode the text followed by a call to the `pad` method to get a padded encoding.\n",
      "Processing rows:  44%|████▍     | 22/50 [03:00<03:44,  8.02s/row]"
     ]
    },
    {
     "data": {
      "application/vnd.jupyter.widget-view+json": {
       "model_id": "fd79e9d30cf14670b3a6aa19c897422e",
       "version_major": 2,
       "version_minor": 0
      },
      "text/plain": [
       "Batches:   0%|          | 0/1 [00:00<?, ?it/s]"
      ]
     },
     "metadata": {},
     "output_type": "display_data"
    },
    {
     "name": "stderr",
     "output_type": "stream",
     "text": [
      "You're using a Qwen2TokenizerFast tokenizer. Please note that with a fast tokenizer, using the `__call__` method is faster than using a method to encode the text followed by a call to the `pad` method to get a padded encoding.\n"
     ]
    },
    {
     "data": {
      "application/vnd.jupyter.widget-view+json": {
       "model_id": "22d42aea439945bb8738161da52a5812",
       "version_major": 2,
       "version_minor": 0
      },
      "text/plain": [
       "Batches:   0%|          | 0/1 [00:00<?, ?it/s]"
      ]
     },
     "metadata": {},
     "output_type": "display_data"
    },
    {
     "name": "stderr",
     "output_type": "stream",
     "text": [
      "You're using a Qwen2TokenizerFast tokenizer. Please note that with a fast tokenizer, using the `__call__` method is faster than using a method to encode the text followed by a call to the `pad` method to get a padded encoding.\n"
     ]
    },
    {
     "data": {
      "application/vnd.jupyter.widget-view+json": {
       "model_id": "25dd690a7bb54ad38c63f97e47f521f3",
       "version_major": 2,
       "version_minor": 0
      },
      "text/plain": [
       "Batches:   0%|          | 0/1 [00:00<?, ?it/s]"
      ]
     },
     "metadata": {},
     "output_type": "display_data"
    },
    {
     "name": "stderr",
     "output_type": "stream",
     "text": [
      "You're using a Qwen2TokenizerFast tokenizer. Please note that with a fast tokenizer, using the `__call__` method is faster than using a method to encode the text followed by a call to the `pad` method to get a padded encoding.\n"
     ]
    },
    {
     "data": {
      "application/vnd.jupyter.widget-view+json": {
       "model_id": "5a01b6be766b46e68ba44d3102c3f41b",
       "version_major": 2,
       "version_minor": 0
      },
      "text/plain": [
       "Batches:   0%|          | 0/1 [00:00<?, ?it/s]"
      ]
     },
     "metadata": {},
     "output_type": "display_data"
    },
    {
     "name": "stderr",
     "output_type": "stream",
     "text": [
      "You're using a Qwen2TokenizerFast tokenizer. Please note that with a fast tokenizer, using the `__call__` method is faster than using a method to encode the text followed by a call to the `pad` method to get a padded encoding.\n",
      "Processing rows:  46%|████▌     | 23/50 [03:07<03:33,  7.92s/row]"
     ]
    },
    {
     "data": {
      "application/vnd.jupyter.widget-view+json": {
       "model_id": "717f4617b95f4a26824d3595368811c6",
       "version_major": 2,
       "version_minor": 0
      },
      "text/plain": [
       "Batches:   0%|          | 0/1 [00:00<?, ?it/s]"
      ]
     },
     "metadata": {},
     "output_type": "display_data"
    },
    {
     "name": "stderr",
     "output_type": "stream",
     "text": [
      "You're using a Qwen2TokenizerFast tokenizer. Please note that with a fast tokenizer, using the `__call__` method is faster than using a method to encode the text followed by a call to the `pad` method to get a padded encoding.\n"
     ]
    },
    {
     "data": {
      "application/vnd.jupyter.widget-view+json": {
       "model_id": "33edf4a6c2e5407ca18621daa0b588a4",
       "version_major": 2,
       "version_minor": 0
      },
      "text/plain": [
       "Batches:   0%|          | 0/1 [00:00<?, ?it/s]"
      ]
     },
     "metadata": {},
     "output_type": "display_data"
    },
    {
     "name": "stderr",
     "output_type": "stream",
     "text": [
      "You're using a Qwen2TokenizerFast tokenizer. Please note that with a fast tokenizer, using the `__call__` method is faster than using a method to encode the text followed by a call to the `pad` method to get a padded encoding.\n"
     ]
    },
    {
     "data": {
      "application/vnd.jupyter.widget-view+json": {
       "model_id": "2e6633ab4a36485ea8e6b9ff300250cc",
       "version_major": 2,
       "version_minor": 0
      },
      "text/plain": [
       "Batches:   0%|          | 0/1 [00:00<?, ?it/s]"
      ]
     },
     "metadata": {},
     "output_type": "display_data"
    },
    {
     "name": "stderr",
     "output_type": "stream",
     "text": [
      "You're using a Qwen2TokenizerFast tokenizer. Please note that with a fast tokenizer, using the `__call__` method is faster than using a method to encode the text followed by a call to the `pad` method to get a padded encoding.\n"
     ]
    },
    {
     "data": {
      "application/vnd.jupyter.widget-view+json": {
       "model_id": "02787de45fe747c681b2fa09fbdbe499",
       "version_major": 2,
       "version_minor": 0
      },
      "text/plain": [
       "Batches:   0%|          | 0/1 [00:00<?, ?it/s]"
      ]
     },
     "metadata": {},
     "output_type": "display_data"
    },
    {
     "name": "stderr",
     "output_type": "stream",
     "text": [
      "You're using a Qwen2TokenizerFast tokenizer. Please note that with a fast tokenizer, using the `__call__` method is faster than using a method to encode the text followed by a call to the `pad` method to get a padded encoding.\n",
      "Processing rows:  48%|████▊     | 24/50 [03:16<03:28,  8.01s/row]"
     ]
    },
    {
     "data": {
      "application/vnd.jupyter.widget-view+json": {
       "model_id": "e25cde65aba04064af0d9f6db9b04116",
       "version_major": 2,
       "version_minor": 0
      },
      "text/plain": [
       "Batches:   0%|          | 0/1 [00:00<?, ?it/s]"
      ]
     },
     "metadata": {},
     "output_type": "display_data"
    },
    {
     "name": "stderr",
     "output_type": "stream",
     "text": [
      "You're using a Qwen2TokenizerFast tokenizer. Please note that with a fast tokenizer, using the `__call__` method is faster than using a method to encode the text followed by a call to the `pad` method to get a padded encoding.\n"
     ]
    },
    {
     "data": {
      "application/vnd.jupyter.widget-view+json": {
       "model_id": "e52949f9703b40b08ad462b05529872a",
       "version_major": 2,
       "version_minor": 0
      },
      "text/plain": [
       "Batches:   0%|          | 0/1 [00:00<?, ?it/s]"
      ]
     },
     "metadata": {},
     "output_type": "display_data"
    },
    {
     "name": "stderr",
     "output_type": "stream",
     "text": [
      "You're using a Qwen2TokenizerFast tokenizer. Please note that with a fast tokenizer, using the `__call__` method is faster than using a method to encode the text followed by a call to the `pad` method to get a padded encoding.\n"
     ]
    },
    {
     "data": {
      "application/vnd.jupyter.widget-view+json": {
       "model_id": "b40431e773f14b59b35f20803ea6e1bf",
       "version_major": 2,
       "version_minor": 0
      },
      "text/plain": [
       "Batches:   0%|          | 0/1 [00:00<?, ?it/s]"
      ]
     },
     "metadata": {},
     "output_type": "display_data"
    },
    {
     "name": "stderr",
     "output_type": "stream",
     "text": [
      "You're using a Qwen2TokenizerFast tokenizer. Please note that with a fast tokenizer, using the `__call__` method is faster than using a method to encode the text followed by a call to the `pad` method to get a padded encoding.\n"
     ]
    },
    {
     "data": {
      "application/vnd.jupyter.widget-view+json": {
       "model_id": "25648eb618f04cbb8a7b707e9819716d",
       "version_major": 2,
       "version_minor": 0
      },
      "text/plain": [
       "Batches:   0%|          | 0/1 [00:00<?, ?it/s]"
      ]
     },
     "metadata": {},
     "output_type": "display_data"
    },
    {
     "name": "stderr",
     "output_type": "stream",
     "text": [
      "You're using a Qwen2TokenizerFast tokenizer. Please note that with a fast tokenizer, using the `__call__` method is faster than using a method to encode the text followed by a call to the `pad` method to get a padded encoding.\n",
      "Processing rows:  50%|█████     | 25/50 [03:24<03:20,  8.03s/row]"
     ]
    },
    {
     "data": {
      "application/vnd.jupyter.widget-view+json": {
       "model_id": "a9e91a5105804741bd20ca2296cf47e5",
       "version_major": 2,
       "version_minor": 0
      },
      "text/plain": [
       "Batches:   0%|          | 0/1 [00:00<?, ?it/s]"
      ]
     },
     "metadata": {},
     "output_type": "display_data"
    },
    {
     "name": "stderr",
     "output_type": "stream",
     "text": [
      "You're using a Qwen2TokenizerFast tokenizer. Please note that with a fast tokenizer, using the `__call__` method is faster than using a method to encode the text followed by a call to the `pad` method to get a padded encoding.\n"
     ]
    },
    {
     "data": {
      "application/vnd.jupyter.widget-view+json": {
       "model_id": "5af469fdd50b443eaf9d76c3a437da49",
       "version_major": 2,
       "version_minor": 0
      },
      "text/plain": [
       "Batches:   0%|          | 0/1 [00:00<?, ?it/s]"
      ]
     },
     "metadata": {},
     "output_type": "display_data"
    },
    {
     "name": "stderr",
     "output_type": "stream",
     "text": [
      "You're using a Qwen2TokenizerFast tokenizer. Please note that with a fast tokenizer, using the `__call__` method is faster than using a method to encode the text followed by a call to the `pad` method to get a padded encoding.\n"
     ]
    },
    {
     "data": {
      "application/vnd.jupyter.widget-view+json": {
       "model_id": "7a8c1107a77f4da6bb6a194bfbb3077c",
       "version_major": 2,
       "version_minor": 0
      },
      "text/plain": [
       "Batches:   0%|          | 0/1 [00:00<?, ?it/s]"
      ]
     },
     "metadata": {},
     "output_type": "display_data"
    },
    {
     "name": "stderr",
     "output_type": "stream",
     "text": [
      "You're using a Qwen2TokenizerFast tokenizer. Please note that with a fast tokenizer, using the `__call__` method is faster than using a method to encode the text followed by a call to the `pad` method to get a padded encoding.\n"
     ]
    },
    {
     "data": {
      "application/vnd.jupyter.widget-view+json": {
       "model_id": "e8dae14f7f7244f0be9192631933fc5e",
       "version_major": 2,
       "version_minor": 0
      },
      "text/plain": [
       "Batches:   0%|          | 0/1 [00:00<?, ?it/s]"
      ]
     },
     "metadata": {},
     "output_type": "display_data"
    },
    {
     "name": "stderr",
     "output_type": "stream",
     "text": [
      "You're using a Qwen2TokenizerFast tokenizer. Please note that with a fast tokenizer, using the `__call__` method is faster than using a method to encode the text followed by a call to the `pad` method to get a padded encoding.\n",
      "Processing rows:  52%|█████▏    | 26/50 [03:32<03:13,  8.07s/row]"
     ]
    },
    {
     "data": {
      "application/vnd.jupyter.widget-view+json": {
       "model_id": "1f11cb7e2ad54f8bb7035c7bbe39df23",
       "version_major": 2,
       "version_minor": 0
      },
      "text/plain": [
       "Batches:   0%|          | 0/1 [00:00<?, ?it/s]"
      ]
     },
     "metadata": {},
     "output_type": "display_data"
    },
    {
     "name": "stderr",
     "output_type": "stream",
     "text": [
      "You're using a Qwen2TokenizerFast tokenizer. Please note that with a fast tokenizer, using the `__call__` method is faster than using a method to encode the text followed by a call to the `pad` method to get a padded encoding.\n"
     ]
    },
    {
     "data": {
      "application/vnd.jupyter.widget-view+json": {
       "model_id": "c2aead0a8a1241e197ea73854900ceaa",
       "version_major": 2,
       "version_minor": 0
      },
      "text/plain": [
       "Batches:   0%|          | 0/1 [00:00<?, ?it/s]"
      ]
     },
     "metadata": {},
     "output_type": "display_data"
    },
    {
     "name": "stderr",
     "output_type": "stream",
     "text": [
      "You're using a Qwen2TokenizerFast tokenizer. Please note that with a fast tokenizer, using the `__call__` method is faster than using a method to encode the text followed by a call to the `pad` method to get a padded encoding.\n"
     ]
    },
    {
     "data": {
      "application/vnd.jupyter.widget-view+json": {
       "model_id": "753722b00ceb449884156eed3da5dc3f",
       "version_major": 2,
       "version_minor": 0
      },
      "text/plain": [
       "Batches:   0%|          | 0/1 [00:00<?, ?it/s]"
      ]
     },
     "metadata": {},
     "output_type": "display_data"
    },
    {
     "name": "stderr",
     "output_type": "stream",
     "text": [
      "You're using a Qwen2TokenizerFast tokenizer. Please note that with a fast tokenizer, using the `__call__` method is faster than using a method to encode the text followed by a call to the `pad` method to get a padded encoding.\n"
     ]
    },
    {
     "data": {
      "application/vnd.jupyter.widget-view+json": {
       "model_id": "6e5b26ca131842beb6d72cf79eb73e7c",
       "version_major": 2,
       "version_minor": 0
      },
      "text/plain": [
       "Batches:   0%|          | 0/1 [00:00<?, ?it/s]"
      ]
     },
     "metadata": {},
     "output_type": "display_data"
    },
    {
     "name": "stderr",
     "output_type": "stream",
     "text": [
      "You're using a Qwen2TokenizerFast tokenizer. Please note that with a fast tokenizer, using the `__call__` method is faster than using a method to encode the text followed by a call to the `pad` method to get a padded encoding.\n",
      "Processing rows:  54%|█████▍    | 27/50 [03:41<03:09,  8.25s/row]"
     ]
    },
    {
     "data": {
      "application/vnd.jupyter.widget-view+json": {
       "model_id": "7a9c22e3d3994379bd477a22a91e4cd3",
       "version_major": 2,
       "version_minor": 0
      },
      "text/plain": [
       "Batches:   0%|          | 0/1 [00:00<?, ?it/s]"
      ]
     },
     "metadata": {},
     "output_type": "display_data"
    },
    {
     "name": "stderr",
     "output_type": "stream",
     "text": [
      "You're using a Qwen2TokenizerFast tokenizer. Please note that with a fast tokenizer, using the `__call__` method is faster than using a method to encode the text followed by a call to the `pad` method to get a padded encoding.\n"
     ]
    },
    {
     "data": {
      "application/vnd.jupyter.widget-view+json": {
       "model_id": "1e50cb51ba3f4305a20170622a57c1ff",
       "version_major": 2,
       "version_minor": 0
      },
      "text/plain": [
       "Batches:   0%|          | 0/1 [00:00<?, ?it/s]"
      ]
     },
     "metadata": {},
     "output_type": "display_data"
    },
    {
     "name": "stderr",
     "output_type": "stream",
     "text": [
      "You're using a Qwen2TokenizerFast tokenizer. Please note that with a fast tokenizer, using the `__call__` method is faster than using a method to encode the text followed by a call to the `pad` method to get a padded encoding.\n"
     ]
    },
    {
     "data": {
      "application/vnd.jupyter.widget-view+json": {
       "model_id": "73700d2e3abf4226899956d8cd220efc",
       "version_major": 2,
       "version_minor": 0
      },
      "text/plain": [
       "Batches:   0%|          | 0/1 [00:00<?, ?it/s]"
      ]
     },
     "metadata": {},
     "output_type": "display_data"
    },
    {
     "name": "stderr",
     "output_type": "stream",
     "text": [
      "You're using a Qwen2TokenizerFast tokenizer. Please note that with a fast tokenizer, using the `__call__` method is faster than using a method to encode the text followed by a call to the `pad` method to get a padded encoding.\n"
     ]
    },
    {
     "data": {
      "application/vnd.jupyter.widget-view+json": {
       "model_id": "3fbe3b7d67584fc7862cb93e890e1cec",
       "version_major": 2,
       "version_minor": 0
      },
      "text/plain": [
       "Batches:   0%|          | 0/1 [00:00<?, ?it/s]"
      ]
     },
     "metadata": {},
     "output_type": "display_data"
    },
    {
     "name": "stderr",
     "output_type": "stream",
     "text": [
      "You're using a Qwen2TokenizerFast tokenizer. Please note that with a fast tokenizer, using the `__call__` method is faster than using a method to encode the text followed by a call to the `pad` method to get a padded encoding.\n",
      "Processing rows:  56%|█████▌    | 28/50 [03:48<02:57,  8.06s/row]"
     ]
    },
    {
     "data": {
      "application/vnd.jupyter.widget-view+json": {
       "model_id": "99ff043e4325433da68ee38ecc03a3c6",
       "version_major": 2,
       "version_minor": 0
      },
      "text/plain": [
       "Batches:   0%|          | 0/1 [00:00<?, ?it/s]"
      ]
     },
     "metadata": {},
     "output_type": "display_data"
    },
    {
     "name": "stderr",
     "output_type": "stream",
     "text": [
      "You're using a Qwen2TokenizerFast tokenizer. Please note that with a fast tokenizer, using the `__call__` method is faster than using a method to encode the text followed by a call to the `pad` method to get a padded encoding.\n"
     ]
    },
    {
     "data": {
      "application/vnd.jupyter.widget-view+json": {
       "model_id": "984fe3a0457047a3b466d9d1c95a970c",
       "version_major": 2,
       "version_minor": 0
      },
      "text/plain": [
       "Batches:   0%|          | 0/1 [00:00<?, ?it/s]"
      ]
     },
     "metadata": {},
     "output_type": "display_data"
    },
    {
     "name": "stderr",
     "output_type": "stream",
     "text": [
      "You're using a Qwen2TokenizerFast tokenizer. Please note that with a fast tokenizer, using the `__call__` method is faster than using a method to encode the text followed by a call to the `pad` method to get a padded encoding.\n"
     ]
    },
    {
     "data": {
      "application/vnd.jupyter.widget-view+json": {
       "model_id": "92f47b04431348d390d9921b37a426ad",
       "version_major": 2,
       "version_minor": 0
      },
      "text/plain": [
       "Batches:   0%|          | 0/1 [00:00<?, ?it/s]"
      ]
     },
     "metadata": {},
     "output_type": "display_data"
    },
    {
     "name": "stderr",
     "output_type": "stream",
     "text": [
      "You're using a Qwen2TokenizerFast tokenizer. Please note that with a fast tokenizer, using the `__call__` method is faster than using a method to encode the text followed by a call to the `pad` method to get a padded encoding.\n"
     ]
    },
    {
     "data": {
      "application/vnd.jupyter.widget-view+json": {
       "model_id": "af053044e43a44fa87c829779497854f",
       "version_major": 2,
       "version_minor": 0
      },
      "text/plain": [
       "Batches:   0%|          | 0/1 [00:00<?, ?it/s]"
      ]
     },
     "metadata": {},
     "output_type": "display_data"
    },
    {
     "name": "stderr",
     "output_type": "stream",
     "text": [
      "You're using a Qwen2TokenizerFast tokenizer. Please note that with a fast tokenizer, using the `__call__` method is faster than using a method to encode the text followed by a call to the `pad` method to get a padded encoding.\n",
      "Processing rows:  58%|█████▊    | 29/50 [03:56<02:50,  8.10s/row]"
     ]
    },
    {
     "data": {
      "application/vnd.jupyter.widget-view+json": {
       "model_id": "d7cdff8af3d4401e829522c030bacb2f",
       "version_major": 2,
       "version_minor": 0
      },
      "text/plain": [
       "Batches:   0%|          | 0/1 [00:00<?, ?it/s]"
      ]
     },
     "metadata": {},
     "output_type": "display_data"
    },
    {
     "name": "stderr",
     "output_type": "stream",
     "text": [
      "You're using a Qwen2TokenizerFast tokenizer. Please note that with a fast tokenizer, using the `__call__` method is faster than using a method to encode the text followed by a call to the `pad` method to get a padded encoding.\n"
     ]
    },
    {
     "data": {
      "application/vnd.jupyter.widget-view+json": {
       "model_id": "def39411eb004e049480d02635e13140",
       "version_major": 2,
       "version_minor": 0
      },
      "text/plain": [
       "Batches:   0%|          | 0/1 [00:00<?, ?it/s]"
      ]
     },
     "metadata": {},
     "output_type": "display_data"
    },
    {
     "name": "stderr",
     "output_type": "stream",
     "text": [
      "You're using a Qwen2TokenizerFast tokenizer. Please note that with a fast tokenizer, using the `__call__` method is faster than using a method to encode the text followed by a call to the `pad` method to get a padded encoding.\n"
     ]
    },
    {
     "data": {
      "application/vnd.jupyter.widget-view+json": {
       "model_id": "45b7d355cf62484bbfe16d46e1bd6389",
       "version_major": 2,
       "version_minor": 0
      },
      "text/plain": [
       "Batches:   0%|          | 0/1 [00:00<?, ?it/s]"
      ]
     },
     "metadata": {},
     "output_type": "display_data"
    },
    {
     "name": "stderr",
     "output_type": "stream",
     "text": [
      "You're using a Qwen2TokenizerFast tokenizer. Please note that with a fast tokenizer, using the `__call__` method is faster than using a method to encode the text followed by a call to the `pad` method to get a padded encoding.\n"
     ]
    },
    {
     "data": {
      "application/vnd.jupyter.widget-view+json": {
       "model_id": "39b5c0dbe30d4fc5aff26e4f1393859f",
       "version_major": 2,
       "version_minor": 0
      },
      "text/plain": [
       "Batches:   0%|          | 0/1 [00:00<?, ?it/s]"
      ]
     },
     "metadata": {},
     "output_type": "display_data"
    },
    {
     "name": "stderr",
     "output_type": "stream",
     "text": [
      "You're using a Qwen2TokenizerFast tokenizer. Please note that with a fast tokenizer, using the `__call__` method is faster than using a method to encode the text followed by a call to the `pad` method to get a padded encoding.\n",
      "Processing rows:  60%|██████    | 30/50 [04:04<02:41,  8.08s/row]"
     ]
    },
    {
     "data": {
      "application/vnd.jupyter.widget-view+json": {
       "model_id": "9e7ecc1ab90d42f8903d202028c918c8",
       "version_major": 2,
       "version_minor": 0
      },
      "text/plain": [
       "Batches:   0%|          | 0/1 [00:00<?, ?it/s]"
      ]
     },
     "metadata": {},
     "output_type": "display_data"
    },
    {
     "name": "stderr",
     "output_type": "stream",
     "text": [
      "You're using a Qwen2TokenizerFast tokenizer. Please note that with a fast tokenizer, using the `__call__` method is faster than using a method to encode the text followed by a call to the `pad` method to get a padded encoding.\n"
     ]
    },
    {
     "data": {
      "application/vnd.jupyter.widget-view+json": {
       "model_id": "1aa678ed18044c589bff7740a882ef26",
       "version_major": 2,
       "version_minor": 0
      },
      "text/plain": [
       "Batches:   0%|          | 0/1 [00:00<?, ?it/s]"
      ]
     },
     "metadata": {},
     "output_type": "display_data"
    },
    {
     "name": "stderr",
     "output_type": "stream",
     "text": [
      "You're using a Qwen2TokenizerFast tokenizer. Please note that with a fast tokenizer, using the `__call__` method is faster than using a method to encode the text followed by a call to the `pad` method to get a padded encoding.\n"
     ]
    },
    {
     "data": {
      "application/vnd.jupyter.widget-view+json": {
       "model_id": "2d724d5c204b4c08ab330c8c11846469",
       "version_major": 2,
       "version_minor": 0
      },
      "text/plain": [
       "Batches:   0%|          | 0/1 [00:00<?, ?it/s]"
      ]
     },
     "metadata": {},
     "output_type": "display_data"
    },
    {
     "name": "stderr",
     "output_type": "stream",
     "text": [
      "You're using a Qwen2TokenizerFast tokenizer. Please note that with a fast tokenizer, using the `__call__` method is faster than using a method to encode the text followed by a call to the `pad` method to get a padded encoding.\n"
     ]
    },
    {
     "data": {
      "application/vnd.jupyter.widget-view+json": {
       "model_id": "b4897cb9715144d69929e7416327de0d",
       "version_major": 2,
       "version_minor": 0
      },
      "text/plain": [
       "Batches:   0%|          | 0/1 [00:00<?, ?it/s]"
      ]
     },
     "metadata": {},
     "output_type": "display_data"
    },
    {
     "name": "stderr",
     "output_type": "stream",
     "text": [
      "You're using a Qwen2TokenizerFast tokenizer. Please note that with a fast tokenizer, using the `__call__` method is faster than using a method to encode the text followed by a call to the `pad` method to get a padded encoding.\n",
      "Processing rows:  62%|██████▏   | 31/50 [04:13<02:35,  8.17s/row]"
     ]
    },
    {
     "data": {
      "application/vnd.jupyter.widget-view+json": {
       "model_id": "800eddc0476740f180b30216f2c3692c",
       "version_major": 2,
       "version_minor": 0
      },
      "text/plain": [
       "Batches:   0%|          | 0/1 [00:00<?, ?it/s]"
      ]
     },
     "metadata": {},
     "output_type": "display_data"
    },
    {
     "name": "stderr",
     "output_type": "stream",
     "text": [
      "You're using a Qwen2TokenizerFast tokenizer. Please note that with a fast tokenizer, using the `__call__` method is faster than using a method to encode the text followed by a call to the `pad` method to get a padded encoding.\n"
     ]
    },
    {
     "data": {
      "application/vnd.jupyter.widget-view+json": {
       "model_id": "1f50747705954314bd27d5df2e7af276",
       "version_major": 2,
       "version_minor": 0
      },
      "text/plain": [
       "Batches:   0%|          | 0/1 [00:00<?, ?it/s]"
      ]
     },
     "metadata": {},
     "output_type": "display_data"
    },
    {
     "name": "stderr",
     "output_type": "stream",
     "text": [
      "You're using a Qwen2TokenizerFast tokenizer. Please note that with a fast tokenizer, using the `__call__` method is faster than using a method to encode the text followed by a call to the `pad` method to get a padded encoding.\n"
     ]
    },
    {
     "data": {
      "application/vnd.jupyter.widget-view+json": {
       "model_id": "372e9a680b1a4acc9c1444b246a50270",
       "version_major": 2,
       "version_minor": 0
      },
      "text/plain": [
       "Batches:   0%|          | 0/1 [00:00<?, ?it/s]"
      ]
     },
     "metadata": {},
     "output_type": "display_data"
    },
    {
     "name": "stderr",
     "output_type": "stream",
     "text": [
      "You're using a Qwen2TokenizerFast tokenizer. Please note that with a fast tokenizer, using the `__call__` method is faster than using a method to encode the text followed by a call to the `pad` method to get a padded encoding.\n"
     ]
    },
    {
     "data": {
      "application/vnd.jupyter.widget-view+json": {
       "model_id": "994434f387c245e18a23fa7278554f60",
       "version_major": 2,
       "version_minor": 0
      },
      "text/plain": [
       "Batches:   0%|          | 0/1 [00:00<?, ?it/s]"
      ]
     },
     "metadata": {},
     "output_type": "display_data"
    },
    {
     "name": "stderr",
     "output_type": "stream",
     "text": [
      "You're using a Qwen2TokenizerFast tokenizer. Please note that with a fast tokenizer, using the `__call__` method is faster than using a method to encode the text followed by a call to the `pad` method to get a padded encoding.\n",
      "Processing rows:  64%|██████▍   | 32/50 [04:21<02:25,  8.06s/row]"
     ]
    },
    {
     "data": {
      "application/vnd.jupyter.widget-view+json": {
       "model_id": "3903bdd2843743728d8de6a5555c1794",
       "version_major": 2,
       "version_minor": 0
      },
      "text/plain": [
       "Batches:   0%|          | 0/1 [00:00<?, ?it/s]"
      ]
     },
     "metadata": {},
     "output_type": "display_data"
    },
    {
     "name": "stderr",
     "output_type": "stream",
     "text": [
      "You're using a Qwen2TokenizerFast tokenizer. Please note that with a fast tokenizer, using the `__call__` method is faster than using a method to encode the text followed by a call to the `pad` method to get a padded encoding.\n"
     ]
    },
    {
     "data": {
      "application/vnd.jupyter.widget-view+json": {
       "model_id": "09b6916aa6e04f489a3cf41da55ff5df",
       "version_major": 2,
       "version_minor": 0
      },
      "text/plain": [
       "Batches:   0%|          | 0/1 [00:00<?, ?it/s]"
      ]
     },
     "metadata": {},
     "output_type": "display_data"
    },
    {
     "name": "stderr",
     "output_type": "stream",
     "text": [
      "You're using a Qwen2TokenizerFast tokenizer. Please note that with a fast tokenizer, using the `__call__` method is faster than using a method to encode the text followed by a call to the `pad` method to get a padded encoding.\n"
     ]
    },
    {
     "data": {
      "application/vnd.jupyter.widget-view+json": {
       "model_id": "05c7571ef3654889ac4f01f90cb758ae",
       "version_major": 2,
       "version_minor": 0
      },
      "text/plain": [
       "Batches:   0%|          | 0/1 [00:00<?, ?it/s]"
      ]
     },
     "metadata": {},
     "output_type": "display_data"
    },
    {
     "name": "stderr",
     "output_type": "stream",
     "text": [
      "You're using a Qwen2TokenizerFast tokenizer. Please note that with a fast tokenizer, using the `__call__` method is faster than using a method to encode the text followed by a call to the `pad` method to get a padded encoding.\n"
     ]
    },
    {
     "data": {
      "application/vnd.jupyter.widget-view+json": {
       "model_id": "d386cc39925841848c1fecabdbb97e30",
       "version_major": 2,
       "version_minor": 0
      },
      "text/plain": [
       "Batches:   0%|          | 0/1 [00:00<?, ?it/s]"
      ]
     },
     "metadata": {},
     "output_type": "display_data"
    },
    {
     "name": "stderr",
     "output_type": "stream",
     "text": [
      "You're using a Qwen2TokenizerFast tokenizer. Please note that with a fast tokenizer, using the `__call__` method is faster than using a method to encode the text followed by a call to the `pad` method to get a padded encoding.\n",
      "Processing rows:  66%|██████▌   | 33/50 [04:29<02:16,  8.05s/row]"
     ]
    },
    {
     "data": {
      "application/vnd.jupyter.widget-view+json": {
       "model_id": "d4cf999e658e4085a67247939dc44c1d",
       "version_major": 2,
       "version_minor": 0
      },
      "text/plain": [
       "Batches:   0%|          | 0/1 [00:00<?, ?it/s]"
      ]
     },
     "metadata": {},
     "output_type": "display_data"
    },
    {
     "name": "stderr",
     "output_type": "stream",
     "text": [
      "You're using a Qwen2TokenizerFast tokenizer. Please note that with a fast tokenizer, using the `__call__` method is faster than using a method to encode the text followed by a call to the `pad` method to get a padded encoding.\n"
     ]
    },
    {
     "data": {
      "application/vnd.jupyter.widget-view+json": {
       "model_id": "733289e69a0e46f28b0b506be984b773",
       "version_major": 2,
       "version_minor": 0
      },
      "text/plain": [
       "Batches:   0%|          | 0/1 [00:00<?, ?it/s]"
      ]
     },
     "metadata": {},
     "output_type": "display_data"
    },
    {
     "name": "stderr",
     "output_type": "stream",
     "text": [
      "You're using a Qwen2TokenizerFast tokenizer. Please note that with a fast tokenizer, using the `__call__` method is faster than using a method to encode the text followed by a call to the `pad` method to get a padded encoding.\n"
     ]
    },
    {
     "data": {
      "application/vnd.jupyter.widget-view+json": {
       "model_id": "c81af4be296a4a40801176201eeba29c",
       "version_major": 2,
       "version_minor": 0
      },
      "text/plain": [
       "Batches:   0%|          | 0/1 [00:00<?, ?it/s]"
      ]
     },
     "metadata": {},
     "output_type": "display_data"
    },
    {
     "name": "stderr",
     "output_type": "stream",
     "text": [
      "You're using a Qwen2TokenizerFast tokenizer. Please note that with a fast tokenizer, using the `__call__` method is faster than using a method to encode the text followed by a call to the `pad` method to get a padded encoding.\n"
     ]
    },
    {
     "data": {
      "application/vnd.jupyter.widget-view+json": {
       "model_id": "bcd430796ce34a798c67b39918148564",
       "version_major": 2,
       "version_minor": 0
      },
      "text/plain": [
       "Batches:   0%|          | 0/1 [00:00<?, ?it/s]"
      ]
     },
     "metadata": {},
     "output_type": "display_data"
    },
    {
     "name": "stderr",
     "output_type": "stream",
     "text": [
      "You're using a Qwen2TokenizerFast tokenizer. Please note that with a fast tokenizer, using the `__call__` method is faster than using a method to encode the text followed by a call to the `pad` method to get a padded encoding.\n",
      "Processing rows:  68%|██████▊   | 34/50 [04:37<02:09,  8.09s/row]"
     ]
    },
    {
     "data": {
      "application/vnd.jupyter.widget-view+json": {
       "model_id": "0f8409ed994d4bc288d40af1f1543103",
       "version_major": 2,
       "version_minor": 0
      },
      "text/plain": [
       "Batches:   0%|          | 0/1 [00:00<?, ?it/s]"
      ]
     },
     "metadata": {},
     "output_type": "display_data"
    },
    {
     "name": "stderr",
     "output_type": "stream",
     "text": [
      "You're using a Qwen2TokenizerFast tokenizer. Please note that with a fast tokenizer, using the `__call__` method is faster than using a method to encode the text followed by a call to the `pad` method to get a padded encoding.\n"
     ]
    },
    {
     "data": {
      "application/vnd.jupyter.widget-view+json": {
       "model_id": "07916ea351d8443281bf7c9a6e70adc3",
       "version_major": 2,
       "version_minor": 0
      },
      "text/plain": [
       "Batches:   0%|          | 0/1 [00:00<?, ?it/s]"
      ]
     },
     "metadata": {},
     "output_type": "display_data"
    },
    {
     "name": "stderr",
     "output_type": "stream",
     "text": [
      "You're using a Qwen2TokenizerFast tokenizer. Please note that with a fast tokenizer, using the `__call__` method is faster than using a method to encode the text followed by a call to the `pad` method to get a padded encoding.\n"
     ]
    },
    {
     "data": {
      "application/vnd.jupyter.widget-view+json": {
       "model_id": "c23bcc30f32f4ca895b49a10dcb7ea67",
       "version_major": 2,
       "version_minor": 0
      },
      "text/plain": [
       "Batches:   0%|          | 0/1 [00:00<?, ?it/s]"
      ]
     },
     "metadata": {},
     "output_type": "display_data"
    },
    {
     "name": "stderr",
     "output_type": "stream",
     "text": [
      "You're using a Qwen2TokenizerFast tokenizer. Please note that with a fast tokenizer, using the `__call__` method is faster than using a method to encode the text followed by a call to the `pad` method to get a padded encoding.\n"
     ]
    },
    {
     "data": {
      "application/vnd.jupyter.widget-view+json": {
       "model_id": "3f40780de38a479a9f30d77297fd576e",
       "version_major": 2,
       "version_minor": 0
      },
      "text/plain": [
       "Batches:   0%|          | 0/1 [00:00<?, ?it/s]"
      ]
     },
     "metadata": {},
     "output_type": "display_data"
    },
    {
     "name": "stderr",
     "output_type": "stream",
     "text": [
      "You're using a Qwen2TokenizerFast tokenizer. Please note that with a fast tokenizer, using the `__call__` method is faster than using a method to encode the text followed by a call to the `pad` method to get a padded encoding.\n",
      "Processing rows:  70%|███████   | 35/50 [04:45<02:00,  8.01s/row]"
     ]
    },
    {
     "data": {
      "application/vnd.jupyter.widget-view+json": {
       "model_id": "0579b4d2113246c5b289fd044f2f3bc6",
       "version_major": 2,
       "version_minor": 0
      },
      "text/plain": [
       "Batches:   0%|          | 0/1 [00:00<?, ?it/s]"
      ]
     },
     "metadata": {},
     "output_type": "display_data"
    },
    {
     "name": "stderr",
     "output_type": "stream",
     "text": [
      "You're using a Qwen2TokenizerFast tokenizer. Please note that with a fast tokenizer, using the `__call__` method is faster than using a method to encode the text followed by a call to the `pad` method to get a padded encoding.\n"
     ]
    },
    {
     "data": {
      "application/vnd.jupyter.widget-view+json": {
       "model_id": "1570aa1a61294a9d82289b5b4ba38abe",
       "version_major": 2,
       "version_minor": 0
      },
      "text/plain": [
       "Batches:   0%|          | 0/1 [00:00<?, ?it/s]"
      ]
     },
     "metadata": {},
     "output_type": "display_data"
    },
    {
     "name": "stderr",
     "output_type": "stream",
     "text": [
      "You're using a Qwen2TokenizerFast tokenizer. Please note that with a fast tokenizer, using the `__call__` method is faster than using a method to encode the text followed by a call to the `pad` method to get a padded encoding.\n"
     ]
    },
    {
     "data": {
      "application/vnd.jupyter.widget-view+json": {
       "model_id": "6f08e1597eae437aad4d903e35d6bae8",
       "version_major": 2,
       "version_minor": 0
      },
      "text/plain": [
       "Batches:   0%|          | 0/1 [00:00<?, ?it/s]"
      ]
     },
     "metadata": {},
     "output_type": "display_data"
    },
    {
     "name": "stderr",
     "output_type": "stream",
     "text": [
      "You're using a Qwen2TokenizerFast tokenizer. Please note that with a fast tokenizer, using the `__call__` method is faster than using a method to encode the text followed by a call to the `pad` method to get a padded encoding.\n"
     ]
    },
    {
     "data": {
      "application/vnd.jupyter.widget-view+json": {
       "model_id": "574ed8953c804fd4b7d7f04d545ded82",
       "version_major": 2,
       "version_minor": 0
      },
      "text/plain": [
       "Batches:   0%|          | 0/1 [00:00<?, ?it/s]"
      ]
     },
     "metadata": {},
     "output_type": "display_data"
    },
    {
     "name": "stderr",
     "output_type": "stream",
     "text": [
      "You're using a Qwen2TokenizerFast tokenizer. Please note that with a fast tokenizer, using the `__call__` method is faster than using a method to encode the text followed by a call to the `pad` method to get a padded encoding.\n",
      "Processing rows:  72%|███████▏  | 36/50 [04:53<01:52,  8.02s/row]"
     ]
    },
    {
     "data": {
      "application/vnd.jupyter.widget-view+json": {
       "model_id": "d8f0431edd0a4b0da75b728d36e81917",
       "version_major": 2,
       "version_minor": 0
      },
      "text/plain": [
       "Batches:   0%|          | 0/1 [00:00<?, ?it/s]"
      ]
     },
     "metadata": {},
     "output_type": "display_data"
    },
    {
     "name": "stderr",
     "output_type": "stream",
     "text": [
      "You're using a Qwen2TokenizerFast tokenizer. Please note that with a fast tokenizer, using the `__call__` method is faster than using a method to encode the text followed by a call to the `pad` method to get a padded encoding.\n"
     ]
    },
    {
     "data": {
      "application/vnd.jupyter.widget-view+json": {
       "model_id": "4e43c65e0c2c467592ade27cd45bc96b",
       "version_major": 2,
       "version_minor": 0
      },
      "text/plain": [
       "Batches:   0%|          | 0/1 [00:00<?, ?it/s]"
      ]
     },
     "metadata": {},
     "output_type": "display_data"
    },
    {
     "name": "stderr",
     "output_type": "stream",
     "text": [
      "You're using a Qwen2TokenizerFast tokenizer. Please note that with a fast tokenizer, using the `__call__` method is faster than using a method to encode the text followed by a call to the `pad` method to get a padded encoding.\n"
     ]
    },
    {
     "data": {
      "application/vnd.jupyter.widget-view+json": {
       "model_id": "12a14c005c7b4889b2f4fbc6fbfa4202",
       "version_major": 2,
       "version_minor": 0
      },
      "text/plain": [
       "Batches:   0%|          | 0/1 [00:00<?, ?it/s]"
      ]
     },
     "metadata": {},
     "output_type": "display_data"
    },
    {
     "name": "stderr",
     "output_type": "stream",
     "text": [
      "You're using a Qwen2TokenizerFast tokenizer. Please note that with a fast tokenizer, using the `__call__` method is faster than using a method to encode the text followed by a call to the `pad` method to get a padded encoding.\n"
     ]
    },
    {
     "data": {
      "application/vnd.jupyter.widget-view+json": {
       "model_id": "734ee3c4eeea41818ca583172f007948",
       "version_major": 2,
       "version_minor": 0
      },
      "text/plain": [
       "Batches:   0%|          | 0/1 [00:00<?, ?it/s]"
      ]
     },
     "metadata": {},
     "output_type": "display_data"
    },
    {
     "name": "stderr",
     "output_type": "stream",
     "text": [
      "You're using a Qwen2TokenizerFast tokenizer. Please note that with a fast tokenizer, using the `__call__` method is faster than using a method to encode the text followed by a call to the `pad` method to get a padded encoding.\n",
      "Processing rows:  74%|███████▍  | 37/50 [05:02<01:48,  8.35s/row]"
     ]
    },
    {
     "data": {
      "application/vnd.jupyter.widget-view+json": {
       "model_id": "a14588cc485748a68565c716a49a5b15",
       "version_major": 2,
       "version_minor": 0
      },
      "text/plain": [
       "Batches:   0%|          | 0/1 [00:00<?, ?it/s]"
      ]
     },
     "metadata": {},
     "output_type": "display_data"
    },
    {
     "name": "stderr",
     "output_type": "stream",
     "text": [
      "You're using a Qwen2TokenizerFast tokenizer. Please note that with a fast tokenizer, using the `__call__` method is faster than using a method to encode the text followed by a call to the `pad` method to get a padded encoding.\n"
     ]
    },
    {
     "data": {
      "application/vnd.jupyter.widget-view+json": {
       "model_id": "8e887556442543b685233f8d93a4f7ca",
       "version_major": 2,
       "version_minor": 0
      },
      "text/plain": [
       "Batches:   0%|          | 0/1 [00:00<?, ?it/s]"
      ]
     },
     "metadata": {},
     "output_type": "display_data"
    },
    {
     "name": "stderr",
     "output_type": "stream",
     "text": [
      "You're using a Qwen2TokenizerFast tokenizer. Please note that with a fast tokenizer, using the `__call__` method is faster than using a method to encode the text followed by a call to the `pad` method to get a padded encoding.\n"
     ]
    },
    {
     "data": {
      "application/vnd.jupyter.widget-view+json": {
       "model_id": "3239fbebaeed4023aa5bcbcd84c4909b",
       "version_major": 2,
       "version_minor": 0
      },
      "text/plain": [
       "Batches:   0%|          | 0/1 [00:00<?, ?it/s]"
      ]
     },
     "metadata": {},
     "output_type": "display_data"
    },
    {
     "name": "stderr",
     "output_type": "stream",
     "text": [
      "You're using a Qwen2TokenizerFast tokenizer. Please note that with a fast tokenizer, using the `__call__` method is faster than using a method to encode the text followed by a call to the `pad` method to get a padded encoding.\n"
     ]
    },
    {
     "data": {
      "application/vnd.jupyter.widget-view+json": {
       "model_id": "124717985b994bd9a3680a5a4330b396",
       "version_major": 2,
       "version_minor": 0
      },
      "text/plain": [
       "Batches:   0%|          | 0/1 [00:00<?, ?it/s]"
      ]
     },
     "metadata": {},
     "output_type": "display_data"
    },
    {
     "name": "stderr",
     "output_type": "stream",
     "text": [
      "You're using a Qwen2TokenizerFast tokenizer. Please note that with a fast tokenizer, using the `__call__` method is faster than using a method to encode the text followed by a call to the `pad` method to get a padded encoding.\n",
      "Processing rows:  76%|███████▌  | 38/50 [05:10<01:41,  8.42s/row]"
     ]
    },
    {
     "data": {
      "application/vnd.jupyter.widget-view+json": {
       "model_id": "9b45a44bfa8d4434abc3c1e4df1bf347",
       "version_major": 2,
       "version_minor": 0
      },
      "text/plain": [
       "Batches:   0%|          | 0/1 [00:00<?, ?it/s]"
      ]
     },
     "metadata": {},
     "output_type": "display_data"
    },
    {
     "name": "stderr",
     "output_type": "stream",
     "text": [
      "You're using a Qwen2TokenizerFast tokenizer. Please note that with a fast tokenizer, using the `__call__` method is faster than using a method to encode the text followed by a call to the `pad` method to get a padded encoding.\n"
     ]
    },
    {
     "data": {
      "application/vnd.jupyter.widget-view+json": {
       "model_id": "bcc7e36c9c62441f9411a107e7cd0c76",
       "version_major": 2,
       "version_minor": 0
      },
      "text/plain": [
       "Batches:   0%|          | 0/1 [00:00<?, ?it/s]"
      ]
     },
     "metadata": {},
     "output_type": "display_data"
    },
    {
     "name": "stderr",
     "output_type": "stream",
     "text": [
      "You're using a Qwen2TokenizerFast tokenizer. Please note that with a fast tokenizer, using the `__call__` method is faster than using a method to encode the text followed by a call to the `pad` method to get a padded encoding.\n"
     ]
    },
    {
     "data": {
      "application/vnd.jupyter.widget-view+json": {
       "model_id": "ff451b7187934b1f99f346a2b250c3da",
       "version_major": 2,
       "version_minor": 0
      },
      "text/plain": [
       "Batches:   0%|          | 0/1 [00:00<?, ?it/s]"
      ]
     },
     "metadata": {},
     "output_type": "display_data"
    },
    {
     "name": "stderr",
     "output_type": "stream",
     "text": [
      "You're using a Qwen2TokenizerFast tokenizer. Please note that with a fast tokenizer, using the `__call__` method is faster than using a method to encode the text followed by a call to the `pad` method to get a padded encoding.\n"
     ]
    },
    {
     "data": {
      "application/vnd.jupyter.widget-view+json": {
       "model_id": "0c8353cbf82f4db2abea9676f6884196",
       "version_major": 2,
       "version_minor": 0
      },
      "text/plain": [
       "Batches:   0%|          | 0/1 [00:00<?, ?it/s]"
      ]
     },
     "metadata": {},
     "output_type": "display_data"
    },
    {
     "name": "stderr",
     "output_type": "stream",
     "text": [
      "You're using a Qwen2TokenizerFast tokenizer. Please note that with a fast tokenizer, using the `__call__` method is faster than using a method to encode the text followed by a call to the `pad` method to get a padded encoding.\n",
      "Processing rows:  78%|███████▊  | 39/50 [05:19<01:33,  8.47s/row]"
     ]
    },
    {
     "data": {
      "application/vnd.jupyter.widget-view+json": {
       "model_id": "3fdca7ab7af84ef4bd034aa55b9a6bd5",
       "version_major": 2,
       "version_minor": 0
      },
      "text/plain": [
       "Batches:   0%|          | 0/1 [00:00<?, ?it/s]"
      ]
     },
     "metadata": {},
     "output_type": "display_data"
    },
    {
     "name": "stderr",
     "output_type": "stream",
     "text": [
      "You're using a Qwen2TokenizerFast tokenizer. Please note that with a fast tokenizer, using the `__call__` method is faster than using a method to encode the text followed by a call to the `pad` method to get a padded encoding.\n"
     ]
    },
    {
     "data": {
      "application/vnd.jupyter.widget-view+json": {
       "model_id": "152a19c81ec249ccb3fde4f8f8450c3c",
       "version_major": 2,
       "version_minor": 0
      },
      "text/plain": [
       "Batches:   0%|          | 0/1 [00:00<?, ?it/s]"
      ]
     },
     "metadata": {},
     "output_type": "display_data"
    },
    {
     "name": "stderr",
     "output_type": "stream",
     "text": [
      "You're using a Qwen2TokenizerFast tokenizer. Please note that with a fast tokenizer, using the `__call__` method is faster than using a method to encode the text followed by a call to the `pad` method to get a padded encoding.\n"
     ]
    },
    {
     "data": {
      "application/vnd.jupyter.widget-view+json": {
       "model_id": "77fd9f3da87b4d65b0261af38163942a",
       "version_major": 2,
       "version_minor": 0
      },
      "text/plain": [
       "Batches:   0%|          | 0/1 [00:00<?, ?it/s]"
      ]
     },
     "metadata": {},
     "output_type": "display_data"
    },
    {
     "name": "stderr",
     "output_type": "stream",
     "text": [
      "You're using a Qwen2TokenizerFast tokenizer. Please note that with a fast tokenizer, using the `__call__` method is faster than using a method to encode the text followed by a call to the `pad` method to get a padded encoding.\n"
     ]
    },
    {
     "data": {
      "application/vnd.jupyter.widget-view+json": {
       "model_id": "3b2ccc004a934b3c9fbdd05bc1154b44",
       "version_major": 2,
       "version_minor": 0
      },
      "text/plain": [
       "Batches:   0%|          | 0/1 [00:00<?, ?it/s]"
      ]
     },
     "metadata": {},
     "output_type": "display_data"
    },
    {
     "name": "stderr",
     "output_type": "stream",
     "text": [
      "You're using a Qwen2TokenizerFast tokenizer. Please note that with a fast tokenizer, using the `__call__` method is faster than using a method to encode the text followed by a call to the `pad` method to get a padded encoding.\n",
      "Processing rows:  80%|████████  | 40/50 [05:27<01:24,  8.43s/row]"
     ]
    },
    {
     "data": {
      "application/vnd.jupyter.widget-view+json": {
       "model_id": "7e106455255147feaf15407871889c8d",
       "version_major": 2,
       "version_minor": 0
      },
      "text/plain": [
       "Batches:   0%|          | 0/1 [00:00<?, ?it/s]"
      ]
     },
     "metadata": {},
     "output_type": "display_data"
    },
    {
     "name": "stderr",
     "output_type": "stream",
     "text": [
      "You're using a Qwen2TokenizerFast tokenizer. Please note that with a fast tokenizer, using the `__call__` method is faster than using a method to encode the text followed by a call to the `pad` method to get a padded encoding.\n"
     ]
    },
    {
     "data": {
      "application/vnd.jupyter.widget-view+json": {
       "model_id": "4740361fba9845a3808ad5eddcf06ca8",
       "version_major": 2,
       "version_minor": 0
      },
      "text/plain": [
       "Batches:   0%|          | 0/1 [00:00<?, ?it/s]"
      ]
     },
     "metadata": {},
     "output_type": "display_data"
    },
    {
     "name": "stderr",
     "output_type": "stream",
     "text": [
      "You're using a Qwen2TokenizerFast tokenizer. Please note that with a fast tokenizer, using the `__call__` method is faster than using a method to encode the text followed by a call to the `pad` method to get a padded encoding.\n"
     ]
    },
    {
     "data": {
      "application/vnd.jupyter.widget-view+json": {
       "model_id": "5c524c7abe0344cb9cfdc43f65bc748d",
       "version_major": 2,
       "version_minor": 0
      },
      "text/plain": [
       "Batches:   0%|          | 0/1 [00:00<?, ?it/s]"
      ]
     },
     "metadata": {},
     "output_type": "display_data"
    },
    {
     "name": "stderr",
     "output_type": "stream",
     "text": [
      "You're using a Qwen2TokenizerFast tokenizer. Please note that with a fast tokenizer, using the `__call__` method is faster than using a method to encode the text followed by a call to the `pad` method to get a padded encoding.\n"
     ]
    },
    {
     "data": {
      "application/vnd.jupyter.widget-view+json": {
       "model_id": "380857d950f544e6af8f151ef6296c65",
       "version_major": 2,
       "version_minor": 0
      },
      "text/plain": [
       "Batches:   0%|          | 0/1 [00:00<?, ?it/s]"
      ]
     },
     "metadata": {},
     "output_type": "display_data"
    },
    {
     "name": "stderr",
     "output_type": "stream",
     "text": [
      "You're using a Qwen2TokenizerFast tokenizer. Please note that with a fast tokenizer, using the `__call__` method is faster than using a method to encode the text followed by a call to the `pad` method to get a padded encoding.\n",
      "Processing rows:  82%|████████▏ | 41/50 [05:35<01:14,  8.26s/row]"
     ]
    },
    {
     "data": {
      "application/vnd.jupyter.widget-view+json": {
       "model_id": "f3174fdd5ad44095be2196a8b9541050",
       "version_major": 2,
       "version_minor": 0
      },
      "text/plain": [
       "Batches:   0%|          | 0/1 [00:00<?, ?it/s]"
      ]
     },
     "metadata": {},
     "output_type": "display_data"
    },
    {
     "name": "stderr",
     "output_type": "stream",
     "text": [
      "You're using a Qwen2TokenizerFast tokenizer. Please note that with a fast tokenizer, using the `__call__` method is faster than using a method to encode the text followed by a call to the `pad` method to get a padded encoding.\n"
     ]
    },
    {
     "data": {
      "application/vnd.jupyter.widget-view+json": {
       "model_id": "a2ba16979d8f4eafa7575777bbd760f2",
       "version_major": 2,
       "version_minor": 0
      },
      "text/plain": [
       "Batches:   0%|          | 0/1 [00:00<?, ?it/s]"
      ]
     },
     "metadata": {},
     "output_type": "display_data"
    },
    {
     "name": "stderr",
     "output_type": "stream",
     "text": [
      "You're using a Qwen2TokenizerFast tokenizer. Please note that with a fast tokenizer, using the `__call__` method is faster than using a method to encode the text followed by a call to the `pad` method to get a padded encoding.\n"
     ]
    },
    {
     "data": {
      "application/vnd.jupyter.widget-view+json": {
       "model_id": "9e7e0fc469794e9190d26a8612375b92",
       "version_major": 2,
       "version_minor": 0
      },
      "text/plain": [
       "Batches:   0%|          | 0/1 [00:00<?, ?it/s]"
      ]
     },
     "metadata": {},
     "output_type": "display_data"
    },
    {
     "name": "stderr",
     "output_type": "stream",
     "text": [
      "You're using a Qwen2TokenizerFast tokenizer. Please note that with a fast tokenizer, using the `__call__` method is faster than using a method to encode the text followed by a call to the `pad` method to get a padded encoding.\n"
     ]
    },
    {
     "data": {
      "application/vnd.jupyter.widget-view+json": {
       "model_id": "f3874ff729e347bdadd994e0817524d6",
       "version_major": 2,
       "version_minor": 0
      },
      "text/plain": [
       "Batches:   0%|          | 0/1 [00:00<?, ?it/s]"
      ]
     },
     "metadata": {},
     "output_type": "display_data"
    },
    {
     "name": "stderr",
     "output_type": "stream",
     "text": [
      "You're using a Qwen2TokenizerFast tokenizer. Please note that with a fast tokenizer, using the `__call__` method is faster than using a method to encode the text followed by a call to the `pad` method to get a padded encoding.\n",
      "Processing rows:  84%|████████▍ | 42/50 [05:43<01:05,  8.17s/row]"
     ]
    },
    {
     "data": {
      "application/vnd.jupyter.widget-view+json": {
       "model_id": "bfd9423bf4554e4ab1c3cf4bc0af8685",
       "version_major": 2,
       "version_minor": 0
      },
      "text/plain": [
       "Batches:   0%|          | 0/1 [00:00<?, ?it/s]"
      ]
     },
     "metadata": {},
     "output_type": "display_data"
    },
    {
     "name": "stderr",
     "output_type": "stream",
     "text": [
      "You're using a Qwen2TokenizerFast tokenizer. Please note that with a fast tokenizer, using the `__call__` method is faster than using a method to encode the text followed by a call to the `pad` method to get a padded encoding.\n"
     ]
    },
    {
     "data": {
      "application/vnd.jupyter.widget-view+json": {
       "model_id": "992716e8f9e14e99b39edf2c922ba567",
       "version_major": 2,
       "version_minor": 0
      },
      "text/plain": [
       "Batches:   0%|          | 0/1 [00:00<?, ?it/s]"
      ]
     },
     "metadata": {},
     "output_type": "display_data"
    },
    {
     "name": "stderr",
     "output_type": "stream",
     "text": [
      "You're using a Qwen2TokenizerFast tokenizer. Please note that with a fast tokenizer, using the `__call__` method is faster than using a method to encode the text followed by a call to the `pad` method to get a padded encoding.\n"
     ]
    },
    {
     "data": {
      "application/vnd.jupyter.widget-view+json": {
       "model_id": "341ac1f7f21f42cdb8e9abd3ebacd412",
       "version_major": 2,
       "version_minor": 0
      },
      "text/plain": [
       "Batches:   0%|          | 0/1 [00:00<?, ?it/s]"
      ]
     },
     "metadata": {},
     "output_type": "display_data"
    },
    {
     "name": "stderr",
     "output_type": "stream",
     "text": [
      "You're using a Qwen2TokenizerFast tokenizer. Please note that with a fast tokenizer, using the `__call__` method is faster than using a method to encode the text followed by a call to the `pad` method to get a padded encoding.\n"
     ]
    },
    {
     "data": {
      "application/vnd.jupyter.widget-view+json": {
       "model_id": "3296ecd1bdd0472f9a6fe1c9ba332dad",
       "version_major": 2,
       "version_minor": 0
      },
      "text/plain": [
       "Batches:   0%|          | 0/1 [00:00<?, ?it/s]"
      ]
     },
     "metadata": {},
     "output_type": "display_data"
    },
    {
     "name": "stderr",
     "output_type": "stream",
     "text": [
      "You're using a Qwen2TokenizerFast tokenizer. Please note that with a fast tokenizer, using the `__call__` method is faster than using a method to encode the text followed by a call to the `pad` method to get a padded encoding.\n",
      "Processing rows:  86%|████████▌ | 43/50 [05:51<00:56,  8.06s/row]"
     ]
    },
    {
     "data": {
      "application/vnd.jupyter.widget-view+json": {
       "model_id": "e6f3b45550824487ab1a3b34f39dbb7a",
       "version_major": 2,
       "version_minor": 0
      },
      "text/plain": [
       "Batches:   0%|          | 0/1 [00:00<?, ?it/s]"
      ]
     },
     "metadata": {},
     "output_type": "display_data"
    },
    {
     "name": "stderr",
     "output_type": "stream",
     "text": [
      "You're using a Qwen2TokenizerFast tokenizer. Please note that with a fast tokenizer, using the `__call__` method is faster than using a method to encode the text followed by a call to the `pad` method to get a padded encoding.\n"
     ]
    },
    {
     "data": {
      "application/vnd.jupyter.widget-view+json": {
       "model_id": "52e4e10c02374f3885f93d546e72f271",
       "version_major": 2,
       "version_minor": 0
      },
      "text/plain": [
       "Batches:   0%|          | 0/1 [00:00<?, ?it/s]"
      ]
     },
     "metadata": {},
     "output_type": "display_data"
    },
    {
     "name": "stderr",
     "output_type": "stream",
     "text": [
      "You're using a Qwen2TokenizerFast tokenizer. Please note that with a fast tokenizer, using the `__call__` method is faster than using a method to encode the text followed by a call to the `pad` method to get a padded encoding.\n"
     ]
    },
    {
     "data": {
      "application/vnd.jupyter.widget-view+json": {
       "model_id": "cdb84948894344daaae43a9a0fc2ab93",
       "version_major": 2,
       "version_minor": 0
      },
      "text/plain": [
       "Batches:   0%|          | 0/1 [00:00<?, ?it/s]"
      ]
     },
     "metadata": {},
     "output_type": "display_data"
    },
    {
     "name": "stderr",
     "output_type": "stream",
     "text": [
      "You're using a Qwen2TokenizerFast tokenizer. Please note that with a fast tokenizer, using the `__call__` method is faster than using a method to encode the text followed by a call to the `pad` method to get a padded encoding.\n"
     ]
    },
    {
     "data": {
      "application/vnd.jupyter.widget-view+json": {
       "model_id": "0edc9e5e4c85489098d429e8df988fe7",
       "version_major": 2,
       "version_minor": 0
      },
      "text/plain": [
       "Batches:   0%|          | 0/1 [00:00<?, ?it/s]"
      ]
     },
     "metadata": {},
     "output_type": "display_data"
    },
    {
     "name": "stderr",
     "output_type": "stream",
     "text": [
      "You're using a Qwen2TokenizerFast tokenizer. Please note that with a fast tokenizer, using the `__call__` method is faster than using a method to encode the text followed by a call to the `pad` method to get a padded encoding.\n",
      "Processing rows:  88%|████████▊ | 44/50 [05:59<00:48,  8.16s/row]"
     ]
    },
    {
     "data": {
      "application/vnd.jupyter.widget-view+json": {
       "model_id": "02c3120bc6b0435e97a73b5ffd60e326",
       "version_major": 2,
       "version_minor": 0
      },
      "text/plain": [
       "Batches:   0%|          | 0/1 [00:00<?, ?it/s]"
      ]
     },
     "metadata": {},
     "output_type": "display_data"
    },
    {
     "name": "stderr",
     "output_type": "stream",
     "text": [
      "You're using a Qwen2TokenizerFast tokenizer. Please note that with a fast tokenizer, using the `__call__` method is faster than using a method to encode the text followed by a call to the `pad` method to get a padded encoding.\n"
     ]
    },
    {
     "data": {
      "application/vnd.jupyter.widget-view+json": {
       "model_id": "fef3f6d57fcb45d5ab4b5954f6674504",
       "version_major": 2,
       "version_minor": 0
      },
      "text/plain": [
       "Batches:   0%|          | 0/1 [00:00<?, ?it/s]"
      ]
     },
     "metadata": {},
     "output_type": "display_data"
    },
    {
     "name": "stderr",
     "output_type": "stream",
     "text": [
      "You're using a Qwen2TokenizerFast tokenizer. Please note that with a fast tokenizer, using the `__call__` method is faster than using a method to encode the text followed by a call to the `pad` method to get a padded encoding.\n"
     ]
    },
    {
     "data": {
      "application/vnd.jupyter.widget-view+json": {
       "model_id": "e4e304c145404af5924180d0bc459852",
       "version_major": 2,
       "version_minor": 0
      },
      "text/plain": [
       "Batches:   0%|          | 0/1 [00:00<?, ?it/s]"
      ]
     },
     "metadata": {},
     "output_type": "display_data"
    },
    {
     "name": "stderr",
     "output_type": "stream",
     "text": [
      "You're using a Qwen2TokenizerFast tokenizer. Please note that with a fast tokenizer, using the `__call__` method is faster than using a method to encode the text followed by a call to the `pad` method to get a padded encoding.\n"
     ]
    },
    {
     "data": {
      "application/vnd.jupyter.widget-view+json": {
       "model_id": "9b47925baa6d4c698a071f003c672a86",
       "version_major": 2,
       "version_minor": 0
      },
      "text/plain": [
       "Batches:   0%|          | 0/1 [00:00<?, ?it/s]"
      ]
     },
     "metadata": {},
     "output_type": "display_data"
    },
    {
     "name": "stderr",
     "output_type": "stream",
     "text": [
      "You're using a Qwen2TokenizerFast tokenizer. Please note that with a fast tokenizer, using the `__call__` method is faster than using a method to encode the text followed by a call to the `pad` method to get a padded encoding.\n",
      "Processing rows:  90%|█████████ | 45/50 [06:07<00:40,  8.11s/row]"
     ]
    },
    {
     "data": {
      "application/vnd.jupyter.widget-view+json": {
       "model_id": "0f1c945058114d4b89f0a588f0d297c8",
       "version_major": 2,
       "version_minor": 0
      },
      "text/plain": [
       "Batches:   0%|          | 0/1 [00:00<?, ?it/s]"
      ]
     },
     "metadata": {},
     "output_type": "display_data"
    },
    {
     "name": "stderr",
     "output_type": "stream",
     "text": [
      "You're using a Qwen2TokenizerFast tokenizer. Please note that with a fast tokenizer, using the `__call__` method is faster than using a method to encode the text followed by a call to the `pad` method to get a padded encoding.\n"
     ]
    },
    {
     "data": {
      "application/vnd.jupyter.widget-view+json": {
       "model_id": "bb4c4708d7704c19b8a3b87f24255e15",
       "version_major": 2,
       "version_minor": 0
      },
      "text/plain": [
       "Batches:   0%|          | 0/1 [00:00<?, ?it/s]"
      ]
     },
     "metadata": {},
     "output_type": "display_data"
    },
    {
     "name": "stderr",
     "output_type": "stream",
     "text": [
      "You're using a Qwen2TokenizerFast tokenizer. Please note that with a fast tokenizer, using the `__call__` method is faster than using a method to encode the text followed by a call to the `pad` method to get a padded encoding.\n"
     ]
    },
    {
     "data": {
      "application/vnd.jupyter.widget-view+json": {
       "model_id": "fa03d4b55c80479d89c830d683c02950",
       "version_major": 2,
       "version_minor": 0
      },
      "text/plain": [
       "Batches:   0%|          | 0/1 [00:00<?, ?it/s]"
      ]
     },
     "metadata": {},
     "output_type": "display_data"
    },
    {
     "name": "stderr",
     "output_type": "stream",
     "text": [
      "You're using a Qwen2TokenizerFast tokenizer. Please note that with a fast tokenizer, using the `__call__` method is faster than using a method to encode the text followed by a call to the `pad` method to get a padded encoding.\n"
     ]
    },
    {
     "data": {
      "application/vnd.jupyter.widget-view+json": {
       "model_id": "a1902db9774642528ca98ec61ce678ab",
       "version_major": 2,
       "version_minor": 0
      },
      "text/plain": [
       "Batches:   0%|          | 0/1 [00:00<?, ?it/s]"
      ]
     },
     "metadata": {},
     "output_type": "display_data"
    },
    {
     "name": "stderr",
     "output_type": "stream",
     "text": [
      "You're using a Qwen2TokenizerFast tokenizer. Please note that with a fast tokenizer, using the `__call__` method is faster than using a method to encode the text followed by a call to the `pad` method to get a padded encoding.\n",
      "Processing rows:  92%|█████████▏| 46/50 [06:15<00:32,  8.12s/row]"
     ]
    },
    {
     "data": {
      "application/vnd.jupyter.widget-view+json": {
       "model_id": "23dec046b2c4435c9ea7733add1d96f1",
       "version_major": 2,
       "version_minor": 0
      },
      "text/plain": [
       "Batches:   0%|          | 0/1 [00:00<?, ?it/s]"
      ]
     },
     "metadata": {},
     "output_type": "display_data"
    },
    {
     "name": "stderr",
     "output_type": "stream",
     "text": [
      "You're using a Qwen2TokenizerFast tokenizer. Please note that with a fast tokenizer, using the `__call__` method is faster than using a method to encode the text followed by a call to the `pad` method to get a padded encoding.\n"
     ]
    },
    {
     "data": {
      "application/vnd.jupyter.widget-view+json": {
       "model_id": "707c19ab5f684711bedb85bbd7d323e0",
       "version_major": 2,
       "version_minor": 0
      },
      "text/plain": [
       "Batches:   0%|          | 0/1 [00:00<?, ?it/s]"
      ]
     },
     "metadata": {},
     "output_type": "display_data"
    },
    {
     "name": "stderr",
     "output_type": "stream",
     "text": [
      "You're using a Qwen2TokenizerFast tokenizer. Please note that with a fast tokenizer, using the `__call__` method is faster than using a method to encode the text followed by a call to the `pad` method to get a padded encoding.\n"
     ]
    },
    {
     "data": {
      "application/vnd.jupyter.widget-view+json": {
       "model_id": "0262b50224f34af09070d05853285ef5",
       "version_major": 2,
       "version_minor": 0
      },
      "text/plain": [
       "Batches:   0%|          | 0/1 [00:00<?, ?it/s]"
      ]
     },
     "metadata": {},
     "output_type": "display_data"
    },
    {
     "name": "stderr",
     "output_type": "stream",
     "text": [
      "You're using a Qwen2TokenizerFast tokenizer. Please note that with a fast tokenizer, using the `__call__` method is faster than using a method to encode the text followed by a call to the `pad` method to get a padded encoding.\n"
     ]
    },
    {
     "data": {
      "application/vnd.jupyter.widget-view+json": {
       "model_id": "6a35b9cc121a49e0a1191bc50e395d7b",
       "version_major": 2,
       "version_minor": 0
      },
      "text/plain": [
       "Batches:   0%|          | 0/1 [00:00<?, ?it/s]"
      ]
     },
     "metadata": {},
     "output_type": "display_data"
    },
    {
     "name": "stderr",
     "output_type": "stream",
     "text": [
      "You're using a Qwen2TokenizerFast tokenizer. Please note that with a fast tokenizer, using the `__call__` method is faster than using a method to encode the text followed by a call to the `pad` method to get a padded encoding.\n",
      "Processing rows:  94%|█████████▍| 47/50 [06:24<00:24,  8.31s/row]"
     ]
    },
    {
     "data": {
      "application/vnd.jupyter.widget-view+json": {
       "model_id": "b9f2b48b661c4231995cce0bf1ffc4ab",
       "version_major": 2,
       "version_minor": 0
      },
      "text/plain": [
       "Batches:   0%|          | 0/1 [00:00<?, ?it/s]"
      ]
     },
     "metadata": {},
     "output_type": "display_data"
    },
    {
     "name": "stderr",
     "output_type": "stream",
     "text": [
      "You're using a Qwen2TokenizerFast tokenizer. Please note that with a fast tokenizer, using the `__call__` method is faster than using a method to encode the text followed by a call to the `pad` method to get a padded encoding.\n"
     ]
    },
    {
     "data": {
      "application/vnd.jupyter.widget-view+json": {
       "model_id": "30b196c679ac4b6bac3ebf6d4d789f42",
       "version_major": 2,
       "version_minor": 0
      },
      "text/plain": [
       "Batches:   0%|          | 0/1 [00:00<?, ?it/s]"
      ]
     },
     "metadata": {},
     "output_type": "display_data"
    },
    {
     "name": "stderr",
     "output_type": "stream",
     "text": [
      "You're using a Qwen2TokenizerFast tokenizer. Please note that with a fast tokenizer, using the `__call__` method is faster than using a method to encode the text followed by a call to the `pad` method to get a padded encoding.\n"
     ]
    },
    {
     "data": {
      "application/vnd.jupyter.widget-view+json": {
       "model_id": "7624bd8448e64176889dc4e7a8191977",
       "version_major": 2,
       "version_minor": 0
      },
      "text/plain": [
       "Batches:   0%|          | 0/1 [00:00<?, ?it/s]"
      ]
     },
     "metadata": {},
     "output_type": "display_data"
    },
    {
     "name": "stderr",
     "output_type": "stream",
     "text": [
      "You're using a Qwen2TokenizerFast tokenizer. Please note that with a fast tokenizer, using the `__call__` method is faster than using a method to encode the text followed by a call to the `pad` method to get a padded encoding.\n"
     ]
    },
    {
     "data": {
      "application/vnd.jupyter.widget-view+json": {
       "model_id": "03fb211a44e64c68a8399f21297c22e2",
       "version_major": 2,
       "version_minor": 0
      },
      "text/plain": [
       "Batches:   0%|          | 0/1 [00:00<?, ?it/s]"
      ]
     },
     "metadata": {},
     "output_type": "display_data"
    },
    {
     "name": "stderr",
     "output_type": "stream",
     "text": [
      "You're using a Qwen2TokenizerFast tokenizer. Please note that with a fast tokenizer, using the `__call__` method is faster than using a method to encode the text followed by a call to the `pad` method to get a padded encoding.\n",
      "Processing rows:  96%|█████████▌| 48/50 [06:33<00:16,  8.42s/row]"
     ]
    },
    {
     "data": {
      "application/vnd.jupyter.widget-view+json": {
       "model_id": "3641679caa24407893047cf6879a01d7",
       "version_major": 2,
       "version_minor": 0
      },
      "text/plain": [
       "Batches:   0%|          | 0/1 [00:00<?, ?it/s]"
      ]
     },
     "metadata": {},
     "output_type": "display_data"
    },
    {
     "name": "stderr",
     "output_type": "stream",
     "text": [
      "You're using a Qwen2TokenizerFast tokenizer. Please note that with a fast tokenizer, using the `__call__` method is faster than using a method to encode the text followed by a call to the `pad` method to get a padded encoding.\n"
     ]
    },
    {
     "data": {
      "application/vnd.jupyter.widget-view+json": {
       "model_id": "9a120b9fc9de4ebc82c14705afaaedd3",
       "version_major": 2,
       "version_minor": 0
      },
      "text/plain": [
       "Batches:   0%|          | 0/1 [00:00<?, ?it/s]"
      ]
     },
     "metadata": {},
     "output_type": "display_data"
    },
    {
     "name": "stderr",
     "output_type": "stream",
     "text": [
      "You're using a Qwen2TokenizerFast tokenizer. Please note that with a fast tokenizer, using the `__call__` method is faster than using a method to encode the text followed by a call to the `pad` method to get a padded encoding.\n"
     ]
    },
    {
     "data": {
      "application/vnd.jupyter.widget-view+json": {
       "model_id": "4b8a197482ca496c8f6b083819ac1c96",
       "version_major": 2,
       "version_minor": 0
      },
      "text/plain": [
       "Batches:   0%|          | 0/1 [00:00<?, ?it/s]"
      ]
     },
     "metadata": {},
     "output_type": "display_data"
    },
    {
     "name": "stderr",
     "output_type": "stream",
     "text": [
      "You're using a Qwen2TokenizerFast tokenizer. Please note that with a fast tokenizer, using the `__call__` method is faster than using a method to encode the text followed by a call to the `pad` method to get a padded encoding.\n"
     ]
    },
    {
     "data": {
      "application/vnd.jupyter.widget-view+json": {
       "model_id": "16e60b687cb64342a6ce90793e714ef5",
       "version_major": 2,
       "version_minor": 0
      },
      "text/plain": [
       "Batches:   0%|          | 0/1 [00:00<?, ?it/s]"
      ]
     },
     "metadata": {},
     "output_type": "display_data"
    },
    {
     "name": "stderr",
     "output_type": "stream",
     "text": [
      "You're using a Qwen2TokenizerFast tokenizer. Please note that with a fast tokenizer, using the `__call__` method is faster than using a method to encode the text followed by a call to the `pad` method to get a padded encoding.\n",
      "Processing rows:  98%|█████████▊| 49/50 [06:41<00:08,  8.32s/row]"
     ]
    },
    {
     "data": {
      "application/vnd.jupyter.widget-view+json": {
       "model_id": "96aa4615a1144914adc7dec02ac3e07e",
       "version_major": 2,
       "version_minor": 0
      },
      "text/plain": [
       "Batches:   0%|          | 0/1 [00:00<?, ?it/s]"
      ]
     },
     "metadata": {},
     "output_type": "display_data"
    },
    {
     "name": "stderr",
     "output_type": "stream",
     "text": [
      "You're using a Qwen2TokenizerFast tokenizer. Please note that with a fast tokenizer, using the `__call__` method is faster than using a method to encode the text followed by a call to the `pad` method to get a padded encoding.\n"
     ]
    },
    {
     "data": {
      "application/vnd.jupyter.widget-view+json": {
       "model_id": "37642802034747c8a9687f6b102f26c8",
       "version_major": 2,
       "version_minor": 0
      },
      "text/plain": [
       "Batches:   0%|          | 0/1 [00:00<?, ?it/s]"
      ]
     },
     "metadata": {},
     "output_type": "display_data"
    },
    {
     "name": "stderr",
     "output_type": "stream",
     "text": [
      "You're using a Qwen2TokenizerFast tokenizer. Please note that with a fast tokenizer, using the `__call__` method is faster than using a method to encode the text followed by a call to the `pad` method to get a padded encoding.\n"
     ]
    },
    {
     "data": {
      "application/vnd.jupyter.widget-view+json": {
       "model_id": "50b962667f9c4697ac2e47538f96fcc8",
       "version_major": 2,
       "version_minor": 0
      },
      "text/plain": [
       "Batches:   0%|          | 0/1 [00:00<?, ?it/s]"
      ]
     },
     "metadata": {},
     "output_type": "display_data"
    },
    {
     "name": "stderr",
     "output_type": "stream",
     "text": [
      "You're using a Qwen2TokenizerFast tokenizer. Please note that with a fast tokenizer, using the `__call__` method is faster than using a method to encode the text followed by a call to the `pad` method to get a padded encoding.\n"
     ]
    },
    {
     "data": {
      "application/vnd.jupyter.widget-view+json": {
       "model_id": "552e6cb1db2141f2a8ebfb27ec3fdc7f",
       "version_major": 2,
       "version_minor": 0
      },
      "text/plain": [
       "Batches:   0%|          | 0/1 [00:00<?, ?it/s]"
      ]
     },
     "metadata": {},
     "output_type": "display_data"
    },
    {
     "name": "stderr",
     "output_type": "stream",
     "text": [
      "You're using a Qwen2TokenizerFast tokenizer. Please note that with a fast tokenizer, using the `__call__` method is faster than using a method to encode the text followed by a call to the `pad` method to get a padded encoding.\n",
      "Processing rows: 100%|██████████| 50/50 [06:49<00:00,  8.19s/row]\n",
      "Processing rows:   0%|          | 0/50 [00:00<?, ?row/s]"
     ]
    },
    {
     "data": {
      "application/vnd.jupyter.widget-view+json": {
       "model_id": "6b098a8784914e9aa5a9cac340156fbf",
       "version_major": 2,
       "version_minor": 0
      },
      "text/plain": [
       "Batches:   0%|          | 0/1 [00:00<?, ?it/s]"
      ]
     },
     "metadata": {},
     "output_type": "display_data"
    },
    {
     "name": "stderr",
     "output_type": "stream",
     "text": [
      "You're using a Qwen2TokenizerFast tokenizer. Please note that with a fast tokenizer, using the `__call__` method is faster than using a method to encode the text followed by a call to the `pad` method to get a padded encoding.\n"
     ]
    },
    {
     "data": {
      "application/vnd.jupyter.widget-view+json": {
       "model_id": "a24a6b79a1064d839690f0d3173d9286",
       "version_major": 2,
       "version_minor": 0
      },
      "text/plain": [
       "Batches:   0%|          | 0/1 [00:00<?, ?it/s]"
      ]
     },
     "metadata": {},
     "output_type": "display_data"
    },
    {
     "name": "stderr",
     "output_type": "stream",
     "text": [
      "You're using a Qwen2TokenizerFast tokenizer. Please note that with a fast tokenizer, using the `__call__` method is faster than using a method to encode the text followed by a call to the `pad` method to get a padded encoding.\n"
     ]
    },
    {
     "data": {
      "application/vnd.jupyter.widget-view+json": {
       "model_id": "f0e69779c1114451b59cf75df6e15c2a",
       "version_major": 2,
       "version_minor": 0
      },
      "text/plain": [
       "Batches:   0%|          | 0/1 [00:00<?, ?it/s]"
      ]
     },
     "metadata": {},
     "output_type": "display_data"
    },
    {
     "name": "stderr",
     "output_type": "stream",
     "text": [
      "You're using a Qwen2TokenizerFast tokenizer. Please note that with a fast tokenizer, using the `__call__` method is faster than using a method to encode the text followed by a call to the `pad` method to get a padded encoding.\n"
     ]
    },
    {
     "data": {
      "application/vnd.jupyter.widget-view+json": {
       "model_id": "eba9922834c849a6b44420c11ee28510",
       "version_major": 2,
       "version_minor": 0
      },
      "text/plain": [
       "Batches:   0%|          | 0/1 [00:00<?, ?it/s]"
      ]
     },
     "metadata": {},
     "output_type": "display_data"
    },
    {
     "name": "stderr",
     "output_type": "stream",
     "text": [
      "You're using a Qwen2TokenizerFast tokenizer. Please note that with a fast tokenizer, using the `__call__` method is faster than using a method to encode the text followed by a call to the `pad` method to get a padded encoding.\n",
      "Processing rows:   2%|▏         | 1/50 [00:09<07:51,  9.63s/row]"
     ]
    },
    {
     "data": {
      "application/vnd.jupyter.widget-view+json": {
       "model_id": "1ada6764b5e246a9a9ddfa47d8128bf4",
       "version_major": 2,
       "version_minor": 0
      },
      "text/plain": [
       "Batches:   0%|          | 0/1 [00:00<?, ?it/s]"
      ]
     },
     "metadata": {},
     "output_type": "display_data"
    },
    {
     "name": "stderr",
     "output_type": "stream",
     "text": [
      "You're using a Qwen2TokenizerFast tokenizer. Please note that with a fast tokenizer, using the `__call__` method is faster than using a method to encode the text followed by a call to the `pad` method to get a padded encoding.\n"
     ]
    },
    {
     "data": {
      "application/vnd.jupyter.widget-view+json": {
       "model_id": "b1f6cfb3fc734abc89a701bed803656d",
       "version_major": 2,
       "version_minor": 0
      },
      "text/plain": [
       "Batches:   0%|          | 0/1 [00:00<?, ?it/s]"
      ]
     },
     "metadata": {},
     "output_type": "display_data"
    },
    {
     "name": "stderr",
     "output_type": "stream",
     "text": [
      "You're using a Qwen2TokenizerFast tokenizer. Please note that with a fast tokenizer, using the `__call__` method is faster than using a method to encode the text followed by a call to the `pad` method to get a padded encoding.\n"
     ]
    },
    {
     "data": {
      "application/vnd.jupyter.widget-view+json": {
       "model_id": "5d8cc229e5a24cbe8c7f0e296d1ba0fd",
       "version_major": 2,
       "version_minor": 0
      },
      "text/plain": [
       "Batches:   0%|          | 0/1 [00:00<?, ?it/s]"
      ]
     },
     "metadata": {},
     "output_type": "display_data"
    },
    {
     "name": "stderr",
     "output_type": "stream",
     "text": [
      "You're using a Qwen2TokenizerFast tokenizer. Please note that with a fast tokenizer, using the `__call__` method is faster than using a method to encode the text followed by a call to the `pad` method to get a padded encoding.\n"
     ]
    },
    {
     "data": {
      "application/vnd.jupyter.widget-view+json": {
       "model_id": "fd505bf6cc9a46009e225c88fcfb9016",
       "version_major": 2,
       "version_minor": 0
      },
      "text/plain": [
       "Batches:   0%|          | 0/1 [00:00<?, ?it/s]"
      ]
     },
     "metadata": {},
     "output_type": "display_data"
    },
    {
     "name": "stderr",
     "output_type": "stream",
     "text": [
      "You're using a Qwen2TokenizerFast tokenizer. Please note that with a fast tokenizer, using the `__call__` method is faster than using a method to encode the text followed by a call to the `pad` method to get a padded encoding.\n",
      "Processing rows:   4%|▍         | 2/50 [00:19<07:40,  9.60s/row]"
     ]
    },
    {
     "data": {
      "application/vnd.jupyter.widget-view+json": {
       "model_id": "f643b7402f58402b8094159c3735d24c",
       "version_major": 2,
       "version_minor": 0
      },
      "text/plain": [
       "Batches:   0%|          | 0/1 [00:00<?, ?it/s]"
      ]
     },
     "metadata": {},
     "output_type": "display_data"
    },
    {
     "name": "stderr",
     "output_type": "stream",
     "text": [
      "You're using a Qwen2TokenizerFast tokenizer. Please note that with a fast tokenizer, using the `__call__` method is faster than using a method to encode the text followed by a call to the `pad` method to get a padded encoding.\n"
     ]
    },
    {
     "data": {
      "application/vnd.jupyter.widget-view+json": {
       "model_id": "42acde5ccb7d4af49d883b966a417b87",
       "version_major": 2,
       "version_minor": 0
      },
      "text/plain": [
       "Batches:   0%|          | 0/1 [00:00<?, ?it/s]"
      ]
     },
     "metadata": {},
     "output_type": "display_data"
    },
    {
     "name": "stderr",
     "output_type": "stream",
     "text": [
      "You're using a Qwen2TokenizerFast tokenizer. Please note that with a fast tokenizer, using the `__call__` method is faster than using a method to encode the text followed by a call to the `pad` method to get a padded encoding.\n"
     ]
    },
    {
     "data": {
      "application/vnd.jupyter.widget-view+json": {
       "model_id": "3418a3a8bccf4aa596ba24fc7b1182a9",
       "version_major": 2,
       "version_minor": 0
      },
      "text/plain": [
       "Batches:   0%|          | 0/1 [00:00<?, ?it/s]"
      ]
     },
     "metadata": {},
     "output_type": "display_data"
    },
    {
     "name": "stderr",
     "output_type": "stream",
     "text": [
      "You're using a Qwen2TokenizerFast tokenizer. Please note that with a fast tokenizer, using the `__call__` method is faster than using a method to encode the text followed by a call to the `pad` method to get a padded encoding.\n"
     ]
    },
    {
     "data": {
      "application/vnd.jupyter.widget-view+json": {
       "model_id": "2abd05e76fc64bc6821cfe291a9a469d",
       "version_major": 2,
       "version_minor": 0
      },
      "text/plain": [
       "Batches:   0%|          | 0/1 [00:00<?, ?it/s]"
      ]
     },
     "metadata": {},
     "output_type": "display_data"
    },
    {
     "name": "stderr",
     "output_type": "stream",
     "text": [
      "You're using a Qwen2TokenizerFast tokenizer. Please note that with a fast tokenizer, using the `__call__` method is faster than using a method to encode the text followed by a call to the `pad` method to get a padded encoding.\n",
      "Processing rows:   6%|▌         | 3/50 [00:29<07:37,  9.74s/row]"
     ]
    },
    {
     "data": {
      "application/vnd.jupyter.widget-view+json": {
       "model_id": "1410a8f2a78f4ba5a6884a8d1f4116e2",
       "version_major": 2,
       "version_minor": 0
      },
      "text/plain": [
       "Batches:   0%|          | 0/1 [00:00<?, ?it/s]"
      ]
     },
     "metadata": {},
     "output_type": "display_data"
    },
    {
     "name": "stderr",
     "output_type": "stream",
     "text": [
      "You're using a Qwen2TokenizerFast tokenizer. Please note that with a fast tokenizer, using the `__call__` method is faster than using a method to encode the text followed by a call to the `pad` method to get a padded encoding.\n"
     ]
    },
    {
     "data": {
      "application/vnd.jupyter.widget-view+json": {
       "model_id": "47d97e049a3e481395808c12b6161cbb",
       "version_major": 2,
       "version_minor": 0
      },
      "text/plain": [
       "Batches:   0%|          | 0/1 [00:00<?, ?it/s]"
      ]
     },
     "metadata": {},
     "output_type": "display_data"
    },
    {
     "name": "stderr",
     "output_type": "stream",
     "text": [
      "You're using a Qwen2TokenizerFast tokenizer. Please note that with a fast tokenizer, using the `__call__` method is faster than using a method to encode the text followed by a call to the `pad` method to get a padded encoding.\n"
     ]
    },
    {
     "data": {
      "application/vnd.jupyter.widget-view+json": {
       "model_id": "f562ef5824d14d1d869c1a7c605f05e0",
       "version_major": 2,
       "version_minor": 0
      },
      "text/plain": [
       "Batches:   0%|          | 0/1 [00:00<?, ?it/s]"
      ]
     },
     "metadata": {},
     "output_type": "display_data"
    },
    {
     "name": "stderr",
     "output_type": "stream",
     "text": [
      "You're using a Qwen2TokenizerFast tokenizer. Please note that with a fast tokenizer, using the `__call__` method is faster than using a method to encode the text followed by a call to the `pad` method to get a padded encoding.\n"
     ]
    },
    {
     "data": {
      "application/vnd.jupyter.widget-view+json": {
       "model_id": "1cb0a73ffed34ababbcf0050c1c1891b",
       "version_major": 2,
       "version_minor": 0
      },
      "text/plain": [
       "Batches:   0%|          | 0/1 [00:00<?, ?it/s]"
      ]
     },
     "metadata": {},
     "output_type": "display_data"
    },
    {
     "name": "stderr",
     "output_type": "stream",
     "text": [
      "You're using a Qwen2TokenizerFast tokenizer. Please note that with a fast tokenizer, using the `__call__` method is faster than using a method to encode the text followed by a call to the `pad` method to get a padded encoding.\n",
      "Processing rows:   8%|▊         | 4/50 [00:38<07:29,  9.76s/row]"
     ]
    },
    {
     "data": {
      "application/vnd.jupyter.widget-view+json": {
       "model_id": "ecd275e73f6746a19b358499af66a1d1",
       "version_major": 2,
       "version_minor": 0
      },
      "text/plain": [
       "Batches:   0%|          | 0/1 [00:00<?, ?it/s]"
      ]
     },
     "metadata": {},
     "output_type": "display_data"
    },
    {
     "name": "stderr",
     "output_type": "stream",
     "text": [
      "You're using a Qwen2TokenizerFast tokenizer. Please note that with a fast tokenizer, using the `__call__` method is faster than using a method to encode the text followed by a call to the `pad` method to get a padded encoding.\n"
     ]
    },
    {
     "data": {
      "application/vnd.jupyter.widget-view+json": {
       "model_id": "b6b59dd45d134812894d264239e6cc90",
       "version_major": 2,
       "version_minor": 0
      },
      "text/plain": [
       "Batches:   0%|          | 0/1 [00:00<?, ?it/s]"
      ]
     },
     "metadata": {},
     "output_type": "display_data"
    },
    {
     "name": "stderr",
     "output_type": "stream",
     "text": [
      "You're using a Qwen2TokenizerFast tokenizer. Please note that with a fast tokenizer, using the `__call__` method is faster than using a method to encode the text followed by a call to the `pad` method to get a padded encoding.\n"
     ]
    },
    {
     "data": {
      "application/vnd.jupyter.widget-view+json": {
       "model_id": "ce5553bf6fe04186987fcc38bc85dd3a",
       "version_major": 2,
       "version_minor": 0
      },
      "text/plain": [
       "Batches:   0%|          | 0/1 [00:00<?, ?it/s]"
      ]
     },
     "metadata": {},
     "output_type": "display_data"
    },
    {
     "name": "stderr",
     "output_type": "stream",
     "text": [
      "You're using a Qwen2TokenizerFast tokenizer. Please note that with a fast tokenizer, using the `__call__` method is faster than using a method to encode the text followed by a call to the `pad` method to get a padded encoding.\n"
     ]
    },
    {
     "data": {
      "application/vnd.jupyter.widget-view+json": {
       "model_id": "ed85a4d5adae4561b7958492eb6ff277",
       "version_major": 2,
       "version_minor": 0
      },
      "text/plain": [
       "Batches:   0%|          | 0/1 [00:00<?, ?it/s]"
      ]
     },
     "metadata": {},
     "output_type": "display_data"
    },
    {
     "name": "stderr",
     "output_type": "stream",
     "text": [
      "You're using a Qwen2TokenizerFast tokenizer. Please note that with a fast tokenizer, using the `__call__` method is faster than using a method to encode the text followed by a call to the `pad` method to get a padded encoding.\n",
      "Processing rows:  10%|█         | 5/50 [00:48<07:24,  9.88s/row]"
     ]
    },
    {
     "data": {
      "application/vnd.jupyter.widget-view+json": {
       "model_id": "0ca2eb2944ba4492a5149342012c026d",
       "version_major": 2,
       "version_minor": 0
      },
      "text/plain": [
       "Batches:   0%|          | 0/1 [00:00<?, ?it/s]"
      ]
     },
     "metadata": {},
     "output_type": "display_data"
    },
    {
     "name": "stderr",
     "output_type": "stream",
     "text": [
      "You're using a Qwen2TokenizerFast tokenizer. Please note that with a fast tokenizer, using the `__call__` method is faster than using a method to encode the text followed by a call to the `pad` method to get a padded encoding.\n"
     ]
    },
    {
     "data": {
      "application/vnd.jupyter.widget-view+json": {
       "model_id": "2821e1b64e234e178a2f771d956122fa",
       "version_major": 2,
       "version_minor": 0
      },
      "text/plain": [
       "Batches:   0%|          | 0/1 [00:00<?, ?it/s]"
      ]
     },
     "metadata": {},
     "output_type": "display_data"
    },
    {
     "name": "stderr",
     "output_type": "stream",
     "text": [
      "You're using a Qwen2TokenizerFast tokenizer. Please note that with a fast tokenizer, using the `__call__` method is faster than using a method to encode the text followed by a call to the `pad` method to get a padded encoding.\n"
     ]
    },
    {
     "data": {
      "application/vnd.jupyter.widget-view+json": {
       "model_id": "dc5843e8ebe642f3b8552bf456310ece",
       "version_major": 2,
       "version_minor": 0
      },
      "text/plain": [
       "Batches:   0%|          | 0/1 [00:00<?, ?it/s]"
      ]
     },
     "metadata": {},
     "output_type": "display_data"
    },
    {
     "name": "stderr",
     "output_type": "stream",
     "text": [
      "You're using a Qwen2TokenizerFast tokenizer. Please note that with a fast tokenizer, using the `__call__` method is faster than using a method to encode the text followed by a call to the `pad` method to get a padded encoding.\n"
     ]
    },
    {
     "data": {
      "application/vnd.jupyter.widget-view+json": {
       "model_id": "595802c681d84edaa500ce231a3461cd",
       "version_major": 2,
       "version_minor": 0
      },
      "text/plain": [
       "Batches:   0%|          | 0/1 [00:00<?, ?it/s]"
      ]
     },
     "metadata": {},
     "output_type": "display_data"
    },
    {
     "name": "stderr",
     "output_type": "stream",
     "text": [
      "You're using a Qwen2TokenizerFast tokenizer. Please note that with a fast tokenizer, using the `__call__` method is faster than using a method to encode the text followed by a call to the `pad` method to get a padded encoding.\n",
      "Processing rows:  12%|█▏        | 6/50 [00:59<07:21, 10.03s/row]"
     ]
    },
    {
     "data": {
      "application/vnd.jupyter.widget-view+json": {
       "model_id": "f1c2c33db4324bd486752fd3e156cf18",
       "version_major": 2,
       "version_minor": 0
      },
      "text/plain": [
       "Batches:   0%|          | 0/1 [00:00<?, ?it/s]"
      ]
     },
     "metadata": {},
     "output_type": "display_data"
    },
    {
     "name": "stderr",
     "output_type": "stream",
     "text": [
      "You're using a Qwen2TokenizerFast tokenizer. Please note that with a fast tokenizer, using the `__call__` method is faster than using a method to encode the text followed by a call to the `pad` method to get a padded encoding.\n"
     ]
    },
    {
     "data": {
      "application/vnd.jupyter.widget-view+json": {
       "model_id": "feefad26ee3243118c1a9ee0e216ec9e",
       "version_major": 2,
       "version_minor": 0
      },
      "text/plain": [
       "Batches:   0%|          | 0/1 [00:00<?, ?it/s]"
      ]
     },
     "metadata": {},
     "output_type": "display_data"
    },
    {
     "name": "stderr",
     "output_type": "stream",
     "text": [
      "You're using a Qwen2TokenizerFast tokenizer. Please note that with a fast tokenizer, using the `__call__` method is faster than using a method to encode the text followed by a call to the `pad` method to get a padded encoding.\n"
     ]
    },
    {
     "data": {
      "application/vnd.jupyter.widget-view+json": {
       "model_id": "70fb29ecbdab4667ab4c08e9124439fe",
       "version_major": 2,
       "version_minor": 0
      },
      "text/plain": [
       "Batches:   0%|          | 0/1 [00:00<?, ?it/s]"
      ]
     },
     "metadata": {},
     "output_type": "display_data"
    },
    {
     "name": "stderr",
     "output_type": "stream",
     "text": [
      "You're using a Qwen2TokenizerFast tokenizer. Please note that with a fast tokenizer, using the `__call__` method is faster than using a method to encode the text followed by a call to the `pad` method to get a padded encoding.\n"
     ]
    },
    {
     "data": {
      "application/vnd.jupyter.widget-view+json": {
       "model_id": "ddf40c541c5946828b89f025f25a6cd1",
       "version_major": 2,
       "version_minor": 0
      },
      "text/plain": [
       "Batches:   0%|          | 0/1 [00:00<?, ?it/s]"
      ]
     },
     "metadata": {},
     "output_type": "display_data"
    },
    {
     "name": "stderr",
     "output_type": "stream",
     "text": [
      "You're using a Qwen2TokenizerFast tokenizer. Please note that with a fast tokenizer, using the `__call__` method is faster than using a method to encode the text followed by a call to the `pad` method to get a padded encoding.\n",
      "Processing rows:  14%|█▍        | 7/50 [01:08<07:04,  9.86s/row]"
     ]
    },
    {
     "data": {
      "application/vnd.jupyter.widget-view+json": {
       "model_id": "8c176781123c49fa89594c38417bfa64",
       "version_major": 2,
       "version_minor": 0
      },
      "text/plain": [
       "Batches:   0%|          | 0/1 [00:00<?, ?it/s]"
      ]
     },
     "metadata": {},
     "output_type": "display_data"
    },
    {
     "name": "stderr",
     "output_type": "stream",
     "text": [
      "You're using a Qwen2TokenizerFast tokenizer. Please note that with a fast tokenizer, using the `__call__` method is faster than using a method to encode the text followed by a call to the `pad` method to get a padded encoding.\n"
     ]
    },
    {
     "data": {
      "application/vnd.jupyter.widget-view+json": {
       "model_id": "d7d56ace3f0b407e852419d5194afa57",
       "version_major": 2,
       "version_minor": 0
      },
      "text/plain": [
       "Batches:   0%|          | 0/1 [00:00<?, ?it/s]"
      ]
     },
     "metadata": {},
     "output_type": "display_data"
    },
    {
     "name": "stderr",
     "output_type": "stream",
     "text": [
      "You're using a Qwen2TokenizerFast tokenizer. Please note that with a fast tokenizer, using the `__call__` method is faster than using a method to encode the text followed by a call to the `pad` method to get a padded encoding.\n"
     ]
    },
    {
     "data": {
      "application/vnd.jupyter.widget-view+json": {
       "model_id": "3791d307dc6d41c8b90cf6327dbb0f87",
       "version_major": 2,
       "version_minor": 0
      },
      "text/plain": [
       "Batches:   0%|          | 0/1 [00:00<?, ?it/s]"
      ]
     },
     "metadata": {},
     "output_type": "display_data"
    },
    {
     "name": "stderr",
     "output_type": "stream",
     "text": [
      "You're using a Qwen2TokenizerFast tokenizer. Please note that with a fast tokenizer, using the `__call__` method is faster than using a method to encode the text followed by a call to the `pad` method to get a padded encoding.\n"
     ]
    },
    {
     "data": {
      "application/vnd.jupyter.widget-view+json": {
       "model_id": "014ceb1645de4f0894cc424c7e01344a",
       "version_major": 2,
       "version_minor": 0
      },
      "text/plain": [
       "Batches:   0%|          | 0/1 [00:00<?, ?it/s]"
      ]
     },
     "metadata": {},
     "output_type": "display_data"
    },
    {
     "name": "stderr",
     "output_type": "stream",
     "text": [
      "You're using a Qwen2TokenizerFast tokenizer. Please note that with a fast tokenizer, using the `__call__` method is faster than using a method to encode the text followed by a call to the `pad` method to get a padded encoding.\n",
      "Processing rows:  16%|█▌        | 8/50 [01:18<06:55,  9.90s/row]"
     ]
    },
    {
     "data": {
      "application/vnd.jupyter.widget-view+json": {
       "model_id": "e682f8783c4c42e4b311cda31a46afcb",
       "version_major": 2,
       "version_minor": 0
      },
      "text/plain": [
       "Batches:   0%|          | 0/1 [00:00<?, ?it/s]"
      ]
     },
     "metadata": {},
     "output_type": "display_data"
    },
    {
     "name": "stderr",
     "output_type": "stream",
     "text": [
      "You're using a Qwen2TokenizerFast tokenizer. Please note that with a fast tokenizer, using the `__call__` method is faster than using a method to encode the text followed by a call to the `pad` method to get a padded encoding.\n"
     ]
    },
    {
     "data": {
      "application/vnd.jupyter.widget-view+json": {
       "model_id": "44fe478a47904c528c235a1180f27ba3",
       "version_major": 2,
       "version_minor": 0
      },
      "text/plain": [
       "Batches:   0%|          | 0/1 [00:00<?, ?it/s]"
      ]
     },
     "metadata": {},
     "output_type": "display_data"
    },
    {
     "name": "stderr",
     "output_type": "stream",
     "text": [
      "You're using a Qwen2TokenizerFast tokenizer. Please note that with a fast tokenizer, using the `__call__` method is faster than using a method to encode the text followed by a call to the `pad` method to get a padded encoding.\n"
     ]
    },
    {
     "data": {
      "application/vnd.jupyter.widget-view+json": {
       "model_id": "65a365bc7bba4742bd8c653fb9ac94a1",
       "version_major": 2,
       "version_minor": 0
      },
      "text/plain": [
       "Batches:   0%|          | 0/1 [00:00<?, ?it/s]"
      ]
     },
     "metadata": {},
     "output_type": "display_data"
    },
    {
     "name": "stderr",
     "output_type": "stream",
     "text": [
      "You're using a Qwen2TokenizerFast tokenizer. Please note that with a fast tokenizer, using the `__call__` method is faster than using a method to encode the text followed by a call to the `pad` method to get a padded encoding.\n"
     ]
    },
    {
     "data": {
      "application/vnd.jupyter.widget-view+json": {
       "model_id": "113eee903be34df3a1186a2c79b1d807",
       "version_major": 2,
       "version_minor": 0
      },
      "text/plain": [
       "Batches:   0%|          | 0/1 [00:00<?, ?it/s]"
      ]
     },
     "metadata": {},
     "output_type": "display_data"
    },
    {
     "name": "stderr",
     "output_type": "stream",
     "text": [
      "You're using a Qwen2TokenizerFast tokenizer. Please note that with a fast tokenizer, using the `__call__` method is faster than using a method to encode the text followed by a call to the `pad` method to get a padded encoding.\n",
      "Processing rows:  18%|█▊        | 9/50 [01:28<06:44,  9.86s/row]"
     ]
    },
    {
     "data": {
      "application/vnd.jupyter.widget-view+json": {
       "model_id": "3ea7dbad084f43f0872be1bbd965c83d",
       "version_major": 2,
       "version_minor": 0
      },
      "text/plain": [
       "Batches:   0%|          | 0/1 [00:00<?, ?it/s]"
      ]
     },
     "metadata": {},
     "output_type": "display_data"
    },
    {
     "name": "stderr",
     "output_type": "stream",
     "text": [
      "You're using a Qwen2TokenizerFast tokenizer. Please note that with a fast tokenizer, using the `__call__` method is faster than using a method to encode the text followed by a call to the `pad` method to get a padded encoding.\n"
     ]
    },
    {
     "data": {
      "application/vnd.jupyter.widget-view+json": {
       "model_id": "16f2e4f90114440c8046c3006c70fcca",
       "version_major": 2,
       "version_minor": 0
      },
      "text/plain": [
       "Batches:   0%|          | 0/1 [00:00<?, ?it/s]"
      ]
     },
     "metadata": {},
     "output_type": "display_data"
    },
    {
     "name": "stderr",
     "output_type": "stream",
     "text": [
      "You're using a Qwen2TokenizerFast tokenizer. Please note that with a fast tokenizer, using the `__call__` method is faster than using a method to encode the text followed by a call to the `pad` method to get a padded encoding.\n"
     ]
    },
    {
     "data": {
      "application/vnd.jupyter.widget-view+json": {
       "model_id": "d1b9b4e601c943a081c59d4cedde457e",
       "version_major": 2,
       "version_minor": 0
      },
      "text/plain": [
       "Batches:   0%|          | 0/1 [00:00<?, ?it/s]"
      ]
     },
     "metadata": {},
     "output_type": "display_data"
    },
    {
     "name": "stderr",
     "output_type": "stream",
     "text": [
      "You're using a Qwen2TokenizerFast tokenizer. Please note that with a fast tokenizer, using the `__call__` method is faster than using a method to encode the text followed by a call to the `pad` method to get a padded encoding.\n"
     ]
    },
    {
     "data": {
      "application/vnd.jupyter.widget-view+json": {
       "model_id": "5fb6d352fd6a4038868969c4918a8690",
       "version_major": 2,
       "version_minor": 0
      },
      "text/plain": [
       "Batches:   0%|          | 0/1 [00:00<?, ?it/s]"
      ]
     },
     "metadata": {},
     "output_type": "display_data"
    },
    {
     "name": "stderr",
     "output_type": "stream",
     "text": [
      "You're using a Qwen2TokenizerFast tokenizer. Please note that with a fast tokenizer, using the `__call__` method is faster than using a method to encode the text followed by a call to the `pad` method to get a padded encoding.\n",
      "Processing rows:  20%|██        | 10/50 [01:39<06:49, 10.23s/row]"
     ]
    },
    {
     "data": {
      "application/vnd.jupyter.widget-view+json": {
       "model_id": "7ec133e703a24906bee627b2cbe0df38",
       "version_major": 2,
       "version_minor": 0
      },
      "text/plain": [
       "Batches:   0%|          | 0/1 [00:00<?, ?it/s]"
      ]
     },
     "metadata": {},
     "output_type": "display_data"
    },
    {
     "name": "stderr",
     "output_type": "stream",
     "text": [
      "You're using a Qwen2TokenizerFast tokenizer. Please note that with a fast tokenizer, using the `__call__` method is faster than using a method to encode the text followed by a call to the `pad` method to get a padded encoding.\n"
     ]
    },
    {
     "data": {
      "application/vnd.jupyter.widget-view+json": {
       "model_id": "4c0550d599ff4d949dff4a9a6a6920e7",
       "version_major": 2,
       "version_minor": 0
      },
      "text/plain": [
       "Batches:   0%|          | 0/1 [00:00<?, ?it/s]"
      ]
     },
     "metadata": {},
     "output_type": "display_data"
    },
    {
     "name": "stderr",
     "output_type": "stream",
     "text": [
      "You're using a Qwen2TokenizerFast tokenizer. Please note that with a fast tokenizer, using the `__call__` method is faster than using a method to encode the text followed by a call to the `pad` method to get a padded encoding.\n"
     ]
    },
    {
     "data": {
      "application/vnd.jupyter.widget-view+json": {
       "model_id": "37a00274775f4a3f8c7ec478354b4f78",
       "version_major": 2,
       "version_minor": 0
      },
      "text/plain": [
       "Batches:   0%|          | 0/1 [00:00<?, ?it/s]"
      ]
     },
     "metadata": {},
     "output_type": "display_data"
    },
    {
     "name": "stderr",
     "output_type": "stream",
     "text": [
      "You're using a Qwen2TokenizerFast tokenizer. Please note that with a fast tokenizer, using the `__call__` method is faster than using a method to encode the text followed by a call to the `pad` method to get a padded encoding.\n"
     ]
    },
    {
     "data": {
      "application/vnd.jupyter.widget-view+json": {
       "model_id": "3a3bc024090b4c5491003d40dfeebf43",
       "version_major": 2,
       "version_minor": 0
      },
      "text/plain": [
       "Batches:   0%|          | 0/1 [00:00<?, ?it/s]"
      ]
     },
     "metadata": {},
     "output_type": "display_data"
    },
    {
     "name": "stderr",
     "output_type": "stream",
     "text": [
      "You're using a Qwen2TokenizerFast tokenizer. Please note that with a fast tokenizer, using the `__call__` method is faster than using a method to encode the text followed by a call to the `pad` method to get a padded encoding.\n",
      "Processing rows:  22%|██▏       | 11/50 [01:52<07:14, 11.14s/row]"
     ]
    },
    {
     "data": {
      "application/vnd.jupyter.widget-view+json": {
       "model_id": "e45cb692f09844468a7d05392a4877af",
       "version_major": 2,
       "version_minor": 0
      },
      "text/plain": [
       "Batches:   0%|          | 0/1 [00:00<?, ?it/s]"
      ]
     },
     "metadata": {},
     "output_type": "display_data"
    },
    {
     "name": "stderr",
     "output_type": "stream",
     "text": [
      "You're using a Qwen2TokenizerFast tokenizer. Please note that with a fast tokenizer, using the `__call__` method is faster than using a method to encode the text followed by a call to the `pad` method to get a padded encoding.\n"
     ]
    },
    {
     "data": {
      "application/vnd.jupyter.widget-view+json": {
       "model_id": "765f6aafc49a4c3ca062f35a563126d6",
       "version_major": 2,
       "version_minor": 0
      },
      "text/plain": [
       "Batches:   0%|          | 0/1 [00:00<?, ?it/s]"
      ]
     },
     "metadata": {},
     "output_type": "display_data"
    },
    {
     "name": "stderr",
     "output_type": "stream",
     "text": [
      "You're using a Qwen2TokenizerFast tokenizer. Please note that with a fast tokenizer, using the `__call__` method is faster than using a method to encode the text followed by a call to the `pad` method to get a padded encoding.\n"
     ]
    },
    {
     "data": {
      "application/vnd.jupyter.widget-view+json": {
       "model_id": "47b9ea193f7f44bbac08ca9a5810a648",
       "version_major": 2,
       "version_minor": 0
      },
      "text/plain": [
       "Batches:   0%|          | 0/1 [00:00<?, ?it/s]"
      ]
     },
     "metadata": {},
     "output_type": "display_data"
    },
    {
     "name": "stderr",
     "output_type": "stream",
     "text": [
      "You're using a Qwen2TokenizerFast tokenizer. Please note that with a fast tokenizer, using the `__call__` method is faster than using a method to encode the text followed by a call to the `pad` method to get a padded encoding.\n"
     ]
    },
    {
     "data": {
      "application/vnd.jupyter.widget-view+json": {
       "model_id": "48e304f2c0b84519b01b0866d93d832c",
       "version_major": 2,
       "version_minor": 0
      },
      "text/plain": [
       "Batches:   0%|          | 0/1 [00:00<?, ?it/s]"
      ]
     },
     "metadata": {},
     "output_type": "display_data"
    },
    {
     "name": "stderr",
     "output_type": "stream",
     "text": [
      "You're using a Qwen2TokenizerFast tokenizer. Please note that with a fast tokenizer, using the `__call__` method is faster than using a method to encode the text followed by a call to the `pad` method to get a padded encoding.\n",
      "Processing rows:  24%|██▍       | 12/50 [02:03<06:54, 10.92s/row]"
     ]
    },
    {
     "data": {
      "application/vnd.jupyter.widget-view+json": {
       "model_id": "9ab2fd07815b430db01bb361e67bf0af",
       "version_major": 2,
       "version_minor": 0
      },
      "text/plain": [
       "Batches:   0%|          | 0/1 [00:00<?, ?it/s]"
      ]
     },
     "metadata": {},
     "output_type": "display_data"
    },
    {
     "name": "stderr",
     "output_type": "stream",
     "text": [
      "You're using a Qwen2TokenizerFast tokenizer. Please note that with a fast tokenizer, using the `__call__` method is faster than using a method to encode the text followed by a call to the `pad` method to get a padded encoding.\n"
     ]
    },
    {
     "data": {
      "application/vnd.jupyter.widget-view+json": {
       "model_id": "e99256fd82ea466c816df95a6f91ab31",
       "version_major": 2,
       "version_minor": 0
      },
      "text/plain": [
       "Batches:   0%|          | 0/1 [00:00<?, ?it/s]"
      ]
     },
     "metadata": {},
     "output_type": "display_data"
    },
    {
     "name": "stderr",
     "output_type": "stream",
     "text": [
      "You're using a Qwen2TokenizerFast tokenizer. Please note that with a fast tokenizer, using the `__call__` method is faster than using a method to encode the text followed by a call to the `pad` method to get a padded encoding.\n"
     ]
    },
    {
     "data": {
      "application/vnd.jupyter.widget-view+json": {
       "model_id": "fb8107ea9cd54a4a9789d3c8a26b6310",
       "version_major": 2,
       "version_minor": 0
      },
      "text/plain": [
       "Batches:   0%|          | 0/1 [00:00<?, ?it/s]"
      ]
     },
     "metadata": {},
     "output_type": "display_data"
    },
    {
     "name": "stderr",
     "output_type": "stream",
     "text": [
      "You're using a Qwen2TokenizerFast tokenizer. Please note that with a fast tokenizer, using the `__call__` method is faster than using a method to encode the text followed by a call to the `pad` method to get a padded encoding.\n"
     ]
    },
    {
     "data": {
      "application/vnd.jupyter.widget-view+json": {
       "model_id": "26206d98ef124e529c21b29ab3b74471",
       "version_major": 2,
       "version_minor": 0
      },
      "text/plain": [
       "Batches:   0%|          | 0/1 [00:00<?, ?it/s]"
      ]
     },
     "metadata": {},
     "output_type": "display_data"
    },
    {
     "name": "stderr",
     "output_type": "stream",
     "text": [
      "You're using a Qwen2TokenizerFast tokenizer. Please note that with a fast tokenizer, using the `__call__` method is faster than using a method to encode the text followed by a call to the `pad` method to get a padded encoding.\n",
      "Processing rows:  26%|██▌       | 13/50 [02:18<07:31, 12.22s/row]"
     ]
    },
    {
     "data": {
      "application/vnd.jupyter.widget-view+json": {
       "model_id": "0c6d531c965542e1abe0d238dcdcc289",
       "version_major": 2,
       "version_minor": 0
      },
      "text/plain": [
       "Batches:   0%|          | 0/1 [00:00<?, ?it/s]"
      ]
     },
     "metadata": {},
     "output_type": "display_data"
    },
    {
     "name": "stderr",
     "output_type": "stream",
     "text": [
      "You're using a Qwen2TokenizerFast tokenizer. Please note that with a fast tokenizer, using the `__call__` method is faster than using a method to encode the text followed by a call to the `pad` method to get a padded encoding.\n"
     ]
    },
    {
     "data": {
      "application/vnd.jupyter.widget-view+json": {
       "model_id": "9e322936b06949908ff141eff9f282bf",
       "version_major": 2,
       "version_minor": 0
      },
      "text/plain": [
       "Batches:   0%|          | 0/1 [00:00<?, ?it/s]"
      ]
     },
     "metadata": {},
     "output_type": "display_data"
    },
    {
     "name": "stderr",
     "output_type": "stream",
     "text": [
      "You're using a Qwen2TokenizerFast tokenizer. Please note that with a fast tokenizer, using the `__call__` method is faster than using a method to encode the text followed by a call to the `pad` method to get a padded encoding.\n"
     ]
    },
    {
     "data": {
      "application/vnd.jupyter.widget-view+json": {
       "model_id": "cb77795333444c82adf8c2221fb286b7",
       "version_major": 2,
       "version_minor": 0
      },
      "text/plain": [
       "Batches:   0%|          | 0/1 [00:00<?, ?it/s]"
      ]
     },
     "metadata": {},
     "output_type": "display_data"
    },
    {
     "name": "stderr",
     "output_type": "stream",
     "text": [
      "You're using a Qwen2TokenizerFast tokenizer. Please note that with a fast tokenizer, using the `__call__` method is faster than using a method to encode the text followed by a call to the `pad` method to get a padded encoding.\n"
     ]
    },
    {
     "data": {
      "application/vnd.jupyter.widget-view+json": {
       "model_id": "cc80a50eec3d48ee8df6e1bb638a98d9",
       "version_major": 2,
       "version_minor": 0
      },
      "text/plain": [
       "Batches:   0%|          | 0/1 [00:00<?, ?it/s]"
      ]
     },
     "metadata": {},
     "output_type": "display_data"
    },
    {
     "name": "stderr",
     "output_type": "stream",
     "text": [
      "You're using a Qwen2TokenizerFast tokenizer. Please note that with a fast tokenizer, using the `__call__` method is faster than using a method to encode the text followed by a call to the `pad` method to get a padded encoding.\n",
      "Processing rows:  28%|██▊       | 14/50 [02:28<06:52, 11.45s/row]"
     ]
    },
    {
     "data": {
      "application/vnd.jupyter.widget-view+json": {
       "model_id": "9b120d2afe6343d39c784c75470d0983",
       "version_major": 2,
       "version_minor": 0
      },
      "text/plain": [
       "Batches:   0%|          | 0/1 [00:00<?, ?it/s]"
      ]
     },
     "metadata": {},
     "output_type": "display_data"
    },
    {
     "name": "stderr",
     "output_type": "stream",
     "text": [
      "You're using a Qwen2TokenizerFast tokenizer. Please note that with a fast tokenizer, using the `__call__` method is faster than using a method to encode the text followed by a call to the `pad` method to get a padded encoding.\n"
     ]
    },
    {
     "data": {
      "application/vnd.jupyter.widget-view+json": {
       "model_id": "21a76ef579be471885dec6ca730786f2",
       "version_major": 2,
       "version_minor": 0
      },
      "text/plain": [
       "Batches:   0%|          | 0/1 [00:00<?, ?it/s]"
      ]
     },
     "metadata": {},
     "output_type": "display_data"
    },
    {
     "name": "stderr",
     "output_type": "stream",
     "text": [
      "You're using a Qwen2TokenizerFast tokenizer. Please note that with a fast tokenizer, using the `__call__` method is faster than using a method to encode the text followed by a call to the `pad` method to get a padded encoding.\n"
     ]
    },
    {
     "data": {
      "application/vnd.jupyter.widget-view+json": {
       "model_id": "1e329aa1aa2b4213baa972c7850f9578",
       "version_major": 2,
       "version_minor": 0
      },
      "text/plain": [
       "Batches:   0%|          | 0/1 [00:00<?, ?it/s]"
      ]
     },
     "metadata": {},
     "output_type": "display_data"
    },
    {
     "name": "stderr",
     "output_type": "stream",
     "text": [
      "You're using a Qwen2TokenizerFast tokenizer. Please note that with a fast tokenizer, using the `__call__` method is faster than using a method to encode the text followed by a call to the `pad` method to get a padded encoding.\n"
     ]
    },
    {
     "data": {
      "application/vnd.jupyter.widget-view+json": {
       "model_id": "54c7cde5365a42c98dc1b683761fc5c3",
       "version_major": 2,
       "version_minor": 0
      },
      "text/plain": [
       "Batches:   0%|          | 0/1 [00:00<?, ?it/s]"
      ]
     },
     "metadata": {},
     "output_type": "display_data"
    },
    {
     "name": "stderr",
     "output_type": "stream",
     "text": [
      "You're using a Qwen2TokenizerFast tokenizer. Please note that with a fast tokenizer, using the `__call__` method is faster than using a method to encode the text followed by a call to the `pad` method to get a padded encoding.\n"
     ]
    }
   ],
   "source": [
    "import config.prompt\n",
    "importlib.reload(config.prompt)\n",
    "\n",
    "top_k_values = [5, 10, 20]\n",
    "\n",
    "results = []\n",
    "\n",
    "# 1) Filter out the null‐question rows\n",
    "df_nonnull = df[df[\"question\"].notnull()]\n",
    "\n",
    "df_shuffled = df_nonnull.sample(n=50, random_state=42).reset_index(drop=True)\n",
    "\n",
    "for top_k in top_k_values:\n",
    "    for index, row in tqdm(\n",
    "        df_shuffled.iterrows(),\n",
    "        total=len(df_shuffled),\n",
    "        desc=\"Processing rows\",\n",
    "        unit=\"row\"\n",
    "    ):\n",
    "        reference = row[\"groundTruth\"]\n",
    "        relevant_documents = row[\"documents\"]\n",
    "        question = row[\"question\"]\n",
    "\n",
    "        for test_case in test_cases:\n",
    "            pipeline = test_case[\"pipeline\"]\n",
    "            request_payload = {\n",
    "                \"retriever\": {\n",
    "                    \"top_k\": top_k,\n",
    "                },\n",
    "                \"reranker\": {\n",
    "                    \"query\": question,\n",
    "                    \"top_k\": top_k,\n",
    "                },\n",
    "                \"query_embedder\": {\n",
    "                    \"text\": question,\n",
    "                },\n",
    "                \"map_evaluator\": {\n",
    "                    \"ground_truth_documents\": [relevant_documents],\n",
    "                },\n",
    "                \"mrr_evaluator\": {\n",
    "                    \"ground_truth_documents\": [relevant_documents],\n",
    "                },\n",
    "                \"recall_evaluator\": {\n",
    "                    \"ground_truth_documents\": [relevant_documents],\n",
    "                }\n",
    "            }\n",
    "            if \"bm25_retriever\" in pipeline.graph.nodes:\n",
    "                request_payload[\"bm25_retriever\"] = {\n",
    "                    \"query\": question,\n",
    "                    \"top_k\": top_k,\n",
    "                }\n",
    "            result = pipeline.run(request_payload)\n",
    "\n",
    "            map_score = result.get(\"map_evaluator\", {}).get(\"score\", {})\n",
    "            mrr_score = result.get(\"mrr_evaluator\", {}).get(\"score\", {})\n",
    "            recall_score = result.get(\"recall_evaluator\", {}).get(\"score\", {})\n",
    "\n",
    "            df.at[index, f\"{test_case['name']}_map\"] = map_score\n",
    "            df.at[index, f\"{test_case['name']}_mrr\"] = mrr_score\n",
    "            df.at[index, f\"{test_case['name']}_recall\"] = recall_score\n",
    "\n",
    "    embedding_model_name = os.environ['EMBEDDING_MODEL_NAME'].replace('/', '')\n",
    "    df.to_pickle(f\"results/retrieval_eval_results_{embedding_model_name}_topk{top_k}.pkl\")"
   ]
  },
  {
   "cell_type": "code",
   "execution_count": null,
   "id": "55f4674f",
   "metadata": {},
   "outputs": [
    {
     "data": {
      "text/html": [
       "<div>\n",
       "<style scoped>\n",
       "    .dataframe tbody tr th:only-of-type {\n",
       "        vertical-align: middle;\n",
       "    }\n",
       "\n",
       "    .dataframe tbody tr th {\n",
       "        vertical-align: top;\n",
       "    }\n",
       "\n",
       "    .dataframe thead th {\n",
       "        text-align: right;\n",
       "    }\n",
       "</style>\n",
       "<table border=\"1\" class=\"dataframe\">\n",
       "  <thead>\n",
       "    <tr style=\"text-align: right;\">\n",
       "      <th></th>\n",
       "      <th>question</th>\n",
       "      <th>references</th>\n",
       "      <th>groundTruth</th>\n",
       "      <th>source_file</th>\n",
       "      <th>documents</th>\n",
       "      <th>variant</th>\n",
       "      <th>prev_messages</th>\n",
       "      <th>Basic RAG_map</th>\n",
       "      <th>Basic RAG_mrr</th>\n",
       "      <th>Basic RAG_recall</th>\n",
       "      <th>Hybrid RAG_map</th>\n",
       "      <th>Hybrid RAG_mrr</th>\n",
       "      <th>Hybrid RAG_recall</th>\n",
       "      <th>Contextual RAG_map</th>\n",
       "      <th>Contextual RAG_mrr</th>\n",
       "      <th>Contextual RAG_recall</th>\n",
       "      <th>Contextual Hybrid RAG_map</th>\n",
       "      <th>Contextual Hybrid RAG_mrr</th>\n",
       "      <th>Contextual Hybrid RAG_recall</th>\n",
       "    </tr>\n",
       "  </thead>\n",
       "  <tbody>\n",
       "    <tr>\n",
       "      <th>0</th>\n",
       "      <td>Wie läuft eine äußere Wendung ab und was passi...</td>\n",
       "      <td>[Eine äußere Wendung findet in der Regel in ei...</td>\n",
       "      <td>Eine äußere Wendung findet ambulant in einer K...</td>\n",
       "      <td>Äußere Wendung.md</td>\n",
       "      <td>[Document(id=42e5316808b9457eed1b32ec3d3a591b2...</td>\n",
       "      <td>default</td>\n",
       "      <td>[]</td>\n",
       "      <td>0.052632</td>\n",
       "      <td>0.052632</td>\n",
       "      <td>1.0</td>\n",
       "      <td>0.000000</td>\n",
       "      <td>0.000000</td>\n",
       "      <td>0.0</td>\n",
       "      <td>1.000000</td>\n",
       "      <td>1.000000</td>\n",
       "      <td>1.0</td>\n",
       "      <td>0.000000</td>\n",
       "      <td>0.000000</td>\n",
       "      <td>0.0</td>\n",
       "    </tr>\n",
       "    <tr>\n",
       "      <th>1</th>\n",
       "      <td>Und wie lange dauert dieser Eingriff normalerw...</td>\n",
       "      <td>[Eine äußere Wendung findet in der Regel in ei...</td>\n",
       "      <td>Eine äußere Wendung findet ambulant in einer K...</td>\n",
       "      <td>Äußere Wendung.md</td>\n",
       "      <td>[Document(id=42e5316808b9457eed1b32ec3d3a591b2...</td>\n",
       "      <td>contextual</td>\n",
       "      <td>[Wie läuft eine äußere Wendung ab?, Bei der äu...</td>\n",
       "      <td>0.216667</td>\n",
       "      <td>0.333333</td>\n",
       "      <td>1.0</td>\n",
       "      <td>0.225490</td>\n",
       "      <td>0.333333</td>\n",
       "      <td>1.0</td>\n",
       "      <td>0.666667</td>\n",
       "      <td>1.000000</td>\n",
       "      <td>1.0</td>\n",
       "      <td>0.000000</td>\n",
       "      <td>0.000000</td>\n",
       "      <td>0.0</td>\n",
       "    </tr>\n",
       "    <tr>\n",
       "      <th>2</th>\n",
       "      <td>Ey, wie machen die eigentlich so 'ne äußere We...</td>\n",
       "      <td>[Eine äußere Wendung findet in der Regel in ei...</td>\n",
       "      <td>Eine äußere Wendung findet ambulant in einer K...</td>\n",
       "      <td>Äußere Wendung.md</td>\n",
       "      <td>[Document(id=42e5316808b9457eed1b32ec3d3a591b2...</td>\n",
       "      <td>slang</td>\n",
       "      <td>[]</td>\n",
       "      <td>0.166667</td>\n",
       "      <td>0.166667</td>\n",
       "      <td>1.0</td>\n",
       "      <td>0.083333</td>\n",
       "      <td>0.083333</td>\n",
       "      <td>1.0</td>\n",
       "      <td>0.071429</td>\n",
       "      <td>0.071429</td>\n",
       "      <td>1.0</td>\n",
       "      <td>0.052632</td>\n",
       "      <td>0.052632</td>\n",
       "      <td>1.0</td>\n",
       "    </tr>\n",
       "    <tr>\n",
       "      <th>3</th>\n",
       "      <td>How is an external version done and what happe...</td>\n",
       "      <td>[Eine äußere Wendung findet in der Regel in ei...</td>\n",
       "      <td>Eine äußere Wendung findet ambulant in einer K...</td>\n",
       "      <td>Äußere Wendung.md</td>\n",
       "      <td>[Document(id=42e5316808b9457eed1b32ec3d3a591b2...</td>\n",
       "      <td>english</td>\n",
       "      <td>[]</td>\n",
       "      <td>0.111111</td>\n",
       "      <td>0.111111</td>\n",
       "      <td>1.0</td>\n",
       "      <td>0.250000</td>\n",
       "      <td>0.250000</td>\n",
       "      <td>1.0</td>\n",
       "      <td>0.125000</td>\n",
       "      <td>0.125000</td>\n",
       "      <td>1.0</td>\n",
       "      <td>0.000000</td>\n",
       "      <td>0.000000</td>\n",
       "      <td>0.0</td>\n",
       "    </tr>\n",
       "    <tr>\n",
       "      <th>4</th>\n",
       "      <td>Können Sie mir erklären, wie eine äußere Wendu...</td>\n",
       "      <td>[Eine äußere Wendung findet in der Regel in ei...</td>\n",
       "      <td>Eine äußere Wendung findet ambulant in einer K...</td>\n",
       "      <td>Äußere Wendung.md</td>\n",
       "      <td>[Document(id=42e5316808b9457eed1b32ec3d3a591b2...</td>\n",
       "      <td>german-variation-1</td>\n",
       "      <td>[]</td>\n",
       "      <td>0.113095</td>\n",
       "      <td>0.083333</td>\n",
       "      <td>1.0</td>\n",
       "      <td>0.166667</td>\n",
       "      <td>0.166667</td>\n",
       "      <td>1.0</td>\n",
       "      <td>1.000000</td>\n",
       "      <td>1.000000</td>\n",
       "      <td>1.0</td>\n",
       "      <td>0.071429</td>\n",
       "      <td>0.071429</td>\n",
       "      <td>1.0</td>\n",
       "    </tr>\n",
       "    <tr>\n",
       "      <th>...</th>\n",
       "      <td>...</td>\n",
       "      <td>...</td>\n",
       "      <td>...</td>\n",
       "      <td>...</td>\n",
       "      <td>...</td>\n",
       "      <td>...</td>\n",
       "      <td>...</td>\n",
       "      <td>...</td>\n",
       "      <td>...</td>\n",
       "      <td>...</td>\n",
       "      <td>...</td>\n",
       "      <td>...</td>\n",
       "      <td>...</td>\n",
       "      <td>...</td>\n",
       "      <td>...</td>\n",
       "      <td>...</td>\n",
       "      <td>...</td>\n",
       "      <td>...</td>\n",
       "      <td>...</td>\n",
       "    </tr>\n",
       "    <tr>\n",
       "      <th>605</th>\n",
       "      <td>Was ist zu tun, wenn nach der Geburtseinleitun...</td>\n",
       "      <td>[Bei jeder medikamentösen oder mechanischen Me...</td>\n",
       "      <td>Sollten nach der Geburtseinleitung starke oder...</td>\n",
       "      <td>Einleitung der Geburt.md</td>\n",
       "      <td>[Document(id=8cbfd372f826aeb040aa026c9155ccd35...</td>\n",
       "      <td>german-variation-2</td>\n",
       "      <td>[]</td>\n",
       "      <td>NaN</td>\n",
       "      <td>NaN</td>\n",
       "      <td>NaN</td>\n",
       "      <td>NaN</td>\n",
       "      <td>NaN</td>\n",
       "      <td>NaN</td>\n",
       "      <td>NaN</td>\n",
       "      <td>NaN</td>\n",
       "      <td>NaN</td>\n",
       "      <td>NaN</td>\n",
       "      <td>NaN</td>\n",
       "      <td>NaN</td>\n",
       "    </tr>\n",
       "    <tr>\n",
       "      <th>606</th>\n",
       "      <td>Kann mir jemand sagen, was ich machen soll, we...</td>\n",
       "      <td>[Bei jeder medikamentösen oder mechanischen Me...</td>\n",
       "      <td>Sollten nach der Geburtseinleitung starke oder...</td>\n",
       "      <td>Einleitung der Geburt.md</td>\n",
       "      <td>[Document(id=8cbfd372f826aeb040aa026c9155ccd35...</td>\n",
       "      <td>german-variation-3</td>\n",
       "      <td>[]</td>\n",
       "      <td>NaN</td>\n",
       "      <td>NaN</td>\n",
       "      <td>NaN</td>\n",
       "      <td>NaN</td>\n",
       "      <td>NaN</td>\n",
       "      <td>NaN</td>\n",
       "      <td>NaN</td>\n",
       "      <td>NaN</td>\n",
       "      <td>NaN</td>\n",
       "      <td>NaN</td>\n",
       "      <td>NaN</td>\n",
       "      <td>NaN</td>\n",
       "    </tr>\n",
       "    <tr>\n",
       "      <th>607</th>\n",
       "      <td>Ich hatte eine Geburtseinleitung – was mache i...</td>\n",
       "      <td>[Bei jeder medikamentösen oder mechanischen Me...</td>\n",
       "      <td>Sollten nach der Geburtseinleitung starke oder...</td>\n",
       "      <td>Einleitung der Geburt.md</td>\n",
       "      <td>[Document(id=8cbfd372f826aeb040aa026c9155ccd35...</td>\n",
       "      <td>german-variation-4</td>\n",
       "      <td>[]</td>\n",
       "      <td>NaN</td>\n",
       "      <td>NaN</td>\n",
       "      <td>NaN</td>\n",
       "      <td>NaN</td>\n",
       "      <td>NaN</td>\n",
       "      <td>NaN</td>\n",
       "      <td>NaN</td>\n",
       "      <td>NaN</td>\n",
       "      <td>NaN</td>\n",
       "      <td>NaN</td>\n",
       "      <td>NaN</td>\n",
       "      <td>NaN</td>\n",
       "    </tr>\n",
       "    <tr>\n",
       "      <th>608</th>\n",
       "      <td>Was empfehlen Sie, wenn nach der Einleitung de...</td>\n",
       "      <td>[Bei jeder medikamentösen oder mechanischen Me...</td>\n",
       "      <td>Sollten nach der Geburtseinleitung starke oder...</td>\n",
       "      <td>Einleitung der Geburt.md</td>\n",
       "      <td>[Document(id=8cbfd372f826aeb040aa026c9155ccd35...</td>\n",
       "      <td>german-variation-5</td>\n",
       "      <td>[]</td>\n",
       "      <td>NaN</td>\n",
       "      <td>NaN</td>\n",
       "      <td>NaN</td>\n",
       "      <td>NaN</td>\n",
       "      <td>NaN</td>\n",
       "      <td>NaN</td>\n",
       "      <td>NaN</td>\n",
       "      <td>NaN</td>\n",
       "      <td>NaN</td>\n",
       "      <td>NaN</td>\n",
       "      <td>NaN</td>\n",
       "      <td>NaN</td>\n",
       "    </tr>\n",
       "    <tr>\n",
       "      <th>609</th>\n",
       "      <td>Wenn nach der Geburtseinleitung plötzlich star...</td>\n",
       "      <td>[Bei jeder medikamentösen oder mechanischen Me...</td>\n",
       "      <td>Sollten nach der Geburtseinleitung starke oder...</td>\n",
       "      <td>Einleitung der Geburt.md</td>\n",
       "      <td>[Document(id=8cbfd372f826aeb040aa026c9155ccd35...</td>\n",
       "      <td>german-variation-6</td>\n",
       "      <td>[]</td>\n",
       "      <td>NaN</td>\n",
       "      <td>NaN</td>\n",
       "      <td>NaN</td>\n",
       "      <td>NaN</td>\n",
       "      <td>NaN</td>\n",
       "      <td>NaN</td>\n",
       "      <td>NaN</td>\n",
       "      <td>NaN</td>\n",
       "      <td>NaN</td>\n",
       "      <td>NaN</td>\n",
       "      <td>NaN</td>\n",
       "      <td>NaN</td>\n",
       "    </tr>\n",
       "  </tbody>\n",
       "</table>\n",
       "<p>610 rows × 19 columns</p>\n",
       "</div>"
      ],
      "text/plain": [
       "                                              question  \\\n",
       "0    Wie läuft eine äußere Wendung ab und was passi...   \n",
       "1    Und wie lange dauert dieser Eingriff normalerw...   \n",
       "2    Ey, wie machen die eigentlich so 'ne äußere We...   \n",
       "3    How is an external version done and what happe...   \n",
       "4    Können Sie mir erklären, wie eine äußere Wendu...   \n",
       "..                                                 ...   \n",
       "605  Was ist zu tun, wenn nach der Geburtseinleitun...   \n",
       "606  Kann mir jemand sagen, was ich machen soll, we...   \n",
       "607  Ich hatte eine Geburtseinleitung – was mache i...   \n",
       "608  Was empfehlen Sie, wenn nach der Einleitung de...   \n",
       "609  Wenn nach der Geburtseinleitung plötzlich star...   \n",
       "\n",
       "                                            references  \\\n",
       "0    [Eine äußere Wendung findet in der Regel in ei...   \n",
       "1    [Eine äußere Wendung findet in der Regel in ei...   \n",
       "2    [Eine äußere Wendung findet in der Regel in ei...   \n",
       "3    [Eine äußere Wendung findet in der Regel in ei...   \n",
       "4    [Eine äußere Wendung findet in der Regel in ei...   \n",
       "..                                                 ...   \n",
       "605  [Bei jeder medikamentösen oder mechanischen Me...   \n",
       "606  [Bei jeder medikamentösen oder mechanischen Me...   \n",
       "607  [Bei jeder medikamentösen oder mechanischen Me...   \n",
       "608  [Bei jeder medikamentösen oder mechanischen Me...   \n",
       "609  [Bei jeder medikamentösen oder mechanischen Me...   \n",
       "\n",
       "                                           groundTruth  \\\n",
       "0    Eine äußere Wendung findet ambulant in einer K...   \n",
       "1    Eine äußere Wendung findet ambulant in einer K...   \n",
       "2    Eine äußere Wendung findet ambulant in einer K...   \n",
       "3    Eine äußere Wendung findet ambulant in einer K...   \n",
       "4    Eine äußere Wendung findet ambulant in einer K...   \n",
       "..                                                 ...   \n",
       "605  Sollten nach der Geburtseinleitung starke oder...   \n",
       "606  Sollten nach der Geburtseinleitung starke oder...   \n",
       "607  Sollten nach der Geburtseinleitung starke oder...   \n",
       "608  Sollten nach der Geburtseinleitung starke oder...   \n",
       "609  Sollten nach der Geburtseinleitung starke oder...   \n",
       "\n",
       "                  source_file  \\\n",
       "0          Äußere Wendung.md   \n",
       "1          Äußere Wendung.md   \n",
       "2          Äußere Wendung.md   \n",
       "3          Äußere Wendung.md   \n",
       "4          Äußere Wendung.md   \n",
       "..                        ...   \n",
       "605  Einleitung der Geburt.md   \n",
       "606  Einleitung der Geburt.md   \n",
       "607  Einleitung der Geburt.md   \n",
       "608  Einleitung der Geburt.md   \n",
       "609  Einleitung der Geburt.md   \n",
       "\n",
       "                                             documents             variant  \\\n",
       "0    [Document(id=42e5316808b9457eed1b32ec3d3a591b2...             default   \n",
       "1    [Document(id=42e5316808b9457eed1b32ec3d3a591b2...          contextual   \n",
       "2    [Document(id=42e5316808b9457eed1b32ec3d3a591b2...               slang   \n",
       "3    [Document(id=42e5316808b9457eed1b32ec3d3a591b2...             english   \n",
       "4    [Document(id=42e5316808b9457eed1b32ec3d3a591b2...  german-variation-1   \n",
       "..                                                 ...                 ...   \n",
       "605  [Document(id=8cbfd372f826aeb040aa026c9155ccd35...  german-variation-2   \n",
       "606  [Document(id=8cbfd372f826aeb040aa026c9155ccd35...  german-variation-3   \n",
       "607  [Document(id=8cbfd372f826aeb040aa026c9155ccd35...  german-variation-4   \n",
       "608  [Document(id=8cbfd372f826aeb040aa026c9155ccd35...  german-variation-5   \n",
       "609  [Document(id=8cbfd372f826aeb040aa026c9155ccd35...  german-variation-6   \n",
       "\n",
       "                                         prev_messages  Basic RAG_map  \\\n",
       "0                                                   []       0.052632   \n",
       "1    [Wie läuft eine äußere Wendung ab?, Bei der äu...       0.216667   \n",
       "2                                                   []       0.166667   \n",
       "3                                                   []       0.111111   \n",
       "4                                                   []       0.113095   \n",
       "..                                                 ...            ...   \n",
       "605                                                 []            NaN   \n",
       "606                                                 []            NaN   \n",
       "607                                                 []            NaN   \n",
       "608                                                 []            NaN   \n",
       "609                                                 []            NaN   \n",
       "\n",
       "     Basic RAG_mrr  Basic RAG_recall  Hybrid RAG_map  Hybrid RAG_mrr  \\\n",
       "0         0.052632               1.0        0.000000        0.000000   \n",
       "1         0.333333               1.0        0.225490        0.333333   \n",
       "2         0.166667               1.0        0.083333        0.083333   \n",
       "3         0.111111               1.0        0.250000        0.250000   \n",
       "4         0.083333               1.0        0.166667        0.166667   \n",
       "..             ...               ...             ...             ...   \n",
       "605            NaN               NaN             NaN             NaN   \n",
       "606            NaN               NaN             NaN             NaN   \n",
       "607            NaN               NaN             NaN             NaN   \n",
       "608            NaN               NaN             NaN             NaN   \n",
       "609            NaN               NaN             NaN             NaN   \n",
       "\n",
       "     Hybrid RAG_recall  Contextual RAG_map  Contextual RAG_mrr  \\\n",
       "0                  0.0            1.000000            1.000000   \n",
       "1                  1.0            0.666667            1.000000   \n",
       "2                  1.0            0.071429            0.071429   \n",
       "3                  1.0            0.125000            0.125000   \n",
       "4                  1.0            1.000000            1.000000   \n",
       "..                 ...                 ...                 ...   \n",
       "605                NaN                 NaN                 NaN   \n",
       "606                NaN                 NaN                 NaN   \n",
       "607                NaN                 NaN                 NaN   \n",
       "608                NaN                 NaN                 NaN   \n",
       "609                NaN                 NaN                 NaN   \n",
       "\n",
       "     Contextual RAG_recall  Contextual Hybrid RAG_map  \\\n",
       "0                      1.0                   0.000000   \n",
       "1                      1.0                   0.000000   \n",
       "2                      1.0                   0.052632   \n",
       "3                      1.0                   0.000000   \n",
       "4                      1.0                   0.071429   \n",
       "..                     ...                        ...   \n",
       "605                    NaN                        NaN   \n",
       "606                    NaN                        NaN   \n",
       "607                    NaN                        NaN   \n",
       "608                    NaN                        NaN   \n",
       "609                    NaN                        NaN   \n",
       "\n",
       "     Contextual Hybrid RAG_mrr  Contextual Hybrid RAG_recall  \n",
       "0                     0.000000                           0.0  \n",
       "1                     0.000000                           0.0  \n",
       "2                     0.052632                           1.0  \n",
       "3                     0.000000                           0.0  \n",
       "4                     0.071429                           1.0  \n",
       "..                         ...                           ...  \n",
       "605                        NaN                           NaN  \n",
       "606                        NaN                           NaN  \n",
       "607                        NaN                           NaN  \n",
       "608                        NaN                           NaN  \n",
       "609                        NaN                           NaN  \n",
       "\n",
       "[610 rows x 19 columns]"
      ]
     },
     "execution_count": 14,
     "metadata": {},
     "output_type": "execute_result"
    }
   ],
   "source": [
    "df"
   ]
  },
  {
   "cell_type": "code",
   "execution_count": null,
   "id": "e1725071",
   "metadata": {},
   "outputs": [],
   "source": []
  }
 ],
 "metadata": {
  "kernelspec": {
   "display_name": ".venv",
   "language": "python",
   "name": "python3"
  },
  "language_info": {
   "codemirror_mode": {
    "name": "ipython",
    "version": 3
   },
   "file_extension": ".py",
   "mimetype": "text/x-python",
   "name": "python",
   "nbconvert_exporter": "python",
   "pygments_lexer": "ipython3",
   "version": "3.11.2"
  }
 },
 "nbformat": 4,
 "nbformat_minor": 5
}
