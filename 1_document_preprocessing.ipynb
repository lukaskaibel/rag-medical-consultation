{
 "cells": [
  {
   "cell_type": "code",
   "execution_count": 1,
   "id": "deb62504",
   "metadata": {},
   "outputs": [
    {
     "name": "stdout",
     "output_type": "stream",
     "text": [
      "Requirement already satisfied: haystack-ai in ./.venv/lib/python3.11/site-packages (2.13.2)\n",
      "Requirement already satisfied: haystack-experimental in ./.venv/lib/python3.11/site-packages (from haystack-ai) (0.10.0)\n",
      "Requirement already satisfied: jinja2 in ./.venv/lib/python3.11/site-packages (from haystack-ai) (3.1.6)\n",
      "Requirement already satisfied: jsonschema in ./.venv/lib/python3.11/site-packages (from haystack-ai) (4.23.0)\n",
      "Requirement already satisfied: lazy-imports in ./.venv/lib/python3.11/site-packages (from haystack-ai) (0.4.0)\n",
      "Requirement already satisfied: more-itertools in ./.venv/lib/python3.11/site-packages (from haystack-ai) (10.7.0)\n",
      "Requirement already satisfied: networkx in ./.venv/lib/python3.11/site-packages (from haystack-ai) (3.4.2)\n",
      "Requirement already satisfied: numpy in ./.venv/lib/python3.11/site-packages (from haystack-ai) (2.2.6)\n",
      "Requirement already satisfied: openai>=1.56.1 in ./.venv/lib/python3.11/site-packages (from haystack-ai) (1.79.0)\n",
      "Requirement already satisfied: posthog!=3.12.0 in ./.venv/lib/python3.11/site-packages (from haystack-ai) (4.0.1)\n",
      "Requirement already satisfied: pydantic in ./.venv/lib/python3.11/site-packages (from haystack-ai) (2.11.4)\n",
      "Requirement already satisfied: python-dateutil in ./.venv/lib/python3.11/site-packages (from haystack-ai) (2.9.0.post0)\n",
      "Requirement already satisfied: pyyaml in ./.venv/lib/python3.11/site-packages (from haystack-ai) (6.0.2)\n",
      "Requirement already satisfied: requests in ./.venv/lib/python3.11/site-packages (from haystack-ai) (2.32.3)\n",
      "Requirement already satisfied: tenacity!=8.4.0 in ./.venv/lib/python3.11/site-packages (from haystack-ai) (9.1.2)\n",
      "Requirement already satisfied: tqdm in ./.venv/lib/python3.11/site-packages (from haystack-ai) (4.67.1)\n",
      "Requirement already satisfied: typing-extensions>=4.7 in ./.venv/lib/python3.11/site-packages (from haystack-ai) (4.13.2)\n",
      "Requirement already satisfied: anyio<5,>=3.5.0 in ./.venv/lib/python3.11/site-packages (from openai>=1.56.1->haystack-ai) (4.9.0)\n",
      "Requirement already satisfied: distro<2,>=1.7.0 in ./.venv/lib/python3.11/site-packages (from openai>=1.56.1->haystack-ai) (1.9.0)\n",
      "Requirement already satisfied: httpx<1,>=0.23.0 in ./.venv/lib/python3.11/site-packages (from openai>=1.56.1->haystack-ai) (0.28.1)\n",
      "Requirement already satisfied: jiter<1,>=0.4.0 in ./.venv/lib/python3.11/site-packages (from openai>=1.56.1->haystack-ai) (0.10.0)\n",
      "Requirement already satisfied: sniffio in ./.venv/lib/python3.11/site-packages (from openai>=1.56.1->haystack-ai) (1.3.1)\n",
      "Requirement already satisfied: idna>=2.8 in ./.venv/lib/python3.11/site-packages (from anyio<5,>=3.5.0->openai>=1.56.1->haystack-ai) (3.10)\n",
      "Requirement already satisfied: certifi in ./.venv/lib/python3.11/site-packages (from httpx<1,>=0.23.0->openai>=1.56.1->haystack-ai) (2025.4.26)\n",
      "Requirement already satisfied: httpcore==1.* in ./.venv/lib/python3.11/site-packages (from httpx<1,>=0.23.0->openai>=1.56.1->haystack-ai) (1.0.9)\n",
      "Requirement already satisfied: h11>=0.16 in ./.venv/lib/python3.11/site-packages (from httpcore==1.*->httpx<1,>=0.23.0->openai>=1.56.1->haystack-ai) (0.16.0)\n",
      "Requirement already satisfied: annotated-types>=0.6.0 in ./.venv/lib/python3.11/site-packages (from pydantic->haystack-ai) (0.7.0)\n",
      "Requirement already satisfied: pydantic-core==2.33.2 in ./.venv/lib/python3.11/site-packages (from pydantic->haystack-ai) (2.33.2)\n",
      "Requirement already satisfied: typing-inspection>=0.4.0 in ./.venv/lib/python3.11/site-packages (from pydantic->haystack-ai) (0.4.0)\n",
      "Requirement already satisfied: six>=1.5 in ./.venv/lib/python3.11/site-packages (from posthog!=3.12.0->haystack-ai) (1.17.0)\n",
      "Requirement already satisfied: backoff>=1.10.0 in ./.venv/lib/python3.11/site-packages (from posthog!=3.12.0->haystack-ai) (2.2.1)\n",
      "Requirement already satisfied: charset-normalizer<4,>=2 in ./.venv/lib/python3.11/site-packages (from requests->haystack-ai) (3.4.2)\n",
      "Requirement already satisfied: urllib3<3,>=1.21.1 in ./.venv/lib/python3.11/site-packages (from requests->haystack-ai) (2.4.0)\n",
      "Requirement already satisfied: filetype in ./.venv/lib/python3.11/site-packages (from haystack-experimental->haystack-ai) (1.2.0)\n",
      "Requirement already satisfied: MarkupSafe>=2.0 in ./.venv/lib/python3.11/site-packages (from jinja2->haystack-ai) (3.0.2)\n",
      "Requirement already satisfied: attrs>=22.2.0 in ./.venv/lib/python3.11/site-packages (from jsonschema->haystack-ai) (25.3.0)\n",
      "Requirement already satisfied: jsonschema-specifications>=2023.03.6 in ./.venv/lib/python3.11/site-packages (from jsonschema->haystack-ai) (2025.4.1)\n",
      "Requirement already satisfied: referencing>=0.28.4 in ./.venv/lib/python3.11/site-packages (from jsonschema->haystack-ai) (0.36.2)\n",
      "Requirement already satisfied: rpds-py>=0.7.1 in ./.venv/lib/python3.11/site-packages (from jsonschema->haystack-ai) (0.25.1)\n",
      "Note: you may need to restart the kernel to use updated packages.\n",
      "Requirement already satisfied: nltk in ./.venv/lib/python3.11/site-packages (3.9.1)\n",
      "Requirement already satisfied: click in ./.venv/lib/python3.11/site-packages (from nltk) (8.2.1)\n",
      "Requirement already satisfied: joblib in ./.venv/lib/python3.11/site-packages (from nltk) (1.5.0)\n",
      "Requirement already satisfied: regex>=2021.8.3 in ./.venv/lib/python3.11/site-packages (from nltk) (2024.11.6)\n",
      "Requirement already satisfied: tqdm in ./.venv/lib/python3.11/site-packages (from nltk) (4.67.1)\n",
      "Note: you may need to restart the kernel to use updated packages.\n",
      "Requirement already satisfied: markdown-it-py in ./.venv/lib/python3.11/site-packages (3.0.0)\n",
      "Requirement already satisfied: mdurl~=0.1 in ./.venv/lib/python3.11/site-packages (from markdown-it-py) (0.1.2)\n",
      "Note: you may need to restart the kernel to use updated packages.\n",
      "Requirement already satisfied: mdit_plain in ./.venv/lib/python3.11/site-packages (1.0.1)\n",
      "Note: you may need to restart the kernel to use updated packages.\n",
      "Requirement already satisfied: openai in ./.venv/lib/python3.11/site-packages (1.79.0)\n",
      "Requirement already satisfied: anyio<5,>=3.5.0 in ./.venv/lib/python3.11/site-packages (from openai) (4.9.0)\n",
      "Requirement already satisfied: distro<2,>=1.7.0 in ./.venv/lib/python3.11/site-packages (from openai) (1.9.0)\n",
      "Requirement already satisfied: httpx<1,>=0.23.0 in ./.venv/lib/python3.11/site-packages (from openai) (0.28.1)\n",
      "Requirement already satisfied: jiter<1,>=0.4.0 in ./.venv/lib/python3.11/site-packages (from openai) (0.10.0)\n",
      "Requirement already satisfied: pydantic<3,>=1.9.0 in ./.venv/lib/python3.11/site-packages (from openai) (2.11.4)\n",
      "Requirement already satisfied: sniffio in ./.venv/lib/python3.11/site-packages (from openai) (1.3.1)\n",
      "Requirement already satisfied: tqdm>4 in ./.venv/lib/python3.11/site-packages (from openai) (4.67.1)\n",
      "Requirement already satisfied: typing-extensions<5,>=4.11 in ./.venv/lib/python3.11/site-packages (from openai) (4.13.2)\n",
      "Requirement already satisfied: idna>=2.8 in ./.venv/lib/python3.11/site-packages (from anyio<5,>=3.5.0->openai) (3.10)\n",
      "Requirement already satisfied: certifi in ./.venv/lib/python3.11/site-packages (from httpx<1,>=0.23.0->openai) (2025.4.26)\n",
      "Requirement already satisfied: httpcore==1.* in ./.venv/lib/python3.11/site-packages (from httpx<1,>=0.23.0->openai) (1.0.9)\n",
      "Requirement already satisfied: h11>=0.16 in ./.venv/lib/python3.11/site-packages (from httpcore==1.*->httpx<1,>=0.23.0->openai) (0.16.0)\n",
      "Requirement already satisfied: annotated-types>=0.6.0 in ./.venv/lib/python3.11/site-packages (from pydantic<3,>=1.9.0->openai) (0.7.0)\n",
      "Requirement already satisfied: pydantic-core==2.33.2 in ./.venv/lib/python3.11/site-packages (from pydantic<3,>=1.9.0->openai) (2.33.2)\n",
      "Requirement already satisfied: typing-inspection>=0.4.0 in ./.venv/lib/python3.11/site-packages (from pydantic<3,>=1.9.0->openai) (0.4.0)\n",
      "Note: you may need to restart the kernel to use updated packages.\n",
      "Requirement already satisfied: pandas in ./.venv/lib/python3.11/site-packages (2.2.3)\n",
      "Requirement already satisfied: numpy>=1.23.2 in ./.venv/lib/python3.11/site-packages (from pandas) (2.2.6)\n",
      "Requirement already satisfied: python-dateutil>=2.8.2 in ./.venv/lib/python3.11/site-packages (from pandas) (2.9.0.post0)\n",
      "Requirement already satisfied: pytz>=2020.1 in ./.venv/lib/python3.11/site-packages (from pandas) (2025.2)\n",
      "Requirement already satisfied: tzdata>=2022.7 in ./.venv/lib/python3.11/site-packages (from pandas) (2025.2)\n",
      "Requirement already satisfied: six>=1.5 in ./.venv/lib/python3.11/site-packages (from python-dateutil>=2.8.2->pandas) (1.17.0)\n",
      "Note: you may need to restart the kernel to use updated packages.\n",
      "Requirement already satisfied: hf_xet in ./.venv/lib/python3.11/site-packages (1.1.2)\n",
      "Note: you may need to restart the kernel to use updated packages.\n",
      "Requirement already satisfied: ollama-haystack==2.4.2 in ./.venv/lib/python3.11/site-packages (2.4.2)\n",
      "Requirement already satisfied: haystack-ai in ./.venv/lib/python3.11/site-packages (from ollama-haystack==2.4.2) (2.13.2)\n",
      "Requirement already satisfied: ollama>=0.4.0 in ./.venv/lib/python3.11/site-packages (from ollama-haystack==2.4.2) (0.4.8)\n",
      "Requirement already satisfied: pydantic in ./.venv/lib/python3.11/site-packages (from ollama-haystack==2.4.2) (2.11.4)\n",
      "Requirement already satisfied: httpx<0.29,>=0.27 in ./.venv/lib/python3.11/site-packages (from ollama>=0.4.0->ollama-haystack==2.4.2) (0.28.1)\n",
      "Requirement already satisfied: anyio in ./.venv/lib/python3.11/site-packages (from httpx<0.29,>=0.27->ollama>=0.4.0->ollama-haystack==2.4.2) (4.9.0)\n",
      "Requirement already satisfied: certifi in ./.venv/lib/python3.11/site-packages (from httpx<0.29,>=0.27->ollama>=0.4.0->ollama-haystack==2.4.2) (2025.4.26)\n",
      "Requirement already satisfied: httpcore==1.* in ./.venv/lib/python3.11/site-packages (from httpx<0.29,>=0.27->ollama>=0.4.0->ollama-haystack==2.4.2) (1.0.9)\n",
      "Requirement already satisfied: idna in ./.venv/lib/python3.11/site-packages (from httpx<0.29,>=0.27->ollama>=0.4.0->ollama-haystack==2.4.2) (3.10)\n",
      "Requirement already satisfied: h11>=0.16 in ./.venv/lib/python3.11/site-packages (from httpcore==1.*->httpx<0.29,>=0.27->ollama>=0.4.0->ollama-haystack==2.4.2) (0.16.0)\n",
      "Requirement already satisfied: annotated-types>=0.6.0 in ./.venv/lib/python3.11/site-packages (from pydantic->ollama-haystack==2.4.2) (0.7.0)\n",
      "Requirement already satisfied: pydantic-core==2.33.2 in ./.venv/lib/python3.11/site-packages (from pydantic->ollama-haystack==2.4.2) (2.33.2)\n",
      "Requirement already satisfied: typing-extensions>=4.12.2 in ./.venv/lib/python3.11/site-packages (from pydantic->ollama-haystack==2.4.2) (4.13.2)\n",
      "Requirement already satisfied: typing-inspection>=0.4.0 in ./.venv/lib/python3.11/site-packages (from pydantic->ollama-haystack==2.4.2) (0.4.0)\n",
      "Requirement already satisfied: sniffio>=1.1 in ./.venv/lib/python3.11/site-packages (from anyio->httpx<0.29,>=0.27->ollama>=0.4.0->ollama-haystack==2.4.2) (1.3.1)\n",
      "Requirement already satisfied: haystack-experimental in ./.venv/lib/python3.11/site-packages (from haystack-ai->ollama-haystack==2.4.2) (0.10.0)\n",
      "Requirement already satisfied: jinja2 in ./.venv/lib/python3.11/site-packages (from haystack-ai->ollama-haystack==2.4.2) (3.1.6)\n",
      "Requirement already satisfied: jsonschema in ./.venv/lib/python3.11/site-packages (from haystack-ai->ollama-haystack==2.4.2) (4.23.0)\n",
      "Requirement already satisfied: lazy-imports in ./.venv/lib/python3.11/site-packages (from haystack-ai->ollama-haystack==2.4.2) (0.4.0)\n",
      "Requirement already satisfied: more-itertools in ./.venv/lib/python3.11/site-packages (from haystack-ai->ollama-haystack==2.4.2) (10.7.0)\n",
      "Requirement already satisfied: networkx in ./.venv/lib/python3.11/site-packages (from haystack-ai->ollama-haystack==2.4.2) (3.4.2)\n",
      "Requirement already satisfied: numpy in ./.venv/lib/python3.11/site-packages (from haystack-ai->ollama-haystack==2.4.2) (2.2.6)\n",
      "Requirement already satisfied: openai>=1.56.1 in ./.venv/lib/python3.11/site-packages (from haystack-ai->ollama-haystack==2.4.2) (1.79.0)\n",
      "Requirement already satisfied: posthog!=3.12.0 in ./.venv/lib/python3.11/site-packages (from haystack-ai->ollama-haystack==2.4.2) (4.0.1)\n",
      "Requirement already satisfied: python-dateutil in ./.venv/lib/python3.11/site-packages (from haystack-ai->ollama-haystack==2.4.2) (2.9.0.post0)\n",
      "Requirement already satisfied: pyyaml in ./.venv/lib/python3.11/site-packages (from haystack-ai->ollama-haystack==2.4.2) (6.0.2)\n",
      "Requirement already satisfied: requests in ./.venv/lib/python3.11/site-packages (from haystack-ai->ollama-haystack==2.4.2) (2.32.3)\n",
      "Requirement already satisfied: tenacity!=8.4.0 in ./.venv/lib/python3.11/site-packages (from haystack-ai->ollama-haystack==2.4.2) (9.1.2)\n",
      "Requirement already satisfied: tqdm in ./.venv/lib/python3.11/site-packages (from haystack-ai->ollama-haystack==2.4.2) (4.67.1)\n",
      "Requirement already satisfied: distro<2,>=1.7.0 in ./.venv/lib/python3.11/site-packages (from openai>=1.56.1->haystack-ai->ollama-haystack==2.4.2) (1.9.0)\n",
      "Requirement already satisfied: jiter<1,>=0.4.0 in ./.venv/lib/python3.11/site-packages (from openai>=1.56.1->haystack-ai->ollama-haystack==2.4.2) (0.10.0)\n",
      "Requirement already satisfied: six>=1.5 in ./.venv/lib/python3.11/site-packages (from posthog!=3.12.0->haystack-ai->ollama-haystack==2.4.2) (1.17.0)\n",
      "Requirement already satisfied: backoff>=1.10.0 in ./.venv/lib/python3.11/site-packages (from posthog!=3.12.0->haystack-ai->ollama-haystack==2.4.2) (2.2.1)\n",
      "Requirement already satisfied: charset-normalizer<4,>=2 in ./.venv/lib/python3.11/site-packages (from requests->haystack-ai->ollama-haystack==2.4.2) (3.4.2)\n",
      "Requirement already satisfied: urllib3<3,>=1.21.1 in ./.venv/lib/python3.11/site-packages (from requests->haystack-ai->ollama-haystack==2.4.2) (2.4.0)\n",
      "Requirement already satisfied: filetype in ./.venv/lib/python3.11/site-packages (from haystack-experimental->haystack-ai->ollama-haystack==2.4.2) (1.2.0)\n",
      "Requirement already satisfied: MarkupSafe>=2.0 in ./.venv/lib/python3.11/site-packages (from jinja2->haystack-ai->ollama-haystack==2.4.2) (3.0.2)\n",
      "Requirement already satisfied: attrs>=22.2.0 in ./.venv/lib/python3.11/site-packages (from jsonschema->haystack-ai->ollama-haystack==2.4.2) (25.3.0)\n",
      "Requirement already satisfied: jsonschema-specifications>=2023.03.6 in ./.venv/lib/python3.11/site-packages (from jsonschema->haystack-ai->ollama-haystack==2.4.2) (2025.4.1)\n",
      "Requirement already satisfied: referencing>=0.28.4 in ./.venv/lib/python3.11/site-packages (from jsonschema->haystack-ai->ollama-haystack==2.4.2) (0.36.2)\n",
      "Requirement already satisfied: rpds-py>=0.7.1 in ./.venv/lib/python3.11/site-packages (from jsonschema->haystack-ai->ollama-haystack==2.4.2) (0.25.1)\n",
      "Note: you may need to restart the kernel to use updated packages.\n"
     ]
    }
   ],
   "source": [
    "import os\n",
    "# Setting temp dir to /srv/data directory, as it otherwise fills up the home directory too much\n",
    "# Just comment out on machines that are not \"Goober\"\n",
    "os.environ[\"TMPDIR\"] = \"/srv/data/tmp\"\n",
    "os.makedirs(\"/srv/data/tmp\", exist_ok=True)\n",
    "\n",
    "%pip install haystack-ai\n",
    "%pip install nltk\n",
    "%pip install markdown-it-py\n",
    "%pip install mdit_plain\n",
    "%pip install openai\n",
    "%pip install pandas\n",
    "%pip install hf_xet\n",
    "%pip install ollama-haystack==2.4.2"
   ]
  },
  {
   "cell_type": "code",
   "execution_count": 2,
   "id": "7ef9a21e",
   "metadata": {},
   "outputs": [],
   "source": [
    "import os\n",
    "from pipelines.preprocessing_pipelines.markdown_pipeline import pipeline as markdown_pipeline\n",
    "from pipelines.preprocessing_pipelines.preprocessing_pipeline import pipeline as preprocessing_pipeline\n",
    "from haystack.dataclasses import ByteStream\n",
    "from utils.markdown_utils import for_each_markdown_file\n",
    "from tqdm import tqdm\n",
    "import pandas as pd\n",
    "import uuid\n",
    "\n",
    "tqdm.pandas()"
   ]
  },
  {
   "cell_type": "markdown",
   "id": "12d4e095",
   "metadata": {},
   "source": [
    "## Test Data"
   ]
  },
  {
   "cell_type": "markdown",
   "id": "a35086bd",
   "metadata": {},
   "source": [
    "### Preprocessing"
   ]
  },
  {
   "cell_type": "code",
   "execution_count": 3,
   "id": "8baee8e0",
   "metadata": {},
   "outputs": [
    {
     "name": "stderr",
     "output_type": "stream",
     "text": [
      "Converting markdown files to Documents: 100%|██████████| 1/1 [00:00<00:00, 262.92it/s]\n"
     ]
    },
    {
     "name": "stdout",
     "output_type": "stream",
     "text": [
      "[Document(id=7ae1e3f0-dd60-4371-ab7b-aeeebef45f64, content: 'Weshalb wird eine äußere Wendung in Erwägung gezogen?\n",
      "\n",
      "Im Laufe der Schwangerschaft kann das ungebor...', meta: {'title': 'Äußere Wendung.md'})]\n"
     ]
    },
    {
     "name": "stderr",
     "output_type": "stream",
     "text": [
      "Converting markdown files to Documents: 100%|██████████| 1/1 [00:00<00:00, 175.43it/s]\n"
     ]
    },
    {
     "name": "stdout",
     "output_type": "stream",
     "text": [
      "[Document(id=cec11350-e783-4477-b76e-bd9afa5342c5, content: 'Ein Kaiserschnitt kann aus unterschiedlichen Gründen und mit variierender Dringlichkeit notwendig we...', meta: {'title': 'Kaiserschnitt.md'})]\n"
     ]
    },
    {
     "name": "stderr",
     "output_type": "stream",
     "text": [
      "Converting markdown files to Documents: 100%|██████████| 1/1 [00:00<00:00, 136.46it/s]\n"
     ]
    },
    {
     "name": "stdout",
     "output_type": "stream",
     "text": [
      "[Document(id=8aebf112-c5a5-48d5-aaa9-9635e1ee5c8b, content: 'Die Klinik für Geburtshilfe in den DRK Kliniken Berlin Köpenick bietet werdenden Eltern eine sichere...', meta: {'title': 'DRK Geburtshilfe Infos.md'})]\n"
     ]
    },
    {
     "name": "stderr",
     "output_type": "stream",
     "text": [
      "Converting markdown files to Documents: 100%|██████████| 1/1 [00:00<00:00, 157.08it/s]\n"
     ]
    },
    {
     "name": "stdout",
     "output_type": "stream",
     "text": [
      "[Document(id=73715a31-955e-47df-a9fb-6c900290bddf, content: 'Die Geburt stellt einen natürlichen Ablauf dar. Durch moderne geburtshilfliche Verfahren, insbesonde...', meta: {'title': 'Medizinische Maßnahmen rund um die Geburt.md'})]\n"
     ]
    },
    {
     "name": "stderr",
     "output_type": "stream",
     "text": [
      "Converting markdown files to Documents: 100%|██████████| 1/1 [00:00<00:00, 166.52it/s]\n"
     ]
    },
    {
     "name": "stdout",
     "output_type": "stream",
     "text": [
      "[Document(id=5f228e4f-ab5c-4585-8ee9-bb4ce764dbbc, content: 'Damit Sie den geplanten Eingriff schmerzfrei erleben, stehen zwei grundlegende Methoden zur Verfügun...', meta: {'title': 'Narkose.md'})]\n"
     ]
    },
    {
     "name": "stderr",
     "output_type": "stream",
     "text": [
      "Converting markdown files to Documents: 100%|██████████| 1/1 [00:00<00:00, 407.13it/s]"
     ]
    },
    {
     "name": "stdout",
     "output_type": "stream",
     "text": [
      "[Document(id=f534ef37-3ee9-4d29-a4d5-7c7723f610a8, content: 'In bestimmten Situationen wird ein vorzeitiger Geburtsbeginn medizinisch empfohlen oder notwendig:\n",
      "\n",
      "...', meta: {'title': 'Einleitung der Geburt.md'})]\n"
     ]
    },
    {
     "name": "stderr",
     "output_type": "stream",
     "text": [
      "\n"
     ]
    }
   ],
   "source": [
    "\n",
    "data = []\n",
    "\n",
    "def preprocess_markdown(filename: str, bytes):\n",
    "    bytestream = ByteStream(data=bytes)\n",
    "    file_id = str(uuid.uuid4())\n",
    "    md_documents = markdown_pipeline.run({\n",
    "        \"markdown_converter\" : {\n",
    "            \"byte_streams\": [bytestream],\n",
    "            \"id\": file_id,\n",
    "            \"meta\": {\n",
    "                \"title\": filename\n",
    "            }\n",
    "        }\n",
    "    })[\"markdown_converter\"][\"documents\"]\n",
    "    print(md_documents)\n",
    "    preprocessed_documents = preprocessing_pipeline.run({\n",
    "        \"splitter\": { \"documents\": md_documents }\n",
    "    })[\"filter\"][\"documents\"]\n",
    "    data.extend([{ \"document\": document } for document in preprocessed_documents])\n",
    "\n",
    "for_each_markdown_file(\"./data\", preprocess_markdown)\n",
    "\n",
    "df = pd.DataFrame(data)"
   ]
  },
  {
   "cell_type": "code",
   "execution_count": 4,
   "id": "05113733",
   "metadata": {},
   "outputs": [
    {
     "data": {
      "text/plain": [
       "321"
      ]
     },
     "execution_count": 4,
     "metadata": {},
     "output_type": "execute_result"
    }
   ],
   "source": [
    "len(df)"
   ]
  },
  {
   "cell_type": "code",
   "execution_count": 5,
   "id": "08782650",
   "metadata": {},
   "outputs": [
    {
     "name": "stdout",
     "output_type": "stream",
     "text": [
      "All document IDs are unique: True\n"
     ]
    }
   ],
   "source": [
    "document_ids = df[\"document\"].apply(lambda doc: doc.id)\n",
    "is_unique = document_ids.is_unique\n",
    "\n",
    "print(\"All document IDs are unique:\", is_unique)\n"
   ]
  },
  {
   "cell_type": "code",
   "execution_count": 6,
   "id": "619f34d0",
   "metadata": {},
   "outputs": [
    {
     "data": {
      "text/html": [
       "<div>\n",
       "<style scoped>\n",
       "    .dataframe tbody tr th:only-of-type {\n",
       "        vertical-align: middle;\n",
       "    }\n",
       "\n",
       "    .dataframe tbody tr th {\n",
       "        vertical-align: top;\n",
       "    }\n",
       "\n",
       "    .dataframe thead th {\n",
       "        text-align: right;\n",
       "    }\n",
       "</style>\n",
       "<table border=\"1\" class=\"dataframe\">\n",
       "  <thead>\n",
       "    <tr style=\"text-align: right;\">\n",
       "      <th></th>\n",
       "      <th>document</th>\n",
       "    </tr>\n",
       "  </thead>\n",
       "  <tbody>\n",
       "    <tr>\n",
       "      <th>0</th>\n",
       "      <td>Document(id=cd20e2851eabc57193d0701ee1feb0bb91...</td>\n",
       "    </tr>\n",
       "    <tr>\n",
       "      <th>1</th>\n",
       "      <td>Document(id=064cc49648b2da93bbbdf3c5eff49d64d5...</td>\n",
       "    </tr>\n",
       "    <tr>\n",
       "      <th>2</th>\n",
       "      <td>Document(id=8cf370d93ab8a2d239a9733288e705d0f4...</td>\n",
       "    </tr>\n",
       "    <tr>\n",
       "      <th>3</th>\n",
       "      <td>Document(id=829095ebf88b7c5b70c985ac154e04a26b...</td>\n",
       "    </tr>\n",
       "    <tr>\n",
       "      <th>4</th>\n",
       "      <td>Document(id=ea0c518b7c51e474b09770e8db97096528...</td>\n",
       "    </tr>\n",
       "    <tr>\n",
       "      <th>...</th>\n",
       "      <td>...</td>\n",
       "    </tr>\n",
       "    <tr>\n",
       "      <th>316</th>\n",
       "      <td>Document(id=119e747e2ca00879df293e1d95a9980807...</td>\n",
       "    </tr>\n",
       "    <tr>\n",
       "      <th>317</th>\n",
       "      <td>Document(id=2b54490d2dc389c78578395ee772450ae8...</td>\n",
       "    </tr>\n",
       "    <tr>\n",
       "      <th>318</th>\n",
       "      <td>Document(id=26f240814fab011db71d880777b22052f0...</td>\n",
       "    </tr>\n",
       "    <tr>\n",
       "      <th>319</th>\n",
       "      <td>Document(id=66e835839865a6c9b9670f607dc5a34dc2...</td>\n",
       "    </tr>\n",
       "    <tr>\n",
       "      <th>320</th>\n",
       "      <td>Document(id=8a64407f7a87fa95d3ce2f268e6b00c66f...</td>\n",
       "    </tr>\n",
       "  </tbody>\n",
       "</table>\n",
       "<p>321 rows × 1 columns</p>\n",
       "</div>"
      ],
      "text/plain": [
       "                                              document\n",
       "0    Document(id=cd20e2851eabc57193d0701ee1feb0bb91...\n",
       "1    Document(id=064cc49648b2da93bbbdf3c5eff49d64d5...\n",
       "2    Document(id=8cf370d93ab8a2d239a9733288e705d0f4...\n",
       "3    Document(id=829095ebf88b7c5b70c985ac154e04a26b...\n",
       "4    Document(id=ea0c518b7c51e474b09770e8db97096528...\n",
       "..                                                 ...\n",
       "316  Document(id=119e747e2ca00879df293e1d95a9980807...\n",
       "317  Document(id=2b54490d2dc389c78578395ee772450ae8...\n",
       "318  Document(id=26f240814fab011db71d880777b22052f0...\n",
       "319  Document(id=66e835839865a6c9b9670f607dc5a34dc2...\n",
       "320  Document(id=8a64407f7a87fa95d3ce2f268e6b00c66f...\n",
       "\n",
       "[321 rows x 1 columns]"
      ]
     },
     "execution_count": 6,
     "metadata": {},
     "output_type": "execute_result"
    }
   ],
   "source": [
    "df"
   ]
  },
  {
   "cell_type": "code",
   "execution_count": 7,
   "id": "75c9de18",
   "metadata": {},
   "outputs": [],
   "source": [
    "df.to_pickle(\"data/all_documents.pkl\")"
   ]
  },
  {
   "cell_type": "code",
   "execution_count": null,
   "id": "c01b962a",
   "metadata": {},
   "outputs": [],
   "source": []
  }
 ],
 "metadata": {
  "kernelspec": {
   "display_name": ".venv",
   "language": "python",
   "name": "python3"
  },
  "language_info": {
   "codemirror_mode": {
    "name": "ipython",
    "version": 3
   },
   "file_extension": ".py",
   "mimetype": "text/x-python",
   "name": "python",
   "nbconvert_exporter": "python",
   "pygments_lexer": "ipython3",
   "version": "3.11.2"
  }
 },
 "nbformat": 4,
 "nbformat_minor": 5
}
