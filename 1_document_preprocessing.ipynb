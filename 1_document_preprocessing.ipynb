{
 "cells": [
  {
   "cell_type": "markdown",
   "id": "020fd3ce",
   "metadata": {},
   "source": [
    "# Document Preprocessing"
   ]
  },
  {
   "cell_type": "code",
   "execution_count": 1,
   "id": "deb62504",
   "metadata": {},
   "outputs": [
    {
     "name": "stdout",
     "output_type": "stream",
     "text": [
      "Requirement already satisfied: haystack-ai in ./.venv/lib/python3.11/site-packages (2.13.2)\n",
      "Requirement already satisfied: haystack-experimental in ./.venv/lib/python3.11/site-packages (from haystack-ai) (0.10.0)\n",
      "Requirement already satisfied: jinja2 in ./.venv/lib/python3.11/site-packages (from haystack-ai) (3.1.6)\n",
      "Requirement already satisfied: jsonschema in ./.venv/lib/python3.11/site-packages (from haystack-ai) (4.23.0)\n",
      "Requirement already satisfied: lazy-imports in ./.venv/lib/python3.11/site-packages (from haystack-ai) (0.4.0)\n",
      "Requirement already satisfied: more-itertools in ./.venv/lib/python3.11/site-packages (from haystack-ai) (10.7.0)\n",
      "Requirement already satisfied: networkx in ./.venv/lib/python3.11/site-packages (from haystack-ai) (3.4.2)\n",
      "Requirement already satisfied: numpy in ./.venv/lib/python3.11/site-packages (from haystack-ai) (2.2.6)\n",
      "Requirement already satisfied: openai>=1.56.1 in ./.venv/lib/python3.11/site-packages (from haystack-ai) (1.79.0)\n",
      "Requirement already satisfied: posthog!=3.12.0 in ./.venv/lib/python3.11/site-packages (from haystack-ai) (4.0.1)\n",
      "Requirement already satisfied: pydantic in ./.venv/lib/python3.11/site-packages (from haystack-ai) (2.11.4)\n",
      "Requirement already satisfied: python-dateutil in ./.venv/lib/python3.11/site-packages (from haystack-ai) (2.9.0.post0)\n",
      "Requirement already satisfied: pyyaml in ./.venv/lib/python3.11/site-packages (from haystack-ai) (6.0.2)\n",
      "Requirement already satisfied: requests in ./.venv/lib/python3.11/site-packages (from haystack-ai) (2.32.3)\n",
      "Requirement already satisfied: tenacity!=8.4.0 in ./.venv/lib/python3.11/site-packages (from haystack-ai) (9.1.2)\n",
      "Requirement already satisfied: tqdm in ./.venv/lib/python3.11/site-packages (from haystack-ai) (4.67.1)\n",
      "Requirement already satisfied: typing-extensions>=4.7 in ./.venv/lib/python3.11/site-packages (from haystack-ai) (4.13.2)\n",
      "Requirement already satisfied: anyio<5,>=3.5.0 in ./.venv/lib/python3.11/site-packages (from openai>=1.56.1->haystack-ai) (4.9.0)\n",
      "Requirement already satisfied: distro<2,>=1.7.0 in ./.venv/lib/python3.11/site-packages (from openai>=1.56.1->haystack-ai) (1.9.0)\n",
      "Requirement already satisfied: httpx<1,>=0.23.0 in ./.venv/lib/python3.11/site-packages (from openai>=1.56.1->haystack-ai) (0.28.1)\n",
      "Requirement already satisfied: jiter<1,>=0.4.0 in ./.venv/lib/python3.11/site-packages (from openai>=1.56.1->haystack-ai) (0.10.0)\n",
      "Requirement already satisfied: sniffio in ./.venv/lib/python3.11/site-packages (from openai>=1.56.1->haystack-ai) (1.3.1)\n",
      "Requirement already satisfied: idna>=2.8 in ./.venv/lib/python3.11/site-packages (from anyio<5,>=3.5.0->openai>=1.56.1->haystack-ai) (3.10)\n",
      "Requirement already satisfied: certifi in ./.venv/lib/python3.11/site-packages (from httpx<1,>=0.23.0->openai>=1.56.1->haystack-ai) (2025.4.26)\n",
      "Requirement already satisfied: httpcore==1.* in ./.venv/lib/python3.11/site-packages (from httpx<1,>=0.23.0->openai>=1.56.1->haystack-ai) (1.0.9)\n",
      "Requirement already satisfied: h11>=0.16 in ./.venv/lib/python3.11/site-packages (from httpcore==1.*->httpx<1,>=0.23.0->openai>=1.56.1->haystack-ai) (0.16.0)\n",
      "Requirement already satisfied: annotated-types>=0.6.0 in ./.venv/lib/python3.11/site-packages (from pydantic->haystack-ai) (0.7.0)\n",
      "Requirement already satisfied: pydantic-core==2.33.2 in ./.venv/lib/python3.11/site-packages (from pydantic->haystack-ai) (2.33.2)\n",
      "Requirement already satisfied: typing-inspection>=0.4.0 in ./.venv/lib/python3.11/site-packages (from pydantic->haystack-ai) (0.4.0)\n",
      "Requirement already satisfied: six>=1.5 in ./.venv/lib/python3.11/site-packages (from posthog!=3.12.0->haystack-ai) (1.17.0)\n",
      "Requirement already satisfied: backoff>=1.10.0 in ./.venv/lib/python3.11/site-packages (from posthog!=3.12.0->haystack-ai) (2.2.1)\n",
      "Requirement already satisfied: charset-normalizer<4,>=2 in ./.venv/lib/python3.11/site-packages (from requests->haystack-ai) (3.4.2)\n",
      "Requirement already satisfied: urllib3<3,>=1.21.1 in ./.venv/lib/python3.11/site-packages (from requests->haystack-ai) (2.4.0)\n",
      "Requirement already satisfied: filetype in ./.venv/lib/python3.11/site-packages (from haystack-experimental->haystack-ai) (1.2.0)\n",
      "Requirement already satisfied: MarkupSafe>=2.0 in ./.venv/lib/python3.11/site-packages (from jinja2->haystack-ai) (3.0.2)\n",
      "Requirement already satisfied: attrs>=22.2.0 in ./.venv/lib/python3.11/site-packages (from jsonschema->haystack-ai) (25.3.0)\n",
      "Requirement already satisfied: jsonschema-specifications>=2023.03.6 in ./.venv/lib/python3.11/site-packages (from jsonschema->haystack-ai) (2025.4.1)\n",
      "Requirement already satisfied: referencing>=0.28.4 in ./.venv/lib/python3.11/site-packages (from jsonschema->haystack-ai) (0.36.2)\n",
      "Requirement already satisfied: rpds-py>=0.7.1 in ./.venv/lib/python3.11/site-packages (from jsonschema->haystack-ai) (0.25.1)\n",
      "Note: you may need to restart the kernel to use updated packages.\n",
      "Requirement already satisfied: nltk in ./.venv/lib/python3.11/site-packages (3.9.1)\n",
      "Requirement already satisfied: click in ./.venv/lib/python3.11/site-packages (from nltk) (8.2.1)\n",
      "Requirement already satisfied: joblib in ./.venv/lib/python3.11/site-packages (from nltk) (1.5.0)\n",
      "Requirement already satisfied: regex>=2021.8.3 in ./.venv/lib/python3.11/site-packages (from nltk) (2024.11.6)\n",
      "Requirement already satisfied: tqdm in ./.venv/lib/python3.11/site-packages (from nltk) (4.67.1)\n",
      "Note: you may need to restart the kernel to use updated packages.\n",
      "Requirement already satisfied: markdown-it-py in ./.venv/lib/python3.11/site-packages (3.0.0)\n",
      "Requirement already satisfied: mdurl~=0.1 in ./.venv/lib/python3.11/site-packages (from markdown-it-py) (0.1.2)\n",
      "Note: you may need to restart the kernel to use updated packages.\n",
      "Requirement already satisfied: mdit_plain in ./.venv/lib/python3.11/site-packages (1.0.1)\n",
      "Note: you may need to restart the kernel to use updated packages.\n",
      "Requirement already satisfied: openai in ./.venv/lib/python3.11/site-packages (1.79.0)\n",
      "Requirement already satisfied: anyio<5,>=3.5.0 in ./.venv/lib/python3.11/site-packages (from openai) (4.9.0)\n",
      "Requirement already satisfied: distro<2,>=1.7.0 in ./.venv/lib/python3.11/site-packages (from openai) (1.9.0)\n",
      "Requirement already satisfied: httpx<1,>=0.23.0 in ./.venv/lib/python3.11/site-packages (from openai) (0.28.1)\n",
      "Requirement already satisfied: jiter<1,>=0.4.0 in ./.venv/lib/python3.11/site-packages (from openai) (0.10.0)\n",
      "Requirement already satisfied: pydantic<3,>=1.9.0 in ./.venv/lib/python3.11/site-packages (from openai) (2.11.4)\n",
      "Requirement already satisfied: sniffio in ./.venv/lib/python3.11/site-packages (from openai) (1.3.1)\n",
      "Requirement already satisfied: tqdm>4 in ./.venv/lib/python3.11/site-packages (from openai) (4.67.1)\n",
      "Requirement already satisfied: typing-extensions<5,>=4.11 in ./.venv/lib/python3.11/site-packages (from openai) (4.13.2)\n",
      "Requirement already satisfied: idna>=2.8 in ./.venv/lib/python3.11/site-packages (from anyio<5,>=3.5.0->openai) (3.10)\n",
      "Requirement already satisfied: certifi in ./.venv/lib/python3.11/site-packages (from httpx<1,>=0.23.0->openai) (2025.4.26)\n",
      "Requirement already satisfied: httpcore==1.* in ./.venv/lib/python3.11/site-packages (from httpx<1,>=0.23.0->openai) (1.0.9)\n",
      "Requirement already satisfied: h11>=0.16 in ./.venv/lib/python3.11/site-packages (from httpcore==1.*->httpx<1,>=0.23.0->openai) (0.16.0)\n",
      "Requirement already satisfied: annotated-types>=0.6.0 in ./.venv/lib/python3.11/site-packages (from pydantic<3,>=1.9.0->openai) (0.7.0)\n",
      "Requirement already satisfied: pydantic-core==2.33.2 in ./.venv/lib/python3.11/site-packages (from pydantic<3,>=1.9.0->openai) (2.33.2)\n",
      "Requirement already satisfied: typing-inspection>=0.4.0 in ./.venv/lib/python3.11/site-packages (from pydantic<3,>=1.9.0->openai) (0.4.0)\n",
      "Note: you may need to restart the kernel to use updated packages.\n",
      "Requirement already satisfied: pandas in ./.venv/lib/python3.11/site-packages (2.2.3)\n",
      "Requirement already satisfied: numpy>=1.23.2 in ./.venv/lib/python3.11/site-packages (from pandas) (2.2.6)\n",
      "Requirement already satisfied: python-dateutil>=2.8.2 in ./.venv/lib/python3.11/site-packages (from pandas) (2.9.0.post0)\n",
      "Requirement already satisfied: pytz>=2020.1 in ./.venv/lib/python3.11/site-packages (from pandas) (2025.2)\n",
      "Requirement already satisfied: tzdata>=2022.7 in ./.venv/lib/python3.11/site-packages (from pandas) (2025.2)\n",
      "Requirement already satisfied: six>=1.5 in ./.venv/lib/python3.11/site-packages (from python-dateutil>=2.8.2->pandas) (1.17.0)\n",
      "Note: you may need to restart the kernel to use updated packages.\n",
      "Requirement already satisfied: hf_xet in ./.venv/lib/python3.11/site-packages (1.1.2)\n",
      "Note: you may need to restart the kernel to use updated packages.\n",
      "Requirement already satisfied: ollama-haystack==2.4.2 in ./.venv/lib/python3.11/site-packages (2.4.2)\n",
      "Requirement already satisfied: haystack-ai in ./.venv/lib/python3.11/site-packages (from ollama-haystack==2.4.2) (2.13.2)\n",
      "Requirement already satisfied: ollama>=0.4.0 in ./.venv/lib/python3.11/site-packages (from ollama-haystack==2.4.2) (0.4.8)\n",
      "Requirement already satisfied: pydantic in ./.venv/lib/python3.11/site-packages (from ollama-haystack==2.4.2) (2.11.4)\n",
      "Requirement already satisfied: httpx<0.29,>=0.27 in ./.venv/lib/python3.11/site-packages (from ollama>=0.4.0->ollama-haystack==2.4.2) (0.28.1)\n",
      "Requirement already satisfied: anyio in ./.venv/lib/python3.11/site-packages (from httpx<0.29,>=0.27->ollama>=0.4.0->ollama-haystack==2.4.2) (4.9.0)\n",
      "Requirement already satisfied: certifi in ./.venv/lib/python3.11/site-packages (from httpx<0.29,>=0.27->ollama>=0.4.0->ollama-haystack==2.4.2) (2025.4.26)\n",
      "Requirement already satisfied: httpcore==1.* in ./.venv/lib/python3.11/site-packages (from httpx<0.29,>=0.27->ollama>=0.4.0->ollama-haystack==2.4.2) (1.0.9)\n",
      "Requirement already satisfied: idna in ./.venv/lib/python3.11/site-packages (from httpx<0.29,>=0.27->ollama>=0.4.0->ollama-haystack==2.4.2) (3.10)\n",
      "Requirement already satisfied: h11>=0.16 in ./.venv/lib/python3.11/site-packages (from httpcore==1.*->httpx<0.29,>=0.27->ollama>=0.4.0->ollama-haystack==2.4.2) (0.16.0)\n",
      "Requirement already satisfied: annotated-types>=0.6.0 in ./.venv/lib/python3.11/site-packages (from pydantic->ollama-haystack==2.4.2) (0.7.0)\n",
      "Requirement already satisfied: pydantic-core==2.33.2 in ./.venv/lib/python3.11/site-packages (from pydantic->ollama-haystack==2.4.2) (2.33.2)\n",
      "Requirement already satisfied: typing-extensions>=4.12.2 in ./.venv/lib/python3.11/site-packages (from pydantic->ollama-haystack==2.4.2) (4.13.2)\n",
      "Requirement already satisfied: typing-inspection>=0.4.0 in ./.venv/lib/python3.11/site-packages (from pydantic->ollama-haystack==2.4.2) (0.4.0)\n",
      "Requirement already satisfied: sniffio>=1.1 in ./.venv/lib/python3.11/site-packages (from anyio->httpx<0.29,>=0.27->ollama>=0.4.0->ollama-haystack==2.4.2) (1.3.1)\n",
      "Requirement already satisfied: haystack-experimental in ./.venv/lib/python3.11/site-packages (from haystack-ai->ollama-haystack==2.4.2) (0.10.0)\n",
      "Requirement already satisfied: jinja2 in ./.venv/lib/python3.11/site-packages (from haystack-ai->ollama-haystack==2.4.2) (3.1.6)\n",
      "Requirement already satisfied: jsonschema in ./.venv/lib/python3.11/site-packages (from haystack-ai->ollama-haystack==2.4.2) (4.23.0)\n",
      "Requirement already satisfied: lazy-imports in ./.venv/lib/python3.11/site-packages (from haystack-ai->ollama-haystack==2.4.2) (0.4.0)\n",
      "Requirement already satisfied: more-itertools in ./.venv/lib/python3.11/site-packages (from haystack-ai->ollama-haystack==2.4.2) (10.7.0)\n",
      "Requirement already satisfied: networkx in ./.venv/lib/python3.11/site-packages (from haystack-ai->ollama-haystack==2.4.2) (3.4.2)\n",
      "Requirement already satisfied: numpy in ./.venv/lib/python3.11/site-packages (from haystack-ai->ollama-haystack==2.4.2) (2.2.6)\n",
      "Requirement already satisfied: openai>=1.56.1 in ./.venv/lib/python3.11/site-packages (from haystack-ai->ollama-haystack==2.4.2) (1.79.0)\n",
      "Requirement already satisfied: posthog!=3.12.0 in ./.venv/lib/python3.11/site-packages (from haystack-ai->ollama-haystack==2.4.2) (4.0.1)\n",
      "Requirement already satisfied: python-dateutil in ./.venv/lib/python3.11/site-packages (from haystack-ai->ollama-haystack==2.4.2) (2.9.0.post0)\n",
      "Requirement already satisfied: pyyaml in ./.venv/lib/python3.11/site-packages (from haystack-ai->ollama-haystack==2.4.2) (6.0.2)\n",
      "Requirement already satisfied: requests in ./.venv/lib/python3.11/site-packages (from haystack-ai->ollama-haystack==2.4.2) (2.32.3)\n",
      "Requirement already satisfied: tenacity!=8.4.0 in ./.venv/lib/python3.11/site-packages (from haystack-ai->ollama-haystack==2.4.2) (9.1.2)\n",
      "Requirement already satisfied: tqdm in ./.venv/lib/python3.11/site-packages (from haystack-ai->ollama-haystack==2.4.2) (4.67.1)\n",
      "Requirement already satisfied: distro<2,>=1.7.0 in ./.venv/lib/python3.11/site-packages (from openai>=1.56.1->haystack-ai->ollama-haystack==2.4.2) (1.9.0)\n",
      "Requirement already satisfied: jiter<1,>=0.4.0 in ./.venv/lib/python3.11/site-packages (from openai>=1.56.1->haystack-ai->ollama-haystack==2.4.2) (0.10.0)\n",
      "Requirement already satisfied: six>=1.5 in ./.venv/lib/python3.11/site-packages (from posthog!=3.12.0->haystack-ai->ollama-haystack==2.4.2) (1.17.0)\n",
      "Requirement already satisfied: backoff>=1.10.0 in ./.venv/lib/python3.11/site-packages (from posthog!=3.12.0->haystack-ai->ollama-haystack==2.4.2) (2.2.1)\n",
      "Requirement already satisfied: charset-normalizer<4,>=2 in ./.venv/lib/python3.11/site-packages (from requests->haystack-ai->ollama-haystack==2.4.2) (3.4.2)\n",
      "Requirement already satisfied: urllib3<3,>=1.21.1 in ./.venv/lib/python3.11/site-packages (from requests->haystack-ai->ollama-haystack==2.4.2) (2.4.0)\n",
      "Requirement already satisfied: filetype in ./.venv/lib/python3.11/site-packages (from haystack-experimental->haystack-ai->ollama-haystack==2.4.2) (1.2.0)\n",
      "Requirement already satisfied: MarkupSafe>=2.0 in ./.venv/lib/python3.11/site-packages (from jinja2->haystack-ai->ollama-haystack==2.4.2) (3.0.2)\n",
      "Requirement already satisfied: attrs>=22.2.0 in ./.venv/lib/python3.11/site-packages (from jsonschema->haystack-ai->ollama-haystack==2.4.2) (25.3.0)\n",
      "Requirement already satisfied: jsonschema-specifications>=2023.03.6 in ./.venv/lib/python3.11/site-packages (from jsonschema->haystack-ai->ollama-haystack==2.4.2) (2025.4.1)\n",
      "Requirement already satisfied: referencing>=0.28.4 in ./.venv/lib/python3.11/site-packages (from jsonschema->haystack-ai->ollama-haystack==2.4.2) (0.36.2)\n",
      "Requirement already satisfied: rpds-py>=0.7.1 in ./.venv/lib/python3.11/site-packages (from jsonschema->haystack-ai->ollama-haystack==2.4.2) (0.25.1)\n",
      "Note: you may need to restart the kernel to use updated packages.\n"
     ]
    }
   ],
   "source": [
    "import os\n",
    "# Setting temp dir to /srv/data directory, as it otherwise fills up the home directory too much\n",
    "# Just comment out on machines that are not \"Goober\"\n",
    "os.environ[\"TMPDIR\"] = \"/srv/data/tmp\"\n",
    "os.makedirs(\"/srv/data/tmp\", exist_ok=True)\n",
    "\n",
    "%pip install haystack-ai\n",
    "%pip install nltk\n",
    "%pip install markdown-it-py\n",
    "%pip install mdit_plain\n",
    "%pip install openai\n",
    "%pip install pandas\n",
    "%pip install hf_xet\n",
    "%pip install ollama-haystack==2.4.2"
   ]
  },
  {
   "cell_type": "code",
   "execution_count": 1,
   "id": "7ef9a21e",
   "metadata": {},
   "outputs": [],
   "source": [
    "from pipelines.preprocessing_pipelines.markdown_pipeline import pipeline as markdown_pipeline\n",
    "from pipelines.preprocessing_pipelines.preprocessing_pipeline import pipeline as preprocessing_pipeline\n",
    "from haystack.dataclasses import ByteStream\n",
    "from utils.markdown_utils import for_each_markdown_file\n",
    "from tqdm import tqdm\n",
    "import pandas as pd\n",
    "import uuid\n",
    "\n",
    "tqdm.pandas()"
   ]
  },
  {
   "cell_type": "code",
   "execution_count": 2,
   "id": "d985b34e",
   "metadata": {},
   "outputs": [],
   "source": [
    "splitting_configs = [\n",
    "    {\n",
    "        \"split_by\": \"word\",\n",
    "        \"split_length\": 50,\n",
    "        \"split_overlap\": 10 # 20%\n",
    "    },\n",
    "    {\n",
    "        \"split_by\": \"word\",\n",
    "        \"split_length\": 100,\n",
    "        \"split_overlap\": 20 # 20%\n",
    "    },\n",
    "    {\n",
    "        \"split_by\": \"word\",\n",
    "        \"split_length\": 400,\n",
    "        \"split_overlap\": 80 # 20%\n",
    "    },\n",
    "    {\n",
    "        \"split_by\": \"word\",\n",
    "        \"split_length\": 800,\n",
    "        \"split_overlap\": 160 # 20%\n",
    "    },\n",
    "    {\n",
    "        \"split_by\": \"line\",\n",
    "        \"split_length\": 1,\n",
    "        \"split_overlap\": 0\n",
    "    },\n",
    "    {\n",
    "        \"split_by\": \"passage\",\n",
    "        \"split_length\": 1,\n",
    "        \"split_overlap\": 0\n",
    "    },\n",
    "]"
   ]
  },
  {
   "cell_type": "code",
   "execution_count": 4,
   "id": "8baee8e0",
   "metadata": {},
   "outputs": [
    {
     "name": "stderr",
     "output_type": "stream",
     "text": [
      "Converting markdown files to Documents: 100%|██████████| 1/1 [00:00<00:00, 195.48it/s]\n"
     ]
    },
    {
     "name": "stdout",
     "output_type": "stream",
     "text": [
      "[Document(id=3d5ab7e8-4a5a-4e7b-9b4e-c0b971faa965, content: 'Ein Kaiserschnitt kann aus unterschiedlichen Gründen und mit variierender Dringlichkeit notwendig we...', meta: {'title': 'Kaiserschnitt.md'})]\n"
     ]
    },
    {
     "name": "stderr",
     "output_type": "stream",
     "text": [
      "Converting markdown files to Documents: 100%|██████████| 1/1 [00:00<00:00, 201.82it/s]\n"
     ]
    },
    {
     "name": "stdout",
     "output_type": "stream",
     "text": [
      "[Document(id=78ab4cb5-22f8-40dc-ae1b-8833fef4f5a6, content: 'Die Klinik für Geburtshilfe in den DRK Kliniken Berlin Köpenick bietet werdenden Eltern eine sichere...', meta: {'title': 'DRK Geburtshilfe Infos.md'})]\n"
     ]
    },
    {
     "name": "stderr",
     "output_type": "stream",
     "text": [
      "Converting markdown files to Documents: 100%|██████████| 1/1 [00:00<00:00, 175.42it/s]\n"
     ]
    },
    {
     "name": "stdout",
     "output_type": "stream",
     "text": [
      "[Document(id=8ede1c59-a8e3-46ed-9384-9fdca3b60978, content: 'Die Geburt stellt einen natürlichen Ablauf dar. Durch moderne geburtshilfliche Verfahren, insbesonde...', meta: {'title': 'Medizinische Maßnahmen rund um die Geburt.md'})]\n"
     ]
    },
    {
     "name": "stderr",
     "output_type": "stream",
     "text": [
      "Converting markdown files to Documents: 100%|██████████| 1/1 [00:00<00:00, 171.66it/s]\n"
     ]
    },
    {
     "name": "stdout",
     "output_type": "stream",
     "text": [
      "[Document(id=2be04b4d-10eb-453a-a081-dd076291caff, content: 'Damit Sie den geplanten Eingriff schmerzfrei erleben, stehen zwei grundlegende Methoden zur Verfügun...', meta: {'title': 'Narkose.md'})]\n"
     ]
    },
    {
     "name": "stderr",
     "output_type": "stream",
     "text": [
      "Converting markdown files to Documents: 100%|██████████| 1/1 [00:00<00:00, 303.19it/s]\n"
     ]
    },
    {
     "name": "stdout",
     "output_type": "stream",
     "text": [
      "[Document(id=37207531-6849-4d6e-93cf-0e12737861ba, content: 'In bestimmten Situationen wird ein vorzeitiger Geburtsbeginn medizinisch empfohlen oder notwendig:\n",
      "\n",
      "...', meta: {'title': 'Einleitung der Geburt.md'})]\n"
     ]
    },
    {
     "name": "stderr",
     "output_type": "stream",
     "text": [
      "Converting markdown files to Documents: 100%|██████████| 1/1 [00:00<00:00, 546.85it/s]\n",
      "Processing Markdown files: 100%|██████████| 6/6 [00:00<00:00, 76.14it/s]\n"
     ]
    },
    {
     "name": "stdout",
     "output_type": "stream",
     "text": [
      "[Document(id=5aaa24da-18df-4929-a361-1f8526f41764, content: 'Im Laufe der Schwangerschaft kann das ungeborene Kind seine Position im Mutterleib mehrfach veränder...', meta: {'title': 'Äußere Wendung.md'})]\n"
     ]
    },
    {
     "name": "stderr",
     "output_type": "stream",
     "text": [
      "Converting markdown files to Documents: 100%|██████████| 1/1 [00:00<00:00, 152.19it/s]\n"
     ]
    },
    {
     "name": "stdout",
     "output_type": "stream",
     "text": [
      "[Document(id=11a9d9e5-c6fa-4ee5-9d3b-6790c4924db3, content: 'Ein Kaiserschnitt kann aus unterschiedlichen Gründen und mit variierender Dringlichkeit notwendig we...', meta: {'title': 'Kaiserschnitt.md'})]\n"
     ]
    },
    {
     "name": "stderr",
     "output_type": "stream",
     "text": [
      "Converting markdown files to Documents: 100%|██████████| 1/1 [00:00<00:00, 196.11it/s]\n"
     ]
    },
    {
     "name": "stdout",
     "output_type": "stream",
     "text": [
      "[Document(id=7665e71e-3931-417b-8fe7-72d6347fea71, content: 'Die Klinik für Geburtshilfe in den DRK Kliniken Berlin Köpenick bietet werdenden Eltern eine sichere...', meta: {'title': 'DRK Geburtshilfe Infos.md'})]\n"
     ]
    },
    {
     "name": "stderr",
     "output_type": "stream",
     "text": [
      "Converting markdown files to Documents: 100%|██████████| 1/1 [00:00<00:00, 171.95it/s]\n"
     ]
    },
    {
     "name": "stdout",
     "output_type": "stream",
     "text": [
      "[Document(id=b3e9fe53-311f-4c27-828a-e9d09950f4e7, content: 'Die Geburt stellt einen natürlichen Ablauf dar. Durch moderne geburtshilfliche Verfahren, insbesonde...', meta: {'title': 'Medizinische Maßnahmen rund um die Geburt.md'})]\n"
     ]
    },
    {
     "name": "stderr",
     "output_type": "stream",
     "text": [
      "Converting markdown files to Documents: 100%|██████████| 1/1 [00:00<00:00, 110.17it/s]\n"
     ]
    },
    {
     "name": "stdout",
     "output_type": "stream",
     "text": [
      "[Document(id=23321a12-f633-4d96-82ab-46e8b926a25f, content: 'Damit Sie den geplanten Eingriff schmerzfrei erleben, stehen zwei grundlegende Methoden zur Verfügun...', meta: {'title': 'Narkose.md'})]\n"
     ]
    },
    {
     "name": "stderr",
     "output_type": "stream",
     "text": [
      "Converting markdown files to Documents: 100%|██████████| 1/1 [00:00<00:00, 285.83it/s]\n"
     ]
    },
    {
     "name": "stdout",
     "output_type": "stream",
     "text": [
      "[Document(id=0038bf83-6aa7-4fa2-a010-afa7a321a092, content: 'In bestimmten Situationen wird ein vorzeitiger Geburtsbeginn medizinisch empfohlen oder notwendig:\n",
      "\n",
      "...', meta: {'title': 'Einleitung der Geburt.md'})]\n"
     ]
    },
    {
     "name": "stderr",
     "output_type": "stream",
     "text": [
      "Converting markdown files to Documents: 100%|██████████| 1/1 [00:00<00:00, 400.91it/s]\n",
      "Processing Markdown files: 100%|██████████| 6/6 [00:00<00:00, 87.78it/s]\n"
     ]
    },
    {
     "name": "stdout",
     "output_type": "stream",
     "text": [
      "[Document(id=8ed86e8c-1b21-44c3-bae8-b37331dc976c, content: 'Im Laufe der Schwangerschaft kann das ungeborene Kind seine Position im Mutterleib mehrfach veränder...', meta: {'title': 'Äußere Wendung.md'})]\n"
     ]
    },
    {
     "name": "stderr",
     "output_type": "stream",
     "text": [
      "Converting markdown files to Documents: 100%|██████████| 1/1 [00:00<00:00, 209.10it/s]\n"
     ]
    },
    {
     "name": "stdout",
     "output_type": "stream",
     "text": [
      "[Document(id=348e2dbe-172a-4ff5-bedf-810d5c570a6c, content: 'Ein Kaiserschnitt kann aus unterschiedlichen Gründen und mit variierender Dringlichkeit notwendig we...', meta: {'title': 'Kaiserschnitt.md'})]\n"
     ]
    },
    {
     "name": "stderr",
     "output_type": "stream",
     "text": [
      "Converting markdown files to Documents: 100%|██████████| 1/1 [00:00<00:00, 181.25it/s]\n"
     ]
    },
    {
     "name": "stdout",
     "output_type": "stream",
     "text": [
      "[Document(id=5f2155e1-3bb6-4163-b570-7423036d783f, content: 'Die Klinik für Geburtshilfe in den DRK Kliniken Berlin Köpenick bietet werdenden Eltern eine sichere...', meta: {'title': 'DRK Geburtshilfe Infos.md'})]\n"
     ]
    },
    {
     "name": "stderr",
     "output_type": "stream",
     "text": [
      "Converting markdown files to Documents: 100%|██████████| 1/1 [00:00<00:00, 164.59it/s]\n"
     ]
    },
    {
     "name": "stdout",
     "output_type": "stream",
     "text": [
      "[Document(id=058a501a-2616-4b1b-9c0e-233d5b89b692, content: 'Die Geburt stellt einen natürlichen Ablauf dar. Durch moderne geburtshilfliche Verfahren, insbesonde...', meta: {'title': 'Medizinische Maßnahmen rund um die Geburt.md'})]\n"
     ]
    },
    {
     "name": "stderr",
     "output_type": "stream",
     "text": [
      "Converting markdown files to Documents: 100%|██████████| 1/1 [00:00<00:00, 169.92it/s]\n"
     ]
    },
    {
     "name": "stdout",
     "output_type": "stream",
     "text": [
      "[Document(id=6b5bb6a6-77cd-430b-85db-dbfa02be1317, content: 'Damit Sie den geplanten Eingriff schmerzfrei erleben, stehen zwei grundlegende Methoden zur Verfügun...', meta: {'title': 'Narkose.md'})]\n"
     ]
    },
    {
     "name": "stderr",
     "output_type": "stream",
     "text": [
      "Converting markdown files to Documents: 100%|██████████| 1/1 [00:00<00:00, 407.57it/s]\n"
     ]
    },
    {
     "name": "stdout",
     "output_type": "stream",
     "text": [
      "[Document(id=42b6acde-44a2-476e-b7a5-2280ccd03ff5, content: 'In bestimmten Situationen wird ein vorzeitiger Geburtsbeginn medizinisch empfohlen oder notwendig:\n",
      "\n",
      "...', meta: {'title': 'Einleitung der Geburt.md'})]\n"
     ]
    },
    {
     "name": "stderr",
     "output_type": "stream",
     "text": [
      "Converting markdown files to Documents: 100%|██████████| 1/1 [00:00<00:00, 577.17it/s]\n",
      "Processing Markdown files: 100%|██████████| 6/6 [00:00<00:00, 115.15it/s]\n"
     ]
    },
    {
     "name": "stdout",
     "output_type": "stream",
     "text": [
      "[Document(id=7b7af6ea-5f23-4563-bc42-006c753b8f72, content: 'Im Laufe der Schwangerschaft kann das ungeborene Kind seine Position im Mutterleib mehrfach veränder...', meta: {'title': 'Äußere Wendung.md'})]\n"
     ]
    },
    {
     "name": "stderr",
     "output_type": "stream",
     "text": [
      "Converting markdown files to Documents: 100%|██████████| 1/1 [00:00<00:00, 197.07it/s]\n"
     ]
    },
    {
     "name": "stdout",
     "output_type": "stream",
     "text": [
      "[Document(id=ad6bb22d-75f4-4b9a-9231-8213489b3c1e, content: 'Ein Kaiserschnitt kann aus unterschiedlichen Gründen und mit variierender Dringlichkeit notwendig we...', meta: {'title': 'Kaiserschnitt.md'})]\n"
     ]
    },
    {
     "name": "stderr",
     "output_type": "stream",
     "text": [
      "Converting markdown files to Documents: 100%|██████████| 1/1 [00:00<00:00, 125.25it/s]\n"
     ]
    },
    {
     "name": "stdout",
     "output_type": "stream",
     "text": [
      "[Document(id=67e17090-f2ce-4b66-af23-4bd379950c19, content: 'Die Klinik für Geburtshilfe in den DRK Kliniken Berlin Köpenick bietet werdenden Eltern eine sichere...', meta: {'title': 'DRK Geburtshilfe Infos.md'})]\n"
     ]
    },
    {
     "name": "stderr",
     "output_type": "stream",
     "text": [
      "Converting markdown files to Documents: 100%|██████████| 1/1 [00:00<00:00, 178.27it/s]\n"
     ]
    },
    {
     "name": "stdout",
     "output_type": "stream",
     "text": [
      "[Document(id=65720efc-d2b2-44a7-bed8-34367af5e0a9, content: 'Die Geburt stellt einen natürlichen Ablauf dar. Durch moderne geburtshilfliche Verfahren, insbesonde...', meta: {'title': 'Medizinische Maßnahmen rund um die Geburt.md'})]\n"
     ]
    },
    {
     "name": "stderr",
     "output_type": "stream",
     "text": [
      "Converting markdown files to Documents: 100%|██████████| 1/1 [00:00<00:00, 174.97it/s]\n"
     ]
    },
    {
     "name": "stdout",
     "output_type": "stream",
     "text": [
      "[Document(id=689ff65a-5d1c-4dc4-8445-4cc5b1ee0d0c, content: 'Damit Sie den geplanten Eingriff schmerzfrei erleben, stehen zwei grundlegende Methoden zur Verfügun...', meta: {'title': 'Narkose.md'})]\n"
     ]
    },
    {
     "name": "stderr",
     "output_type": "stream",
     "text": [
      "Converting markdown files to Documents: 100%|██████████| 1/1 [00:00<00:00, 424.22it/s]\n"
     ]
    },
    {
     "name": "stdout",
     "output_type": "stream",
     "text": [
      "[Document(id=a761f8c0-9cd6-4959-9743-ea9afa497340, content: 'In bestimmten Situationen wird ein vorzeitiger Geburtsbeginn medizinisch empfohlen oder notwendig:\n",
      "\n",
      "...', meta: {'title': 'Einleitung der Geburt.md'})]\n"
     ]
    },
    {
     "name": "stderr",
     "output_type": "stream",
     "text": [
      "Converting markdown files to Documents: 100%|██████████| 1/1 [00:00<00:00, 582.38it/s]\n",
      "Processing Markdown files: 100%|██████████| 6/6 [00:00<00:00, 108.77it/s]\n"
     ]
    },
    {
     "name": "stdout",
     "output_type": "stream",
     "text": [
      "[Document(id=c63e0d13-a69b-4431-9c66-ae7ffe0ae5a6, content: 'Im Laufe der Schwangerschaft kann das ungeborene Kind seine Position im Mutterleib mehrfach veränder...', meta: {'title': 'Äußere Wendung.md'})]\n"
     ]
    },
    {
     "name": "stderr",
     "output_type": "stream",
     "text": [
      "Converting markdown files to Documents: 100%|██████████| 1/1 [00:00<00:00, 131.17it/s]\n"
     ]
    },
    {
     "name": "stdout",
     "output_type": "stream",
     "text": [
      "[Document(id=b52b717d-231c-49d3-9171-45e2b28e0e59, content: 'Ein Kaiserschnitt kann aus unterschiedlichen Gründen und mit variierender Dringlichkeit notwendig we...', meta: {'title': 'Kaiserschnitt.md'})]\n"
     ]
    },
    {
     "name": "stderr",
     "output_type": "stream",
     "text": [
      "Converting markdown files to Documents: 100%|██████████| 1/1 [00:00<00:00, 182.71it/s]\n"
     ]
    },
    {
     "name": "stdout",
     "output_type": "stream",
     "text": [
      "[Document(id=c3fd1d63-f11f-4c09-b525-a3d580fc2ec9, content: 'Die Klinik für Geburtshilfe in den DRK Kliniken Berlin Köpenick bietet werdenden Eltern eine sichere...', meta: {'title': 'DRK Geburtshilfe Infos.md'})]\n"
     ]
    },
    {
     "name": "stderr",
     "output_type": "stream",
     "text": [
      "Converting markdown files to Documents: 100%|██████████| 1/1 [00:00<00:00, 183.60it/s]\n"
     ]
    },
    {
     "name": "stdout",
     "output_type": "stream",
     "text": [
      "[Document(id=be8ab6c0-7c36-4349-99bb-a19921d634b2, content: 'Die Geburt stellt einen natürlichen Ablauf dar. Durch moderne geburtshilfliche Verfahren, insbesonde...', meta: {'title': 'Medizinische Maßnahmen rund um die Geburt.md'})]\n"
     ]
    },
    {
     "name": "stderr",
     "output_type": "stream",
     "text": [
      "Converting markdown files to Documents: 100%|██████████| 1/1 [00:00<00:00, 161.13it/s]\n"
     ]
    },
    {
     "name": "stdout",
     "output_type": "stream",
     "text": [
      "[Document(id=fe47b8be-58b4-4de1-944b-63c3bbc299a0, content: 'Damit Sie den geplanten Eingriff schmerzfrei erleben, stehen zwei grundlegende Methoden zur Verfügun...', meta: {'title': 'Narkose.md'})]\n"
     ]
    },
    {
     "name": "stderr",
     "output_type": "stream",
     "text": [
      "Converting markdown files to Documents: 100%|██████████| 1/1 [00:00<00:00, 417.68it/s]\n"
     ]
    },
    {
     "name": "stdout",
     "output_type": "stream",
     "text": [
      "[Document(id=6cdf4cfb-b58e-425a-9aa4-e2aae498718f, content: 'In bestimmten Situationen wird ein vorzeitiger Geburtsbeginn medizinisch empfohlen oder notwendig:\n",
      "\n",
      "...', meta: {'title': 'Einleitung der Geburt.md'})]\n"
     ]
    },
    {
     "name": "stderr",
     "output_type": "stream",
     "text": [
      "Converting markdown files to Documents: 100%|██████████| 1/1 [00:00<00:00, 550.00it/s]\n",
      "Processing Markdown files: 100%|██████████| 6/6 [00:00<00:00, 82.71it/s]\n"
     ]
    },
    {
     "name": "stdout",
     "output_type": "stream",
     "text": [
      "[Document(id=06e794b0-dea7-4bec-b7a1-42732bd13b0b, content: 'Im Laufe der Schwangerschaft kann das ungeborene Kind seine Position im Mutterleib mehrfach veränder...', meta: {'title': 'Äußere Wendung.md'})]\n"
     ]
    },
    {
     "name": "stderr",
     "output_type": "stream",
     "text": [
      "Converting markdown files to Documents: 100%|██████████| 1/1 [00:00<00:00, 200.24it/s]\n"
     ]
    },
    {
     "name": "stdout",
     "output_type": "stream",
     "text": [
      "[Document(id=b0926714-296a-4592-9f37-71829f903d99, content: 'Ein Kaiserschnitt kann aus unterschiedlichen Gründen und mit variierender Dringlichkeit notwendig we...', meta: {'title': 'Kaiserschnitt.md'})]\n"
     ]
    },
    {
     "name": "stderr",
     "output_type": "stream",
     "text": [
      "Converting markdown files to Documents: 100%|██████████| 1/1 [00:00<00:00, 187.83it/s]\n"
     ]
    },
    {
     "name": "stdout",
     "output_type": "stream",
     "text": [
      "[Document(id=a0bbec9a-0445-46d1-9826-23bf12bee4d0, content: 'Die Klinik für Geburtshilfe in den DRK Kliniken Berlin Köpenick bietet werdenden Eltern eine sichere...', meta: {'title': 'DRK Geburtshilfe Infos.md'})]\n"
     ]
    },
    {
     "name": "stderr",
     "output_type": "stream",
     "text": [
      "Converting markdown files to Documents: 100%|██████████| 1/1 [00:00<00:00, 168.80it/s]\n"
     ]
    },
    {
     "name": "stdout",
     "output_type": "stream",
     "text": [
      "[Document(id=0da3aac7-c441-4b7b-9c67-0725cb474f6a, content: 'Die Geburt stellt einen natürlichen Ablauf dar. Durch moderne geburtshilfliche Verfahren, insbesonde...', meta: {'title': 'Medizinische Maßnahmen rund um die Geburt.md'})]\n"
     ]
    },
    {
     "name": "stderr",
     "output_type": "stream",
     "text": [
      "Converting markdown files to Documents: 100%|██████████| 1/1 [00:00<00:00, 168.06it/s]\n"
     ]
    },
    {
     "name": "stdout",
     "output_type": "stream",
     "text": [
      "[Document(id=33716fbf-f2d8-4bc7-9c51-38e59938c9e4, content: 'Damit Sie den geplanten Eingriff schmerzfrei erleben, stehen zwei grundlegende Methoden zur Verfügun...', meta: {'title': 'Narkose.md'})]\n"
     ]
    },
    {
     "name": "stderr",
     "output_type": "stream",
     "text": [
      "Converting markdown files to Documents: 100%|██████████| 1/1 [00:00<00:00, 415.52it/s]\n"
     ]
    },
    {
     "name": "stdout",
     "output_type": "stream",
     "text": [
      "[Document(id=f3465cfb-863d-4b75-8820-7242c16cd0c6, content: 'In bestimmten Situationen wird ein vorzeitiger Geburtsbeginn medizinisch empfohlen oder notwendig:\n",
      "\n",
      "...', meta: {'title': 'Einleitung der Geburt.md'})]\n"
     ]
    },
    {
     "name": "stderr",
     "output_type": "stream",
     "text": [
      "Converting markdown files to Documents: 100%|██████████| 1/1 [00:00<00:00, 576.54it/s]\n",
      "Processing Markdown files: 100%|██████████| 6/6 [00:00<00:00, 101.38it/s]"
     ]
    },
    {
     "name": "stdout",
     "output_type": "stream",
     "text": [
      "[Document(id=a7ed676f-0b8d-44fc-9f8c-e2a3d13af30a, content: 'Im Laufe der Schwangerschaft kann das ungeborene Kind seine Position im Mutterleib mehrfach veränder...', meta: {'title': 'Äußere Wendung.md'})]\n"
     ]
    },
    {
     "name": "stderr",
     "output_type": "stream",
     "text": [
      "\n"
     ]
    }
   ],
   "source": [
    "from functools import partial\n",
    "\n",
    "def preprocess_markdown(filename: str, bytes, splitting_config):\n",
    "    bytestream = ByteStream(data=bytes)\n",
    "    file_id = str(uuid.uuid4())\n",
    "    md_documents = markdown_pipeline.run({\n",
    "        \"markdown_converter\" : {\n",
    "            \"byte_streams\": [bytestream],\n",
    "            \"id\": file_id,\n",
    "            \"meta\": {\n",
    "                \"title\": filename\n",
    "            }\n",
    "        }\n",
    "    })[\"markdown_converter\"][\"documents\"]\n",
    "    print(md_documents)\n",
    "    splitter = preprocessing_pipeline.get_component(\"splitter\")\n",
    "    splitter.split_by = splitting_config[\"split_by\"]\n",
    "    splitter.split_length = splitting_config[\"split_length\"]\n",
    "    splitter.split_overlap = splitting_config[\"split_overlap\"]\n",
    "    preprocessed_documents = preprocessing_pipeline.run({\n",
    "        \"splitter\": { \"documents\": md_documents }\n",
    "    })[\"filter\"][\"documents\"]\n",
    "    data.extend([{ \"document\": document } for document in preprocessed_documents])\n",
    "\n",
    "for config in splitting_configs:\n",
    "    data = []\n",
    "    process_with_config = partial(preprocess_markdown, splitting_config=config)\n",
    "    for_each_markdown_file(\"data/md_files\", process_with_config)\n",
    "    df = pd.DataFrame(data)\n",
    "    df.to_pickle(f\"data/preprocessed_documents/docs_{config['split_by']}_{config['split_length']}_{config['split_overlap']}.pkl\")\n"
   ]
  },
  {
   "cell_type": "code",
   "execution_count": 5,
   "id": "05113733",
   "metadata": {},
   "outputs": [
    {
     "data": {
      "text/plain": [
       "309"
      ]
     },
     "execution_count": 5,
     "metadata": {},
     "output_type": "execute_result"
    }
   ],
   "source": [
    "len(df)"
   ]
  },
  {
   "cell_type": "code",
   "execution_count": 6,
   "id": "08782650",
   "metadata": {},
   "outputs": [
    {
     "name": "stdout",
     "output_type": "stream",
     "text": [
      "All document IDs are unique: True\n"
     ]
    }
   ],
   "source": [
    "document_ids = df[\"document\"].apply(lambda doc: doc.id)\n",
    "is_unique = document_ids.is_unique\n",
    "\n",
    "print(\"All document IDs are unique:\", is_unique)\n"
   ]
  },
  {
   "cell_type": "code",
   "execution_count": 7,
   "id": "619f34d0",
   "metadata": {},
   "outputs": [
    {
     "name": "stdout",
     "output_type": "stream",
     "text": [
      "Mean content length: 317.13592233009706\n",
      "Median content length: 290.0\n",
      "Variance of content length: 32404.72172487707\n",
      "Min content length: 15\n"
     ]
    }
   ],
   "source": [
    "# Extract character length of each document\n",
    "df['content_length'] = df['document'].apply(lambda x: len(x.content))\n",
    "\n",
    "# Compute statistics\n",
    "mean_length = df['content_length'].mean()\n",
    "median_length = df['content_length'].median()\n",
    "variance_length = df['content_length'].var()\n",
    "min_length = df['content_length'].min()\n",
    "\n",
    "print(\"Mean content length:\", mean_length)\n",
    "print(\"Median content length:\", median_length)\n",
    "print(\"Variance of content length:\", variance_length)\n",
    "print(\"Min content length:\", min_length)"
   ]
  },
  {
   "cell_type": "markdown",
   "id": "6b657364",
   "metadata": {},
   "source": [
    "## Splitting Evaluation\n",
    "\n",
    "Which splitting strategy works best?\n",
    "- Number of chars (with overlap)\n",
    "- Number of sentences (with overlap)\n",
    "- By line\n",
    "- By paragraph"
   ]
  },
  {
   "cell_type": "code",
   "execution_count": 1,
   "id": "c01b962a",
   "metadata": {},
   "outputs": [],
   "source": [
    "import pandas as pd\n",
    "\n",
    "df_line = pd.read_pickle(\"data/preprocessed_documents/docs_line_1_0.pkl\")\n",
    "df_passage = pd.read_pickle(\"data/preprocessed_documents/docs_passage_1_0.pkl\")"
   ]
  },
  {
   "cell_type": "markdown",
   "id": "3c5ca413",
   "metadata": {},
   "source": [
    "### Average Number of Words per Line / Paragraph"
   ]
  },
  {
   "cell_type": "code",
   "execution_count": 3,
   "id": "84460587",
   "metadata": {},
   "outputs": [
    {
     "name": "stdout",
     "output_type": "stream",
     "text": [
      "Average words per document: 33.35\n",
      "Min words: 21\n",
      "Max words: 41\n",
      "33.34739454094293\n",
      "Average words per document: 34.92\n",
      "Min words: 23\n",
      "Max words: 42\n",
      "34.91585760517799\n"
     ]
    }
   ],
   "source": [
    "from utils.words_utils import compute_avg_word_count\n",
    "\n",
    "avg_words_line = compute_avg_word_count(df_line)\n",
    "print(avg_words_line)\n",
    "avg_words_passage = compute_avg_word_count(df_passage)\n",
    "print(avg_words_passage)"
   ]
  },
  {
   "cell_type": "code",
   "execution_count": 9,
   "id": "aedd978a",
   "metadata": {},
   "outputs": [
    {
     "name": "stdout",
     "output_type": "stream",
     "text": [
      "✅ FOUND: Häufig wird vorab eine Blutuntersuchung durchgeführt, Blutwerte bestimmt und ein venöser Zugang gelegt, um im Bedarfsfall Medikamente verabreichen zu können.\n",
      "✅ FOUND: Um vorzeitige Wehen zu vermeiden, wird häufig ein Medikament zur Wehenhemmung (Tokolyse) verabreicht.\n",
      "✅ FOUND: Während des gesamten Vorgangs steht Ihnen in der Regel eine Hebamme zur Seite.\n",
      "✅ FOUND: Falls notwendig, kann ein Bauchband angelegt werden, um die neue Lage zu stabilisieren.\n",
      "✅ FOUND: Auch wenn für viele dieser Methoden keine wissenschaftlichen Nachweise zur Wirksamkeit vorliegen, berichten einige Frauen von positiven Erfahrungen.\n",
      "✅ FOUND: Diese Verfahren werden zumeist von Hebammen durchgeführt und erfordern oft mehrere Sitzungen.\n",
      "✅ FOUND: Die Kosten müssen in der Regel privat getragen werden, da sie nicht von den gesetzlichen Krankenkassen übernommen werden.\n",
      "✅ FOUND: Die genaue Entscheidung hängt von der individuellen Situation ab und wird gemeinsam mit der Ärztin oder dem Arzt getroffen.\n",
      "✅ FOUND: Da dabei kindliches Blut in den mütterlichen Kreislauf gelangen kann, wird meist eine schützende Impfung gegen Rhesus-Sensibilisierung verabreicht.\n",
      "✅ FOUND: In manchen Fällen ist die Gabe von Sauerstoff oder sogar eine vorübergehende künstliche Beatmung erforderlich.\n",
      "✅ FOUND: Die wissenschaftliche Datenlage hierzu ist jedoch uneinheitlich – eindeutige Beweise für einen Zusammenhang fehlen bislang.\n",
      "✅ FOUND: Diese sind in der Regel gut mit Antibiotika und kontraktionsfördernden Mitteln behandelbar.\n",
      "✅ FOUND: In Einzelfällen kann es zu einer schweren Blutvergiftung (Sepsis) kommen, die intensivmedizinisch behandelt werden muss.\n",
      "✅ FOUND: Zur Vorbeugung wird häufig ein blutgerinnungshemmendes Mittel wie Heparin verabreicht.\n",
      "✅ FOUND: Die Chancen und Risiken einer geplanten Spontangeburt werden individuell mit Ihnen besprochen.\n",
      "✅ FOUND: Auch hierzu werden Sie im persönlichen Gespräch informiert.\n",
      "✅ FOUND: Dabei unterscheidet man:\n",
      "✅ FOUND: Im Falle eines geplanten Eingriffs erhalten Sie dazu eine separate Aufklärung über Risiken und Konsequenzen.\n",
      "✅ FOUND: Rund um die Uhr ist eine Anästhesistin anwesend, sodass jederzeit eine PDA gelegt werden kann, um starke Wehenschmerzen effektiv zu lindern.\n",
      "✅ FOUND: Insgesamt stehen vier Familienzimmer zur Verfügung, darunter als Besonderheit das in Kooperation mit dem 1. FC Union Berlin gestaltete Themenzimmer „Eiserne Knirpsenkabine“.\n",
      "✅ FOUND: Insgesamt gibt es vier Familienzimmer, darunter die „Eiserne Knirpsenkabine“, ein Fan-Zimmer im Stil des 1. FC Union Berlin.\n",
      "✅ FOUND: Leichte Gelbsucht wird mit Fototherapie behandelt.\n",
      "✅ FOUND: Sollte eine intensivere Betreuung nötig sein, erfolgt eine Zusammenarbeit mit der Neonatologie des Vivantes Klinikums Neukölln.\n",
      "✅ FOUND: Die Kreißsäle sind mit allen gängigen Gebärhilfen ausgestattet, darunter eine große Gebärwanne für Wassergeburten\n",
      "✅ FOUND: Es finden Stillberatungen, Rückbildungsgymnastik und Neugeborenenuntersuchungen (z. B. U2, Hörtest) statt.\n",
      "✅ FOUND: Danach übernimmt idealerweise eine Hebamme die Nachsorge zu Hause – sie kontrolliert Rückbildung, hilft beim Stillen und betreut das Neugeborene.\n",
      "✅ FOUND: Wer keine Hebamme findet, bekommt Unterstützung durch die Babylotsinnen.\n",
      "✅ FOUND: Für andere Besucher (z. B. Großeltern, Freunde) gelten feste Besuchszeiten: täglich von 15:00 bis 19:00 Uhr.\n",
      "✅ FOUND: So lassen sich wichtige Werte bestimmen, insbesondere bei einem möglichen Sauerstoffmangel, und es können umgehend notwendige Schritte eingeleitet werden.\n",
      "✅ FOUND: Aus diesem Grund ist es zwingend erforderlich, dass Sie sich von einer volljährigen Begleitperson nach Hause bringen lassen und dort während der ersten 24 Stunden – oder für den vom Arzt angegebenen Zeitraum – unter Aufsicht bleiben.\n",
      "✅ FOUND: Diese verschwinden meist nach wenigen Stunden oder Tagen, gelegentlich halten sie Wochen oder länger an.\n",
      "✅ FOUND: Dauerhafte Beeinträchtigungen sind jedoch sehr selten.\n",
      "✅ FOUND: In diesem Fall wird dringend zur Einleitung oder einem Kaiserschnitt geraten.\n",
      "✅ FOUND: Infolgedessen kann das Neugeborene eventuell mit Antibiotika behandelt werden müssen.\n",
      "✅ FOUND: Eine Vereiterung der Eileiter als Folge kann zur dauerhaften Unfruchtbarkeit führen.\n",
      "✅ FOUND: Informieren Sie Ihre Ärztin oder Ihren Arzt unbedingt über frühere Eingriffe!\n"
     ]
    }
   ],
   "source": [
    "from utils.string_utils import normalize\n",
    "\n",
    "# All sentence groups (flattened into one list)\n",
    "all_sentences = [\n",
    "    # Group 0\n",
    "    \"Häufig wird vorab eine Blutuntersuchung durchgeführt, Blutwerte bestimmt und ein venöser Zugang gelegt, um im Bedarfsfall Medikamente verabreichen zu können.\",\n",
    "    \"Um vorzeitige Wehen zu vermeiden, wird häufig ein Medikament zur Wehenhemmung (Tokolyse) verabreicht.\",\n",
    "    \"Während des gesamten Vorgangs steht Ihnen in der Regel eine Hebamme zur Seite.\",\n",
    "    \"Falls notwendig, kann ein Bauchband angelegt werden, um die neue Lage zu stabilisieren.\",\n",
    "    \n",
    "    # Group 3\n",
    "    \"Auch wenn für viele dieser Methoden keine wissenschaftlichen Nachweise zur Wirksamkeit vorliegen, berichten einige Frauen von positiven Erfahrungen.\",\n",
    "    \"Diese Verfahren werden zumeist von Hebammen durchgeführt und erfordern oft mehrere Sitzungen.\",\n",
    "    \"Die Kosten müssen in der Regel privat getragen werden, da sie nicht von den gesetzlichen Krankenkassen übernommen werden.\",\n",
    "    \n",
    "    # Group 4\n",
    "    \"Die genaue Entscheidung hängt von der individuellen Situation ab und wird gemeinsam mit der Ärztin oder dem Arzt getroffen.\",\n",
    "    \n",
    "    # Group 8\n",
    "    \"Da dabei kindliches Blut in den mütterlichen Kreislauf gelangen kann, wird meist eine schützende Impfung gegen Rhesus-Sensibilisierung verabreicht.\",\n",
    "    \n",
    "    # Group 10\n",
    "    \"In manchen Fällen ist die Gabe von Sauerstoff oder sogar eine vorübergehende künstliche Beatmung erforderlich.\",\n",
    "    \"Die wissenschaftliche Datenlage hierzu ist jedoch uneinheitlich – eindeutige Beweise für einen Zusammenhang fehlen bislang.\",\n",
    "    \n",
    "    # Group 13\n",
    "    \"Diese sind in der Regel gut mit Antibiotika und kontraktionsfördernden Mitteln behandelbar.\",\n",
    "    \"In Einzelfällen kann es zu einer schweren Blutvergiftung (Sepsis) kommen, die intensivmedizinisch behandelt werden muss.\",\n",
    "    \"Zur Vorbeugung wird häufig ein blutgerinnungshemmendes Mittel wie Heparin verabreicht.\",\n",
    "    \n",
    "    # Group 14\n",
    "    \"Die Chancen und Risiken einer geplanten Spontangeburt werden individuell mit Ihnen besprochen.\",\n",
    "    \n",
    "    # Group 17\n",
    "    \"Auch hierzu werden Sie im persönlichen Gespräch informiert.\",\n",
    "    \n",
    "    # Group 18\n",
    "    \"Dabei unterscheidet man:\",\n",
    "    \n",
    "    # Group 19\n",
    "    \"Im Falle eines geplanten Eingriffs erhalten Sie dazu eine separate Aufklärung über Risiken und Konsequenzen.\",\n",
    "    \n",
    "    # Group 21\n",
    "    \"Rund um die Uhr ist eine Anästhesistin anwesend, sodass jederzeit eine PDA gelegt werden kann, um starke Wehenschmerzen effektiv zu lindern.\",\n",
    "    \n",
    "    # Group 25\n",
    "    \"Insgesamt stehen vier Familienzimmer zur Verfügung, darunter als Besonderheit das in Kooperation mit dem 1. FC Union Berlin gestaltete Themenzimmer „Eiserne Knirpsenkabine“.\",\n",
    "    \"Insgesamt gibt es vier Familienzimmer, darunter die „Eiserne Knirpsenkabine“, ein Fan-Zimmer im Stil des 1. FC Union Berlin.\",\n",
    "    \n",
    "    # Group 26\n",
    "    \"Leichte Gelbsucht wird mit Fototherapie behandelt.\",\n",
    "    \"Sollte eine intensivere Betreuung nötig sein, erfolgt eine Zusammenarbeit mit der Neonatologie des Vivantes Klinikums Neukölln.\",\n",
    "    \n",
    "    # Group 27\n",
    "    \"Die Kreißsäle sind mit allen gängigen Gebärhilfen ausgestattet, darunter eine große Gebärwanne für Wassergeburten\",\n",
    "    \n",
    "    # Group 28\n",
    "    \"Es finden Stillberatungen, Rückbildungsgymnastik und Neugeborenenuntersuchungen (z. B. U2, Hörtest) statt.\",\n",
    "    \"Danach übernimmt idealerweise eine Hebamme die Nachsorge zu Hause – sie kontrolliert Rückbildung, hilft beim Stillen und betreut das Neugeborene.\",\n",
    "    \"Wer keine Hebamme findet, bekommt Unterstützung durch die Babylotsinnen.\",\n",
    "    \n",
    "    # Group 29\n",
    "    \"Danach übernimmt idealerweise eine Hebamme die Nachsorge zu Hause – sie kontrolliert Rückbildung, hilft beim Stillen und betreut das Neugeborene.\",\n",
    "    \"Wer keine Hebamme findet, bekommt Unterstützung durch die Babylotsinnen.\",\n",
    "    \n",
    "    # Group 30\n",
    "    \"Für andere Besucher (z. B. Großeltern, Freunde) gelten feste Besuchszeiten: täglich von 15:00 bis 19:00 Uhr.\",\n",
    "    \n",
    "    # Group 33\n",
    "    \"So lassen sich wichtige Werte bestimmen, insbesondere bei einem möglichen Sauerstoffmangel, und es können umgehend notwendige Schritte eingeleitet werden.\",\n",
    "    \n",
    "    # Group 48\n",
    "    \"Aus diesem Grund ist es zwingend erforderlich, dass Sie sich von einer volljährigen Begleitperson nach Hause bringen lassen und dort während der ersten 24 Stunden – oder für den vom Arzt angegebenen Zeitraum – unter Aufsicht bleiben.\",\n",
    "    \n",
    "    # Group 49\n",
    "    \"Diese verschwinden meist nach wenigen Stunden oder Tagen, gelegentlich halten sie Wochen oder länger an.\",\n",
    "    \"Dauerhafte Beeinträchtigungen sind jedoch sehr selten.\",\n",
    "    \n",
    "    # Group 52\n",
    "    \"In diesem Fall wird dringend zur Einleitung oder einem Kaiserschnitt geraten.\",\n",
    "    \n",
    "    # Group 56\n",
    "    \"Infolgedessen kann das Neugeborene eventuell mit Antibiotika behandelt werden müssen.\",\n",
    "    \"Eine Vereiterung der Eileiter als Folge kann zur dauerhaften Unfruchtbarkeit führen.\",\n",
    "    \n",
    "    # Group 57\n",
    "    \"Informieren Sie Ihre Ärztin oder Ihren Arzt unbedingt über frühere Eingriffe!\"\n",
    "]\n",
    "\n",
    "from utils.document_utils import exact_substring_match_percent\n",
    "\n",
    "# Now check each sentence in all documents\n",
    "matches = {\n",
    "    sentence: any(\n",
    "        exact_substring_match_percent(\n",
    "            normalize(sentence),\n",
    "            normalize(doc.content),\n",
    "        ) >= 0.5\n",
    "        for doc in df[\"document\"]\n",
    "    )\n",
    "    for sentence in all_sentences\n",
    "}\n",
    "\n",
    "# Print results clearly\n",
    "for sentence, found in matches.items():\n",
    "    print(f\"{'✅ FOUND' if found else '❌ NOT FOUND'}: {sentence}\")"
   ]
  },
  {
   "cell_type": "code",
   "execution_count": null,
   "id": "9fbc415e",
   "metadata": {},
   "outputs": [],
   "source": []
  },
  {
   "cell_type": "code",
   "execution_count": null,
   "id": "d5d8a936",
   "metadata": {},
   "outputs": [],
   "source": []
  }
 ],
 "metadata": {
  "kernelspec": {
   "display_name": ".venv",
   "language": "python",
   "name": "python3"
  },
  "language_info": {
   "codemirror_mode": {
    "name": "ipython",
    "version": 3
   },
   "file_extension": ".py",
   "mimetype": "text/x-python",
   "name": "python",
   "nbconvert_exporter": "python",
   "pygments_lexer": "ipython3",
   "version": "3.11.2"
  }
 },
 "nbformat": 4,
 "nbformat_minor": 5
}
