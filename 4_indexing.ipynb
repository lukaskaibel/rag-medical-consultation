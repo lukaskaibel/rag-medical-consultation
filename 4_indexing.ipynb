{
 "cells": [
  {
   "cell_type": "markdown",
   "id": "6bfc3fb0",
   "metadata": {},
   "source": [
    "# Indexing\n",
    "\n",
    "This part indexes documents (creates embedding and stores them in a Haystack DocumentStore). It uses different indexing variant s.a. normal indexing and contextualized indexing (used later for contextual RAG evaluation)."
   ]
  },
  {
   "cell_type": "code",
   "execution_count": 1,
   "id": "4ae4c66e",
   "metadata": {},
   "outputs": [
    {
     "name": "stdout",
     "output_type": "stream",
     "text": [
      "Requirement already satisfied: haystack-ai in ./.venv/lib/python3.11/site-packages (2.13.2)\n",
      "Requirement already satisfied: haystack-experimental in ./.venv/lib/python3.11/site-packages (from haystack-ai) (0.10.0)\n",
      "Requirement already satisfied: jinja2 in ./.venv/lib/python3.11/site-packages (from haystack-ai) (3.1.6)\n",
      "Requirement already satisfied: jsonschema in ./.venv/lib/python3.11/site-packages (from haystack-ai) (4.23.0)\n",
      "Requirement already satisfied: lazy-imports in ./.venv/lib/python3.11/site-packages (from haystack-ai) (0.4.0)\n",
      "Requirement already satisfied: more-itertools in ./.venv/lib/python3.11/site-packages (from haystack-ai) (10.7.0)\n",
      "Requirement already satisfied: networkx in ./.venv/lib/python3.11/site-packages (from haystack-ai) (3.4.2)\n",
      "Requirement already satisfied: numpy in ./.venv/lib/python3.11/site-packages (from haystack-ai) (2.2.6)\n",
      "Requirement already satisfied: openai>=1.56.1 in ./.venv/lib/python3.11/site-packages (from haystack-ai) (1.79.0)\n",
      "Requirement already satisfied: posthog!=3.12.0 in ./.venv/lib/python3.11/site-packages (from haystack-ai) (4.0.1)\n",
      "Requirement already satisfied: pydantic in ./.venv/lib/python3.11/site-packages (from haystack-ai) (2.11.4)\n",
      "Requirement already satisfied: python-dateutil in ./.venv/lib/python3.11/site-packages (from haystack-ai) (2.9.0.post0)\n",
      "Requirement already satisfied: pyyaml in ./.venv/lib/python3.11/site-packages (from haystack-ai) (6.0.2)\n",
      "Requirement already satisfied: requests in ./.venv/lib/python3.11/site-packages (from haystack-ai) (2.32.3)\n",
      "Requirement already satisfied: tenacity!=8.4.0 in ./.venv/lib/python3.11/site-packages (from haystack-ai) (9.1.2)\n",
      "Requirement already satisfied: tqdm in ./.venv/lib/python3.11/site-packages (from haystack-ai) (4.67.1)\n",
      "Requirement already satisfied: typing-extensions>=4.7 in ./.venv/lib/python3.11/site-packages (from haystack-ai) (4.13.2)\n",
      "Requirement already satisfied: anyio<5,>=3.5.0 in ./.venv/lib/python3.11/site-packages (from openai>=1.56.1->haystack-ai) (4.9.0)\n",
      "Requirement already satisfied: distro<2,>=1.7.0 in ./.venv/lib/python3.11/site-packages (from openai>=1.56.1->haystack-ai) (1.9.0)\n",
      "Requirement already satisfied: httpx<1,>=0.23.0 in ./.venv/lib/python3.11/site-packages (from openai>=1.56.1->haystack-ai) (0.28.1)\n",
      "Requirement already satisfied: jiter<1,>=0.4.0 in ./.venv/lib/python3.11/site-packages (from openai>=1.56.1->haystack-ai) (0.10.0)\n",
      "Requirement already satisfied: sniffio in ./.venv/lib/python3.11/site-packages (from openai>=1.56.1->haystack-ai) (1.3.1)\n",
      "Requirement already satisfied: idna>=2.8 in ./.venv/lib/python3.11/site-packages (from anyio<5,>=3.5.0->openai>=1.56.1->haystack-ai) (3.10)\n",
      "Requirement already satisfied: certifi in ./.venv/lib/python3.11/site-packages (from httpx<1,>=0.23.0->openai>=1.56.1->haystack-ai) (2025.4.26)\n",
      "Requirement already satisfied: httpcore==1.* in ./.venv/lib/python3.11/site-packages (from httpx<1,>=0.23.0->openai>=1.56.1->haystack-ai) (1.0.9)\n",
      "Requirement already satisfied: h11>=0.16 in ./.venv/lib/python3.11/site-packages (from httpcore==1.*->httpx<1,>=0.23.0->openai>=1.56.1->haystack-ai) (0.16.0)\n",
      "Requirement already satisfied: annotated-types>=0.6.0 in ./.venv/lib/python3.11/site-packages (from pydantic->haystack-ai) (0.7.0)\n",
      "Requirement already satisfied: pydantic-core==2.33.2 in ./.venv/lib/python3.11/site-packages (from pydantic->haystack-ai) (2.33.2)\n",
      "Requirement already satisfied: typing-inspection>=0.4.0 in ./.venv/lib/python3.11/site-packages (from pydantic->haystack-ai) (0.4.0)\n",
      "Requirement already satisfied: six>=1.5 in ./.venv/lib/python3.11/site-packages (from posthog!=3.12.0->haystack-ai) (1.17.0)\n",
      "Requirement already satisfied: backoff>=1.10.0 in ./.venv/lib/python3.11/site-packages (from posthog!=3.12.0->haystack-ai) (2.2.1)\n",
      "Requirement already satisfied: charset-normalizer<4,>=2 in ./.venv/lib/python3.11/site-packages (from requests->haystack-ai) (3.4.2)\n",
      "Requirement already satisfied: urllib3<3,>=1.21.1 in ./.venv/lib/python3.11/site-packages (from requests->haystack-ai) (2.4.0)\n",
      "Requirement already satisfied: filetype in ./.venv/lib/python3.11/site-packages (from haystack-experimental->haystack-ai) (1.2.0)\n",
      "Requirement already satisfied: MarkupSafe>=2.0 in ./.venv/lib/python3.11/site-packages (from jinja2->haystack-ai) (3.0.2)\n",
      "Requirement already satisfied: attrs>=22.2.0 in ./.venv/lib/python3.11/site-packages (from jsonschema->haystack-ai) (25.3.0)\n",
      "Requirement already satisfied: jsonschema-specifications>=2023.03.6 in ./.venv/lib/python3.11/site-packages (from jsonschema->haystack-ai) (2025.4.1)\n",
      "Requirement already satisfied: referencing>=0.28.4 in ./.venv/lib/python3.11/site-packages (from jsonschema->haystack-ai) (0.36.2)\n",
      "Requirement already satisfied: rpds-py>=0.7.1 in ./.venv/lib/python3.11/site-packages (from jsonschema->haystack-ai) (0.25.1)\n",
      "Note: you may need to restart the kernel to use updated packages.\n",
      "Requirement already satisfied: nltk in ./.venv/lib/python3.11/site-packages (3.9.1)\n",
      "Requirement already satisfied: click in ./.venv/lib/python3.11/site-packages (from nltk) (8.2.1)\n",
      "Requirement already satisfied: joblib in ./.venv/lib/python3.11/site-packages (from nltk) (1.5.0)\n",
      "Requirement already satisfied: regex>=2021.8.3 in ./.venv/lib/python3.11/site-packages (from nltk) (2024.11.6)\n",
      "Requirement already satisfied: tqdm in ./.venv/lib/python3.11/site-packages (from nltk) (4.67.1)\n",
      "Note: you may need to restart the kernel to use updated packages.\n",
      "Requirement already satisfied: openai in ./.venv/lib/python3.11/site-packages (1.79.0)\n",
      "Requirement already satisfied: anyio<5,>=3.5.0 in ./.venv/lib/python3.11/site-packages (from openai) (4.9.0)\n",
      "Requirement already satisfied: distro<2,>=1.7.0 in ./.venv/lib/python3.11/site-packages (from openai) (1.9.0)\n",
      "Requirement already satisfied: httpx<1,>=0.23.0 in ./.venv/lib/python3.11/site-packages (from openai) (0.28.1)\n",
      "Requirement already satisfied: jiter<1,>=0.4.0 in ./.venv/lib/python3.11/site-packages (from openai) (0.10.0)\n",
      "Requirement already satisfied: pydantic<3,>=1.9.0 in ./.venv/lib/python3.11/site-packages (from openai) (2.11.4)\n",
      "Requirement already satisfied: sniffio in ./.venv/lib/python3.11/site-packages (from openai) (1.3.1)\n",
      "Requirement already satisfied: tqdm>4 in ./.venv/lib/python3.11/site-packages (from openai) (4.67.1)\n",
      "Requirement already satisfied: typing-extensions<5,>=4.11 in ./.venv/lib/python3.11/site-packages (from openai) (4.13.2)\n",
      "Requirement already satisfied: idna>=2.8 in ./.venv/lib/python3.11/site-packages (from anyio<5,>=3.5.0->openai) (3.10)\n",
      "Requirement already satisfied: certifi in ./.venv/lib/python3.11/site-packages (from httpx<1,>=0.23.0->openai) (2025.4.26)\n",
      "Requirement already satisfied: httpcore==1.* in ./.venv/lib/python3.11/site-packages (from httpx<1,>=0.23.0->openai) (1.0.9)\n",
      "Requirement already satisfied: h11>=0.16 in ./.venv/lib/python3.11/site-packages (from httpcore==1.*->httpx<1,>=0.23.0->openai) (0.16.0)\n",
      "Requirement already satisfied: annotated-types>=0.6.0 in ./.venv/lib/python3.11/site-packages (from pydantic<3,>=1.9.0->openai) (0.7.0)\n",
      "Requirement already satisfied: pydantic-core==2.33.2 in ./.venv/lib/python3.11/site-packages (from pydantic<3,>=1.9.0->openai) (2.33.2)\n",
      "Requirement already satisfied: typing-inspection>=0.4.0 in ./.venv/lib/python3.11/site-packages (from pydantic<3,>=1.9.0->openai) (0.4.0)\n",
      "Note: you may need to restart the kernel to use updated packages.\n",
      "Requirement already satisfied: pandas in ./.venv/lib/python3.11/site-packages (2.2.3)\n",
      "Requirement already satisfied: numpy>=1.23.2 in ./.venv/lib/python3.11/site-packages (from pandas) (2.2.6)\n",
      "Requirement already satisfied: python-dateutil>=2.8.2 in ./.venv/lib/python3.11/site-packages (from pandas) (2.9.0.post0)\n",
      "Requirement already satisfied: pytz>=2020.1 in ./.venv/lib/python3.11/site-packages (from pandas) (2025.2)\n",
      "Requirement already satisfied: tzdata>=2022.7 in ./.venv/lib/python3.11/site-packages (from pandas) (2025.2)\n",
      "Requirement already satisfied: six>=1.5 in ./.venv/lib/python3.11/site-packages (from python-dateutil>=2.8.2->pandas) (1.17.0)\n",
      "Note: you may need to restart the kernel to use updated packages.\n",
      "Requirement already satisfied: sentence-transformers in ./.venv/lib/python3.11/site-packages (4.1.0)\n",
      "Requirement already satisfied: transformers<5.0.0,>=4.41.0 in ./.venv/lib/python3.11/site-packages (from sentence-transformers) (4.52.2)\n",
      "Requirement already satisfied: tqdm in ./.venv/lib/python3.11/site-packages (from sentence-transformers) (4.67.1)\n",
      "Requirement already satisfied: torch>=1.11.0 in ./.venv/lib/python3.11/site-packages (from sentence-transformers) (2.7.0)\n",
      "Requirement already satisfied: scikit-learn in ./.venv/lib/python3.11/site-packages (from sentence-transformers) (1.6.1)\n",
      "Requirement already satisfied: scipy in ./.venv/lib/python3.11/site-packages (from sentence-transformers) (1.15.3)\n",
      "Requirement already satisfied: huggingface-hub>=0.20.0 in ./.venv/lib/python3.11/site-packages (from sentence-transformers) (0.31.4)\n",
      "Requirement already satisfied: Pillow in ./.venv/lib/python3.11/site-packages (from sentence-transformers) (11.2.1)\n",
      "Requirement already satisfied: typing_extensions>=4.5.0 in ./.venv/lib/python3.11/site-packages (from sentence-transformers) (4.13.2)\n",
      "Requirement already satisfied: filelock in ./.venv/lib/python3.11/site-packages (from transformers<5.0.0,>=4.41.0->sentence-transformers) (3.18.0)\n",
      "Requirement already satisfied: numpy>=1.17 in ./.venv/lib/python3.11/site-packages (from transformers<5.0.0,>=4.41.0->sentence-transformers) (2.2.6)\n",
      "Requirement already satisfied: packaging>=20.0 in ./.venv/lib/python3.11/site-packages (from transformers<5.0.0,>=4.41.0->sentence-transformers) (24.2)\n",
      "Requirement already satisfied: pyyaml>=5.1 in ./.venv/lib/python3.11/site-packages (from transformers<5.0.0,>=4.41.0->sentence-transformers) (6.0.2)\n",
      "Requirement already satisfied: regex!=2019.12.17 in ./.venv/lib/python3.11/site-packages (from transformers<5.0.0,>=4.41.0->sentence-transformers) (2024.11.6)\n",
      "Requirement already satisfied: requests in ./.venv/lib/python3.11/site-packages (from transformers<5.0.0,>=4.41.0->sentence-transformers) (2.32.3)\n",
      "Requirement already satisfied: tokenizers<0.22,>=0.21 in ./.venv/lib/python3.11/site-packages (from transformers<5.0.0,>=4.41.0->sentence-transformers) (0.21.1)\n",
      "Requirement already satisfied: safetensors>=0.4.3 in ./.venv/lib/python3.11/site-packages (from transformers<5.0.0,>=4.41.0->sentence-transformers) (0.5.3)\n",
      "Requirement already satisfied: fsspec>=2023.5.0 in ./.venv/lib/python3.11/site-packages (from huggingface-hub>=0.20.0->sentence-transformers) (2025.3.0)\n",
      "Requirement already satisfied: sympy>=1.13.3 in ./.venv/lib/python3.11/site-packages (from torch>=1.11.0->sentence-transformers) (1.14.0)\n",
      "Requirement already satisfied: networkx in ./.venv/lib/python3.11/site-packages (from torch>=1.11.0->sentence-transformers) (3.4.2)\n",
      "Requirement already satisfied: jinja2 in ./.venv/lib/python3.11/site-packages (from torch>=1.11.0->sentence-transformers) (3.1.6)\n",
      "Requirement already satisfied: nvidia-cuda-nvrtc-cu12==12.6.77 in ./.venv/lib/python3.11/site-packages (from torch>=1.11.0->sentence-transformers) (12.6.77)\n",
      "Requirement already satisfied: nvidia-cuda-runtime-cu12==12.6.77 in ./.venv/lib/python3.11/site-packages (from torch>=1.11.0->sentence-transformers) (12.6.77)\n",
      "Requirement already satisfied: nvidia-cuda-cupti-cu12==12.6.80 in ./.venv/lib/python3.11/site-packages (from torch>=1.11.0->sentence-transformers) (12.6.80)\n",
      "Requirement already satisfied: nvidia-cudnn-cu12==9.5.1.17 in ./.venv/lib/python3.11/site-packages (from torch>=1.11.0->sentence-transformers) (9.5.1.17)\n",
      "Requirement already satisfied: nvidia-cublas-cu12==12.6.4.1 in ./.venv/lib/python3.11/site-packages (from torch>=1.11.0->sentence-transformers) (12.6.4.1)\n",
      "Requirement already satisfied: nvidia-cufft-cu12==11.3.0.4 in ./.venv/lib/python3.11/site-packages (from torch>=1.11.0->sentence-transformers) (11.3.0.4)\n",
      "Requirement already satisfied: nvidia-curand-cu12==10.3.7.77 in ./.venv/lib/python3.11/site-packages (from torch>=1.11.0->sentence-transformers) (10.3.7.77)\n",
      "Requirement already satisfied: nvidia-cusolver-cu12==11.7.1.2 in ./.venv/lib/python3.11/site-packages (from torch>=1.11.0->sentence-transformers) (11.7.1.2)\n",
      "Requirement already satisfied: nvidia-cusparse-cu12==12.5.4.2 in ./.venv/lib/python3.11/site-packages (from torch>=1.11.0->sentence-transformers) (12.5.4.2)\n",
      "Requirement already satisfied: nvidia-cusparselt-cu12==0.6.3 in ./.venv/lib/python3.11/site-packages (from torch>=1.11.0->sentence-transformers) (0.6.3)\n",
      "Requirement already satisfied: nvidia-nccl-cu12==2.26.2 in ./.venv/lib/python3.11/site-packages (from torch>=1.11.0->sentence-transformers) (2.26.2)\n",
      "Requirement already satisfied: nvidia-nvtx-cu12==12.6.77 in ./.venv/lib/python3.11/site-packages (from torch>=1.11.0->sentence-transformers) (12.6.77)\n",
      "Requirement already satisfied: nvidia-nvjitlink-cu12==12.6.85 in ./.venv/lib/python3.11/site-packages (from torch>=1.11.0->sentence-transformers) (12.6.85)\n",
      "Requirement already satisfied: nvidia-cufile-cu12==1.11.1.6 in ./.venv/lib/python3.11/site-packages (from torch>=1.11.0->sentence-transformers) (1.11.1.6)\n",
      "Requirement already satisfied: triton==3.3.0 in ./.venv/lib/python3.11/site-packages (from torch>=1.11.0->sentence-transformers) (3.3.0)\n",
      "Requirement already satisfied: setuptools>=40.8.0 in ./.venv/lib/python3.11/site-packages (from triton==3.3.0->torch>=1.11.0->sentence-transformers) (66.1.1)\n",
      "Requirement already satisfied: mpmath<1.4,>=1.1.0 in ./.venv/lib/python3.11/site-packages (from sympy>=1.13.3->torch>=1.11.0->sentence-transformers) (1.3.0)\n",
      "Requirement already satisfied: MarkupSafe>=2.0 in ./.venv/lib/python3.11/site-packages (from jinja2->torch>=1.11.0->sentence-transformers) (3.0.2)\n",
      "Requirement already satisfied: charset-normalizer<4,>=2 in ./.venv/lib/python3.11/site-packages (from requests->transformers<5.0.0,>=4.41.0->sentence-transformers) (3.4.2)\n",
      "Requirement already satisfied: idna<4,>=2.5 in ./.venv/lib/python3.11/site-packages (from requests->transformers<5.0.0,>=4.41.0->sentence-transformers) (3.10)\n",
      "Requirement already satisfied: urllib3<3,>=1.21.1 in ./.venv/lib/python3.11/site-packages (from requests->transformers<5.0.0,>=4.41.0->sentence-transformers) (2.4.0)\n",
      "Requirement already satisfied: certifi>=2017.4.17 in ./.venv/lib/python3.11/site-packages (from requests->transformers<5.0.0,>=4.41.0->sentence-transformers) (2025.4.26)\n",
      "Requirement already satisfied: joblib>=1.2.0 in ./.venv/lib/python3.11/site-packages (from scikit-learn->sentence-transformers) (1.5.0)\n",
      "Requirement already satisfied: threadpoolctl>=3.1.0 in ./.venv/lib/python3.11/site-packages (from scikit-learn->sentence-transformers) (3.6.0)\n",
      "Note: you may need to restart the kernel to use updated packages.\n",
      "Requirement already satisfied: hf_xet in ./.venv/lib/python3.11/site-packages (1.1.2)\n",
      "Note: you may need to restart the kernel to use updated packages.\n",
      "Requirement already satisfied: ollama-haystack==2.4.2 in ./.venv/lib/python3.11/site-packages (2.4.2)\n",
      "Requirement already satisfied: haystack-ai in ./.venv/lib/python3.11/site-packages (from ollama-haystack==2.4.2) (2.13.2)\n",
      "Requirement already satisfied: ollama>=0.4.0 in ./.venv/lib/python3.11/site-packages (from ollama-haystack==2.4.2) (0.4.8)\n",
      "Requirement already satisfied: pydantic in ./.venv/lib/python3.11/site-packages (from ollama-haystack==2.4.2) (2.11.4)\n",
      "Requirement already satisfied: httpx<0.29,>=0.27 in ./.venv/lib/python3.11/site-packages (from ollama>=0.4.0->ollama-haystack==2.4.2) (0.28.1)\n",
      "Requirement already satisfied: anyio in ./.venv/lib/python3.11/site-packages (from httpx<0.29,>=0.27->ollama>=0.4.0->ollama-haystack==2.4.2) (4.9.0)\n",
      "Requirement already satisfied: certifi in ./.venv/lib/python3.11/site-packages (from httpx<0.29,>=0.27->ollama>=0.4.0->ollama-haystack==2.4.2) (2025.4.26)\n",
      "Requirement already satisfied: httpcore==1.* in ./.venv/lib/python3.11/site-packages (from httpx<0.29,>=0.27->ollama>=0.4.0->ollama-haystack==2.4.2) (1.0.9)\n",
      "Requirement already satisfied: idna in ./.venv/lib/python3.11/site-packages (from httpx<0.29,>=0.27->ollama>=0.4.0->ollama-haystack==2.4.2) (3.10)\n",
      "Requirement already satisfied: h11>=0.16 in ./.venv/lib/python3.11/site-packages (from httpcore==1.*->httpx<0.29,>=0.27->ollama>=0.4.0->ollama-haystack==2.4.2) (0.16.0)\n",
      "Requirement already satisfied: annotated-types>=0.6.0 in ./.venv/lib/python3.11/site-packages (from pydantic->ollama-haystack==2.4.2) (0.7.0)\n",
      "Requirement already satisfied: pydantic-core==2.33.2 in ./.venv/lib/python3.11/site-packages (from pydantic->ollama-haystack==2.4.2) (2.33.2)\n",
      "Requirement already satisfied: typing-extensions>=4.12.2 in ./.venv/lib/python3.11/site-packages (from pydantic->ollama-haystack==2.4.2) (4.13.2)\n",
      "Requirement already satisfied: typing-inspection>=0.4.0 in ./.venv/lib/python3.11/site-packages (from pydantic->ollama-haystack==2.4.2) (0.4.0)\n",
      "Requirement already satisfied: sniffio>=1.1 in ./.venv/lib/python3.11/site-packages (from anyio->httpx<0.29,>=0.27->ollama>=0.4.0->ollama-haystack==2.4.2) (1.3.1)\n",
      "Requirement already satisfied: haystack-experimental in ./.venv/lib/python3.11/site-packages (from haystack-ai->ollama-haystack==2.4.2) (0.10.0)\n",
      "Requirement already satisfied: jinja2 in ./.venv/lib/python3.11/site-packages (from haystack-ai->ollama-haystack==2.4.2) (3.1.6)\n",
      "Requirement already satisfied: jsonschema in ./.venv/lib/python3.11/site-packages (from haystack-ai->ollama-haystack==2.4.2) (4.23.0)\n",
      "Requirement already satisfied: lazy-imports in ./.venv/lib/python3.11/site-packages (from haystack-ai->ollama-haystack==2.4.2) (0.4.0)\n",
      "Requirement already satisfied: more-itertools in ./.venv/lib/python3.11/site-packages (from haystack-ai->ollama-haystack==2.4.2) (10.7.0)\n",
      "Requirement already satisfied: networkx in ./.venv/lib/python3.11/site-packages (from haystack-ai->ollama-haystack==2.4.2) (3.4.2)\n",
      "Requirement already satisfied: numpy in ./.venv/lib/python3.11/site-packages (from haystack-ai->ollama-haystack==2.4.2) (2.2.6)\n",
      "Requirement already satisfied: openai>=1.56.1 in ./.venv/lib/python3.11/site-packages (from haystack-ai->ollama-haystack==2.4.2) (1.79.0)\n",
      "Requirement already satisfied: posthog!=3.12.0 in ./.venv/lib/python3.11/site-packages (from haystack-ai->ollama-haystack==2.4.2) (4.0.1)\n",
      "Requirement already satisfied: python-dateutil in ./.venv/lib/python3.11/site-packages (from haystack-ai->ollama-haystack==2.4.2) (2.9.0.post0)\n",
      "Requirement already satisfied: pyyaml in ./.venv/lib/python3.11/site-packages (from haystack-ai->ollama-haystack==2.4.2) (6.0.2)\n",
      "Requirement already satisfied: requests in ./.venv/lib/python3.11/site-packages (from haystack-ai->ollama-haystack==2.4.2) (2.32.3)\n",
      "Requirement already satisfied: tenacity!=8.4.0 in ./.venv/lib/python3.11/site-packages (from haystack-ai->ollama-haystack==2.4.2) (9.1.2)\n",
      "Requirement already satisfied: tqdm in ./.venv/lib/python3.11/site-packages (from haystack-ai->ollama-haystack==2.4.2) (4.67.1)\n",
      "Requirement already satisfied: distro<2,>=1.7.0 in ./.venv/lib/python3.11/site-packages (from openai>=1.56.1->haystack-ai->ollama-haystack==2.4.2) (1.9.0)\n",
      "Requirement already satisfied: jiter<1,>=0.4.0 in ./.venv/lib/python3.11/site-packages (from openai>=1.56.1->haystack-ai->ollama-haystack==2.4.2) (0.10.0)\n",
      "Requirement already satisfied: six>=1.5 in ./.venv/lib/python3.11/site-packages (from posthog!=3.12.0->haystack-ai->ollama-haystack==2.4.2) (1.17.0)\n",
      "Requirement already satisfied: backoff>=1.10.0 in ./.venv/lib/python3.11/site-packages (from posthog!=3.12.0->haystack-ai->ollama-haystack==2.4.2) (2.2.1)\n",
      "Requirement already satisfied: charset-normalizer<4,>=2 in ./.venv/lib/python3.11/site-packages (from requests->haystack-ai->ollama-haystack==2.4.2) (3.4.2)\n",
      "Requirement already satisfied: urllib3<3,>=1.21.1 in ./.venv/lib/python3.11/site-packages (from requests->haystack-ai->ollama-haystack==2.4.2) (2.4.0)\n",
      "Requirement already satisfied: filetype in ./.venv/lib/python3.11/site-packages (from haystack-experimental->haystack-ai->ollama-haystack==2.4.2) (1.2.0)\n",
      "Requirement already satisfied: MarkupSafe>=2.0 in ./.venv/lib/python3.11/site-packages (from jinja2->haystack-ai->ollama-haystack==2.4.2) (3.0.2)\n",
      "Requirement already satisfied: attrs>=22.2.0 in ./.venv/lib/python3.11/site-packages (from jsonschema->haystack-ai->ollama-haystack==2.4.2) (25.3.0)\n",
      "Requirement already satisfied: jsonschema-specifications>=2023.03.6 in ./.venv/lib/python3.11/site-packages (from jsonschema->haystack-ai->ollama-haystack==2.4.2) (2025.4.1)\n",
      "Requirement already satisfied: referencing>=0.28.4 in ./.venv/lib/python3.11/site-packages (from jsonschema->haystack-ai->ollama-haystack==2.4.2) (0.36.2)\n",
      "Requirement already satisfied: rpds-py>=0.7.1 in ./.venv/lib/python3.11/site-packages (from jsonschema->haystack-ai->ollama-haystack==2.4.2) (0.25.1)\n",
      "Note: you may need to restart the kernel to use updated packages.\n",
      "Requirement already satisfied: tqdm in ./.venv/lib/python3.11/site-packages (4.67.1)\n",
      "Note: you may need to restart the kernel to use updated packages.\n"
     ]
    }
   ],
   "source": [
    "import os\n",
    "# Setting temp dir to /srv/data directory, as it otherwise fills up the home directory too much\n",
    "# Just comment out on machines that are not \"Goober\"\n",
    "os.environ[\"TMPDIR\"] = \"/srv/data/tmp\"\n",
    "os.makedirs(\"/srv/data/tmp\", exist_ok=True)\n",
    "\n",
    "%pip install haystack-ai\n",
    "%pip install nltk\n",
    "%pip install openai\n",
    "%pip install pandas\n",
    "%pip install sentence-transformers\n",
    "%pip install hf_xet\n",
    "%pip install ollama-haystack==2.4.2\n",
    "%pip install tqdm # For Progress Bar"
   ]
  },
  {
   "cell_type": "code",
   "execution_count": 1,
   "id": "a7284fa2",
   "metadata": {},
   "outputs": [],
   "source": [
    "import os\n",
    "from utils.markdown_utils import for_each_markdown_file\n",
    "import pandas as pd\n",
    "from haystack.document_stores.in_memory import InMemoryDocumentStore\n",
    "from tqdm import tqdm\n",
    "tqdm.pandas()\n",
    "\n",
    "from pipelines.indexing_pipelines.base_indexing_pipeline import get_base_indexing_pipeline\n",
    "from pipelines.indexing_pipelines.context_indexing_pipeline import get_context_indexing_pipeline\n",
    "\n",
    "import logging\n",
    "from utils.pickle_utils import for_each_pickle_file\n",
    "\n",
    "logging.basicConfig(\n",
    "    level=logging.INFO,\n",
    "    format='%(asctime)s %(levelname)s %(message)s',\n",
    "    datefmt='%H:%M:%S'\n",
    ")\n",
    "\n",
    "# silence haystack’s pipeline logs\n",
    "logging.getLogger(\"haystack\").setLevel(logging.WARNING)\n",
    "logging.getLogger(\"haystack.core.pipeline\").setLevel(logging.WARNING)\n",
    "\n",
    "# if you see similar spam from transformers, ragas, etc.\n",
    "logging.getLogger(\"transformers\").setLevel(logging.WARNING)\n",
    "logging.getLogger(\"ragas\").setLevel(logging.WARNING)"
   ]
  },
  {
   "cell_type": "code",
   "execution_count": 2,
   "id": "7d301592",
   "metadata": {},
   "outputs": [],
   "source": [
    "from config.secret import OPENAI_API_KEY\n",
    "os.environ[\"OPENAI_API_KEY\"] = OPENAI_API_KEY\n",
    "\n",
    "os.environ[\"EMBEDDING_MODEL_NAME\"] = \"Qwen/Qwen3-Embedding-4B\"\n",
    "os.environ[\"SENTENCE_TRANSFORMERS_HOME\"] = \"./model-assets/sentence-transformers\"\n",
    "\n",
    "os.environ[\"LLM_NAME\"] = \"gemma3:12b\"\n",
    "os.environ[\"LLM_CONTEXT_SIZE\"] = \"8192\"\n",
    "os.environ[\"LLM_PROVIDER\"] = \"ollama\""
   ]
  },
  {
   "cell_type": "markdown",
   "id": "bb67c2c3",
   "metadata": {},
   "source": [
    "## Base Indexing"
   ]
  },
  {
   "cell_type": "code",
   "execution_count": 3,
   "id": "e44d9d55",
   "metadata": {},
   "outputs": [
    {
     "name": "stderr",
     "output_type": "stream",
     "text": [
      "Processing Pickle files:   0%|          | 0/6 [00:00<?, ?it/s]16:18:23 INFO Load pretrained SentenceTransformer: Qwen/Qwen3-Embedding-4B\n"
     ]
    },
    {
     "data": {
      "application/vnd.jupyter.widget-view+json": {
       "model_id": "596cef1c067245b0982cb840e19c2154",
       "version_major": 2,
       "version_minor": 0
      },
      "text/plain": [
       "README.md:   0%|          | 0.00/17.3k [00:00<?, ?B/s]"
      ]
     },
     "metadata": {},
     "output_type": "display_data"
    },
    {
     "data": {
      "application/vnd.jupyter.widget-view+json": {
       "model_id": "3ab5e9739d864d8f938db612c7b07557",
       "version_major": 2,
       "version_minor": 0
      },
      "text/plain": [
       "Fetching 2 files:   0%|          | 0/2 [00:00<?, ?it/s]"
      ]
     },
     "metadata": {},
     "output_type": "display_data"
    },
    {
     "data": {
      "application/vnd.jupyter.widget-view+json": {
       "model_id": "25e2c90471924024990df860b8fe5f1a",
       "version_major": 2,
       "version_minor": 0
      },
      "text/plain": [
       "Loading checkpoint shards:   0%|          | 0/2 [00:00<?, ?it/s]"
      ]
     },
     "metadata": {},
     "output_type": "display_data"
    },
    {
     "name": "stderr",
     "output_type": "stream",
     "text": [
      "16:20:02 INFO 2 prompts are loaded, with the keys: ['query', 'document']\n"
     ]
    },
    {
     "data": {
      "application/vnd.jupyter.widget-view+json": {
       "model_id": "aa3d03dc2a2c415b82a379fd6447cbb5",
       "version_major": 2,
       "version_minor": 0
      },
      "text/plain": [
       "Batches:   0%|          | 0/13 [00:00<?, ?it/s]"
      ]
     },
     "metadata": {},
     "output_type": "display_data"
    },
    {
     "name": "stderr",
     "output_type": "stream",
     "text": [
      "Processing Pickle files:  17%|█▋        | 1/6 [01:48<09:03, 108.75s/it]"
     ]
    },
    {
     "data": {
      "application/vnd.jupyter.widget-view+json": {
       "model_id": "7384340aa33940f88ad1ca5e294cd6e1",
       "version_major": 2,
       "version_minor": 0
      },
      "text/plain": [
       "Batches:   0%|          | 0/10 [00:00<?, ?it/s]"
      ]
     },
     "metadata": {},
     "output_type": "display_data"
    },
    {
     "name": "stderr",
     "output_type": "stream",
     "text": [
      "Processing Pickle files:  33%|███▎      | 2/6 [01:55<03:14, 48.67s/it] "
     ]
    },
    {
     "data": {
      "application/vnd.jupyter.widget-view+json": {
       "model_id": "6c4d23ffb8bc450d898beceadd5d755f",
       "version_major": 2,
       "version_minor": 0
      },
      "text/plain": [
       "Batches:   0%|          | 0/2 [00:00<?, ?it/s]"
      ]
     },
     "metadata": {},
     "output_type": "display_data"
    },
    {
     "name": "stderr",
     "output_type": "stream",
     "text": [
      "Processing Pickle files:  50%|█████     | 3/6 [02:01<01:27, 29.08s/it]"
     ]
    },
    {
     "data": {
      "application/vnd.jupyter.widget-view+json": {
       "model_id": "1f26ec62e212465b9e0d3608aa863367",
       "version_major": 2,
       "version_minor": 0
      },
      "text/plain": [
       "Batches:   0%|          | 0/11 [00:00<?, ?it/s]"
      ]
     },
     "metadata": {},
     "output_type": "display_data"
    },
    {
     "name": "stderr",
     "output_type": "stream",
     "text": [
      "Processing Pickle files:  67%|██████▋   | 4/6 [02:07<00:40, 20.30s/it]"
     ]
    },
    {
     "data": {
      "application/vnd.jupyter.widget-view+json": {
       "model_id": "c3db71d3c3d44f0db2bc374b4105ab80",
       "version_major": 2,
       "version_minor": 0
      },
      "text/plain": [
       "Batches:   0%|          | 0/1 [00:00<?, ?it/s]"
      ]
     },
     "metadata": {},
     "output_type": "display_data"
    },
    {
     "name": "stderr",
     "output_type": "stream",
     "text": [
      "Processing Pickle files:  83%|████████▎ | 5/6 [02:14<00:15, 15.40s/it]"
     ]
    },
    {
     "data": {
      "application/vnd.jupyter.widget-view+json": {
       "model_id": "6493a26a480e487e8a18027c0ce7ec13",
       "version_major": 2,
       "version_minor": 0
      },
      "text/plain": [
       "Batches:   0%|          | 0/6 [00:00<?, ?it/s]"
      ]
     },
     "metadata": {},
     "output_type": "display_data"
    },
    {
     "name": "stderr",
     "output_type": "stream",
     "text": [
      "Processing Pickle files: 100%|██████████| 6/6 [02:20<00:00, 23.50s/it]\n"
     ]
    }
   ],
   "source": [
    "def base_indexing(filename, df):\n",
    "    documents = df[\"document\"].tolist()\n",
    "\n",
    "    base_indexing_store = InMemoryDocumentStore(embedding_similarity_function=\"cosine\")\n",
    "    base_indexing_pipeline = get_base_indexing_pipeline(base_indexing_store)\n",
    "\n",
    "    base_indexing_pipeline.run({\n",
    "        \"embedder\": { \n",
    "            \"documents\": documents\n",
    "        },\n",
    "    })\n",
    "\n",
    "    filepath = f\"data/document_stores/{os.environ['EMBEDDING_MODEL_NAME']}\"\n",
    "    os.makedirs(filepath, exist_ok=True)\n",
    "    clean_name = os.path.splitext(os.path.basename(filename))[0]\n",
    "    base_indexing_store.save_to_disk(f\"{filepath}/{clean_name}_base_indexing_store.json\")\n",
    "\n",
    "for_each_pickle_file(\"data/preprocessed_documents\", base_indexing)"
   ]
  },
  {
   "cell_type": "markdown",
   "id": "b9715a1e",
   "metadata": {},
   "source": [
    "## Context Indexing"
   ]
  },
  {
   "cell_type": "code",
   "execution_count": 4,
   "id": "0d003695",
   "metadata": {},
   "outputs": [
    {
     "name": "stderr",
     "output_type": "stream",
     "text": [
      "Processing Pickle files:   0%|          | 0/5 [00:00<?, ?it/s]13:08:06 INFO HTTP Request: POST http://localhost:11434/api/generate \"HTTP/1.1 200 OK\"\n",
      "13:08:08 INFO HTTP Request: POST http://localhost:11434/api/generate \"HTTP/1.1 200 OK\"\n",
      "13:08:10 INFO HTTP Request: POST http://localhost:11434/api/generate \"HTTP/1.1 200 OK\"\n",
      "13:08:13 INFO HTTP Request: POST http://localhost:11434/api/generate \"HTTP/1.1 200 OK\"\n",
      "13:08:16 INFO HTTP Request: POST http://localhost:11434/api/generate \"HTTP/1.1 200 OK\"\n",
      "13:08:18 INFO HTTP Request: POST http://localhost:11434/api/generate \"HTTP/1.1 200 OK\"\n",
      "13:08:21 INFO HTTP Request: POST http://localhost:11434/api/generate \"HTTP/1.1 200 OK\"\n",
      "13:08:23 INFO HTTP Request: POST http://localhost:11434/api/generate \"HTTP/1.1 200 OK\"\n",
      "13:08:26 INFO HTTP Request: POST http://localhost:11434/api/generate \"HTTP/1.1 200 OK\"\n",
      "13:08:28 INFO HTTP Request: POST http://localhost:11434/api/generate \"HTTP/1.1 200 OK\"\n",
      "13:08:31 INFO HTTP Request: POST http://localhost:11434/api/generate \"HTTP/1.1 200 OK\"\n",
      "13:08:34 INFO HTTP Request: POST http://localhost:11434/api/generate \"HTTP/1.1 200 OK\"\n",
      "13:08:36 INFO HTTP Request: POST http://localhost:11434/api/generate \"HTTP/1.1 200 OK\"\n",
      "13:08:39 INFO HTTP Request: POST http://localhost:11434/api/generate \"HTTP/1.1 200 OK\"\n",
      "13:08:41 INFO HTTP Request: POST http://localhost:11434/api/generate \"HTTP/1.1 200 OK\"\n",
      "13:08:44 INFO HTTP Request: POST http://localhost:11434/api/generate \"HTTP/1.1 200 OK\"\n",
      "13:08:47 INFO HTTP Request: POST http://localhost:11434/api/generate \"HTTP/1.1 200 OK\"\n",
      "13:08:49 INFO HTTP Request: POST http://localhost:11434/api/generate \"HTTP/1.1 200 OK\"\n",
      "13:08:52 INFO HTTP Request: POST http://localhost:11434/api/generate \"HTTP/1.1 200 OK\"\n",
      "13:08:54 INFO HTTP Request: POST http://localhost:11434/api/generate \"HTTP/1.1 200 OK\"\n",
      "13:08:56 INFO HTTP Request: POST http://localhost:11434/api/generate \"HTTP/1.1 200 OK\"\n"
     ]
    },
    {
     "data": {
      "application/vnd.jupyter.widget-view+json": {
       "model_id": "d62e3fc844b4443fa5a44bbcc7ade00e",
       "version_major": 2,
       "version_minor": 0
      },
      "text/plain": [
       "Batches:   0%|          | 0/1 [00:00<?, ?it/s]"
      ]
     },
     "metadata": {},
     "output_type": "display_data"
    },
    {
     "name": "stderr",
     "output_type": "stream",
     "text": [
      "13:09:02 INFO HTTP Request: POST http://localhost:11434/api/generate \"HTTP/1.1 200 OK\"\n",
      "13:09:06 INFO HTTP Request: POST http://localhost:11434/api/generate \"HTTP/1.1 200 OK\"\n",
      "13:09:09 INFO HTTP Request: POST http://localhost:11434/api/generate \"HTTP/1.1 200 OK\"\n",
      "13:09:13 INFO HTTP Request: POST http://localhost:11434/api/generate \"HTTP/1.1 200 OK\"\n",
      "13:09:16 INFO HTTP Request: POST http://localhost:11434/api/generate \"HTTP/1.1 200 OK\"\n",
      "13:09:19 INFO HTTP Request: POST http://localhost:11434/api/generate \"HTTP/1.1 200 OK\"\n",
      "13:09:23 INFO HTTP Request: POST http://localhost:11434/api/generate \"HTTP/1.1 200 OK\"\n",
      "13:09:26 INFO HTTP Request: POST http://localhost:11434/api/generate \"HTTP/1.1 200 OK\"\n",
      "13:09:30 INFO HTTP Request: POST http://localhost:11434/api/generate \"HTTP/1.1 200 OK\"\n",
      "13:09:33 INFO HTTP Request: POST http://localhost:11434/api/generate \"HTTP/1.1 200 OK\"\n",
      "13:09:37 INFO HTTP Request: POST http://localhost:11434/api/generate \"HTTP/1.1 200 OK\"\n",
      "13:09:40 INFO HTTP Request: POST http://localhost:11434/api/generate \"HTTP/1.1 200 OK\"\n",
      "13:09:44 INFO HTTP Request: POST http://localhost:11434/api/generate \"HTTP/1.1 200 OK\"\n",
      "13:09:47 INFO HTTP Request: POST http://localhost:11434/api/generate \"HTTP/1.1 200 OK\"\n",
      "13:09:50 INFO HTTP Request: POST http://localhost:11434/api/generate \"HTTP/1.1 200 OK\"\n",
      "13:09:54 INFO HTTP Request: POST http://localhost:11434/api/generate \"HTTP/1.1 200 OK\"\n",
      "13:09:57 INFO HTTP Request: POST http://localhost:11434/api/generate \"HTTP/1.1 200 OK\"\n",
      "13:10:01 INFO HTTP Request: POST http://localhost:11434/api/generate \"HTTP/1.1 200 OK\"\n",
      "13:10:04 INFO HTTP Request: POST http://localhost:11434/api/generate \"HTTP/1.1 200 OK\"\n",
      "13:10:08 INFO HTTP Request: POST http://localhost:11434/api/generate \"HTTP/1.1 200 OK\"\n",
      "13:10:11 INFO HTTP Request: POST http://localhost:11434/api/generate \"HTTP/1.1 200 OK\"\n",
      "13:10:15 INFO HTTP Request: POST http://localhost:11434/api/generate \"HTTP/1.1 200 OK\"\n",
      "13:10:19 INFO HTTP Request: POST http://localhost:11434/api/generate \"HTTP/1.1 200 OK\"\n",
      "13:10:23 INFO HTTP Request: POST http://localhost:11434/api/generate \"HTTP/1.1 200 OK\"\n",
      "13:10:27 INFO HTTP Request: POST http://localhost:11434/api/generate \"HTTP/1.1 200 OK\"\n",
      "13:10:30 INFO HTTP Request: POST http://localhost:11434/api/generate \"HTTP/1.1 200 OK\"\n",
      "13:10:33 INFO HTTP Request: POST http://localhost:11434/api/generate \"HTTP/1.1 200 OK\"\n",
      "13:10:37 INFO HTTP Request: POST http://localhost:11434/api/generate \"HTTP/1.1 200 OK\"\n",
      "13:10:40 INFO HTTP Request: POST http://localhost:11434/api/generate \"HTTP/1.1 200 OK\"\n",
      "13:10:44 INFO HTTP Request: POST http://localhost:11434/api/generate \"HTTP/1.1 200 OK\"\n",
      "13:10:48 INFO HTTP Request: POST http://localhost:11434/api/generate \"HTTP/1.1 200 OK\"\n",
      "13:10:51 INFO HTTP Request: POST http://localhost:11434/api/generate \"HTTP/1.1 200 OK\"\n",
      "13:10:55 INFO HTTP Request: POST http://localhost:11434/api/generate \"HTTP/1.1 200 OK\"\n",
      "13:10:58 INFO HTTP Request: POST http://localhost:11434/api/generate \"HTTP/1.1 200 OK\"\n",
      "13:11:02 INFO HTTP Request: POST http://localhost:11434/api/generate \"HTTP/1.1 200 OK\"\n",
      "13:11:06 INFO HTTP Request: POST http://localhost:11434/api/generate \"HTTP/1.1 200 OK\"\n",
      "13:11:10 INFO HTTP Request: POST http://localhost:11434/api/generate \"HTTP/1.1 200 OK\"\n",
      "13:11:13 INFO HTTP Request: POST http://localhost:11434/api/generate \"HTTP/1.1 200 OK\"\n",
      "13:11:16 INFO HTTP Request: POST http://localhost:11434/api/generate \"HTTP/1.1 200 OK\"\n",
      "13:11:20 INFO HTTP Request: POST http://localhost:11434/api/generate \"HTTP/1.1 200 OK\"\n",
      "13:11:23 INFO HTTP Request: POST http://localhost:11434/api/generate \"HTTP/1.1 200 OK\"\n",
      "13:11:27 INFO HTTP Request: POST http://localhost:11434/api/generate \"HTTP/1.1 200 OK\"\n",
      "13:11:30 INFO HTTP Request: POST http://localhost:11434/api/generate \"HTTP/1.1 200 OK\"\n",
      "13:11:34 INFO HTTP Request: POST http://localhost:11434/api/generate \"HTTP/1.1 200 OK\"\n",
      "13:11:38 INFO HTTP Request: POST http://localhost:11434/api/generate \"HTTP/1.1 200 OK\"\n",
      "13:11:42 INFO HTTP Request: POST http://localhost:11434/api/generate \"HTTP/1.1 200 OK\"\n",
      "13:11:46 INFO HTTP Request: POST http://localhost:11434/api/generate \"HTTP/1.1 200 OK\"\n",
      "13:11:49 INFO HTTP Request: POST http://localhost:11434/api/generate \"HTTP/1.1 200 OK\"\n",
      "13:11:52 INFO HTTP Request: POST http://localhost:11434/api/generate \"HTTP/1.1 200 OK\"\n",
      "13:11:56 INFO HTTP Request: POST http://localhost:11434/api/generate \"HTTP/1.1 200 OK\"\n",
      "13:11:59 INFO HTTP Request: POST http://localhost:11434/api/generate \"HTTP/1.1 200 OK\"\n",
      "13:12:03 INFO HTTP Request: POST http://localhost:11434/api/generate \"HTTP/1.1 200 OK\"\n"
     ]
    },
    {
     "data": {
      "application/vnd.jupyter.widget-view+json": {
       "model_id": "cd76195819a64959a388c87d5219ad35",
       "version_major": 2,
       "version_minor": 0
      },
      "text/plain": [
       "Batches:   0%|          | 0/2 [00:00<?, ?it/s]"
      ]
     },
     "metadata": {},
     "output_type": "display_data"
    },
    {
     "name": "stderr",
     "output_type": "stream",
     "text": [
      "13:12:10 INFO HTTP Request: POST http://localhost:11434/api/generate \"HTTP/1.1 200 OK\"\n",
      "13:12:15 INFO HTTP Request: POST http://localhost:11434/api/generate \"HTTP/1.1 200 OK\"\n",
      "13:12:19 INFO HTTP Request: POST http://localhost:11434/api/generate \"HTTP/1.1 200 OK\"\n",
      "13:12:24 INFO HTTP Request: POST http://localhost:11434/api/generate \"HTTP/1.1 200 OK\"\n",
      "13:12:28 INFO HTTP Request: POST http://localhost:11434/api/generate \"HTTP/1.1 200 OK\"\n",
      "13:12:33 INFO HTTP Request: POST http://localhost:11434/api/generate \"HTTP/1.1 200 OK\"\n",
      "13:12:37 INFO HTTP Request: POST http://localhost:11434/api/generate \"HTTP/1.1 200 OK\"\n",
      "13:12:42 INFO HTTP Request: POST http://localhost:11434/api/generate \"HTTP/1.1 200 OK\"\n",
      "13:12:46 INFO HTTP Request: POST http://localhost:11434/api/generate \"HTTP/1.1 200 OK\"\n",
      "13:12:51 INFO HTTP Request: POST http://localhost:11434/api/generate \"HTTP/1.1 200 OK\"\n",
      "13:12:55 INFO HTTP Request: POST http://localhost:11434/api/generate \"HTTP/1.1 200 OK\"\n",
      "13:13:00 INFO HTTP Request: POST http://localhost:11434/api/generate \"HTTP/1.1 200 OK\"\n",
      "13:13:04 INFO HTTP Request: POST http://localhost:11434/api/generate \"HTTP/1.1 200 OK\"\n",
      "13:13:09 INFO HTTP Request: POST http://localhost:11434/api/generate \"HTTP/1.1 200 OK\"\n",
      "13:13:14 INFO HTTP Request: POST http://localhost:11434/api/generate \"HTTP/1.1 200 OK\"\n",
      "13:13:19 INFO HTTP Request: POST http://localhost:11434/api/generate \"HTTP/1.1 200 OK\"\n",
      "13:13:24 INFO HTTP Request: POST http://localhost:11434/api/generate \"HTTP/1.1 200 OK\"\n",
      "13:13:28 INFO HTTP Request: POST http://localhost:11434/api/generate \"HTTP/1.1 200 OK\"\n",
      "13:13:33 INFO HTTP Request: POST http://localhost:11434/api/generate \"HTTP/1.1 200 OK\"\n",
      "13:13:38 INFO HTTP Request: POST http://localhost:11434/api/generate \"HTTP/1.1 200 OK\"\n",
      "13:13:42 INFO HTTP Request: POST http://localhost:11434/api/generate \"HTTP/1.1 200 OK\"\n",
      "13:13:47 INFO HTTP Request: POST http://localhost:11434/api/generate \"HTTP/1.1 200 OK\"\n",
      "13:13:52 INFO HTTP Request: POST http://localhost:11434/api/generate \"HTTP/1.1 200 OK\"\n",
      "13:13:57 INFO HTTP Request: POST http://localhost:11434/api/generate \"HTTP/1.1 200 OK\"\n",
      "13:14:01 INFO HTTP Request: POST http://localhost:11434/api/generate \"HTTP/1.1 200 OK\"\n",
      "13:14:06 INFO HTTP Request: POST http://localhost:11434/api/generate \"HTTP/1.1 200 OK\"\n",
      "13:14:11 INFO HTTP Request: POST http://localhost:11434/api/generate \"HTTP/1.1 200 OK\"\n",
      "13:14:16 INFO HTTP Request: POST http://localhost:11434/api/generate \"HTTP/1.1 200 OK\"\n",
      "13:14:20 INFO HTTP Request: POST http://localhost:11434/api/generate \"HTTP/1.1 200 OK\"\n",
      "13:14:25 INFO HTTP Request: POST http://localhost:11434/api/generate \"HTTP/1.1 200 OK\"\n",
      "13:14:29 INFO HTTP Request: POST http://localhost:11434/api/generate \"HTTP/1.1 200 OK\"\n",
      "13:14:34 INFO HTTP Request: POST http://localhost:11434/api/generate \"HTTP/1.1 200 OK\"\n",
      "13:14:39 INFO HTTP Request: POST http://localhost:11434/api/generate \"HTTP/1.1 200 OK\"\n",
      "13:14:44 INFO HTTP Request: POST http://localhost:11434/api/generate \"HTTP/1.1 200 OK\"\n",
      "13:14:48 INFO HTTP Request: POST http://localhost:11434/api/generate \"HTTP/1.1 200 OK\"\n",
      "13:14:53 INFO HTTP Request: POST http://localhost:11434/api/generate \"HTTP/1.1 200 OK\"\n",
      "13:14:57 INFO HTTP Request: POST http://localhost:11434/api/generate \"HTTP/1.1 200 OK\"\n",
      "13:15:02 INFO HTTP Request: POST http://localhost:11434/api/generate \"HTTP/1.1 200 OK\"\n",
      "13:15:06 INFO HTTP Request: POST http://localhost:11434/api/generate \"HTTP/1.1 200 OK\"\n",
      "13:15:11 INFO HTTP Request: POST http://localhost:11434/api/generate \"HTTP/1.1 200 OK\"\n",
      "13:15:16 INFO HTTP Request: POST http://localhost:11434/api/generate \"HTTP/1.1 200 OK\"\n",
      "13:15:21 INFO HTTP Request: POST http://localhost:11434/api/generate \"HTTP/1.1 200 OK\"\n",
      "13:15:25 INFO HTTP Request: POST http://localhost:11434/api/generate \"HTTP/1.1 200 OK\"\n",
      "13:15:30 INFO HTTP Request: POST http://localhost:11434/api/generate \"HTTP/1.1 200 OK\"\n",
      "13:15:34 INFO HTTP Request: POST http://localhost:11434/api/generate \"HTTP/1.1 200 OK\"\n",
      "13:15:39 INFO HTTP Request: POST http://localhost:11434/api/generate \"HTTP/1.1 200 OK\"\n",
      "13:15:43 INFO HTTP Request: POST http://localhost:11434/api/generate \"HTTP/1.1 200 OK\"\n",
      "13:15:48 INFO HTTP Request: POST http://localhost:11434/api/generate \"HTTP/1.1 200 OK\"\n",
      "13:15:53 INFO HTTP Request: POST http://localhost:11434/api/generate \"HTTP/1.1 200 OK\"\n",
      "13:15:57 INFO HTTP Request: POST http://localhost:11434/api/generate \"HTTP/1.1 200 OK\"\n",
      "13:16:02 INFO HTTP Request: POST http://localhost:11434/api/generate \"HTTP/1.1 200 OK\"\n",
      "13:16:06 INFO HTTP Request: POST http://localhost:11434/api/generate \"HTTP/1.1 200 OK\"\n",
      "13:16:11 INFO HTTP Request: POST http://localhost:11434/api/generate \"HTTP/1.1 200 OK\"\n",
      "13:16:15 INFO HTTP Request: POST http://localhost:11434/api/generate \"HTTP/1.1 200 OK\"\n",
      "13:16:20 INFO HTTP Request: POST http://localhost:11434/api/generate \"HTTP/1.1 200 OK\"\n",
      "13:16:24 INFO HTTP Request: POST http://localhost:11434/api/generate \"HTTP/1.1 200 OK\"\n",
      "13:16:29 INFO HTTP Request: POST http://localhost:11434/api/generate \"HTTP/1.1 200 OK\"\n",
      "13:16:33 INFO HTTP Request: POST http://localhost:11434/api/generate \"HTTP/1.1 200 OK\"\n"
     ]
    },
    {
     "data": {
      "application/vnd.jupyter.widget-view+json": {
       "model_id": "7a58324ea4c145bd9a010e685c0af5f8",
       "version_major": 2,
       "version_minor": 0
      },
      "text/plain": [
       "Batches:   0%|          | 0/2 [00:00<?, ?it/s]"
      ]
     },
     "metadata": {},
     "output_type": "display_data"
    },
    {
     "name": "stderr",
     "output_type": "stream",
     "text": [
      "13:16:40 INFO HTTP Request: POST http://localhost:11434/api/generate \"HTTP/1.1 200 OK\"\n",
      "13:16:44 INFO HTTP Request: POST http://localhost:11434/api/generate \"HTTP/1.1 200 OK\"\n",
      "13:16:49 INFO HTTP Request: POST http://localhost:11434/api/generate \"HTTP/1.1 200 OK\"\n",
      "13:16:53 INFO HTTP Request: POST http://localhost:11434/api/generate \"HTTP/1.1 200 OK\"\n",
      "13:16:57 INFO HTTP Request: POST http://localhost:11434/api/generate \"HTTP/1.1 200 OK\"\n",
      "13:17:02 INFO HTTP Request: POST http://localhost:11434/api/generate \"HTTP/1.1 200 OK\"\n",
      "13:17:06 INFO HTTP Request: POST http://localhost:11434/api/generate \"HTTP/1.1 200 OK\"\n",
      "13:17:10 INFO HTTP Request: POST http://localhost:11434/api/generate \"HTTP/1.1 200 OK\"\n",
      "13:17:14 INFO HTTP Request: POST http://localhost:11434/api/generate \"HTTP/1.1 200 OK\"\n",
      "13:17:19 INFO HTTP Request: POST http://localhost:11434/api/generate \"HTTP/1.1 200 OK\"\n",
      "13:17:23 INFO HTTP Request: POST http://localhost:11434/api/generate \"HTTP/1.1 200 OK\"\n",
      "13:17:27 INFO HTTP Request: POST http://localhost:11434/api/generate \"HTTP/1.1 200 OK\"\n",
      "13:17:32 INFO HTTP Request: POST http://localhost:11434/api/generate \"HTTP/1.1 200 OK\"\n",
      "13:17:36 INFO HTTP Request: POST http://localhost:11434/api/generate \"HTTP/1.1 200 OK\"\n",
      "13:17:41 INFO HTTP Request: POST http://localhost:11434/api/generate \"HTTP/1.1 200 OK\"\n",
      "13:17:45 INFO HTTP Request: POST http://localhost:11434/api/generate \"HTTP/1.1 200 OK\"\n",
      "13:17:49 INFO HTTP Request: POST http://localhost:11434/api/generate \"HTTP/1.1 200 OK\"\n",
      "13:17:53 INFO HTTP Request: POST http://localhost:11434/api/generate \"HTTP/1.1 200 OK\"\n",
      "13:17:57 INFO HTTP Request: POST http://localhost:11434/api/generate \"HTTP/1.1 200 OK\"\n",
      "13:18:02 INFO HTTP Request: POST http://localhost:11434/api/generate \"HTTP/1.1 200 OK\"\n",
      "13:18:06 INFO HTTP Request: POST http://localhost:11434/api/generate \"HTTP/1.1 200 OK\"\n",
      "13:18:11 INFO HTTP Request: POST http://localhost:11434/api/generate \"HTTP/1.1 200 OK\"\n",
      "13:18:15 INFO HTTP Request: POST http://localhost:11434/api/generate \"HTTP/1.1 200 OK\"\n",
      "13:18:20 INFO HTTP Request: POST http://localhost:11434/api/generate \"HTTP/1.1 200 OK\"\n",
      "13:18:24 INFO HTTP Request: POST http://localhost:11434/api/generate \"HTTP/1.1 200 OK\"\n",
      "13:18:28 INFO HTTP Request: POST http://localhost:11434/api/generate \"HTTP/1.1 200 OK\"\n",
      "13:18:33 INFO HTTP Request: POST http://localhost:11434/api/generate \"HTTP/1.1 200 OK\"\n",
      "13:18:37 INFO HTTP Request: POST http://localhost:11434/api/generate \"HTTP/1.1 200 OK\"\n",
      "13:18:42 INFO HTTP Request: POST http://localhost:11434/api/generate \"HTTP/1.1 200 OK\"\n",
      "13:18:46 INFO HTTP Request: POST http://localhost:11434/api/generate \"HTTP/1.1 200 OK\"\n",
      "13:18:51 INFO HTTP Request: POST http://localhost:11434/api/generate \"HTTP/1.1 200 OK\"\n",
      "13:18:54 INFO HTTP Request: POST http://localhost:11434/api/generate \"HTTP/1.1 200 OK\"\n",
      "13:18:59 INFO HTTP Request: POST http://localhost:11434/api/generate \"HTTP/1.1 200 OK\"\n",
      "13:19:03 INFO HTTP Request: POST http://localhost:11434/api/generate \"HTTP/1.1 200 OK\"\n",
      "13:19:07 INFO HTTP Request: POST http://localhost:11434/api/generate \"HTTP/1.1 200 OK\"\n",
      "13:19:11 INFO HTTP Request: POST http://localhost:11434/api/generate \"HTTP/1.1 200 OK\"\n",
      "13:19:16 INFO HTTP Request: POST http://localhost:11434/api/generate \"HTTP/1.1 200 OK\"\n",
      "13:19:20 INFO HTTP Request: POST http://localhost:11434/api/generate \"HTTP/1.1 200 OK\"\n",
      "13:19:24 INFO HTTP Request: POST http://localhost:11434/api/generate \"HTTP/1.1 200 OK\"\n",
      "13:19:29 INFO HTTP Request: POST http://localhost:11434/api/generate \"HTTP/1.1 200 OK\"\n",
      "13:19:33 INFO HTTP Request: POST http://localhost:11434/api/generate \"HTTP/1.1 200 OK\"\n",
      "13:19:37 INFO HTTP Request: POST http://localhost:11434/api/generate \"HTTP/1.1 200 OK\"\n",
      "13:19:42 INFO HTTP Request: POST http://localhost:11434/api/generate \"HTTP/1.1 200 OK\"\n",
      "13:19:46 INFO HTTP Request: POST http://localhost:11434/api/generate \"HTTP/1.1 200 OK\"\n",
      "13:19:51 INFO HTTP Request: POST http://localhost:11434/api/generate \"HTTP/1.1 200 OK\"\n",
      "13:19:55 INFO HTTP Request: POST http://localhost:11434/api/generate \"HTTP/1.1 200 OK\"\n",
      "13:20:00 INFO HTTP Request: POST http://localhost:11434/api/generate \"HTTP/1.1 200 OK\"\n",
      "13:20:04 INFO HTTP Request: POST http://localhost:11434/api/generate \"HTTP/1.1 200 OK\"\n",
      "13:20:08 INFO HTTP Request: POST http://localhost:11434/api/generate \"HTTP/1.1 200 OK\"\n",
      "13:20:13 INFO HTTP Request: POST http://localhost:11434/api/generate \"HTTP/1.1 200 OK\"\n",
      "13:20:17 INFO HTTP Request: POST http://localhost:11434/api/generate \"HTTP/1.1 200 OK\"\n",
      "13:20:21 INFO HTTP Request: POST http://localhost:11434/api/generate \"HTTP/1.1 200 OK\"\n",
      "13:20:25 INFO HTTP Request: POST http://localhost:11434/api/generate \"HTTP/1.1 200 OK\"\n",
      "13:20:29 INFO HTTP Request: POST http://localhost:11434/api/generate \"HTTP/1.1 200 OK\"\n",
      "13:20:33 INFO HTTP Request: POST http://localhost:11434/api/generate \"HTTP/1.1 200 OK\"\n",
      "13:20:37 INFO HTTP Request: POST http://localhost:11434/api/generate \"HTTP/1.1 200 OK\"\n",
      "13:20:42 INFO HTTP Request: POST http://localhost:11434/api/generate \"HTTP/1.1 200 OK\"\n",
      "13:20:46 INFO HTTP Request: POST http://localhost:11434/api/generate \"HTTP/1.1 200 OK\"\n",
      "13:20:50 INFO HTTP Request: POST http://localhost:11434/api/generate \"HTTP/1.1 200 OK\"\n",
      "13:20:54 INFO HTTP Request: POST http://localhost:11434/api/generate \"HTTP/1.1 200 OK\"\n",
      "13:20:58 INFO HTTP Request: POST http://localhost:11434/api/generate \"HTTP/1.1 200 OK\"\n",
      "13:21:02 INFO HTTP Request: POST http://localhost:11434/api/generate \"HTTP/1.1 200 OK\"\n",
      "13:21:07 INFO HTTP Request: POST http://localhost:11434/api/generate \"HTTP/1.1 200 OK\"\n",
      "13:21:12 INFO HTTP Request: POST http://localhost:11434/api/generate \"HTTP/1.1 200 OK\"\n",
      "13:21:16 INFO HTTP Request: POST http://localhost:11434/api/generate \"HTTP/1.1 200 OK\"\n",
      "13:21:19 INFO HTTP Request: POST http://localhost:11434/api/generate \"HTTP/1.1 200 OK\"\n",
      "13:21:24 INFO HTTP Request: POST http://localhost:11434/api/generate \"HTTP/1.1 200 OK\"\n",
      "13:21:29 INFO HTTP Request: POST http://localhost:11434/api/generate \"HTTP/1.1 200 OK\"\n",
      "13:21:33 INFO HTTP Request: POST http://localhost:11434/api/generate \"HTTP/1.1 200 OK\"\n",
      "13:21:37 INFO HTTP Request: POST http://localhost:11434/api/generate \"HTTP/1.1 200 OK\"\n",
      "13:21:42 INFO HTTP Request: POST http://localhost:11434/api/generate \"HTTP/1.1 200 OK\"\n",
      "13:21:46 INFO HTTP Request: POST http://localhost:11434/api/generate \"HTTP/1.1 200 OK\"\n"
     ]
    },
    {
     "data": {
      "application/vnd.jupyter.widget-view+json": {
       "model_id": "2f3f96acc61e4da3ac2b55dab6a4d8de",
       "version_major": 2,
       "version_minor": 0
      },
      "text/plain": [
       "Batches:   0%|          | 0/3 [00:00<?, ?it/s]"
      ]
     },
     "metadata": {},
     "output_type": "display_data"
    },
    {
     "name": "stderr",
     "output_type": "stream",
     "text": [
      "13:21:52 INFO HTTP Request: POST http://localhost:11434/api/generate \"HTTP/1.1 200 OK\"\n",
      "13:21:57 INFO HTTP Request: POST http://localhost:11434/api/generate \"HTTP/1.1 200 OK\"\n",
      "13:22:01 INFO HTTP Request: POST http://localhost:11434/api/generate \"HTTP/1.1 200 OK\"\n",
      "13:22:05 INFO HTTP Request: POST http://localhost:11434/api/generate \"HTTP/1.1 200 OK\"\n",
      "13:22:09 INFO HTTP Request: POST http://localhost:11434/api/generate \"HTTP/1.1 200 OK\"\n",
      "13:22:14 INFO HTTP Request: POST http://localhost:11434/api/generate \"HTTP/1.1 200 OK\"\n",
      "13:22:18 INFO HTTP Request: POST http://localhost:11434/api/generate \"HTTP/1.1 200 OK\"\n",
      "13:22:22 INFO HTTP Request: POST http://localhost:11434/api/generate \"HTTP/1.1 200 OK\"\n",
      "13:22:27 INFO HTTP Request: POST http://localhost:11434/api/generate \"HTTP/1.1 200 OK\"\n",
      "13:22:31 INFO HTTP Request: POST http://localhost:11434/api/generate \"HTTP/1.1 200 OK\"\n",
      "13:22:35 INFO HTTP Request: POST http://localhost:11434/api/generate \"HTTP/1.1 200 OK\"\n",
      "13:22:39 INFO HTTP Request: POST http://localhost:11434/api/generate \"HTTP/1.1 200 OK\"\n",
      "13:22:43 INFO HTTP Request: POST http://localhost:11434/api/generate \"HTTP/1.1 200 OK\"\n",
      "13:22:48 INFO HTTP Request: POST http://localhost:11434/api/generate \"HTTP/1.1 200 OK\"\n",
      "13:22:52 INFO HTTP Request: POST http://localhost:11434/api/generate \"HTTP/1.1 200 OK\"\n",
      "13:22:56 INFO HTTP Request: POST http://localhost:11434/api/generate \"HTTP/1.1 200 OK\"\n",
      "13:23:00 INFO HTTP Request: POST http://localhost:11434/api/generate \"HTTP/1.1 200 OK\"\n",
      "13:23:05 INFO HTTP Request: POST http://localhost:11434/api/generate \"HTTP/1.1 200 OK\"\n",
      "13:23:10 INFO HTTP Request: POST http://localhost:11434/api/generate \"HTTP/1.1 200 OK\"\n",
      "13:23:14 INFO HTTP Request: POST http://localhost:11434/api/generate \"HTTP/1.1 200 OK\"\n",
      "13:23:18 INFO HTTP Request: POST http://localhost:11434/api/generate \"HTTP/1.1 200 OK\"\n",
      "13:23:23 INFO HTTP Request: POST http://localhost:11434/api/generate \"HTTP/1.1 200 OK\"\n",
      "13:23:27 INFO HTTP Request: POST http://localhost:11434/api/generate \"HTTP/1.1 200 OK\"\n",
      "13:23:32 INFO HTTP Request: POST http://localhost:11434/api/generate \"HTTP/1.1 200 OK\"\n",
      "13:23:36 INFO HTTP Request: POST http://localhost:11434/api/generate \"HTTP/1.1 200 OK\"\n",
      "13:23:41 INFO HTTP Request: POST http://localhost:11434/api/generate \"HTTP/1.1 200 OK\"\n",
      "13:23:45 INFO HTTP Request: POST http://localhost:11434/api/generate \"HTTP/1.1 200 OK\"\n",
      "13:23:49 INFO HTTP Request: POST http://localhost:11434/api/generate \"HTTP/1.1 200 OK\"\n",
      "13:23:54 INFO HTTP Request: POST http://localhost:11434/api/generate \"HTTP/1.1 200 OK\"\n",
      "13:23:58 INFO HTTP Request: POST http://localhost:11434/api/generate \"HTTP/1.1 200 OK\"\n",
      "13:24:02 INFO HTTP Request: POST http://localhost:11434/api/generate \"HTTP/1.1 200 OK\"\n",
      "13:24:07 INFO HTTP Request: POST http://localhost:11434/api/generate \"HTTP/1.1 200 OK\"\n",
      "13:24:11 INFO HTTP Request: POST http://localhost:11434/api/generate \"HTTP/1.1 200 OK\"\n",
      "13:24:15 INFO HTTP Request: POST http://localhost:11434/api/generate \"HTTP/1.1 200 OK\"\n",
      "13:24:19 INFO HTTP Request: POST http://localhost:11434/api/generate \"HTTP/1.1 200 OK\"\n",
      "13:24:24 INFO HTTP Request: POST http://localhost:11434/api/generate \"HTTP/1.1 200 OK\"\n",
      "13:24:28 INFO HTTP Request: POST http://localhost:11434/api/generate \"HTTP/1.1 200 OK\"\n",
      "13:24:33 INFO HTTP Request: POST http://localhost:11434/api/generate \"HTTP/1.1 200 OK\"\n",
      "13:24:37 INFO HTTP Request: POST http://localhost:11434/api/generate \"HTTP/1.1 200 OK\"\n",
      "13:24:41 INFO HTTP Request: POST http://localhost:11434/api/generate \"HTTP/1.1 200 OK\"\n",
      "13:24:46 INFO HTTP Request: POST http://localhost:11434/api/generate \"HTTP/1.1 200 OK\"\n",
      "13:24:50 INFO HTTP Request: POST http://localhost:11434/api/generate \"HTTP/1.1 200 OK\"\n",
      "13:24:54 INFO HTTP Request: POST http://localhost:11434/api/generate \"HTTP/1.1 200 OK\"\n",
      "13:24:58 INFO HTTP Request: POST http://localhost:11434/api/generate \"HTTP/1.1 200 OK\"\n",
      "13:25:03 INFO HTTP Request: POST http://localhost:11434/api/generate \"HTTP/1.1 200 OK\"\n",
      "13:25:07 INFO HTTP Request: POST http://localhost:11434/api/generate \"HTTP/1.1 200 OK\"\n",
      "13:25:12 INFO HTTP Request: POST http://localhost:11434/api/generate \"HTTP/1.1 200 OK\"\n",
      "13:25:16 INFO HTTP Request: POST http://localhost:11434/api/generate \"HTTP/1.1 200 OK\"\n",
      "13:25:20 INFO HTTP Request: POST http://localhost:11434/api/generate \"HTTP/1.1 200 OK\"\n",
      "13:25:25 INFO HTTP Request: POST http://localhost:11434/api/generate \"HTTP/1.1 200 OK\"\n",
      "13:25:29 INFO HTTP Request: POST http://localhost:11434/api/generate \"HTTP/1.1 200 OK\"\n",
      "13:25:34 INFO HTTP Request: POST http://localhost:11434/api/generate \"HTTP/1.1 200 OK\"\n",
      "13:25:38 INFO HTTP Request: POST http://localhost:11434/api/generate \"HTTP/1.1 200 OK\"\n",
      "13:25:42 INFO HTTP Request: POST http://localhost:11434/api/generate \"HTTP/1.1 200 OK\"\n",
      "13:25:46 INFO HTTP Request: POST http://localhost:11434/api/generate \"HTTP/1.1 200 OK\"\n",
      "13:25:51 INFO HTTP Request: POST http://localhost:11434/api/generate \"HTTP/1.1 200 OK\"\n",
      "13:25:55 INFO HTTP Request: POST http://localhost:11434/api/generate \"HTTP/1.1 200 OK\"\n",
      "13:25:59 INFO HTTP Request: POST http://localhost:11434/api/generate \"HTTP/1.1 200 OK\"\n",
      "13:26:04 INFO HTTP Request: POST http://localhost:11434/api/generate \"HTTP/1.1 200 OK\"\n",
      "13:26:08 INFO HTTP Request: POST http://localhost:11434/api/generate \"HTTP/1.1 200 OK\"\n",
      "13:26:12 INFO HTTP Request: POST http://localhost:11434/api/generate \"HTTP/1.1 200 OK\"\n",
      "13:26:16 INFO HTTP Request: POST http://localhost:11434/api/generate \"HTTP/1.1 200 OK\"\n",
      "13:26:20 INFO HTTP Request: POST http://localhost:11434/api/generate \"HTTP/1.1 200 OK\"\n",
      "13:26:25 INFO HTTP Request: POST http://localhost:11434/api/generate \"HTTP/1.1 200 OK\"\n",
      "13:26:29 INFO HTTP Request: POST http://localhost:11434/api/generate \"HTTP/1.1 200 OK\"\n",
      "13:26:34 INFO HTTP Request: POST http://localhost:11434/api/generate \"HTTP/1.1 200 OK\"\n",
      "13:26:38 INFO HTTP Request: POST http://localhost:11434/api/generate \"HTTP/1.1 200 OK\"\n",
      "13:26:42 INFO HTTP Request: POST http://localhost:11434/api/generate \"HTTP/1.1 200 OK\"\n",
      "13:26:46 INFO HTTP Request: POST http://localhost:11434/api/generate \"HTTP/1.1 200 OK\"\n",
      "13:26:50 INFO HTTP Request: POST http://localhost:11434/api/generate \"HTTP/1.1 200 OK\"\n",
      "13:26:54 INFO HTTP Request: POST http://localhost:11434/api/generate \"HTTP/1.1 200 OK\"\n",
      "13:26:58 INFO HTTP Request: POST http://localhost:11434/api/generate \"HTTP/1.1 200 OK\"\n",
      "13:27:02 INFO HTTP Request: POST http://localhost:11434/api/generate \"HTTP/1.1 200 OK\"\n",
      "13:27:07 INFO HTTP Request: POST http://localhost:11434/api/generate \"HTTP/1.1 200 OK\"\n"
     ]
    },
    {
     "data": {
      "application/vnd.jupyter.widget-view+json": {
       "model_id": "a3c1806574b44405b0e09b9ce3f2cd1c",
       "version_major": 2,
       "version_minor": 0
      },
      "text/plain": [
       "Batches:   0%|          | 0/3 [00:00<?, ?it/s]"
      ]
     },
     "metadata": {},
     "output_type": "display_data"
    },
    {
     "name": "stderr",
     "output_type": "stream",
     "text": [
      "13:27:12 INFO HTTP Request: POST http://localhost:11434/api/generate \"HTTP/1.1 200 OK\"\n",
      "13:27:15 INFO HTTP Request: POST http://localhost:11434/api/generate \"HTTP/1.1 200 OK\"\n",
      "13:27:17 INFO HTTP Request: POST http://localhost:11434/api/generate \"HTTP/1.1 200 OK\"\n",
      "13:27:20 INFO HTTP Request: POST http://localhost:11434/api/generate \"HTTP/1.1 200 OK\"\n",
      "13:27:22 INFO HTTP Request: POST http://localhost:11434/api/generate \"HTTP/1.1 200 OK\"\n",
      "13:27:25 INFO HTTP Request: POST http://localhost:11434/api/generate \"HTTP/1.1 200 OK\"\n",
      "13:27:28 INFO HTTP Request: POST http://localhost:11434/api/generate \"HTTP/1.1 200 OK\"\n",
      "13:27:30 INFO HTTP Request: POST http://localhost:11434/api/generate \"HTTP/1.1 200 OK\"\n",
      "13:27:33 INFO HTTP Request: POST http://localhost:11434/api/generate \"HTTP/1.1 200 OK\"\n",
      "13:27:35 INFO HTTP Request: POST http://localhost:11434/api/generate \"HTTP/1.1 200 OK\"\n",
      "13:27:38 INFO HTTP Request: POST http://localhost:11434/api/generate \"HTTP/1.1 200 OK\"\n",
      "13:27:41 INFO HTTP Request: POST http://localhost:11434/api/generate \"HTTP/1.1 200 OK\"\n",
      "13:27:43 INFO HTTP Request: POST http://localhost:11434/api/generate \"HTTP/1.1 200 OK\"\n",
      "13:27:46 INFO HTTP Request: POST http://localhost:11434/api/generate \"HTTP/1.1 200 OK\"\n",
      "13:27:49 INFO HTTP Request: POST http://localhost:11434/api/generate \"HTTP/1.1 200 OK\"\n",
      "13:27:52 INFO HTTP Request: POST http://localhost:11434/api/generate \"HTTP/1.1 200 OK\"\n",
      "13:27:54 INFO HTTP Request: POST http://localhost:11434/api/generate \"HTTP/1.1 200 OK\"\n",
      "13:27:57 INFO HTTP Request: POST http://localhost:11434/api/generate \"HTTP/1.1 200 OK\"\n",
      "13:28:00 INFO HTTP Request: POST http://localhost:11434/api/generate \"HTTP/1.1 200 OK\"\n",
      "13:28:03 INFO HTTP Request: POST http://localhost:11434/api/generate \"HTTP/1.1 200 OK\"\n",
      "13:28:05 INFO HTTP Request: POST http://localhost:11434/api/generate \"HTTP/1.1 200 OK\"\n",
      "13:28:08 INFO HTTP Request: POST http://localhost:11434/api/generate \"HTTP/1.1 200 OK\"\n",
      "13:28:11 INFO HTTP Request: POST http://localhost:11434/api/generate \"HTTP/1.1 200 OK\"\n",
      "13:28:14 INFO HTTP Request: POST http://localhost:11434/api/generate \"HTTP/1.1 200 OK\"\n",
      "13:28:16 INFO HTTP Request: POST http://localhost:11434/api/generate \"HTTP/1.1 200 OK\"\n",
      "13:28:19 INFO HTTP Request: POST http://localhost:11434/api/generate \"HTTP/1.1 200 OK\"\n",
      "13:28:21 INFO HTTP Request: POST http://localhost:11434/api/generate \"HTTP/1.1 200 OK\"\n",
      "13:28:25 INFO HTTP Request: POST http://localhost:11434/api/generate \"HTTP/1.1 200 OK\"\n",
      "13:28:27 INFO HTTP Request: POST http://localhost:11434/api/generate \"HTTP/1.1 200 OK\"\n",
      "13:28:30 INFO HTTP Request: POST http://localhost:11434/api/generate \"HTTP/1.1 200 OK\"\n",
      "13:28:33 INFO HTTP Request: POST http://localhost:11434/api/generate \"HTTP/1.1 200 OK\"\n",
      "13:28:36 INFO HTTP Request: POST http://localhost:11434/api/generate \"HTTP/1.1 200 OK\"\n"
     ]
    },
    {
     "data": {
      "application/vnd.jupyter.widget-view+json": {
       "model_id": "9eaa0a73188c436ca8c246966e2970fe",
       "version_major": 2,
       "version_minor": 0
      },
      "text/plain": [
       "Batches:   0%|          | 0/1 [00:00<?, ?it/s]"
      ]
     },
     "metadata": {},
     "output_type": "display_data"
    },
    {
     "name": "stderr",
     "output_type": "stream",
     "text": [
      "Processing Markdown files: 100%|██████████| 6/6 [20:33<00:00, 205.62s/it]\n",
      "Processing Pickle files:  20%|██        | 1/5 [20:34<1:22:19, 1234.93s/it]13:28:41 INFO HTTP Request: POST http://localhost:11434/api/generate \"HTTP/1.1 200 OK\"\n",
      "13:28:44 INFO HTTP Request: POST http://localhost:11434/api/generate \"HTTP/1.1 200 OK\"\n",
      "13:28:47 INFO HTTP Request: POST http://localhost:11434/api/generate \"HTTP/1.1 200 OK\"\n",
      "13:28:50 INFO HTTP Request: POST http://localhost:11434/api/generate \"HTTP/1.1 200 OK\"\n"
     ]
    },
    {
     "data": {
      "application/vnd.jupyter.widget-view+json": {
       "model_id": "8d5f30a1aa4d4820a1f95f218e601ce9",
       "version_major": 2,
       "version_minor": 0
      },
      "text/plain": [
       "Batches:   0%|          | 0/1 [00:00<?, ?it/s]"
      ]
     },
     "metadata": {},
     "output_type": "display_data"
    },
    {
     "name": "stderr",
     "output_type": "stream",
     "text": [
      "13:28:55 INFO HTTP Request: POST http://localhost:11434/api/generate \"HTTP/1.1 200 OK\"\n",
      "13:28:59 INFO HTTP Request: POST http://localhost:11434/api/generate \"HTTP/1.1 200 OK\"\n",
      "13:29:03 INFO HTTP Request: POST http://localhost:11434/api/generate \"HTTP/1.1 200 OK\"\n",
      "13:29:08 INFO HTTP Request: POST http://localhost:11434/api/generate \"HTTP/1.1 200 OK\"\n",
      "13:29:12 INFO HTTP Request: POST http://localhost:11434/api/generate \"HTTP/1.1 200 OK\"\n",
      "13:29:16 INFO HTTP Request: POST http://localhost:11434/api/generate \"HTTP/1.1 200 OK\"\n"
     ]
    },
    {
     "data": {
      "application/vnd.jupyter.widget-view+json": {
       "model_id": "dc2aeb3faeeb4f489d0ac97e7b7429ff",
       "version_major": 2,
       "version_minor": 0
      },
      "text/plain": [
       "Batches:   0%|          | 0/1 [00:00<?, ?it/s]"
      ]
     },
     "metadata": {},
     "output_type": "display_data"
    },
    {
     "name": "stderr",
     "output_type": "stream",
     "text": [
      "13:29:23 INFO HTTP Request: POST http://localhost:11434/api/generate \"HTTP/1.1 200 OK\"\n",
      "13:29:28 INFO HTTP Request: POST http://localhost:11434/api/generate \"HTTP/1.1 200 OK\"\n",
      "13:29:33 INFO HTTP Request: POST http://localhost:11434/api/generate \"HTTP/1.1 200 OK\"\n",
      "13:29:38 INFO HTTP Request: POST http://localhost:11434/api/generate \"HTTP/1.1 200 OK\"\n",
      "13:29:44 INFO HTTP Request: POST http://localhost:11434/api/generate \"HTTP/1.1 200 OK\"\n",
      "13:29:49 INFO HTTP Request: POST http://localhost:11434/api/generate \"HTTP/1.1 200 OK\"\n",
      "13:29:53 INFO HTTP Request: POST http://localhost:11434/api/generate \"HTTP/1.1 200 OK\"\n",
      "13:30:00 INFO HTTP Request: POST http://localhost:11434/api/generate \"HTTP/1.1 200 OK\"\n",
      "13:30:05 INFO HTTP Request: POST http://localhost:11434/api/generate \"HTTP/1.1 200 OK\"\n",
      "13:30:10 INFO HTTP Request: POST http://localhost:11434/api/generate \"HTTP/1.1 200 OK\"\n"
     ]
    },
    {
     "data": {
      "application/vnd.jupyter.widget-view+json": {
       "model_id": "1c258e9eb39a47acad2edec86aaee10b",
       "version_major": 2,
       "version_minor": 0
      },
      "text/plain": [
       "Batches:   0%|          | 0/1 [00:00<?, ?it/s]"
      ]
     },
     "metadata": {},
     "output_type": "display_data"
    },
    {
     "name": "stderr",
     "output_type": "stream",
     "text": [
      "13:30:17 INFO HTTP Request: POST http://localhost:11434/api/generate \"HTTP/1.1 200 OK\"\n",
      "13:30:23 INFO HTTP Request: POST http://localhost:11434/api/generate \"HTTP/1.1 200 OK\"\n",
      "13:30:28 INFO HTTP Request: POST http://localhost:11434/api/generate \"HTTP/1.1 200 OK\"\n",
      "13:30:33 INFO HTTP Request: POST http://localhost:11434/api/generate \"HTTP/1.1 200 OK\"\n",
      "13:30:38 INFO HTTP Request: POST http://localhost:11434/api/generate \"HTTP/1.1 200 OK\"\n",
      "13:30:42 INFO HTTP Request: POST http://localhost:11434/api/generate \"HTTP/1.1 200 OK\"\n",
      "13:30:47 INFO HTTP Request: POST http://localhost:11434/api/generate \"HTTP/1.1 200 OK\"\n",
      "13:30:52 INFO HTTP Request: POST http://localhost:11434/api/generate \"HTTP/1.1 200 OK\"\n",
      "13:30:56 INFO HTTP Request: POST http://localhost:11434/api/generate \"HTTP/1.1 200 OK\"\n"
     ]
    },
    {
     "data": {
      "application/vnd.jupyter.widget-view+json": {
       "model_id": "1c3af363d1fb4c808101cb8b6fcdad32",
       "version_major": 2,
       "version_minor": 0
      },
      "text/plain": [
       "Batches:   0%|          | 0/1 [00:00<?, ?it/s]"
      ]
     },
     "metadata": {},
     "output_type": "display_data"
    },
    {
     "name": "stderr",
     "output_type": "stream",
     "text": [
      "13:31:03 INFO HTTP Request: POST http://localhost:11434/api/generate \"HTTP/1.1 200 OK\"\n",
      "13:31:08 INFO HTTP Request: POST http://localhost:11434/api/generate \"HTTP/1.1 200 OK\"\n",
      "13:31:12 INFO HTTP Request: POST http://localhost:11434/api/generate \"HTTP/1.1 200 OK\"\n",
      "13:31:17 INFO HTTP Request: POST http://localhost:11434/api/generate \"HTTP/1.1 200 OK\"\n",
      "13:31:22 INFO HTTP Request: POST http://localhost:11434/api/generate \"HTTP/1.1 200 OK\"\n",
      "13:31:27 INFO HTTP Request: POST http://localhost:11434/api/generate \"HTTP/1.1 200 OK\"\n",
      "13:31:32 INFO HTTP Request: POST http://localhost:11434/api/generate \"HTTP/1.1 200 OK\"\n",
      "13:31:37 INFO HTTP Request: POST http://localhost:11434/api/generate \"HTTP/1.1 200 OK\"\n"
     ]
    },
    {
     "data": {
      "application/vnd.jupyter.widget-view+json": {
       "model_id": "fb47f155f5744e1d8a57397674f54af1",
       "version_major": 2,
       "version_minor": 0
      },
      "text/plain": [
       "Batches:   0%|          | 0/1 [00:00<?, ?it/s]"
      ]
     },
     "metadata": {},
     "output_type": "display_data"
    },
    {
     "name": "stderr",
     "output_type": "stream",
     "text": [
      "13:31:42 INFO HTTP Request: POST http://localhost:11434/api/generate \"HTTP/1.1 200 OK\"\n",
      "13:31:45 INFO HTTP Request: POST http://localhost:11434/api/generate \"HTTP/1.1 200 OK\"\n",
      "13:31:48 INFO HTTP Request: POST http://localhost:11434/api/generate \"HTTP/1.1 200 OK\"\n",
      "13:31:51 INFO HTTP Request: POST http://localhost:11434/api/generate \"HTTP/1.1 200 OK\"\n"
     ]
    },
    {
     "data": {
      "application/vnd.jupyter.widget-view+json": {
       "model_id": "060e2a953ae44e32bddb7bfca9c26d77",
       "version_major": 2,
       "version_minor": 0
      },
      "text/plain": [
       "Batches:   0%|          | 0/1 [00:00<?, ?it/s]"
      ]
     },
     "metadata": {},
     "output_type": "display_data"
    },
    {
     "name": "stderr",
     "output_type": "stream",
     "text": [
      "Processing Markdown files: 100%|██████████| 6/6 [03:13<00:00, 32.30s/it]\n",
      "Processing Pickle files:  40%|████      | 2/5 [23:48<31:07, 622.60s/it]   13:31:55 INFO HTTP Request: POST http://localhost:11434/api/generate \"HTTP/1.1 200 OK\"\n",
      "13:31:57 INFO HTTP Request: POST http://localhost:11434/api/generate \"HTTP/1.1 200 OK\"\n",
      "13:32:00 INFO HTTP Request: POST http://localhost:11434/api/generate \"HTTP/1.1 200 OK\"\n",
      "13:32:03 INFO HTTP Request: POST http://localhost:11434/api/generate \"HTTP/1.1 200 OK\"\n",
      "13:32:05 INFO HTTP Request: POST http://localhost:11434/api/generate \"HTTP/1.1 200 OK\"\n",
      "13:32:07 INFO HTTP Request: POST http://localhost:11434/api/generate \"HTTP/1.1 200 OK\"\n",
      "13:32:10 INFO HTTP Request: POST http://localhost:11434/api/generate \"HTTP/1.1 200 OK\"\n",
      "13:32:13 INFO HTTP Request: POST http://localhost:11434/api/generate \"HTTP/1.1 200 OK\"\n",
      "13:32:15 INFO HTTP Request: POST http://localhost:11434/api/generate \"HTTP/1.1 200 OK\"\n",
      "13:32:18 INFO HTTP Request: POST http://localhost:11434/api/generate \"HTTP/1.1 200 OK\"\n",
      "13:32:20 INFO HTTP Request: POST http://localhost:11434/api/generate \"HTTP/1.1 200 OK\"\n",
      "13:32:22 INFO HTTP Request: POST http://localhost:11434/api/generate \"HTTP/1.1 200 OK\"\n",
      "13:32:25 INFO HTTP Request: POST http://localhost:11434/api/generate \"HTTP/1.1 200 OK\"\n",
      "13:32:27 INFO HTTP Request: POST http://localhost:11434/api/generate \"HTTP/1.1 200 OK\"\n",
      "13:32:29 INFO HTTP Request: POST http://localhost:11434/api/generate \"HTTP/1.1 200 OK\"\n",
      "13:32:32 INFO HTTP Request: POST http://localhost:11434/api/generate \"HTTP/1.1 200 OK\"\n",
      "13:32:35 INFO HTTP Request: POST http://localhost:11434/api/generate \"HTTP/1.1 200 OK\"\n",
      "13:32:37 INFO HTTP Request: POST http://localhost:11434/api/generate \"HTTP/1.1 200 OK\"\n",
      "13:32:39 INFO HTTP Request: POST http://localhost:11434/api/generate \"HTTP/1.1 200 OK\"\n",
      "13:32:42 INFO HTTP Request: POST http://localhost:11434/api/generate \"HTTP/1.1 200 OK\"\n",
      "13:32:45 INFO HTTP Request: POST http://localhost:11434/api/generate \"HTTP/1.1 200 OK\"\n",
      "13:32:47 INFO HTTP Request: POST http://localhost:11434/api/generate \"HTTP/1.1 200 OK\"\n",
      "13:32:50 INFO HTTP Request: POST http://localhost:11434/api/generate \"HTTP/1.1 200 OK\"\n",
      "13:32:52 INFO HTTP Request: POST http://localhost:11434/api/generate \"HTTP/1.1 200 OK\"\n",
      "13:32:55 INFO HTTP Request: POST http://localhost:11434/api/generate \"HTTP/1.1 200 OK\"\n",
      "13:32:57 INFO HTTP Request: POST http://localhost:11434/api/generate \"HTTP/1.1 200 OK\"\n",
      "13:33:00 INFO HTTP Request: POST http://localhost:11434/api/generate \"HTTP/1.1 200 OK\"\n",
      "13:33:03 INFO HTTP Request: POST http://localhost:11434/api/generate \"HTTP/1.1 200 OK\"\n",
      "13:33:05 INFO HTTP Request: POST http://localhost:11434/api/generate \"HTTP/1.1 200 OK\"\n"
     ]
    },
    {
     "data": {
      "application/vnd.jupyter.widget-view+json": {
       "model_id": "999db3abe4f041ecbca20c158d723ff2",
       "version_major": 2,
       "version_minor": 0
      },
      "text/plain": [
       "Batches:   0%|          | 0/1 [00:00<?, ?it/s]"
      ]
     },
     "metadata": {},
     "output_type": "display_data"
    },
    {
     "name": "stderr",
     "output_type": "stream",
     "text": [
      "13:33:10 INFO HTTP Request: POST http://localhost:11434/api/generate \"HTTP/1.1 200 OK\"\n",
      "13:33:13 INFO HTTP Request: POST http://localhost:11434/api/generate \"HTTP/1.1 200 OK\"\n",
      "13:33:17 INFO HTTP Request: POST http://localhost:11434/api/generate \"HTTP/1.1 200 OK\"\n",
      "13:33:20 INFO HTTP Request: POST http://localhost:11434/api/generate \"HTTP/1.1 200 OK\"\n",
      "13:33:23 INFO HTTP Request: POST http://localhost:11434/api/generate \"HTTP/1.1 200 OK\"\n",
      "13:33:27 INFO HTTP Request: POST http://localhost:11434/api/generate \"HTTP/1.1 200 OK\"\n",
      "13:33:30 INFO HTTP Request: POST http://localhost:11434/api/generate \"HTTP/1.1 200 OK\"\n",
      "13:33:33 INFO HTTP Request: POST http://localhost:11434/api/generate \"HTTP/1.1 200 OK\"\n",
      "13:33:36 INFO HTTP Request: POST http://localhost:11434/api/generate \"HTTP/1.1 200 OK\"\n",
      "13:33:39 INFO HTTP Request: POST http://localhost:11434/api/generate \"HTTP/1.1 200 OK\"\n",
      "13:33:42 INFO HTTP Request: POST http://localhost:11434/api/generate \"HTTP/1.1 200 OK\"\n",
      "13:33:46 INFO HTTP Request: POST http://localhost:11434/api/generate \"HTTP/1.1 200 OK\"\n",
      "13:33:50 INFO HTTP Request: POST http://localhost:11434/api/generate \"HTTP/1.1 200 OK\"\n",
      "13:33:53 INFO HTTP Request: POST http://localhost:11434/api/generate \"HTTP/1.1 200 OK\"\n",
      "13:33:56 INFO HTTP Request: POST http://localhost:11434/api/generate \"HTTP/1.1 200 OK\"\n",
      "13:33:59 INFO HTTP Request: POST http://localhost:11434/api/generate \"HTTP/1.1 200 OK\"\n",
      "13:34:02 INFO HTTP Request: POST http://localhost:11434/api/generate \"HTTP/1.1 200 OK\"\n",
      "13:34:06 INFO HTTP Request: POST http://localhost:11434/api/generate \"HTTP/1.1 200 OK\"\n",
      "13:34:10 INFO HTTP Request: POST http://localhost:11434/api/generate \"HTTP/1.1 200 OK\"\n",
      "13:34:13 INFO HTTP Request: POST http://localhost:11434/api/generate \"HTTP/1.1 200 OK\"\n",
      "13:34:17 INFO HTTP Request: POST http://localhost:11434/api/generate \"HTTP/1.1 200 OK\"\n",
      "13:34:21 INFO HTTP Request: POST http://localhost:11434/api/generate \"HTTP/1.1 200 OK\"\n",
      "13:34:24 INFO HTTP Request: POST http://localhost:11434/api/generate \"HTTP/1.1 200 OK\"\n",
      "13:34:29 INFO HTTP Request: POST http://localhost:11434/api/generate \"HTTP/1.1 200 OK\"\n",
      "13:34:32 INFO HTTP Request: POST http://localhost:11434/api/generate \"HTTP/1.1 200 OK\"\n",
      "13:34:35 INFO HTTP Request: POST http://localhost:11434/api/generate \"HTTP/1.1 200 OK\"\n",
      "13:34:39 INFO HTTP Request: POST http://localhost:11434/api/generate \"HTTP/1.1 200 OK\"\n",
      "13:34:43 INFO HTTP Request: POST http://localhost:11434/api/generate \"HTTP/1.1 200 OK\"\n",
      "13:34:46 INFO HTTP Request: POST http://localhost:11434/api/generate \"HTTP/1.1 200 OK\"\n",
      "13:34:50 INFO HTTP Request: POST http://localhost:11434/api/generate \"HTTP/1.1 200 OK\"\n",
      "13:34:53 INFO HTTP Request: POST http://localhost:11434/api/generate \"HTTP/1.1 200 OK\"\n",
      "13:34:56 INFO HTTP Request: POST http://localhost:11434/api/generate \"HTTP/1.1 200 OK\"\n",
      "13:35:00 INFO HTTP Request: POST http://localhost:11434/api/generate \"HTTP/1.1 200 OK\"\n",
      "13:35:03 INFO HTTP Request: POST http://localhost:11434/api/generate \"HTTP/1.1 200 OK\"\n",
      "13:35:07 INFO HTTP Request: POST http://localhost:11434/api/generate \"HTTP/1.1 200 OK\"\n",
      "13:35:10 INFO HTTP Request: POST http://localhost:11434/api/generate \"HTTP/1.1 200 OK\"\n",
      "13:35:14 INFO HTTP Request: POST http://localhost:11434/api/generate \"HTTP/1.1 200 OK\"\n",
      "13:35:18 INFO HTTP Request: POST http://localhost:11434/api/generate \"HTTP/1.1 200 OK\"\n",
      "13:35:22 INFO HTTP Request: POST http://localhost:11434/api/generate \"HTTP/1.1 200 OK\"\n",
      "13:35:25 INFO HTTP Request: POST http://localhost:11434/api/generate \"HTTP/1.1 200 OK\"\n",
      "13:35:29 INFO HTTP Request: POST http://localhost:11434/api/generate \"HTTP/1.1 200 OK\"\n",
      "13:35:33 INFO HTTP Request: POST http://localhost:11434/api/generate \"HTTP/1.1 200 OK\"\n",
      "13:35:36 INFO HTTP Request: POST http://localhost:11434/api/generate \"HTTP/1.1 200 OK\"\n",
      "13:35:39 INFO HTTP Request: POST http://localhost:11434/api/generate \"HTTP/1.1 200 OK\"\n",
      "13:35:43 INFO HTTP Request: POST http://localhost:11434/api/generate \"HTTP/1.1 200 OK\"\n",
      "13:35:46 INFO HTTP Request: POST http://localhost:11434/api/generate \"HTTP/1.1 200 OK\"\n",
      "13:35:50 INFO HTTP Request: POST http://localhost:11434/api/generate \"HTTP/1.1 200 OK\"\n",
      "13:35:54 INFO HTTP Request: POST http://localhost:11434/api/generate \"HTTP/1.1 200 OK\"\n"
     ]
    },
    {
     "data": {
      "application/vnd.jupyter.widget-view+json": {
       "model_id": "13c3b5cdf4ea4394b0d22ccbfd6da843",
       "version_major": 2,
       "version_minor": 0
      },
      "text/plain": [
       "Batches:   0%|          | 0/2 [00:00<?, ?it/s]"
      ]
     },
     "metadata": {},
     "output_type": "display_data"
    },
    {
     "name": "stderr",
     "output_type": "stream",
     "text": [
      "13:36:00 INFO HTTP Request: POST http://localhost:11434/api/generate \"HTTP/1.1 200 OK\"\n",
      "13:36:05 INFO HTTP Request: POST http://localhost:11434/api/generate \"HTTP/1.1 200 OK\"\n",
      "13:36:10 INFO HTTP Request: POST http://localhost:11434/api/generate \"HTTP/1.1 200 OK\"\n",
      "13:36:15 INFO HTTP Request: POST http://localhost:11434/api/generate \"HTTP/1.1 200 OK\"\n",
      "13:36:20 INFO HTTP Request: POST http://localhost:11434/api/generate \"HTTP/1.1 200 OK\"\n",
      "13:36:24 INFO HTTP Request: POST http://localhost:11434/api/generate \"HTTP/1.1 200 OK\"\n",
      "13:36:29 INFO HTTP Request: POST http://localhost:11434/api/generate \"HTTP/1.1 200 OK\"\n",
      "13:36:34 INFO HTTP Request: POST http://localhost:11434/api/generate \"HTTP/1.1 200 OK\"\n",
      "13:36:38 INFO HTTP Request: POST http://localhost:11434/api/generate \"HTTP/1.1 200 OK\"\n",
      "13:36:43 INFO HTTP Request: POST http://localhost:11434/api/generate \"HTTP/1.1 200 OK\"\n",
      "13:36:48 INFO HTTP Request: POST http://localhost:11434/api/generate \"HTTP/1.1 200 OK\"\n",
      "13:36:53 INFO HTTP Request: POST http://localhost:11434/api/generate \"HTTP/1.1 200 OK\"\n",
      "13:36:57 INFO HTTP Request: POST http://localhost:11434/api/generate \"HTTP/1.1 200 OK\"\n",
      "13:37:02 INFO HTTP Request: POST http://localhost:11434/api/generate \"HTTP/1.1 200 OK\"\n",
      "13:37:07 INFO HTTP Request: POST http://localhost:11434/api/generate \"HTTP/1.1 200 OK\"\n",
      "13:37:11 INFO HTTP Request: POST http://localhost:11434/api/generate \"HTTP/1.1 200 OK\"\n",
      "13:37:15 INFO HTTP Request: POST http://localhost:11434/api/generate \"HTTP/1.1 200 OK\"\n",
      "13:37:20 INFO HTTP Request: POST http://localhost:11434/api/generate \"HTTP/1.1 200 OK\"\n",
      "13:37:24 INFO HTTP Request: POST http://localhost:11434/api/generate \"HTTP/1.1 200 OK\"\n",
      "13:37:29 INFO HTTP Request: POST http://localhost:11434/api/generate \"HTTP/1.1 200 OK\"\n",
      "13:37:33 INFO HTTP Request: POST http://localhost:11434/api/generate \"HTTP/1.1 200 OK\"\n",
      "13:37:38 INFO HTTP Request: POST http://localhost:11434/api/generate \"HTTP/1.1 200 OK\"\n",
      "13:37:43 INFO HTTP Request: POST http://localhost:11434/api/generate \"HTTP/1.1 200 OK\"\n",
      "13:37:47 INFO HTTP Request: POST http://localhost:11434/api/generate \"HTTP/1.1 200 OK\"\n",
      "13:37:52 INFO HTTP Request: POST http://localhost:11434/api/generate \"HTTP/1.1 200 OK\"\n",
      "13:37:56 INFO HTTP Request: POST http://localhost:11434/api/generate \"HTTP/1.1 200 OK\"\n",
      "13:38:01 INFO HTTP Request: POST http://localhost:11434/api/generate \"HTTP/1.1 200 OK\"\n",
      "13:38:06 INFO HTTP Request: POST http://localhost:11434/api/generate \"HTTP/1.1 200 OK\"\n",
      "13:38:11 INFO HTTP Request: POST http://localhost:11434/api/generate \"HTTP/1.1 200 OK\"\n",
      "13:38:15 INFO HTTP Request: POST http://localhost:11434/api/generate \"HTTP/1.1 200 OK\"\n",
      "13:38:20 INFO HTTP Request: POST http://localhost:11434/api/generate \"HTTP/1.1 200 OK\"\n",
      "13:38:24 INFO HTTP Request: POST http://localhost:11434/api/generate \"HTTP/1.1 200 OK\"\n",
      "13:38:28 INFO HTTP Request: POST http://localhost:11434/api/generate \"HTTP/1.1 200 OK\"\n",
      "13:38:33 INFO HTTP Request: POST http://localhost:11434/api/generate \"HTTP/1.1 200 OK\"\n",
      "13:38:38 INFO HTTP Request: POST http://localhost:11434/api/generate \"HTTP/1.1 200 OK\"\n",
      "13:38:43 INFO HTTP Request: POST http://localhost:11434/api/generate \"HTTP/1.1 200 OK\"\n",
      "13:38:47 INFO HTTP Request: POST http://localhost:11434/api/generate \"HTTP/1.1 200 OK\"\n",
      "13:38:52 INFO HTTP Request: POST http://localhost:11434/api/generate \"HTTP/1.1 200 OK\"\n",
      "13:38:57 INFO HTTP Request: POST http://localhost:11434/api/generate \"HTTP/1.1 200 OK\"\n",
      "13:39:02 INFO HTTP Request: POST http://localhost:11434/api/generate \"HTTP/1.1 200 OK\"\n",
      "13:39:06 INFO HTTP Request: POST http://localhost:11434/api/generate \"HTTP/1.1 200 OK\"\n",
      "13:39:11 INFO HTTP Request: POST http://localhost:11434/api/generate \"HTTP/1.1 200 OK\"\n",
      "13:39:16 INFO HTTP Request: POST http://localhost:11434/api/generate \"HTTP/1.1 200 OK\"\n",
      "13:39:21 INFO HTTP Request: POST http://localhost:11434/api/generate \"HTTP/1.1 200 OK\"\n",
      "13:39:26 INFO HTTP Request: POST http://localhost:11434/api/generate \"HTTP/1.1 200 OK\"\n",
      "13:39:31 INFO HTTP Request: POST http://localhost:11434/api/generate \"HTTP/1.1 200 OK\"\n",
      "13:39:35 INFO HTTP Request: POST http://localhost:11434/api/generate \"HTTP/1.1 200 OK\"\n",
      "13:39:40 INFO HTTP Request: POST http://localhost:11434/api/generate \"HTTP/1.1 200 OK\"\n",
      "13:39:44 INFO HTTP Request: POST http://localhost:11434/api/generate \"HTTP/1.1 200 OK\"\n",
      "13:39:49 INFO HTTP Request: POST http://localhost:11434/api/generate \"HTTP/1.1 200 OK\"\n",
      "13:39:54 INFO HTTP Request: POST http://localhost:11434/api/generate \"HTTP/1.1 200 OK\"\n",
      "13:39:58 INFO HTTP Request: POST http://localhost:11434/api/generate \"HTTP/1.1 200 OK\"\n",
      "13:40:03 INFO HTTP Request: POST http://localhost:11434/api/generate \"HTTP/1.1 200 OK\"\n",
      "13:40:08 INFO HTTP Request: POST http://localhost:11434/api/generate \"HTTP/1.1 200 OK\"\n",
      "13:40:12 INFO HTTP Request: POST http://localhost:11434/api/generate \"HTTP/1.1 200 OK\"\n",
      "13:40:16 INFO HTTP Request: POST http://localhost:11434/api/generate \"HTTP/1.1 200 OK\"\n",
      "13:40:21 INFO HTTP Request: POST http://localhost:11434/api/generate \"HTTP/1.1 200 OK\"\n",
      "13:40:25 INFO HTTP Request: POST http://localhost:11434/api/generate \"HTTP/1.1 200 OK\"\n",
      "13:40:30 INFO HTTP Request: POST http://localhost:11434/api/generate \"HTTP/1.1 200 OK\"\n",
      "13:40:34 INFO HTTP Request: POST http://localhost:11434/api/generate \"HTTP/1.1 200 OK\"\n",
      "13:40:39 INFO HTTP Request: POST http://localhost:11434/api/generate \"HTTP/1.1 200 OK\"\n",
      "13:40:44 INFO HTTP Request: POST http://localhost:11434/api/generate \"HTTP/1.1 200 OK\"\n",
      "13:40:49 INFO HTTP Request: POST http://localhost:11434/api/generate \"HTTP/1.1 200 OK\"\n",
      "13:40:54 INFO HTTP Request: POST http://localhost:11434/api/generate \"HTTP/1.1 200 OK\"\n",
      "13:40:58 INFO HTTP Request: POST http://localhost:11434/api/generate \"HTTP/1.1 200 OK\"\n",
      "13:41:04 INFO HTTP Request: POST http://localhost:11434/api/generate \"HTTP/1.1 200 OK\"\n",
      "13:41:08 INFO HTTP Request: POST http://localhost:11434/api/generate \"HTTP/1.1 200 OK\"\n",
      "13:41:13 INFO HTTP Request: POST http://localhost:11434/api/generate \"HTTP/1.1 200 OK\"\n",
      "13:41:18 INFO HTTP Request: POST http://localhost:11434/api/generate \"HTTP/1.1 200 OK\"\n",
      "13:41:22 INFO HTTP Request: POST http://localhost:11434/api/generate \"HTTP/1.1 200 OK\"\n",
      "13:41:27 INFO HTTP Request: POST http://localhost:11434/api/generate \"HTTP/1.1 200 OK\"\n",
      "13:41:32 INFO HTTP Request: POST http://localhost:11434/api/generate \"HTTP/1.1 200 OK\"\n",
      "13:41:36 INFO HTTP Request: POST http://localhost:11434/api/generate \"HTTP/1.1 200 OK\"\n",
      "13:41:41 INFO HTTP Request: POST http://localhost:11434/api/generate \"HTTP/1.1 200 OK\"\n",
      "13:41:45 INFO HTTP Request: POST http://localhost:11434/api/generate \"HTTP/1.1 200 OK\"\n",
      "13:41:49 INFO HTTP Request: POST http://localhost:11434/api/generate \"HTTP/1.1 200 OK\"\n",
      "13:41:54 INFO HTTP Request: POST http://localhost:11434/api/generate \"HTTP/1.1 200 OK\"\n",
      "13:41:59 INFO HTTP Request: POST http://localhost:11434/api/generate \"HTTP/1.1 200 OK\"\n",
      "13:42:04 INFO HTTP Request: POST http://localhost:11434/api/generate \"HTTP/1.1 200 OK\"\n",
      "13:42:08 INFO HTTP Request: POST http://localhost:11434/api/generate \"HTTP/1.1 200 OK\"\n"
     ]
    },
    {
     "data": {
      "application/vnd.jupyter.widget-view+json": {
       "model_id": "760b695a91c14e1cb839ab69ff4682c5",
       "version_major": 2,
       "version_minor": 0
      },
      "text/plain": [
       "Batches:   0%|          | 0/3 [00:00<?, ?it/s]"
      ]
     },
     "metadata": {},
     "output_type": "display_data"
    },
    {
     "name": "stderr",
     "output_type": "stream",
     "text": [
      "13:42:15 INFO HTTP Request: POST http://localhost:11434/api/generate \"HTTP/1.1 200 OK\"\n",
      "13:42:19 INFO HTTP Request: POST http://localhost:11434/api/generate \"HTTP/1.1 200 OK\"\n",
      "13:42:23 INFO HTTP Request: POST http://localhost:11434/api/generate \"HTTP/1.1 200 OK\"\n",
      "13:42:27 INFO HTTP Request: POST http://localhost:11434/api/generate \"HTTP/1.1 200 OK\"\n",
      "13:42:31 INFO HTTP Request: POST http://localhost:11434/api/generate \"HTTP/1.1 200 OK\"\n",
      "13:42:36 INFO HTTP Request: POST http://localhost:11434/api/generate \"HTTP/1.1 200 OK\"\n",
      "13:42:40 INFO HTTP Request: POST http://localhost:11434/api/generate \"HTTP/1.1 200 OK\"\n",
      "13:42:44 INFO HTTP Request: POST http://localhost:11434/api/generate \"HTTP/1.1 200 OK\"\n",
      "13:42:48 INFO HTTP Request: POST http://localhost:11434/api/generate \"HTTP/1.1 200 OK\"\n",
      "13:42:53 INFO HTTP Request: POST http://localhost:11434/api/generate \"HTTP/1.1 200 OK\"\n",
      "13:42:57 INFO HTTP Request: POST http://localhost:11434/api/generate \"HTTP/1.1 200 OK\"\n",
      "13:43:01 INFO HTTP Request: POST http://localhost:11434/api/generate \"HTTP/1.1 200 OK\"\n",
      "13:43:05 INFO HTTP Request: POST http://localhost:11434/api/generate \"HTTP/1.1 200 OK\"\n",
      "13:43:10 INFO HTTP Request: POST http://localhost:11434/api/generate \"HTTP/1.1 200 OK\"\n",
      "13:43:14 INFO HTTP Request: POST http://localhost:11434/api/generate \"HTTP/1.1 200 OK\"\n",
      "13:43:18 INFO HTTP Request: POST http://localhost:11434/api/generate \"HTTP/1.1 200 OK\"\n",
      "13:43:22 INFO HTTP Request: POST http://localhost:11434/api/generate \"HTTP/1.1 200 OK\"\n",
      "13:43:26 INFO HTTP Request: POST http://localhost:11434/api/generate \"HTTP/1.1 200 OK\"\n",
      "13:43:31 INFO HTTP Request: POST http://localhost:11434/api/generate \"HTTP/1.1 200 OK\"\n",
      "13:43:35 INFO HTTP Request: POST http://localhost:11434/api/generate \"HTTP/1.1 200 OK\"\n",
      "13:43:39 INFO HTTP Request: POST http://localhost:11434/api/generate \"HTTP/1.1 200 OK\"\n",
      "13:43:43 INFO HTTP Request: POST http://localhost:11434/api/generate \"HTTP/1.1 200 OK\"\n",
      "13:43:48 INFO HTTP Request: POST http://localhost:11434/api/generate \"HTTP/1.1 200 OK\"\n",
      "13:43:52 INFO HTTP Request: POST http://localhost:11434/api/generate \"HTTP/1.1 200 OK\"\n",
      "13:43:56 INFO HTTP Request: POST http://localhost:11434/api/generate \"HTTP/1.1 200 OK\"\n",
      "13:44:00 INFO HTTP Request: POST http://localhost:11434/api/generate \"HTTP/1.1 200 OK\"\n",
      "13:44:04 INFO HTTP Request: POST http://localhost:11434/api/generate \"HTTP/1.1 200 OK\"\n",
      "13:44:09 INFO HTTP Request: POST http://localhost:11434/api/generate \"HTTP/1.1 200 OK\"\n",
      "13:44:13 INFO HTTP Request: POST http://localhost:11434/api/generate \"HTTP/1.1 200 OK\"\n",
      "13:44:17 INFO HTTP Request: POST http://localhost:11434/api/generate \"HTTP/1.1 200 OK\"\n",
      "13:44:22 INFO HTTP Request: POST http://localhost:11434/api/generate \"HTTP/1.1 200 OK\"\n",
      "13:44:26 INFO HTTP Request: POST http://localhost:11434/api/generate \"HTTP/1.1 200 OK\"\n",
      "13:44:30 INFO HTTP Request: POST http://localhost:11434/api/generate \"HTTP/1.1 200 OK\"\n",
      "13:44:35 INFO HTTP Request: POST http://localhost:11434/api/generate \"HTTP/1.1 200 OK\"\n",
      "13:44:39 INFO HTTP Request: POST http://localhost:11434/api/generate \"HTTP/1.1 200 OK\"\n",
      "13:44:43 INFO HTTP Request: POST http://localhost:11434/api/generate \"HTTP/1.1 200 OK\"\n",
      "13:44:47 INFO HTTP Request: POST http://localhost:11434/api/generate \"HTTP/1.1 200 OK\"\n",
      "13:44:51 INFO HTTP Request: POST http://localhost:11434/api/generate \"HTTP/1.1 200 OK\"\n",
      "13:44:56 INFO HTTP Request: POST http://localhost:11434/api/generate \"HTTP/1.1 200 OK\"\n",
      "13:45:00 INFO HTTP Request: POST http://localhost:11434/api/generate \"HTTP/1.1 200 OK\"\n",
      "13:45:04 INFO HTTP Request: POST http://localhost:11434/api/generate \"HTTP/1.1 200 OK\"\n",
      "13:45:08 INFO HTTP Request: POST http://localhost:11434/api/generate \"HTTP/1.1 200 OK\"\n",
      "13:45:13 INFO HTTP Request: POST http://localhost:11434/api/generate \"HTTP/1.1 200 OK\"\n",
      "13:45:17 INFO HTTP Request: POST http://localhost:11434/api/generate \"HTTP/1.1 200 OK\"\n",
      "13:45:22 INFO HTTP Request: POST http://localhost:11434/api/generate \"HTTP/1.1 200 OK\"\n",
      "13:45:26 INFO HTTP Request: POST http://localhost:11434/api/generate \"HTTP/1.1 200 OK\"\n",
      "13:45:31 INFO HTTP Request: POST http://localhost:11434/api/generate \"HTTP/1.1 200 OK\"\n",
      "13:45:35 INFO HTTP Request: POST http://localhost:11434/api/generate \"HTTP/1.1 200 OK\"\n",
      "13:45:40 INFO HTTP Request: POST http://localhost:11434/api/generate \"HTTP/1.1 200 OK\"\n",
      "13:45:44 INFO HTTP Request: POST http://localhost:11434/api/generate \"HTTP/1.1 200 OK\"\n",
      "13:45:48 INFO HTTP Request: POST http://localhost:11434/api/generate \"HTTP/1.1 200 OK\"\n",
      "13:45:53 INFO HTTP Request: POST http://localhost:11434/api/generate \"HTTP/1.1 200 OK\"\n",
      "13:45:57 INFO HTTP Request: POST http://localhost:11434/api/generate \"HTTP/1.1 200 OK\"\n",
      "13:46:02 INFO HTTP Request: POST http://localhost:11434/api/generate \"HTTP/1.1 200 OK\"\n",
      "13:46:06 INFO HTTP Request: POST http://localhost:11434/api/generate \"HTTP/1.1 200 OK\"\n",
      "13:46:10 INFO HTTP Request: POST http://localhost:11434/api/generate \"HTTP/1.1 200 OK\"\n",
      "13:46:15 INFO HTTP Request: POST http://localhost:11434/api/generate \"HTTP/1.1 200 OK\"\n",
      "13:46:19 INFO HTTP Request: POST http://localhost:11434/api/generate \"HTTP/1.1 200 OK\"\n",
      "13:46:23 INFO HTTP Request: POST http://localhost:11434/api/generate \"HTTP/1.1 200 OK\"\n",
      "13:46:28 INFO HTTP Request: POST http://localhost:11434/api/generate \"HTTP/1.1 200 OK\"\n",
      "13:46:32 INFO HTTP Request: POST http://localhost:11434/api/generate \"HTTP/1.1 200 OK\"\n",
      "13:46:36 INFO HTTP Request: POST http://localhost:11434/api/generate \"HTTP/1.1 200 OK\"\n",
      "13:46:41 INFO HTTP Request: POST http://localhost:11434/api/generate \"HTTP/1.1 200 OK\"\n",
      "13:46:45 INFO HTTP Request: POST http://localhost:11434/api/generate \"HTTP/1.1 200 OK\"\n",
      "13:46:50 INFO HTTP Request: POST http://localhost:11434/api/generate \"HTTP/1.1 200 OK\"\n",
      "13:46:55 INFO HTTP Request: POST http://localhost:11434/api/generate \"HTTP/1.1 200 OK\"\n",
      "13:46:59 INFO HTTP Request: POST http://localhost:11434/api/generate \"HTTP/1.1 200 OK\"\n",
      "13:47:03 INFO HTTP Request: POST http://localhost:11434/api/generate \"HTTP/1.1 200 OK\"\n",
      "13:47:07 INFO HTTP Request: POST http://localhost:11434/api/generate \"HTTP/1.1 200 OK\"\n"
     ]
    },
    {
     "data": {
      "application/vnd.jupyter.widget-view+json": {
       "model_id": "fbbdd36ae45a45a88fbf10513f75bddf",
       "version_major": 2,
       "version_minor": 0
      },
      "text/plain": [
       "Batches:   0%|          | 0/3 [00:00<?, ?it/s]"
      ]
     },
     "metadata": {},
     "output_type": "display_data"
    },
    {
     "name": "stderr",
     "output_type": "stream",
     "text": [
      "13:47:14 INFO HTTP Request: POST http://localhost:11434/api/generate \"HTTP/1.1 200 OK\"\n",
      "13:47:18 INFO HTTP Request: POST http://localhost:11434/api/generate \"HTTP/1.1 200 OK\"\n",
      "13:47:23 INFO HTTP Request: POST http://localhost:11434/api/generate \"HTTP/1.1 200 OK\"\n",
      "13:47:27 INFO HTTP Request: POST http://localhost:11434/api/generate \"HTTP/1.1 200 OK\"\n",
      "13:47:31 INFO HTTP Request: POST http://localhost:11434/api/generate \"HTTP/1.1 200 OK\"\n",
      "13:47:36 INFO HTTP Request: POST http://localhost:11434/api/generate \"HTTP/1.1 200 OK\"\n",
      "13:47:40 INFO HTTP Request: POST http://localhost:11434/api/generate \"HTTP/1.1 200 OK\"\n",
      "13:47:44 INFO HTTP Request: POST http://localhost:11434/api/generate \"HTTP/1.1 200 OK\"\n",
      "13:47:48 INFO HTTP Request: POST http://localhost:11434/api/generate \"HTTP/1.1 200 OK\"\n",
      "13:47:53 INFO HTTP Request: POST http://localhost:11434/api/generate \"HTTP/1.1 200 OK\"\n",
      "13:47:57 INFO HTTP Request: POST http://localhost:11434/api/generate \"HTTP/1.1 200 OK\"\n",
      "13:48:02 INFO HTTP Request: POST http://localhost:11434/api/generate \"HTTP/1.1 200 OK\"\n",
      "13:48:07 INFO HTTP Request: POST http://localhost:11434/api/generate \"HTTP/1.1 200 OK\"\n",
      "13:48:11 INFO HTTP Request: POST http://localhost:11434/api/generate \"HTTP/1.1 200 OK\"\n",
      "13:48:16 INFO HTTP Request: POST http://localhost:11434/api/generate \"HTTP/1.1 200 OK\"\n",
      "13:48:20 INFO HTTP Request: POST http://localhost:11434/api/generate \"HTTP/1.1 200 OK\"\n",
      "13:48:24 INFO HTTP Request: POST http://localhost:11434/api/generate \"HTTP/1.1 200 OK\"\n",
      "13:48:29 INFO HTTP Request: POST http://localhost:11434/api/generate \"HTTP/1.1 200 OK\"\n",
      "13:48:33 INFO HTTP Request: POST http://localhost:11434/api/generate \"HTTP/1.1 200 OK\"\n",
      "13:48:37 INFO HTTP Request: POST http://localhost:11434/api/generate \"HTTP/1.1 200 OK\"\n",
      "13:48:41 INFO HTTP Request: POST http://localhost:11434/api/generate \"HTTP/1.1 200 OK\"\n",
      "13:48:46 INFO HTTP Request: POST http://localhost:11434/api/generate \"HTTP/1.1 200 OK\"\n",
      "13:48:50 INFO HTTP Request: POST http://localhost:11434/api/generate \"HTTP/1.1 200 OK\"\n",
      "13:48:54 INFO HTTP Request: POST http://localhost:11434/api/generate \"HTTP/1.1 200 OK\"\n",
      "13:48:58 INFO HTTP Request: POST http://localhost:11434/api/generate \"HTTP/1.1 200 OK\"\n",
      "13:49:03 INFO HTTP Request: POST http://localhost:11434/api/generate \"HTTP/1.1 200 OK\"\n",
      "13:49:07 INFO HTTP Request: POST http://localhost:11434/api/generate \"HTTP/1.1 200 OK\"\n",
      "13:49:11 INFO HTTP Request: POST http://localhost:11434/api/generate \"HTTP/1.1 200 OK\"\n",
      "13:49:16 INFO HTTP Request: POST http://localhost:11434/api/generate \"HTTP/1.1 200 OK\"\n",
      "13:49:20 INFO HTTP Request: POST http://localhost:11434/api/generate \"HTTP/1.1 200 OK\"\n",
      "13:49:24 INFO HTTP Request: POST http://localhost:11434/api/generate \"HTTP/1.1 200 OK\"\n",
      "13:49:29 INFO HTTP Request: POST http://localhost:11434/api/generate \"HTTP/1.1 200 OK\"\n",
      "13:49:34 INFO HTTP Request: POST http://localhost:11434/api/generate \"HTTP/1.1 200 OK\"\n",
      "13:49:38 INFO HTTP Request: POST http://localhost:11434/api/generate \"HTTP/1.1 200 OK\"\n",
      "13:49:43 INFO HTTP Request: POST http://localhost:11434/api/generate \"HTTP/1.1 200 OK\"\n",
      "13:49:47 INFO HTTP Request: POST http://localhost:11434/api/generate \"HTTP/1.1 200 OK\"\n",
      "13:49:51 INFO HTTP Request: POST http://localhost:11434/api/generate \"HTTP/1.1 200 OK\"\n",
      "13:49:55 INFO HTTP Request: POST http://localhost:11434/api/generate \"HTTP/1.1 200 OK\"\n",
      "13:50:00 INFO HTTP Request: POST http://localhost:11434/api/generate \"HTTP/1.1 200 OK\"\n",
      "13:50:04 INFO HTTP Request: POST http://localhost:11434/api/generate \"HTTP/1.1 200 OK\"\n",
      "13:50:09 INFO HTTP Request: POST http://localhost:11434/api/generate \"HTTP/1.1 200 OK\"\n",
      "13:50:14 INFO HTTP Request: POST http://localhost:11434/api/generate \"HTTP/1.1 200 OK\"\n",
      "13:50:18 INFO HTTP Request: POST http://localhost:11434/api/generate \"HTTP/1.1 200 OK\"\n",
      "13:50:22 INFO HTTP Request: POST http://localhost:11434/api/generate \"HTTP/1.1 200 OK\"\n",
      "13:50:27 INFO HTTP Request: POST http://localhost:11434/api/generate \"HTTP/1.1 200 OK\"\n",
      "13:50:31 INFO HTTP Request: POST http://localhost:11434/api/generate \"HTTP/1.1 200 OK\"\n",
      "13:50:36 INFO HTTP Request: POST http://localhost:11434/api/generate \"HTTP/1.1 200 OK\"\n",
      "13:50:40 INFO HTTP Request: POST http://localhost:11434/api/generate \"HTTP/1.1 200 OK\"\n",
      "13:50:44 INFO HTTP Request: POST http://localhost:11434/api/generate \"HTTP/1.1 200 OK\"\n",
      "13:50:49 INFO HTTP Request: POST http://localhost:11434/api/generate \"HTTP/1.1 200 OK\"\n",
      "13:50:53 INFO HTTP Request: POST http://localhost:11434/api/generate \"HTTP/1.1 200 OK\"\n",
      "13:50:58 INFO HTTP Request: POST http://localhost:11434/api/generate \"HTTP/1.1 200 OK\"\n",
      "13:51:02 INFO HTTP Request: POST http://localhost:11434/api/generate \"HTTP/1.1 200 OK\"\n",
      "13:51:07 INFO HTTP Request: POST http://localhost:11434/api/generate \"HTTP/1.1 200 OK\"\n",
      "13:51:11 INFO HTTP Request: POST http://localhost:11434/api/generate \"HTTP/1.1 200 OK\"\n",
      "13:51:15 INFO HTTP Request: POST http://localhost:11434/api/generate \"HTTP/1.1 200 OK\"\n",
      "13:51:20 INFO HTTP Request: POST http://localhost:11434/api/generate \"HTTP/1.1 200 OK\"\n",
      "13:51:25 INFO HTTP Request: POST http://localhost:11434/api/generate \"HTTP/1.1 200 OK\"\n",
      "13:51:29 INFO HTTP Request: POST http://localhost:11434/api/generate \"HTTP/1.1 200 OK\"\n",
      "13:51:33 INFO HTTP Request: POST http://localhost:11434/api/generate \"HTTP/1.1 200 OK\"\n",
      "13:51:38 INFO HTTP Request: POST http://localhost:11434/api/generate \"HTTP/1.1 200 OK\"\n",
      "13:51:42 INFO HTTP Request: POST http://localhost:11434/api/generate \"HTTP/1.1 200 OK\"\n",
      "13:51:46 INFO HTTP Request: POST http://localhost:11434/api/generate \"HTTP/1.1 200 OK\"\n",
      "13:51:51 INFO HTTP Request: POST http://localhost:11434/api/generate \"HTTP/1.1 200 OK\"\n",
      "13:51:55 INFO HTTP Request: POST http://localhost:11434/api/generate \"HTTP/1.1 200 OK\"\n",
      "13:51:59 INFO HTTP Request: POST http://localhost:11434/api/generate \"HTTP/1.1 200 OK\"\n"
     ]
    },
    {
     "data": {
      "application/vnd.jupyter.widget-view+json": {
       "model_id": "3053edb165624e6daa9de91c8a232f3a",
       "version_major": 2,
       "version_minor": 0
      },
      "text/plain": [
       "Batches:   0%|          | 0/3 [00:00<?, ?it/s]"
      ]
     },
     "metadata": {},
     "output_type": "display_data"
    },
    {
     "name": "stderr",
     "output_type": "stream",
     "text": [
      "13:52:04 INFO HTTP Request: POST http://localhost:11434/api/generate \"HTTP/1.1 200 OK\"\n",
      "13:52:07 INFO HTTP Request: POST http://localhost:11434/api/generate \"HTTP/1.1 200 OK\"\n",
      "13:52:09 INFO HTTP Request: POST http://localhost:11434/api/generate \"HTTP/1.1 200 OK\"\n",
      "13:52:12 INFO HTTP Request: POST http://localhost:11434/api/generate \"HTTP/1.1 200 OK\"\n",
      "13:52:15 INFO HTTP Request: POST http://localhost:11434/api/generate \"HTTP/1.1 200 OK\"\n",
      "13:52:18 INFO HTTP Request: POST http://localhost:11434/api/generate \"HTTP/1.1 200 OK\"\n",
      "13:52:20 INFO HTTP Request: POST http://localhost:11434/api/generate \"HTTP/1.1 200 OK\"\n",
      "13:52:23 INFO HTTP Request: POST http://localhost:11434/api/generate \"HTTP/1.1 200 OK\"\n",
      "13:52:25 INFO HTTP Request: POST http://localhost:11434/api/generate \"HTTP/1.1 200 OK\"\n",
      "13:52:28 INFO HTTP Request: POST http://localhost:11434/api/generate \"HTTP/1.1 200 OK\"\n",
      "13:52:31 INFO HTTP Request: POST http://localhost:11434/api/generate \"HTTP/1.1 200 OK\"\n",
      "13:52:34 INFO HTTP Request: POST http://localhost:11434/api/generate \"HTTP/1.1 200 OK\"\n",
      "13:52:36 INFO HTTP Request: POST http://localhost:11434/api/generate \"HTTP/1.1 200 OK\"\n",
      "13:52:39 INFO HTTP Request: POST http://localhost:11434/api/generate \"HTTP/1.1 200 OK\"\n",
      "13:52:42 INFO HTTP Request: POST http://localhost:11434/api/generate \"HTTP/1.1 200 OK\"\n",
      "13:52:44 INFO HTTP Request: POST http://localhost:11434/api/generate \"HTTP/1.1 200 OK\"\n",
      "13:52:47 INFO HTTP Request: POST http://localhost:11434/api/generate \"HTTP/1.1 200 OK\"\n",
      "13:52:50 INFO HTTP Request: POST http://localhost:11434/api/generate \"HTTP/1.1 200 OK\"\n",
      "13:52:53 INFO HTTP Request: POST http://localhost:11434/api/generate \"HTTP/1.1 200 OK\"\n",
      "13:52:56 INFO HTTP Request: POST http://localhost:11434/api/generate \"HTTP/1.1 200 OK\"\n",
      "13:52:59 INFO HTTP Request: POST http://localhost:11434/api/generate \"HTTP/1.1 200 OK\"\n",
      "13:53:02 INFO HTTP Request: POST http://localhost:11434/api/generate \"HTTP/1.1 200 OK\"\n",
      "13:53:05 INFO HTTP Request: POST http://localhost:11434/api/generate \"HTTP/1.1 200 OK\"\n",
      "13:53:07 INFO HTTP Request: POST http://localhost:11434/api/generate \"HTTP/1.1 200 OK\"\n",
      "13:53:10 INFO HTTP Request: POST http://localhost:11434/api/generate \"HTTP/1.1 200 OK\"\n",
      "13:53:13 INFO HTTP Request: POST http://localhost:11434/api/generate \"HTTP/1.1 200 OK\"\n",
      "13:53:16 INFO HTTP Request: POST http://localhost:11434/api/generate \"HTTP/1.1 200 OK\"\n",
      "13:53:19 INFO HTTP Request: POST http://localhost:11434/api/generate \"HTTP/1.1 200 OK\"\n",
      "13:53:22 INFO HTTP Request: POST http://localhost:11434/api/generate \"HTTP/1.1 200 OK\"\n"
     ]
    },
    {
     "data": {
      "application/vnd.jupyter.widget-view+json": {
       "model_id": "2c8eb7c0c562430d83464cf7988afe05",
       "version_major": 2,
       "version_minor": 0
      },
      "text/plain": [
       "Batches:   0%|          | 0/1 [00:00<?, ?it/s]"
      ]
     },
     "metadata": {},
     "output_type": "display_data"
    },
    {
     "name": "stderr",
     "output_type": "stream",
     "text": [
      "Processing Markdown files: 100%|██████████| 6/6 [21:30<00:00, 215.14s/it]\n",
      "Processing Pickle files:  60%|██████    | 3/5 [45:20<30:56, 928.28s/it]13:53:28 INFO HTTP Request: POST http://localhost:11434/api/generate \"HTTP/1.1 200 OK\"\n",
      "13:53:31 INFO HTTP Request: POST http://localhost:11434/api/generate \"HTTP/1.1 200 OK\"\n"
     ]
    },
    {
     "data": {
      "application/vnd.jupyter.widget-view+json": {
       "model_id": "60977046458c4d68b70c7b9ec038a207",
       "version_major": 2,
       "version_minor": 0
      },
      "text/plain": [
       "Batches:   0%|          | 0/1 [00:00<?, ?it/s]"
      ]
     },
     "metadata": {},
     "output_type": "display_data"
    },
    {
     "name": "stderr",
     "output_type": "stream",
     "text": [
      "13:53:36 INFO HTTP Request: POST http://localhost:11434/api/generate \"HTTP/1.1 200 OK\"\n",
      "13:53:41 INFO HTTP Request: POST http://localhost:11434/api/generate \"HTTP/1.1 200 OK\"\n",
      "13:53:45 INFO HTTP Request: POST http://localhost:11434/api/generate \"HTTP/1.1 200 OK\"\n"
     ]
    },
    {
     "data": {
      "application/vnd.jupyter.widget-view+json": {
       "model_id": "34f0334b6f704460be0c31664b27a65d",
       "version_major": 2,
       "version_minor": 0
      },
      "text/plain": [
       "Batches:   0%|          | 0/1 [00:00<?, ?it/s]"
      ]
     },
     "metadata": {},
     "output_type": "display_data"
    },
    {
     "name": "stderr",
     "output_type": "stream",
     "text": [
      "13:53:52 INFO HTTP Request: POST http://localhost:11434/api/generate \"HTTP/1.1 200 OK\"\n",
      "13:53:58 INFO HTTP Request: POST http://localhost:11434/api/generate \"HTTP/1.1 200 OK\"\n",
      "13:54:04 INFO HTTP Request: POST http://localhost:11434/api/generate \"HTTP/1.1 200 OK\"\n",
      "13:54:10 INFO HTTP Request: POST http://localhost:11434/api/generate \"HTTP/1.1 200 OK\"\n",
      "13:54:15 INFO HTTP Request: POST http://localhost:11434/api/generate \"HTTP/1.1 200 OK\"\n"
     ]
    },
    {
     "data": {
      "application/vnd.jupyter.widget-view+json": {
       "model_id": "e5df593e10eb4143893bc54c65252349",
       "version_major": 2,
       "version_minor": 0
      },
      "text/plain": [
       "Batches:   0%|          | 0/1 [00:00<?, ?it/s]"
      ]
     },
     "metadata": {},
     "output_type": "display_data"
    },
    {
     "name": "stderr",
     "output_type": "stream",
     "text": [
      "13:54:22 INFO HTTP Request: POST http://localhost:11434/api/generate \"HTTP/1.1 200 OK\"\n",
      "13:54:27 INFO HTTP Request: POST http://localhost:11434/api/generate \"HTTP/1.1 200 OK\"\n",
      "13:54:32 INFO HTTP Request: POST http://localhost:11434/api/generate \"HTTP/1.1 200 OK\"\n",
      "13:54:37 INFO HTTP Request: POST http://localhost:11434/api/generate \"HTTP/1.1 200 OK\"\n",
      "13:54:41 INFO HTTP Request: POST http://localhost:11434/api/generate \"HTTP/1.1 200 OK\"\n"
     ]
    },
    {
     "data": {
      "application/vnd.jupyter.widget-view+json": {
       "model_id": "c3db10d4edc4465890d18af892ac6f95",
       "version_major": 2,
       "version_minor": 0
      },
      "text/plain": [
       "Batches:   0%|          | 0/1 [00:00<?, ?it/s]"
      ]
     },
     "metadata": {},
     "output_type": "display_data"
    },
    {
     "name": "stderr",
     "output_type": "stream",
     "text": [
      "13:54:48 INFO HTTP Request: POST http://localhost:11434/api/generate \"HTTP/1.1 200 OK\"\n",
      "13:54:53 INFO HTTP Request: POST http://localhost:11434/api/generate \"HTTP/1.1 200 OK\"\n",
      "13:54:58 INFO HTTP Request: POST http://localhost:11434/api/generate \"HTTP/1.1 200 OK\"\n",
      "13:55:04 INFO HTTP Request: POST http://localhost:11434/api/generate \"HTTP/1.1 200 OK\"\n"
     ]
    },
    {
     "data": {
      "application/vnd.jupyter.widget-view+json": {
       "model_id": "4ab51a8e2cc046a794dc58de17e6b8b1",
       "version_major": 2,
       "version_minor": 0
      },
      "text/plain": [
       "Batches:   0%|          | 0/1 [00:00<?, ?it/s]"
      ]
     },
     "metadata": {},
     "output_type": "display_data"
    },
    {
     "name": "stderr",
     "output_type": "stream",
     "text": [
      "13:55:09 INFO HTTP Request: POST http://localhost:11434/api/generate \"HTTP/1.1 200 OK\"\n",
      "13:55:12 INFO HTTP Request: POST http://localhost:11434/api/generate \"HTTP/1.1 200 OK\"\n"
     ]
    },
    {
     "data": {
      "application/vnd.jupyter.widget-view+json": {
       "model_id": "50bd6e7e50fa4c0083439bb3fbebeab4",
       "version_major": 2,
       "version_minor": 0
      },
      "text/plain": [
       "Batches:   0%|          | 0/1 [00:00<?, ?it/s]"
      ]
     },
     "metadata": {},
     "output_type": "display_data"
    },
    {
     "name": "stderr",
     "output_type": "stream",
     "text": [
      "Processing Markdown files: 100%|██████████| 6/6 [01:48<00:00, 18.12s/it]\n",
      "Processing Pickle files:  80%|████████  | 4/5 [47:09<10:04, 604.77s/it]13:55:16 INFO HTTP Request: POST http://localhost:11434/api/generate \"HTTP/1.1 200 OK\"\n",
      "13:55:18 INFO HTTP Request: POST http://localhost:11434/api/generate \"HTTP/1.1 200 OK\"\n",
      "13:55:21 INFO HTTP Request: POST http://localhost:11434/api/generate \"HTTP/1.1 200 OK\"\n",
      "13:55:24 INFO HTTP Request: POST http://localhost:11434/api/generate \"HTTP/1.1 200 OK\"\n",
      "13:55:27 INFO HTTP Request: POST http://localhost:11434/api/generate \"HTTP/1.1 200 OK\"\n",
      "13:55:29 INFO HTTP Request: POST http://localhost:11434/api/generate \"HTTP/1.1 200 OK\"\n",
      "13:55:32 INFO HTTP Request: POST http://localhost:11434/api/generate \"HTTP/1.1 200 OK\"\n",
      "13:55:35 INFO HTTP Request: POST http://localhost:11434/api/generate \"HTTP/1.1 200 OK\"\n",
      "13:55:38 INFO HTTP Request: POST http://localhost:11434/api/generate \"HTTP/1.1 200 OK\"\n",
      "13:55:41 INFO HTTP Request: POST http://localhost:11434/api/generate \"HTTP/1.1 200 OK\"\n",
      "13:55:44 INFO HTTP Request: POST http://localhost:11434/api/generate \"HTTP/1.1 200 OK\"\n",
      "13:55:46 INFO HTTP Request: POST http://localhost:11434/api/generate \"HTTP/1.1 200 OK\"\n",
      "13:55:49 INFO HTTP Request: POST http://localhost:11434/api/generate \"HTTP/1.1 200 OK\"\n",
      "13:55:52 INFO HTTP Request: POST http://localhost:11434/api/generate \"HTTP/1.1 200 OK\"\n",
      "13:55:54 INFO HTTP Request: POST http://localhost:11434/api/generate \"HTTP/1.1 200 OK\"\n"
     ]
    },
    {
     "data": {
      "application/vnd.jupyter.widget-view+json": {
       "model_id": "07c852a314ac4127b9dc80b349855662",
       "version_major": 2,
       "version_minor": 0
      },
      "text/plain": [
       "Batches:   0%|          | 0/1 [00:00<?, ?it/s]"
      ]
     },
     "metadata": {},
     "output_type": "display_data"
    },
    {
     "name": "stderr",
     "output_type": "stream",
     "text": [
      "13:55:59 INFO HTTP Request: POST http://localhost:11434/api/generate \"HTTP/1.1 200 OK\"\n",
      "13:56:02 INFO HTTP Request: POST http://localhost:11434/api/generate \"HTTP/1.1 200 OK\"\n",
      "13:56:06 INFO HTTP Request: POST http://localhost:11434/api/generate \"HTTP/1.1 200 OK\"\n",
      "13:56:09 INFO HTTP Request: POST http://localhost:11434/api/generate \"HTTP/1.1 200 OK\"\n",
      "13:56:13 INFO HTTP Request: POST http://localhost:11434/api/generate \"HTTP/1.1 200 OK\"\n",
      "13:56:16 INFO HTTP Request: POST http://localhost:11434/api/generate \"HTTP/1.1 200 OK\"\n",
      "13:56:20 INFO HTTP Request: POST http://localhost:11434/api/generate \"HTTP/1.1 200 OK\"\n",
      "13:56:23 INFO HTTP Request: POST http://localhost:11434/api/generate \"HTTP/1.1 200 OK\"\n",
      "13:56:27 INFO HTTP Request: POST http://localhost:11434/api/generate \"HTTP/1.1 200 OK\"\n",
      "13:56:30 INFO HTTP Request: POST http://localhost:11434/api/generate \"HTTP/1.1 200 OK\"\n",
      "13:56:34 INFO HTTP Request: POST http://localhost:11434/api/generate \"HTTP/1.1 200 OK\"\n",
      "13:56:38 INFO HTTP Request: POST http://localhost:11434/api/generate \"HTTP/1.1 200 OK\"\n",
      "13:56:42 INFO HTTP Request: POST http://localhost:11434/api/generate \"HTTP/1.1 200 OK\"\n",
      "13:56:45 INFO HTTP Request: POST http://localhost:11434/api/generate \"HTTP/1.1 200 OK\"\n",
      "13:56:49 INFO HTTP Request: POST http://localhost:11434/api/generate \"HTTP/1.1 200 OK\"\n",
      "13:56:53 INFO HTTP Request: POST http://localhost:11434/api/generate \"HTTP/1.1 200 OK\"\n",
      "13:56:56 INFO HTTP Request: POST http://localhost:11434/api/generate \"HTTP/1.1 200 OK\"\n",
      "13:57:00 INFO HTTP Request: POST http://localhost:11434/api/generate \"HTTP/1.1 200 OK\"\n",
      "13:57:04 INFO HTTP Request: POST http://localhost:11434/api/generate \"HTTP/1.1 200 OK\"\n",
      "13:57:08 INFO HTTP Request: POST http://localhost:11434/api/generate \"HTTP/1.1 200 OK\"\n",
      "13:57:12 INFO HTTP Request: POST http://localhost:11434/api/generate \"HTTP/1.1 200 OK\"\n",
      "13:57:16 INFO HTTP Request: POST http://localhost:11434/api/generate \"HTTP/1.1 200 OK\"\n",
      "13:57:19 INFO HTTP Request: POST http://localhost:11434/api/generate \"HTTP/1.1 200 OK\"\n",
      "13:57:22 INFO HTTP Request: POST http://localhost:11434/api/generate \"HTTP/1.1 200 OK\"\n"
     ]
    },
    {
     "data": {
      "application/vnd.jupyter.widget-view+json": {
       "model_id": "5a6e851c8417402d9a948e278a0bd9c9",
       "version_major": 2,
       "version_minor": 0
      },
      "text/plain": [
       "Batches:   0%|          | 0/1 [00:00<?, ?it/s]"
      ]
     },
     "metadata": {},
     "output_type": "display_data"
    },
    {
     "name": "stderr",
     "output_type": "stream",
     "text": [
      "13:57:29 INFO HTTP Request: POST http://localhost:11434/api/generate \"HTTP/1.1 200 OK\"\n",
      "13:57:34 INFO HTTP Request: POST http://localhost:11434/api/generate \"HTTP/1.1 200 OK\"\n",
      "13:57:39 INFO HTTP Request: POST http://localhost:11434/api/generate \"HTTP/1.1 200 OK\"\n",
      "13:57:44 INFO HTTP Request: POST http://localhost:11434/api/generate \"HTTP/1.1 200 OK\"\n",
      "13:57:48 INFO HTTP Request: POST http://localhost:11434/api/generate \"HTTP/1.1 200 OK\"\n",
      "13:57:53 INFO HTTP Request: POST http://localhost:11434/api/generate \"HTTP/1.1 200 OK\"\n",
      "13:57:57 INFO HTTP Request: POST http://localhost:11434/api/generate \"HTTP/1.1 200 OK\"\n",
      "13:58:02 INFO HTTP Request: POST http://localhost:11434/api/generate \"HTTP/1.1 200 OK\"\n",
      "13:58:06 INFO HTTP Request: POST http://localhost:11434/api/generate \"HTTP/1.1 200 OK\"\n",
      "13:58:11 INFO HTTP Request: POST http://localhost:11434/api/generate \"HTTP/1.1 200 OK\"\n",
      "13:58:16 INFO HTTP Request: POST http://localhost:11434/api/generate \"HTTP/1.1 200 OK\"\n",
      "13:58:21 INFO HTTP Request: POST http://localhost:11434/api/generate \"HTTP/1.1 200 OK\"\n",
      "13:58:25 INFO HTTP Request: POST http://localhost:11434/api/generate \"HTTP/1.1 200 OK\"\n",
      "13:58:30 INFO HTTP Request: POST http://localhost:11434/api/generate \"HTTP/1.1 200 OK\"\n",
      "13:58:35 INFO HTTP Request: POST http://localhost:11434/api/generate \"HTTP/1.1 200 OK\"\n",
      "13:58:40 INFO HTTP Request: POST http://localhost:11434/api/generate \"HTTP/1.1 200 OK\"\n",
      "13:58:44 INFO HTTP Request: POST http://localhost:11434/api/generate \"HTTP/1.1 200 OK\"\n",
      "13:58:50 INFO HTTP Request: POST http://localhost:11434/api/generate \"HTTP/1.1 200 OK\"\n",
      "13:58:54 INFO HTTP Request: POST http://localhost:11434/api/generate \"HTTP/1.1 200 OK\"\n",
      "13:58:59 INFO HTTP Request: POST http://localhost:11434/api/generate \"HTTP/1.1 200 OK\"\n",
      "13:59:04 INFO HTTP Request: POST http://localhost:11434/api/generate \"HTTP/1.1 200 OK\"\n",
      "13:59:09 INFO HTTP Request: POST http://localhost:11434/api/generate \"HTTP/1.1 200 OK\"\n",
      "13:59:14 INFO HTTP Request: POST http://localhost:11434/api/generate \"HTTP/1.1 200 OK\"\n",
      "13:59:18 INFO HTTP Request: POST http://localhost:11434/api/generate \"HTTP/1.1 200 OK\"\n",
      "13:59:23 INFO HTTP Request: POST http://localhost:11434/api/generate \"HTTP/1.1 200 OK\"\n",
      "13:59:27 INFO HTTP Request: POST http://localhost:11434/api/generate \"HTTP/1.1 200 OK\"\n",
      "13:59:32 INFO HTTP Request: POST http://localhost:11434/api/generate \"HTTP/1.1 200 OK\"\n",
      "13:59:36 INFO HTTP Request: POST http://localhost:11434/api/generate \"HTTP/1.1 200 OK\"\n",
      "13:59:41 INFO HTTP Request: POST http://localhost:11434/api/generate \"HTTP/1.1 200 OK\"\n",
      "13:59:45 INFO HTTP Request: POST http://localhost:11434/api/generate \"HTTP/1.1 200 OK\"\n",
      "13:59:50 INFO HTTP Request: POST http://localhost:11434/api/generate \"HTTP/1.1 200 OK\"\n",
      "13:59:55 INFO HTTP Request: POST http://localhost:11434/api/generate \"HTTP/1.1 200 OK\"\n",
      "14:00:00 INFO HTTP Request: POST http://localhost:11434/api/generate \"HTTP/1.1 200 OK\"\n",
      "14:00:05 INFO HTTP Request: POST http://localhost:11434/api/generate \"HTTP/1.1 200 OK\"\n",
      "14:00:10 INFO HTTP Request: POST http://localhost:11434/api/generate \"HTTP/1.1 200 OK\"\n",
      "14:00:15 INFO HTTP Request: POST http://localhost:11434/api/generate \"HTTP/1.1 200 OK\"\n",
      "14:00:19 INFO HTTP Request: POST http://localhost:11434/api/generate \"HTTP/1.1 200 OK\"\n",
      "14:00:24 INFO HTTP Request: POST http://localhost:11434/api/generate \"HTTP/1.1 200 OK\"\n",
      "14:00:28 INFO HTTP Request: POST http://localhost:11434/api/generate \"HTTP/1.1 200 OK\"\n",
      "14:00:33 INFO HTTP Request: POST http://localhost:11434/api/generate \"HTTP/1.1 200 OK\"\n"
     ]
    },
    {
     "data": {
      "application/vnd.jupyter.widget-view+json": {
       "model_id": "4da0fa834709422797315da55e169dfa",
       "version_major": 2,
       "version_minor": 0
      },
      "text/plain": [
       "Batches:   0%|          | 0/2 [00:00<?, ?it/s]"
      ]
     },
     "metadata": {},
     "output_type": "display_data"
    },
    {
     "name": "stderr",
     "output_type": "stream",
     "text": [
      "14:00:40 INFO HTTP Request: POST http://localhost:11434/api/generate \"HTTP/1.1 200 OK\"\n",
      "14:00:44 INFO HTTP Request: POST http://localhost:11434/api/generate \"HTTP/1.1 200 OK\"\n",
      "14:00:48 INFO HTTP Request: POST http://localhost:11434/api/generate \"HTTP/1.1 200 OK\"\n",
      "14:00:53 INFO HTTP Request: POST http://localhost:11434/api/generate \"HTTP/1.1 200 OK\"\n",
      "14:00:57 INFO HTTP Request: POST http://localhost:11434/api/generate \"HTTP/1.1 200 OK\"\n",
      "14:01:00 INFO HTTP Request: POST http://localhost:11434/api/generate \"HTTP/1.1 200 OK\"\n",
      "14:01:04 INFO HTTP Request: POST http://localhost:11434/api/generate \"HTTP/1.1 200 OK\"\n",
      "14:01:09 INFO HTTP Request: POST http://localhost:11434/api/generate \"HTTP/1.1 200 OK\"\n",
      "14:01:13 INFO HTTP Request: POST http://localhost:11434/api/generate \"HTTP/1.1 200 OK\"\n",
      "14:01:18 INFO HTTP Request: POST http://localhost:11434/api/generate \"HTTP/1.1 200 OK\"\n",
      "14:01:23 INFO HTTP Request: POST http://localhost:11434/api/generate \"HTTP/1.1 200 OK\"\n",
      "14:01:27 INFO HTTP Request: POST http://localhost:11434/api/generate \"HTTP/1.1 200 OK\"\n",
      "14:01:32 INFO HTTP Request: POST http://localhost:11434/api/generate \"HTTP/1.1 200 OK\"\n",
      "14:01:36 INFO HTTP Request: POST http://localhost:11434/api/generate \"HTTP/1.1 200 OK\"\n",
      "14:01:41 INFO HTTP Request: POST http://localhost:11434/api/generate \"HTTP/1.1 200 OK\"\n",
      "14:01:45 INFO HTTP Request: POST http://localhost:11434/api/generate \"HTTP/1.1 200 OK\"\n",
      "14:01:50 INFO HTTP Request: POST http://localhost:11434/api/generate \"HTTP/1.1 200 OK\"\n",
      "14:01:54 INFO HTTP Request: POST http://localhost:11434/api/generate \"HTTP/1.1 200 OK\"\n",
      "14:01:59 INFO HTTP Request: POST http://localhost:11434/api/generate \"HTTP/1.1 200 OK\"\n",
      "14:02:03 INFO HTTP Request: POST http://localhost:11434/api/generate \"HTTP/1.1 200 OK\"\n",
      "14:02:07 INFO HTTP Request: POST http://localhost:11434/api/generate \"HTTP/1.1 200 OK\"\n",
      "14:02:12 INFO HTTP Request: POST http://localhost:11434/api/generate \"HTTP/1.1 200 OK\"\n",
      "14:02:16 INFO HTTP Request: POST http://localhost:11434/api/generate \"HTTP/1.1 200 OK\"\n",
      "14:02:20 INFO HTTP Request: POST http://localhost:11434/api/generate \"HTTP/1.1 200 OK\"\n",
      "14:02:24 INFO HTTP Request: POST http://localhost:11434/api/generate \"HTTP/1.1 200 OK\"\n",
      "14:02:29 INFO HTTP Request: POST http://localhost:11434/api/generate \"HTTP/1.1 200 OK\"\n",
      "14:02:33 INFO HTTP Request: POST http://localhost:11434/api/generate \"HTTP/1.1 200 OK\"\n",
      "14:02:37 INFO HTTP Request: POST http://localhost:11434/api/generate \"HTTP/1.1 200 OK\"\n",
      "14:02:42 INFO HTTP Request: POST http://localhost:11434/api/generate \"HTTP/1.1 200 OK\"\n",
      "14:02:46 INFO HTTP Request: POST http://localhost:11434/api/generate \"HTTP/1.1 200 OK\"\n",
      "14:02:51 INFO HTTP Request: POST http://localhost:11434/api/generate \"HTTP/1.1 200 OK\"\n",
      "14:02:56 INFO HTTP Request: POST http://localhost:11434/api/generate \"HTTP/1.1 200 OK\"\n",
      "14:03:00 INFO HTTP Request: POST http://localhost:11434/api/generate \"HTTP/1.1 200 OK\"\n",
      "14:03:05 INFO HTTP Request: POST http://localhost:11434/api/generate \"HTTP/1.1 200 OK\"\n",
      "14:03:08 INFO HTTP Request: POST http://localhost:11434/api/generate \"HTTP/1.1 200 OK\"\n"
     ]
    },
    {
     "data": {
      "application/vnd.jupyter.widget-view+json": {
       "model_id": "86d69640db9648c8a34eb071af9a4e20",
       "version_major": 2,
       "version_minor": 0
      },
      "text/plain": [
       "Batches:   0%|          | 0/2 [00:00<?, ?it/s]"
      ]
     },
     "metadata": {},
     "output_type": "display_data"
    },
    {
     "name": "stderr",
     "output_type": "stream",
     "text": [
      "14:03:15 INFO HTTP Request: POST http://localhost:11434/api/generate \"HTTP/1.1 200 OK\"\n",
      "14:03:19 INFO HTTP Request: POST http://localhost:11434/api/generate \"HTTP/1.1 200 OK\"\n",
      "14:03:24 INFO HTTP Request: POST http://localhost:11434/api/generate \"HTTP/1.1 200 OK\"\n",
      "14:03:28 INFO HTTP Request: POST http://localhost:11434/api/generate \"HTTP/1.1 200 OK\"\n",
      "14:03:33 INFO HTTP Request: POST http://localhost:11434/api/generate \"HTTP/1.1 200 OK\"\n",
      "14:03:37 INFO HTTP Request: POST http://localhost:11434/api/generate \"HTTP/1.1 200 OK\"\n",
      "14:03:42 INFO HTTP Request: POST http://localhost:11434/api/generate \"HTTP/1.1 200 OK\"\n",
      "14:03:46 INFO HTTP Request: POST http://localhost:11434/api/generate \"HTTP/1.1 200 OK\"\n",
      "14:03:51 INFO HTTP Request: POST http://localhost:11434/api/generate \"HTTP/1.1 200 OK\"\n",
      "14:03:55 INFO HTTP Request: POST http://localhost:11434/api/generate \"HTTP/1.1 200 OK\"\n",
      "14:03:59 INFO HTTP Request: POST http://localhost:11434/api/generate \"HTTP/1.1 200 OK\"\n",
      "14:04:03 INFO HTTP Request: POST http://localhost:11434/api/generate \"HTTP/1.1 200 OK\"\n",
      "14:04:08 INFO HTTP Request: POST http://localhost:11434/api/generate \"HTTP/1.1 200 OK\"\n",
      "14:04:12 INFO HTTP Request: POST http://localhost:11434/api/generate \"HTTP/1.1 200 OK\"\n",
      "14:04:17 INFO HTTP Request: POST http://localhost:11434/api/generate \"HTTP/1.1 200 OK\"\n",
      "14:04:21 INFO HTTP Request: POST http://localhost:11434/api/generate \"HTTP/1.1 200 OK\"\n",
      "14:04:26 INFO HTTP Request: POST http://localhost:11434/api/generate \"HTTP/1.1 200 OK\"\n",
      "14:04:31 INFO HTTP Request: POST http://localhost:11434/api/generate \"HTTP/1.1 200 OK\"\n",
      "14:04:35 INFO HTTP Request: POST http://localhost:11434/api/generate \"HTTP/1.1 200 OK\"\n",
      "14:04:40 INFO HTTP Request: POST http://localhost:11434/api/generate \"HTTP/1.1 200 OK\"\n",
      "14:04:45 INFO HTTP Request: POST http://localhost:11434/api/generate \"HTTP/1.1 200 OK\"\n",
      "14:04:49 INFO HTTP Request: POST http://localhost:11434/api/generate \"HTTP/1.1 200 OK\"\n",
      "14:04:54 INFO HTTP Request: POST http://localhost:11434/api/generate \"HTTP/1.1 200 OK\"\n",
      "14:04:58 INFO HTTP Request: POST http://localhost:11434/api/generate \"HTTP/1.1 200 OK\"\n",
      "14:05:03 INFO HTTP Request: POST http://localhost:11434/api/generate \"HTTP/1.1 200 OK\"\n",
      "14:05:07 INFO HTTP Request: POST http://localhost:11434/api/generate \"HTTP/1.1 200 OK\"\n",
      "14:05:12 INFO HTTP Request: POST http://localhost:11434/api/generate \"HTTP/1.1 200 OK\"\n",
      "14:05:16 INFO HTTP Request: POST http://localhost:11434/api/generate \"HTTP/1.1 200 OK\"\n",
      "14:05:20 INFO HTTP Request: POST http://localhost:11434/api/generate \"HTTP/1.1 200 OK\"\n",
      "14:05:24 INFO HTTP Request: POST http://localhost:11434/api/generate \"HTTP/1.1 200 OK\"\n",
      "14:05:29 INFO HTTP Request: POST http://localhost:11434/api/generate \"HTTP/1.1 200 OK\"\n",
      "14:05:33 INFO HTTP Request: POST http://localhost:11434/api/generate \"HTTP/1.1 200 OK\"\n",
      "14:05:37 INFO HTTP Request: POST http://localhost:11434/api/generate \"HTTP/1.1 200 OK\"\n"
     ]
    },
    {
     "data": {
      "application/vnd.jupyter.widget-view+json": {
       "model_id": "44393bc7e00e4e9f8cade0b968216fc3",
       "version_major": 2,
       "version_minor": 0
      },
      "text/plain": [
       "Batches:   0%|          | 0/2 [00:00<?, ?it/s]"
      ]
     },
     "metadata": {},
     "output_type": "display_data"
    },
    {
     "name": "stderr",
     "output_type": "stream",
     "text": [
      "14:05:42 INFO HTTP Request: POST http://localhost:11434/api/generate \"HTTP/1.1 200 OK\"\n",
      "14:05:44 INFO HTTP Request: POST http://localhost:11434/api/generate \"HTTP/1.1 200 OK\"\n",
      "14:05:47 INFO HTTP Request: POST http://localhost:11434/api/generate \"HTTP/1.1 200 OK\"\n",
      "14:05:49 INFO HTTP Request: POST http://localhost:11434/api/generate \"HTTP/1.1 200 OK\"\n",
      "14:05:52 INFO HTTP Request: POST http://localhost:11434/api/generate \"HTTP/1.1 200 OK\"\n",
      "14:05:55 INFO HTTP Request: POST http://localhost:11434/api/generate \"HTTP/1.1 200 OK\"\n",
      "14:05:58 INFO HTTP Request: POST http://localhost:11434/api/generate \"HTTP/1.1 200 OK\"\n",
      "14:06:00 INFO HTTP Request: POST http://localhost:11434/api/generate \"HTTP/1.1 200 OK\"\n",
      "14:06:03 INFO HTTP Request: POST http://localhost:11434/api/generate \"HTTP/1.1 200 OK\"\n",
      "14:06:06 INFO HTTP Request: POST http://localhost:11434/api/generate \"HTTP/1.1 200 OK\"\n",
      "14:06:09 INFO HTTP Request: POST http://localhost:11434/api/generate \"HTTP/1.1 200 OK\"\n",
      "14:06:12 INFO HTTP Request: POST http://localhost:11434/api/generate \"HTTP/1.1 200 OK\"\n",
      "14:06:15 INFO HTTP Request: POST http://localhost:11434/api/generate \"HTTP/1.1 200 OK\"\n",
      "14:06:18 INFO HTTP Request: POST http://localhost:11434/api/generate \"HTTP/1.1 200 OK\"\n",
      "14:06:21 INFO HTTP Request: POST http://localhost:11434/api/generate \"HTTP/1.1 200 OK\"\n"
     ]
    },
    {
     "data": {
      "application/vnd.jupyter.widget-view+json": {
       "model_id": "a0c31660f0f2432a93e248c34323f1af",
       "version_major": 2,
       "version_minor": 0
      },
      "text/plain": [
       "Batches:   0%|          | 0/1 [00:00<?, ?it/s]"
      ]
     },
     "metadata": {},
     "output_type": "display_data"
    },
    {
     "name": "stderr",
     "output_type": "stream",
     "text": [
      "Processing Markdown files: 100%|██████████| 6/6 [11:08<00:00, 111.37s/it]\n",
      "Processing Pickle files: 100%|██████████| 5/5 [58:18<00:00, 699.73s/it]\n"
     ]
    }
   ],
   "source": [
    "def context_indexing(filename, df):\n",
    "    documents = df[\"document\"].tolist()\n",
    "\n",
    "    context_indexing_store = InMemoryDocumentStore(embedding_similarity_function=\"cosine\")\n",
    "    context_indexing_pipeline = get_context_indexing_pipeline(context_indexing_store)\n",
    "\n",
    "    def index_with_context(filename, bytes):\n",
    "        documents_from_file = [document for document in documents if document.meta[\"title\"] == filename]\n",
    "        file_content = bytes.decode(\"utf-8\")\n",
    "        context_indexing_pipeline.run({\n",
    "            \"contextualiser\": {\n",
    "                \"context\": file_content,\n",
    "                \"documents\": documents_from_file\n",
    "            }\n",
    "        })\n",
    "\n",
    "    for_each_markdown_file(\"data/md_files\", index_with_context)\n",
    "\n",
    "    filepath = f\"data/document_stores/{os.environ['EMBEDDING_MODEL_NAME']}\"\n",
    "    os.makedirs(filepath, exist_ok=True)\n",
    "    clean_name = os.path.splitext(os.path.basename(filename))[0]\n",
    "    context_indexing_store.save_to_disk(f\"{filepath}/{clean_name}_context_indexing_store.json\")\n",
    "\n",
    "for_each_pickle_file(\"data/preprocessed_documents\", context_indexing)"
   ]
  },
  {
   "cell_type": "markdown",
   "id": "06d22c7b",
   "metadata": {},
   "source": [
    "#### Index already contextualized documents\n",
    "\n",
    "Use this if only the embedding model changes, but you don't want to re-contextualize all the documents"
   ]
  },
  {
   "cell_type": "code",
   "execution_count": 25,
   "id": "a37a7a93",
   "metadata": {},
   "outputs": [],
   "source": [
    "old_embedding_model_name = \"Linq-AI-Research/Linq-Embed-Mistral\"\n",
    "old_store = InMemoryDocumentStore.load_from_disk(f\"data/document_stores/{old_embedding_model_name}/context_indexing_store.json\")\n",
    "\n",
    "contextualized_documents = old_store.filter_documents()"
   ]
  },
  {
   "cell_type": "code",
   "execution_count": 26,
   "id": "35c683b2",
   "metadata": {},
   "outputs": [
    {
     "name": "stderr",
     "output_type": "stream",
     "text": [
      "16:12:37 INFO Warming up component embedder...\n"
     ]
    },
    {
     "name": "stderr",
     "output_type": "stream",
     "text": [
      "16:12:37 INFO Running component embedder\n"
     ]
    },
    {
     "data": {
      "application/vnd.jupyter.widget-view+json": {
       "model_id": "08a7efd35b8149a1ad30f6c41a3be79c",
       "version_major": 2,
       "version_minor": 0
      },
      "text/plain": [
       "Batches:   0%|          | 0/11 [00:00<?, ?it/s]"
      ]
     },
     "metadata": {},
     "output_type": "display_data"
    },
    {
     "name": "stderr",
     "output_type": "stream",
     "text": [
      "16:12:47 INFO Running component writer\n"
     ]
    },
    {
     "data": {
      "text/plain": [
       "{'writer': {'documents_written': 321}}"
      ]
     },
     "execution_count": 26,
     "metadata": {},
     "output_type": "execute_result"
    }
   ],
   "source": [
    "from pipelines.indexing_pipelines.base_indexing_pipeline import get_base_indexing_pipeline\n",
    "\n",
    "context_indexing_store = InMemoryDocumentStore(embedding_similarity_function=\"cosine\")\n",
    "\n",
    "base_indexing_pipeline = get_base_indexing_pipeline(context_indexing_store)\n",
    "base_indexing_pipeline.run({\n",
    "    \"embedder\": { \n",
    "        \"documents\": contextualized_documents\n",
    "    },\n",
    "})"
   ]
  },
  {
   "cell_type": "code",
   "execution_count": 28,
   "id": "e2549f82",
   "metadata": {},
   "outputs": [],
   "source": [
    "filepath = f\"data/document_stores/{os.environ['EMBEDDING_MODEL_NAME']}\"\n",
    "os.makedirs(filepath, exist_ok=True)\n",
    "context_indexing_store.save_to_disk(f\"{filepath}/context_indexing_store.json\")"
   ]
  },
  {
   "cell_type": "markdown",
   "id": "d58c85cb",
   "metadata": {},
   "source": [
    "## Validation"
   ]
  },
  {
   "cell_type": "code",
   "execution_count": 11,
   "id": "31506a33",
   "metadata": {},
   "outputs": [],
   "source": [
    "# base_documents = base_indexing_store.filter_documents()\n",
    "base_documents = InMemoryDocumentStore.load_from_disk(\"data/document_stores/Qwen/Qwen3-Embedding-4B/docs_passage_1_0_base_indexing_store.json\").filter_documents()\n",
    "contextualized_documents = InMemoryDocumentStore.load_from_disk(\"data/document_stores/Qwen/Qwen3-Embedding-4B/docs_passage_1_0_context_indexing_store.json\").filter_documents()"
   ]
  },
  {
   "cell_type": "code",
   "execution_count": 12,
   "id": "65833571",
   "metadata": {},
   "outputs": [
    {
     "name": "stdout",
     "output_type": "stream",
     "text": [
      "Base documents - Mean: 317.14 chars, Std Dev: 179.72\n",
      "Contextualized documents - Mean: 654.38 chars, Std Dev: 189.42\n"
     ]
    }
   ],
   "source": [
    "import numpy as np\n",
    "\n",
    "# Get content lengths\n",
    "base_lengths = [len(doc.content) for doc in base_documents]\n",
    "contextualized_lengths = [len(doc.content) for doc in contextualized_documents]\n",
    "\n",
    "# Compute stats\n",
    "base_mean = np.mean(base_lengths)\n",
    "base_std = np.std(base_lengths)\n",
    "\n",
    "contextualized_mean = np.mean(contextualized_lengths)\n",
    "contextualized_std = np.std(contextualized_lengths)\n",
    "\n",
    "print(f\"Base documents - Mean: {base_mean:.2f} chars, Std Dev: {base_std:.2f}\")\n",
    "print(f\"Contextualized documents - Mean: {contextualized_mean:.2f} chars, Std Dev: {contextualized_std:.2f}\")"
   ]
  },
  {
   "cell_type": "code",
   "execution_count": 13,
   "id": "84b8c3fb",
   "metadata": {},
   "outputs": [
    {
     "data": {
      "text/plain": [
       "['Die \"Schädellage\" ist die ideale Position für eine vaginale Geburt, da der Kopf des Babys zuerst geboren wird. Diese Position erleichtert den Geburtsverlauf und bereitet den Weg für den Rest des Körpers. Abbildung 1 veranschaulicht diese Position.\\n\\nIm Laufe der Schwangerschaft kann das ungeborene Kind seine Position im Mutterleib mehrfach verändern. In der Regel dreht es sich jedoch rechtzeitig vor der Geburt in die sogenannte Schädellage – das bedeutet, der Kopf zeigt nach unten (siehe Abbildung 1). Diese Kopflage ist für eine natürliche Entbindung besonders günstig, da der größte Körperteil – der Kopf – zuerst durch den Geburtskanal tritt und so den Weg für den restlichen Körper bereitet.\\n\\n',\n",
       " 'Eine \"äußere Wendung\" ist ein Eingriff, bei dem versucht wird, das Baby durch Druck von außen in eine günstigere Geburtslage zu bringen. Dies geschieht, wenn das Baby in einer ungünstigen Lage (z.B. Beckenendlage) liegt, die eine natürliche Geburt erschweren könnte. Die Technik wird von medizinischem Fachpersonal durchgeführt.\\n\\nVerbleibt das Kind hingegen am Schwangerschaftsende in einer anderen Haltung – etwa mit dem Becken nach unten (siehe Abbildung 2) – kann die behandelnde Ärztin oder der Arzt vorschlagen, eine sogenannte „äußere Wendung“ vorzunehmen. Hierbei handelt es sich um eine spezielle Technik, bei der durch gezielten Druck auf den Bauch der Mutter versucht wird, das Baby in die Schädellage zu bringen.\\n\\n',\n",
       " 'Diese alternativen Methoden werden oft von Hebammen angeboten und sind in der Regel nicht durch wissenschaftliche Studien belegt. Da sie nicht von den Krankenkassen übernommen werden, entstehen den Frauen zusätzliche Kosten. Es handelt sich oft um eine längere Behandlung, die mehrere Sitzungen erfordert.\\n\\nNeben der äußeren Wendung existieren alternative Ansätze aus dem Bereich der Komplementärmedizin. Dazu zählen unter anderem die Erwärmung bestimmter Akupunkturpunkte (Moxibustion), bestimmte Körperhaltungen und Bewegungen der Mutter, Akupressur, Akupunktur, homöopathische Mittel oder Übungen wie die „indische Brücke“ oder die Knie-Ellenbogen-Position. Auch wenn für viele dieser Methoden keine wissenschaftlichen Nachweise zur Wirksamkeit vorliegen, berichten einige Frauen von positiven Erfahrungen. Diese Verfahren werden zumeist von Hebammen durchgeführt und erfordern oft mehrere Sitzungen. Die Kosten müssen in der Regel privat getragen werden, da sie nicht von den gesetzlichen Krankenkassen übernommen werden.\\n\\n',\n",
       " 'Vor einer äußeren Wendung werden routinemäßig Blutuntersuchungen durchgeführt und ein venöser Zugang gelegt. Dies dient der schnellen Verabreichung von Medikamenten im Notfall und ermöglicht eine Vorbereitung auf einen möglichen Kaiserschnitt. Die Ärztin oder der Arzt wird Sie vorab über eventuelle Nüchternheitsregeln informieren.\\n\\nEine äußere Wendung findet in der Regel in einer Klinik statt und wird ambulant durchgeführt. Um die Sicherheit von Mutter und Kind zu gewährleisten, steht für den Notfall stets ein Kaiserschnitt-Team bereit. Häufig wird vorab eine Blutuntersuchung durchgeführt, Blutwerte bestimmt und ein venöser Zugang gelegt, um im Bedarfsfall Medikamente verabreichen zu können. Die behandelnde Ärztin oder der Arzt wird Sie vorab darüber informieren, ob Sie vor dem Eingriff nüchtern bleiben müssen, und gibt auch Hinweise zur Vorbereitung auf einen eventuellen Kaiserschnitt.\\n\\n',\n",
       " 'Diese Voruntersuchungen sind wichtig, um die Sicherheit von Mutter und Kind zu gewährleisten und mögliche Risiken zu erkennen. Ein CTG misst die Herztöne des Babys und die Wehentätigkeit, während eine Doppler-Sonografie die Blutversorgung des Kindes beurteilt. Die Tokolyse verhindert vorzeitige Wehen und ermöglicht eine entspanntere Wendung.\\n\\nZunächst wird per Ultraschall die genaue Position des Kindes (etwa Beckenendlage, Querlage oder Fußlage), die Lage der Plazenta sowie die Fruchtwassermenge ermittelt. Zusätzlich wird ein CTG zur Überwachung der kindlichen Herztöne und der Wehentätigkeit durchgeführt. Gegebenenfalls erfolgt auch eine Doppler-Sonografie zur Beurteilung der kindlichen Versorgung. Um vorzeitige Wehen zu vermeiden, wird häufig ein Medikament zur Wehenhemmung (Tokolyse) verabreicht. Während des gesamten Vorgangs steht Ihnen in der Regel eine Hebamme zur Seite.\\n\\n',\n",
       " 'Diese Voruntersuchungen umfassen Ultraschall, CTG und ggf. Doppler-Sonografie, um die Position des Kindes, die Plazentalage und die kindliche Versorgung zu beurteilen. Sollten dabei Auffälligkeiten festgestellt werden, wird die Ärztin oder der Arzt die Risiken abwägen und gegebenenfalls von der Wendung absehen.\\n\\nDie Entscheidung, ob die Wendung tatsächlich durchgeführt wird, hängt vom Ergebnis dieser Voruntersuchungen ab. Bestehen Risiken wie zu wenig Fruchtwasser, auffällige CTG-Werte, eine ungünstige Plazentalage oder gesundheitliche Probleme bei Mutter oder Kind, kann auch von der Durchführung abgeraten werden.\\n\\n',\n",
       " 'Eine rückenmarksnahe Betäubung oder Lachgas können als Schmerzlinderung in Betracht gezogen werden, wenn die äußere Wendung als unangenehm empfunden wird.  Dazu erfolgt eine gesonderte Aufklärung über die Risiken und den Ablauf dieser Maßnahmen.  Dies ist eine Möglichkeit, den Eingriff für die Mutter angenehmer zu gestalten.\\n\\nIn der Regel ist keine Schmerzmedikation notwendig. In manchen Fällen kann jedoch eine rückenmarksnahe Betäubung oder die Gabe von Lachgas in Erwägung gezogen werden. Sollte dies geplant sein, erfolgt eine gesonderte Aufklärung.\\n\\n',\n",
       " 'Die Ärztin/der Arzt tastet die Position des Kindes ab und übt gezielten Druck aus, um eine Drehung zu erreichen. Dabei werden die Herztöne des Babys kontinuierlich per Ultraschall überwacht, um sicherzustellen, dass es dem Kind gut geht.  Manchmal können sanfte Berührungen oder Positionsänderungen der Mutter den Prozess unterstützen.\\n\\nDie eigentliche Wendung wird von einer erfahrenen Ärztin oder einem erfahrenen Arzt, manchmal auch im Team, manuell durchgeführt. Dabei ertastet sie/er die Lage des Kindes, übt kontrollierten Druck auf Steiß und Kopf aus und versucht so, das Baby durch eine Vorwärts- oder Rückwärtsrolle in die Kopflage zu bringen. In manchen Fällen kann auch ein sanftes Streichen über den Bauch oder ein verändertes Liegen der Mutter unterstützend wirken. Die Herztöne des Babys werden während der Wendung engmaschig überwacht, meist per Ultraschall.\\n\\n',\n",
       " 'Dieser Satz bezieht sich auf die eigentliche äußeren Wendung, bei der die Ärztin oder der Arzt manuell Druck auf den Bauch der Mutter ausübt, um das Baby zu drehen. Obwohl die Prozedur meist schmerzfrei verläuft, kann der Druck als unangenehm empfunden werden. In solchen Fällen kann der Versuch abgebrochen werden.\\n\\nDie Prozedur ist in der Regel nicht schmerzhaft, allerdings kann der Druck auf den Bauch als unangenehm empfunden werden.\\n\\n',\n",
       " 'Ein CTG (Kardiotokografie) ist eine Untersuchung zur Überwachung der Herztöne des Babys und der Wehentätigkeit. Ein Bauchband dient dazu, die Position des Kindes nach der Wendung zu stabilisieren und eine Rückkehr in die ursprüngliche Lage zu verhindern.  Weitere Kontrollen dienen der Sicherheit von Mutter und Kind.\\n\\nNach der Wendung wird überprüft, ob Wehen eingesetzt haben. Die kindlichen Herztöne werden weiter überwacht, meist mittels CTG. Falls notwendig, kann ein Bauchband angelegt werden, um die neue Lage zu stabilisieren. Eventuell sind weitere Kontrollen durch Ihre Ärztin oder Ihren Arzt sinnvoll.\\n\\n',\n",
       " 'Diese Schwangerschaftswochen sind gewählt, weil das Kind in dieser Zeit noch Platz hat, sich zu drehen, aber die Wahrscheinlichkeit, dass es sich wieder zurückdreht, geringer ist. Eine frühere Wendung birgt ein höheres Risiko einer Rückdrehung, während eine spätere Wendung möglicherweise schwieriger durchzuführen ist. Die genaue Entscheidung über den Zeitpunkt wird immer individuell getroffen.\\n\\nDer optimale Zeitpunkt für eine äußere Wendung liegt meist in der 37. oder 38. Schwangerschaftswoche, da hier die Erfolgsquote am höchsten ist und eine Rückdrehung des Kindes nur selten vorkommt. Je nach individueller Situation kann der Eingriff aber auch früher oder später erfolgen.\\n\\n',\n",
       " 'Diese Risiken sind selten, aber es ist wichtig, dass Sie sich bewusst sind, dass medizinische Eingriffe immer gewisse Risiken bergen. Die behandelnde Ärztin oder der Arzt wird Sie vor der Wendung ausführlich über diese Risiken aufklären und Ihre Fragen beantworten.  Sollten Komplikationen auftreten, steht ein Kaiserschnitt-Team bereit, um schnellstmöglich zu handeln.\\n\\nTrotz größter Vorsicht kann es bei der äußeren Wendung zu Komplikationen kommen, in Einzelfällen sogar mit ernsten Folgen, die weitere medizinische Eingriffe erfordern können. Die hier genannten Wahrscheinlichkeiten sind allgemeine Schätzwerte und ersetzen keine individuelle Risikobewertung.\\n\\n',\n",
       " 'Dieser Abschnitt listet mögliche Komplikationen und Risiken auf, die bei einer äußeren Wendung auftreten können. Einige davon erfordern möglicherweise einen Kaiserschnitt, während andere durch Medikamente oder weitere medizinische Maßnahmen behandelt werden können. Die Wahrscheinlichkeiten dieser Risiken sind gering und ersetzen keine individuelle Risikobewertung durch den Arzt.\\n\\nIn seltenen Fällen kann ein sofortiger Kaiserschnitt notwendig werden, etwa bei auffälligen kindlichen Herztönen, Verdacht auf Plazentalösung, Blutungen oder Problemen mit der Nabelschnur. Auch später kann noch ein Kaiserschnitt nötig sein.\\nGelegentlich fällt die kindliche Herzfrequenz ab. Dies kann sich meist durch Medikamente regulieren lassen, manchmal ist aber ebenfalls ein Kaiserschnitt erforderlich.\\nEs kann zum vorzeitigen Blasensprung kommen. Je nach Situation kann dann eine vaginale Geburt oder ein Kaiserschnitt folgen.\\nEine häufige Nebenwirkung des Wehenhemmers ist Herzrasen, entweder bei der Mutter oder gelegentlich auch beim Kind.\\nDie Wendung kann unangenehm oder sogar schmerzhaft sein. In solchen Fällen wird der Versuch möglicherweise abgebrochen.\\nEs kann zu vaginalen Blutungen kommen. Je nach Ausmaß kann dies weitere Maßnahmen wie Kaiserschnitt oder Geburtseinleitung erforderlich machen. In extrem seltenen Fällen kann Blut des Kindes in den mütterlichen Kreislauf gelangen (fetomaternale Transfusion), was bei Rhesus-negativen Müttern zu Problemen führen kann.\\nSehr selten treten allergische Reaktionen (z.B. auf Medikamente oder Latex) auf, die in schweren Fällen zu einem Kreislaufschock führen können und intensivmedizinische Betreuung erfordern.\\nGewebs-, Haut- oder Nervenschäden durch Lagerung oder medizinische Maßnahmen sind selten, aber möglich. Mögliche Folgen sind Schmerzen, Narben, Entzündungen oder Funktionsstörungen.\\n\\n',\n",
       " 'Die genaue Erfolgsquote variiert stark und hängt von verschiedenen Faktoren ab. Studien zeigen, dass die Erfolgsrate zwischen 50% und 80% liegen kann, wobei die Wahrscheinlichkeit höher ist, wenn das Kind in der Querlage liegt. Eine detaillierte Risikobewertung durch die behandelnde Ärztin oder den Arzt ist entscheidend.\\n\\nDie Erfolgsaussichten für eine äußere Wendung sind in vielen Fällen gut, jedoch nicht garantiert. Faktoren wie die Lage des Kindes, die Fruchtwassermenge, Plazentalage und frühere Entbindungen beeinflussen die Erfolgswahrscheinlichkeit.\\n\\n',\n",
       " 'Dies bedeutet, dass bei einem fehlgeschlagenen ersten Wendungsversuch nicht automatisch aufgegeben wird. Es kann ein erneuter Versuch geplant werden, wobei die Entscheidung von der individuellen Situation und der Einschätzung der behandelnden Ärztin oder des Arztes abhängt.  Die Zeit bis zum erneuten Versuch sollte individuell besprochen werden.\\n\\nWenn ein erster Versuch nicht gelingt, kann in Absprache mit der Ärztin/dem Arzt ein weiterer Anlauf an einem anderen Tag erfolgen.\\n\\n',\n",
       " 'Diese Möglichkeit ist wichtig, da eine erfolgreiche Wendung nicht garantiert, dass das Kind die Schädellage bis zur Geburt beibehält. Sollte sich das Kind erneut in die Beckenendlage drehen, stehen weitere Optionen zur Verfügung, um eine sichere Entbindung zu gewährleisten. Die Entscheidung über weitere Schritte wird dann gemeinsam mit dem medizinischen Team getroffen.\\n\\nAuch nach einer erfolgreichen Wendung besteht die Möglichkeit, dass sich das Kind erneut zurück in die Beckenendlage dreht. In diesem Fall kann ein erneuter Wendungsversuch oder eine Geburtseinleitung erwogen werden.\\n\\n',\n",
       " '**Plazenta praevia** bedeutet, dass die Plazenta den Gebärmutterhals bedeckt. **Vasa praevia** beschreibt eine Situation, in der die Nabelstranggefäße über den Muttermund liegen und somit bei Wehen oder Blasensprung gerissen werden könnten. Diese Konstellationen erhöhen das Risiko während der äußeren Wendung erheblich.\\n\\nBestimmte Bedingungen schließen eine äußere Wendung aus oder machen sie riskant – etwa, wenn die Plazenta vor dem Muttermund liegt (Plazenta praevia) oder sich Blutgefäße des Kindes in diesem Bereich befinden (Vasa praevia).\\n\\n',\n",
       " 'Diese Einschränkungen sind wichtig, da sie die Sicherheit von Mutter und Kind gewährleisten sollen.  Die Entscheidung für oder gegen eine äußere Wendung wird immer individuell und unter Berücksichtigung aller Faktoren getroffen.  Sollten solche Probleme vorliegen, sind alternative Geburtsvorbereitungen notwendig.\\n\\nAuch gesundheitliche Einschränkungen bei Mutter oder Kind, etwa Fehlbildungen der Gebärmutter, Infektionen (z.B. HIV, Hepatitis), Blutgerinnungsstörungen, auffällige Dopplerwerte oder Nabelschnurprobleme, sprechen häufig gegen eine Wendung. In Mehrlingsschwangerschaften, bei vorzeitigem Blasensprung oder starken Fruchtwassermengen wird in der Regel von einer Wendung abgeraten. Die genaue Entscheidung hängt von der individuellen Situation ab und wird gemeinsam mit der Ärztin oder dem Arzt getroffen.\\n\\n',\n",
       " 'Rhesus-negative Mütter haben eine andere Blutgruppe, die zu einer Reaktion des Immunsystems führen kann, wenn sie mit Blut des Kindes in Kontakt kommen. Die Anti-Rhesus-Impfung verhindert diese Reaktion und schützt das Kind bei späteren Schwangerschaften. Sie wird unabhängig von der Wendung im Rahmen der Schwangerschaft verabreicht.\\n\\nFrauen mit Rhesus-negativem Blut können ebenfalls eine äußere Wendung durchführen lassen. Da dabei kindliches Blut in den mütterlichen Kreislauf gelangen kann, wird meist eine schützende Impfung gegen Rhesus-Sensibilisierung verabreicht. Diese erfolgt unabhängig von der Wendung auch routinemäßig im Verlauf der Schwangerschaft.\\n\\n',\n",
       " 'Der Mutterpass enthält wichtige Informationen über Ihre Schwangerschaft, wie z.B. Blutgruppenbestimmung und mögliche Vorerkrankungen, die für die Beurteilung der Eignung für eine äußere Wendung relevant sein können. Bringen Sie ihn also unbedingt mit, damit die Ärztin oder der Arzt alle notwendigen Details zur Verfügung hat. Dies trägt dazu bei, die Sicherheit von Mutter und Kind zu gewährleisten.\\n\\nBitte bringen Sie zum Beratungsgespräch unbedingt Ihren Mutterpass mit.\\n\\n',\n",
       " 'Dies dient der Vorbereitung auf einen eventuellen Kaiserschnitt, der im Notfall durchgeführt werden könnte. Ob und wie lange Sie nüchtern bleiben müssen, wird Ihnen von Ihrem Arzt oder Ihrer Ärztin mitgeteilt. Es ist wichtig, deren Anweisungen genau zu befolgen.\\n\\nVor dem Eingriff ist es in manchen Fällen erforderlich, für einige Stunden nichts zu essen oder zu trinken – dies dient der Vorbereitung auf eine mögliche Narkose. Ihre Ärztin oder Ihr Arzt wird Sie dazu individuell beraten.',\n",
       " 'Es gibt verschiedene Arten von Kaiserschnitten, die sich in ihrer Dringlichkeit unterscheiden: geplanter Kaiserschnitt, dringlicher Kaiserschnitt und Notfallkaiserschnitt. Die Entscheidung für einen Kaiserschnitt hängt von verschiedenen Faktoren ab, sowohl vor als auch während der Geburt. Die Gründe können sowohl die Gesundheit der Mutter als auch die des Kindes betreffen.\\n\\nEin Kaiserschnitt kann aus unterschiedlichen Gründen und mit variierender Dringlichkeit notwendig werden. Er kann im Voraus geplant sein, etwa wenn Sie bereits mehrere Kaiserschnitte hatten, das Kind sich in Querlage befindet oder bestimmte Erkrankungen vorliegen. In anderen Fällen ergibt sich der Bedarf erst während der laufenden Geburt – etwa bei Geburtsstillstand oder wenn Mutter oder Kind gefährdet sind. Dabei unterscheidet man:\\n\\n',\n",
       " 'Diese drei Arten von Kaiserschnitten werden nach Dringlichkeit unterschieden. Ein geplanter Kaiserschnitt wird im Voraus festgelegt, ein dringlicher Kaiserschnitt wird bei einer sich entwickelnden kritischen Situation durchgeführt, und ein Notfallkaiserschnitt erfordert sofortiges Handeln, um Mutter und Kind zu retten. Die Unterscheidung ist wichtig für die Vorbereitung und die Organisation des Eingriffs.\\n\\nGeplanter Kaiserschnitt ohne akuten Handlungsbedarf, z.\\u202fB. bei bekannter Querlage oder nach mehreren vorangegangenen Kaiserschnitten.\\nDringlicher Kaiserschnitt, wenn sich eine kritische Situation entwickelt, z.\\u202fB. Geburtsstillstand mit beginnender Gefährdung, jedoch ohne akute Lebensbedrohung.\\nNotfallkaiserschnitt, der ohne Verzögerung erfolgen muss, z.\\u202fB. bei massiven kindlichen Herzfrequenzabfällen, sehr schlechten Blutgaswerten, einer Gebärmutterruptur, Eklampsie oder einer Plazentalösung.\\n\\n',\n",
       " 'Eine Beckenendlage bedeutet, dass das Baby mit den Füßen oder dem Po nach unten liegt, anstatt mit dem Kopf.  Dies kann die vaginale Geburt erschweren oder gefährlich machen, weshalb ein Kaiserschnitt eine Option sein kann. Die Entscheidung für einen Kaiserschnitt sollte immer nach ausführlicher Beratung und Abwägung aller Vor- und Nachteile getroffen werden.\\n\\nAuch bei besonderen Umständen wie Beckenendlage oder einem sehr großen Kind kann ein Kaiserschnitt eine medizinisch sinnvolle Alternative zur vaginalen Geburt darstellen. Sollten Sie aus persönlichen Gründen eine Schnittentbindung bevorzugen, erfolgt eine ausführliche Beratung, in der alle Vor- und Nachteile gegenüber einer natürlichen Geburt (inkl. möglicher Zangen- oder Vakuumgeburt) mit Ihnen besprochen werden, damit Sie eine fundierte Entscheidung treffen können.\\n\\n',\n",
       " 'Der Kaiserschnitt kann unter Spinal- oder Periduralanästhesie (Regionalanästhesie) oder seltener unter Vollnarkose durchgeführt werden. Bei Regionalanästhesie sind Sie wach und können das Kind gleich nach der Geburt sehen. Details zum gewählten Narkoseverfahren werden Ihnen separat erläutert.\\n\\nDer Eingriff erfolgt in der Regel unter Regionalanästhesie (Spinal- oder Periduralanästhesie) oder, seltener, unter Vollnarkose. Über das gewählte Narkoseverfahren werden Sie separat informiert.\\n\\n',\n",
       " 'Der Kaiserschnitt wird in der Regel unter Regionalanästhesie oder Vollnarkose durchgeführt. Vor dem eigentlichen Eingriff wird die Harnblase entleert, um den Vorgang zu erleichtern und Komplikationen zu vermeiden. Der Schnitt wird oberhalb der Schamhaargrenze gesetzt, um die Heilung zu fördern.\\n\\nZur Vorbereitung wird Ihre Harnblase über einen Katheter entleert. Dann legt das OP-Team unter sterilen Bedingungen einen etwa 20\\u202fcm langen Schnitt knapp oberhalb der Schamhaargrenze an.\\n\\n',\n",
       " 'Antibiotika werden vor dem Kaiserschnitt verabreicht, um das Risiko einer Infektion an der Operationsstelle zu verringern. Dies ist eine Standardmaßnahme, um Komplikationen zu vermeiden und die Heilung zu fördern. Die Entscheidung für die Art des Antibiotikums wird individuell getroffen.\\n\\nVor Beginn des Eingriffs erhalten Sie ein Antibiotikum zur Infektionsprophylaxe.\\n\\n',\n",
       " 'Um die Heilung zu fördern und Komplikationen zu reduzieren, wird das Gewebe während des Eingriffs nach Möglichkeit gedehnt statt geschnitten. Nach der Entbindung wird die Plazenta entfernt und Medikamente verabreicht, um die Gebärmutter zusammenziehen zu lassen und Blutverlust zu minimieren. Abschließend werden die verschiedenen Schichten des Bauches wieder vernäht.\\n\\nDie Bauchdecke, der Bauchraum und anschließend die Gebärmutter werden eröffnet. Dabei wird das Gewebe nach Möglichkeit gedehnt statt geschnitten, um die Heilung zu fördern und Komplikationen wie Schmerzen oder Fieber zu reduzieren. Das Baby wird vorsichtig entbunden, danach wird die Plazenta entfernt. Häufig werden Medikamente verabreicht, die das Zusammenziehen der Gebärmutter unterstützen, um den Blutverlust gering zu halten. Anschließend werden Gebärmutter, Bauchraum und Bauchdecke in mehreren Schichten wieder vernäht – dabei kommt möglichst wenig Nahtmaterial zum Einsatz.\\n\\n',\n",
       " 'Drainagen sind Schläuche, die in die Wunde gelegt werden, um Flüssigkeit abzuleiten. Sie werden nur bei Bedarf verwendet, um die Heilung zu unterstützen und Komplikationen zu vermeiden.  Nachdem die Drainagen (falls notwendig) entfernt wurden, wird die Haut vernäht oder mit Klammern verschlossen.\\n\\nDrainagen zum Ableiten von Blut oder Wundsekret werden nur in Ausnahmefällen und bei Bedarf eingesetzt, bevor der Hautverschluss (durch Nähte oder Klammern) erfolgt.\\n\\n',\n",
       " 'Um das Baby zu entbinden, kann es notwendig sein, den Kopf des Babys während der Operation zurückzuschieben oder den Schnitt in der Gebärmutter zu erweitern (T-Schnitt). In seltenen Fällen wird die Geburt mit einer Saugglocke oder Zange unterstützt. Diese Maßnahmen sind abhängig von der Position des Babys und können erforderlich sein, um eine sichere Entbindung zu gewährleisten.\\n\\nIn besonderen Fällen, beispielsweise wenn der Kopf des Babys bereits tief im Becken liegt, kann es notwendig sein, diesen während der Operation durch die Scheide vorsichtig zurückzuschieben. Selten muss der Schnitt in der Gebärmutter erweitert werden – z.\\u202fB. durch einen sogenannten T-Schnitt (ein zusätzlicher Längsschnitt zur üblichen Quereröffnung) – oder die Geburt wird mithilfe einer Saugglocke oder Zange unterstützt.\\n\\n',\n",
       " 'Wenn der Muttermund (Gebärmutterhals) zum Zeitpunkt des Kaiserschnitts geschlossen ist, kann er während des Eingriffs gedehnt werden. Dies dient dazu, den Abfluss des Wochenflusses nach der Geburt zu erleichtern.  Diese Maßnahme ist relativ selten.\\n\\nIst der Muttermund zum Zeitpunkt des Kaiserschnitts noch verschlossen, kann er während des Eingriffs von oben gedehnt werden. Dies kann den Abfluss des Wochenflusses verbessern.\\n\\n',\n",
       " 'Bei Komplikationen wie einer schwer lösbaren Plazenta oder unkontrollierbaren Blutungen kann eine Hysterektomie (Entfernung der Gebärmutter) notwendig werden, um die Situation zu stabilisieren.  Dies ist ein seltener Eingriff, der im Vorfeld gesondert aufgeklärt wird.  Er kann die weitere Familienplanung ausschließen.\\n\\nKommt es während des Kaiserschnitts zu Komplikationen, z.\\u202fB. wenn die Plazenta schwer lösbar ist oder Blutungen sich nicht kontrollieren lassen, können zusätzliche Maßnahmen notwendig werden. Dazu zählen Ausschabungen, medikamentöse Blutstillung, mechanische Kompression der Gebärmutter (z.\\u202fB. mit Tamponade), in sehr seltenen Fällen auch die Entfernung der Gebärmutter (Hysterektomie). Sollte eine dieser Maßnahmen bereits im Vorfeld absehbar sein, erfolgt eine gesonderte Aufklärung über Nutzen, Risiken und mögliche Spätfolgen.\\n\\n',\n",
       " 'Bei einer Rhesus-Inkompatibilität zwischen Mutter und Kind (Mutter Rhesus-negativ, Kind Rhesus-positiv) wird nach der Geburt eine Anti-D-Prophylaxe verabreicht. Diese Maßnahme verhindert, dass die Mutter Antikörper gegen das Kind bildet, was spätere Schwangerschaften gefährden könnte.  Die Details dazu werden Ihnen in einem persönlichen Gespräch erläutert.\\n\\nBei Rhesus-negativer Blutgruppe der Mutter und Rhesus-positivem Kind erhalten Sie nach der Geburt eine Anti-D-Prophylaxe, um möglichen Komplikationen in späteren Schwangerschaften vorzubeugen. Auch hierzu werden Sie im persönlichen Gespräch informiert.\\n\\n',\n",
       " 'Die Kombination eines Kaiserschnitts mit Sterilisation ist möglich, sollte aber gut überlegt sein, da es sich um einen irreversiblen Eingriff handelt. Eine Entscheidung kurz vor der Geburt wird nicht empfohlen und erfordert eine separate Aufklärung über Risiken und Konsequenzen. Dies ist nur bei geplanten Kaiserschnitten eine Option.\\n\\nWenn Sie eine dauerhafte Empfängnisverhütung durch Sterilisation wünschen, kann dieser Eingriff mit dem Kaiserschnitt kombiniert werden. Diese Entscheidung sollte jedoch gut überlegt sein – ein Entschluss unmittelbar vor der Geburt wird nicht empfohlen. Im Falle eines geplanten Eingriffs erhalten Sie dazu eine separate Aufklärung über Risiken und Konsequenzen.\\n\\n',\n",
       " 'Dieser Abschnitt listet mögliche Komplikationen auf, die bei einem Kaiserschnitt auftreten können. Die genannten Risiken sind allgemeiner Natur und können sich je nach individueller Gesundheitssituation der Patientin und des Kindes unterschiedlich auswirken. Es ist wichtig, dass diese Risiken im Kontext der individuellen Umstände bewertet werden.\\n\\nTrotz größter Sorgfalt kann es bei einem Kaiserschnitt – wie bei jeder Operation – zu ernsthaften, teils lebensbedrohlichen Komplikationen kommen. Die folgenden Risiken sind allgemein beschrieben und können durch individuelle Faktoren wie Vorerkrankungen, vorherige Operationen oder anatomische Besonderheiten beeinflusst werden.\\n\\n',\n",
       " 'Diese Verletzungen sind selten, können aber zusätzliche medizinische Eingriffe und eine verlängerte Genesungszeit erfordern.  Die Wahrscheinlichkeit steigt bei früheren Operationen im Bauchraum oder bei starkem Übergewicht.  Sollten solche Komplikationen auftreten, werden diese entsprechend behandelt.\\n\\nVerletzungen benachbarter Organe:\\nBei der Operation können Blutgefäße, Harnblase, Harnleiter, Darm oder Magen verletzt werden. Dies kann weitere Eingriffe erforderlich machen, etwa zur Blutstillung, zur Anlage eines Katheters, einer Harnableitung oder sogar eines künstlichen Darmausgangs. Das Risiko ist erhöht bei Voroperationen, Verwachsungen oder starkem Übergewicht.\\n\\n',\n",
       " 'Bei starken Blutverlusten kann eine Bluttransfusion notwendig werden. In seltenen Fällen, beispielsweise bei einer tief sitzenden Plazenta, kann dies sogar eine Entfernung der Gebärmutter erforderlich machen. Um das Risiko von Infektionen durch Spenderblut zu minimieren, erfolgt eine Kontrolluntersuchung nach der Transfusion.\\n\\nStarke Blutungen oder Nachblutungen:\\nMassive Blutverluste können eine Bluttransfusion erforderlich machen. In besonderen Fällen – etwa bei tief sitzender oder eingewachsener Plazenta – kann eine Entfernung der Gebärmutter notwendig sein. Nachblutungen können auch verzögert, d.\\u202fh. erst Tage nach dem Eingriff, auftreten. Das Risiko, durch Spenderblut Infektionen wie HIV oder Hepatitis zu übertragen, ist heute extrem gering, wird aber durch eine Kontrolluntersuchung nach der Transfusion weiter abgesichert.\\n\\n',\n",
       " 'Bei Atonie zieht sich die Gebärmutter nach der Entbindung nicht ausreichend zusammen, was zu Blutverlust führen kann. Um dies zu behandeln, werden Medikamente eingesetzt, und in seltenen Fällen kann eine Tamponade oder sogar eine Hysterektomie (Entfernung der Gebärmutter) notwendig werden. Diese Komplikation erfordert schnelles Handeln, um die Gesundheit der Mutter zu schützen.\\n\\nVersagen der Gebärmutterkontraktion (Atonie):\\nZieht sich die Gebärmutter nach der Entbindung nicht ausreichend zusammen, kann es zu schwerem Blutverlust kommen. In solchen Fällen werden zunächst Medikamente wie Oxytocin oder Prostaglandine eingesetzt. Reichen diese nicht aus, kann eine Tamponade, das Abbinden von Gefäßen oder in sehr seltenen Fällen eine Gebärmutterentfernung erforderlich sein.\\n\\n',\n",
       " 'Eine vorübergehende Blasenentleerungsstörung ist nach einem Kaiserschnitt möglich und wird meist durch eine kurzzeitige Katheterisierung behoben. Sollte eine längere Katheterisierung notwendig sein, besteht ein erhöhtes Risiko für Harnwegsinfektionen, die mit Antibiotika behandelt werden müssen. Dies ist eine häufige, aber in der Regel gut behandelbare Komplikation.\\n\\nBlasenfunktionsstörungen:\\nEine vorübergehende Störung der Blasenentleerung ist möglich und wird meist durch kurzfristige Katheterisierung gut behandelt. Bei längerer Katheterverwendung können Harnwegsinfektionen auftreten, die antibiotisch behandelt werden müssen.\\n\\n',\n",
       " 'Sepsis ist eine schwere, lebensbedrohliche Infektion, bei der Bakterien oder andere Krankheitserreger im Blutkreislauf verbreitet werden. Sie erfordert eine intensive medizinische Behandlung im Krankenhaus, oft auf einer Intensivstation. Eine frühzeitige Diagnose und Behandlung sind entscheidend für das Überleben.\\n\\nInfektionen:\\nEntzündungen der Gebärmutter, Harnwege, des Bauchfells oder der Lunge können vorkommen. Diese sind in der Regel gut mit Antibiotika und kontraktionsfördernden Mitteln behandelbar. In Einzelfällen kann es zu einer schweren Blutvergiftung (Sepsis) kommen, die intensivmedizinisch behandelt werden muss.\\n\\n',\n",
       " 'Diese Komplikation ist selten, aber schwerwiegend, da sie dauerhaften Verlust der Fruchtbarkeit und frühe Wechseljahre zur Folge haben kann. Eine solche Operation ist notwendig, um die Infektion zu bekämpfen und das Leben der Mutter zu retten.  Die Folgen sollten im Vorfeld besprochen werden.\\n\\nSchwere Infektionen des Bauchraums:\\nBei ausgedehnter Gebärmutter- oder Bauchraumentzündung kann eine erneute Operation notwendig sein, ggf. mit Entfernung der Gebärmutter und/oder Eierstöcke. Dies hat zur Folge, dass keine Schwangerschaft mehr möglich ist und Wechseljahrsbeschwerden auftreten können.\\n\\n',\n",
       " 'Narbenendometriose ist ein seltenes Problem, bei dem Gewebe der Gebärmutterschleimhaut in der Operationsnarbe oder im Bauchraum wächst. Dies kann zu zyklischen Schmerzen und Fruchtbarkeitsproblemen führen und erfordert möglicherweise eine weitere Operation. Es ist wichtig, Anzeichen wie Schmerzen oder Blutungen zu beachten und bei Bedarf einen Arzt aufzusuchen.\\n\\nWundheilungsstörungen:\\nInfektionen der OP-Wunde können Nachbehandlungen wie Spülung, Drainage oder erneute Naht erforderlich machen. Es kann zu überschießender Narbenbildung, Narbenbrüchen oder Narbenendometriose kommen. Diese Komplikationen können operative Korrekturen nötig machen.\\n\\n',\n",
       " 'Eileiterverklebungen können zu einer eingeschränkten Fruchtbarkeit führen, da die Eileiter für den Transport der Eizelle zur Befruchtung notwendig sind.  Sollten die Eileiter irreparabel geschädigt sein, ist eine Schwangerschaft nur noch durch künstliche Befruchtung möglich.  Dies ist eine seltene Komplikation, die jedoch die Familienplanung beeinflussen kann.\\n\\nEileiterschädigungen:\\nEntzündungen können in seltenen Fällen die Eileiter verkleben, was eine spätere Schwangerschaft nur noch per künstlicher Befruchtung möglich macht.\\n\\n',\n",
       " 'Verwachsungen im Bauchraum können nach einem Kaiserschnitt entstehen und zu einem Darmverschluss führen, der eine erneute Operation erforderlich macht. Diese Verwachsungen können auch Jahre später auftreten und sind eine mögliche, wenn auch seltene, Komplikation. Die Entstehung von Verwachsungen ist multifaktoriell und kann durch verschiedene Faktoren beeinflusst werden.\\n\\nDarmverschluss:\\nDurch Verwachsungen im Bauchraum kann – auch Jahre später – ein Darmverschluss entstehen. Hier kann eine erneute Operation notwendig sein.\\n\\n',\n",
       " '**HIT Typ II (Heparin-induzierte Thrombozytopenie Typ II)** ist eine seltene, aber schwerwiegende Komplikation, die durch eine paradoxe Reaktion auf Heparin ausgelöst wird. Sie führt zu einer Thrombozytopenie (Mangel an Blutplättchen) und einem erhöhten Risiko für Thrombosen.  Sollten Sie während der Behandlung mit Heparin ungewöhnliche Symptome wie Hautausschlag, Fieber oder zunehmende Müdigkeit bemerken, informieren Sie bitte umgehend das medizinische Personal.\\n\\nThrombose und Embolie:\\nNach der Operation kann es zur Bildung von Blutgerinnseln in den Venen kommen. Wird ein Gerinnsel in die Lunge geschwemmt, droht eine lebensbedrohliche Lungenembolie. Zur Vorbeugung wird häufig ein blutgerinnungshemmendes Mittel wie Heparin verabreicht. In seltenen Fällen kann es dadurch zu einer gefährlichen Störung der Blutgerinnung (HIT Typ II) kommen.\\n\\n',\n",
       " 'Eine Fruchtwasserembolie ist ein sehr seltener, aber lebensbedrohlicher Notfall, bei dem Fruchtwasser in den Blutkreislauf der Mutter gelangt. Dies kann zu einer schweren allergischen Reaktion, Atemnot und Kreislaufversagen führen und erfordert sofortige intensivmedizinische Behandlung. Die Ursache und genaue Mechanismen dieser Komplikation sind noch nicht vollständig verstanden.\\n\\nFruchtwasserembolie:\\nIn sehr seltenen Fällen kann Fruchtwasser in den Blutkreislauf gelangen und eine akute lebensbedrohliche Reaktion auslösen, die intensivmedizinisch behandelt werden muss.\\n\\n',\n",
       " 'Diese Verletzungen entstehen durch Druck oder Reizung während der Operation und können vorübergehend oder dauerhaft sein.  Sie sind selten, können aber die Genesung und das Wohlbefinden der Mutter beeinträchtigen.  Sollten Sie nach dem Kaiserschnitt anhaltende Beschwerden verspüren, suchen Sie ärztlichen Rat.\\n\\nLagerungsschäden und Nervenverletzungen:\\nDurch Lagerung während des Eingriffs oder begleitende Maßnahmen (z.\\u202fB. Einspritzungen, Desinfektion, elektrische Geräte) kann es zu Nervenreizungen, Schmerzen, Taubheitsgefühl, Narben oder – sehr selten – Lähmungen kommen. Auch eine anhaltend schmerzhafte Narbe ist möglich.\\n\\n',\n",
       " 'Allergische Reaktionen können während des Kaiserschnitts auftreten, da verschiedene Medikamente und Materialien verwendet werden. Im schlimmsten Fall kann dies zu einem lebensbedrohlichen Kreislaufschock führen. Sollten Sie bekannte Allergien haben, informieren Sie bitte Ihr Ärztliches Team.\\n\\nAllergien und Unverträglichkeiten:\\nReaktionen auf Medikamente, Latex oder Desinfektionsmittel können im Extremfall zu einem akuten Kreislaufschock führen. In sehr seltenen Fällen können bleibende Schäden wie Organversagen oder Lähmungen auftreten.\\n\\n',\n",
       " 'Narbenendometriose entsteht, wenn Zellen der Gebärmutterschleimhaut in der Kaiserschnittnarbe oder im Bauchraum wachsen. Dies kann zu Schmerzen und Fruchtbarkeitsproblemen führen und erfordert möglicherweise eine operative Behandlung. Die genauen Ursachen für die Entstehung von Narbenendometriose sind noch nicht vollständig geklärt.\\n\\nNarbenendometriose:\\nIn Ausnahmefällen wachsen Zellen der Gebärmutterschleimhaut in der OP-Narbe oder im Bauchraum. Diese können zyklische Schmerzen und eine eingeschränkte Fruchtbarkeit verursachen.\\n\\n',\n",
       " 'Eine Rektusdiastase ist eine Weitung der geraden Bauchmuskeln, die durch die Schwangerschaft entstehen kann. Sie kann durch Rückbildungsgymnastik verbessert werden, in manchen Fällen ist jedoch ein operativer Eingriff notwendig, um einen Narbenbruch zu korrigieren.  Suchen Sie bei anhaltenden Beschwerden oder sichtbarer Ausbeulung ärztlichen Rat.\\n\\nRektusdiastase und Narbenbruch:\\nDurch die Schwangerschaft können die geraden Bauchmuskeln auseinanderweichen. Dies kann durch Rückbildungsgymnastik verbessert werden. In manchen Fällen entsteht ein Narbenbruch, der operativ versorgt werden muss.\\n\\n',\n",
       " 'Ein Kaiserschnitt kann auch für das Kind Risiken bergen, wie Anpassungsstörungen nach der Geburt oder Verletzungen während der Operation. Diese Risiken sind sowohl kurz- als auch langfristig möglich und können von der Art der Operation und dem Reifegrad des Kindes abhängen. Es ist wichtig, sich über diese möglichen Auswirkungen zu informieren.\\n\\nAuch für das Neugeborene können im Zusammenhang mit einem Kaiserschnitt Risiken bestehen – sowohl kurzfristig als auch im Hinblick auf die spätere Entwicklung.\\n\\n',\n",
       " 'Babys, die auf die Welt kommen, nachdem sie per Kaiserschnitt entbunden wurden, können manchmal Schwierigkeiten haben, sich an das Leben außerhalb der Gebärmutter zu gewöhnen. Dies äußert sich oft in Problemen mit der Atmung, die in seltenen Fällen eine Sauerstoffgabe oder künstliche Beatmung erfordern. Das Risiko ist höher, wenn die Operation unter Vollnarkose durchgeführt wird oder das Kind noch nicht voll entwickelt ist.\\n\\nAnpassungsstörungen nach der Geburt:\\nKinder, die per Kaiserschnitt zur Welt kommen, zeigen häufiger vorübergehende Probleme bei der Umstellung auf das Leben außerhalb der Gebärmutter – insbesondere bei der Atmung. In manchen Fällen ist die Gabe von Sauerstoff oder sogar eine vorübergehende künstliche Beatmung erforderlich. Das Risiko ist erhöht, wenn der Eingriff unter Vollnarkose durchgeführt wird oder das Kind noch sehr unreif ist.\\n\\n',\n",
       " 'Diese Verletzungen entstehen, wenn das Kind während des Kaiserschnitts ungünstig positioniert ist und beim Herausziehen aus der Gebärmutter auf Kontakt kommt.  Sie sind zwar selten, aber können Arme, Schultern, Beine oder Hüften betreffen und in der Regel gut behandelt werden.  Es kann sich um Brüche oder Ausrenkungen handeln.\\n\\nGeburtsverletzungen:\\nIst das Kind ungünstig im Becken fixiert, kann es beim Herausheben aus der Gebärmutter zu Verletzungen an Armen, Schultern, Beinen oder Hüften kommen – in seltenen Fällen zu Brüchen oder Ausrenkungen (Luxationen). Diese Verletzungen sind in der Regel gut behandelbar.\\n\\n',\n",
       " 'Diese Verletzungen entstehen während des Kaiserschnitts und sind selten. In den meisten Fällen heilen sie ohne bleibende Schäden, aber in einigen Fällen ist eine Naht erforderlich, die eine sichtbare Narbe hinterlassen kann. Es handelt sich um eine seltene Komplikation, die bei der Aufklärung über Kaiserschnitte erwähnt wird.\\n\\nSchnittverletzungen:\\nBeim Öffnen der Gebärmutter kann es sehr selten zu kleinen Verletzungen der kindlichen Haut kommen. Meist heilen diese von selbst. Nur in Einzelfällen ist eine Naht erforderlich. Dabei kann eine bleibende Narbe entstehen.\\n\\n',\n",
       " 'Bei einem Kaiserschnitt kann, obwohl selten, eine Saugglocke oder Zange notwendig sein, um das Baby zu entbieten. Diese Instrumente können bei Neugeborenen Druckstellen, Blutergüsse oder Hautabschürfungen verursachen, die sich in der Regel von selbst zurückbilden. Sollten diese Verletzungen auffällig sein, sollte dies dem behandelnden Arzt mitgeteilt werden.\\n\\nEinsatz von Saugglocke oder Zange:\\nAuch bei einem Kaiserschnitt kann unter Umständen eine Saugglocke oder Zange zum Einsatz kommen. Diese kann beim Kind Druckstellen, Blutergüsse oder Hautabschürfungen verursachen, die sich normalerweise rasch zurückbilden.\\n\\n',\n",
       " 'Einige Studien deuten darauf hin, dass Kinder, die per Kaiserschnitt geboren wurden, ein leicht erhöhtes Risiko für bestimmte chronische Erkrankungen haben könnten. Allerdings ist die wissenschaftliche Evidenz hierfür noch nicht eindeutig und es fehlen klare Beweise für einen direkten Zusammenhang. Weitere Forschung ist notwendig, um diese möglichen langfristigen Auswirkungen besser zu verstehen.\\n\\nLangfristige gesundheitliche Einflüsse:\\nEs gibt Hinweise, dass per Kaiserschnitt geborene Kinder möglicherweise häufiger an bestimmten chronischen Erkrankungen wie Asthma, Diabetes, entzündlichen Darmerkrankungen oder Übergewicht leiden. Die wissenschaftliche Datenlage hierzu ist jedoch uneinheitlich – eindeutige Beweise für einen Zusammenhang fehlen bislang.\\n\\n',\n",
       " 'Nach einem Kaiserschnitt ist eine vaginale Geburt in nachfolgenden Schwangerschaften grundsätzlich möglich, wobei die Erfolgswahrscheinlichkeit von individuellen Faktoren abhängt. Es ist wichtig, die Risiken und Vorteile einer vaginalen Geburt nach Kaiserschnitt mit dem Arzt zu besprechen, da Komplikationen wie ein Gebärmutterriss möglich sind. Die Entscheidung sollte unter Berücksichtigung der individuellen Krankengeschichte und der medizinischen Rahmenbedingungen getroffen werden.\\n\\nEin Kaiserschnitt kann Auswirkungen auf nachfolgende Schwangerschaften und Geburten haben. Grundsätzlich ist nach einem Kaiserschnitt auch eine spontane vaginale Geburt möglich. Die Wahrscheinlichkeit für eine erfolgreiche natürliche Entbindung steigt, wenn Sie bereits vorher eine Spontangeburt hatten.\\n\\n',\n",
       " 'Eine Spontangeburt nach Kaiserschnitt (VBAC) ist möglich, erfordert aber bestimmte Voraussetzungen und eine sorgfältige medizinische Überwachung, da das Risiko eines Gebärmutterrisses besteht.  Die Entscheidung für eine VBAC wird individuell mit der Patientin besprochen, wobei die Chancen und Risiken abgewogen werden.  Es ist wichtig, dass die Geburt in einem Krankenhaus mit entsprechender Notfallausrüstung stattfindet.\\n\\nSpontangeburt nach Kaiserschnitt:\\nFür eine vaginale Geburt nach vorangegangenem Kaiserschnitt müssen bestimmte Voraussetzungen erfüllt sein: Es sollte sich um eine Einlingsschwangerschaft in Schädellage handeln, und die Geburt sollte in einem Krankenhaus erfolgen, das auf mögliche Notfallsituationen wie einen Gebärmutterriss vorbereitet ist. Die Chancen und Risiken einer geplanten Spontangeburt werden individuell mit Ihnen besprochen.\\n\\n',\n",
       " 'Ein Gebärmutterriss ist ein Notfall, bei dem sich die alte Kaiserschnittnarbe öffnet. Dies kann bei nachfolgenden Schwangerschaften passieren, insbesondere wenn bestimmte Risikofaktoren vorliegen, wie z.B. eine frühere Erweiterung der Narbe oder eine kurze Zeitspanne seit dem Kaiserschnitt.  Es erfordert eine sofortige Operation für Mutter und Kind.\\n\\nGebärmutterriss (Uterusruptur):\\nIn seltenen Fällen kann sich während einer nachfolgenden Geburt die alte Kaiserschnittnarbe an der Gebärmutter öffnen. Dies stellt einen akuten Notfall für Mutter und Kind dar und erfordert eine sofortige Operation. Das Risiko ist erhöht bei:\\n\\n',\n",
       " 'Dieser Abschnitt beschreibt Risikofaktoren für einen Gebärmutterriss während einer nachfolgenden Geburt nach Kaiserschnitt. Ein Gebärmutterriss ist ein Notfall, der eine sofortige Operation erfordert. Die genannten Faktoren erhöhen das Risiko für diese Komplikation.\\n\\nmehreren vorausgegangenen Kaiserschnitten,\\nfrüherer Erweiterung der Gebärmutterschnittführung (z.\\u202fB. Längsschnitt),\\nkurzer Zeitspanne seit dem letzten Kaiserschnitt,\\nGeburtseinleitung oder wehenfördernden Medikamenten.\\n\\n',\n",
       " 'Dieser Abschnitt bezieht sich auf die Möglichkeit einer Spontangeburt nach Kaiserschnitt.  Bestimmte Faktoren, wie mehrere Kaiserschnitte oder eine frühere Erweiterung der Narbe, erhöhen das Risiko eines Gebärmutterrisses und erfordern daher eine besonders sorgfältige Überwachung während der Geburt.\\n\\nDaher wird unter diesen Umständen besonders sorgfältig überwacht.\\n\\n',\n",
       " 'Plazentationsstörungen können zu Blutungen, Frühgeburten oder erfordern einen erneuten Kaiserschnitt. Dazu gehören beispielsweise eine Vorlage der Plazenta vor dem Muttermund (Placenta praevia) oder eine Einwachsung der Plazenta in die Gebärmutterwand (Placenta accreta). Diese Komplikationen sollten frühzeitig erkannt und behandelt werden.\\n\\nPlazentationsstörungen:\\nNach einem Kaiserschnitt treten häufiger Komplikationen mit der Plazenta auf. Beispiele sind:\\n\\n',\n",
       " 'Diese Komplikationen treten häufiger nach einem Kaiserschnitt auf und können einen erneuten Kaiserschnitt oder zusätzliche medizinische Maßnahmen erfordern. Sie entstehen, weil die Plazenta sich während der Schwangerschaft an der Stelle einnistet, wo zuvor der Kaiserschnitt stattgefunden hat.  Dies kann zu Blutungen, Frühgeburten oder Schwierigkeiten bei der Geburt des Kindes verursachen.\\n\\nPlacenta praevia: die Plazenta liegt vor dem Muttermund, was Blutungen und Frühgeburten begünstigt,\\nPlacenta accreta/increta: die Plazenta ist mit der Gebärmutter verwachsen oder eingewachsen,\\nPlazentalösungsstörungen: die Plazenta lässt sich nach der Geburt nicht vollständig lösen.\\n\\n',\n",
       " 'Dies bezieht sich auf Plazentationsstörungen, die nach einem Kaiserschnitt häufiger auftreten können.  Dazu zählen beispielsweise eine vorzeitige Plazentalösung oder eine Plazenta praevia, bei denen die Plazenta den Muttermund bedeckt.  In schweren Fällen kann dies eine Entfernung der Gebärmutter erforderlich machen.\\n\\nSolche Fälle erfordern oft einen erneuten Kaiserschnitt und können zusätzliche Maßnahmen wie eine Tamponade, Gefäßverschluss oder sogar die Entfernung der Gebärmutter notwendig machen.\\n\\n',\n",
       " 'Bei einer Atonie kann die Gebärmutter sich nach der Geburt nicht ausreichend zusammenziehen, was zu starkem Blutverlust führen kann. Um dies zu stoppen, können Medikamente, eine Tamponade oder in seltensten Fällen ein zusätzlicher Bauchschnitt oder die Entfernung der Gebärmutter notwendig sein. Diese Komplikation kann bei Frauen auftreten, die nach einem Kaiserschnitt eine Spontangeburt versuchen.\\n\\nStarke Nachblutungen (Atonie):\\nEin mangelndes Zusammenziehen der Gebärmutter kann nach einer Spontangeburt zu starkem Blutverlust führen. Dann werden Medikamente gegeben, ggf. eine Tamponade eingelegt. In seltenen Fällen ist ein zusätzlicher Bauchschnitt nötig, um die Blutung zu stoppen – auch hier kann eine Entfernung der Gebärmutter notwendig werden.\\n\\n',\n",
       " 'Eine Schwangerschaft in der Kaiserschnittnarbe (Heterotopische Schwangerschaft) ist eine sehr seltene, aber gefährliche Komplikation, bei der sich eine Schwangerschaft außerhalb der Gebärmutter, in der alten Kaiserschnittnarbe, einnistet. Diese Schwangerschaft kann nicht erhalten werden und muss abgeworben werden, da sie mit schwerwiegenden Blutungen und einer Gefahr für das Leben der Mutter verbunden ist. Die genauen Ursachen sind unbekannt, aber eine frühere Gebärmutteroperation wird als Risikofaktor angesehen.\\n\\nSchwangerschaft in der Kaiserschnittnarbe:\\nSehr selten nistet sich eine Schwangerschaft in der früheren Kaiserschnittnarbe ein. Diese kann nicht erhalten werden und muss operativ oder medikamentös beendet werden, da sie mit hohem Blutungsrisiko und Lebensgefahr verbunden ist.\\n\\n',\n",
       " 'Einige Studien legen nahe, dass Frauen nach einem Kaiserschnitt möglicherweise seltener schwanger werden können und ein erhöhtes Risiko für Komplikationen wie Eileiterschwangerschaften oder Totgeburten in späteren Schwangerschaften haben könnten. Die wissenschaftliche Evidenz hierfür ist jedoch nicht eindeutig und die Ergebnisse sind oft widersprüchlich. Es ist wichtig, dies bei der Familienplanung zu berücksichtigen und mit dem Arzt zu sprechen.\\n\\nFruchtbarkeit nach Kaiserschnitt:\\nEinige Studien deuten darauf hin, dass Frauen nach einem Kaiserschnitt häufiger Schwierigkeiten haben, erneut schwanger zu werden. Auch das Risiko für Eileiterschwangerschaften oder Totgeburten in Folge-Schwangerschaften kann erhöht sein – allerdings sind die Daten hierzu nicht eindeutig und teils widersprüchlich.\\n\\n',\n",
       " 'Der Kaiserschnitt ist ein häufig durchgeführter Eingriff, über dessen langfristige Auswirkungen auf die Frau jedoch noch relativ wenig bekannt ist.  Weitere Forschung ist notwendig, um die potenziellen Langzeitfolgen besser zu verstehen und die Behandlung entsprechend anzupassen.  Dies betrifft sowohl körperliche als auch psychische Aspekte.\\n\\nLangzeitfolgen:\\nObwohl der Kaiserschnitt weltweit häufig durchgeführt wird, sind viele mögliche Langzeitfolgen für Frauen bislang noch nicht ausreichend erforscht.\\n\\n',\n",
       " 'Dieser Abschnitt beschreibt wichtige Warnzeichen, auf die Frauen nach einem Kaiserschnitt achten sollten. Es ist wichtig, bei Auftreten dieser Symptome umgehend ärztliche Hilfe in Anspruch zu nehmen, da sie auf mögliche Komplikationen hindeuten können. Die frühzeitige Erkennung und Behandlung dieser Komplikationen ist entscheidend für die Gesundheit von Mutter und Kind.\\n\\nBitte beachten Sie nach der Entlassung aus der Klinik bestimmte Warnsignale, die auf Komplikationen hinweisen können. Suchen Sie umgehend ärztliche Hilfe auf, wenn eines der folgenden Symptome bei Ihnen auftritt:\\n\\n',\n",
       " 'Diese Symptome können auf Komplikationen nach dem Kaiserschnitt hindeuten und erfordern umgehend ärztliche Hilfe. Ignorieren Sie diese Warnsignale nicht, auch wenn sie erst Tage nach der Entlassung auftreten. Eine frühzeitige Behandlung kann schwerwiegende Folgen vermeiden.\\n\\nFieber über 38\\u202f°C,\\nzunehmende oder anhaltende Schmerzen im Unterbauch,\\nRötung, Schwellung oder Schmerzen im Bereich des Bauchschnitts,\\nBlutungen, die stärker sind als der normale Wochenfluss,\\nplötzliches Ausbleiben oder abruptes Ende des Wochenflusses,\\nSchwellung, Rötung oder Schmerzen in einem Bein,\\nAtemnot oder plötzliche Kurzatmigkeit.\\n\\n',\n",
       " 'Dieser Abschnitt warnt vor möglichen Komplikationen, die auch nach der Entlassung aus dem Krankenhaus auftreten können. Es ist wichtig, bei Anzeichen wie Fieber, starke Schmerzen oder ungewöhnliche Blutungen umgehend ärztliche Hilfe in Anspruch zu nehmen. Eine frühzeitige Diagnose und Behandlung können schwerwiegende Folgen vermeiden.\\n\\nAuch wenn diese Beschwerden erst einige Tage nach der Entlassung auftreten, sollten sie nicht unbeachtet bleiben. Wenden Sie sich in diesen Fällen bitte umgehend an Ihre behandelnde Klinik oder Ihre gynäkologische Praxis.\\n\\n',\n",
       " 'Nach dem Kaiserschnitt ist eine professionelle Betreuung durch eine Hebamme und eine Rückbildungsgymnastik wichtig für die körperliche Erholung. Vereinbaren Sie außerdem einen Termin zur Nachuntersuchung, um die Heilung zu überprüfen und die weitere Familienplanung zu besprechen. Bei auftretenden Warnzeichen wie Fieber oder starke Schmerzen sollten Sie umgehend ärztliche Hilfe suchen.\\n\\nNachsorge und Rückbildung:\\n\\n',\n",
       " 'Nach dem Kaiserschnitt ist eine gute Nachsorge wichtig, um die körperliche Erholung zu unterstützen und mögliche Komplikationen frühzeitig zu erkennen. Eine Hebamme kann bei der Pflege und Erholung helfen, und Rückbildungsgymnastik stärkt die Muskulatur. Vergessen Sie nicht die vereinbarte Nachuntersuchung, um Ihre Gesundheit und mögliche weitere Familienplanung zu besprechen.\\n\\nOrganisieren Sie frühzeitig die Betreuung durch eine Hebamme. Sie unterstützt Sie bei der körperlichen Erholung, dem Stillen und der Pflege des Neugeborenen.\\nFühren Sie in angemessenem zeitlichem Abstand zur Geburt eine Rückbildungsgymnastik durch. Diese stärkt Ihre Bauch- und Beckenbodenmuskulatur und fördert die Heilung.\\nNehmen Sie den vereinbarten Termin zur Nachuntersuchung wahr. Bei diesem Gespräch kann auch eine eventuelle weitere Familienplanung besprochen werden.',\n",
       " 'Die Klinik bietet eine moderne Geburtshilfe in Berlin-Köpenick und bietet eine Vielzahl von Schmerzlinderungsoptionen, von Akupunktur bis zur PDA.  Die Klinik legt Wert auf eine familienorientierte Betreuung und individuelle Wünsche der Gebärenden.  Die Klinikadresse lautet Salvador-Allende-Straße 2–8, 12559 Berlin.\\n\\nDie Klinik für Geburtshilfe in den DRK Kliniken Berlin Köpenick bietet werdenden Eltern eine sichere und familienorientierte Geburtshilfe in modernem Ambiente. In hellen Familienappartements und wohnlich eingerichteten Kreißsälen – ausgestattet mit modernen Gebärbetten und einer Gebärwanne – herrscht eine entspannte Atmosphäre. Das Team aus erfahrenen Ärzt*innen, Hebammen und Pflegekräften begleitet die Gebärenden einfühlsam und stellt ihr Wohlergehen und ihre Wünsche in den Mittelpunkt. Dank einer Vielzahl von Möglichkeiten zur Unterstützung der Geburt und Schmerzlinderung – von Akupunktur und Homöopathie über Lachgas und andere Schmerzmedikationen bis hin zur Periduralanästhesie (PDA) – kann auf individuelle Bedürfnisse eingegangen werden. „Alternative Geburtshilfe und sichere Geburtsmedizin können sich ergänzen“, lautet das Motto der Abteilung, die eine moderne Geburtshilfe direkt in Ihrer Wohnortnähe in Berlin-Köpenick anbietet.\\n\\n',\n",
       " 'Die Klinik bietet eine breite Palette an Gebärhilfen und Positionen, um eine angenehme und individuelle Geburtserfahrung zu ermöglichen.  Sollte ein Kaiserschnitt notwendig werden, steht ein Operationssaal direkt neben den Kreißsälen bereit, um eine schnelle Versorgung zu gewährleisten. Familienappartements bieten zudem einen Rückzugsort während der Eröffnungswehen.\\n\\nFamilienfreundliche Ausstattung: Die Geburt findet in wohnlicher Umgebung statt. Es stehen zwei Einzelkreißsäle für die Entbindung bereit, daneben gemütliche Familienappartements für die Phase der Eröffnungswehen sowie ein eigenes Wohlfühl-Badezimmer („Wellnessbad“) zum Entspannen. Die Kreißsäle sind mit allen gängigen Gebärhilfen ausgestattet, darunter eine große Gebärwanne für Wassergeburten, ein Gebärhocker, eine Sprossenwand, ein Seil und sogar ein spezielles rundes „Gebärwiesen“-Bett. Diese Vielfalt ermöglicht es der Gebärenden, frei die angenehmste Geburtsposition zu wählen. Für eventuelle Kaiserschnitte gibt es einen Operationssaal direkt neben den Kreißsälen, um im Notfall keine Zeit zu verlieren.\\n\\n',\n",
       " 'Eine PDA (Periduralanästhesie) ist eine Schmerzblockade, die in den Rücken gelegt wird und starke Wehenschmerzen lindern kann.  Vor der Entbindung kann eine Aufklärungssprechstunde dazu wahrgenommen werden, um sich vorzubereiten.  Die Anästhesistin ist rund um die Uhr verfügbar.\\n\\nVielfältige Schmerzlinderungsangebote: Jede Frau empfindet die Geburt anders – entsprechend bietet die Klinik ein breites Spektrum an Methoden zur Schmerzerleichterung an. Nicht-medikamentöse Methoden wie Akupunktur und Homöopathie können unter der Geburt eingesetzt werden. Zusätzlich steht Lachgas zur Entspannung zur Verfügung und es können bei Bedarf Schmerzmittel (als Zäpfchen oder Injektion) verabreicht werden. Rund um die Uhr ist eine Anästhesistin anwesend, sodass jederzeit eine PDA gelegt werden kann, um starke Wehenschmerzen effektiv zu lindern. Auf Wunsch kann sogar schon vor der Entbindung eine Aufklärung zur PDA in einer Anästhesie-Sprechstunde erfolgen, damit im Bedarfsfall alles vorbereitet ist.\\n\\n',\n",
       " 'Die \"Misgav-Ladach-Technik\" ist eine spezielle Methode für Kaiserschnitte, bei der versucht wird, die Mutter wach zu halten und den Schnitt so schonend wie möglich durchzuführen. Dies ermöglicht direkten Hautkontakt zwischen Mutter und Kind unmittelbar nach der Geburt und unterstützt die Wochenbettpflege.\\n\\nSanfte Kaiserschnitt-Methoden: Sollte ein Kaiserschnitt nötig sein – ob ungeplant unter der Geburt oder als geplanter Eingriff bei bestimmten Risiken – wird dieser schonend und familienorientiert durchgeführt. Die Abteilung wendet die schonende Kaiserschnitt-Technik nach Misgav-Ladach an. In der Regel wird eine rückenmarksnahe Betäubung (Spinalanästhesie/PDA) bevorzugt, so dass die Mutter wach bleiben und direkt Kontakt zu ihrem Kind haben kann. Eine vertraute Begleitperson (z.\\u202fB. der Partner) darf während der Operation anwesend sein. Unmittelbar nach der Geburt wird das Baby der Mutter an die Brust gelegt, um den ersten Hautkontakt und Stillbeginn wie bei einer natürlichen Geburt zu ermöglichen. Speziell nach einem Kaiserschnitt unterstützen sowohl die Kinderschwestern und Wochenbettpflegerinnen als auch Physiotherapeutinnen die Mutter mit individueller Wochenbettgymnastik, damit sie schnell wieder fit wird und ihr Neugeborenes selbst versorgen kann.\\n\\n',\n",
       " 'Auf der Wochenbettstation 4B gibt es gemütliche Zimmer, die als Familienzimmer genutzt werden können, sodass ein Partner übernachten kann. Ein besonderes Highlight ist das Themenzimmer \"Eiserne Knirpsenkabine\" in Kooperation mit dem 1. FC Union Berlin. Außerdem werden professionelle Babyfotos angeboten.\\n\\nIntegrative Wochenbettpflege & Familienzimmer: Mutter und Neugeborenes werden auf Station gemeinsam als Einheit betreut (Rooming-in-Prinzip). Es gibt gemütliche Ein- und Zweibettzimmer, auf Wunsch als Familienzimmer nutzbar, damit eine Begleitperson (z.\\u202fB. der Partner) mit übernachten kann. Insgesamt stehen vier Familienzimmer zur Verfügung, darunter als Besonderheit das in Kooperation mit dem 1.\\u202fFC Union Berlin gestaltete Themenzimmer „Eiserne Knirpsenkabine“. Professionelle Neugeborenenfotografie wird ebenfalls angeboten: Auf Wunsch werden Babyfotos gemacht und in einer Online-Babygalerie veröffentlicht. Für größere Besuchergruppen gibt es auf Station sogar ein separates Besucherzimmer, um die frischgebackene Familie nicht im Patientenzimmer zu stören.\\n\\n',\n",
       " 'Auf der Wochenbettstation gibt es ein separates Stillzimmer für ruhige Stillmomente und Unterstützung durch Stillberaterinnen. Das Team bietet zudem umfassende Beratung zu Ernährung und Pflege des Babys sowie tägliche Rückbildungsübungen für die Mutter.\\n\\nUmfassende Betreuung und Stillberatung: Auf der Wochenbettstation steht den Eltern ein multidisziplinäres Team beratend zur Seite – neben Hebammen und Krankenschwestern auch Physiotherapeuten, Psychologen und Ernährungsberater. Speziell beim Stillen werden Wöchnerinnen aktiv unterstützt: Stillberaterinnen und Schwestern helfen bei allen Fragen rund ums Stillen und die Neugeborenenpflege. Es gibt ein separates Stillzimmer als ruhigen Rückzugsort zum Stillen in entspannter Atmosphäre. Durch Anleitung in Ernährung und Pflege des Babys („Rooming-in“) gewinnen Eltern Sicherheit im Umgang mit ihrem Kind. Außerdem bieten die Physiotherapeut*innen tägliche Rückbildungsübungen an, um die Muskulatur nach der Entbindung zu stärken und z.\\u202fB. einer Gebärmuttersenkung vorzubeugen.\\n\\n',\n",
       " 'Sollte ein Neugeborenes intensivere medizinische Hilfe benötigen, wird die Geburtshilfe mit der Neonatologie des Vivantes Klinikums Neukölln zusammenarbeiten. Dies stellt sicher, dass auch bei komplexen Fällen eine angemessene Versorgung gewährleistet ist.\\n\\nNeugeborenen-Versorgung: Die Gesundheit des Kindes wird von Anfang an eng überwacht. Eine Kinderärztin untersucht jedes Neugeborene (U1/U2) und gibt den Eltern Empfehlungen für die Zeit nach der Entlassung. Es werden bei allen Babys ein Neugeborenen-Hörscreening durchgeführt und – falls Risikofaktoren vorliegen – ein Hüftultraschall zum Ausschluss von Hüftdysplasien. Für Neugeborene mit Anpassungsschwierigkeiten gibt es auf Station ein spezielles Überwachungszimmer mit Monitoren. Leichte Neugeborenen-Gelbsucht wird per Fototherapie direkt auf der Wochenbettstation behandelt, damit Mutter und Kind nicht getrennt werden müssen. Falls ein Baby jedoch intensivere medizinische Hilfe benötigt, arbeitet die Geburtshilfe eng mit der Neonatologie des Vivantes Klinikums Neukölln zusammen.\\n\\n',\n",
       " 'Die Wochenbettstation bietet Familienzimmer an, in denen auch eine Begleitperson übernachten kann. Ein besonderes Highlight ist das \"Eiserne Knirpsenkabine\"-Zimmer, das im Stil des 1. FC Union Berlin gestaltet ist. Für größere Besuchergruppen steht ein separates Besucherzimmer zur Verfügung.\\n\\nIntegrative Wochenbettpflege & Familienzimmer (Fortsetzung): Mutter und Neugeborenes werden gemeinsam als Einheit betreut (Rooming-in-Prinzip). Die Station bietet gemütliche Ein- und Zweibettzimmer, auf Wunsch auch als Familienzimmer mit Übernachtungsmöglichkeit für eine Begleitperson. Insgesamt gibt es vier Familienzimmer, darunter das Union-Themenzimmer „Eiserne Knirpsenkabine“. Auch professionelle Neugeborenenfotografie ist verfügbar. Für größere Besuchergruppen gibt es ein separates Besucherzimmer.\\n\\n',\n",
       " 'Die Wochenbettstation bietet umfassende Unterstützung durch ein multidisziplinäres Team. Für stillende Mütter steht ein separates Stillzimmer zur Verfügung, und Eltern erhalten praktische Anleitungen zur Babypflege und Ernährung. Täglich werden Rückbildungsgymnastik und weitere Beratungsangebote angeboten.\\n\\nUmfassende Betreuung und Stillberatung: Auf der Wochenbettstation steht ein Team aus Hebammen, Krankenschwestern, Physiotherapeuten, Psychologen und Ernährungsberatern zur Verfügung. Beim Stillen helfen speziell ausgebildete Stillberaterinnen. Es gibt ein separates Stillzimmer zum Rückzug. Eltern werden im Umgang mit dem Baby geschult – etwa beim Wickeln, Baden oder bei Fragen zur Ernährung. Rückbildungsgymnastik wird täglich angeboten, um den Körper zu stärken.\\n\\n',\n",
       " 'Die Klinik arbeitet bei Bedarf mit der Neonatologie des Vivantes Klinikums Neukölln zusammen, um eine umfassende Versorgung auch bei komplexen Fällen zu gewährleisten. Sollte Ihr Baby eine intensivere medizinische Betreuung benötigen, wird es dorthin verlegt. Dies stellt sicher, dass Ihr Kind die bestmögliche Versorgung erhält.\\n\\nNeugeborenen-Versorgung: Jedes Neugeborene wird unmittelbar nach der Geburt ärztlich untersucht (U1 und U2). Es gibt ein Hörscreening und bei Bedarf auch einen Hüftultraschall. Babys mit Anpassungsschwierigkeiten können im Überwachungszimmer betreut werden. Leichte Gelbsucht wird mit Fototherapie behandelt. Sollte eine intensivere Betreuung nötig sein, erfolgt eine Zusammenarbeit mit der Neonatologie des Vivantes Klinikums Neukölln.\\n\\n',\n",
       " 'Der Sozialdienst hilft bei Fragen zu Krankenversicherung und Elterngeld. Bei Ängsten oder Stimmungstiefen steht eine Psychotherapeutin für Gespräche zur Verfügung, die telefonisch vereinbart werden können. Dies soll Eltern eine zusätzliche Unterstützung bieten, um die Herausforderungen der Elternschaft zu meistern.\\n\\nSoziale und psychologische Unterstützung: Ein Sozialdienst hilft bei organisatorischen und finanziellen Fragen – etwa zur Krankenversicherung, Haushaltshilfen oder Elterngeld. Außerdem steht eine psychologische Psychotherapeutin für Gespräche zur Verfügung, falls Ängste oder Stimmungstiefs während oder nach der Geburt auftreten. Termine können telefonisch vereinbart werden.\\n\\n',\n",
       " 'Die Babylotsinnen bieten kostenlose Unterstützung für werdende und junge Eltern direkt in der Klinik an. Sie helfen bei organisatorischen Fragen, der Suche nach einer Nachsorgehebamme und anderen Herausforderungen im Elternalltag. Hausbesuche sind nicht Teil ihres Angebots.\\n\\nBabylotsinnen – Hilfen rund um die Geburt: Die Babylotsinnen Anette Schmolla und Maika Kaltwasser-Wundersee bieten Unterstützung bei allen Fragen rund um das Elternwerden. Sie helfen zum Beispiel bei der Suche nach einer Nachsorgehebamme, beim Ausfüllen von Anträgen oder der Organisation des Familienalltags. Das Angebot ist kostenlos und steht allen offen. Hausbesuche werden nicht angeboten, die Babylotsinnen sind direkt in der Klinik erreichbar.\\n\\n',\n",
       " 'Die Anmeldung dient dazu, wichtige Daten zu erfassen und individuelle Wünsche zu besprechen.  Die Kontaktdaten des Kreißsaals sind (030) 3035 - 3170.  Weitere Informationen zu den Angeboten und Anmeldungen finden sich auf der Klinikwebsite.\\n\\nVor der Geburt – Anmeldung und Vorbereitung: Ab der 32. Schwangerschaftswoche sollte die Anmeldung zur Geburt erfolgen, meist im Rahmen der Hebammensprechstunde. Dabei werden alle wichtigen Daten, Befunde und Wünsche (z.\\u202fB. Wassergeburt oder Familienzimmer) besprochen. Zum Termin sollten Mutterpass, Krankenversicherungskarte, ggf. Überweisungsschein und alle Schwangerschaftsbefunde mitgebracht werden. Telefonisch erreichbar ist der Kreißsaal montags bis freitags zwischen 8:30 und 13:30 Uhr. Bei Risiken oder Besonderheiten erfolgt zusätzlich eine ärztliche Geburtsplanung. Zusätzlich gibt es Geburtsvorbereitungskurse sowie Infoabende für werdende Eltern.\\n\\n',\n",
       " 'Der Kreißsaal befindet sich im 7. Stock des Bettenhochhauses (Haus 1) und ist als kleines, persönliches „Kreißsaalhotel“ konzipiert. Es gibt zwei moderne Einzelkreißsäle und wohnlich eingerichtete Familien-Apartments für die Eröffnungswehen. Bei Komplikationen steht ein eigener Operationssaal direkt nebenan zur Verfügung.\\n\\nWährend der Geburt – Entbindung im Kreißsaal: Bei Geburtsbeginn (Wehen oder Blasensprung) geht es in den Kreißsaal in der 7. Etage des Bettenhauses – rund um die Uhr geöffnet. Hebamme und Ärztin/Arzt begrüßen Sie, beziehen Ihre Begleitperson ein und begleiten individuell durch die Geburt. Die Gebärposition kann frei gewählt werden – vom Entspannungsbad bis zum Gebärhocker. Es wird 1:1 betreut. Schmerzmittel oder PDA stehen jederzeit zur Verfügung. Für Komplikationen ist alles vorbereitet: OP direkt nebenan, Anästhesie- und Kinderärzt*innen sind immer verfügbar. Nach der Geburt findet sofort Bonding statt – das Kind kommt auf die Brust, es wird gestillt, und Mutter sowie Kind bleiben für die erste Zeit im Kreißsaal zur Beobachtung.\\n\\n',\n",
       " 'Nach der Entbindung geht es auf die Wochenbettstation 4B, wo Mutter und Kind gemeinsam betreut werden. Die durchschnittliche Aufenthaltsdauer beträgt 2 bis 3 Tage, wobei Kaiserschnitte etwas länger dauern können.  Dort finden Stillberatungen und Untersuchungen des Neugeborenen statt, und es werden Informationen für die weitere Betreuung gegeben.\\n\\nNach der Geburt – Wochenbett im Krankenhaus und zu Hause: Danach geht es auf die Wochenbettstation 4B. Die Aufenthaltsdauer beträgt meist 2 bis 3 Tage (bei Kaiserschnitt etwas länger). Dort wird die junge Familie durch ein Team aus Pflege, Hebammen und Ärzten unterstützt. Rooming-in ist Standard, sodass das Baby stets bei den Eltern bleibt. Es finden Stillberatungen, Rückbildungsgymnastik und Neugeborenenuntersuchungen (z.\\u202fB. U2, Hörtest) statt. Vor der Entlassung gibt es alle nötigen Unterlagen und Hinweise zur weiteren Betreuung. Danach übernimmt idealerweise eine Hebamme die Nachsorge zu Hause – sie kontrolliert Rückbildung, hilft beim Stillen und betreut das Neugeborene. Wer keine Hebamme findet, bekommt Unterstützung durch die Babylotsinnen. Auch die Anmeldung beim Kinderarzt für die U3 sollte frühzeitig erfolgen.\\n\\n',\n",
       " 'Eine ambulante Geburt ermöglicht es Mutter und Kind, die Klinik kurz nach der Entbindung zu verlassen, sofern beide gesund sind und eine adäquate Nachsorge gewährleistet ist. Dies erfordert eine gute Vorbereitung und die Sicherstellung einer Betreuung durch eine Hebamme und einen Kinderarzt. Die Entscheidung für eine ambulante Geburt sollte in Absprache mit dem medizinischen Team getroffen werden.\\n\\n\\nTipp: Eine ambulante Geburt ist möglich. Dabei verlässt man die Klinik zwischen 4 und 24 Stunden nach der Geburt – vorausgesetzt, Mutter und Kind sind gesund und die Betreuung durch Hebamme und Kinderarzt ist gesichert.\\n\\n',\n",
       " 'Der Kreißsaal befindet sich im 7. Stock des Bettenhochhauses (Haus 1) und ist als kleines, persönliches \"Kreißsaalhotel\" konzipiert.  Dort finden vergleichsweise wenige Geburten statt, was eine persönliche Betreuung ermöglicht und meist eine exklusive Betreuung durch eine Hebamme gewährleistet.  Der Zugang zum Kreißsaal ist rund um die Uhr geöffnet.\\n\\nDer Kreißsaal befindet sich im 7. Stock des Bettenhochhauses (Haus 1) und ist als kleines, persönliches „Kreißsaalhotel“ konzipiert. Es finden vergleichsweise wenige Geburten statt, was eine persönliche Betreuung ermöglicht. Meist begleitet eine Hebamme exklusiv eine Gebärende.\\n\\n',\n",
       " 'Diese Räume bieten eine entspannte Atmosphäre und ermöglichen eine individuelle Vorbereitung auf die Geburt. Familien-Apartments dienen als Rückzugsort während der frühen Wehenphase und bieten Komfort für werdende Eltern. Das Entspannungsbad ist eine beliebte Option für Entspannung oder Wassergeburt.\\n\\nZur Ausstattung gehören zwei moderne Einzelkreißsäle für die eigentliche Geburt und zusätzlich wohnlich eingerichtete Familien-Apartments. Diese dienen dem Rückzug während der frühen Eröffnungsphase. Besonders beliebt ist das große Entspannungsbad – geeignet zur Entspannung oder auch für Wassergeburten.\\n\\n',\n",
       " 'Die Klinik bietet eine Vielzahl an Gebärpositionen und Hilfsmittel wie verstellbare Betten, Gebärhocker und Sprossenwände, um eine individuelle und komfortable Entbindung zu ermöglichen.  Dies trägt zu einer entspannten Atmosphäre und einer selbstbestimmten Geburtserfahrung bei.  Die Räume sind flexibel gestaltet, um den Bedürfnissen der Gebärenden gerecht zu werden.\\n\\nAlle Entbindungsräume bieten flexible Gebärhilfen wie verstellbare Betten, Gebärhocker, Seile, Sprossenwand etc. Die Gebärposition kann individuell gewählt werden.\\n\\n',\n",
       " 'Bei einem Kaiserschnitt können Mutter und Kind so schnell wie möglich versorgt werden, da der Operationssaal direkt an den Kreißsaal angrenzt. Ein Team aus Ärzten und Anästhesisten steht rund um die Uhr bereit, um im Notfall schnell handeln zu können. Dies ermöglicht eine zeitnahe Versorgung und minimiert mögliche Risiken.\\n\\nFür Notfälle steht direkt nebenan ein eigener OP-Saal zur Verfügung, sodass im Fall eines Kaiserschnitts keine Zeit verloren geht. Ärzteteam und Anästhesie sind rund um die Uhr einsatzbereit. So kann jederzeit schnell reagiert werden – etwa mit einer PDA oder einem Kaiserschnitt.\\n\\n',\n",
       " 'Nach der Geburt bleibt die Familie zur Überwachung noch eine Zeit im Kreißsaal, bevor die Verlegung auf die Wochenbettstation erfolgt. Dies ermöglicht eine erste Bindungsphase und Beobachtung von Mutter und Kind. Die Station befindet sich in Haus 5.1, Ebene 4.\\n\\nIm Kreißsaal arbeiten Hebammen, Frauenärztinnen, Anästhesistinnen und die Kinderklinik eng zusammen. Direkt nach der Geburt bleibt die Familie zur Überwachung noch einige Zeit im Kreißsaal. Anschließend erfolgt die Verlegung auf die Wochenbettstation.\\n\\n',\n",
       " 'Dies beschreibt den \"Hebammenkreißsaal\", eine Erweiterung des Angebots der Klinik, in dem Frauen mit unauffälliger Schwangerschaft ausschließlich von Hebammen betreut werden. Er ist in den regulären Kreißsaal integriert und bietet eine individuelle, natürliche und bedürfnisorientierte Betreuung. Eine Überleitung in den regulären Kreißsaal ist jederzeit möglich.\\n\\nWas bei uns im „Kreißsaalhotel“ schon immer gelebt wurde, findet nun auch den Weg in die Öffentlichkeit. Eine natürliche und selbstbestimmte Geburt in einer sicheren Umgebung mit kontinuierlicher 1:1 Betreuung. Das Zentrum der Betreuung stellt eine individuelle, interventionsarme und bedürfnisorientierte Betreuung dar.\\n\\n',\n",
       " 'Der hebammengeleitete Kreißsaal bietet Frauen mit unkomplizierten Schwangerschaften eine Betreuung ausschließlich durch Hebammen in einem integrierten Kreißsaal. Er ist eine Erweiterung des bestehenden Angebots und ermöglicht eine natürliche Geburt unter kontinuierlicher Betreuung. Eine Überleitung in den interdisziplinären Kreißsaal ist bei Bedarf jederzeit möglich.\\n\\nAls Erweiterung unseres schon bestehenden geburtshilflichen Angebots gibt es den hebammengeleiteten Kreißsaal. Hier werden alle Frauen mit einer unauffälligen Schwangerschaft ohne zu erwartende Risiken für die Geburt ausschließlich durch Hebammen betreut. Der Hebammenkreißsaal ist dabei integriert in den interdisziplinären Kreißsaal, wo sich Hebammen und Ärzte gemeinsam um das Wohl ihrer großen und kleinen Patienten kümmern.\\n\\n',\n",
       " 'Der Hebammenkreißsaal bietet eine natürliche und selbstbestimmte Geburt in einer sicheren Umgebung mit kontinuierlicher 1:1 Betreuung durch Hebammen. Die Teilnahme erfordert eine komplikationslose Schwangerschaft und einen spontanen Geburtsbeginn, eine Überleitung in den interdisziplinären Kreißsaal ist jederzeit möglich. Die Vorgespräche dienen der individuellen Beratung und Planung der Geburt.\\n\\nFür Frauen, die sich für den Hebammenkreißsaal entscheiden, finden zwei Vorgespräche durch das Hebammenteam statt. In diesen Gesprächen gehen die Hebammen auf Wünsche und Vorstellungen ein und beraten zu allen Themen. Eine Überleitung vom Hebammenkreißsaal In den interdisziplinären Kreißsaal ist auf Wunsch oder aus medizinischer Notwendigkeit heraus jederzeit schnell und unkompliziert möglich. Dabei ändert sich nichts an den Räumlichkeiten oder der betreuenden Hebamme.\\n\\n',\n",
       " 'Dies bezieht sich auf die Möglichkeit, den Hebammenkreißsaal zu nutzen. Die Teilnahme erfordert eine komplikationslose Schwangerschaft, einen spontanen Geburtsbeginn und einen unkomplizierten Geburtsverlauf. Eine Überleitung in den interdisziplinären Kreißsaal ist jederzeit möglich.\\n\\nWelche Voraussetzungen müssen erfüllt sein?\\n\\n',\n",
       " 'Dies sind die Voraussetzungen für die Teilnahme am hebammengeleiteten Kreißsaal, einer Option für Frauen mit unkomplizierten Schwangerschaften, die eine natürliche Geburt wünschen. Die Betreuung erfolgt durch Hebammen und beinhaltet verschiedene Entspannungsmethoden und ist jederzeit mit dem interdisziplinären Kreißsaal verbindbar. Eine Liste mit Kontaktdaten und weitere Informationen sind auf der Klinikwebsite verfügbar.\\n\\nkomplikationslose Schwangerschaft einer gesunden, werdenden Mutter und einem zu erwartenden gesunden Baby mit dem Wunsch, eine natürliche Geburt zu erleben\\nein spontaner Geburtsbeginn zwischen der 37+0 und der 41+3 SSW\\nein unkomplizierter Geburtsverlauf und eine problemlose Periode der Nachgeburt\\n\\n',\n",
       " 'Der Hebammenkreißsaal bietet eine individuelle und natürliche Geburtsumgebung mit kontinuierlicher Betreuung durch eine Hebamme. Bei Bedarf kann jederzeit eine ärztliche Konsultation hinzugezogen werden, und eine ambulante Entlassung ist nach physiologischer Geburt möglich. Die Teilnahme erfordert bestimmte Voraussetzungen und zwei Vorgespräche mit dem Hebammenteam.\\n\\nWie läuft die Betreuung im Hebammenkreißsaal ab?\\nNach den zwei individuellen Beratungsgesprächen zwischen der 36+0 und der 40+0 SSW durch das Hebammenteam erfolgt dann die kontinuierliche Betreuung durch eine Hebamme. Während der Geburt stehen Homöopathie, Akupunktur, Aromatherapie, Massagen, Entspannungsbad, TENS-Geräte oder Lachgas zur Verfügung. In der Endphase der Geburt kommt eine zweite Hebamme dazu. Auf Wunsch ist jederzeit eine ärztliche Konsultation durch die betreuende Hebamme möglich. Nach einem physiologischem Geburtsverlauf kann die ambulante Entlassung nach 4 – 6 Stunden erfolgen. Sollte das aus medizinischen Gründen nicht möglich oder auch nicht gewünscht sein, geht es nach einer ersten Kennenlernphase auf die Wochenbettstation. Dort erfolgt die Betreuung durch das erfahrene Personal vor Ort. Es gibt zusätzlich eine tägliche Visite und die Entlassung durch das Hebammenteam.\\n\\n',\n",
       " 'Die Wochenbettstation 4B bietet Zimmer mit Bad an, die als Familienzimmer genutzt werden können. Ein besonderes Highlight ist das \"Eiserne Knirpsenkabine\", ein Fan-Zimmer des 1. FC Union Berlin. Familienzimmer kosten 95 Euro pro Nacht inklusive Verpflegung.\\n\\nAuf der Wochenbettstation 4B werden Mutter und Kind rund um die Uhr gemeinsam betreut. Das Konzept der integrativen Wochenbettpflege bedeutet, dass Mutter und Baby immer zusammenbleiben. Es stehen Ein- und Zweibettzimmer mit eigenem Bad zur Verfügung, die auf Wunsch als Familienzimmer genutzt werden können. Insgesamt gibt es vier Familienzimmer, darunter die „Eiserne Knirpsenkabine“, ein Fan-Zimmer im Stil des 1. FC Union Berlin.\\n\\n',\n",
       " 'Die Wochenbettstation 4B bietet Familienzimmer an, in denen auch eine Begleitperson übernachten kann.  Die Kosten für eine Begleitperson betragen 95 Euro pro Nacht und beinhalten Verpflegung. Für größere Besuchergruppen steht ein separates Besucherzimmer zur Verfügung.\\n\\nDie Unterbringung einer Begleitperson im Familienzimmer ist möglich, kostet 95 Euro pro Nacht (inklusive Verpflegung). Für größere Besuchergruppen gibt es ein separates Besucherzimmer.\\n\\n',\n",
       " 'Die Kinderärztin führt die ersten Untersuchungen (U1 und U2) durch und gibt Empfehlungen für die weitere Betreuung des Babys. Diese Untersuchungen umfassen typischerweise einen Hörtest, Stoffwechseltests und bei Bedarf einen Hüftultraschall. Die Ergebnisse werden den Eltern erläutert und für die weitere Betreuung dokumentiert.\\n\\nDas Team besteht aus Kinderkrankenschwestern, Hebammen, Ärzt*innen der Frauenklinik sowie einer Kinderärztin. Täglich findet eine Visite statt, bei der Rückbildung, Wundheilung und das Gedeihen des Babys überprüft werden. Die Kinderärztin führt die ersten Untersuchungen durch, zum Beispiel Hörtest, Stoffwechseltest und bei Bedarf Hüftultraschall.\\n\\n',\n",
       " 'Die Klinik bietet eine umfassende Stillberatung durch speziell ausgebildete Schwestern und Stillberaterinnen. Für eine entspannte Atmosphäre steht ein separates Stillzimmer zur Verfügung, das als Rückzugsort genutzt werden kann. Bei Bedarf werden auch alternative Fütterungsmethoden wie die Flaschenfütterung unterstützt.\\n\\nHebammen und Schwestern bieten intensive Stillberatung an. Bereits am ersten Tag wird das richtige Anlegen des Babys gezeigt. Stillprobleme werden gemeinsam gelöst. Dafür gibt es auch ein spezielles Stillzimmer als Rückzugsort. Eltern erhalten Unterstützung beim Baden, Wickeln und Pflegen des Kindes. Auch Flaschenfütterung wird bei Bedarf begleitet.\\n\\n',\n",
       " 'Die Entlassung aus der Klinik erfolgt nicht mit einer Geburtsurkunde, da diese beim Standesamt Treptow-Köpenick beantragt werden muss. Vor der Entlassung werden wichtige organisatorische Punkte wie Vitamin-K-Gabe, nächste Kinderuntersuchung und Anmeldung beim Standesamt besprochen. Die Aufenthaltsdauer kann individuell angepasst werden, beträgt aber üblicherweise 2 bis 4 Tage.\\n\\nDie durchschnittliche Aufenthaltsdauer beträgt 2 bis 4 Tage, kann aber flexibel angepasst werden. Vor der Entlassung werden alle organisatorischen Punkte besprochen: Vitamin-K- und D-Gabe, nächste U-Untersuchung, Anmeldung beim Standesamt. Die Geburtsurkunde wird nicht in der Klinik ausgestellt, sondern beim Standesamt Treptow-Köpenick.\\n\\n',\n",
       " 'Nach der Entlassung aus der Klinik ist eine Nachsorgehebamme für die Betreuung zu Hause empfehlenswert. Die Klinik stellt eine Liste mit Kontaktdaten bereit, und bei Bedarf können die Babylotsinnen bei der Suche helfen. Vergessen Sie nicht, frühzeitig einen Termin für die U3-Untersuchung beim Kinderarzt zu vereinbaren.\\n\\nNach der Entlassung sollte eine Nachsorgehebamme übernehmen. Eine Liste mit Kontaktdaten liegt auf Station bereit. Wer keine Hebamme findet, wird von den Babylotsinnen unterstützt. Auch ein Termin für die U3 beim Kinderarzt sollte rechtzeitig vereinbart werden.\\n\\n',\n",
       " 'Diese Infoabende sind kostenlose Veranstaltungen, bei denen werdende Eltern das Geburtshilfe-Team kennenlernen und sich über den Ablauf der Geburt informieren können. Die Teilnahme ist online anmeldbar und findet in verschiedenen Sprachen statt. Sie bieten eine gute Möglichkeit, Fragen zu stellen und den Kreißsaal und die Station zu besichtigen.\\n\\nInfoabende für werdende Eltern: Mehrmals im Monat finden kostenlose Infoabende statt. Dabei stellt sich das Geburtshilfe-Team vor und erklärt den Ablauf rund um die Geburt. Themen wie Schmerzlinderung, Stillen, Pflege und organisatorische Fragen werden behandelt. Teilnehmer können Fragen stellen und den Kreißsaal sowie die Station besichtigen. Die Veranstaltungen beginnen um 18:00 Uhr im Speisesaal und finden auch in englischer, spanischer oder russischer Sprache statt. Eine Online-Anmeldung ist erforderlich.\\n\\n',\n",
       " 'Die Klinik bietet verschiedene Geburtsvorbereitungskurse an, die Informationen zum Geburtsverlauf, Atemtechniken und Tipps für die Zeit nach der Geburt vermitteln. Die Kosten werden oft von der Krankenkasse übernommen, für Partner kann ein kleiner Eigenanteil entstehen. Eine Anmeldung erfolgt online über die Klinikwebsite.\\n\\nGeburtsvorbereitungskurse: Diese Kurse werden von erfahrenen Hebammen geleitet, teilweise in Zusammenarbeit mit freiberuflichen Kolleginnen. Inhalte sind Informationen zum Geburtsverlauf, Atem- und Entspannungstechniken, Körperübungen und Tipps für die erste Zeit mit Baby. Die Kosten werden in der Regel von der Krankenkasse übernommen. Für Partner kann ein kleiner Eigenanteil anfallen. Es gibt Abendkurse, Wochenend-Kompaktkurse und auch spezielle Formate wie HypnoBirthing mit Sabine Kohlhause. Anmeldung erfolgt online über die Klinikwebsite.\\n\\n',\n",
       " 'Diese Kurse helfen, Beckenboden und Bauchmuskulatur nach der Entbindung zu stärken. Sie werden von Hebammen oder Physiotherapeutinnen geleitet und können oft von der Krankenkasse bezuschusst werden. Eine Anmeldung ist erforderlich, und es gibt auch Kurse, bei denen Babys teilnehmen können.\\n\\nRückbildungskurse: Nach der Geburt helfen diese Kurse, Beckenboden und Bauchmuskulatur zu stärken. Sie finden meist im Haus statt und werden von bekannten Hebammen oder Physiotherapeutinnen geleitet. Eine Anmeldung ist notwendig. Viele Kurse werden von der Krankenkasse übernommen, bei späterer Teilnahme kann ein Eigenanteil entstehen. Es gibt auch Angebote mit Babybeteiligung.\\n\\n',\n",
       " 'Die Hebammensprechstunde bietet eine Möglichkeit für CTG-Kontrollen, Akupunktur und Beratung zu Beschwerden während der Schwangerschaft. Sie dient auch der Anmeldung zur Geburt und bietet Unterstützung bei verschiedenen Anliegen. Termine können über den Kreißsaal vereinbart werden.\\n\\nHebammensprechstunde (Schwangerenambulanz): In dieser Sprechstunde werden CTG-Kontrollen, geburtsvorbereitende Akupunktur oder Hilfe bei Beschwerden angeboten. Frauen können sich hier auch zur Geburt anmelden. Bei Problemen wie Rückenschmerzen wird Kinesio-Taping angeboten. Außerdem gibt es Unterstützung bei Ernährungsfragen oder sozialen Anliegen. Termine werden über den Kreißsaal vereinbart.\\n\\n',\n",
       " 'Bei Risikoschwangerschaften, wie etwa bei Zwillingen oder Beckenendlage, kann eine Geburtsplanungssprechstunde sinnvoll sein. In Köpenick besteht bei Beckenendlage die Möglichkeit einer äußeren Wendung. Termine für diese Sprechstunden werden über das Sekretariat vereinbart.\\n\\nÄrztliche Sprechstunden: Neben der Hebammensprechstunde gibt es ärztliche Angebote wie die Geburtsplanungssprechstunde, etwa bei Zwillingen, Beckenendlage oder Risikoschwangerschaften. In Köpenick wird bei Beckenendlage auf Wunsch auch eine äußere Wendung durchgeführt. Termine werden über das Sekretariat vereinbart.\\n\\n',\n",
       " 'Nach der Entlassung aus der Klinik ist eine Nachsorgehebamme für die Betreuung zu Hause hilfreich. Die Klinik stellt eine Liste mit Kontaktdaten bereit, und bei Bedarf helfen die Babylotsinnen bei der Suche. Vergessen Sie nicht, frühzeitig einen Termin für die U3 beim Kinderarzt zu vereinbaren.\\n\\nWochenbettbetreuung und Nachsorge: Nach der Entlassung haben Mütter Anspruch auf Hebammenbetreuung zuhause. Eine Liste mit Kontaktdaten liegt auf Station aus. Die Nachsorgehebamme hilft bei Rückbildung, Stillen, Gewichtskontrollen und Fragen zur Babypflege. Falls keine Hebamme gefunden wird, helfen die Babylotsinnen bei der Vermittlung. Auch Termine für die U3 beim Kinderarzt sollten frühzeitig gemacht werden.\\n\\n',\n",
       " 'Dr. med. Rainer Wieth ist der Chefarzt der Klinik für Gynäkologie und Geburtshilfe der DRK Kliniken Berlin Köpenick. Bei administrativen Fragen oder zur Kontaktaufnahme kann das Sekretariat unter der angegebenen Telefonnummer erreicht werden, wobei Britta Will als Ansprechpartnerin zur Verfügung steht.  Die Telefonnummer ist eine zentrale Anlaufstelle für allgemeine Anliegen und organisatorische Fragen rund um die Geburtshilfe.\\n\\nLeitender Arzt: Dr. med. Rainer Wieth, Chefarzt der Klinik für Gynäkologie und Geburtshilfe. Kontakt über das Sekretariat unter der Telefonnummer (030) 3035 - 3326 (Ansprechpartnerin: Britta Will). Hier können administrative Fragen geklärt werden.\\n\\n',\n",
       " 'Carmen Wolf ist die Leitende Hebamme und Abteilungsleiterin des Kreißsaals. Bei Fragen rund um die Geburt, zur Anmeldung oder zur Koordination von Terminen für die Hebammensprechstunde ist sie unter der Nummer (030) 3035 - 3170 erreichbar. Diese Nummer ist rund um die Uhr besetzt.\\n\\nKreißsaal: Abteilungsleitung Carmen Wolf (Leitende Hebamme), erreichbar unter (030) 3035 - 3170. Diese Nummer ist rund um die Uhr erreichbar – für die Geburtsanmeldung, Fragen bei Wehenbeginn oder zur Geburtsplanung. Auch Termine für die Hebammensprechstunde werden hier koordiniert.\\n\\n',\n",
       " 'Die Wochenbettstation 4B ist für Rückfragen nach der Entbindung und Anliegen während des Aufenthalts die richtige Anlaufstelle. Die Leitung hat Franziska Schnuppe, erreichbar unter der Nummer (030) 3035 - 3240. Hier werden Fragen zur Betreuung, Unterbringung oder anderen Bedürfnissen während des Aufenthalts geklärt.\\n\\nWochenbettstation 4B: Leitung Franziska Schnuppe (Stationsleitung), erreichbar unter (030) 3035 - 3240. Diese Nummer ist relevant für Rückfragen nach der Entbindung oder für Anliegen während des Aufenthalts.\\n\\n',\n",
       " 'Die Klinik befindet sich in Berlin-Köpenick und ist mit Bus, Straßenbahn und S-Bahn gut erreichbar. Der Haupteingang für Patienten liegt am Müggelschlößchenweg. Parkplätze sind auf dem Klinikgelände vorhanden, wobei die erste halbe Stunde kostenlos ist.\\n\\nAdresse der Klinik: DRK Kliniken Berlin Köpenick – Klinik für Geburtshilfe, Salvador-Allende-Straße 2–8, 12559 Berlin. Der Haupteingang befindet sich am Müggelschlößchenweg.\\n\\n',\n",
       " 'Das Kontaktformular auf der Klinikwebsite ist eine Möglichkeit, schriftlich mit der Klinik in Kontakt zu treten. Die Antwort erfolgt in der Regel innerhalb eines Werktages per E-Mail oder telefonisch. Dieses Formular ist eine gute Option, wenn man keine Eile hat oder eine schriftliche Dokumentation des Anliegens wünscht.\\n\\nKontaktformular: Wer lieber schriftlich kommuniziert, kann das Kontaktformular auf der Website der Klinik nutzen. Die Antwort erfolgt werktags per E-Mail oder Rückruf.\\n\\n',\n",
       " 'Die Anmeldung erfolgt telefonisch unter der angegebenen Nummer. Dabei werden wichtige Daten besprochen und eine persönliche Planung ermöglicht. Für Risikoschwangerschaften wird zusätzlich ein Termin in der ärztlichen Geburtsplanung empfohlen.\\n\\n\\nDie Anmeldung zur Geburt sollte idealerweise ab der 32. Schwangerschaftswoche erfolgen, um eine persönliche Planung zu ermöglichen. Terminvereinbarung ist telefonisch möglich unter (030) 3035 - 3170, montags bis freitags von 8:30 bis 13:30 Uhr.\\n\\n',\n",
       " 'Diese Anmeldung erfolgt idealerweise ab der 32. Schwangerschaftswoche und kann telefonisch unter (030) 3035 - 3170 vereinbart werden.  Dabei werden individuelle Wünsche besprochen und eine Führung durch den Kreißsaal ermöglicht.  Bei Risikoschwangerschaften ist zusätzlich eine ärztliche Geburtsplanung empfehlenswert.\\n\\nDie Anmeldung findet meist in der Hebammensprechstunde statt und beinhaltet ein ausführliches Gespräch sowie die Anlage der Patientenakte. Mitzubringen sind: Mutterpass, Krankenversichertenkarte, Personalausweis, ggf. Einweisung oder Überweisung, sowie alle relevanten Schwangerschaftsbefunde.\\n\\n',\n",
       " 'Hier werden individuelle Wünsche wie die bevorzugte Gebärposition, Schmerzmittel oder ein Familienzimmer besprochen. Bei Risikoschwangerschaften, wie beispielsweise bei Zwillingen oder Beckenendlage, ist zusätzlich ein Termin zur Geburtsplanung erforderlich. Dies ermöglicht eine individuelle Vorbereitung auf die Geburt.\\n\\nIn diesem Gespräch können auch individuelle Wünsche (z. B. Gebärposition, Schmerzmittel, Familienzimmer) besprochen werden. Meist ist auch eine Führung durch den Kreißsaal möglich. Bei Risikoschwangerschaften (z. B. Zwillinge, Beckenendlage, Schwangerschaftsdiabetes) wird zusätzlich ein Termin in der ärztlichen Geburtsplanung empfohlen.\\n\\n',\n",
       " 'Dies bedeutet, dass Sie sich nicht erneut anmelden müssen, wenn die Wehen beginnen oder der geplante Termin für die Geburt eintritt. Stattdessen können Sie direkt zum Kreißsaal gehen. Es ist ratsam, sich vorab über den genauen Weg zum Kreißsaal zu informieren, da sich der Haupteingang und der Kreißsaal in verschiedenen Gebäuden befinden können.\\n\\nDie eigentliche Aufnahme in die Klinik erfolgt erst mit Geburtsbeginn – dafür ist keine erneute Anmeldung nötig. Einfach mit Wehen oder zum geplanten Termin in den Kreißsaal kommen.\\n\\n',\n",
       " 'Um die Ruhe und Erholung von Mutter und Kind zu gewährleisten, sind Besuchszeiten für andere Besucher festgelegt. Diese Zeiten sind täglich von 15:00 bis 19:00 Uhr. Geschwisterkinder und der Partner können jederzeit tagsüber im Zimmer sein.\\n\\nDie ersten Tage nach der Geburt sind eine sensible Zeit. Deshalb liegt der Fokus auf Ruhe und Familienzeit. Partnerinnen und Geschwisterkinder sind tagsüber jederzeit willkommen. Für andere Besucher (z.\\u202fB. Großeltern, Freunde) gelten feste Besuchszeiten: täglich von 15:00 bis 19:00 Uhr.\\n\\n',\n",
       " 'Um die Ruhe und Erholung von Mutter und Kind zu gewährleisten, gibt es feste Besuchszeiten von 15:00 bis 19:00 Uhr. Für größere Besuchergruppen steht ein separates Besucherzimmer zur Verfügung. In dringenden Fällen oder nach Rücksprache mit dem Personal können Ausnahmen von den Besuchszeiten vereinbart werden.\\n\\nFür größere Gruppen gibt es ein Besucherzimmer, damit das Patientenzimmer ruhig bleibt. Außerhalb dieser Zeiten sollte auf Besuche verzichtet werden, um Mutter und Kind Erholung zu ermöglichen. In Notfällen oder nach individueller Absprache mit dem Personal können Ausnahmen gemacht werden.\\n\\n',\n",
       " 'Dieser Hinweis bezieht sich auf die Besuchszeiten auf der Wochenbettstation 4B und empfiehlt, Besuche in den ersten Tagen nach der Geburt zu vermeiden, um Mutter und Kind Ruhe und Zeit für die Bindung zu ermöglichen. Dies ist Teil der allgemeinen Richtlinien, die darauf abzielen, eine ruhige und erholsame Umgebung für die junge Familie zu schaffen.\\n\\nHinweis: Direkt nach der Geburt und vormittags wird empfohlen, Besuche möglichst zu vermeiden – die Zeit ist wichtig für Erholung und Bonding. Informiere deine Angehörigen rechtzeitig über die Besuchsregeln.\\n\\n',\n",
       " 'Diese Liste hilft dir, dich optimal auf die Geburt und die Zeit im Krankenhaus vorzubereiten. Wertgegenstände und Schmuck solltest du jedoch zu Hause lassen, da die Klinik keine Haftung übernimmt. Eine detailliertere Packliste findest du auch auf der Klinik-Website.\\n\\nDamit du bei der Aufnahme nichts vergisst, hier die wichtigsten Dinge für deine Kliniktasche:\\n\\n',\n",
       " 'Diese Liste enthält die wichtigsten Dinge, die du für die Aufnahme in die Klinik benötigst. Wertgegenstände und Schmuck solltest du zu Hause lassen, da die Klinik keine Haftung übernimmt. Eine detailliertere Packliste und weitere Informationen findest du auf der Website der Klinik.\\n\\nDokumente: Personalausweis oder Reisepass, Krankenversicherungskarte, ggf. Einweisung oder Überweisung, Mutterpass, eventuell Geburtsplan, Allergiepass.\\nKleidung: Bequeme Umstandskleidung, warme Socken, genügend Unterwäsche, Still-BH, Schlafanzug oder Nachthemd, Bademantel, Hausschuhe, Kleidung für den Heimweg (auch fürs Baby).\\nHygieneartikel: Zahnbürste, Zahnpasta, Duschgel, Shampoo, Haarbürste, Deo, Lippenpflege, Haargummis, eventuell eigene Damenbinden.\\nFürs Baby: Kleidung für die Entlassung (Body, Strampler, Söckchen, Mütze, Decke), Babyschale für die Heimfahrt.\\nSonstiges: Handy und Ladegerät, Kamera, Kleingeld für Schließfächer oder Automaten, Bücher oder Musik für die Wartezeit. Verpflegung ist nicht nötig – Mahlzeiten werden gestellt. Snacks sind natürlich erlaubt.\\n\\n',\n",
       " 'Die Klinik empfiehlt, keine Wertsachen mitzubringen, da sie keine Haftung für verlorene oder gestohlene Gegenstände übernehmen kann. Dies dient der Sicherheit der Patientinnen und zur Vermeidung von Verlusten während des Krankenhausaufenthalts. Alternativ können Wertsachen bei Bedarf im Schließfach aufbewahrt werden.\\n\\nWertgegenstände und Schmuck sollten zu Hause bleiben – die Klinik übernimmt keine Haftung.\\n\\n',\n",
       " 'Die Klinik befindet sich in Berlin-Köpenick und ist mit Bus, Straßenbahn und S-Bahn gut erreichbar. Der Haupteingang für Patienten und Besucher liegt am Müggelschlößchenweg. Parkplätze sind auf dem Klinikgelände vorhanden, wobei die erste halbe Stunde kostenlos ist.\\n\\nDie DRK Kliniken Berlin Köpenick befinden sich in der Salvador-Allende-Straße 2–8, 12559 Berlin. Der Haupteingang für Patienten und Besucher liegt am Müggelschlößchenweg (Eingang Nord).\\n\\n',\n",
       " 'Die Klinik bietet gebührenpflichtige Parkplätze direkt am Haupteingang an. Die erste halbe Stunde ist kostenlos, danach fallen Gebühren an, die je nach Aufenthaltsdauer variieren. Alternativ kann ein Taxi genutzt oder der Partner am Eingang abgesetzt werden.\\n\\nAnreise mit dem Auto: Die Einfahrt zum Besucherparkplatz befindet sich direkt am Haupteingang. Es gibt gebührenpflichtige Parkplätze auf dem Klinikgelände. Die erste halbe Stunde ist kostenfrei, danach kostet es 3 Euro pro angefangener Stunde. Der Tageshöchstsatz liegt bei 30 Euro. Zahlung ist auch per Karte möglich. Plane für den Tag der Geburt ausreichend Zeit für die Parkplatzsuche ein. Alternativ kann dich dein Partner direkt am Eingang absetzen und anschließend parken. Ein Taxistand befindet sich ebenfalls unmittelbar vor dem Haupteingang.\\n\\n',\n",
       " 'Die Klinik ist mit dem S-Bahnhof Köpenick (Linie S3) gut erreichbar, von dort sind es nur wenige Minuten Fahrt mit Bus oder Taxi. Die Buslinien X69, 169, 269 und der Nachtbus N67 sowie die Straßenbahnlinien 27 und 67 halten direkt vor dem Haupteingang.\\n\\nAnreise mit öffentlichen Verkehrsmitteln: Direkt vor dem Haupteingang halten mehrere Bus- und Straßenbahnlinien. Die Buslinien X69, 169, 269 sowie der Nachtbus N67 fahren den Müggelschlößchenweg an. Auch die Tramlinien 27 und 67 halten dort. Vom S-Bahnhof Köpenick (Linie S3) sind es nur wenige Minuten mit dem Bus oder Taxi zur Klinik.\\n\\n',\n",
       " 'Der Lageplan ist auf der Website der Klinik als PDF verfügbar und zeigt den Weg zu den relevanten Bereichen wie Kreißsaal und Wochenstation.  Am Haupteingang steht eine Information zur Verfügung, die bei Fragen weiterhilft und bei der Orientierung unterstützt.  So können Besucher und Patienten sich leichter zurechtfinden.\\n\\nLageplan: Einen übersichtlichen Lageplan mit allen Gebäuden und Eingängen kannst du als PDF auf der Website der Klinik herunterladen. Dort ist auch der Weg vom Parkplatz zum Kreißsaal (Haus 1, Ebene 4) und zur Wochenstation (Haus 5.1, Ebene 4) eingezeichnet. Am Haupteingang gibt es eine Information – bei Fragen kannst du dich dort melden, es wird dir geholfen oder jemand begleitet dich.',\n",
       " 'Die moderne Geburtshilfe ermöglicht eine engmaschige Überwachung und frühzeitige Interventionen, um Risiken für Mutter und Kind zu minimieren.  Diese Eingriffe erfordern jedoch Ihre informierte Zustimmung, da sie medizinisch notwendig sein können.  Die beschriebenen Verfahren sind darauf ausgelegt, potenzielle Probleme frühzeitig zu erkennen und entsprechend zu behandeln.\\n\\nDie Geburt stellt einen natürlichen Ablauf dar. Durch moderne geburtshilfliche Verfahren, insbesondere die heutigen Möglichkeiten zur Überwachung des Geburtsverlaufs, konnten die Risiken für Mutter und Kind deutlich reduziert werden. Kritische Situationen lassen sich in der Regel frühzeitig erkennen, sodass rechtzeitig medizinisch eingegriffen werden kann. Diese erforderlichen Eingriffe bedürfen allerdings Ihrer Zustimmung.\\n\\n',\n",
       " 'Diese Begleitung umfasst verschiedene Überwachungsverfahren, die darauf abzielen, das Wohl von Mutter und Kind zu gewährleisten. Die Anwesenheit von Fachpersonal ermöglicht eine schnelle Reaktion auf mögliche Komplikationen und eine individuelle Anpassung der Betreuung. Die Hebamme ist Ihre zentrale Ansprechpartnerin während der Geburt.\\n\\nWährend des gesamten Geburtsprozesses werden Sie und Ihr Kind von Hebammen sowie Ärztinnen und Ärzten begleitet. Die nachfolgend beschriebenen Überwachungsverfahren bieten ein hohes Sicherheitsniveau, da sie potenzielle Risiken frühzeitig erkennen lassen und umgehend entsprechende Behandlungen eingeleitet werden können.\\n\\n',\n",
       " 'Ein Pinard-Stethoskop ist ein spezielles Stethoskop mit einer Wölbung am Kontaktstück, die es ermöglicht, die kindlichen Herztöne durch die Bauchdecke der Mutter zu hören. Die Doppleruntersuchung nutzt Schallwellen, um die Herztöne zu verstärken und besser beurteilen zu können. Diese Verfahren sind wichtige Bestandteile der geburtshilflichen Überwachung.\\n\\nAbhören der kindlichen Herztöne\\nDie Herztöne des Kindes werden in regelmäßigen Abständen mit einem speziellen Hörrohr, dem sogenannten Pinard-Stethoskop, durch die Bauchdecke abgehört und bewertet. Alternativ kann dies auch mittels Ultraschall oder Doppleruntersuchung über die Bauchdecke der Mutter erfolgen.\\n\\n',\n",
       " 'Eine CTG-Aufzeichnung (Kardiotokografie) ist eine Überwachungsmethode, bei der Sensoren auf der Bauchhaut der Mutter angebracht werden. Diese messen die Wehenaktivität und die Herzfrequenz des Babys und liefern so wichtige Informationen über den Zustand von Mutter und Kind während der Geburt. Die Ergebnisse werden grafisch dargestellt und von medizinischem Fachpersonal ausgewertet.\\n\\nCTG (Kardiotokografie)\\nMittels Elektroden, die auf der Bauchhaut angebracht werden, lassen sich sowohl die Wehen als auch die Herzfrequenz des Babys aufzeichnen.\\n\\n',\n",
       " 'Diese Maßnahmen, die CTG-Elektrode und die Sonde, werden nur angewendet, wenn eine genauere Überwachung von Mutter und Kind notwendig ist. Sie dienen dazu, mögliche Risiken frühzeitig zu erkennen und entsprechend zu handeln. Sollten diese Verfahren notwendig sein, wird dies im Rahmen einer ausführlichen Aufklärung besprochen.\\n\\nFalls die Fruchtblase bereits geplatzt ist und der Muttermund geöffnet wurde, kann gegebenenfalls eine Elektrode an der Kopfhaut des Kindes befestigt werden, was eine kleine Hautverletzung verursachen kann. Zur genauen Messung der Wehentätigkeit kann eine Sonde in die Gebärmutter eingeführt werden.\\n\\n',\n",
       " 'Diese Blutentnahme, auch Mikroblutanalyse genannt, ist eine invasive Maßnahme, die nur bei Verdacht auf eine Beeinträchtigung des Kindes durchgeführt wird. Sie ermöglicht die Bestimmung wichtiger Werte, insbesondere den Säure-Basen-Haushalt und den Sauerstoffgehalt, um schnell auf mögliche Komplikationen reagieren zu können. Die Entnahme erfolgt durch eine kleine Punktion und ist mit minimalen Risiken verbunden.\\n\\nMikroblutanalyse\\nSollte ein Verdacht auf eine Gefährdung des Kindes bestehen, kann bei geöffnetem Muttermund und bereits gesprungener Fruchtblase eine kleine Menge Blut vom Kopf oder Steiß des Kindes entnommen werden. So lassen sich wichtige Werte bestimmen, insbesondere bei einem möglichen Sauerstoffmangel, und es können umgehend notwendige Schritte eingeleitet werden.\\n\\n',\n",
       " 'Die Schmerzbehandlung während der Geburt kann sowohl alternative Methoden wie Akupunktur oder Hypnose als auch medikamentöse Optionen wie Schmerztabletten oder Infusionen umfassen. Ihr medizinisches Team wird Sie umfassend beraten und gemeinsam mit Ihnen die am besten geeigneten Optionen abwägen. Es ist wichtig, dass Sie sich wohlfühlen und Ihre Präferenzen berücksichtigt werden.\\n\\nDie Geburt ist eine körperlich intensive und oftmals schmerzhafte Erfahrung. Zur Bewältigung der Schmerzen stehen sowohl alternative als auch medikamentöse Methoden zur Verfügung. Diese umfassen unter anderem:\\n\\n',\n",
       " 'Diese Verfahren sollen die Schmerzen während der Wehen lindern. TENS steht für transkutane elektrische Nervenstimulation und nutzt elektrische Impulse zur Schmerzlinderung. Bei Bedarf können auch Schmerzmittel in verschiedenen Formen verabreicht werden.\\n\\nZur Linderung der Eröffnungswehen – von Beginn bis zur vollständigen Öffnung des Muttermundes auf etwa zehn Zentimeter – können naturheilkundliche Verfahren wie Akupunktur, Akupressur, Aromatherapie, Hypnose, Yoga, homöopathische Mittel, Quaddeln oder TENS angewendet werden. Ebenso können Schmerzmittel in Form von Tabletten, Zäpfchen, Injektionen oder Infusionen gegeben werden.\\n\\n',\n",
       " 'Eine Pudendus-Anästhesie ist eine lokale Betäubung des Beckenbodens, die Schmerzen während der Geburt lindern kann. Sie wird durch eine Injektion eines Lokalanästhetikums in die Nähe der Nerven in der Scheide durchgeführt. Sollte ein Dammschnitt notwendig sein, wird dieser Bereich ebenfalls separat betäubt.\\n\\nIn der Schlussphase der Geburt (Austrittsphase) kann der Beckenboden durch eine Pudendus-Anästhesie gezielt unempfindlich gemacht werden. Dabei wird ein Lokalanästhetikum über die Scheide in die Nähe der entsprechenden Nerven gespritzt. Muss ein Dammschnitt erfolgen, wird dieser Bereich gesondert lokal betäubt.\\n\\n',\n",
       " 'Lachgas wird als Gasgemisch über eine Maske inhaliert und ermöglicht eine selbstgesteuerte Schmerzlinderung während der Wehen. Mögliche Nebenwirkungen sind Schwindel, Benommenheit oder Kribbelgefühle, die jedoch meist rasch abklingen. Es handelt sich um eine Option zur Schmerzlinderung, die Sie nach Bedarf nutzen können.\\n\\nLachgas kann ebenfalls zur Schmerzlinderung beitragen. Dabei inhalieren Sie ein Sauerstoff-Lachgas-Gemisch über eine Maske nach eigenem Bedarf während der Wehen.\\n\\n',\n",
       " 'Eine PDA wird durch einen Anästhesisten durchgeführt, der ein Lokalanästhetikum in den Rückenmarkskanal injiziert. Dies ermöglicht eine schmerzfreie Entbindung, kann aber auch Nebenwirkungen wie Kopfschmerzen oder vorübergehende Muskelschwäche verursachen. Die Wirkung der PDA hält während der Wehen an und kann bei Bedarf nachdosiert werden.\\n\\nDie Periduralanästhesie (PDA) stellt eine besonders effektive Methode zur nahezu vollständigen Schmerzfreiheit dar. Hierbei werden die Nerven im Bereich des Rückenmarkraumes betäubt.\\n\\n',\n",
       " 'Dieser Satz bezieht sich auf die im Text beschriebenen Schmerzlinderungsoptionen während der Geburt, die von alternativen Methoden bis hin zu medikamentösen Eingriffen reichen. Das medizinische Team wird Sie individuell beraten und gemeinsam mit Ihnen die passende Lösung finden. Es ist wichtig, dass Sie Ihre Präferenzen und Bedenken äußern, um eine für Sie optimale Schmerzbehandlung zu gewährleisten.\\n\\n\\nIhr medizinisches Team wird Sie umfassend über die verschiedenen Möglichkeiten der Schmerzbehandlung informieren und gemeinsam mit Ihnen abwägen, welche Optionen am besten für Sie geeignet sind.\\n\\n',\n",
       " 'Wehenverstärkende Medikamente werden verabreicht, wenn die Wehen nicht von alleine beginnen oder zu schwach sind, um den Geburtsverlauf voranzutreiben. Beispiele für solche Situationen sind ein vorzeitiger Blasensprung oder ein übertragener Geburtstermin. Vor der Anwendung werden Sie ausführlich über die möglichen Methoden und Risiken aufgeklärt.\\n\\nMedikamente zur Wehensteuerung\\nSind die Wehen zu schwach oder bleiben aus, können wehenverstärkende Mittel erforderlich sein, um den natürlichen Geburtsverlauf zu unterstützen. Diese Medikamente finden auch Anwendung bei einer geplanten Einleitung, etwa bei vorzeitigem Blasensprung, übertragenem Geburtstermin oder gesundheitlichen Problemen der Mutter bzw. des Kindes. Sollten bei Ihnen solche Mittel eingesetzt werden, erfolgt zuvor eine ausführliche Aufklärung über mögliche Methoden und deren Risiken.\\n\\n',\n",
       " 'Wehenhemmende Medikamente werden eingesetzt, um den Geburtsverlauf zu verlangsamen oder zu stoppen. Dies kann notwendig sein, um dem Kind Zeit für eine Positionsänderung zu geben, bei zu häufigen Wehen oder wenn eine Pause vor einem geplanten Kaiserschnitt benötigt wird. Die Entscheidung für eine solche Medikation wird immer individuell und nach ausführlicher Aufklärung getroffen.\\n\\nWehenhemmende Medikamente werden eingesetzt, wenn:\\n\\n',\n",
       " 'Diese Situationen erfordern eine Anpassung des Geburtsverlaufs, um das Wohl von Mutter und Kind zu gewährleisten. Wehenhemmende Medikamente ermöglichen es, die Geburtsaktivität zu verlangsamen oder zu pausieren, um Komplikationen zu vermeiden und eine optimale Versorgung zu gewährleisten. Die Entscheidung für den Einsatz solcher Medikamente wird immer in Absprache mit dem medizinischen Team und unter Berücksichtigung der individuellen Situation getroffen.\\n\\nder Geburtsverlauf gezielt verlangsamt werden soll, um dem Kind Zeit für eine Positionsänderung zu geben,\\nzu häufige Wehen auftreten,\\nbei auffälligem CTG dem Baby eine Erholungspause eingeräumt werden muss,\\nzwischen dem Entschluss zum (Not-)Kaiserschnitt und dessen Durchführung Zeit überbrückt werden soll.\\n\\n',\n",
       " 'Streptokokken sind Bakterien, die zu Infektionen führen können. Ein Streptokokkenbefund bedeutet, dass diese Bakterien bei Ihnen nachgewiesen wurden und eine Behandlung oder Vorbeugung notwendig sein könnte, um das Risiko für Mutter und Kind zu minimieren. Antibiotika werden dann verabreicht, um eine Infektion zu verhindern oder zu behandeln.\\n\\nInfektionsschutz\\nBei erhöhtem Infektionsrisiko, etwa bei drohender Frühgeburt, langem Zeitraum nach Blasensprung, erhöhter Körpertemperatur oder Streptokokkenbefund, erhalten Sie vorsorglich Antibiotika zur Infektionsprävention oder -behandlung.\\n\\n',\n",
       " 'Die Anti-D-Prophylaxe ist eine Maßnahme, die bei bestimmten Blutgruppenkombinationen von Mutter und Kind notwendig ist. Sie verhindert, dass die Mutter eine Reaktion gegen das Kind entwickelt, die spätere Schwangerschaften gefährden könnte. Die Impfung wird in der Regel einige Tage nach der Geburt verabreicht.\\n\\nAnti-D-Prophylaxe\\nBei Rhesus-negativem Blut der Mutter und Rhesus-positivem Kind erfolgt nach der Geburt eine schützende Impfung, um künftige Schwangerschaftskomplikationen zu verhindern. Diese Prophylaxe wird im Aufklärungsgespräch gesondert erläutert.\\n\\n',\n",
       " 'Antibiotika werden während der Geburt aus Gründen der Infektionsprävention eingesetzt, insbesondere bei Risikofaktoren wie vorzeitigem Blasensprung oder Streptokokkenbefall. Diese Maßnahme soll sowohl die Mutter als auch das Kind vor potenziell schwerwiegenden Infektionen schützen. Die Notwendigkeit einer Antibiotikatherapie wird individuell durch das medizinische Team beurteilt.\\n\\nIn bestimmten Fällen, etwa bei drohender Frühgeburt, lang zurückliegendem Blasensprung, Fieber oder einem während der Schwangerschaft nachgewiesenen Streptokokkenbefall, kann es notwendig sein, während der Geburt Antibiotika zu verabreichen. Diese Maßnahme dient der Vorbeugung oder Behandlung einer möglichen Infektion, die für Mutter und Kind gefährlich werden könnte.\\n\\n',\n",
       " 'Um Dammschäden zu vermeiden, werden während der Geburt verschiedene Maßnahmen ergriffen. Die Hebamme kann aktiv eingreifen, um den Dammbereich zu schützen, oder die Geburt aufmerksam beobachten und bei Bedarf eingreifen. Ziel ist es, eine möglichst schonende Entbindung zu ermöglichen.\\n\\nZiel ist es, die Entbindung möglichst ohne Dammschnitt zu ermöglichen. Bereits im Verlauf der Geburt können unterstützende Maßnahmen ergriffen werden, die helfen, das Risiko eines Dammrisses zu verringern – zum Beispiel das Auflegen warmer Kompressen oder eine gezielte Dammmassage. Beim Austritt des kindlichen Köpfchens aus der Scheide kann die Hebamme aktiv eingreifen, indem sie mit der Hand den Dammbereich schützt und gleichzeitig das Köpfchen sowie später die Schultern des Kindes sanft führt, um Verletzungen zu vermeiden oder abzumildern. Alternativ kann die Hebamme das Geschehen auch aufmerksam beobachten und nur bei Bedarf eingreifen.\\n\\n',\n",
       " 'Ein Dammschnitt ist ein geplanter Schnitt des Damms, der während der Geburt durchgeführt wird. Er wird durchgeführt, um Verletzungen des Damms und des Schließmuskels zu vermeiden, wenn der Kopf des Babys stark belastet wird oder bei instrumenteller Entbindung (Saugglocke/Zange). Die Notwendigkeit eines Dammschnitts wird immer individuell und medizinisch indiziert geprüft.\\n\\nEin Dammschnitt wird nur vorgenommen, wenn er medizinisch notwendig ist – etwa um eine Überdehnung des Beckenbodens oder schwere Risse, auch im Bereich der Harnröhre oder des Schließmuskels, zu verhindern. Ist starker Druck auf den kindlichen Kopf beim Durchtritt durch den Beckenboden vorhanden oder die Austrittsphase verlängert, kann ein Dammschnitt notwendig werden. Auch bei bestimmten Indikationen, wie Veränderungen im CTG, einem sehr kleinen oder sehr großen Kind oder der Anwendung von Saugglocke oder Zange, kommt er häufiger zum Einsatz.\\n\\n',\n",
       " 'Diese Instrumente werden eingesetzt, um den Geburtsvorgang zu beschleunigen und mögliche Komplikationen zu vermeiden. Die Anwendung erfordert spezielle Kenntnisse und Erfahrung der beteiligten Fachkräfte und ist immer mit gewissen Risiken verbunden, die im Dokument ausführlich beschrieben werden. Es handelt sich um eine unterstützende Maßnahme, die nur bei Bedarf und unter strenger Überwachung eingesetzt wird.\\n\\nWenn während der Geburt eine Gefährdung für Mutter oder Kind besteht – beispielsweise bei Geburtsstillstand oder auffälligen kindlichen Herztönen in der Endphase mit bereits tief stehendem Kopf – kann die Geburt mithilfe einer Saugglocke oder einer Zange unterstützt werden. Das jeweilige Instrument wird vaginal eingeführt und an beiden Seiten des kindlichen Kopfes angesetzt. Die Ärztin oder der Arzt begleitet den Geburtsvorgang durch vorsichtigen, kontrollierten Zug, um die Mutter beim Pressen gezielt zu unterstützen.\\n\\n',\n",
       " 'Ein Kaiserschnitt ist ein geplanter oder notfallmäßiger operativer Eingriff, der eine Bauchoperation beinhaltet. Er wird in Betracht gezogen, wenn eine vaginale Geburt aus medizinischen Gründen nicht möglich oder sicher ist.  Die Entscheidung für einen Kaiserschnitt sollte immer sorgfältig abgewogen und mit dem medizinischen Team besprochen werden.\\n\\nEin Kaiserschnitt wird entweder geplant durchgeführt – etwa bei sehr großen Kindern, Beckenanomalien, Zwillingen, Querlage, Frühgeburt, mütterlichen Erkrankungen, Plazentaerkrankungen oder nach früheren Kaiserschnitten – oder er wird während der Geburt als Notfallmaßnahme notwendig. Er stellt keine einfache Alternative zur natürlichen Geburt dar.\\n\\n',\n",
       " 'Ein Kaiserschnitt ist ein geplanter oder notwendiger operativer Eingriff, bei dem das Baby durch einen Bauchschnitt entnommen wird. Da es sich um einen Eingriff handelt, sind Vor- und Nachteile im Vergleich zur vaginalen Geburt zu besprechen. Im Notfall ist möglicherweise keine ausführliche Aufklärung vor der Entscheidung möglich, weshalb Ihr Einverständnis für eine Notfall-Sectio im Voraus wichtig ist.\\n\\nVor einem geplanten Kaiserschnitt bespricht Ihre Ärztin oder Ihr Arzt mit Ihnen die jeweiligen Vor- und Nachteile im Vergleich zur spontanen Entbindung. Im Geburtsverlauf kann es zu Situationen kommen, in denen rasch ein Kaiserschnitt erforderlich wird, etwa bei starker Blutung, einem Nabelschnurvorfall, einem Riss der Gebärmutter, auffälligen kindlichen Herztönen oder einem Geburtsstillstand. In solchen Notfällen ist es möglicherweise nicht mehr möglich, Sie im Vorfeld über alle Einzelheiten aufzuklären. Daher bitten wir Sie im Vorhinein um Ihr grundsätzliches Einverständnis für den Fall einer notwendigen Notfallsectio.\\n\\n',\n",
       " 'Ein Kaiserschnitt ist ein operativer Eingriff, bei dem die Bauchdecke und die Gebärmutter eröffnet werden, um das Kind zu entbinden. Dies ist keine einfache Alternative zur vaginalen Geburt und birgt Risiken sowohl für Mutter als auch Kind. Der Eingriff wird entweder geplant oder als Notfall erforderlich, und erfordert eine sorgfältige Vorbereitung und Nachsorge.\\n\\nSollten Sie sich aktiv für einen Kaiserschnitt entscheiden, so müssen Sie wissen, dass dadurch sowohl für das Kind – etwa durch mögliche schwere Behinderungen oder Todesfälle – als auch für Sie selbst, etwa bei einer vorzeitigen Plazentalösung, lebensbedrohliche Komplikationen entstehen können. Beim Eingriff wird die Bauchdecke in der Regel knapp oberhalb der Schamhaargrenze geöffnet, danach die Gebärmutter eröffnet, das Kind entbunden und schließlich die Plazenta entfernt sowie alle eröffneten Schichten wieder verschlossen.\\n\\n',\n",
       " 'Wassergeburten sind eine Option, erfordern aber eine spezielle Aufklärung über die damit verbundenen Risiken und Besonderheiten. Dies deutet darauf hin, dass es sich um eine nicht-standardmäßige Geburt handelt, die zusätzliche Überlegungen und möglicherweise eine andere Betreuung erfordert. Sprechen Sie diesbezüglich mit Ihrem medizinischen Team, um alle Aspekte zu besprechen.\\n\\nFalls Sie eine Geburt im Wasser wünschen, werden Sie gesondert über die damit verbundenen Besonderheiten und potenziellen Risiken aufgeklärt.\\n\\n',\n",
       " 'Die Plazenta, auch Mutterkuchen genannt, ist ein Organ, das während der Schwangerschaft die Versorgung des Kindes mit Nährstoffen und Sauerstoff gewährleistet. Nach der Geburt löst sich die Plazenta von der Gebärmutter und wird ausgestoßen. Sollte dies nicht von selbst geschehen, kann eine medikamentöse Unterstützung notwendig sein.\\n\\nUnmittelbar nach der Geburt Ihres Kindes folgt die sogenannte Nachgeburtsperiode, in der die Plazenta ausgestoßen wird. In den meisten Fällen geschieht dies auf natürlichem Weg. Falls nötig, kann zur Unterstützung ein wehenförderndes Medikament verabreicht werden. Im Anschluss wird kontrolliert, ob der Mutterkuchen vollständig geboren wurde.\\n\\n',\n",
       " 'Die Anti-D-Injektion wird verabreicht, um zu verhindern, dass Ihre Körper Antikörper gegen die roten Blutkörperchen Ihres Babys bildet. Dies ist wichtig, um spätere Schwangerschaften nicht zu gefährden, da Antikörper in zukünftigen Schwangerschaften zu Problemen für das Kind führen könnten. Die Injektion wird in der Regel innerhalb der ersten 72 Stunden nach der Geburt gegeben.\\n\\nWenn bei Ihnen eine Rhesus-negative Blutgruppe vorliegt und Ihr Kind Rhesus-positiv ist, erhalten Sie nach der Geburt eine sogenannte Anti-D-Injektion. Diese soll mögliche immunologische Komplikationen in zukünftigen Schwangerschaften verhindern. Auch über diese Maßnahme werden Sie im persönlichen Gespräch gesondert informiert.\\n\\n',\n",
       " 'Dieser Abschnitt dient dazu, die nachfolgenden detaillierten Auflistungen möglicher Risiken und Komplikationen einzuordnen. Die genannten Häufigkeiten sind allgemeine Richtwerte und ersetzen keine individuelle Risikobewertung durch das medizinische Fachpersonal. Es ist wichtig, individuelle Vorerkrankungen und körperliche Voraussetzungen bei der Einschätzung zu berücksichtigen.\\n\\nDie Geburt eines Kindes kann mit unterschiedlichen Risiken für Mutter und Kind verbunden sein. Auch wenn die medizinische Betreuung sorgfältig erfolgt, lässt sich eine komplikationsfreie Geburt nicht garantieren. In einigen Fällen können unvorhersehbare Ereignisse eintreten, die weiterführende Maßnahmen oder operative Eingriffe notwendig machen. Die hier aufgeführten Angaben zur Häufigkeit dienen der allgemeinen Orientierung und ersetzen keine individuelle Risikoabschätzung. Sie entsprechen zudem nicht den Begrifflichkeiten und Definitionen in Arzneimittelbeipackzetteln. Persönliche Vorerkrankungen oder besondere körperliche Voraussetzungen können das Risiko beeinflussen.\\n\\n',\n",
       " '**HIT Typ II (Heparin-induzierte Thrombozytopenie Typ II)** ist eine seltene, aber schwerwiegende Komplikation der Heparintherapie. Sie ist durch eine paradoxe Thrombozytopenie (Abnahme der Blutplättchen) und eine erhöhte Thromboseneigung gekennzeichnet. Symptome können unter anderem Blutungen, Hautveränderungen oder Organversagen sein und erfordern eine sofortige Beendigung der Heparintherapie und eine alternative Behandlung.\\n\\nBlutgerinnsel und Embolien: Es besteht das Risiko, dass sich Thrombosen bilden – etwa in den Beinvenen – oder sich ein Blutpfropf löst und ein wichtiges Gefäß verschließt, was zu einer Lungenembolie oder sogar einem Schlaganfall führen kann. Ein erhöhtes Risiko besteht bei entsprechender Vorbelastung. Gegebenenfalls erfolgt eine vorbeugende Behandlung mit Blutverdünnern wie Heparin. In seltenen Fällen kann Heparin selbst eine schwerwiegende Blutgerinnungsstörung (HIT Typ II) auslösen.\\n\\n',\n",
       " 'Eine Fruchtwasserembolie ist eine sehr seltene, aber lebensbedrohliche Komplikation während der Geburt, bei der Fruchtwasser in die Blutbahn der Mutter gelangt. Dies kann zu einer schweren allergischen Reaktion und Kreislaufversagen führen, was eine sofortige intensivmedizinische Behandlung erfordert. Die genaue Ursache ist unbekannt, und die Prognose ist oft ungünstig.\\n\\nFruchtwasserembolie: In sehr seltenen Ausnahmefällen kann Fruchtwasser in den mütterlichen Kreislauf gelangen und dort eine Embolie verursachen. Diese Situation ist lebensbedrohlich und erfordert eine intensivmedizinische Behandlung.\\n\\n',\n",
       " 'Latex ist ein Naturkautschuk, der in medizinischen Geräten und Handschuhen verwendet wird. Eine Überempfindlichkeit kann sich in Hautausschlag, Atemnot oder Kreislaufversagen äußern. Sollten Sie bekanntlich allergisch sein, informieren Sie bitte Ihr medizinisches Team.\\n\\nAllergien oder Unverträglichkeiten: In seltenen Fällen kann es durch eine Überempfindlichkeit gegenüber Medikamenten oder Latex zu einem Kreislaufversagen kommen. Werden Schmerzmittel über die Vene verabreicht, können in sehr seltenen Fällen ernsthafte Folgen wie Organversagen, Hirnschäden oder Lähmungen entstehen.\\n\\n',\n",
       " 'Diese Reaktionen sind meist harmlos und verschwinden von selbst. Sollten die Schmerzen zunehmen oder Rötungen auftreten, ist ein Arztbesuch ratsam, um eine Infektion auszuschließen. In seltenen Fällen kann eine lokale Behandlung erforderlich sein.\\n\\nEinstichstellenreaktionen: Sehr vereinzelt treten an den Punktionsstellen kleinere Blutergüsse oder Infektionen auf, die in der Regel gut abheilen und nur selten behandelt werden müssen.\\n\\n',\n",
       " 'Diese Atemprobleme sind meist vorübergehend und entstehen durch die Wirkung der Medikamente auf die Mutter, die dann auch das Kind beeinflussen können. Ärztliches Personal ist darauf vorbereitet, schnell zu handeln und das Baby bei Bedarf mit Sauerstoff zu unterstützen. Solche Situationen sind selten und werden engmaschig beobachtet.\\n\\nAtemprobleme beim Neugeborenen: Wenn das Baby kurz nach der Gabe von Schmerz- oder Beruhigungsmitteln zur Welt kommt, kann es vorübergehend zu Atemstörungen kommen. In solchen Fällen wird sofort ärztlich reagiert, zum Beispiel mit Sauerstoffzufuhr.\\n\\n',\n",
       " 'Lachgas wird als Schmerzlinderungsmaßnahme während der Wehen durch eine Maske inhaliert. Es handelt sich um ein Gemisch aus Sauerstoff und Lachgas, das nach Bedarf angewendet wird. Die genannten Nebenwirkungen sind vorübergehend und klingen in der Regel schnell wieder ab.\\n\\nLachgas: Nebenwirkungen wie Schwindel, vorübergehende Benommenheit, Kribbelgefühle oder Druck im Ohr können auftreten. Auch Blähungen und Übelkeit sind möglich. Diese Beschwerden klingen normalerweise rasch wieder ab, sobald die Anwendung beendet wird.\\n\\n',\n",
       " 'Eine CTG-Elektrode wird zur Überwachung der kindlichen Herzfrequenz und der Wehentätigkeit angebracht. Sollten sich hierdurch Infektionen entwickeln, kann eine antibiotische Behandlung notwendig werden. Dies ist zwar selten, sollte aber im Falle eines Verdachts frühzeitig ärztlich abgeklärt werden.\\n\\nInfektionen durch Hilfsmittel: Die Anwendung einer CTG-Elektrode oder eines Wehenmessers kann – wenn auch selten – zu Wundinfektionen oder einer Gebärmutterentzündung führen. In diesen Fällen kann eine Antibiotikabehandlung notwendig sein.\\n\\n',\n",
       " 'Die Mikroblutanalyse ist ein Verfahren, bei dem eine kleine Blutprobe vom Kind entnommen wird, um dessen Gesundheit zu überprüfen, insbesondere bei Verdacht auf Sauerstoffmangel. Obwohl selten, kann diese Entnahme zu Blutverlust oder lokalen Entzündungen beim Neugeborenen führen, was in extrem seltenen Fällen eine Bluttransfusion erforderlich machen kann. Diese Maßnahme wird nur durchgeführt, wenn ein potenzielles Risiko für das Kind besteht.\\n\\nBlutentnahmen beim Kind: Bei der Mikroblutanalyse kann es in sehr seltenen Fällen zu nennenswertem Blutverlust beim Neugeborenen kommen, der eine Transfusion nach der Geburt erfordert. Ebenso wurden in seltenen Fällen lokale Entzündungen beschrieben, die behandlungsbedürftig waren.\\n\\n',\n",
       " '**Fistelbildungen** sind abnorme Verbindungen zwischen zwei Organen oder Körperhöhlen, die durch Verletzungen oder Entzündungen entstehen können. **Inkontinenz** bezeichnet den unkontrollierten Verlust von Urin oder Stuhl. Sollten solche Komplikationen auftreten, kann eine operative Behandlung notwendig sein, um die Funktion des Beckenbodens wiederherzustellen.\\n\\nGeburtsverletzungen im Intimbereich: Risse an der Scheide, den Schamlippen, der Klitoris oder dem Damm – bis hin zum äußeren Schließmuskel – sind möglich, vor allem bei instrumenteller Geburt. Die meisten dieser Verletzungen lassen sich gut versorgen und heilen problemlos. In seltenen Fällen kann es jedoch zu Fistelbildungen oder Inkontinenz kommen, die unter Umständen operativ behandelt werden müssen – manchmal sogar mit einem temporären künstlichen Darmausgang.\\n\\n',\n",
       " 'Eine Schwäche des Beckenbodens kann nach der Geburt zu Problemen wie Inkontinenz führen. Diese Schwäche ist meist vorübergehend und kann durch Beckenbodengymnastik verbessert werden. Sollte dies nicht ausreichen, kann in seltenen Fällen ein operativer Eingriff notwendig werden.\\n\\nFunktionsstörungen des Beckenbodens: Eine vorübergehende Schwäche des Beckenbodens kann zu unkontrolliertem Urin- oder Stuhlabgang führen. Meist hilft gezielte Beckenbodengymnastik, in Einzelfällen kann jedoch ein späterer operativer Eingriff notwendig werden.\\n\\n',\n",
       " 'Ein Riss der Gebärmutter ist ein seltenes, aber ernstes Ereignis, das meist einen sofortigen Kaiserschnitt erfordert. Er tritt häufiger bei Frauen auf, die bereits eine Operation an der Gebärmutter hatten, wie beispielsweise einen vorherigen Kaiserschnitt. Dies liegt daran, dass die Narbe an der Gebärmutter schwächer ist und unter den Belastungen der Wehen reißen kann.\\n\\nRiss der Gebärmutter: Vor allem bei Frauen mit vorangegangener Operation an der Gebärmutter (z.\\u202fB. Kaiserschnitt) besteht ein geringes Risiko, dass die Gebärmutter unter der Geburt einreißt. In solchen Notfällen ist ein sofortiger Kaiserschnitt erforderlich.\\n\\n',\n",
       " 'Harnwegsinfekte sind häufige Komplikationen nach der Geburt und können sich durch Schmerzen beim Wasserlassen, häufigen Harndrang oder Fieber äußern. Eine frühzeitige Behandlung mit Antibiotika ist wichtig, um schwerwiegendere Folgen zu vermeiden. Bei Verdacht auf eine Harnwegsinfektion sollte umgehend ein Arzt aufgesucht werden.\\n\\nHarnwegsinfekte: Entzündungen der Harnblase oder der Harnleiter können nach der Geburt auftreten, sind jedoch meist gut behandelbar.\\n\\n',\n",
       " 'Bei einer unvollständigen oder fehlenden Plazentalösung kann eine Bluttransfusion notwendig werden. Um das Risiko einer Infektion durch Spenderblut zu minimieren, werden moderne Testverfahren eingesetzt. Trotzdem wird nach einer Transfusion eine Kontrolluntersuchung empfohlen.\\n\\nStarke Blutungen nach der Geburt: Diese können auftreten, wenn sich die Plazenta nicht oder nur unvollständig löst. In diesem Fall sind unter Umständen Ausschabungen, manuelle Eingriffe oder sogar die Entfernung der Gebärmutter nötig. Auch eingewachsene Plazentateile oder ein Gebärmutterriss können zu massiven Blutverlusten führen. In sehr seltenen Fällen wird ein Bauchschnitt notwendig, um die Blutungsquelle aufzuspüren und zu behandeln. Bluttransfusionen können erforderlich werden, das Risiko einer Infektion durch Spenderblut ist heutzutage extrem gering. Eine Kontrolluntersuchung nach einer Transfusion ist dennoch sinnvoll.\\n\\n',\n",
       " 'Diese Entzündungen entstehen, weil sich die Gebärmutter nicht vollständig zurückbildet oder Reste der Plazenta im Körper verbleiben. Sollten solche Komplikationen auftreten, ist eine frühzeitige Behandlung wichtig, um schwerwiegende Folgen zu vermeiden. In seltenen Fällen kann eine Operation notwendig sein, um die Entzündung zu bekämpfen und weitere Schäden zu verhindern.\\n\\nInfektionen im Wochenbett: Verzögerte Rückbildung der Gebärmutter oder Plazentareste können Entzündungen verursachen, die sich meist gut behandeln lassen. In Einzelfällen kann es zu dauerhaften Nervenschäden, Schmerzen oder Lähmungen kommen. In besonders schweren Fällen kann eine Operation nötig sein, bei der auch die Gebärmutter oder die Eierstöcke entfernt werden müssen.\\n\\n',\n",
       " 'Ein Nabelschnurvorfall ist eine seltene, aber potenziell gefährliche Komplikation, bei der die Nabelschnur aus der Gebärmutter herausragt, bevor das Baby vollständig geboren ist. Dies kann die Sauerstoffversorgung des Kindes unterbrechen und erfordert eine sofortige medizinische Intervention, um das Baby schnell zu entbinden. Die Situation erfordert eine schnelle Reaktion des medizinischen Teams, um das Kind zu retten.\\n\\nNabelschnurvorfall: Wenn sich die Nabelschnur vor das Köpfchen schiebt, kann sie abgedrückt werden. Dies kann eine Sauerstoffunterversorgung beim Kind verursachen und muss sofort behandelt werden.\\n\\n',\n",
       " 'Schulterdystokie ist eine seltene, aber potenziell gefährliche Situation, bei der die Schulter des Kindes sich nach der Geburt des Kopfes im Becken festsetzt. Dies erfordert sofortiges, spezielles Handeln des medizinischen Personals, um das Kind zu befreien. Trotz dieser Bemühungen kann es zu Verletzungen wie Frakturen oder Nervenschäden beim Kind kommen.\\n\\nSchulterdystokie: Bleibt die Schulter des Kindes nach der Geburt des Kopfes im Becken hängen, ist schnelles ärztliches Handeln notwendig. Durch spezielle Lagerungsmaßnahmen und gezielte Handgriffe kann die Geburt fortgesetzt werden. Trotzdem besteht ein erhöhtes Risiko für kindliche Verletzungen wie Schlüsselbein- oder Oberarmfrakturen sowie dauerhafte Nervenschäden im betroffenen Arm.\\n\\n',\n",
       " 'Die Beckenendlage ist eine Geburtslage, bei der das Kind mit dem Kopf nach oben oder nach unten positioniert ist, anstatt mit dem Kopf nach unten. Spezielle Techniken werden eingesetzt, um die Geburt zu ermöglichen, aber diese bergen seltene Risiken für das Kind, die jedoch in Studien nicht als ungünstiger als ein Kaiserschnitt bewertet werden. Sollte eine solche Lage vorliegen, werden die Risiken und Vorteile einer vaginalen gegenüber einem Kaiserschnitt ausführlich besprochen.\\n\\nSpontangeburt aus Beckenendlage: Hierbei kommen spezielle Entbindungstechniken wie das Bracht- oder Veit-Smellie-Manöver zum Einsatz. In seltenen Fällen kann es zu Kopfverletzungen, Sauerstoffmangel oder Schädigungen des Nervensystems kommen. Auch ein Nabelschnurvorfall ist möglich. Trotz dieser Risiken zeigen Studien, dass eine unkomplizierte Spontangeburt in Beckenendlage langfristig nicht ungünstiger für das Kind ist als ein geplanter Kaiserschnitt.\\n\\n',\n",
       " 'Bei Zwillingsgeburten müssen die Lage der Kinder (z.B. Kopf-Beckenlage), die Anzahl der Plazenten und das Gestationsalter berücksichtigt werden, um zu entscheiden, ob eine vaginale Entbindung möglich ist.  Die Entscheidung beeinflusst die Risiken und die bestmögliche Versorgung für Mutter und Kinder.  Sollte eine vaginale Entbindung nicht möglich sein, ist ein Kaiserschnitt eine Option.\\n\\nZwillingsgeburten: Auch bei Zwillingen ist unter geeigneten Bedingungen eine vaginale Entbindung möglich. Ausschlaggebend sind unter anderem die Lage der Kinder, die Anzahl der Plazenten und das Gestationsalter.\\n\\n',\n",
       " 'Dieser Abschnitt behandelt mögliche Komplikationen und Verhaltensweisen nach der Geburt, die medizinische Aufmerksamkeit erfordern. Es ist wichtig, auf Symptome wie Fieber, starke Blutungen oder Schwellungen zu achten und bei Bedarf umgehend ärztliche Hilfe in Anspruch zu nehmen. Eine frühzeitige Betreuung durch eine Hebamme zu Hause kann ebenfalls hilfreich sein.\\n\\n\\nFür die Mutter:\\n\\n',\n",
       " 'Eine Uterusruptur ist ein Riss der Gebärmutter, der eine sofortige Operation erfordert. Fisteln sind abnorme Verbindungen zwischen Organen oder der Haut, die zu Infektionen und anderen Komplikationen führen können. Solche Verletzungen können weitere operative Maßnahmen oder Nachoperationen notwendig machen.\\n\\nEs kann zu Verletzungen von Scheide, Gebärmutterhals oder -wand kommen. In seltenen Fällen tritt eine Uterusruptur auf, die sofort operativ versorgt werden muss – möglicherweise mit Entfernung der Gebärmutter.\\nAuch Verletzungen von Harnblase oder Darm sind möglich und können langfristige Folgen wie Fisteln oder Infektionen nach sich ziehen.\\n\\n',\n",
       " 'Für das Kind können während der Geburt oder kurz danach Anpassungsstörungen auftreten, wie z.B. Probleme mit der Atmung, die eine Sauerstoffgabe oder künstliche Beatmung erforderlich machen könnten.  Auch Verletzungen des Kindes während des Eingriffs sind selten, aber möglich. Beobachtungen deuten darauf hin, dass bestimmte Krankheiten wie Asthma oder Diabetes bei Kindern, die per Kaiserschnitt geboren wurden, häufiger auftreten können.\\n\\nFür das Kind:\\n\\n',\n",
       " 'Dies sind häufige, vorübergehende Nebenwirkungen, die durch den Druck der Saugglocke oder Zange während der Geburt entstehen können. Sie sind in der Regel harmlos und verschwinden von selbst wieder. Sollten die Beschwerden jedoch länger anhalten oder sich verschlimmern, sollte ein Arzt konsultiert werden.\\n\\nDruckstellen, Blutergüsse oder Schwellungen am Kopf treten gelegentlich auf und heilen meist folgenlos ab.\\n\\n',\n",
       " 'Vitamin K unterstützt die Blutgerinnung und wird Neugeborenen oft verabreicht, da sie bei der Geburt noch wenig davon in ihren Körpern haben. Dies dient der Vorbeugung von Blutungen, insbesondere im Gehirn. Die Gabe erfolgt in der Regel als Injektion.\\n\\nZur Vorbeugung von Hirnblutungen wird in der Regel Vitamin K verabreicht.\\n\\n',\n",
       " 'Dieser Satz bezieht sich auf die instrumentelle Entbindung (Saugglocke/Zange) und betont, dass trotz aller Vorsichtsmaßnahmen bei der Anwendung dieser Hilfsmittel schwerwiegende, aber seltene Verletzungen beim Kind nicht ausgeschlossen werden können. Es ist wichtig, sich bewusst zu sein, dass jede medizinische Intervention Risiken birgt, auch wenn diese gering sind. Die vollständige Aufklärung über diese Risiken erfolgt im persönlichen Gespräch mit dem medizinischen Team.\\n\\nSchwere Schädigungen wie Schädelbrüche, Lähmungen oder Hirnblutungen sind äußerst selten, können aber nicht vollkommen ausgeschlossen werden.\\n\\n',\n",
       " 'Damm- und Kaiserschnittnähte können Komplikationen wie Schmerzen, Blutungen oder Infektionen verursachen. Diese Probleme können eine zusätzliche Behandlung oder Nachuntersuchungen erfordern. Sollten Sie entsprechende Beschwerden feststellen, suchen Sie bitte umgehend ärztliche Hilfe.\\n\\nSowohl bei Damm- als auch bei Kaiserschnittnähten kann es zu Schmerzen, Nachblutungen, Infektionen oder Wundheilungsstörungen kommen.\\n\\n',\n",
       " 'Eine Sepsis ist eine schwere, lebensbedrohliche Reaktion des Körpers auf eine Infektion. Sie entsteht, wenn sich Krankheitserreger im Blut verteilen und eine systemweite Entzündungsreaktion auslösen. Eine frühzeitige Diagnose und intensive Behandlung in einer Intensivstation sind entscheidend für das Überleben.\\n\\nBei bestimmten Risikofaktoren wie starkem Übergewicht kann sich eine Sepsis (Blutvergiftung) entwickeln, die intensivmedizinisch behandelt werden muss.\\n\\n',\n",
       " 'Diese Wundheilungsstörung kann zu Schmerzen, Rötungen oder Spannungsgefühl führen und erfordert möglicherweise eine erneute ärztliche Behandlung. Sollte dies eintreten, wird der Arzt oder die Ärztin die Situation beurteilen und die geeignete Vorgehensweise festlegen.\\n\\nManchmal tritt eine Wundheilungsstörung erst Wochen später auf. Ein teilweises oder vollständiges Auseinanderklaffen der Wundränder kann eine erneute Naht oder ein langsames, sekundäres Verheilen erforderlich machen.\\n\\n',\n",
       " 'Narben können sich auch nach Jahren noch verändern und Beschwerden verursachen. Eine operative Korrektur ist möglich, wird aber nur in schweren Fällen durchgeführt, da sie selbst Risiken birgt. Sprechen Sie mit Ihrem Arzt, wenn Sie anhaltende Schmerzen oder Bewegungseinschränkungen bemerken.\\n\\nNarbenbildungen oder Verwachsungen können dauerhaft Beschwerden wie Schmerzen bei Bewegung oder Geschlechtsverkehr verursachen. In Einzelfällen ist eine operative Korrektur möglich.\\n\\n',\n",
       " 'Dieser Absatz weist darauf hin, dass der vorliegende Text nur eine allgemeine Einführung in die Risiken eines Kaiserschnitts darstellt. Eine detailliertere und individuelle Aufklärung erfolgt in einem separaten Dokument, da die Entscheidung für einen Kaiserschnitt komplexe Aspekte beinhaltet. Es ist wichtig, sich umfassend zu informieren, bevor eine Entscheidung getroffen wird.\\n\\n\\nDieser Informationsbogen kann lediglich über die zentralen Risiken eines Kaiserschnitts aufklären. Sollte bei Ihnen eine Schnittentbindung vorgesehen sein, erfolgt eine weiterführende Aufklärung über ein gesondertes Dokument.\\n\\n',\n",
       " 'Dieser Abschnitt beschreibt mögliche Komplikationen, die während eines Kaiserschnitts auftreten können. Solche Verletzungen erfordern oft weitere Eingriffe und können die Genesung verlängern. Es ist wichtig, dass Sie sich bewusst sind, dass auch bei sorgfältiger Durchführung Risiken bestehen.\\n\\nIn seltenen Fällen kann es während des Eingriffs zu Verletzungen benachbarter Organe kommen – beispielsweise der Blase, des Darms, der Harnleiter oder von Nervenbahnen. Solche Verletzungen können weitere operative Maßnahmen oder Nachoperationen notwendig machen, etwa bei anhaltenden Blutungen, Schmerzen, Entzündungen des Bauchfells, Darmverschluss oder bei der Bildung von Fisteln oder Harnverhalt. Das Risiko für solche Komplikationen steigt, wenn bereits vorher Operationen stattgefunden haben, starke Verwachsungen vorliegen oder die anatomischen Verhältnisse schwierig sind.\\n\\n',\n",
       " 'Dies bedeutet, dass die Blutungen so stark sein können, dass eine Operation notwendig wird, um die Blutungsquelle zu finden und zu stoppen. In extremen Fällen kann dies die Entfernung der Gebärmutter oder anderer Organe erfordern, um das Leben der Mutter zu retten.\\n\\nSehr selten kann es zu so starken Blutungen kommen, dass die Quelle chirurgisch gestillt werden muss. Gelegentlich ist eine medikamentöse Behandlung notwendig oder – im Extremfall – eine Entfernung der Gebärmutter, seltener auch der Eileiter oder Eierstöcke.\\n\\n',\n",
       " 'Diese Verletzungen können durch die Positionierung der Mutter während des Kaiserschnitts oder durch die Verwendung von medizinischen Instrumenten entstehen. Sie sind selten, können aber zu bleibenden Beschwerden wie Schmerzen oder Taubheitsgefühl führen. Sollten Sie nach dem Eingriff solche Symptome bemerken, informieren Sie bitte Ihr medizinisches Team.\\n\\nEbenfalls möglich sind Verletzungen von Haut, Bindegewebe oder Nerven, die im Rahmen der Lagerung während der Operation oder durch Begleitmaßnahmen wie Injektionen, Desinfektionen oder elektrische Geräte entstehen. Diese Schäden können – wenn auch selten – zu langanhaltenden oder sogar bleibenden Beschwerden führen, darunter Schmerzen, Taubheit, Bewegungseinschränkungen oder Lähmungen.\\n\\n',\n",
       " 'Eine Infektion der Bauchhöhle ist eine schwere Komplikation, bei der sich eine Entzündung im Bauchraum ausbreitet. Dies kann lebensbedrohlich sein und erfordert eine sofortige Behandlung, die in seltenen Fällen eine Entfernung der Gebärmutter und Eierstöcke notwendig machen kann. Eine frühzeitige Erkennung und Behandlung ist entscheidend.\\n\\nInfektionen, zum Beispiel der Harnwege, des Bauchfells oder der Lunge, können als Folge des Eingriffs auftreten. Sie lassen sich in den meisten Fällen durch Antibiotika behandeln. Kommt es jedoch zu einer Infektion der Bauchhöhle, sind Nachoperationen notwendig – unter Umständen sogar mit Entfernung der Gebärmutter und der Eierstöcke.\\n\\n',\n",
       " 'Ein Narbenbruch bezeichnet das Öffnen der Kaiserschnittnarbe, was eine erneute Operation erforderlich machen kann. Eine schlechte Wundheilung kann ebenfalls zu Problemen führen, die eine operative Korrektur notwendig machen. Diese Komplikationen können zu anhaltenden Beschwerden wie Schmerzen oder Bewegungseinschränkungen führen.\\n\\nWundheilungsprobleme mit oder ohne Hautbeteiligung sind möglich, vor allem wenn sich ein Narbenbruch entwickelt oder die Naht schlecht verheilt. Auch dann können operative Nachbehandlungen notwendig werden.\\n\\n',\n",
       " 'Eine Darmlähmung kann dazu führen, dass der Darm sich nicht wie gewohnt bewegt und Nahrung nicht weiter transportiert wird. Eine Verwachsung sind Verklebungen im Bauchraum, die ebenfalls die Darmbewegung behindern können. Eine künstliche Darmentleerung ist eine seltene, medizinische Maßnahme, bei der der Darm mit Hilfe eines Systems entleert wird.\\n\\nGelegentlich führt eine Darmlähmung oder eine spätere Verwachsung zu einem Darmverschluss. In extrem seltenen Fällen ist eine dauerhafte künstliche Darmentleerung erforderlich.\\n\\n',\n",
       " '**Plazentationsstörungen** beziehen sich auf Probleme, wie die Plazenta sich an die Gebärmutterwand anlegt, was zu Komplikationen wie vorzeitiger Plazentalösung oder Plazenta praevia verursachen kann. Diese Störungen können die Versorgung des Kindes beeinträchtigen und erfordern eine engmaschige Überwachung und gegebenenfalls eine frühzeitige Entbindung. Eine engmaschige Überwachung und gegebenenfalls eine frühzeitige Entbindung können erforderlich sein.\\n\\nBei künftigen Schwangerschaften kann die Narbe an der Gebärmutter erneut aufreißen, was unter Umständen einen Notfall-Kaiserschnitt nötig macht. Außerdem besteht ein erhöhtes Risiko für sogenannte Plazentationsstörungen – das bedeutet, dass sich die Plazenta nicht normal anlegt oder ablöst.\\n\\n',\n",
       " 'Dieser Abschnitt beschreibt mögliche Folgen eines Kaiserschnitts für die Mutter. Schmerzen und Missempfindungen sind nach dem Eingriff üblich, können aber länger anhalten und eine langsame Besserung erfahren. Bei anhaltenden Beschwerden sollte ein Arzt konsultiert werden.\\n\\nNach dem Eingriff sind Schmerzen und Missempfindungen rund um die Operationsnarbe häufig. Diese Beschwerden sind meist unbedenklich, können jedoch in Einzelfällen mehrere Monate anhalten und sich nur langsam bessern.\\n\\n',\n",
       " 'Dieser Abschnitt bezieht sich auf mögliche Verletzungen des Babys während eines Kaiserschnitts. Solche Verletzungen sind selten, können aber eine kleine Naht erfordern. Es ist wichtig, alle Bedenken bezüglich des Eingriffs im persönlichen Aufklärungsgespräch zu besprechen.\\n\\nBeim Öffnen der Gebärmutter kann es in seltenen Fällen zu kleinen Schnittverletzungen beim Baby kommen. Diese sind meistens harmlos und heilen ohne weitere Behandlung, manchmal ist jedoch eine kleine Naht erforderlich.\\n\\n',\n",
       " 'Ein Kaiserschnitt ist ein operativer Eingriff, bei dem das Baby durch einen Schnitt in Bauch und Gebärmutter entnommen wird.  Nach einem solchen Eingriff kann es bei Neugeborenen zu Atemproblemen kommen, die eine intensive medizinische Betreuung erfordern. Diese Probleme sind zwar selten, können aber eine Sauerstoffgabe oder sogar eine künstliche Beatmung notwendig machen.\\n\\nNach einem Kaiserschnitt kann es beim Neugeborenen zu Anpassungsstörungen kommen – etwa zu Problemen mit der Atmung, die in manchen Fällen eine Sauerstoffgabe oder sogar eine künstliche Beatmung notwendig machen. Verletzungen des Kindes während des Eingriffs sind selten, können aber auftreten.\\n\\n',\n",
       " 'Es ist wichtig zu beachten, dass diese Beobachtungen nicht zwangsläufig einen direkten kausalen Zusammenhang beweisen und weitere Forschung erforderlich ist, um die genauen Ursachen und Mechanismen zu verstehen. Die genannten Erkrankungen können auch andere Faktoren beeinflussen, wie beispielsweise die genetische Veranlagung oder die Lebensweise der Eltern. Trotzdem ist es ratsam, die Entwicklung Ihres Kindes aufmerksam zu beobachten und bei Bedarf ärztlichen Rat einzuholen.\\n\\nBeobachtungen deuten darauf hin, dass bestimmte Krankheiten wie Asthma, Diabetes, allergische Reaktionen, chronische Darmentzündungen oder Übergewicht bei Kindern, die per Kaiserschnitt geboren wurden, häufiger auftreten als bei vaginal Geborenen.\\n\\n',\n",
       " 'Dieser Absatz betont die Wichtigkeit einer individuellen Beratung und ermutigt die Patientin, offene Fragen zu klären. Er unterstreicht, dass die bereitgestellten Informationen allgemeiner Natur sind und eine persönliche Beratung durch medizinisches Fachpersonal ersetzt. Dies soll die Patientin dazu anregen, aktiv an ihrer Behandlung teilzunehmen und sich umfassend zu informieren.\\n\\nBitte sprechen Sie im persönlichen Aufklärungsgespräch alle Punkte an, die Ihnen unklar erscheinen oder zu denen Sie weitere Informationen wünschen.\\n\\n',\n",
       " 'Dieser Abschnitt listet Symptome auf, die nach der Geburt auf eine mögliche Komplikation hindeuten und einen Arztbesuch erfordern. Es ist wichtig, diese Anzeichen ernst zu nehmen und frühzeitig medizinische Hilfe in Anspruch zu nehmen, um mögliche schwerwiegende Folgen zu vermeiden. Die frühzeitige Inanspruchnahme der Wochenbettbetreuung durch eine Hebamme wird ebenfalls empfohlen.\\n\\nSuchen Sie bitte ärztliche Hilfe auf, wenn eines oder mehrere der folgenden Symptome bei Ihnen auftreten:\\n\\n',\n",
       " 'Diese Symptome können Anzeichen für Komplikationen nach der Geburt sein, wie z.B. eine Infektion oder eine tiefe Venenthrombose. Zögern Sie nicht, bei Auftreten dieser Beschwerden ärztliche Hilfe in Anspruch zu nehmen, um mögliche schwerwiegende Folgen zu vermeiden. Eine frühzeitige Diagnose und Behandlung sind entscheidend für eine erfolgreiche Genesung.\\n\\nFieber von über 38\\u202f°C,\\nzunehmende Schmerzen im Unterbauch,\\nBlutungen, die stärker sind als der normale Wochenfluss,\\nSchmerzen, Rötungen oder Spannungsgefühl in einer oder beiden Brüsten,\\nSchwellungen, Schmerzen oder Rötungen an einem Bein,\\nplötzliche oder anhaltende Atemnot.\\n\\n',\n",
       " 'Nach der Geburt ist es wichtig, auf Veränderungen im Körper zu achten und bei Auffälligkeiten frühzeitig einen Arzt oder eine Hebamme zu kontaktieren. Eine frühzeitige Betreuung durch eine Hebamme zu Hause kann dabei helfen, mögliche Komplikationen frühzeitig zu erkennen und zu behandeln. Dies trägt zu einem reibungslosen Wochenbett und einer guten Mutter-Kind-Beziehung bei.\\n\\nAuch wenn sich solche Beschwerden erst Tage nach der Entlassung zeigen, sollten Sie nicht zögern, ärztliche Hilfe in Anspruch zu nehmen. Achten Sie außerdem darauf, dass Sie frühzeitig nach der Geburt die Betreuung durch eine Hebamme zu Hause organisieren.',\n",
       " 'Es handelt sich um Allgemeinanästhesie (Narkose) und Regionalanästhesie. Bei der Narkose sind Sie bewusstlos, während bei der Regionalanästhesie nur ein Körperbereich betäubt wird. In bestimmten Fällen können beide Verfahren kombiniert werden.\\n\\nDamit Sie den geplanten Eingriff schmerzfrei erleben, stehen zwei grundlegende Methoden zur Verfügung:\\n\\n',\n",
       " 'Es gibt zwei Hauptmethoden der Betäubung: die Allgemeinanästhesie, bei der Sie bewusstlos sind, und die Regionalanästhesie, bei der nur ein bestimmter Körperbereich betäubt wird.  Welche Methode für Sie geeignet ist, besprechen Sie mit Ihrem Arzt, der auch alternative Verfahren und deren Risiken erläutert.  In manchen Fällen kann auch eine Kombination beider Verfahren sinnvoll sein.\\n\\nEine Allgemeinanästhesie (Narkose), die das Bewusstsein sowie das Schmerzempfinden im gesamten Körper vorübergehend ausschaltet.\\nEine Regionalanästhesie, bei der nur der zu operierende Körperbereich gezielt betäubt wird.\\n\\n',\n",
       " 'Die Wahl der Anästhesie ist eine individuelle Entscheidung, die Ihr Arzt mit Ihnen besprechen wird. Dabei werden verschiedene Optionen, ihre Vor- und Nachteile sowie mögliche Risiken berücksichtigt, um die für Sie sicherste und effektivste Methode zu finden. Zögern Sie nicht, Fragen zu stellen und Ihre Bedenken zu äußern.\\n\\nIn bestimmten Fällen ist auch eine Kombination beider Verfahren möglich. Welches Anästhesieverfahren für Sie individuell geeignet ist, wird Ihr behandelnder Arzt mit Ihnen ausführlich besprechen. Dabei erhalten Sie auch Informationen zu alternativen Verfahren, deren Vor- und Nachteilen sowie zu spezifischen Risiken und körperlichen Belastungen.\\n\\n',\n",
       " 'Dieser Zugang dient dazu, Flüssigkeiten und Medikamente während der Operation zu verabreichen. Die Kanüle ermöglicht eine schnelle und zuverlässige Medikamentenverabreichung. Antibiotika können beispielsweise zur Vorbeugung von Infektionen eingesetzt werden.\\n\\nVor Beginn der Anästhesie wird über eine Verweilkanüle in einer Vene – beispielsweise an Hand oder Arm – ein Zugang gelegt. Darüber erhalten Sie Flüssigkeiten und Medikamente wie Narkose- oder Schmerzmittel sowie gegebenenfalls Antibiotika.\\n\\n',\n",
       " 'Eine Kanüle wird also in eine Vene gelegt, um Medikamente zu verabreichen. Diese Kanüle wird zuvor über eine Verweilkanüle gelegt, die für die Flüssigkeitszufuhr und Medikamentengabe während der Operation wichtig ist. Die Gabe erfolgt intravenös, also direkt in den Blutkreislauf.\\n\\nDie Einleitung der Narkose erfolgt durch die intravenöse Gabe eines schnell wirksamen Narkosemittels über die zuvor gelegte Kanüle.\\n\\n',\n",
       " 'Die Wahl zwischen intravenösen Medikamenten und Narkosegasen hängt von verschiedenen Faktoren ab, wie z.B. der Art des Eingriffs und den individuellen Bedürfnissen des Patienten. Manchmal werden beide Methoden kombiniert, um eine optimale Narkose zu gewährleisten. Die genaue Vorgehensweise wird Ihr Arzt mit Ihnen besprechen.\\n\\nZur Aufrechterhaltung der Narkose während des Eingriffs kommen entweder kontinuierlich verabreichte Medikamente (intravenöse Anästhesie) oder Narkosegase über die Atemluft zum Einsatz – häufig auch in Kombination.\\n\\n',\n",
       " 'Um eine schonende Einführung zu gewährleisten und optimale Operationsbedingungen zu schaffen, wird in der Regel ein muskelentspannendes Mittel verabreicht. Dies ermöglicht die Verwendung eines Beatmungsschlauchs (Tubus) oder einer Kehlkopfmaske, um die Atmung während der Narkose zu unterstützen. Diese Maßnahmen sind wichtig, um eine sichere und effektive Narkose zu gewährleisten.\\n\\nFür die kontrollierte Beatmung wird:\\n\\n',\n",
       " 'Ein Tubus wird tiefer in die Luftröhre eingeführt als eine Kehlkopfmaske. Die Verwendung eines Tubus bietet zusätzlichen Schutz vor Aspiration (Eindringen von Flüssigkeit in die Lunge).  Die Entscheidung für die Methode hängt von verschiedenen Faktoren ab, die der Arzt individuell bewertet.\\n\\nein Beatmungsschlauch (Tubus) über Mund oder Nase in die Luftröhre eingeführt (Intubationsnarkose),\\noder eine Kehlkopfmaske (Larynxmaske) vor den Kehlkopfeingang gelegt.\\n\\n',\n",
       " 'Muskelrelaxantien helfen dabei, die Muskeln zu entspannen, was die Einführung des Beatmungsschlauchs (Tubus) erleichtert und die Bedingungen für den Eingriff verbessert. Diese Medikamente wirken vorübergehend und werden vom Körper abgebaut.  Die Wirkung kann die Atmung kurzzeitig beeinträchtigen, weshalb eine Überwachung erforderlich ist.\\n\\nDie Verwendung eines Tubus bietet den zusätzlichen Schutz, das Risiko des Eindringens von Speichel oder Mageninhalt in die Lunge (Aspiration) deutlich zu senken. Um eine schonende Einführung zu gewährleisten und optimale Operationsbedingungen zu schaffen, wird in der Regel ein muskelentspannendes Mittel verabreicht.\\n\\n',\n",
       " 'Diese Methode betäubt nur den zu operierenden Körperbereich, während Sie wach bleiben können. Auf Wunsch oder bei medizinischer Notwendigkeit kann ein Beruhigungsmittel verabreicht werden, was zu Gedächtnislücken führen kann. Während der Wirkung ist die Bewegungsfähigkeit der betroffenen Körperteile eingeschränkt.\\n\\nBei der Regionalanästhesie wird ein örtlich wirkendes Betäubungsmittel in die Nähe von Nerven gespritzt, die für die Schmerzleitung im betroffenen Operationsbereich zuständig sind. Diese Schmerzsignale werden dadurch blockiert, sodass die Empfindung in diesem Bereich vorübergehend ausgeschaltet ist – meist über mehrere Stunden.\\n\\n',\n",
       " 'Diese Symptome sind typisch für eine Regionalanästhesie, bei der ein lokales Betäubungsmittel in die Nähe von Nerven gespritzt wird, um Schmerzen zu blockieren. Die Taubheit und Bewegungseinschränkung sind vorübergehend und klingen mit der Wirkung des Medikaments nach.  Es ist wichtig, betäubte Körperteile zu schonen, da das Schmerzempfinden fehlt.\\n\\nTypischerweise äußert sich die Wirkung zunächst durch ein Kribbeln oder Wärmegefühl. Im Anschluss fühlen sich die betroffenen Körperregionen – etwa Schulter, Arm, Unterkörper oder Beine – schwer und taub an. Während der Wirkdauer ist die Bewegungsfähigkeit dieser Körperteile eingeschränkt oder ganz aufgehoben.\\n\\n',\n",
       " 'Bei einer Sedierung während der Regionalanästhesie werden Sie entspannt, aber möglicherweise nicht vollständig schlafen. Sie können sich danach an Teile oder gar nichts vom Eingriff nicht mehr erinnern. Dies wird Ihnen vorab separat erklärt.\\n\\nWährend einer Regionalanästhesie bleiben Sie wach. Auf Wunsch oder bei medizinischer Indikation kann ein Beruhigungsmittel (sog. „Dämmerschlaf“ bzw. Sedierung) verabreicht werden. Wenn dies vorgesehen ist, werden Sie hierzu separat aufgeklärt. Nach einer solchen Sedierung kann es sein, dass Sie sich nur teilweise oder gar nicht mehr an den Eingriff erinnern.\\n\\n',\n",
       " 'Diese Kombination von Regionalanästhesie und Narkose wird als \"kombinierte Anästhesie\" bezeichnet und zielt darauf ab, die Vorteile beider Verfahren zu nutzen, während die Risiken minimiert werden. Sie erfordert eine sorgfältige Planung und Überwachung durch erfahrene Anästhesisten.\\n\\nMitunter ist es sinnvoll, die Regionalanästhesie ergänzend zur Narkose anzuwenden. Diese Kombination kann dazu beitragen, den Bedarf an Narkosemitteln zu verringern, die Erholungsphase zu verkürzen und postoperative Schmerzen zu lindern. Dabei ist zu beachten, dass jede zusätzliche Maßnahme auch eigene Risiken mit sich bringt.\\n\\n',\n",
       " 'Diese Verfahren, Spinal- und Periduralanästhesie, werden gezielt für Eingriffe am Unterkörper eingesetzt. Die thorakale Periduralanästhesie (PDA) kann auch bei Operationen im Brust- und Oberbauchbereich eine Option sein. Beide Methoden wirken auf Nervenfasern im Rückenmark.\\n\\nDiese Methoden eignen sich besonders für operative Eingriffe an der unteren Körperhälfte – etwa an Beinen, Hüfte oder im Leistenbereich. Die thorakale Periduralanästhesie (PDA) kann auch bei Eingriffen im Bereich des Brustkorbs und Oberbauchs sinnvoll sein.\\n\\n',\n",
       " 'Spinalanästhesie und Periduralanästhesie sind Methoden der Regionalanästhesie, die im unteren Körperbereich eingesetzt werden. Sie blockieren Schmerzsignale, indem sie Betäubungsmittel in die Nähe von Nervenfasern im Rückenmark injizieren. Dies führt zu einer vorübergehenden Schmerzlinderung in dem betroffenen Bereich.\\n\\nBeide Verfahren wirken auf die Nervenfasern, die im Rückenmark verlaufen:\\n\\n',\n",
       " 'Sowohl die Spinal- als auch die Periduralanästhesie werden im unteren Körperbereich eingesetzt. Bei der Spinalanästhesie wird das Medikament direkter in den Spinalraum injiziert, während bei der PDA es vor die harte Rückenmarkshaut gespritzt wird. Beide Verfahren wirken auf Nervenfasern im Rückenmark.\\n\\nBei der Spinalanästhesie wird das Betäubungsmittel in Höhe der Lendenwirbelsäule direkt in den sogenannten Spinalraum – den mit Nervenflüssigkeit gefüllten Raum unter der Rückenmarkshaut – injiziert.\\nBei der Periduralanästhesie (PDA) erfolgt die Injektion vor die harte Rückenmarkshaut in den sogenannten Periduralraum, entweder im Lendenwirbelbereich (lumbale PDA) oder im Brustwirbelbereich (thorakale PDA).\\n\\n',\n",
       " 'Hier bezieht sich \"beide Verfahren\" auf Spinal- und Periduralanästhesie. Beide Methoden wirken auf die Nervenfasern im Rückenmark und können kombiniert werden, um die Wirksamkeit zu erhöhen oder spezifische Effekte zu erzielen. Diese Kombination ermöglicht eine individuelle Anpassung der Schmerzbehandlung.\\n\\nEine Kombination beider Verfahren ist ebenfalls möglich.\\n\\n',\n",
       " 'Diese Technik, die Armplexusanästhesie, betäubt gezielt Nerven, die für die Gefühlswahrnehmung und Bewegung im Arm zuständig sind.  Die genaue Injektionsstelle hängt von der Position des Eingriffs ab und wird mithilfe von Ultraschall und/oder einem Nervenstimulator präzise bestimmt.  Die Stimulation kann kurzzeitig Muskelzuckungen oder ein elektrisierendes Gefühl auslösen.\\n\\nBei Operationen an Schulter, Arm oder Hand kann eine Betäubung des sogenannten Armplexus erfolgen – ein Nervengeflecht, das von der Halswirbelsäule aus durch die Schulterregion bis in die Finger verläuft. Das Betäubungsmittel wird je nach Lage des Eingriffs an einer der folgenden Stellen injiziert:\\n\\n',\n",
       " 'Diese Orte werden genutzt, um das Betäubungsmittel bei einer Armplexusanästhesie zu injizieren, einer Methode zur Betäubung des Nervengeflechts, das Arm und Hand versorgt. Die genaue Injektionsstelle hängt von der Lage des Eingriffs ab und wird vom Arzt gewählt. Ultraschall und Nervenstimulatoren helfen dabei, die Position der Nadel sicherzustellen.\\n\\nin der Achselhöhle (axillär)\\nunterhalb des Schlüsselbeins (infraklavikulär)\\noberhalb des Schlüsselbeins (supraklavikulär)\\nseitlich am Hals zwischen bestimmten Muskeln (interskalenär)\\n\\n',\n",
       " 'Um die korrekte Platzierung der Nadel bei der Armplexusanästhesie zu gewährleisten, werden Ultraschall und/oder ein Nervenstimulator eingesetzt. Der Nervenstimulator erzeugt elektrische Impulse, die kurzzeitige Muskelzuckungen oder ein Kribbeln verursachen können. Diese Reaktionen sind normal und zeigen an, dass der Nerv erreicht wurde.\\n\\nUm die genaue Position der Nadel sicherzustellen, nutzt der Arzt meist Ultraschall und/oder einen Nervenstimulator. Die Stimulation kann kurzfristige Muskelzuckungen oder ein elektrisierendes Gefühl auslösen.\\n\\n',\n",
       " 'Wenn eine Regionalanästhesie nicht ausreichend wirkt oder unerwünschte Nebenwirkungen auftreten, kann der Arzt auf eine Vollnarkose umsteigen, um den Eingriff sicher durchführen zu können. Dies ist eine seltene Situation, die eine individuelle Anpassung der Anästhesie erfordert. Der Arzt wird Sie über die Gründe für diesen Wechsel und die damit verbundenen Aspekte informieren.\\n\\nIn Einzelfällen kann es vorkommen, dass eine Regionalanästhesie nicht ausreicht, um die Schmerzleitung vollständig zu unterbinden, sich die Wirkung zu weit ausbreitet oder unerwünschte Nebenwirkungen auftreten. In solchen Situationen wird die Anästhesie unter Umständen in eine Vollnarkose umgewandelt.\\n\\n',\n",
       " 'Dieser Katheter ermöglicht eine gezielte Schmerzbehandlung, da er direkt neben den Nerven platziert wird, die Schmerzen leiten. So können Schmerzmittel effizienter wirken und die benötigte Dosis reduziert werden. Sollte der Einsatz eines solchen Katheters für die postoperative Schmerztherapie empfohlen werden, klärt der behandelnde Arzt Sie darüber gesondert auf.\\n\\nFür eine effektive Schmerztherapie nach der Operation kann ein dünner Kunststoffschlauch (regionaler Katheter) verwendet werden, über den gezielt schmerzstillende Medikamente verabreicht werden. Dieser Katheter wird in die Nähe der schmerzleitenden Nerven eingeführt – vor, während oder nach der Operation. Wenn der Katheter bereits zur Regionalanästhesie genutzt wurde, kann er im Anschluss weiter zur Schmerzbehandlung dienen.\\n\\n',\n",
       " 'Ein regionaler Katheter kann nach der Operation zur Schmerzbehandlung eingesetzt werden. Dabei wird ein dünner Schlauch in die Nähe der schmerzleitenden Nerven eingeführt, um schmerzstillende Medikamente gezielt zu verabreichen. Der Arzt wird Sie über die Notwendigkeit und die damit verbundenen Aspekte separat aufklären.\\n\\nSollte der Einsatz eines solchen Katheters für die postoperative Schmerztherapie empfohlen werden, klärt der behandelnde Arzt Sie darüber gesondert auf.\\n\\n',\n",
       " 'Ein zentraler Venenkatheter ist ein Schlauch, der in eine große Vene gelegt wird, um Medikamente, Flüssigkeiten oder Blut zu verabreichen oder Blut abzugewinnen.  Die Anlage erfordert eine separate Aufklärung über Ablauf und Risiken.  Dies kann beispielsweise bei der Verabreichung bestimmter Medikamente oder zur Überwachung bestimmter Werte notwendig sein.\\n\\nFalls absehbare Zusatzmaßnahmen oder Folgeeingriffe notwendig werden, wie z.\\u202fB. das Einführen eines zentralen Venenkatheters, wird Ihr Arzt Sie dazu gesondert informieren.\\n\\n',\n",
       " 'Bluttransfusionen sind selten notwendig, bergen aber Risiken wie Unverträglichkeitsreaktionen oder Infektionen.  Es wird eine separate Aufklärung über Ablauf und Risiken geben, inklusive Maßnahmen zur Reduzierung des Blutbedarfs.  Seltene, aber mögliche Risiken sind die Übertragung von Krankheiten oder Infektionen durch unbekannte Erreger.\\n\\nSollte eine Bluttransfusion mit Spenderblut in Frage kommen, erhalten Sie ebenfalls eine separate Aufklärung über deren Ablauf und mögliche Risiken. Dazu zählen unter anderem Unverträglichkeitsreaktionen oder Infektionen – wobei ernsthafte Komplikationen wie eine Übertragung von Hepatitis oder HIV äußerst selten sind. Auch die Möglichkeit von Infektionen durch bislang unbekannte Erreger kann nicht vollständig ausgeschlossen werden. Zusätzlich werden Ihnen Maßnahmen erläutert, mit denen sich der Bedarf an Fremdblut möglicherweise verringern lässt.\\n\\n',\n",
       " 'Trotz umfassender Überwachung während der Narkose können selten, aber schwerwiegende Komplikationen auftreten, die lebensbedrohlich sein können und weitere medizinische Eingriffe erfordern. Diese Risiken sind von individuellen Faktoren und Vorerkrankungen abhängig und werden vom Arzt im Detail besprochen. Sollten solche Komplikationen auftreten, ist eine sofortige und intensive medizinische Versorgung notwendig.\\n\\nWährend des Eingriffs werden Ihre wichtigsten Vitalfunktionen wie Herzschlag, Atmung und Kreislauf kontinuierlich überwacht und bei Bedarf unterstützt, etwa durch kreislaufstabilisierende Medikamente. Trotz dieser umfassenden Maßnahmen lassen sich – wenn auch selten – schwerwiegende Komplikationen nicht vollständig ausschließen. Diese können in Einzelfällen lebensbedrohlich sein und erfordern eventuell weitere medizinische Maßnahmen oder operative Eingriffe.\\n\\n',\n",
       " 'Diese Angaben zu den Häufigkeiten von Komplikationen sind Schätzungen und dienen lediglich zur Orientierung. Ihr individuelles Risiko hängt von Ihren persönlichen Vorerkrankungen und körperlichen Voraussetzungen ab. Sprechen Sie mit Ihrem Arzt, um Ihre spezifische Risikobewertung zu besprechen.\\n\\nDie im Folgenden genannten Häufigkeiten von Komplikationen dienen der groben Einordnung und basieren auf allgemeinen Erfahrungswerten. Sie sind nicht mit den offiziellen Definitionen von Nebenwirkungen in Arzneimittelbeipackzetteln identisch. Persönliche Vorerkrankungen, körperliche Besonderheiten oder bestehende Risikofaktoren können das Komplikationsrisiko beeinflussen.\\n\\n',\n",
       " '\"Off-Label-Use\" bedeutet, dass ein Medikament für eine Anwendung eingesetzt wird, für die es nicht die offizielle Genehmigung der Behörden hat. Dies kann aus verschiedenen Gründen geschehen, z.B. um neue Behandlungsmöglichkeiten zu testen oder um eine effektivere Therapie zu ermöglichen. Der Arzt wird Sie über die spezifischen Risiken und Vorteile dieser Vorgehensweise informieren.\\n\\nFalls vorgesehen ist, bei Ihnen Medikamente anzuwenden, die sich in der Anästhesie bewährt haben, jedoch nicht offiziell für diesen Zweck zugelassen sind (sogenannter Off-Label-Use), wird Ihr Arzt Sie darüber aufklären. Dabei geht er auf die bekannten Risiken ein. Unbekannte Nebenwirkungen lassen sich in diesen Fällen nicht ausschließen, und der Hersteller übernimmt unter Umständen keine Haftung.\\n\\n',\n",
       " 'Diese Verletzungen sind meist harmlos und bilden sich zurück, erfordern aber in seltenen Fällen weitere medizinische Maßnahmen.  Die Wahrscheinlichkeit für schwerwiegende Komplikationen ist sehr gering. Sollten Sie nach dem Eingriff ungewöhnliche Schwellungen, Schmerzen oder Anzeichen einer Infektion bemerken, informieren Sie bitte umgehend Ihren Arzt.\\n\\nWird eine Nadel, Kanüle oder ein Katheter gesetzt, kann es zu einer Verletzung von Blutgefäßen kommen. Das führt gelegentlich zu Blutergüssen oder Blutungen. Nur in seltenen Fällen ist eine weitergehende Behandlung oder sogar ein operativer Eingriff notwendig.\\n\\n',\n",
       " 'Katheter werden oft zur Verabreichung von Medikamenten oder Flüssigkeiten während der Narkose verwendet.  Eine Sepsis ist eine schwere Infektion des Blutes, die lebensbedrohlich sein kann und eine sofortige Behandlung erfordert.  Sollten Sie Anzeichen einer Infektion bemerken, informieren Sie umgehend das medizinische Personal.\\n\\nKatheter, insbesondere bei längerer Liegedauer in Venen, können Reizungen, Abszesse, Gewebeuntergang oder Narben verursachen. Infektionen können auftreten, vor allem bei geschwächtem Immunsystem. In sehr seltenen Fällen besteht die Gefahr einer lebensbedrohlichen Blutvergiftung (Sepsis).\\n\\n',\n",
       " 'Diese Verletzungen können durch Injektionen, Kanülen oder Kathetern entstehen, die während der Anästhesie platziert werden.  Sie können zu vorübergehenden oder bleibenden Beeinträchtigungen führen und erfordern in seltenen Fällen eine weitere Behandlung.  Sollten Sie nach dem Eingriff solche Beschwerden feststellen, informieren Sie bitte umgehend das medizinische Personal.\\n\\nDurch die Platzierung oder das Einführen solcher Hilfsmittel können Nerven verletzt werden. In der Folge kann es zu Schmerzen, Taubheitsgefühlen, Missempfindungen oder Bewegungsstörungen kommen. Manchmal verschwinden diese Symptome von selbst, in seltenen Fällen bleiben sie dauerhaft bestehen.\\n\\n',\n",
       " 'Diese seltenen Komplikationen können die Notwendigkeit weiterer medizinischer Behandlungen oder sogar Operationen nach sich ziehen. Sollten solche Symptome auftreten, ist eine umgehende ärztliche Untersuchung wichtig, um die Ursache zu ermitteln und eine angemessene Behandlung einzuleiten. Die Wahrscheinlichkeit für solche schwerwiegenden Folgen ist jedoch äußerst gering.\\n\\nSehr selten kann es durch schwerwiegende Nervenverletzungen, größere Blutergüsse oder entzündliche Reaktionen zu chronischen Schmerzen oder dauerhaften Lähmungen kommen.\\n\\n',\n",
       " 'Thrombosen und Embolien entstehen, wenn sich Blutgerinnsel bilden und diese Gefäße verstopfen. Dies kann zu schwerwiegenden Komplikationen wie Lungenembolie (Blutgerinnsel in der Lunge), Herzinfarkt oder Schlaganfall führen.  Die Gefahr ist zwar gering, sollte aber bekannt sein.\\n\\nThrombosen oder Embolien: Gerinnt Blut und verstopft Gefäße, kann dies – je nach Lage – zu ernsten, potenziell lebensbedrohlichen Folgen führen, z.\\u202fB. Lungenembolie, Herzinfarkt oder Schlaganfall.\\n\\n',\n",
       " 'Diese Schäden entstehen durch die Positionierung des Körpers während der Narkose. Sie sind meist vorübergehend, können aber in seltenen Fällen zu bleibenden Beeinträchtigungen führen. Vorsichtsmaßnahmen werden getroffen, um das Risiko zu minimieren.\\n\\nLagerungsbedingte Schäden: Während der Anästhesie kann es durch unbeabsichtigten Druck, Zug oder Überstreckung zu Schäden an Haut, Gewebe oder Nerven kommen. In den meisten Fällen bilden sich diese Beschwerden innerhalb weniger Monate zurück. Selten können bleibende Bewegungseinschränkungen oder Empfindungsstörungen zurückbleiben. Schäden an der Hornhaut des Auges treten dank Vorsichtsmaßnahmen nur sehr selten auf und heilen meist folgenlos ab.\\n\\n',\n",
       " 'Diese Nebenwirkungen sind meist vorübergehend und können durch Medikamente behandelt werden. Sollten diese Beschwerden anhalten oder sich verschlimmern, informieren Sie bitte das medizinische Personal. Es ist wichtig, dass Sie alle Medikamente und Materialien, die während der Anästhesie verwendet werden, mit Ihrem Arzt besprechen, um mögliche Allergien oder Unverträglichkeiten frühzeitig zu erkennen.\\n\\nMedikamentenreaktionen: Die eingesetzten Mittel (z.\\u202fB. Betäubungs- oder Muskelrelaxantien, Desinfektionsmittel, Latexprodukte) können Nebenwirkungen verursachen, darunter Übelkeit, Erbrechen, Juckreiz, Zittern, Hautausschläge oder Kreislauf- und Atemprobleme. Diese Beschwerden lassen sich in der Regel schnell und effektiv behandeln.\\n\\n',\n",
       " 'Diese seltenen, aber schwerwiegenden Komplikationen erfordern oft eine intensive medizinische Behandlung und können in extremen Fällen lebensbedrohlich sein.  Sollten solche Ereignisse auftreten, kann eine langfristige Rehabilitation oder weitere medizinische Maßnahmen notwendig werden.  Das medizinische Personal ist darauf vorbereitet, solche Situationen schnell und effektiv zu behandeln.\\n\\nSchwere Komplikationen: In seltenen Fällen können starke allergische Reaktionen oder unvorhergesehene Zwischenfälle auftreten – etwa Krampfanfälle, Schockzustände oder Versagen von Organfunktionen (z.\\u202fB. Herz, Lunge, Nieren). Solche Ereignisse können bleibende Schäden verursachen, z.\\u202fB. Lähmungen oder Hirnschädigungen, und erfordern in der Regel intensivmedizinische Versorgung.\\n\\n',\n",
       " 'Metamizol ist ein Schmerzmittel, das häufig bei Narkosen eingesetzt wird. Es kann in seltenen Fällen zu einer Agranulozytose führen, einer gefährlichen Abnahme weißer Blutkörperchen, die das Risiko von Infektionen erhöht. Ihr Arzt wird Sie über mögliche Alternativen informieren, wenn dies für Sie in Frage kommt.\\n\\nMedikamentenspezifische Risiken: Jedes Präparat birgt individuelle Gefahren. Beispielsweise kann das häufig verwendete Schmerzmittel Metamizol in seltenen Fällen eine gefährliche Abnahme weißer Blutkörperchen (Agranulozytose) verursachen, insbesondere bei längerer Einnahme. Der Arzt informiert Sie über relevante Nebenwirkungen und prüft individuell Nutzen und Alternativen.\\n\\n',\n",
       " 'Maligne Hyperthermie ist eine seltene, lebensbedrohliche Stoffwechselerkrankung, die durch bestimmte Narkosemittel ausgelöst werden kann. Sie führt zu einem rapiden Anstieg der Körpertemperatur und erfordert sofortige, intensive medizinische Behandlung.  Symptome können Muskelsteifheit, erhöhte Herzfrequenz und Atembeschwerden umfassen.\\n\\nMaligne Hyperthermie: Diese seltene, genetisch bedingte Stoffwechselstörung kann nach Gabe bestimmter Narkosegase oder Muskelrelaxantien auftreten. Sie zeigt sich durch einen gefährlich schnellen Temperaturanstieg und muss sofort intensivmedizinisch behandelt werden.\\n\\n',\n",
       " 'Diese Symptome sind vorübergehend und meist harmlos, können aber in seltenen Fällen länger anhalten. Sollten die Beschwerden über einen längeren Zeitraum bestehen, ist ein Arztbesuch ratsam. Es ist wichtig, sich ausreichend Zeit zur Erholung zu nehmen.\\n\\nVerwirrtheit nach Narkose: Besonders bei älteren Personen können nach der Anästhesie geistige Einschränkungen, Orientierungslosigkeit oder Gedächtnisstörungen auftreten. Diese verschwinden meist nach wenigen Stunden oder Tagen, gelegentlich halten sie Wochen oder länger an. Dauerhafte Beeinträchtigungen sind jedoch sehr selten.\\n\\n',\n",
       " 'Um das Risiko einer Aspiration zu minimieren, ist es wichtig, dass Patient*innen die Nüchternheitsregeln vor der Narkose genau befolgen. Diese Regeln stellen sicher, dass der Magen leer ist und kein Magensaft in die Lunge gelangen kann. Die genauen Regeln variieren je nach Alter und werden vom medizinischen Personal mitgeteilt.\\n\\nEinatmen von Mageninhalt (Aspiration): Falls während der Narkose Mageninhalt in die Lunge gelangt, kann das schwerwiegende Folgen haben – etwa eine Lungenentzündung, akutes Atemversagen oder bleibende Lungenschäden. Bei nüchternen Patientinnen und Patienten ist dieses Risiko sehr gering.\\n\\n',\n",
       " 'Ein Laryngo- oder Bronchospasmus ist eine plötzliche Verengung der Atemwege, die durch Muskelkrämpfe verursacht wird. Er kann durch das Einführen oder Entfernen von Beatmungsschläuchen auftreten und erfordert in der Regel eine medikamentöse Behandlung. Sollte eine Intensivüberwachung notwendig werden, wird diese umgehend eingeleitet.\\n\\nLuftwegskomplikationen: Beim Einführen oder Entfernen von Beatmungshilfen (v.\\u202fa. Tubus, seltener Kehlkopfmaske) kann es zu einem krampfartigen Verschluss der Atemwege (Laryngo- oder Bronchospasmus) kommen. Diese Reaktion lässt sich meist gut mit Medikamenten behandeln, erfordert in Ausnahmefällen jedoch eine Intensivüberwachung.\\n\\n',\n",
       " 'Diese Beschwerden entstehen durch vorübergehende Reizungen oder Schwellungen im Rachenraum, die durch das Einführen der Beatmungshilfen entstehen können. Sie klingen meist innerhalb weniger Tage ab, ohne bleibende Schäden zu verursachen. Sollten die Beschwerden länger anhalten oder sich verschlimmern, informieren Sie bitte Ihren Arzt.\\n\\nHeiserkeit und Schluckbeschwerden: Diese Beschwerden treten häufiger nach der Verwendung eines Tubus auf, gelegentlich auch nach Einsatz einer Kehlkopfmaske. Sie sind in der Regel vorübergehend.\\n\\n',\n",
       " 'Diese Verletzungen können bei der Verwendung eines Beatmungstubus auftreten und sind besonders bei bereits geschädigten Zähnen oder gelockertem Zahnersatz möglich. Sie können zu Heiserkeit, Schluckbeschwerden oder in seltenen Fällen zu bleibenden Beeinträchtigungen führen. Sollten Sie nach der Narkose solche Beschwerden feststellen, informieren Sie bitte das medizinische Personal.\\n\\nVerletzungen im Rachenraum: Schäden an Stimmbändern (z.\\u202fB. Stimmbandlähmung), dem Kehlkopf oder der Luftröhre sowie Empfindungsstörungen an der Zunge sind selten, können aber zu dauerhaften Beeinträchtigungen führen.\\n\\n',\n",
       " 'Die Verwendung eines Beatmungstubus kann bei bereits geschädigten Zähnen zu Schäden führen, bis hin zum Zahnverlust. Dies ist insbesondere dann relevant, wenn die Zähne bereits locker sind. Klären Sie diesbezüglich im Vorfeld mit Ihrem Arzt.\\n\\nZahnschäden: Besonders bei bereits geschädigten oder gelockerten Zähnen kann es zu Schäden an Zähnen, Zahnersatz oder Implantaten bis hin zum Zahnverlust kommen. Dies gilt insbesondere bei der Verwendung eines Beatmungstubus.\\n\\n',\n",
       " '**Bewusstsein unter Narkose (Awareness):** Dies ist ein seltenes Ereignis, bei dem Patienten während der Narkose ein gewisses Maß an Bewusstsein entwickeln. Obwohl das Schmerzempfinden in der Regel erhalten bleibt, kann die Erfahrung belastend sein und eine therapeutische Nachbetreuung erforderlich machen. Die Wahrscheinlichkeit ist sehr gering und wird durch sorgfältige Überwachung und Anpassung der Medikamente minimiert.\\n\\nBewusstsein unter Narkose (Awareness): In sehr seltenen Fällen wachen Patientinnen oder Patienten während der Narkose teilweise auf. Das Schmerzempfinden bleibt dabei fast immer ausgeschaltet. Mögliche belastende Erinnerungen können eine therapeutische Nachbetreuung erfordern.\\n\\n',\n",
       " 'Diese Reaktionen sind selten, entstehen durch eine ungewollte rasche Verteilung des Betäubungsmittels im Körper und können eine intensive medizinische Betreuung erfordern.  Sollten solche Symptome auftreten, ist eine sofortige Meldung an das medizinische Personal entscheidend.\\n\\nReaktionen auf das Betäubungsmittel: Falls das Mittel versehentlich direkt in ein Blutgefäß gespritzt wird oder sehr schnell ins Blut übertritt, können Krampfanfälle, Bewusstlosigkeit sowie schwere, teils lebensbedrohliche Störungen von Herz-Kreislauf oder Atmung auftreten. Solche Komplikationen sind auch möglich, wenn sich das Betäubungsmittel im Körper zu weit ausbreitet, z.\\u202fB. bei Spinalanästhesie, bei einer unbeabsichtigten Injektion in den Spinalraum bei einer PDA oder bei einer Armplexusanästhesie mit Auswirkung auf das Halsrückenmark. In diesen Fällen ist ggf. eine intensivmedizinische Behandlung notwendig.\\n\\n',\n",
       " 'Ein Pneumothorax entsteht, wenn Luft in den Raum zwischen Lunge und Brustwand gelangt. Dies kann zu Atembeschwerden führen und erfordert möglicherweise eine Absaugung der Luft, um die Lunge wieder entfalten zu können.  Die Gefahr ist bei bestimmten Anästhesietechniken, wie der thorakalen Periduralanästhesie oder bestimmten Formen der Armplexusanästhesie, etwas erhöht.\\n\\nPneumothorax (Luft in der Brusthöhle): Bei thorakaler PDA oder Armplexusanästhesien – außer der axillären Form – kann es durch Verletzung des Rippenfells zu Luftansammlungen in der Brust kommen. Diese können die Atmung beeinträchtigen und Schmerzen verursachen. Manchmal muss die Luft gezielt abgesaugt werden.\\n\\n',\n",
       " 'Ein regionaler Katheter wird manchmal nach der Operation zur Schmerzbehandlung eingesetzt. Sollte dieser sich verknäueln oder Teile abbrechen, kann dies eine Schädigung von Gefäßen oder Nerven verursachen und in seltenen Fällen einen chirurgischen Eingriff erforderlich machen. Es handelt sich um ein sehr geringes Risiko.\\n\\nKomplikationen bei Schmerzkathetern: Wenn ein regionaler Katheter zur Schmerzbehandlung eingesetzt wird, besteht ein sehr geringes Risiko, dass sich der Katheter verknäuelt, Teile abbrechen oder Gefäße und Nerven geschädigt werden. In solchen Fällen kann ein chirurgischer Eingriff notwendig sein.\\n\\n',\n",
       " 'Die Spinal- und Periduralanästhesie werden unterhalb des Rückenmarks durchgeführt, um das Risiko einer Rückenmarkverletzung zu minimieren. Während eine Schädigung des Rückenmarks bei der lumbalen Technik unwahrscheinlich ist, ist sie bei einer thorakalen PDA theoretisch möglich, wenn auch sehr selten. Sollte eine Schädigung auftreten, kann diese zu bleibenden Lähmungen führen.\\n\\nVerletzungen des Rückenmarks: Bei der Spinal- und lumbalen Periduralanästhesie ist eine direkte Schädigung des Rückenmarks nahezu ausgeschlossen, da die Injektion in einem Bereich unterhalb des Rückenmarks erfolgt. Bei thorakaler PDA ist dieses Risiko äußerst gering, aber nicht gänzlich auszuschließen.\\n\\n',\n",
       " 'Diese seltenen Lähmungen können die Kontrolle über Blase und Darm betreffen und sind Folge von Komplikationen wie Blutansammlungen oder Infektionen im Bereich der Wirbelsäule. Sollten Sie nach der Anästhesie entsprechende Beschwerden feststellen, informieren Sie bitte umgehend das medizinische Personal.\\n\\nLähmungen und Funktionsstörungen: In seltenen Fällen kann es durch Blutansammlungen (Hämatome), Infektionen (Abszesse) oder Verletzungen von Rückenmarksnerven zu bleibenden Lähmungen, etwa der Blasen- oder Darmentleerung, kommen – im Extremfall bis hin zur Querschnittslähmung.\\n\\n',\n",
       " 'Eine Meningitis (Hirnhautentzündung) ist eine Entzündung der Hirnhäute, die durch Bakterien, Viren oder Pilze verursacht werden kann. Symptome sind unter anderem Fieber, Kopfschmerzen und Nackensteifigkeit. Eine Meningitis erfordert eine umgehende medizinische Behandlung.\\n\\nHirnhautentzündungen: Eine aufsteigende Infektion kann in seltenen Fällen zu einer Meningitis führen.\\n\\n',\n",
       " 'Ein Durchstich der harten Rückenmarkshaut kann zu Reizungen von Hirnnerven führen, die sich in vorübergehenden Sehstörungen, Hörproblemen oder starken Kopfschmerzen äußern können. In seltenen Fällen kann es zu einer Hirnblutung oder Flüssigkeitsansammlung kommen, die weitere medizinische Maßnahmen erfordern könnte. Sollten solche Beschwerden auftreten, informieren Sie bitte umgehend das medizinische Personal.\\n\\nKomplikationen durch unbeabsichtigten Durchstich der harten Rückenmarkshaut: Wird diese bei der PDA versehentlich durchstochen oder tritt dies im Rahmen einer Spinalanästhesie auf, kann es zu folgenden Beschwerden kommen:\\n\\n',\n",
       " 'Dies sind mögliche Komplikationen, die auftreten können, wenn die harte Rückenmarkshaut bei einer Spinal- oder Periduralanästhesie verletzt wird.  Sollten diese auftreten, kann eine Eigenblutpflasterung helfen, und in seltenen Fällen sind weitere medizinische Maßnahmen erforderlich.  Sollten Sie anhaltende Beschwerden haben, informieren Sie bitte umgehend Ihren Arzt.\\n\\nReizung von Hirnnerven mit vorübergehenden oder selten bleibenden Sehstörungen, Hörproblemen oder sehr starken Kopfschmerzen.\\nBei anhaltenden Kopfschmerzen kann eine Eigenblutpflasterung (Blutpatch) durchgeführt werden, die in der Regel zur Beschwerdebesserung führt. Nur in Ausnahmefällen dauern die Beschwerden länger an.\\nSehr selten kann es zu einer Hirnblutung, einem Blut- oder Flüssigkeitsstau unter der harten Hirnhaut (subdurales Hämatom/Hygrom) oder einer Hirnvenenthrombose mit möglichen bleibenden Schäden kommen.\\nRückenschmerzen und Harnverhalt: Kurzfristige Rückenschmerzen und Probleme beim Wasserlassen treten vergleichsweise häufig auf. Letzteres kann die vorübergehende Einlage eines Blasenkatheters erforderlich machen, was gelegentlich zu Blutungen oder Harnwegsinfektionen führen kann.\\n\\n',\n",
       " 'Diese Störungen sind meist vorübergehend und können durch Medikamente oder andere Faktoren beeinflusst werden. Sprechen Sie mit Ihrem Arzt, wenn Sie Bedenken haben oder die Probleme anhalten. Es gibt Möglichkeiten, diese zu behandeln und zu lindern.\\n\\nSexuelle Funktionsstörungen: Vorübergehende Störungen der Potenz sind ebenfalls möglich.\\n\\n',\n",
       " 'Diese Symptome sind eine mögliche Folge der Armplexusanästhesie, einer Technik, bei der Nerven im Schulterbereich betäubt werden.  Obwohl die meisten Beeinträchtigungen vorübergehend sind, besteht ein geringes Risiko für bleibende Schäden. Sollten diese Symptome auftreten, informieren Sie bitte umgehend das medizinische Personal.\\n\\nEmpfindungs- und Bewegungsstörungen: Infolge der Betäubung können Missempfindungen wie Kribbeln, Taubheitsgefühle oder Bewegungsstörungen im Arm oder Nacken auftreten. In der Regel verschwinden diese innerhalb von Wochen oder Monaten. In seltenen Fällen können dauerhafte Nervenschädigungen zu anhaltenden Schmerzen oder Lähmungen führen (z.\\u202fB. Armlähmung).\\n\\n',\n",
       " 'Die interskalenäre und supraklavikuläre Technik sind Arten der Armplexusanästhesie, bei denen ein Betäubungsmittel in die Nähe der Nerven im Schulterbereich injiziert wird. Eine Zwerchfellnervenlähmung kann zu Atembeschwerden führen, ist aber meist vorübergehend. In seltenen Fällen kann eine dauerhafte Atmeinschränkung die Folge sein.\\n\\nZwerchfellnervenlähmung: Eine vorübergehende Lähmung des Nervs, der das Zwerchfell versorgt, ist besonders bei der interskalenären und supraklavikulären Technik häufig, gelegentlich auch bei der infraklavikulären Technik. Sie verläuft meist symptomlos. In Einzelfällen kann es zu Atembeschwerden kommen, die in der Regel spontan abklingen. Sehr selten wird eine künstliche Beatmung erforderlich. Nach interskalenärer Blockade ist im Ausnahmefall eine dauerhafte Lähmung mit bleibender Atemeinschränkung möglich.\\n\\n',\n",
       " 'Eine Stimmbandlähmung kann dazu führen, dass die Stimme heiser klingt. Dies ist meist vorübergehend und resultiert aus einer Beeinträchtigung des Nervs, der die Stimmbänder steuert. Die Heiserkeit sollte sich im Laufe der Zeit wieder bessern.\\n\\nStimmbandlähmung: Gelegentlich kann es zu einer kurzzeitigen Lähmung des Stimmbandnervs kommen, die sich durch vorübergehende Heiserkeit bemerkbar macht.\\n\\n',\n",
       " 'Das Horner-Syndrom ist eine seltene Folge der Armplexusanästhesie, die durch eine Schädigung des sympathischen Nervensystems verursacht wird. Es äußert sich in typischen Symptomen wie einem hängenden Augenlid, vermindertem Schweißausfluss und Heiserkeit. Diese Symptome sind meist vorübergehend und verschwinden innerhalb weniger Wochen oder Monate.\\n\\nHorner-Syndrom: Ein einseitiges herabhängendes Augenlid, ein Wärmegefühl im Gesicht oder Heiserkeit sind typische, meist harmlose Begleiterscheinungen der Armplexusanästhesie – mit Ausnahme der axillären Technik.\\n\\n',\n",
       " 'Diese Hinweise zur Nüchternheit sind wichtig, um Komplikationen während der Narkose zu vermeiden, insbesondere das Einatmen von Mageninhalt, das zu einer Lungenentzündung führen kann. Die genauen Zeiten variieren je nach Alter und Art der geplanten Untersuchung. Bitte halten Sie sich strikt an die Anweisungen des medizinischen Personals.\\n\\n\\nBitte beachten Sie unbedingt die nachfolgenden Hinweise zur NÜCHTERNHEIT, sofern der Arzt keine abweichenden Anordnungen gegeben hat:\\n\\n',\n",
       " 'Diese Anweisung bezieht sich auf die Nüchternheitsregeln vor einer Narkose. Diese Regeln sind wichtig, um Komplikationen wie Aspiration (Einatmen von Mageninhalt) während der Operation zu vermeiden. Die genauen Zeiten können je nach Art der Narkose und individuellen Faktoren variieren.\\n\\nErwachsene:\\nBis zu sechs Stunden vor dem Eingriff ist eine leichte, gut verdauliche Mahlzeit erlaubt (z.\\u202fB. eine Scheibe Weißbrot mit Marmelade, dazu ein Glas Milch).\\n\\n',\n",
       " 'Dies bezieht sich auf die Nüchternheitsregeln vor einer Narkose, die wichtig sind, um Komplikationen während der Operation zu vermeiden. Die genauen Zeiten variieren je nach Alter und Art der geplanten Untersuchung. Bei Unsicherheiten sollten Sie sich vorab beim medizinischen Personal erkundigen.\\n\\nZwischen sechs und zwei Stunden vor der Anästhesie dürfen Sie lediglich noch 1–2 Gläser klare Flüssigkeiten (z.\\u202fB. Wasser oder Tee ohne Milch) zu sich nehmen. Diese Getränke dürfen keinerlei feste Bestandteile, Fette oder Alkohol enthalten.\\n\\n',\n",
       " 'Diese Regelung dient der Sicherheit der Patienten und minimiert das Risiko von Komplikationen während der Narkose, da der Mageninhalt bei Jugendlichen ebenfalls gefährlich sein kann. Die genauen Nüchternheitszeiten sind wichtig, um eine sichere Narkose zu gewährleisten.\\n\\nJugendliche unter 18 Jahren:\\nMüssen spätestens sechs Stunden vor der Narkose das Essen einstellen.\\n\\n',\n",
       " 'Diese Regelung gilt auch für Jugendliche unter 18 Jahren. Es ist wichtig, sich genau an die Nüchternheitsregeln zu halten, da diese die Sicherheit während der Narkose gewährleisten. Abweichende Anordnungen Ihres Arztes sind unbedingt zu befolgen.\\n\\nZwischen sechs und einer Stunde vor der Anästhesie dürfen auch sie nur klare, fettfreie und alkoholfreie Flüssigkeiten (z.\\u202fB. Tee ohne Milch, Wasser) trinken.\\n\\n',\n",
       " 'Dieser Abschnitt erklärt, dass es Nüchternheitsrichtlinien gibt, die vor einer Narkose eingehalten werden müssen. Wenn diese Regeln nicht befolgt wurden, muss das medizinische Personal informiert werden, da dies Auswirkungen auf die Sicherheit der Narkose haben kann. Die genauen Nüchternheitszeiten variieren je nach Art der geplanten Prozedur und Alter des Patienten.\\n\\n\\nAb dem jeweils für Sie geltenden Zeitpunkt ist jegliche Nahrungs- und Flüssigkeitsaufnahme verboten! Sollten Sie sich nicht vollständig an die Nüchternheitsvorgaben gehalten haben, informieren Sie bitte umgehend das medizinische Personal!\\n\\n',\n",
       " 'Rauchen beeinträchtigt die Sauerstoffaufnahme und kann Komplikationen wie Lungenentzündung oder Kreislaufprobleme während und nach der Narkose verstärken.  Es wird empfohlen, mindestens 24 Stunden vor der Narkose nicht zu rauchen, um das Risiko zu minimieren.  Sprechen Sie mit Ihrem Arzt, wenn Sie Schwierigkeiten haben, das Rauchen einzustellen.\\n\\nRauchen erhöht grundsätzlich das Risiko während Narkose und Operation, zum Beispiel für Infektionen der Lunge, Durchblutungsprobleme oder Kreislaufstörungen.\\n\\n',\n",
       " 'Dies ist wichtig, da einige Medikamente mit der Narkose interagieren können oder vor der Operation abgesetzt werden müssen, um Komplikationen zu vermeiden. Besprechen Sie mit Ihrem Arzt, ob Sie Ihre üblichen Medikamente vor der Operation weiternehmen dürfen oder ob Anpassungen erforderlich sind. Bringen Sie eine Liste aller Medikamente, die Sie einnehmen, mit in die Klinik.\\n\\nDer Arzt wird mit Ihnen besprechen, welche Medikamente weiterhin eingenommen, abgesetzt oder gegebenenfalls ersetzt werden müssen.\\n\\n',\n",
       " 'Diese Unterlagen helfen dem medizinischen Personal, Ihre Krankengeschichte besser zu verstehen und die Behandlung optimal anzupassen.  Sollten Sie keine dieser Unterlagen besitzen, ist dies in der Regel kein Problem, da das medizinische Team sich gegebenenfalls direkt mit Ihren behandelnden Ärzten in Verbindung setzen kann.\\n\\nBitte bringen Sie sämtliche vorhandenen medizinischen Unterlagen mit (z.\\u202fB. Narkosepass, Allergiepass, Impfausweis, Marcumar- oder Diabetikerausweis, Herzschrittmacher-Ausweis). Falls eine Patientenverfügung, Vorsorgevollmacht oder Betreuungsvollmacht existiert, bringen Sie bitte eine Kopie mit.\\n\\n',\n",
       " 'Diese Maßnahmen dienen der Patientensicherheit und Hygiene während der Narkose. Entfernte Gegenstände könnten die Narkose erschweren oder das Infektionsrisiko erhöhen. Besprechen Sie mit dem medizinischen Personal, was Sie behalten dürfen.\\n\\nKontaktlinsen, herausnehmbare Prothesen, Schmuck wie Ringe oder Piercings sowie künstliche Haarteile müssen vor Beginn der Narkose entfernt werden. Klären Sie gegebenenfalls, ob Sie Ihre Brille oder Hörhilfe mit in den Vorbereitungsraum nehmen dürfen. Verzichten Sie bitte vollständig auf Kosmetika und Schminke (z.\\u202fB. Make-up oder Nagellack).\\n\\n',\n",
       " 'Diese Maßnahmen dienen dazu, Ihre Sicherheit während der Erholungsphase zu gewährleisten und mögliche Komplikationen zu vermeiden. Die Bettgitter verhindern unbeabsichtigte Bewegungen und Stürze, bis Sie wieder vollständig aufrecht gehen können. Ihr Zustand wird kontinuierlich überwacht, um sicherzustellen, dass Sie sich stabilisieren.\\n\\nSolange Ihre lebenswichtigen Körperfunktionen sich noch stabilisieren, bleiben Sie zur Kontrolle unter Beobachtung – eventuell auf einer Aufwach- oder Intensivstation. Um das Risiko von Verletzungen zu minimieren, kann es notwendig sein, Ihre Bewegungsmöglichkeiten vorübergehend einzuschränken, beispielsweise durch seitlich hochgestellte Bettgitter.\\n\\n',\n",
       " 'Nach einer Narkose sind Sie vorübergehend desorientiert und haben ein vermindertes Schmerzempfinden. Dies erhöht das Risiko von Verletzungen, da Sie möglicherweise nicht auf Druckstellen oder andere Beschwerden achten können. Aus diesem Grund ist es wichtig, dass Sie sich nach der Narkose nicht ohne Hilfe bewegen und die Anweisungen des medizinischen Personals befolgen.\\n\\nDa direkt nach der Narkose erhöhte Sturzgefahr besteht, dürfen Sie keinesfalls ohne Hilfe aufstehen! Achten Sie bitte darauf, betäubte Körperteile besonders zu schonen, da diese in dieser Phase kein Schmerzempfinden haben – Druckstellen und Verletzungen könnten unbemerkt entstehen. Nehmen Sie Medikamente ausschließlich nach ärztlicher Anordnung ein.\\n\\n',\n",
       " 'Hormonelle Verhütungsmittel können durch die Narkose vorübergehend unwirksam werden. Dies bedeutet, dass während der ersten Woche nach der Operation ein zusätzlicher Schutz vor ungewollter Schwangerschaft erforderlich sein könnte. Sprechen Sie dies bitte mit Ihrem Arzt ab, um die beste Vorgehensweise zu besprechen.\\n\\nFalls Sie hormonelle Verhütungsmittel verwenden (z.\\u202fB. Antibabypille oder Hormonspirale), beachten Sie bitte: Die Wirksamkeit kann nach einer Narkose noch mindestens sieben Tage lang eingeschränkt sein.\\n\\n',\n",
       " 'Diese Symptome können auf Komplikationen nach der Narkose oder Operation hindeuten und erfordern eine sofortige ärztliche Untersuchung. Ignorieren Sie diese Warnzeichen nicht, da eine frühzeitige Behandlung die Prognose verbessern kann.\\n\\n\\nBitte informieren Sie sofort medizinisches Personal, wenn nach dem Eingriff Beschwerden auftreten wie: Atemnot, Kreislaufprobleme, Bewusstseinsveränderungen, anhaltende Schmerzen, Fieber über 38\\u202f°C, Schüttelfrost, Übelkeit, Erbrechen, Halsschmerzen, Heiserkeit, Schluckbeschwerden, Sprechstörungen oder entzündliche Veränderungen (z.\\u202fB. im Mund). Ebenso sollten Probleme beim Wasserlassen oder Stuhlgang, Missempfindungen an Einstichstellen oder Gliedmaßen, Bewegungsstörungen oder Lähmungsanzeichen umgehend gemeldet werden.\\n\\n',\n",
       " 'Diese Maßnahme dient dazu, Ihre Sicherheit zu gewährleisten, da Sie sich nach der Narkose noch nicht vollständig auf die normale Umgebung eingestellt haben und Ihre Urteilskraft beeinträchtigt sein kann. Die Begleitperson sollte in der Lage sein, Sie zu unterstützen und im Notfall Hilfe zu holen.\\n\\nNach einem ambulanten Eingriff ist Ihre Reaktionsfähigkeit durch die verabreichten Betäubungs-, Schmerz- und sonstigen Medikamente für eine gewisse Zeit eingeschränkt. Aus diesem Grund ist es zwingend erforderlich, dass Sie sich von einer volljährigen Begleitperson nach Hause bringen lassen und dort während der ersten 24 Stunden – oder für den vom Arzt angegebenen Zeitraum – unter Aufsicht bleiben.\\n\\n',\n",
       " 'Dieser Abschnitt bezieht sich auf die Zeit nach der Narkose, insbesondere bei ambulanten Eingriffen. Er betont, dass die Fähigkeit, sicher zu handeln und zu entscheiden, durch die Medikamente beeinträchtigt ist und daher eine Begleitperson und Vorsicht geboten sind. Dies gilt vor allem für Tätigkeiten, die Konzentration und Reaktionsfähigkeit erfordern.\\n\\nIn dieser Phase dürfen Sie keinesfalls selbst ein Fahrzeug führen oder am Straßenverkehr teilnehmen. Auch Arbeiten mit Verletzungsgefahr, der Konsum von Alkohol oder das Rauchen sind in dieser Zeit zu unterlassen. Zudem sollten Sie während dieser Erholungsphase keine wichtigen Entscheidungen treffen, da Ihr Urteilsvermögen beeinträchtigt sein kann.',\n",
       " 'Hier wird auf Situationen eingegangen, in denen eine Einleitung der Geburt sinnvoll sein kann. Diese Situationen können verschiedene Ursachen haben, die sowohl die Gesundheit der Mutter als auch die des Kindes betreffen. Die Entscheidung für eine Einleitung erfolgt immer nach einer individuellen Risikoabwägung.\\n\\nIn bestimmten Situationen wird ein vorzeitiger Geburtsbeginn medizinisch empfohlen oder notwendig:\\n\\n',\n",
       " 'Eine Einleitung der Geburt kann aus verschiedenen Gründen notwendig oder ratsam sein. Die genannten Punkte beschreiben Situationen, in denen ein vorzeitiger Geburtsbeginn medizinisch sinnvoll sein kann, wobei individuelle Faktoren und eine Risikoabwägung immer berücksichtigt werden. Die genauen Gründe für eine Einleitung sind vielfältig und hängen von der spezifischen Situation der Mutter und des Kindes ab.\\n\\nnach dem Platzen der Fruchtblase ab etwa der 34. Schwangerschaftswoche – in Ausnahmen auch früher –, wenn keine Wehentätigkeit eintritt;\\nbei gesundheitlichen Problemen der Mutter, die ihr selbst oder dem Kind schaden könnten;\\nwenn Hinweise bestehen, dass ein längerer Verbleib im Uterus das Kind gefährden würde;\\nab dem Ende der 41. Schwangerschaftswoche wird zur Einleitung geraten;\\nab der vollendeten 42. Woche gilt die Einleitung als dringlich;\\nab der 40. Woche – oder auch schon früher – wenn starke Beschwerden (z.\\u202fB. Rückstau des Urins, starke Lockerung des Beckens) das weitere Austragen erheblich erschweren oder Sie selbst eine Einleitung wünschen.\\n\\n',\n",
       " 'Dieser Abschnitt betont die Wichtigkeit einer gemeinsamen Entscheidung zwischen Patientin und medizinischem Personal. Dabei werden sowohl die medizinische Notwendigkeit als auch die persönlichen Präferenzen und Bedenken der Patientin berücksichtigt. Eine offene Kommunikation und eine transparente Erklärung der Risiken und Vorteile sind entscheidend.\\n\\nIn jedem Fall erfolgt eine individuelle Risikoabwägung. Wir erklären Ihnen nachvollziehbar, warum die Geburtseinleitung für Sie und Ihr Kind sinnvoll oder notwendig sein könnte. Ihre Meinung und Ihr Bauchgefühl sind dabei ebenso wichtig – gemeinsam treffen wir eine ruhige und gut überlegte Entscheidung.\\n\\n',\n",
       " 'Eine Undichtigkeit der Fruchtblase setzt die schützende Hülle des Kindes frei, was das Risiko für Infektionen erhöht. Diese Infektionen können bei Neugeborenen zu Antibiotika-Behandlungen, Beatmung oder bleibenden Schäden führen. Ebenso kann sich bei der Mutter eine Infektion entwickeln, die ebenfalls behandelt werden muss.\\n\\nReißt die Fruchtblase oder entsteht eine Undichtigkeit, verliert das Kind seine schützende Hülle, was das Risiko für aufsteigende Infektionen erhöht. Infolgedessen kann das Neugeborene eventuell mit Antibiotika behandelt werden müssen. In sehr schweren Fällen kann eine Infektion zu Beatmungspflicht und bleibenden Schäden führen.\\n\\n',\n",
       " 'Diese Komplikationen treten auf, wenn die Fruchtblase vorzeitig reißt. Eine unbehandelte Infektion kann zu schweren Folgen für Mutter und Kind führen, bis hin zu dauerhafter Unfruchtbarkeit oder lebensbedrohlichen Zuständen. Eine frühzeitige Behandlung mit Antibiotika ist daher entscheidend.\\n\\nAuch bei der Mutter kann sich eine Infektion entwickeln – mit Schmerzen im Unterbauch, Fieber und Blutungen. Antibiotikatherapie ist dann ebenfalls erforderlich. In extremen Fällen kann sich die Entzündung im Körper ausbreiten (z.\\u202fB. Bauchfellentzündung oder Blutvergiftung), was intensive medizinische Maßnahmen notwendig macht. Eine Vereiterung der Eileiter als Folge kann zur dauerhaften Unfruchtbarkeit führen.\\n\\n',\n",
       " 'Bei Schwangerschaftsdiabetes kann das Kind überdurchschnittlich groß werden (Makrosomie) oder andere Komplikationen entwickeln, die eine frühzeitige Einleitung der Geburt notwendig machen. Dies gilt insbesondere, wenn eine Insulintherapie durchgeführt wird, da diese den Blutzuckerspiegel des Kindes beeinflussen kann. Eine frühzeitige Einleitung kann helfen, diese Risiken zu minimieren.\\n\\nBei Schwangerschaftsdiabetes ist das Kind mitunter sehr groß oder auf andere Weise gefährdet. Schon vor Überschreiten des errechneten Termins kann eine Geburtseinleitung ratsam sein – insbesondere bei Insulintherapie.\\n\\n',\n",
       " 'Diese Erkrankungen können die Gesundheit von Mutter und Kind gefährden und erfordern möglicherweise eine vorzeitige Einleitung, um Komplikationen zu vermeiden. Die Entscheidung für eine Einleitung wird immer individuell und nach sorgfältiger Risikoabwägung getroffen. Dabei werden die spezifischen Umstände der Schwangerschaft berücksichtigt.\\n\\nAuch Erkrankungen wie Bluthochdruck, gestörte Leber- oder Nierenfunktion, Wachstumsverzögerung des Kindes oder eine Unverträglichkeit der Blutgruppen zwischen Mutter und Kind können Anlass für eine frühzeitige Einleitung geben.\\n\\n',\n",
       " 'Ein größeres Kind benötigt mehr Platz und Nährstoffe im Mutterleib. Dies kann zu einer Verringerung der Fruchtwassermenge und einer möglichen Verunreinigung durch kindliche Ausscheidungen führen, was wiederum Atemprobleme beim Kind verursachen kann. Zudem wird der Geburtsvorgang selbst schwieriger und risikoreicher.\\n\\nWenn das Kind größer wird, kann dies sowohl die Versorgung im Mutterleib als auch die Geburt erschweren:\\n\\n',\n",
       " 'Mekonium ist der erste Stuhl des Kindes. Seine Aspiration, also das Einatmen in die Lunge, kann zu schweren Komplikationen wie Atemproblemen oder Sauerstoffmangel führen. Dies ist ein Grund, warum eine Terminüberschreitung medizinisch beobachtet wird.\\n\\nDie Fruchtwassermenge nimmt ab und kann durch Ausscheidungen des Kindes verunreinigt sein. Gelangt dieses sogenannte Mekonium in die Lunge (Aspiration), können Atemprobleme, Hirnunterversorgung oder im schlimmsten Fall ein Todesfall auftreten.\\n\\n',\n",
       " 'Diese Schwierigkeiten entstehen, weil der Platz im Becken begrenzt ist und das Kind möglicherweise nicht in optimaler Position liegt.  Die genannten Risiken betreffen sowohl das Kind als auch die Mutter und können eine medizinische Intervention erforderlich machen.  Eine frühzeitige Einleitung kann in solchen Fällen eine Option sein, um diese Risiken zu minimieren.\\n\\nGrößere Kinder machen den Geburtsvorgang schwieriger: Der enge Raum im Becken erhöht das Risiko für operative Eingriffe (Saugglocke, Zange, Kaiserschnitt). Auch Verletzungen wie Schlüsselbeinbrüche, Schulterprobleme oder Sauerstoffmangel sind wahrscheinlicher. Für die Mutter steigen die Risiken für Damm- und Scheidenrisse sowie für starke Blutungen.\\n\\n',\n",
       " 'Diese Aussage bezieht sich auf die Situation, wenn der errechnete Geburtstermin überschritten wird. Eine Verzögerung von mehr als zwei Wochen birgt erhebliche Risiken für das Kind, wie z.B. Lungenentzündung oder Atemprobleme. Daher wird in solchen Fällen eine Einleitung oder ein Kaiserschnitt dringend empfohlen.\\n\\nWird der Geburtstermin nur um wenige Tage überschritten, kann unter medizinischer Beobachtung noch einige Zeit abgewartet werden. Die Risiken nehmen allerdings mit jedem Tag leicht zu. Wird der Geburtstermin jedoch um mehr als zwei Wochen überschritten, erhöht sich die Gefahr für das Kind erheblich – etwa durch Lungenentzündung, Mekoniumaspiration oder Komplikationen bei der Lungenentwicklung. In diesem Fall wird dringend zur Einleitung oder einem Kaiserschnitt geraten.\\n\\n',\n",
       " 'Ein Kaiserschnitt muss nicht zwangsläufig bedeuten, dass eine vaginale Geburt ausgeschlossen ist. Die Möglichkeit einer vaginalen Geburt nach Kaiserschnitt hängt von verschiedenen Faktoren ab und sollte im persönlichen Beratungsgespräch ausführlich besprochen werden. Eine solche Geburt erfordert eine sorgfältige Überwachung im Krankenhaus.\\n\\nWurde in der Vergangenheit ein Kaiserschnitt durchgeführt, ist eine vaginale Geburt in etwa 60–85\\u202f% der Fälle dennoch möglich. Der Erfolg hängt vom damaligen Operationsgrund, der kindlichen Größe und weiteren individuellen Faktoren ab. Eine natürliche Geburt bedeutet häufig eine kürzere Erholungszeit und reduziert Komplikationen bei späteren Schwangerschaften. Eine Geburtseinleitung nach einem Kaiserschnitt setzt jedoch eine engmaschige Überwachung in einer Klinik voraus. Im persönlichen Beratungsgespräch klären wir alle relevanten Aspekte, Risiken und Chancen dieser Option.\\n\\n',\n",
       " 'Diese Methoden zielen darauf ab, die Wehen auf natürliche Weise zu unterstützen oder auszulösen. Die Wahl der Methode hängt vom Zustand der Mutter und des Kindes sowie vom Reifegrad der Gebärmutter ab. Jede Methode birgt spezifische Risiken und Nebenwirkungen, die im Vorfeld besprochen werden.\\n\\nVerschiedene Methoden stehen zur Verfügung, um die Geburt auf medizinischem Weg einzuleiten:\\n\\n',\n",
       " 'Prostaglandine sind Medikamente, die den natürlichen Hormonspiegel im Körper imitieren und zur Reifung des Gebärmutterhalses und zur Öffnung des Muttermunds eingesetzt werden. Sie werden verwendet, wenn der Geburtsbefund noch unreif ist, was bedeutet, dass der Gebärmutterhals noch nicht bereit ist, sich für die Geburt zu öffnen. Die Anwendung erfolgt lokal, um eine systemische Wirkung zu vermeiden.\\n\\nProstaglandine (z.\\u202fB. Misoprostol, Dinoproston):\\nDiese körpereigenen Botenstoffe fördern die Reifung des Gebärmutterhalses und das Öffnen des Muttermunds. Sie kommen zum Einsatz, wenn der Geburtsbefund noch unreif ist. Die Anwendung erfolgt als Tablette, Gel oder Membran in oder an der Scheide. Es kann nötig sein, die Dosis mehrfach zu wiederholen. Wird keine ausreichende Wirkung erzielt, kann später Oxytocin verabreicht werden.\\n\\n',\n",
       " 'Oxytocin ist ein natürlich im Körper vorkommendes Hormon, das normalerweise zur Geburt und Stillen freigesetzt wird. Bei der Wehenförderung wird es synthetisch verabreicht, um die Kontraktionen der Gebärmutter zu verstärken und den Geburtsverlauf zu beschleunigen. Die Dosierung und Verabreichung erfolgen über eine Infusion, was eine genaue Kontrolle und Anpassung ermöglicht.\\n\\nOxytocin:\\nDieses Hormon wird eingesetzt, wenn der Muttermund bereits teilweise geöffnet ist, besonders bei Frauen mit früherer vaginaler Geburt. Es wird über eine Infusion verabreicht und kann auch ergänzend zur Unterstützung des Geburtsverlaufs verwendet werden.\\n\\n',\n",
       " 'Rizinusöl wird in der Geburtshilfe traditionell als Wehencocktail eingesetzt. Es wirkt abführend, was indirekt Wehen auslösen kann. Aufgrund möglicher Nebenwirkungen wie Übelkeit und Erbrechen wird es heute seltener verwendet.\\n\\nRizinusöl (Wehencocktail):\\nDiese Mischung enthält Rizinusöl und weitere Zutaten, meist eingenommen als Getränk. Es wirkt abführend und kann Wehen auslösen.\\n\\n',\n",
       " 'Die Eipollösung ist eine Methode zur Wehenförderung, bei der die Fruchtblase vorsichtig entfernt wird. Sie wird nur angewendet, wenn der Muttermund bereits leicht geöffnet ist.  Dadurch können Wehen ausgelöst oder beschleunigt werden.\\n\\nEipollösung:\\nWenn der Muttermund leicht geöffnet ist, kann die Ärztin oder der Arzt die Fruchtblase bei einer vaginalen Untersuchung vorsichtig von der Gebärmutterwand lösen. Dies kann Wehen auslösen.\\n\\n',\n",
       " 'Die Amniotomie, also das Öffnen der Fruchtblase, wird durchgeführt, wenn der Geburtsbefund bereits reif ist. Dies kann Wehen auslösen oder beschleunigen und in vielen Fällen zu einer schnelleren Geburt führen. Es ist ein gängiges Verfahren, um die Wehenförderung zu unterstützen.\\n\\nAmniotomie (Fruchtblasensprengung):\\nBei reifem Geburtsbefund wird die Fruchtblase mit einem Instrument geöffnet. Dies löst in vielen Fällen Wehen aus und führt innerhalb weniger Stunden zur Geburt.\\n\\n',\n",
       " 'Ein Doppelballonkatheter ist eine Methode zur Geburtsvorbereitung, bei der mechanischer Druck auf den Muttermund ausgeübt wird, um Wehen auszulösen.  Dies geschieht, indem zwei Ballons im Muttermund aufgeblasen werden, was den Gebärmutterhals dehnt und die Freisetzung von Wehenhormonen anregt.  Die Methode wird in der Regel angewendet, wenn der Gebärmutterhals noch unreif ist.\\n\\nDoppelballonkatheter:\\nEin Katheter mit zwei Ballons wird durch die Scheide in den Muttermund eingeführt. Die Ballons werden gefüllt und dehnen durch Druck den Gebärmutterhals, wodurch körpereigene Wehenhormone aktiviert werden. Bei unzureichender Wirkung kann die Ballonfüllung wiederholt werden.\\n\\n',\n",
       " 'Quellstäbchen sind eine Methode zur Einleitung der Wehen, bei der dünne Stäbchen in den Muttermund eingelegt werden, um diesen langsam zu dehnen. Aufgrund des geringen Nutzens und möglicher Beschwerden wird diese Methode heutzutage kaum noch eingesetzt.  Es gibt modernere und effektivere Verfahren zur Wehenförderung.\\n\\nQuellstäbchen:\\nDünne, wasserabsorbierende Stäbchen werden in den Muttermund eingelegt und dehnen diesen langsam, wodurch Wehen ausgelöst werden können. Das Verfahren wird heute nur selten angewendet.\\n\\n',\n",
       " 'Dieser Abschnitt warnt davor, dass trotz aller Vorsichtsmaßnahmen bei der Einleitung der Geburt Komplikationen auftreten können. Die angegebenen Häufigkeiten sind Richtwerte und können durch individuelle Faktoren beeinflusst werden. Es ist wichtig, sich der Möglichkeit von Risiken bewusst zu sein und bei Auffälligkeiten sofort das medizinische Personal zu informieren.\\n\\n\\nAuch bei größter Sorgfalt können Komplikationen auftreten, die unter Umständen sofortige medizinische Maßnahmen oder Operationen notwendig machen. Die Angaben zur Häufigkeit sind Richtwerte und dienen der Einordnung des Risikos – individuelle Faktoren können das Risiko deutlich verändern.\\n\\n',\n",
       " '**Fruchtwasserembolie** ist eine sehr seltene, aber potenziell lebensbedrohliche Komplikation, bei der Fruchtwasser in den mütterlichen Kreislauf gelangt. Dies kann zu einer schweren allergischen Reaktion, Atemnot und Kreislaufversagen führen und erfordert sofortige medizinische Intervention. Die Wahrscheinlichkeit ist bei Wehenförderung leicht erhöht.\\n\\nSelten treten Beschwerden wie Übelkeit, Kreislaufprobleme oder Durchfall auf. In sehr seltenen Fällen kann es zu überstarken Wehen (Wehensturm) kommen, die medikamentös behandelt werden müssen. Im Extremfall kann Fruchtwasser in den mütterlichen Kreislauf gelangen (Fruchtwasserembolie), was eine lebensbedrohliche Situation für Mutter und Kind darstellen kann.\\n\\n',\n",
       " 'Eine Uterusruptur ist ein schwerwiegendes Ereignis, bei dem die Gebärmutterwand während der Wehen reißt. Dies kann zu Blutungen, Sauerstoffmangel für das Kind und Notfallmaßnahmen wie einen Kaiserschnitt erfordern.  Die Wahrscheinlichkeit einer Uterusruptur steigt mit der Anzahl und Art der vorherigen Eingriffe an der Gebärmutter.\\n\\nFrauen mit früheren Operationen an der Gebärmutter – wie Kaiserschnitt oder Entfernung von Myomen – haben ein erhöhtes Risiko für einen Riss der Gebärmutterwand (Uterusruptur). Informieren Sie Ihre Ärztin oder Ihren Arzt unbedingt über frühere Eingriffe!\\n\\n',\n",
       " 'Oxytocin ist ein Hormon, das natürlicherweise im Körper produziert wird und Wehen auslöst. Bei der Verabreichung als Infusion kann die Dosis genau eingestellt und bei Bedarf reduziert oder gestoppt werden, um eine Überstimulation zu vermeiden. Sollte dennoch eine Wehenhemmung notwendig sein, können dafür spezielle Medikamente eingesetzt werden.\\n\\nAuch Oxytocin kann zu übermäßiger Wehentätigkeit führen. Die Wirkung ist jedoch gut steuerbar, da das Hormon per Infusion verabreicht wird. Wird eine Überstimulation festgestellt, reicht oft schon das Stoppen der Infusion, manchmal ist eine Wehenhemmung mit Medikamenten erforderlich.\\n\\n',\n",
       " 'Dies bezieht sich auf die Einnahme von Rizinusöl als Wehencocktail. Diese Nebenwirkungen sind häufig, aber in der Regel nicht besorgniserregend und zeigen, dass das Öl seine Wirkung entfaltet. Sollten die Symptome jedoch stark sein, sollte man das medizinische Personal informieren.\\n\\nHäufig treten nach der Einnahme Übelkeit, Durchfall oder Erbrechen auf.\\n\\n',\n",
       " 'Diese Blutung ist ein Zeichen dafür, dass sich der Muttermund zu öffnen beginnt und ist ein normaler Bestandteil des Geburtsverlaufs. Sie sollte dennoch dem medizinischen Personal mitgeteilt werden, um den Fortschritt der Geburt zu überwachen. Sollten die Blutungen stärker werden oder mit Schmerzen einhergehen, ist eine sofortige Meldung erforderlich.\\n\\nEs kann zu leichter Blutung aus der Scheide kommen, die in der Regel unbedenklich ist und auf die beginnende Muttermundöffnung hinweist.\\n\\n',\n",
       " 'Ein Nabelschnurvorfall bedeutet, dass die Nabelschnur vor dem Baby aus der Gebärmutter tritt. Dies kann zu Sauerstoffmangel beim Kind führen und erfordert einen sofortigen Kaiserschnitt, um das Kind zu retten.  Die Position des Kindes im Becken spielt hierbei eine entscheidende Rolle.\\n\\nWird die Fruchtblase geöffnet, kann bei längerer Geburtsdauer eine Infektion auftreten. Ist der Kopf des Kindes nicht ausreichend tief im Becken, besteht das Risiko eines Nabelschnurvorfalls – in diesem Fall ist eine sofortige Kaiserschnittgeburt nötig.\\n\\n',\n",
       " 'Ein Ballonkatheter ist ein Verfahren zur Geburtseinleitung, bei dem ein Katheter mit zwei Ballons in den Muttermund eingeführt wird, um diesen durch Druck zu dehnen und so Wehen auszulösen.  Das Verfahren kann als unangenehm empfunden werden und birgt ein erhöhtes Infektionsrisiko bei längerer Liegedauer. Sollte keine ausreichende Wirkung erzielt werden, wird in der Regel auf andere Methoden wie Medikamente umgestellt.\\n\\nDie Einlage und das Befüllen der Ballons können als unangenehm empfunden werden. Längeres Liegen mit dem Katheter erhöht das Infektionsrisiko. Sollte keine Wirkung erzielt werden, erfolgt meist die Umstellung auf Medikamente.\\n\\n',\n",
       " 'Hierbei handelt es sich um Quellstäbchen, die in den Muttermund eingelegt werden, um diesen langsam zu dehnen und so Wehen auszulösen.  Obwohl ein Infektionsrisiko theoretisch besteht, konnte dies in der Praxis nicht ausreichend belegt werden. Das Verfahren wird heutzutage nur noch selten angewendet.\\n\\nDie Einlage kann schmerzhaft sein, ein Infektionsrisiko besteht theoretisch, ist jedoch nicht ausreichend belegt.\\n\\n',\n",
       " 'Hierbei handelt es sich um seltene, aber potenziell schwerwiegende Komplikationen, die eine sofortige medizinische Intervention erfordern können. Die Wahrscheinlichkeit für solche Ereignisse ist gering, aber die potenziellen Folgen sind erheblich. Eine sorgfältige Risikobewertung und engmaschige Überwachung sind daher unerlässlich.\\n\\nWird eine natürliche Geburt nach Kaiserschnitt versucht, kann es in seltenen Fällen zu Komplikationen wie Gebärmutterriss oder kindlicher Wachstumsstörung kommen. In schweren Fällen sind Bluttransfusionen, eine Gebärmutterentfernung oder andere Notfallmaßnahmen notwendig.\\n\\n',\n",
       " 'Prostaglandine sind Medikamente, die zur Reifung des Gebärmutterhalses und zum Öffnen des Muttermunds eingesetzt werden. Bei Frauen, die bereits einen Kaiserschnitt hatten, kann die Anwendung von Prostaglandinen, insbesondere Misoprostol, das Risiko für Komplikationen erhöhen. Daher wird Misoprostol in diesem Fall vermieden.\\n\\nDie Gabe von Prostaglandinen ist bei Zustand nach Kaiserschnitt mit einem höheren Risiko verbunden. Besonders Misoprostol gilt in diesem Zusammenhang als ungeeignet und sollte nicht verwendet werden.\\n\\n',\n",
       " 'Diese Anweisung betont die Wichtigkeit der Überwachung während der Einleitung, da verschiedene Methoden Risiken bergen und schnell zu Komplikationen führen können.  Sollten ungewöhnliche Symptome auftreten, ist eine sofortige Meldung an das medizinische Personal entscheidend, um mögliche Risiken zu minimieren und eine angemessene Behandlung sicherzustellen. Dies dient dem Schutz sowohl der Mutter als auch des Kindes.\\n\\n\\nBei jeder medikamentösen oder mechanischen Methode zur Wehenförderung ist eine enge Überwachung unerlässlich. Melden Sie sich sofort beim geburtshilflichen Personal, wenn Wehen auftreten, Sie Schmerzen verspüren, eine Blutung auftritt oder die Wehen in sehr kurzen Abständen kommen und schwer erträglich sind.']"
      ]
     },
     "execution_count": 13,
     "metadata": {},
     "output_type": "execute_result"
    }
   ],
   "source": [
    "[document.content for document in contextualized_documents]"
   ]
  },
  {
   "cell_type": "code",
   "execution_count": null,
   "id": "a9173f11",
   "metadata": {},
   "outputs": [],
   "source": []
  }
 ],
 "metadata": {
  "kernelspec": {
   "display_name": ".venv",
   "language": "python",
   "name": "python3"
  },
  "language_info": {
   "codemirror_mode": {
    "name": "ipython",
    "version": 3
   },
   "file_extension": ".py",
   "mimetype": "text/x-python",
   "name": "python",
   "nbconvert_exporter": "python",
   "pygments_lexer": "ipython3",
   "version": "3.11.2"
  }
 },
 "nbformat": 4,
 "nbformat_minor": 5
}
