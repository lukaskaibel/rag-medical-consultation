{
 "cells": [
  {
   "cell_type": "markdown",
   "id": "0dcd96e4",
   "metadata": {},
   "source": [
    "# Retrieval Evaluation"
   ]
  },
  {
   "cell_type": "code",
   "execution_count": 1,
   "id": "36ee93f0",
   "metadata": {},
   "outputs": [],
   "source": [
    "# %pip install \"haystack-ai>=2.15.0rc1\"\n",
    "# %pip install ragas-haystack\n",
    "# %pip install nltk\n",
    "# %pip install openai\n",
    "# %pip install pandas\n",
    "# %pip install ragas-haystack\n",
    "# %pip install \"sentence-transformers>=3.0.0\"\n",
    "# %pip install hf_xet\n",
    "# %pip install \"ollama-haystack==2.4.2\"\n",
    "# %pip install tqdm # For Progress Bar\n",
    "# %pip install einops"
   ]
  },
  {
   "cell_type": "code",
   "execution_count": 11,
   "id": "7ef9a21e",
   "metadata": {},
   "outputs": [],
   "source": [
    "import os\n",
    "from haystack.document_stores.in_memory import InMemoryDocumentStore\n",
    "import importlib\n",
    "from datetime import datetime\n",
    "from tqdm import tqdm\n",
    "tqdm.pandas()\n",
    "import logging\n",
    "from utils.pickle_utils import for_each_pickle_file\n",
    "logging.basicConfig(\n",
    "    level=logging.WARNING,\n",
    "    format='%(asctime)s %(levelname)s %(message)s',\n",
    "    datefmt='%H:%M:%S'\n",
    ")\n",
    "logging.getLogger(\"haystack\").setLevel(logging.WARNING)\n",
    "\n",
    "os.environ[\"SENTENCE_TRANSFORMERS_HOME\"] = \"./model-assets/sentence-transformers\"\n",
    "os.environ[\"HF_HUB_CACHE\"] = \"./model-assets/hugging-face\"\n"
   ]
  },
  {
   "cell_type": "code",
   "execution_count": null,
   "id": "25347f02",
   "metadata": {},
   "outputs": [],
   "source": [
    "from config.secret import OPENAI_API_KEY\n",
    "os.environ[\"OPENAI_API_KEY\"] = OPENAI_API_KEY\n",
    "os.environ[\"LLM_CONTEXT_SIZE\"] = \"8192\"\n",
    "\n",
    "open_embedding_model = \"Qwen/Qwen3-Embedding-4B\"\n",
    "closed_embedding_model = \"text-embedding-3-large\"\n",
    "\n",
    "open_contextualizer_model = \"gemma3:12b\"\n",
    "closed_contextualizer_model = \"gpt-4.1-mini\"\n",
    "\n",
    "NUMBER_OF_QUESTIONS_IN_EVAL = 600"
   ]
  },
  {
   "cell_type": "code",
   "execution_count": null,
   "id": "08db30eb",
   "metadata": {},
   "outputs": [],
   "source": [
    "from pipelines.evaluation.base_retrieval_eval_pipeline import get_base_retrieval_eval_pipeline\n",
    "from pipelines.evaluation.hybrid_retrieval_eval_pipeline import get_hybrid_retrieval_eval_pipeline\n",
    "from pipelines.evaluation.context__retrieval_eval_pipeline import get_context_retrieval_eval_pipeline\n",
    "from pipelines.evaluation.random_retrieval_eval_pipeline import get_random_retrieval_eval_pipeline\n",
    "from pipelines.evaluation.noreranking_retrieval_eval_pipeline import get_base_retrieval_eval_pipeline\n",
    "from models import EmbeddingModelConfig, EmbeddingModelProvider, RerankingModelConfig, RerankingModelProvider\n",
    "\n",
    "def get_test_cases(splitting_strategy: str):\n",
    "    both_open_indexing_store = InMemoryDocumentStore.load_from_disk(f\"data/document_stores/{open_embedding_model}/context/{open_contextualizer_model}/{splitting_strategy}_indexing_store.json\")\n",
    "    open_embedding_indexing_store = InMemoryDocumentStore.load_from_disk(f\"data/document_stores/{open_embedding_model}/context/{closed_contextualizer_model}/{splitting_strategy}_indexing_store.json\")\n",
    "    open_contextualizer_indexing_store = InMemoryDocumentStore.load_from_disk(f\"data/document_stores/{closed_embedding_model}/context/{open_contextualizer_model}/{splitting_strategy}_indexing_store.json\")\n",
    "    both_closed_indexing_store = InMemoryDocumentStore.load_from_disk(f\"data/document_stores/{closed_embedding_model}/context/{closed_contextualizer_model}/{splitting_strategy}_indexing_store.json\")\n",
    "\n",
    "    # TODO: Need to check if reranker boosts performance first, because if so i also need to test open vs. closed reranker\n",
    "    test_cases = [\n",
    "        {\n",
    "            \"name\": \"Both Open Source\",\n",
    "            \"pipeline\": get_base_retrieval_eval_pipeline(both_open_indexing_store, EmbeddingModelConfig(name=open_embedding_model, provider=EmbeddingModelProvider.SENTENCE_TRANSFORMER)),\n",
    "        },\n",
    "        {\n",
    "            \"name\": \"Basic RAG\",\n",
    "            \"pipeline\": get_base_retrieval_eval_pipeline(open_embedding_indexing_store, EmbeddingModelConfig(name=open_embedding_model, provider=EmbeddingModelProvider.SENTENCE_TRANSFORMER)),\n",
    "        },\n",
    "        {\n",
    "            \"name\": \"Hybrid RAG\",\n",
    "            \"pipeline\": get_hybrid_retrieval_eval_pipeline(base_indexing_store),\n",
    "        },\n",
    "        {\n",
    "            \"name\": \"Contextual RAG\",\n",
    "            \"pipeline\": get_context_retrieval_eval_pipeline(context_indexing_store, EmbeddingModelConfig(name=embedder, provider=EmbeddingModelProvider.SENTENCE_TRANSFORMER), RerankingModelConfig(name=reranker, provider=RerankingModelProvider.HUGGING_FACE)),\n",
    "        },\n",
    "    ]\n",
    "    \n",
    "    return test_cases"
   ]
  },
  {
   "cell_type": "code",
   "execution_count": 16,
   "id": "575791fb",
   "metadata": {},
   "outputs": [
    {
     "name": "stderr",
     "output_type": "stream",
     "text": [
      "Processing Pickle files:   0%|          | 0/6 [00:00<?, ?it/s]"
     ]
    },
    {
     "data": {
      "application/vnd.jupyter.widget-view+json": {
       "model_id": "8ac4f28bf147491aa2c2d8c003459bd8",
       "version_major": 2,
       "version_minor": 0
      },
      "text/plain": [
       "Batches:   0%|          | 0/1 [00:00<?, ?it/s]"
      ]
     },
     "metadata": {},
     "output_type": "display_data"
    },
    {
     "data": {
      "application/vnd.jupyter.widget-view+json": {
       "model_id": "072f56c8c45c4912affffb984a657dfb",
       "version_major": 2,
       "version_minor": 0
      },
      "text/plain": [
       "Batches:   0%|          | 0/1 [00:00<?, ?it/s]"
      ]
     },
     "metadata": {},
     "output_type": "display_data"
    },
    {
     "data": {
      "application/vnd.jupyter.widget-view+json": {
       "model_id": "72a254e4c5084e3f8bd61ab1ff953c26",
       "version_major": 2,
       "version_minor": 0
      },
      "text/plain": [
       "Batches:   0%|          | 0/1 [00:00<?, ?it/s]"
      ]
     },
     "metadata": {},
     "output_type": "display_data"
    },
    {
     "name": "stderr",
     "output_type": "stream",
     "text": [
      "Processing rows: 100%|██████████| 1/1 [00:10<00:00, 10.00s/row]\n"
     ]
    },
    {
     "data": {
      "application/vnd.jupyter.widget-view+json": {
       "model_id": "41a70f020fbd477a9f11225bb341cc19",
       "version_major": 2,
       "version_minor": 0
      },
      "text/plain": [
       "Batches:   0%|          | 0/1 [00:00<?, ?it/s]"
      ]
     },
     "metadata": {},
     "output_type": "display_data"
    },
    {
     "name": "stderr",
     "output_type": "stream",
     "text": [
      "Processing rows:   0%|          | 0/1 [00:07<?, ?row/s]\n",
      "Processing Pickle files:   0%|          | 0/6 [00:17<?, ?it/s]\n"
     ]
    },
    {
     "ename": "KeyboardInterrupt",
     "evalue": "",
     "output_type": "error",
     "traceback": [
      "\u001b[31m---------------------------------------------------------------------------\u001b[39m",
      "\u001b[31mKeyboardInterrupt\u001b[39m                         Traceback (most recent call last)",
      "\u001b[36mCell\u001b[39m\u001b[36m \u001b[39m\u001b[32mIn[16]\u001b[39m\u001b[32m, line 77\u001b[39m\n\u001b[32m     74\u001b[39m         os.makedirs(os.path.dirname(save_path), exist_ok=\u001b[38;5;28;01mTrue\u001b[39;00m)\n\u001b[32m     75\u001b[39m         df.to_pickle(save_path)\n\u001b[32m---> \u001b[39m\u001b[32m77\u001b[39m \u001b[43mfor_each_pickle_file\u001b[49m\u001b[43m(\u001b[49m\u001b[33;43m\"\u001b[39;49m\u001b[33;43mdata/qa_with_docs_flat\u001b[39;49m\u001b[33;43m\"\u001b[39;49m\u001b[43m,\u001b[49m\u001b[43m \u001b[49m\u001b[43mrun_retrieval_eval\u001b[49m\u001b[43m)\u001b[49m\n",
      "\u001b[36mFile \u001b[39m\u001b[32m/srv/data/pia-rag-eval/utils/pickle_utils.py:26\u001b[39m, in \u001b[36mfor_each_pickle_file\u001b[39m\u001b[34m(dir_path, callback)\u001b[39m\n\u001b[32m     24\u001b[39m file_path = os.path.join(dir_path, filename)\n\u001b[32m     25\u001b[39m df = pd.read_pickle(file_path)\n\u001b[32m---> \u001b[39m\u001b[32m26\u001b[39m \u001b[43mcallback\u001b[49m\u001b[43m(\u001b[49m\u001b[43mfilename\u001b[49m\u001b[43m,\u001b[49m\u001b[43m \u001b[49m\u001b[43mdf\u001b[49m\u001b[43m)\u001b[49m\n",
      "\u001b[36mCell\u001b[39m\u001b[36m \u001b[39m\u001b[32mIn[16]\u001b[39m\u001b[32m, line 62\u001b[39m, in \u001b[36mrun_retrieval_eval\u001b[39m\u001b[34m(filename, df)\u001b[39m\n\u001b[32m     57\u001b[39m \u001b[38;5;28;01mif\u001b[39;00m \u001b[33m\"\u001b[39m\u001b[33mbm25_retriever\u001b[39m\u001b[33m\"\u001b[39m \u001b[38;5;129;01min\u001b[39;00m pipeline.graph.nodes:\n\u001b[32m     58\u001b[39m     request_payload[\u001b[33m\"\u001b[39m\u001b[33mbm25_retriever\u001b[39m\u001b[33m\"\u001b[39m] = {\n\u001b[32m     59\u001b[39m         \u001b[33m\"\u001b[39m\u001b[33mquery\u001b[39m\u001b[33m\"\u001b[39m: question,\n\u001b[32m     60\u001b[39m         \u001b[33m\"\u001b[39m\u001b[33mtop_k\u001b[39m\u001b[33m\"\u001b[39m: top_k,\n\u001b[32m     61\u001b[39m     }\n\u001b[32m---> \u001b[39m\u001b[32m62\u001b[39m result = \u001b[43mpipeline\u001b[49m\u001b[43m.\u001b[49m\u001b[43mrun\u001b[49m\u001b[43m(\u001b[49m\u001b[43mrequest_payload\u001b[49m\u001b[43m)\u001b[49m\n\u001b[32m     64\u001b[39m map_score = result.get(\u001b[33m\"\u001b[39m\u001b[33mmap_evaluator\u001b[39m\u001b[33m\"\u001b[39m, {}).get(\u001b[33m\"\u001b[39m\u001b[33mscore\u001b[39m\u001b[33m\"\u001b[39m, {})\n\u001b[32m     65\u001b[39m mrr_score = result.get(\u001b[33m\"\u001b[39m\u001b[33mmrr_evaluator\u001b[39m\u001b[33m\"\u001b[39m, {}).get(\u001b[33m\"\u001b[39m\u001b[33mscore\u001b[39m\u001b[33m\"\u001b[39m, {})\n",
      "\u001b[36mFile \u001b[39m\u001b[32m/srv/data/pia-rag-eval/.venv/lib/python3.11/site-packages/haystack/core/pipeline/pipeline.py:169\u001b[39m, in \u001b[36mPipeline.run\u001b[39m\u001b[34m(self, data, include_outputs_from)\u001b[39m\n\u001b[32m    165\u001b[39m pipeline_running(\u001b[38;5;28mself\u001b[39m)\n\u001b[32m    167\u001b[39m \u001b[38;5;66;03m# TODO: Remove this warmup once we can check reliably whether a component has been warmed up or not\u001b[39;00m\n\u001b[32m    168\u001b[39m \u001b[38;5;66;03m# As of now it's here to make sure we don't have failing tests that assume warm_up() is called in run()\u001b[39;00m\n\u001b[32m--> \u001b[39m\u001b[32m169\u001b[39m \u001b[38;5;28;43mself\u001b[39;49m\u001b[43m.\u001b[49m\u001b[43mwarm_up\u001b[49m\u001b[43m(\u001b[49m\u001b[43m)\u001b[49m\n\u001b[32m    171\u001b[39m \u001b[38;5;66;03m# normalize `data`\u001b[39;00m\n\u001b[32m    172\u001b[39m data = \u001b[38;5;28mself\u001b[39m._prepare_component_input_data(data)\n",
      "\u001b[36mFile \u001b[39m\u001b[32m/srv/data/pia-rag-eval/.venv/lib/python3.11/site-packages/haystack/core/pipeline/base.py:872\u001b[39m, in \u001b[36mPipelineBase.warm_up\u001b[39m\u001b[34m(self)\u001b[39m\n\u001b[32m    870\u001b[39m \u001b[38;5;28;01mif\u001b[39;00m \u001b[38;5;28mhasattr\u001b[39m(\u001b[38;5;28mself\u001b[39m.graph.nodes[node][\u001b[33m\"\u001b[39m\u001b[33minstance\u001b[39m\u001b[33m\"\u001b[39m], \u001b[33m\"\u001b[39m\u001b[33mwarm_up\u001b[39m\u001b[33m\"\u001b[39m):\n\u001b[32m    871\u001b[39m     logger.info(\u001b[33m\"\u001b[39m\u001b[33mWarming up component \u001b[39m\u001b[38;5;132;01m{node}\u001b[39;00m\u001b[33m...\u001b[39m\u001b[33m\"\u001b[39m, node=node)\n\u001b[32m--> \u001b[39m\u001b[32m872\u001b[39m     \u001b[38;5;28;43mself\u001b[39;49m\u001b[43m.\u001b[49m\u001b[43mgraph\u001b[49m\u001b[43m.\u001b[49m\u001b[43mnodes\u001b[49m\u001b[43m[\u001b[49m\u001b[43mnode\u001b[49m\u001b[43m]\u001b[49m\u001b[43m[\u001b[49m\u001b[33;43m\"\u001b[39;49m\u001b[33;43minstance\u001b[39;49m\u001b[33;43m\"\u001b[39;49m\u001b[43m]\u001b[49m\u001b[43m.\u001b[49m\u001b[43mwarm_up\u001b[49m\u001b[43m(\u001b[49m\u001b[43m)\u001b[49m\n",
      "\u001b[36mFile \u001b[39m\u001b[32m/srv/data/pia-rag-eval/pipelines/components/qwen_yes_no_reranker.py:54\u001b[39m, in \u001b[36mQwenYesNoReranker.warm_up\u001b[39m\u001b[34m(self)\u001b[39m\n\u001b[32m     50\u001b[39m \u001b[38;5;28mself\u001b[39m.tokenizer = AutoTokenizer.from_pretrained(\n\u001b[32m     51\u001b[39m     \u001b[38;5;28mself\u001b[39m.model_name, padding_side=\u001b[38;5;28mself\u001b[39m.padding_side\n\u001b[32m     52\u001b[39m )\n\u001b[32m     53\u001b[39m \u001b[38;5;66;03m# ensure pad_token is defined\u001b[39;00m\n\u001b[32m---> \u001b[39m\u001b[32m54\u001b[39m \u001b[38;5;28;01mif\u001b[39;00m \u001b[38;5;28;43mself\u001b[39;49m\u001b[43m.\u001b[49m\u001b[43mtokenizer\u001b[49m\u001b[43m.\u001b[49m\u001b[43mpad_token\u001b[49m \u001b[38;5;129;01mis\u001b[39;00m \u001b[38;5;28;01mNone\u001b[39;00m:\n\u001b[32m     55\u001b[39m     \u001b[38;5;28mself\u001b[39m.tokenizer.pad_token = \u001b[38;5;28mself\u001b[39m.tokenizer.eos_token\n\u001b[32m     56\u001b[39m     \u001b[38;5;28mself\u001b[39m.tokenizer.padding_side = \u001b[38;5;28mself\u001b[39m.padding_side\n",
      "\u001b[36mFile \u001b[39m\u001b[32m/srv/data/pia-rag-eval/.venv/lib/python3.11/site-packages/transformers/tokenization_utils_base.py:1089\u001b[39m, in \u001b[36mSpecialTokensMixin.__getattr__\u001b[39m\u001b[34m(self, key)\u001b[39m\n\u001b[32m   1086\u001b[39m     \u001b[38;5;28;01melse\u001b[39;00m:\n\u001b[32m   1087\u001b[39m         \u001b[38;5;28msuper\u001b[39m().\u001b[34m__setattr__\u001b[39m(key, value)\n\u001b[32m-> \u001b[39m\u001b[32m1089\u001b[39m \u001b[38;5;28;01mdef\u001b[39;00m\u001b[38;5;250m \u001b[39m\u001b[34m__getattr__\u001b[39m(\u001b[38;5;28mself\u001b[39m, key):\n\u001b[32m   1090\u001b[39m     key_without_id = key\n\u001b[32m   1091\u001b[39m     key_is_special_id = key.endswith(\u001b[33m\"\u001b[39m\u001b[33m_id\u001b[39m\u001b[33m\"\u001b[39m) \u001b[38;5;129;01mor\u001b[39;00m key.endswith(\u001b[33m\"\u001b[39m\u001b[33m_ids\u001b[39m\u001b[33m\"\u001b[39m)\n",
      "\u001b[31mKeyboardInterrupt\u001b[39m: "
     ]
    }
   ],
   "source": [
    "now = datetime.now()\n",
    "\n",
    "def run_retrieval_eval(filename, df):\n",
    "    import config.prompt\n",
    "    importlib.reload(config.prompt)\n",
    "\n",
    "    import re\n",
    "\n",
    "    match = re.search(r\"answers_(.*?)_dataset\", filename)\n",
    "    if match:\n",
    "        splitting_strategy = match.group(1)\n",
    "    else:\n",
    "        splitting_strategy = None\n",
    "\n",
    "    # 1) Filter out the null‐question rows\n",
    "    df_nonnull = df[df[\"question\"].notnull()]\n",
    "\n",
    "    df_shuffled = df_nonnull.sample(n=NUMBER_OF_QUESTIONS_IN_EVAL, random_state=42).reset_index(drop=True)\n",
    "\n",
    "    for top_k in TOP_K_VALUES:\n",
    "        for index, row in tqdm(\n",
    "            df_shuffled.iterrows(),\n",
    "            total=len(df_shuffled),\n",
    "            desc=\"Processing rows\",\n",
    "            unit=\"row\"\n",
    "        ):\n",
    "            relevant_documents = row[\"documents\"]\n",
    "            question = row[\"question\"]\n",
    "\n",
    "            test_cases = get_test_cases(splitting_strategy)\n",
    "\n",
    "            for test_case in test_cases:\n",
    "                pipeline = test_case[\"pipeline\"]\n",
    "                request_payload = {\n",
    "                    \"retriever\": {\n",
    "                        \"top_k\": top_k,\n",
    "                    },\n",
    "                    \"map_evaluator\": {\n",
    "                        \"ground_truth_documents\": [relevant_documents],\n",
    "                    },\n",
    "                    \"mrr_evaluator\": {\n",
    "                        \"ground_truth_documents\": [relevant_documents],\n",
    "                    },\n",
    "                    \"recall_evaluator\": {\n",
    "                        \"ground_truth_documents\": [relevant_documents],\n",
    "                    }\n",
    "                }\n",
    "                if \"query_embedder\" in pipeline.graph.nodes:\n",
    "                    request_payload[\"query_embedder\"] = {\n",
    "                        \"text\": question,\n",
    "                    }\n",
    "                if \"reranker\" in pipeline.graph.nodes:\n",
    "                    request_payload[\"reranker\"] = {\n",
    "                        \"query\": question,\n",
    "                        \"top_k\": top_k,\n",
    "                    }\n",
    "                if \"bm25_retriever\" in pipeline.graph.nodes:\n",
    "                    request_payload[\"bm25_retriever\"] = {\n",
    "                        \"query\": question,\n",
    "                        \"top_k\": top_k,\n",
    "                    }\n",
    "                result = pipeline.run(request_payload)\n",
    "\n",
    "                map_score = result.get(\"map_evaluator\", {}).get(\"score\", {})\n",
    "                mrr_score = result.get(\"mrr_evaluator\", {}).get(\"score\", {})\n",
    "                recall_score = result.get(\"recall_evaluator\", {}).get(\"score\", {})\n",
    "\n",
    "                df.at[index, f\"{test_case['name']}_map\"] = map_score\n",
    "                df.at[index, f\"{test_case['name']}_mrr\"] = mrr_score\n",
    "                df.at[index, f\"{test_case['name']}_recall\"] = recall_score\n",
    "\n",
    "        embedding_model_name = os.environ['EMBEDDING_MODEL_NAME'].replace('/', '')\n",
    "        save_path = f\"results/retrieval/{now.strftime('%Y-%m-%d_%H-%M-%S')}/{embedding_model_name}/{splitting_strategy}/topk_{top_k}.pkl\"\n",
    "        os.makedirs(os.path.dirname(save_path), exist_ok=True)\n",
    "        df.to_pickle(save_path)\n",
    "\n",
    "for_each_pickle_file(\"data/qa_with_docs_flat\", run_retrieval_eval)"
   ]
  },
  {
   "cell_type": "code",
   "execution_count": null,
   "id": "7d9d55ae",
   "metadata": {},
   "outputs": [],
   "source": []
  }
 ],
 "metadata": {
  "kernelspec": {
   "display_name": ".venv",
   "language": "python",
   "name": "python3"
  },
  "language_info": {
   "codemirror_mode": {
    "name": "ipython",
    "version": 3
   },
   "file_extension": ".py",
   "mimetype": "text/x-python",
   "name": "python",
   "nbconvert_exporter": "python",
   "pygments_lexer": "ipython3",
   "version": "3.11.2"
  }
 },
 "nbformat": 4,
 "nbformat_minor": 5
}
