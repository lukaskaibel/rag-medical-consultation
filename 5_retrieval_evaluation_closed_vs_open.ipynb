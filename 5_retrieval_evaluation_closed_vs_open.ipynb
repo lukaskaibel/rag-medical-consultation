{
 "cells": [
  {
   "cell_type": "markdown",
   "id": "0dcd96e4",
   "metadata": {},
   "source": [
    "# Retrieval Evaluation"
   ]
  },
  {
   "cell_type": "code",
   "execution_count": 1,
   "id": "36ee93f0",
   "metadata": {},
   "outputs": [],
   "source": [
    "# %pip install \"haystack-ai>=2.15.0rc1\"\n",
    "# %pip install ragas-haystack\n",
    "# %pip install nltk\n",
    "# %pip install openai\n",
    "# %pip install pandas\n",
    "# %pip install ragas-haystack\n",
    "# %pip install \"sentence-transformers>=3.0.0\"\n",
    "# %pip install hf_xet\n",
    "# %pip install \"ollama-haystack==2.4.2\"\n",
    "# %pip install tqdm # For Progress Bar\n",
    "# %pip install einops"
   ]
  },
  {
   "cell_type": "code",
   "execution_count": 2,
   "id": "7ef9a21e",
   "metadata": {},
   "outputs": [],
   "source": [
    "import os\n",
    "from haystack.document_stores.in_memory import InMemoryDocumentStore\n",
    "import importlib\n",
    "from datetime import datetime\n",
    "import pandas as pd\n",
    "from tqdm import tqdm\n",
    "tqdm.pandas()\n",
    "import logging\n",
    "from models import EmbeddingModelConfig, EmbeddingModelProvider, LLMConfig, LLMProvider\n",
    "from pipelines.evaluation.base_retrieval_eval_pipeline import get_base_retrieval_eval_pipeline\n",
    "logging.basicConfig(\n",
    "    level=logging.WARNING,\n",
    "    format='%(asctime)s %(levelname)s %(message)s',\n",
    "    datefmt='%H:%M:%S'\n",
    ")\n",
    "logging.getLogger(\"haystack\").setLevel(logging.WARNING)\n",
    "\n",
    "os.environ[\"SENTENCE_TRANSFORMERS_HOME\"] = \"./model-assets/sentence-transformers\"\n",
    "os.environ[\"HF_HUB_CACHE\"] = \"./model-assets/hugging-face\"\n"
   ]
  },
  {
   "cell_type": "code",
   "execution_count": null,
   "id": "25347f02",
   "metadata": {},
   "outputs": [],
   "source": [
    "from config.secret import OPENAI_API_KEY\n",
    "os.environ[\"OPENAI_API_KEY\"] = OPENAI_API_KEY\n",
    "os.environ[\"LLM_CONTEXT_SIZE\"] = \"8192\"\n",
    "\n",
    "open_embedding_model = \"Qwen/Qwen3-Embedding-4B\"\n",
    "closed_embedding_model = \"text-embedding-3-large\"\n",
    "\n",
    "open_contextualizer_model = \"gemma3:12b\"\n",
    "closed_contextualizer_model = \"gpt-4.1-mini\"\n",
    "\n",
    "NUMBER_OF_QUESTIONS_IN_EVAL = 600\n",
    "TOP_K = 10"
   ]
  },
  {
   "cell_type": "code",
   "execution_count": null,
   "id": "2a4d4c64",
   "metadata": {},
   "outputs": [],
   "source": [
    "test_configs = [\n",
    "    {\n",
    "        \"embedding_model\": EmbeddingModelConfig(name=open_embedding_model, provider=EmbeddingModelProvider.SENTENCE_TRANSFORMER),\n",
    "        \"reranking_model\": None,\n",
    "        \"contextualizer_model\": LLMConfig(name=open_contextualizer_model, provider=LLMProvider.OLLAMA),\n",
    "    },\n",
    "    {\n",
    "        \"embedding_model\": EmbeddingModelConfig(name=open_embedding_model, provider=EmbeddingModelProvider.SENTENCE_TRANSFORMER),\n",
    "        \"reranking_model\": None,\n",
    "        \"contextualizer_model\": LLMConfig(name=closed_contextualizer_model, provider=LLMProvider.OPEN_AI),\n",
    "    },\n",
    "    {\n",
    "        \"embedding_model\": EmbeddingModelConfig(name=closed_embedding_model, provider=EmbeddingModelProvider.OPENAI),\n",
    "        \"reranking_model\": None,\n",
    "        \"contextualizer_model\": LLMConfig(name=open_contextualizer_model, provider=LLMProvider.OLLAMA),\n",
    "    },\n",
    "    {\n",
    "        \"embedding_model\": EmbeddingModelConfig(name=closed_embedding_model, provider=EmbeddingModelProvider.OPENAI),\n",
    "        \"reranking_model\": None,\n",
    "        \"contextualizer_model\": LLMConfig(name=closed_contextualizer_model, provider=LLMProvider.OPEN_AI),\n",
    "    },\n",
    "]"
   ]
  },
  {
   "cell_type": "code",
   "execution_count": null,
   "id": "575791fb",
   "metadata": {},
   "outputs": [
    {
     "name": "stderr",
     "output_type": "stream",
     "text": [
      "Processing rows:   0%|          | 0/600 [00:00<?, ?row/s]"
     ]
    },
    {
     "data": {
      "application/vnd.jupyter.widget-view+json": {
       "model_id": "03338199e4bf444da10a8aa73490ccf3",
       "version_major": 2,
       "version_minor": 0
      },
      "text/plain": [
       "Batches:   0%|          | 0/1 [00:00<?, ?it/s]"
      ]
     },
     "metadata": {},
     "output_type": "display_data"
    },
    {
     "data": {
      "application/vnd.jupyter.widget-view+json": {
       "model_id": "b6b9a15975e84457b99f1aa47b400eb2",
       "version_major": 2,
       "version_minor": 0
      },
      "text/plain": [
       "Batches:   0%|          | 0/1 [00:00<?, ?it/s]"
      ]
     },
     "metadata": {},
     "output_type": "display_data"
    },
    {
     "name": "stderr",
     "output_type": "stream",
     "text": [
      "Processing rows:   0%|          | 1/600 [00:02<21:59,  2.20s/row]"
     ]
    },
    {
     "data": {
      "application/vnd.jupyter.widget-view+json": {
       "model_id": "0251deeae731444cba035eaa3b4fe442",
       "version_major": 2,
       "version_minor": 0
      },
      "text/plain": [
       "Batches:   0%|          | 0/1 [00:00<?, ?it/s]"
      ]
     },
     "metadata": {},
     "output_type": "display_data"
    },
    {
     "data": {
      "application/vnd.jupyter.widget-view+json": {
       "model_id": "53c8237aa63a4d6f81f5676aa9487eff",
       "version_major": 2,
       "version_minor": 0
      },
      "text/plain": [
       "Batches:   0%|          | 0/1 [00:00<?, ?it/s]"
      ]
     },
     "metadata": {},
     "output_type": "display_data"
    },
    {
     "name": "stderr",
     "output_type": "stream",
     "text": [
      "Processing rows:   0%|          | 2/600 [00:04<20:59,  2.11s/row]"
     ]
    },
    {
     "data": {
      "application/vnd.jupyter.widget-view+json": {
       "model_id": "625f293e7711439d8cc0dcb36fc317e3",
       "version_major": 2,
       "version_minor": 0
      },
      "text/plain": [
       "Batches:   0%|          | 0/1 [00:00<?, ?it/s]"
      ]
     },
     "metadata": {},
     "output_type": "display_data"
    },
    {
     "data": {
      "application/vnd.jupyter.widget-view+json": {
       "model_id": "010a1071acc640818cf55b261c9592ac",
       "version_major": 2,
       "version_minor": 0
      },
      "text/plain": [
       "Batches:   0%|          | 0/1 [00:00<?, ?it/s]"
      ]
     },
     "metadata": {},
     "output_type": "display_data"
    },
    {
     "name": "stderr",
     "output_type": "stream",
     "text": [
      "Processing rows:   0%|          | 3/600 [00:06<20:57,  2.11s/row]"
     ]
    },
    {
     "data": {
      "application/vnd.jupyter.widget-view+json": {
       "model_id": "9e5335ac2c734a1490c704b99c8e0d77",
       "version_major": 2,
       "version_minor": 0
      },
      "text/plain": [
       "Batches:   0%|          | 0/1 [00:00<?, ?it/s]"
      ]
     },
     "metadata": {},
     "output_type": "display_data"
    },
    {
     "data": {
      "application/vnd.jupyter.widget-view+json": {
       "model_id": "8372fcd8599e43f5a9d6d1b0c536ecfc",
       "version_major": 2,
       "version_minor": 0
      },
      "text/plain": [
       "Batches:   0%|          | 0/1 [00:00<?, ?it/s]"
      ]
     },
     "metadata": {},
     "output_type": "display_data"
    },
    {
     "name": "stderr",
     "output_type": "stream",
     "text": [
      "Processing rows:   1%|          | 4/600 [00:09<24:28,  2.46s/row]"
     ]
    },
    {
     "data": {
      "application/vnd.jupyter.widget-view+json": {
       "model_id": "3958bdb9b8284221bfaaf0ef5fea699e",
       "version_major": 2,
       "version_minor": 0
      },
      "text/plain": [
       "Batches:   0%|          | 0/1 [00:00<?, ?it/s]"
      ]
     },
     "metadata": {},
     "output_type": "display_data"
    },
    {
     "data": {
      "application/vnd.jupyter.widget-view+json": {
       "model_id": "8b7815e587c2480aa7a9c113a9c0496c",
       "version_major": 2,
       "version_minor": 0
      },
      "text/plain": [
       "Batches:   0%|          | 0/1 [00:00<?, ?it/s]"
      ]
     },
     "metadata": {},
     "output_type": "display_data"
    },
    {
     "name": "stderr",
     "output_type": "stream",
     "text": [
      "Processing rows:   1%|          | 5/600 [00:11<22:55,  2.31s/row]"
     ]
    },
    {
     "data": {
      "application/vnd.jupyter.widget-view+json": {
       "model_id": "e1eddad110fe479eb92ff94cb099d4eb",
       "version_major": 2,
       "version_minor": 0
      },
      "text/plain": [
       "Batches:   0%|          | 0/1 [00:00<?, ?it/s]"
      ]
     },
     "metadata": {},
     "output_type": "display_data"
    },
    {
     "data": {
      "application/vnd.jupyter.widget-view+json": {
       "model_id": "471d0c245f394db08c432ee6f1fb5599",
       "version_major": 2,
       "version_minor": 0
      },
      "text/plain": [
       "Batches:   0%|          | 0/1 [00:00<?, ?it/s]"
      ]
     },
     "metadata": {},
     "output_type": "display_data"
    },
    {
     "name": "stderr",
     "output_type": "stream",
     "text": [
      "Processing rows:   1%|          | 6/600 [00:13<22:10,  2.24s/row]"
     ]
    },
    {
     "data": {
      "application/vnd.jupyter.widget-view+json": {
       "model_id": "4747d4ceb71a449abefb77aa2ffef860",
       "version_major": 2,
       "version_minor": 0
      },
      "text/plain": [
       "Batches:   0%|          | 0/1 [00:00<?, ?it/s]"
      ]
     },
     "metadata": {},
     "output_type": "display_data"
    },
    {
     "data": {
      "application/vnd.jupyter.widget-view+json": {
       "model_id": "3850b34dbdf643bcafa6d221fd251673",
       "version_major": 2,
       "version_minor": 0
      },
      "text/plain": [
       "Batches:   0%|          | 0/1 [00:00<?, ?it/s]"
      ]
     },
     "metadata": {},
     "output_type": "display_data"
    },
    {
     "name": "stderr",
     "output_type": "stream",
     "text": [
      "Processing rows:   1%|          | 7/600 [00:15<21:37,  2.19s/row]"
     ]
    },
    {
     "data": {
      "application/vnd.jupyter.widget-view+json": {
       "model_id": "68a9529d5f634f4e9c1c2d51eb0aa869",
       "version_major": 2,
       "version_minor": 0
      },
      "text/plain": [
       "Batches:   0%|          | 0/1 [00:00<?, ?it/s]"
      ]
     },
     "metadata": {},
     "output_type": "display_data"
    },
    {
     "data": {
      "application/vnd.jupyter.widget-view+json": {
       "model_id": "890803f9dc4c45d1b6c29b3a367e1fa8",
       "version_major": 2,
       "version_minor": 0
      },
      "text/plain": [
       "Batches:   0%|          | 0/1 [00:00<?, ?it/s]"
      ]
     },
     "metadata": {},
     "output_type": "display_data"
    },
    {
     "name": "stderr",
     "output_type": "stream",
     "text": [
      "Processing rows:   1%|▏         | 8/600 [00:17<21:16,  2.16s/row]"
     ]
    },
    {
     "data": {
      "application/vnd.jupyter.widget-view+json": {
       "model_id": "36dd3c8fe3a74a4685eab5f113cfc886",
       "version_major": 2,
       "version_minor": 0
      },
      "text/plain": [
       "Batches:   0%|          | 0/1 [00:00<?, ?it/s]"
      ]
     },
     "metadata": {},
     "output_type": "display_data"
    },
    {
     "data": {
      "application/vnd.jupyter.widget-view+json": {
       "model_id": "a2886645d7c74d2480e9a7e274a3b49c",
       "version_major": 2,
       "version_minor": 0
      },
      "text/plain": [
       "Batches:   0%|          | 0/1 [00:00<?, ?it/s]"
      ]
     },
     "metadata": {},
     "output_type": "display_data"
    },
    {
     "name": "stderr",
     "output_type": "stream",
     "text": [
      "Processing rows:   2%|▏         | 9/600 [00:19<21:04,  2.14s/row]"
     ]
    },
    {
     "data": {
      "application/vnd.jupyter.widget-view+json": {
       "model_id": "f2a171d7e6d84befa31353491af71775",
       "version_major": 2,
       "version_minor": 0
      },
      "text/plain": [
       "Batches:   0%|          | 0/1 [00:00<?, ?it/s]"
      ]
     },
     "metadata": {},
     "output_type": "display_data"
    },
    {
     "data": {
      "application/vnd.jupyter.widget-view+json": {
       "model_id": "2b0aa40cc9f040c0af22c814c888cd79",
       "version_major": 2,
       "version_minor": 0
      },
      "text/plain": [
       "Batches:   0%|          | 0/1 [00:00<?, ?it/s]"
      ]
     },
     "metadata": {},
     "output_type": "display_data"
    },
    {
     "name": "stderr",
     "output_type": "stream",
     "text": [
      "Processing rows:   2%|▏         | 10/600 [00:21<20:58,  2.13s/row]"
     ]
    },
    {
     "data": {
      "application/vnd.jupyter.widget-view+json": {
       "model_id": "5c8ee44f51cf41a088e7230c5bd73b03",
       "version_major": 2,
       "version_minor": 0
      },
      "text/plain": [
       "Batches:   0%|          | 0/1 [00:00<?, ?it/s]"
      ]
     },
     "metadata": {},
     "output_type": "display_data"
    },
    {
     "data": {
      "application/vnd.jupyter.widget-view+json": {
       "model_id": "d4ce08fb32de416ab8f5ebc2cf6bfb23",
       "version_major": 2,
       "version_minor": 0
      },
      "text/plain": [
       "Batches:   0%|          | 0/1 [00:00<?, ?it/s]"
      ]
     },
     "metadata": {},
     "output_type": "display_data"
    },
    {
     "name": "stderr",
     "output_type": "stream",
     "text": [
      "Processing rows:   2%|▏         | 11/600 [00:24<20:54,  2.13s/row]"
     ]
    },
    {
     "data": {
      "application/vnd.jupyter.widget-view+json": {
       "model_id": "604dff96d17b4725989f8b48d5437e4a",
       "version_major": 2,
       "version_minor": 0
      },
      "text/plain": [
       "Batches:   0%|          | 0/1 [00:00<?, ?it/s]"
      ]
     },
     "metadata": {},
     "output_type": "display_data"
    },
    {
     "data": {
      "application/vnd.jupyter.widget-view+json": {
       "model_id": "72ca99560c5649149a8c817fc5fecdee",
       "version_major": 2,
       "version_minor": 0
      },
      "text/plain": [
       "Batches:   0%|          | 0/1 [00:00<?, ?it/s]"
      ]
     },
     "metadata": {},
     "output_type": "display_data"
    },
    {
     "name": "stderr",
     "output_type": "stream",
     "text": [
      "Processing rows:   2%|▏         | 12/600 [00:26<20:38,  2.11s/row]"
     ]
    },
    {
     "data": {
      "application/vnd.jupyter.widget-view+json": {
       "model_id": "1c148498ddac4a2e976e6c7b48acc9b0",
       "version_major": 2,
       "version_minor": 0
      },
      "text/plain": [
       "Batches:   0%|          | 0/1 [00:00<?, ?it/s]"
      ]
     },
     "metadata": {},
     "output_type": "display_data"
    },
    {
     "data": {
      "application/vnd.jupyter.widget-view+json": {
       "model_id": "5942730c378c4208b6c800b51c74a790",
       "version_major": 2,
       "version_minor": 0
      },
      "text/plain": [
       "Batches:   0%|          | 0/1 [00:00<?, ?it/s]"
      ]
     },
     "metadata": {},
     "output_type": "display_data"
    },
    {
     "name": "stderr",
     "output_type": "stream",
     "text": [
      "Processing rows:   2%|▏         | 13/600 [00:28<20:47,  2.13s/row]"
     ]
    },
    {
     "data": {
      "application/vnd.jupyter.widget-view+json": {
       "model_id": "7bfa3577166c427d99b15bd686acfb37",
       "version_major": 2,
       "version_minor": 0
      },
      "text/plain": [
       "Batches:   0%|          | 0/1 [00:00<?, ?it/s]"
      ]
     },
     "metadata": {},
     "output_type": "display_data"
    },
    {
     "data": {
      "application/vnd.jupyter.widget-view+json": {
       "model_id": "82e1c80fc95142ee93d56466c22be8a8",
       "version_major": 2,
       "version_minor": 0
      },
      "text/plain": [
       "Batches:   0%|          | 0/1 [00:00<?, ?it/s]"
      ]
     },
     "metadata": {},
     "output_type": "display_data"
    },
    {
     "name": "stderr",
     "output_type": "stream",
     "text": [
      "Processing rows:   2%|▏         | 14/600 [00:30<20:35,  2.11s/row]"
     ]
    },
    {
     "data": {
      "application/vnd.jupyter.widget-view+json": {
       "model_id": "4ea0ae66b1f14613b7501fd983251d75",
       "version_major": 2,
       "version_minor": 0
      },
      "text/plain": [
       "Batches:   0%|          | 0/1 [00:00<?, ?it/s]"
      ]
     },
     "metadata": {},
     "output_type": "display_data"
    },
    {
     "data": {
      "application/vnd.jupyter.widget-view+json": {
       "model_id": "27cdd8f42ea847a99d14fa80a72e1887",
       "version_major": 2,
       "version_minor": 0
      },
      "text/plain": [
       "Batches:   0%|          | 0/1 [00:00<?, ?it/s]"
      ]
     },
     "metadata": {},
     "output_type": "display_data"
    },
    {
     "name": "stderr",
     "output_type": "stream",
     "text": [
      "Processing rows:   2%|▎         | 15/600 [00:32<20:15,  2.08s/row]"
     ]
    },
    {
     "data": {
      "application/vnd.jupyter.widget-view+json": {
       "model_id": "f606b621ddf8488882d354488238689d",
       "version_major": 2,
       "version_minor": 0
      },
      "text/plain": [
       "Batches:   0%|          | 0/1 [00:00<?, ?it/s]"
      ]
     },
     "metadata": {},
     "output_type": "display_data"
    },
    {
     "data": {
      "application/vnd.jupyter.widget-view+json": {
       "model_id": "d6eaaf97f54143ee8cea0c64544c6cb8",
       "version_major": 2,
       "version_minor": 0
      },
      "text/plain": [
       "Batches:   0%|          | 0/1 [00:00<?, ?it/s]"
      ]
     },
     "metadata": {},
     "output_type": "display_data"
    },
    {
     "name": "stderr",
     "output_type": "stream",
     "text": [
      "Processing rows:   3%|▎         | 16/600 [00:34<19:59,  2.05s/row]"
     ]
    },
    {
     "data": {
      "application/vnd.jupyter.widget-view+json": {
       "model_id": "044e1668b66b4dcf9ee1451ab1e77003",
       "version_major": 2,
       "version_minor": 0
      },
      "text/plain": [
       "Batches:   0%|          | 0/1 [00:00<?, ?it/s]"
      ]
     },
     "metadata": {},
     "output_type": "display_data"
    },
    {
     "data": {
      "application/vnd.jupyter.widget-view+json": {
       "model_id": "b7794c45a75b4a4392e43cc034b80e01",
       "version_major": 2,
       "version_minor": 0
      },
      "text/plain": [
       "Batches:   0%|          | 0/1 [00:00<?, ?it/s]"
      ]
     },
     "metadata": {},
     "output_type": "display_data"
    },
    {
     "name": "stderr",
     "output_type": "stream",
     "text": [
      "Processing rows:   3%|▎         | 17/600 [00:37<24:09,  2.49s/row]"
     ]
    },
    {
     "data": {
      "application/vnd.jupyter.widget-view+json": {
       "model_id": "cafb15509ca5487aaf6fe699bf57dd97",
       "version_major": 2,
       "version_minor": 0
      },
      "text/plain": [
       "Batches:   0%|          | 0/1 [00:00<?, ?it/s]"
      ]
     },
     "metadata": {},
     "output_type": "display_data"
    },
    {
     "data": {
      "application/vnd.jupyter.widget-view+json": {
       "model_id": "0e142fcefdf9456197c87ad32cbbefb8",
       "version_major": 2,
       "version_minor": 0
      },
      "text/plain": [
       "Batches:   0%|          | 0/1 [00:00<?, ?it/s]"
      ]
     },
     "metadata": {},
     "output_type": "display_data"
    },
    {
     "name": "stderr",
     "output_type": "stream",
     "text": [
      "Processing rows:   3%|▎         | 18/600 [00:39<22:59,  2.37s/row]"
     ]
    },
    {
     "data": {
      "application/vnd.jupyter.widget-view+json": {
       "model_id": "ef09d22ad8004aaa9c7af51c38cab87f",
       "version_major": 2,
       "version_minor": 0
      },
      "text/plain": [
       "Batches:   0%|          | 0/1 [00:00<?, ?it/s]"
      ]
     },
     "metadata": {},
     "output_type": "display_data"
    },
    {
     "data": {
      "application/vnd.jupyter.widget-view+json": {
       "model_id": "c0a137cd1fd849c4bdab4283e5684ce9",
       "version_major": 2,
       "version_minor": 0
      },
      "text/plain": [
       "Batches:   0%|          | 0/1 [00:00<?, ?it/s]"
      ]
     },
     "metadata": {},
     "output_type": "display_data"
    },
    {
     "name": "stderr",
     "output_type": "stream",
     "text": [
      "Processing rows:   3%|▎         | 19/600 [00:42<23:38,  2.44s/row]"
     ]
    },
    {
     "data": {
      "application/vnd.jupyter.widget-view+json": {
       "model_id": "5524d022ecd0437ea49197c2eaea35eb",
       "version_major": 2,
       "version_minor": 0
      },
      "text/plain": [
       "Batches:   0%|          | 0/1 [00:00<?, ?it/s]"
      ]
     },
     "metadata": {},
     "output_type": "display_data"
    },
    {
     "data": {
      "application/vnd.jupyter.widget-view+json": {
       "model_id": "373860a370ff4824b9f729e06de97f5e",
       "version_major": 2,
       "version_minor": 0
      },
      "text/plain": [
       "Batches:   0%|          | 0/1 [00:00<?, ?it/s]"
      ]
     },
     "metadata": {},
     "output_type": "display_data"
    },
    {
     "name": "stderr",
     "output_type": "stream",
     "text": [
      "Processing rows:   3%|▎         | 20/600 [00:44<22:42,  2.35s/row]"
     ]
    },
    {
     "data": {
      "application/vnd.jupyter.widget-view+json": {
       "model_id": "06f6e308100c46088f6e456bedec4362",
       "version_major": 2,
       "version_minor": 0
      },
      "text/plain": [
       "Batches:   0%|          | 0/1 [00:00<?, ?it/s]"
      ]
     },
     "metadata": {},
     "output_type": "display_data"
    },
    {
     "data": {
      "application/vnd.jupyter.widget-view+json": {
       "model_id": "89503b662ff145f783af1b0912f0a6e8",
       "version_major": 2,
       "version_minor": 0
      },
      "text/plain": [
       "Batches:   0%|          | 0/1 [00:00<?, ?it/s]"
      ]
     },
     "metadata": {},
     "output_type": "display_data"
    },
    {
     "name": "stderr",
     "output_type": "stream",
     "text": [
      "Processing rows:   4%|▎         | 21/600 [00:46<22:02,  2.28s/row]"
     ]
    },
    {
     "data": {
      "application/vnd.jupyter.widget-view+json": {
       "model_id": "668b2435ba0b498b9a66074e3a887276",
       "version_major": 2,
       "version_minor": 0
      },
      "text/plain": [
       "Batches:   0%|          | 0/1 [00:00<?, ?it/s]"
      ]
     },
     "metadata": {},
     "output_type": "display_data"
    },
    {
     "data": {
      "application/vnd.jupyter.widget-view+json": {
       "model_id": "88dbe2b354fa4471ab87cc27580728f0",
       "version_major": 2,
       "version_minor": 0
      },
      "text/plain": [
       "Batches:   0%|          | 0/1 [00:00<?, ?it/s]"
      ]
     },
     "metadata": {},
     "output_type": "display_data"
    },
    {
     "name": "stderr",
     "output_type": "stream",
     "text": [
      "Processing rows:   4%|▎         | 22/600 [00:48<21:29,  2.23s/row]"
     ]
    },
    {
     "data": {
      "application/vnd.jupyter.widget-view+json": {
       "model_id": "79158d444adf41a995e175853282e424",
       "version_major": 2,
       "version_minor": 0
      },
      "text/plain": [
       "Batches:   0%|          | 0/1 [00:00<?, ?it/s]"
      ]
     },
     "metadata": {},
     "output_type": "display_data"
    },
    {
     "data": {
      "application/vnd.jupyter.widget-view+json": {
       "model_id": "dedfe1a3da0c4ca9b48b67d419f9fe18",
       "version_major": 2,
       "version_minor": 0
      },
      "text/plain": [
       "Batches:   0%|          | 0/1 [00:00<?, ?it/s]"
      ]
     },
     "metadata": {},
     "output_type": "display_data"
    },
    {
     "name": "stderr",
     "output_type": "stream",
     "text": [
      "Processing rows:   4%|▍         | 23/600 [00:50<21:03,  2.19s/row]"
     ]
    },
    {
     "data": {
      "application/vnd.jupyter.widget-view+json": {
       "model_id": "458be4fda9464b9b87dc75a17c6b4abd",
       "version_major": 2,
       "version_minor": 0
      },
      "text/plain": [
       "Batches:   0%|          | 0/1 [00:00<?, ?it/s]"
      ]
     },
     "metadata": {},
     "output_type": "display_data"
    },
    {
     "data": {
      "application/vnd.jupyter.widget-view+json": {
       "model_id": "8247022367aa415ca228d1ffcc6a3e67",
       "version_major": 2,
       "version_minor": 0
      },
      "text/plain": [
       "Batches:   0%|          | 0/1 [00:00<?, ?it/s]"
      ]
     },
     "metadata": {},
     "output_type": "display_data"
    },
    {
     "name": "stderr",
     "output_type": "stream",
     "text": [
      "Processing rows:   4%|▍         | 24/600 [00:52<20:28,  2.13s/row]"
     ]
    },
    {
     "data": {
      "application/vnd.jupyter.widget-view+json": {
       "model_id": "99207d7dc287400c8b192a7b93c31e2c",
       "version_major": 2,
       "version_minor": 0
      },
      "text/plain": [
       "Batches:   0%|          | 0/1 [00:00<?, ?it/s]"
      ]
     },
     "metadata": {},
     "output_type": "display_data"
    },
    {
     "data": {
      "application/vnd.jupyter.widget-view+json": {
       "model_id": "6e9ed62fda48468da90189f38f4d566b",
       "version_major": 2,
       "version_minor": 0
      },
      "text/plain": [
       "Batches:   0%|          | 0/1 [00:00<?, ?it/s]"
      ]
     },
     "metadata": {},
     "output_type": "display_data"
    },
    {
     "name": "stderr",
     "output_type": "stream",
     "text": [
      "Processing rows:   4%|▍         | 25/600 [00:55<20:10,  2.11s/row]"
     ]
    },
    {
     "data": {
      "application/vnd.jupyter.widget-view+json": {
       "model_id": "5ec80c47cfe742fea5fed099ea5bcbc1",
       "version_major": 2,
       "version_minor": 0
      },
      "text/plain": [
       "Batches:   0%|          | 0/1 [00:00<?, ?it/s]"
      ]
     },
     "metadata": {},
     "output_type": "display_data"
    },
    {
     "data": {
      "application/vnd.jupyter.widget-view+json": {
       "model_id": "33ade583f4d546d2824ce4e4e006ae09",
       "version_major": 2,
       "version_minor": 0
      },
      "text/plain": [
       "Batches:   0%|          | 0/1 [00:00<?, ?it/s]"
      ]
     },
     "metadata": {},
     "output_type": "display_data"
    },
    {
     "name": "stderr",
     "output_type": "stream",
     "text": [
      "Processing rows:   4%|▍         | 26/600 [00:57<19:50,  2.07s/row]"
     ]
    },
    {
     "data": {
      "application/vnd.jupyter.widget-view+json": {
       "model_id": "085c468d9ad9418584f4d213f7e6a7a2",
       "version_major": 2,
       "version_minor": 0
      },
      "text/plain": [
       "Batches:   0%|          | 0/1 [00:00<?, ?it/s]"
      ]
     },
     "metadata": {},
     "output_type": "display_data"
    },
    {
     "data": {
      "application/vnd.jupyter.widget-view+json": {
       "model_id": "efc48f3a516a4b2aafb20f249ca5167c",
       "version_major": 2,
       "version_minor": 0
      },
      "text/plain": [
       "Batches:   0%|          | 0/1 [00:00<?, ?it/s]"
      ]
     },
     "metadata": {},
     "output_type": "display_data"
    },
    {
     "name": "stderr",
     "output_type": "stream",
     "text": [
      "Processing rows:   4%|▍         | 27/600 [00:59<19:50,  2.08s/row]"
     ]
    },
    {
     "data": {
      "application/vnd.jupyter.widget-view+json": {
       "model_id": "b005d71178424c3588766aacb3c0d403",
       "version_major": 2,
       "version_minor": 0
      },
      "text/plain": [
       "Batches:   0%|          | 0/1 [00:00<?, ?it/s]"
      ]
     },
     "metadata": {},
     "output_type": "display_data"
    },
    {
     "data": {
      "application/vnd.jupyter.widget-view+json": {
       "model_id": "9ab1997c95224f12afb421c5555dd1e0",
       "version_major": 2,
       "version_minor": 0
      },
      "text/plain": [
       "Batches:   0%|          | 0/1 [00:00<?, ?it/s]"
      ]
     },
     "metadata": {},
     "output_type": "display_data"
    },
    {
     "name": "stderr",
     "output_type": "stream",
     "text": [
      "Processing rows:   5%|▍         | 28/600 [01:01<19:35,  2.06s/row]"
     ]
    },
    {
     "data": {
      "application/vnd.jupyter.widget-view+json": {
       "model_id": "934a5ec767d647c1a91f3282b2a4b2b5",
       "version_major": 2,
       "version_minor": 0
      },
      "text/plain": [
       "Batches:   0%|          | 0/1 [00:00<?, ?it/s]"
      ]
     },
     "metadata": {},
     "output_type": "display_data"
    },
    {
     "data": {
      "application/vnd.jupyter.widget-view+json": {
       "model_id": "3126932108a549aebdc631e519fb3c20",
       "version_major": 2,
       "version_minor": 0
      },
      "text/plain": [
       "Batches:   0%|          | 0/1 [00:00<?, ?it/s]"
      ]
     },
     "metadata": {},
     "output_type": "display_data"
    },
    {
     "name": "stderr",
     "output_type": "stream",
     "text": [
      "Processing rows:   5%|▍         | 29/600 [01:03<20:03,  2.11s/row]"
     ]
    },
    {
     "data": {
      "application/vnd.jupyter.widget-view+json": {
       "model_id": "7481d87e66ba4a8ab73412d0d70b5f15",
       "version_major": 2,
       "version_minor": 0
      },
      "text/plain": [
       "Batches:   0%|          | 0/1 [00:00<?, ?it/s]"
      ]
     },
     "metadata": {},
     "output_type": "display_data"
    },
    {
     "data": {
      "application/vnd.jupyter.widget-view+json": {
       "model_id": "922e67effe31440ea03d552f1795bdb3",
       "version_major": 2,
       "version_minor": 0
      },
      "text/plain": [
       "Batches:   0%|          | 0/1 [00:00<?, ?it/s]"
      ]
     },
     "metadata": {},
     "output_type": "display_data"
    },
    {
     "name": "stderr",
     "output_type": "stream",
     "text": [
      "Processing rows:   5%|▌         | 30/600 [01:05<19:47,  2.08s/row]"
     ]
    },
    {
     "data": {
      "application/vnd.jupyter.widget-view+json": {
       "model_id": "4a3c3d831f58462c8a03cd09841fba97",
       "version_major": 2,
       "version_minor": 0
      },
      "text/plain": [
       "Batches:   0%|          | 0/1 [00:00<?, ?it/s]"
      ]
     },
     "metadata": {},
     "output_type": "display_data"
    },
    {
     "data": {
      "application/vnd.jupyter.widget-view+json": {
       "model_id": "f06fc7f4d0d64ecd9e29a6ac513a348f",
       "version_major": 2,
       "version_minor": 0
      },
      "text/plain": [
       "Batches:   0%|          | 0/1 [00:00<?, ?it/s]"
      ]
     },
     "metadata": {},
     "output_type": "display_data"
    },
    {
     "name": "stderr",
     "output_type": "stream",
     "text": [
      "Processing rows:   5%|▌         | 31/600 [01:07<19:36,  2.07s/row]"
     ]
    },
    {
     "data": {
      "application/vnd.jupyter.widget-view+json": {
       "model_id": "7fbe4690553e43eabf53c3bdab41035d",
       "version_major": 2,
       "version_minor": 0
      },
      "text/plain": [
       "Batches:   0%|          | 0/1 [00:00<?, ?it/s]"
      ]
     },
     "metadata": {},
     "output_type": "display_data"
    },
    {
     "data": {
      "application/vnd.jupyter.widget-view+json": {
       "model_id": "ccb87e9abf41462a8287165c78c7963f",
       "version_major": 2,
       "version_minor": 0
      },
      "text/plain": [
       "Batches:   0%|          | 0/1 [00:00<?, ?it/s]"
      ]
     },
     "metadata": {},
     "output_type": "display_data"
    },
    {
     "name": "stderr",
     "output_type": "stream",
     "text": [
      "Processing rows:   5%|▌         | 32/600 [01:09<19:36,  2.07s/row]"
     ]
    },
    {
     "data": {
      "application/vnd.jupyter.widget-view+json": {
       "model_id": "8ada5876a11143799f7d83aeae5c861a",
       "version_major": 2,
       "version_minor": 0
      },
      "text/plain": [
       "Batches:   0%|          | 0/1 [00:00<?, ?it/s]"
      ]
     },
     "metadata": {},
     "output_type": "display_data"
    },
    {
     "data": {
      "application/vnd.jupyter.widget-view+json": {
       "model_id": "00e97f80e29e4a2e9a632c273e65b70e",
       "version_major": 2,
       "version_minor": 0
      },
      "text/plain": [
       "Batches:   0%|          | 0/1 [00:00<?, ?it/s]"
      ]
     },
     "metadata": {},
     "output_type": "display_data"
    },
    {
     "name": "stderr",
     "output_type": "stream",
     "text": [
      "Processing rows:   6%|▌         | 33/600 [01:12<20:58,  2.22s/row]"
     ]
    },
    {
     "data": {
      "application/vnd.jupyter.widget-view+json": {
       "model_id": "837bc14ba31c4e728d013a0dee318b67",
       "version_major": 2,
       "version_minor": 0
      },
      "text/plain": [
       "Batches:   0%|          | 0/1 [00:00<?, ?it/s]"
      ]
     },
     "metadata": {},
     "output_type": "display_data"
    },
    {
     "data": {
      "application/vnd.jupyter.widget-view+json": {
       "model_id": "b318563b8aed40899fe876b0718f6ec8",
       "version_major": 2,
       "version_minor": 0
      },
      "text/plain": [
       "Batches:   0%|          | 0/1 [00:00<?, ?it/s]"
      ]
     },
     "metadata": {},
     "output_type": "display_data"
    },
    {
     "name": "stderr",
     "output_type": "stream",
     "text": [
      "Processing rows:   6%|▌         | 34/600 [01:14<20:35,  2.18s/row]"
     ]
    },
    {
     "data": {
      "application/vnd.jupyter.widget-view+json": {
       "model_id": "87be76eb86dd4f9fb751a3f8acad2d84",
       "version_major": 2,
       "version_minor": 0
      },
      "text/plain": [
       "Batches:   0%|          | 0/1 [00:00<?, ?it/s]"
      ]
     },
     "metadata": {},
     "output_type": "display_data"
    },
    {
     "data": {
      "application/vnd.jupyter.widget-view+json": {
       "model_id": "8f402d5cff1a462badb5da495efe4f39",
       "version_major": 2,
       "version_minor": 0
      },
      "text/plain": [
       "Batches:   0%|          | 0/1 [00:00<?, ?it/s]"
      ]
     },
     "metadata": {},
     "output_type": "display_data"
    },
    {
     "name": "stderr",
     "output_type": "stream",
     "text": [
      "Processing rows:   6%|▌         | 35/600 [01:16<20:06,  2.14s/row]"
     ]
    },
    {
     "data": {
      "application/vnd.jupyter.widget-view+json": {
       "model_id": "bc68f1c084ad4ee4996a40e2be77cd04",
       "version_major": 2,
       "version_minor": 0
      },
      "text/plain": [
       "Batches:   0%|          | 0/1 [00:00<?, ?it/s]"
      ]
     },
     "metadata": {},
     "output_type": "display_data"
    },
    {
     "data": {
      "application/vnd.jupyter.widget-view+json": {
       "model_id": "7cf0dad5e3264eceb4a20d7bee40c41b",
       "version_major": 2,
       "version_minor": 0
      },
      "text/plain": [
       "Batches:   0%|          | 0/1 [00:00<?, ?it/s]"
      ]
     },
     "metadata": {},
     "output_type": "display_data"
    },
    {
     "name": "stderr",
     "output_type": "stream",
     "text": [
      "Processing rows:   6%|▌         | 36/600 [01:18<20:30,  2.18s/row]"
     ]
    },
    {
     "data": {
      "application/vnd.jupyter.widget-view+json": {
       "model_id": "f4607cb323064353bf36bba67b3dfd7a",
       "version_major": 2,
       "version_minor": 0
      },
      "text/plain": [
       "Batches:   0%|          | 0/1 [00:00<?, ?it/s]"
      ]
     },
     "metadata": {},
     "output_type": "display_data"
    },
    {
     "data": {
      "application/vnd.jupyter.widget-view+json": {
       "model_id": "346c1a0316fa42d395c57b479da4a642",
       "version_major": 2,
       "version_minor": 0
      },
      "text/plain": [
       "Batches:   0%|          | 0/1 [00:00<?, ?it/s]"
      ]
     },
     "metadata": {},
     "output_type": "display_data"
    },
    {
     "name": "stderr",
     "output_type": "stream",
     "text": [
      "Processing rows:   6%|▌         | 37/600 [01:20<20:21,  2.17s/row]"
     ]
    },
    {
     "data": {
      "application/vnd.jupyter.widget-view+json": {
       "model_id": "95e7951c32b647f8a50b91b8573ef68e",
       "version_major": 2,
       "version_minor": 0
      },
      "text/plain": [
       "Batches:   0%|          | 0/1 [00:00<?, ?it/s]"
      ]
     },
     "metadata": {},
     "output_type": "display_data"
    },
    {
     "data": {
      "application/vnd.jupyter.widget-view+json": {
       "model_id": "1d130ecdb5c548f3a3b5ffd6285161f9",
       "version_major": 2,
       "version_minor": 0
      },
      "text/plain": [
       "Batches:   0%|          | 0/1 [00:00<?, ?it/s]"
      ]
     },
     "metadata": {},
     "output_type": "display_data"
    },
    {
     "name": "stderr",
     "output_type": "stream",
     "text": [
      "Processing rows:   6%|▋         | 38/600 [01:22<20:30,  2.19s/row]"
     ]
    },
    {
     "data": {
      "application/vnd.jupyter.widget-view+json": {
       "model_id": "26226566ef324d88b57fd51eb3afdcd6",
       "version_major": 2,
       "version_minor": 0
      },
      "text/plain": [
       "Batches:   0%|          | 0/1 [00:00<?, ?it/s]"
      ]
     },
     "metadata": {},
     "output_type": "display_data"
    },
    {
     "data": {
      "application/vnd.jupyter.widget-view+json": {
       "model_id": "e71a543e8de344629dec4e0cf8f44283",
       "version_major": 2,
       "version_minor": 0
      },
      "text/plain": [
       "Batches:   0%|          | 0/1 [00:00<?, ?it/s]"
      ]
     },
     "metadata": {},
     "output_type": "display_data"
    },
    {
     "name": "stderr",
     "output_type": "stream",
     "text": [
      "Processing rows:   6%|▋         | 39/600 [01:24<20:13,  2.16s/row]"
     ]
    },
    {
     "data": {
      "application/vnd.jupyter.widget-view+json": {
       "model_id": "944195602d584d42b6320d2ee5579686",
       "version_major": 2,
       "version_minor": 0
      },
      "text/plain": [
       "Batches:   0%|          | 0/1 [00:00<?, ?it/s]"
      ]
     },
     "metadata": {},
     "output_type": "display_data"
    },
    {
     "data": {
      "application/vnd.jupyter.widget-view+json": {
       "model_id": "af59ecbe42e74057bb76df7edd027a4a",
       "version_major": 2,
       "version_minor": 0
      },
      "text/plain": [
       "Batches:   0%|          | 0/1 [00:00<?, ?it/s]"
      ]
     },
     "metadata": {},
     "output_type": "display_data"
    },
    {
     "name": "stderr",
     "output_type": "stream",
     "text": [
      "Processing rows:   7%|▋         | 40/600 [01:26<19:41,  2.11s/row]"
     ]
    },
    {
     "data": {
      "application/vnd.jupyter.widget-view+json": {
       "model_id": "fafd80cb1a604ca68f21a6b99c36b8f3",
       "version_major": 2,
       "version_minor": 0
      },
      "text/plain": [
       "Batches:   0%|          | 0/1 [00:00<?, ?it/s]"
      ]
     },
     "metadata": {},
     "output_type": "display_data"
    },
    {
     "data": {
      "application/vnd.jupyter.widget-view+json": {
       "model_id": "a9456ea6daff4f4c8a63208068936744",
       "version_major": 2,
       "version_minor": 0
      },
      "text/plain": [
       "Batches:   0%|          | 0/1 [00:00<?, ?it/s]"
      ]
     },
     "metadata": {},
     "output_type": "display_data"
    },
    {
     "name": "stderr",
     "output_type": "stream",
     "text": [
      "Processing rows:   7%|▋         | 41/600 [01:29<20:43,  2.22s/row]"
     ]
    },
    {
     "data": {
      "application/vnd.jupyter.widget-view+json": {
       "model_id": "b09651823d0e4742ac13a9d76ea1a08d",
       "version_major": 2,
       "version_minor": 0
      },
      "text/plain": [
       "Batches:   0%|          | 0/1 [00:00<?, ?it/s]"
      ]
     },
     "metadata": {},
     "output_type": "display_data"
    },
    {
     "data": {
      "application/vnd.jupyter.widget-view+json": {
       "model_id": "82f7f7e66bae454e8617c14dd687df9f",
       "version_major": 2,
       "version_minor": 0
      },
      "text/plain": [
       "Batches:   0%|          | 0/1 [00:00<?, ?it/s]"
      ]
     },
     "metadata": {},
     "output_type": "display_data"
    },
    {
     "name": "stderr",
     "output_type": "stream",
     "text": [
      "Processing rows:   7%|▋         | 42/600 [01:31<20:11,  2.17s/row]"
     ]
    },
    {
     "data": {
      "application/vnd.jupyter.widget-view+json": {
       "model_id": "ae3c5981ad384347a6e1d19d69cebee0",
       "version_major": 2,
       "version_minor": 0
      },
      "text/plain": [
       "Batches:   0%|          | 0/1 [00:00<?, ?it/s]"
      ]
     },
     "metadata": {},
     "output_type": "display_data"
    },
    {
     "data": {
      "application/vnd.jupyter.widget-view+json": {
       "model_id": "b41a8ee7a97240d592145ab31a401a6c",
       "version_major": 2,
       "version_minor": 0
      },
      "text/plain": [
       "Batches:   0%|          | 0/1 [00:00<?, ?it/s]"
      ]
     },
     "metadata": {},
     "output_type": "display_data"
    },
    {
     "name": "stderr",
     "output_type": "stream",
     "text": [
      "Processing rows:   7%|▋         | 43/600 [01:33<20:12,  2.18s/row]"
     ]
    },
    {
     "data": {
      "application/vnd.jupyter.widget-view+json": {
       "model_id": "89470bc19c5a441d93a8f69d78e5b619",
       "version_major": 2,
       "version_minor": 0
      },
      "text/plain": [
       "Batches:   0%|          | 0/1 [00:00<?, ?it/s]"
      ]
     },
     "metadata": {},
     "output_type": "display_data"
    },
    {
     "data": {
      "application/vnd.jupyter.widget-view+json": {
       "model_id": "1acc235d81524ad0a7db98e34ebe85a9",
       "version_major": 2,
       "version_minor": 0
      },
      "text/plain": [
       "Batches:   0%|          | 0/1 [00:00<?, ?it/s]"
      ]
     },
     "metadata": {},
     "output_type": "display_data"
    },
    {
     "name": "stderr",
     "output_type": "stream",
     "text": [
      "Processing rows:   7%|▋         | 44/600 [01:36<20:52,  2.25s/row]"
     ]
    },
    {
     "data": {
      "application/vnd.jupyter.widget-view+json": {
       "model_id": "e9e0de6aa8954913aceca98c5a447b0d",
       "version_major": 2,
       "version_minor": 0
      },
      "text/plain": [
       "Batches:   0%|          | 0/1 [00:00<?, ?it/s]"
      ]
     },
     "metadata": {},
     "output_type": "display_data"
    },
    {
     "data": {
      "application/vnd.jupyter.widget-view+json": {
       "model_id": "eec281e621374c478943ec67ce1751b9",
       "version_major": 2,
       "version_minor": 0
      },
      "text/plain": [
       "Batches:   0%|          | 0/1 [00:00<?, ?it/s]"
      ]
     },
     "metadata": {},
     "output_type": "display_data"
    },
    {
     "name": "stderr",
     "output_type": "stream",
     "text": [
      "Processing rows:   8%|▊         | 45/600 [01:38<20:48,  2.25s/row]"
     ]
    },
    {
     "data": {
      "application/vnd.jupyter.widget-view+json": {
       "model_id": "c7f72caedcd44a36a516315455ef02a8",
       "version_major": 2,
       "version_minor": 0
      },
      "text/plain": [
       "Batches:   0%|          | 0/1 [00:00<?, ?it/s]"
      ]
     },
     "metadata": {},
     "output_type": "display_data"
    },
    {
     "data": {
      "application/vnd.jupyter.widget-view+json": {
       "model_id": "1685a0bfb671405c8b2248e593c3e8c0",
       "version_major": 2,
       "version_minor": 0
      },
      "text/plain": [
       "Batches:   0%|          | 0/1 [00:00<?, ?it/s]"
      ]
     },
     "metadata": {},
     "output_type": "display_data"
    },
    {
     "name": "stderr",
     "output_type": "stream",
     "text": [
      "Processing rows:   8%|▊         | 46/600 [01:40<20:32,  2.22s/row]"
     ]
    },
    {
     "data": {
      "application/vnd.jupyter.widget-view+json": {
       "model_id": "293d062d722b4d5ba63c5b3c56368718",
       "version_major": 2,
       "version_minor": 0
      },
      "text/plain": [
       "Batches:   0%|          | 0/1 [00:00<?, ?it/s]"
      ]
     },
     "metadata": {},
     "output_type": "display_data"
    },
    {
     "data": {
      "application/vnd.jupyter.widget-view+json": {
       "model_id": "51b1c195abf241f0982d80495ac16b21",
       "version_major": 2,
       "version_minor": 0
      },
      "text/plain": [
       "Batches:   0%|          | 0/1 [00:00<?, ?it/s]"
      ]
     },
     "metadata": {},
     "output_type": "display_data"
    },
    {
     "name": "stderr",
     "output_type": "stream",
     "text": [
      "Processing rows:   8%|▊         | 47/600 [01:42<20:25,  2.22s/row]"
     ]
    },
    {
     "data": {
      "application/vnd.jupyter.widget-view+json": {
       "model_id": "cd16ccd07684449a9d369b24b6d0652c",
       "version_major": 2,
       "version_minor": 0
      },
      "text/plain": [
       "Batches:   0%|          | 0/1 [00:00<?, ?it/s]"
      ]
     },
     "metadata": {},
     "output_type": "display_data"
    },
    {
     "data": {
      "application/vnd.jupyter.widget-view+json": {
       "model_id": "4aa86cbef8ba41c9969411985d0e2cf6",
       "version_major": 2,
       "version_minor": 0
      },
      "text/plain": [
       "Batches:   0%|          | 0/1 [00:00<?, ?it/s]"
      ]
     },
     "metadata": {},
     "output_type": "display_data"
    },
    {
     "name": "stderr",
     "output_type": "stream",
     "text": [
      "Processing rows:   8%|▊         | 48/600 [01:44<20:03,  2.18s/row]"
     ]
    },
    {
     "data": {
      "application/vnd.jupyter.widget-view+json": {
       "model_id": "af6d93e8a1414bed9e202ab981a818a9",
       "version_major": 2,
       "version_minor": 0
      },
      "text/plain": [
       "Batches:   0%|          | 0/1 [00:00<?, ?it/s]"
      ]
     },
     "metadata": {},
     "output_type": "display_data"
    },
    {
     "data": {
      "application/vnd.jupyter.widget-view+json": {
       "model_id": "b02f518acc7940c6a11ea5e9cfbbb3e0",
       "version_major": 2,
       "version_minor": 0
      },
      "text/plain": [
       "Batches:   0%|          | 0/1 [00:00<?, ?it/s]"
      ]
     },
     "metadata": {},
     "output_type": "display_data"
    },
    {
     "name": "stderr",
     "output_type": "stream",
     "text": [
      "Processing rows:   8%|▊         | 49/600 [01:47<21:12,  2.31s/row]"
     ]
    },
    {
     "data": {
      "application/vnd.jupyter.widget-view+json": {
       "model_id": "029ba2f213324ce28343fcfeab08fcf3",
       "version_major": 2,
       "version_minor": 0
      },
      "text/plain": [
       "Batches:   0%|          | 0/1 [00:00<?, ?it/s]"
      ]
     },
     "metadata": {},
     "output_type": "display_data"
    },
    {
     "data": {
      "application/vnd.jupyter.widget-view+json": {
       "model_id": "f9bd78550ce04c02a56d704c3dc259b0",
       "version_major": 2,
       "version_minor": 0
      },
      "text/plain": [
       "Batches:   0%|          | 0/1 [00:00<?, ?it/s]"
      ]
     },
     "metadata": {},
     "output_type": "display_data"
    },
    {
     "name": "stderr",
     "output_type": "stream",
     "text": [
      "Processing rows:   8%|▊         | 50/600 [01:53<30:52,  3.37s/row]"
     ]
    },
    {
     "data": {
      "application/vnd.jupyter.widget-view+json": {
       "model_id": "a515bcdd05fe4f15aafc2bbf88f31921",
       "version_major": 2,
       "version_minor": 0
      },
      "text/plain": [
       "Batches:   0%|          | 0/1 [00:00<?, ?it/s]"
      ]
     },
     "metadata": {},
     "output_type": "display_data"
    },
    {
     "data": {
      "application/vnd.jupyter.widget-view+json": {
       "model_id": "dfecbb5a96924787a15deac90815819b",
       "version_major": 2,
       "version_minor": 0
      },
      "text/plain": [
       "Batches:   0%|          | 0/1 [00:00<?, ?it/s]"
      ]
     },
     "metadata": {},
     "output_type": "display_data"
    },
    {
     "name": "stderr",
     "output_type": "stream",
     "text": [
      "Processing rows:   8%|▊         | 51/600 [01:55<27:36,  3.02s/row]"
     ]
    },
    {
     "data": {
      "application/vnd.jupyter.widget-view+json": {
       "model_id": "41b45decaaef4d5783cd356db960ad43",
       "version_major": 2,
       "version_minor": 0
      },
      "text/plain": [
       "Batches:   0%|          | 0/1 [00:00<?, ?it/s]"
      ]
     },
     "metadata": {},
     "output_type": "display_data"
    },
    {
     "data": {
      "application/vnd.jupyter.widget-view+json": {
       "model_id": "612bbc6dc46a47b5a7c7f3fe8cc636f7",
       "version_major": 2,
       "version_minor": 0
      },
      "text/plain": [
       "Batches:   0%|          | 0/1 [00:00<?, ?it/s]"
      ]
     },
     "metadata": {},
     "output_type": "display_data"
    },
    {
     "name": "stderr",
     "output_type": "stream",
     "text": [
      "Processing rows:   9%|▊         | 52/600 [01:57<25:12,  2.76s/row]"
     ]
    },
    {
     "data": {
      "application/vnd.jupyter.widget-view+json": {
       "model_id": "89b7a8cce03744c2b6a1a99144228477",
       "version_major": 2,
       "version_minor": 0
      },
      "text/plain": [
       "Batches:   0%|          | 0/1 [00:00<?, ?it/s]"
      ]
     },
     "metadata": {},
     "output_type": "display_data"
    },
    {
     "data": {
      "application/vnd.jupyter.widget-view+json": {
       "model_id": "33ce7600012e4c79bcb10e95b40ce92c",
       "version_major": 2,
       "version_minor": 0
      },
      "text/plain": [
       "Batches:   0%|          | 0/1 [00:00<?, ?it/s]"
      ]
     },
     "metadata": {},
     "output_type": "display_data"
    },
    {
     "name": "stderr",
     "output_type": "stream",
     "text": [
      "Processing rows:   9%|▉         | 53/600 [01:59<23:29,  2.58s/row]"
     ]
    },
    {
     "data": {
      "application/vnd.jupyter.widget-view+json": {
       "model_id": "777cd8d4dc524e9592acb2c159146022",
       "version_major": 2,
       "version_minor": 0
      },
      "text/plain": [
       "Batches:   0%|          | 0/1 [00:00<?, ?it/s]"
      ]
     },
     "metadata": {},
     "output_type": "display_data"
    },
    {
     "data": {
      "application/vnd.jupyter.widget-view+json": {
       "model_id": "789b133c9a3340d7a05645ecd9f6688c",
       "version_major": 2,
       "version_minor": 0
      },
      "text/plain": [
       "Batches:   0%|          | 0/1 [00:00<?, ?it/s]"
      ]
     },
     "metadata": {},
     "output_type": "display_data"
    },
    {
     "name": "stderr",
     "output_type": "stream",
     "text": [
      "Processing rows:   9%|▉         | 54/600 [02:01<22:18,  2.45s/row]"
     ]
    },
    {
     "data": {
      "application/vnd.jupyter.widget-view+json": {
       "model_id": "4ec5d09271de47b28fbe1b308c8cc8fe",
       "version_major": 2,
       "version_minor": 0
      },
      "text/plain": [
       "Batches:   0%|          | 0/1 [00:00<?, ?it/s]"
      ]
     },
     "metadata": {},
     "output_type": "display_data"
    },
    {
     "data": {
      "application/vnd.jupyter.widget-view+json": {
       "model_id": "33bc9600cc4848e3b6189fbfccbb40a4",
       "version_major": 2,
       "version_minor": 0
      },
      "text/plain": [
       "Batches:   0%|          | 0/1 [00:00<?, ?it/s]"
      ]
     },
     "metadata": {},
     "output_type": "display_data"
    },
    {
     "name": "stderr",
     "output_type": "stream",
     "text": [
      "Processing rows:   9%|▉         | 55/600 [02:04<21:24,  2.36s/row]"
     ]
    },
    {
     "data": {
      "application/vnd.jupyter.widget-view+json": {
       "model_id": "83ac0680b1a94f328ff99afd2851d4dc",
       "version_major": 2,
       "version_minor": 0
      },
      "text/plain": [
       "Batches:   0%|          | 0/1 [00:00<?, ?it/s]"
      ]
     },
     "metadata": {},
     "output_type": "display_data"
    },
    {
     "data": {
      "application/vnd.jupyter.widget-view+json": {
       "model_id": "2211fe37d02946099f0fc9c81698e576",
       "version_major": 2,
       "version_minor": 0
      },
      "text/plain": [
       "Batches:   0%|          | 0/1 [00:00<?, ?it/s]"
      ]
     },
     "metadata": {},
     "output_type": "display_data"
    },
    {
     "name": "stderr",
     "output_type": "stream",
     "text": [
      "Processing rows:   9%|▉         | 56/600 [02:06<21:07,  2.33s/row]"
     ]
    },
    {
     "data": {
      "application/vnd.jupyter.widget-view+json": {
       "model_id": "a1adebf644f84c24b9f2037b8a7310bf",
       "version_major": 2,
       "version_minor": 0
      },
      "text/plain": [
       "Batches:   0%|          | 0/1 [00:00<?, ?it/s]"
      ]
     },
     "metadata": {},
     "output_type": "display_data"
    },
    {
     "data": {
      "application/vnd.jupyter.widget-view+json": {
       "model_id": "a8732e5f123348f8ad685b70edce684b",
       "version_major": 2,
       "version_minor": 0
      },
      "text/plain": [
       "Batches:   0%|          | 0/1 [00:00<?, ?it/s]"
      ]
     },
     "metadata": {},
     "output_type": "display_data"
    },
    {
     "name": "stderr",
     "output_type": "stream",
     "text": [
      "Processing rows:  10%|▉         | 57/600 [02:09<23:12,  2.56s/row]"
     ]
    },
    {
     "data": {
      "application/vnd.jupyter.widget-view+json": {
       "model_id": "964a8f869a70463d84ba2efce9a214e7",
       "version_major": 2,
       "version_minor": 0
      },
      "text/plain": [
       "Batches:   0%|          | 0/1 [00:00<?, ?it/s]"
      ]
     },
     "metadata": {},
     "output_type": "display_data"
    },
    {
     "data": {
      "application/vnd.jupyter.widget-view+json": {
       "model_id": "417bc5ba177044ffa36d388039e61fdf",
       "version_major": 2,
       "version_minor": 0
      },
      "text/plain": [
       "Batches:   0%|          | 0/1 [00:00<?, ?it/s]"
      ]
     },
     "metadata": {},
     "output_type": "display_data"
    },
    {
     "name": "stderr",
     "output_type": "stream",
     "text": [
      "Processing rows:  10%|▉         | 58/600 [02:11<22:19,  2.47s/row]"
     ]
    },
    {
     "data": {
      "application/vnd.jupyter.widget-view+json": {
       "model_id": "c45cd47acdb046c3849fc0bf75882ec7",
       "version_major": 2,
       "version_minor": 0
      },
      "text/plain": [
       "Batches:   0%|          | 0/1 [00:00<?, ?it/s]"
      ]
     },
     "metadata": {},
     "output_type": "display_data"
    },
    {
     "data": {
      "application/vnd.jupyter.widget-view+json": {
       "model_id": "6b850ab28f5c491cb870f068292b0967",
       "version_major": 2,
       "version_minor": 0
      },
      "text/plain": [
       "Batches:   0%|          | 0/1 [00:00<?, ?it/s]"
      ]
     },
     "metadata": {},
     "output_type": "display_data"
    },
    {
     "name": "stderr",
     "output_type": "stream",
     "text": [
      "Processing rows:  10%|▉         | 59/600 [02:13<21:05,  2.34s/row]"
     ]
    },
    {
     "data": {
      "application/vnd.jupyter.widget-view+json": {
       "model_id": "f890ae208f644ad3b83e4104c0977fd9",
       "version_major": 2,
       "version_minor": 0
      },
      "text/plain": [
       "Batches:   0%|          | 0/1 [00:00<?, ?it/s]"
      ]
     },
     "metadata": {},
     "output_type": "display_data"
    },
    {
     "data": {
      "application/vnd.jupyter.widget-view+json": {
       "model_id": "24159c1d0053498f855e70ab4e123cc1",
       "version_major": 2,
       "version_minor": 0
      },
      "text/plain": [
       "Batches:   0%|          | 0/1 [00:00<?, ?it/s]"
      ]
     },
     "metadata": {},
     "output_type": "display_data"
    },
    {
     "name": "stderr",
     "output_type": "stream",
     "text": [
      "Processing rows:  10%|█         | 60/600 [02:16<23:29,  2.61s/row]"
     ]
    },
    {
     "data": {
      "application/vnd.jupyter.widget-view+json": {
       "model_id": "c31fc00b78dd4ca1a026b9766401b363",
       "version_major": 2,
       "version_minor": 0
      },
      "text/plain": [
       "Batches:   0%|          | 0/1 [00:00<?, ?it/s]"
      ]
     },
     "metadata": {},
     "output_type": "display_data"
    },
    {
     "data": {
      "application/vnd.jupyter.widget-view+json": {
       "model_id": "ffa97b64e1704be08c93bf8f8dbff62d",
       "version_major": 2,
       "version_minor": 0
      },
      "text/plain": [
       "Batches:   0%|          | 0/1 [00:00<?, ?it/s]"
      ]
     },
     "metadata": {},
     "output_type": "display_data"
    },
    {
     "name": "stderr",
     "output_type": "stream",
     "text": [
      "Processing rows:  10%|█         | 61/600 [02:20<25:11,  2.80s/row]"
     ]
    },
    {
     "data": {
      "application/vnd.jupyter.widget-view+json": {
       "model_id": "35b31048609047f3a264fc080babd76b",
       "version_major": 2,
       "version_minor": 0
      },
      "text/plain": [
       "Batches:   0%|          | 0/1 [00:00<?, ?it/s]"
      ]
     },
     "metadata": {},
     "output_type": "display_data"
    },
    {
     "data": {
      "application/vnd.jupyter.widget-view+json": {
       "model_id": "f2fef11592884a56a3cf8b086697f93e",
       "version_major": 2,
       "version_minor": 0
      },
      "text/plain": [
       "Batches:   0%|          | 0/1 [00:00<?, ?it/s]"
      ]
     },
     "metadata": {},
     "output_type": "display_data"
    },
    {
     "name": "stderr",
     "output_type": "stream",
     "text": [
      "Processing rows:  10%|█         | 62/600 [02:22<23:18,  2.60s/row]"
     ]
    },
    {
     "data": {
      "application/vnd.jupyter.widget-view+json": {
       "model_id": "6298b4f94ca742528f7af06b9ac44a25",
       "version_major": 2,
       "version_minor": 0
      },
      "text/plain": [
       "Batches:   0%|          | 0/1 [00:00<?, ?it/s]"
      ]
     },
     "metadata": {},
     "output_type": "display_data"
    },
    {
     "data": {
      "application/vnd.jupyter.widget-view+json": {
       "model_id": "15acdf3511244c9ba677e507a0d9eeda",
       "version_major": 2,
       "version_minor": 0
      },
      "text/plain": [
       "Batches:   0%|          | 0/1 [00:00<?, ?it/s]"
      ]
     },
     "metadata": {},
     "output_type": "display_data"
    },
    {
     "name": "stderr",
     "output_type": "stream",
     "text": [
      "Processing rows:  10%|█         | 63/600 [02:24<22:31,  2.52s/row]"
     ]
    },
    {
     "data": {
      "application/vnd.jupyter.widget-view+json": {
       "model_id": "3bfd9d3e46294570a169079e54219346",
       "version_major": 2,
       "version_minor": 0
      },
      "text/plain": [
       "Batches:   0%|          | 0/1 [00:00<?, ?it/s]"
      ]
     },
     "metadata": {},
     "output_type": "display_data"
    },
    {
     "data": {
      "application/vnd.jupyter.widget-view+json": {
       "model_id": "ebf6f6fc1e9c497fb147240a5be8dbff",
       "version_major": 2,
       "version_minor": 0
      },
      "text/plain": [
       "Batches:   0%|          | 0/1 [00:00<?, ?it/s]"
      ]
     },
     "metadata": {},
     "output_type": "display_data"
    },
    {
     "name": "stderr",
     "output_type": "stream",
     "text": [
      "Processing rows:  11%|█         | 64/600 [02:27<22:39,  2.54s/row]"
     ]
    },
    {
     "data": {
      "application/vnd.jupyter.widget-view+json": {
       "model_id": "b75dae9cf0564889abc1a30654ba92bf",
       "version_major": 2,
       "version_minor": 0
      },
      "text/plain": [
       "Batches:   0%|          | 0/1 [00:00<?, ?it/s]"
      ]
     },
     "metadata": {},
     "output_type": "display_data"
    },
    {
     "data": {
      "application/vnd.jupyter.widget-view+json": {
       "model_id": "3c974a7d97334a8f9a252fd23f600aac",
       "version_major": 2,
       "version_minor": 0
      },
      "text/plain": [
       "Batches:   0%|          | 0/1 [00:00<?, ?it/s]"
      ]
     },
     "metadata": {},
     "output_type": "display_data"
    },
    {
     "name": "stderr",
     "output_type": "stream",
     "text": [
      "Processing rows:  11%|█         | 65/600 [02:29<21:28,  2.41s/row]"
     ]
    },
    {
     "data": {
      "application/vnd.jupyter.widget-view+json": {
       "model_id": "25ec25206b3d473c9095d7c55d4fe373",
       "version_major": 2,
       "version_minor": 0
      },
      "text/plain": [
       "Batches:   0%|          | 0/1 [00:00<?, ?it/s]"
      ]
     },
     "metadata": {},
     "output_type": "display_data"
    },
    {
     "data": {
      "application/vnd.jupyter.widget-view+json": {
       "model_id": "1cb8de45275b46368048e849d95bb535",
       "version_major": 2,
       "version_minor": 0
      },
      "text/plain": [
       "Batches:   0%|          | 0/1 [00:00<?, ?it/s]"
      ]
     },
     "metadata": {},
     "output_type": "display_data"
    },
    {
     "name": "stderr",
     "output_type": "stream",
     "text": [
      "Processing rows:  11%|█         | 66/600 [02:31<21:50,  2.45s/row]"
     ]
    },
    {
     "data": {
      "application/vnd.jupyter.widget-view+json": {
       "model_id": "c4c84c931363440e985caeedd5c3ed5a",
       "version_major": 2,
       "version_minor": 0
      },
      "text/plain": [
       "Batches:   0%|          | 0/1 [00:00<?, ?it/s]"
      ]
     },
     "metadata": {},
     "output_type": "display_data"
    },
    {
     "data": {
      "application/vnd.jupyter.widget-view+json": {
       "model_id": "f5bc4c52f3bf4c84937ee54ae58b6a86",
       "version_major": 2,
       "version_minor": 0
      },
      "text/plain": [
       "Batches:   0%|          | 0/1 [00:00<?, ?it/s]"
      ]
     },
     "metadata": {},
     "output_type": "display_data"
    },
    {
     "name": "stderr",
     "output_type": "stream",
     "text": [
      "Processing rows:  11%|█         | 67/600 [02:34<21:09,  2.38s/row]"
     ]
    },
    {
     "data": {
      "application/vnd.jupyter.widget-view+json": {
       "model_id": "2a5feb57c01b487286b609c328f0bb6e",
       "version_major": 2,
       "version_minor": 0
      },
      "text/plain": [
       "Batches:   0%|          | 0/1 [00:00<?, ?it/s]"
      ]
     },
     "metadata": {},
     "output_type": "display_data"
    },
    {
     "data": {
      "application/vnd.jupyter.widget-view+json": {
       "model_id": "5c245c78f8bd4f7994be2b83ba5977e1",
       "version_major": 2,
       "version_minor": 0
      },
      "text/plain": [
       "Batches:   0%|          | 0/1 [00:00<?, ?it/s]"
      ]
     },
     "metadata": {},
     "output_type": "display_data"
    },
    {
     "name": "stderr",
     "output_type": "stream",
     "text": [
      "Processing rows:  11%|█▏        | 68/600 [02:36<20:42,  2.34s/row]"
     ]
    },
    {
     "data": {
      "application/vnd.jupyter.widget-view+json": {
       "model_id": "578943104efd4621a58ee6e61ad2d3ff",
       "version_major": 2,
       "version_minor": 0
      },
      "text/plain": [
       "Batches:   0%|          | 0/1 [00:00<?, ?it/s]"
      ]
     },
     "metadata": {},
     "output_type": "display_data"
    },
    {
     "data": {
      "application/vnd.jupyter.widget-view+json": {
       "model_id": "e290ae8692f945f3bab726a6ba7222f8",
       "version_major": 2,
       "version_minor": 0
      },
      "text/plain": [
       "Batches:   0%|          | 0/1 [00:00<?, ?it/s]"
      ]
     },
     "metadata": {},
     "output_type": "display_data"
    },
    {
     "name": "stderr",
     "output_type": "stream",
     "text": [
      "Processing rows:  12%|█▏        | 69/600 [02:38<20:07,  2.27s/row]"
     ]
    },
    {
     "data": {
      "application/vnd.jupyter.widget-view+json": {
       "model_id": "c3d04134745745258d4d47077eae87ec",
       "version_major": 2,
       "version_minor": 0
      },
      "text/plain": [
       "Batches:   0%|          | 0/1 [00:00<?, ?it/s]"
      ]
     },
     "metadata": {},
     "output_type": "display_data"
    },
    {
     "data": {
      "application/vnd.jupyter.widget-view+json": {
       "model_id": "158a58d3ce12460591afad74828128ac",
       "version_major": 2,
       "version_minor": 0
      },
      "text/plain": [
       "Batches:   0%|          | 0/1 [00:00<?, ?it/s]"
      ]
     },
     "metadata": {},
     "output_type": "display_data"
    }
   ],
   "source": [
    "now = datetime.now()\n",
    "\n",
    "def run_retrieval_eval(filename, df):\n",
    "    import config.prompt\n",
    "    importlib.reload(config.prompt)\n",
    "\n",
    "    import re\n",
    "\n",
    "    match = re.search(r\"answers_(.*?)_dataset\", filename)\n",
    "    if match:\n",
    "        splitting_strategy = match.group(1)\n",
    "    else:\n",
    "        splitting_strategy = None\n",
    "\n",
    "    # 1) Filter out the null‐question rows\n",
    "    df_nonnull = df[df[\"question\"].notnull()]\n",
    "\n",
    "    df_shuffled = df_nonnull.sample(n=NUMBER_OF_QUESTIONS_IN_EVAL, random_state=42).reset_index(drop=True)\n",
    "\n",
    "    for index, row in tqdm(\n",
    "        df_shuffled.iterrows(),\n",
    "        total=len(df_shuffled),\n",
    "        desc=\"Processing rows\",\n",
    "        unit=\"row\"\n",
    "    ):\n",
    "        for test_config in test_configs:\n",
    "            relevant_documents = row[\"documents\"]\n",
    "            question = row[\"question\"]\n",
    "\n",
    "            index_store = InMemoryDocumentStore.load_from_disk(f\"data/document_stores/{test_config['embedding_model'].name}/context/{test_config['contextualizer_model'].name}/{splitting_strategy}_indexing_store.json\")\n",
    "            pipeline = get_base_retrieval_eval_pipeline(index_store, test_config[\"embedding_model\"], None)\n",
    "\n",
    "            request_payload = {\n",
    "                \"retriever\": {\n",
    "                    \"top_k\": TOP_K,\n",
    "                },\n",
    "                \"map_evaluator\": {\n",
    "                    \"ground_truth_documents\": [relevant_documents],\n",
    "                },\n",
    "                \"mrr_evaluator\": {\n",
    "                    \"ground_truth_documents\": [relevant_documents],\n",
    "                },\n",
    "                \"recall_evaluator\": {\n",
    "                    \"ground_truth_documents\": [relevant_documents],\n",
    "                }\n",
    "            }\n",
    "            if \"query_embedder\" in pipeline.graph.nodes:\n",
    "                request_payload[\"query_embedder\"] = {\n",
    "                    \"text\": question,\n",
    "                }\n",
    "            result = pipeline.run(request_payload)\n",
    "\n",
    "            map_score = result.get(\"map_evaluator\", {}).get(\"score\", {})\n",
    "            mrr_score = result.get(\"mrr_evaluator\", {}).get(\"score\", {})\n",
    "            recall_score = result.get(\"recall_evaluator\", {}).get(\"score\", {})\n",
    "\n",
    "            df.at[index, f\"{test_config['embedding_model'].name}_{test_config['contextualizer_model'].name}_map\"] = map_score\n",
    "            df.at[index, f\"{test_config['embedding_model'].name}_{test_config['contextualizer_model'].name}_mrr\"] = mrr_score\n",
    "            df.at[index, f\"{test_config['embedding_model'].name}_{test_config['contextualizer_model'].name}_recall\"] = recall_score\n",
    "\n",
    "    save_path = f\"results/retrieval/open_closed/{now.strftime('%Y-%m-%d_%H-%M-%S')}/open_closed_result.pkl\"\n",
    "    os.makedirs(os.path.dirname(save_path), exist_ok=True)\n",
    "    df.to_pickle(save_path)\n",
    "\n",
    "run_retrieval_eval(\"data/qa_with_docs_flat/question_answers_docs_word_50_10_dataset_flat.pkl\", pd.read_pickle(\"data/qa_with_docs_flat/question_answers_docs_word_50_10_dataset_flat.pkl\"))"
   ]
  },
  {
   "cell_type": "markdown",
   "id": "2511196d",
   "metadata": {},
   "source": [
    "## Analysis"
   ]
  },
  {
   "cell_type": "code",
   "execution_count": 8,
   "id": "1f712d5e",
   "metadata": {},
   "outputs": [
    {
     "data": {
      "text/html": [
       "<div>\n",
       "<style scoped>\n",
       "    .dataframe tbody tr th:only-of-type {\n",
       "        vertical-align: middle;\n",
       "    }\n",
       "\n",
       "    .dataframe tbody tr th {\n",
       "        vertical-align: top;\n",
       "    }\n",
       "\n",
       "    .dataframe thead th {\n",
       "        text-align: right;\n",
       "    }\n",
       "</style>\n",
       "<table border=\"1\" class=\"dataframe\">\n",
       "  <thead>\n",
       "    <tr style=\"text-align: right;\">\n",
       "      <th></th>\n",
       "      <th>question</th>\n",
       "      <th>references</th>\n",
       "      <th>groundTruth</th>\n",
       "      <th>source_file</th>\n",
       "      <th>variations_pretty</th>\n",
       "      <th>documents</th>\n",
       "      <th>variant</th>\n",
       "      <th>prev_messages</th>\n",
       "      <th>Qwen/Qwen3-Embedding-4B_gemma3:12b_map</th>\n",
       "      <th>Qwen/Qwen3-Embedding-4B_gemma3:12b_mrr</th>\n",
       "      <th>Qwen/Qwen3-Embedding-4B_gemma3:12b_recall</th>\n",
       "      <th>Qwen/Qwen3-Embedding-4B_gpt-4.1-mini_map</th>\n",
       "      <th>Qwen/Qwen3-Embedding-4B_gpt-4.1-mini_mrr</th>\n",
       "      <th>Qwen/Qwen3-Embedding-4B_gpt-4.1-mini_recall</th>\n",
       "      <th>text-embedding-3-large_gemma3:12b_map</th>\n",
       "      <th>text-embedding-3-large_gemma3:12b_mrr</th>\n",
       "      <th>text-embedding-3-large_gemma3:12b_recall</th>\n",
       "      <th>text-embedding-3-large_gpt-4.1-mini_map</th>\n",
       "      <th>text-embedding-3-large_gpt-4.1-mini_mrr</th>\n",
       "      <th>text-embedding-3-large_gpt-4.1-mini_recall</th>\n",
       "    </tr>\n",
       "  </thead>\n",
       "  <tbody>\n",
       "    <tr>\n",
       "      <th>0</th>\n",
       "      <td>Wie läuft eine äußere Wendung genau ab und was...</td>\n",
       "      <td>[Eine äußere Wendung findet in der Regel in ei...</td>\n",
       "      <td>Eine äußere Wendung findet ambulant in einer K...</td>\n",
       "      <td>Äußere Wendung.md</td>\n",
       "      <td>\"{\\\"contextual\\\": [{\\\"role\\\": \\\"user\\\", \\\"mess...</td>\n",
       "      <td>[Document(id=6574586c437e0711c9ac7d01e25f91424...</td>\n",
       "      <td>default</td>\n",
       "      <td>[]</td>\n",
       "      <td>1.00000</td>\n",
       "      <td>1.000000</td>\n",
       "      <td>1.0</td>\n",
       "      <td>0.500000</td>\n",
       "      <td>0.5</td>\n",
       "      <td>1.0</td>\n",
       "      <td>0.500000</td>\n",
       "      <td>0.50</td>\n",
       "      <td>1.0</td>\n",
       "      <td>0.250000</td>\n",
       "      <td>0.25</td>\n",
       "      <td>1.0</td>\n",
       "    </tr>\n",
       "    <tr>\n",
       "      <th>1</th>\n",
       "      <td>Und was passiert dann genau davor?</td>\n",
       "      <td>[Eine äußere Wendung findet in der Regel in ei...</td>\n",
       "      <td>Eine äußere Wendung findet ambulant in einer K...</td>\n",
       "      <td>Äußere Wendung.md</td>\n",
       "      <td>\"{\\\"contextual\\\": [{\\\"role\\\": \\\"user\\\", \\\"mess...</td>\n",
       "      <td>[Document(id=6574586c437e0711c9ac7d01e25f91424...</td>\n",
       "      <td>contextual</td>\n",
       "      <td>[Ich habe von der äußeren Wendung gehört, könn...</td>\n",
       "      <td>0.18254</td>\n",
       "      <td>0.142857</td>\n",
       "      <td>1.0</td>\n",
       "      <td>0.500000</td>\n",
       "      <td>0.5</td>\n",
       "      <td>1.0</td>\n",
       "      <td>0.722222</td>\n",
       "      <td>1.00</td>\n",
       "      <td>1.0</td>\n",
       "      <td>0.638889</td>\n",
       "      <td>0.50</td>\n",
       "      <td>1.0</td>\n",
       "    </tr>\n",
       "    <tr>\n",
       "      <th>2</th>\n",
       "      <td>Wie genau läuft so ne äußere Wendung ab und wa...</td>\n",
       "      <td>[Eine äußere Wendung findet in der Regel in ei...</td>\n",
       "      <td>Eine äußere Wendung findet ambulant in einer K...</td>\n",
       "      <td>Äußere Wendung.md</td>\n",
       "      <td>\"{\\\"contextual\\\": [{\\\"role\\\": \\\"user\\\", \\\"mess...</td>\n",
       "      <td>[Document(id=6574586c437e0711c9ac7d01e25f91424...</td>\n",
       "      <td>slang</td>\n",
       "      <td>[]</td>\n",
       "      <td>1.00000</td>\n",
       "      <td>1.000000</td>\n",
       "      <td>1.0</td>\n",
       "      <td>0.450000</td>\n",
       "      <td>0.5</td>\n",
       "      <td>1.0</td>\n",
       "      <td>0.833333</td>\n",
       "      <td>1.00</td>\n",
       "      <td>1.0</td>\n",
       "      <td>1.000000</td>\n",
       "      <td>1.00</td>\n",
       "      <td>1.0</td>\n",
       "    </tr>\n",
       "    <tr>\n",
       "      <th>3</th>\n",
       "      <td>How is an external version performed exactly a...</td>\n",
       "      <td>[Eine äußere Wendung findet in der Regel in ei...</td>\n",
       "      <td>Eine äußere Wendung findet ambulant in einer K...</td>\n",
       "      <td>Äußere Wendung.md</td>\n",
       "      <td>\"{\\\"contextual\\\": [{\\\"role\\\": \\\"user\\\", \\\"mess...</td>\n",
       "      <td>[Document(id=6574586c437e0711c9ac7d01e25f91424...</td>\n",
       "      <td>english</td>\n",
       "      <td>[]</td>\n",
       "      <td>0.50000</td>\n",
       "      <td>0.500000</td>\n",
       "      <td>1.0</td>\n",
       "      <td>0.642857</td>\n",
       "      <td>1.0</td>\n",
       "      <td>1.0</td>\n",
       "      <td>0.500000</td>\n",
       "      <td>0.50</td>\n",
       "      <td>1.0</td>\n",
       "      <td>0.700000</td>\n",
       "      <td>1.00</td>\n",
       "      <td>1.0</td>\n",
       "    </tr>\n",
       "    <tr>\n",
       "      <th>4</th>\n",
       "      <td>äußere Wendung Ablauf Vorbereitung</td>\n",
       "      <td>[Eine äußere Wendung findet in der Regel in ei...</td>\n",
       "      <td>Eine äußere Wendung findet ambulant in einer K...</td>\n",
       "      <td>Äußere Wendung.md</td>\n",
       "      <td>\"{\\\"contextual\\\": [{\\\"role\\\": \\\"user\\\", \\\"mess...</td>\n",
       "      <td>[Document(id=6574586c437e0711c9ac7d01e25f91424...</td>\n",
       "      <td>keyword</td>\n",
       "      <td>[]</td>\n",
       "      <td>0.12500</td>\n",
       "      <td>0.125000</td>\n",
       "      <td>1.0</td>\n",
       "      <td>0.000000</td>\n",
       "      <td>0.0</td>\n",
       "      <td>0.0</td>\n",
       "      <td>0.250000</td>\n",
       "      <td>0.25</td>\n",
       "      <td>1.0</td>\n",
       "      <td>0.000000</td>\n",
       "      <td>0.00</td>\n",
       "      <td>0.0</td>\n",
       "    </tr>\n",
       "    <tr>\n",
       "      <th>...</th>\n",
       "      <td>...</td>\n",
       "      <td>...</td>\n",
       "      <td>...</td>\n",
       "      <td>...</td>\n",
       "      <td>...</td>\n",
       "      <td>...</td>\n",
       "      <td>...</td>\n",
       "      <td>...</td>\n",
       "      <td>...</td>\n",
       "      <td>...</td>\n",
       "      <td>...</td>\n",
       "      <td>...</td>\n",
       "      <td>...</td>\n",
       "      <td>...</td>\n",
       "      <td>...</td>\n",
       "      <td>...</td>\n",
       "      <td>...</td>\n",
       "      <td>...</td>\n",
       "      <td>...</td>\n",
       "      <td>...</td>\n",
       "    </tr>\n",
       "    <tr>\n",
       "      <th>605</th>\n",
       "      <td>Risiken Ballonkatheter?</td>\n",
       "      <td>[Die Einlage und das Befüllen der Ballons könn...</td>\n",
       "      <td>Bei der Anwendung eines Ballonkatheters kann d...</td>\n",
       "      <td>Einleitung der Geburt.md</td>\n",
       "      <td>\"{\\\"contextual\\\": [{\\\"role\\\": \\\"user\\\", \\\"mess...</td>\n",
       "      <td>[Document(id=b92aa18d221df9e8cbef44cd1db9e8a52...</td>\n",
       "      <td>short</td>\n",
       "      <td>[]</td>\n",
       "      <td>NaN</td>\n",
       "      <td>NaN</td>\n",
       "      <td>NaN</td>\n",
       "      <td>NaN</td>\n",
       "      <td>NaN</td>\n",
       "      <td>NaN</td>\n",
       "      <td>NaN</td>\n",
       "      <td>NaN</td>\n",
       "      <td>NaN</td>\n",
       "      <td>NaN</td>\n",
       "      <td>NaN</td>\n",
       "      <td>NaN</td>\n",
       "    </tr>\n",
       "    <tr>\n",
       "      <th>606</th>\n",
       "      <td>Ich möchte wissen, welche möglichen Komplikati...</td>\n",
       "      <td>[Die Einlage und das Befüllen der Ballons könn...</td>\n",
       "      <td>Bei der Anwendung eines Ballonkatheters kann d...</td>\n",
       "      <td>Einleitung der Geburt.md</td>\n",
       "      <td>\"{\\\"contextual\\\": [{\\\"role\\\": \\\"user\\\", \\\"mess...</td>\n",
       "      <td>[Document(id=b92aa18d221df9e8cbef44cd1db9e8a52...</td>\n",
       "      <td>long</td>\n",
       "      <td>[]</td>\n",
       "      <td>NaN</td>\n",
       "      <td>NaN</td>\n",
       "      <td>NaN</td>\n",
       "      <td>NaN</td>\n",
       "      <td>NaN</td>\n",
       "      <td>NaN</td>\n",
       "      <td>NaN</td>\n",
       "      <td>NaN</td>\n",
       "      <td>NaN</td>\n",
       "      <td>NaN</td>\n",
       "      <td>NaN</td>\n",
       "      <td>NaN</td>\n",
       "    </tr>\n",
       "    <tr>\n",
       "      <th>607</th>\n",
       "      <td>Welche potenziellen Komplikationen und Risiken...</td>\n",
       "      <td>[Die Einlage und das Befüllen der Ballons könn...</td>\n",
       "      <td>Bei der Anwendung eines Ballonkatheters kann d...</td>\n",
       "      <td>Einleitung der Geburt.md</td>\n",
       "      <td>\"{\\\"contextual\\\": [{\\\"role\\\": \\\"user\\\", \\\"mess...</td>\n",
       "      <td>[Document(id=b92aa18d221df9e8cbef44cd1db9e8a52...</td>\n",
       "      <td>technical</td>\n",
       "      <td>[]</td>\n",
       "      <td>NaN</td>\n",
       "      <td>NaN</td>\n",
       "      <td>NaN</td>\n",
       "      <td>NaN</td>\n",
       "      <td>NaN</td>\n",
       "      <td>NaN</td>\n",
       "      <td>NaN</td>\n",
       "      <td>NaN</td>\n",
       "      <td>NaN</td>\n",
       "      <td>NaN</td>\n",
       "      <td>NaN</td>\n",
       "      <td>NaN</td>\n",
       "    </tr>\n",
       "    <tr>\n",
       "      <th>608</th>\n",
       "      <td>Welche Risiken gibt es bei der Anwendung eines...</td>\n",
       "      <td>[Die Einlage und das Befüllen der Ballons könn...</td>\n",
       "      <td>Bei der Anwendung eines Ballonkatheters kann d...</td>\n",
       "      <td>Einleitung der Geburt.md</td>\n",
       "      <td>\"{\\\"contextual\\\": [{\\\"role\\\": \\\"user\\\", \\\"mess...</td>\n",
       "      <td>[Document(id=b92aa18d221df9e8cbef44cd1db9e8a52...</td>\n",
       "      <td>mistake</td>\n",
       "      <td>[]</td>\n",
       "      <td>NaN</td>\n",
       "      <td>NaN</td>\n",
       "      <td>NaN</td>\n",
       "      <td>NaN</td>\n",
       "      <td>NaN</td>\n",
       "      <td>NaN</td>\n",
       "      <td>NaN</td>\n",
       "      <td>NaN</td>\n",
       "      <td>NaN</td>\n",
       "      <td>NaN</td>\n",
       "      <td>NaN</td>\n",
       "      <td>NaN</td>\n",
       "    </tr>\n",
       "    <tr>\n",
       "      <th>609</th>\n",
       "      <td>Doğum başlatmak için balon kateter kullanmanın...</td>\n",
       "      <td>[Die Einlage und das Befüllen der Ballons könn...</td>\n",
       "      <td>Bei der Anwendung eines Ballonkatheters kann d...</td>\n",
       "      <td>Einleitung der Geburt.md</td>\n",
       "      <td>\"{\\\"contextual\\\": [{\\\"role\\\": \\\"user\\\", \\\"mess...</td>\n",
       "      <td>[Document(id=b92aa18d221df9e8cbef44cd1db9e8a52...</td>\n",
       "      <td>turkish</td>\n",
       "      <td>[]</td>\n",
       "      <td>NaN</td>\n",
       "      <td>NaN</td>\n",
       "      <td>NaN</td>\n",
       "      <td>NaN</td>\n",
       "      <td>NaN</td>\n",
       "      <td>NaN</td>\n",
       "      <td>NaN</td>\n",
       "      <td>NaN</td>\n",
       "      <td>NaN</td>\n",
       "      <td>NaN</td>\n",
       "      <td>NaN</td>\n",
       "      <td>NaN</td>\n",
       "    </tr>\n",
       "  </tbody>\n",
       "</table>\n",
       "<p>610 rows × 20 columns</p>\n",
       "</div>"
      ],
      "text/plain": [
       "                                              question  \\\n",
       "0    Wie läuft eine äußere Wendung genau ab und was...   \n",
       "1                   Und was passiert dann genau davor?   \n",
       "2    Wie genau läuft so ne äußere Wendung ab und wa...   \n",
       "3    How is an external version performed exactly a...   \n",
       "4                   äußere Wendung Ablauf Vorbereitung   \n",
       "..                                                 ...   \n",
       "605                            Risiken Ballonkatheter?   \n",
       "606  Ich möchte wissen, welche möglichen Komplikati...   \n",
       "607  Welche potenziellen Komplikationen und Risiken...   \n",
       "608  Welche Risiken gibt es bei der Anwendung eines...   \n",
       "609  Doğum başlatmak için balon kateter kullanmanın...   \n",
       "\n",
       "                                            references  \\\n",
       "0    [Eine äußere Wendung findet in der Regel in ei...   \n",
       "1    [Eine äußere Wendung findet in der Regel in ei...   \n",
       "2    [Eine äußere Wendung findet in der Regel in ei...   \n",
       "3    [Eine äußere Wendung findet in der Regel in ei...   \n",
       "4    [Eine äußere Wendung findet in der Regel in ei...   \n",
       "..                                                 ...   \n",
       "605  [Die Einlage und das Befüllen der Ballons könn...   \n",
       "606  [Die Einlage und das Befüllen der Ballons könn...   \n",
       "607  [Die Einlage und das Befüllen der Ballons könn...   \n",
       "608  [Die Einlage und das Befüllen der Ballons könn...   \n",
       "609  [Die Einlage und das Befüllen der Ballons könn...   \n",
       "\n",
       "                                           groundTruth  \\\n",
       "0    Eine äußere Wendung findet ambulant in einer K...   \n",
       "1    Eine äußere Wendung findet ambulant in einer K...   \n",
       "2    Eine äußere Wendung findet ambulant in einer K...   \n",
       "3    Eine äußere Wendung findet ambulant in einer K...   \n",
       "4    Eine äußere Wendung findet ambulant in einer K...   \n",
       "..                                                 ...   \n",
       "605  Bei der Anwendung eines Ballonkatheters kann d...   \n",
       "606  Bei der Anwendung eines Ballonkatheters kann d...   \n",
       "607  Bei der Anwendung eines Ballonkatheters kann d...   \n",
       "608  Bei der Anwendung eines Ballonkatheters kann d...   \n",
       "609  Bei der Anwendung eines Ballonkatheters kann d...   \n",
       "\n",
       "                  source_file  \\\n",
       "0          Äußere Wendung.md   \n",
       "1          Äußere Wendung.md   \n",
       "2          Äußere Wendung.md   \n",
       "3          Äußere Wendung.md   \n",
       "4          Äußere Wendung.md   \n",
       "..                        ...   \n",
       "605  Einleitung der Geburt.md   \n",
       "606  Einleitung der Geburt.md   \n",
       "607  Einleitung der Geburt.md   \n",
       "608  Einleitung der Geburt.md   \n",
       "609  Einleitung der Geburt.md   \n",
       "\n",
       "                                     variations_pretty  \\\n",
       "0    \"{\\\"contextual\\\": [{\\\"role\\\": \\\"user\\\", \\\"mess...   \n",
       "1    \"{\\\"contextual\\\": [{\\\"role\\\": \\\"user\\\", \\\"mess...   \n",
       "2    \"{\\\"contextual\\\": [{\\\"role\\\": \\\"user\\\", \\\"mess...   \n",
       "3    \"{\\\"contextual\\\": [{\\\"role\\\": \\\"user\\\", \\\"mess...   \n",
       "4    \"{\\\"contextual\\\": [{\\\"role\\\": \\\"user\\\", \\\"mess...   \n",
       "..                                                 ...   \n",
       "605  \"{\\\"contextual\\\": [{\\\"role\\\": \\\"user\\\", \\\"mess...   \n",
       "606  \"{\\\"contextual\\\": [{\\\"role\\\": \\\"user\\\", \\\"mess...   \n",
       "607  \"{\\\"contextual\\\": [{\\\"role\\\": \\\"user\\\", \\\"mess...   \n",
       "608  \"{\\\"contextual\\\": [{\\\"role\\\": \\\"user\\\", \\\"mess...   \n",
       "609  \"{\\\"contextual\\\": [{\\\"role\\\": \\\"user\\\", \\\"mess...   \n",
       "\n",
       "                                             documents     variant  \\\n",
       "0    [Document(id=6574586c437e0711c9ac7d01e25f91424...     default   \n",
       "1    [Document(id=6574586c437e0711c9ac7d01e25f91424...  contextual   \n",
       "2    [Document(id=6574586c437e0711c9ac7d01e25f91424...       slang   \n",
       "3    [Document(id=6574586c437e0711c9ac7d01e25f91424...     english   \n",
       "4    [Document(id=6574586c437e0711c9ac7d01e25f91424...     keyword   \n",
       "..                                                 ...         ...   \n",
       "605  [Document(id=b92aa18d221df9e8cbef44cd1db9e8a52...       short   \n",
       "606  [Document(id=b92aa18d221df9e8cbef44cd1db9e8a52...        long   \n",
       "607  [Document(id=b92aa18d221df9e8cbef44cd1db9e8a52...   technical   \n",
       "608  [Document(id=b92aa18d221df9e8cbef44cd1db9e8a52...     mistake   \n",
       "609  [Document(id=b92aa18d221df9e8cbef44cd1db9e8a52...     turkish   \n",
       "\n",
       "                                         prev_messages  \\\n",
       "0                                                   []   \n",
       "1    [Ich habe von der äußeren Wendung gehört, könn...   \n",
       "2                                                   []   \n",
       "3                                                   []   \n",
       "4                                                   []   \n",
       "..                                                 ...   \n",
       "605                                                 []   \n",
       "606                                                 []   \n",
       "607                                                 []   \n",
       "608                                                 []   \n",
       "609                                                 []   \n",
       "\n",
       "     Qwen/Qwen3-Embedding-4B_gemma3:12b_map  \\\n",
       "0                                   1.00000   \n",
       "1                                   0.18254   \n",
       "2                                   1.00000   \n",
       "3                                   0.50000   \n",
       "4                                   0.12500   \n",
       "..                                      ...   \n",
       "605                                     NaN   \n",
       "606                                     NaN   \n",
       "607                                     NaN   \n",
       "608                                     NaN   \n",
       "609                                     NaN   \n",
       "\n",
       "     Qwen/Qwen3-Embedding-4B_gemma3:12b_mrr  \\\n",
       "0                                  1.000000   \n",
       "1                                  0.142857   \n",
       "2                                  1.000000   \n",
       "3                                  0.500000   \n",
       "4                                  0.125000   \n",
       "..                                      ...   \n",
       "605                                     NaN   \n",
       "606                                     NaN   \n",
       "607                                     NaN   \n",
       "608                                     NaN   \n",
       "609                                     NaN   \n",
       "\n",
       "     Qwen/Qwen3-Embedding-4B_gemma3:12b_recall  \\\n",
       "0                                          1.0   \n",
       "1                                          1.0   \n",
       "2                                          1.0   \n",
       "3                                          1.0   \n",
       "4                                          1.0   \n",
       "..                                         ...   \n",
       "605                                        NaN   \n",
       "606                                        NaN   \n",
       "607                                        NaN   \n",
       "608                                        NaN   \n",
       "609                                        NaN   \n",
       "\n",
       "     Qwen/Qwen3-Embedding-4B_gpt-4.1-mini_map  \\\n",
       "0                                    0.500000   \n",
       "1                                    0.500000   \n",
       "2                                    0.450000   \n",
       "3                                    0.642857   \n",
       "4                                    0.000000   \n",
       "..                                        ...   \n",
       "605                                       NaN   \n",
       "606                                       NaN   \n",
       "607                                       NaN   \n",
       "608                                       NaN   \n",
       "609                                       NaN   \n",
       "\n",
       "     Qwen/Qwen3-Embedding-4B_gpt-4.1-mini_mrr  \\\n",
       "0                                         0.5   \n",
       "1                                         0.5   \n",
       "2                                         0.5   \n",
       "3                                         1.0   \n",
       "4                                         0.0   \n",
       "..                                        ...   \n",
       "605                                       NaN   \n",
       "606                                       NaN   \n",
       "607                                       NaN   \n",
       "608                                       NaN   \n",
       "609                                       NaN   \n",
       "\n",
       "     Qwen/Qwen3-Embedding-4B_gpt-4.1-mini_recall  \\\n",
       "0                                            1.0   \n",
       "1                                            1.0   \n",
       "2                                            1.0   \n",
       "3                                            1.0   \n",
       "4                                            0.0   \n",
       "..                                           ...   \n",
       "605                                          NaN   \n",
       "606                                          NaN   \n",
       "607                                          NaN   \n",
       "608                                          NaN   \n",
       "609                                          NaN   \n",
       "\n",
       "     text-embedding-3-large_gemma3:12b_map  \\\n",
       "0                                 0.500000   \n",
       "1                                 0.722222   \n",
       "2                                 0.833333   \n",
       "3                                 0.500000   \n",
       "4                                 0.250000   \n",
       "..                                     ...   \n",
       "605                                    NaN   \n",
       "606                                    NaN   \n",
       "607                                    NaN   \n",
       "608                                    NaN   \n",
       "609                                    NaN   \n",
       "\n",
       "     text-embedding-3-large_gemma3:12b_mrr  \\\n",
       "0                                     0.50   \n",
       "1                                     1.00   \n",
       "2                                     1.00   \n",
       "3                                     0.50   \n",
       "4                                     0.25   \n",
       "..                                     ...   \n",
       "605                                    NaN   \n",
       "606                                    NaN   \n",
       "607                                    NaN   \n",
       "608                                    NaN   \n",
       "609                                    NaN   \n",
       "\n",
       "     text-embedding-3-large_gemma3:12b_recall  \\\n",
       "0                                         1.0   \n",
       "1                                         1.0   \n",
       "2                                         1.0   \n",
       "3                                         1.0   \n",
       "4                                         1.0   \n",
       "..                                        ...   \n",
       "605                                       NaN   \n",
       "606                                       NaN   \n",
       "607                                       NaN   \n",
       "608                                       NaN   \n",
       "609                                       NaN   \n",
       "\n",
       "     text-embedding-3-large_gpt-4.1-mini_map  \\\n",
       "0                                   0.250000   \n",
       "1                                   0.638889   \n",
       "2                                   1.000000   \n",
       "3                                   0.700000   \n",
       "4                                   0.000000   \n",
       "..                                       ...   \n",
       "605                                      NaN   \n",
       "606                                      NaN   \n",
       "607                                      NaN   \n",
       "608                                      NaN   \n",
       "609                                      NaN   \n",
       "\n",
       "     text-embedding-3-large_gpt-4.1-mini_mrr  \\\n",
       "0                                       0.25   \n",
       "1                                       0.50   \n",
       "2                                       1.00   \n",
       "3                                       1.00   \n",
       "4                                       0.00   \n",
       "..                                       ...   \n",
       "605                                      NaN   \n",
       "606                                      NaN   \n",
       "607                                      NaN   \n",
       "608                                      NaN   \n",
       "609                                      NaN   \n",
       "\n",
       "     text-embedding-3-large_gpt-4.1-mini_recall  \n",
       "0                                           1.0  \n",
       "1                                           1.0  \n",
       "2                                           1.0  \n",
       "3                                           1.0  \n",
       "4                                           0.0  \n",
       "..                                          ...  \n",
       "605                                         NaN  \n",
       "606                                         NaN  \n",
       "607                                         NaN  \n",
       "608                                         NaN  \n",
       "609                                         NaN  \n",
       "\n",
       "[610 rows x 20 columns]"
      ]
     },
     "execution_count": 8,
     "metadata": {},
     "output_type": "execute_result"
    }
   ],
   "source": [
    "import pandas as pd\n",
    "\n",
    "df = pd.read_pickle(\"results/retrieval/open_closed/2025-07-21_14-03-03/open_closed_result_topk-10.pkl\")\n",
    "df"
   ]
  },
  {
   "cell_type": "code",
   "execution_count": 9,
   "id": "bcad9311",
   "metadata": {},
   "outputs": [
    {
     "data": {
      "image/png": "[encoded data removed]",
      "text/plain": [
       "<Figure size 1200x600 with 1 Axes>"
      ]
     },
     "metadata": {},
     "output_type": "display_data"
    }
   ],
   "source": [
    "import pandas as pd\n",
    "import matplotlib.pyplot as plt\n",
    "\n",
    "# Your DataFrame is assumed to be `df`\n",
    "metric_prefixes = ['Qwen/Qwen3-Embedding-4B_gemma3:12b',\n",
    "                   'Qwen/Qwen3-Embedding-4B_gpt-4.1-mini',\n",
    "                   'text-embedding-3-large_gemma3:12b',\n",
    "                   'text-embedding-3-large_gpt-4.1-mini']\n",
    "metrics = ['map', 'mrr', 'recall']\n",
    "\n",
    "# Build data dictionary\n",
    "data = {}\n",
    "for prefix in metric_prefixes:\n",
    "    values = []\n",
    "    for metric in metrics:\n",
    "        col_name = f\"{prefix}_{metric}\"\n",
    "        avg_value = df[col_name].mean()\n",
    "        values.append(avg_value)\n",
    "    data[prefix] = values\n",
    "\n",
    "# Create DataFrame for plotting\n",
    "metrics_df = pd.DataFrame(data, index=metrics)\n",
    "\n",
    "# Find the minimum and maximum to scale y-axis\n",
    "y_min = metrics_df.min().min()\n",
    "\n",
    "# Plotting\n",
    "ax = metrics_df.T.plot(kind='bar', figsize=(12, 6))\n",
    "plt.title(\"Average MAP, MRR, and Recall for Each Configuration\")\n",
    "plt.ylabel(\"Score\")\n",
    "plt.xlabel(\"Embedding Configuration\")\n",
    "plt.xticks(rotation=45, ha='right')\n",
    "plt.ylim(y_min * 0.9, 1.0)  # add some padding\n",
    "plt.legend(title=\"Metric\")\n",
    "plt.tight_layout()\n",
    "plt.show()"
   ]
  },
  {
   "cell_type": "code",
   "execution_count": 10,
   "id": "48145971",
   "metadata": {},
   "outputs": [
    {
     "data": {
      "image/png": "[encoded data removed]",
      "text/plain": [
       "<Figure size 1000x600 with 2 Axes>"
      ]
     },
     "metadata": {},
     "output_type": "display_data"
    }
   ],
   "source": [
    "import pandas as pd\n",
    "import seaborn as sns\n",
    "import matplotlib.pyplot as plt\n",
    "\n",
    "# Assuming `df` is your DataFrame\n",
    "metric_prefixes = ['Qwen/Qwen3-Embedding-4B_gemma3:12b',\n",
    "                   'Qwen/Qwen3-Embedding-4B_gpt-4.1-mini',\n",
    "                   'text-embedding-3-large_gemma3:12b',\n",
    "                   'text-embedding-3-large_gpt-4.1-mini']\n",
    "metrics = ['map', 'mrr', 'recall']\n",
    "\n",
    "# Compute the average value for each metric/config combo\n",
    "data = {}\n",
    "for prefix in metric_prefixes:\n",
    "    values = []\n",
    "    for metric in metrics:\n",
    "        col_name = f\"{prefix}_{metric}\"\n",
    "        avg_value = df[col_name].mean()\n",
    "        values.append(avg_value)\n",
    "    data[prefix] = values\n",
    "\n",
    "# Convert to DataFrame: rows = metrics, columns = configurations\n",
    "heatmap_df = pd.DataFrame(data, index=metrics)\n",
    "\n",
    "# Plot heatmap\n",
    "plt.figure(figsize=(10, 6))\n",
    "sns.heatmap(heatmap_df, annot=True, cmap=\"YlGnBu\", fmt=\".2f\")\n",
    "plt.title(\"Heatmap of Average MAP, MRR, and Recall\")\n",
    "plt.xlabel(\"Embedding Configuration\")\n",
    "plt.ylabel(\"Metric\")\n",
    "plt.tight_layout()\n",
    "plt.show()"
   ]
  },
  {
   "cell_type": "code",
   "execution_count": 12,
   "id": "66940ecc",
   "metadata": {},
   "outputs": [
    {
     "name": "stderr",
     "output_type": "stream",
     "text": [
      "/tmp/ipykernel_2517031/2177461456.py:68: FutureWarning: \n",
      "\n",
      "The `ci` parameter is deprecated. Use `errorbar=None` for the same effect.\n",
      "\n",
      "  ax = sns.barplot(\n"
     ]
    },
    {
     "ename": "TypeError",
     "evalue": "tuple indices must be integers or slices, not str",
     "output_type": "error",
     "traceback": [
      "\u001b[31m---------------------------------------------------------------------------\u001b[39m",
      "\u001b[31mTypeError\u001b[39m                                 Traceback (most recent call last)",
      "\u001b[36mCell\u001b[39m\u001b[36m \u001b[39m\u001b[32mIn[12]\u001b[39m\u001b[32m, line 83\u001b[39m\n\u001b[32m     80\u001b[39m ax.axvline(\u001b[32m0\u001b[39m, color=\u001b[33m'\u001b[39m\u001b[33mgray\u001b[39m\u001b[33m'\u001b[39m, linewidth=\u001b[32m1\u001b[39m)\n\u001b[32m     82\u001b[39m \u001b[38;5;66;03m# annotate significance stars\u001b[39;00m\n\u001b[32m---> \u001b[39m\u001b[32m83\u001b[39m sig_map = \u001b[43m{\u001b[49m\n\u001b[32m     84\u001b[39m \u001b[43m    \u001b[49m\u001b[43m(\u001b[49m\u001b[43mr\u001b[49m\u001b[43m.\u001b[49m\u001b[43mvariant\u001b[49m\u001b[43m,\u001b[49m\u001b[43m \u001b[49m\u001b[43mr\u001b[49m\u001b[43m[\u001b[49m\u001b[33;43m'\u001b[39;49m\u001b[33;43mconfig\u001b[39;49m\u001b[33;43m'\u001b[39;49m\u001b[43m]\u001b[49m\u001b[43m,\u001b[49m\u001b[43m \u001b[49m\u001b[43mr\u001b[49m\u001b[43m[\u001b[49m\u001b[33;43m'\u001b[39;49m\u001b[33;43mmetric\u001b[39;49m\u001b[33;43m'\u001b[39;49m\u001b[43m]\u001b[49m\u001b[43m)\u001b[49m\u001b[43m:\u001b[49m\u001b[43m \u001b[49m\u001b[43mr\u001b[49m\u001b[43m.\u001b[49m\u001b[43msignificant\u001b[49m\n\u001b[32m     85\u001b[39m \u001b[43m    \u001b[49m\u001b[38;5;28;43;01mfor\u001b[39;49;00m\u001b[43m \u001b[49m\u001b[43mr\u001b[49m\u001b[43m \u001b[49m\u001b[38;5;129;43;01min\u001b[39;49;00m\u001b[43m \u001b[49m\u001b[43msummary\u001b[49m\u001b[43m.\u001b[49m\u001b[43mitertuples\u001b[49m\u001b[43m(\u001b[49m\u001b[43m)\u001b[49m\n\u001b[32m     86\u001b[39m \u001b[43m}\u001b[49m\n\u001b[32m     87\u001b[39m \u001b[38;5;28;01mfor\u001b[39;00m hue_idx, container \u001b[38;5;129;01min\u001b[39;00m \u001b[38;5;28menumerate\u001b[39m(ax.containers):\n\u001b[32m     88\u001b[39m     key = hue_order[hue_idx]            \u001b[38;5;66;03m# e.g. \"text-embedding-3-large_gemma3:12b RECALL\"\u001b[39;00m\n",
      "\u001b[36mCell\u001b[39m\u001b[36m \u001b[39m\u001b[32mIn[12]\u001b[39m\u001b[32m, line 84\u001b[39m, in \u001b[36m<dictcomp>\u001b[39m\u001b[34m(.0)\u001b[39m\n\u001b[32m     80\u001b[39m ax.axvline(\u001b[32m0\u001b[39m, color=\u001b[33m'\u001b[39m\u001b[33mgray\u001b[39m\u001b[33m'\u001b[39m, linewidth=\u001b[32m1\u001b[39m)\n\u001b[32m     82\u001b[39m \u001b[38;5;66;03m# annotate significance stars\u001b[39;00m\n\u001b[32m     83\u001b[39m sig_map = {\n\u001b[32m---> \u001b[39m\u001b[32m84\u001b[39m     (r.variant, \u001b[43mr\u001b[49m\u001b[43m[\u001b[49m\u001b[33;43m'\u001b[39;49m\u001b[33;43mconfig\u001b[39;49m\u001b[33;43m'\u001b[39;49m\u001b[43m]\u001b[49m, r[\u001b[33m'\u001b[39m\u001b[33mmetric\u001b[39m\u001b[33m'\u001b[39m]): r.significant\n\u001b[32m     85\u001b[39m     \u001b[38;5;28;01mfor\u001b[39;00m r \u001b[38;5;129;01min\u001b[39;00m summary.itertuples()\n\u001b[32m     86\u001b[39m }\n\u001b[32m     87\u001b[39m \u001b[38;5;28;01mfor\u001b[39;00m hue_idx, container \u001b[38;5;129;01min\u001b[39;00m \u001b[38;5;28menumerate\u001b[39m(ax.containers):\n\u001b[32m     88\u001b[39m     key = hue_order[hue_idx]            \u001b[38;5;66;03m# e.g. \"text-embedding-3-large_gemma3:12b RECALL\"\u001b[39;00m\n",
      "\u001b[31mTypeError\u001b[39m: tuple indices must be integers or slices, not str"
     ]
    },
    {
     "data": {
      "image/png": "[encoded data removed]",
      "text/plain": [
       "<Figure size 1000x600 with 1 Axes>"
      ]
     },
     "metadata": {},
     "output_type": "display_data"
    }
   ],
   "source": [
    "import pandas as pd\n",
    "import seaborn as sns\n",
    "import matplotlib.pyplot as plt\n",
    "import numpy as np\n",
    "from scipy.stats import ttest_1samp\n",
    "\n",
    "# ─── 0) assume `df` is loaded with columns:\n",
    "#      'variant',\n",
    "#      'Qwen/Qwen3-Embedding-4B_gemma3:12b_map',  …_mrr, …_recall,\n",
    "#      'Qwen/Qwen3-Embedding-4B_gpt-4.1-mini_map', …,\n",
    "#      'text-embedding-3-large_gemma3:12b_map', …,\n",
    "#      'text-embedding-3-large_gpt-4.1-mini_map', …\n",
    "# ────────────────────────────────────────────────────────────────────────────────\n",
    "\n",
    "BASE    = 'Qwen/Qwen3-Embedding-4B_gemma3:12b'\n",
    "CONFIGS = [\n",
    "    'Qwen/Qwen3-Embedding-4B_gpt-4.1-mini',\n",
    "    'text-embedding-3-large_gemma3:12b',\n",
    "    'text-embedding-3-large_gpt-4.1-mini',\n",
    "]\n",
    "METRICS = ['map', 'mrr', 'recall']\n",
    "\n",
    "# 1) compute per-row diffs for each config & metric\n",
    "for cfg in CONFIGS:\n",
    "    for m in METRICS:\n",
    "        df[f'diff_{cfg}_{m}'] = (\n",
    "            df[f'{cfg}_{m}'].astype(float)\n",
    "          - df[f'{BASE}_{m}'].astype(float)\n",
    "        )\n",
    "\n",
    "# 2) aggregate by variant, metric & config, run t-test\n",
    "records = []\n",
    "for variant, grp in df.groupby('variant'):\n",
    "    for cfg in CONFIGS:\n",
    "        for m in METRICS:\n",
    "            col = f'diff_{cfg}_{m}'\n",
    "            vals = grp[col].dropna().astype(float)\n",
    "            mean_diff = vals.mean()\n",
    "            _, p = ttest_1samp(vals, 0)\n",
    "            records.append({\n",
    "                'variant':     variant,\n",
    "                'config':      cfg,\n",
    "                'metric':      m.upper(),\n",
    "                'mean_diff':   mean_diff,\n",
    "                'significant': p < 0.05\n",
    "            })\n",
    "\n",
    "summary = pd.DataFrame(records)\n",
    "\n",
    "# 3) prepare for plotting: combine config+metric into one hue key\n",
    "summary['key'] = summary['config'] + ' ' + summary['metric']\n",
    "\n",
    "# 4) build a 3×3 palette: one sequential palette per config\n",
    "pal = {}\n",
    "# Blues for CONFIGS[0], Greens for CONFIGS[1], Reds for CONFIGS[2]\n",
    "seqs = [sns.color_palette(\"Blues\",3)[::-1],\n",
    "        sns.color_palette(\"Greens\",3)[::-1],\n",
    "        sns.color_palette(\"Reds\",3)[::-1]]\n",
    "for cfg, seq in zip(CONFIGS, seqs):\n",
    "    for col_idx, m in enumerate(['MAP','MRR','RECALL']):\n",
    "        pal[f\"{cfg} {m}\"] = seq[col_idx]\n",
    "\n",
    "hue_order = [f\"{cfg} {m}\" for cfg in CONFIGS for m in ['MAP','MRR','RECALL']]\n",
    "variants  = sorted(summary['variant'].unique())\n",
    "\n",
    "# 5) draw the barplot\n",
    "plt.figure(figsize=(10, 6))\n",
    "ax = sns.barplot(\n",
    "    data=summary,\n",
    "    y='variant',\n",
    "    x='mean_diff',\n",
    "    hue='key',\n",
    "    hue_order=hue_order,\n",
    "    palette=pal,\n",
    "    order=variants,\n",
    "    ci=None\n",
    ")\n",
    "\n",
    "# zero line\n",
    "ax.axvline(0, color='gray', linewidth=1)\n",
    "\n",
    "# annotate significance stars\n",
    "sig_map = {\n",
    "    (r.variant, r['config'], r['metric']): r.significant\n",
    "    for r in summary.itertuples()\n",
    "}\n",
    "for hue_idx, container in enumerate(ax.containers):\n",
    "    key = hue_order[hue_idx]            # e.g. \"text-embedding-3-large_gemma3:12b RECALL\"\n",
    "    cfg, metr = key.rsplit(' ',1)\n",
    "    for bar_idx, bar in enumerate(container.patches):\n",
    "        variant = variants[bar_idx]\n",
    "        if not sig_map.get((variant, cfg, metr), False):\n",
    "            continue\n",
    "        x = bar.get_width()\n",
    "        y = bar.get_y() + bar.get_height()/2\n",
    "        dx = 3 if x >= 0 else -3\n",
    "        ax.annotate(\n",
    "            \"✱\",\n",
    "            xy=(x,y),\n",
    "            xytext=(dx,0),\n",
    "            textcoords=\"offset points\",\n",
    "            ha=\"left\" if x>=0 else \"right\",\n",
    "            va=\"center\",\n",
    "            fontsize=6\n",
    "        )\n",
    "\n",
    "ax.set_title(\"Mean MAP/MRR/Recall Difference vs. Qwen/Qwen3-Embedding-4B_gemma3:12b\\n(by Variant)\")\n",
    "ax.set_xlabel(\"Mean Score Difference\")\n",
    "ax.set_ylabel(\"Variant\")\n",
    "ax.legend(title=\"\", bbox_to_anchor=(1.02,1), loc=\"upper left\")\n",
    "plt.tight_layout()\n",
    "plt.show()"
   ]
  },
  {
   "cell_type": "code",
   "execution_count": null,
   "id": "634bdee6",
   "metadata": {},
   "outputs": [],
   "source": []
  }
 ],
 "metadata": {
  "kernelspec": {
   "display_name": ".venv",
   "language": "python",
   "name": "python3"
  },
  "language_info": {
   "codemirror_mode": {
    "name": "ipython",
    "version": 3
   },
   "file_extension": ".py",
   "mimetype": "text/x-python",
   "name": "python",
   "nbconvert_exporter": "python",
   "pygments_lexer": "ipython3",
   "version": "3.11.2"
  }
 },
 "nbformat": 4,
 "nbformat_minor": 5
}
